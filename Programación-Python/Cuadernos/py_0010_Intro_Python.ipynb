{
 "cells": [
  {
   "cell_type": "markdown",
   "metadata": {},
   "source": [
    "<figure>\n",
    "<img src=\"../Imagenes/logo-final-ap.png\"  width=\"80\" height=\"80\" align=\"left\"/> \n",
    "</figure>\n",
    "\n",
    "# <span style=\"color:#4361EE\"><left>Aprendizaje Profundo</left></span>"
   ]
  },
  {
   "cell_type": "markdown",
   "metadata": {},
   "source": [
    "# <span style=\"color:red\"><center>Diplomado en Ciencia de Datos</center></span>"
   ]
  },
  {
   "cell_type": "markdown",
   "metadata": {},
   "source": [
    "# <span style=\"color:green\"><center>Introducción al lenguaje de programación Python</center></span>\n"
   ]
  },
  {
   "cell_type": "markdown",
   "metadata": {},
   "source": [
    "<center>\n",
    "    <figure>\n",
    "        <img src=\"../Imagenes/intro_python.png\" align=\"center\"/> \n",
    "    </figure>\n",
    "</center>\n",
    "<center>\n",
    "Captura (snapshot) de gráfico producido con Python. Fuente: Camilo Torres.\n",
    "</center>"
   ]
  },
  {
   "cell_type": "markdown",
   "metadata": {},
   "source": [
    "## <span style=\"color:#4361EE\">Profesores</span>"
   ]
  },
  {
   "cell_type": "markdown",
   "metadata": {},
   "source": [
    "* Alvaro  Montenegro, PhD, <ammontenegrod@unal.edu.co>\n",
    "* Campo Elías Pardo, PhD, <cepardot@unal.edu.co>\n",
    "* Daniel  Montenegro, Msc, <dextronomo@gmail.com>\n",
    "* Camilo José Torres Jiménez, Msc, <cjtorresj@unal.edu.co>"
   ]
  },
  {
   "cell_type": "markdown",
   "metadata": {},
   "source": [
    "## <span style=\"color:#4361EE\">Asesora Medios y Marketing digital</span>"
   ]
  },
  {
   "cell_type": "markdown",
   "metadata": {},
   "source": [
    "* Maria del Pilar Montenegro, pmontenegro88@gmail.com\n",
    "* Jessica López Mejía, jelopezme@unal.edu.co"
   ]
  },
  {
   "cell_type": "markdown",
   "metadata": {},
   "source": [
    "## <span style=\"color:#4361EE\">Jefe Jurídica</span>"
   ]
  },
  {
   "cell_type": "markdown",
   "metadata": {},
   "source": [
    "* Paula Andrea Guzmán, guzmancruz.paula@gmail.com"
   ]
  },
  {
   "cell_type": "markdown",
   "metadata": {},
   "source": [
    "## <span style=\"color:#4361EE\">Coordinador Jurídico</span>"
   ]
  },
  {
   "cell_type": "markdown",
   "metadata": {},
   "source": [
    "* David Fuentes, fuentesd065@gmail.com"
   ]
  },
  {
   "cell_type": "markdown",
   "metadata": {},
   "source": [
    "## <span style=\"color:#4361EE\">Desarrolladores Principales</span>"
   ]
  },
  {
   "cell_type": "markdown",
   "metadata": {},
   "source": [
    "* Dairo Moreno, damoralesj@unal.edu.co\n",
    "* Joan Castro, jocastroc@unal.edu.co\n",
    "* Bryan Riveros, briveros@unal.edu.co\n",
    "* Rosmer Vargas, rovargasc@unal.edu.co\n",
    "* Venus Puertas, vpuertasg@unal.edu.co"
   ]
  },
  {
   "cell_type": "markdown",
   "metadata": {},
   "source": [
    "## <span style=\"color:#4361EE\">Expertos en Bases de Datos</span>"
   ]
  },
  {
   "cell_type": "markdown",
   "metadata": {},
   "source": [
    "* Giovvani Barrera, udgiovanni@gmail.com\n",
    "* Camilo Chitivo, cchitivo@unal.edu.co"
   ]
  },
  {
   "cell_type": "markdown",
   "metadata": {},
   "source": [
    "## <span style=\"color:#4361EE\">Introducción</span>"
   ]
  },
  {
   "cell_type": "markdown",
   "metadata": {
    "colab_type": "text",
    "id": "Qwzm74tvByHP"
   },
   "source": [
    "Comenzaremos con un ambiente de **Python 3**. Pero antes un poco de su ecosistema y su  historia."
   ]
  },
  {
   "cell_type": "markdown",
   "metadata": {
    "colab_type": "text",
    "id": "kzyZQ2syLu9O"
   },
   "source": [
    "##  <span style=\"color:#4361EE\">¿Qué es Python?</span>"
   ]
  },
  {
   "cell_type": "markdown",
   "metadata": {},
   "source": [
    "<figure>\n",
    "<img src=\"https://raw.githubusercontent.com/AprendizajeProfundo/Alejandria/main/Python/Imagenes/python-logo-master-v3-TM.png\"  width=\"400\"/> \n",
    "</figure>\n",
    "\n",
    "\n",
    "[Python](https://www.python.org/) es un lenguaje de programación interpretado, multiparadigma, de alto nivel, y de propósito general, que se utiliza para desarrollar una amplia gama de programas."
   ]
  },
  {
   "cell_type": "markdown",
   "metadata": {},
   "source": [
    "## <span style=\"color:#4361EE\">Breve historia de Python</span>"
   ]
  },
  {
   "cell_type": "markdown",
   "metadata": {},
   "source": [
    "Python fue concebido a fines de la década de 1980 por Guido van Rossum en Centrum Wiskunde & Informatica (CWI) en los Países Bajos como un sucesor del lenguaje de programación ABC.  La primera versión ya incluía clases con herencias, manejo de excepciones, funciones y una de las características principales de Python: funcionamiento modular. Esto permitía que fuese un lenguaje mucho más limpio y accesible para la gente con pocos conocimientos de programación. Una característica que se mantiene hasta el día de hoy.\n",
    "Hasta el año 2018, el desarrollo de este popular lenguaje de programación estaba dirigido personalmente por Van Rossum, pero decidió apartarse y, desde 2019, son cinco las personas que deciden cómo evoluciona y se desarrolla Python. Un consejo que se renueva de forma anual.\n",
    "\n",
    "Guido van Rossum en OSCON_2006. \n",
    "Créditos: Wikipedia\n",
    "<figure>\n",
    "<img src=\"https://raw.githubusercontent.com/AprendizajeProfundo/Alejandria/main/Python/Imagenes/Guido_van_Rossum_OSCON_2006_cropped.png\" width=\"180\" align=\"left\" />   \n",
    "</figure>\n"
   ]
  },
  {
   "cell_type": "markdown",
   "metadata": {},
   "source": [
    "### <span style=\"color:#4CC9F0\"> Versión 1.0</span>"
   ]
  },
  {
   "cell_type": "markdown",
   "metadata": {},
   "source": [
    "Van Rossum empezó a desarrollar Python mientras trabajaba en CWI. Fue este centro de investigación quien liberó, en 1995 la versión 1.2 de Python. A partir de este momento, ya desvinculado de CWI, Van Rossum hizo aún más accesible el código y para el año 2000, el equipo principal de desarrolladores de Python se cambió a BeOpen.com para formar el equipo de BeOpen Python Labs."
   ]
  },
  {
   "cell_type": "markdown",
   "metadata": {},
   "source": [
    "### <span style=\"color:#4CC9F0\"> Versión 2.0</span>"
   ]
  },
  {
   "cell_type": "markdown",
   "metadata": {},
   "source": [
    "En octubre del año 2000 se publica la segunda versión de Python. Una nueva versión en la que se incluyó la generación de listas, una de las características más importantes del lenguaje este lenguaje de programación. En 2001, se crea la Python Software Foundation, la cual a partir de Python 2.1 es dueña de todo el código, documentación y especificaciones del lenguaje."
   ]
  },
  {
   "cell_type": "markdown",
   "metadata": {},
   "source": [
    "### <span style=\"color:#4CC9F0\"> Versión 3.0</span>"
   ]
  },
  {
   "cell_type": "markdown",
   "metadata": {},
   "source": [
    "La última gran actualización de la historia de Python se produjo en el año 2008 con el lanzamiento de la versión 3.0, que venía a solucionar los principales fallos en el diseño de este lenguaje de programación.\n",
    "Aunque Python mantiene su filosofía en esta última versión, como lenguaje de programación ha ido acumulando formas nuevas y redundantes de programar un mismo elemento. De ahí la necesidad de nuevas versiones que eliminen estos constructores duplicados.\n",
    "Python 3.0 rompe la compatibilidad hacia atrás del lenguaje, ya que el código de Python 2.x no necesariamente debe correr en Python 3.0 sin modificación alguna."
   ]
  },
  {
   "cell_type": "markdown",
   "metadata": {
    "colab_type": "text",
    "id": "kzyZQ2syLu9O"
   },
   "source": [
    "### <span style=\"color:#4CC9F0\">Sobre Numpy</span>"
   ]
  },
  {
   "cell_type": "markdown",
   "metadata": {
    "colab_type": "text",
    "id": "kzyZQ2syLu9O"
   },
   "source": [
    "Python no se diseñó originalmente para computación numérica, pero atrajo la atención de la comunidad científica y de ingeniería desde el principio. En 1995 se fundó el grupo de interés especial (SIG) matrix-sig con el objetivo de definir un paquete de computación de matriz; entre sus miembros se encontraba el diseñador y mantenedor de Python, Guido van Rossum , quien amplió la sintaxis de Python (en particular, la sintaxis de indexación) para facilitar la computación de arreglos . \n",
    "\n",
    "Jim Fulton completó una implementación de un paquete de matriz, luego Jim Hugunin generalizó y lo llamó Numeric (también conocido como las \"extensiones numéricas de Python\" o \"NumPy\").\n",
    "\n",
    "Posteriormente se escribió un nuevo paquete llamado Numarray como un reemplazo más flexible para Numeric. Al igual que Numeric, ahora también está obsoleto. Numarray tenía operaciones más rápidas para matrices grandes, pero era más lento que Numeric en las pequeñas, por lo que durante un tiempo ambos paquetes se usaron en paralelo para diferentes casos de uso. \n",
    "\n",
    "La última versión de Numeric (v24.2) se publicó el 11 de noviembre de 2005, mientras que la última versión de numarray (v1.5.2) se publicó el 24 de agosto de 2006.\n",
    "\n",
    "A principios de 2005, el desarrollador de NumPy, Travis Oliphant, quería unificar a la comunidad en torno a un único paquete de matriz y transfirió las características de Numarray a Numeric, lanzando el resultado como NumPy 1.0 en 2006. Este nuevo proyecto era parte de SciPy . Para evitar instalar el paquete SciPy grande solo para obtener un objeto de matriz, este nuevo paquete se separó y se llamó NumPy. El soporte para Python 3 se agregó en 2011 con NumPy versión 1.5.0, [Wikipedia](https://en.wikipedia.org/wiki/NumPy)\n"
   ]
  },
  {
   "cell_type": "markdown",
   "metadata": {
    "colab_type": "text",
    "id": "kzyZQ2syLu9O"
   },
   "source": [
    "### <span style=\"color:#4CC9F0\">Sobre Pandas</span>"
   ]
  },
  {
   "cell_type": "markdown",
   "metadata": {
    "colab_type": "text",
    "id": "kzyZQ2syLu9O"
   },
   "source": [
    "Wes McKinney, empezó a desarrollar Pandas en el año 2008 mientras trabajaba en AQR Capital por la necesidad que tenía de una herramienta flexible de alto rendimiento para realizar análisis cuantitativo en datos financieros. Antes de dejar AQR convenció a la administración de la empresa de distribuir esta biblioteca bajo licencia de código abierto. Otro empleado de AQR, Chang Ella, se unió en 2012 al esfuerzo de desarrollo de la biblioteca, [Wikipedia](https://es.wikipedia.org/wiki/Pandas_(software)#Historia)."
   ]
  },
  {
   "cell_type": "markdown",
   "metadata": {
    "colab_type": "text",
    "id": "kzyZQ2syLu9O"
   },
   "source": [
    "### <span style=\"color:#4CC9F0\">Sobre Matplotlib</span>"
   ]
  },
  {
   "cell_type": "markdown",
   "metadata": {
    "colab_type": "text",
    "id": "kzyZQ2syLu9O"
   },
   "source": [
    "Matplotlib es una biblioteca de gráficos para Python y su extensión matemática numérica NumPy . Proporciona una API orientada a objetos para incrustar gráficos en aplicaciones que utilizan juegos de herramientas GUI de uso general como Tkinter , wxPython , Qt o GTK . También hay una interfaz de procedimiento \"pylab\" basada en una máquina de estado (como OpenGL ), diseñada para parecerse mucho a la de MATLAB.\n",
    "\n",
    "Matplotlib fue escrito originalmente por John D. Hunter. Desde entonces ha tenido una comunidad de desarrollo activa y se distribuye bajo una licencia estilo BSD. Michael Droettboom fue nominado como desarrollador principal de matplotlib poco antes de la muerte de John Hunter en agosto de 2012 y se le unió Thomas Caswell. Matplotlib es un proyecto patrocinado fiscalmente por NumFOCUS.\n",
    "\n",
    "Matplotlib 2.0.x es compatible con las versiones de Python 2.7 a 3.10. El soporte de Python 3 comenzó con Matplotlib 1.2. Matplotlib 1.4 es la última versión compatible con Python 2.6. Matplotlib se comprometió a no admitir Python 2 después de 2020 al firmar la Declaración de Python 3, [Wikipedia](https://en.wikipedia.org/wiki/Matplotlib)\n"
   ]
  },
  {
   "cell_type": "markdown",
   "metadata": {},
   "source": [
    "## <span style=\"color:#4361EE\">¿Cosas que se pueden hacer (y se han hecho) con Python?</span>"
   ]
  },
  {
   "cell_type": "markdown",
   "metadata": {
    "colab_type": "text",
    "id": "kzyZQ2syLu9O"
   },
   "source": [
    "* Puede ser usado en un servidor para crear **aplicaciones web**, o en diseñar **páginas web**\n",
    "* Puede crear **aplicaciones de escritorio**, desde su funcionamiento base hasta su diseño.\n",
    "* Puede conectarse a sistemas de **bases de datos** para leer y modificar archivos.\n",
    "* Puede ser usado para manejar **Big Data** y hacer cálculos matemáticos de alta complejidad.\n",
    "* Puede utilizarse para **prototipado rápido** en producción de Software."
   ]
  },
  {
   "cell_type": "markdown",
   "metadata": {},
   "source": [
    "## <span style=\"color:#4361EE\">Características generales del lenguaje</span>"
   ]
  },
  {
   "cell_type": "markdown",
   "metadata": {
    "colab_type": "text",
    "id": "kzyZQ2syLu9O"
   },
   "source": [
    "* Funciona en diferentes **plataformas** (Windows, Mac, Linux, etc).\n",
    "* Tiene una **sintaxis** (forma de escribir) simple, similar al idioma inglés.\n",
    "* Tiene una sintaxis que permite escribir programas usando una menor cantidad de caracteres en comparación con otros lenguajes de programación.\n",
    "* Python se ejecuta en un **sistema interpretado**. Es decir, que los códigos se pueden correr **justo después de ser escritos**; en otras palabras, no necesitan compilación previa.\n",
    "* Se puede usar como un lenguaje **clásico** (paradigma imperativo estructurado), como un lenguaje **orientado a objetos**, o como un lenguaje **funcional**."
   ]
  },
  {
   "cell_type": "markdown",
   "metadata": {
    "colab_type": "text",
    "id": "kzyZQ2syLu9O"
   },
   "source": [
    "## <span style=\"color:#4361EE\"> El desarrollo modular de Python. Ecosistema</span>"
   ]
  },
  {
   "cell_type": "markdown",
   "metadata": {
    "colab_type": "text",
    "id": "kzyZQ2syLu9O"
   },
   "source": [
    "Una de las principales características de Python es el enorme ecosistema que acompaña al núcleo (kernel).\n",
    "\n",
    "La imagen muestra parte del ecosistema de Python, que hoy se considerá como básico. \n",
    "\n",
    "Las diferentes librerías fueron apareciendo a la medida que los científicos empezaron a utilizar Python como su lenguaje básico. La razón principal fue la eficiencia tanto en velocidad como en manejo de memoria. Python es interpretado y en consecuencia lento. Pero por otro lado es un lenguaje muy fácil de aprender, flexible, estructurado, orientado a objetos y funcional. \n",
    "\n",
    "Los científicos se preguntaron ¿Cómo hacer de Python el lenguaje de base, pero ganar en eficiencia? La respuesta fue: crear un ecosistema, con librerías especializadas muy eficientes."
   ]
  },
  {
   "cell_type": "markdown",
   "metadata": {
    "colab_type": "text",
    "id": "kzyZQ2syLu9O"
   },
   "source": [
    "<figure>\n",
    "<img src=\"https://raw.githubusercontent.com/AprendizajeProfundo/Alejandria/main/Python/Imagenes/ecosistema-python_2.png\"  width=\"800\"/> \n",
    "</figure>"
   ]
  },
  {
   "cell_type": "markdown",
   "metadata": {
    "colab_type": "text",
    "id": "scclT03UHVrm"
   },
   "source": [
    "## <span style=\"color:#4361EE\">Instalar Python</span>"
   ]
  },
  {
   "cell_type": "markdown",
   "metadata": {},
   "source": [
    "Para usar Python, hay varias opciones que requerirán una mayor o menor atención en su instalación.\r\n",
    "\r\n",
    "Una de las formas más rápidas de empezar a trabajar con Python, sin casi preocuparse por la instalación, podría ser mediante **Google Colaboratory** (<https://colab.research.google.com/>). Sin embargo, esta opción requiere conexión constante a Internet, ya que se está trabajando sobre un servidor que nos \"presta\" Google. Otra opción similar es utilizando en línea a modo de prueba **Jupyter Lab** o **Jupyter Notebook** (<https://jupyter.org/try>).\r\n",
    "\r\n",
    "Para una instalación local de **Jupyter Lab** o **Jupyter Notebook**, se puede optar por utilizar **Anaconda** (en el siguiente video se muestra el proceso de instalación: <https://www.youtube.com/watch?v=tXekbwrgxL0>). Otra opción puede ser descargar Python directamente de la página oficial (<https://www.python.org/>), instalarlo, y luego instalar el IDE (del inglés, *Integrated Development Environment*, que en español podría ser: entorno de desarrollo integrado) de su preferencia.\r\n",
    "\r\n",
    "En cualquier caso, para una instalación local, se sugiere crear un entorno virtual aparte de la instalación de Python denominada \"base\". De esta manera se pueden aislar los paquetes de la \"base\", de los instalados explicítamente en el entorno virtual; evitando potenciales conflictos, y permitiendo eliminar conjuntos de paquetes completos dentro de entornos virtuales, sin afectar la instalación \"base\"."
   ]
  },
  {
   "cell_type": "markdown",
   "metadata": {},
   "source": [
    "### <span style=\"color:#4CC9F0\">Creación de un entorno virtual y manejadores de paquetes</span>"
   ]
  },
  {
   "cell_type": "markdown",
   "metadata": {},
   "source": [
    "Si tiene lo tiene instalado, puede utilizar el entorno gráfico de **Anaconda Navigator** para crear un entorno virtual."
   ]
  },
  {
   "cell_type": "markdown",
   "metadata": {},
   "source": [
    "![](../Imagenes/AnacondaCrearEntornoVirtual.png)"
   ]
  },
  {
   "cell_type": "markdown",
   "metadata": {},
   "source": [
    "Ubicado dentro del entorno virtual creado (en \"Home\", debe aparecer \"All applications on nombre_del_entorno_deseado\"), instalar **Jupyter Lab**, haciendo clic en el botón respectivo."
   ]
  },
  {
   "cell_type": "markdown",
   "metadata": {},
   "source": [
    "### <span style=\"color:#4CC9F0\">Usando línea de comandos</span>"
   ]
  },
  {
   "cell_type": "markdown",
   "metadata": {},
   "source": [
    "Usando línea de comandos de su sistema operativo,"
   ]
  },
  {
   "cell_type": "markdown",
   "metadata": {},
   "source": [
    "Si tiene instalado Anaconda:\n",
    "\n",
    "* `conda create --name nombre_del_entorno_deseado python=3.8` crea el entorno e instala Python versión 3.8.\n",
    "* `conda activate nombre_del_entorno_deseado` lo ubica dentro del entorno (lo activa).\n",
    "* `conda install -c conda-forge jupyterlab` instala **Jupyter Lab**."
   ]
  },
  {
   "cell_type": "markdown",
   "metadata": {},
   "source": [
    "Si no tiene instalado Anaconda:\n",
    "\n",
    "* `python -m venv nombre_del_entorno_deseado` crea el entorno.\n",
    "* `nombre_del_entorno_deseado\\Scripts\\activate` (Windows) o `source nombre_del_entorno_deseado/bin/activate` (Linux o Mac) lo ubica dentro del entorno (lo activa).\n",
    "* `pip install jupyterlab` instala **Jupyter Lab**."
   ]
  },
  {
   "cell_type": "markdown",
   "metadata": {},
   "source": [
    "En el entorno en el que se encuentre activo en ese momento, el comando: \n",
    "* `jupyter lab` arranca, activa o lanza el servicio local asociado a **Jupyter Lab**."
   ]
  },
  {
   "cell_type": "markdown",
   "metadata": {},
   "source": [
    "Mientras el servicio esté activo, **Jupyter Lab** podrá ser usado desde un navegador de internet (el navegador apuntará internamente a su computador y por eso no se requerirá acceso a internet)."
   ]
  },
  {
   "cell_type": "markdown",
   "metadata": {},
   "source": [
    "**_NOTA_: Jupyter Lab no puede ir atrás de la carpeta raíz en la que arranca. El entorno gráfico hace que Jupyter Lab arranque en la carpeta raíz \"mis documentos\" o equivalente. En línea de comandos, se puede ubicar en la carpeta que desee antes de arrancar Jupyter Lab y esa carpeta será la carpeta raíz.**"
   ]
  },
  {
   "cell_type": "markdown",
   "metadata": {},
   "source": [
    "<center>\n",
    "    <figure>\n",
    "        <img src=\"../Imagenes/CrearAccesoDirectoJupyterLabWindows.png\" width=\"350\" height=\"350\" align=\"center\"/> \n",
    "    </figure>\n",
    "</center>\n",
    "\n",
    "<center>\n",
    "Acceso directo personalizado a Jupyter Lab en Windows (sobre un entorno virtual y una carpeta raíz dadas). Fuente: Camilo Torres.\n",
    "</center>"
   ]
  },
  {
   "cell_type": "markdown",
   "metadata": {},
   "source": [
    "## <span style=\"color:#4361EE\">Hola Mundo</span>"
   ]
  },
  {
   "cell_type": "markdown",
   "metadata": {
    "colab_type": "text",
    "id": "c3ntgbdgHbS-"
   },
   "source": [
    "El primer ejemplo clásico de programación es saludar, o sea, decirle al computador que muestre un saludo. Para esto, se usa la función de Python llamada **print**. Para colocar un saludo (o un **texto cualquiera**), se debe colocar entre **comillas dobles o sencillas** dentro del comando print. Entonces, para que el computador muestre un saludo, por ejemplo **Hola, Mundo**, debemos escribir en ambiente de código como sigue"
   ]
  },
  {
   "cell_type": "code",
   "execution_count": null,
   "metadata": {
    "colab": {
     "base_uri": "https://localhost:8080/",
     "height": 34
    },
    "colab_type": "code",
    "executionInfo": {
     "elapsed": 995,
     "status": "ok",
     "timestamp": 1582034062236,
     "user": {
      "displayName": "Daniel Montenegro",
      "photoUrl": "",
      "userId": "07275166318289302366"
     },
     "user_tz": 300
    },
    "id": "8i6cS6oYA-Lv",
    "outputId": "005b250c-fdd8-459e-a1da-fab85c44f12d"
   },
   "outputs": [],
   "source": [
    "print('Hola Mundo')"
   ]
  },
  {
   "cell_type": "markdown",
   "metadata": {
    "colab_type": "text",
    "id": "aM1gxggOCDGO"
   },
   "source": [
    "Note que el resultado se muestra sin las comillas dobles. Estas comillas dobles se usan para decirle al computador que vamos a ingresar texto. Si quisiéramos escribir con un salto de línea escribimos \"\\n\" así al escribir `print(\"Hola\\nMundo\")` tenemos:"
   ]
  },
  {
   "cell_type": "code",
   "execution_count": null,
   "metadata": {
    "colab": {},
    "colab_type": "code",
    "id": "C5IwYTeHUzUT"
   },
   "outputs": [],
   "source": [
    "print(\"Hola\\nMundo\")"
   ]
  },
  {
   "cell_type": "markdown",
   "metadata": {},
   "source": [
    "### <span style=\"color:#4CC9F0\">Ejercicio</span>\n"
   ]
  },
  {
   "cell_type": "markdown",
   "metadata": {
    "colab_type": "text",
    "id": "gGbUqKOAJc_C"
   },
   "source": [
    "Escriba un código que le diga a Python que devuelva el texto:\n",
    "*****\n",
    ">*Sólo sé ...*  \n",
    "*... que nada sé.*\n",
    " ***"
   ]
  },
  {
   "cell_type": "code",
   "execution_count": null,
   "metadata": {
    "colab": {},
    "colab_type": "code",
    "id": "CVnwiYj8JZY-"
   },
   "outputs": [],
   "source": [
    "# Escriba el código aqui\n"
   ]
  },
  {
   "cell_type": "markdown",
   "metadata": {},
   "source": [
    "##   <span style=\"color:#4361EE\">Variables en Python</span>"
   ]
  },
  {
   "cell_type": "markdown",
   "metadata": {},
   "source": [
    "Una variable en Python corresponde físicamente a un espacio de memoria del computador, etiquetado con un nombre y tipo de dato. Una variable sirve para **guardar un valor específico**, ya sea **numérico**, **texto** u otro **tipo de dato** al que le queda asociado el nombre con el cual se nombró a dicha variable. Observe el siguiente ejemplo."
   ]
  },
  {
   "cell_type": "code",
   "execution_count": null,
   "metadata": {},
   "outputs": [],
   "source": [
    "# Asignamos 1 a la variable x\n",
    "x = 1\n",
    "# Imprimimos por pantalla\n",
    "print(\"El valor de la variable x es\", x)"
   ]
  },
  {
   "cell_type": "code",
   "execution_count": null,
   "metadata": {},
   "outputs": [],
   "source": [
    "# Asignamos \"¡Vamos a programar!\" a la variable y\n",
    "y = \"¡Vamos a programar!\"\n",
    "# Imprimimos por pantalla\n",
    "print(\"El valor de la variable y es\", y)"
   ]
  },
  {
   "cell_type": "markdown",
   "metadata": {},
   "source": [
    "##   <span style=\"color:#4361EE\">Asignación dinámica en Python</span>"
   ]
  },
  {
   "cell_type": "markdown",
   "metadata": {},
   "source": [
    "En Python no es necesario declarar una variable de antemano, como ocurre en otros lenguajes otros lenguajes de programación, por ejemplo: C o C++. \n",
    "La asignación dinámica implica que es posible cambiar el tipo de dato de una variable con tan solo reasignarle un valor. En Python, se delega al programador la responsabilidad de cuidarse de efectos no esperados al cambiar el tipo de una variable. Vea el siguiente ejemplo."
   ]
  },
  {
   "cell_type": "code",
   "execution_count": null,
   "metadata": {},
   "outputs": [],
   "source": [
    "x = 1234\n",
    "print('x es número un entero:', x)\n",
    "\n",
    "x = 5.6\n",
    "print('x es ahora un número real:', x)\n",
    "\n",
    "x = '25 de mayo'\n",
    "print('En cambio ahora x es un string:', x)"
   ]
  },
  {
   "cell_type": "markdown",
   "metadata": {},
   "source": [
    "##   <span style=\"color:#4361EE\">Reglas para la creación de variables</span>"
   ]
  },
  {
   "cell_type": "markdown",
   "metadata": {},
   "source": [
    "* El nombre de una variable **debe comenzar** con una letra ó con _.\n",
    "* El nombre de una variable **no puede comenzar** con un número.\n",
    "* El nombre de una variable **sólo puede contener** caracteres alfanuméricos.\n",
    "* El nombre de una variable tiene **sensibilidad** a **mayúsculas** y **minúsculas** (x es diferente de X).\n"
   ]
  },
  {
   "cell_type": "markdown",
   "metadata": {},
   "source": [
    "### <span style=\"color:#4CC9F0\">Ejercicio</span>"
   ]
  },
  {
   "cell_type": "markdown",
   "metadata": {},
   "source": [
    "Escriba un código que le diga a Python que devuelva el texto: **Tengo `my_age` años**, donde `my_age` es una variable que tenga asignada su edad."
   ]
  },
  {
   "cell_type": "code",
   "execution_count": null,
   "metadata": {},
   "outputs": [],
   "source": [
    "# Escriba aquí"
   ]
  }
 ],
 "metadata": {
  "celltoolbar": "Slideshow",
  "kernelspec": {
   "display_name": "Python 3 (ipykernel)",
   "language": "python",
   "name": "python3"
  },
  "language_info": {
   "codemirror_mode": {
    "name": "ipython",
    "version": 3
   },
   "file_extension": ".py",
   "mimetype": "text/x-python",
   "name": "python",
   "nbconvert_exporter": "python",
   "pygments_lexer": "ipython3",
   "version": "3.11.3"
  },
  "vscode": {
   "interpreter": {
    "hash": "cf92aa13fedf815d5c8dd192b8d835913fde3e8bc926b2a0ad6cc74ef2ba3ca2"
   }
  }
 },
 "nbformat": 4,
 "nbformat_minor": 4
}
