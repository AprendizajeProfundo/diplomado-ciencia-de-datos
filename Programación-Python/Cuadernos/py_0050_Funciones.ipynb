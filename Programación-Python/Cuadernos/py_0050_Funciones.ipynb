{
 "cells": [
  {
   "cell_type": "markdown",
   "metadata": {},
   "source": [
    "<figure>\n",
    "<img src=\"../Imagenes/logo-final-ap.png\"  width=\"80\" height=\"80\" align=\"left\"/> \n",
    "</figure>\n",
    "\n",
    "# <span style=\"color:#4361EE\"><left>Aprendizaje Profundo</left></span>"
   ]
  },
  {
   "cell_type": "markdown",
   "metadata": {},
   "source": [
    "# <span style=\"color:red\"><center>Diplomado en Ciencia de Datos</center></span>"
   ]
  },
  {
   "cell_type": "markdown",
   "metadata": {},
   "source": [
    "# <span style=\"color:green\"><center>Funciones en Python</center></span>"
   ]
  },
  {
   "cell_type": "markdown",
   "metadata": {},
   "source": [
    "<figure>\n",
    "<center>\n",
    "<img src=\"https://raw.githubusercontent.com/AprendizajeProfundo/Alejandria/main/Archivos_Generales/Imagenes/Robot.jpg\" width=\"600\" height=\"400\" align=\"center\" /> \n",
    "</center>   \n",
    "</figure>\n",
    "\n",
    "\n",
    "<a href=\"https://commons.wikimedia.org/wiki/File:Smart_robot.jpg\">librutech.com</a>, <a href=\"https://creativecommons.org/licenses/by-sa/4.0\">CC BY-SA 4.0</a>, via Wikimedia Commons\n",
    "\n"
   ]
  },
  {
   "cell_type": "markdown",
   "metadata": {},
   "source": [
    "## <span style=\"color:#4361EE\">Profesores</span>"
   ]
  },
  {
   "cell_type": "markdown",
   "metadata": {},
   "source": [
    "* Alvaro  Montenegro, PhD, <ammontenegrod@unal.edu.co>\n",
    "* Campo Elías Pardo, PhD, <cepardot@unal.edu.co>\n",
    "* Daniel  Montenegro, Msc, <dextronomo@gmail.com>\n",
    "* Camilo José Torres Jiménez, Msc, <cjtorresj@unal.edu.co>"
   ]
  },
  {
   "cell_type": "markdown",
   "metadata": {},
   "source": [
    "## <span style=\"color:#4361EE\">Asesora Medios y Marketing digital</span>"
   ]
  },
  {
   "cell_type": "markdown",
   "metadata": {},
   "source": [
    "* Maria del Pilar Montenegro, pmontenegro88@gmail.com\n",
    "* Jessica López Mejía, jelopezme@unal.edu.co"
   ]
  },
  {
   "cell_type": "markdown",
   "metadata": {},
   "source": [
    "## <span style=\"color:#4361EE\">Jefe Jurídica</span>"
   ]
  },
  {
   "cell_type": "markdown",
   "metadata": {},
   "source": [
    "* Paula Andrea Guzmán, guzmancruz.paula@gmail.com"
   ]
  },
  {
   "cell_type": "markdown",
   "metadata": {},
   "source": [
    "## <span style=\"color:#4361EE\">Coordinador Jurídico</span>"
   ]
  },
  {
   "cell_type": "markdown",
   "metadata": {},
   "source": [
    "* David Fuentes, fuentesd065@gmail.com"
   ]
  },
  {
   "cell_type": "markdown",
   "metadata": {},
   "source": [
    "## <span style=\"color:#4361EE\">Desarrolladores Principales</span>"
   ]
  },
  {
   "cell_type": "markdown",
   "metadata": {},
   "source": [
    "* Dairo Moreno, damoralesj@unal.edu.co\n",
    "* Joan Castro, jocastroc@unal.edu.co\n",
    "* Bryan Riveros, briveros@unal.edu.co\n",
    "* Rosmer Vargas, rovargasc@unal.edu.co\n",
    "* Venus Puertas, vpuertasg@unal.edu.co"
   ]
  },
  {
   "cell_type": "markdown",
   "metadata": {},
   "source": [
    "## <span style=\"color:#4361EE\">Expertos en Bases de Datos</span>"
   ]
  },
  {
   "cell_type": "markdown",
   "metadata": {},
   "source": [
    "* Giovvani Barrera, udgiovanni@gmail.com\n",
    "* Camilo Chitivo, cchitivo@unal.edu.co"
   ]
  },
  {
   "cell_type": "markdown",
   "metadata": {},
   "source": [
    "## <span style=\"color:#4361EE\">Introducción</span>"
   ]
  },
  {
   "cell_type": "markdown",
   "metadata": {},
   "source": [
    "En Python y en cualquier lenguaje de programación, una función es un grupo de declaraciones relacionadas que realizan una tarea específica.\n",
    "\n",
    "Las funciones ayudan a dividir nuestro programa en partes más pequeñas y modulares. A medida que nuestro programa crece más y más, las funciones lo hacen más organizado y manejable. Además, las funciones evitan la repetición y hace que el código sea reutilizable."
   ]
  },
  {
   "cell_type": "markdown",
   "metadata": {},
   "source": [
    "Las funciones son importantes en la programación por varias razones:\n",
    "\n",
    "1. **Modularidad**: las funciones permiten dividir un programa en bloques más pequeños y manejables. Esto hace que el código sea más fácil de entender, depurar y mantener.\n",
    "\n",
    "2. **Reutilización de código**: al dividir un programa en funciones, podemos reutilizar el mismo código en diferentes partes del programa o incluso en diferentes programas.\n",
    "\n",
    "3. **Legibilidad**: las funciones permiten dar nombres significativos a bloques de código, lo que mejora la legibilidad del código.\n",
    "\n",
    "4. **Abstracción**: las funciones pueden ser usadas para representar acciones, para encapsular detalles de implementación y para proporcionar una interfaz más clara y fácil de usar para los usuarios de la función.\n",
    "\n",
    "5. **Testing**: las funciones son fáciles de probar de forma individual, lo que facilita la identificación y corrección de errores en el código."
   ]
  },
  {
   "cell_type": "markdown",
   "metadata": {},
   "source": [
    "## <span style=\"color:#4361EE\">Analogía con la vida diaria</span>"
   ]
  },
  {
   "attachments": {},
   "cell_type": "markdown",
   "metadata": {},
   "source": [
    "Una analogía con la vida diaria puede ser la siguiente:\n",
    "\n",
    "Imagínese cuando se levanta. Lo que ocurre primero, es que uno se siente vivo, se abren los ojos (no siempre), se hace pereza un rato, se levanta de la cama y luego se inicia el día (cada persona tiene sus maneras diferentes de hacerlo).\n",
    "\n",
    "Esta serie de *pasos consecutivos* conforman lo que podríamos llamar una `función` levantarse.\n",
    "\n",
    "En el común, una *función es en general una secuencia de pasos* o una serie de acciones que generan un resultado específico. De manera abstracta, esos pasos consecutivos se encapsulan en un objeto llamado función, lo cual entrega ventajas cuando se describe una situación compleja y por lo general de carácter repetitivo.\n",
    "\n",
    "Para poder distinguir funciones, unas de otras, se les asignan nombres diferentes.\n",
    "\n",
    "Por ejemplo, la función antes descrita podría nombrarse como **Levantarse**:\n",
    "\n",
    "Está función se compone de los siguientes pasos:\n",
    "\n",
    "1. Sentirse vivo.\n",
    "2. Abrir los ojos.\n",
    "3. Hacer pereza.\n",
    "4. Levantarse.\n",
    "\n",
    "Así, aunque cada persona puede desarrollar la actividad de levantarse de manera un poco diferente, en general tal actividad se puede ver como una función que es ejecutada en algún momento por algún individuo.\n",
    "\n",
    "En el lenguaje de programación, esto se podría escribir como\n",
    "\n",
    "```Levantarse(x)```\n",
    "\n",
    "donde $x$ representa el individuo que hace la acción y los paréntesis significan que se habla de una función, y por lo tanto, *no se confunde* con una variable."
   ]
  },
  {
   "cell_type": "markdown",
   "metadata": {},
   "source": [
    "### <span style=\"color:#4CC9F0\">Una función como caja negra</span>"
   ]
  },
  {
   "cell_type": "markdown",
   "metadata": {},
   "source": [
    "En un lenguaje de programación, una función puede entenderse como una caja negra. Como el control remoto de su televisor. Los ingenieros que desarrollan el control remoto cierran el objeto una vez lo construyen y por lo general elaboran un manual con las especificaciones para construir cada control. Adicionalmente, elaboran otro manual para enseñar a los usuario a usar el objeto. Como usuario usted solamente sabe que al presionar un botón se realiza una acción, y eso es suficiente para lo que necesita hacer. Usted desconoce qué es lo que hace o cómo está implementado el que se haga la acción, y para el caso del ejemplo eso no es un problema para lo que necesita hacer (por ejemplo, cambiar de canal o cualquier otra cosa)."
   ]
  },
  {
   "cell_type": "markdown",
   "metadata": {},
   "source": [
    "### <span style=\"color:#4CC9F0\">Ejemplo Función `CortarManzana(x)`:</span>"
   ]
  },
  {
   "cell_type": "markdown",
   "metadata": {},
   "source": [
    "Un segundo ejemplo muy simple es el siguiente. Imagine una máquina que corta manzanas como se ilustra en la siguiente imagen."
   ]
  },
  {
   "cell_type": "markdown",
   "metadata": {},
   "source": [
    "<figure>\n",
    "<center>\n",
    "<img src=\"../Imagenes/Apple_slicing_function.png\" width=\"600\" height=\"400\" align=\"center\"/>\n",
    "<figcaption>Función cortar manzana</figcaption>\n",
    "</center>\n",
    "</figure>\n",
    "\n",
    "\n",
    "<a href=\"https://commons.wikimedia.org/wiki/File:Apple_slicing_function.png\">The original uploader was Theresa knott at English Wikibooks.</a>, <a href=\"http://creativecommons.org/licenses/by-sa/3.0/\">CC BY-SA 3.0</a>, via Wikimedia Commons"
   ]
  },
  {
   "cell_type": "markdown",
   "metadata": {},
   "source": [
    "Como podemos ver, una función es realmente es una `caja negra`: la podemos usar, sin importar qué hay dentro de ella.\r\n",
    "\r\n",
    "Sin embargo, la máquina puede tener algunos controles (parámetros) que determinan la forma como la máquina funciona. Por ejemplo, el número de cortes. Luego de parametrizada la máquina, podemos empezar a pasar manzanas por ella.\r\n",
    "\r\n",
    "Ya hemos visto algunas **funciones básicas** de Python (Built-in).\r\n",
    "\r\n",
    "* `print()`: es una función preconstruida que trata de \"imprimir\" lo que se le \"de\". La salida de esta función es enviada al flujo de salida (*output stream*). Este flujo de salida, que son una secuencia de caracteres, es enviada a la terminal o línea de comandos en que ejecutamos la instrucción.\r\n",
    "* `input()`: es una función preconstruida que \"imprime\" lo que se le \"de\" y luego trata de \"leer\" lo que el usuario escriba o \"responda\". La salida de esta función es la secuencia de caracteres que el usuario introduzca hasta que presiona la tecla *Enter*. Aquí se tiene un flujo de entrada.\r\n",
    "* `type()`: es una función preconstruida que tiene como resultado el tipo de la variable (la clase a la que pertenece la variable).\r\n",
    "* `str()`, `int()`, `float()`, `complex()` y `bool()`: son funciones preconstruidas que se pueden usar para cambiar el tipo de una variable (naturalmente el valor que tenga almacenado la variable también es transformado, en caso de que sea posible dicha transformación).\r\n",
    "\r\n",
    "En [este enlace](https://docs.python.org/3/library/functions.html), se encuentra un manual de todas las funciones **básicas** de Python."
   ]
  },
  {
   "cell_type": "markdown",
   "metadata": {},
   "source": [
    "## <span style=\"color:#4361EE\">Parámetros y argumentos en las funciones</span>\n"
   ]
  },
  {
   "cell_type": "markdown",
   "metadata": {},
   "source": [
    "Las funciones pueden tener uno o más parámetros asociados. Estos son contenedores que recibirán los datos (argumentos) para que la función pueda hacer su trabajo.\n",
    "\n",
    "Consideremos por ejemplo la función matemática seno (`sin` en inglés)\n",
    "\n",
    "$$\n",
    "y = \\sin (x)\n",
    "$$\n",
    "\n",
    "En el ejemplo, el parámetro de la función es 'x' que representa a cualquier valor que pueda ser utilizado para calcular la función.\n",
    "\n",
    "Un argumento válido para esta función es por ejemplo $\\pi/2$. Entonces el resultado obtenido es\n",
    "\n",
    "$$\n",
    "1.0 = \\sin (\\pi/2).\n",
    "$$\n",
    "\n",
    "\n",
    "aprendimos en la escuela secundaria.\n",
    "\n"
   ]
  },
  {
   "cell_type": "markdown",
   "metadata": {},
   "source": [
    "### <span style=\"color:#4CC9F0\">Funciones predefinidas: ejemplo de como producir  una gráfica de la función `sin(x)`</span>"
   ]
  },
  {
   "cell_type": "markdown",
   "metadata": {},
   "source": [
    "Para este ejemplo utilizaremos dos librerías de Python: [Numpy](https://numpy.org/) y [Matplotlib](https://matplotlib.org/stable/api/_as_gen/matplotlib.pyplot.figure.html). Puede ir a los capítulos correspondientes para los detalles.\n",
    "\n",
    "La librería Numpy se llamará con el alias `np` y se usa un punto para llamar algún objeto de la librería. Similar con Matplotlib.pyplot que llamaremos con el alias de `plt`.\n",
    "\n",
    "* La función `np.linspace` genera valores entre dos extremos. En el ejemplo genera 30 puntos entre 0 y $2\\pi$.\n",
    "* La función `np.sin` calcula la función seno para algún conjunto de argumentos. Observe que la función calcula la función para cada uno de los argumentos dispuestos en el objeto x.\n",
    "* La función `np.plt` dibuja el gráfico de la función entre los valores 0 y $2\\pi$.\n"
   ]
  },
  {
   "cell_type": "code",
   "execution_count": null,
   "metadata": {},
   "outputs": [],
   "source": [
    "import numpy as np # importa la librería Numpy\n",
    "# calcula la función sin en 30 puntos\n",
    "x = np.linspace(0,2*np.pi,30)\n",
    "y = np.sin(x)\n",
    "# Imprime la tabla de valores. \n",
    "# Usamos zip para pegar las columnas x, y\n",
    "print('Estos son los valores para el gráfico  de la función')\n",
    "print(\"x     y\")\n",
    "x_y = zip(np.round(x,2), np.round(y,2))\n",
    "for values in x_y:\n",
    "    print(values)"
   ]
  },
  {
   "cell_type": "code",
   "execution_count": null,
   "metadata": {},
   "outputs": [],
   "source": [
    "import matplotlib.pyplot as plt # importa la librería matplotlib.pyplot\n",
    "# crea la imagen\n",
    "print('Imagen')\n",
    "plt.title('Gráfico de la función $y=\\sin(x)$')\n",
    "plt.xlabel('x')\n",
    "plt.ylabel('$\\sin (x)$')\n",
    "plt.plot(x,y)\n",
    "plt.show()"
   ]
  },
  {
   "cell_type": "markdown",
   "metadata": {},
   "source": [
    "## <span style=\"color:#4361EE\">Creación de Funciones en Python</span>\n"
   ]
  },
  {
   "cell_type": "markdown",
   "metadata": {},
   "source": [
    "Hay dos maneras básicas para definir funciones en Python:\n",
    "\n",
    "1. `def`\n",
    "2. `lambda`\n",
    "\n",
    "\n",
    "De manera muy general, una función se define iniciando con la cláusula `def()`. Dentro de los paréntesis se colocan los parámetros que usará la función.\n",
    "\n",
    "Nuestro primer ejemplo es una función que suma dos variables y regresa el resultado."
   ]
  },
  {
   "cell_type": "code",
   "execution_count": null,
   "metadata": {},
   "outputs": [],
   "source": [
    "# función suma\n",
    "def suma(x, y):\n",
    "    s = x + y\n",
    "    return s"
   ]
  },
  {
   "cell_type": "markdown",
   "metadata": {},
   "source": [
    "La cláusula `return` se usa para retornar el resultado de la función. \n",
    "\n",
    "Ejecutar o usar la función es bastante simple. Por ejemplo la suma entre 3 y 5 se puede calcular haciendo:"
   ]
  },
  {
   "cell_type": "code",
   "execution_count": null,
   "metadata": {},
   "outputs": [],
   "source": [
    "s = suma(3, 5)\n",
    "print(s)"
   ]
  },
  {
   "cell_type": "markdown",
   "metadata": {},
   "source": [
    "### <span style=\"color:#4CC9F0\">Una función que regresa dos valores</span>"
   ]
  },
  {
   "cell_type": "markdown",
   "metadata": {},
   "source": [
    "De manera formal, una función siempre retorna un único valor, pero es posible retornar \"más de uno\" utilizando una variable compuesta. Observe el siguiente ejemplo."
   ]
  },
  {
   "cell_type": "code",
   "execution_count": null,
   "metadata": {},
   "outputs": [],
   "source": [
    "# Explicar las siguientes líneas de código\n",
    "def mysum_prod(x,y):\n",
    "    s = x + y\n",
    "    p = x * y\n",
    "    return s, p # s y p se juntarán para formar una variable compuesta"
   ]
  },
  {
   "cell_type": "code",
   "execution_count": null,
   "metadata": {},
   "outputs": [],
   "source": [
    "result = mysum_prod(3,4)\n",
    "print(result)\n",
    "type(result)"
   ]
  },
  {
   "cell_type": "markdown",
   "metadata": {},
   "source": [
    "También podemos separar la salida, usando asignación múltiple, si es lo que se requiere, de la siguiente manera:"
   ]
  },
  {
   "cell_type": "code",
   "execution_count": null,
   "metadata": {},
   "outputs": [],
   "source": [
    "suma, prod = mysum_prod(3,4)\n",
    "print(\"El suma es:\", suma)\n",
    "print(\"El producto es:\", prod)"
   ]
  },
  {
   "cell_type": "markdown",
   "metadata": {},
   "source": [
    "Pareciera que la función estuviese dando dos valores pero sabemos que en realidad está devolviendo una variable compuesta que puede ser separada/descompuesta y recibida en más de una variable."
   ]
  },
  {
   "cell_type": "markdown",
   "metadata": {},
   "source": [
    "### <span style=\"color:#4CC9F0\">Anotando (typing) los parámetros de una función</span>"
   ]
  },
  {
   "cell_type": "markdown",
   "metadata": {},
   "source": [
    "Recuerde que la asignación de variables en Python es dinámica. Esto facilita la programación, pero puede introducir algunos problemas.\n",
    "\n",
    "En el caso de las funciones, es importante que el usuario (que siempre incluye al programador) sepa qué tipos de parámetros espera una función. Para hacerlo, las versiones de Python desde 2.0 introdujeron el concepto anotación o tipificación de los parámetros de una función. \n",
    "\n",
    "Se pretende indicar al usuario de la función qué tipo de datos se espera que entren a la función y los que salen. Esto es muy útil para mejorar la lectura del código. \n",
    "\n",
    "Por supuesto, aún es posible usar tipos de datos diferentes a los que sugerimos. Esto es debido a la flexibilidad que le quisieron dar a Python (y a la asignación dinámica que precisamente hace parte de esa flexibilidad).\n",
    "\n",
    "Para ilustrar la anotación revise el siguiente ejemplo."
   ]
  },
  {
   "cell_type": "code",
   "execution_count": null,
   "metadata": {},
   "outputs": [],
   "source": [
    "def mysum_prod(x: int, y: int) -> [int, int]:\n",
    "    s = x + y\n",
    "    p = y * x\n",
    "    return [s,p]"
   ]
  },
  {
   "cell_type": "code",
   "execution_count": null,
   "metadata": {},
   "outputs": [],
   "source": [
    "mysum_prod(2.2, 3)"
   ]
  },
  {
   "cell_type": "markdown",
   "metadata": {},
   "source": [
    "### <span style=\"color:#4CC9F0\">Valor de los parámetros por defecto</span>"
   ]
  },
  {
   "cell_type": "markdown",
   "metadata": {},
   "source": [
    "En ocasiones se espera definir valores por defecto para los parámetros de una función. Esta se hace simplemente escribiendo `parametro=valor`. Veamos el ejemplo"
   ]
  },
  {
   "cell_type": "code",
   "execution_count": null,
   "metadata": {},
   "outputs": [],
   "source": [
    "# función suma con parámetros por defecto\n",
    "def suma(x, y=1):\n",
    "    s = x + y\n",
    "    return s"
   ]
  },
  {
   "cell_type": "code",
   "execution_count": null,
   "metadata": {},
   "outputs": [],
   "source": [
    "print(suma(3))"
   ]
  },
  {
   "cell_type": "markdown",
   "metadata": {},
   "source": [
    "El cuidado que hay que tener es que los parámetros por defecto siempre van después de los parámetros obligatorios. En el ejemplo el parámetro *x* es obligatorio y debe ser entregado a la función. Por otro lado el parámetro *y* esta definida por defecto con el valor de 1."
   ]
  },
  {
   "cell_type": "markdown",
   "metadata": {},
   "source": [
    "## <span style=\"color:#4361EE\">Pasando un número arbitrario de argumentos no nombrados con `*arg`</span>"
   ]
  },
  {
   "cell_type": "markdown",
   "metadata": {},
   "source": [
    "Para situaciones en las cuales se desconoce de antemano el número de argumentos que se esperan para ejecutar una función, es posible nombrar los parámetros de manera genérica en la forma `*arg`. Se dice estos son parámetros no nombrados (`non keyword arguments`) porque no es necesario indicar un nombre para cada argumento que se pasa al función. Revise el siguiente ejemplo. El objetivo es sumar un número indeterminado de números. Por supuesto este es un ejemplo de juguete, pero sirve para ilustrar el concepto. Veamos:"
   ]
  },
  {
   "cell_type": "code",
   "execution_count": null,
   "metadata": {},
   "outputs": [],
   "source": [
    "# sumador\n",
    "def sumador(*num):\n",
    "    suma = 0\n",
    "    for n in num:\n",
    "        suma = suma + n\n",
    "    print(\"Sum:\",suma)"
   ]
  },
  {
   "cell_type": "code",
   "execution_count": null,
   "metadata": {},
   "outputs": [],
   "source": [
    "sumador(3,5)"
   ]
  },
  {
   "cell_type": "code",
   "execution_count": null,
   "metadata": {},
   "outputs": [],
   "source": [
    "sumador(4,5,6,7)"
   ]
  },
  {
   "cell_type": "code",
   "execution_count": null,
   "metadata": {},
   "outputs": [],
   "source": [
    "sumador(1,2,3,5,6)"
   ]
  },
  {
   "cell_type": "markdown",
   "metadata": {},
   "source": [
    "## <span style=\"color:#4361EE\">Pasando un número arbitrario de argumentos nombrados con `**arg`</span>"
   ]
  },
  {
   "cell_type": "markdown",
   "metadata": {},
   "source": [
    "En el ejemplo anterior no se diferenciaron los parámetros con un nombre. Si requiere pasar parámetros arbitrarios pero con nombre cada uno, puede usar la notacion `**arg`. Estos argumentos se llaman `keyword arguments`. Veamos el ejemplo:"
   ]
  },
  {
   "cell_type": "code",
   "execution_count": null,
   "metadata": {},
   "outputs": [],
   "source": [
    "def intro(**data):\n",
    "    print(\"\\nTipo de dato del argumento:\",type(data))\n",
    "    for key, value in data.items():\n",
    "        print(\"{} is {}\".format(key,value))"
   ]
  },
  {
   "cell_type": "code",
   "execution_count": null,
   "metadata": {},
   "outputs": [],
   "source": [
    "intro(Firstname=\"Sita\", Lastname=\"Sharma\", Age=22, Phone=1234567890)"
   ]
  },
  {
   "cell_type": "code",
   "execution_count": null,
   "metadata": {},
   "outputs": [],
   "source": [
    "intro(Firstname=\"John\", Lastname=\"Wood\", Email=\"johnwood@nomail.com\", Country=\"Wakanda\", Age=25, Phone=9876543210)"
   ]
  },
  {
   "cell_type": "markdown",
   "metadata": {},
   "source": [
    "## <span style=\"color:#4361EE\">Programación funcional: funciones lambda</span>"
   ]
  },
  {
   "cell_type": "markdown",
   "metadata": {},
   "source": [
    "Si desea ver un video introductorio sobre programación funcional y entender más a fondo el concepto del cálculo y funciones lambda le recomendamos este [vídeo de Betta Tech](https://www.youtube.com/watch?v=o-RE0qBGRRA)."
   ]
  },
  {
   "cell_type": "markdown",
   "metadata": {},
   "source": [
    "Hay situaciones, principalmente relacionadas con la programación funcional, en la cuales no se requiere dar un nombre a una función, sino más bien definir la forma como trabaja la función.\n",
    "\n",
    "Observe el siguiente ejemplo."
   ]
  },
  {
   "cell_type": "code",
   "execution_count": null,
   "metadata": {},
   "outputs": [],
   "source": [
    "# Explique qué diferencias hay entre éste método y el anterior\n",
    "sumita = lambda arg1,arg2: arg1+arg2"
   ]
  },
  {
   "cell_type": "code",
   "execution_count": null,
   "metadata": {},
   "outputs": [],
   "source": [
    "a = 6\n",
    "b = 3\n",
    "s = sumita(a,b)\n",
    "print(\"la suma es:\", s)"
   ]
  },
  {
   "cell_type": "markdown",
   "metadata": {},
   "source": [
    "En este ejemplo, la función anónima lambda recibe dos argumentos y regresa su suma. Le hemos dado un nombre: *sumita*. Pero realmente esto no es siempre necesario. Sin embargo, muestra cómo es posible asignar una función a un objeto, para ser utilizada como una función normal.\n",
    "\n",
    "La lógica es la siguiente:\n",
    "\n",
    "* `lambda arg1,arg2: arg1+arg2` define la función anónima.\n",
    "* la función anónima es asignada al objeto sumita, con lo cual sumita será una función que hace lo mismo que la función anónima, pero ahora llamada como si fuera una función definida con `def`.\n"
   ]
  },
  {
   "cell_type": "markdown",
   "metadata": {},
   "source": [
    "## <span style=\"color:#4361EE\">Un ejemplo de programación funcional</span>\n"
   ]
  },
  {
   "cell_type": "markdown",
   "metadata": {},
   "source": [
    "Observe detenidamente el siguiente fragmento de código."
   ]
  },
  {
   "cell_type": "code",
   "execution_count": null,
   "metadata": {},
   "outputs": [],
   "source": [
    "# Explicar adecuadamente\n",
    "def mifunc(n):\n",
    "    return lambda a : a * n "
   ]
  },
  {
   "cell_type": "code",
   "execution_count": null,
   "metadata": {},
   "outputs": [],
   "source": [
    "midoblador = mifunc(2)"
   ]
  },
  {
   "cell_type": "code",
   "execution_count": null,
   "metadata": {},
   "outputs": [],
   "source": [
    "print(midoblador(11))"
   ]
  },
  {
   "cell_type": "markdown",
   "metadata": {},
   "source": [
    "La lógica es la siguiente:\n",
    "\n",
    "* La función *mifunc* regresa otra función que tendrá un valor predefinido, llamado aquí *n*. Esa función se usa para definir otra función que recibirá un parámetro *a* para multiplicarlo por *n*.\n",
    "* Cuando hacemos la asignación `midoblador = mifunc(2)` se ha definido una nueva función que se llamará *midoblador*. la cual recibirá un argumento y lo multiplicará por 2 (el valor de *n*)"
   ]
  },
  {
   "cell_type": "markdown",
   "metadata": {},
   "source": [
    "### <span style=\"color:#4CC9F0\">Ejercicio</span>"
   ]
  },
  {
   "cell_type": "markdown",
   "metadata": {},
   "source": [
    "Estudie detenidamente  el ejemplo anterior y construya un ejemplo propio."
   ]
  },
  {
   "attachments": {},
   "cell_type": "markdown",
   "metadata": {},
   "source": [
    "## <span style=\"color:#4361EE\">Programación Funcional. Concepto clave</span>\n",
    "\n",
    "<!--\n",
    "Esta sección es una adaptación de [geeksforgeeks](https://www.geeksforgeeks.org/functional-programming-in-python/#:~:text=Functional%20programming%20is%20a%20programming,is%20%E2%80%9Chow%20to%20solve%E2%80%9C.).\n",
    "-->"
   ]
  },
  {
   "cell_type": "markdown",
   "metadata": {},
   "source": [
    "### <span style=\"color:#4CC9F0\">Funciones Puras</span>\n"
   ]
  },
  {
   "cell_type": "markdown",
   "metadata": {},
   "source": [
    "Las funciones puras tienen dos propiedades.\n",
    "\n",
    "- Siempre produce la misma salida para los mismos argumentos. Por ejemplo, 3 + 7 siempre será 10 pase lo que pase.\n",
    "- No cambia ni modifica la variable de entrada.\n",
    "\n",
    "La segunda propiedad también se conoce como inmutabilidad. El único resultado de la función pura es el valor que devuelve. Son deterministas. Los programas realizados mediante programación funcional son fáciles de depurar porque las funciones puras no tienen efectos secundarios ni E/S ocultas. Las funciones puras también facilitan la escritura de aplicaciones paralelas/concurrentes. \n",
    "\n",
    "Cuando el código está escrito en este estilo, un compilador inteligente puede hacer muchas cosas: puede paralelizar las instrucciones, esperar a evaluar los resultados cuando los necesite y memorizar los resultados, ya que los resultados nunca cambian mientras la entrada no cambie.\n",
    "\n",
    "\n",
    "Revise el siguiente ejemplo. "
   ]
  },
  {
   "cell_type": "code",
   "execution_count": null,
   "metadata": {},
   "outputs": [],
   "source": [
    "# Ejemplo de una función pura\n",
    "def elevado_a_un_numero_entero_positivo_V1(base, exponente_natural):\n",
    "    if exponente_natural>=1 and isinstance(exponente_natural,int):\n",
    "        resultado = base\n",
    "        while exponente_natural > 1:\n",
    "            resultado = resultado * base\n",
    "            exponente_natural = exponente_natural - 1\n",
    "        return resultado\n",
    "    else:\n",
    "        raise Exception('exponente_natural debe ser de tipo entero y mayor o igual a 1: ' + str(exponente_natural))"
   ]
  },
  {
   "cell_type": "code",
   "execution_count": null,
   "metadata": {},
   "outputs": [],
   "source": [
    "# La función en acción:\n",
    "entrada1 = -1.234\n",
    "entrada2 = 3\n",
    "salida = elevado_a_un_numero_entero_positivo_V1(entrada1, entrada2)\n",
    "print(salida)\n",
    "# Para comparar:\n",
    "print(entrada1**entrada2)"
   ]
  },
  {
   "cell_type": "markdown",
   "metadata": {},
   "source": [
    "### <span style=\"color:#4CC9F0\">Recursión</span>\n"
   ]
  },
  {
   "cell_type": "markdown",
   "metadata": {},
   "source": [
    "En la programación funcional, no existe el concepto de bucle `for` o bucle `while`, sino que se utiliza la recursividad. **)."
   ]
  },
  {
   "cell_type": "markdown",
   "metadata": {},
   "source": [
    "Para comprender la recursividad se deben tener en cuenta las siguientes premisas:\n",
    "\n",
    "* Un método recursivo debe establecer la condición o condiciones de salida.\n",
    "* Cada llamada recursiva debe aproximar hacia el cumplimiento de la o las condiciones de salida.\n",
    "* Cuando se llama a un procedimiento o función los parámetros y las variables locales toman nuevos valores, y el procedimiento o función trabaja con estos nuevos valores y no con los de anteriores llamadas.\n",
    "* Cada vez que se llama a un procedimiento o función los parámetros de entrada y variables locales son almacenados en las siguientes posiciones libres de memoria y cuando termina la ejecución del procedimiento o función son accedidos en orden inverso a como se introdujeron.\n",
    "* El espacio requerido para almacenar los valores crece conforme a los niveles de anidamiento de las llamadas.\n",
    "* La recursividad puede ser directa e indirecta. La recursividad indirecta se produce cuando un procedimiento o función hace referencia a otro el cual contiene, a su vez, una referencia directa o indirecta al primero."
   ]
  },
  {
   "cell_type": "markdown",
   "metadata": {},
   "source": [
    "**Una solución recursiva es aquella en donde una función se llama a sí misma**. La idea es que en cada llamado el problema a resolver se reduzca y los múltiples llamados terminen cuando se alcancen los casos triviales o más pequeños posibles. Para una solución recursiva es muy importante que efectivamente haya una reducción del problema en cada llamado y que se tenga al menos una condición de parada.\n",
    "\n",
    "Una **solución recursiva** es ventajosa **cuando la misma naturaleza del problema a resolver es recursiva** (por ejemplo, el manejo de estructuras de árbol). Una solución recursiva podría considerarse más elegante y con menos líneas de código que una solución iterativa (lo cual podría facilitar la escritura y lectura del código). Por otra parte, también es una solución más adecuada **cuando se trabaja bajo el paradigma de programación funcional**.\n",
    "\n",
    "Una desventaja de la **recursión** es que suele ser **menos eficiente**, es decir, computacionalmente más costosa que la solución iterativa, especialmente **bajo el paradigma de programación imperativa procedimental estructurada** (bajo dicho paradigma, siempre que sea posible, **se debe optar por una solución iterativa para poder lograr un menor tiempo de procesamiento y un menor uso de memoria**)."
   ]
  },
  {
   "cell_type": "code",
   "execution_count": null,
   "metadata": {},
   "outputs": [],
   "source": [
    "# Ejemplo de una función recursiva\n",
    "def elevado_a_un_numero_entero_positivo_V2(base, exponente_natural):\n",
    "    if exponente_natural>=1 and isinstance(exponente_natural,int):\n",
    "        if exponente_natural == 1:\n",
    "            resultado = base\n",
    "        else:\n",
    "            resultado = base*elevado_a_un_numero_entero_positivo_V2(base, exponente_natural-1)\n",
    "        return resultado\n",
    "    else:\n",
    "        raise Exception('exponente_natural debe ser de tipo entero y mayor o igual a 1: ' + str(exponente_natural))"
   ]
  },
  {
   "cell_type": "code",
   "execution_count": null,
   "metadata": {},
   "outputs": [],
   "source": [
    "# La función en acción:\n",
    "entrada1 = -1.234\n",
    "entrada2 = 3\n",
    "salida = elevado_a_un_numero_entero_positivo_V2(entrada1, entrada2)\n",
    "print(salida)\n",
    "# Para comparar:\n",
    "print(entrada1**entrada2)"
   ]
  },
  {
   "cell_type": "markdown",
   "metadata": {},
   "source": [
    "## <span style=\"color:#4361EE\">Las funciones son de primera clase y pueden ser de orden superior</span>\n"
   ]
  },
  {
   "cell_type": "markdown",
   "metadata": {},
   "source": [
    "### <span style=\"color:#4CC9F0\">Objetos de primera clase</span>"
   ]
  },
  {
   "cell_type": "markdown",
   "metadata": {},
   "source": [
    "Los objetos de primera clase se manejan uniformemente en todo momento. Pueden almacenarse en estructuras de datos, pasarse como argumentos o usarse en estructuras de control. Se dice que un lenguaje de programación admite funciones de primera clase si trata las funciones como objetos de primera clase."
   ]
  },
  {
   "cell_type": "markdown",
   "metadata": {},
   "source": [
    "### <span style=\"color:#4CC9F0\">Propiedades de las funciones de primera clase</span>"
   ]
  },
  {
   "cell_type": "markdown",
   "metadata": {},
   "source": [
    "- Una función es una instancia del tipo de objeto.\n",
    "- Puede almacenar la función en una variable.\n",
    "- Puede pasar la función como parámetro a otra función.\n",
    "- Puede devolver la función desde una función.\n",
    "- Puede almacenarlas en estructuras de datos como tablas hash, listas,…"
   ]
  },
  {
   "cell_type": "markdown",
   "metadata": {},
   "source": [
    "### <span style=\"color:#4CC9F0\">Funciones de orden superior</span>\n",
    "\n",
    "Toda función que dentro de sus parámetros tienen al menos una función o que devuelven una función (en ese \"o\" está incluido \"o ambas\") es y se denomina una *función de orden superior*."
   ]
  },
  {
   "cell_type": "markdown",
   "metadata": {},
   "source": [
    "### <span style=\"color:#4CC9F0\">Ejemplos</span>"
   ]
  },
  {
   "cell_type": "code",
   "execution_count": null,
   "metadata": {},
   "outputs": [],
   "source": [
    "def shout(text):\n",
    "    return text.upper()\n",
    "\n",
    "def whisper(text):\n",
    "    return text.lower()\n",
    "\n",
    "def greet(func):\n",
    "    # almacena la función en una variable\n",
    "    greeting = func(\"Hola, soy creada por una función pasada como argumento.\")\n",
    "    print(greeting)\n",
    "\n",
    "greet(shout)\n",
    "greet(whisper)"
   ]
  },
  {
   "cell_type": "markdown",
   "metadata": {},
   "source": [
    "La siguiente función `aplico_funcion_a_valor()` es una función de orden superior que aceptará como primer parámetro a una función que tenga un solo parámetro obligatorio."
   ]
  },
  {
   "cell_type": "code",
   "execution_count": null,
   "metadata": {},
   "outputs": [],
   "source": [
    "def aplico_funcion_a_valor(f, x):\n",
    "    return f(x)\n",
    "\n",
    "def al_cuadrado(x):\n",
    "    return x*x\n",
    "\n",
    "def mas_uno(x):\n",
    "    return x+1\n",
    "\n",
    "def por_cinco(x):\n",
    "    return 5*x\n",
    "\n",
    "def saludo(x):\n",
    "    return \"Hola \" + str(x)\n",
    "\n",
    "variable = 10\n",
    "print(\"aplico_funcion_a_valor(al_cuadrado, 10):\\t\", aplico_funcion_a_valor(al_cuadrado, variable))\n",
    "print(\"aplico_funcion_a_valor(por_cinco, 10):\\t\\t\", aplico_funcion_a_valor(por_cinco, variable))\n",
    "print(\"aplico_funcion_a_valor(mas_uno, 10):\\t\\t\", aplico_funcion_a_valor(mas_uno, variable))\n",
    "print('aplico_funcion_a_valor(saludo, \"a todos\"):\\t', aplico_funcion_a_valor(saludo, \"a todos\"))\n",
    "print(\"aplico_funcion_a_valor(saludo, 10):\\t\\t\", aplico_funcion_a_valor(saludo, variable))"
   ]
  },
  {
   "attachments": {},
   "cell_type": "markdown",
   "metadata": {},
   "source": [
    "Las *funciones de orden superior* permiten implementar soluciones computacionales que de cierta manera están más cerca del paradigma de programación funcional. Sin embargo, también pueden llegar a ser muy útiles bajo el paradigma imperativo procedimental estructurado o el orientado a objetos.\n",
    "\n",
    "<!--\n",
    "### <span style=\"color:#4CC9F0\">Funciones integradas de orden superior</span>\n",
    "\n",
    "Para facilitar mucho el procesamiento de objetos iterables como listas e iteradores, Python ha implementado algunas funciones de orden superior de uso común. Estas funciones devuelven un iterador que ahorra espacio. Algunas de las funciones integradas de orden superior son:\n",
    "\n",
    "* *map()*: la función *map()* devuelve una lista de los resultados después de aplicar la función dada a cada elemento de un iterable dado (lista, tupla, etc.)\n",
    "* *filter()*: El método *filter()* filtra la secuencia dada con la ayuda de una función que prueba que cada elemento de la secuencia sea verdadero o no.\n",
    "\n",
    "Veamos los siguientes dos ejemplos que ilustran *map()* y *filter()*.\n",
    "\n",
    "# Ejemplo del uso de map()\n",
    "\n",
    "# Retorna el doble de n\n",
    "def addition(n):\n",
    "    return n + n\n",
    "\n",
    "# doblamos todos los valores de una lista usando map\n",
    "numbers = (1, 2, 3, 4)\n",
    "results = map(addition, numbers)\n",
    "\n",
    "#  Print no imprime los resultados\n",
    "# porque se recibe un iterable\n",
    "print(results)\n",
    "\n",
    "# Asi recuperamos del iterable los valores e imprimimos\n",
    "for result in results:\n",
    "    print(result, end = \" \")\n",
    "\n",
    "\n",
    "# Ejemplo de uso de filter()\n",
    "\n",
    "# función que filtra las vocales en una lista\n",
    "def vocal(variable):\n",
    "\n",
    "    letters = ['a', 'e', 'i', 'o', 'u']\n",
    "\n",
    "    if (variable in letters):\n",
    "        return True\n",
    "    else:\n",
    "        return False\n",
    "\n",
    "\n",
    "# secuencia\n",
    "sequence = ['g', 'e', 'e', 'j', 'k', 's', 'i', 'r']\n",
    "\n",
    "# uso de la función filter\n",
    "filtered = filter(vocal, sequence)\n",
    "\n",
    "print('Las letras filtradas son:')\n",
    "\n",
    "for s in filtered:\n",
    "    print(s)\n",
    "\n",
    "\n",
    "### <span style=\"color:#4CC9F0\">Función functools.reduce</span>\n",
    "\n",
    "La función `reduce` es una función de orden superior que se usa para aplicar una función particular pasada en su argumento a todos los elementos de la lista mencionados en la secuencia pasada. Esta función se define en el módulo \"functools\" del kernel de Python.\n",
    "\n",
    "Como funnciona:\n",
    "\n",
    "* En el primer paso, se seleccionan los dos primeros elementos de la secuencia y se obtiene el resultado.\n",
    "* El siguiente paso es aplicar la misma función al resultado obtenido anteriormente y el número que sigue al segundo elemento y el resultado se almacena nuevamente.\n",
    "\n",
    "Este proceso continúa hasta que no quedan más elementos en el contenedor. El resultado final devuelto se devuelve y se imprime en la consola.\n",
    "\n",
    "Revise el siguiente ejemplo. El primer ejemplo calcula la suma de una lista y el segundo extrae el mayor valor en la lista\n",
    "\n",
    "# código python para ilustrar como trabaja reduce()\n",
    " \n",
    "# importar functools para disponer de reduce()\n",
    "import functools\n",
    " \n",
    "# lista a procesar\n",
    "lis = [1, 3, 5, 6, 2]\n",
    " \n",
    "# suma de  la lista\n",
    "print(\"La suma de los elementos de la lista es : \", end=\"\")\n",
    "print(functools.reduce(lambda a, b: a+b, lis))\n",
    " \n",
    "# elemento máximo de la lista\n",
    "print(\"El elemento máximo de la lista es : \", end=\"\")\n",
    "print(functools.reduce(lambda a, b: a if a > b else b, lis))\n",
    "\n",
    "### <span style=\"color:#4CC9F0\">Ejercicio</span>\n",
    "\n",
    "Cree su propio ejemplo con reduce, para calcular el producto y el elemento menor de la lista.\n",
    "\n",
    "## <span style=\"color:#4361EE\">Ejercicio</span>\n",
    "\n",
    "1. Esta función recibe como entrada una cadena y devuelve un valor booleano que indica si la cadena es un palíndromo o no. Para hacer esto, convierte la cadena a minúsculas, elimina los espacios en blanco y compara la cadena original con su versión invertida utilizando la sintaxis [::-1] para invertir una cadena. Si las dos cadenas son iguales, la función devuelve True, de lo contrario, devuelve False.\n",
    "\n",
    "<!--\n",
    "def es_palindromo(cadena):\n",
    "    cadena = cadena.lower()\n",
    "    cadena = cadena.replace(\" \", \"\")\n",
    "    return cadena == cadena[::-1]\n",
    "-->"
   ]
  },
  {
   "cell_type": "markdown",
   "metadata": {},
   "source": [
    "## <span style=\"color:#4361EE\">Ejercicio</span>"
   ]
  },
  {
   "cell_type": "markdown",
   "metadata": {},
   "source": [
    "1. Describa lo que hace la siguiente función ¿Se le hace familiar en algún aspecto? ¿Qué nombre le pondría en vez de `devuelve_funcion`?"
   ]
  },
  {
   "cell_type": "code",
   "execution_count": null,
   "metadata": {},
   "outputs": [],
   "source": [
    "def devuelve_funcion(f, eps_0 = 1e-12):\n",
    "  def dnumf(x, eps = eps_0):\n",
    "    xpos = abs(x)\n",
    "    h = eps**0.5 if xpos <= 1 else (eps**0.5) * xpos\n",
    "    xph = x + h\n",
    "    dx = xph - x\n",
    "    y = (f(xph) - f(x)) / dx\n",
    "    return y\n",
    "  return dnumf"
   ]
  },
  {
   "cell_type": "markdown",
   "metadata": {},
   "source": [
    "2. Escriba un código que permita ver la función `devuelve_funcion` en acción"
   ]
  },
  {
   "cell_type": "code",
   "execution_count": null,
   "metadata": {},
   "outputs": [],
   "source": []
  },
  {
   "cell_type": "markdown",
   "metadata": {},
   "source": [
    "3. ¿Cómo podría verificar que la función `devuelve_funcion` está funcionando correctamente? ¿se le ocurre algún código que le permita hacer una comparación de resultados?"
   ]
  },
  {
   "cell_type": "code",
   "execution_count": null,
   "metadata": {},
   "outputs": [],
   "source": []
  }
 ],
 "metadata": {
  "celltoolbar": "Tags",
  "colab": {
   "collapsed_sections": [
    "-MlSHN16Bg8-",
    "scclT03UHVrm",
    "qAqnr4i70sLy",
    "IUFSujLR2-Rl",
    "ivDxEY5J3EXW",
    "6YvlIG-G6o2Z",
    "Tjq46qsVQ1F9",
    "GPiu4RLJUzVj",
    "dTnOKPXFUzVs",
    "P8eMjQnDI1Eg",
    "i9HdDU49UzWK",
    "y012FyjJPR1O",
    "iDjs_eszUzW0",
    "IpXs0nQNOWpv",
    "2xb_O2GUUzXF"
   ],
   "name": "Intro_Python.ipynb",
   "provenance": []
  },
  "kernelspec": {
   "display_name": "Python 3 (ipykernel)",
   "language": "python",
   "name": "python3"
  },
  "language_info": {
   "codemirror_mode": {
    "name": "ipython",
    "version": 3
   },
   "file_extension": ".py",
   "mimetype": "text/x-python",
   "name": "python",
   "nbconvert_exporter": "python",
   "pygments_lexer": "ipython3",
   "version": "3.11.3"
  },
  "toc": {
   "base_numbering": 1,
   "nav_menu": {},
   "number_sections": false,
   "sideBar": true,
   "skip_h1_title": false,
   "title_cell": "Table of Contents",
   "title_sidebar": "Contents",
   "toc_cell": false,
   "toc_position": {},
   "toc_section_display": true,
   "toc_window_display": false
  },
  "vscode": {
   "interpreter": {
    "hash": "cf92aa13fedf815d5c8dd192b8d835913fde3e8bc926b2a0ad6cc74ef2ba3ca2"
   }
  }
 },
 "nbformat": 4,
 "nbformat_minor": 4
}
