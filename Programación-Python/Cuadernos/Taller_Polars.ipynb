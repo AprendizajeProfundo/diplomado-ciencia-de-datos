{
 "cells": [
  {
   "cell_type": "markdown",
   "metadata": {},
   "source": [
    "<div style=\"display: flex; align-items: center;\">\n",
    "    <img src=\"../Imagenes/logo-final-ap.png\" alt=\"Logo\" width=\"150\" height=\"150\" style=\"margin-right: 10px;\">\n",
    "    <h1 style=\"color:#4361EE; text-align: right;\">Aprendizaje Profundo</h1>\n",
    "</div>"
   ]
  },
  {
   "cell_type": "markdown",
   "metadata": {},
   "source": [
    "# <span style=\"color:red\"><center>Diplomado en Ciencia de datos</center></span>"
   ]
  },
  {
   "cell_type": "markdown",
   "metadata": {},
   "source": [
    "# <span style=\"color:blue\"><center>Librería Polars</center></span>\n"
   ]
  },
  {
   "cell_type": "markdown",
   "metadata": {},
   "source": [
    "<img src=\"../Imagenes/polar-bear-ice-arctic-white-162320.jpeg\" alt=\"Descripción de la imagen\" width=\"900\" height=\"500\">"
   ]
  },
  {
   "cell_type": "markdown",
   "metadata": {},
   "source": [
    "Fuente: [Pexels: Pixabay](https://www.pexels.com/es-es/foto/oso-polar-blanco-en-campo-cubierto-de-nieve-blanca-cerca-del-canal-durante-el-dia-162320/)"
   ]
  },
  {
   "cell_type": "markdown",
   "metadata": {},
   "source": [
    "## <span style=\"color:#4361EE\">Profesores</span>"
   ]
  },
  {
   "cell_type": "markdown",
   "metadata": {},
   "source": [
    "1. Alvaro  Montenegro, PhD, ammontenegrod@unal.edu.co\n",
    "1. Camilo José Torres Jiménez, Msc, cjtorresj@unal.edu.co\n",
    "1. Daniel  Montenegro, Msc, dextronomo@gmail.com\n",
    "1. Campo Elías Pardo Turriago, cepardot@unal.edu.co"
   ]
  },
  {
   "cell_type": "markdown",
   "metadata": {},
   "source": [
    "## <span style=\"color:#4361EE\">Asesora Medios y Marketing digital</span>"
   ]
  },
  {
   "cell_type": "markdown",
   "metadata": {},
   "source": [
    "4. Maria del Pilar Montenegro, pmontenegro88@gmail.com\n",
    "5. Jessica López Mejía, jelopezme@unal.edu.co"
   ]
  },
  {
   "cell_type": "markdown",
   "metadata": {},
   "source": [
    "## <span style=\"color:#4361EE\">Jefe Jurídica</span>"
   ]
  },
  {
   "cell_type": "markdown",
   "metadata": {},
   "source": [
    "6. Paula Andrea Guzmán, guzmancruz.paula@gmail.com"
   ]
  },
  {
   "cell_type": "markdown",
   "metadata": {},
   "source": [
    "## <span style=\"color:#4361EE\">Coordinador Jurídico</span>"
   ]
  },
  {
   "cell_type": "markdown",
   "metadata": {},
   "source": [
    "7. David Fuentes, fuentesd065@gmail.com"
   ]
  },
  {
   "cell_type": "markdown",
   "metadata": {},
   "source": [
    "## <span style=\"color:#4361EE\">Desarrolladores Principales</span>"
   ]
  },
  {
   "cell_type": "markdown",
   "metadata": {},
   "source": [
    "8. Dairo Moreno, damoralesj@unal.edu.co\n",
    "9. Joan Castro, jocastroc@unal.edu.co\n",
    "10. Bryan Riveros, briveros@unal.edu.co\n",
    "11. Rosmer Vargas, rovargasc@unal.edu.co\n",
    "12. Venus Puertas, vpuertasg@unal.edu.co\n",
    "13. Daniel Rojas, anrojasor@unal.edu.co"
   ]
  },
  {
   "cell_type": "markdown",
   "metadata": {},
   "source": [
    "## <span style=\"color:#4361EE\">Expertos en Bases de Datos</span>"
   ]
  },
  {
   "cell_type": "markdown",
   "metadata": {},
   "source": [
    "13. Giovvani Barrera, udgiovanni@gmail.com\n",
    "14. Camilo Chitivo, cchitivo@unal.edu.co"
   ]
  },
  {
   "cell_type": "markdown",
   "metadata": {},
   "source": [
    "## <span style=\"color:#4361EE\">Introducción a la Librería Polars</span>"
   ]
  },
  {
   "cell_type": "markdown",
   "metadata": {},
   "source": [
    "Polars es una librería de manipulación de datos de alto rendimiento diseñada para trabajar con conjuntos de datos grandes y complejos en Python. Se inspira en la sintaxis y la funcionalidad de pandas, pero con la ventaja de una mayor eficiencia y velocidad en operaciones sobre grandes volúmenes de datos.\n",
    "\n",
    "Polars está construido sobre la librería Rust, lo que le confiere una ventaja significativa en términos de rendimiento en comparación con otras librerías de Python, que están implementadas en C o en Python puro. Esta combinación de facilidad de uso y velocidad hace que Polars sea una excelente opción para aquellos casos en los que la velocidad de procesamiento es esencial."
   ]
  },
  {
   "cell_type": "markdown",
   "metadata": {},
   "source": [
    "### Ventajas de Polars\n",
    "\n",
    "- **Rendimiento Superior**: Gracias a su implementación en Rust, Polars supera a pandas y otras librerías de Python en términos de velocidad y eficiencia en la manipulación de grandes conjuntos de datos. Es especialmente adecuado para el procesamiento de datos a escala.\n",
    "\n",
    "- **Expresividad y Simplicidad**: Polars ofrece una sintaxis similar a pandas, lo que facilita la transición para aquellos que ya están familiarizados con esta librería. Sin embargo, también proporciona una serie de características adicionales que mejoran la experiencia de usuario y la expresividad del código.\n",
    "\n",
    "- **Operaciones Paralelizadas**: Polars aprovecha el poder del procesamiento paralelo para acelerar las operaciones, lo que resulta en un mejor rendimiento en sistemas con múltiples núcleos o CPUs.\n",
    "\n",
    "- **Uso Eficiente de Memoria**: Polars está diseñado para ser eficiente en el uso de memoria, lo que permite manejar grandes conjuntos de datos sin agotar los recursos.\n",
    "\n",
    "### Diferencias con otras librerías\n",
    "\n",
    "Aunque Polars comparte similitudes con pandas y otras librerías de manipulación de datos, existen algunas diferencias importantes que es importante tener en cuenta:\n",
    "\n",
    "- **Rendimiento**: La principal diferencia y ventaja de Polars radica en su rendimiento superior. Mientras que pandas es una excelente opción para tareas de manipulación de datos regulares, Polars brilla en situaciones donde la velocidad y el procesamiento de grandes conjuntos de datos son fundamentales.\n",
    "\n",
    "- **Librería Multilingüe**: Aunque Polars está diseñado principalmente para Python, también está disponible en otros lenguajes como Rust y JavaScript. Esto permite que los usuarios puedan compartir código y utilizar Polars en múltiples plataformas.\n",
    "\n",
    "En el siguiente apartado, veremos cómo instalar la librería Polars y los requisitos necesarios para comenzar a utilizarla en nuestro entorno de desarrollo."
   ]
  },
  {
   "cell_type": "markdown",
   "metadata": {},
   "source": [
    "## <span style=\"color:#4361EE\">Instalación e importación</span>"
   ]
  },
  {
   "cell_type": "markdown",
   "metadata": {},
   "source": [
    "Polars puede ser instalada usando pip:\n",
    "\n",
    "```\n",
    "$ pip install polars\n",
    "```\n",
    "\n",
    "O conda:\n",
    "```\n",
    "$ conda install -c conda-forge polars\n",
    "\n",
    "```\n",
    "\n",
    "Posteriormente podemos importar la librería de la siguiente manera:"
   ]
  },
  {
   "cell_type": "code",
   "execution_count": 1,
   "metadata": {},
   "outputs": [],
   "source": [
    "import polars as pl"
   ]
  },
  {
   "cell_type": "markdown",
   "metadata": {},
   "source": [
    "## <span style=\"color:#4361EE\">Importación de datos</span>"
   ]
  },
  {
   "cell_type": "markdown",
   "metadata": {},
   "source": [
    "En Polars, existen múltiples opciones para importar datos desde diferentes fuentes en forma de DataFrames. La librería ofrece funciones integradas para cargar datos desde formatos comunes como CSV, JSON, parquet y más. Además, Polars puede manejar datos almacenados en sistemas distribuidos, lo que permite cargar datos de manera eficiente desde almacenamientos en la nube, como S3 o GCS. La versatilidad de Polars en cuanto a opciones de formato de importación proporciona a los usuarios la flexibilidad necesaria para trabajar con distintos tipos de datos y fuentes, facilitando así la manipulación y análisis de información en una amplia gama de escenarios.\n",
    "\n",
    "Algunos ejemplos para la importación de datos son los siguientes:\n",
    "\n",
    "### Importación desde CSV:\n",
    "1. `pl.read_csv(path, **kwargs)`: Esta función permite cargar datos desde un archivo CSV ubicado en la ruta especificada por `path`. Se pueden pasar varios argumentos adicionales para personalizar la importación, como `sep` para especificar el delimitador, `infer_schema` para inferir automáticamente el esquema de datos, y más.\n",
    "\n",
    "### Importación desde Excel:\n",
    "1. `pl.read_excel(path, sheet_name=None, **kwargs)`: Esta función permite cargar datos desde un archivo de Excel (.xlsx) ubicado en la ruta especificada por `path`. Si el archivo tiene múltiples hojas, se puede especificar la hoja a cargar mediante `sheet_name`. También se pueden usar otros argumentos para personalizar la importación, como `infer_schema` para inferir automáticamente el esquema de datos.\n",
    "\n",
    "### Importación desde Google Drive:\n",
    "1. `pl.read_csv_from_google_storage(url, **kwargs)`: Esta función permite cargar datos directamente desde un archivo CSV almacenado en Google Drive. El argumento `url` debe contener el enlace de compartición público del archivo CSV. Se pueden utilizar argumentos adicionales para personalizar la importación, como `sep` para especificar el delimitador y `infer_schema` para inferir automáticamente el esquema de datos."
   ]
  },
  {
   "cell_type": "markdown",
   "metadata": {},
   "source": [
    "### <span style=\"color:#4361EE\">Primeros pasos</span>"
   ]
  },
  {
   "cell_type": "markdown",
   "metadata": {},
   "source": [
    "Después de ejecutar esta línea de código, los datos contenidos en el archivo \"counties.xlsx\" estarán disponibles en la variable \"counties\", y podrán ser manipulados y analizados utilizando las funciones y métodos proporcionados por la librería polars."
   ]
  },
  {
   "cell_type": "code",
   "execution_count": 2,
   "metadata": {},
   "outputs": [],
   "source": [
    "counties = pl.read_excel(\"../Datos/counties.xlsx\") "
   ]
  },
  {
   "cell_type": "markdown",
   "metadata": {},
   "source": [
    "Veámos el contenido de la variable counties"
   ]
  },
  {
   "cell_type": "code",
   "execution_count": 3,
   "metadata": {},
   "outputs": [
    {
     "data": {
      "text/html": [
       "<div><style>\n",
       ".dataframe > thead > tr > th,\n",
       ".dataframe > tbody > tr > td {\n",
       "  text-align: right;\n",
       "}\n",
       "</style>\n",
       "<small>shape: (3_234, 5)</small><table border=\"1\" class=\"dataframe\"><thead><tr><th>codestate</th><th>codecounty</th><th>county</th><th>population</th><th>area</th></tr><tr><td>i64</td><td>i64</td><td>str</td><td>i64</td><td>f64</td></tr></thead><tbody><tr><td>1</td><td>1001</td><td>&quot;Auta#%&amp;()uga &quot;</td><td>54571</td><td>594.436</td></tr><tr><td>1</td><td>1003</td><td>&quot;Baldwin#%&amp;()  …</td><td>182265</td><td>1589.784</td></tr><tr><td>1</td><td>1005</td><td>&quot;Barbour &quot;</td><td>27457</td><td>884.876</td></tr><tr><td>1</td><td>1007</td><td>&quot;Bi#%&amp;()bb &quot;</td><td>22915</td><td>622.582</td></tr><tr><td>1</td><td>1009</td><td>&quot;Blount  ?     …</td><td>57322</td><td>644.776</td></tr><tr><td>1</td><td>1011</td><td>&quot;Bull#%&amp;()ock &quot;</td><td>10914</td><td>622.805</td></tr><tr><td>1</td><td>1013</td><td>&quot;   ; Butler &quot;</td><td>20947</td><td>776.829</td></tr><tr><td>1</td><td>1015</td><td>&quot;Calhoun &quot;</td><td>118572</td><td>605.868</td></tr><tr><td>1</td><td>1017</td><td>&quot;   ; Chambers …</td><td>34215</td><td>596.531</td></tr><tr><td>1</td><td>1019</td><td>&quot;Cherokee &quot;</td><td>25989</td><td>553.7</td></tr><tr><td>1</td><td>1021</td><td>&quot;   ; Chilton &quot;</td><td>43643</td><td>692.854</td></tr><tr><td>1</td><td>1023</td><td>&quot;Choctaw &quot;</td><td>13859</td><td>913.5</td></tr><tr><td>&hellip;</td><td>&hellip;</td><td>&hellip;</td><td>&hellip;</td><td>&hellip;</td></tr><tr><td>72</td><td>72137</td><td>&quot;Toa #%&amp;()Baja …</td><td>89609</td><td>23.241</td></tr><tr><td>72</td><td>72139</td><td>&quot;Trujillo Alto …</td><td>74842</td><td>20.764</td></tr><tr><td>72</td><td>72141</td><td>&quot;Utua_do  ?    …</td><td>33149</td><td>113.529</td></tr><tr><td>72</td><td>72143</td><td>&quot;Vega_ #%&amp;()Alt…</td><td>39951</td><td>27.728</td></tr><tr><td>72</td><td>72145</td><td>&quot;Vega #%&amp;()Baja…</td><td>59662</td><td>45.856</td></tr><tr><td>72</td><td>72147</td><td>&quot;   ; Vieques  …</td><td>9301</td><td>50.768</td></tr><tr><td>72</td><td>72149</td><td>&quot;   ; Villa_lba…</td><td>26073</td><td>35.637</td></tr><tr><td>72</td><td>72151</td><td>&quot;Yabucoa &quot;</td><td>37941</td><td>55.215</td></tr><tr><td>72</td><td>72153</td><td>&quot;Ya_uco &quot;</td><td>42043</td><td>68.192</td></tr><tr><td>78</td><td>78010</td><td>&quot;   ; St. Croix…</td><td>50601</td><td>83.345868</td></tr><tr><td>78</td><td>78020</td><td>&quot;St. John&quot;</td><td>4170</td><td>19.689867</td></tr><tr><td>78</td><td>78030</td><td>&quot;St. Thomas&quot;</td><td>51634</td><td>31.313503</td></tr></tbody></table></div>"
      ],
      "text/plain": [
       "shape: (3_234, 5)\n",
       "┌───────────┬────────────┬───────────────────────┬────────────┬───────────┐\n",
       "│ codestate ┆ codecounty ┆ county                ┆ population ┆ area      │\n",
       "│ ---       ┆ ---        ┆ ---                   ┆ ---        ┆ ---       │\n",
       "│ i64       ┆ i64        ┆ str                   ┆ i64        ┆ f64       │\n",
       "╞═══════════╪════════════╪═══════════════════════╪════════════╪═══════════╡\n",
       "│ 1         ┆ 1001       ┆ Auta#%&()uga          ┆ 54571      ┆ 594.436   │\n",
       "│ 1         ┆ 1003       ┆ Baldwin#%&()  ?       ┆ 182265     ┆ 1589.784  │\n",
       "│ 1         ┆ 1005       ┆ Barbour               ┆ 27457      ┆ 884.876   │\n",
       "│ 1         ┆ 1007       ┆ Bi#%&()bb             ┆ 22915      ┆ 622.582   │\n",
       "│ …         ┆ …          ┆ …                     ┆ …          ┆ …         │\n",
       "│ 72        ┆ 72153      ┆ Ya_uco                ┆ 42043      ┆ 68.192    │\n",
       "│ 78        ┆ 78010      ┆    ; St. Croix ?      ┆ 50601      ┆ 83.345868 │\n",
       "│ 78        ┆ 78020      ┆ St. John              ┆ 4170       ┆ 19.689867 │\n",
       "│ 78        ┆ 78030      ┆ St. Thomas            ┆ 51634      ┆ 31.313503 │\n",
       "└───────────┴────────────┴───────────────────────┴────────────┴───────────┘"
      ]
     },
     "execution_count": 3,
     "metadata": {},
     "output_type": "execute_result"
    }
   ],
   "source": [
    "counties"
   ]
  },
  {
   "cell_type": "markdown",
   "metadata": {},
   "source": [
    "La siguiente línea de código, `counties.head()`, es una llamada a la función `head()` proporcionada por la librería polars. Esta función devuelve las primeras filas del DataFrame `counties`, que contiene los datos previamente cargados desde el archivo \"counties.xlsx\". Esta operación es análoga a la función `head()` de pandas, que también devuelve las primeras filas de un DataFrame en pandas. La similitud en el código entre polars y pandas radica en que ambos utilizan la misma función (`head()`) para acceder a las primeras filas del DataFrame, lo que hace que el código sea fácilmente transferible entre ambas librerías en situaciones similares."
   ]
  },
  {
   "cell_type": "code",
   "execution_count": 4,
   "metadata": {},
   "outputs": [
    {
     "data": {
      "text/html": [
       "<div><style>\n",
       ".dataframe > thead > tr > th,\n",
       ".dataframe > tbody > tr > td {\n",
       "  text-align: right;\n",
       "}\n",
       "</style>\n",
       "<small>shape: (5, 5)</small><table border=\"1\" class=\"dataframe\"><thead><tr><th>codestate</th><th>codecounty</th><th>county</th><th>population</th><th>area</th></tr><tr><td>i64</td><td>i64</td><td>str</td><td>i64</td><td>f64</td></tr></thead><tbody><tr><td>1</td><td>1001</td><td>&quot;Auta#%&amp;()uga &quot;</td><td>54571</td><td>594.436</td></tr><tr><td>1</td><td>1003</td><td>&quot;Baldwin#%&amp;()  …</td><td>182265</td><td>1589.784</td></tr><tr><td>1</td><td>1005</td><td>&quot;Barbour &quot;</td><td>27457</td><td>884.876</td></tr><tr><td>1</td><td>1007</td><td>&quot;Bi#%&amp;()bb &quot;</td><td>22915</td><td>622.582</td></tr><tr><td>1</td><td>1009</td><td>&quot;Blount  ?     …</td><td>57322</td><td>644.776</td></tr></tbody></table></div>"
      ],
      "text/plain": [
       "shape: (5, 5)\n",
       "┌───────────┬────────────┬──────────────────────┬────────────┬──────────┐\n",
       "│ codestate ┆ codecounty ┆ county               ┆ population ┆ area     │\n",
       "│ ---       ┆ ---        ┆ ---                  ┆ ---        ┆ ---      │\n",
       "│ i64       ┆ i64        ┆ str                  ┆ i64        ┆ f64      │\n",
       "╞═══════════╪════════════╪══════════════════════╪════════════╪══════════╡\n",
       "│ 1         ┆ 1001       ┆ Auta#%&()uga         ┆ 54571      ┆ 594.436  │\n",
       "│ 1         ┆ 1003       ┆ Baldwin#%&()  ?      ┆ 182265     ┆ 1589.784 │\n",
       "│ 1         ┆ 1005       ┆ Barbour              ┆ 27457      ┆ 884.876  │\n",
       "│ 1         ┆ 1007       ┆ Bi#%&()bb            ┆ 22915      ┆ 622.582  │\n",
       "│ 1         ┆ 1009       ┆ Blount  ?            ┆ 57322      ┆ 644.776  │\n",
       "└───────────┴────────────┴──────────────────────┴────────────┴──────────┘"
      ]
     },
     "execution_count": 4,
     "metadata": {},
     "output_type": "execute_result"
    }
   ],
   "source": [
    "counties.head()"
   ]
  },
  {
   "cell_type": "markdown",
   "metadata": {},
   "source": [
    "La línea de código `counties.tail(2)` muestra las últimas dos filas del DataFrame \"counties\" utilizando la librería polars. Si quisiéramos realizar una operación similar con la librería pandas, utilizaríamos el código `counties.tail(2)` también. Ambas librerías ofrecen una sintaxis y funcionalidad similar para obtener las últimas filas de un DataFrame, lo que facilita la transición entre ambas bibliotecas si ya estamos familiarizados con pandas."
   ]
  },
  {
   "cell_type": "code",
   "execution_count": 5,
   "metadata": {},
   "outputs": [
    {
     "data": {
      "text/html": [
       "<div><style>\n",
       ".dataframe > thead > tr > th,\n",
       ".dataframe > tbody > tr > td {\n",
       "  text-align: right;\n",
       "}\n",
       "</style>\n",
       "<small>shape: (2, 5)</small><table border=\"1\" class=\"dataframe\"><thead><tr><th>codestate</th><th>codecounty</th><th>county</th><th>population</th><th>area</th></tr><tr><td>i64</td><td>i64</td><td>str</td><td>i64</td><td>f64</td></tr></thead><tbody><tr><td>78</td><td>78020</td><td>&quot;St. John&quot;</td><td>4170</td><td>19.689867</td></tr><tr><td>78</td><td>78030</td><td>&quot;St. Thomas&quot;</td><td>51634</td><td>31.313503</td></tr></tbody></table></div>"
      ],
      "text/plain": [
       "shape: (2, 5)\n",
       "┌───────────┬────────────┬────────────┬────────────┬───────────┐\n",
       "│ codestate ┆ codecounty ┆ county     ┆ population ┆ area      │\n",
       "│ ---       ┆ ---        ┆ ---        ┆ ---        ┆ ---       │\n",
       "│ i64       ┆ i64        ┆ str        ┆ i64        ┆ f64       │\n",
       "╞═══════════╪════════════╪════════════╪════════════╪═══════════╡\n",
       "│ 78        ┆ 78020      ┆ St. John   ┆ 4170       ┆ 19.689867 │\n",
       "│ 78        ┆ 78030      ┆ St. Thomas ┆ 51634      ┆ 31.313503 │\n",
       "└───────────┴────────────┴────────────┴────────────┴───────────┘"
      ]
     },
     "execution_count": 5,
     "metadata": {},
     "output_type": "execute_result"
    }
   ],
   "source": [
    "counties.tail(2)"
   ]
  },
  {
   "cell_type": "markdown",
   "metadata": {},
   "source": [
    "La siguiente línea de código, `counties.describe()`, genera un resumen estadístico de los datos cargados desde el archivo \"counties.xlsx\" utilizando la librería polars. Esta función es análoga a la función `describe()` de la librería pandas, ya que ambos métodos proporcionan estadísticas descriptivas como la media, la mediana, el valor mínimo y máximo, entre otros. Sin embargo, hay una diferencia importante en cuanto al método \".info()\": mientras que en pandas, \".info()\" proporciona un resumen conciso sobre el DataFrame, incluyendo el tipo de datos y la cantidad de valores no nulos en cada columna, polars no tiene un método equivalente. En polars, para obtener información similar a \".info()\", es necesario utilizar combinaciones de funciones como \".schema()\" y \".describe()\" para obtener detalles sobre las columnas y sus tipos de datos."
   ]
  },
  {
   "cell_type": "code",
   "execution_count": 6,
   "metadata": {},
   "outputs": [
    {
     "data": {
      "text/html": [
       "<div><style>\n",
       ".dataframe > thead > tr > th,\n",
       ".dataframe > tbody > tr > td {\n",
       "  text-align: right;\n",
       "}\n",
       "</style>\n",
       "<small>shape: (9, 6)</small><table border=\"1\" class=\"dataframe\"><thead><tr><th>describe</th><th>codestate</th><th>codecounty</th><th>county</th><th>population</th><th>area</th></tr><tr><td>str</td><td>f64</td><td>f64</td><td>str</td><td>f64</td><td>f64</td></tr></thead><tbody><tr><td>&quot;count&quot;</td><td>3234.0</td><td>3234.0</td><td>&quot;3234&quot;</td><td>3234.0</td><td>3234.0</td></tr><tr><td>&quot;null_count&quot;</td><td>0.0</td><td>0.0</td><td>&quot;0&quot;</td><td>2.0</td><td>0.0</td></tr><tr><td>&quot;mean&quot;</td><td>31.441868</td><td>31544.737786</td><td>null</td><td>96796.563119</td><td>1093.361817</td></tr><tr><td>&quot;std&quot;</td><td>16.411236</td><td>16425.545223</td><td>null</td><td>308804.435992</td><td>3564.706999</td></tr><tr><td>&quot;min&quot;</td><td>1.0</td><td>1001.0</td><td>&quot;   ; #%&amp;()Amit…</td><td>17.0</td><td>0.031696</td></tr><tr><td>&quot;max&quot;</td><td>78.0</td><td>78030.0</td><td>&quot;Ziebach  ?    …</td><td>9.818605e6</td><td>145504.789</td></tr><tr><td>&quot;median&quot;</td><td>30.0</td><td>30038.0</td><td>null</td><td>26075.5</td><td>602.9775</td></tr><tr><td>&quot;25%&quot;</td><td>19.0</td><td>19039.0</td><td>null</td><td>11299.0</td><td>416.339</td></tr><tr><td>&quot;75%&quot;</td><td>46.0</td><td>46129.0</td><td>null</td><td>65707.0</td><td>913.962</td></tr></tbody></table></div>"
      ],
      "text/plain": [
       "shape: (9, 6)\n",
       "┌────────────┬───────────┬──────────────┬──────────────────┬───────────────┬─────────────┐\n",
       "│ describe   ┆ codestate ┆ codecounty   ┆ county           ┆ population    ┆ area        │\n",
       "│ ---        ┆ ---       ┆ ---          ┆ ---              ┆ ---           ┆ ---         │\n",
       "│ str        ┆ f64       ┆ f64          ┆ str              ┆ f64           ┆ f64         │\n",
       "╞════════════╪═══════════╪══════════════╪══════════════════╪═══════════════╪═════════════╡\n",
       "│ count      ┆ 3234.0    ┆ 3234.0       ┆ 3234             ┆ 3234.0        ┆ 3234.0      │\n",
       "│ null_count ┆ 0.0       ┆ 0.0          ┆ 0                ┆ 2.0           ┆ 0.0         │\n",
       "│ mean       ┆ 31.441868 ┆ 31544.737786 ┆ null             ┆ 96796.563119  ┆ 1093.361817 │\n",
       "│ std        ┆ 16.411236 ┆ 16425.545223 ┆ null             ┆ 308804.435992 ┆ 3564.706999 │\n",
       "│ min        ┆ 1.0       ┆ 1001.0       ┆    ; #%&()Amite  ┆ 17.0          ┆ 0.031696    │\n",
       "│ max        ┆ 78.0      ┆ 78030.0      ┆ Ziebach  ?       ┆ 9.818605e6    ┆ 145504.789  │\n",
       "│ median     ┆ 30.0      ┆ 30038.0      ┆ null             ┆ 26075.5       ┆ 602.9775    │\n",
       "│ 25%        ┆ 19.0      ┆ 19039.0      ┆ null             ┆ 11299.0       ┆ 416.339     │\n",
       "│ 75%        ┆ 46.0      ┆ 46129.0      ┆ null             ┆ 65707.0       ┆ 913.962     │\n",
       "└────────────┴───────────┴──────────────┴──────────────────┴───────────────┴─────────────┘"
      ]
     },
     "execution_count": 6,
     "metadata": {},
     "output_type": "execute_result"
    }
   ],
   "source": [
    "counties.describe()"
   ]
  },
  {
   "cell_type": "markdown",
   "metadata": {},
   "source": [
    "Después de cargar los datos en la variable \"counties\" con la librería polars, se imprime la forma de la base de datos utilizando el método \"shape\" que devuelve el número de filas y columnas."
   ]
  },
  {
   "cell_type": "code",
   "execution_count": 7,
   "metadata": {},
   "outputs": [
    {
     "name": "stdout",
     "output_type": "stream",
     "text": [
      "La forma de la base de datos es: (3234, 5)\n"
     ]
    }
   ],
   "source": [
    "print(\"La forma de la base de datos es:\",counties.shape)  #shape:forma de un array"
   ]
  },
  {
   "cell_type": "markdown",
   "metadata": {},
   "source": [
    "### <span style=\"color:#4361EE\">Dtype</span>"
   ]
  },
  {
   "cell_type": "markdown",
   "metadata": {},
   "source": [
    "La siguiente línea de código, `counties.dtypes`, muestra el tipo de objeto de cada columna en el DataFrame `counties`, similar a la función `dtypes` en Pandas. Luego, se utiliza `counties.describe()` para obtener estadísticas descriptivas del DataFrame, que es equivalente a `describe()` en Pandas. La similitud en este código análogo entre Polars y Pandas permite realizar tareas similares de exploración de datos. Sin embargo, en Polars, el descrf"
   ]
  },
  {
   "cell_type": "code",
   "execution_count": 8,
   "metadata": {},
   "outputs": [
    {
     "name": "stdout",
     "output_type": "stream",
     "text": [
      "\n",
      "\n",
      "shape: (9, 6)\n",
      "┌────────────┬───────────┬──────────────┬──────────────────┬───────────────┬─────────────┐\n",
      "│ describe   ┆ codestate ┆ codecounty   ┆ county           ┆ population    ┆ area        │\n",
      "│ ---        ┆ ---       ┆ ---          ┆ ---              ┆ ---           ┆ ---         │\n",
      "│ str        ┆ f64       ┆ f64          ┆ str              ┆ f64           ┆ f64         │\n",
      "╞════════════╪═══════════╪══════════════╪══════════════════╪═══════════════╪═════════════╡\n",
      "│ count      ┆ 3234.0    ┆ 3234.0       ┆ 3234             ┆ 3234.0        ┆ 3234.0      │\n",
      "│ null_count ┆ 0.0       ┆ 0.0          ┆ 0                ┆ 2.0           ┆ 0.0         │\n",
      "│ mean       ┆ 31.441868 ┆ 31544.737786 ┆ null             ┆ 96796.563119  ┆ 1093.361817 │\n",
      "│ std        ┆ 16.411236 ┆ 16425.545223 ┆ null             ┆ 308804.435992 ┆ 3564.706999 │\n",
      "│ min        ┆ 1.0       ┆ 1001.0       ┆    ; #%&()Amite  ┆ 17.0          ┆ 0.031696    │\n",
      "│ max        ┆ 78.0      ┆ 78030.0      ┆ Ziebach  ?       ┆ 9.818605e6    ┆ 145504.789  │\n",
      "│ median     ┆ 30.0      ┆ 30038.0      ┆ null             ┆ 26075.5       ┆ 602.9775    │\n",
      "│ 25%        ┆ 19.0      ┆ 19039.0      ┆ null             ┆ 11299.0       ┆ 416.339     │\n",
      "│ 75%        ┆ 46.0      ┆ 46129.0      ┆ null             ┆ 65707.0       ┆ 913.962     │\n",
      "└────────────┴───────────┴──────────────┴──────────────────┴───────────────┴─────────────┘\n"
     ]
    }
   ],
   "source": [
    "counties.dtypes #tipo de objeto en cada columna\n",
    "print(\"\\n\")\n",
    "print(counties.describe())"
   ]
  },
  {
   "cell_type": "markdown",
   "metadata": {},
   "source": [
    "### <span style=\"color:#4361EE\">Escoger columnas</span>"
   ]
  },
  {
   "cell_type": "markdown",
   "metadata": {},
   "source": [
    "Al igual que en pandas podemos ver los nombres de las columnas que existen por medio de *.columns*"
   ]
  },
  {
   "cell_type": "code",
   "execution_count": 9,
   "metadata": {},
   "outputs": [
    {
     "data": {
      "text/plain": [
       "['codestate', 'codecounty', 'county', 'population', 'area']"
      ]
     },
     "execution_count": 9,
     "metadata": {},
     "output_type": "execute_result"
    }
   ],
   "source": [
    "counties.columns"
   ]
  },
  {
   "cell_type": "markdown",
   "metadata": {},
   "source": [
    "De igual manera para escoger una columna"
   ]
  },
  {
   "cell_type": "code",
   "execution_count": 10,
   "metadata": {},
   "outputs": [
    {
     "data": {
      "text/html": [
       "<div><style>\n",
       ".dataframe > thead > tr > th,\n",
       ".dataframe > tbody > tr > td {\n",
       "  text-align: right;\n",
       "}\n",
       "</style>\n",
       "<small>shape: (3_234,)</small><table border=\"1\" class=\"dataframe\"><thead><tr><th>county</th></tr><tr><td>str</td></tr></thead><tbody><tr><td>&quot;Auta#%&amp;()uga &quot;</td></tr><tr><td>&quot;Baldwin#%&amp;()  …</td></tr><tr><td>&quot;Barbour &quot;</td></tr><tr><td>&quot;Bi#%&amp;()bb &quot;</td></tr><tr><td>&quot;Blount  ?     …</td></tr><tr><td>&quot;Bull#%&amp;()ock &quot;</td></tr><tr><td>&quot;   ; Butler &quot;</td></tr><tr><td>&quot;Calhoun &quot;</td></tr><tr><td>&quot;   ; Chambers …</td></tr><tr><td>&quot;Cherokee &quot;</td></tr><tr><td>&quot;   ; Chilton &quot;</td></tr><tr><td>&quot;Choctaw &quot;</td></tr><tr><td>&hellip;</td></tr><tr><td>&quot;Toa #%&amp;()Baja …</td></tr><tr><td>&quot;Trujillo Alto …</td></tr><tr><td>&quot;Utua_do  ?    …</td></tr><tr><td>&quot;Vega_ #%&amp;()Alt…</td></tr><tr><td>&quot;Vega #%&amp;()Baja…</td></tr><tr><td>&quot;   ; Vieques  …</td></tr><tr><td>&quot;   ; Villa_lba…</td></tr><tr><td>&quot;Yabucoa &quot;</td></tr><tr><td>&quot;Ya_uco &quot;</td></tr><tr><td>&quot;   ; St. Croix…</td></tr><tr><td>&quot;St. John&quot;</td></tr><tr><td>&quot;St. Thomas&quot;</td></tr></tbody></table></div>"
      ],
      "text/plain": [
       "shape: (3_234,)\n",
       "Series: 'county' [str]\n",
       "[\n",
       "\t\"Auta#%&()uga \"\n",
       "\t\"Baldwin#%&()  …\n",
       "\t\"Barbour \"\n",
       "\t\"Bi#%&()bb \"\n",
       "\t\"Blount  ?     …\n",
       "\t\"Bull#%&()ock \"\n",
       "\t\"   ; Butler \"\n",
       "\t\"Calhoun \"\n",
       "\t\"   ; Chambers …\n",
       "\t\"Cherokee \"\n",
       "\t\"   ; Chilton \"\n",
       "\t\"Choctaw \"\n",
       "\t…\n",
       "\t\"Toa_ #%&()Alta…\n",
       "\t\"Toa #%&()Baja …\n",
       "\t\"Trujillo Alto …\n",
       "\t\"Utua_do  ?    …\n",
       "\t\"Vega_ #%&()Alt…\n",
       "\t\"Vega #%&()Baja…\n",
       "\t\"   ; Vieques  …\n",
       "\t\"   ; Villa_lba…\n",
       "\t\"Yabucoa \"\n",
       "\t\"Ya_uco \"\n",
       "\t\"   ; St. Croix…\n",
       "\t\"St. John\"\n",
       "\t\"St. Thomas\"\n",
       "]"
      ]
     },
     "execution_count": 10,
     "metadata": {},
     "output_type": "execute_result"
    }
   ],
   "source": [
    "condado = counties[\"county\"]\n",
    "condado"
   ]
  },
  {
   "cell_type": "code",
   "execution_count": 11,
   "metadata": {},
   "outputs": [
    {
     "name": "stdout",
     "output_type": "stream",
     "text": [
      "(3234,)\n",
      "(3234,)\n",
      "<class 'polars.series.series.Series'>\n",
      "<class 'polars.dataframe.frame.DataFrame'>\n"
     ]
    }
   ],
   "source": [
    "print(condado.shape) #array unidimensional con 3234 elementos\n",
    "print(counties[\"county\"].shape)\n",
    "print(type(condado))\n",
    "print(type(counties))"
   ]
  },
  {
   "cell_type": "code",
   "execution_count": 12,
   "metadata": {},
   "outputs": [
    {
     "name": "stdout",
     "output_type": "stream",
     "text": [
      "shape: (3_234, 2)\n",
      "┌────────────┬───────────────────────┐\n",
      "│ codecounty ┆ county                │\n",
      "│ ---        ┆ ---                   │\n",
      "│ i64        ┆ str                   │\n",
      "╞════════════╪═══════════════════════╡\n",
      "│ 1001       ┆ Auta#%&()uga          │\n",
      "│ 1003       ┆ Baldwin#%&()  ?       │\n",
      "│ 1005       ┆ Barbour               │\n",
      "│ 1007       ┆ Bi#%&()bb             │\n",
      "│ …          ┆ …                     │\n",
      "│ 72153      ┆ Ya_uco                │\n",
      "│ 78010      ┆    ; St. Croix ?      │\n",
      "│ 78020      ┆ St. John              │\n",
      "│ 78030      ┆ St. Thomas            │\n",
      "└────────────┴───────────────────────┘\n",
      "<class 'polars.dataframe.frame.DataFrame'>\n"
     ]
    }
   ],
   "source": [
    "codi_condado=counties[[\"codecounty\",\"county\"]]\n",
    "print(codi_condado)\n",
    "print(type(codi_condado))"
   ]
  },
  {
   "cell_type": "markdown",
   "metadata": {},
   "source": [
    "### <span style=\"color:#4361EE\">Escoger Filas</span>"
   ]
  },
  {
   "cell_type": "markdown",
   "metadata": {},
   "source": [
    "En el código proporcionado, la línea `print(counties[0:1])` muestra la primera fila del DataFrame \"counties\" utilizando la sintaxis de indexación similar a la de pandas. Luego, la línea `print(type(counties[0:1]))` muestra que el resultado de la selección es un objeto de la clase polars Series, que es equivalente al resultado de un slice en pandas. Polars y pandas comparten similitudes en la sintaxis de indexación y selección de datos, ya que ambas librerías proporcionan una forma similar de acceder y manipular datos tabulares."
   ]
  },
  {
   "cell_type": "code",
   "execution_count": 13,
   "metadata": {},
   "outputs": [
    {
     "name": "stdout",
     "output_type": "stream",
     "text": [
      "shape: (1, 5)\n",
      "┌───────────┬────────────┬───────────────┬────────────┬─────────┐\n",
      "│ codestate ┆ codecounty ┆ county        ┆ population ┆ area    │\n",
      "│ ---       ┆ ---        ┆ ---           ┆ ---        ┆ ---     │\n",
      "│ i64       ┆ i64        ┆ str           ┆ i64        ┆ f64     │\n",
      "╞═══════════╪════════════╪═══════════════╪════════════╪═════════╡\n",
      "│ 1         ┆ 1001       ┆ Auta#%&()uga  ┆ 54571      ┆ 594.436 │\n",
      "└───────────┴────────────┴───────────────┴────────────┴─────────┘\n",
      "<class 'polars.dataframe.frame.DataFrame'>\n"
     ]
    }
   ],
   "source": [
    "print(counties[0:1])\n",
    "print(type(counties[0:1]))"
   ]
  },
  {
   "cell_type": "code",
   "execution_count": 14,
   "metadata": {},
   "outputs": [
    {
     "name": "stdout",
     "output_type": "stream",
     "text": [
      "shape: (4, 2)\n",
      "┌────────────┬───────────────────────┐\n",
      "│ codecounty ┆ county                │\n",
      "│ ---        ┆ ---                   │\n",
      "│ i64        ┆ str                   │\n",
      "╞════════════╪═══════════════════════╡\n",
      "│ 1017       ┆    ; Chambers  ?      │\n",
      "│ 1019       ┆ Cherokee              │\n",
      "│ 1021       ┆    ; Chilton          │\n",
      "│ 1023       ┆ Choctaw               │\n",
      "└────────────┴───────────────────────┘\n"
     ]
    }
   ],
   "source": [
    "print(counties[8:12,1:3])"
   ]
  },
  {
   "cell_type": "code",
   "execution_count": 15,
   "metadata": {},
   "outputs": [
    {
     "data": {
      "text/html": [
       "<div><style>\n",
       ".dataframe > thead > tr > th,\n",
       ".dataframe > tbody > tr > td {\n",
       "  text-align: right;\n",
       "}\n",
       "</style>\n",
       "<small>shape: (5, 5)</small><table border=\"1\" class=\"dataframe\"><thead><tr><th>codestate</th><th>codecounty</th><th>county</th><th>population</th><th>area</th></tr><tr><td>i64</td><td>i64</td><td>str</td><td>i64</td><td>f64</td></tr></thead><tbody><tr><td>72</td><td>72151</td><td>&quot;Yabucoa &quot;</td><td>37941</td><td>55.215</td></tr><tr><td>72</td><td>72153</td><td>&quot;Ya_uco &quot;</td><td>42043</td><td>68.192</td></tr><tr><td>78</td><td>78010</td><td>&quot;   ; St. Croix…</td><td>50601</td><td>83.345868</td></tr><tr><td>78</td><td>78020</td><td>&quot;St. John&quot;</td><td>4170</td><td>19.689867</td></tr><tr><td>78</td><td>78030</td><td>&quot;St. Thomas&quot;</td><td>51634</td><td>31.313503</td></tr></tbody></table></div>"
      ],
      "text/plain": [
       "shape: (5, 5)\n",
       "┌───────────┬────────────┬───────────────────────┬────────────┬───────────┐\n",
       "│ codestate ┆ codecounty ┆ county                ┆ population ┆ area      │\n",
       "│ ---       ┆ ---        ┆ ---                   ┆ ---        ┆ ---       │\n",
       "│ i64       ┆ i64        ┆ str                   ┆ i64        ┆ f64       │\n",
       "╞═══════════╪════════════╪═══════════════════════╪════════════╪═══════════╡\n",
       "│ 72        ┆ 72151      ┆ Yabucoa               ┆ 37941      ┆ 55.215    │\n",
       "│ 72        ┆ 72153      ┆ Ya_uco                ┆ 42043      ┆ 68.192    │\n",
       "│ 78        ┆ 78010      ┆    ; St. Croix ?      ┆ 50601      ┆ 83.345868 │\n",
       "│ 78        ┆ 78020      ┆ St. John              ┆ 4170       ┆ 19.689867 │\n",
       "│ 78        ┆ 78030      ┆ St. Thomas            ┆ 51634      ┆ 31.313503 │\n",
       "└───────────┴────────────┴───────────────────────┴────────────┴───────────┘"
      ]
     },
     "execution_count": 15,
     "metadata": {},
     "output_type": "execute_result"
    }
   ],
   "source": [
    "counties.tail()"
   ]
  },
  {
   "cell_type": "code",
   "execution_count": 16,
   "metadata": {},
   "outputs": [
    {
     "data": {
      "text/html": [
       "<div><style>\n",
       ".dataframe > thead > tr > th,\n",
       ".dataframe > tbody > tr > td {\n",
       "  text-align: right;\n",
       "}\n",
       "</style>\n",
       "<small>shape: (3_234,)</small><table border=\"1\" class=\"dataframe\"><thead><tr><th>codestate</th></tr><tr><td>bool</td></tr></thead><tbody><tr><td>false</td></tr><tr><td>false</td></tr><tr><td>false</td></tr><tr><td>false</td></tr><tr><td>false</td></tr><tr><td>false</td></tr><tr><td>false</td></tr><tr><td>false</td></tr><tr><td>false</td></tr><tr><td>false</td></tr><tr><td>false</td></tr><tr><td>false</td></tr><tr><td>&hellip;</td></tr><tr><td>false</td></tr><tr><td>false</td></tr><tr><td>false</td></tr><tr><td>false</td></tr><tr><td>false</td></tr><tr><td>false</td></tr><tr><td>false</td></tr><tr><td>false</td></tr><tr><td>false</td></tr><tr><td>true</td></tr><tr><td>true</td></tr><tr><td>true</td></tr></tbody></table></div>"
      ],
      "text/plain": [
       "shape: (3_234,)\n",
       "Series: 'codestate' [bool]\n",
       "[\n",
       "\tfalse\n",
       "\tfalse\n",
       "\tfalse\n",
       "\tfalse\n",
       "\tfalse\n",
       "\tfalse\n",
       "\tfalse\n",
       "\tfalse\n",
       "\tfalse\n",
       "\tfalse\n",
       "\tfalse\n",
       "\tfalse\n",
       "\t…\n",
       "\tfalse\n",
       "\tfalse\n",
       "\tfalse\n",
       "\tfalse\n",
       "\tfalse\n",
       "\tfalse\n",
       "\tfalse\n",
       "\tfalse\n",
       "\tfalse\n",
       "\tfalse\n",
       "\ttrue\n",
       "\ttrue\n",
       "\ttrue\n",
       "]"
      ]
     },
     "execution_count": 16,
     "metadata": {},
     "output_type": "execute_result"
    }
   ],
   "source": [
    "counties[\"codestate\"] > 72 #Verdadero o falso si cumple la condición"
   ]
  },
  {
   "cell_type": "markdown",
   "metadata": {},
   "source": [
    "`schema` es un atributo que permite obtener información sobre el esquema o la estructura de los datos en el DataFrame. Cuando se llama a `.schema`, devuelve una descripción detallada de las columnas presentes en el DataFrame, incluyendo el nombre de la columna, el tipo de datos de cada columna y la posición de la columna en el DataFrame.\n",
    "\n",
    "Este atributo es útil para obtener una visión general rápida de los datos y su estructura, lo que permite a los usuarios comprender la naturaleza de los datos y asegurarse de que los tipos de datos sean los esperados antes de realizar operaciones o análisis posteriores.\n",
    "\n",
    "El método `.filter()` en polars se utiliza para filtrar filas de un DataFrame basado en una condición dada. La sintaxis general es `DataFrame.filter(<condición>)`, donde `<condición>` es una expresión booleana que especifica el criterio de filtrado. \n",
    "\n",
    "Comparado con pandas, el método `.filter()` en polars se comporta de manera similar a `.loc[]` en pandas, ya que ambos permiten filtrar filas basadas en condiciones booleanas."
   ]
  },
  {
   "cell_type": "code",
   "execution_count": 17,
   "metadata": {},
   "outputs": [
    {
     "name": "stdout",
     "output_type": "stream",
     "text": [
      "Número de filas: 3\n",
      "Número de columnas: 5\n",
      "Esquema:\n",
      "{'codestate': Int64, 'codecounty': Int64, 'county': Utf8, 'population': Int64, 'area': Float64}\n"
     ]
    }
   ],
   "source": [
    "# Filtramos los registros cuyo valor en la columna 'codestate' sea mayor que 72\n",
    "codsat72_pl = counties.filter(counties['codestate'] > 72)\n",
    "\n",
    "# Obtener el número de filas y columnas\n",
    "num_rows = codsat72_pl.height\n",
    "num_cols = codsat72_pl.width\n",
    "\n",
    "# Obtener el esquema del DataFrame\n",
    "schema = codsat72_pl.schema\n",
    "\n",
    "# Imprimir información básica\n",
    "print(f\"Número de filas: {num_rows}\")\n",
    "print(f\"Número de columnas: {num_cols}\")\n",
    "print(\"Esquema:\")\n",
    "print(schema)"
   ]
  },
  {
   "cell_type": "code",
   "execution_count": 18,
   "metadata": {},
   "outputs": [
    {
     "name": "stdout",
     "output_type": "stream",
     "text": [
      "(3232, 5)\n",
      "(3234, 5)\n"
     ]
    }
   ],
   "source": [
    "# Filtramos las filas donde la columna 'population' no sea nula\n",
    "no_na = counties.filter(counties['population'].is_not_null())\n",
    "\n",
    "# Imprimimos la forma del DataFrame filtrado\n",
    "print(no_na.shape)\n",
    "\n",
    "# Imprimimos la forma del DataFrame original (sin modificar)\n",
    "print(counties.shape)"
   ]
  },
  {
   "cell_type": "markdown",
   "metadata": {},
   "source": [
    "### <span style=\"color:#4361EE\">Filas con valores específicos</span>"
   ]
  },
  {
   "cell_type": "code",
   "execution_count": 19,
   "metadata": {},
   "outputs": [
    {
     "name": "stdout",
     "output_type": "stream",
     "text": [
      "shape: (2, 5)\n",
      "┌───────────┬────────────┬───────────────────────┬────────────┬───────────┐\n",
      "│ codestate ┆ codecounty ┆ county                ┆ population ┆ area      │\n",
      "│ ---       ┆ ---        ┆ ---                   ┆ ---        ┆ ---       │\n",
      "│ i64       ┆ i64        ┆ str                   ┆ i64        ┆ f64       │\n",
      "╞═══════════╪════════════╪═══════════════════════╪════════════╪═══════════╡\n",
      "│ 72        ┆ 72151      ┆ Yabucoa               ┆ 37941      ┆ 55.215    │\n",
      "│ 78        ┆ 78010      ┆    ; St. Croix ?      ┆ 50601      ┆ 83.345868 │\n",
      "└───────────┴────────────┴───────────────────────┴────────────┴───────────┘\n"
     ]
    }
   ],
   "source": [
    "codcou1 = counties.filter(\n",
    "    counties[\"codecounty\"].is_in([78010, 72151])\n",
    ")\n",
    "print(codcou1)"
   ]
  },
  {
   "cell_type": "code",
   "execution_count": 20,
   "metadata": {},
   "outputs": [
    {
     "name": "stdout",
     "output_type": "stream",
     "text": [
      "shape: (1, 5)\n",
      "┌───────────┬────────────┬───────────────────────┬────────────┬───────────┐\n",
      "│ codestate ┆ codecounty ┆ county                ┆ population ┆ area      │\n",
      "│ ---       ┆ ---        ┆ ---                   ┆ ---        ┆ ---       │\n",
      "│ i64       ┆ i64        ┆ str                   ┆ i64        ┆ f64       │\n",
      "╞═══════════╪════════════╪═══════════════════════╪════════════╪═══════════╡\n",
      "│ 78        ┆ 78010      ┆    ; St. Croix ?      ┆ 50601      ┆ 83.345868 │\n",
      "└───────────┴────────────┴───────────────────────┴────────────┴───────────┘\n"
     ]
    }
   ],
   "source": [
    "# Realizamos el filtro\n",
    "codcou2 = counties['codecounty'] == 78010\n",
    "codcou2_ = counties.filter(codcou2)\n",
    "\n",
    "# Mostramos el resultado\n",
    "print(codcou2_)"
   ]
  },
  {
   "cell_type": "code",
   "execution_count": 21,
   "metadata": {},
   "outputs": [
    {
     "name": "stdout",
     "output_type": "stream",
     "text": [
      "shape: (2, 5)\n",
      "┌───────────┬────────────┬───────────────────────┬────────────┬───────────┐\n",
      "│ codestate ┆ codecounty ┆ county                ┆ population ┆ area      │\n",
      "│ ---       ┆ ---        ┆ ---                   ┆ ---        ┆ ---       │\n",
      "│ i64       ┆ i64        ┆ str                   ┆ i64        ┆ f64       │\n",
      "╞═══════════╪════════════╪═══════════════════════╪════════════╪═══════════╡\n",
      "│ 72        ┆ 72151      ┆ Yabucoa               ┆ 37941      ┆ 55.215    │\n",
      "│ 78        ┆ 78010      ┆    ; St. Croix ?      ┆ 50601      ┆ 83.345868 │\n",
      "└───────────┴────────────┴───────────────────────┴────────────┴───────────┘\n"
     ]
    }
   ],
   "source": [
    "print(counties.filter((counties[\"codecounty\"] == 78010) | (counties[\"codecounty\"] == 72151)))"
   ]
  },
  {
   "cell_type": "code",
   "execution_count": 22,
   "metadata": {},
   "outputs": [
    {
     "name": "stdout",
     "output_type": "stream",
     "text": [
      "shape: (9, 6)\n",
      "┌────────────┬───────────┬────────────┬──────────────┬──────────────┬───────────┐\n",
      "│ describe   ┆ codestate ┆ codecounty ┆ county       ┆ population   ┆ area      │\n",
      "│ ---        ┆ ---       ┆ ---        ┆ ---          ┆ ---          ┆ ---       │\n",
      "│ str        ┆ f64       ┆ f64        ┆ str          ┆ f64          ┆ f64       │\n",
      "╞════════════╪═══════════╪════════════╪══════════════╪══════════════╪═══════════╡\n",
      "│ count      ┆ 16.0      ┆ 16.0       ┆ 16           ┆ 16.0         ┆ 16.0      │\n",
      "│ null_count ┆ 0.0       ┆ 0.0        ┆ 0            ┆ 0.0          ┆ 0.0       │\n",
      "│ mean       ┆ 72.0      ┆ 72082.25   ┆ null         ┆ 52176.875    ┆ 77.026875 │\n",
      "│ std        ┆ 0.0       ┆ 48.04928   ┆ null         ┆ 37431.518501 ┆ 21.149359 │\n",
      "│ min        ┆ 72.0      ┆ 72001.0    ┆    ; Ciales  ┆ 18782.0      ┆ 60.277    │\n",
      "│ max        ┆ 72.0      ┆ 72153.0    ┆ Ya_uco       ┆ 166327.0     ┆ 125.947   │\n",
      "│ median     ┆ 72.0      ┆ 72089.0    ┆ null         ┆ 42236.5      ┆ 68.7785   │\n",
      "│ 25%        ┆ 72.0      ┆ 72043.0    ┆ null         ┆ 31078.0      ┆ 64.992    │\n",
      "│ 75%        ┆ 72.0      ┆ 72123.0    ┆ null         ┆ 54304.0      ┆ 78.012    │\n",
      "└────────────┴───────────┴────────────┴──────────────┴──────────────┴───────────┘\n"
     ]
    }
   ],
   "source": [
    "print(counties.filter((counties[\"codestate\"] == 72) & (counties[\"area\"] >= 60)).describe())"
   ]
  },
  {
   "cell_type": "markdown",
   "metadata": {},
   "source": [
    "### <span style=\"color:#4361EE\">Eliminar valores omitidos</span>"
   ]
  },
  {
   "cell_type": "markdown",
   "metadata": {},
   "source": [
    "Para eliminar filas con valores omitidos en polars, se debe utilizar el método `drop_nulls`."
   ]
  },
  {
   "cell_type": "code",
   "execution_count": 23,
   "metadata": {},
   "outputs": [
    {
     "data": {
      "text/html": [
       "<div><style>\n",
       ".dataframe > thead > tr > th,\n",
       ".dataframe > tbody > tr > td {\n",
       "  text-align: right;\n",
       "}\n",
       "</style>\n",
       "<small>shape: (3_232, 5)</small><table border=\"1\" class=\"dataframe\"><thead><tr><th>codestate</th><th>codecounty</th><th>county</th><th>population</th><th>area</th></tr><tr><td>i64</td><td>i64</td><td>str</td><td>i64</td><td>f64</td></tr></thead><tbody><tr><td>1</td><td>1001</td><td>&quot;Auta#%&amp;()uga &quot;</td><td>54571</td><td>594.436</td></tr><tr><td>1</td><td>1003</td><td>&quot;Baldwin#%&amp;()  …</td><td>182265</td><td>1589.784</td></tr><tr><td>1</td><td>1005</td><td>&quot;Barbour &quot;</td><td>27457</td><td>884.876</td></tr><tr><td>1</td><td>1007</td><td>&quot;Bi#%&amp;()bb &quot;</td><td>22915</td><td>622.582</td></tr><tr><td>1</td><td>1009</td><td>&quot;Blount  ?     …</td><td>57322</td><td>644.776</td></tr><tr><td>1</td><td>1011</td><td>&quot;Bull#%&amp;()ock &quot;</td><td>10914</td><td>622.805</td></tr><tr><td>1</td><td>1013</td><td>&quot;   ; Butler &quot;</td><td>20947</td><td>776.829</td></tr><tr><td>1</td><td>1015</td><td>&quot;Calhoun &quot;</td><td>118572</td><td>605.868</td></tr><tr><td>1</td><td>1017</td><td>&quot;   ; Chambers …</td><td>34215</td><td>596.531</td></tr><tr><td>1</td><td>1019</td><td>&quot;Cherokee &quot;</td><td>25989</td><td>553.7</td></tr><tr><td>1</td><td>1021</td><td>&quot;   ; Chilton &quot;</td><td>43643</td><td>692.854</td></tr><tr><td>1</td><td>1023</td><td>&quot;Choctaw &quot;</td><td>13859</td><td>913.5</td></tr><tr><td>&hellip;</td><td>&hellip;</td><td>&hellip;</td><td>&hellip;</td><td>&hellip;</td></tr><tr><td>72</td><td>72137</td><td>&quot;Toa #%&amp;()Baja …</td><td>89609</td><td>23.241</td></tr><tr><td>72</td><td>72139</td><td>&quot;Trujillo Alto …</td><td>74842</td><td>20.764</td></tr><tr><td>72</td><td>72141</td><td>&quot;Utua_do  ?    …</td><td>33149</td><td>113.529</td></tr><tr><td>72</td><td>72143</td><td>&quot;Vega_ #%&amp;()Alt…</td><td>39951</td><td>27.728</td></tr><tr><td>72</td><td>72145</td><td>&quot;Vega #%&amp;()Baja…</td><td>59662</td><td>45.856</td></tr><tr><td>72</td><td>72147</td><td>&quot;   ; Vieques  …</td><td>9301</td><td>50.768</td></tr><tr><td>72</td><td>72149</td><td>&quot;   ; Villa_lba…</td><td>26073</td><td>35.637</td></tr><tr><td>72</td><td>72151</td><td>&quot;Yabucoa &quot;</td><td>37941</td><td>55.215</td></tr><tr><td>72</td><td>72153</td><td>&quot;Ya_uco &quot;</td><td>42043</td><td>68.192</td></tr><tr><td>78</td><td>78010</td><td>&quot;   ; St. Croix…</td><td>50601</td><td>83.345868</td></tr><tr><td>78</td><td>78020</td><td>&quot;St. John&quot;</td><td>4170</td><td>19.689867</td></tr><tr><td>78</td><td>78030</td><td>&quot;St. Thomas&quot;</td><td>51634</td><td>31.313503</td></tr></tbody></table></div>"
      ],
      "text/plain": [
       "shape: (3_232, 5)\n",
       "┌───────────┬────────────┬───────────────────────┬────────────┬───────────┐\n",
       "│ codestate ┆ codecounty ┆ county                ┆ population ┆ area      │\n",
       "│ ---       ┆ ---        ┆ ---                   ┆ ---        ┆ ---       │\n",
       "│ i64       ┆ i64        ┆ str                   ┆ i64        ┆ f64       │\n",
       "╞═══════════╪════════════╪═══════════════════════╪════════════╪═══════════╡\n",
       "│ 1         ┆ 1001       ┆ Auta#%&()uga          ┆ 54571      ┆ 594.436   │\n",
       "│ 1         ┆ 1003       ┆ Baldwin#%&()  ?       ┆ 182265     ┆ 1589.784  │\n",
       "│ 1         ┆ 1005       ┆ Barbour               ┆ 27457      ┆ 884.876   │\n",
       "│ 1         ┆ 1007       ┆ Bi#%&()bb             ┆ 22915      ┆ 622.582   │\n",
       "│ …         ┆ …          ┆ …                     ┆ …          ┆ …         │\n",
       "│ 72        ┆ 72153      ┆ Ya_uco                ┆ 42043      ┆ 68.192    │\n",
       "│ 78        ┆ 78010      ┆    ; St. Croix ?      ┆ 50601      ┆ 83.345868 │\n",
       "│ 78        ┆ 78020      ┆ St. John              ┆ 4170       ┆ 19.689867 │\n",
       "│ 78        ┆ 78030      ┆ St. Thomas            ┆ 51634      ┆ 31.313503 │\n",
       "└───────────┴────────────┴───────────────────────┴────────────┴───────────┘"
      ]
     },
     "execution_count": 23,
     "metadata": {},
     "output_type": "execute_result"
    }
   ],
   "source": [
    "#counties.drop(\"area\") para eliminar la columna area\n",
    "\n",
    "counties.drop_nulls(subset=[\"population\"])"
   ]
  },
  {
   "cell_type": "markdown",
   "metadata": {},
   "source": [
    "### <span style=\"color:#4361EE\">Manipulación de datos textuales (Limpieza)</span>"
   ]
  },
  {
   "cell_type": "markdown",
   "metadata": {},
   "source": [
    "La siguiente cadena de métodos aplicada a la columna \"county\" realiza varias operaciones de limpieza de texto. \n",
    "\n",
    "1. `str.to_lowercase()`: Convierte el texto de la columna \"county\" a minúsculas.\n",
    "2. `str.replace(\"[^a-záéíóúñü ]%&?\", \"\")`: Elimina todos los caracteres que no sean letras del alfabeto español y los espacios, además de los caracteres especiales `%`, `&` y `?`.\n",
    "3. `str.replace(\" +\", \" \")`: Reemplaza múltiples espacios consecutivos por un solo espacio.\n",
    "4. `str.strip()`: Elimina los espacios al principio y al final de cada cadena.\n",
    "5. `str.to_titlecase()`: Convierte la primera letra de cada palabra en mayúscula.\n",
    "\n",
    "El resultado final es una nueva columna en el DataFrame \"counties\" que contiene el texto de la columna \"county\" con formato limpio y cada palabra capitalizada. Estas operaciones en polars son similares a las que se realizarían con pandas."
   ]
  },
  {
   "cell_type": "code",
   "execution_count": 24,
   "metadata": {},
   "outputs": [
    {
     "data": {
      "text/html": [
       "<div><style>\n",
       ".dataframe > thead > tr > th,\n",
       ".dataframe > tbody > tr > td {\n",
       "  text-align: right;\n",
       "}\n",
       "</style>\n",
       "<small>shape: (3_234, 1)</small><table border=\"1\" class=\"dataframe\"><thead><tr><th>county</th></tr><tr><td>str</td></tr></thead><tbody><tr><td>&quot;Autauga&quot;</td></tr><tr><td>&quot;Baldwin&quot;</td></tr><tr><td>&quot;Barbour&quot;</td></tr><tr><td>&quot;Bibb&quot;</td></tr><tr><td>&quot;Blount&quot;</td></tr><tr><td>&quot;Bullock&quot;</td></tr><tr><td>&quot;Butler&quot;</td></tr><tr><td>&quot;Calhoun&quot;</td></tr><tr><td>&quot;Chambers&quot;</td></tr><tr><td>&quot;Cherokee&quot;</td></tr><tr><td>&quot;Chilton&quot;</td></tr><tr><td>&quot;Choctaw&quot;</td></tr><tr><td>&hellip;</td></tr><tr><td>&quot;Toa Baja&quot;</td></tr><tr><td>&quot;Trujillo Alto&quot;</td></tr><tr><td>&quot;Utuado&quot;</td></tr><tr><td>&quot;Vega Alta&quot;</td></tr><tr><td>&quot;Vega Baja&quot;</td></tr><tr><td>&quot;Vieques&quot;</td></tr><tr><td>&quot;Villalba&quot;</td></tr><tr><td>&quot;Yabucoa&quot;</td></tr><tr><td>&quot;Yauco&quot;</td></tr><tr><td>&quot;St. Croix&quot;</td></tr><tr><td>&quot;St. John&quot;</td></tr><tr><td>&quot;St. Thomas&quot;</td></tr></tbody></table></div>"
      ],
      "text/plain": [
       "shape: (3_234, 1)\n",
       "┌────────────┐\n",
       "│ county     │\n",
       "│ ---        │\n",
       "│ str        │\n",
       "╞════════════╡\n",
       "│ Autauga    │\n",
       "│ Baldwin    │\n",
       "│ Barbour    │\n",
       "│ Bibb       │\n",
       "│ …          │\n",
       "│ Yauco      │\n",
       "│ St. Croix  │\n",
       "│ St. John   │\n",
       "│ St. Thomas │\n",
       "└────────────┘"
      ]
     },
     "execution_count": 24,
     "metadata": {},
     "output_type": "execute_result"
    }
   ],
   "source": [
    "counties.select(pl.col(\"county\")\n",
    "                .str.to_lowercase()\n",
    "                .str.replace(\"[^a-záéíóúñü ]%&\\(\\)\", \"\")\n",
    "                .str.replace_all(\"_\", \"\")\n",
    "                .str.replace_all(\";\", \"\")\n",
    "                .str.replace(\"\\?\", \"\")\n",
    "                .str.replace(\" +\", \" \")\n",
    "                .str.strip()             \n",
    "                .str.to_titlecase()            \n",
    "                )"
   ]
  },
  {
   "cell_type": "markdown",
   "metadata": {},
   "source": [
    "### <span style=\"color:#4361EE\">Creación de columnas a partir de otras</span>"
   ]
  },
  {
   "cell_type": "code",
   "execution_count": 25,
   "metadata": {},
   "outputs": [
    {
     "name": "stdout",
     "output_type": "stream",
     "text": [
      "shape: (3_234, 3)\n",
      "┌─────────────┬────────────┬───────────┐\n",
      "│ densidad    ┆ population ┆ area      │\n",
      "│ ---         ┆ ---        ┆ ---       │\n",
      "│ f64         ┆ i64        ┆ f64       │\n",
      "╞═════════════╪════════════╪═══════════╡\n",
      "│ 91.802986   ┆ 54571      ┆ 594.436   │\n",
      "│ 114.64765   ┆ 182265     ┆ 1589.784  │\n",
      "│ 31.029206   ┆ 27457      ┆ 884.876   │\n",
      "│ 36.806397   ┆ 22915      ┆ 622.582   │\n",
      "│ …           ┆ …          ┆ …         │\n",
      "│ 616.538597  ┆ 42043      ┆ 68.192    │\n",
      "│ 607.120679  ┆ 50601      ┆ 83.345868 │\n",
      "│ 211.784061  ┆ 4170       ┆ 19.689867 │\n",
      "│ 1648.937201 ┆ 51634      ┆ 31.313503 │\n",
      "└─────────────┴────────────┴───────────┘\n"
     ]
    }
   ],
   "source": [
    "counties = counties.insert_at_idx(\n",
    "    0, (counties[\"population\"] / counties[\"area\"]).alias(\"densidad\")\n",
    ")\n",
    "\n",
    "print(counties.select([\"densidad\", \"population\", \"area\"]))"
   ]
  },
  {
   "cell_type": "markdown",
   "metadata": {},
   "source": [
    "### <span style=\"color:#4361EE\">Renombrar columnas</span>"
   ]
  },
  {
   "cell_type": "code",
   "execution_count": 26,
   "metadata": {},
   "outputs": [
    {
     "name": "stdout",
     "output_type": "stream",
     "text": [
      "['densidad', 'codestate', 'codecounty', 'county', 'population', 'area']\n",
      "['densidad_pob', 'codestate', 'codecounty', 'county', 'population', 'area']\n"
     ]
    }
   ],
   "source": [
    "print(counties.columns)\n",
    "counties = counties.rename(\n",
    "    {\"densidad\": \"densidad_pob\"}\n",
    ")\n",
    "print(counties.columns)"
   ]
  },
  {
   "cell_type": "markdown",
   "metadata": {},
   "source": [
    "### <span style=\"color:#4361EE\">Modificar tipo de dato de una columna</span>"
   ]
  },
  {
   "cell_type": "code",
   "execution_count": 27,
   "metadata": {},
   "outputs": [
    {
     "name": "stdout",
     "output_type": "stream",
     "text": [
      "[Float64, Int64, Int64, Utf8, Int64, Float64]\n",
      "\n",
      "\n",
      "\n",
      "\n",
      "[Float64, Float64, Int64, Utf8, Float64, Float64]\n"
     ]
    }
   ],
   "source": [
    "print(counties.dtypes)\n",
    "\n",
    "print(\"\\n\")\n",
    "\n",
    "counties = counties.with_columns(counties[\"codestate\"].cast(pl.Float64))\n",
    "counties = counties.with_columns(counties[\"population\"].cast(pl.Float64))\n",
    "\n",
    "print(\"\\n\")\n",
    "\n",
    "print(counties.dtypes)"
   ]
  },
  {
   "cell_type": "code",
   "execution_count": 28,
   "metadata": {},
   "outputs": [],
   "source": [
    "counties = counties.with_row_count(\"row_nr\")"
   ]
  },
  {
   "cell_type": "code",
   "execution_count": 34,
   "metadata": {},
   "outputs": [
    {
     "data": {
      "text/html": [
       "<div><style>\n",
       ".dataframe > thead > tr > th,\n",
       ".dataframe > tbody > tr > td {\n",
       "  text-align: right;\n",
       "}\n",
       "</style>\n",
       "<small>shape: (0, 7)</small><table border=\"1\" class=\"dataframe\"><thead><tr><th>row_nr</th><th>densidad_pob</th><th>codestate</th><th>codecounty</th><th>county</th><th>population</th><th>area</th></tr><tr><td>u32</td><td>f64</td><td>f64</td><td>i64</td><td>str</td><td>f64</td><td>f64</td></tr></thead><tbody></tbody></table></div>"
      ],
      "text/plain": [
       "shape: (0, 7)\n",
       "┌────────┬──────────────┬───────────┬────────────┬────────┬────────────┬──────┐\n",
       "│ row_nr ┆ densidad_pob ┆ codestate ┆ codecounty ┆ county ┆ population ┆ area │\n",
       "│ ---    ┆ ---          ┆ ---       ┆ ---        ┆ ---    ┆ ---        ┆ ---  │\n",
       "│ u32    ┆ f64          ┆ f64       ┆ i64        ┆ str    ┆ f64        ┆ f64  │\n",
       "╞════════╪══════════════╪═══════════╪════════════╪════════╪════════════╪══════╡\n",
       "└────────┴──────────────┴───────────┴────────────┴────────┴────────────┴──────┘"
      ]
     },
     "execution_count": 34,
     "metadata": {},
     "output_type": "execute_result"
    }
   ],
   "source": [
    "counties.filter(pl.col(\"codecounty\") == 70)"
   ]
  },
  {
   "cell_type": "code",
   "execution_count": 29,
   "metadata": {},
   "outputs": [
    {
     "name": "stdout",
     "output_type": "stream",
     "text": [
      "(3234, 7)\n",
      "(3, 7)\n"
     ]
    }
   ],
   "source": [
    "print(counties.shape)\n",
    "counties = counties.filter(pl.col(\"row_nr\") < 3)\n",
    "counties = counties.filter(pl.col(\"codecounty\") != 70)\n",
    "print(counties.shape)"
   ]
  }
 ],
 "metadata": {
  "kernelspec": {
   "display_name": "Python 3 (ipykernel)",
   "language": "python",
   "name": "python3"
  },
  "language_info": {
   "codemirror_mode": {
    "name": "ipython",
    "version": 3
   },
   "file_extension": ".py",
   "mimetype": "text/x-python",
   "name": "python",
   "nbconvert_exporter": "python",
   "pygments_lexer": "ipython3",
   "version": "3.11.4"
  }
 },
 "nbformat": 4,
 "nbformat_minor": 4
}
