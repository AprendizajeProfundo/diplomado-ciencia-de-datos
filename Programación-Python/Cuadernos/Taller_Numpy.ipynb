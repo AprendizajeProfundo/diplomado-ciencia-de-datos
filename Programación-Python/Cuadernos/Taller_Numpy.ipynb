{
 "cells": [
  {
   "cell_type": "markdown",
   "id": "e820ae1e",
   "metadata": {},
   "source": [
    "# <span style=\"color:#F72585\"><center>Taller de numpy</center></span>"
   ]
  },
  {
   "cell_type": "markdown",
   "id": "7ee109fe",
   "metadata": {},
   "source": [
    "<figure>\n",
    "<center>\n",
    "<img src=\"https://raw.githubusercontent.com/AprendizajeProfundo/Alejandria/main/Archivos_Generales/Imagenes/Ciudad.jpg\" width=\"600\" height=\"400\" align=\"center\" /> \n",
    "</center>   \n",
    "</figure>\n",
    "<center>\n",
    "\n",
    "Fuente: [Pexels: Peng LIU](https://www.pexels.com/es-es/foto/marco-de-edificio-elevado-169647/)\n",
    "\n",
    "</center>\n"
   ]
  },
  {
   "cell_type": "markdown",
   "id": "f9fb9210",
   "metadata": {
    "id": "--yl3E28USV0"
   },
   "source": [
    "## <span style=\"color:#4361EE\">¿Qué es?</span>"
   ]
  },
  {
   "cell_type": "markdown",
   "id": "a4e658cc",
   "metadata": {},
   "source": [
    "Numpy es un paquete de python dedicado principalmente al manejo de conjuntos o \"arrays\". Extendiendose luego al álgebra lineal, matrices y probabilidad."
   ]
  },
  {
   "cell_type": "markdown",
   "id": "7d513ed8",
   "metadata": {},
   "source": [
    "### <span style=\"color:#4CC9F0\">¿Por qué usar arrays de numpy y no listas o tuplas de python?</span>"
   ]
  },
  {
   "cell_type": "markdown",
   "id": "ebbff053",
   "metadata": {},
   "source": [
    "Aunque python base tiene listas, el usar arrays es más rápido y consume menos memoria. Algo altamente necesario cuando se hacen operaciones de gran tamaño como puede ser el algebra matricial, por ejemplo."
   ]
  },
  {
   "cell_type": "code",
   "execution_count": 1,
   "id": "063e4b25",
   "metadata": {},
   "outputs": [],
   "source": [
    "import numpy as np"
   ]
  },
  {
   "cell_type": "markdown",
   "id": "15ebc1d8",
   "metadata": {},
   "source": [
    "## <span style=\"color:#4361EE\">Creación básica de arrays</span>"
   ]
  },
  {
   "cell_type": "markdown",
   "id": "4ff6fd69",
   "metadata": {
    "tags": []
   },
   "source": [
    "Vamos a crear arrays de distintas dimensiones. Para esto podemos usar números, listas o tuplas."
   ]
  },
  {
   "cell_type": "code",
   "execution_count": 2,
   "id": "4a0468a9",
   "metadata": {},
   "outputs": [
    {
     "name": "stdout",
     "output_type": "stream",
     "text": [
      "a = 13 \n",
      "\n",
      "b = [1 2 3 4] \n",
      "\n",
      "c = [[1 2 3 4]\n",
      " [5 6 7 8]] \n",
      "\n",
      "d = [[[ 1  2  3  4]\n",
      "  [ 5  6  7  8]]\n",
      "\n",
      " [[ 9 10 11 12]\n",
      "  [13 14 15 16]]] \n",
      "\n"
     ]
    }
   ],
   "source": [
    "a=np.array(13) #array de dimensión 0\n",
    "b=np.array([1,2,3,4]) #array de dimensión 1\n",
    "c=np.array([[1,2,3,4],[5,6,7,8]]) #array de dimensión 2\n",
    "d=np.array([[[1,2,3,4],[5,6,7,8]],[[9,10,11,12],[13,14,15,16]]]) #array de dimensión 3\n",
    "\n",
    "print(\"a =\",a,\"\\n\")\n",
    "print(\"b =\",b,\"\\n\")\n",
    "print(\"c =\",c,\"\\n\")\n",
    "print(\"d =\",d,\"\\n\")"
   ]
  },
  {
   "cell_type": "markdown",
   "id": "52f9cff7",
   "metadata": {},
   "source": [
    "Para revisar el número de dimensiones, usamos `ndim`"
   ]
  },
  {
   "cell_type": "code",
   "execution_count": 3,
   "id": "2a60b3c5",
   "metadata": {},
   "outputs": [
    {
     "name": "stdout",
     "output_type": "stream",
     "text": [
      "0\n",
      "1\n",
      "2\n",
      "3\n"
     ]
    }
   ],
   "source": [
    "print(a.ndim)\n",
    "print(b.ndim)\n",
    "print(c.ndim)\n",
    "print(d.ndim)"
   ]
  },
  {
   "cell_type": "markdown",
   "id": "1d882daf",
   "metadata": {},
   "source": [
    "## <span style=\"color:#4361EE\">Indexación básica</span>"
   ]
  },
  {
   "cell_type": "markdown",
   "id": "a04ab4cd",
   "metadata": {},
   "source": [
    "El proceso de indexación en numpy es similar al de las listas en python. Cada número implica buscar la posición en cada dimensión del array"
   ]
  },
  {
   "cell_type": "code",
   "execution_count": 4,
   "id": "8019beb0",
   "metadata": {},
   "outputs": [
    {
     "name": "stdout",
     "output_type": "stream",
     "text": [
      "a = 13\n",
      "b[2] =  3\n",
      "c[1] = [5 6 7 8]\n",
      "d[1] = [[ 9 10 11 12]\n",
      " [13 14 15 16]]\n"
     ]
    }
   ],
   "source": [
    "print(\"a =\",a)\n",
    "print(\"b[2] = \",b[2])\n",
    "print(\"c[1] =\",c[1])\n",
    "print(\"d[1] =\",d[1])"
   ]
  },
  {
   "cell_type": "code",
   "execution_count": 5,
   "id": "894b28ed",
   "metadata": {},
   "outputs": [
    {
     "name": "stdout",
     "output_type": "stream",
     "text": [
      "a = 13\n",
      "b[2] = 3\n",
      "c[1,2] = 7\n",
      "d[1,0,2] = 11\n"
     ]
    }
   ],
   "source": [
    "print(\"a =\",a)\n",
    "print(\"b[2] =\",b[2])\n",
    "print(\"c[1,2] =\",c[1,2])\n",
    "print(\"d[1,0,2] =\",d[1,0,2])"
   ]
  },
  {
   "cell_type": "markdown",
   "id": "fcebd506",
   "metadata": {},
   "source": [
    "Similarmente podemos segmentar **arrays** como en el las listas de python,"
   ]
  },
  {
   "cell_type": "code",
   "execution_count": 6,
   "id": "7a0ee1fc",
   "metadata": {},
   "outputs": [
    {
     "name": "stdout",
     "output_type": "stream",
     "text": [
      "[2 3 4]\n",
      "[6 7]\n"
     ]
    }
   ],
   "source": [
    "print(b[1:4]) #b = [1 2 3 4] \n",
    "print(c[1,1:3]) #c = [[1 2 3 4][5 6 7 8]] "
   ]
  },
  {
   "cell_type": "markdown",
   "id": "cd589abc",
   "metadata": {},
   "source": [
    "## <span style=\"color:#4361EE\">arrays a partir de secuencias</span>"
   ]
  },
  {
   "cell_type": "markdown",
   "id": "af4d4da4",
   "metadata": {},
   "source": [
    "Es posible crear arrays de una forma similar a la función `range()`. Y depende de los argumentos se obtendrán cosas distintas.\n",
    "\n",
    "Solo es posible en este caso hacer arrays de dimensión 1"
   ]
  },
  {
   "cell_type": "code",
   "execution_count": 4,
   "id": "42a54e9a",
   "metadata": {},
   "outputs": [
    {
     "name": "stdout",
     "output_type": "stream",
     "text": [
      "[0 1 2 3 4]\n",
      "[5 6 7 8 9]\n",
      "[10 15 20 25]\n"
     ]
    }
   ],
   "source": [
    "int_sec_1 = np.arange(5) #un argumento: desde 0 hasta el argumento de uno en uno\n",
    "print(int_sec_1)\n",
    "\n",
    "int_sec_2 = np.arange(5, 10) #dos argumentos: desde arg1 hasta arg2 de uno en uno\n",
    "print(int_sec_2)\n",
    "\n",
    "int_sec_3 = np.arange(10, 30, 5) #tres argumentos: desde arg1 hasta arg2 de arg3 en arg3\n",
    "print(int_sec_3)"
   ]
  },
  {
   "cell_type": "markdown",
   "id": "ef51dc4b",
   "metadata": {},
   "source": [
    "También se pueden hacer secuencias con números de punto flotante, pero hay que tener cuidado ya que actúan distinto"
   ]
  },
  {
   "cell_type": "code",
   "execution_count": 10,
   "id": "ad266f94",
   "metadata": {},
   "outputs": [
    {
     "name": "stdout",
     "output_type": "stream",
     "text": [
      "[2.         2.01020408 2.02040816 2.03061224 2.04081633 2.05102041\n",
      " 2.06122449 2.07142857 2.08163265 2.09183673 2.10204082 2.1122449\n",
      " 2.12244898 2.13265306 2.14285714 2.15306122 2.16326531 2.17346939\n",
      " 2.18367347 2.19387755 2.20408163 2.21428571 2.2244898  2.23469388\n",
      " 2.24489796 2.25510204 2.26530612 2.2755102  2.28571429 2.29591837\n",
      " 2.30612245 2.31632653 2.32653061 2.33673469 2.34693878 2.35714286\n",
      " 2.36734694 2.37755102 2.3877551  2.39795918 2.40816327 2.41836735\n",
      " 2.42857143 2.43877551 2.44897959 2.45918367 2.46938776 2.47959184\n",
      " 2.48979592 2.5       ]\n",
      "[2.    2.125 2.25  2.375 2.5  ]\n"
     ]
    }
   ],
   "source": [
    "print(np.linspace(2,2.5)) # aquí es obligatorio un inicio y un final, por default se hace una lista de 50\n",
    "print(np.linspace(2,2.5, 5))\n"
   ]
  },
  {
   "cell_type": "markdown",
   "id": "7da8e291",
   "metadata": {},
   "source": [
    "## <span style=\"color:#4361EE\">Diferentes tipos de datos en los arrays</span>"
   ]
  },
  {
   "cell_type": "markdown",
   "id": "36a4ec09",
   "metadata": {},
   "source": [
    "Los arrays no están limitados a números enteros, pueden también tener cadenas, booleanos, o de punto flotante."
   ]
  },
  {
   "cell_type": "code",
   "execution_count": 7,
   "id": "ed2bb758",
   "metadata": {},
   "outputs": [
    {
     "name": "stdout",
     "output_type": "stream",
     "text": [
      "<U7\n"
     ]
    }
   ],
   "source": [
    "frutas = np.array(['Manzana', 'Naranja', 'Uva']) #cadenas\n",
    "print(frutas.dtype)"
   ]
  },
  {
   "cell_type": "markdown",
   "id": "b89c0e97",
   "metadata": {},
   "source": [
    "Podemos manipular el tipo de los datos del array dentro de la función de creación del array `np.array`, siempre y cuando el cambio sea posible. Por ejemplo podemos pasar enteros a cadenas (integers a strings) pero no viceversa."
   ]
  },
  {
   "cell_type": "code",
   "execution_count": 8,
   "id": "75aadc1c",
   "metadata": {},
   "outputs": [
    {
     "name": "stdout",
     "output_type": "stream",
     "text": [
      "|S3\n",
      "[b'6' b'1' b'2' b'4' b'623' b'8']\n"
     ]
    }
   ],
   "source": [
    "number_to_string=np.array([6,1,2,4,623,8], dtype='S') #b denota un string\n",
    "print(number_to_string.dtype)\n",
    "print(number_to_string)"
   ]
  },
  {
   "cell_type": "code",
   "execution_count": 9,
   "id": "a1ebedf3",
   "metadata": {},
   "outputs": [
    {
     "name": "stdout",
     "output_type": "stream",
     "text": [
      "hay un error en su lógica\n"
     ]
    }
   ],
   "source": [
    "try:\n",
    "    error_array = np.array(['a', '2', '3'], dtype='i')\n",
    "except:\n",
    "    print(\"hay un error en su lógica\")"
   ]
  },
  {
   "cell_type": "markdown",
   "id": "7e2e1ac9",
   "metadata": {},
   "source": [
    "Podemos también cambiar el tipo en arrays ya existentes"
   ]
  },
  {
   "cell_type": "code",
   "execution_count": 10,
   "id": "7bd6b41a",
   "metadata": {},
   "outputs": [
    {
     "name": "stdout",
     "output_type": "stream",
     "text": [
      "[1 2 3]\n"
     ]
    }
   ],
   "source": [
    "floating_array = np.array([1.1, 2.1, 3.1]) #punto flotante\n",
    "\n",
    "int_array = floating_array.astype('i')\n",
    "print(int_array)"
   ]
  },
  {
   "cell_type": "markdown",
   "id": "57d0475c",
   "metadata": {},
   "source": [
    "## <span style=\"color:#4361EE\">Forma de los arrays</span>"
   ]
  },
  {
   "cell_type": "markdown",
   "id": "044a8738",
   "metadata": {},
   "source": [
    "La forma es distinta a la dimensión. Esta se define como el número de elementos de la dimensión. "
   ]
  },
  {
   "cell_type": "code",
   "execution_count": 11,
   "id": "232e7daf",
   "metadata": {},
   "outputs": [
    {
     "name": "stdout",
     "output_type": "stream",
     "text": [
      "()\n",
      "(4,)\n",
      "(2, 4)\n",
      "(2, 2, 4)\n"
     ]
    }
   ],
   "source": [
    "print(a.shape) # a = 13 \n",
    "print(b.shape) # b = [1 2 3 4] \n",
    "print(c.shape) # c = [[1 2 3 4][5 6 7 8]] \n",
    "print(d.shape) # d = [[[ 1  2  3  4][ 5  6  7  8]] [[ 9 10 11 12][13 14 15 16]]] "
   ]
  },
  {
   "cell_type": "markdown",
   "id": "2d4af3fa",
   "metadata": {},
   "source": [
    "### <span style=\"color:blue\">Reformar arrays</span>\n",
    "\n",
    "Podemos cambiar la forma de los arrays. Esto significa aumentar el número de dimensiones o cambiar cuantos elementos hay por dimensión."
   ]
  },
  {
   "cell_type": "code",
   "execution_count": 12,
   "id": "27e29622",
   "metadata": {},
   "outputs": [
    {
     "name": "stdout",
     "output_type": "stream",
     "text": [
      "c = [[1 2 3 4]\n",
      " [5 6 7 8]] \n",
      "\n",
      "c_1D = [[1 2 3 4 5 6 7 8]] \n",
      "\n",
      "c_4D = [[1 2]\n",
      " [3 4]\n",
      " [5 6]\n",
      " [7 8]] \n",
      "\n"
     ]
    }
   ],
   "source": [
    "print(\"c =\",c,\"\\n\")\n",
    "c_1D=c.reshape(1,8)\n",
    "print(\"c_1D =\",c_1D,\"\\n\")\n",
    "c_4D=c.reshape(4,2)\n",
    "print(\"c_4D =\",c_4D,\"\\n\")"
   ]
  },
  {
   "cell_type": "markdown",
   "id": "fc0b1569",
   "metadata": {},
   "source": [
    "¿Podemos hacer cualquier cambio en la forma? Si, mientras las que se quieren conseguir coincidan con la cantidad de elementos."
   ]
  },
  {
   "cell_type": "code",
   "execution_count": 13,
   "id": "f37c4c94",
   "metadata": {},
   "outputs": [
    {
     "name": "stdout",
     "output_type": "stream",
     "text": [
      "[[[ 1  2  3  4]\n",
      "  [ 5  6  7  8]]\n",
      "\n",
      " [[ 9 10 11 12]\n",
      "  [13 14 15 16]]]\n"
     ]
    }
   ],
   "source": [
    "print(d)"
   ]
  },
  {
   "cell_type": "markdown",
   "id": "aeb96eb9",
   "metadata": {},
   "source": [
    "`d` es un array con 16 elementos, así que podemos hacer reshape con tamaños por ejemplo 1x16, 4x4, 8x2, 2x4x2 Por ejemplo, no podemos reformar un arrey a 3x5."
   ]
  },
  {
   "cell_type": "code",
   "execution_count": 14,
   "id": "e4721bce",
   "metadata": {},
   "outputs": [
    {
     "name": "stdout",
     "output_type": "stream",
     "text": [
      "Hay un error en sus operaciones\n"
     ]
    }
   ],
   "source": [
    "try:\n",
    "    d.reshape(3,5)\n",
    "except:\n",
    "    print('Hay un error en sus operaciones')"
   ]
  },
  {
   "cell_type": "code",
   "execution_count": 15,
   "id": "64a96f6c",
   "metadata": {},
   "outputs": [
    {
     "data": {
      "text/plain": [
       "array([[[[ 1,  2],\n",
       "         [ 3,  4]],\n",
       "\n",
       "        [[ 5,  6],\n",
       "         [ 7,  8]]],\n",
       "\n",
       "\n",
       "       [[[ 9, 10],\n",
       "         [11, 12]],\n",
       "\n",
       "        [[13, 14],\n",
       "         [15, 16]]]])"
      ]
     },
     "execution_count": 15,
     "metadata": {},
     "output_type": "execute_result"
    }
   ],
   "source": [
    "d.reshape(2,2,2,2)"
   ]
  },
  {
   "cell_type": "markdown",
   "id": "7ae797c4",
   "metadata": {},
   "source": [
    "### <span style=\"color:#4CC9F0\">Dimensión desconocida</span>"
   ]
  },
  {
   "cell_type": "markdown",
   "id": "a3aef62e",
   "metadata": {},
   "source": [
    "Podemos definir el cambio de forma con una dimensión la cual no sabemos el tamaño. Numpy se encargará de definir el tamaño que mejor se ajuste."
   ]
  },
  {
   "cell_type": "code",
   "execution_count": 16,
   "id": "adbaae7f",
   "metadata": {},
   "outputs": [
    {
     "data": {
      "text/plain": [
       "array([[1, 2, 3],\n",
       "       [4, 5, 6],\n",
       "       [7, 8, 9]])"
      ]
     },
     "execution_count": 16,
     "metadata": {},
     "output_type": "execute_result"
    }
   ],
   "source": [
    "arr = np.array([1, 2, 3, 4, 5, 6, 7, 8, 9])\n",
    "arr.reshape(3,-1)"
   ]
  },
  {
   "cell_type": "markdown",
   "id": "20bdffbb",
   "metadata": {},
   "source": [
    "Podemos usar la dimensión desconocida para \"aplanar\" el array a una dimensión."
   ]
  },
  {
   "cell_type": "code",
   "execution_count": 17,
   "id": "fbbb4a61",
   "metadata": {},
   "outputs": [
    {
     "data": {
      "text/plain": [
       "array([ 1,  2,  3,  4,  5,  6,  7,  8,  9, 10, 11, 12, 13, 14, 15, 16])"
      ]
     },
     "execution_count": 17,
     "metadata": {},
     "output_type": "execute_result"
    }
   ],
   "source": [
    "d.reshape(-1)"
   ]
  },
  {
   "cell_type": "markdown",
   "id": "10452895",
   "metadata": {},
   "source": [
    "### <span style=\"color:#4CC9F0\">Transpuesta</span>"
   ]
  },
  {
   "cell_type": "markdown",
   "id": "385e05ef",
   "metadata": {},
   "source": [
    "Para transponer el array utilizamos `.T`"
   ]
  },
  {
   "cell_type": "code",
   "execution_count": 18,
   "id": "9c97dc11",
   "metadata": {},
   "outputs": [
    {
     "name": "stdout",
     "output_type": "stream",
     "text": [
      "c = [[1 2 3 4]\n",
      " [5 6 7 8]] \n",
      "\n",
      "c.T = [[1 5]\n",
      " [2 6]\n",
      " [3 7]\n",
      " [4 8]]\n"
     ]
    }
   ],
   "source": [
    "print(\"c =\",c,\"\\n\")\n",
    "print(\"c.T =\",c.T)"
   ]
  },
  {
   "cell_type": "markdown",
   "id": "9522f334",
   "metadata": {},
   "source": [
    "## <span style=\"color:#4361EE\">Iterar arrays</span>"
   ]
  },
  {
   "cell_type": "markdown",
   "id": "f1184880",
   "metadata": {},
   "source": [
    "Podemos usar los métodos tradicionales para iterar."
   ]
  },
  {
   "cell_type": "code",
   "execution_count": 19,
   "id": "6377f739",
   "metadata": {},
   "outputs": [
    {
     "name": "stdout",
     "output_type": "stream",
     "text": [
      "[[1 2 3 4]\n",
      " [5 6 7 8]]\n",
      "[[ 9 10 11 12]\n",
      " [13 14 15 16]]\n"
     ]
    }
   ],
   "source": [
    "for x in d:\n",
    "    print(x)"
   ]
  },
  {
   "cell_type": "markdown",
   "id": "d612edc4",
   "metadata": {},
   "source": [
    "Si queremos iterar cada elemento, necesitamos un `for` por cada dimensión"
   ]
  },
  {
   "cell_type": "code",
   "execution_count": 20,
   "id": "b5f16a97",
   "metadata": {},
   "outputs": [
    {
     "name": "stdout",
     "output_type": "stream",
     "text": [
      "1\n",
      "2\n",
      "3\n",
      "4\n",
      "5\n",
      "6\n",
      "7\n",
      "8\n",
      "9\n",
      "10\n",
      "11\n",
      "12\n",
      "13\n",
      "14\n",
      "15\n",
      "16\n"
     ]
    }
   ],
   "source": [
    "for x in d:\n",
    "    for y in x:\n",
    "        for z in y:\n",
    "            print(z)"
   ]
  },
  {
   "cell_type": "markdown",
   "id": "f4f02b2d",
   "metadata": {},
   "source": [
    "Esto por supuesto no es óptimo. Así que numpy tiene la función `nditer()` para estos casos."
   ]
  },
  {
   "cell_type": "code",
   "execution_count": 21,
   "id": "3f2f634c",
   "metadata": {},
   "outputs": [
    {
     "name": "stdout",
     "output_type": "stream",
     "text": [
      "1\n",
      "2\n",
      "3\n",
      "4\n",
      "5\n",
      "6\n",
      "7\n",
      "8\n",
      "9\n",
      "10\n",
      "11\n",
      "12\n",
      "13\n",
      "14\n",
      "15\n",
      "16\n"
     ]
    }
   ],
   "source": [
    "for x in np.nditer(d):\n",
    "    print(x)"
   ]
  },
  {
   "cell_type": "markdown",
   "id": "93ecf334",
   "metadata": {},
   "source": [
    "## <span style=\"color:#4361EE\">Aplicar operaciones entre arrays</span>"
   ]
  },
  {
   "cell_type": "markdown",
   "id": "52f2041f",
   "metadata": {},
   "source": [
    "*numpy* tiene sus propias formas de aplicar operaciones:"
   ]
  },
  {
   "cell_type": "markdown",
   "id": "09cb60fc",
   "metadata": {},
   "source": [
    "### <span style=\"color:#4CC9F0\">Suma</span>\n",
    "\n",
    "*numpy* tiene dos funciones, `np.add()` y `np.sum()`. El primero se aplica entre argumentos, el segundo se aplica en n elementos para que se haga la suma, es necesario que ambos arrays tengan la misma forma"
   ]
  },
  {
   "cell_type": "code",
   "execution_count": 22,
   "id": "339e55e2",
   "metadata": {},
   "outputs": [
    {
     "data": {
      "text/plain": [
       "array([[7, 7, 7],\n",
       "       [7, 7, 7]])"
      ]
     },
     "execution_count": 22,
     "metadata": {},
     "output_type": "execute_result"
    }
   ],
   "source": [
    "arr1=np.array([[1,2,3],\n",
    "               [4,5,6]])\n",
    "arr2=np.array([[6,5,4],\n",
    "               [3,2,1]])\n",
    "np.add(arr1,arr2)"
   ]
  },
  {
   "cell_type": "code",
   "execution_count": 23,
   "id": "90870068",
   "metadata": {},
   "outputs": [
    {
     "name": "stdout",
     "output_type": "stream",
     "text": [
      "42\n",
      "48\n"
     ]
    }
   ],
   "source": [
    "arr3=np.array([[1,1,1],[1,1,1]])\n",
    "print(np.sum([arr1,arr2]))\n",
    "print(np.sum([arr1,arr2,arr3]))"
   ]
  },
  {
   "cell_type": "markdown",
   "id": "98d61a60",
   "metadata": {},
   "source": [
    "Si aplicamos un eje en `np.sum()`, se aplica la suma en ese mismo eje. Por ejemplo, con eje 0, se obtienen los mismos resultados que `np.add()`"
   ]
  },
  {
   "cell_type": "code",
   "execution_count": 24,
   "id": "6dd45cbe",
   "metadata": {},
   "outputs": [
    {
     "data": {
      "text/plain": [
       "array([[8, 8, 8],\n",
       "       [8, 8, 8]])"
      ]
     },
     "execution_count": 24,
     "metadata": {},
     "output_type": "execute_result"
    }
   ],
   "source": [
    "np.sum([arr1,arr2, arr3],axis=0)"
   ]
  },
  {
   "cell_type": "code",
   "execution_count": 25,
   "id": "95c81c00",
   "metadata": {},
   "outputs": [
    {
     "data": {
      "text/plain": [
       "array([[5, 7, 9],\n",
       "       [9, 7, 5],\n",
       "       [2, 2, 2]])"
      ]
     },
     "execution_count": 25,
     "metadata": {},
     "output_type": "execute_result"
    }
   ],
   "source": [
    "np.sum([arr1,arr2, arr3],axis=1)"
   ]
  },
  {
   "cell_type": "markdown",
   "id": "5c8eed55",
   "metadata": {},
   "source": [
    "### <span style=\"color:#4CC9F0\">Multiplicación</span>"
   ]
  },
  {
   "cell_type": "markdown",
   "id": "76805d27",
   "metadata": {},
   "source": [
    "El primer caso de multiplicación es `np.prod()`, que funciona similar que `np.sum()`"
   ]
  },
  {
   "cell_type": "code",
   "execution_count": 26,
   "id": "bc07e939",
   "metadata": {},
   "outputs": [
    {
     "name": "stdout",
     "output_type": "stream",
     "text": [
      "arr1=\n",
      " [[1 2 3]\n",
      " [4 5 6]] \n",
      "\n",
      "arr2=\n",
      " [[6 5 4]\n",
      " [3 2 1]] \n",
      "\n",
      "518400 \n",
      "\n",
      "[[ 6 10 12]\n",
      " [12 10  6]] \n",
      "\n",
      "[[ 4 10 18]\n",
      " [18 10  4]]\n"
     ]
    }
   ],
   "source": [
    "print(\"arr1=\\n\",arr1,\"\\n\")\n",
    "print(\"arr2=\\n\",arr2,\"\\n\")\n",
    "print(np.prod([arr1,arr2]),\"\\n\")\n",
    "print(np.prod([arr1,arr2],axis=0),\"\\n\")\n",
    "print(np.prod([arr1,arr2],axis=1))"
   ]
  },
  {
   "cell_type": "markdown",
   "id": "c375aab5-1374-44df-b853-77c0108fb546",
   "metadata": {},
   "source": [
    "### <span style=\"color:#4CC9F0\">Multiplicación Matricial</span>"
   ]
  },
  {
   "cell_type": "markdown",
   "id": "147d0eab",
   "metadata": {},
   "source": [
    "Para la multiplicación de matrices usamos `np.matmul()` o `np.dot()`. hay que tener en cuenta la forma de las matrices"
   ]
  },
  {
   "cell_type": "code",
   "execution_count": 27,
   "id": "dd1a5b3b",
   "metadata": {},
   "outputs": [
    {
     "data": {
      "text/plain": [
       "array([[28, 10],\n",
       "       [73, 28]])"
      ]
     },
     "execution_count": 27,
     "metadata": {},
     "output_type": "execute_result"
    }
   ],
   "source": [
    "np.matmul(arr1, arr2.T)"
   ]
  },
  {
   "cell_type": "code",
   "execution_count": 28,
   "id": "333b7abc",
   "metadata": {},
   "outputs": [
    {
     "data": {
      "text/plain": [
       "array([[28, 10],\n",
       "       [73, 28]])"
      ]
     },
     "execution_count": 28,
     "metadata": {},
     "output_type": "execute_result"
    }
   ],
   "source": [
    "np.dot(arr1, arr2.T)"
   ]
  },
  {
   "cell_type": "markdown",
   "id": "9151ad8c",
   "metadata": {},
   "source": [
    "Se comportan distinto con matrices de dos dimensiones, para otros casos hacen cosas distintas"
   ]
  },
  {
   "cell_type": "code",
   "execution_count": 29,
   "id": "b4b74c6d",
   "metadata": {},
   "outputs": [
    {
     "name": "stdout",
     "output_type": "stream",
     "text": [
      "d =\n",
      " [[[ 1  2  3  4]\n",
      "  [ 5  6  7  8]]\n",
      "\n",
      " [[ 9 10 11 12]\n",
      "  [13 14 15 16]]] \n",
      "\n",
      "d.reshape =\n",
      " [[[ 1  2]\n",
      "  [ 3  4]\n",
      "  [ 5  6]\n",
      "  [ 7  8]]\n",
      "\n",
      " [[ 9 10]\n",
      "  [11 12]\n",
      "  [13 14]\n",
      "  [15 16]]] \n",
      "\n"
     ]
    },
    {
     "data": {
      "text/plain": [
       "array([[[[ 50,  60],\n",
       "         [130, 140]],\n",
       "\n",
       "        [[114, 140],\n",
       "         [322, 348]]],\n",
       "\n",
       "\n",
       "       [[[178, 220],\n",
       "         [514, 556]],\n",
       "\n",
       "        [[242, 300],\n",
       "         [706, 764]]]])"
      ]
     },
     "execution_count": 29,
     "metadata": {},
     "output_type": "execute_result"
    }
   ],
   "source": [
    "print(\"d =\\n\",d,\"\\n\") #2,2,4\n",
    "print(\"d.reshape =\\n\",d.reshape(2,4,2),\"\\n\") #2,4,2\n",
    "np.dot(d,d.reshape(2,4,2)) #2,2,2,2"
   ]
  },
  {
   "cell_type": "code",
   "execution_count": 30,
   "id": "8f8a66cb-f25e-4f3b-81e2-2bb49412d8f2",
   "metadata": {},
   "outputs": [
    {
     "name": "stdout",
     "output_type": "stream",
     "text": [
      "[[ 50  60]\n",
      " [114 140]] \n",
      "\n",
      "[[130 140]\n",
      " [322 348]] \n",
      "\n",
      "[[178 220]\n",
      " [242 300]] \n",
      "\n",
      "[[514 556]\n",
      " [706 764]] \n",
      "\n"
     ]
    }
   ],
   "source": [
    "print(np.dot(d[0],d.reshape(2,4,2)[0]),\"\\n\")\n",
    "print(np.dot(d[0],d.reshape(2,4,2)[1]),\"\\n\")\n",
    "print(np.dot(d[1],d.reshape(2,4,2)[0]),\"\\n\")\n",
    "print(np.dot(d[1],d.reshape(2,4,2)[1]),\"\\n\")"
   ]
  },
  {
   "cell_type": "markdown",
   "id": "77a1b728-0d9e-4dd9-b566-8e3b284d63c8",
   "metadata": {},
   "source": [
    "Con *matmul* no se pueden multiplicar escalares **c.A** (c escalar, A matriz), además Matmul hace las multiplicaciones matriz a matriz (matrices como elementos), de ahí la diferencia con *dot*, donde este toma los números dentro de las matrices como elementos."
   ]
  },
  {
   "cell_type": "code",
   "execution_count": 31,
   "id": "d5b4e257",
   "metadata": {},
   "outputs": [
    {
     "data": {
      "text/plain": [
       "array([[[ 50,  60],\n",
       "        [114, 140]],\n",
       "\n",
       "       [[514, 556],\n",
       "        [706, 764]]])"
      ]
     },
     "execution_count": 31,
     "metadata": {},
     "output_type": "execute_result"
    }
   ],
   "source": [
    "np.matmul(d,d.reshape(2,4,2))"
   ]
  },
  {
   "cell_type": "markdown",
   "id": "e16df42a",
   "metadata": {},
   "source": [
    "## <span style=\"color:#4361EE\">Filtros</span>"
   ]
  },
  {
   "cell_type": "markdown",
   "id": "924d8d45",
   "metadata": {},
   "source": [
    "Con numpy es posible filtrar elementos del array para así crear elementos nuevos. Se puede hacer a partir de \"indices booleanos\""
   ]
  },
  {
   "cell_type": "code",
   "execution_count": 17,
   "id": "d4ba5f59-24c1-44a3-bdff-8d996cc4d6d5",
   "metadata": {},
   "outputs": [
    {
     "name": "stdout",
     "output_type": "stream",
     "text": [
      "[43 44]\n"
     ]
    }
   ],
   "source": [
    "arr = np.array([41, 42, 43, 44])\n",
    "\n",
    "new_arr = arr[arr > 42]\n",
    "\n",
    "print(new_arr)"
   ]
  },
  {
   "cell_type": "markdown",
   "id": "f01c5c52",
   "metadata": {},
   "source": [
    "Esto se puede hacer en arrays de cualquier dimensión y tamaño, pero el resultado siempre será de dimensión 1, así que recuerden usar reshape(si es posible)"
   ]
  },
  {
   "cell_type": "code",
   "execution_count": 28,
   "id": "67de11b8",
   "metadata": {},
   "outputs": [
    {
     "name": "stdout",
     "output_type": "stream",
     "text": [
      "[[0 1 2 3 4]\n",
      " [5 6 7 8 9]]\n",
      "[1 3 5 7 9]\n",
      "no es posible manipular tamaño\n"
     ]
    }
   ],
   "source": [
    "arr = np.arange(10).reshape(2,-1)\n",
    "print(arr)\n",
    "\n",
    "new_arr = arr[arr % 2==1]\n",
    "\n",
    "print(new_arr)\n",
    "\n",
    "try: \n",
    "    new_arr = new_arr.reshape(2,-1)\n",
    "    print(new_arr)\n",
    "except:\n",
    "    print(\"no es posible manipular tamaño\")\n"
   ]
  },
  {
   "cell_type": "markdown",
   "id": "51efd9a1",
   "metadata": {},
   "source": [
    "## <span style=\"color:#4361EE\">Generación \"Aleatoria\" básica</span>"
   ]
  },
  {
   "cell_type": "markdown",
   "id": "61b1ac40",
   "metadata": {},
   "source": [
    "en la forma más básica, numpy tiene la función `random` para generar números aleatorios"
   ]
  },
  {
   "cell_type": "code",
   "execution_count": 34,
   "id": "0002dd0b",
   "metadata": {},
   "outputs": [
    {
     "name": "stdout",
     "output_type": "stream",
     "text": [
      "33\n",
      "0.9226545140340668\n"
     ]
    }
   ],
   "source": [
    "from numpy import random\n",
    "\n",
    "x = random.randint(100) #caso entero\n",
    "\n",
    "print(x)\n",
    "\n",
    "y = random.rand() #caso flotante entre 0 y 1\n",
    "\n",
    "print(y)"
   ]
  },
  {
   "cell_type": "markdown",
   "id": "6d6ee094",
   "metadata": {},
   "source": [
    "Extendamos esto a arrays aleatorios"
   ]
  },
  {
   "cell_type": "code",
   "execution_count": 36,
   "id": "e3081ab3",
   "metadata": {},
   "outputs": [
    {
     "name": "stdout",
     "output_type": "stream",
     "text": [
      "[37 95 91 81 69]\n",
      "[[97 42 41]\n",
      " [41 43 92]]\n"
     ]
    }
   ],
   "source": [
    "x = random.randint(100, size = (5))\n",
    "print(x)\n",
    "\n",
    "x = random.randint(100, size=(2,3))\n",
    "print(x)"
   ]
  },
  {
   "cell_type": "code",
   "execution_count": 37,
   "id": "4437c670",
   "metadata": {},
   "outputs": [
    {
     "name": "stdout",
     "output_type": "stream",
     "text": [
      "[0.21035153 0.92409093 0.94107593 0.97603119 0.86538786]\n",
      "[[0.96456792 0.47401683 0.40890019]\n",
      " [0.654028   0.51563268 0.93251964]]\n"
     ]
    }
   ],
   "source": [
    "x = random.rand(5)\n",
    "print(x)\n",
    "\n",
    "x = random.rand(2,3)\n",
    "print(x)"
   ]
  },
  {
   "cell_type": "code",
   "execution_count": null,
   "id": "cc550997",
   "metadata": {},
   "outputs": [],
   "source": []
  }
 ],
 "metadata": {
  "kernelspec": {
   "display_name": "Python 3 (ipykernel)",
   "language": "python",
   "name": "python3"
  },
  "language_info": {
   "codemirror_mode": {
    "name": "ipython",
    "version": 3
   },
   "file_extension": ".py",
   "mimetype": "text/x-python",
   "name": "python",
   "nbconvert_exporter": "python",
   "pygments_lexer": "ipython3",
   "version": "3.9.12"
  },
  "vscode": {
   "interpreter": {
    "hash": "cf92aa13fedf815d5c8dd192b8d835913fde3e8bc926b2a0ad6cc74ef2ba3ca2"
   }
  }
 },
 "nbformat": 4,
 "nbformat_minor": 5
}
