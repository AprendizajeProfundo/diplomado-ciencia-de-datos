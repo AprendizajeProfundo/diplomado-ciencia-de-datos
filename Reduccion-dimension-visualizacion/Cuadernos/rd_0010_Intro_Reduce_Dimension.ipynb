{
 "cells": [
  {
   "cell_type": "markdown",
   "id": "fe7e97fe-2121-4e3d-bba0-e5208d5256d8",
   "metadata": {
    "slideshow": {
     "slide_type": "slide"
    },
    "tags": []
   },
   "source": [
    "<figure> \n",
    "<img src=\"../Imagenes/logo-final-ap.png\"  width=\"80\" height=\"80\" align=\"left\"/> \n",
    "</figure>\n",
    "\n",
    "# <span style=\"color:blue\"><left>Aprendizaje Profundo</left></span>"
   ]
  },
  {
   "cell_type": "markdown",
   "id": "9600e515-624c-431d-8d62-89e170ebdec3",
   "metadata": {},
   "source": [
    "# <span style=\"color:red\"><center>Introducción al concepto de dimensión</center></span>"
   ]
  },
  {
   "cell_type": "markdown",
   "id": "33dd1c20-4b26-43bb-b456-7babcc2ed154",
   "metadata": {},
   "source": [
    "<figure>\n",
    "    <center>\n",
    "        <img src=\"../Imagenes/Fractal_Cubism_2022_Study_of_Birds.png\" width=\"800\" height=\"600\" align=\"center\"/> \n",
    "            <figcaption>\n",
    "            </figcaption>\n",
    "    </center>\n",
    "</figure>\n",
    "\n",
    "Fuente: <a href=\"https://commons.wikimedia.org/wiki/File:Fractal_Cubism_2022_Study_of_Birds.png\">David S. Soriano</a>, <a href=\"https://creativecommons.org/licenses/by-sa/4.0\">CC BY-SA 4.0</a>, via Wikimedia Commons"
   ]
  },
  {
   "cell_type": "markdown",
   "id": "779854a9-3c83-4024-81fb-0cbfc835a903",
   "metadata": {
    "slideshow": {
     "slide_type": "slide"
    },
    "tags": []
   },
   "source": [
    "## <span style=\"color:blue\">Autores</span>"
   ]
  },
  {
   "cell_type": "markdown",
   "id": "2259f06b-5c6a-4a1a-84c9-8303cfd03e52",
   "metadata": {},
   "source": [
    "1. Alvaro  Montenegro, PhD, ammontenegrod@unal.edu.co\n",
    "1. Daniel  Montenegro, Msc, dammontenegrore@unal.edu.co\n"
   ]
  },
  {
   "cell_type": "markdown",
   "id": "7b8ea0f5-e944-41f0-b0cd-a24c89dcdb45",
   "metadata": {},
   "source": [
    "## <span style=\"color:blue\">Asesora de Medios y  Marketing</span>"
   ]
  },
  {
   "cell_type": "markdown",
   "id": "ff0e0143-e2ca-465a-afe9-6f7e32cc8c52",
   "metadata": {},
   "source": [
    "1. Maria del Pilar Montenegro, pmontenegro88@gmail.com"
   ]
  },
  {
   "cell_type": "markdown",
   "id": "e498e119-c5b2-451f-a6bd-c594103d4a47",
   "metadata": {},
   "source": [
    "## <span style=\"color:blue\">Contenido</span>"
   ]
  },
  {
   "cell_type": "markdown",
   "id": "9a598694-9c24-44e5-8536-445f0b3cb932",
   "metadata": {},
   "source": [
    "* [Introducción](#Introducción)\n",
    "* [¿Cuántas dimensiones vemos?](#¿Cuántas#dimensiones#vemos?)\n",
    "    * [Un ejemplo en 4D](#Un-ejemplo-en-4D)\n",
    "* [Flatland: A Romance of Many Dimensions](#Flatland:-A-Romance-of-Many-Dimensions)\n",
    "* [Algunos objetos tienen dimensión inesperada](#Algunos-objetos-no-tienen-dimensión-entera)\n",
    "    * [Midiendo la costa de Gran Bretaña](#Midiendo-la-costa-de-Gran-Bretaña)\n",
    "    * [La curva de Hilbert: una línea de dimensión 2](#La-curva-de-Hilbert:-una-línea-de-dimensión-2)   \n",
    "* [Los fractales](#Algunos-fractales)\n",
    "    * [El conjunto de Mendelbrot](#El-conjunto-de-Mendelbrot)\n",
    "    * [El triángulo de Sierpinsky](#El-triángulo-de-Sierpinsky)\n",
    "     * [La curva de Koch](#La-curva-de-Kock)\n",
    "* [Fractales en la naturaleza](#Fractales-en-la-naturaleza)\n",
    "    * [El rayo](#El-rayo)\n",
    "    * [El vegetal Romanescu](#El-vegetal-Romanescu)\n",
    "    * [Una paisaje montañoso](#Una-paisaje-montañoso)\n",
    "* [¿Qué significa entonces dimensión?](#¿Qué-significa-entonces-dimensión?)\n",
    "    * [Una paisaje montañoso](#Una-paisaje-montañoso)\n",
    "* [El problema de la maldición de la dimensionalidad](#El-problema-de-la-maldición-de-la-dimensionalidad)\n",
    "    * [La esfera de alta dimensión](#La-esfera-de-alta-dimensión)\n",
    "    * [La esfera y el cubo en dimensiones superiores](#La-esfera-y-el-cubo-en-dimensiones-superiores)\n",
    "    * [Para concluir](#Para-concluir)\n"
   ]
  },
  {
   "cell_type": "markdown",
   "id": "9e316315-d280-4072-8fea-62d343626142",
   "metadata": {},
   "source": [
    "## <span style=\"color:blue\">Introducción</span>"
   ]
  },
  {
   "cell_type": "markdown",
   "id": "490b2fa5-fb2b-44a5-8a40-4c7ef1076d61",
   "metadata": {},
   "source": [
    "La reducción de la dimensión es el proceso de reducir el número total de características  o variables (features) en un conjunto de datos,  utilizando estrategias como la selección o extracción de características de un conjunto de datos.\n",
    "\n",
    "Existen multitud de algoritmos para la reducción de la dimensión, los cuales podemos agrupar principalmente en dos categorías: \n",
    "\n",
    "* métodos lineales y \n",
    "* métodos no lineales.\n",
    "\n",
    "Antes de hacer nuestro recorrido, veamos las siguientes imágenes y preguntemos  sobre el concepto  mismo de dimensión."
   ]
  },
  {
   "cell_type": "markdown",
   "id": "694e26a1-776e-4038-b96a-2cf7b64123af",
   "metadata": {
    "slideshow": {
     "slide_type": "slide"
    },
    "tags": []
   },
   "source": [
    "## <span style=\"color:blue\">¿Cuántas dimensiones vemos?</span>"
   ]
  },
  {
   "cell_type": "markdown",
   "id": "729db9dc-55a6-4c3c-8297-b2bdbfecaba9",
   "metadata": {
    "slideshow": {
     "slide_type": "slide"
    },
    "tags": []
   },
   "source": [
    "Empecemos por revisar lo que nos dice la intuición sobre el concepto de dimensión. \n",
    "\n",
    "¿Cuántas dimensiones ves en los siguientes objetos?"
   ]
  },
  {
   "cell_type": "markdown",
   "id": "8e7dd426-5c2d-4f41-aa4c-e2cda1cbd5dc",
   "metadata": {
    "slideshow": {
     "slide_type": "subslide"
    },
    "tags": []
   },
   "source": [
    "<figure>\n",
    "    <center>\n",
    "        <img src=\"../Imagenes/dot.jpg\" width=\"200\" height=\"200\" align=\"center\"/> \n",
    "            <figcaption>Un Punto.\n",
    "            </figcaption>\n",
    "    </center>\n",
    "</figure>"
   ]
  },
  {
   "cell_type": "markdown",
   "id": "2c2b489f-cd50-4dcf-97c5-43c2485db963",
   "metadata": {
    "slideshow": {
     "slide_type": "subslide"
    },
    "tags": []
   },
   "source": [
    "<figure>\n",
    "    <center>\n",
    "        <img src=\"../Imagenes/line.jpg\" width=\"200\" height=\"200\" align=\"center\"/> \n",
    "            <figcaption>Una línea.\n",
    "            </figcaption>\n",
    "    </center>\n",
    "</figure>"
   ]
  },
  {
   "cell_type": "markdown",
   "id": "dce12c77-35a9-4d62-9e3c-bd5ca214dd1a",
   "metadata": {
    "slideshow": {
     "slide_type": "subslide"
    },
    "tags": []
   },
   "source": [
    "<figure>\n",
    "    <center>\n",
    "        <img src=\"../Imagenes/square.png\" width=\"200\" height=\"200\" align=\"center\"/> \n",
    "            <figcaption>Un cuadrado.\n",
    "            </figcaption>\n",
    "    </center>\n",
    "</figure>"
   ]
  },
  {
   "cell_type": "markdown",
   "id": "f9de0a8d-0f7a-4142-8358-2c8d6514edcc",
   "metadata": {
    "slideshow": {
     "slide_type": "subslide"
    },
    "tags": []
   },
   "source": [
    "<figure>\n",
    "    <center>\n",
    "        <img src=\"../Imagenes/Archimedean_spiral_squared.png\" width=\"200\" height=\"200\" align=\"center\"/> \n",
    "            <figcaption>Espiral Arquimediana\n",
    "            </figcaption>\n",
    "    </center>\n",
    "</figure>\n",
    "\n",
    "Fuente: <a href=\"https://commons.wikimedia.org/wiki/File:Archimedean_spiral_squared.png\">Kmhkmh</a>, <a href=\"https://creativecommons.org/licenses/by/3.0\">CC BY 3.0</a>, via Wikimedia Commons"
   ]
  },
  {
   "cell_type": "markdown",
   "id": "97a4a2a5-0e9b-45cc-8335-52949635e4b6",
   "metadata": {
    "slideshow": {
     "slide_type": "slide"
    },
    "tags": []
   },
   "source": [
    "<figure>\n",
    "    <center>\n",
    "        <img src=\"../Imagenes/rectangulo.png\" width=\"200\" height=\"200\" align=\"center\"/> \n",
    "            <figcaption>Un rectángulo lleno.\n",
    "            </figcaption>\n",
    "    </center>\n",
    "</figure>\n",
    "\n",
    "Fuente: Alvaro Montenegro"
   ]
  },
  {
   "cell_type": "markdown",
   "id": "8f60db18-6426-48ea-9b8d-65fddfef79ed",
   "metadata": {
    "slideshow": {
     "slide_type": "subslide"
    },
    "tags": []
   },
   "source": [
    "<figure>\n",
    "    <center>\n",
    "        <img src=\"../Imagenes/Nasa_blue_marble.jpg\" width=\"300\" height=\"300\" align=\"center\"/> \n",
    "            <figcaption>La Tierra, por NASA.\n",
    "            </figcaption>\n",
    "    </center>\n",
    "</figure>\n",
    "\n",
    "Fuente: <a href=\"https://commons.wikimedia.org/wiki/File:Nasa_blue_marble.jpg\">NASA/ GSFC/ NOAA/ USGS</a>, Public domain, via Wikimedia Commons"
   ]
  },
  {
   "cell_type": "markdown",
   "id": "6ddddccc-2fbb-45f4-b776-6dd85748eb78",
   "metadata": {
    "slideshow": {
     "slide_type": "subslide"
    },
    "tags": []
   },
   "source": [
    "### <span style=\"color:#4CC9F0\">Un ejemplo en 4D </span>"
   ]
  },
  {
   "cell_type": "markdown",
   "id": "c9e5c534-1657-489f-9421-33518038cd60",
   "metadata": {
    "slideshow": {
     "slide_type": "subslide"
    },
    "tags": []
   },
   "source": [
    "<figure>\n",
    "    <center>\n",
    "        <img src=\"../Imagenes/8-cell-orig.gif\" width=\"300\" height=\"300\" align=\"center\"/> \n",
    "            <figcaption>Proyeccción de un hipercubo 4D en $\\mathfrak{R}^3$\n",
    "            </figcaption>\n",
    "    </center>\n",
    "</figure>\n",
    "\n",
    "\n",
    "\n",
    "Fuente: <a href=\"https://commons.wikimedia.org/wiki/File:8-cell-orig.gif\">Jason Hise</a>, CC0, via Wikimedia Commons"
   ]
  },
  {
   "cell_type": "markdown",
   "id": "3232be00-072e-4f1c-b56b-1f34d38979b6",
   "metadata": {
    "slideshow": {
     "slide_type": "slide"
    },
    "tags": []
   },
   "source": [
    "## <span style=\"color:blue\">Flatland: A Romance of Many Dimensions</span>"
   ]
  },
  {
   "cell_type": "markdown",
   "id": "8b91033b-bf1d-4acf-9410-937a1cdbbc01",
   "metadata": {
    "slideshow": {
     "slide_type": "slide"
    },
    "tags": []
   },
   "source": [
    "Esta es una novela muy simpática que trata de un sociedad que vive en el plano. El autor describe las formas geométricas de los objetos, las castas  y jerarquías en la sociedad. La novela llega a un punto culminante, cuando algo o alguien  saca al protagonista del plano a la tercera dimensión. \n",
    "\n",
    "\n",
    "- ¿Puedes imaginar todo esto?\n",
    "\n",
    "- ¿Como es posible explicar la tercera dimensión a seres que viven en el plano?\n",
    "\n",
    "Te invitamos a reflexionar sobre la novela y eventualmente leerla. Se puede encontrar en forma gratuita en  <a href =\"https://en.wikisource.org/wiki/Flatland_(fifth_edition)\">Flatland (Quinta Edición): Wikisource</a></center>"
   ]
  },
  {
   "cell_type": "markdown",
   "id": "afabd744-0161-40a5-8062-3ece15ac25ea",
   "metadata": {
    "slideshow": {
     "slide_type": "fragment"
    },
    "tags": []
   },
   "source": [
    "<figure>\n",
    "    <center>\n",
    "        <img src=\"../Imagenes/flatland_cover.jpg\" width=\"400\" height=\"550\" align=\"center\"/>\n",
    "    </center>\n",
    "</figure>"
   ]
  },
  {
   "cell_type": "markdown",
   "id": "33a55600-1c4c-441c-9df9-a81da6a9fa1d",
   "metadata": {
    "slideshow": {
     "slide_type": "subslide"
    },
    "tags": []
   },
   "source": [
    "<figure>\n",
    "    <center>\n",
    "        <img src=\"../Imagenes/flatland.jpg\" align=\"center\"/> \n",
    "            <figcaption>Casa típica en Flatland\n",
    "            </figcaption>\n",
    "    </center>\n",
    "</figure>"
   ]
  },
  {
   "cell_type": "markdown",
   "id": "64b36273-a379-44d4-93e9-017c3c9fe847",
   "metadata": {
    "slideshow": {
     "slide_type": "subslide"
    },
    "tags": []
   },
   "source": [
    "## <span style=\"color:blue\">Algunos objetos tienen dimensión inesperada</span>"
   ]
  },
  {
   "cell_type": "markdown",
   "id": "af708c70-a00f-4f1b-ae96-160b6842f760",
   "metadata": {
    "slideshow": {
     "slide_type": "subslide"
    },
    "tags": []
   },
   "source": [
    "### <span style=\"color:#4CC9F0\">Midiendo la costa de Gran Bretaña</span>"
   ]
  },
  {
   "cell_type": "markdown",
   "id": "57bca07c-c3da-48ef-b24f-9b7dffa5f490",
   "metadata": {
    "slideshow": {
     "slide_type": "subslide"
    },
    "tags": []
   },
   "source": [
    "Este fenómeno se conoce como la pradoja de la línea de  la costa."
   ]
  },
  {
   "cell_type": "markdown",
   "id": "93c9b1b5-eabc-407e-8c8e-b28a9abc8816",
   "metadata": {
    "slideshow": {
     "slide_type": "fragment"
    },
    "tags": []
   },
   "source": [
    "<figure>\n",
    "    <center>\n",
    "        <img src=\"../Imagenes/coastline_1.png\" width=\"180\" height=\"180\" align=\"center\"/> \n",
    "            <figcaption>Midiendo con regla gruesa, \n",
    "            </figcaption>\n",
    "    </center>\n",
    "</figure>\n",
    "Fuente: <a href=\"https://commons.wikimedia.org/wiki/File:Britain_Fractal_Coastline_100km.png\">Adrianlattes</a>, <a href=\"https://creativecommons.org/licenses/by-sa/4.0\">CC BY-SA 4.0</a>, via Wikimedia Commons"
   ]
  },
  {
   "cell_type": "markdown",
   "id": "80077f82-a583-4dc4-a8b3-bab156d3137a",
   "metadata": {
    "slideshow": {
     "slide_type": "subslide"
    },
    "tags": []
   },
   "source": [
    "<figure>\n",
    "    <center>\n",
    "        <img src=\"../Imagenes/Britain-fractal-coastline-combined.jpg\" width=\"450\" height=\"450\"align=\"center\"/> \n",
    "            <figcaption>Midiendo con regla fina</figcaption>\n",
    "    </center>\n",
    "</figure>\n",
    "\n",
    "Fuente: <a href=\"https://commons.wikimedia.org/wiki/File:Britain-fractal-coastline-combined.jpg\">originals made by Avsa mixed by Acadac</a>, <a href=\"http://creativecommons.org/licenses/by-sa/3.0/\">CC BY-SA 3.0</a>, via Wikimedia Commons"
   ]
  },
  {
   "cell_type": "markdown",
   "id": "8ff9788b-9d32-4f60-961a-f9affbc95ec7",
   "metadata": {
    "slideshow": {
     "slide_type": "subslide"
    },
    "tags": []
   },
   "source": [
    "Si seguimos midiendo con regla más fina:"
   ]
  },
  {
   "cell_type": "markdown",
   "id": "56926c64-c9b4-4647-9f71-da6f64684d61",
   "metadata": {
    "slideshow": {
     "slide_type": "fragment"
    },
    "tags": []
   },
   "source": [
    "<strong>a) Tenemos una medida finita (digamos 4000 metros).</strong>"
   ]
  },
  {
   "cell_type": "markdown",
   "id": "c212bd76-6c53-4bda-b2d5-4d4e3325d9be",
   "metadata": {
    "slideshow": {
     "slide_type": "fragment"
    },
    "tags": []
   },
   "source": [
    "<strong>b) Nunca acabaríamos de medir.</strong>"
   ]
  },
  {
   "cell_type": "markdown",
   "id": "3a1cb113-e638-49e0-9030-2b37655fccc0",
   "metadata": {
    "slideshow": {
     "slide_type": "subslide"
    },
    "tags": []
   },
   "source": [
    "<center><a href=\"https://en.wikipedia.org/wiki/Coastline_paradox\">Paradoja de la línea de costa</a></center>"
   ]
  },
  {
   "cell_type": "markdown",
   "id": "5247beb0-f013-44c8-b0a4-9d301b319798",
   "metadata": {
    "slideshow": {
     "slide_type": "subslide"
    },
    "tags": []
   },
   "source": [
    "### <span style=\"color:#4CC9F0\">La curva de Hilbert: una línea de dimensión 2</span>"
   ]
  },
  {
   "cell_type": "markdown",
   "id": "98da2aec-e459-4fcc-9cf1-fcee382ca493",
   "metadata": {},
   "source": [
    "Nuestro siguiente ejemplo se conoce como la curva de Hilbert. La imagen muestra los primeros pasos de la construcción. Esencialmente la curva llena todo el plano. Esta caracacterística de la curva permite establecer un mapeo entre $\\mathfrak{R}^2$ y $\\mathfrak{R}$, que es usado en algunos problemas informáticos. \n",
    "\n",
    "La curva de Hilbert se construye como un límite de curvas lineales por partes. La longitud de la $n$-enésima curva es $2^{n}-\\tfrac{1}{2^{n}}$, es decir, la longitud crece exponencialmente con $n$, aunque cada curva está contenida en un cuadrado con área 1.\n",
    "\n",
    "Tanto la curva de Hilbert verdadera como sus aproximaciones discretas son útiles porque brindan un mapeo entre el espacio 1D y 2D que preserva la localidad bastante bien. Esto significa que dos puntos de datos que están cerca uno del otro en un espacio unidimensional también lo están después del plegado. Lo contrario no siempre es ser cierto.\n",
    "\n",
    "Debido a esta propiedad de localidad, la curva de Hilbert se usa ampliamente en informática. Por ejemplo, el rango de direcciones IP utilizadas por las computadoras se puede mapear en una imagen usando la curva de Hilbert. El código para generar la imagen se mapearía de 2D a 1D para encontrar el color de cada píxel, y la curva de Hilbert a veces se usa porque mantiene las direcciones IP cercanas unas de otras en la imagen. \n",
    "\n",
    "La imagen muestra la construcción de la curva de Hilbert."
   ]
  },
  {
   "cell_type": "markdown",
   "id": "693ff284-8263-4317-9a9f-7b6f1b196c11",
   "metadata": {
    "slideshow": {
     "slide_type": "fragment"
    },
    "tags": []
   },
   "source": [
    "<figure>\n",
    "    <center>\n",
    "        <img src=\"../Imagenes/Hilbert_curve.gif\" width=\"400\" height=\"550\" align=\"center\"/> \n",
    "            <figcaption>Curva de Hilbert, $Dim_H = 2$\n",
    "            </figcaption>\n",
    "    </center>\n",
    "</figure>\n",
    "\n",
    "Fuente: <a href=\"https://commons.wikimedia.org/wiki/File:Hilbert_Curve.gif\">Rich-Bar</a>, <a href=\"https://creativecommons.org/licenses/by-sa/4.0\">CC BY-SA 4.0</a>, via Wikimedia Commons"
   ]
  },
  {
   "cell_type": "markdown",
   "id": "612cd709-244e-4275-8ec8-76f1bc837bc9",
   "metadata": {
    "slideshow": {
     "slide_type": "fragment"
    },
    "tags": []
   },
   "source": [
    "## <span style=\"color:blue\">Los fractales</span>"
   ]
  },
  {
   "cell_type": "markdown",
   "id": "4302380f-13be-49f2-8774-4771506a3de7",
   "metadata": {
    "slideshow": {
     "slide_type": "fragment"
    },
    "tags": []
   },
   "source": [
    "### <span style=\"color:#4CC9F0\">El conjunto de Mendelbrot</span>"
   ]
  },
  {
   "cell_type": "markdown",
   "id": "a702294e-7e40-46fb-8ffe-e937231144e0",
   "metadata": {
    "slideshow": {
     "slide_type": "fragment"
    },
    "tags": []
   },
   "source": [
    "Los fractales son objetos muy complejos, presentados por primera vez por Mendelbrot, que introduce el concepto de dimensión fractal, como una generalización conocida en los espacios Euclidianos. El asunto general es que existen objetos matemáticos, para los cuales su dimensión no solamente no es obvia, sino que además en el sentido de Mendelbrot, en realidad pueden tener dimensiones no enteras. A continuación puede ver algunos ejemplos de fractales. "
   ]
  },
  {
   "cell_type": "markdown",
   "id": "83941cbc-8556-4ba9-8b5b-a19fe2470272",
   "metadata": {
    "slideshow": {
     "slide_type": "subslide"
    },
    "tags": []
   },
   "source": [
    "<figure>\n",
    "    <center>\n",
    "        <img src=\"../Imagenes/mandelbrot.jpg\" align=\"center\"/>\n",
    "            <figcaption>Conjunto de Mandelbrot. $Dim_H = 2$, $Dim_{Set} = 2$, Created by <a href=&quot;//commons.wikimedia.org/wiki/User:Wolfgangbeyer&quot; title=&quot;User:Wolfgangbeyer&quot;&gt;Wolfgang Beyer&lt;/a&gt; with the program Ultra Fractal 3. - &lt;span class=&quot;int-own-work&quot; lang=&quot;en&quot;&gt;Own work&lt;/span&gt;, <a href=\"http://creativecommons.org/licenses/by-sa/3.0/\" title=\"Creative Commons Attribution-Share Alike 3.0\">CC BY-SA 3.0</a>, <a href=\"https://commons.wikimedia.org/w/index.php?curid=322029\">Link</a>\n",
    "            </figcaption>\n",
    "    </center>\n",
    "</figure>\n",
    "\n",
    "Fuente: [Attribution-ShareAlike 4.0 International](https://creativecommons.org/licenses/by-sa/4.0/) via Wikimedia Commons"
   ]
  },
  {
   "cell_type": "markdown",
   "id": "93231beb-542b-4789-b413-7d9727bbcc02",
   "metadata": {
    "slideshow": {
     "slide_type": "subslide"
    },
    "tags": []
   },
   "source": [
    "### <span style=\"color:#4CC9F0\">El triángulo de Sierpinsky</span>"
   ]
  },
  {
   "cell_type": "markdown",
   "id": "9e4b42c4-a689-4ea0-b4a3-af02c42aff9e",
   "metadata": {
    "slideshow": {
     "slide_type": "subslide"
    },
    "tags": []
   },
   "source": [
    "<figure>\n",
    "    <center>\n",
    "        <img src=\"../Imagenes/sierpinski_triangle.jpg\" align=\"center\"/>\n",
    "            <figcaption>Triángulo de Sierpinsky. $Dim_H = 1.5850$\n",
    "            </figcaption>\n",
    "    </center>\n",
    "</figure>\n",
    "\n",
    "Fuente: [Open domain](https://commons.wikimedia.org/wiki/File:Sierpinski_triangle_(RGB).jpg)  via Wikimedia Commons"
   ]
  },
  {
   "cell_type": "markdown",
   "id": "b11e7518-90e9-4aff-b973-848f6e3937b1",
   "metadata": {
    "slideshow": {
     "slide_type": "subslide"
    },
    "tags": []
   },
   "source": [
    "### <span style=\"color:#4CC9F0\">La curva de Koch</span>"
   ]
  },
  {
   "cell_type": "markdown",
   "id": "d571bfe8-48ca-4d99-8bba-a1eaed878894",
   "metadata": {
    "slideshow": {
     "slide_type": "subslide"
    },
    "tags": []
   },
   "source": [
    "<figure>\n",
    "    <center>\n",
    "        <img src=\"../Imagenes/koch_curve.gif\" width=\"400\" height=\"400\"  align=\"center\"/>\n",
    "            <figcaption>Curva de Koch. $Dim_H = 1.2619$\n",
    "            </figcaption>\n",
    "    </center>\n",
    "</figure>\n",
    "\n",
    "Fuente: <a href=\"https://commons.wikimedia.org/wiki/File:Von_Koch_curve.gif\">António Miguel de Campos</a>, Public domain, via Wikimedia Commons"
   ]
  },
  {
   "cell_type": "markdown",
   "id": "2914c839-8cf6-43a4-9f0d-5ca675b17774",
   "metadata": {
    "slideshow": {
     "slide_type": "subslide"
    },
    "tags": []
   },
   "source": [
    "¿Alguna vez ha visto un fractal en la vida real?"
   ]
  },
  {
   "cell_type": "markdown",
   "id": "15154240-1a95-4588-8a6d-7afeb5fe8dba",
   "metadata": {
    "slideshow": {
     "slide_type": "fragment"
    },
    "tags": []
   },
   "source": [
    "<strong>a) Sí.</strong>"
   ]
  },
  {
   "cell_type": "markdown",
   "id": "d65ac4c6-9d01-4697-8b61-544f65ad7018",
   "metadata": {
    "slideshow": {
     "slide_type": "fragment"
    },
    "tags": []
   },
   "source": [
    "<strong>b) No.</strong>"
   ]
  },
  {
   "cell_type": "markdown",
   "id": "1f2b4744-44d2-41a8-a1e4-b0a4a0eba7f4",
   "metadata": {
    "slideshow": {
     "slide_type": "subslide"
    },
    "tags": []
   },
   "source": [
    "## <span style=\"color:blue\">Fractales en la naturaleza</span>"
   ]
  },
  {
   "cell_type": "markdown",
   "id": "a6c63513-b8fc-41e9-b5e5-d69dbb779f1b",
   "metadata": {
    "slideshow": {
     "slide_type": "subslide"
    },
    "tags": []
   },
   "source": [
    "### <span style=\"color:#4CC9F0\">El rayo</span>"
   ]
  },
  {
   "cell_type": "markdown",
   "id": "db99f898-c7b8-4dd1-a528-891fa3ab030e",
   "metadata": {
    "slideshow": {
     "slide_type": "subslide"
    },
    "tags": []
   },
   "source": [
    "<figure>\n",
    "    <center>\n",
    "        <img src=\"../Imagenes/lightning.jpg\" align=\"center\"/>\n",
    "            <figcaption>Un rayo.\n",
    "            </figcaption>\n",
    "    </center>\n",
    "</figure>\n",
    "\n",
    "Fuente: <a href=\"https://commons.wikimedia.org/wiki/File:Suburban_lightning.jpg\">Bryan Bunton</a>, <a href=\"https://creativecommons.org/licenses/by/4.0\">CC BY 4.0</a>, via Wikimedia Commons"
   ]
  },
  {
   "cell_type": "markdown",
   "id": "ea512320-f8ed-4257-9ae0-cfb270b0546d",
   "metadata": {
    "slideshow": {
     "slide_type": "subslide"
    },
    "tags": []
   },
   "source": [
    "### <span style=\"color:#4CC9F0\">El vegetal Romanescu</span>"
   ]
  },
  {
   "cell_type": "markdown",
   "id": "73f6c83f-99fa-46dd-9b50-10cef6db142c",
   "metadata": {
    "slideshow": {
     "slide_type": "subslide"
    },
    "tags": []
   },
   "source": [
    "<figure>\n",
    "    <center>\n",
    "        <img src=\"../Imagenes/Romanescu.jpg\" align=\"center\"/> \n",
    "             <figcaption>Detalle de un vegetal llamado Romanescu, claro ejemplo de geometría fractal en el mundo natural.\n",
    "            </figcaption>\n",
    "    </center>\n",
    "</figure>\n",
    "\n",
    "Fuente : <a href=\"https://commons.wikimedia.org/wiki/File:Romanescu.JPG\">Rlunaro</a>, <a href=\"https://creativecommons.org/licenses/by-sa/3.0\">CC BY-SA 3.0</a>, via Wikimedia Commons"
   ]
  },
  {
   "cell_type": "markdown",
   "id": "110a7831-4c81-45eb-b0c0-fce197d72560",
   "metadata": {
    "slideshow": {
     "slide_type": "subslide"
    },
    "tags": []
   },
   "source": [
    "### <span style=\"color:#4CC9F0\">Una paisaje montañoso</span>"
   ]
  },
  {
   "cell_type": "markdown",
   "id": "312c8620-4f21-4cb4-9a05-0fa0868431a4",
   "metadata": {
    "slideshow": {
     "slide_type": "subslide"
    },
    "tags": []
   },
   "source": [
    "<figure>\n",
    "    <center>\n",
    "        <img src=\"../Imagenes/mountains.jpg\" align=\"center\"/> \n",
    "             <figcaption>Paisaje montañoso en Grecia\n",
    "            </figcaption>\n",
    "    </center>\n",
    "</figure>\n",
    "\n",
    "Fuente: <a href=\"https://commons.wikimedia.org/wiki/File:Rhodope_Mountains,_Paranesti,_Greece.jpg\">DocWoKav</a>, <a href=\"https://creativecommons.org/licenses/by-sa/4.0\">CC BY-SA 4.0</a>, via Wikimedia Commons"
   ]
  },
  {
   "cell_type": "markdown",
   "id": "9e7f2754-1407-40bb-8c1f-a80985196676",
   "metadata": {
    "slideshow": {
     "slide_type": "slide"
    },
    "tags": []
   },
   "source": [
    "## <span style=\"color:blue\">¿Qué significa entonces dimensión?</span>"
   ]
  },
  {
   "cell_type": "markdown",
   "id": "ea55957a-7771-4134-9014-b482e4d3f4ae",
   "metadata": {
    "slideshow": {
     "slide_type": "fragment"
    },
    "tags": []
   },
   "source": [
    "Existen:\n",
    "\n",
    "- Dimensión de un Espacio Vectorial.\n",
    "- Dimensión Topológica.\n",
    "- Dimensión de Krull.\n",
    "- Dimensiones Fractales.\n",
    "- ..."
   ]
  },
  {
   "cell_type": "markdown",
   "id": "238dd157-504a-488d-9719-d4be3e86dbbc",
   "metadata": {
    "slideshow": {
     "slide_type": "fragment"
    },
    "tags": []
   },
   "source": [
    "## <span style=\"color:blue\">El problema de la maldición de la dimensionalidad </span>"
   ]
  },
  {
   "cell_type": "markdown",
   "id": "1ab05636-3e0f-4a2a-b107-0b868d6bc9d1",
   "metadata": {
    "slideshow": {
     "slide_type": "fragment"
    },
    "tags": []
   },
   "source": [
    "Desde un punto de vista teórico, las dificultades de alta dimensión aumentan en la **maldición de la dimensión**. En la siguiente sección, mostramos cómo las propiedades bien conocidas de los espacios euclidianos 2D o 3D dan paso a fenómenos extraños.\n",
    "\n",
    "La maldición de la dimensionalidad se refiere a varios fenómenos que surgen al analizar y organizar datos en espacios de alta dimensión que no ocurren en entornos de baja dimensión, como el espacio físico tridimensional de la experiencia cotidiana. La expresión fue acuñada por Richard E. Bellman al considerar problemas en programación dinámica.\n",
    "\n",
    "Los fenómenos dimensionalmente malditos ocurren en dominios como el análisis numérico, el muestreo, la combinatoria, el aprendizaje automático, la minería de datos y las bases de datos. El tema común de estos problemas es que cuando aumenta la dimensionalidad, el volumen del espacio aumenta tan rápido que los datos disponibles se vuelven escasos. Para obtener un resultado fiable, la cantidad de datos necesarios a menudo crece exponencialmente con la dimensionalidad. \n",
    "\n",
    "Además, la organización y búsqueda de datos a menudo se basa en la detección de áreas donde los objetos forman grupos con propiedades similares; Sin embargo, en datos de alta dimensión, todos los objetos parecen ser escasos y diferentes en muchos aspectos, lo que impide que las estrategias comunes de organización de datos sean eficientes.\n",
    "\n",
    "En la siguiente imagen se observa como al agrandar al dimensión del espacio, el volumen comienza a crecer en forma explosiva."
   ]
  },
  {
   "cell_type": "code",
   "execution_count": 4,
   "id": "e693416d-3d2d-45af-9d4e-35e993ed51bb",
   "metadata": {},
   "outputs": [
    {
     "data": {
      "application/vnd.jupyter.widget-view+json": {
       "model_id": "e996c8f2890443faaa660219d4346615",
       "version_major": 2,
       "version_minor": 0
      },
      "image/png": "[encoded data removed]",
      "text/html": [
       "\n",
       "            <div style=\"display: inline-block;\">\n",
       "                <div class=\"jupyter-widgets widget-label\" style=\"text-align: center;\">\n",
       "                    Figure\n",
       "                </div>\n",
       "                <img src='data:image/png;base64,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' width=800.0/>\n",
       "            </div>\n",
       "        "
      ],
      "text/plain": [
       "Canvas(toolbar=Toolbar(toolitems=[('Home', 'Reset original view', 'home', 'home'), ('Back', 'Back to previous …"
      ]
     },
     "metadata": {},
     "output_type": "display_data"
    }
   ],
   "source": [
    "\n",
    "from mpl_toolkits.mplot3d import Axes3D  # noqa: F401 unused import\n",
    "import matplotlib.pyplot as plt\n",
    "import numpy as np\n",
    "\n",
    "# Fixing random state for reproducibility\n",
    "np.random.seed(19680801)\n",
    "\n",
    "# uniform numbers between vmin and vmax\n",
    "def randrange(n, vmin, vmax):\n",
    "    return (vmax - vmin)*np.random.rand(n) + vmin\n",
    "\n",
    "v_min = 0\n",
    "v_max = 5\n",
    "\n",
    "n = 50\n",
    "\n",
    "xs = randrange(n, v_min, v_max)\n",
    "ys = randrange(n, v_min, v_max)\n",
    "zs = randrange(n, v_min, v_max)\n",
    "\n",
    "fig = plt.figure(figsize=(8,4))\n",
    "\n",
    "y_0 = np.zeros(n)\n",
    "\n",
    "ax = fig.add_subplot(131)\n",
    "ax.plot(xs,y_0,  marker='o')\n",
    "ax.set_xlabel('Una dimensión')\n",
    "#ax.set_ylabel('Eje Y')\n",
    "\n",
    "ax = fig.add_subplot(132)\n",
    "ax.scatter(xs, ys,  marker='o')\n",
    "ax.set_xlabel('Dos dimensiones')\n",
    "\n",
    "\n",
    "ax = fig.add_subplot(133, projection='3d')\n",
    "ax.scatter(xs, ys, zs, marker='o')\n",
    "ax.set_xlabel('Tres dimensiones')\n",
    "\n",
    "plt.suptitle('Maldición de la dimensión', fontsize=20)\n",
    "plt.show()"
   ]
  },
  {
   "cell_type": "markdown",
   "id": "3dfa943a-cb1e-42da-8191-8d0805caadd9",
   "metadata": {},
   "source": [
    "### <span style=\"color:#4CC9F0\">La esfera de alta dimensión</span>"
   ]
  },
  {
   "cell_type": "markdown",
   "id": "7556f547-b3e3-4d30-a6fa-6a4372c686ce",
   "metadata": {},
   "source": [
    "Uno de los hechos interesantes sobre una esfera de radio unitario en dimensiones altas es que\n",
    "a medida que aumenta la dimensión, el volumen de la esfera tiende a cero. Esto tiene importante\n",
    "trascendencia. Además, el volumen de una esfera de alta dimensión está esencialmente contenido en su totalidad en una rebanada delgada en el ecuador y está contenido simultáneamente en un anillo angosto en la superficie. Esencialmente no hay volumen interior. De manera similar, el área de la superficie está esencialmente todo en el ecuador.\n",
    "\n",
    "Estos hechos pueden demostrarse matemáticamente. Su desarrollo está por fuera del alcance de esta lección, pero mencionarmos algunos detalles."
   ]
  },
  {
   "cell_type": "markdown",
   "id": "166ebbfe-fee8-48a4-8eb2-5ade1b0a50a3",
   "metadata": {},
   "source": [
    "### <span style=\"color:#4CC9F0\">La esfera y el cubo en dimensiones superiores</span>"
   ]
  },
  {
   "cell_type": "markdown",
   "id": "c2c479c8-8e0e-45a8-a8ed-195ec9268040",
   "metadata": {},
   "source": [
    "\n",
    "<figure>\n",
    "    <center>\n",
    "        <img src=\"../Imagenes/CJNRb.png\" align=\"center\"/> \n",
    "             <figcaption>Cubo inscrito en una esfera</figcaption>\n",
    "    </center>\n",
    "</figure>\n",
    "\n",
    "Fuente:  [Producido con código Latex](https://tex.stackexchange.com/questions/165223/using-tikz-is-it-possible-to-draw-a-cube-within-a-sphere)\n"
   ]
  },
  {
   "cell_type": "markdown",
   "id": "eb6ce40e-da2c-46e1-bdd1-7cd97c66a044",
   "metadata": {},
   "source": [
    "Considere la diferencia entre el volumen de un cubo con lados de longitud unitaria y el\n",
    "volumen de una esfera de radio unitario a medida que aumenta la dimensión $d$ del espacio. \n",
    "\n",
    "A medida que aumenta la dimensión del cubo, su volumen es siempre uno y la distancia máxima posible entre dos puntos crece como $\\sqrt{d}$.\n",
    "\n",
    "Por el contrario, mientras la dimensión de una esfera de radio unitario  aumenta, su volumen tiende a cero y la distancia máxima posible entre dos puntos se queda en dos.\n",
    "\n",
    "\n",
    "Tenga en cuenta que para d=2, el cuadrado unitario centrado en el origen se encuentra completamente dentro del círculo de radio unitario. La distancia del origen a un vértice del cuadrado es\n",
    "\n",
    "$$\n",
    "\\sqrt{\\left(\\tfrac{1}{2} \\right)^2 + \\left(\\tfrac{1}{2} \\right)^2}  = \\tfrac{\\sqrt{2}}{2}\\approx 0.77 \n",
    "$$\n",
    "\n",
    "y así el cuadrado está dentro del círculo. En $d=4$, la distancia del origen a un vértice\n",
    "de un cubo unitario centrado en el origen es\n",
    "\n",
    "$$\n",
    "\\sqrt{\\left(\\tfrac{1}{2} \\right)^2 + \\left(\\tfrac{1}{2} \\right)^2 + \\left(\\tfrac{1}{2} \\right)^2 + \\left(\\tfrac{1}{2} \\right)^2}  = 1\n",
    "$$\n",
    "\n",
    "y en consecuencia el vértice se encuentra en la superficie de la unidad 4-esfera centrada en el origen. \n",
    "\n",
    "A medida que aumenta la dimensión $d$, la distancia desde el origen hasta un vértice del cubo aumenta exáctamente como \n",
    "\n",
    "\n",
    "$$\n",
    "\\sqrt{\\tfrac{d}{2}},\n",
    "$$\n",
    "\n",
    "y para $d$ grande, los vértices del cubo se encuentran fuera de la esfera unitaria. La siguiente figura ilustra conceptualmente un cubo y una esfera. Los vértices del cubo están a distancia $\\sqrt{\\tfrac{d}{2}}$. Luego de la dimensión 4, los vértices del cubo están por fuera de la esfera.\n"
   ]
  },
  {
   "cell_type": "markdown",
   "id": "eb54fa19-263c-4ea0-b2e3-45fd92808ad0",
   "metadata": {},
   "source": [
    "\n",
    "<figure>\n",
    "    <center>\n",
    "        <img src=\"../Imagenes/cube_n_dim.png\" width=\"300\" height=\"300\"  align=\"center\"/> \n",
    "             <figcaption>Cubo y esfera en varias dimensiones</figcaption>\n",
    "    </center>\n",
    "</figure>\n",
    "\n",
    "Fuente:  [Conceptualizing Curse of Dimensionality with Parallel Coordinates](https://ojs.aaai.org/index.php/AAAI/article/view/9855)\n"
   ]
  },
  {
   "cell_type": "markdown",
   "id": "d15a4510-805a-45c7-a2ae-8e21d09c2c2f",
   "metadata": {},
   "source": [
    "Adicionalmente podemos comprobar que\n",
    "\n",
    "$$\n",
    "\\begin{equation}\n",
    "\\lim\\limits_{D\\to \\infty} \\frac{V_{sphere}}{V_{cube}} = 0.\n",
    "\\end{equation}\n",
    "$$"
   ]
  },
  {
   "cell_type": "markdown",
   "id": "2fd1e393-8c1a-4955-993d-524a77a493f4",
   "metadata": {},
   "source": [
    "Todo esto es muy extraño. Un cubo $n$-dimensioanl parece un erizo de mar. Todo su volúmen tiende a estar hacia sus aristas com se ve en la figura que sigue."
   ]
  },
  {
   "cell_type": "markdown",
   "id": "2135cb04-0456-42e8-a6ed-6e5508e8bf07",
   "metadata": {},
   "source": [
    "\n",
    "<figure>\n",
    "    <center>\n",
    "        <img src=\"../Imagenes/Red_sea_urchin_2.jpg\" width=\"300\" height=\"300\"  align=\"center\"/> \n",
    "             <figcaption>Erizo de mar rojo</figcaption>\n",
    "    </center>\n",
    "</figure>\n",
    "\n",
    "Fuente:  <a href=\"https://commons.wikimedia.org/wiki/File:Red_sea_urchin_2.jpg\">U.S. Fish and Wildlife Service</a>, Public domain, via Wikimedia Commons"
   ]
  },
  {
   "cell_type": "markdown",
   "id": "65778b26-da90-4602-9fff-b2eaf36cf19c",
   "metadata": {},
   "source": [
    "Además le volumen de la esfera $n$-dimensional se encuentra en un anillo alrededor del ecuador de la misma. "
   ]
  },
  {
   "cell_type": "markdown",
   "id": "1faae267-8565-4822-92ad-dbe0bbc7f4c4",
   "metadata": {},
   "source": [
    "<figure>\n",
    "    <center>\n",
    "        <img src=\"../Imagenes/sphere_4.png\" width=\"500\" height=\"600\"  align=\"center\"/> \n",
    "             <figcaption>Volumen de una esfera $n$-dimensional</figcaption>\n",
    "    </center>\n",
    "</figure>\n",
    "\n",
    "Fuente:  [UC Davis](https://www.math.ucdavis.edu/~strohmer/courses/180BigData/180lecture1.pdf)"
   ]
  },
  {
   "cell_type": "markdown",
   "id": "2690e132-6589-4de3-b75a-78fc145c0f58",
   "metadata": {},
   "source": [
    "### <span style=\"color:#4CC9F0\">Para concluir</span>"
   ]
  },
  {
   "cell_type": "markdown",
   "id": "a8cd0b1f-1555-4d4c-90cf-becb3cc37fb3",
   "metadata": {},
   "source": [
    "Esta lección muestra la necesidad de  adoptar definiciones precisas que permitan determinar operar con los conjuntos de datos de forma correcta."
   ]
  },
  {
   "cell_type": "code",
   "execution_count": null,
   "id": "48c00938-03ac-4282-9e79-3843552b9534",
   "metadata": {},
   "outputs": [],
   "source": []
  }
 ],
 "metadata": {
  "kernelspec": {
   "display_name": "Python 3 (ipykernel)",
   "language": "python",
   "name": "python3"
  },
  "language_info": {
   "codemirror_mode": {
    "name": "ipython",
    "version": 3
   },
   "file_extension": ".py",
   "mimetype": "text/x-python",
   "name": "python",
   "nbconvert_exporter": "python",
   "pygments_lexer": "ipython3",
   "version": "3.11.4"
  }
 },
 "nbformat": 4,
 "nbformat_minor": 5
}
