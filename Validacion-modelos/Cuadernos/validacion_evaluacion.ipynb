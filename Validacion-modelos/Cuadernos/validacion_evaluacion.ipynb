{
 "cells": [
  {
   "cell_type": "markdown",
   "id": "e5246a72-3e39-4ec8-a213-ab3ea8c354fb",
   "metadata": {},
   "source": [
    "<figure>\n",
    "<img src=\"../Imagenes/logo-final-ap.png\"  width=\"80\" height=\"80\" align=\"left\"/> \n",
    "</figure>\n",
    "\n",
    "# <span style=\"color:blue\"><left>Aprendizaje Profundo</left></span>"
   ]
  },
  {
   "cell_type": "markdown",
   "id": "32557824-798f-4bc9-b7cf-c1f176062815",
   "metadata": {
    "tags": []
   },
   "source": [
    "# <span style=\"color:red\"><center>Diplomado en Ciencia de Datos</center></span>"
   ]
  },
  {
   "cell_type": "markdown",
   "id": "5e85999c-24e6-4dd7-838a-d1bd6849da38",
   "metadata": {},
   "source": [
    "# <span style=\"color:green\"><center>Validación y Evaluación</center></span>"
   ]
  },
  {
   "cell_type": "markdown",
   "id": "27685269-8d24-4cb4-b339-9d4cfd8f2646",
   "metadata": {},
   "source": [
    "<figure>\n",
    "<center>\n",
    "<img src=\"../Imagenes/metricas_ini.jpg\" width=600 height= 400 align=\"center\" />      \n",
    "</center>\n",
    "</figure>\n",
    "<center><a href=\"https://commons.wikimedia.org/wiki/File:Menschliche_Hand_umgrenzt_menschliche_Silhouette_20200911_DSC3711.jpg\">PantheraLeo1359531</a>, <a href=\"https://creativecommons.org/licenses/by/4.0\">CC BY 4.0</a>, via Wikimedia Commons</center>"
   ]
  },
  {
   "cell_type": "markdown",
   "id": "7963cdcc-eb93-4645-9638-67c4cfaec7be",
   "metadata": {},
   "source": [
    "## <span style=\"color:#4361EE\">Profesores</span>"
   ]
  },
  {
   "cell_type": "markdown",
   "id": "263d794d-a057-4a90-8d8a-07c9c7e14bfd",
   "metadata": {},
   "source": [
    "* Alvaro  Montenegro, PhD, <ammontenegrod@unal.edu.co>\n",
    "* Campo Elías Pardo, PhD, <cepardot@unal.edu.co>\n",
    "* Daniel  Montenegro, Msc, <dextronomo@gmail.com>\n",
    "* Camilo José Torres Jiménez, Msc, <cjtorresj@unal.edu.co>"
   ]
  },
  {
   "cell_type": "markdown",
   "id": "532a312f-4dfa-41b0-baa8-d0dea79c7895",
   "metadata": {},
   "source": [
    "## <span style=\"color:#4361EE\">Asesora Medios y Marketing digital</span>"
   ]
  },
  {
   "cell_type": "markdown",
   "id": "2fd639e5-dc11-44e9-b3aa-19978856dd42",
   "metadata": {},
   "source": [
    "* Maria del Pilar Montenegro, pmontenegro88@gmail.com\n",
    "* Jessica López Mejía, jelopezme@unal.edu.co"
   ]
  },
  {
   "cell_type": "markdown",
   "id": "de7b48d8-d9f9-4bbe-bf1e-69cd1b9400e6",
   "metadata": {},
   "source": [
    "## <span style=\"color:#4361EE\">Jefe Jurídica</span>"
   ]
  },
  {
   "cell_type": "markdown",
   "id": "ca61fdea-6f93-48fd-9cd4-842915d5e5b7",
   "metadata": {},
   "source": [
    "* Paula Andrea Guzmán, guzmancruz.paula@gmail.com"
   ]
  },
  {
   "cell_type": "markdown",
   "id": "98418584-4085-4b93-8079-5deb9d8929a2",
   "metadata": {},
   "source": [
    "## <span style=\"color:#4361EE\">Coordinador Jurídico</span>"
   ]
  },
  {
   "cell_type": "markdown",
   "id": "fae60388-2d4d-43ae-b746-9124eb5e5651",
   "metadata": {},
   "source": [
    "* David Fuentes, fuentesd065@gmail.com"
   ]
  },
  {
   "cell_type": "markdown",
   "id": "35dcddff-48c8-43c5-ac16-3351235942cc",
   "metadata": {},
   "source": [
    "## <span style=\"color:#4361EE\">Desarrolladores Principales</span>"
   ]
  },
  {
   "cell_type": "markdown",
   "id": "b3607304-3be0-496c-be78-3cad03e82dd8",
   "metadata": {},
   "source": [
    "* Dairo Moreno, damoralesj@unal.edu.co\n",
    "* Joan Castro, jocastroc@unal.edu.co\n",
    "* Bryan Riveros, briveros@unal.edu.co\n",
    "* Rosmer Vargas, rovargasc@unal.edu.co\n",
    "* Venus Puertas, vpuertasg@unal.edu.co"
   ]
  },
  {
   "cell_type": "markdown",
   "id": "76246be5-3cd0-436c-8f80-61cdaf8b64a5",
   "metadata": {},
   "source": [
    "## <span style=\"color:#4361EE\">Expertos en Bases de Datos</span>"
   ]
  },
  {
   "cell_type": "markdown",
   "id": "50966ae9-3a5e-464e-be00-e7c1d32849d4",
   "metadata": {},
   "source": [
    "* Giovvani Barrera, udgiovanni@gmail.com\n",
    "* Camilo Chitivo, cchitivo@unal.edu.co"
   ]
  },
  {
   "cell_type": "markdown",
   "id": "5d767c1b-f397-4d35-b5df-4047a01493c2",
   "metadata": {},
   "source": [
    "##   <span style=\"color:blue\">Introducción</span>\n",
    " "
   ]
  },
  {
   "cell_type": "markdown",
   "id": "21314ebe-95e4-4e4e-a099-f755a769a70c",
   "metadata": {},
   "source": [
    "Después de desarrollar un modelo: ¿Qué sigue? ¿Cómo estamos seguros de que es funcional? Si hacemos varios modelos. ¿Cómo decidimos cuál elegir? Y si el modelo no está funcionando bien, ¿Cómo revisamos sus problemas? Aquí entran las diferentes métricas y métodos que conforman los conceptos conocidos como \"Validación\" y \"Evaluación\"\n",
    "\n",
    "¿Qué son exactamente?:\n",
    "\n",
    "- \"Evaluación\" se referirá a la(s) métrica(s) que ayudan a observar el desempeño final del modelo\n",
    "- Vamos a pensar en \"Validación\" en los métodos que nos permitan revisar y mejorar la capacidad de generalización de un modelo\n",
    "\n",
    "en ciertos casos puede parecer que estamos hablando de lo mismo, pero la diferencia principal radica en cómo aplicamos estos. Cuando \"Validamos\" un modelo, aplicamos algún tipo de técnica sobre los datos, y hasta los transformamos. Mientras que, al \"evaluar\" un modelo, sacamos un valor/valores de este.\n",
    "\n",
    "Ya hemos visto/usado ejemplos de estos dos. ¿Cuáles?"
   ]
  },
  {
   "cell_type": "markdown",
   "id": "bb40b3dd-b58d-4558-96ac-e853e48b2f90",
   "metadata": {},
   "source": [
    "## <span style=\"color:blue\">Evaluación</span>"
   ]
  },
  {
   "cell_type": "markdown",
   "id": "e2f0d00d-363b-4704-941a-39e3873a88fe",
   "metadata": {},
   "source": [
    "<figure> \n",
    "<center>\n",
    "<img src=\"https://imgs.xkcd.com/comics/machine_learning.png\"/>\n",
    "</center>\n",
    "</figure>"
   ]
  },
  {
   "cell_type": "markdown",
   "id": "8bf7b2b9-d97f-4939-9592-1394dab48c13",
   "metadata": {},
   "source": [
    "Tenemos diferentes metricas de evaluación para casos de clasificación y regresión"
   ]
  },
  {
   "cell_type": "markdown",
   "id": "573c6361-73b1-44a7-8c2d-8ad13b340c83",
   "metadata": {},
   "source": [
    "Las funciones de pérdida pueden ser usada como métricas en algunos casos. Por ejemplo, es bastante común tener como función de pérdida en un problema el error cuadrático medio (ECM) y como métrica el error absoluto medio (EAM)."
   ]
  },
  {
   "cell_type": "markdown",
   "id": "3bdb86e2-9060-405a-bf17-4d86970304c7",
   "metadata": {},
   "source": [
    "### <span style=\"color:#4361EE\">Funciones de pérdida para regresión</span>"
   ]
  },
  {
   "cell_type": "markdown",
   "id": "2573a4c4-baa3-47ea-a7fa-596db5f87c1c",
   "metadata": {},
   "source": [
    "En este caso algunas de las funciones de pérdida más utilizadas son:"
   ]
  },
  {
   "cell_type": "markdown",
   "id": "f8105758-be94-412e-b4ca-3fc91f31d368",
   "metadata": {},
   "source": [
    "#### <span style=\"color:#4CC9F0\">Error cuadrático medio (ECM): Mean squared error (MSE)</span>"
   ]
  },
  {
   "cell_type": "markdown",
   "id": "fc05fce6-2f37-4b99-b98d-9fd0f4182c03",
   "metadata": {},
   "source": [
    "</span> "
   ]
  },
  {
   "cell_type": "markdown",
   "id": "0e92956e-bd3e-4761-b2e3-e07485e8a27a",
   "metadata": {},
   "source": [
    "En este caso, si se tiene $N$ datos para un bloque de entrenamiento, digamos $(x_i, y_i)$, en donde las $y_i$ son números, entonces la función de pérdida es \n",
    "\n",
    "$$\n",
    "\\text{ECM} = \\frac{1}{N} \\sum_{i=1}^N (y_i-\\hat{y}_i)^2\n",
    "$$ \n",
    "\n",
    "Si la salida y la etiqueta son vectores, digamos de tamaño $J$, cada componente de los vectores escribe $\\hat{y}_{ij}$ y ${y}_{ij}$ respectivamente. En este caso la función ECM toma la forma\n",
    "\n",
    "\n",
    "$$\n",
    "\\text{ECM} = \\frac{1}{N} \\sum_{i=1}^N \\sum_{j=1}^J (y_{ij}-\\hat{y}_{ij})^2\n",
    "$$ \n",
    "\n",
    "La desventaja de esta función de pérdida es que es muy sensible a valores extremos. Un valor extremo puede hacer crecer mucha la función de pérdida debido al cuadrado en la fórmula. Una opción para resolver esta situación es la siguiente función de pérdida."
   ]
  },
  {
   "cell_type": "markdown",
   "id": "7077569e-1991-4325-9063-bbeb302bc4ab",
   "metadata": {},
   "source": [
    "#### <span style=\"color:#4CC9F0\">Error absoluto medio (EAM): Mean absolute Value (MAE) </span>"
   ]
  },
  {
   "cell_type": "markdown",
   "id": "ef5cbb22-e46a-4147-bfb1-9ba81a3badff",
   "metadata": {},
   "source": [
    "</span> "
   ]
  },
  {
   "cell_type": "markdown",
   "id": "90679d79-627e-41a6-a0cd-111c33532e96",
   "metadata": {},
   "source": [
    "En este caso, en lugar de calcular las diferencias al cuadrado de entre los $\\hat{y}_i$ y los $y_i$ se toman las diferencias absolutas, es decir\n",
    "\n",
    "$$\n",
    "\\text{EAM} = \\frac{1}{N} \\sum_{i=1}^N |y_i-\\hat{y}_i|\n",
    "$$ \n",
    "\n",
    "o,\n",
    "\n",
    "\n",
    "$$\n",
    "\\text{EAM} = \\frac{1}{N} \\sum_{i=1}^N \\sum_{j=1}^J|y_{ij}-\\hat{y}_{ij}|\n",
    "$$ \n",
    "\n",
    "La función de pérdida EAM no resuelve del todo los problemas, debido a que, si su valor es cercano a cero, los valores absolutos son cercanos a cero y esto impacta el cálculo del gradiente, debido a que la función valor absoluto no es derivable en cero. Una alternativa viable a estas dos funciones de pérdida es la siguiente.  "
   ]
  },
  {
   "cell_type": "markdown",
   "id": "277b57c1-7d37-4e13-9450-ad3e4963bbd0",
   "metadata": {},
   "source": [
    "#### <span style=\"color:#4CC9F0\">Función de perdida de Hubber: Hubber loss</span>"
   ]
  },
  {
   "cell_type": "markdown",
   "id": "6096d446-ebb0-453f-9b46-e8677cab5c98",
   "metadata": {},
   "source": [
    "Para el caso de salida y etiqueta de forma (1,) la función de pérdida de Hubber se define como: "
   ]
  },
  {
   "cell_type": "markdown",
   "id": "f59a6fa3-b36b-4103-9378-47f50a0c3475",
   "metadata": {},
   "source": [
    "$$\n",
    "\\begin{align}\n",
    "\\text{Hubber loss} &= \\tfrac{1}{n}\\sum_{i=1}^n (Y_i- \\hat{Y}_i)^2 \\hspace{2cm} |\\hat{Y}_i-Y_i|\\le \\delta\\\\\n",
    "&=  \\tfrac{1}{n}\\sum_{i=1}^n |Y_i- \\hat{Y}_i)| \\hspace{2cm} |\\hat{Y}_i-Y_i|> \\delta\n",
    "\\end{align}\n",
    "$$"
   ]
  },
  {
   "cell_type": "markdown",
   "id": "b0c79d4e-c99b-4f6b-b71b-10d5de33ab77",
   "metadata": {},
   "source": [
    "y en el caso de tensores de salida y etiqueta de forma $(J,)$"
   ]
  },
  {
   "cell_type": "markdown",
   "id": "9065d81f-fa1c-4ac2-855e-26d0513b2f50",
   "metadata": {},
   "source": [
    "$$\n",
    "\\begin{align}\n",
    "\\text{Hubber loss} &= \\tfrac{1}{N}\\sum_{i=1}^N \\sum_{j=1}^J(Y_{ij}- \\hat{Y}_{ij})^2 \\hspace{2cm} \\sum_{j=1}^J|\\hat{Y}_{ij}-Y_{ij}|\\le \\delta\\\\\n",
    "&=  \\tfrac{1}{N}\\sum_{i=1}^N \\sum_{j=1}^J |Y_{ij}- \\hat{Y}_{ij})| \\hspace{2cm} \\sum_{j=1}^J|\\hat{Y}_{ij}-Y_{ij}|> \\delta\n",
    "\\end{align}\n",
    "$$"
   ]
  },
  {
   "cell_type": "markdown",
   "id": "d5c80ef3-69c6-420b-9261-0e48518fca54",
   "metadata": {},
   "source": [
    "Si la diferencia absoluta entre el valor real y el predicho es menor o igual que un valor de umbral, $\\delta$, entonces se aplica ECM. De lo contrario, si el error es suficientemente grande, se aplica EAM."
   ]
  },
  {
   "cell_type": "markdown",
   "id": "ef31a713-8719-4dba-90a5-0b024105d470",
   "metadata": {},
   "source": [
    "### <span style=\"color:#4361EE\">Funciones de pérdida para clasificación</span>"
   ]
  },
  {
   "cell_type": "markdown",
   "id": "c71eddce-02de-4f43-a36f-92c94a976d40",
   "metadata": {},
   "source": [
    "En los problemas de clasificación, las etiquetas son discretas. Cada ejemplo de entrenamiento tiene una categoría asociada."
   ]
  },
  {
   "cell_type": "markdown",
   "id": "e977f44a-048d-4a03-b4f3-b32bdabb1b36",
   "metadata": {},
   "source": [
    "#### <span style=\"color:#4CC9F0\">Funciones sigmoide y softmax</span>"
   ]
  },
  {
   "cell_type": "markdown",
   "id": "8014a746-c03b-4656-a967-00a4214b9e28",
   "metadata": {},
   "source": [
    "En los problemas de clasificación, lo usual es que las salida de la máquina de aprendizaje sea un tensor de tipo float de forma $(1,)$ si se tienen dos clases y en general un tensor de tipo float de de forma $(J,)$ si se tiene $J$ clases. Este tensor se conoce como un tensor de pre-probabilidad.\n",
    "\n",
    "En el caso binario (dos clases), es usual para algunas máquinas transformar la salida con la función `sigmoide`, la cual es la función de distribución acumulada estándar de la distribución logística. Esta función es definida por\n",
    "\n",
    "$$\n",
    "\\sigma(x) = \\frac{e^x}{1 + e^x} = \\frac{1}{1 + e^{-x}} = \\frac{1}{2} + \\frac{1}{2} \\tanh\\left(\\frac{x}{2}\\right).\n",
    "$$\n",
    "\n",
    "La función *softmax* está diseñada para convertir un tensor de tipo float de forma $(J,)$ en un tensor de la misma forma que representa una distribución de probabilidad. Si $(Y_1, \\ldots,Y_j, \\ldots, Y_J)$ es un tensor de números reales, entonces $\\text{softmax(Y)}$ es un tensor $p=(p_1, \\ldots, p_j, \\ldots, p_J)$, en donde\n",
    "\n",
    "$$\n",
    "p_j = \\frac{e^{y_j}}{\\sum_{k=1}^J e^{y_k}}.\n",
    "$$\n",
    "\n",
    "Como podemos observar, la función softmax es una generalización natural del sigmoide cuando se tiene más de dos categorías."
   ]
  },
  {
   "cell_type": "markdown",
   "id": "4e95fcb5-717c-4444-a271-f7b94e9554ec",
   "metadata": {},
   "source": [
    "En la práctica $p_j$ se interpreta como la probabilidad que la entrada $X$ pertenezca a la clase $j$."
   ]
  },
  {
   "cell_type": "markdown",
   "id": "242dccf6-4e85-4748-9830-706b4e77fcee",
   "metadata": {},
   "source": [
    "#### <span style=\"color:#4CC9F0\">Entropía cruzada binaria: Binary cross entropy</span>"
   ]
  },
  {
   "cell_type": "markdown",
   "id": "26b1e98e-19ea-4977-aa8e-f95010fc0cf2",
   "metadata": {},
   "source": [
    "Esta función de pérdida es la más utilizada en los casos de clasificación en dos clases. En este caso se espera que la máquina de aprendizaje y la etiqueta sean tensores de forma $(1,)$.\n",
    "\n",
    "Técnicamente, la entropía cruzada para una entrada $X$ con salida $\\hat{Y}$ y etiqueta $Y$ se define en este caso de la siguiente manera. En este caso las etiquetas solamente serán 0 o 1. Tenemos que $\\hat{Y}= f(X)$,  $\\hat{p} = \\sigma(\\hat{Y})$, y\n",
    "\n",
    "$$\n",
    "\\mathfrak{L} = -\\left[(\\log (\\hat{p}) Y) + \\log (1-\\hat{p})(1-Y) \\right].\n",
    "$$"
   ]
  },
  {
   "cell_type": "markdown",
   "id": "795d9d19-c5ec-4e96-b22d-f350b341fec0",
   "metadata": {},
   "source": [
    "#### <span style=\"color:#4CC9F0\">Entropía cruzada: Cross entropy</span>"
   ]
  },
  {
   "cell_type": "markdown",
   "id": "d18e0cca-fcb3-445b-908c-29449013db49",
   "metadata": {},
   "source": [
    "Para el caso de $J$ clases, definimos el tensor $Z = (Z_1, \\ldots, Z_j, \\ldots Z_J)$, en donde\n",
    "\n",
    "$$\n",
    "Z_j = \\begin{cases} &1, \\quad \\text{si } Y=j\\\\\n",
    "& 0, \\quad \\text{en otro caso} \n",
    "\\end{cases}\n",
    "$$\n",
    "\n",
    "\n",
    "\n",
    "\n",
    "Es decir, $Z$ es el vector que representa la codificación `one-hot` de la etiqueta $Y$. Observe que $Z$ solamente tiene 1 en la posición $j$, si la categoría de la etiqueta es $j$, y cero en el resto de posiciones.\n",
    "\n",
    "Finalmente, para este caso la entropía cruzada es definida para el caso general de $N$ muestras en un lote de datos como\n",
    "\n",
    "\n",
    "$$\n",
    "\\mathfrak{L} = -\\frac{1}{N} \\sum_{i=1}^N\\left[ \\sum_{j=1}^J  Z_{ij}log (\\hat{p}_{ij}) \\right],\n",
    "$$\n",
    "\n",
    "en donde $\\hat{Y}_i= (\\hat{Y}_{i1}, \\ldots, \\hat{Y}_{iJ})$ es la salida para la entrada $X_i$, $\\hat{p}_i = \\text{softmax}(Y_i)$, y $Z_i$ la codificación *one-hot* de la etiqueta $Y_i$."
   ]
  },
  {
   "cell_type": "markdown",
   "id": "4385a414-e660-4572-8db4-daefe4e61c51",
   "metadata": {},
   "source": [
    "### <span style=\"color:#4361EE\">Matriz de confusión</span>"
   ]
  },
  {
   "cell_type": "markdown",
   "id": "9c6d78d9-93b5-4086-ae7f-0be013281c6d",
   "metadata": {},
   "source": [
    "La matriz de confusión, como sugiere el nombre, nos da una matriz como resultado y describe el rendimiento completo del modelo.\n",
    "\n",
    "Supongamos que tenemos un problema de clasificación binaria. Tenemos algunas muestras pertenecientes a dos clases: SÍ o NO. Además, tenemos nuestro propio clasificador que predice una clase para una muestra de entrada dada. Al probar nuestro modelo en N muestras, obtenemos el siguiente resultado."
   ]
  },
  {
   "cell_type": "markdown",
   "id": "0d31f069-94ac-4a4a-86d5-de0c8b9e67d9",
   "metadata": {},
   "source": [
    "|                            | Clasificados como Positivos | Clasificados como Negativos |\n",
    "|----------------------------:|:-----------------------------:|:-----------------------------:|\n",
    "| Etiquetados como Positivos | Verdaderos Positivos        | Falsos Negativos            |\n",
    "| Etiquetados como Negativos | Falsos Positivos            | Verdaderos Negativos        |"
   ]
  },
  {
   "cell_type": "markdown",
   "id": "9380dbde-1414-43d5-8521-986452459814",
   "metadata": {},
   "source": [
    "Aquí pensamos en los diferentes casos que puede tomar la clasificación binaria.\n",
    "\n",
    "- El modelo predice \"positivo\", cuando el valor real es positivo (Caso preferido 1 o Verdadero Positivo)\n",
    "- El modelo predice \"positivo\", cuando el valor real es negativo (Error tipo 1 o \"Falso Positivo\" )\n",
    "- El modelo predice \"negativo\", cuando el valor real es positivo (Error tipo 2 o \"Falso Negativo\")\n",
    "- El modelo predice \"negativo\", cuando el valor real es negativo (Caso preferido 2 o Verdadero negativo)"
   ]
  },
  {
   "cell_type": "markdown",
   "id": "e127158e-1c86-4571-b016-aacdfa3d7c60",
   "metadata": {},
   "source": [
    "En problemas con varias clases, la matriz de confusión permite tener una idea de primera mano de como está funcionando el modelo. Revise el siguiente ejemplo. La matriz de confusión, como sugiere el nombre, nos da una matriz como resultado y describe el rendimiento completo del modelo.\n"
   ]
  },
  {
   "cell_type": "markdown",
   "id": "3e82a968-870d-4035-a06d-cccb465029cf",
   "metadata": {},
   "source": [
    "<figure>\n",
    "<img src=\"../Imagenes/Wikidata_P407_analysis_matrix.png\" width=600 height= 600 align=\"center\" />      \n",
    "</figure>"
   ]
  },
  {
   "cell_type": "markdown",
   "id": "b47dfd46-b412-477a-9d5e-3b4c87140b51",
   "metadata": {},
   "source": [
    "Fuente [Wiki-commons](https://commons.wikimedia.org/wiki/Main_Page)"
   ]
  },
  {
   "cell_type": "markdown",
   "id": "67a2e563-fc66-4b2d-9851-a1f45e8b7372",
   "metadata": {},
   "source": [
    "con base en esto podemos obtener diferentes métricas:"
   ]
  },
  {
   "cell_type": "markdown",
   "id": "bfa0ec6b-52ae-4d89-946a-d40404296e46",
   "metadata": {},
   "source": [
    "#### <span style=\"color:#4CC9F0\">Exactitud:  Accuracy</span>"
   ]
  },
  {
   "cell_type": "markdown",
   "id": "c8fc1cb9-94d2-4125-ab80-bc6b89e20f25",
   "metadata": {},
   "source": [
    "La exactitud de la clasificación es lo que generalmente queremos decir cuando usamos el término exactitud. Es la relación entre el número de predicciones correctas y el número total de muestras de entrada. En el caso binario es usual la siguiente nomenclatura.\n",
    "\n",
    "$$\n",
    "Accuracy = \\frac{\\text{verdaderos positivos} + \\text{verdaderos negativos} }{\\text{total de la muestra}}\n",
    "$$\n",
    "\n",
    "El mejor valor es 1 y el peor valor es 0."
   ]
  },
  {
   "cell_type": "markdown",
   "id": "a6594a58-8684-47bc-a53d-0598006ec14d",
   "metadata": {},
   "source": [
    "#### <span style=\"color:#4CC9F0\">Precisión: precision_score</span>"
   ]
  },
  {
   "cell_type": "markdown",
   "id": "d1d6b54f-9f6e-4bd3-b740-08f2bad06ec4",
   "metadata": {},
   "source": [
    "\n",
    "$$\n",
    "Precision = \\frac{\\text{verdaderos positivos}}{\\text{verdaderos positivos}+ \\text{falsos positivos}}\n",
    "$$\n",
    "\n",
    "Esta métrica indica que tan preciso es el número  de positivos detectados por el modelo. Se puede pensar como enfocada en minimizar los falsos positivos.\n",
    "\n",
    "\n",
    "El mejor valor es 1 y el peor valor es 0."
   ]
  },
  {
   "cell_type": "markdown",
   "id": "32650238-3d2a-4ad0-9dcd-4634f33fe23d",
   "metadata": {},
   "source": [
    "#### <span style=\"color:#4CC9F0\">Recuperación: recall_score</span>"
   ]
  },
  {
   "cell_type": "markdown",
   "id": "2bba455e-4b38-4468-87ef-40fbf5471c3a",
   "metadata": {},
   "source": [
    "La sensibilidad o recuperación (recall) es intuitivamente la capacidad del clasificador para encontrar todas las muestras positivas. El mejor valor es 1 y el peor valor es 0.\n",
    "\n",
    "$$\n",
    "Recall = \\frac{\\text{verdaderos positivos}  }{\\text{verdaderos positivos}+ \\text{falsos negativos}}\n",
    "$$\n",
    "\n",
    "En algunos problemas con datos altamente desbalanceados como en el problema de detección de fraude en tarjetas de crédito o la detección temprana de cáncer de seno, un valor alto de exactitud, no es realmente lo mejor. En estos problemas, la recuperación, que es la métrica que mide la capacidad del modelo para detectar muestras positivas es la métrica que se privilegia por encima de las demás.  En estos casos es usual el uso de pesos diferenciados de las observaciones. Se puede pensar como enfocada en minimizar los falsos negativos."
   ]
  },
  {
   "cell_type": "markdown",
   "id": "8c6aaee0-61bc-49c1-b1dd-5c57f7b734af",
   "metadata": {},
   "source": [
    "#### <span style=\"color:#4CC9F0\">Puntaje F1: F1 score</span>"
   ]
  },
  {
   "cell_type": "markdown",
   "id": "6f9ff629-a869-4658-afa9-ab66d0be850d",
   "metadata": {},
   "source": [
    "El problema con la precisión y la recuperación es que solo toma en cuenta la mitad de la información de la matriz de confusión, así que podríamos estarnos perdiendo de algo."
   ]
  },
  {
   "cell_type": "markdown",
   "id": "da9e2a56-adcd-4cea-94f6-27c65b05d4a8",
   "metadata": {},
   "source": [
    "La puntuación F1 es la media armónica entre la precisión y la recuperación. El rango para F1 Score es $[0, 1]$. F1 nos dice qué tan preciso es el clasificador (cuántas instancias clasifica correctamente), así como qué tan robusto es (no pierde una cantidad significativa de instancias).\n",
    "\n",
    "Alta precisión pero menor recuperación, le brinda una precisión extrema, pero luego pierde una gran cantidad de instancias que son difíciles de clasificar. Cuanto mayor sea el F1 Score, mejor será el rendimiento de nuestro modelo. Matemáticamente, se puede expresar como:\n",
    "$$\n",
    "\\begin{aligned}\n",
    "F1 &= 2 \\times \\frac{1}{\\frac{1}{precision} + \\frac{1}{recall}} = 2 \\times \\frac{precision \\times recall}{precision + recall}\n",
    "\\end{aligned}\n",
    "$$ \n",
    "\n",
    "El puntaje F1 intenta encontrar el equilibrio entre precision y recall.\n",
    "\n",
    "Como usamos la media armónica, tenemos una métrica bastante robusta contra datos atípicos."
   ]
  },
  {
   "cell_type": "markdown",
   "id": "a97e4fac-35c0-47c4-9248-6fbb41522d63",
   "metadata": {},
   "source": [
    "Podemos obtener varias de estas métricas de forma sencilla con el paquete `sklearn`."
   ]
  },
  {
   "cell_type": "code",
   "execution_count": 1,
   "id": "ad6a3213-5ce0-4ffd-914e-33e27444fe0c",
   "metadata": {},
   "outputs": [
    {
     "name": "stdout",
     "output_type": "stream",
     "text": [
      "Matrix de confusión:\n",
      "[[ 9  0  0]\n",
      " [ 0 11  1]\n",
      " [ 0  1  8]]\n"
     ]
    },
    {
     "data": {
      "image/png": "[encoded data removed]",
      "text/plain": [
       "<Figure size 432x288 with 2 Axes>"
      ]
     },
     "metadata": {
      "needs_background": "light"
     },
     "output_type": "display_data"
    }
   ],
   "source": [
    "from sklearn.datasets import load_iris\n",
    "from sklearn.neighbors import KNeighborsClassifier\n",
    "from sklearn.metrics import confusion_matrix, multilabel_confusion_matrix, classification_report, ConfusionMatrixDisplay\n",
    "from sklearn.model_selection import train_test_split\n",
    "\n",
    "iris = load_iris()\n",
    "X_train, X_test, y_train, y_test = train_test_split(iris.data, iris.target, test_size=0.2, train_size=0.8)\n",
    "knn = KNeighborsClassifier(n_neighbors=2).fit(X_train, y_train)\n",
    "y_pred = knn.predict(X_test)\n",
    "\n",
    "disp = ConfusionMatrixDisplay.from_predictions(y_test, y_pred)\n",
    "disp.figure_.suptitle(\"Matrix de confusión\")\n",
    "print(f\"Matrix de confusión:\\n{disp.confusion_matrix}\")"
   ]
  },
  {
   "cell_type": "code",
   "execution_count": 2,
   "id": "4db109ff-7f41-4921-89d2-8759411d9409",
   "metadata": {},
   "outputs": [
    {
     "name": "stdout",
     "output_type": "stream",
     "text": [
      "matriz de confusión múltiple: \n",
      "  [[[21  0]\n",
      "  [ 0  9]]\n",
      "\n",
      " [[17  1]\n",
      "  [ 1 11]]\n",
      "\n",
      " [[20  1]\n",
      "  [ 1  8]]]\n"
     ]
    }
   ],
   "source": [
    "print(\"matriz de confusión múltiple: \\n \", multilabel_confusion_matrix(y_test, y_pred))"
   ]
  },
  {
   "cell_type": "code",
   "execution_count": 3,
   "id": "53e75ec6-7550-435f-a51d-881fa0b48543",
   "metadata": {},
   "outputs": [
    {
     "name": "stdout",
     "output_type": "stream",
     "text": [
      "métricas: \n",
      "               precision    recall  f1-score   support\n",
      "\n",
      "           0       1.00      1.00      1.00         9\n",
      "           1       0.92      0.92      0.92        12\n",
      "           2       0.89      0.89      0.89         9\n",
      "\n",
      "    accuracy                           0.93        30\n",
      "   macro avg       0.94      0.94      0.94        30\n",
      "weighted avg       0.93      0.93      0.93        30\n",
      "\n"
     ]
    }
   ],
   "source": [
    "print(\"métricas: \\n\", classification_report(y_test, y_pred))"
   ]
  },
  {
   "cell_type": "markdown",
   "id": "7e0e88bb-8319-4847-b5c2-18069ba0e4b3",
   "metadata": {},
   "source": [
    "#### <span style=\"color:#4CC9F0\">Especificidad: specificity</span>\n",
    "\n",
    "Si nos damos cuenta, en ningún caso anterior trabajamos con los verdaderos negativos. Eso es porque, en el contexto de hipótesis, el caso nulo no es de \"mucho interés\". sin embargo, existe la métrica de la especificidad, la cual es la proporción de los verdadernos negativos sobre todos los casos negativos.\n",
    "\n",
    "$$\n",
    "\\text{Specificity} = \\frac{\\text{verdaderos negativos}}{\\text{verdaderos negativos}+\\text{falsos positivos}}\n",
    "$$\n",
    "\n",
    "Nótese que el recall y la especificidad explican toda la matriz de confusión"
   ]
  },
  {
   "cell_type": "markdown",
   "id": "9d5bad85-9c0e-4368-83fa-024b01e3c187",
   "metadata": {},
   "source": [
    "### <span style=\"color:#4361EE\">Curva ROC</span>"
   ]
  },
  {
   "cell_type": "markdown",
   "id": "158bf3d8-e4a2-4e20-aa9c-45a8d659723a",
   "metadata": {},
   "source": [
    "La curva ROC (Receiver Operating Characteristics) es otra manera para evaluar modelos de clasificación binarios, aunque con un poco de creatividad se puede extender a clasificación múltiple.\n",
    "\n",
    "Esta grafica se hace a partir de metricas obtenidas con la matriz de confusión. Aquí hacemos una comparación entre el recall, que también es llamada la rata de verdaderos positivos, y la especificidad, también llamada la rata de verdaderos negativos.\n",
    "\n",
    "<figure> \n",
    "<center>\n",
    "<img src=\"https://upload.wikimedia.org/wikipedia/commons/thumb/1/13/Roc_curve.svg/1200px-Roc_curve.svg.png\" height= 500, width=500/>\n",
    "</center>\n",
    "</figure>\n",
    "\n",
    "\n",
    "gráficamente puede ser dificil de entender, razón por la cual calculamos el \"area bajo la curva\" (Area Under Curve - AUC). Esta métrica Va de 0 a 1. Un modelo que tiene 100% de predicciones acertadas tiene un valor de AUC de 1. \n",
    "\n",
    "<figure> \n",
    "<center>\n",
    "<img src=\"https://miro.medium.com/max/722/1*pk05QGzoWhCgRiiFbz-oKQ.png\" height= 500, width=500/>\n",
    "</center>\n",
    "</figure>"
   ]
  },
  {
   "cell_type": "code",
   "execution_count": 4,
   "id": "e50dfdb3-0e38-4e6a-9ae6-68e3d6e51ee6",
   "metadata": {},
   "outputs": [],
   "source": [
    "from sklearn.metrics import roc_auc_score, roc_curve, auc\n",
    "from sklearn.multiclass import OneVsRestClassifier\n",
    "from sklearn.preprocessing import label_binarize\n",
    "from sklearn.svm import SVC\n",
    "import matplotlib.pyplot as plt\n",
    "\n",
    "X, y = iris.data, iris.target\n",
    "y_bin = label_binarize(y, classes=[0, 1, 2])\n",
    "n_classes = y_bin.shape[1]\n",
    "# shuffle and split training and test sets\n",
    "X_train, X_test, y_train, y_test = train_test_split(X, y_bin, test_size=.75,\n",
    "                                                    random_state=0)\n",
    "binary_classifier = OneVsRestClassifier(SVC(kernel='linear', probability=True,\n",
    "                                 random_state=13))\n",
    "y_score = binary_classifier.fit(X_train, y_train).decision_function(X_test)\n",
    "\n",
    "fpr = dict()\n",
    "tpr = dict()\n",
    "roc_auc = dict()\n",
    "for i in range(3):\n",
    "    fpr[i], tpr[i], _ = roc_curve(y_test[:, i], y_score[:, i])\n",
    "    roc_auc[i] = auc(fpr[i], tpr[i])\n",
    "\n",
    "# Compute micro-average ROC curve and ROC area\n",
    "fpr[\"micro\"], tpr[\"micro\"], _ = roc_curve(y_test.ravel(), y_score.ravel())\n",
    "roc_auc[\"micro\"] = auc(fpr[\"micro\"], tpr[\"micro\"])"
   ]
  },
  {
   "cell_type": "code",
   "execution_count": 5,
   "id": "9a56becf-f823-4239-a035-ee51b1e5122b",
   "metadata": {},
   "outputs": [
    {
     "data": {
      "image/png": "[encoded data removed]",
      "text/plain": [
       "<Figure size 432x288 with 1 Axes>"
      ]
     },
     "metadata": {
      "needs_background": "light"
     },
     "output_type": "display_data"
    }
   ],
   "source": [
    "# Plot of a ROC curve for a specific class\n",
    "plt.figure()\n",
    "plt.plot(fpr[2], tpr[2], label='ROC curve (area = %0.2f)' % roc_auc[2])\n",
    "plt.plot([0, 1], [0, 1], 'k--')\n",
    "plt.xlim([0.0, 1.0])\n",
    "plt.ylim([0.0, 1.05])\n",
    "plt.xlabel('False Positive Rate')\n",
    "plt.ylabel('True Positive Rate')\n",
    "plt.title('Receiver operating characteristic example')\n",
    "plt.legend(loc=\"lower right\")\n",
    "plt.show()"
   ]
  },
  {
   "cell_type": "code",
   "execution_count": 6,
   "id": "0214cef5-fb59-4a46-873b-b82caee8bce5",
   "metadata": {},
   "outputs": [
    {
     "data": {
      "image/png": "[encoded data removed]",
      "text/plain": [
       "<Figure size 432x288 with 1 Axes>"
      ]
     },
     "metadata": {
      "needs_background": "light"
     },
     "output_type": "display_data"
    }
   ],
   "source": [
    "# Plot ROC curve\n",
    "plt.figure()\n",
    "plt.plot(fpr[\"micro\"], tpr[\"micro\"],\n",
    "         label='micro-average ROC curve (area = {0:0.2f})'\n",
    "               ''.format(roc_auc[\"micro\"]))\n",
    "for i in range(n_classes):\n",
    "    plt.plot(fpr[i], tpr[i], label='ROC curve of class {0} (area = {1:0.2f})'\n",
    "                                   ''.format(i, roc_auc[i]))\n",
    "\n",
    "plt.plot([0, 1], [0, 1], 'k--')\n",
    "plt.xlim([0.0, 1.0])\n",
    "plt.ylim([0.0, 1.05])\n",
    "plt.xlabel('False Positive Rate')\n",
    "plt.ylabel('True Positive Rate')\n",
    "plt.title('Some extension of Receiver operating characteristic to multi-class')\n",
    "plt.legend(loc=\"lower right\")\n",
    "plt.show()"
   ]
  },
  {
   "cell_type": "markdown",
   "id": "7185048b-2c46-4483-ae7d-54f32f8c0474",
   "metadata": {},
   "source": [
    "##   <span style=\"color:blue\">Validación</span>"
   ]
  },
  {
   "cell_type": "markdown",
   "id": "028aa545-cb35-4cbb-95c0-43f6e046cc4f",
   "metadata": {},
   "source": [
    "\n",
    "\n",
    "<figure> \n",
    "<center>\n",
    "<img src=\"https://imgs.xkcd.com/comics/ai_methodology.png\"/>\n",
    "</center>\n",
    "</figure>"
   ]
  },
  {
   "cell_type": "markdown",
   "id": "568f407a-9fed-4656-bb9b-7e3173e5afcc",
   "metadata": {},
   "source": [
    "###   <span style=\"color:blue\">Separación de datos</span>\n",
    " "
   ]
  },
  {
   "cell_type": "markdown",
   "id": "5fc82a47-e884-4f7c-b52e-c411a3ff0ea9",
   "metadata": {},
   "source": [
    "el clásico caso del \"train test split\". Separamos los datos en dos \"subconjuntos\": Uno para hacer el ajuste del modelo, y otro en el que se harán comparaciónes a nivel de predicciones del modelo ya entrenado.\n",
    "\n",
    "\n",
    "<figure> \n",
    "<center>\n",
    "<img src=\"https://www.mltut.com/wp-content/uploads/2020/05/k-fold-cross-validation.png\"/>\n",
    "</center>\n",
    "</figure>\n",
    "\n",
    "La idea de esto es poder trabajar el modelo en un \"ambiente desconocido pero controlado\". Logramos observar el modelo con datos que no había visto antes, pero no son completamente desconocidos para el científico.\n",
    "\n",
    "Esta es la forma más sencilla de validación. Ahora, tiene debilidades.\n",
    "\n",
    "La más grande de esta es el sesgo de muestra. Si casualmente nuestro subconjunto de prueba no tiene datos lo suficientemente variados, corremos el riesgo de que las métricas que usemos para evaluar el modelo tenga una \"precisión no merecida\". \n",
    "\n",
    "Podemos intentar arreglar esto separando un poco más el dataset. Dejando tres subconjuntos: Uno de entrenamiento, uno de validación y uno de prueba\n",
    "\n",
    "<figure> \n",
    "<center>\n",
    "<img src=\"https://miro.medium.com/max/1400/1*wkaZ-efb_e2ff_lXSWOBfw.png\"/>\n",
    "</center>\n",
    "</figure>\n",
    "\n",
    "Esto puede ciertamente mitigar el sesgo de muestra, pero no es la mejor alternativa"
   ]
  },
  {
   "cell_type": "code",
   "execution_count": 7,
   "id": "5c0aa0ae-ef45-4698-b9e7-f05cd1f354f8",
   "metadata": {},
   "outputs": [
    {
     "data": {
      "text/plain": [
       "<AxesSubplot:xlabel='0'>"
      ]
     },
     "execution_count": 7,
     "metadata": {},
     "output_type": "execute_result"
    },
    {
     "data": {
      "image/png": "[encoded data removed]",
      "text/plain": [
       "<Figure size 432x288 with 3 Axes>"
      ]
     },
     "metadata": {
      "needs_background": "light"
     },
     "output_type": "display_data"
    }
   ],
   "source": [
    "from sklearn.datasets import load_iris\n",
    "from imblearn.datasets import make_imbalance\n",
    "import numpy as np\n",
    "import pandas as pd\n",
    "\n",
    "iris = load_iris()\n",
    "X, y = make_imbalance(\n",
    "    iris.data,\n",
    "    iris.target,\n",
    "    sampling_strategy={0: 10, 1: 10, 2: 50},\n",
    "    random_state=16,\n",
    ")\n",
    "X, X_test, y, y_test = train_test_split(X,y,test_size=0.2,train_size=0.8)\n",
    "X_train, X_val, y_train, y_val = train_test_split(X,y,test_size = 0.25,train_size =0.75)\n",
    "\n",
    "fig, axes = plt.subplots(1,3)\n",
    "pd.DataFrame(y_train).value_counts().plot(kind='bar', ax=axes[0])\n",
    "pd.DataFrame(y_val).value_counts().plot(kind='bar', ax=axes[1])\n",
    "pd.DataFrame(y_test).value_counts().plot(kind='bar', ax=axes[2])"
   ]
  },
  {
   "cell_type": "markdown",
   "id": "849adb4e-53d5-4529-bbb5-af044cae6067",
   "metadata": {},
   "source": [
    "###   <span style=\"color:blue\">Leave One Out</span>"
   ]
  },
  {
   "cell_type": "markdown",
   "id": "df7598cf-e0b7-46a5-9136-eaf6a91af051",
   "metadata": {},
   "source": [
    "De ahora en adelante no hacemos una sola separación de datos, sino múltiples.\n",
    "\n",
    "En este caso, tomando en cuenta su nombre, el subconjunto de prueba solo consta de un elemento. Cada observación eventualmente es utilizada como elemento de prueba. Esto significa que se hacen $N$ separaciones de datos y $N$ ajustes de modelo. Evaluamos cada uno de estos modelos y luego podemos, por ejemplo, obtener el promedio de precisión de estos para saber qué tan bien está generalizando el modelo.\n",
    "\n",
    "\n",
    "<figure> \n",
    "<center>\n",
    "<img src=\"../Imagenes/Leave-One-Out-Cross-Validation.png\"/>\n",
    "</center>\n",
    "</figure>\n",
    "\n",
    "\n"
   ]
  },
  {
   "cell_type": "code",
   "execution_count": 8,
   "id": "9a6dbc22-2b04-4f6a-a751-dc1926c5a688",
   "metadata": {},
   "outputs": [
    {
     "name": "stdout",
     "output_type": "stream",
     "text": [
      "Accuracy: 0.960\n"
     ]
    }
   ],
   "source": [
    "from sklearn.model_selection import LeaveOneOut\n",
    "from sklearn.neighbors import KNeighborsClassifier\n",
    "from sklearn.metrics import accuracy_score\n",
    "\n",
    "loo = LeaveOneOut()\n",
    "knn = KNeighborsClassifier(n_neighbors=3)\n",
    "X, y = load_iris(return_X_y=True)\n",
    "y_true, y_pred = list(), list()\n",
    "for train_ix, test_ix in loo.split(X):\n",
    "    X_train, X_test = X[train_ix, :], X[test_ix, :]\n",
    "    y_train, y_test = y[train_ix], y[test_ix]\n",
    "    # fit model\n",
    "    knn.fit(X_train, y_train)\n",
    "    # evaluate model\n",
    "    yhat = knn.predict(X_test)\n",
    "    # store\n",
    "    y_true.append(y_test[0])\n",
    "    y_pred.append(yhat[0])\n",
    "acc = accuracy_score(y_true, y_pred)\n",
    "print('Accuracy: %.3f' % acc)"
   ]
  },
  {
   "cell_type": "markdown",
   "id": "3fddec18-a9e6-489f-8f09-a9247506bfd1",
   "metadata": {},
   "source": [
    "Este método asegura la menor cantidad de sesgo posible, ya que revisamos la consistencia del modelo sobre TODOS Y CADA UNO DE LOS DATOS, pero tiene dos problemas:\n",
    "\n",
    "- Sufre con datos con una alta varianza.\n",
    "- Es computacionalmente costoso, así que con datos de gran tamaño no es recomendable."
   ]
  },
  {
   "cell_type": "markdown",
   "id": "570363c7-44c4-496e-aa29-452fec8510b7",
   "metadata": {},
   "source": [
    "###   <span style=\"color:blue\">K Folds</span>\n",
    " "
   ]
  },
  {
   "cell_type": "markdown",
   "id": "774a6e87-31aa-4f92-bbca-3a47affae55f",
   "metadata": {},
   "source": [
    "La versión generalizada de Leave One out. Separamos el dataset de en en múltiples subconjuntos de \"casi\" tamaños iguales vamos iterando sobre estos. En la iteración 1, la muestra 1 será el dataset de prueba, mientras que el resto de muestras se usarán como datos de entrenamiento. Este proceso se repetirá $K$ veces, donde $K$ es el número de muestras.\n",
    "\n",
    "K folds es igual a Leave One Out cuando $K=N$\n",
    "\n",
    "<figure> \n",
    "<center>\n",
    "<img src=\"https://www.mltut.com/wp-content/uploads/2020/05/cross-validation.png\"/>\n",
    "</center>\n",
    "</figure>"
   ]
  },
  {
   "cell_type": "code",
   "execution_count": 9,
   "id": "05a05e99-1ac2-45a3-b9ee-162c4f1b2f2c",
   "metadata": {},
   "outputs": [],
   "source": [
    "from sklearn.model_selection import KFold \n",
    "from sklearn.svm import SVC\n",
    " \n",
    "#Implementing cross validation\n",
    "k = 5\n",
    "kf = KFold(n_splits=k, shuffle=True, random_state=42)\n",
    "rbf = SVC(kernel='rbf', gamma=0.5, C=0.1)\n",
    "poly = SVC(kernel='poly', degree=3, C=1)\n",
    " \n",
    "acc_score_rbf = []\n",
    "acc_score_poly = []\n",
    "\n",
    "X, y = load_iris(return_X_y=True)\n",
    "\n",
    "for train_ix , test_ix in kf.split(X):\n",
    "    X_train, X_test = X[train_ix, :], X[test_ix, :]\n",
    "    y_train, y_test = y[train_ix], y[test_ix]\n",
    "     \n",
    "    rbf.fit(X_train,y_train)\n",
    "    poly.fit(X_train, y_train)\n",
    "    \n",
    "    pred_rbf = rbf.predict(X_test)\n",
    "    pred_poly = poly.predict(X_test)\n",
    "     \n",
    "    acc_rbf = accuracy_score(pred_rbf, y_test)\n",
    "    acc_score_rbf.append(acc_rbf)\n",
    "    \n",
    "    acc_poly = accuracy_score(pred_poly, y_test)\n",
    "    acc_score_poly.append(acc_poly)\n",
    "     \n",
    "avg_acc_score_rbf = sum(acc_score_rbf)/k\n",
    "avg_acc_score_poly = sum(acc_score_poly)/k\n",
    " "
   ]
  },
  {
   "cell_type": "code",
   "execution_count": 10,
   "id": "493f1c56-b315-4db9-85de-620f079c4c1c",
   "metadata": {},
   "outputs": [
    {
     "name": "stdout",
     "output_type": "stream",
     "text": [
      "accuracy of each fold in rbf - [1.0, 1.0, 0.9, 0.9, 0.9333333333333333]\n",
      "Avg rbf accuracy : 0.9466666666666667\n"
     ]
    }
   ],
   "source": [
    "print('accuracy of each fold in rbf - {}'.format(acc_score_rbf))\n",
    "print('Avg rbf accuracy : {}'.format(avg_acc_score_rbf))"
   ]
  },
  {
   "cell_type": "code",
   "execution_count": 11,
   "id": "8f27b20b-7086-4f78-a47d-3bd7bb5df3db",
   "metadata": {},
   "outputs": [
    {
     "name": "stdout",
     "output_type": "stream",
     "text": [
      "accuracy of each fold in poly - [1.0, 1.0, 0.9666666666666667, 0.9333333333333333, 0.9666666666666667]\n",
      "Avg poly accuracy : 0.9733333333333334\n"
     ]
    }
   ],
   "source": [
    "print('accuracy of each fold in poly - {}'.format(acc_score_poly))\n",
    "print('Avg poly accuracy : {}'.format(avg_acc_score_poly))"
   ]
  },
  {
   "cell_type": "markdown",
   "id": "0bd9e638-6ac4-4bae-9107-0c5c3458ac1a",
   "metadata": {},
   "source": [
    "K folds sacrifica algo de sesgo a favor de resistir a los datasets con alta varianza"
   ]
  },
  {
   "cell_type": "markdown",
   "id": "3c7d6171-af2b-4673-b63a-835b0176edd0",
   "metadata": {},
   "source": [
    "####   <span style=\"color:blue\">K folds estratificados</span>\n",
    " "
   ]
  },
  {
   "cell_type": "markdown",
   "id": "3eaf23f3-8541-4c99-9099-68308b42978b",
   "metadata": {},
   "source": [
    "Una variación de K folds en la cual se usa muestreo estratificado en lugar de muestreo aleatorio. Se generan las mismas muestras pero buscando representar adecuadamente las proporciones de cada clase\n",
    "\n",
    "<figure> \n",
    "<center>\n",
    "<img src=\"https://uedufy.com/wp-content/uploads/2021/12/stratified-sampling-2.png\"/>\n",
    "</center>\n",
    "</figure>"
   ]
  },
  {
   "cell_type": "code",
   "execution_count": 12,
   "id": "c768286d-8d15-4f47-bbc9-90a02ffccd6a",
   "metadata": {},
   "outputs": [
    {
     "name": "stdout",
     "output_type": "stream",
     "text": [
      "accuracy of each fold in poly - [0.9666666666666667, 0.9666666666666667, 0.9666666666666667, 0.9666666666666667, 0.9666666666666667]\n",
      "Avg poly accuracy : 0.9666666666666666\n"
     ]
    }
   ],
   "source": [
    "from sklearn.model_selection import StratifiedKFold \n",
    "\n",
    "X, y = make_imbalance(\n",
    "    iris.data,\n",
    "    iris.target,\n",
    "    sampling_strategy={0: 15, 1: 15, 2: 50},\n",
    "    random_state=16,\n",
    ")\n",
    "\n",
    "k = 5\n",
    "kf = StratifiedKFold(n_splits=k, random_state=None,shuffle=False)\n",
    "poly = SVC(kernel='poly', degree=3, C=1)\n",
    " \n",
    "acc_score_poly = []\n",
    "\n",
    "for train_ix , test_ix in kf.split(X,y):\n",
    "    X_train, X_test = X[train_ix, :], X[test_ix, :]\n",
    "    y_train, y_test = y[train_ix], y[test_ix]\n",
    "     \n",
    "    poly.fit(X_train, y_train)\n",
    "    \n",
    "    pred_poly = poly.predict(X_test)\n",
    "    \n",
    "    acc_score_poly.append(acc_poly)\n",
    "     \n",
    "avg_acc_score_poly = sum(acc_score_poly)/k\n",
    "\n",
    "print('accuracy of each fold in poly - {}'.format(acc_score_poly))\n",
    "print('Avg poly accuracy : {}'.format(avg_acc_score_poly))"
   ]
  },
  {
   "cell_type": "markdown",
   "id": "4177e1b7-8f3d-495a-b83a-cc3a6a75a6f0",
   "metadata": {},
   "source": [
    "##   <span style=\"color:blue\">Recomendaciones</span>"
   ]
  },
  {
   "cell_type": "markdown",
   "id": "b42d2902-e7de-45f3-a258-4c63f1731049",
   "metadata": {},
   "source": [
    "Aquí vimos implementaciones \"manuales\" de como funcionan las metodologías de estos casos de validación cruzada, pero esto en realidad podemos sacarlo en unas cuantas lineas de código"
   ]
  },
  {
   "cell_type": "code",
   "execution_count": 13,
   "id": "68054d57-427e-4b2f-af25-d4020407878f",
   "metadata": {},
   "outputs": [
    {
     "name": "stdout",
     "output_type": "stream",
     "text": [
      "0.9875\n"
     ]
    }
   ],
   "source": [
    "from sklearn.model_selection import cross_val_score\n",
    "print(cross_val_score(poly, X, y, cv=kf).mean())"
   ]
  },
  {
   "cell_type": "markdown",
   "id": "43b02189-57e4-47af-9524-7136a422e17c",
   "metadata": {},
   "source": [
    "Además, podemos mezclar los metodos de validación cruzada con la separación de datos tradicional\n",
    "\n",
    "<figure> \n",
    "<center>\n",
    "<img src=\"https://scikit-learn.org/stable/_images/grid_search_cross_validation.png\"/>\n",
    "</center>\n",
    "</figure>"
   ]
  }
 ],
 "metadata": {
  "kernelspec": {
   "display_name": "Python 3 (ipykernel)",
   "language": "python",
   "name": "python3"
  },
  "language_info": {
   "codemirror_mode": {
    "name": "ipython",
    "version": 3
   },
   "file_extension": ".py",
   "mimetype": "text/x-python",
   "name": "python",
   "nbconvert_exporter": "python",
   "pygments_lexer": "ipython3",
   "version": "3.10.12"
  }
 },
 "nbformat": 4,
 "nbformat_minor": 5
}
