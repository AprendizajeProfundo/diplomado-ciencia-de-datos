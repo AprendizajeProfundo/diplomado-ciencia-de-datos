{
 "cells": [
  {
   "cell_type": "markdown",
   "id": "45dcfa44-686e-479a-9507-cd18e3f721ef",
   "metadata": {
    "slideshow": {
     "slide_type": "slide"
    },
    "tags": []
   },
   "source": [
    "<figure> \n",
    "<img src=\"../Imagenes/logo-final-ap.png\"  width=\"80\" height=\"80\" align=\"left\"/> \n",
    "</figure>\n",
    "\n",
    "# <span style=\"color:blue\"><left>Aprendizaje Profundo</left></span>"
   ]
  },
  {
   "cell_type": "markdown",
   "id": "99d6f0ea-63ec-4a6b-b3bc-a5985d46f54c",
   "metadata": {},
   "source": [
    "# <span style=\"color:red\"><center>Transformación de datos</center></span>"
   ]
  },
  {
   "cell_type": "markdown",
   "id": "8c888c1a-e2b2-49f2-895f-0afb20352f28",
   "metadata": {},
   "source": [
    "##   <span style=\"color:blue\">Profesores</span>"
   ]
  },
  {
   "cell_type": "markdown",
   "id": "338c827e-23e4-447e-970f-fc1537c89374",
   "metadata": {},
   "source": [
    "1. Alvaro Mauricio Montenegro Díaz, ammontenegrod@unal.edu.co\n",
    "2. Daniel Mauricio Montenegro Reyes, dextronomo@gmail.com \n",
    "3. Campo Elías Pardo Turriago, cepardot@unal.edu.co \n",
    "4. Camilo José Torres Jiménez, MSc, cjtorresj@unal.edu.co"
   ]
  },
  {
   "cell_type": "markdown",
   "id": "56afc3f5-e38e-4fd2-9051-2529490e0a4f",
   "metadata": {},
   "source": [
    "##   <span style=\"color:blue\">Estudiantes auxiliares</span>"
   ]
  },
  {
   "cell_type": "markdown",
   "id": "92e7474d-4559-4590-b291-7db886aa8e2e",
   "metadata": {},
   "source": [
    "1. Jessica López, jelopezme@unal.edu.co\n",
    "2. Camilo Chitivo, cchitivo@unal.edu.co\n",
    "3. Daniel Rojas, anrojasor@unal.edu.co"
   ]
  },
  {
   "cell_type": "markdown",
   "id": "74668380-53aa-434f-b47e-a8f2d4ee5178",
   "metadata": {},
   "source": [
    "##   <span style=\"color:blue\">Asesora Medios y Marketing digital</span>\n",
    " "
   ]
  },
  {
   "cell_type": "markdown",
   "id": "89933aaf-7a7d-45ac-ac70-ec292666aa87",
   "metadata": {},
   "source": [
    "1. Maria del Pilar Montenegro, pmontenegro88@gmail.com "
   ]
  },
  {
   "cell_type": "markdown",
   "id": "12e57df8-3840-42cc-af40-4eb8cbea4ff5",
   "metadata": {},
   "source": [
    "##   <span style=\"color:blue\">Contenido</span>"
   ]
  },
  {
   "cell_type": "markdown",
   "id": "dd6b7d37-92ec-4dcf-93b3-e8f3d37ebfe5",
   "metadata": {},
   "source": [
    "* [Introducción](#Introducción)\n",
    "* [Transformación de conjuntos de datos](#Transformación-de-conjuntos-de-datos)\n",
    "* [Pipeline y estimadores compuestos](#Pipeline-y-estimadores-compuestos)\n",
    "* [Extracción de características](#Extracción-de-características)\n",
    "* [Proyección Aleatoria](#Proyección-Aleatoria)\n",
    "* [Aproximación Kernel](#Aproximación-Kernel)\n",
    "* [Métricas por pares, Afinidades y Núcleos](#Métricas-por-pares,-Afinidades-y-Núcleos)\n",
    "* [Transformando el objetivo de predicción (y)](#Transformando-el-objetivo-de-predicción-(y))"
   ]
  },
  {
   "cell_type": "markdown",
   "id": "1dc488e5-cdb9-470a-a3fd-857c2ddc3cc8",
   "metadata": {},
   "source": [
    "#   <span style=\"color:blue\">Introducción</span>"
   ]
  },
  {
   "cell_type": "markdown",
   "id": "1e26cfb7-deed-46e3-99ba-9e7f253514c1",
   "metadata": {},
   "source": [
    "En el emocionante mundo del aprendizaje automático y la ciencia de datos, la calidad de los datos es esencial. Los datos crudos rara vez están en la forma perfecta para alimentar nuestros algoritmos de aprendizaje automático. En su lugar, debemos realizar una serie de transformaciones en nuestros conjuntos de datos para prepararlos adecuadamente antes de alimentarlos a nuestros modelos. Estas transformaciones no solo mejoran la calidad de los datos, sino que también permiten que los modelos capturen patrones de manera más efectiva.\n",
    "\n",
    "En este cuaderno de Jupyter, exploraremos dos aspectos cruciales: el uso de Scikit-Learn, una de las bibliotecas de aprendizaje automático más poderosas y versátiles, para llevar a cabo transformaciones en nuestros conjuntos de datos, y la importancia fundamental de estas transformaciones en todo el proceso de construcción de modelos predictivos.\n",
    "\n",
    "**La Importancia de las Transformaciones de Datos**\n",
    "\n",
    "Las transformaciones de datos son una fase esencial en el flujo de trabajo de aprendizaje automático. Estas transformaciones pueden tener un impacto significativo en la capacidad de nuestros modelos para generalizar y hacer predicciones precisas. Algunas de las razones por las cuales las transformaciones son esenciales incluyen:\n",
    "\n",
    "- Mejora de la calidad de los datos.\n",
    "- Tratamiento de valores atípicos y datos faltantes.\n",
    "- Preparación de datos categóricos para modelos numéricos.\n",
    "- Normalización de características para modelos sensibles a la escala.\n",
    "\n",
    "En este cuaderno, exploraremos cómo estas transformaciones abordan estos desafíos comunes y cómo pueden aumentar la eficacia de nuestros modelos."
   ]
  },
  {
   "cell_type": "markdown",
   "id": "d46ac4ef-5db7-4bd1-a703-5d3864165fc9",
   "metadata": {},
   "source": [
    "El material del cuaderno está basado en la documentación oficial de [scikit-learn](https://scikit-learn.org/stable/data_transforms.html) para preprocesamiento."
   ]
  },
  {
   "cell_type": "markdown",
   "id": "d5fe2fe1-4759-438d-820c-1b0313517eb3",
   "metadata": {},
   "source": [
    "#   <span style=\"color:blue\">Transformación de conjuntos de datos</span>"
   ]
  },
  {
   "cell_type": "markdown",
   "id": "de491df6-d179-4de0-9c9c-6f9b16e63c6b",
   "metadata": {},
   "source": [
    "Scikit-learn proporciona una biblioteca de transformadores, que pueden limpiar (ver Preprocesamiento de datos), reducir (ver Reducción de dimensionalidad no supervisada), expandir (ver Aproximación de núcleos) o generar (ver Extracción de características) representaciones de características.\n",
    "\n",
    "Al igual que otros estimadores, estos están representados por clases con un método fit, que aprende los parámetros del modelo (por ejemplo, la media y la desviación estándar para la normalización) a partir de un conjunto de entrenamiento, y un método transform que aplica este modelo de transformación a datos no vistos. fit_transform puede ser más conveniente y eficiente para modelar y transformar los datos de entrenamiento simultáneamente.\n",
    "\n",
    "La combinación de estos transformadores, ya sea en paralelo o en serie, se aborda en Tuberías y estimadores compuestos. Las métricas por pares, las afinidades y los núcleos abordan la transformación de espacios de características en matrices de afinidad, mientras que la transformación del objetivo de predicción (y) considera transformaciones del espacio objetivo (por ejemplo, etiquetas categóricas) para su uso en scikit-learn."
   ]
  },
  {
   "cell_type": "markdown",
   "id": "b92aaf33-6feb-43bc-b2db-4248159a25d4",
   "metadata": {},
   "source": [
    "#   <span style=\"color:blue\">Pipeline y estimadores compuestos</span>"
   ]
  },
  {
   "cell_type": "markdown",
   "id": "730fd9ed-f735-4ce1-bea7-6b9b1273914a",
   "metadata": {},
   "source": [
    "Por lo general, los transformadores se combinan con clasificadores, regresores u otros estimadores para construir un estimador compuesto. La herramienta más común es una [pipeline](https://scikit-learn.org/stable/modules/compose.html#pipeline). EL pipeline a menudo se utiliza en combinación con FeatureUnion, que concatena la salida de los transformadores en un espacio de características compuesto. TransformedTargetRegressor se encarga de transformar el objetivo (es decir, transformar logarítmicamente y). En contraste, las pipelines solo transforman los datos observados (X)."
   ]
  },
  {
   "cell_type": "markdown",
   "id": "be147d09-c63a-4230-a3a9-0f1de9c995a9",
   "metadata": {},
   "source": [
    "##   <span style=\"color:blue\">Pipeline: encadenando estimadores</span>\n",
    "\n",
    "EL pipeline se puede utilizar para encadenar varios estimadores en uno solo. Esto es útil ya que a menudo hay una secuencia fija de pasos en el procesamiento de los datos, como la selección de características, la normalización y la clasificación. El pipeline cumple múltiples propósitos aquí:\n",
    "\n",
    "**Conveniencia y encapsulación**\n",
    "\n",
    "Solo necesita llamar a fit y predict una vez en sus datos para ajustar toda una secuencia de estimadores.\n",
    "\n",
    "**Selección conjunta de parámetros**\n",
    "\n",
    "Puede buscar en la cuadrícula los parámetros de todos los estimadores en el pipeline a la vez.\n",
    "\n",
    "**Seguridad**\n",
    "\n",
    "Los pipelines ayudan a evitar que las estadísticas de sus datos de prueba se filtren en el modelo entrenado en la validación cruzada, al garantizar que se utilicen las mismas muestras para entrenar los transformadores y los predictores.\n",
    "\n",
    "Todos los estimadores en un pipeline, excepto el último, deben ser transformadores (es decir, deben tener un método de transformación). El último estimador puede ser de cualquier tipo (transformador, clasificador, etc.)."
   ]
  },
  {
   "cell_type": "markdown",
   "id": "bb6e56e2-102a-4843-b58e-cdce0e7d39c9",
   "metadata": {},
   "source": [
    "###   <span style=\"color:blue\">Uso</span>"
   ]
  },
  {
   "cell_type": "markdown",
   "id": "3b6d2f3f-3aaa-4036-b086-b657f02be0e6",
   "metadata": {},
   "source": [
    "**Construcción**\n",
    "\n",
    "El pipeline se construye utilizando una lista de pares (clave, valor), donde la clave es una cadena que contiene el nombre que deseas darle a este paso y el valor es un objeto estimador:"
   ]
  },
  {
   "cell_type": "markdown",
   "id": "dd19965a-4150-45d3-b98f-748ea6982875",
   "metadata": {},
   "source": [
    "from sklearn.pipeline import Pipeline\n",
    "from sklearn.svm import SVC\n",
    "from sklearn.decomposition import PCA\n",
    "estimators = [('reduce_dim', PCA()), ('clf', SVC())]\n",
    "pipe = Pipeline(estimators)\n",
    "pipe"
   ]
  },
  {
   "cell_type": "markdown",
   "id": "39d1b14f-0942-40d1-829a-fd4f8989b15b",
   "metadata": {},
   "source": [
    "La función de utilidad make_pipeline es una abreviatura para construir pipelines; toma un número variable de estimadores y devuelve un pipeline, llenando automáticamente los nombres:"
   ]
  },
  {
   "cell_type": "code",
   "execution_count": 2,
   "id": "1df18471-bf33-4677-a2c7-aab100f4737a",
   "metadata": {},
   "outputs": [
    {
     "data": {
      "text/html": [
       "<style>#sk-container-id-2 {color: black;}#sk-container-id-2 pre{padding: 0;}#sk-container-id-2 div.sk-toggleable {background-color: white;}#sk-container-id-2 label.sk-toggleable__label {cursor: pointer;display: block;width: 100%;margin-bottom: 0;padding: 0.3em;box-sizing: border-box;text-align: center;}#sk-container-id-2 label.sk-toggleable__label-arrow:before {content: \"▸\";float: left;margin-right: 0.25em;color: #696969;}#sk-container-id-2 label.sk-toggleable__label-arrow:hover:before {color: black;}#sk-container-id-2 div.sk-estimator:hover label.sk-toggleable__label-arrow:before {color: black;}#sk-container-id-2 div.sk-toggleable__content {max-height: 0;max-width: 0;overflow: hidden;text-align: left;background-color: #f0f8ff;}#sk-container-id-2 div.sk-toggleable__content pre {margin: 0.2em;color: black;border-radius: 0.25em;background-color: #f0f8ff;}#sk-container-id-2 input.sk-toggleable__control:checked~div.sk-toggleable__content {max-height: 200px;max-width: 100%;overflow: auto;}#sk-container-id-2 input.sk-toggleable__control:checked~label.sk-toggleable__label-arrow:before {content: \"▾\";}#sk-container-id-2 div.sk-estimator input.sk-toggleable__control:checked~label.sk-toggleable__label {background-color: #d4ebff;}#sk-container-id-2 div.sk-label input.sk-toggleable__control:checked~label.sk-toggleable__label {background-color: #d4ebff;}#sk-container-id-2 input.sk-hidden--visually {border: 0;clip: rect(1px 1px 1px 1px);clip: rect(1px, 1px, 1px, 1px);height: 1px;margin: -1px;overflow: hidden;padding: 0;position: absolute;width: 1px;}#sk-container-id-2 div.sk-estimator {font-family: monospace;background-color: #f0f8ff;border: 1px dotted black;border-radius: 0.25em;box-sizing: border-box;margin-bottom: 0.5em;}#sk-container-id-2 div.sk-estimator:hover {background-color: #d4ebff;}#sk-container-id-2 div.sk-parallel-item::after {content: \"\";width: 100%;border-bottom: 1px solid gray;flex-grow: 1;}#sk-container-id-2 div.sk-label:hover label.sk-toggleable__label {background-color: #d4ebff;}#sk-container-id-2 div.sk-serial::before {content: \"\";position: absolute;border-left: 1px solid gray;box-sizing: border-box;top: 0;bottom: 0;left: 50%;z-index: 0;}#sk-container-id-2 div.sk-serial {display: flex;flex-direction: column;align-items: center;background-color: white;padding-right: 0.2em;padding-left: 0.2em;position: relative;}#sk-container-id-2 div.sk-item {position: relative;z-index: 1;}#sk-container-id-2 div.sk-parallel {display: flex;align-items: stretch;justify-content: center;background-color: white;position: relative;}#sk-container-id-2 div.sk-item::before, #sk-container-id-2 div.sk-parallel-item::before {content: \"\";position: absolute;border-left: 1px solid gray;box-sizing: border-box;top: 0;bottom: 0;left: 50%;z-index: -1;}#sk-container-id-2 div.sk-parallel-item {display: flex;flex-direction: column;z-index: 1;position: relative;background-color: white;}#sk-container-id-2 div.sk-parallel-item:first-child::after {align-self: flex-end;width: 50%;}#sk-container-id-2 div.sk-parallel-item:last-child::after {align-self: flex-start;width: 50%;}#sk-container-id-2 div.sk-parallel-item:only-child::after {width: 0;}#sk-container-id-2 div.sk-dashed-wrapped {border: 1px dashed gray;margin: 0 0.4em 0.5em 0.4em;box-sizing: border-box;padding-bottom: 0.4em;background-color: white;}#sk-container-id-2 div.sk-label label {font-family: monospace;font-weight: bold;display: inline-block;line-height: 1.2em;}#sk-container-id-2 div.sk-label-container {text-align: center;}#sk-container-id-2 div.sk-container {/* jupyter's `normalize.less` sets `[hidden] { display: none; }` but bootstrap.min.css set `[hidden] { display: none !important; }` so we also need the `!important` here to be able to override the default hidden behavior on the sphinx rendered scikit-learn.org. See: https://github.com/scikit-learn/scikit-learn/issues/21755 */display: inline-block !important;position: relative;}#sk-container-id-2 div.sk-text-repr-fallback {display: none;}</style><div id=\"sk-container-id-2\" class=\"sk-top-container\"><div class=\"sk-text-repr-fallback\"><pre>Pipeline(steps=[(&#x27;binarizer&#x27;, Binarizer()), (&#x27;multinomialnb&#x27;, MultinomialNB())])</pre><b>In a Jupyter environment, please rerun this cell to show the HTML representation or trust the notebook. <br />On GitHub, the HTML representation is unable to render, please try loading this page with nbviewer.org.</b></div><div class=\"sk-container\" hidden><div class=\"sk-item sk-dashed-wrapped\"><div class=\"sk-label-container\"><div class=\"sk-label sk-toggleable\"><input class=\"sk-toggleable__control sk-hidden--visually\" id=\"sk-estimator-id-4\" type=\"checkbox\" ><label for=\"sk-estimator-id-4\" class=\"sk-toggleable__label sk-toggleable__label-arrow\">Pipeline</label><div class=\"sk-toggleable__content\"><pre>Pipeline(steps=[(&#x27;binarizer&#x27;, Binarizer()), (&#x27;multinomialnb&#x27;, MultinomialNB())])</pre></div></div></div><div class=\"sk-serial\"><div class=\"sk-item\"><div class=\"sk-estimator sk-toggleable\"><input class=\"sk-toggleable__control sk-hidden--visually\" id=\"sk-estimator-id-5\" type=\"checkbox\" ><label for=\"sk-estimator-id-5\" class=\"sk-toggleable__label sk-toggleable__label-arrow\">Binarizer</label><div class=\"sk-toggleable__content\"><pre>Binarizer()</pre></div></div></div><div class=\"sk-item\"><div class=\"sk-estimator sk-toggleable\"><input class=\"sk-toggleable__control sk-hidden--visually\" id=\"sk-estimator-id-6\" type=\"checkbox\" ><label for=\"sk-estimator-id-6\" class=\"sk-toggleable__label sk-toggleable__label-arrow\">MultinomialNB</label><div class=\"sk-toggleable__content\"><pre>MultinomialNB()</pre></div></div></div></div></div></div></div>"
      ],
      "text/plain": [
       "Pipeline(steps=[('binarizer', Binarizer()), ('multinomialnb', MultinomialNB())])"
      ]
     },
     "execution_count": 2,
     "metadata": {},
     "output_type": "execute_result"
    }
   ],
   "source": [
    "from sklearn.pipeline import make_pipeline\n",
    "from sklearn.naive_bayes import MultinomialNB\n",
    "from sklearn.preprocessing import Binarizer\n",
    "make_pipeline(Binarizer(), MultinomialNB())"
   ]
  },
  {
   "cell_type": "markdown",
   "id": "0b173b6c-23c6-41e9-b067-b613a9334fbc",
   "metadata": {},
   "source": [
    "**Acceso a los pasos**\n",
    "\n",
    "Los estimadores de un pipeline se almacenan como una lista en el atributo steps, pero se pueden acceder por índice o por nombre indexándolos (con [idx]) en el pipeline:"
   ]
  },
  {
   "cell_type": "code",
   "execution_count": 3,
   "id": "9968534c-95b6-4fcc-9441-85e1de8ff86e",
   "metadata": {},
   "outputs": [
    {
     "data": {
      "text/plain": [
       "('reduce_dim', PCA())"
      ]
     },
     "execution_count": 3,
     "metadata": {},
     "output_type": "execute_result"
    }
   ],
   "source": [
    "pipe.steps[0]"
   ]
  },
  {
   "cell_type": "code",
   "execution_count": 4,
   "id": "caf35516-a65f-4ba2-947e-a1b1ee9ee988",
   "metadata": {},
   "outputs": [
    {
     "data": {
      "text/html": [
       "<style>#sk-container-id-3 {color: black;}#sk-container-id-3 pre{padding: 0;}#sk-container-id-3 div.sk-toggleable {background-color: white;}#sk-container-id-3 label.sk-toggleable__label {cursor: pointer;display: block;width: 100%;margin-bottom: 0;padding: 0.3em;box-sizing: border-box;text-align: center;}#sk-container-id-3 label.sk-toggleable__label-arrow:before {content: \"▸\";float: left;margin-right: 0.25em;color: #696969;}#sk-container-id-3 label.sk-toggleable__label-arrow:hover:before {color: black;}#sk-container-id-3 div.sk-estimator:hover label.sk-toggleable__label-arrow:before {color: black;}#sk-container-id-3 div.sk-toggleable__content {max-height: 0;max-width: 0;overflow: hidden;text-align: left;background-color: #f0f8ff;}#sk-container-id-3 div.sk-toggleable__content pre {margin: 0.2em;color: black;border-radius: 0.25em;background-color: #f0f8ff;}#sk-container-id-3 input.sk-toggleable__control:checked~div.sk-toggleable__content {max-height: 200px;max-width: 100%;overflow: auto;}#sk-container-id-3 input.sk-toggleable__control:checked~label.sk-toggleable__label-arrow:before {content: \"▾\";}#sk-container-id-3 div.sk-estimator input.sk-toggleable__control:checked~label.sk-toggleable__label {background-color: #d4ebff;}#sk-container-id-3 div.sk-label input.sk-toggleable__control:checked~label.sk-toggleable__label {background-color: #d4ebff;}#sk-container-id-3 input.sk-hidden--visually {border: 0;clip: rect(1px 1px 1px 1px);clip: rect(1px, 1px, 1px, 1px);height: 1px;margin: -1px;overflow: hidden;padding: 0;position: absolute;width: 1px;}#sk-container-id-3 div.sk-estimator {font-family: monospace;background-color: #f0f8ff;border: 1px dotted black;border-radius: 0.25em;box-sizing: border-box;margin-bottom: 0.5em;}#sk-container-id-3 div.sk-estimator:hover {background-color: #d4ebff;}#sk-container-id-3 div.sk-parallel-item::after {content: \"\";width: 100%;border-bottom: 1px solid gray;flex-grow: 1;}#sk-container-id-3 div.sk-label:hover label.sk-toggleable__label {background-color: #d4ebff;}#sk-container-id-3 div.sk-serial::before {content: \"\";position: absolute;border-left: 1px solid gray;box-sizing: border-box;top: 0;bottom: 0;left: 50%;z-index: 0;}#sk-container-id-3 div.sk-serial {display: flex;flex-direction: column;align-items: center;background-color: white;padding-right: 0.2em;padding-left: 0.2em;position: relative;}#sk-container-id-3 div.sk-item {position: relative;z-index: 1;}#sk-container-id-3 div.sk-parallel {display: flex;align-items: stretch;justify-content: center;background-color: white;position: relative;}#sk-container-id-3 div.sk-item::before, #sk-container-id-3 div.sk-parallel-item::before {content: \"\";position: absolute;border-left: 1px solid gray;box-sizing: border-box;top: 0;bottom: 0;left: 50%;z-index: -1;}#sk-container-id-3 div.sk-parallel-item {display: flex;flex-direction: column;z-index: 1;position: relative;background-color: white;}#sk-container-id-3 div.sk-parallel-item:first-child::after {align-self: flex-end;width: 50%;}#sk-container-id-3 div.sk-parallel-item:last-child::after {align-self: flex-start;width: 50%;}#sk-container-id-3 div.sk-parallel-item:only-child::after {width: 0;}#sk-container-id-3 div.sk-dashed-wrapped {border: 1px dashed gray;margin: 0 0.4em 0.5em 0.4em;box-sizing: border-box;padding-bottom: 0.4em;background-color: white;}#sk-container-id-3 div.sk-label label {font-family: monospace;font-weight: bold;display: inline-block;line-height: 1.2em;}#sk-container-id-3 div.sk-label-container {text-align: center;}#sk-container-id-3 div.sk-container {/* jupyter's `normalize.less` sets `[hidden] { display: none; }` but bootstrap.min.css set `[hidden] { display: none !important; }` so we also need the `!important` here to be able to override the default hidden behavior on the sphinx rendered scikit-learn.org. See: https://github.com/scikit-learn/scikit-learn/issues/21755 */display: inline-block !important;position: relative;}#sk-container-id-3 div.sk-text-repr-fallback {display: none;}</style><div id=\"sk-container-id-3\" class=\"sk-top-container\"><div class=\"sk-text-repr-fallback\"><pre>PCA()</pre><b>In a Jupyter environment, please rerun this cell to show the HTML representation or trust the notebook. <br />On GitHub, the HTML representation is unable to render, please try loading this page with nbviewer.org.</b></div><div class=\"sk-container\" hidden><div class=\"sk-item\"><div class=\"sk-estimator sk-toggleable\"><input class=\"sk-toggleable__control sk-hidden--visually\" id=\"sk-estimator-id-7\" type=\"checkbox\" checked><label for=\"sk-estimator-id-7\" class=\"sk-toggleable__label sk-toggleable__label-arrow\">PCA</label><div class=\"sk-toggleable__content\"><pre>PCA()</pre></div></div></div></div></div>"
      ],
      "text/plain": [
       "PCA()"
      ]
     },
     "execution_count": 4,
     "metadata": {},
     "output_type": "execute_result"
    }
   ],
   "source": [
    "pipe[0]"
   ]
  },
  {
   "cell_type": "code",
   "execution_count": 5,
   "id": "f4d0ed96-f77c-4211-a954-477397cebf62",
   "metadata": {},
   "outputs": [
    {
     "data": {
      "text/html": [
       "<style>#sk-container-id-4 {color: black;}#sk-container-id-4 pre{padding: 0;}#sk-container-id-4 div.sk-toggleable {background-color: white;}#sk-container-id-4 label.sk-toggleable__label {cursor: pointer;display: block;width: 100%;margin-bottom: 0;padding: 0.3em;box-sizing: border-box;text-align: center;}#sk-container-id-4 label.sk-toggleable__label-arrow:before {content: \"▸\";float: left;margin-right: 0.25em;color: #696969;}#sk-container-id-4 label.sk-toggleable__label-arrow:hover:before {color: black;}#sk-container-id-4 div.sk-estimator:hover label.sk-toggleable__label-arrow:before {color: black;}#sk-container-id-4 div.sk-toggleable__content {max-height: 0;max-width: 0;overflow: hidden;text-align: left;background-color: #f0f8ff;}#sk-container-id-4 div.sk-toggleable__content pre {margin: 0.2em;color: black;border-radius: 0.25em;background-color: #f0f8ff;}#sk-container-id-4 input.sk-toggleable__control:checked~div.sk-toggleable__content {max-height: 200px;max-width: 100%;overflow: auto;}#sk-container-id-4 input.sk-toggleable__control:checked~label.sk-toggleable__label-arrow:before {content: \"▾\";}#sk-container-id-4 div.sk-estimator input.sk-toggleable__control:checked~label.sk-toggleable__label {background-color: #d4ebff;}#sk-container-id-4 div.sk-label input.sk-toggleable__control:checked~label.sk-toggleable__label {background-color: #d4ebff;}#sk-container-id-4 input.sk-hidden--visually {border: 0;clip: rect(1px 1px 1px 1px);clip: rect(1px, 1px, 1px, 1px);height: 1px;margin: -1px;overflow: hidden;padding: 0;position: absolute;width: 1px;}#sk-container-id-4 div.sk-estimator {font-family: monospace;background-color: #f0f8ff;border: 1px dotted black;border-radius: 0.25em;box-sizing: border-box;margin-bottom: 0.5em;}#sk-container-id-4 div.sk-estimator:hover {background-color: #d4ebff;}#sk-container-id-4 div.sk-parallel-item::after {content: \"\";width: 100%;border-bottom: 1px solid gray;flex-grow: 1;}#sk-container-id-4 div.sk-label:hover label.sk-toggleable__label {background-color: #d4ebff;}#sk-container-id-4 div.sk-serial::before {content: \"\";position: absolute;border-left: 1px solid gray;box-sizing: border-box;top: 0;bottom: 0;left: 50%;z-index: 0;}#sk-container-id-4 div.sk-serial {display: flex;flex-direction: column;align-items: center;background-color: white;padding-right: 0.2em;padding-left: 0.2em;position: relative;}#sk-container-id-4 div.sk-item {position: relative;z-index: 1;}#sk-container-id-4 div.sk-parallel {display: flex;align-items: stretch;justify-content: center;background-color: white;position: relative;}#sk-container-id-4 div.sk-item::before, #sk-container-id-4 div.sk-parallel-item::before {content: \"\";position: absolute;border-left: 1px solid gray;box-sizing: border-box;top: 0;bottom: 0;left: 50%;z-index: -1;}#sk-container-id-4 div.sk-parallel-item {display: flex;flex-direction: column;z-index: 1;position: relative;background-color: white;}#sk-container-id-4 div.sk-parallel-item:first-child::after {align-self: flex-end;width: 50%;}#sk-container-id-4 div.sk-parallel-item:last-child::after {align-self: flex-start;width: 50%;}#sk-container-id-4 div.sk-parallel-item:only-child::after {width: 0;}#sk-container-id-4 div.sk-dashed-wrapped {border: 1px dashed gray;margin: 0 0.4em 0.5em 0.4em;box-sizing: border-box;padding-bottom: 0.4em;background-color: white;}#sk-container-id-4 div.sk-label label {font-family: monospace;font-weight: bold;display: inline-block;line-height: 1.2em;}#sk-container-id-4 div.sk-label-container {text-align: center;}#sk-container-id-4 div.sk-container {/* jupyter's `normalize.less` sets `[hidden] { display: none; }` but bootstrap.min.css set `[hidden] { display: none !important; }` so we also need the `!important` here to be able to override the default hidden behavior on the sphinx rendered scikit-learn.org. See: https://github.com/scikit-learn/scikit-learn/issues/21755 */display: inline-block !important;position: relative;}#sk-container-id-4 div.sk-text-repr-fallback {display: none;}</style><div id=\"sk-container-id-4\" class=\"sk-top-container\"><div class=\"sk-text-repr-fallback\"><pre>PCA()</pre><b>In a Jupyter environment, please rerun this cell to show the HTML representation or trust the notebook. <br />On GitHub, the HTML representation is unable to render, please try loading this page with nbviewer.org.</b></div><div class=\"sk-container\" hidden><div class=\"sk-item\"><div class=\"sk-estimator sk-toggleable\"><input class=\"sk-toggleable__control sk-hidden--visually\" id=\"sk-estimator-id-8\" type=\"checkbox\" checked><label for=\"sk-estimator-id-8\" class=\"sk-toggleable__label sk-toggleable__label-arrow\">PCA</label><div class=\"sk-toggleable__content\"><pre>PCA()</pre></div></div></div></div></div>"
      ],
      "text/plain": [
       "PCA()"
      ]
     },
     "execution_count": 5,
     "metadata": {},
     "output_type": "execute_result"
    }
   ],
   "source": [
    "pipe['reduce_dim']"
   ]
  },
  {
   "cell_type": "markdown",
   "id": "b67d18d0-37d6-4539-b507-3d2335e9ba26",
   "metadata": {},
   "source": [
    "El atributo named_steps de el pipeline permite acceder a los pasos por nombre con la finalización de pestañas en entornos interactivos:"
   ]
  },
  {
   "cell_type": "code",
   "execution_count": 6,
   "id": "994c7542-7da4-42ee-a8e9-52782b382a8b",
   "metadata": {},
   "outputs": [
    {
     "data": {
      "text/plain": [
       "True"
      ]
     },
     "execution_count": 6,
     "metadata": {},
     "output_type": "execute_result"
    }
   ],
   "source": [
    "pipe.named_steps.reduce_dim is pipe['reduce_dim']"
   ]
  },
  {
   "cell_type": "markdown",
   "id": "7389f03d-6ae8-4846-b252-53e7ce22264b",
   "metadata": {},
   "source": [
    "También se puede extraer un sub-pipeline utilizando la notación de segmentación comúnmente utilizada para secuencias de Python, como listas o cadenas (aunque solo se permite un paso de 1). Esto es conveniente para realizar solo algunas de las transformaciones (o su inverso):"
   ]
  },
  {
   "cell_type": "code",
   "execution_count": 7,
   "id": "897cbe34-4bd4-478b-a9e2-4ace8336c251",
   "metadata": {},
   "outputs": [
    {
     "data": {
      "text/html": [
       "<style>#sk-container-id-5 {color: black;}#sk-container-id-5 pre{padding: 0;}#sk-container-id-5 div.sk-toggleable {background-color: white;}#sk-container-id-5 label.sk-toggleable__label {cursor: pointer;display: block;width: 100%;margin-bottom: 0;padding: 0.3em;box-sizing: border-box;text-align: center;}#sk-container-id-5 label.sk-toggleable__label-arrow:before {content: \"▸\";float: left;margin-right: 0.25em;color: #696969;}#sk-container-id-5 label.sk-toggleable__label-arrow:hover:before {color: black;}#sk-container-id-5 div.sk-estimator:hover label.sk-toggleable__label-arrow:before {color: black;}#sk-container-id-5 div.sk-toggleable__content {max-height: 0;max-width: 0;overflow: hidden;text-align: left;background-color: #f0f8ff;}#sk-container-id-5 div.sk-toggleable__content pre {margin: 0.2em;color: black;border-radius: 0.25em;background-color: #f0f8ff;}#sk-container-id-5 input.sk-toggleable__control:checked~div.sk-toggleable__content {max-height: 200px;max-width: 100%;overflow: auto;}#sk-container-id-5 input.sk-toggleable__control:checked~label.sk-toggleable__label-arrow:before {content: \"▾\";}#sk-container-id-5 div.sk-estimator input.sk-toggleable__control:checked~label.sk-toggleable__label {background-color: #d4ebff;}#sk-container-id-5 div.sk-label input.sk-toggleable__control:checked~label.sk-toggleable__label {background-color: #d4ebff;}#sk-container-id-5 input.sk-hidden--visually {border: 0;clip: rect(1px 1px 1px 1px);clip: rect(1px, 1px, 1px, 1px);height: 1px;margin: -1px;overflow: hidden;padding: 0;position: absolute;width: 1px;}#sk-container-id-5 div.sk-estimator {font-family: monospace;background-color: #f0f8ff;border: 1px dotted black;border-radius: 0.25em;box-sizing: border-box;margin-bottom: 0.5em;}#sk-container-id-5 div.sk-estimator:hover {background-color: #d4ebff;}#sk-container-id-5 div.sk-parallel-item::after {content: \"\";width: 100%;border-bottom: 1px solid gray;flex-grow: 1;}#sk-container-id-5 div.sk-label:hover label.sk-toggleable__label {background-color: #d4ebff;}#sk-container-id-5 div.sk-serial::before {content: \"\";position: absolute;border-left: 1px solid gray;box-sizing: border-box;top: 0;bottom: 0;left: 50%;z-index: 0;}#sk-container-id-5 div.sk-serial {display: flex;flex-direction: column;align-items: center;background-color: white;padding-right: 0.2em;padding-left: 0.2em;position: relative;}#sk-container-id-5 div.sk-item {position: relative;z-index: 1;}#sk-container-id-5 div.sk-parallel {display: flex;align-items: stretch;justify-content: center;background-color: white;position: relative;}#sk-container-id-5 div.sk-item::before, #sk-container-id-5 div.sk-parallel-item::before {content: \"\";position: absolute;border-left: 1px solid gray;box-sizing: border-box;top: 0;bottom: 0;left: 50%;z-index: -1;}#sk-container-id-5 div.sk-parallel-item {display: flex;flex-direction: column;z-index: 1;position: relative;background-color: white;}#sk-container-id-5 div.sk-parallel-item:first-child::after {align-self: flex-end;width: 50%;}#sk-container-id-5 div.sk-parallel-item:last-child::after {align-self: flex-start;width: 50%;}#sk-container-id-5 div.sk-parallel-item:only-child::after {width: 0;}#sk-container-id-5 div.sk-dashed-wrapped {border: 1px dashed gray;margin: 0 0.4em 0.5em 0.4em;box-sizing: border-box;padding-bottom: 0.4em;background-color: white;}#sk-container-id-5 div.sk-label label {font-family: monospace;font-weight: bold;display: inline-block;line-height: 1.2em;}#sk-container-id-5 div.sk-label-container {text-align: center;}#sk-container-id-5 div.sk-container {/* jupyter's `normalize.less` sets `[hidden] { display: none; }` but bootstrap.min.css set `[hidden] { display: none !important; }` so we also need the `!important` here to be able to override the default hidden behavior on the sphinx rendered scikit-learn.org. See: https://github.com/scikit-learn/scikit-learn/issues/21755 */display: inline-block !important;position: relative;}#sk-container-id-5 div.sk-text-repr-fallback {display: none;}</style><div id=\"sk-container-id-5\" class=\"sk-top-container\"><div class=\"sk-text-repr-fallback\"><pre>Pipeline(steps=[(&#x27;reduce_dim&#x27;, PCA())])</pre><b>In a Jupyter environment, please rerun this cell to show the HTML representation or trust the notebook. <br />On GitHub, the HTML representation is unable to render, please try loading this page with nbviewer.org.</b></div><div class=\"sk-container\" hidden><div class=\"sk-item sk-dashed-wrapped\"><div class=\"sk-label-container\"><div class=\"sk-label sk-toggleable\"><input class=\"sk-toggleable__control sk-hidden--visually\" id=\"sk-estimator-id-9\" type=\"checkbox\" ><label for=\"sk-estimator-id-9\" class=\"sk-toggleable__label sk-toggleable__label-arrow\">Pipeline</label><div class=\"sk-toggleable__content\"><pre>Pipeline(steps=[(&#x27;reduce_dim&#x27;, PCA())])</pre></div></div></div><div class=\"sk-serial\"><div class=\"sk-item\"><div class=\"sk-estimator sk-toggleable\"><input class=\"sk-toggleable__control sk-hidden--visually\" id=\"sk-estimator-id-10\" type=\"checkbox\" ><label for=\"sk-estimator-id-10\" class=\"sk-toggleable__label sk-toggleable__label-arrow\">PCA</label><div class=\"sk-toggleable__content\"><pre>PCA()</pre></div></div></div></div></div></div></div>"
      ],
      "text/plain": [
       "Pipeline(steps=[('reduce_dim', PCA())])"
      ]
     },
     "execution_count": 7,
     "metadata": {},
     "output_type": "execute_result"
    }
   ],
   "source": [
    "pipe[:1]"
   ]
  },
  {
   "cell_type": "code",
   "execution_count": 8,
   "id": "c4515e72-1246-4224-b621-0bdc93ea8cc7",
   "metadata": {},
   "outputs": [
    {
     "data": {
      "text/html": [
       "<style>#sk-container-id-6 {color: black;}#sk-container-id-6 pre{padding: 0;}#sk-container-id-6 div.sk-toggleable {background-color: white;}#sk-container-id-6 label.sk-toggleable__label {cursor: pointer;display: block;width: 100%;margin-bottom: 0;padding: 0.3em;box-sizing: border-box;text-align: center;}#sk-container-id-6 label.sk-toggleable__label-arrow:before {content: \"▸\";float: left;margin-right: 0.25em;color: #696969;}#sk-container-id-6 label.sk-toggleable__label-arrow:hover:before {color: black;}#sk-container-id-6 div.sk-estimator:hover label.sk-toggleable__label-arrow:before {color: black;}#sk-container-id-6 div.sk-toggleable__content {max-height: 0;max-width: 0;overflow: hidden;text-align: left;background-color: #f0f8ff;}#sk-container-id-6 div.sk-toggleable__content pre {margin: 0.2em;color: black;border-radius: 0.25em;background-color: #f0f8ff;}#sk-container-id-6 input.sk-toggleable__control:checked~div.sk-toggleable__content {max-height: 200px;max-width: 100%;overflow: auto;}#sk-container-id-6 input.sk-toggleable__control:checked~label.sk-toggleable__label-arrow:before {content: \"▾\";}#sk-container-id-6 div.sk-estimator input.sk-toggleable__control:checked~label.sk-toggleable__label {background-color: #d4ebff;}#sk-container-id-6 div.sk-label input.sk-toggleable__control:checked~label.sk-toggleable__label {background-color: #d4ebff;}#sk-container-id-6 input.sk-hidden--visually {border: 0;clip: rect(1px 1px 1px 1px);clip: rect(1px, 1px, 1px, 1px);height: 1px;margin: -1px;overflow: hidden;padding: 0;position: absolute;width: 1px;}#sk-container-id-6 div.sk-estimator {font-family: monospace;background-color: #f0f8ff;border: 1px dotted black;border-radius: 0.25em;box-sizing: border-box;margin-bottom: 0.5em;}#sk-container-id-6 div.sk-estimator:hover {background-color: #d4ebff;}#sk-container-id-6 div.sk-parallel-item::after {content: \"\";width: 100%;border-bottom: 1px solid gray;flex-grow: 1;}#sk-container-id-6 div.sk-label:hover label.sk-toggleable__label {background-color: #d4ebff;}#sk-container-id-6 div.sk-serial::before {content: \"\";position: absolute;border-left: 1px solid gray;box-sizing: border-box;top: 0;bottom: 0;left: 50%;z-index: 0;}#sk-container-id-6 div.sk-serial {display: flex;flex-direction: column;align-items: center;background-color: white;padding-right: 0.2em;padding-left: 0.2em;position: relative;}#sk-container-id-6 div.sk-item {position: relative;z-index: 1;}#sk-container-id-6 div.sk-parallel {display: flex;align-items: stretch;justify-content: center;background-color: white;position: relative;}#sk-container-id-6 div.sk-item::before, #sk-container-id-6 div.sk-parallel-item::before {content: \"\";position: absolute;border-left: 1px solid gray;box-sizing: border-box;top: 0;bottom: 0;left: 50%;z-index: -1;}#sk-container-id-6 div.sk-parallel-item {display: flex;flex-direction: column;z-index: 1;position: relative;background-color: white;}#sk-container-id-6 div.sk-parallel-item:first-child::after {align-self: flex-end;width: 50%;}#sk-container-id-6 div.sk-parallel-item:last-child::after {align-self: flex-start;width: 50%;}#sk-container-id-6 div.sk-parallel-item:only-child::after {width: 0;}#sk-container-id-6 div.sk-dashed-wrapped {border: 1px dashed gray;margin: 0 0.4em 0.5em 0.4em;box-sizing: border-box;padding-bottom: 0.4em;background-color: white;}#sk-container-id-6 div.sk-label label {font-family: monospace;font-weight: bold;display: inline-block;line-height: 1.2em;}#sk-container-id-6 div.sk-label-container {text-align: center;}#sk-container-id-6 div.sk-container {/* jupyter's `normalize.less` sets `[hidden] { display: none; }` but bootstrap.min.css set `[hidden] { display: none !important; }` so we also need the `!important` here to be able to override the default hidden behavior on the sphinx rendered scikit-learn.org. See: https://github.com/scikit-learn/scikit-learn/issues/21755 */display: inline-block !important;position: relative;}#sk-container-id-6 div.sk-text-repr-fallback {display: none;}</style><div id=\"sk-container-id-6\" class=\"sk-top-container\"><div class=\"sk-text-repr-fallback\"><pre>Pipeline(steps=[(&#x27;clf&#x27;, SVC())])</pre><b>In a Jupyter environment, please rerun this cell to show the HTML representation or trust the notebook. <br />On GitHub, the HTML representation is unable to render, please try loading this page with nbviewer.org.</b></div><div class=\"sk-container\" hidden><div class=\"sk-item sk-dashed-wrapped\"><div class=\"sk-label-container\"><div class=\"sk-label sk-toggleable\"><input class=\"sk-toggleable__control sk-hidden--visually\" id=\"sk-estimator-id-11\" type=\"checkbox\" ><label for=\"sk-estimator-id-11\" class=\"sk-toggleable__label sk-toggleable__label-arrow\">Pipeline</label><div class=\"sk-toggleable__content\"><pre>Pipeline(steps=[(&#x27;clf&#x27;, SVC())])</pre></div></div></div><div class=\"sk-serial\"><div class=\"sk-item\"><div class=\"sk-estimator sk-toggleable\"><input class=\"sk-toggleable__control sk-hidden--visually\" id=\"sk-estimator-id-12\" type=\"checkbox\" ><label for=\"sk-estimator-id-12\" class=\"sk-toggleable__label sk-toggleable__label-arrow\">SVC</label><div class=\"sk-toggleable__content\"><pre>SVC()</pre></div></div></div></div></div></div></div>"
      ],
      "text/plain": [
       "Pipeline(steps=[('clf', SVC())])"
      ]
     },
     "execution_count": 8,
     "metadata": {},
     "output_type": "execute_result"
    }
   ],
   "source": [
    "pipe[-1:]"
   ]
  },
  {
   "cell_type": "markdown",
   "id": "2621e319-2fd5-4c9b-ab98-f15757ca05c6",
   "metadata": {},
   "source": [
    "**Parámetros anidados**\n",
    "\n",
    "Los parámetros de los estimadores en la tubería se pueden acceder utilizando la sintaxis <estimador>__<parámetro>:"
   ]
  },
  {
   "cell_type": "code",
   "execution_count": 9,
   "id": "f0ff178d-f125-4aff-91f8-e5ff5a030b23",
   "metadata": {},
   "outputs": [
    {
     "data": {
      "text/html": [
       "<style>#sk-container-id-7 {color: black;}#sk-container-id-7 pre{padding: 0;}#sk-container-id-7 div.sk-toggleable {background-color: white;}#sk-container-id-7 label.sk-toggleable__label {cursor: pointer;display: block;width: 100%;margin-bottom: 0;padding: 0.3em;box-sizing: border-box;text-align: center;}#sk-container-id-7 label.sk-toggleable__label-arrow:before {content: \"▸\";float: left;margin-right: 0.25em;color: #696969;}#sk-container-id-7 label.sk-toggleable__label-arrow:hover:before {color: black;}#sk-container-id-7 div.sk-estimator:hover label.sk-toggleable__label-arrow:before {color: black;}#sk-container-id-7 div.sk-toggleable__content {max-height: 0;max-width: 0;overflow: hidden;text-align: left;background-color: #f0f8ff;}#sk-container-id-7 div.sk-toggleable__content pre {margin: 0.2em;color: black;border-radius: 0.25em;background-color: #f0f8ff;}#sk-container-id-7 input.sk-toggleable__control:checked~div.sk-toggleable__content {max-height: 200px;max-width: 100%;overflow: auto;}#sk-container-id-7 input.sk-toggleable__control:checked~label.sk-toggleable__label-arrow:before {content: \"▾\";}#sk-container-id-7 div.sk-estimator input.sk-toggleable__control:checked~label.sk-toggleable__label {background-color: #d4ebff;}#sk-container-id-7 div.sk-label input.sk-toggleable__control:checked~label.sk-toggleable__label {background-color: #d4ebff;}#sk-container-id-7 input.sk-hidden--visually {border: 0;clip: rect(1px 1px 1px 1px);clip: rect(1px, 1px, 1px, 1px);height: 1px;margin: -1px;overflow: hidden;padding: 0;position: absolute;width: 1px;}#sk-container-id-7 div.sk-estimator {font-family: monospace;background-color: #f0f8ff;border: 1px dotted black;border-radius: 0.25em;box-sizing: border-box;margin-bottom: 0.5em;}#sk-container-id-7 div.sk-estimator:hover {background-color: #d4ebff;}#sk-container-id-7 div.sk-parallel-item::after {content: \"\";width: 100%;border-bottom: 1px solid gray;flex-grow: 1;}#sk-container-id-7 div.sk-label:hover label.sk-toggleable__label {background-color: #d4ebff;}#sk-container-id-7 div.sk-serial::before {content: \"\";position: absolute;border-left: 1px solid gray;box-sizing: border-box;top: 0;bottom: 0;left: 50%;z-index: 0;}#sk-container-id-7 div.sk-serial {display: flex;flex-direction: column;align-items: center;background-color: white;padding-right: 0.2em;padding-left: 0.2em;position: relative;}#sk-container-id-7 div.sk-item {position: relative;z-index: 1;}#sk-container-id-7 div.sk-parallel {display: flex;align-items: stretch;justify-content: center;background-color: white;position: relative;}#sk-container-id-7 div.sk-item::before, #sk-container-id-7 div.sk-parallel-item::before {content: \"\";position: absolute;border-left: 1px solid gray;box-sizing: border-box;top: 0;bottom: 0;left: 50%;z-index: -1;}#sk-container-id-7 div.sk-parallel-item {display: flex;flex-direction: column;z-index: 1;position: relative;background-color: white;}#sk-container-id-7 div.sk-parallel-item:first-child::after {align-self: flex-end;width: 50%;}#sk-container-id-7 div.sk-parallel-item:last-child::after {align-self: flex-start;width: 50%;}#sk-container-id-7 div.sk-parallel-item:only-child::after {width: 0;}#sk-container-id-7 div.sk-dashed-wrapped {border: 1px dashed gray;margin: 0 0.4em 0.5em 0.4em;box-sizing: border-box;padding-bottom: 0.4em;background-color: white;}#sk-container-id-7 div.sk-label label {font-family: monospace;font-weight: bold;display: inline-block;line-height: 1.2em;}#sk-container-id-7 div.sk-label-container {text-align: center;}#sk-container-id-7 div.sk-container {/* jupyter's `normalize.less` sets `[hidden] { display: none; }` but bootstrap.min.css set `[hidden] { display: none !important; }` so we also need the `!important` here to be able to override the default hidden behavior on the sphinx rendered scikit-learn.org. See: https://github.com/scikit-learn/scikit-learn/issues/21755 */display: inline-block !important;position: relative;}#sk-container-id-7 div.sk-text-repr-fallback {display: none;}</style><div id=\"sk-container-id-7\" class=\"sk-top-container\"><div class=\"sk-text-repr-fallback\"><pre>Pipeline(steps=[(&#x27;reduce_dim&#x27;, PCA()), (&#x27;clf&#x27;, SVC(C=10))])</pre><b>In a Jupyter environment, please rerun this cell to show the HTML representation or trust the notebook. <br />On GitHub, the HTML representation is unable to render, please try loading this page with nbviewer.org.</b></div><div class=\"sk-container\" hidden><div class=\"sk-item sk-dashed-wrapped\"><div class=\"sk-label-container\"><div class=\"sk-label sk-toggleable\"><input class=\"sk-toggleable__control sk-hidden--visually\" id=\"sk-estimator-id-13\" type=\"checkbox\" ><label for=\"sk-estimator-id-13\" class=\"sk-toggleable__label sk-toggleable__label-arrow\">Pipeline</label><div class=\"sk-toggleable__content\"><pre>Pipeline(steps=[(&#x27;reduce_dim&#x27;, PCA()), (&#x27;clf&#x27;, SVC(C=10))])</pre></div></div></div><div class=\"sk-serial\"><div class=\"sk-item\"><div class=\"sk-estimator sk-toggleable\"><input class=\"sk-toggleable__control sk-hidden--visually\" id=\"sk-estimator-id-14\" type=\"checkbox\" ><label for=\"sk-estimator-id-14\" class=\"sk-toggleable__label sk-toggleable__label-arrow\">PCA</label><div class=\"sk-toggleable__content\"><pre>PCA()</pre></div></div></div><div class=\"sk-item\"><div class=\"sk-estimator sk-toggleable\"><input class=\"sk-toggleable__control sk-hidden--visually\" id=\"sk-estimator-id-15\" type=\"checkbox\" ><label for=\"sk-estimator-id-15\" class=\"sk-toggleable__label sk-toggleable__label-arrow\">SVC</label><div class=\"sk-toggleable__content\"><pre>SVC(C=10)</pre></div></div></div></div></div></div></div>"
      ],
      "text/plain": [
       "Pipeline(steps=[('reduce_dim', PCA()), ('clf', SVC(C=10))])"
      ]
     },
     "execution_count": 9,
     "metadata": {},
     "output_type": "execute_result"
    }
   ],
   "source": [
    "pipe.set_params(clf__C=10)"
   ]
  },
  {
   "cell_type": "markdown",
   "id": "0305ec58-fa26-4f1e-989a-20a91dbbf859",
   "metadata": {},
   "source": [
    "Esto es particularmente importante al realizar Grid Search:"
   ]
  },
  {
   "cell_type": "code",
   "execution_count": 10,
   "id": "fba78d77-72a7-4b26-8bc3-febfb27f4ca5",
   "metadata": {},
   "outputs": [],
   "source": [
    "from sklearn.model_selection import GridSearchCV\n",
    "param_grid = dict(reduce_dim__n_components=[2, 5, 10],\n",
    "                  clf__C=[0.1, 10, 100])\n",
    "grid_search = GridSearchCV(pipe, param_grid=param_grid)"
   ]
  },
  {
   "cell_type": "markdown",
   "id": "d74247f4-a9df-4d72-8f4f-d38fb36ae725",
   "metadata": {},
   "source": [
    "Los pasos individuales también pueden ser reemplazados como parámetros, y los pasos que no son finales pueden ser ignorados configurándolos como 'passthrough':"
   ]
  },
  {
   "cell_type": "code",
   "execution_count": 11,
   "id": "155cc3bd-1b05-4ccd-856f-ab5a520c2385",
   "metadata": {},
   "outputs": [],
   "source": [
    "from sklearn.linear_model import LogisticRegression\n",
    "param_grid = dict(reduce_dim=['passthrough', PCA(5), PCA(10)],\n",
    "                  clf=[SVC(), LogisticRegression()],\n",
    "                  clf__C=[0.1, 10, 100])\n",
    "grid_search = GridSearchCV(pipe, param_grid=param_grid)"
   ]
  },
  {
   "cell_type": "markdown",
   "id": "a71ab4ba-a800-467a-9b05-73bb61205ed3",
   "metadata": {},
   "source": [
    "Los estimadores de el pipeline se pueden recuperar por índice:"
   ]
  },
  {
   "cell_type": "code",
   "execution_count": 12,
   "id": "13b17798-88bc-4002-bb35-b6ef320e95f3",
   "metadata": {},
   "outputs": [
    {
     "data": {
      "text/html": [
       "<style>#sk-container-id-8 {color: black;}#sk-container-id-8 pre{padding: 0;}#sk-container-id-8 div.sk-toggleable {background-color: white;}#sk-container-id-8 label.sk-toggleable__label {cursor: pointer;display: block;width: 100%;margin-bottom: 0;padding: 0.3em;box-sizing: border-box;text-align: center;}#sk-container-id-8 label.sk-toggleable__label-arrow:before {content: \"▸\";float: left;margin-right: 0.25em;color: #696969;}#sk-container-id-8 label.sk-toggleable__label-arrow:hover:before {color: black;}#sk-container-id-8 div.sk-estimator:hover label.sk-toggleable__label-arrow:before {color: black;}#sk-container-id-8 div.sk-toggleable__content {max-height: 0;max-width: 0;overflow: hidden;text-align: left;background-color: #f0f8ff;}#sk-container-id-8 div.sk-toggleable__content pre {margin: 0.2em;color: black;border-radius: 0.25em;background-color: #f0f8ff;}#sk-container-id-8 input.sk-toggleable__control:checked~div.sk-toggleable__content {max-height: 200px;max-width: 100%;overflow: auto;}#sk-container-id-8 input.sk-toggleable__control:checked~label.sk-toggleable__label-arrow:before {content: \"▾\";}#sk-container-id-8 div.sk-estimator input.sk-toggleable__control:checked~label.sk-toggleable__label {background-color: #d4ebff;}#sk-container-id-8 div.sk-label input.sk-toggleable__control:checked~label.sk-toggleable__label {background-color: #d4ebff;}#sk-container-id-8 input.sk-hidden--visually {border: 0;clip: rect(1px 1px 1px 1px);clip: rect(1px, 1px, 1px, 1px);height: 1px;margin: -1px;overflow: hidden;padding: 0;position: absolute;width: 1px;}#sk-container-id-8 div.sk-estimator {font-family: monospace;background-color: #f0f8ff;border: 1px dotted black;border-radius: 0.25em;box-sizing: border-box;margin-bottom: 0.5em;}#sk-container-id-8 div.sk-estimator:hover {background-color: #d4ebff;}#sk-container-id-8 div.sk-parallel-item::after {content: \"\";width: 100%;border-bottom: 1px solid gray;flex-grow: 1;}#sk-container-id-8 div.sk-label:hover label.sk-toggleable__label {background-color: #d4ebff;}#sk-container-id-8 div.sk-serial::before {content: \"\";position: absolute;border-left: 1px solid gray;box-sizing: border-box;top: 0;bottom: 0;left: 50%;z-index: 0;}#sk-container-id-8 div.sk-serial {display: flex;flex-direction: column;align-items: center;background-color: white;padding-right: 0.2em;padding-left: 0.2em;position: relative;}#sk-container-id-8 div.sk-item {position: relative;z-index: 1;}#sk-container-id-8 div.sk-parallel {display: flex;align-items: stretch;justify-content: center;background-color: white;position: relative;}#sk-container-id-8 div.sk-item::before, #sk-container-id-8 div.sk-parallel-item::before {content: \"\";position: absolute;border-left: 1px solid gray;box-sizing: border-box;top: 0;bottom: 0;left: 50%;z-index: -1;}#sk-container-id-8 div.sk-parallel-item {display: flex;flex-direction: column;z-index: 1;position: relative;background-color: white;}#sk-container-id-8 div.sk-parallel-item:first-child::after {align-self: flex-end;width: 50%;}#sk-container-id-8 div.sk-parallel-item:last-child::after {align-self: flex-start;width: 50%;}#sk-container-id-8 div.sk-parallel-item:only-child::after {width: 0;}#sk-container-id-8 div.sk-dashed-wrapped {border: 1px dashed gray;margin: 0 0.4em 0.5em 0.4em;box-sizing: border-box;padding-bottom: 0.4em;background-color: white;}#sk-container-id-8 div.sk-label label {font-family: monospace;font-weight: bold;display: inline-block;line-height: 1.2em;}#sk-container-id-8 div.sk-label-container {text-align: center;}#sk-container-id-8 div.sk-container {/* jupyter's `normalize.less` sets `[hidden] { display: none; }` but bootstrap.min.css set `[hidden] { display: none !important; }` so we also need the `!important` here to be able to override the default hidden behavior on the sphinx rendered scikit-learn.org. See: https://github.com/scikit-learn/scikit-learn/issues/21755 */display: inline-block !important;position: relative;}#sk-container-id-8 div.sk-text-repr-fallback {display: none;}</style><div id=\"sk-container-id-8\" class=\"sk-top-container\"><div class=\"sk-text-repr-fallback\"><pre>PCA()</pre><b>In a Jupyter environment, please rerun this cell to show the HTML representation or trust the notebook. <br />On GitHub, the HTML representation is unable to render, please try loading this page with nbviewer.org.</b></div><div class=\"sk-container\" hidden><div class=\"sk-item\"><div class=\"sk-estimator sk-toggleable\"><input class=\"sk-toggleable__control sk-hidden--visually\" id=\"sk-estimator-id-16\" type=\"checkbox\" checked><label for=\"sk-estimator-id-16\" class=\"sk-toggleable__label sk-toggleable__label-arrow\">PCA</label><div class=\"sk-toggleable__content\"><pre>PCA()</pre></div></div></div></div></div>"
      ],
      "text/plain": [
       "PCA()"
      ]
     },
     "execution_count": 12,
     "metadata": {},
     "output_type": "execute_result"
    }
   ],
   "source": [
    "pipe[0]"
   ]
  },
  {
   "cell_type": "code",
   "execution_count": 13,
   "id": "8530e2fb-658f-4bc7-9114-cbcc43bef700",
   "metadata": {},
   "outputs": [
    {
     "data": {
      "text/html": [
       "<style>#sk-container-id-9 {color: black;}#sk-container-id-9 pre{padding: 0;}#sk-container-id-9 div.sk-toggleable {background-color: white;}#sk-container-id-9 label.sk-toggleable__label {cursor: pointer;display: block;width: 100%;margin-bottom: 0;padding: 0.3em;box-sizing: border-box;text-align: center;}#sk-container-id-9 label.sk-toggleable__label-arrow:before {content: \"▸\";float: left;margin-right: 0.25em;color: #696969;}#sk-container-id-9 label.sk-toggleable__label-arrow:hover:before {color: black;}#sk-container-id-9 div.sk-estimator:hover label.sk-toggleable__label-arrow:before {color: black;}#sk-container-id-9 div.sk-toggleable__content {max-height: 0;max-width: 0;overflow: hidden;text-align: left;background-color: #f0f8ff;}#sk-container-id-9 div.sk-toggleable__content pre {margin: 0.2em;color: black;border-radius: 0.25em;background-color: #f0f8ff;}#sk-container-id-9 input.sk-toggleable__control:checked~div.sk-toggleable__content {max-height: 200px;max-width: 100%;overflow: auto;}#sk-container-id-9 input.sk-toggleable__control:checked~label.sk-toggleable__label-arrow:before {content: \"▾\";}#sk-container-id-9 div.sk-estimator input.sk-toggleable__control:checked~label.sk-toggleable__label {background-color: #d4ebff;}#sk-container-id-9 div.sk-label input.sk-toggleable__control:checked~label.sk-toggleable__label {background-color: #d4ebff;}#sk-container-id-9 input.sk-hidden--visually {border: 0;clip: rect(1px 1px 1px 1px);clip: rect(1px, 1px, 1px, 1px);height: 1px;margin: -1px;overflow: hidden;padding: 0;position: absolute;width: 1px;}#sk-container-id-9 div.sk-estimator {font-family: monospace;background-color: #f0f8ff;border: 1px dotted black;border-radius: 0.25em;box-sizing: border-box;margin-bottom: 0.5em;}#sk-container-id-9 div.sk-estimator:hover {background-color: #d4ebff;}#sk-container-id-9 div.sk-parallel-item::after {content: \"\";width: 100%;border-bottom: 1px solid gray;flex-grow: 1;}#sk-container-id-9 div.sk-label:hover label.sk-toggleable__label {background-color: #d4ebff;}#sk-container-id-9 div.sk-serial::before {content: \"\";position: absolute;border-left: 1px solid gray;box-sizing: border-box;top: 0;bottom: 0;left: 50%;z-index: 0;}#sk-container-id-9 div.sk-serial {display: flex;flex-direction: column;align-items: center;background-color: white;padding-right: 0.2em;padding-left: 0.2em;position: relative;}#sk-container-id-9 div.sk-item {position: relative;z-index: 1;}#sk-container-id-9 div.sk-parallel {display: flex;align-items: stretch;justify-content: center;background-color: white;position: relative;}#sk-container-id-9 div.sk-item::before, #sk-container-id-9 div.sk-parallel-item::before {content: \"\";position: absolute;border-left: 1px solid gray;box-sizing: border-box;top: 0;bottom: 0;left: 50%;z-index: -1;}#sk-container-id-9 div.sk-parallel-item {display: flex;flex-direction: column;z-index: 1;position: relative;background-color: white;}#sk-container-id-9 div.sk-parallel-item:first-child::after {align-self: flex-end;width: 50%;}#sk-container-id-9 div.sk-parallel-item:last-child::after {align-self: flex-start;width: 50%;}#sk-container-id-9 div.sk-parallel-item:only-child::after {width: 0;}#sk-container-id-9 div.sk-dashed-wrapped {border: 1px dashed gray;margin: 0 0.4em 0.5em 0.4em;box-sizing: border-box;padding-bottom: 0.4em;background-color: white;}#sk-container-id-9 div.sk-label label {font-family: monospace;font-weight: bold;display: inline-block;line-height: 1.2em;}#sk-container-id-9 div.sk-label-container {text-align: center;}#sk-container-id-9 div.sk-container {/* jupyter's `normalize.less` sets `[hidden] { display: none; }` but bootstrap.min.css set `[hidden] { display: none !important; }` so we also need the `!important` here to be able to override the default hidden behavior on the sphinx rendered scikit-learn.org. See: https://github.com/scikit-learn/scikit-learn/issues/21755 */display: inline-block !important;position: relative;}#sk-container-id-9 div.sk-text-repr-fallback {display: none;}</style><div id=\"sk-container-id-9\" class=\"sk-top-container\"><div class=\"sk-text-repr-fallback\"><pre>PCA()</pre><b>In a Jupyter environment, please rerun this cell to show the HTML representation or trust the notebook. <br />On GitHub, the HTML representation is unable to render, please try loading this page with nbviewer.org.</b></div><div class=\"sk-container\" hidden><div class=\"sk-item\"><div class=\"sk-estimator sk-toggleable\"><input class=\"sk-toggleable__control sk-hidden--visually\" id=\"sk-estimator-id-17\" type=\"checkbox\" checked><label for=\"sk-estimator-id-17\" class=\"sk-toggleable__label sk-toggleable__label-arrow\">PCA</label><div class=\"sk-toggleable__content\"><pre>PCA()</pre></div></div></div></div></div>"
      ],
      "text/plain": [
       "PCA()"
      ]
     },
     "execution_count": 13,
     "metadata": {},
     "output_type": "execute_result"
    }
   ],
   "source": [
    "pipe['reduce_dim']"
   ]
  },
  {
   "cell_type": "markdown",
   "id": "e4f998ff-0d6d-42f7-9368-14c086b778fe",
   "metadata": {},
   "source": [
    "Para habilitar la inspección del modelo, el \"pipeline\" tiene un método llamado get_feature_names_out(), al igual que todos los transformadores. Puedes utilizar el \"pipeline slicing\" para obtener los nombres de las características que ingresan en cada paso:"
   ]
  },
  {
   "cell_type": "code",
   "execution_count": 14,
   "id": "098c3201-d094-4207-a16c-38f5ff72d63c",
   "metadata": {},
   "outputs": [
    {
     "data": {
      "text/html": [
       "<style>#sk-container-id-10 {color: black;}#sk-container-id-10 pre{padding: 0;}#sk-container-id-10 div.sk-toggleable {background-color: white;}#sk-container-id-10 label.sk-toggleable__label {cursor: pointer;display: block;width: 100%;margin-bottom: 0;padding: 0.3em;box-sizing: border-box;text-align: center;}#sk-container-id-10 label.sk-toggleable__label-arrow:before {content: \"▸\";float: left;margin-right: 0.25em;color: #696969;}#sk-container-id-10 label.sk-toggleable__label-arrow:hover:before {color: black;}#sk-container-id-10 div.sk-estimator:hover label.sk-toggleable__label-arrow:before {color: black;}#sk-container-id-10 div.sk-toggleable__content {max-height: 0;max-width: 0;overflow: hidden;text-align: left;background-color: #f0f8ff;}#sk-container-id-10 div.sk-toggleable__content pre {margin: 0.2em;color: black;border-radius: 0.25em;background-color: #f0f8ff;}#sk-container-id-10 input.sk-toggleable__control:checked~div.sk-toggleable__content {max-height: 200px;max-width: 100%;overflow: auto;}#sk-container-id-10 input.sk-toggleable__control:checked~label.sk-toggleable__label-arrow:before {content: \"▾\";}#sk-container-id-10 div.sk-estimator input.sk-toggleable__control:checked~label.sk-toggleable__label {background-color: #d4ebff;}#sk-container-id-10 div.sk-label input.sk-toggleable__control:checked~label.sk-toggleable__label {background-color: #d4ebff;}#sk-container-id-10 input.sk-hidden--visually {border: 0;clip: rect(1px 1px 1px 1px);clip: rect(1px, 1px, 1px, 1px);height: 1px;margin: -1px;overflow: hidden;padding: 0;position: absolute;width: 1px;}#sk-container-id-10 div.sk-estimator {font-family: monospace;background-color: #f0f8ff;border: 1px dotted black;border-radius: 0.25em;box-sizing: border-box;margin-bottom: 0.5em;}#sk-container-id-10 div.sk-estimator:hover {background-color: #d4ebff;}#sk-container-id-10 div.sk-parallel-item::after {content: \"\";width: 100%;border-bottom: 1px solid gray;flex-grow: 1;}#sk-container-id-10 div.sk-label:hover label.sk-toggleable__label {background-color: #d4ebff;}#sk-container-id-10 div.sk-serial::before {content: \"\";position: absolute;border-left: 1px solid gray;box-sizing: border-box;top: 0;bottom: 0;left: 50%;z-index: 0;}#sk-container-id-10 div.sk-serial {display: flex;flex-direction: column;align-items: center;background-color: white;padding-right: 0.2em;padding-left: 0.2em;position: relative;}#sk-container-id-10 div.sk-item {position: relative;z-index: 1;}#sk-container-id-10 div.sk-parallel {display: flex;align-items: stretch;justify-content: center;background-color: white;position: relative;}#sk-container-id-10 div.sk-item::before, #sk-container-id-10 div.sk-parallel-item::before {content: \"\";position: absolute;border-left: 1px solid gray;box-sizing: border-box;top: 0;bottom: 0;left: 50%;z-index: -1;}#sk-container-id-10 div.sk-parallel-item {display: flex;flex-direction: column;z-index: 1;position: relative;background-color: white;}#sk-container-id-10 div.sk-parallel-item:first-child::after {align-self: flex-end;width: 50%;}#sk-container-id-10 div.sk-parallel-item:last-child::after {align-self: flex-start;width: 50%;}#sk-container-id-10 div.sk-parallel-item:only-child::after {width: 0;}#sk-container-id-10 div.sk-dashed-wrapped {border: 1px dashed gray;margin: 0 0.4em 0.5em 0.4em;box-sizing: border-box;padding-bottom: 0.4em;background-color: white;}#sk-container-id-10 div.sk-label label {font-family: monospace;font-weight: bold;display: inline-block;line-height: 1.2em;}#sk-container-id-10 div.sk-label-container {text-align: center;}#sk-container-id-10 div.sk-container {/* jupyter's `normalize.less` sets `[hidden] { display: none; }` but bootstrap.min.css set `[hidden] { display: none !important; }` so we also need the `!important` here to be able to override the default hidden behavior on the sphinx rendered scikit-learn.org. See: https://github.com/scikit-learn/scikit-learn/issues/21755 */display: inline-block !important;position: relative;}#sk-container-id-10 div.sk-text-repr-fallback {display: none;}</style><div id=\"sk-container-id-10\" class=\"sk-top-container\"><div class=\"sk-text-repr-fallback\"><pre>Pipeline(steps=[(&#x27;select&#x27;, SelectKBest(k=2)), (&#x27;clf&#x27;, LogisticRegression())])</pre><b>In a Jupyter environment, please rerun this cell to show the HTML representation or trust the notebook. <br />On GitHub, the HTML representation is unable to render, please try loading this page with nbviewer.org.</b></div><div class=\"sk-container\" hidden><div class=\"sk-item sk-dashed-wrapped\"><div class=\"sk-label-container\"><div class=\"sk-label sk-toggleable\"><input class=\"sk-toggleable__control sk-hidden--visually\" id=\"sk-estimator-id-18\" type=\"checkbox\" ><label for=\"sk-estimator-id-18\" class=\"sk-toggleable__label sk-toggleable__label-arrow\">Pipeline</label><div class=\"sk-toggleable__content\"><pre>Pipeline(steps=[(&#x27;select&#x27;, SelectKBest(k=2)), (&#x27;clf&#x27;, LogisticRegression())])</pre></div></div></div><div class=\"sk-serial\"><div class=\"sk-item\"><div class=\"sk-estimator sk-toggleable\"><input class=\"sk-toggleable__control sk-hidden--visually\" id=\"sk-estimator-id-19\" type=\"checkbox\" ><label for=\"sk-estimator-id-19\" class=\"sk-toggleable__label sk-toggleable__label-arrow\">SelectKBest</label><div class=\"sk-toggleable__content\"><pre>SelectKBest(k=2)</pre></div></div></div><div class=\"sk-item\"><div class=\"sk-estimator sk-toggleable\"><input class=\"sk-toggleable__control sk-hidden--visually\" id=\"sk-estimator-id-20\" type=\"checkbox\" ><label for=\"sk-estimator-id-20\" class=\"sk-toggleable__label sk-toggleable__label-arrow\">LogisticRegression</label><div class=\"sk-toggleable__content\"><pre>LogisticRegression()</pre></div></div></div></div></div></div></div>"
      ],
      "text/plain": [
       "Pipeline(steps=[('select', SelectKBest(k=2)), ('clf', LogisticRegression())])"
      ]
     },
     "execution_count": 14,
     "metadata": {},
     "output_type": "execute_result"
    }
   ],
   "source": [
    "from sklearn.datasets import load_iris\n",
    "from sklearn.feature_selection import SelectKBest\n",
    "iris = load_iris()\n",
    "pipe = Pipeline(steps=[\n",
    "    ('select', SelectKBest(k=2)),\n",
    "    ('clf', LogisticRegression())])\n",
    "pipe.fit(iris.data, iris.target)"
   ]
  },
  {
   "cell_type": "code",
   "execution_count": 15,
   "id": "46b08c3b-d24d-4921-a52a-c0be0567f555",
   "metadata": {},
   "outputs": [
    {
     "data": {
      "text/plain": [
       "array(['x2', 'x3'], dtype=object)"
      ]
     },
     "execution_count": 15,
     "metadata": {},
     "output_type": "execute_result"
    }
   ],
   "source": [
    "pipe[:-1].get_feature_names_out()"
   ]
  },
  {
   "cell_type": "markdown",
   "id": "7347c565-8d9f-48c2-9717-4f91f645023a",
   "metadata": {},
   "source": [
    "También puedes proporcionar nombres de características personalizados para los datos de entrada utilizando get_feature_names_out:"
   ]
  },
  {
   "cell_type": "code",
   "execution_count": 16,
   "id": "3a9395fb-6f5f-481b-a398-8ddd0e127f5b",
   "metadata": {},
   "outputs": [
    {
     "data": {
      "text/plain": [
       "array(['petal length (cm)', 'petal width (cm)'], dtype=object)"
      ]
     },
     "execution_count": 16,
     "metadata": {},
     "output_type": "execute_result"
    }
   ],
   "source": [
    "pipe[:-1].get_feature_names_out(iris.feature_names)"
   ]
  },
  {
   "cell_type": "markdown",
   "id": "24064e91-34ff-47f7-a553-7d85432a100c",
   "metadata": {},
   "source": [
    "**Ejemplos**\n",
    "\n",
    "- [Pipeline ANOVA SVM](https://scikit-learn.org/stable/auto_examples/feature_selection/plot_feature_selection_pipeline.html#sphx-glr-auto-examples-feature-selection-plot-feature-selection-pipeline-py)\n",
    "\n",
    "- [Sample pipeline for text feature extraction and evaluation](https://scikit-learn.org/stable/auto_examples/model_selection/plot_grid_search_text_feature_extraction.html#sphx-glr-auto-examples-model-selection-plot-grid-search-text-feature-extraction-py)\n",
    "\n",
    "- [Pipelining: chaining a PCA and a logistic regression](https://scikit-learn.org/stable/auto_examples/compose/plot_digits_pipe.html#sphx-glr-auto-examples-compose-plot-digits-pipe-py)\n",
    "\n",
    "- [Explicit feature map approximation for RBF kernels](https://scikit-learn.org/stable/auto_examples/miscellaneous/plot_kernel_approximation.html#sphx-glr-auto-examples-miscellaneous-plot-kernel-approximation-py)\n",
    "\n",
    "- [SVM-Anova: SVM with univariate feature selection](https://scikit-learn.org/stable/auto_examples/svm/plot_svm_anova.html#sphx-glr-auto-examples-svm-plot-svm-anova-py)\n",
    "\n",
    "- [Selecting dimensionality reduction with Pipeline and GridSearchCV](https://scikit-learn.org/stable/auto_examples/compose/plot_compare_reduction.html#sphx-glr-auto-examples-compose-plot-compare-reduction-py)\n",
    "\n",
    "- [Displaying Pipelines](https://scikit-learn.org/stable/auto_examples/miscellaneous/plot_pipeline_display.html#sphx-glr-auto-examples-miscellaneous-plot-pipeline-display-py)\n",
    "\n",
    "Véase también:\n",
    "\n",
    "- [Composite estimators and parameter spaces](https://scikit-learn.org/stable/modules/grid_search.html#composite-grid-search)"
   ]
  },
  {
   "cell_type": "markdown",
   "id": "09ebf9ca-21a7-485a-a077-3edceb1bedc1",
   "metadata": {},
   "source": [
    "###   <span style=\"color:blue\">Notas</span>"
   ]
  },
  {
   "cell_type": "markdown",
   "id": "7bbffc2d-6c12-4161-a134-858a2d90ada5",
   "metadata": {},
   "source": [
    "Llamar a fit en el \"pipeline\" es equivalente a llamar a fit en cada estimador por turno, transformar la entrada y pasarla al siguiente paso. El \"pipeline\" tiene todos los métodos que tiene el último estimador en el \"pipeline\", es decir, si el último estimador es un clasificador, el \"pipeline\" puede utilizarse como un clasificador. Si el último estimador es un transformador, una vez más, el \"pipeline\" también lo es."
   ]
  },
  {
   "cell_type": "markdown",
   "id": "66211aea-4521-48e8-a0e3-618d461dc739",
   "metadata": {},
   "source": [
    "###   <span style=\"color:blue\">Almacenamiento en caché de transformadores: evita la computación repetida</span>"
   ]
  },
  {
   "cell_type": "markdown",
   "id": "a6600fc2-7d73-46a6-83b6-02ef0a8ba674",
   "metadata": {},
   "source": [
    "Ajustar transformadores puede ser computacionalmente costoso. Con su parámetro de memoria configurado, el Pipeline almacenará en caché cada transformador después de llamar a la función fit. Esta característica se utiliza para evitar calcular los transformadores ajustados dentro de un pipeline si los parámetros y los datos de entrada son idénticos. Un ejemplo típico es el caso de una búsqueda en cuadrícula en la que los transformadores solo se ajustan una vez y se reutilizan para cada configuración. El último paso nunca se almacenará en caché, incluso si es un transformador.\n",
    "\n",
    "Se necesita el parámetro de memoria para almacenar en caché los transformadores. La memoria puede ser tanto una cadena que contiene el directorio donde se almacenarán en caché los transformadores como un objeto joblib.Memory:"
   ]
  },
  {
   "cell_type": "code",
   "execution_count": 17,
   "id": "e29d5957-93f4-416e-9f2e-e89119722482",
   "metadata": {},
   "outputs": [
    {
     "data": {
      "text/html": [
       "<style>#sk-container-id-11 {color: black;}#sk-container-id-11 pre{padding: 0;}#sk-container-id-11 div.sk-toggleable {background-color: white;}#sk-container-id-11 label.sk-toggleable__label {cursor: pointer;display: block;width: 100%;margin-bottom: 0;padding: 0.3em;box-sizing: border-box;text-align: center;}#sk-container-id-11 label.sk-toggleable__label-arrow:before {content: \"▸\";float: left;margin-right: 0.25em;color: #696969;}#sk-container-id-11 label.sk-toggleable__label-arrow:hover:before {color: black;}#sk-container-id-11 div.sk-estimator:hover label.sk-toggleable__label-arrow:before {color: black;}#sk-container-id-11 div.sk-toggleable__content {max-height: 0;max-width: 0;overflow: hidden;text-align: left;background-color: #f0f8ff;}#sk-container-id-11 div.sk-toggleable__content pre {margin: 0.2em;color: black;border-radius: 0.25em;background-color: #f0f8ff;}#sk-container-id-11 input.sk-toggleable__control:checked~div.sk-toggleable__content {max-height: 200px;max-width: 100%;overflow: auto;}#sk-container-id-11 input.sk-toggleable__control:checked~label.sk-toggleable__label-arrow:before {content: \"▾\";}#sk-container-id-11 div.sk-estimator input.sk-toggleable__control:checked~label.sk-toggleable__label {background-color: #d4ebff;}#sk-container-id-11 div.sk-label input.sk-toggleable__control:checked~label.sk-toggleable__label {background-color: #d4ebff;}#sk-container-id-11 input.sk-hidden--visually {border: 0;clip: rect(1px 1px 1px 1px);clip: rect(1px, 1px, 1px, 1px);height: 1px;margin: -1px;overflow: hidden;padding: 0;position: absolute;width: 1px;}#sk-container-id-11 div.sk-estimator {font-family: monospace;background-color: #f0f8ff;border: 1px dotted black;border-radius: 0.25em;box-sizing: border-box;margin-bottom: 0.5em;}#sk-container-id-11 div.sk-estimator:hover {background-color: #d4ebff;}#sk-container-id-11 div.sk-parallel-item::after {content: \"\";width: 100%;border-bottom: 1px solid gray;flex-grow: 1;}#sk-container-id-11 div.sk-label:hover label.sk-toggleable__label {background-color: #d4ebff;}#sk-container-id-11 div.sk-serial::before {content: \"\";position: absolute;border-left: 1px solid gray;box-sizing: border-box;top: 0;bottom: 0;left: 50%;z-index: 0;}#sk-container-id-11 div.sk-serial {display: flex;flex-direction: column;align-items: center;background-color: white;padding-right: 0.2em;padding-left: 0.2em;position: relative;}#sk-container-id-11 div.sk-item {position: relative;z-index: 1;}#sk-container-id-11 div.sk-parallel {display: flex;align-items: stretch;justify-content: center;background-color: white;position: relative;}#sk-container-id-11 div.sk-item::before, #sk-container-id-11 div.sk-parallel-item::before {content: \"\";position: absolute;border-left: 1px solid gray;box-sizing: border-box;top: 0;bottom: 0;left: 50%;z-index: -1;}#sk-container-id-11 div.sk-parallel-item {display: flex;flex-direction: column;z-index: 1;position: relative;background-color: white;}#sk-container-id-11 div.sk-parallel-item:first-child::after {align-self: flex-end;width: 50%;}#sk-container-id-11 div.sk-parallel-item:last-child::after {align-self: flex-start;width: 50%;}#sk-container-id-11 div.sk-parallel-item:only-child::after {width: 0;}#sk-container-id-11 div.sk-dashed-wrapped {border: 1px dashed gray;margin: 0 0.4em 0.5em 0.4em;box-sizing: border-box;padding-bottom: 0.4em;background-color: white;}#sk-container-id-11 div.sk-label label {font-family: monospace;font-weight: bold;display: inline-block;line-height: 1.2em;}#sk-container-id-11 div.sk-label-container {text-align: center;}#sk-container-id-11 div.sk-container {/* jupyter's `normalize.less` sets `[hidden] { display: none; }` but bootstrap.min.css set `[hidden] { display: none !important; }` so we also need the `!important` here to be able to override the default hidden behavior on the sphinx rendered scikit-learn.org. See: https://github.com/scikit-learn/scikit-learn/issues/21755 */display: inline-block !important;position: relative;}#sk-container-id-11 div.sk-text-repr-fallback {display: none;}</style><div id=\"sk-container-id-11\" class=\"sk-top-container\"><div class=\"sk-text-repr-fallback\"><pre>Pipeline(memory=&#x27;C:\\\\Users\\\\anroj\\\\AppData\\\\Local\\\\Temp\\\\tmpk2s5rk8e&#x27;,\n",
       "         steps=[(&#x27;reduce_dim&#x27;, PCA()), (&#x27;clf&#x27;, SVC())])</pre><b>In a Jupyter environment, please rerun this cell to show the HTML representation or trust the notebook. <br />On GitHub, the HTML representation is unable to render, please try loading this page with nbviewer.org.</b></div><div class=\"sk-container\" hidden><div class=\"sk-item sk-dashed-wrapped\"><div class=\"sk-label-container\"><div class=\"sk-label sk-toggleable\"><input class=\"sk-toggleable__control sk-hidden--visually\" id=\"sk-estimator-id-21\" type=\"checkbox\" ><label for=\"sk-estimator-id-21\" class=\"sk-toggleable__label sk-toggleable__label-arrow\">Pipeline</label><div class=\"sk-toggleable__content\"><pre>Pipeline(memory=&#x27;C:\\\\Users\\\\anroj\\\\AppData\\\\Local\\\\Temp\\\\tmpk2s5rk8e&#x27;,\n",
       "         steps=[(&#x27;reduce_dim&#x27;, PCA()), (&#x27;clf&#x27;, SVC())])</pre></div></div></div><div class=\"sk-serial\"><div class=\"sk-item\"><div class=\"sk-estimator sk-toggleable\"><input class=\"sk-toggleable__control sk-hidden--visually\" id=\"sk-estimator-id-22\" type=\"checkbox\" ><label for=\"sk-estimator-id-22\" class=\"sk-toggleable__label sk-toggleable__label-arrow\">PCA</label><div class=\"sk-toggleable__content\"><pre>PCA()</pre></div></div></div><div class=\"sk-item\"><div class=\"sk-estimator sk-toggleable\"><input class=\"sk-toggleable__control sk-hidden--visually\" id=\"sk-estimator-id-23\" type=\"checkbox\" ><label for=\"sk-estimator-id-23\" class=\"sk-toggleable__label sk-toggleable__label-arrow\">SVC</label><div class=\"sk-toggleable__content\"><pre>SVC()</pre></div></div></div></div></div></div></div>"
      ],
      "text/plain": [
       "Pipeline(memory='C:\\\\Users\\\\anroj\\\\AppData\\\\Local\\\\Temp\\\\tmpk2s5rk8e',\n",
       "         steps=[('reduce_dim', PCA()), ('clf', SVC())])"
      ]
     },
     "execution_count": 17,
     "metadata": {},
     "output_type": "execute_result"
    }
   ],
   "source": [
    "from tempfile import mkdtemp\n",
    "from shutil import rmtree\n",
    "from sklearn.decomposition import PCA\n",
    "from sklearn.svm import SVC\n",
    "from sklearn.pipeline import Pipeline\n",
    "estimators = [('reduce_dim', PCA()), ('clf', SVC())]\n",
    "cachedir = mkdtemp()\n",
    "pipe = Pipeline(estimators, memory=cachedir)\n",
    "pipe"
   ]
  },
  {
   "cell_type": "code",
   "execution_count": 18,
   "id": "30893c46-7d73-464a-a2f4-aa906fcadde1",
   "metadata": {},
   "outputs": [],
   "source": [
    "# Clear the cache directory when you don't need it anymore\n",
    "rmtree(cachedir)"
   ]
  },
  {
   "cell_type": "markdown",
   "id": "ecb6fa4d-c080-46a9-a7d0-284024001338",
   "metadata": {},
   "source": [
    "**Advertencia**\n",
    "\n",
    "Efecto secundario de la caché de transformadores\n",
    "\n",
    "Si se utiliza un el pipeline sin habilitar la caché, es posible inspeccionar la instancia original, como:"
   ]
  },
  {
   "cell_type": "code",
   "execution_count": 19,
   "id": "5e19787a-97c1-44c8-8ac2-0b24df11c83b",
   "metadata": {},
   "outputs": [
    {
     "data": {
      "text/html": [
       "<style>#sk-container-id-12 {color: black;}#sk-container-id-12 pre{padding: 0;}#sk-container-id-12 div.sk-toggleable {background-color: white;}#sk-container-id-12 label.sk-toggleable__label {cursor: pointer;display: block;width: 100%;margin-bottom: 0;padding: 0.3em;box-sizing: border-box;text-align: center;}#sk-container-id-12 label.sk-toggleable__label-arrow:before {content: \"▸\";float: left;margin-right: 0.25em;color: #696969;}#sk-container-id-12 label.sk-toggleable__label-arrow:hover:before {color: black;}#sk-container-id-12 div.sk-estimator:hover label.sk-toggleable__label-arrow:before {color: black;}#sk-container-id-12 div.sk-toggleable__content {max-height: 0;max-width: 0;overflow: hidden;text-align: left;background-color: #f0f8ff;}#sk-container-id-12 div.sk-toggleable__content pre {margin: 0.2em;color: black;border-radius: 0.25em;background-color: #f0f8ff;}#sk-container-id-12 input.sk-toggleable__control:checked~div.sk-toggleable__content {max-height: 200px;max-width: 100%;overflow: auto;}#sk-container-id-12 input.sk-toggleable__control:checked~label.sk-toggleable__label-arrow:before {content: \"▾\";}#sk-container-id-12 div.sk-estimator input.sk-toggleable__control:checked~label.sk-toggleable__label {background-color: #d4ebff;}#sk-container-id-12 div.sk-label input.sk-toggleable__control:checked~label.sk-toggleable__label {background-color: #d4ebff;}#sk-container-id-12 input.sk-hidden--visually {border: 0;clip: rect(1px 1px 1px 1px);clip: rect(1px, 1px, 1px, 1px);height: 1px;margin: -1px;overflow: hidden;padding: 0;position: absolute;width: 1px;}#sk-container-id-12 div.sk-estimator {font-family: monospace;background-color: #f0f8ff;border: 1px dotted black;border-radius: 0.25em;box-sizing: border-box;margin-bottom: 0.5em;}#sk-container-id-12 div.sk-estimator:hover {background-color: #d4ebff;}#sk-container-id-12 div.sk-parallel-item::after {content: \"\";width: 100%;border-bottom: 1px solid gray;flex-grow: 1;}#sk-container-id-12 div.sk-label:hover label.sk-toggleable__label {background-color: #d4ebff;}#sk-container-id-12 div.sk-serial::before {content: \"\";position: absolute;border-left: 1px solid gray;box-sizing: border-box;top: 0;bottom: 0;left: 50%;z-index: 0;}#sk-container-id-12 div.sk-serial {display: flex;flex-direction: column;align-items: center;background-color: white;padding-right: 0.2em;padding-left: 0.2em;position: relative;}#sk-container-id-12 div.sk-item {position: relative;z-index: 1;}#sk-container-id-12 div.sk-parallel {display: flex;align-items: stretch;justify-content: center;background-color: white;position: relative;}#sk-container-id-12 div.sk-item::before, #sk-container-id-12 div.sk-parallel-item::before {content: \"\";position: absolute;border-left: 1px solid gray;box-sizing: border-box;top: 0;bottom: 0;left: 50%;z-index: -1;}#sk-container-id-12 div.sk-parallel-item {display: flex;flex-direction: column;z-index: 1;position: relative;background-color: white;}#sk-container-id-12 div.sk-parallel-item:first-child::after {align-self: flex-end;width: 50%;}#sk-container-id-12 div.sk-parallel-item:last-child::after {align-self: flex-start;width: 50%;}#sk-container-id-12 div.sk-parallel-item:only-child::after {width: 0;}#sk-container-id-12 div.sk-dashed-wrapped {border: 1px dashed gray;margin: 0 0.4em 0.5em 0.4em;box-sizing: border-box;padding-bottom: 0.4em;background-color: white;}#sk-container-id-12 div.sk-label label {font-family: monospace;font-weight: bold;display: inline-block;line-height: 1.2em;}#sk-container-id-12 div.sk-label-container {text-align: center;}#sk-container-id-12 div.sk-container {/* jupyter's `normalize.less` sets `[hidden] { display: none; }` but bootstrap.min.css set `[hidden] { display: none !important; }` so we also need the `!important` here to be able to override the default hidden behavior on the sphinx rendered scikit-learn.org. See: https://github.com/scikit-learn/scikit-learn/issues/21755 */display: inline-block !important;position: relative;}#sk-container-id-12 div.sk-text-repr-fallback {display: none;}</style><div id=\"sk-container-id-12\" class=\"sk-top-container\"><div class=\"sk-text-repr-fallback\"><pre>Pipeline(steps=[(&#x27;reduce_dim&#x27;, PCA()), (&#x27;clf&#x27;, SVC())])</pre><b>In a Jupyter environment, please rerun this cell to show the HTML representation or trust the notebook. <br />On GitHub, the HTML representation is unable to render, please try loading this page with nbviewer.org.</b></div><div class=\"sk-container\" hidden><div class=\"sk-item sk-dashed-wrapped\"><div class=\"sk-label-container\"><div class=\"sk-label sk-toggleable\"><input class=\"sk-toggleable__control sk-hidden--visually\" id=\"sk-estimator-id-24\" type=\"checkbox\" ><label for=\"sk-estimator-id-24\" class=\"sk-toggleable__label sk-toggleable__label-arrow\">Pipeline</label><div class=\"sk-toggleable__content\"><pre>Pipeline(steps=[(&#x27;reduce_dim&#x27;, PCA()), (&#x27;clf&#x27;, SVC())])</pre></div></div></div><div class=\"sk-serial\"><div class=\"sk-item\"><div class=\"sk-estimator sk-toggleable\"><input class=\"sk-toggleable__control sk-hidden--visually\" id=\"sk-estimator-id-25\" type=\"checkbox\" ><label for=\"sk-estimator-id-25\" class=\"sk-toggleable__label sk-toggleable__label-arrow\">PCA</label><div class=\"sk-toggleable__content\"><pre>PCA()</pre></div></div></div><div class=\"sk-item\"><div class=\"sk-estimator sk-toggleable\"><input class=\"sk-toggleable__control sk-hidden--visually\" id=\"sk-estimator-id-26\" type=\"checkbox\" ><label for=\"sk-estimator-id-26\" class=\"sk-toggleable__label sk-toggleable__label-arrow\">SVC</label><div class=\"sk-toggleable__content\"><pre>SVC()</pre></div></div></div></div></div></div></div>"
      ],
      "text/plain": [
       "Pipeline(steps=[('reduce_dim', PCA()), ('clf', SVC())])"
      ]
     },
     "execution_count": 19,
     "metadata": {},
     "output_type": "execute_result"
    }
   ],
   "source": [
    "from sklearn.datasets import load_digits\n",
    "X_digits, y_digits = load_digits(return_X_y=True)\n",
    "pca1 = PCA()\n",
    "svm1 = SVC()\n",
    "pipe = Pipeline([('reduce_dim', pca1), ('clf', svm1)])\n",
    "pipe.fit(X_digits, y_digits)"
   ]
  },
  {
   "cell_type": "code",
   "execution_count": 20,
   "id": "1155fa53-d0bb-4a27-8601-0f63b61e26f5",
   "metadata": {},
   "outputs": [
    {
     "name": "stdout",
     "output_type": "stream",
     "text": [
      "[[-1.77484909e-19 -1.73094651e-02 -2.23428835e-01 ... -8.94184677e-02\n",
      "  -3.65977111e-02 -1.14684954e-02]\n",
      " [ 3.27805401e-18 -1.01064569e-02 -4.90849204e-02 ...  1.76697117e-01\n",
      "   1.94547053e-02 -6.69693895e-03]\n",
      " [-1.68358559e-18  1.83420720e-02  1.26475543e-01 ...  2.32084163e-01\n",
      "   1.67026563e-01  3.48043832e-02]\n",
      " ...\n",
      " [-0.00000000e+00 -6.55709878e-16 -3.24536420e-17 ... -7.56904149e-18\n",
      "   6.81023211e-17 -1.33364863e-16]\n",
      " [-0.00000000e+00  1.95048835e-16 -1.28280511e-17 ... -4.44774426e-17\n",
      "  -2.36654458e-18  2.59942050e-17]\n",
      " [ 1.00000000e+00 -1.68983002e-17  5.73338351e-18 ...  8.66631300e-18\n",
      "  -1.57615962e-17  4.07058917e-18]]\n"
     ]
    }
   ],
   "source": [
    "# The pca instance can be inspected directly\n",
    "print(pca1.components_)"
   ]
  },
  {
   "cell_type": "markdown",
   "id": "74b1772a-0d7c-4d91-b882-ffb9ed930d71",
   "metadata": {},
   "source": [
    "Habilitar el almacenamiento en caché desencadena la clonación de los transformadores antes del ajuste. Por lo tanto, la instancia del transformador proporcionada al pipeline no se puede inspeccionar directamente. En el siguiente ejemplo, acceder a la instancia PCA llamada pca2 generará un error de atributo (AttributeError) ya que pca2 será un transformador sin ajustar. En su lugar, utilice el atributo llamado \"named_steps\" para inspeccionar los estimadores dentro del pipeline:"
   ]
  },
  {
   "cell_type": "code",
   "execution_count": 21,
   "id": "3b65ddfd-fb97-4514-ae27-fdf96ec7dae3",
   "metadata": {},
   "outputs": [
    {
     "data": {
      "text/html": [
       "<style>#sk-container-id-13 {color: black;}#sk-container-id-13 pre{padding: 0;}#sk-container-id-13 div.sk-toggleable {background-color: white;}#sk-container-id-13 label.sk-toggleable__label {cursor: pointer;display: block;width: 100%;margin-bottom: 0;padding: 0.3em;box-sizing: border-box;text-align: center;}#sk-container-id-13 label.sk-toggleable__label-arrow:before {content: \"▸\";float: left;margin-right: 0.25em;color: #696969;}#sk-container-id-13 label.sk-toggleable__label-arrow:hover:before {color: black;}#sk-container-id-13 div.sk-estimator:hover label.sk-toggleable__label-arrow:before {color: black;}#sk-container-id-13 div.sk-toggleable__content {max-height: 0;max-width: 0;overflow: hidden;text-align: left;background-color: #f0f8ff;}#sk-container-id-13 div.sk-toggleable__content pre {margin: 0.2em;color: black;border-radius: 0.25em;background-color: #f0f8ff;}#sk-container-id-13 input.sk-toggleable__control:checked~div.sk-toggleable__content {max-height: 200px;max-width: 100%;overflow: auto;}#sk-container-id-13 input.sk-toggleable__control:checked~label.sk-toggleable__label-arrow:before {content: \"▾\";}#sk-container-id-13 div.sk-estimator input.sk-toggleable__control:checked~label.sk-toggleable__label {background-color: #d4ebff;}#sk-container-id-13 div.sk-label input.sk-toggleable__control:checked~label.sk-toggleable__label {background-color: #d4ebff;}#sk-container-id-13 input.sk-hidden--visually {border: 0;clip: rect(1px 1px 1px 1px);clip: rect(1px, 1px, 1px, 1px);height: 1px;margin: -1px;overflow: hidden;padding: 0;position: absolute;width: 1px;}#sk-container-id-13 div.sk-estimator {font-family: monospace;background-color: #f0f8ff;border: 1px dotted black;border-radius: 0.25em;box-sizing: border-box;margin-bottom: 0.5em;}#sk-container-id-13 div.sk-estimator:hover {background-color: #d4ebff;}#sk-container-id-13 div.sk-parallel-item::after {content: \"\";width: 100%;border-bottom: 1px solid gray;flex-grow: 1;}#sk-container-id-13 div.sk-label:hover label.sk-toggleable__label {background-color: #d4ebff;}#sk-container-id-13 div.sk-serial::before {content: \"\";position: absolute;border-left: 1px solid gray;box-sizing: border-box;top: 0;bottom: 0;left: 50%;z-index: 0;}#sk-container-id-13 div.sk-serial {display: flex;flex-direction: column;align-items: center;background-color: white;padding-right: 0.2em;padding-left: 0.2em;position: relative;}#sk-container-id-13 div.sk-item {position: relative;z-index: 1;}#sk-container-id-13 div.sk-parallel {display: flex;align-items: stretch;justify-content: center;background-color: white;position: relative;}#sk-container-id-13 div.sk-item::before, #sk-container-id-13 div.sk-parallel-item::before {content: \"\";position: absolute;border-left: 1px solid gray;box-sizing: border-box;top: 0;bottom: 0;left: 50%;z-index: -1;}#sk-container-id-13 div.sk-parallel-item {display: flex;flex-direction: column;z-index: 1;position: relative;background-color: white;}#sk-container-id-13 div.sk-parallel-item:first-child::after {align-self: flex-end;width: 50%;}#sk-container-id-13 div.sk-parallel-item:last-child::after {align-self: flex-start;width: 50%;}#sk-container-id-13 div.sk-parallel-item:only-child::after {width: 0;}#sk-container-id-13 div.sk-dashed-wrapped {border: 1px dashed gray;margin: 0 0.4em 0.5em 0.4em;box-sizing: border-box;padding-bottom: 0.4em;background-color: white;}#sk-container-id-13 div.sk-label label {font-family: monospace;font-weight: bold;display: inline-block;line-height: 1.2em;}#sk-container-id-13 div.sk-label-container {text-align: center;}#sk-container-id-13 div.sk-container {/* jupyter's `normalize.less` sets `[hidden] { display: none; }` but bootstrap.min.css set `[hidden] { display: none !important; }` so we also need the `!important` here to be able to override the default hidden behavior on the sphinx rendered scikit-learn.org. See: https://github.com/scikit-learn/scikit-learn/issues/21755 */display: inline-block !important;position: relative;}#sk-container-id-13 div.sk-text-repr-fallback {display: none;}</style><div id=\"sk-container-id-13\" class=\"sk-top-container\"><div class=\"sk-text-repr-fallback\"><pre>Pipeline(memory=&#x27;C:\\\\Users\\\\anroj\\\\AppData\\\\Local\\\\Temp\\\\tmp48a97lij&#x27;,\n",
       "         steps=[(&#x27;reduce_dim&#x27;, PCA()), (&#x27;clf&#x27;, SVC())])</pre><b>In a Jupyter environment, please rerun this cell to show the HTML representation or trust the notebook. <br />On GitHub, the HTML representation is unable to render, please try loading this page with nbviewer.org.</b></div><div class=\"sk-container\" hidden><div class=\"sk-item sk-dashed-wrapped\"><div class=\"sk-label-container\"><div class=\"sk-label sk-toggleable\"><input class=\"sk-toggleable__control sk-hidden--visually\" id=\"sk-estimator-id-27\" type=\"checkbox\" ><label for=\"sk-estimator-id-27\" class=\"sk-toggleable__label sk-toggleable__label-arrow\">Pipeline</label><div class=\"sk-toggleable__content\"><pre>Pipeline(memory=&#x27;C:\\\\Users\\\\anroj\\\\AppData\\\\Local\\\\Temp\\\\tmp48a97lij&#x27;,\n",
       "         steps=[(&#x27;reduce_dim&#x27;, PCA()), (&#x27;clf&#x27;, SVC())])</pre></div></div></div><div class=\"sk-serial\"><div class=\"sk-item\"><div class=\"sk-estimator sk-toggleable\"><input class=\"sk-toggleable__control sk-hidden--visually\" id=\"sk-estimator-id-28\" type=\"checkbox\" ><label for=\"sk-estimator-id-28\" class=\"sk-toggleable__label sk-toggleable__label-arrow\">PCA</label><div class=\"sk-toggleable__content\"><pre>PCA()</pre></div></div></div><div class=\"sk-item\"><div class=\"sk-estimator sk-toggleable\"><input class=\"sk-toggleable__control sk-hidden--visually\" id=\"sk-estimator-id-29\" type=\"checkbox\" ><label for=\"sk-estimator-id-29\" class=\"sk-toggleable__label sk-toggleable__label-arrow\">SVC</label><div class=\"sk-toggleable__content\"><pre>SVC()</pre></div></div></div></div></div></div></div>"
      ],
      "text/plain": [
       "Pipeline(memory='C:\\\\Users\\\\anroj\\\\AppData\\\\Local\\\\Temp\\\\tmp48a97lij',\n",
       "         steps=[('reduce_dim', PCA()), ('clf', SVC())])"
      ]
     },
     "execution_count": 21,
     "metadata": {},
     "output_type": "execute_result"
    }
   ],
   "source": [
    "cachedir = mkdtemp()\n",
    "pca2 = PCA()\n",
    "svm2 = SVC()\n",
    "cached_pipe = Pipeline([('reduce_dim', pca2), ('clf', svm2)],\n",
    "                       memory=cachedir)\n",
    "cached_pipe.fit(X_digits, y_digits)"
   ]
  },
  {
   "cell_type": "code",
   "execution_count": 22,
   "id": "f3737aa2-cbbd-421b-a5ed-66a49dab1107",
   "metadata": {},
   "outputs": [
    {
     "name": "stdout",
     "output_type": "stream",
     "text": [
      "[[-1.77484909e-19 -1.73094651e-02 -2.23428835e-01 ... -8.94184677e-02\n",
      "  -3.65977111e-02 -1.14684954e-02]\n",
      " [ 3.27805401e-18 -1.01064569e-02 -4.90849204e-02 ...  1.76697117e-01\n",
      "   1.94547053e-02 -6.69693895e-03]\n",
      " [-1.68358559e-18  1.83420720e-02  1.26475543e-01 ...  2.32084163e-01\n",
      "   1.67026563e-01  3.48043832e-02]\n",
      " ...\n",
      " [-0.00000000e+00 -6.55709878e-16 -3.24536420e-17 ... -7.56904149e-18\n",
      "   6.81023211e-17 -1.33364863e-16]\n",
      " [-0.00000000e+00  1.95048835e-16 -1.28280511e-17 ... -4.44774426e-17\n",
      "  -2.36654458e-18  2.59942050e-17]\n",
      " [ 1.00000000e+00 -1.68983002e-17  5.73338351e-18 ...  8.66631300e-18\n",
      "  -1.57615962e-17  4.07058917e-18]]\n"
     ]
    }
   ],
   "source": [
    "print(cached_pipe.named_steps['reduce_dim'].components_)"
   ]
  },
  {
   "cell_type": "code",
   "execution_count": 23,
   "id": "2970aa49-64e9-45a0-8b18-b3af19e1685f",
   "metadata": {},
   "outputs": [],
   "source": [
    "# Remove the cache directory\n",
    "rmtree(cachedir)"
   ]
  },
  {
   "cell_type": "markdown",
   "id": "7626a8fd-9430-4691-8507-bfca0f92c4a5",
   "metadata": {},
   "source": [
    "**Ejemplos**\n",
    "\n",
    "- [Selecting dimensionality reduction with Pipeline and GridSearchCV](https://scikit-learn.org/stable/auto_examples/compose/plot_compare_reduction.html#sphx-glr-auto-examples-compose-plot-compare-reduction-py)"
   ]
  },
  {
   "cell_type": "markdown",
   "id": "74465813-c871-409b-a2ae-fad9fd61d303",
   "metadata": {},
   "source": [
    "##   <span style=\"color:blue\">Transformando la variable objetivo en regresión\n",
    "\n",
    "</span>"
   ]
  },
  {
   "cell_type": "markdown",
   "id": "2fabf17a-5879-43d6-b700-f364f426e84c",
   "metadata": {},
   "source": [
    "[TransformedTargetRegressor](https://scikit-learn.org/stable/modules/generated/sklearn.compose.TransformedTargetRegressor.html#sklearn.compose.TransformedTargetRegressor) transforma los objetivos y antes de ajustar un modelo de regresión. Las predicciones se mapean de nuevo al espacio original mediante una transformación inversa. Toma como argumento el regresor que se utilizará para la predicción y el transformador que se aplicará a la variable objetivo:"
   ]
  },
  {
   "cell_type": "code",
   "execution_count": 25,
   "id": "679d1cfe-ef0b-4275-9b3d-53647256201d",
   "metadata": {},
   "outputs": [
    {
     "data": {
      "text/html": [
       "<style>#sk-container-id-14 {color: black;}#sk-container-id-14 pre{padding: 0;}#sk-container-id-14 div.sk-toggleable {background-color: white;}#sk-container-id-14 label.sk-toggleable__label {cursor: pointer;display: block;width: 100%;margin-bottom: 0;padding: 0.3em;box-sizing: border-box;text-align: center;}#sk-container-id-14 label.sk-toggleable__label-arrow:before {content: \"▸\";float: left;margin-right: 0.25em;color: #696969;}#sk-container-id-14 label.sk-toggleable__label-arrow:hover:before {color: black;}#sk-container-id-14 div.sk-estimator:hover label.sk-toggleable__label-arrow:before {color: black;}#sk-container-id-14 div.sk-toggleable__content {max-height: 0;max-width: 0;overflow: hidden;text-align: left;background-color: #f0f8ff;}#sk-container-id-14 div.sk-toggleable__content pre {margin: 0.2em;color: black;border-radius: 0.25em;background-color: #f0f8ff;}#sk-container-id-14 input.sk-toggleable__control:checked~div.sk-toggleable__content {max-height: 200px;max-width: 100%;overflow: auto;}#sk-container-id-14 input.sk-toggleable__control:checked~label.sk-toggleable__label-arrow:before {content: \"▾\";}#sk-container-id-14 div.sk-estimator input.sk-toggleable__control:checked~label.sk-toggleable__label {background-color: #d4ebff;}#sk-container-id-14 div.sk-label input.sk-toggleable__control:checked~label.sk-toggleable__label {background-color: #d4ebff;}#sk-container-id-14 input.sk-hidden--visually {border: 0;clip: rect(1px 1px 1px 1px);clip: rect(1px, 1px, 1px, 1px);height: 1px;margin: -1px;overflow: hidden;padding: 0;position: absolute;width: 1px;}#sk-container-id-14 div.sk-estimator {font-family: monospace;background-color: #f0f8ff;border: 1px dotted black;border-radius: 0.25em;box-sizing: border-box;margin-bottom: 0.5em;}#sk-container-id-14 div.sk-estimator:hover {background-color: #d4ebff;}#sk-container-id-14 div.sk-parallel-item::after {content: \"\";width: 100%;border-bottom: 1px solid gray;flex-grow: 1;}#sk-container-id-14 div.sk-label:hover label.sk-toggleable__label {background-color: #d4ebff;}#sk-container-id-14 div.sk-serial::before {content: \"\";position: absolute;border-left: 1px solid gray;box-sizing: border-box;top: 0;bottom: 0;left: 50%;z-index: 0;}#sk-container-id-14 div.sk-serial {display: flex;flex-direction: column;align-items: center;background-color: white;padding-right: 0.2em;padding-left: 0.2em;position: relative;}#sk-container-id-14 div.sk-item {position: relative;z-index: 1;}#sk-container-id-14 div.sk-parallel {display: flex;align-items: stretch;justify-content: center;background-color: white;position: relative;}#sk-container-id-14 div.sk-item::before, #sk-container-id-14 div.sk-parallel-item::before {content: \"\";position: absolute;border-left: 1px solid gray;box-sizing: border-box;top: 0;bottom: 0;left: 50%;z-index: -1;}#sk-container-id-14 div.sk-parallel-item {display: flex;flex-direction: column;z-index: 1;position: relative;background-color: white;}#sk-container-id-14 div.sk-parallel-item:first-child::after {align-self: flex-end;width: 50%;}#sk-container-id-14 div.sk-parallel-item:last-child::after {align-self: flex-start;width: 50%;}#sk-container-id-14 div.sk-parallel-item:only-child::after {width: 0;}#sk-container-id-14 div.sk-dashed-wrapped {border: 1px dashed gray;margin: 0 0.4em 0.5em 0.4em;box-sizing: border-box;padding-bottom: 0.4em;background-color: white;}#sk-container-id-14 div.sk-label label {font-family: monospace;font-weight: bold;display: inline-block;line-height: 1.2em;}#sk-container-id-14 div.sk-label-container {text-align: center;}#sk-container-id-14 div.sk-container {/* jupyter's `normalize.less` sets `[hidden] { display: none; }` but bootstrap.min.css set `[hidden] { display: none !important; }` so we also need the `!important` here to be able to override the default hidden behavior on the sphinx rendered scikit-learn.org. See: https://github.com/scikit-learn/scikit-learn/issues/21755 */display: inline-block !important;position: relative;}#sk-container-id-14 div.sk-text-repr-fallback {display: none;}</style><div id=\"sk-container-id-14\" class=\"sk-top-container\"><div class=\"sk-text-repr-fallback\"><pre>TransformedTargetRegressor(regressor=LinearRegression(),\n",
       "                           transformer=QuantileTransformer(output_distribution=&#x27;normal&#x27;))</pre><b>In a Jupyter environment, please rerun this cell to show the HTML representation or trust the notebook. <br />On GitHub, the HTML representation is unable to render, please try loading this page with nbviewer.org.</b></div><div class=\"sk-container\" hidden><div class=\"sk-item sk-dashed-wrapped\"><div class=\"sk-label-container\"><div class=\"sk-label sk-toggleable\"><input class=\"sk-toggleable__control sk-hidden--visually\" id=\"sk-estimator-id-30\" type=\"checkbox\" ><label for=\"sk-estimator-id-30\" class=\"sk-toggleable__label sk-toggleable__label-arrow\">TransformedTargetRegressor</label><div class=\"sk-toggleable__content\"><pre>TransformedTargetRegressor(regressor=LinearRegression(),\n",
       "                           transformer=QuantileTransformer(output_distribution=&#x27;normal&#x27;))</pre></div></div></div><div class=\"sk-parallel\"><div class=\"sk-parallel-item\"><div class=\"sk-item\"><div class=\"sk-label-container\"><div class=\"sk-label sk-toggleable\"><input class=\"sk-toggleable__control sk-hidden--visually\" id=\"sk-estimator-id-31\" type=\"checkbox\" ><label for=\"sk-estimator-id-31\" class=\"sk-toggleable__label sk-toggleable__label-arrow\">regressor: LinearRegression</label><div class=\"sk-toggleable__content\"><pre>LinearRegression()</pre></div></div></div><div class=\"sk-serial\"><div class=\"sk-item\"><div class=\"sk-estimator sk-toggleable\"><input class=\"sk-toggleable__control sk-hidden--visually\" id=\"sk-estimator-id-32\" type=\"checkbox\" ><label for=\"sk-estimator-id-32\" class=\"sk-toggleable__label sk-toggleable__label-arrow\">LinearRegression</label><div class=\"sk-toggleable__content\"><pre>LinearRegression()</pre></div></div></div></div></div></div><div class=\"sk-parallel-item\"><div class=\"sk-item\"><div class=\"sk-label-container\"><div class=\"sk-label sk-toggleable\"><input class=\"sk-toggleable__control sk-hidden--visually\" id=\"sk-estimator-id-33\" type=\"checkbox\" ><label for=\"sk-estimator-id-33\" class=\"sk-toggleable__label sk-toggleable__label-arrow\">transformer: QuantileTransformer</label><div class=\"sk-toggleable__content\"><pre>QuantileTransformer(output_distribution=&#x27;normal&#x27;)</pre></div></div></div><div class=\"sk-serial\"><div class=\"sk-item\"><div class=\"sk-estimator sk-toggleable\"><input class=\"sk-toggleable__control sk-hidden--visually\" id=\"sk-estimator-id-34\" type=\"checkbox\" ><label for=\"sk-estimator-id-34\" class=\"sk-toggleable__label sk-toggleable__label-arrow\">QuantileTransformer</label><div class=\"sk-toggleable__content\"><pre>QuantileTransformer(output_distribution=&#x27;normal&#x27;)</pre></div></div></div></div></div></div></div></div></div></div>"
      ],
      "text/plain": [
       "TransformedTargetRegressor(regressor=LinearRegression(),\n",
       "                           transformer=QuantileTransformer(output_distribution='normal'))"
      ]
     },
     "execution_count": 25,
     "metadata": {},
     "output_type": "execute_result"
    }
   ],
   "source": [
    "import numpy as np\n",
    "from sklearn.datasets import fetch_california_housing\n",
    "from sklearn.compose import TransformedTargetRegressor\n",
    "from sklearn.preprocessing import QuantileTransformer\n",
    "from sklearn.linear_model import LinearRegression\n",
    "from sklearn.model_selection import train_test_split\n",
    "X, y = fetch_california_housing(return_X_y=True)\n",
    "X, y = X[:2000, :], y[:2000]  # select a subset of data\n",
    "transformer = QuantileTransformer(output_distribution='normal')\n",
    "regressor = LinearRegression()\n",
    "regr = TransformedTargetRegressor(regressor=regressor,\n",
    "                                  transformer=transformer)\n",
    "X_train, X_test, y_train, y_test = train_test_split(X, y, random_state=0)\n",
    "regr.fit(X_train, y_train)"
   ]
  },
  {
   "cell_type": "code",
   "execution_count": 26,
   "id": "e9aef378-dec3-4747-a02c-8ea199a34898",
   "metadata": {},
   "outputs": [
    {
     "name": "stdout",
     "output_type": "stream",
     "text": [
      "R2 score: 0.61\n"
     ]
    }
   ],
   "source": [
    "print('R2 score: {0:.2f}'.format(regr.score(X_test, y_test)))"
   ]
  },
  {
   "cell_type": "code",
   "execution_count": 27,
   "id": "200f68df-486a-4de1-96ba-16fcaa8e2b08",
   "metadata": {},
   "outputs": [
    {
     "name": "stdout",
     "output_type": "stream",
     "text": [
      "R2 score: 0.59\n"
     ]
    }
   ],
   "source": [
    "raw_target_regr = LinearRegression().fit(X_train, y_train)\n",
    "print('R2 score: {0:.2f}'.format(raw_target_regr.score(X_test, y_test)))"
   ]
  },
  {
   "cell_type": "markdown",
   "id": "0ebd73d9-94ff-49f2-b8be-7a1228218754",
   "metadata": {},
   "source": [
    "Para transformaciones simples, en lugar de un objeto Transformer, se pueden pasar un par de funciones que definan la transformación y su mapeo inverso, como el pipeline:"
   ]
  },
  {
   "cell_type": "code",
   "execution_count": 28,
   "id": "1e269252-53d8-42dc-96a0-74c56f2d5deb",
   "metadata": {},
   "outputs": [],
   "source": [
    "def func(x):\n",
    "    return np.log(x)\n",
    "def inverse_func(x):\n",
    "    return np.exp(x)"
   ]
  },
  {
   "cell_type": "markdown",
   "id": "652d1fde-a503-4d2d-b8ed-946ec71dfa9b",
   "metadata": {},
   "source": [
    "Subsecuentemente el objeto creado es:"
   ]
  },
  {
   "cell_type": "code",
   "execution_count": 29,
   "id": "93c9d480-21da-4646-b80f-2dec0cee849b",
   "metadata": {},
   "outputs": [
    {
     "data": {
      "text/html": [
       "<style>#sk-container-id-15 {color: black;}#sk-container-id-15 pre{padding: 0;}#sk-container-id-15 div.sk-toggleable {background-color: white;}#sk-container-id-15 label.sk-toggleable__label {cursor: pointer;display: block;width: 100%;margin-bottom: 0;padding: 0.3em;box-sizing: border-box;text-align: center;}#sk-container-id-15 label.sk-toggleable__label-arrow:before {content: \"▸\";float: left;margin-right: 0.25em;color: #696969;}#sk-container-id-15 label.sk-toggleable__label-arrow:hover:before {color: black;}#sk-container-id-15 div.sk-estimator:hover label.sk-toggleable__label-arrow:before {color: black;}#sk-container-id-15 div.sk-toggleable__content {max-height: 0;max-width: 0;overflow: hidden;text-align: left;background-color: #f0f8ff;}#sk-container-id-15 div.sk-toggleable__content pre {margin: 0.2em;color: black;border-radius: 0.25em;background-color: #f0f8ff;}#sk-container-id-15 input.sk-toggleable__control:checked~div.sk-toggleable__content {max-height: 200px;max-width: 100%;overflow: auto;}#sk-container-id-15 input.sk-toggleable__control:checked~label.sk-toggleable__label-arrow:before {content: \"▾\";}#sk-container-id-15 div.sk-estimator input.sk-toggleable__control:checked~label.sk-toggleable__label {background-color: #d4ebff;}#sk-container-id-15 div.sk-label input.sk-toggleable__control:checked~label.sk-toggleable__label {background-color: #d4ebff;}#sk-container-id-15 input.sk-hidden--visually {border: 0;clip: rect(1px 1px 1px 1px);clip: rect(1px, 1px, 1px, 1px);height: 1px;margin: -1px;overflow: hidden;padding: 0;position: absolute;width: 1px;}#sk-container-id-15 div.sk-estimator {font-family: monospace;background-color: #f0f8ff;border: 1px dotted black;border-radius: 0.25em;box-sizing: border-box;margin-bottom: 0.5em;}#sk-container-id-15 div.sk-estimator:hover {background-color: #d4ebff;}#sk-container-id-15 div.sk-parallel-item::after {content: \"\";width: 100%;border-bottom: 1px solid gray;flex-grow: 1;}#sk-container-id-15 div.sk-label:hover label.sk-toggleable__label {background-color: #d4ebff;}#sk-container-id-15 div.sk-serial::before {content: \"\";position: absolute;border-left: 1px solid gray;box-sizing: border-box;top: 0;bottom: 0;left: 50%;z-index: 0;}#sk-container-id-15 div.sk-serial {display: flex;flex-direction: column;align-items: center;background-color: white;padding-right: 0.2em;padding-left: 0.2em;position: relative;}#sk-container-id-15 div.sk-item {position: relative;z-index: 1;}#sk-container-id-15 div.sk-parallel {display: flex;align-items: stretch;justify-content: center;background-color: white;position: relative;}#sk-container-id-15 div.sk-item::before, #sk-container-id-15 div.sk-parallel-item::before {content: \"\";position: absolute;border-left: 1px solid gray;box-sizing: border-box;top: 0;bottom: 0;left: 50%;z-index: -1;}#sk-container-id-15 div.sk-parallel-item {display: flex;flex-direction: column;z-index: 1;position: relative;background-color: white;}#sk-container-id-15 div.sk-parallel-item:first-child::after {align-self: flex-end;width: 50%;}#sk-container-id-15 div.sk-parallel-item:last-child::after {align-self: flex-start;width: 50%;}#sk-container-id-15 div.sk-parallel-item:only-child::after {width: 0;}#sk-container-id-15 div.sk-dashed-wrapped {border: 1px dashed gray;margin: 0 0.4em 0.5em 0.4em;box-sizing: border-box;padding-bottom: 0.4em;background-color: white;}#sk-container-id-15 div.sk-label label {font-family: monospace;font-weight: bold;display: inline-block;line-height: 1.2em;}#sk-container-id-15 div.sk-label-container {text-align: center;}#sk-container-id-15 div.sk-container {/* jupyter's `normalize.less` sets `[hidden] { display: none; }` but bootstrap.min.css set `[hidden] { display: none !important; }` so we also need the `!important` here to be able to override the default hidden behavior on the sphinx rendered scikit-learn.org. See: https://github.com/scikit-learn/scikit-learn/issues/21755 */display: inline-block !important;position: relative;}#sk-container-id-15 div.sk-text-repr-fallback {display: none;}</style><div id=\"sk-container-id-15\" class=\"sk-top-container\"><div class=\"sk-text-repr-fallback\"><pre>TransformedTargetRegressor(func=&lt;function func at 0x00000290C4A5B2E0&gt;,\n",
       "                           inverse_func=&lt;function inverse_func at 0x00000290C4A5B7E0&gt;,\n",
       "                           regressor=LinearRegression())</pre><b>In a Jupyter environment, please rerun this cell to show the HTML representation or trust the notebook. <br />On GitHub, the HTML representation is unable to render, please try loading this page with nbviewer.org.</b></div><div class=\"sk-container\" hidden><div class=\"sk-item sk-dashed-wrapped\"><div class=\"sk-label-container\"><div class=\"sk-label sk-toggleable\"><input class=\"sk-toggleable__control sk-hidden--visually\" id=\"sk-estimator-id-35\" type=\"checkbox\" ><label for=\"sk-estimator-id-35\" class=\"sk-toggleable__label sk-toggleable__label-arrow\">TransformedTargetRegressor</label><div class=\"sk-toggleable__content\"><pre>TransformedTargetRegressor(func=&lt;function func at 0x00000290C4A5B2E0&gt;,\n",
       "                           inverse_func=&lt;function inverse_func at 0x00000290C4A5B7E0&gt;,\n",
       "                           regressor=LinearRegression())</pre></div></div></div><div class=\"sk-parallel\"><div class=\"sk-parallel-item\"><div class=\"sk-item\"><div class=\"sk-label-container\"><div class=\"sk-label sk-toggleable\"><input class=\"sk-toggleable__control sk-hidden--visually\" id=\"sk-estimator-id-36\" type=\"checkbox\" ><label for=\"sk-estimator-id-36\" class=\"sk-toggleable__label sk-toggleable__label-arrow\">regressor: LinearRegression</label><div class=\"sk-toggleable__content\"><pre>LinearRegression()</pre></div></div></div><div class=\"sk-serial\"><div class=\"sk-item\"><div class=\"sk-estimator sk-toggleable\"><input class=\"sk-toggleable__control sk-hidden--visually\" id=\"sk-estimator-id-37\" type=\"checkbox\" ><label for=\"sk-estimator-id-37\" class=\"sk-toggleable__label sk-toggleable__label-arrow\">LinearRegression</label><div class=\"sk-toggleable__content\"><pre>LinearRegression()</pre></div></div></div></div></div></div></div></div></div></div>"
      ],
      "text/plain": [
       "TransformedTargetRegressor(func=<function func at 0x00000290C4A5B2E0>,\n",
       "                           inverse_func=<function inverse_func at 0x00000290C4A5B7E0>,\n",
       "                           regressor=LinearRegression())"
      ]
     },
     "execution_count": 29,
     "metadata": {},
     "output_type": "execute_result"
    }
   ],
   "source": [
    "regr = TransformedTargetRegressor(regressor=regressor,\n",
    "                                  func=func,\n",
    "                                  inverse_func=inverse_func)\n",
    "regr.fit(X_train, y_train)"
   ]
  },
  {
   "cell_type": "code",
   "execution_count": 30,
   "id": "6a6ad0ed-c33d-4a91-8358-c249731ae9de",
   "metadata": {},
   "outputs": [
    {
     "name": "stdout",
     "output_type": "stream",
     "text": [
      "R2 score: 0.51\n"
     ]
    }
   ],
   "source": [
    "print('R2 score: {0:.2f}'.format(regr.score(X_test, y_test)))"
   ]
  },
  {
   "cell_type": "markdown",
   "id": "298597b2-b21a-49c5-9fd3-1183dd419de1",
   "metadata": {},
   "source": [
    "Por defecto, las funciones proporcionadas se verifican en cada ajuste para ser inversas entre sí. Sin embargo, es posible evitar esta verificación configurando check_inverse en False:"
   ]
  },
  {
   "cell_type": "code",
   "execution_count": 31,
   "id": "09d90778-ff91-4da7-a349-a25ff9a57c3f",
   "metadata": {},
   "outputs": [
    {
     "data": {
      "text/html": [
       "<style>#sk-container-id-16 {color: black;}#sk-container-id-16 pre{padding: 0;}#sk-container-id-16 div.sk-toggleable {background-color: white;}#sk-container-id-16 label.sk-toggleable__label {cursor: pointer;display: block;width: 100%;margin-bottom: 0;padding: 0.3em;box-sizing: border-box;text-align: center;}#sk-container-id-16 label.sk-toggleable__label-arrow:before {content: \"▸\";float: left;margin-right: 0.25em;color: #696969;}#sk-container-id-16 label.sk-toggleable__label-arrow:hover:before {color: black;}#sk-container-id-16 div.sk-estimator:hover label.sk-toggleable__label-arrow:before {color: black;}#sk-container-id-16 div.sk-toggleable__content {max-height: 0;max-width: 0;overflow: hidden;text-align: left;background-color: #f0f8ff;}#sk-container-id-16 div.sk-toggleable__content pre {margin: 0.2em;color: black;border-radius: 0.25em;background-color: #f0f8ff;}#sk-container-id-16 input.sk-toggleable__control:checked~div.sk-toggleable__content {max-height: 200px;max-width: 100%;overflow: auto;}#sk-container-id-16 input.sk-toggleable__control:checked~label.sk-toggleable__label-arrow:before {content: \"▾\";}#sk-container-id-16 div.sk-estimator input.sk-toggleable__control:checked~label.sk-toggleable__label {background-color: #d4ebff;}#sk-container-id-16 div.sk-label input.sk-toggleable__control:checked~label.sk-toggleable__label {background-color: #d4ebff;}#sk-container-id-16 input.sk-hidden--visually {border: 0;clip: rect(1px 1px 1px 1px);clip: rect(1px, 1px, 1px, 1px);height: 1px;margin: -1px;overflow: hidden;padding: 0;position: absolute;width: 1px;}#sk-container-id-16 div.sk-estimator {font-family: monospace;background-color: #f0f8ff;border: 1px dotted black;border-radius: 0.25em;box-sizing: border-box;margin-bottom: 0.5em;}#sk-container-id-16 div.sk-estimator:hover {background-color: #d4ebff;}#sk-container-id-16 div.sk-parallel-item::after {content: \"\";width: 100%;border-bottom: 1px solid gray;flex-grow: 1;}#sk-container-id-16 div.sk-label:hover label.sk-toggleable__label {background-color: #d4ebff;}#sk-container-id-16 div.sk-serial::before {content: \"\";position: absolute;border-left: 1px solid gray;box-sizing: border-box;top: 0;bottom: 0;left: 50%;z-index: 0;}#sk-container-id-16 div.sk-serial {display: flex;flex-direction: column;align-items: center;background-color: white;padding-right: 0.2em;padding-left: 0.2em;position: relative;}#sk-container-id-16 div.sk-item {position: relative;z-index: 1;}#sk-container-id-16 div.sk-parallel {display: flex;align-items: stretch;justify-content: center;background-color: white;position: relative;}#sk-container-id-16 div.sk-item::before, #sk-container-id-16 div.sk-parallel-item::before {content: \"\";position: absolute;border-left: 1px solid gray;box-sizing: border-box;top: 0;bottom: 0;left: 50%;z-index: -1;}#sk-container-id-16 div.sk-parallel-item {display: flex;flex-direction: column;z-index: 1;position: relative;background-color: white;}#sk-container-id-16 div.sk-parallel-item:first-child::after {align-self: flex-end;width: 50%;}#sk-container-id-16 div.sk-parallel-item:last-child::after {align-self: flex-start;width: 50%;}#sk-container-id-16 div.sk-parallel-item:only-child::after {width: 0;}#sk-container-id-16 div.sk-dashed-wrapped {border: 1px dashed gray;margin: 0 0.4em 0.5em 0.4em;box-sizing: border-box;padding-bottom: 0.4em;background-color: white;}#sk-container-id-16 div.sk-label label {font-family: monospace;font-weight: bold;display: inline-block;line-height: 1.2em;}#sk-container-id-16 div.sk-label-container {text-align: center;}#sk-container-id-16 div.sk-container {/* jupyter's `normalize.less` sets `[hidden] { display: none; }` but bootstrap.min.css set `[hidden] { display: none !important; }` so we also need the `!important` here to be able to override the default hidden behavior on the sphinx rendered scikit-learn.org. See: https://github.com/scikit-learn/scikit-learn/issues/21755 */display: inline-block !important;position: relative;}#sk-container-id-16 div.sk-text-repr-fallback {display: none;}</style><div id=\"sk-container-id-16\" class=\"sk-top-container\"><div class=\"sk-text-repr-fallback\"><pre>TransformedTargetRegressor(check_inverse=False,\n",
       "                           func=&lt;function func at 0x00000290C4A5B2E0&gt;,\n",
       "                           inverse_func=&lt;function inverse_func at 0x00000290C4A5B920&gt;,\n",
       "                           regressor=LinearRegression())</pre><b>In a Jupyter environment, please rerun this cell to show the HTML representation or trust the notebook. <br />On GitHub, the HTML representation is unable to render, please try loading this page with nbviewer.org.</b></div><div class=\"sk-container\" hidden><div class=\"sk-item sk-dashed-wrapped\"><div class=\"sk-label-container\"><div class=\"sk-label sk-toggleable\"><input class=\"sk-toggleable__control sk-hidden--visually\" id=\"sk-estimator-id-38\" type=\"checkbox\" ><label for=\"sk-estimator-id-38\" class=\"sk-toggleable__label sk-toggleable__label-arrow\">TransformedTargetRegressor</label><div class=\"sk-toggleable__content\"><pre>TransformedTargetRegressor(check_inverse=False,\n",
       "                           func=&lt;function func at 0x00000290C4A5B2E0&gt;,\n",
       "                           inverse_func=&lt;function inverse_func at 0x00000290C4A5B920&gt;,\n",
       "                           regressor=LinearRegression())</pre></div></div></div><div class=\"sk-parallel\"><div class=\"sk-parallel-item\"><div class=\"sk-item\"><div class=\"sk-label-container\"><div class=\"sk-label sk-toggleable\"><input class=\"sk-toggleable__control sk-hidden--visually\" id=\"sk-estimator-id-39\" type=\"checkbox\" ><label for=\"sk-estimator-id-39\" class=\"sk-toggleable__label sk-toggleable__label-arrow\">regressor: LinearRegression</label><div class=\"sk-toggleable__content\"><pre>LinearRegression()</pre></div></div></div><div class=\"sk-serial\"><div class=\"sk-item\"><div class=\"sk-estimator sk-toggleable\"><input class=\"sk-toggleable__control sk-hidden--visually\" id=\"sk-estimator-id-40\" type=\"checkbox\" ><label for=\"sk-estimator-id-40\" class=\"sk-toggleable__label sk-toggleable__label-arrow\">LinearRegression</label><div class=\"sk-toggleable__content\"><pre>LinearRegression()</pre></div></div></div></div></div></div></div></div></div></div>"
      ],
      "text/plain": [
       "TransformedTargetRegressor(check_inverse=False,\n",
       "                           func=<function func at 0x00000290C4A5B2E0>,\n",
       "                           inverse_func=<function inverse_func at 0x00000290C4A5B920>,\n",
       "                           regressor=LinearRegression())"
      ]
     },
     "execution_count": 31,
     "metadata": {},
     "output_type": "execute_result"
    }
   ],
   "source": [
    "def inverse_func(x):\n",
    "    return x\n",
    "regr = TransformedTargetRegressor(regressor=regressor,\n",
    "                                  func=func,\n",
    "                                  inverse_func=inverse_func,\n",
    "                                  check_inverse=False)\n",
    "regr.fit(X_train, y_train)"
   ]
  },
  {
   "cell_type": "code",
   "execution_count": 32,
   "id": "8eee0a94-a0f0-4e71-8179-00a6029ea842",
   "metadata": {},
   "outputs": [
    {
     "name": "stdout",
     "output_type": "stream",
     "text": [
      "R2 score: -1.57\n"
     ]
    }
   ],
   "source": [
    "print('R2 score: {0:.2f}'.format(regr.score(X_test, y_test)))"
   ]
  },
  {
   "cell_type": "markdown",
   "id": "11c5b2c3-695a-452f-ac59-4b43f386ad28",
   "metadata": {},
   "source": [
    "**Nota**\n",
    "\n",
    "La transformación se puede activar configurando tanto el transformador como el par de funciones func e inverse_func. Sin embargo, configurar ambas opciones generará un error.\n",
    "\n",
    "**Ejemplo**\n",
    "\n",
    "- [Effect of transforming the targets in regression model](https://scikit-learn.org/stable/auto_examples/compose/plot_transformed_target.html#sphx-glr-auto-examples-compose-plot-transformed-target-py)"
   ]
  },
  {
   "cell_type": "markdown",
   "id": "7e01f7c9-16f6-4f74-8c15-41046b372fdf",
   "metadata": {},
   "source": [
    "##   <span style=\"color:blue\">FeatureUnion: Espacios de características compuestos\n",
    "\n",
    "</span>"
   ]
  },
  {
   "cell_type": "markdown",
   "id": "799ae3c7-efbc-4871-812a-47d47e58d5e6",
   "metadata": {},
   "source": [
    "[FeatureUnion](https://scikit-learn.org/stable/modules/generated/sklearn.pipeline.FeatureUnion.html#sklearn.pipeline.FeatureUnion) combina varios objetos transformadores en un nuevo transformador que combina sus salidas. Un FeatureUnion toma una lista de objetos transformadores. Durante el ajuste, cada uno de ellos se ajusta a los datos de forma independiente. Los transformadores se aplican en paralelo y las matrices de características que producen se concatenan una al lado de la otra en una matriz más grande.\n",
    "\n",
    "Cuando desee aplicar transformaciones diferentes a cada campo de los datos, consulte la clase relacionada ColumnTransformer (consulte la [guía del usuario](https://scikit-learn.org/stable/modules/compose.html#column-transformer)).\n",
    "\n",
    "FeatureUnion cumple con los mismos propósitos que Pipeline: comodidad y estimación conjunta de parámetros y validación.\n",
    "\n",
    "FeatureUnion y Pipeline se pueden combinar para crear modelos complejos.\n",
    "\n",
    "(Un FeatureUnion no tiene forma de verificar si dos transformadores pueden producir características idénticas. Solo produce una unión cuando los conjuntos de características son disjuntos, y garantizar que lo sean es responsabilidad del llamante)."
   ]
  },
  {
   "cell_type": "markdown",
   "id": "3b267bfd-ef27-47fe-89a0-9f35d21bddc3",
   "metadata": {},
   "source": [
    "###   <span style=\"color:blue\">Uso\n",
    "\n",
    "</span>"
   ]
  },
  {
   "cell_type": "markdown",
   "id": "436d5294-2ea2-41fc-8b05-ade01979c790",
   "metadata": {},
   "source": [
    "Un FeatureUnion se construye utilizando una lista de pares (clave, valor), donde la clave es el nombre que deseas dar a una determinada transformación (una cadena arbitraria; solo sirve como identificador) y el valor es un objeto estimador:"
   ]
  },
  {
   "cell_type": "code",
   "execution_count": 33,
   "id": "db825254-0f0d-4105-95ad-7b3f309cbcc6",
   "metadata": {},
   "outputs": [
    {
     "data": {
      "text/html": [
       "<style>#sk-container-id-17 {color: black;}#sk-container-id-17 pre{padding: 0;}#sk-container-id-17 div.sk-toggleable {background-color: white;}#sk-container-id-17 label.sk-toggleable__label {cursor: pointer;display: block;width: 100%;margin-bottom: 0;padding: 0.3em;box-sizing: border-box;text-align: center;}#sk-container-id-17 label.sk-toggleable__label-arrow:before {content: \"▸\";float: left;margin-right: 0.25em;color: #696969;}#sk-container-id-17 label.sk-toggleable__label-arrow:hover:before {color: black;}#sk-container-id-17 div.sk-estimator:hover label.sk-toggleable__label-arrow:before {color: black;}#sk-container-id-17 div.sk-toggleable__content {max-height: 0;max-width: 0;overflow: hidden;text-align: left;background-color: #f0f8ff;}#sk-container-id-17 div.sk-toggleable__content pre {margin: 0.2em;color: black;border-radius: 0.25em;background-color: #f0f8ff;}#sk-container-id-17 input.sk-toggleable__control:checked~div.sk-toggleable__content {max-height: 200px;max-width: 100%;overflow: auto;}#sk-container-id-17 input.sk-toggleable__control:checked~label.sk-toggleable__label-arrow:before {content: \"▾\";}#sk-container-id-17 div.sk-estimator input.sk-toggleable__control:checked~label.sk-toggleable__label {background-color: #d4ebff;}#sk-container-id-17 div.sk-label input.sk-toggleable__control:checked~label.sk-toggleable__label {background-color: #d4ebff;}#sk-container-id-17 input.sk-hidden--visually {border: 0;clip: rect(1px 1px 1px 1px);clip: rect(1px, 1px, 1px, 1px);height: 1px;margin: -1px;overflow: hidden;padding: 0;position: absolute;width: 1px;}#sk-container-id-17 div.sk-estimator {font-family: monospace;background-color: #f0f8ff;border: 1px dotted black;border-radius: 0.25em;box-sizing: border-box;margin-bottom: 0.5em;}#sk-container-id-17 div.sk-estimator:hover {background-color: #d4ebff;}#sk-container-id-17 div.sk-parallel-item::after {content: \"\";width: 100%;border-bottom: 1px solid gray;flex-grow: 1;}#sk-container-id-17 div.sk-label:hover label.sk-toggleable__label {background-color: #d4ebff;}#sk-container-id-17 div.sk-serial::before {content: \"\";position: absolute;border-left: 1px solid gray;box-sizing: border-box;top: 0;bottom: 0;left: 50%;z-index: 0;}#sk-container-id-17 div.sk-serial {display: flex;flex-direction: column;align-items: center;background-color: white;padding-right: 0.2em;padding-left: 0.2em;position: relative;}#sk-container-id-17 div.sk-item {position: relative;z-index: 1;}#sk-container-id-17 div.sk-parallel {display: flex;align-items: stretch;justify-content: center;background-color: white;position: relative;}#sk-container-id-17 div.sk-item::before, #sk-container-id-17 div.sk-parallel-item::before {content: \"\";position: absolute;border-left: 1px solid gray;box-sizing: border-box;top: 0;bottom: 0;left: 50%;z-index: -1;}#sk-container-id-17 div.sk-parallel-item {display: flex;flex-direction: column;z-index: 1;position: relative;background-color: white;}#sk-container-id-17 div.sk-parallel-item:first-child::after {align-self: flex-end;width: 50%;}#sk-container-id-17 div.sk-parallel-item:last-child::after {align-self: flex-start;width: 50%;}#sk-container-id-17 div.sk-parallel-item:only-child::after {width: 0;}#sk-container-id-17 div.sk-dashed-wrapped {border: 1px dashed gray;margin: 0 0.4em 0.5em 0.4em;box-sizing: border-box;padding-bottom: 0.4em;background-color: white;}#sk-container-id-17 div.sk-label label {font-family: monospace;font-weight: bold;display: inline-block;line-height: 1.2em;}#sk-container-id-17 div.sk-label-container {text-align: center;}#sk-container-id-17 div.sk-container {/* jupyter's `normalize.less` sets `[hidden] { display: none; }` but bootstrap.min.css set `[hidden] { display: none !important; }` so we also need the `!important` here to be able to override the default hidden behavior on the sphinx rendered scikit-learn.org. See: https://github.com/scikit-learn/scikit-learn/issues/21755 */display: inline-block !important;position: relative;}#sk-container-id-17 div.sk-text-repr-fallback {display: none;}</style><div id=\"sk-container-id-17\" class=\"sk-top-container\"><div class=\"sk-text-repr-fallback\"><pre>FeatureUnion(transformer_list=[(&#x27;linear_pca&#x27;, PCA()),\n",
       "                               (&#x27;kernel_pca&#x27;, KernelPCA())])</pre><b>In a Jupyter environment, please rerun this cell to show the HTML representation or trust the notebook. <br />On GitHub, the HTML representation is unable to render, please try loading this page with nbviewer.org.</b></div><div class=\"sk-container\" hidden><div class=\"sk-item sk-dashed-wrapped\"><div class=\"sk-label-container\"><div class=\"sk-label sk-toggleable\"><input class=\"sk-toggleable__control sk-hidden--visually\" id=\"sk-estimator-id-41\" type=\"checkbox\" ><label for=\"sk-estimator-id-41\" class=\"sk-toggleable__label sk-toggleable__label-arrow\">FeatureUnion</label><div class=\"sk-toggleable__content\"><pre>FeatureUnion(transformer_list=[(&#x27;linear_pca&#x27;, PCA()),\n",
       "                               (&#x27;kernel_pca&#x27;, KernelPCA())])</pre></div></div></div><div class=\"sk-parallel\"><div class=\"sk-parallel-item\"><div class=\"sk-item\"><div class=\"sk-label-container\"><div class=\"sk-label sk-toggleable\"><label>linear_pca</label></div></div><div class=\"sk-serial\"><div class=\"sk-item\"><div class=\"sk-estimator sk-toggleable\"><input class=\"sk-toggleable__control sk-hidden--visually\" id=\"sk-estimator-id-42\" type=\"checkbox\" ><label for=\"sk-estimator-id-42\" class=\"sk-toggleable__label sk-toggleable__label-arrow\">PCA</label><div class=\"sk-toggleable__content\"><pre>PCA()</pre></div></div></div></div></div></div><div class=\"sk-parallel-item\"><div class=\"sk-item\"><div class=\"sk-label-container\"><div class=\"sk-label sk-toggleable\"><label>kernel_pca</label></div></div><div class=\"sk-serial\"><div class=\"sk-item\"><div class=\"sk-estimator sk-toggleable\"><input class=\"sk-toggleable__control sk-hidden--visually\" id=\"sk-estimator-id-43\" type=\"checkbox\" ><label for=\"sk-estimator-id-43\" class=\"sk-toggleable__label sk-toggleable__label-arrow\">KernelPCA</label><div class=\"sk-toggleable__content\"><pre>KernelPCA()</pre></div></div></div></div></div></div></div></div></div></div>"
      ],
      "text/plain": [
       "FeatureUnion(transformer_list=[('linear_pca', PCA()),\n",
       "                               ('kernel_pca', KernelPCA())])"
      ]
     },
     "execution_count": 33,
     "metadata": {},
     "output_type": "execute_result"
    }
   ],
   "source": [
    "from sklearn.pipeline import FeatureUnion\n",
    "from sklearn.decomposition import PCA\n",
    "from sklearn.decomposition import KernelPCA\n",
    "estimators = [('linear_pca', PCA()), ('kernel_pca', KernelPCA())]\n",
    "combined = FeatureUnion(estimators)\n",
    "combined"
   ]
  },
  {
   "cell_type": "markdown",
   "id": "c20f93ab-d13c-4007-a551-ba757395af82",
   "metadata": {},
   "source": [
    "Al igual que el pipeline, las uniones de características tienen un constructor abreviado llamado make_union que no requiere la denominación explícita de los componentes.\n",
    "\n",
    "Al igual que en el Pipeline, los pasos individuales pueden ser reemplazados utilizando set_params y ser ignorados configurándolos como 'drop':"
   ]
  },
  {
   "cell_type": "code",
   "execution_count": 34,
   "id": "6d0aec87-e1ff-4d1c-86d2-9b1d545986ae",
   "metadata": {},
   "outputs": [
    {
     "data": {
      "text/html": [
       "<style>#sk-container-id-18 {color: black;}#sk-container-id-18 pre{padding: 0;}#sk-container-id-18 div.sk-toggleable {background-color: white;}#sk-container-id-18 label.sk-toggleable__label {cursor: pointer;display: block;width: 100%;margin-bottom: 0;padding: 0.3em;box-sizing: border-box;text-align: center;}#sk-container-id-18 label.sk-toggleable__label-arrow:before {content: \"▸\";float: left;margin-right: 0.25em;color: #696969;}#sk-container-id-18 label.sk-toggleable__label-arrow:hover:before {color: black;}#sk-container-id-18 div.sk-estimator:hover label.sk-toggleable__label-arrow:before {color: black;}#sk-container-id-18 div.sk-toggleable__content {max-height: 0;max-width: 0;overflow: hidden;text-align: left;background-color: #f0f8ff;}#sk-container-id-18 div.sk-toggleable__content pre {margin: 0.2em;color: black;border-radius: 0.25em;background-color: #f0f8ff;}#sk-container-id-18 input.sk-toggleable__control:checked~div.sk-toggleable__content {max-height: 200px;max-width: 100%;overflow: auto;}#sk-container-id-18 input.sk-toggleable__control:checked~label.sk-toggleable__label-arrow:before {content: \"▾\";}#sk-container-id-18 div.sk-estimator input.sk-toggleable__control:checked~label.sk-toggleable__label {background-color: #d4ebff;}#sk-container-id-18 div.sk-label input.sk-toggleable__control:checked~label.sk-toggleable__label {background-color: #d4ebff;}#sk-container-id-18 input.sk-hidden--visually {border: 0;clip: rect(1px 1px 1px 1px);clip: rect(1px, 1px, 1px, 1px);height: 1px;margin: -1px;overflow: hidden;padding: 0;position: absolute;width: 1px;}#sk-container-id-18 div.sk-estimator {font-family: monospace;background-color: #f0f8ff;border: 1px dotted black;border-radius: 0.25em;box-sizing: border-box;margin-bottom: 0.5em;}#sk-container-id-18 div.sk-estimator:hover {background-color: #d4ebff;}#sk-container-id-18 div.sk-parallel-item::after {content: \"\";width: 100%;border-bottom: 1px solid gray;flex-grow: 1;}#sk-container-id-18 div.sk-label:hover label.sk-toggleable__label {background-color: #d4ebff;}#sk-container-id-18 div.sk-serial::before {content: \"\";position: absolute;border-left: 1px solid gray;box-sizing: border-box;top: 0;bottom: 0;left: 50%;z-index: 0;}#sk-container-id-18 div.sk-serial {display: flex;flex-direction: column;align-items: center;background-color: white;padding-right: 0.2em;padding-left: 0.2em;position: relative;}#sk-container-id-18 div.sk-item {position: relative;z-index: 1;}#sk-container-id-18 div.sk-parallel {display: flex;align-items: stretch;justify-content: center;background-color: white;position: relative;}#sk-container-id-18 div.sk-item::before, #sk-container-id-18 div.sk-parallel-item::before {content: \"\";position: absolute;border-left: 1px solid gray;box-sizing: border-box;top: 0;bottom: 0;left: 50%;z-index: -1;}#sk-container-id-18 div.sk-parallel-item {display: flex;flex-direction: column;z-index: 1;position: relative;background-color: white;}#sk-container-id-18 div.sk-parallel-item:first-child::after {align-self: flex-end;width: 50%;}#sk-container-id-18 div.sk-parallel-item:last-child::after {align-self: flex-start;width: 50%;}#sk-container-id-18 div.sk-parallel-item:only-child::after {width: 0;}#sk-container-id-18 div.sk-dashed-wrapped {border: 1px dashed gray;margin: 0 0.4em 0.5em 0.4em;box-sizing: border-box;padding-bottom: 0.4em;background-color: white;}#sk-container-id-18 div.sk-label label {font-family: monospace;font-weight: bold;display: inline-block;line-height: 1.2em;}#sk-container-id-18 div.sk-label-container {text-align: center;}#sk-container-id-18 div.sk-container {/* jupyter's `normalize.less` sets `[hidden] { display: none; }` but bootstrap.min.css set `[hidden] { display: none !important; }` so we also need the `!important` here to be able to override the default hidden behavior on the sphinx rendered scikit-learn.org. See: https://github.com/scikit-learn/scikit-learn/issues/21755 */display: inline-block !important;position: relative;}#sk-container-id-18 div.sk-text-repr-fallback {display: none;}</style><div id=\"sk-container-id-18\" class=\"sk-top-container\"><div class=\"sk-text-repr-fallback\"><pre>FeatureUnion(transformer_list=[(&#x27;linear_pca&#x27;, PCA()), (&#x27;kernel_pca&#x27;, &#x27;drop&#x27;)])</pre><b>In a Jupyter environment, please rerun this cell to show the HTML representation or trust the notebook. <br />On GitHub, the HTML representation is unable to render, please try loading this page with nbviewer.org.</b></div><div class=\"sk-container\" hidden><div class=\"sk-item sk-dashed-wrapped\"><div class=\"sk-label-container\"><div class=\"sk-label sk-toggleable\"><input class=\"sk-toggleable__control sk-hidden--visually\" id=\"sk-estimator-id-44\" type=\"checkbox\" ><label for=\"sk-estimator-id-44\" class=\"sk-toggleable__label sk-toggleable__label-arrow\">FeatureUnion</label><div class=\"sk-toggleable__content\"><pre>FeatureUnion(transformer_list=[(&#x27;linear_pca&#x27;, PCA()), (&#x27;kernel_pca&#x27;, &#x27;drop&#x27;)])</pre></div></div></div><div class=\"sk-parallel\"><div class=\"sk-parallel-item\"><div class=\"sk-item\"><div class=\"sk-label-container\"><div class=\"sk-label sk-toggleable\"><label>linear_pca</label></div></div><div class=\"sk-serial\"><div class=\"sk-item\"><div class=\"sk-estimator sk-toggleable\"><input class=\"sk-toggleable__control sk-hidden--visually\" id=\"sk-estimator-id-45\" type=\"checkbox\" ><label for=\"sk-estimator-id-45\" class=\"sk-toggleable__label sk-toggleable__label-arrow\">PCA</label><div class=\"sk-toggleable__content\"><pre>PCA()</pre></div></div></div></div></div></div><div class=\"sk-parallel-item\"><div class=\"sk-item\"><div class=\"sk-label-container\"><div class=\"sk-label sk-toggleable\"><label>kernel_pca</label></div></div><div class=\"sk-serial\"><div class=\"sk-item\"><div class=\"sk-estimator sk-toggleable\"><input class=\"sk-toggleable__control sk-hidden--visually\" id=\"sk-estimator-id-46\" type=\"checkbox\" ><label for=\"sk-estimator-id-46\" class=\"sk-toggleable__label sk-toggleable__label-arrow\">drop</label><div class=\"sk-toggleable__content\"><pre>drop</pre></div></div></div></div></div></div></div></div></div></div>"
      ],
      "text/plain": [
       "FeatureUnion(transformer_list=[('linear_pca', PCA()), ('kernel_pca', 'drop')])"
      ]
     },
     "execution_count": 34,
     "metadata": {},
     "output_type": "execute_result"
    }
   ],
   "source": [
    "combined.set_params(kernel_pca='drop')"
   ]
  },
  {
   "cell_type": "markdown",
   "id": "a0f3da35-2d2e-406c-991f-9e3bad637e3f",
   "metadata": {},
   "source": [
    "**Ejemplos**\n",
    "\n",
    "- [Concatenating multiple feature extraction methods](https://scikit-learn.org/stable/auto_examples/compose/plot_feature_union.html#sphx-glr-auto-examples-compose-plot-feature-union-py)"
   ]
  },
  {
   "cell_type": "markdown",
   "id": "bbc17673-93c8-45ea-9fff-9d11d42fa6d5",
   "metadata": {},
   "source": [
    "##   <span style=\"color:blue\">ColumnTransformer para datos heterogéneos\n",
    "\n",
    "</span>"
   ]
  },
  {
   "cell_type": "markdown",
   "id": "8c6dd2c0-9439-40ad-a37a-baa7f268b081",
   "metadata": {},
   "source": [
    "Muchos conjuntos de datos contienen características de diferentes tipos, como texto, números decimales y fechas, donde cada tipo de característica requiere pasos de preprocesamiento o extracción de características por separado. A menudo, es más fácil preprocesar los datos antes de aplicar métodos de scikit-learn, por ejemplo, utilizando pandas. Procesar sus datos antes de pasarlos a scikit-learn puede ser problemático por una de las siguientes razones:\n",
    "\n",
    "1. Incorporar estadísticas de datos de prueba en los preprocesadores hace que las puntuaciones de validación cruzada sean poco fiables (conocido como fuga de datos), por ejemplo, en el caso de escaladores o imputación de valores faltantes.\n",
    "\n",
    "2. Es posible que desee incluir los parámetros de los preprocesadores en una [búsqueda de parámetros](https://scikit-learn.org/stable/modules/grid_search.html#grid-search).\n",
    "\n",
    "El [ColumnTransformer](https://scikit-learn.org/stable/modules/generated/sklearn.compose.ColumnTransformer.html#sklearn.compose.ColumnTransformer) ayuda a realizar diferentes transformaciones en diferentes columnas de los datos, dentro de una Tubería que es segura contra la fuga de datos y que puede parametrizarse. ColumnTransformer funciona con matrices, matrices dispersas y pandas DataFrames.\n",
    "\n",
    "A cada columna se le puede aplicar una transformación diferente, como preprocesamiento o un método específico de extracción de características."
   ]
  },
  {
   "cell_type": "code",
   "execution_count": 35,
   "id": "ac6bf463-70b4-4f3e-a62d-5d1177d13a16",
   "metadata": {},
   "outputs": [],
   "source": [
    "import pandas as pd\n",
    "X = pd.DataFrame(\n",
    "    {'city': ['London', 'London', 'Paris', 'Sallisaw'],\n",
    "     'title': [\"His Last Bow\", \"How Watson Learned the Trick\",\n",
    "                \"A Moveable Feast\", \"The Grapes of Wrath\"],\n",
    "     'expert_rating': [5, 3, 4, 5],\n",
    "     'user_rating': [4, 5, 4, 3]})"
   ]
  },
  {
   "cell_type": "markdown",
   "id": "982b4973-96aa-407f-8a7c-f599cfd318ed",
   "metadata": {},
   "source": [
    "Para estos datos, podríamos querer codificar la columna 'city' como una variable categórica utilizando OneHotEncoder pero aplicar CountVectorizer a la columna 'title'. Dado que podríamos usar múltiples métodos de extracción de características en la misma columna, damos a cada transformador un nombre único, como 'city_category' y 'title_bow'. Por defecto, se ignoran las columnas de calificación restantes (remainder='drop'):"
   ]
  },
  {
   "cell_type": "code",
   "execution_count": 36,
   "id": "e86a42d2-2c8d-42f9-8bae-18682f3a08b8",
   "metadata": {},
   "outputs": [
    {
     "data": {
      "text/html": [
       "<style>#sk-container-id-19 {color: black;}#sk-container-id-19 pre{padding: 0;}#sk-container-id-19 div.sk-toggleable {background-color: white;}#sk-container-id-19 label.sk-toggleable__label {cursor: pointer;display: block;width: 100%;margin-bottom: 0;padding: 0.3em;box-sizing: border-box;text-align: center;}#sk-container-id-19 label.sk-toggleable__label-arrow:before {content: \"▸\";float: left;margin-right: 0.25em;color: #696969;}#sk-container-id-19 label.sk-toggleable__label-arrow:hover:before {color: black;}#sk-container-id-19 div.sk-estimator:hover label.sk-toggleable__label-arrow:before {color: black;}#sk-container-id-19 div.sk-toggleable__content {max-height: 0;max-width: 0;overflow: hidden;text-align: left;background-color: #f0f8ff;}#sk-container-id-19 div.sk-toggleable__content pre {margin: 0.2em;color: black;border-radius: 0.25em;background-color: #f0f8ff;}#sk-container-id-19 input.sk-toggleable__control:checked~div.sk-toggleable__content {max-height: 200px;max-width: 100%;overflow: auto;}#sk-container-id-19 input.sk-toggleable__control:checked~label.sk-toggleable__label-arrow:before {content: \"▾\";}#sk-container-id-19 div.sk-estimator input.sk-toggleable__control:checked~label.sk-toggleable__label {background-color: #d4ebff;}#sk-container-id-19 div.sk-label input.sk-toggleable__control:checked~label.sk-toggleable__label {background-color: #d4ebff;}#sk-container-id-19 input.sk-hidden--visually {border: 0;clip: rect(1px 1px 1px 1px);clip: rect(1px, 1px, 1px, 1px);height: 1px;margin: -1px;overflow: hidden;padding: 0;position: absolute;width: 1px;}#sk-container-id-19 div.sk-estimator {font-family: monospace;background-color: #f0f8ff;border: 1px dotted black;border-radius: 0.25em;box-sizing: border-box;margin-bottom: 0.5em;}#sk-container-id-19 div.sk-estimator:hover {background-color: #d4ebff;}#sk-container-id-19 div.sk-parallel-item::after {content: \"\";width: 100%;border-bottom: 1px solid gray;flex-grow: 1;}#sk-container-id-19 div.sk-label:hover label.sk-toggleable__label {background-color: #d4ebff;}#sk-container-id-19 div.sk-serial::before {content: \"\";position: absolute;border-left: 1px solid gray;box-sizing: border-box;top: 0;bottom: 0;left: 50%;z-index: 0;}#sk-container-id-19 div.sk-serial {display: flex;flex-direction: column;align-items: center;background-color: white;padding-right: 0.2em;padding-left: 0.2em;position: relative;}#sk-container-id-19 div.sk-item {position: relative;z-index: 1;}#sk-container-id-19 div.sk-parallel {display: flex;align-items: stretch;justify-content: center;background-color: white;position: relative;}#sk-container-id-19 div.sk-item::before, #sk-container-id-19 div.sk-parallel-item::before {content: \"\";position: absolute;border-left: 1px solid gray;box-sizing: border-box;top: 0;bottom: 0;left: 50%;z-index: -1;}#sk-container-id-19 div.sk-parallel-item {display: flex;flex-direction: column;z-index: 1;position: relative;background-color: white;}#sk-container-id-19 div.sk-parallel-item:first-child::after {align-self: flex-end;width: 50%;}#sk-container-id-19 div.sk-parallel-item:last-child::after {align-self: flex-start;width: 50%;}#sk-container-id-19 div.sk-parallel-item:only-child::after {width: 0;}#sk-container-id-19 div.sk-dashed-wrapped {border: 1px dashed gray;margin: 0 0.4em 0.5em 0.4em;box-sizing: border-box;padding-bottom: 0.4em;background-color: white;}#sk-container-id-19 div.sk-label label {font-family: monospace;font-weight: bold;display: inline-block;line-height: 1.2em;}#sk-container-id-19 div.sk-label-container {text-align: center;}#sk-container-id-19 div.sk-container {/* jupyter's `normalize.less` sets `[hidden] { display: none; }` but bootstrap.min.css set `[hidden] { display: none !important; }` so we also need the `!important` here to be able to override the default hidden behavior on the sphinx rendered scikit-learn.org. See: https://github.com/scikit-learn/scikit-learn/issues/21755 */display: inline-block !important;position: relative;}#sk-container-id-19 div.sk-text-repr-fallback {display: none;}</style><div id=\"sk-container-id-19\" class=\"sk-top-container\"><div class=\"sk-text-repr-fallback\"><pre>ColumnTransformer(transformers=[(&#x27;categories&#x27;, OneHotEncoder(dtype=&#x27;int&#x27;),\n",
       "                                 [&#x27;city&#x27;]),\n",
       "                                (&#x27;title_bow&#x27;, CountVectorizer(), &#x27;title&#x27;)],\n",
       "                  verbose_feature_names_out=False)</pre><b>In a Jupyter environment, please rerun this cell to show the HTML representation or trust the notebook. <br />On GitHub, the HTML representation is unable to render, please try loading this page with nbviewer.org.</b></div><div class=\"sk-container\" hidden><div class=\"sk-item sk-dashed-wrapped\"><div class=\"sk-label-container\"><div class=\"sk-label sk-toggleable\"><input class=\"sk-toggleable__control sk-hidden--visually\" id=\"sk-estimator-id-47\" type=\"checkbox\" ><label for=\"sk-estimator-id-47\" class=\"sk-toggleable__label sk-toggleable__label-arrow\">ColumnTransformer</label><div class=\"sk-toggleable__content\"><pre>ColumnTransformer(transformers=[(&#x27;categories&#x27;, OneHotEncoder(dtype=&#x27;int&#x27;),\n",
       "                                 [&#x27;city&#x27;]),\n",
       "                                (&#x27;title_bow&#x27;, CountVectorizer(), &#x27;title&#x27;)],\n",
       "                  verbose_feature_names_out=False)</pre></div></div></div><div class=\"sk-parallel\"><div class=\"sk-parallel-item\"><div class=\"sk-item\"><div class=\"sk-label-container\"><div class=\"sk-label sk-toggleable\"><input class=\"sk-toggleable__control sk-hidden--visually\" id=\"sk-estimator-id-48\" type=\"checkbox\" ><label for=\"sk-estimator-id-48\" class=\"sk-toggleable__label sk-toggleable__label-arrow\">categories</label><div class=\"sk-toggleable__content\"><pre>[&#x27;city&#x27;]</pre></div></div></div><div class=\"sk-serial\"><div class=\"sk-item\"><div class=\"sk-estimator sk-toggleable\"><input class=\"sk-toggleable__control sk-hidden--visually\" id=\"sk-estimator-id-49\" type=\"checkbox\" ><label for=\"sk-estimator-id-49\" class=\"sk-toggleable__label sk-toggleable__label-arrow\">OneHotEncoder</label><div class=\"sk-toggleable__content\"><pre>OneHotEncoder(dtype=&#x27;int&#x27;)</pre></div></div></div></div></div></div><div class=\"sk-parallel-item\"><div class=\"sk-item\"><div class=\"sk-label-container\"><div class=\"sk-label sk-toggleable\"><input class=\"sk-toggleable__control sk-hidden--visually\" id=\"sk-estimator-id-50\" type=\"checkbox\" ><label for=\"sk-estimator-id-50\" class=\"sk-toggleable__label sk-toggleable__label-arrow\">title_bow</label><div class=\"sk-toggleable__content\"><pre>title</pre></div></div></div><div class=\"sk-serial\"><div class=\"sk-item\"><div class=\"sk-estimator sk-toggleable\"><input class=\"sk-toggleable__control sk-hidden--visually\" id=\"sk-estimator-id-51\" type=\"checkbox\" ><label for=\"sk-estimator-id-51\" class=\"sk-toggleable__label sk-toggleable__label-arrow\">CountVectorizer</label><div class=\"sk-toggleable__content\"><pre>CountVectorizer()</pre></div></div></div></div></div></div></div></div></div></div>"
      ],
      "text/plain": [
       "ColumnTransformer(transformers=[('categories', OneHotEncoder(dtype='int'),\n",
       "                                 ['city']),\n",
       "                                ('title_bow', CountVectorizer(), 'title')],\n",
       "                  verbose_feature_names_out=False)"
      ]
     },
     "execution_count": 36,
     "metadata": {},
     "output_type": "execute_result"
    }
   ],
   "source": [
    "from sklearn.compose import ColumnTransformer\n",
    "from sklearn.feature_extraction.text import CountVectorizer\n",
    "from sklearn.preprocessing import OneHotEncoder\n",
    "column_trans = ColumnTransformer(\n",
    "    [('categories', OneHotEncoder(dtype='int'), ['city']),\n",
    "     ('title_bow', CountVectorizer(), 'title')],\n",
    "    remainder='drop', verbose_feature_names_out=False)\n",
    "\n",
    "column_trans.fit(X)"
   ]
  },
  {
   "cell_type": "code",
   "execution_count": 37,
   "id": "bc2bd838-0446-4700-adae-3de7f3d536cb",
   "metadata": {},
   "outputs": [
    {
     "data": {
      "text/plain": [
       "array(['city_London', 'city_Paris', 'city_Sallisaw', 'bow', 'feast',\n",
       "       'grapes', 'his', 'how', 'last', 'learned', 'moveable', 'of', 'the',\n",
       "       'trick', 'watson', 'wrath'], dtype=object)"
      ]
     },
     "execution_count": 37,
     "metadata": {},
     "output_type": "execute_result"
    }
   ],
   "source": [
    "column_trans.get_feature_names_out()"
   ]
  },
  {
   "cell_type": "code",
   "execution_count": 38,
   "id": "531f1ce3-42d4-46be-a3e6-6982acab4f78",
   "metadata": {},
   "outputs": [
    {
     "data": {
      "text/plain": [
       "array([[1, 0, 0, 1, 0, 0, 1, 0, 1, 0, 0, 0, 0, 0, 0, 0],\n",
       "       [1, 0, 0, 0, 0, 0, 0, 1, 0, 1, 0, 0, 1, 1, 1, 0],\n",
       "       [0, 1, 0, 0, 1, 0, 0, 0, 0, 0, 1, 0, 0, 0, 0, 0],\n",
       "       [0, 0, 1, 0, 0, 1, 0, 0, 0, 0, 0, 1, 1, 0, 0, 1]], dtype=int64)"
      ]
     },
     "execution_count": 38,
     "metadata": {},
     "output_type": "execute_result"
    }
   ],
   "source": [
    "column_trans.transform(X).toarray()"
   ]
  },
  {
   "cell_type": "markdown",
   "id": "4ae8b5af-ff4e-4fcc-9ba1-0f9c5dd4855b",
   "metadata": {},
   "source": [
    "En el ejemplo anterior, [CountVectorizer](https://scikit-learn.org/stable/modules/generated/sklearn.feature_extraction.text.CountVectorizer.html#sklearn.feature_extraction.text.CountVectorizer) espera una matriz unidimensional como entrada y, por lo tanto, las columnas se especificaron como una cadena ('title'). Sin embargo, [OneHotEncoder](https://scikit-learn.org/stable/modules/generated/sklearn.preprocessing.OneHotEncoder.html#sklearn.preprocessing.OneHotEncoder), al igual que la mayoría de los otros transformadores, espera datos bidimensionales, por lo tanto, en ese caso debes especificar la columna como una lista de cadenas (['city']).\n",
    "\n",
    "Además de un escalar o una lista de un solo elemento, la selección de columna se puede especificar como una lista de múltiples elementos, una matriz de enteros, una sección, una máscara booleana o con un make_column_selector. El [make_column_selector](https://scikit-learn.org/stable/modules/generated/sklearn.compose.make_column_selector.html#sklearn.compose.make_column_selector) se utiliza para seleccionar columnas según el tipo de datos o el nombre de la columna:"
   ]
  },
  {
   "cell_type": "code",
   "execution_count": 39,
   "id": "c3763efd-6c05-4f13-9c48-9d148f4e3b71",
   "metadata": {},
   "outputs": [
    {
     "data": {
      "text/plain": [
       "array([[ 0.90453403,  0.        ,  1.        ,  0.        ,  0.        ],\n",
       "       [-1.50755672,  1.41421356,  1.        ,  0.        ,  0.        ],\n",
       "       [-0.30151134,  0.        ,  0.        ,  1.        ,  0.        ],\n",
       "       [ 0.90453403, -1.41421356,  0.        ,  0.        ,  1.        ]])"
      ]
     },
     "execution_count": 39,
     "metadata": {},
     "output_type": "execute_result"
    }
   ],
   "source": [
    "from sklearn.preprocessing import StandardScaler\n",
    "from sklearn.compose import make_column_selector\n",
    "ct = ColumnTransformer([\n",
    "    ('scale', StandardScaler(),\n",
    "     make_column_selector(dtype_include=np.number)),\n",
    "    ('onehot',\n",
    "     OneHotEncoder(),\n",
    "     make_column_selector(pattern='city', dtype_include=object))])\n",
    "ct.fit_transform(X)"
   ]
  },
  {
   "cell_type": "markdown",
   "id": "7d6619bb-5ac8-4c57-afdf-089e63fc636f",
   "metadata": {},
   "source": [
    "Las cadenas pueden hacer referencia a columnas si la entrada es un DataFrame, los enteros siempre se interpretan como las columnas posicionales.\n",
    "\n",
    "Podemos conservar las columnas de calificación restantes configurando remainder='passthrough'. Los valores se agregan al final de la transformación:"
   ]
  },
  {
   "cell_type": "code",
   "execution_count": 40,
   "id": "4b9d4a07-4e97-4db2-91a0-7e5366c3ee33",
   "metadata": {},
   "outputs": [
    {
     "data": {
      "text/plain": [
       "array([[1, 0, 0, 1, 0, 0, 1, 0, 1, 0, 0, 0, 0, 0, 0, 0, 5, 4],\n",
       "       [1, 0, 0, 0, 0, 0, 0, 1, 0, 1, 0, 0, 1, 1, 1, 0, 3, 5],\n",
       "       [0, 1, 0, 0, 1, 0, 0, 0, 0, 0, 1, 0, 0, 0, 0, 0, 4, 4],\n",
       "       [0, 0, 1, 0, 0, 1, 0, 0, 0, 0, 0, 1, 1, 0, 0, 1, 5, 3]],\n",
       "      dtype=int64)"
      ]
     },
     "execution_count": 40,
     "metadata": {},
     "output_type": "execute_result"
    }
   ],
   "source": [
    "column_trans = ColumnTransformer(\n",
    "    [('city_category', OneHotEncoder(dtype='int'),['city']),\n",
    "     ('title_bow', CountVectorizer(), 'title')],\n",
    "    remainder='passthrough')\n",
    "\n",
    "column_trans.fit_transform(X)"
   ]
  },
  {
   "cell_type": "markdown",
   "id": "c2ea267d-d92b-4098-8c41-6afd87ff9ea7",
   "metadata": {},
   "source": [
    "El parámetro remainder se puede configurar como un estimador para transformar las columnas de calificación restantes. Los valores transformados se agregan al final del pipeline de transformación."
   ]
  },
  {
   "cell_type": "code",
   "execution_count": 41,
   "id": "846797cd-0179-4dfe-b901-ccb74f81d14a",
   "metadata": {},
   "outputs": [
    {
     "data": {
      "text/plain": [
       "array([[1. , 0.5],\n",
       "       [0. , 1. ],\n",
       "       [0.5, 0.5],\n",
       "       [1. , 0. ]])"
      ]
     },
     "execution_count": 41,
     "metadata": {},
     "output_type": "execute_result"
    }
   ],
   "source": [
    "from sklearn.preprocessing import MinMaxScaler\n",
    "column_trans = ColumnTransformer(\n",
    "    [('city_category', OneHotEncoder(), ['city']),\n",
    "     ('title_bow', CountVectorizer(), 'title')],\n",
    "    remainder=MinMaxScaler())\n",
    "column_trans.fit_transform(X)[:, -2:]"
   ]
  },
  {
   "cell_type": "markdown",
   "id": "65fdfc03-4670-4c72-b0ba-1fac939994c5",
   "metadata": {},
   "source": [
    "La función make_column_transformer está disponible para crear más fácilmente un objeto ColumnTransformer. Específicamente, los nombres se asignarán automáticamente. El equivalente para el ejemplo anterior sería:"
   ]
  },
  {
   "cell_type": "code",
   "execution_count": 42,
   "id": "be83f8a9-26ae-4b37-9cd4-f6c5ffd87381",
   "metadata": {},
   "outputs": [
    {
     "data": {
      "text/html": [
       "<style>#sk-container-id-20 {color: black;}#sk-container-id-20 pre{padding: 0;}#sk-container-id-20 div.sk-toggleable {background-color: white;}#sk-container-id-20 label.sk-toggleable__label {cursor: pointer;display: block;width: 100%;margin-bottom: 0;padding: 0.3em;box-sizing: border-box;text-align: center;}#sk-container-id-20 label.sk-toggleable__label-arrow:before {content: \"▸\";float: left;margin-right: 0.25em;color: #696969;}#sk-container-id-20 label.sk-toggleable__label-arrow:hover:before {color: black;}#sk-container-id-20 div.sk-estimator:hover label.sk-toggleable__label-arrow:before {color: black;}#sk-container-id-20 div.sk-toggleable__content {max-height: 0;max-width: 0;overflow: hidden;text-align: left;background-color: #f0f8ff;}#sk-container-id-20 div.sk-toggleable__content pre {margin: 0.2em;color: black;border-radius: 0.25em;background-color: #f0f8ff;}#sk-container-id-20 input.sk-toggleable__control:checked~div.sk-toggleable__content {max-height: 200px;max-width: 100%;overflow: auto;}#sk-container-id-20 input.sk-toggleable__control:checked~label.sk-toggleable__label-arrow:before {content: \"▾\";}#sk-container-id-20 div.sk-estimator input.sk-toggleable__control:checked~label.sk-toggleable__label {background-color: #d4ebff;}#sk-container-id-20 div.sk-label input.sk-toggleable__control:checked~label.sk-toggleable__label {background-color: #d4ebff;}#sk-container-id-20 input.sk-hidden--visually {border: 0;clip: rect(1px 1px 1px 1px);clip: rect(1px, 1px, 1px, 1px);height: 1px;margin: -1px;overflow: hidden;padding: 0;position: absolute;width: 1px;}#sk-container-id-20 div.sk-estimator {font-family: monospace;background-color: #f0f8ff;border: 1px dotted black;border-radius: 0.25em;box-sizing: border-box;margin-bottom: 0.5em;}#sk-container-id-20 div.sk-estimator:hover {background-color: #d4ebff;}#sk-container-id-20 div.sk-parallel-item::after {content: \"\";width: 100%;border-bottom: 1px solid gray;flex-grow: 1;}#sk-container-id-20 div.sk-label:hover label.sk-toggleable__label {background-color: #d4ebff;}#sk-container-id-20 div.sk-serial::before {content: \"\";position: absolute;border-left: 1px solid gray;box-sizing: border-box;top: 0;bottom: 0;left: 50%;z-index: 0;}#sk-container-id-20 div.sk-serial {display: flex;flex-direction: column;align-items: center;background-color: white;padding-right: 0.2em;padding-left: 0.2em;position: relative;}#sk-container-id-20 div.sk-item {position: relative;z-index: 1;}#sk-container-id-20 div.sk-parallel {display: flex;align-items: stretch;justify-content: center;background-color: white;position: relative;}#sk-container-id-20 div.sk-item::before, #sk-container-id-20 div.sk-parallel-item::before {content: \"\";position: absolute;border-left: 1px solid gray;box-sizing: border-box;top: 0;bottom: 0;left: 50%;z-index: -1;}#sk-container-id-20 div.sk-parallel-item {display: flex;flex-direction: column;z-index: 1;position: relative;background-color: white;}#sk-container-id-20 div.sk-parallel-item:first-child::after {align-self: flex-end;width: 50%;}#sk-container-id-20 div.sk-parallel-item:last-child::after {align-self: flex-start;width: 50%;}#sk-container-id-20 div.sk-parallel-item:only-child::after {width: 0;}#sk-container-id-20 div.sk-dashed-wrapped {border: 1px dashed gray;margin: 0 0.4em 0.5em 0.4em;box-sizing: border-box;padding-bottom: 0.4em;background-color: white;}#sk-container-id-20 div.sk-label label {font-family: monospace;font-weight: bold;display: inline-block;line-height: 1.2em;}#sk-container-id-20 div.sk-label-container {text-align: center;}#sk-container-id-20 div.sk-container {/* jupyter's `normalize.less` sets `[hidden] { display: none; }` but bootstrap.min.css set `[hidden] { display: none !important; }` so we also need the `!important` here to be able to override the default hidden behavior on the sphinx rendered scikit-learn.org. See: https://github.com/scikit-learn/scikit-learn/issues/21755 */display: inline-block !important;position: relative;}#sk-container-id-20 div.sk-text-repr-fallback {display: none;}</style><div id=\"sk-container-id-20\" class=\"sk-top-container\"><div class=\"sk-text-repr-fallback\"><pre>ColumnTransformer(remainder=MinMaxScaler(),\n",
       "                  transformers=[(&#x27;onehotencoder&#x27;, OneHotEncoder(), [&#x27;city&#x27;]),\n",
       "                                (&#x27;countvectorizer&#x27;, CountVectorizer(),\n",
       "                                 &#x27;title&#x27;)])</pre><b>In a Jupyter environment, please rerun this cell to show the HTML representation or trust the notebook. <br />On GitHub, the HTML representation is unable to render, please try loading this page with nbviewer.org.</b></div><div class=\"sk-container\" hidden><div class=\"sk-item sk-dashed-wrapped\"><div class=\"sk-label-container\"><div class=\"sk-label sk-toggleable\"><input class=\"sk-toggleable__control sk-hidden--visually\" id=\"sk-estimator-id-52\" type=\"checkbox\" ><label for=\"sk-estimator-id-52\" class=\"sk-toggleable__label sk-toggleable__label-arrow\">ColumnTransformer</label><div class=\"sk-toggleable__content\"><pre>ColumnTransformer(remainder=MinMaxScaler(),\n",
       "                  transformers=[(&#x27;onehotencoder&#x27;, OneHotEncoder(), [&#x27;city&#x27;]),\n",
       "                                (&#x27;countvectorizer&#x27;, CountVectorizer(),\n",
       "                                 &#x27;title&#x27;)])</pre></div></div></div><div class=\"sk-parallel\"><div class=\"sk-parallel-item\"><div class=\"sk-item\"><div class=\"sk-label-container\"><div class=\"sk-label sk-toggleable\"><input class=\"sk-toggleable__control sk-hidden--visually\" id=\"sk-estimator-id-53\" type=\"checkbox\" ><label for=\"sk-estimator-id-53\" class=\"sk-toggleable__label sk-toggleable__label-arrow\">onehotencoder</label><div class=\"sk-toggleable__content\"><pre>[&#x27;city&#x27;]</pre></div></div></div><div class=\"sk-serial\"><div class=\"sk-item\"><div class=\"sk-estimator sk-toggleable\"><input class=\"sk-toggleable__control sk-hidden--visually\" id=\"sk-estimator-id-54\" type=\"checkbox\" ><label for=\"sk-estimator-id-54\" class=\"sk-toggleable__label sk-toggleable__label-arrow\">OneHotEncoder</label><div class=\"sk-toggleable__content\"><pre>OneHotEncoder()</pre></div></div></div></div></div></div><div class=\"sk-parallel-item\"><div class=\"sk-item\"><div class=\"sk-label-container\"><div class=\"sk-label sk-toggleable\"><input class=\"sk-toggleable__control sk-hidden--visually\" id=\"sk-estimator-id-55\" type=\"checkbox\" ><label for=\"sk-estimator-id-55\" class=\"sk-toggleable__label sk-toggleable__label-arrow\">countvectorizer</label><div class=\"sk-toggleable__content\"><pre>title</pre></div></div></div><div class=\"sk-serial\"><div class=\"sk-item\"><div class=\"sk-estimator sk-toggleable\"><input class=\"sk-toggleable__control sk-hidden--visually\" id=\"sk-estimator-id-56\" type=\"checkbox\" ><label for=\"sk-estimator-id-56\" class=\"sk-toggleable__label sk-toggleable__label-arrow\">CountVectorizer</label><div class=\"sk-toggleable__content\"><pre>CountVectorizer()</pre></div></div></div></div></div></div><div class=\"sk-parallel-item\"><div class=\"sk-item\"><div class=\"sk-label-container\"><div class=\"sk-label sk-toggleable\"><input class=\"sk-toggleable__control sk-hidden--visually\" id=\"sk-estimator-id-57\" type=\"checkbox\" ><label for=\"sk-estimator-id-57\" class=\"sk-toggleable__label sk-toggleable__label-arrow\">remainder</label><div class=\"sk-toggleable__content\"><pre></pre></div></div></div><div class=\"sk-serial\"><div class=\"sk-item\"><div class=\"sk-estimator sk-toggleable\"><input class=\"sk-toggleable__control sk-hidden--visually\" id=\"sk-estimator-id-58\" type=\"checkbox\" ><label for=\"sk-estimator-id-58\" class=\"sk-toggleable__label sk-toggleable__label-arrow\">MinMaxScaler</label><div class=\"sk-toggleable__content\"><pre>MinMaxScaler()</pre></div></div></div></div></div></div></div></div></div></div>"
      ],
      "text/plain": [
       "ColumnTransformer(remainder=MinMaxScaler(),\n",
       "                  transformers=[('onehotencoder', OneHotEncoder(), ['city']),\n",
       "                                ('countvectorizer', CountVectorizer(),\n",
       "                                 'title')])"
      ]
     },
     "execution_count": 42,
     "metadata": {},
     "output_type": "execute_result"
    }
   ],
   "source": [
    "from sklearn.compose import make_column_transformer\n",
    "column_trans = make_column_transformer(\n",
    "    (OneHotEncoder(), ['city']),\n",
    "    (CountVectorizer(), 'title'),\n",
    "    remainder=MinMaxScaler())\n",
    "column_trans"
   ]
  },
  {
   "cell_type": "markdown",
   "id": "1fd3f7b9-6385-41e3-bf1b-5d4ea69ddfe2",
   "metadata": {},
   "source": [
    "Si ColumnTransformer se ajusta con un marco de datos y el marco de datos solo tiene nombres de columnas de tipo cadena, entonces al transformar un marco de datos, se utilizarán los nombres de las columnas para seleccionar las columnas:"
   ]
  },
  {
   "cell_type": "code",
   "execution_count": 43,
   "id": "63d85663-958d-491b-b2cc-6bc20fa643b3",
   "metadata": {},
   "outputs": [
    {
     "data": {
      "text/plain": [
       "array([[ 0.90453403],\n",
       "       [ 2.11057941],\n",
       "       [-3.91964748]])"
      ]
     },
     "execution_count": 43,
     "metadata": {},
     "output_type": "execute_result"
    }
   ],
   "source": [
    "ct = ColumnTransformer(\n",
    "    [(\"scale\", StandardScaler(), [\"expert_rating\"])]).fit(X)\n",
    "X_new = pd.DataFrame({\"expert_rating\": [5, 6, 1],\n",
    "                      \"ignored_new_col\": [1.2, 0.3, -0.1]})\n",
    "ct.transform(X_new)"
   ]
  },
  {
   "cell_type": "markdown",
   "id": "4a5453dd-97f0-421d-a7f3-e86825cd3f50",
   "metadata": {},
   "source": [
    "##   <span style=\"color:blue\">Visualización de Estimadores Compuestos\n",
    "\n",
    "</span>"
   ]
  },
  {
   "cell_type": "markdown",
   "id": "43f3edb2-217f-4382-8902-b4ab39d961b5",
   "metadata": {},
   "source": [
    "Los estimadores se muestran con una representación HTML cuando se muestran en un cuaderno Jupyter. Esto es útil para diagnosticar o visualizar un Pipeline con muchos estimadores. Esta visualización está activada de forma predeterminada:"
   ]
  },
  {
   "cell_type": "code",
   "execution_count": 44,
   "id": "5564c907-e408-4525-b7bc-1d02bcc0eabf",
   "metadata": {},
   "outputs": [
    {
     "data": {
      "text/html": [
       "<style>#sk-container-id-21 {color: black;}#sk-container-id-21 pre{padding: 0;}#sk-container-id-21 div.sk-toggleable {background-color: white;}#sk-container-id-21 label.sk-toggleable__label {cursor: pointer;display: block;width: 100%;margin-bottom: 0;padding: 0.3em;box-sizing: border-box;text-align: center;}#sk-container-id-21 label.sk-toggleable__label-arrow:before {content: \"▸\";float: left;margin-right: 0.25em;color: #696969;}#sk-container-id-21 label.sk-toggleable__label-arrow:hover:before {color: black;}#sk-container-id-21 div.sk-estimator:hover label.sk-toggleable__label-arrow:before {color: black;}#sk-container-id-21 div.sk-toggleable__content {max-height: 0;max-width: 0;overflow: hidden;text-align: left;background-color: #f0f8ff;}#sk-container-id-21 div.sk-toggleable__content pre {margin: 0.2em;color: black;border-radius: 0.25em;background-color: #f0f8ff;}#sk-container-id-21 input.sk-toggleable__control:checked~div.sk-toggleable__content {max-height: 200px;max-width: 100%;overflow: auto;}#sk-container-id-21 input.sk-toggleable__control:checked~label.sk-toggleable__label-arrow:before {content: \"▾\";}#sk-container-id-21 div.sk-estimator input.sk-toggleable__control:checked~label.sk-toggleable__label {background-color: #d4ebff;}#sk-container-id-21 div.sk-label input.sk-toggleable__control:checked~label.sk-toggleable__label {background-color: #d4ebff;}#sk-container-id-21 input.sk-hidden--visually {border: 0;clip: rect(1px 1px 1px 1px);clip: rect(1px, 1px, 1px, 1px);height: 1px;margin: -1px;overflow: hidden;padding: 0;position: absolute;width: 1px;}#sk-container-id-21 div.sk-estimator {font-family: monospace;background-color: #f0f8ff;border: 1px dotted black;border-radius: 0.25em;box-sizing: border-box;margin-bottom: 0.5em;}#sk-container-id-21 div.sk-estimator:hover {background-color: #d4ebff;}#sk-container-id-21 div.sk-parallel-item::after {content: \"\";width: 100%;border-bottom: 1px solid gray;flex-grow: 1;}#sk-container-id-21 div.sk-label:hover label.sk-toggleable__label {background-color: #d4ebff;}#sk-container-id-21 div.sk-serial::before {content: \"\";position: absolute;border-left: 1px solid gray;box-sizing: border-box;top: 0;bottom: 0;left: 50%;z-index: 0;}#sk-container-id-21 div.sk-serial {display: flex;flex-direction: column;align-items: center;background-color: white;padding-right: 0.2em;padding-left: 0.2em;position: relative;}#sk-container-id-21 div.sk-item {position: relative;z-index: 1;}#sk-container-id-21 div.sk-parallel {display: flex;align-items: stretch;justify-content: center;background-color: white;position: relative;}#sk-container-id-21 div.sk-item::before, #sk-container-id-21 div.sk-parallel-item::before {content: \"\";position: absolute;border-left: 1px solid gray;box-sizing: border-box;top: 0;bottom: 0;left: 50%;z-index: -1;}#sk-container-id-21 div.sk-parallel-item {display: flex;flex-direction: column;z-index: 1;position: relative;background-color: white;}#sk-container-id-21 div.sk-parallel-item:first-child::after {align-self: flex-end;width: 50%;}#sk-container-id-21 div.sk-parallel-item:last-child::after {align-self: flex-start;width: 50%;}#sk-container-id-21 div.sk-parallel-item:only-child::after {width: 0;}#sk-container-id-21 div.sk-dashed-wrapped {border: 1px dashed gray;margin: 0 0.4em 0.5em 0.4em;box-sizing: border-box;padding-bottom: 0.4em;background-color: white;}#sk-container-id-21 div.sk-label label {font-family: monospace;font-weight: bold;display: inline-block;line-height: 1.2em;}#sk-container-id-21 div.sk-label-container {text-align: center;}#sk-container-id-21 div.sk-container {/* jupyter's `normalize.less` sets `[hidden] { display: none; }` but bootstrap.min.css set `[hidden] { display: none !important; }` so we also need the `!important` here to be able to override the default hidden behavior on the sphinx rendered scikit-learn.org. See: https://github.com/scikit-learn/scikit-learn/issues/21755 */display: inline-block !important;position: relative;}#sk-container-id-21 div.sk-text-repr-fallback {display: none;}</style><div id=\"sk-container-id-21\" class=\"sk-top-container\"><div class=\"sk-text-repr-fallback\"><pre>ColumnTransformer(remainder=MinMaxScaler(),\n",
       "                  transformers=[(&#x27;onehotencoder&#x27;, OneHotEncoder(), [&#x27;city&#x27;]),\n",
       "                                (&#x27;countvectorizer&#x27;, CountVectorizer(),\n",
       "                                 &#x27;title&#x27;)])</pre><b>In a Jupyter environment, please rerun this cell to show the HTML representation or trust the notebook. <br />On GitHub, the HTML representation is unable to render, please try loading this page with nbviewer.org.</b></div><div class=\"sk-container\" hidden><div class=\"sk-item sk-dashed-wrapped\"><div class=\"sk-label-container\"><div class=\"sk-label sk-toggleable\"><input class=\"sk-toggleable__control sk-hidden--visually\" id=\"sk-estimator-id-59\" type=\"checkbox\" ><label for=\"sk-estimator-id-59\" class=\"sk-toggleable__label sk-toggleable__label-arrow\">ColumnTransformer</label><div class=\"sk-toggleable__content\"><pre>ColumnTransformer(remainder=MinMaxScaler(),\n",
       "                  transformers=[(&#x27;onehotencoder&#x27;, OneHotEncoder(), [&#x27;city&#x27;]),\n",
       "                                (&#x27;countvectorizer&#x27;, CountVectorizer(),\n",
       "                                 &#x27;title&#x27;)])</pre></div></div></div><div class=\"sk-parallel\"><div class=\"sk-parallel-item\"><div class=\"sk-item\"><div class=\"sk-label-container\"><div class=\"sk-label sk-toggleable\"><input class=\"sk-toggleable__control sk-hidden--visually\" id=\"sk-estimator-id-60\" type=\"checkbox\" ><label for=\"sk-estimator-id-60\" class=\"sk-toggleable__label sk-toggleable__label-arrow\">onehotencoder</label><div class=\"sk-toggleable__content\"><pre>[&#x27;city&#x27;]</pre></div></div></div><div class=\"sk-serial\"><div class=\"sk-item\"><div class=\"sk-estimator sk-toggleable\"><input class=\"sk-toggleable__control sk-hidden--visually\" id=\"sk-estimator-id-61\" type=\"checkbox\" ><label for=\"sk-estimator-id-61\" class=\"sk-toggleable__label sk-toggleable__label-arrow\">OneHotEncoder</label><div class=\"sk-toggleable__content\"><pre>OneHotEncoder()</pre></div></div></div></div></div></div><div class=\"sk-parallel-item\"><div class=\"sk-item\"><div class=\"sk-label-container\"><div class=\"sk-label sk-toggleable\"><input class=\"sk-toggleable__control sk-hidden--visually\" id=\"sk-estimator-id-62\" type=\"checkbox\" ><label for=\"sk-estimator-id-62\" class=\"sk-toggleable__label sk-toggleable__label-arrow\">countvectorizer</label><div class=\"sk-toggleable__content\"><pre>title</pre></div></div></div><div class=\"sk-serial\"><div class=\"sk-item\"><div class=\"sk-estimator sk-toggleable\"><input class=\"sk-toggleable__control sk-hidden--visually\" id=\"sk-estimator-id-63\" type=\"checkbox\" ><label for=\"sk-estimator-id-63\" class=\"sk-toggleable__label sk-toggleable__label-arrow\">CountVectorizer</label><div class=\"sk-toggleable__content\"><pre>CountVectorizer()</pre></div></div></div></div></div></div><div class=\"sk-parallel-item\"><div class=\"sk-item\"><div class=\"sk-label-container\"><div class=\"sk-label sk-toggleable\"><input class=\"sk-toggleable__control sk-hidden--visually\" id=\"sk-estimator-id-64\" type=\"checkbox\" ><label for=\"sk-estimator-id-64\" class=\"sk-toggleable__label sk-toggleable__label-arrow\">remainder</label><div class=\"sk-toggleable__content\"><pre></pre></div></div></div><div class=\"sk-serial\"><div class=\"sk-item\"><div class=\"sk-estimator sk-toggleable\"><input class=\"sk-toggleable__control sk-hidden--visually\" id=\"sk-estimator-id-65\" type=\"checkbox\" ><label for=\"sk-estimator-id-65\" class=\"sk-toggleable__label sk-toggleable__label-arrow\">MinMaxScaler</label><div class=\"sk-toggleable__content\"><pre>MinMaxScaler()</pre></div></div></div></div></div></div></div></div></div></div>"
      ],
      "text/plain": [
       "ColumnTransformer(remainder=MinMaxScaler(),\n",
       "                  transformers=[('onehotencoder', OneHotEncoder(), ['city']),\n",
       "                                ('countvectorizer', CountVectorizer(),\n",
       "                                 'title')])"
      ]
     },
     "execution_count": 44,
     "metadata": {},
     "output_type": "execute_result"
    }
   ],
   "source": [
    "column_trans  "
   ]
  },
  {
   "cell_type": "markdown",
   "id": "06f6e1f7-e213-4fe4-a16c-8e89bf457d03",
   "metadata": {},
   "source": [
    "Puede desactivarse configurando la opción de visualización en set_config como 'text':"
   ]
  },
  {
   "cell_type": "code",
   "execution_count": 45,
   "id": "faeb807e-8630-43a0-b265-759df14023b9",
   "metadata": {},
   "outputs": [
    {
     "data": {
      "text/plain": [
       "ColumnTransformer(remainder=MinMaxScaler(),\n",
       "                  transformers=[('onehotencoder', OneHotEncoder(), ['city']),\n",
       "                                ('countvectorizer', CountVectorizer(),\n",
       "                                 'title')])"
      ]
     },
     "execution_count": 45,
     "metadata": {},
     "output_type": "execute_result"
    }
   ],
   "source": [
    "from sklearn import set_config\n",
    "set_config(display='text')  \n",
    "# displays text representation in a jupyter context\n",
    "column_trans  "
   ]
  },
  {
   "cell_type": "markdown",
   "id": "608b1f1b-f0a4-4096-b47a-989a3539cb90",
   "metadata": {},
   "source": [
    "Un ejemplo de la salida HTML se puede ver en la sección de representación HTML del Pipeline en el Column Transformer con Tipos Mixtos. Como alternativa, el HTML se puede escribir en un archivo utilizando estimator_html_repr:"
   ]
  },
  {
   "cell_type": "code",
   "execution_count": null,
   "id": "5aa9020f-e882-4c9a-a6ac-35efbfaf030a",
   "metadata": {},
   "outputs": [],
   "source": [
    "from sklearn.utils import estimator_html_repr\n",
    "with open('my_estimator.html', 'w') as f:\n",
    "    f.write(estimator_html_repr(clf))"
   ]
  },
  {
   "cell_type": "markdown",
   "id": "04ec9e69-3774-4af8-aa1a-723209bf7b97",
   "metadata": {},
   "source": [
    "**Ejemplos**\n",
    "\n",
    "- [Column Transformer with Heterogeneous Data Sources](https://scikit-learn.org/stable/auto_examples/compose/plot_column_transformer.html#sphx-glr-auto-examples-compose-plot-column-transformer-py)\n",
    "\n",
    "- [Column Transformer with Mixed Types](https://scikit-learn.org/stable/auto_examples/compose/plot_column_transformer_mixed_types.html#sphx-glr-auto-examples-compose-plot-column-transformer-mixed-types-py)"
   ]
  },
  {
   "cell_type": "markdown",
   "id": "10722a49-20ff-4f2c-a3cd-ad2c09026b37",
   "metadata": {},
   "source": [
    "#   <span style=\"color:blue\">Extracción de características</span>"
   ]
  },
  {
   "cell_type": "markdown",
   "id": "8cfb8c98-a560-431c-b19f-489a4a29301d",
   "metadata": {},
   "source": [
    "El módulo [sklearn.feature_extraction](https://scikit-learn.org/stable/modules/classes.html#module-sklearn.feature_extraction) se puede utilizar para extraer características en un formato compatible con algoritmos de aprendizaje automático a partir de conjuntos de datos que consisten en formatos como texto e imágenes.\n",
    "\n",
    "**Nota**\n",
    "\n",
    "La [extracción de características](https://scikit-learn.org/stable/modules/feature_selection.html#feature-selection) es muy diferente de la selección de características: la primera consiste en transformar datos arbitrarios, como texto o imágenes, en características numéricas utilizables para el aprendizaje automático. La última es una técnica de aprendizaje automático aplicada a estas características."
   ]
  },
  {
   "cell_type": "markdown",
   "id": "6a66317e-d656-4613-affc-70a31d1c9d96",
   "metadata": {},
   "source": [
    "##   <span style=\"color:blue\">Carga de características desde diccionarios</span>"
   ]
  },
  {
   "cell_type": "markdown",
   "id": "13925554-3016-4a88-957c-152cef4b498f",
   "metadata": {},
   "source": [
    "La clase [DictVectorizer](https://scikit-learn.org/stable/modules/generated/sklearn.feature_extraction.DictVectorizer.html#sklearn.feature_extraction.DictVectorizer) se puede utilizar para convertir matrices de características representadas como listas de objetos diccionario estándar de Python en la representación de NumPy/SciPy utilizada por los estimadores de scikit-learn.\n",
    "\n",
    "Si bien no es particularmente rápido de procesar, el diccionario de Python tiene la ventaja de ser conveniente de usar, ser disperso (las características ausentes no necesitan almacenarse) y almacenar nombres de características además de valores.\n",
    "\n",
    "DictVectorizer implementa lo que se llama codificación uno-de-K o \"one-hot\" para características categóricas (también conocidas como nominales o discretas). Las características categóricas son pares \"atributo-valor\" donde el valor se restringe a una lista de posibilidades discretas sin orden (por ejemplo, identificadores de temas, tipos de objetos, etiquetas, nombres...).\n",
    "\n",
    "En lo siguiente, \"ciudad\" es un atributo categórico mientras que \"temperatura\" es una característica numérica tradicional:"
   ]
  },
  {
   "cell_type": "code",
   "execution_count": 47,
   "id": "7e88d443-deff-4143-aac3-fba5c3991bbe",
   "metadata": {},
   "outputs": [
    {
     "data": {
      "text/plain": [
       "array([[ 1.,  0.,  0., 33.],\n",
       "       [ 0.,  1.,  0., 12.],\n",
       "       [ 0.,  0.,  1., 18.]])"
      ]
     },
     "execution_count": 47,
     "metadata": {},
     "output_type": "execute_result"
    }
   ],
   "source": [
    "measurements = [\n",
    "    {'city': 'Dubai', 'temperature': 33.},\n",
    "    {'city': 'London', 'temperature': 12.},\n",
    "    {'city': 'San Francisco', 'temperature': 18.},\n",
    "]\n",
    "from sklearn.feature_extraction import DictVectorizer\n",
    "vec = DictVectorizer()\n",
    "\n",
    "vec.fit_transform(measurements).toarray()"
   ]
  },
  {
   "cell_type": "code",
   "execution_count": 48,
   "id": "03ce37aa-e32b-4110-9756-88e8e960beeb",
   "metadata": {},
   "outputs": [
    {
     "data": {
      "text/plain": [
       "array(['city=Dubai', 'city=London', 'city=San Francisco', 'temperature'],\n",
       "      dtype=object)"
      ]
     },
     "execution_count": 48,
     "metadata": {},
     "output_type": "execute_result"
    }
   ],
   "source": [
    "vec.get_feature_names_out()"
   ]
  },
  {
   "cell_type": "markdown",
   "id": "118f0b68-73a7-476f-8de2-baf4ca8367b8",
   "metadata": {},
   "source": [
    "DictVectorizer acepta múltiples valores de cadena para una característica, como, por ejemplo, múltiples categorías para una película.\n",
    "\n",
    "Supongamos que una base de datos clasifica cada película utilizando algunas categorías (no obligatorias) y su año de lanzamiento."
   ]
  },
  {
   "cell_type": "code",
   "execution_count": 49,
   "id": "b79f981b-cad8-4ddf-b49f-834092dba01c",
   "metadata": {},
   "outputs": [
    {
     "data": {
      "text/plain": [
       "array([[0.000e+00, 1.000e+00, 0.000e+00, 1.000e+00, 2.003e+03],\n",
       "       [1.000e+00, 0.000e+00, 1.000e+00, 0.000e+00, 2.011e+03],\n",
       "       [0.000e+00, 0.000e+00, 0.000e+00, 0.000e+00, 1.974e+03]])"
      ]
     },
     "execution_count": 49,
     "metadata": {},
     "output_type": "execute_result"
    }
   ],
   "source": [
    "movie_entry = [{'category': ['thriller', 'drama'], 'year': 2003},\n",
    "               {'category': ['animation', 'family'], 'year': 2011},\n",
    "               {'year': 1974}]\n",
    "vec.fit_transform(movie_entry).toarray()"
   ]
  },
  {
   "cell_type": "code",
   "execution_count": 50,
   "id": "616efbd2-5ce2-4d23-ae36-e4015cb24b3b",
   "metadata": {},
   "outputs": [
    {
     "data": {
      "text/plain": [
       "array(['category=animation', 'category=drama', 'category=family',\n",
       "       'category=thriller', 'year'], dtype=object)"
      ]
     },
     "execution_count": 50,
     "metadata": {},
     "output_type": "execute_result"
    }
   ],
   "source": [
    "vec.get_feature_names_out()"
   ]
  },
  {
   "cell_type": "code",
   "execution_count": 51,
   "id": "e4741a0e-0572-406b-b53f-de70fdb5d823",
   "metadata": {},
   "outputs": [
    {
     "data": {
      "text/plain": [
       "array([[0., 0., 0., 1., 0.]])"
      ]
     },
     "execution_count": 51,
     "metadata": {},
     "output_type": "execute_result"
    }
   ],
   "source": [
    "vec.transform({'category': ['thriller'],\n",
    "               'unseen_feature': '3'}).toarray()"
   ]
  },
  {
   "cell_type": "markdown",
   "id": "0946ba62-b1b6-4ba6-8773-501e13a08804",
   "metadata": {},
   "source": [
    "DictVectorizer también es una transformación de representación útil para entrenar clasificadores de secuencia en modelos de Procesamiento de Lenguaje Natural que suelen trabajar extrayendo ventanas de características alrededor de una palabra de interés en particular.\n",
    "\n",
    "Por ejemplo, supongamos que tenemos un primer algoritmo que extrae etiquetas de Partes de la Oración (PoS) que queremos usar como etiquetas complementarias para entrenar un clasificador de secuencia (por ejemplo, un fragmentador). El siguiente diccionario podría ser una ventana de características como esa extraída alrededor de la palabra 'sat' en la oración 'The cat sat on the mat.':"
   ]
  },
  {
   "cell_type": "code",
   "execution_count": 52,
   "id": "4dfb23fe-96ac-44f6-ab7a-d6288ec9db2b",
   "metadata": {},
   "outputs": [],
   "source": [
    "pos_window = [\n",
    "    {\n",
    "        'word-2': 'the',\n",
    "        'pos-2': 'DT',\n",
    "        'word-1': 'cat',\n",
    "        'pos-1': 'NN',\n",
    "        'word+1': 'on',\n",
    "        'pos+1': 'PP',\n",
    "    },\n",
    "]\n",
    "# in a real application one would extract many such dictionaries"
   ]
  },
  {
   "cell_type": "markdown",
   "id": "379dd495-8773-49f3-9bfc-fea311b88eb8",
   "metadata": {},
   "source": [
    "Esta descripción se puede vectorizar en una matriz bidimensional dispersa adecuada para alimentar a un clasificador (quizás después de pasar por un TfidfTransformer para normalización):"
   ]
  },
  {
   "cell_type": "code",
   "execution_count": 53,
   "id": "d2f6aea3-b0e8-4f5c-9576-305f0f277a00",
   "metadata": {},
   "outputs": [
    {
     "data": {
      "text/plain": [
       "<1x6 sparse matrix of type '<class 'numpy.float64'>'\n",
       "\twith 6 stored elements in Compressed Sparse Row format>"
      ]
     },
     "execution_count": 53,
     "metadata": {},
     "output_type": "execute_result"
    }
   ],
   "source": [
    "vec = DictVectorizer()\n",
    "pos_vectorized = vec.fit_transform(pos_window)\n",
    "pos_vectorized"
   ]
  },
  {
   "cell_type": "code",
   "execution_count": 54,
   "id": "5a0caeaa-d7b1-4c3a-a929-9259a47f7a94",
   "metadata": {},
   "outputs": [
    {
     "data": {
      "text/plain": [
       "array([[1., 1., 1., 1., 1., 1.]])"
      ]
     },
     "execution_count": 54,
     "metadata": {},
     "output_type": "execute_result"
    }
   ],
   "source": [
    "pos_vectorized.toarray()"
   ]
  },
  {
   "cell_type": "code",
   "execution_count": 55,
   "id": "421e644d-48a2-44b3-898d-550cd40c81c1",
   "metadata": {},
   "outputs": [
    {
     "data": {
      "text/plain": [
       "array(['pos+1=PP', 'pos-1=NN', 'pos-2=DT', 'word+1=on', 'word-1=cat',\n",
       "       'word-2=the'], dtype=object)"
      ]
     },
     "execution_count": 55,
     "metadata": {},
     "output_type": "execute_result"
    }
   ],
   "source": [
    "vec.get_feature_names_out()"
   ]
  },
  {
   "cell_type": "markdown",
   "id": "8163a3a6-598e-4142-b16d-7b992e9f1eb1",
   "metadata": {},
   "source": [
    "Como puedes imaginar, si se extrae un contexto similar alrededor de cada palabra individual de un corpus de documentos, la matriz resultante será muy amplia (con muchas características one-hot), y la mayoría de ellas tendrá un valor cero la mayor parte del tiempo. Para que la estructura de datos resultante pueda caber en memoria, la clase DictVectorizer utiliza una matriz scipy.sparse de forma predeterminada en lugar de un numpy.ndarray."
   ]
  },
  {
   "cell_type": "markdown",
   "id": "e064f539-867e-444a-b8c5-907fb7ec0448",
   "metadata": {},
   "source": [
    "##   <span style=\"color:blue\">Hashing de características</span>"
   ]
  },
  {
   "cell_type": "markdown",
   "id": "5adae5d9-cf97-40fe-8120-ef02f1b95dc6",
   "metadata": {},
   "source": [
    "La clase [FeatureHasher](https://scikit-learn.org/stable/modules/generated/sklearn.feature_extraction.FeatureHasher.html#sklearn.feature_extraction.FeatureHasher) es un vectorizador de alta velocidad y bajo consumo de memoria que utiliza una técnica conocida como hashing de características o el \"truco del hashing\". En lugar de construir una tabla hash de las características encontradas en el entrenamiento, como hacen los vectorizadores, las instancias de FeatureHasher aplican una función hash a las características para determinar su índice de columna en las matrices de muestra directamente. El resultado es una mayor velocidad y un menor uso de memoria, a expensas de la inspeccionabilidad; el hasher no recuerda cómo eran las características de entrada y no tiene un método inverse_transform.\n",
    "\n",
    "Dado que la función hash puede causar colisiones entre características (no relacionadas), se utiliza una función hash con signo y el signo del valor hash determina el signo del valor almacenado en la matriz de salida para una característica. De esta manera, es probable que las colisiones se cancelen en lugar de acumular errores, y la media esperada del valor de cualquier característica de salida es cero. Este mecanismo está habilitado de forma predeterminada con alternate_sign=True y es particularmente útil para tamaños de tabla hash pequeños (n_features < 10000). Para tamaños de tabla hash grandes, se puede desactivar para permitir que la salida se pase a estimadores como [MultinomialNB](https://scikit-learn.org/stable/modules/generated/sklearn.naive_bayes.MultinomialNB.html#sklearn.naive_bayes.MultinomialNB) o selectores de características [chi2](https://scikit-learn.org/stable/modules/generated/sklearn.feature_selection.chi2.html#sklearn.feature_selection.chi2) que esperan entradas no negativas.\n",
    "\n",
    "FeatureHasher acepta mapeos (como el diccionario de Python y sus variantes en el módulo collections), pares (característica, valor) o cadenas, dependiendo del parámetro constructor input_type. Los mapeos se tratan como listas de pares (característica, valor), mientras que las cadenas individuales tienen un valor implícito de 1, por lo que ['feat1', 'feat2', 'feat3'] se interpreta como [('feat1', 1), ('feat2', 1), ('feat3', 1)]. Si una característica única ocurre varias veces en una muestra, los valores asociados se sumarán (por lo que ('feat', 2) y ('feat', 3.5) se convierten en ('feat', 5.5)). La salida de FeatureHasher es siempre una matriz dispersa de scipy en el formato CSR.\n",
    "\n",
    "El hashing de características se puede emplear en la clasificación de documentos, pero a diferencia de CountVectorizer, FeatureHasher no realiza la división de palabras ni ningún otro preprocesamiento, excepto la codificación Unicode a UTF-8; consulte [Vectorizar un corpus de texto grande con el truco del hashing](https://scikit-learn.org/stable/modules/feature_extraction.html#hashing-vectorizer) a continuación, para obtener un tokenizador/hasher combinado.\n",
    "\n",
    "Como ejemplo, considere una tarea de procesamiento de lenguaje natural a nivel de palabra que requiere características extraídas de pares (token, parte_del_discurso). Uno podría usar una función generadora de Python para extraer características:"
   ]
  },
  {
   "cell_type": "code",
   "execution_count": 56,
   "id": "cc178b02-963d-400f-909d-36fbbeb0a198",
   "metadata": {},
   "outputs": [],
   "source": [
    "def token_features(token, part_of_speech):\n",
    "    if token.isdigit():\n",
    "        yield \"numeric\"\n",
    "    else:\n",
    "        yield \"token={}\".format(token.lower())\n",
    "        yield \"token,pos={},{}\".format(token, part_of_speech)\n",
    "    if token[0].isupper():\n",
    "        yield \"uppercase_initial\"\n",
    "    if token.isupper():\n",
    "        yield \"all_uppercase\"\n",
    "    yield \"pos={}\".format(part_of_speech)"
   ]
  },
  {
   "cell_type": "markdown",
   "id": "7d1e68b6-e930-4c9e-9185-51f89d8ce851",
   "metadata": {},
   "source": [
    "Luego, el raw_X que se va a alimentar a FeatureHasher.transform se puede construir de la siguiente manera:"
   ]
  },
  {
   "cell_type": "code",
   "execution_count": null,
   "id": "db06e985-602e-4b7e-b300-46ff082874fc",
   "metadata": {},
   "outputs": [],
   "source": [
    "raw_X = (token_features(tok, pos_tagger(tok)) for tok in corpus)"
   ]
  },
  {
   "cell_type": "markdown",
   "id": "29798451-d59e-4e6c-903e-bc2c1c9b1669",
   "metadata": {},
   "source": [
    "y se puede alimentar a un \"hasher\" con:"
   ]
  },
  {
   "cell_type": "code",
   "execution_count": null,
   "id": "89fd7829-839f-43d4-9a6d-8a038abaa44d",
   "metadata": {},
   "outputs": [],
   "source": [
    "hasher = FeatureHasher(input_type='string')\n",
    "X = hasher.transform(raw_X)"
   ]
  },
  {
   "cell_type": "markdown",
   "id": "5e8542f8-5e64-43d8-9039-d85a2c43423e",
   "metadata": {},
   "source": [
    "para obtener una matriz dispersa de scipy.sparse X.\n",
    "\n",
    "Ten en cuenta el uso de una comprensión de generador, que introduce la pereza en la extracción de características: los tokens solo se procesan cuando se solicitan desde el \"hasher\"."
   ]
  },
  {
   "cell_type": "markdown",
   "id": "21f8b1a2-98dc-4372-a1dd-4148785c6536",
   "metadata": {},
   "source": [
    "###   <span style=\"color:blue\">Detalles de implementación</span>"
   ]
  },
  {
   "cell_type": "markdown",
   "id": "ba8b76ef-3c18-4909-b16c-f112cda9ce06",
   "metadata": {},
   "source": [
    "[FeatureHasher](https://scikit-learn.org/stable/modules/generated/sklearn.feature_extraction.FeatureHasher.html#sklearn.feature_extraction.FeatureHasher) utiliza la variante con signo de 32 bits de MurmurHash3. Como resultado (y debido a limitaciones en scipy.sparse), el número máximo de características admitidas actualmente es $2^{31} - 1$"
   ]
  },
  {
   "cell_type": "markdown",
   "id": "d8063ae1-0a6e-4c36-b93d-9ea4c1402d71",
   "metadata": {},
   "source": [
    "La formulación original del truco de hash por Weinberger et al. utilizó dos funciones de hash separadas $h$ y $\\xi$ para determinar el índice de columna y el signo de una característica, respectivamente. La implementación actual trabaja bajo la suposición de que el bit de signo de MurmurHash3 es independiente de sus otros bits.\n",
    "\n",
    "Dado que se utiliza un simple módulo para transformar la función de hash en un índice de columna, es recomendable utilizar una potencia de dos como parámetro \"n_features\"; de lo contrario, las características no se asignarán uniformemente a las columnas."
   ]
  },
  {
   "cell_type": "markdown",
   "id": "3ef83d7e-42e7-4924-9712-c4ca0cf02bfd",
   "metadata": {},
   "source": [
    "**Referencias**:\n",
    "\n",
    "- Kilian Weinberger, Anirban Dasgupta, John Langford, Alex Smola y Josh Attenberg (2009). [Hashing de características para el aprendizaje multitarea a gran escala](https://alex.smola.org/papers/2009/Weinbergeretal09.pdf). Proc. ICML.\n",
    "\n",
    "- [MurmurHash3](https://github.com/aappleby/smhasher)."
   ]
  },
  {
   "cell_type": "markdown",
   "id": "e19e1e4e-b6ff-4c52-b661-53e77c41cdfe",
   "metadata": {},
   "source": [
    "##   <span style=\"color:blue\">Extracción de características de texto</span>"
   ]
  },
  {
   "cell_type": "markdown",
   "id": "3ac13de3-4e3f-41c5-a0b7-7e336004a0aa",
   "metadata": {},
   "source": [
    "###   <span style=\"color:blue\">La representación de \"Bolsa de Palabras</span>"
   ]
  },
  {
   "cell_type": "markdown",
   "id": "03634fde-a3f3-4511-bac8-88a037160efd",
   "metadata": {},
   "source": [
    "El análisis de texto es un campo de aplicación importante para los algoritmos de aprendizaje automático. Sin embargo, los datos en bruto, una secuencia de símbolos, no se pueden alimentar directamente a los algoritmos en sí, ya que la mayoría de ellos esperan vectores de características numéricas con un tamaño fijo en lugar de documentos de texto en bruto con longitud variable.\n",
    "\n",
    "Para abordar esto, scikit-learn proporciona utilidades para las formas más comunes de extraer características numéricas a partir del contenido de texto, a saber:"
   ]
  },
  {
   "cell_type": "markdown",
   "id": "563f6b1a-180d-4b8a-bbf4-75f332c7153e",
   "metadata": {},
   "source": [
    "- Tokenizar cadenas y asignar un identificador entero a cada posible token, por ejemplo, mediante el uso de espacios en blanco y signos de puntuación como separadores de tokens.\n",
    "\n",
    "- Contar las apariciones de tokens en cada documento.\n",
    "\n",
    "- Normalizar y ponderar tokens con importancia decreciente que ocurren en la mayoría de las muestras/documentos.\n",
    "\n",
    "En este esquema, las características y las muestras se definen de la siguiente manera:\n",
    "\n",
    "- La frecuencia de aparición de cada token individual (normalizada o no) se trata como una característica.\n",
    "\n",
    "- El vector de todas las frecuencias de tokens para un documento dado se considera una muestra multivariada.\n",
    "\n",
    "Por lo tanto, un corpus de documentos puede representarse mediante una matriz con una fila por documento y una columna por token (por ejemplo, palabra) que ocurre en el corpus.\n",
    "\n",
    "Llamamos vectorización al proceso general de convertir una colección de documentos de texto en vectores de características numéricas. Esta estrategia específica (tokenización, conteo y normalización) se llama representación \"Bolsa de Palabras\" o \"Bolsa de n-gramas\". Los documentos se describen mediante la frecuencia de aparición de palabras, sin tener en cuenta por completo la información sobre la posición relativa de las palabras en el documento."
   ]
  },
  {
   "cell_type": "markdown",
   "id": "8b1a5c27-33fb-41c3-8e07-6395f19e43b6",
   "metadata": {},
   "source": [
    "###   <span style=\"color:blue\">Esparcidez</span>"
   ]
  },
  {
   "cell_type": "markdown",
   "id": "9ce4ebe1-efe9-486a-a8af-9efd1b5d7b14",
   "metadata": {},
   "source": [
    "Dado que la mayoría de los documentos generalmente utilizan un subconjunto muy pequeño de las palabras utilizadas en el corpus, la matriz resultante tendrá muchos valores de características que son ceros (generalmente más del 99% de ellos).\n",
    "\n",
    "Por ejemplo, una colección de 10,000 documentos de texto cortos (como correos electrónicos) utilizará un vocabulario con un tamaño del orden de 100,000 palabras únicas en total, mientras que cada documento utilizará de 100 a 1000 palabras únicas individualmente.\n",
    "\n",
    "Para poder almacenar una matriz de este tipo en la memoria y acelerar las operaciones algebraicas de matriz/vector, las implementaciones suelen utilizar una representación dispersa, como las implementaciones disponibles en el paquete scipy.sparse."
   ]
  },
  {
   "cell_type": "markdown",
   "id": "f3ea3e52-8562-43a8-8f3c-95cf3738742a",
   "metadata": {},
   "source": [
    "###   <span style=\"color:blue\">Uso común del Vectorizador</span>"
   ]
  },
  {
   "cell_type": "markdown",
   "id": "ea86d105-39d8-4769-b1e6-d11dee133be1",
   "metadata": {},
   "source": [
    "[CountVectorizer](https://scikit-learn.org/stable/modules/generated/sklearn.feature_extraction.text.CountVectorizer.html#sklearn.feature_extraction.text.CountVectorizer) implementa tanto la tokenización como el conteo de ocurrencias en una sola clase:"
   ]
  },
  {
   "cell_type": "code",
   "execution_count": 58,
   "id": "d30d91be-eb2a-4364-a0f5-c92703f46d22",
   "metadata": {},
   "outputs": [],
   "source": [
    "from sklearn.feature_extraction.text import CountVectorizer"
   ]
  },
  {
   "cell_type": "markdown",
   "id": "6fbccda0-a129-4a44-ac98-f6a10f9b596a",
   "metadata": {},
   "source": [
    "Este modelo tiene muchos parámetros, sin embargo, los valores predeterminados son bastante razonables (consulte la documentación de referencia para obtener más detalles):"
   ]
  },
  {
   "cell_type": "code",
   "execution_count": 59,
   "id": "1c8b0a4c-9c17-41d2-b656-0953eac2820d",
   "metadata": {},
   "outputs": [
    {
     "data": {
      "text/plain": [
       "CountVectorizer()"
      ]
     },
     "execution_count": 59,
     "metadata": {},
     "output_type": "execute_result"
    }
   ],
   "source": [
    "vectorizer = CountVectorizer()\n",
    "vectorizer"
   ]
  },
  {
   "cell_type": "markdown",
   "id": "1a30b58c-b4a5-4e6f-9da0-19f5b121a3c0",
   "metadata": {},
   "source": [
    "Vamos a usarlo para tokenizar y contar las ocurrencias de palabras en un corpus minimalista de documentos de texto:"
   ]
  },
  {
   "cell_type": "code",
   "execution_count": 61,
   "id": "9a76d8c8-0ca1-4e1a-baa5-db127a27e3ae",
   "metadata": {},
   "outputs": [
    {
     "data": {
      "text/plain": [
       "<4x9 sparse matrix of type '<class 'numpy.int64'>'\n",
       "\twith 19 stored elements in Compressed Sparse Row format>"
      ]
     },
     "execution_count": 61,
     "metadata": {},
     "output_type": "execute_result"
    }
   ],
   "source": [
    "corpus = [\n",
    "    'This is the first document.',\n",
    "    'This is the second second document.',\n",
    "    'And the third one.',\n",
    "    'Is this the first document?',\n",
    "]\n",
    "X = vectorizer.fit_transform(corpus)\n",
    "X"
   ]
  },
  {
   "cell_type": "markdown",
   "id": "b01da4c3-f524-4c24-a6bc-1dec740edc42",
   "metadata": {},
   "source": [
    "La configuración predeterminada tokeniza la cadena extrayendo palabras de al menos 2 letras. La función específica que realiza este paso se puede solicitar explícitamente:"
   ]
  },
  {
   "cell_type": "code",
   "execution_count": 63,
   "id": "e9d1329a-f9c2-4a65-a141-d2769c8e2d11",
   "metadata": {},
   "outputs": [
    {
     "data": {
      "text/plain": [
       "True"
      ]
     },
     "execution_count": 63,
     "metadata": {},
     "output_type": "execute_result"
    }
   ],
   "source": [
    "analyze = vectorizer.build_analyzer()\n",
    "analyze(\"This is a text document to analyze.\") == (\n",
    "    ['this', 'is', 'text', 'document', 'to', 'analyze'])"
   ]
  },
  {
   "cell_type": "markdown",
   "id": "78046206-9c64-4c61-b098-3d90ce785cf2",
   "metadata": {},
   "source": [
    "Cada término encontrado por el analizador durante el ajuste recibe un índice entero único que corresponde a una columna en la matriz resultante. Esta interpretación de las columnas se puede recuperar de la siguiente manera:"
   ]
  },
  {
   "cell_type": "code",
   "execution_count": 64,
   "id": "8c6615b3-4030-4d59-bb4e-c5b745f2d305",
   "metadata": {},
   "outputs": [
    {
     "data": {
      "text/plain": [
       "array(['and', 'document', 'first', 'is', 'one', 'second', 'the', 'third',\n",
       "       'this'], dtype=object)"
      ]
     },
     "execution_count": 64,
     "metadata": {},
     "output_type": "execute_result"
    }
   ],
   "source": [
    "vectorizer.get_feature_names_out()"
   ]
  },
  {
   "cell_type": "code",
   "execution_count": 65,
   "id": "98339843-e62b-409d-b937-855a6deff413",
   "metadata": {},
   "outputs": [
    {
     "data": {
      "text/plain": [
       "array([[0, 1, 1, 1, 0, 0, 1, 0, 1],\n",
       "       [0, 1, 0, 1, 0, 2, 1, 0, 1],\n",
       "       [1, 0, 0, 0, 1, 0, 1, 1, 0],\n",
       "       [0, 1, 1, 1, 0, 0, 1, 0, 1]], dtype=int64)"
      ]
     },
     "execution_count": 65,
     "metadata": {},
     "output_type": "execute_result"
    }
   ],
   "source": [
    "X.toarray()"
   ]
  },
  {
   "cell_type": "markdown",
   "id": "1dce95b8-9e26-4b77-b1f4-6ea96ed3ba82",
   "metadata": {},
   "source": [
    "El mapeo inverso del nombre de la característica al índice de la columna se almacena en el atributo vocabulary_ del vectorizador:"
   ]
  },
  {
   "cell_type": "code",
   "execution_count": 66,
   "id": "5c25aaff-a30e-49e5-a933-cf75d9d8afa6",
   "metadata": {},
   "outputs": [
    {
     "data": {
      "text/plain": [
       "1"
      ]
     },
     "execution_count": 66,
     "metadata": {},
     "output_type": "execute_result"
    }
   ],
   "source": [
    "vectorizer.vocabulary_.get('document')"
   ]
  },
  {
   "cell_type": "markdown",
   "id": "51d84c08-fc9e-4138-a60c-897c90031a65",
   "metadata": {},
   "source": [
    "Por lo tanto, las palabras que no se vieron en el corpus de entrenamiento se ignorarán por completo en futuras llamadas al método de transformación:"
   ]
  },
  {
   "cell_type": "code",
   "execution_count": 67,
   "id": "dbfb9a1f-1b01-48e2-ae99-006a413144d6",
   "metadata": {},
   "outputs": [
    {
     "data": {
      "text/plain": [
       "array([[0, 0, 0, 0, 0, 0, 0, 0, 0]], dtype=int64)"
      ]
     },
     "execution_count": 67,
     "metadata": {},
     "output_type": "execute_result"
    }
   ],
   "source": [
    "vectorizer.transform(['Something completely new.']).toarray()"
   ]
  },
  {
   "cell_type": "markdown",
   "id": "8d0fd9d4-55f8-488a-b0f2-1e559c557c29",
   "metadata": {},
   "source": [
    "Nota que en el corpus anterior, el primer y último documentos tienen exactamente las mismas palabras, por lo que están codificados en vectores iguales. En particular, perdemos la información de que el último documento es una forma interrogativa. Para preservar parte de la información de orden local, podemos extraer bigramas de palabras además de unigramas (palabras individuales):"
   ]
  },
  {
   "cell_type": "code",
   "execution_count": 68,
   "id": "acaa7c62-013d-4223-b731-d82f67296f89",
   "metadata": {},
   "outputs": [
    {
     "data": {
      "text/plain": [
       "True"
      ]
     },
     "execution_count": 68,
     "metadata": {},
     "output_type": "execute_result"
    }
   ],
   "source": [
    "bigram_vectorizer = CountVectorizer(ngram_range=(1, 2),\n",
    "                                    token_pattern=r'\\b\\w+\\b', min_df=1)\n",
    "analyze = bigram_vectorizer.build_analyzer()\n",
    "analyze('Bi-grams are cool!') == (\n",
    "    ['bi', 'grams', 'are', 'cool', 'bi grams', 'grams are', 'are cool'])"
   ]
  },
  {
   "cell_type": "markdown",
   "id": "8231241c-f2eb-40dc-9be2-31d7929ac998",
   "metadata": {},
   "source": [
    "El vocabulario extraído por este vectorizador es mucho más grande y ahora puede resolver ambigüedades codificadas en patrones de posicionamiento local:"
   ]
  },
  {
   "cell_type": "code",
   "execution_count": 69,
   "id": "e1e27063-9d91-4bea-904a-7bc1e6881246",
   "metadata": {},
   "outputs": [
    {
     "data": {
      "text/plain": [
       "array([[0, 0, 1, 1, 1, 1, 1, 0, 0, 0, 0, 0, 1, 1, 0, 0, 0, 0, 1, 1, 0],\n",
       "       [0, 0, 1, 0, 0, 1, 1, 0, 0, 2, 1, 1, 1, 0, 1, 0, 0, 0, 1, 1, 0],\n",
       "       [1, 1, 0, 0, 0, 0, 0, 0, 1, 0, 0, 0, 1, 0, 0, 1, 1, 1, 0, 0, 0],\n",
       "       [0, 0, 1, 1, 1, 1, 0, 1, 0, 0, 0, 0, 1, 1, 0, 0, 0, 0, 1, 0, 1]],\n",
       "      dtype=int64)"
      ]
     },
     "execution_count": 69,
     "metadata": {},
     "output_type": "execute_result"
    }
   ],
   "source": [
    "X_2 = bigram_vectorizer.fit_transform(corpus).toarray()\n",
    "X_2"
   ]
  },
  {
   "cell_type": "markdown",
   "id": "7a08a396-eaca-4e10-988e-9be7b2b95de6",
   "metadata": {},
   "source": [
    "En particular, la forma interrogativa \"¿Es este?\" solo está presente en el último documento:"
   ]
  },
  {
   "cell_type": "code",
   "execution_count": 70,
   "id": "bfb317bc-27e2-4364-b2c0-fb423718b621",
   "metadata": {},
   "outputs": [
    {
     "data": {
      "text/plain": [
       "array([0, 0, 0, 1], dtype=int64)"
      ]
     },
     "execution_count": 70,
     "metadata": {},
     "output_type": "execute_result"
    }
   ],
   "source": [
    "feature_index = bigram_vectorizer.vocabulary_.get('is this')\n",
    "X_2[:, feature_index]"
   ]
  },
  {
   "cell_type": "markdown",
   "id": "854edec9-7bdd-46b7-aaf3-652706fed770",
   "metadata": {},
   "source": [
    "###   <span style=\"color:blue\">Usar palabras de parada</span>"
   ]
  },
  {
   "cell_type": "markdown",
   "id": "65c86377-dfc5-46bf-ae1f-2997d1161c8f",
   "metadata": {},
   "source": [
    "Las palabras de parada son palabras como \"y\", \"el\", \"él\", que se presumen no informativas en la representación del contenido de un texto y que pueden eliminarse para evitar que se interpreten como señales para la predicción. Sin embargo, a veces, palabras similares son útiles para la predicción, como en la clasificación del estilo de escritura o la personalidad.\n",
    "\n",
    "Existen varios problemas conocidos en nuestra lista de palabras de parada en inglés proporcionada. No tiene como objetivo ser una solución general para todos los casos, ya que algunas tareas pueden requerir una solución más personalizada. Consulta [NQY18] para obtener más detalles.\n",
    "\n",
    "Por favor, ten cuidado al elegir una lista de palabras de parada. Las listas de palabras de parada populares pueden incluir palabras que son altamente informativas para algunas tareas, como la informática.\n",
    "\n",
    "También debes asegurarte de que la lista de palabras de parada haya tenido el mismo preprocesamiento y tokenización aplicados que el utilizado en el vectorizador. La palabra \"we've\" se divide en \"we\" y \"ve\" por el tokenizador predeterminado de CountVectorizer, por lo que si \"we've\" está en stop_words pero \"ve\" no lo está, \"ve\" se mantendrá en \"we've\" en el texto transformado. Nuestros vectorizadores intentarán identificar y advertir sobre algunos tipos de inconsistencias."
   ]
  },
  {
   "cell_type": "markdown",
   "id": "0330cd2f-0558-4653-98bc-e82922d608cc",
   "metadata": {},
   "source": [
    "**Referencias**\n",
    "\n",
    "J. Nothman, H. Qin and R. Yurchak (2018). [“Stop Word Lists in Free Open-source Software Packages”](https://aclweb.org/anthology/W18-2502). In Proc. Workshop for NLP Open Source Software."
   ]
  },
  {
   "cell_type": "markdown",
   "id": "b85f0adc-4234-4ae1-ae96-79c1f47598f1",
   "metadata": {},
   "source": [
    "###   <span style=\"color:blue\">Peso de términos Tf-idf</span>"
   ]
  },
  {
   "cell_type": "markdown",
   "id": "c0476f2a-c601-4aa0-a3eb-f0d97cd410a3",
   "metadata": {},
   "source": [
    "En un gran corpus de texto, algunas palabras estarán muy presentes (por ejemplo, \"the\", \"a\", \"is\" en inglés), por lo que llevarán muy poca información significativa sobre el contenido real del documento. Si alimentáramos directamente los datos de recuento a un clasificador, esas palabras muy frecuentes eclipsarían las frecuencias de términos más raros pero más interesantes.\n",
    "\n",
    "Para volver a ponderar las características de recuento en valores de punto flotante adecuados para su uso por parte de un clasificador, es muy común utilizar la transformación tf-idf.\n",
    "\n",
    "Tf significa frecuencia de término, mientras que tf-idf significa frecuencia de término multiplicada por la frecuencia inversa de documento $\\text{tf-idf(t,d)}=\\text{tf(t,d)} \\times \\text{idf(t)}$:\n",
    "\n",
    "Usando la configuración predeterminada de TfidfTransformer, TfidfTransformer(norm='l2', use_idf=True, smooth_idf=True, sublinear_tf=False), la frecuencia de término, es decir, el número de veces que un término aparece en un documento dado, se multiplica por el componente idf, que se calcula como\n",
    "\n",
    "$$\n",
    "\\text{idf}(t) = \\log{\\frac{1 + n}{1+\\text{df}(t)}} + 1\n",
    "$$\n",
    "\n",
    "donde $n$ es el número total de documentos en el conjunto de documentos, y $df(t)$ es el número de documentos en el conjunto de documentos que contienen el término\n",
    "\n",
    "$$\n",
    "v_{norm} = \\frac{v}{||v||_2} = \\frac{v}{\\sqrt{v{_1}^2 +\n",
    "v{_2}^2 + \\dots + v{_n}^2}}\n",
    "$$\n",
    "\n",
    "Originalmente, este era un esquema de ponderación de términos desarrollado para la recuperación de información (como una función de clasificación para los resultados de motores de búsqueda) que también se ha utilizado con éxito en la clasificación y agrupación de documentos.\n",
    "\n",
    "Las siguientes secciones contienen explicaciones adicionales y ejemplos que ilustran cómo se calculan exactamente los tf-idf y cómo difieren ligeramente los tf-idf calculados en [TfidfTransformer](https://scikit-learn.org/stable/modules/generated/sklearn.feature_extraction.text.TfidfTransformer.html#sklearn.feature_extraction.text.TfidfTransformer) y [TfidfVectorizer](https://scikit-learn.org/stable/modules/generated/sklearn.feature_extraction.text.TfidfVectorizer.html#sklearn.feature_extraction.text.TfidfVectorizer) de scikit-learn de la notación estándar de libros de texto que define el idf como:\n",
    "\n",
    "$$\n",
    "\\text{idf}(t) = \\log{\\frac{n}{1+\\text{df}(t)}}.\n",
    "$$\n",
    "\n",
    "En TfidfTransformer y TfidfVectorizer con smooth_idf=False, se agrega el conteo \"1\" al idf en lugar del denominador del idf:\n",
    "\n",
    "$$\n",
    "\\text{idf}(t) = \\log{\\frac{n}{\\text{df}(t)}} + 1\n",
    "$$\n",
    "\n",
    "Esta normalización se implementa mediante la clase TfidfTransformer:"
   ]
  },
  {
   "cell_type": "code",
   "execution_count": 71,
   "id": "b2393487-ba56-4338-9dbe-e0d6c51750e7",
   "metadata": {},
   "outputs": [
    {
     "data": {
      "text/plain": [
       "TfidfTransformer(smooth_idf=False)"
      ]
     },
     "execution_count": 71,
     "metadata": {},
     "output_type": "execute_result"
    }
   ],
   "source": [
    "from sklearn.feature_extraction.text import TfidfTransformer\n",
    "transformer = TfidfTransformer(smooth_idf=False)\n",
    "transformer"
   ]
  },
  {
   "cell_type": "markdown",
   "id": "06c0c3c6-1b58-4436-b081-f5cab03c3d95",
   "metadata": {},
   "source": [
    "Nuevamente, consulta la documentación de referencia para obtener detalles sobre todos los parámetros.\n",
    "\n",
    "Tomemos un ejemplo con las siguientes cuentas. El primer término está presente el 100% del tiempo, por lo tanto, no es muy interesante. Las otras dos características solo están presentes en menos del 50% del tiempo, por lo tanto, probablemente sean más representativas del contenido de los documentos:"
   ]
  },
  {
   "cell_type": "code",
   "execution_count": 72,
   "id": "f6ffeec7-8054-430e-b826-75541c34a697",
   "metadata": {},
   "outputs": [
    {
     "data": {
      "text/plain": [
       "<6x3 sparse matrix of type '<class 'numpy.float64'>'\n",
       "\twith 9 stored elements in Compressed Sparse Row format>"
      ]
     },
     "execution_count": 72,
     "metadata": {},
     "output_type": "execute_result"
    }
   ],
   "source": [
    "counts = [[3, 0, 1],\n",
    "          [2, 0, 0],\n",
    "          [3, 0, 0],\n",
    "          [4, 0, 0],\n",
    "          [3, 2, 0],\n",
    "          [3, 0, 2]]\n",
    "\n",
    "tfidf = transformer.fit_transform(counts)\n",
    "tfidf"
   ]
  },
  {
   "cell_type": "code",
   "execution_count": 73,
   "id": "16491b30-075b-4053-aa1a-1f19afe1ca29",
   "metadata": {},
   "outputs": [
    {
     "data": {
      "text/plain": [
       "array([[0.81940995, 0.        , 0.57320793],\n",
       "       [1.        , 0.        , 0.        ],\n",
       "       [1.        , 0.        , 0.        ],\n",
       "       [1.        , 0.        , 0.        ],\n",
       "       [0.47330339, 0.88089948, 0.        ],\n",
       "       [0.58149261, 0.        , 0.81355169]])"
      ]
     },
     "execution_count": 73,
     "metadata": {},
     "output_type": "execute_result"
    }
   ],
   "source": [
    "tfidf.toarray()"
   ]
  },
  {
   "cell_type": "markdown",
   "id": "d240e87d-71e3-4fbc-a505-0e8024549e2c",
   "metadata": {},
   "source": [
    "Cada fila se normaliza para tener una norma euclidiana unitaria:\n",
    "\n",
    "$$\n",
    "v_{norm} = \\frac{v}{||v||_2} = \\frac{v}{\\sqrt{v{_1}^2 +\n",
    "v{_2}^2 + \\dots + v{_n}^2}}\n",
    "$$\n",
    "\n",
    "Por ejemplo, podemos calcular el tf-idf del primer término en el primer documento en la matriz de conteo de la siguiente manera:\n",
    "\n",
    "$$\n",
    "n = 6\n",
    "$$\n",
    "\n",
    "$$\n",
    "\\text{df}(t)_{\\text{term1}} = 6\n",
    "$$\n",
    "\n",
    "$$\n",
    "\\text{idf}(t)_{\\text{term1}} =\n",
    "\\log \\frac{n}{\\text{df}(t)} + 1 = \\log(1)+1 = 1\n",
    "$$\n",
    "\n",
    "$$\n",
    "\\text{tf-idf}_{\\text{term1}} = \\text{tf} \\times \\text{idf} = 3 \\times 1 = 3\n",
    "$$\n",
    "\n",
    "Ahora, si repetimos este cálculo para los 2 términos restantes en el documento, obtenemos\n",
    "\n",
    "$$\n",
    "\\text{tf-idf}_{\\text{term2}} = 0 \\times (\\log(6/1)+1) = 0\n",
    "$$\n",
    "\n",
    "$$\n",
    "\\text{tf-idf}_{\\text{term3}} = 1 \\times (\\log(6/2)+1) \\approx 2.0986\n",
    "$$\n",
    "\n",
    "y el vector de tf-idf sin procesar:\n",
    "\n",
    "$$\n",
    "\\text{tf-idf}_{\\text{raw}} = [3, 0, 2.0986].\n",
    "$$\n",
    "\n",
    "Luego, aplicando la norma euclidiana (L2), obtenemos los siguientes tf-idf para el documento 1:\n",
    "\n",
    "$$\n",
    "\\frac{[3, 0, 2.0986]}{\\sqrt{\\big(3^2 + 0^2 + 2.0986^2\\big)}}\n",
    "= [ 0.819,  0,  0.573].\n",
    "$$\n",
    "\n",
    "Además, el parámetro predeterminado smooth_idf=True agrega \"1\" al numerador y al denominador como si se hubiera visto un documento adicional que contiene cada término en la colección exactamente una vez, lo que evita divisiones por cero:\n",
    "\n",
    "$$\n",
    "\\text{idf}(t) = \\log{\\frac{1 + n}{1+\\text{df}(t)}} + 1\n",
    "$$\n",
    "\n",
    "Usando esta modificación, el tf-idf del tercer término en el documento 1 cambia a 1.8473:\n",
    "\n",
    "$$\n",
    "\\text{tf-idf}_{\\text{term3}} = 1 \\times \\log(7/3)+1 \\approx 1.8473\n",
    "$$\n",
    "\n",
    "Y el tf-idf normalizado con L2 cambia a\n",
    "\n",
    "$$\n",
    "\\frac{[3, 0, 1.8473]}{\\sqrt{\\big(3^2 + 0^2 + 1.8473^2\\big)}}\n",
    "= [0.8515, 0, 0.5243]\n",
    "$$"
   ]
  },
  {
   "cell_type": "code",
   "execution_count": 74,
   "id": "b5fbdc50-8bfe-4d87-8420-e49c62f6ccd9",
   "metadata": {},
   "outputs": [
    {
     "data": {
      "text/plain": [
       "array([[0.85151335, 0.        , 0.52433293],\n",
       "       [1.        , 0.        , 0.        ],\n",
       "       [1.        , 0.        , 0.        ],\n",
       "       [1.        , 0.        , 0.        ],\n",
       "       [0.55422893, 0.83236428, 0.        ],\n",
       "       [0.63035731, 0.        , 0.77630514]])"
      ]
     },
     "execution_count": 74,
     "metadata": {},
     "output_type": "execute_result"
    }
   ],
   "source": [
    "transformer = TfidfTransformer()\n",
    "transformer.fit_transform(counts).toarray()"
   ]
  },
  {
   "cell_type": "markdown",
   "id": "b179f361-787d-4604-8b29-ff23fb012a3c",
   "metadata": {},
   "source": [
    "Los pesos de cada característica calculados por la llamada al método \"fit\" se almacenan en un atributo del modelo:"
   ]
  },
  {
   "cell_type": "code",
   "execution_count": 75,
   "id": "6c3247d7-95a0-401a-abaa-0701ebe25eb1",
   "metadata": {},
   "outputs": [
    {
     "data": {
      "text/plain": [
       "array([1.        , 2.25276297, 1.84729786])"
      ]
     },
     "execution_count": 75,
     "metadata": {},
     "output_type": "execute_result"
    }
   ],
   "source": [
    "transformer.idf_"
   ]
  },
  {
   "cell_type": "markdown",
   "id": "12c5f381-48c5-4e94-ad94-2b948f82ebb7",
   "metadata": {},
   "source": [
    "Dado que tf-idf se utiliza con mucha frecuencia para características de texto, también existe otra clase llamada TfidfVectorizer que combina todas las opciones de CountVectorizer y TfidfTransformer en un solo modelo."
   ]
  },
  {
   "cell_type": "code",
   "execution_count": 76,
   "id": "f7f830d4-d090-465e-9637-eb9ad0d7e13d",
   "metadata": {},
   "outputs": [
    {
     "data": {
      "text/plain": [
       "<4x9 sparse matrix of type '<class 'numpy.float64'>'\n",
       "\twith 19 stored elements in Compressed Sparse Row format>"
      ]
     },
     "execution_count": 76,
     "metadata": {},
     "output_type": "execute_result"
    }
   ],
   "source": [
    "from sklearn.feature_extraction.text import TfidfVectorizer\n",
    "vectorizer = TfidfVectorizer()\n",
    "vectorizer.fit_transform(corpus)"
   ]
  },
  {
   "cell_type": "markdown",
   "id": "1b98509c-c60b-4576-824d-e60b210c14b3",
   "metadata": {},
   "source": [
    "Si bien la normalización tf-idf suele ser muy útil, puede haber casos en los que los marcadores de ocurrencia binaria puedan ofrecer características mejores. Esto se puede lograr utilizando el parámetro binario de [CountVectorizer](https://scikit-learn.org/stable/modules/generated/sklearn.feature_extraction.text.CountVectorizer.html#sklearn.feature_extraction.text.CountVectorizer). En particular, algunos estimadores, como el [Bernoulli Naive Bayes](https://scikit-learn.org/stable/modules/naive_bayes.html#bernoulli-naive-bayes), modelan explícitamente variables booleanas discretas. Además, es probable que los textos muy cortos tengan valores tf-idf ruidosos, mientras que la información de ocurrencia binaria es más estable.\n",
    "\n",
    "Como es habitual, la mejor manera de ajustar los parámetros de extracción de características es utilizar una búsqueda en cuadrícula con validación cruzada, por ejemplo, encadenando el extractor de características con un clasificador en el pipeline:\n",
    "\n",
    "- [Sample pipeline for text feature extraction and evaluation](https://scikit-learn.org/stable/auto_examples/model_selection/plot_grid_search_text_feature_extraction.html#sphx-glr-auto-examples-model-selection-plot-grid-search-text-feature-extraction-py)"
   ]
  },
  {
   "cell_type": "markdown",
   "id": "92082f72-94a3-45b8-a67e-9629d6e0560d",
   "metadata": {},
   "source": [
    "###   <span style=\"color:blue\">Descodificación de archivos de texto</span>"
   ]
  },
  {
   "cell_type": "markdown",
   "id": "194ac079-6799-4463-ba46-015dc8bbc792",
   "metadata": {},
   "source": [
    "El texto está compuesto por caracteres, pero los archivos están hechos de bytes. Estos bytes representan caracteres según algún tipo de codificación. Para trabajar con archivos de texto en Python, sus bytes deben descodificarse a un conjunto de caracteres llamado Unicode. Las codificaciones comunes son ASCII, Latin-1 (Europa Occidental), KOI8-R (Ruso) y las codificaciones universales UTF-8 y UTF-16. Existen muchas otras.\n",
    "\n",
    "**Nota**\n",
    "\n",
    "Una codificación también puede llamarse 'conjunto de caracteres', pero este término es menos preciso: puede haber varias codificaciones para un solo conjunto de caracteres.\n",
    "\n",
    "Los extractores de características de texto en scikit-learn saben cómo descodificar archivos de texto, pero solo si les dices en qué codificación están los archivos. CountVectorizer toma un parámetro de codificación para este propósito. Para archivos de texto modernos, la codificación correcta probablemente sea UTF-8, por lo que es la opción predeterminada (encoding=\"utf-8\").\n",
    "\n",
    "Sin embargo, si el texto que estás cargando no está codificado con UTF-8, obtendrás un UnicodeDecodeError. Puedes indicar a los vectorizadores que ignoren los errores de descodificación configurando el parámetro decode_error en \"ignore\" o \"replace\". Consulta la documentación de la función bytes.decode de Python para obtener más detalles (escribe help(bytes.decode) en el indicador de Python).\n",
    "\n",
    "Si tienes problemas para descodificar texto, aquí tienes algunas cosas que puedes intentar:\n",
    "\n",
    "- Descubre cuál es la codificación real del texto. El archivo puede venir con un encabezado o un archivo README que te indique la codificación, o puede haber una codificación estándar que puedas asumir según de dónde provenga el texto.\n",
    "\n",
    "- Es posible que puedas averiguar qué tipo de codificación es en general utilizando el comando UNIX file. El módulo chardet de Python viene con un script llamado chardetect.py que adivinará la codificación específica, aunque no puedes confiar en que su adivinanza sea correcta.\n",
    "\n",
    "- Puedes intentar usar UTF-8 y pasar por alto los errores. Puedes descodificar cadenas de bytes con bytes.decode(errors='replace') para reemplazar todos los errores de descodificación con un carácter sin sentido, o configurar decode_error='replace' en el vectorizador. Esto puede dañar la utilidad de tus características.\n",
    "\n",
    "- El texto real puede provenir de una variedad de fuentes que pueden haber utilizado diferentes codificaciones, o incluso haber sido descodificado de manera descuidada en una codificación diferente a la que fue codificado originalmente. Esto es común en el texto recuperado de la web. El paquete de Python llamado ftfy puede resolver automáticamente algunas clases de errores de descodificación, por lo que podrías intentar descodificar el texto desconocido como latin-1 y luego usar ftfy para corregir los errores.\n",
    "\n",
    "- Si el texto está en una mezcla de codificaciones que es simplemente demasiado difícil de resolver (como en el caso del conjunto de datos 20 Newsgroups), puedes recurrir a una codificación simple de un solo byte, como latin-1. Algunos textos pueden mostrar incorrectamente, pero al menos la misma secuencia de bytes siempre representará la misma característica.\n",
    "\n",
    "Por ejemplo, el siguiente fragmento de código utiliza chardet (no incluido en scikit-learn, debe instalarse por separado) para averiguar la codificación de tres textos. Luego, vectoriza los textos e imprime el vocabulario aprendido. La salida no se muestra aquí."
   ]
  },
  {
   "cell_type": "code",
   "execution_count": null,
   "id": "09004e16-c533-41a2-b454-7a43a8cb775b",
   "metadata": {},
   "outputs": [],
   "source": [
    "import chardet    \n",
    "text1 = b\"Sei mir gegr\\xc3\\xbc\\xc3\\x9ft mein Sauerkraut\"\n",
    "text2 = b\"holdselig sind deine Ger\\xfcche\"\n",
    "text3 = b\"\\xff\\xfeA\\x00u\\x00f\\x00 \\x00F\\x00l\\x00\\xfc\\x00g\\x00e\\x00l\\x00n\\x00 \\x00d\\x00e\\x00s\\x00 \\x00G\\x00e\\x00s\\x00a\\x00n\\x00g\\x00e\\x00s\\x00,\\x00 \\x00H\\x00e\\x00r\\x00z\\x00l\\x00i\\x00e\\x00b\\x00c\\x00h\\x00e\\x00n\\x00,\\x00 \\x00t\\x00r\\x00a\\x00g\\x00 \\x00i\\x00c\\x00h\\x00 \\x00d\\x00i\\x00c\\x00h\\x00 \\x00f\\x00o\\x00r\\x00t\\x00\"\n",
    "decoded = [x.decode(chardet.detect(x)['encoding'])\n",
    "           for x in (text1, text2, text3)] \n",
    "v = CountVectorizer().fit(decoded).vocabulary_    \n",
    "for term in v: print(v)                           "
   ]
  },
  {
   "cell_type": "markdown",
   "id": "88973f3c-66fc-43ca-b171-6e8539888287",
   "metadata": {},
   "source": [
    "(Dependiendo de la versión de chardet, podría obtener el primero incorrectamente.)\n",
    "\n",
    "Para obtener una introducción a Unicode y las codificaciones de caracteres en general, consulta [El mínimo absoluto que todo desarrollador de software debe saber sobre Unicode](https://www.joelonsoftware.com/2003/10/08/the-absolute-minimum-every-software-developer-absolutely-positively-must-know-about-unicode-and-character-sets-no-excuses/) de Joel Spolsky."
   ]
  },
  {
   "cell_type": "markdown",
   "id": "001ee98b-5ad6-4014-b0af-06ebb3e2ec0d",
   "metadata": {},
   "source": [
    "###   <span style=\"color:blue\">Aplicaciones y ejemplos</span>"
   ]
  },
  {
   "cell_type": "markdown",
   "id": "06f9c777-2a86-446f-9719-ee11e50f3f76",
   "metadata": {},
   "source": [
    "La representación de la bolsa de palabras es bastante simplista, pero sorprendentemente útil en la práctica.\n",
    "\n",
    "En particular, en un entorno supervisado, se puede combinar con éxito con modelos lineales rápidos y escalables para entrenar clasificadores de documentos, por ejemplo:\n",
    "\n",
    "- [Clasificación de documentos de texto utilizando características dispersas](https://scikit-learn.org/stable/auto_examples/text/plot_document_classification_20newsgroups.html#sphx-glr-auto-examples-text-plot-document-classification-20newsgroups-py)\n",
    "\n",
    "En un entorno no supervisado, se puede utilizar para agrupar documentos similares aplicando algoritmos de agrupación como [K-means](https://scikit-learn.org/stable/modules/clustering.html#k-means):\n",
    "\n",
    "- [Agrupación de documentos de texto utilizando K-means](https://scikit-learn.org/stable/auto_examples/text/plot_document_clustering.html#sphx-glr-auto-examples-text-plot-document-clustering-py)\n",
    "\n",
    "Finalmente, es posible descubrir los temas principales de un corpus relajando la restricción de asignación rígida de la agrupación, por ejemplo, utilizando la [Factorización de Matrices No Negativas (NMF o NNMF)](https://scikit-learn.org/stable/modules/decomposition.html#nmf):\n",
    "\n",
    "- [Extracción de temas con Factorización de Matrices No Negativas y Asignación Latente de Dirichlet](https://scikit-learn.org/stable/auto_examples/applications/plot_topics_extraction_with_nmf_lda.html#sphx-glr-auto-examples-applications-plot-topics-extraction-with-nmf-lda-py) (Latent Dirichlet Allocation, LDA)"
   ]
  },
  {
   "cell_type": "markdown",
   "id": "02ff6706-1781-4513-b766-46937b3762ad",
   "metadata": {},
   "source": [
    "###   <span style=\"color:blue\">Limitaciones de las bolsas de palabras</span>"
   ]
  },
  {
   "cell_type": "markdown",
   "id": "5b62e25e-3c69-453a-aefb-f0f939fa1f31",
   "metadata": {},
   "source": [
    "Limitaciones de la representación de Bolsa de Palabras\n",
    "\n",
    "Una colección de unigramas (que es lo que es la bolsa de palabras) no puede capturar frases y expresiones de varias palabras, ignorando efectivamente cualquier dependencia del orden de las palabras. Además, el modelo de bolsa de palabras no tiene en cuenta posibles errores de escritura o derivaciones de palabras.\n",
    "\n",
    "¡Los n-gramas vienen al rescate! En lugar de construir una simple colección de unigramas (n=1), uno podría preferir una colección de bigramas (n=2), donde se cuentan las ocurrencias de pares de palabras consecutivas.\n",
    "\n",
    "También se podría considerar una colección de n-gramas de caracteres, una representación resistente a errores de escritura y derivaciones.\n",
    "\n",
    "Por ejemplo, supongamos que estamos tratando con un corpus de dos documentos: ['words', 'wprds']. El segundo documento contiene un error de escritura de la palabra 'words'. Una representación de bolsa de palabras simple consideraría estos dos documentos como muy distintos, diferenciándose en ambas de las dos características posibles. Sin embargo, una representación de n-gramas de caracteres encontraría que los documentos coinciden en 4 de las 8 características, lo que podría ayudar al clasificador preferido a tomar decisiones mejores."
   ]
  },
  {
   "cell_type": "code",
   "execution_count": 78,
   "id": "f589bb26-bf93-4994-9661-d9b42d98a284",
   "metadata": {},
   "outputs": [
    {
     "data": {
      "text/plain": [
       "array([' w', 'ds', 'or', 'pr', 'rd', 's ', 'wo', 'wp'], dtype=object)"
      ]
     },
     "execution_count": 78,
     "metadata": {},
     "output_type": "execute_result"
    }
   ],
   "source": [
    "ngram_vectorizer = CountVectorizer(analyzer='char_wb', ngram_range=(2, 2))\n",
    "counts = ngram_vectorizer.fit_transform(['words', 'wprds'])\n",
    "ngram_vectorizer.get_feature_names_out()"
   ]
  },
  {
   "cell_type": "code",
   "execution_count": 79,
   "id": "de06621d-5d04-446d-8f53-93078cee3367",
   "metadata": {},
   "outputs": [
    {
     "data": {
      "text/plain": [
       "array([[1, 1, 1, 0, 1, 1, 1, 0],\n",
       "       [1, 1, 0, 1, 1, 1, 0, 1]])"
      ]
     },
     "execution_count": 79,
     "metadata": {},
     "output_type": "execute_result"
    }
   ],
   "source": [
    "counts.toarray().astype(int)"
   ]
  },
  {
   "cell_type": "markdown",
   "id": "e0e34a4a-e2d1-4863-8eb7-2702ddd92ca3",
   "metadata": {},
   "source": [
    "En el ejemplo anterior, se utiliza el analizador char_wb, que crea n-gramas solo a partir de caracteres dentro de los límites de las palabras (rellenados con espacios a cada lado). El analizador char, por otro lado, crea n-gramas que abarcan palabras:"
   ]
  },
  {
   "cell_type": "code",
   "execution_count": 80,
   "id": "d5f7de6d-f815-47d6-bf64-e80858a31313",
   "metadata": {},
   "outputs": [
    {
     "data": {
      "text/plain": [
       "<1x4 sparse matrix of type '<class 'numpy.int64'>'\n",
       "\twith 4 stored elements in Compressed Sparse Row format>"
      ]
     },
     "execution_count": 80,
     "metadata": {},
     "output_type": "execute_result"
    }
   ],
   "source": [
    "ngram_vectorizer = CountVectorizer(analyzer='char_wb', ngram_range=(5, 5))\n",
    "ngram_vectorizer.fit_transform(['jumpy fox'])"
   ]
  },
  {
   "cell_type": "code",
   "execution_count": 81,
   "id": "d38c30f0-057d-4fa8-aac2-c2c3fa6ff8fb",
   "metadata": {},
   "outputs": [
    {
     "data": {
      "text/plain": [
       "array([' fox ', ' jump', 'jumpy', 'umpy '], dtype=object)"
      ]
     },
     "execution_count": 81,
     "metadata": {},
     "output_type": "execute_result"
    }
   ],
   "source": [
    "ngram_vectorizer.get_feature_names_out()"
   ]
  },
  {
   "cell_type": "code",
   "execution_count": 82,
   "id": "84ff8135-c71b-46b7-9601-8b5311314ad0",
   "metadata": {},
   "outputs": [
    {
     "data": {
      "text/plain": [
       "<1x5 sparse matrix of type '<class 'numpy.int64'>'\n",
       "\twith 5 stored elements in Compressed Sparse Row format>"
      ]
     },
     "execution_count": 82,
     "metadata": {},
     "output_type": "execute_result"
    }
   ],
   "source": [
    "ngram_vectorizer = CountVectorizer(analyzer='char', ngram_range=(5, 5))\n",
    "ngram_vectorizer.fit_transform(['jumpy fox'])"
   ]
  },
  {
   "cell_type": "code",
   "execution_count": 83,
   "id": "706cf945-f0b7-4386-aab5-b7c4dbe5ae9c",
   "metadata": {},
   "outputs": [
    {
     "data": {
      "text/plain": [
       "array(['jumpy', 'mpy f', 'py fo', 'umpy ', 'y fox'], dtype=object)"
      ]
     },
     "execution_count": 83,
     "metadata": {},
     "output_type": "execute_result"
    }
   ],
   "source": [
    "ngram_vectorizer.get_feature_names_out()"
   ]
  },
  {
   "cell_type": "markdown",
   "id": "ba8e17a1-0878-4588-9f09-087cae25bd79",
   "metadata": {},
   "source": [
    "La variante char_wb, que es consciente de los límites de las palabras, resulta especialmente interesante para los idiomas que utilizan espacios en blanco para separar palabras, ya que genera características significativamente menos ruidosas que la variante cruda de caracteres en ese caso. Para tales idiomas, puede aumentar tanto la precisión predictiva como la velocidad de convergencia de los clasificadores entrenados con estas características, al tiempo que mantiene la robustez en relación con errores ortográficos y derivaciones de palabras.\n",
    "\n",
    "Si bien alguna información de posicionamiento local se puede preservar extrayendo n-gramos en lugar de palabras individuales, el modelo de bolsa de palabras y el modelo de bolsa de n-gramos destruyen la mayor parte de la estructura interna del documento y, por lo tanto, la mayoría del significado que lleva consigo esa estructura interna.\n",
    "\n",
    "Para abordar la tarea más amplia de la comprensión del lenguaje natural, es necesario tener en cuenta la estructura local de las oraciones y los párrafos. Muchos de estos modelos se plantean como problemas de \"salida estructurada\", que actualmente están fuera del alcance de scikit-learn."
   ]
  },
  {
   "cell_type": "markdown",
   "id": "e9842e3b-ed47-431b-80b3-04d0afab4f69",
   "metadata": {},
   "source": [
    "###   <span style=\"color:blue\">Vectorización de un gran corpus de texto con el truco de hashing</span>"
   ]
  },
  {
   "cell_type": "markdown",
   "id": "378683d6-8960-4917-b12a-9ac786074456",
   "metadata": {},
   "source": [
    "El esquema de vectorización mencionado anteriormente es simple, pero el hecho de que mantenga un mapeo en memoria de los tokens de cadena a los índices de características enteras (el atributo vocabulary_) causa varios problemas al tratar con conjuntos de datos grandes:\n",
    "\n",
    "- Cuanto más grande sea el corpus, más crecerá el vocabulario y, por lo tanto, también el uso de memoria.\n",
    "- El ajuste requiere la asignación de estructuras de datos intermedias de tamaño proporcional al del conjunto de datos original.\n",
    "- La construcción del mapeo de palabras requiere un pase completo sobre el conjunto de datos, por lo que no es posible ajustar clasificadores de texto de manera estrictamente en línea.\n",
    "- El envasado y desenvasado de vectorizadores con un vocabulario grande puede ser muy lento (generalmente mucho más lento que el envasado/desenvasado de estructuras de datos planas, como una matriz NumPy del mismo tamaño).\n",
    "- No es fácilmente posible dividir el trabajo de vectorización en tareas secundarias concurrentes, ya que el atributo vocabulary_ tendría que ser un estado compartido con una barrera de sincronización de granularidad fina: el mapeo de la cadena de tokens al índice de características depende del orden de la primera aparición de cada token, lo que podría perjudicar el rendimiento de los trabajadores concurrentes hasta el punto de hacerlos más lentos que la variante secuencial.\n",
    "\n",
    "Es posible superar estas limitaciones combinando el \"truco de hashing\" (hashing de características) implementado por la clase FeatureHasher y las características de preprocesamiento y tokenización de CountVectorizer.\n",
    "\n",
    "Esta combinación se implementa en [HashingVectorizer](https://scikit-learn.org/stable/modules/generated/sklearn.feature_extraction.text.HashingVectorizer.html#sklearn.feature_extraction.text.HashingVectorizer), una clase transformadora que es en su mayoría compatible con la API de CountVectorizer. HashingVectorizer es sin estado, lo que significa que no es necesario llamar a fit en él."
   ]
  },
  {
   "cell_type": "code",
   "execution_count": 84,
   "id": "fa577b4c-572c-4bea-90ed-a6ac2dd11a03",
   "metadata": {},
   "outputs": [
    {
     "data": {
      "text/plain": [
       "<4x10 sparse matrix of type '<class 'numpy.float64'>'\n",
       "\twith 16 stored elements in Compressed Sparse Row format>"
      ]
     },
     "execution_count": 84,
     "metadata": {},
     "output_type": "execute_result"
    }
   ],
   "source": [
    "from sklearn.feature_extraction.text import HashingVectorizer\n",
    "hv = HashingVectorizer(n_features=10)\n",
    "hv.transform(corpus)"
   ]
  },
  {
   "cell_type": "markdown",
   "id": "8cd4e864-459a-4c29-9fbf-f8513ce63d98",
   "metadata": {},
   "source": [
    "Puedes ver que se extrajeron 16 tokens de características no nulos en la salida vectorial. Esto es menos que los 19 no nulos extraídos anteriormente por CountVectorizer en el mismo corpus de prueba. La discrepancia se debe a colisiones de funciones hash debido al bajo valor del parámetro n_features.\n",
    "\n",
    "En un entorno del mundo real, el parámetro n_features puede dejarse en su valor predeterminado de 2 ** 20 (aproximadamente un millón de características posibles). Si la memoria o el tamaño de los modelos posteriores son un problema, seleccionar un valor más bajo, como 2 ** 18, podría ayudar sin introducir demasiadas colisiones adicionales en tareas de clasificación de texto típicas.\n",
    "\n",
    "Ten en cuenta que la dimensionalidad no afecta al tiempo de entrenamiento de la CPU de algoritmos que operan en matrices CSR (LinearSVC(dual=True), Perceptrón, SGDClassifier, PassiveAggressive), pero sí lo hace para algoritmos que trabajan con matrices CSC (LinearSVC(dual=False), Lasso(), etc.).\n",
    "\n",
    "Intentemos de nuevo con la configuración predeterminada:"
   ]
  },
  {
   "cell_type": "code",
   "execution_count": 85,
   "id": "de1d7874-0b4e-439f-9c88-418ef5706d19",
   "metadata": {},
   "outputs": [
    {
     "data": {
      "text/plain": [
       "<4x1048576 sparse matrix of type '<class 'numpy.float64'>'\n",
       "\twith 19 stored elements in Compressed Sparse Row format>"
      ]
     },
     "execution_count": 85,
     "metadata": {},
     "output_type": "execute_result"
    }
   ],
   "source": [
    "hv = HashingVectorizer()\n",
    "hv.transform(corpus)"
   ]
  },
  {
   "cell_type": "markdown",
   "id": "645f6059-d99f-4ad6-9341-b286978e2587",
   "metadata": {},
   "source": [
    "Ya no obtenemos colisiones, pero esto conlleva una dimensionalidad mucho mayor en el espacio de salida. Por supuesto, otros términos distintos a los 19 utilizados aquí todavía pueden colisionar entre sí.\n",
    "\n",
    "El HashingVectorizer también presenta las siguientes limitaciones:\n",
    "\n",
    "- No es posible invertir el modelo (no hay método inverse_transform), ni acceder a la representación original en cadena de las características, debido a la naturaleza unidireccional de la función de hash que realiza la asignación.\n",
    "\n",
    "- No proporciona ponderación IDF, ya que eso introduciría un estado en el modelo. Se puede agregar un TfidfTransformer si es necesario en una tubería."
   ]
  },
  {
   "cell_type": "markdown",
   "id": "e1586fe9-c0f2-4ae7-8a96-1f52059ebb4a",
   "metadata": {},
   "source": [
    "###   <span style=\"color:blue\">Realizando escalado fuera de línea con HashingVectorizer</span>"
   ]
  },
  {
   "cell_type": "markdown",
   "id": "09e65931-b3cf-4de2-a412-20a3b597adab",
   "metadata": {},
   "source": [
    "Un desarrollo interesante del uso de HashingVectorizer es la capacidad de realizar escalado fuera de línea. Esto significa que podemos aprender de datos que no caben en la memoria principal de la computadora.\n",
    "\n",
    "Una estrategia para implementar el escalado fuera de línea es transmitir datos al estimador en mini-lotes. Cada mini-lote se vectoriza utilizando HashingVectorizer para garantizar que el espacio de entrada del estimador siempre tenga la misma dimensionalidad. La cantidad de memoria utilizada en cualquier momento está limitada por el tamaño de un mini-lote. Aunque no hay límite en la cantidad de datos que se pueden ingerir utilizando este enfoque, desde un punto de vista práctico, el tiempo de aprendizaje a menudo está limitado por el tiempo de CPU que uno desea dedicar a la tarea.\n",
    "\n",
    "Para ver un ejemplo completo de escalado fuera de línea en una tarea de clasificación de texto, consulte la sección de Clasificación fuera de línea de documentos de texto."
   ]
  },
  {
   "cell_type": "markdown",
   "id": "80a9e598-24af-4907-9e33-3c7144a2e3cb",
   "metadata": {},
   "source": [
    "###   <span style=\"color:blue\">Personalización de las clases vectorizadoras</span>"
   ]
  },
  {
   "cell_type": "markdown",
   "id": "99276389-9972-469c-8881-cd9d57e4da32",
   "metadata": {},
   "source": [
    "Es posible personalizar el comportamiento pasando una función llamable al constructor del vectorizador:"
   ]
  },
  {
   "cell_type": "code",
   "execution_count": 88,
   "id": "735637cc-ef70-4837-ac43-684e76c367c4",
   "metadata": {},
   "outputs": [
    {
     "data": {
      "text/plain": [
       "True"
      ]
     },
     "execution_count": 88,
     "metadata": {},
     "output_type": "execute_result"
    }
   ],
   "source": [
    "def my_tokenizer(s):\n",
    "    return s.split()\n",
    "\n",
    "vectorizer = CountVectorizer(tokenizer=my_tokenizer)\n",
    "vectorizer.build_analyzer()(u\"Some... punctuation!\") == (\n",
    "    ['some...', 'punctuation!'])"
   ]
  },
  {
   "cell_type": "markdown",
   "id": "b7da7e9b-6d62-410d-a971-9d93edff1176",
   "metadata": {},
   "source": [
    "En particular, nombramos:\n",
    "\n",
    "- Preprocesador: una función llamable que toma un documento completo como entrada (como una sola cadena) y devuelve una versión posiblemente transformada del documento, aún como una cadena completa. Esto se puede utilizar para eliminar etiquetas HTML, convertir todo el documento a minúsculas, etc.\n",
    "\n",
    "- Tokenizador: una función llamable que toma la salida del preprocesador y la divide en tokens, luego devuelve una lista de estos.\n",
    "\n",
    "- Analizador: una función llamable que reemplaza al preprocesador y al tokenizador. Los analizadores predeterminados llaman al preprocesador y al tokenizador, pero los analizadores personalizados pueden omitir esto. La extracción de N-gramos y la filtración de palabras clave tienen lugar en el nivel del analizador, por lo que un analizador personalizado puede tener que reproducir estos pasos.\n",
    "\n",
    "(Los usuarios de Lucene pueden reconocer estos nombres, pero deben tener en cuenta que los conceptos de scikit-learn pueden no coincidir uno a uno con los conceptos de Lucene).\n",
    "\n",
    "Para que el preprocesador, el tokenizador y los analizadores estén al tanto de los parámetros del modelo, es posible derivar de la clase y anular los métodos de fábrica build_preprocessor, build_tokenizer y build_analyzer en lugar de pasar funciones personalizadas.\n",
    "\n",
    "Algunos consejos y trucos:\n",
    "\n",
    "- Si los documentos están pre-tokenizados por un paquete externo, guárdelos en archivos (o cadenas) con los tokens separados por espacios en blanco y pase analyzer=str.split.\n",
    "\n",
    "- El análisis de nivel de tokenización avanzado, como el stemming, lematización, división de compuestos, filtrado basado en partes del discurso, etc., no está incluido en el código base de scikit-learn, pero se puede agregar personalizando el tokenizador o el analizador. Aquí tienes un ejemplo de CountVectorizer con un tokenizador y lematizador que utiliza [NLTK](https://www.nltk.org/):"
   ]
  },
  {
   "cell_type": "code",
   "execution_count": null,
   "id": "09fcc24f-5813-4294-85a2-c006f312c4cd",
   "metadata": {},
   "outputs": [],
   "source": [
    "from nltk import word_tokenize          \n",
    "from nltk.stem import WordNetLemmatizer \n",
    "class LemmaTokenizer:\n",
    "    def __init__(self):\n",
    "        self.wnl = WordNetLemmatizer()\n",
    "    def __call__(self, doc):\n",
    "        return [self.wnl.lemmatize(t) for t in word_tokenize(doc)]\n",
    "vect = CountVectorizer(tokenizer=LemmaTokenizer())  "
   ]
  },
  {
   "cell_type": "markdown",
   "id": "9a963bd5-6aea-40e2-8509-a9c1205e9446",
   "metadata": {},
   "source": [
    "(Ten en cuenta que esto no eliminará la puntuación.)\n",
    "\n",
    "El siguiente ejemplo, por ejemplo, transformará algunas ortografías británicas en ortografías estadounidenses:"
   ]
  },
  {
   "cell_type": "code",
   "execution_count": 90,
   "id": "6ef8817d-6944-4d93-bc04-aeb69af209d0",
   "metadata": {},
   "outputs": [
    {
     "name": "stdout",
     "output_type": "stream",
     "text": [
      "['color', 'color']\n"
     ]
    }
   ],
   "source": [
    "import re\n",
    "def to_british(tokens):\n",
    "    for t in tokens:\n",
    "        t = re.sub(r\"(...)our$\", r\"\\1or\", t)\n",
    "        t = re.sub(r\"([bt])re$\", r\"\\1er\", t)\n",
    "        t = re.sub(r\"([iy])s(e$|ing|ation)\", r\"\\1z\\2\", t)\n",
    "        t = re.sub(r\"ogue$\", \"og\", t)\n",
    "        yield t\n",
    "class CustomVectorizer(CountVectorizer):\n",
    "    def build_tokenizer(self):\n",
    "        tokenize = super().build_tokenizer()\n",
    "        return lambda doc: list(to_british(tokenize(doc)))\n",
    "print(CustomVectorizer().build_analyzer()(u\"color colour\"))"
   ]
  },
  {
   "cell_type": "markdown",
   "id": "49f2d53f-67cf-4022-af52-16e7502c9b20",
   "metadata": {},
   "source": [
    "Para otros estilos de preprocesamiento; ejemplos incluyen el truncamiento, la lematización o la normalización de tokens numéricos, siendo estos últimos ilustrados en:\n",
    "\n",
    "- [Agrupación biclúster de documentos con el algoritmo de coagrupación espectral](https://scikit-learn.org/stable/auto_examples/bicluster/plot_bicluster_newsgroups.html#sphx-glr-auto-examples-bicluster-plot-bicluster-newsgroups-py)\n",
    "\n",
    "Personalizar el vectorizador también puede ser útil al trabajar con idiomas asiáticos que no utilizan un separador de palabras explícito, como un espacio en blanco."
   ]
  },
  {
   "cell_type": "markdown",
   "id": "38ef51b8-05bc-4ec5-b204-1051802ccc74",
   "metadata": {},
   "source": [
    "##   <span style=\"color:blue\">Extracción de características de imágenes</span>"
   ]
  },
  {
   "cell_type": "markdown",
   "id": "718d128d-3c01-4d3b-b3c7-b5a993493eea",
   "metadata": {},
   "source": [
    "###   <span style=\"color:blue\">Extracción de parches</span>"
   ]
  },
  {
   "cell_type": "markdown",
   "id": "c89b396b-bfcb-49d3-8ced-7108d6052352",
   "metadata": {},
   "source": [
    "La función [extract_patches_2d](https://scikit-learn.org/stable/modules/generated/sklearn.feature_extraction.image.extract_patches_2d.html#sklearn.feature_extraction.image.extract_patches_2d) extrae parches de una imagen almacenada como una matriz bidimensional o tridimensional con información de color a lo largo del tercer eje. Para reconstruir una imagen a partir de todos sus parches, utiliza [reconstruct_from_patches_2d](https://scikit-learn.org/stable/modules/generated/sklearn.feature_extraction.image.reconstruct_from_patches_2d.html#sklearn.feature_extraction.image.reconstruct_from_patches_2d). Por ejemplo, generemos una imagen de 4x4 píxeles con 3 canales de color (por ejemplo, en formato RGB):"
   ]
  },
  {
   "cell_type": "code",
   "execution_count": 91,
   "id": "9a1e004d-c706-45e4-a1ba-df554ecdc504",
   "metadata": {},
   "outputs": [
    {
     "data": {
      "text/plain": [
       "array([[ 0,  3,  6,  9],\n",
       "       [12, 15, 18, 21],\n",
       "       [24, 27, 30, 33],\n",
       "       [36, 39, 42, 45]])"
      ]
     },
     "execution_count": 91,
     "metadata": {},
     "output_type": "execute_result"
    }
   ],
   "source": [
    "import numpy as np\n",
    "from sklearn.feature_extraction import image\n",
    "\n",
    "one_image = np.arange(4 * 4 * 3).reshape((4, 4, 3))\n",
    "one_image[:, :, 0]  # R channel of a fake RGB picture"
   ]
  },
  {
   "cell_type": "code",
   "execution_count": 92,
   "id": "961ce0d6-fe45-467f-ad93-2635af4e64b4",
   "metadata": {},
   "outputs": [
    {
     "data": {
      "text/plain": [
       "(2, 2, 2, 3)"
      ]
     },
     "execution_count": 92,
     "metadata": {},
     "output_type": "execute_result"
    }
   ],
   "source": [
    "patches = image.extract_patches_2d(one_image, (2, 2), max_patches=2,\n",
    "                                   random_state=0)\n",
    "patches.shape"
   ]
  },
  {
   "cell_type": "code",
   "execution_count": 93,
   "id": "e1360829-9410-4f07-a8d6-cfbd495a1c47",
   "metadata": {},
   "outputs": [
    {
     "data": {
      "text/plain": [
       "array([[[ 0,  3],\n",
       "        [12, 15]],\n",
       "\n",
       "       [[15, 18],\n",
       "        [27, 30]]])"
      ]
     },
     "execution_count": 93,
     "metadata": {},
     "output_type": "execute_result"
    }
   ],
   "source": [
    "patches[:, :, :, 0]"
   ]
  },
  {
   "cell_type": "code",
   "execution_count": 94,
   "id": "f98205a9-a0ad-4b14-bae1-42275aefd0eb",
   "metadata": {},
   "outputs": [
    {
     "data": {
      "text/plain": [
       "(9, 2, 2, 3)"
      ]
     },
     "execution_count": 94,
     "metadata": {},
     "output_type": "execute_result"
    }
   ],
   "source": [
    "patches = image.extract_patches_2d(one_image, (2, 2))\n",
    "patches.shape"
   ]
  },
  {
   "cell_type": "code",
   "execution_count": 95,
   "id": "1562fe39-a870-4b19-9032-9a837f50ed55",
   "metadata": {},
   "outputs": [
    {
     "data": {
      "text/plain": [
       "array([[15, 18],\n",
       "       [27, 30]])"
      ]
     },
     "execution_count": 95,
     "metadata": {},
     "output_type": "execute_result"
    }
   ],
   "source": [
    "patches[4, :, :, 0]"
   ]
  },
  {
   "cell_type": "markdown",
   "id": "1d41a32a-894f-4059-97bd-97f9b0df6744",
   "metadata": {},
   "source": [
    "Ahora intentemos reconstruir la imagen original a partir de los fragmentos promediando en áreas superpuestas:"
   ]
  },
  {
   "cell_type": "code",
   "execution_count": 96,
   "id": "7606301e-12f9-4fb9-a66d-fb592f829097",
   "metadata": {},
   "outputs": [],
   "source": [
    "reconstructed = image.reconstruct_from_patches_2d(patches, (4, 4, 3))\n",
    "np.testing.assert_array_equal(one_image, reconstructed)"
   ]
  },
  {
   "cell_type": "markdown",
   "id": "41446d24-3c4a-46e6-b704-8f6b1bb23c18",
   "metadata": {},
   "source": [
    "La clase [PatchExtractor](https://scikit-learn.org/stable/modules/generated/sklearn.feature_extraction.image.PatchExtractor.html#sklearn.feature_extraction.image.PatchExtractor) funciona de la misma manera que [extract_patches_2d](https://scikit-learn.org/stable/modules/generated/sklearn.feature_extraction.image.extract_patches_2d.html#sklearn.feature_extraction.image.extract_patches_2d), solo que admite múltiples imágenes como entrada. Está implementada como un transformador de scikit-learn, por lo que se puede utilizar en tuberías (pipelines). Consulta:"
   ]
  },
  {
   "cell_type": "code",
   "execution_count": 97,
   "id": "62924ead-c1dc-4bbd-826a-195d6d32299b",
   "metadata": {},
   "outputs": [
    {
     "data": {
      "text/plain": [
       "(45, 2, 2, 3)"
      ]
     },
     "execution_count": 97,
     "metadata": {},
     "output_type": "execute_result"
    }
   ],
   "source": [
    "five_images = np.arange(5 * 4 * 4 * 3).reshape(5, 4, 4, 3)\n",
    "patches = image.PatchExtractor(patch_size=(2, 2)).transform(five_images)\n",
    "patches.shape"
   ]
  },
  {
   "cell_type": "markdown",
   "id": "0e15e3ea-8383-4109-a7cd-b8f4f35b8fae",
   "metadata": {},
   "source": [
    "###   <span style=\"color:blue\">Grafo de conectividad de una imagen</span>"
   ]
  },
  {
   "cell_type": "markdown",
   "id": "d4eeb1a5-3fa9-4d77-9799-720ba46d2a44",
   "metadata": {},
   "source": [
    "Varios estimadores en scikit-learn pueden utilizar información de conectividad entre características o muestras. Por ejemplo, el agrupamiento de Ward (agrupamiento jerárquico) puede agrupar solo píxeles vecinos de una imagen, formando así parches contiguos:"
   ]
  },
  {
   "cell_type": "markdown",
   "id": "412e4596-481c-498a-91dc-ff41d12b203f",
   "metadata": {},
   "source": [
    "<figure> \n",
    "<center>\n",
    "<img src=\"https://scikit-learn.org/stable/_images/sphx_glr_plot_coin_ward_segmentation_001.png\"/>\n",
    "</center>\n",
    "</figure>"
   ]
  },
  {
   "cell_type": "markdown",
   "id": "3e4ad020-568c-4fe1-aea4-7f52986c8505",
   "metadata": {},
   "source": [
    "Para este propósito, los estimadores utilizan una matriz de 'conectividad' que indica qué muestras están conectadas.\n",
    "\n",
    "La función [img_to_graph](https://scikit-learn.org/stable/modules/generated/sklearn.feature_extraction.image.img_to_graph.html#sklearn.feature_extraction.image.img_to_graph) devuelve una matriz de este tipo a partir de una imagen 2D o 3D. De manera similar, [grid_to_graph](https://scikit-learn.org/stable/modules/generated/sklearn.feature_extraction.image.grid_to_graph.html#sklearn.feature_extraction.image.grid_to_graph) construye una matriz de conectividad para imágenes dada la forma de estas imágenes.\n",
    "\n",
    "Estas matrices se pueden utilizar para imponer conectividad en estimadores que utilizan información de conectividad, como la agrupación de Ward ([agrupamiento jerárquico](https://scikit-learn.org/stable/modules/clustering.html#hierarchical-clustering)), pero también para construir núcleos precalculados o matrices de similitud."
   ]
  },
  {
   "cell_type": "markdown",
   "id": "dc6893d6-b98a-4cc4-bec8-b758f5d318c0",
   "metadata": {},
   "source": [
    "**Nota**\n",
    "\n",
    "Ejemplos\n",
    "\n",
    "- Una demostración de clustering jerárquico estructurado de Ward en una imagen de monedas.\n",
    "\n",
    "- Clustering espectral para segmentación de imágenes.\n",
    "\n",
    "- Aglomeración de características vs. selección univariante."
   ]
  },
  {
   "cell_type": "markdown",
   "id": "53258e76-9d76-4d3c-89ae-e484e20ebab4",
   "metadata": {},
   "source": [
    "#   <span style=\"color:blue\">Proyección Aleatoria</span>"
   ]
  },
  {
   "cell_type": "markdown",
   "id": "155f5998-7fb3-4820-acff-164ca72385f5",
   "metadata": {},
   "source": [
    "El módulo [sklearn.random_projection](https://scikit-learn.org/stable/modules/classes.html#module-sklearn.random_projection) implementa una manera simple y eficiente computacionalmente para reducir la dimensionalidad de los datos al intercambiar una cantidad controlada de precisión (como varianza adicional) por tiempos de procesamiento más rápidos y tamaños de modelo más pequeños. Este módulo implementa dos tipos de matrices de proyección aleatoria no estructurada: [matriz aleatoria gaussiana](https://scikit-learn.org/stable/modules/random_projection.html#gaussian-random-matrix) y [matriz aleatoria dispersa](https://scikit-learn.org/stable/modules/random_projection.html#sparse-random-matrix).\n",
    "\n",
    "Las dimensiones y la distribución de las matrices de proyección aleatoria se controlan de manera que se preserven las distancias entre pares entre cualquier par de muestras del conjunto de datos. Por lo tanto, la proyección aleatoria es una técnica de aproximación adecuada para métodos basados en distancias.\n",
    "\n",
    "**Referencias**:\n",
    "\n",
    "Sanjoy Dasgupta. 2000. [Experimentos con proyección aleatoria](https://cseweb.ucsd.edu/~dasgupta/papers/randomf.pdf). En Actas de la decimosexta conferencia sobre Incertidumbre en inteligencia artificial (UAI'00), Craig Boutilier y Moisés Goldszmidt (Eds.). Morgan Kaufmann Publishers Inc., San Francisco, CA, EE. UU., 143-151.\n",
    "\n",
    "Ella Bingham y Heikki Mannila. 2001. [Proyección aleatoria en reducción de dimensionalidad: aplicaciones a datos de imágenes y texto](https://citeseerx.ist.psu.edu/doc_view/pid/aed77346f737b0ed5890b61ad02e5eb4ab2f3dc6). En Actas de la séptima conferencia internacional ACM SIGKDD sobre Descubrimiento de conocimiento y minería de datos (KDD '01). ACM, Nueva York, NY, EE. UU., 245-250."
   ]
  },
  {
   "cell_type": "markdown",
   "id": "3698ab94-cef5-489d-a57e-573bb311d12b",
   "metadata": {},
   "source": [
    "###   <span style=\"color:blue\">El lema de Johnson-Lindenstrauss</span>"
   ]
  },
  {
   "cell_type": "markdown",
   "id": "c7e9c720-b7b4-4783-8947-b84e3ed24d9c",
   "metadata": {},
   "source": [
    "El principal resultado teórico detrás de la eficiencia de la proyección aleatoria es el [lema de Johnson-Lindenstrauss](https://en.wikipedia.org/wiki/Johnson%E2%80%93Lindenstrauss_lemma):\n",
    "\n",
    "\"En matemáticas, el lema de Johnson-Lindenstrauss es un resultado relacionado con la inserción de puntos de alta dimensión en un espacio euclidiano de baja dimensión con baja distorsión. El lema establece que un pequeño conjunto de puntos en un espacio de alta dimensión puede ser insertado en un espacio de mucha menor dimensión de tal manera que las distancias entre los puntos se preserven casi por completo. El mapa utilizado para la inserción es al menos Lipschitz y puede incluso ser una proyección ortogonal.\"\n",
    "\n",
    "Conociendo solo el número de muestras, [johnson_lindenstrauss_min_dim](https://scikit-learn.org/stable/modules/generated/sklearn.random_projection.johnson_lindenstrauss_min_dim.html#sklearn.random_projection.johnson_lindenstrauss_min_dim) estima de manera conservadora el tamaño mínimo del subespacio aleatorio para garantizar una distorsión acotada introducida por la proyección aleatoria:"
   ]
  },
  {
   "cell_type": "code",
   "execution_count": 98,
   "id": "36bac921-b0e4-41e3-9bf2-7fa9e2fa473c",
   "metadata": {},
   "outputs": [
    {
     "data": {
      "text/plain": [
       "663"
      ]
     },
     "execution_count": 98,
     "metadata": {},
     "output_type": "execute_result"
    }
   ],
   "source": [
    "from sklearn.random_projection import johnson_lindenstrauss_min_dim\n",
    "johnson_lindenstrauss_min_dim(n_samples=1e6, eps=0.5)"
   ]
  },
  {
   "cell_type": "code",
   "execution_count": 99,
   "id": "753c3523-740d-46d9-8225-7379839a1bce",
   "metadata": {},
   "outputs": [
    {
     "data": {
      "text/plain": [
       "array([    663,   11841, 1112658], dtype=int64)"
      ]
     },
     "execution_count": 99,
     "metadata": {},
     "output_type": "execute_result"
    }
   ],
   "source": [
    "johnson_lindenstrauss_min_dim(n_samples=1e6, eps=[0.5, 0.1, 0.01])"
   ]
  },
  {
   "cell_type": "code",
   "execution_count": 100,
   "id": "e400b294-9452-4a05-9ffb-ee4c9fc3a12f",
   "metadata": {},
   "outputs": [
    {
     "data": {
      "text/plain": [
       "array([ 7894,  9868, 11841], dtype=int64)"
      ]
     },
     "execution_count": 100,
     "metadata": {},
     "output_type": "execute_result"
    }
   ],
   "source": [
    "johnson_lindenstrauss_min_dim(n_samples=[1e4, 1e5, 1e6], eps=0.1)"
   ]
  },
  {
   "cell_type": "markdown",
   "id": "80ddb1d1-7fac-4c1e-90ba-dc8c23b7fa39",
   "metadata": {},
   "source": [
    "<figure> \n",
    "<center>\n",
    "<img src=\"https://scikit-learn.org/stable/_images/sphx_glr_plot_johnson_lindenstrauss_bound_001.png\"/>\n",
    "</center>\n",
    "</figure>"
   ]
  },
  {
   "cell_type": "markdown",
   "id": "c0064529-0c4a-4219-88e9-f3de7a89429f",
   "metadata": {},
   "source": [
    "<figure> \n",
    "<center>\n",
    "<img src=\"https://scikit-learn.org/stable/_images/sphx_glr_plot_johnson_lindenstrauss_bound_002.png\"/>\n",
    "</center>\n",
    "</figure>"
   ]
  },
  {
   "cell_type": "markdown",
   "id": "37999984-c589-44d4-892e-c778dd29ae8f",
   "metadata": {},
   "source": [
    "**Ejemplos**:\n",
    "\n",
    "- [See The Johnson-Lindenstrauss bound for embedding with random projections](https://scikit-learn.org/stable/auto_examples/miscellaneous/plot_johnson_lindenstrauss_bound.html#sphx-glr-auto-examples-miscellaneous-plot-johnson-lindenstrauss-bound-py) for a theoretical explication on the Johnson-Lindenstrauss lemma and an empirical validation using sparse random matrices.\n",
    "\n",
    "**References**:\n",
    "\n",
    "-Sanjoy Dasgupta and Anupam Gupta, 1999. [An elementary proof of the Johnson-Lindenstrauss Lemma](https://citeseerx.ist.psu.edu/doc_view/pid/95cd464d27c25c9c8690b378b894d337cdf021f9).\n",
    "\n"
   ]
  },
  {
   "cell_type": "markdown",
   "id": "3ee74f7d-54fc-441e-bbd5-08129f21b9d4",
   "metadata": {},
   "source": [
    "###   <span style=\"color:blue\">Proyección aleatoria gaussiana</span>"
   ]
  },
  {
   "cell_type": "markdown",
   "id": "e83da1a6-c179-4f6a-94a4-90604e50dd2a",
   "metadata": {},
   "source": [
    "El GaussianRandomProjection reduce la dimensionalidad proyectando el espacio de entrada original en una matriz generada aleatoriamente, donde los componentes se extraen de la siguiente distribución $N(0, \\frac{1}{n_{components}})$.\n",
    "\n",
    "Aquí hay un pequeño fragmento que ilustra cómo usar el transformador de proyección aleatoria gaussiana:"
   ]
  },
  {
   "cell_type": "code",
   "execution_count": 102,
   "id": "780eb39e-a6e1-4bc4-8228-17be92b3d603",
   "metadata": {},
   "outputs": [
    {
     "data": {
      "text/plain": [
       "(100, 3947)"
      ]
     },
     "execution_count": 102,
     "metadata": {},
     "output_type": "execute_result"
    }
   ],
   "source": [
    "import numpy as np\n",
    "from sklearn import random_projection\n",
    "X = np.random.rand(100, 10000)\n",
    "transformer = random_projection.GaussianRandomProjection()\n",
    "X_new = transformer.fit_transform(X)\n",
    "X_new.shape"
   ]
  },
  {
   "cell_type": "markdown",
   "id": "fad0c9d9-6996-4ae5-bd9c-fea6f8f37097",
   "metadata": {},
   "source": [
    "###   <span style=\"color:blue\">Proyección aleatoria dispersa</span>"
   ]
  },
  {
   "cell_type": "markdown",
   "id": "436337e4-db41-4304-ba14-1028676003df",
   "metadata": {},
   "source": [
    "SparseRandomProjection reduce la dimensionalidad proyectando el espacio de entrada original mediante una matriz aleatoria dispersa.\n",
    "\n",
    "Las matrices aleatorias dispersas son una alternativa a las matrices de proyección aleatoria gaussiana densa que garantizan una calidad de incrustación similar al tiempo que son mucho más eficientes en memoria y permiten una computación más rápida de los datos proyectados.\n",
    "\n",
    "Si definimos s = 1 / densidad, los elementos de la matriz aleatoria se eligen de\n",
    "\n",
    "$$\n",
    "\\begin{split}\\left\\{\n",
    "\\begin{array}{c c l}\n",
    "-\\sqrt{\\frac{s}{n_{\\text{components}}}} & & 1 / 2s\\\\\n",
    "0 &\\text{with probability}  & 1 - 1 / s \\\\\n",
    "+\\sqrt{\\frac{s}{n_{\\text{components}}}} & & 1 / 2s\\\\\n",
    "\\end{array}\n",
    "\\right.\\end{split}\n",
    "$$\n",
    "\n",
    "donde $n_{\\text{components}}$ es el tamaño del subespacio proyectado. De forma predeterminada, la densidad de elementos diferentes de cero se establece en la densidad mínima recomendada por Ping Li y otros $1 / \\sqrt{n_{\\text{features}}}$.\n",
    "\n",
    "A continuación, se muestra un pequeño fragmento que ilustra cómo utilizar el transformador de proyección aleatoria dispersa:"
   ]
  },
  {
   "cell_type": "code",
   "execution_count": 103,
   "id": "6bdb53e5-bbea-4a76-8386-63d6dc3bee22",
   "metadata": {},
   "outputs": [
    {
     "data": {
      "text/plain": [
       "(100, 3947)"
      ]
     },
     "execution_count": 103,
     "metadata": {},
     "output_type": "execute_result"
    }
   ],
   "source": [
    "import numpy as np\n",
    "from sklearn import random_projection\n",
    "X = np.random.rand(100, 10000)\n",
    "transformer = random_projection.SparseRandomProjection()\n",
    "X_new = transformer.fit_transform(X)\n",
    "X_new.shape"
   ]
  },
  {
   "cell_type": "markdown",
   "id": "9d857a4c-4c4b-427a-bf51-b54b0efa5d84",
   "metadata": {},
   "source": [
    "**References**:\n",
    "\n",
    "- D. Achlioptas. 2003. [Database-friendly random projections: Johnson-Lindenstrauss with binary coins](https://www.sciencedirect.com/science/article/pii/S0022000003000254). Journal of Computer and System Sciences 66 (2003) 671–687\n",
    "\n",
    "- Ping Li, Trevor J. Hastie, and Kenneth W. Church. 2006. [Very sparse random projections](https://web.stanford.edu/~hastie/Papers/Ping/KDD06_rp.pdf). In Proceedings of the 12th ACM SIGKDD international conference on Knowledge discovery and data mining (KDD ‘06). ACM, New York, NY, USA, 287-296.\n",
    "\n"
   ]
  },
  {
   "cell_type": "markdown",
   "id": "9c29eb15-f7d0-4afd-8f55-43757bb12173",
   "metadata": {},
   "source": [
    "###   <span style=\"color:blue\">Transformación inversa</span>"
   ]
  },
  {
   "cell_type": "markdown",
   "id": "e9475b15-2294-4dde-a1bf-d91ff1b4fa89",
   "metadata": {},
   "source": [
    "Los transformadores de proyección aleatoria tienen un parámetro compute_inverse_components. Cuando se establece en True, después de crear la matriz de componentes_ aleatorios durante el ajuste, el transformador calcula la pseudo-inversa de esta matriz y la almacena como inverse_components_. La matriz inverse_components_ tiene una forma $n_{features} \\times n_{components}$, y siempre es una matriz densa, independientemente de si la matriz de componentes es dispersa o densa. Por lo tanto, dependiendo del número de características y componentes, puede consumir mucha memoria.\n",
    "\n",
    "Cuando se llama al método inverse_transform, calcula el producto de la entrada X y la transposición de los componentes inversos. Si los componentes inversos se calcularon durante el ajuste, se reutilizan en cada llamada a inverse_transform. De lo contrario, se recalculan cada vez, lo que puede ser costoso. El resultado siempre es denso, incluso si X es disperso.\n",
    "\n",
    "Aquí tienes un pequeño ejemplo de código que ilustra cómo usar la función de transformación inversa:"
   ]
  },
  {
   "cell_type": "code",
   "execution_count": 104,
   "id": "058bf11e-23c1-49d3-ae75-4cee7f1bbb61",
   "metadata": {},
   "outputs": [
    {
     "data": {
      "text/plain": [
       "(100, 3947)"
      ]
     },
     "execution_count": 104,
     "metadata": {},
     "output_type": "execute_result"
    }
   ],
   "source": [
    "import numpy as np\n",
    "from sklearn.random_projection import SparseRandomProjection\n",
    "X = np.random.rand(100, 10000)\n",
    "transformer = SparseRandomProjection(\n",
    "    compute_inverse_components=True\n",
    ")\n",
    "X_new = transformer.fit_transform(X)\n",
    "X_new.shape"
   ]
  },
  {
   "cell_type": "code",
   "execution_count": 105,
   "id": "2dfb9cc9-286e-4b36-92ea-d65b1c10202f",
   "metadata": {},
   "outputs": [
    {
     "data": {
      "text/plain": [
       "(100, 10000)"
      ]
     },
     "execution_count": 105,
     "metadata": {},
     "output_type": "execute_result"
    }
   ],
   "source": [
    "X_new_inversed = transformer.inverse_transform(X_new)\n",
    "X_new_inversed.shape"
   ]
  },
  {
   "cell_type": "code",
   "execution_count": 106,
   "id": "456fc7af-30bb-4a2c-934e-c67219257cee",
   "metadata": {},
   "outputs": [
    {
     "data": {
      "text/plain": [
       "True"
      ]
     },
     "execution_count": 106,
     "metadata": {},
     "output_type": "execute_result"
    }
   ],
   "source": [
    "X_new_again = transformer.transform(X_new_inversed)\n",
    "np.allclose(X_new, X_new_again)"
   ]
  },
  {
   "cell_type": "markdown",
   "id": "b6084e03-c22d-4d4a-9f7e-8084f946a7ee",
   "metadata": {},
   "source": [
    "#   <span style=\"color:blue\">Aproximación Kernel</span>"
   ]
  },
  {
   "cell_type": "markdown",
   "id": "e2ab3296-745b-4144-a1ca-7a2c7f23706f",
   "metadata": {},
   "source": [
    "Este submódulo contiene funciones que aproximan los mapeos de características que corresponden a ciertos núcleos, como se utilizan, por ejemplo, en las máquinas de vectores de soporte (ver Máquinas de Vectores de Soporte). Las siguientes funciones de características realizan transformaciones no lineales de la entrada, que pueden servir como base para la clasificación lineal u otros algoritmos.\n",
    "\n",
    "La ventaja de utilizar mapas de características explícitos aproximados en comparación con el truco del núcleo, que utiliza mapas de características de manera implícita, es que los mapeos explícitos pueden ser más adecuados para el aprendizaje en línea y pueden reducir significativamente el costo del aprendizaje con conjuntos de datos muy grandes. Las SVM (Máquinas de Vectores de Soporte) con núcleo estándar no escalan bien para conjuntos de datos grandes, pero utilizando un mapa de núcleo aproximado es posible utilizar SVM lineales mucho más eficientes. En particular, la combinación de aproximaciones de mapas de núcleo con SGDClassifier puede hacer posible el aprendizaje no lineal en conjuntos de datos grandes.\n",
    "\n",
    "Dado que no ha habido mucho trabajo empírico utilizando incrustaciones aproximadas, es recomendable comparar los resultados con métodos de núcleo exactos cuando sea posible."
   ]
  },
  {
   "cell_type": "markdown",
   "id": "5044172a-d748-4dce-af60-49f3950c3d45",
   "metadata": {},
   "source": [
    "###   <span style=\"color:blue\">Método Nystroem para la Aproximación de Núcleos</span>"
   ]
  },
  {
   "cell_type": "markdown",
   "id": "629fc2fa-2e80-4f40-99aa-b02d379180ba",
   "metadata": {},
   "source": [
    "El método Nystroem, implementado en [Nystroem](https://scikit-learn.org/stable/modules/generated/sklearn.kernel_approximation.Nystroem.html#sklearn.kernel_approximation.Nystroem), es un método general para aproximaciones de bajo rango de núcleos. Logra esto esencialmente tomando una submuestra de los datos en los cuales se evalúa el núcleo. De forma predeterminada, Nystroem utiliza el núcleo rbf, pero puede utilizar cualquier función de núcleo o una matriz de núcleo precalculada. El número de muestras utilizadas, que también es la dimensionalidad de las características calculadas, se determina mediante el parámetro n_components."
   ]
  },
  {
   "cell_type": "markdown",
   "id": "666e1d4a-9fd5-476b-b7a0-0148b3111530",
   "metadata": {},
   "source": [
    "###   <span style=\"color:blue\"> Núcleo de Función de Base Radial (Radial Basis Function Kernel)</span>"
   ]
  },
  {
   "cell_type": "markdown",
   "id": "9302d336-d06f-4102-8ff0-8d845f83d4ea",
   "metadata": {},
   "source": [
    "RBFSampler construye una asignación aproximada para el núcleo de función de base radial, también conocido como Random Kitchen Sinks [RR2007]. Esta transformación se puede utilizar para modelar explícitamente un mapa de núcleo antes de aplicar un algoritmo lineal, como por ejemplo una SVM lineal:"
   ]
  },
  {
   "cell_type": "code",
   "execution_count": 107,
   "id": "dc83e10a-d63b-4d4a-9288-1a498f16d52e",
   "metadata": {},
   "outputs": [
    {
     "name": "stderr",
     "output_type": "stream",
     "text": [
      "C:\\Users\\anroj\\anaconda3\\envs\\Plotly\\Lib\\site-packages\\sklearn\\linear_model\\_stochastic_gradient.py:713: ConvergenceWarning: Maximum number of iteration reached before convergence. Consider increasing max_iter to improve the fit.\n",
      "  warnings.warn(\n"
     ]
    },
    {
     "data": {
      "text/plain": [
       "SGDClassifier(max_iter=5)"
      ]
     },
     "execution_count": 107,
     "metadata": {},
     "output_type": "execute_result"
    }
   ],
   "source": [
    "from sklearn.kernel_approximation import RBFSampler\n",
    "from sklearn.linear_model import SGDClassifier\n",
    "X = [[0, 0], [1, 1], [1, 0], [0, 1]]\n",
    "y = [0, 0, 1, 1]\n",
    "rbf_feature = RBFSampler(gamma=1, random_state=1)\n",
    "X_features = rbf_feature.fit_transform(X)\n",
    "clf = SGDClassifier(max_iter=5)\n",
    "clf.fit(X_features, y)"
   ]
  },
  {
   "cell_type": "code",
   "execution_count": 108,
   "id": "c2f8443a-0e09-4650-9b46-962427773060",
   "metadata": {},
   "outputs": [
    {
     "data": {
      "text/plain": [
       "1.0"
      ]
     },
     "execution_count": 108,
     "metadata": {},
     "output_type": "execute_result"
    }
   ],
   "source": [
    "clf.score(X_features, y)"
   ]
  },
  {
   "cell_type": "markdown",
   "id": "b76d2c55-805c-4e0a-a6db-621869d9de8d",
   "metadata": {},
   "source": [
    "El mapeo se basa en una aproximación de Monte Carlo a los valores del núcleo. La función fit realiza el muestreo de Monte Carlo, mientras que el método transform realiza el mapeo de los datos. Debido a la aleatoriedad inherente del proceso, los resultados pueden variar entre diferentes llamadas a la función fit.\n",
    "\n",
    "La función fit toma dos argumentos: n_components, que es la dimensionalidad objetivo de la transformación de características, y gamma, el parámetro del núcleo RBF. Un valor más alto de n_components resultará en una mejor aproximación del núcleo y producirá resultados más similares a los producidos por una SVM con núcleo. Tenga en cuenta que \"ajustar\" la función de características en realidad no depende de los datos proporcionados a la función fit. Solo se utiliza la dimensionalidad de los datos. Los detalles sobre el método se pueden encontrar en [RR2007].\n",
    "\n",
    "Para un valor dado de n_components, [RBFSampler](https://scikit-learn.org/stable/modules/generated/sklearn.kernel_approximation.RBFSampler.html#sklearn.kernel_approximation.RBFSampler) a menudo es menos preciso que Nystroem. Sin embargo, RBFSampler es más económico de calcular, lo que hace que su uso en espacios de características más grandes sea más eficiente."
   ]
  },
  {
   "cell_type": "markdown",
   "id": "ba3bbeda-05ba-45e6-8a82-47b60e1dcf04",
   "metadata": {},
   "source": [
    "<figure> \n",
    "<center>\n",
    "<img src=\"https://scikit-learn.org/stable/_images/sphx_glr_plot_kernel_approximation_002.png\"/>\n",
    "</center>\n",
    "</figure>"
   ]
  },
  {
   "cell_type": "markdown",
   "id": "855c6cfa-6c62-455d-89b3-0383260f6bc3",
   "metadata": {},
   "source": [
    "**Examples**:\n",
    "\n",
    "- [Explicit feature map approximation for RBF kernels](https://scikit-learn.org/stable/auto_examples/miscellaneous/plot_kernel_approximation.html#sphx-glr-auto-examples-miscellaneous-plot-kernel-approximation-py)"
   ]
  },
  {
   "cell_type": "markdown",
   "id": "bb92e59c-17fe-47ae-b271-633b35cc1a22",
   "metadata": {},
   "source": [
    "###   <span style=\"color:blue\"> Núcleo aditivo de Chi-cuadrado</span>"
   ]
  },
  {
   "cell_type": "markdown",
   "id": "5f29da50-04f9-43a9-a3cf-d23c7c96d529",
   "metadata": {},
   "source": [
    "El núcleo aditivo de Chi-cuadrado es un núcleo utilizado en histogramas, a menudo utilizado en visión por computadora.\n",
    "\n",
    "El núcleo aditivo de Chi-cuadrado utilizado aquí se define como\n",
    "\n",
    "$$\n",
    "k(x, y) = \\sum_i \\frac{2x_iy_i}{x_i+y_i}\n",
    "$$\n",
    "\n",
    "Esto no es exactamente igual que sklearn.metrics.additive_chi2_kernel. Los autores de [VZ2010](https://scikit-learn.org/stable/modules/kernel_approximation.html#vz2010) prefieren la versión anterior porque siempre es definitivamente positiva. Dado que el núcleo es aditivo, es posible tratar todos los componentes por separado para su inclusión. Esto permite muestrear la transformada de Fourier en intervalos regulares en lugar de aproximarse mediante el muestreo de Monte Carlo.\n",
    "\n",
    "La clase [AdditiveChi2Sampler](https://scikit-learn.org/stable/modules/generated/sklearn.kernel_approximation.AdditiveChi2Sampler.html#sklearn.kernel_approximation.AdditiveChi2Sampler) implementa este muestreo determinista por componentes. Se muestrea cada componente $n$ veces, lo que produce $2n+1$ dimensiones por dimensión de entrada (el múltiplo de dos se debe a la parte real y compleja de la transformada de Fourier). En la literatura, suele elegirse como 1 o 2, lo que transforma el conjunto de datos en un tamaño de n_samples * 5 * n_features (en el caso de $n=2$).\n",
    "\n",
    "El mapa de características aproximado proporcionado por AdditiveChi2Sampler se puede combinar con el mapa de características aproximado proporcionado por RBFSampler para obtener un mapa de características aproximado para el núcleo de Chi-cuadrado exponenciado. Consulte [VZ2010] para obtener detalles y [VVZ2010] para obtener información sobre la combinación con RBFSampler."
   ]
  },
  {
   "cell_type": "markdown",
   "id": "56d3a65e-1e2b-4916-befa-49c2fdeea1b8",
   "metadata": {},
   "source": [
    "###   <span style=\"color:blue\"> Núcleo Chi Cuadrado Sesgado</span>"
   ]
  },
  {
   "cell_type": "markdown",
   "id": "b1a76c71-d1d6-4485-8399-2824b3118380",
   "metadata": {},
   "source": [
    "El núcleo chi cuadrado sesgado se define de la siguiente manera:\n",
    "\n",
    "$$\n",
    "k(x,y) = \\prod_i \\frac{2\\sqrt{x_i+c}\\sqrt{y_i+c}}{x_i + y_i + 2c}\n",
    "$$\n",
    "\n",
    "Tiene propiedades similares al núcleo chi cuadrado exponenciado que a menudo se utiliza en visión por computadora, pero permite una aproximación simple de Monte Carlo del mapa de características.\n",
    "\n",
    "El uso del [SkewedChi2Sampler](https://scikit-learn.org/stable/modules/generated/sklearn.kernel_approximation.SkewedChi2Sampler.html#sklearn.kernel_approximation.SkewedChi2Sampler) es el mismo que se describe anteriormente para el RBFSampler. La única diferencia está en el parámetro libre, que se llama [nombre del parámetro]. Para obtener una motivación para esta asignación y los detalles matemáticos, consulte [LS2010]."
   ]
  },
  {
   "cell_type": "markdown",
   "id": "91c6fe55-57a7-4059-a44c-138c2de3ed8b",
   "metadata": {},
   "source": [
    "###   <span style=\"color:blue\">Aproximación del núcleo polinómico mediante Tensor Sketch</span>"
   ]
  },
  {
   "cell_type": "markdown",
   "id": "a935e7c6-4c5a-4ec4-9392-f9c8a4318730",
   "metadata": {},
   "source": [
    "El [núcleo polinómico](https://scikit-learn.org/stable/modules/metrics.html#polynomial-kernel) es un tipo popular de función de núcleo definida como:\n",
    "\n",
    "$$\n",
    "k(x, y) = (\\gamma x^\\top y +c_0)^d\n",
    "$$\n",
    "\n",
    "donde:\n",
    "\n",
    "- x, y son los vectores de entrada\n",
    "- d es el grado del núcleo\n"
   ]
  },
  {
   "cell_type": "markdown",
   "id": "6c655217-d7b2-4b49-aa3e-4dda57cd0ce8",
   "metadata": {},
   "source": [
    "De manera intuitiva, el espacio de características del núcleo polinómico de grado d consiste en todos los productos posibles de grado d entre las características de entrada, lo que permite que los algoritmos de aprendizaje que utilizan este núcleo tengan en cuenta las interacciones entre características.\n",
    "\n",
    "El método TensorSketch [PP2013](https://scikit-learn.org/stable/modules/kernel_approximation.html#pp2013), implementado en [PolynomialCountSketch](https://scikit-learn.org/stable/modules/generated/sklearn.kernel_approximation.PolynomialCountSketch.html#sklearn.kernel_approximation.PolynomialCountSketch), es un método escalable e independiente de los datos de entrada para la aproximación del núcleo polinómico. Se basa en el concepto de Count Sketch [WIKICS](https://scikit-learn.org/stable/modules/kernel_approximation.html#wikics) [CCF2002](https://scikit-learn.org/stable/modules/kernel_approximation.html#ccf2002), una técnica de reducción de dimensionalidad similar a la función de hash de características, que en su lugar utiliza varias funciones de hash independientes. TensorSketch obtiene un Count Sketch del producto exterior de dos vectores (o un vector consigo mismo), que se puede utilizar como una aproximación del espacio de características del núcleo polinómico. En particular, en lugar de calcular explícitamente el producto exterior, TensorSketch calcula el Count Sketch de los vectores y luego utiliza la multiplicación polinómica a través de la Transformada Rápida de Fourier para calcular el Count Sketch de su producto exterior.\n",
    "\n",
    "De manera conveniente, la fase de entrenamiento de TensorSketch simplemente consiste en inicializar algunas variables aleatorias. Por lo tanto, es independiente de los datos de entrada, es decir, solo depende del número de características de entrada, pero no de los valores de los datos. Además, este método puede transformar muestras en $\\mathcal{O}(n_{\\text{samples}}(n_{\\text{features}} + n_{\\text{components}} \\log(n_{\\text{components}})))$ tiempo, donde $n_{\\text{components}}$ es la dimensión de salida deseada, determinada por n_components.\n",
    "\n",
    "**Ejemplos**:\n",
    "\n",
    "- [Scalable learning with polynomial kernel approximation](https://scikit-learn.org/stable/auto_examples/kernel_approximation/plot_scalable_poly_kernels.html#sphx-glr-auto-examples-kernel-approximation-plot-scalable-poly-kernels-py)"
   ]
  },
  {
   "cell_type": "markdown",
   "id": "0cc9696c-548b-4123-b167-ba43db601f94",
   "metadata": {},
   "source": [
    "###   <span style=\"color:blue\">Detalles matemáticos</span>"
   ]
  },
  {
   "cell_type": "markdown",
   "id": "55ca7371-8ea6-4c48-91b1-04a033305276",
   "metadata": {},
   "source": [
    "Los métodos de núcleo, como las máquinas de soporte vectorial o el PCA con núcleo, se basan en una propiedad de los espacios de Hilbert de núcleos reproductores. Para cualquier función de núcleo definida positiva $k$ (una función de núcleo de Mercer), se garantiza que existe un mapeo en un espacio de Hilbert $h$ , tal que\n",
    "\n",
    "$$\n",
    "k(x,y) = \\langle \\phi(x), \\phi(y) \\rangle\n",
    "$$\n",
    "\n",
    "Donde $\\langle \\cdot, \\cdot \\rangle$ denota el producto interno en el espacio de Hilbert.\n",
    "\n",
    "Si un algoritmo, como una máquina de soporte vectorial lineal o el PCA, se basa únicamente en el producto escalar de puntos de datos $x_i$\n",
    ", uno puede usar el valor de $k(x_i, x_j)$, que corresponde a aplicar el algoritmo a los puntos de datos mapeados $\\phi(x_i)$. La ventaja de usar $k$ es que el mapeo $\\phi(x_i)$ nunca tiene que calcularse explícitamente, lo que permite características arbitrariamente grandes (incluso infinitas).\n",
    "\n",
    "Una desventaja de los métodos de núcleo es que puede ser necesario almacenar muchos valores de núcleo $k(x_i, x_j)$ durante la optimización. Si se aplica un clasificador con núcleo a nuevos datos $y_I$, $k(x_i, y_j)$  es necesario calcular\n",
    "para hacer predicciones, posiblemente para muchos $x_i$ en el conjunto de entrenamiento.\n",
    "\n",
    "Las clases en este submódulo permiten aproximar la incrustación $\\phi$ , trabajando explícitamente con las representaciones $\\phi(x_i)$, lo que evita la necesidad de aplicar el núcleo o almacenar ejemplos de entrenamiento."
   ]
  },
  {
   "cell_type": "markdown",
   "id": "8c5cbb6c-7b52-4676-8eed-79462251a24f",
   "metadata": {},
   "source": [
    "**References**:\n",
    "[RR2007] (1,2)\n",
    "\n",
    "“Random features for large-scale kernel machines” Rahimi, A. and Recht, B. - Advances in neural information processing 2007,\n",
    "[LS2010]\n",
    "\n",
    "“Random Fourier approximations for skewed multiplicative histogram kernels” Li, F., Ionescu, C., and Sminchisescu, C. - Pattern Recognition, DAGM 2010, Lecture Notes in Computer Science.\n",
    "[VZ2010] (1,2)\n",
    "\n",
    "“Efficient additive kernels via explicit feature maps” Vedaldi, A. and Zisserman, A. - Computer Vision and Pattern Recognition 2010\n",
    "[VVZ2010]\n",
    "\n",
    "“Generalized RBF feature maps for Efficient Detection” Vempati, S. and Vedaldi, A. and Zisserman, A. and Jawahar, CV - 2010\n",
    "[PP2013]\n",
    "\n",
    "“Fast and scalable polynomial kernels via explicit feature maps” Pham, N., & Pagh, R. - 2013\n",
    "[CCF2002]\n",
    "\n",
    "“Finding frequent items in data streams” Charikar, M., Chen, K., & Farach-Colton - 2002\n",
    "[WIKICS]\n",
    "\n",
    "“Wikipedia: Count sketch”\n"
   ]
  },
  {
   "cell_type": "markdown",
   "id": "04f97c5e-f9af-4375-9eb2-03b9b151a461",
   "metadata": {},
   "source": [
    "#   <span style=\"color:blue\">Métricas por pares, Afinidades y Núcleos</span>"
   ]
  },
  {
   "cell_type": "markdown",
   "id": "5993c471-9566-4f56-986e-b2a434b4c1fd",
   "metadata": {},
   "source": [
    "El submódulo sklearn.metrics.pairwise implementa utilidades para evaluar distancias por pares o afinidades de conjuntos de muestras.\n",
    "\n",
    "Este módulo contiene tanto métricas de distancia como núcleos. Se presenta aquí un breve resumen de ambos.\n",
    "\n",
    "Las métricas de distancia son funciones d(a, b) tales que d(a, b) < d(a, c) si se considera que los objetos a y b son \"más similares\" que los objetos a y c. Dos objetos idénticos tendrían una distancia de cero. Uno de los ejemplos más populares es la distancia euclidiana. Para ser una métrica \"verdadera\", debe cumplir con las siguientes cuatro condiciones:"
   ]
  },
  {
   "cell_type": "code",
   "execution_count": null,
   "id": "1e909805-8c3f-4c90-aaf8-73d6e5ebcfb3",
   "metadata": {},
   "outputs": [],
   "source": [
    "1. d(a, b) >= 0, for all a and b\n",
    "2. d(a, b) == 0, if and only if a = b, positive definiteness\n",
    "3. d(a, b) == d(b, a), symmetry\n",
    "4. d(a, c) <= d(a, b) + d(b, c), the triangle inequality"
   ]
  },
  {
   "cell_type": "markdown",
   "id": "fb047f3c-0bd7-4039-b768-1483893196ce",
   "metadata": {},
   "source": [
    "Los núcleos son medidas de similitud, es decir, s(a, b) > s(a, c) si los objetos a y b se consideran \"más similares\" que los objetos a y c. Un núcleo también debe ser positivo semidefinido.\n",
    "\n",
    "Existen varias formas de convertir una métrica de distancia en una medida de similitud, como un núcleo. Sea D la distancia y S el núcleo:\n",
    "\n",
    "S = np.exp(-D * gamma), donde una heurística para elegir gamma es 1 / num_features\n",
    "\n",
    "S = 1. / (D / np.max(D))\n",
    "\n",
    "Las distancias entre los vectores de fila de X y los vectores de fila de Y se pueden evaluar utilizando pairwise_distances. Si se omite Y, se calculan las distancias por pares de los vectores de fila de X. Del mismo modo, pairwise.pairwise_kernels se puede utilizar para calcular el núcleo entre X e Y utilizando diferentes funciones de núcleo. Consulta la referencia de la API para obtener más detalles."
   ]
  },
  {
   "cell_type": "code",
   "execution_count": 109,
   "id": "b360300a-25c3-4103-8e21-cec47c0b9777",
   "metadata": {},
   "outputs": [
    {
     "data": {
      "text/plain": [
       "array([[ 4.,  2.],\n",
       "       [ 7.,  5.],\n",
       "       [12., 10.]])"
      ]
     },
     "execution_count": 109,
     "metadata": {},
     "output_type": "execute_result"
    }
   ],
   "source": [
    "import numpy as np\n",
    "from sklearn.metrics import pairwise_distances\n",
    "from sklearn.metrics.pairwise import pairwise_kernels\n",
    "X = np.array([[2, 3], [3, 5], [5, 8]])\n",
    "Y = np.array([[1, 0], [2, 1]])\n",
    "pairwise_distances(X, Y, metric='manhattan')"
   ]
  },
  {
   "cell_type": "code",
   "execution_count": 110,
   "id": "e86c412e-0184-42e7-ac33-64734c017100",
   "metadata": {},
   "outputs": [
    {
     "data": {
      "text/plain": [
       "array([[0., 3., 8.],\n",
       "       [3., 0., 5.],\n",
       "       [8., 5., 0.]])"
      ]
     },
     "execution_count": 110,
     "metadata": {},
     "output_type": "execute_result"
    }
   ],
   "source": [
    "pairwise_distances(X, metric='manhattan')"
   ]
  },
  {
   "cell_type": "code",
   "execution_count": 111,
   "id": "89ee5eae-2703-476f-828c-6ab51e6233ea",
   "metadata": {},
   "outputs": [
    {
     "data": {
      "text/plain": [
       "array([[ 2.,  7.],\n",
       "       [ 3., 11.],\n",
       "       [ 5., 18.]])"
      ]
     },
     "execution_count": 111,
     "metadata": {},
     "output_type": "execute_result"
    }
   ],
   "source": [
    "pairwise_kernels(X, Y, metric='linear')"
   ]
  },
  {
   "cell_type": "markdown",
   "id": "d184179a-1dd4-4606-96e8-bece5b6d3fec",
   "metadata": {},
   "source": [
    "###   <span style=\"color:blue\">Similitud coseno</span>"
   ]
  },
  {
   "cell_type": "markdown",
   "id": "b6ecb486-24fe-4f17-ad3d-fdcf8cae92f5",
   "metadata": {},
   "source": [
    "[cosine_similarity](https://scikit-learn.org/stable/modules/generated/sklearn.metrics.pairwise.cosine_similarity.html#sklearn.metrics.pairwise.cosine_similarity) calcula el producto escalar normalizado L2 de vectores. Es decir, si $x$ y $y$ son vectores fila, su similitud coseno $k$ se define como:\n",
    "\n",
    "$$\n",
    "k(x, y) = \\frac{x y^\\top}{\\|x\\| \\|y\\|}\n",
    "$$\n",
    "\n",
    "Esto se llama similitud coseno porque la normalización Euclidiana (L2) proyecta los vectores en la esfera unitaria, y su producto escalar es entonces el coseno del ángulo entre los puntos representados por los vectores.\n",
    "\n",
    "Este kernel es una elección popular para calcular la similitud de documentos representados como vectores tf-idf. cosine_similarity acepta matrices dispersas scipy.sparse. (Tenga en cuenta que la funcionalidad tf-idf en sklearn.feature_extraction.text puede producir vectores normalizados, en cuyo caso cosine_similarity es equivalente a [linear_kernel](https://scikit-learn.org/stable/modules/generated/sklearn.metrics.pairwise.linear_kernel.html#sklearn.metrics.pairwise.linear_kernel), solo que más lento).\n",
    "\n",
    "**Referencias**:\n",
    "\n",
    "C.D. Manning, P. Raghavan y H. Schütze (2008). Introducción a la Recuperación de Información. Cambridge University Press. [https://nlp.stanford.edu/IR-book/html/htmledition/the-vector-space-model-for-scoring-1.html](https://nlp.stanford.edu/IR-book/html/htmledition/the-vector-space-model-for-scoring-1.html)"
   ]
  },
  {
   "cell_type": "markdown",
   "id": "e7daeccd-cbaa-461b-a217-ca793f8e1808",
   "metadata": {},
   "source": [
    "###   <span style=\"color:blue\">Núcleo lineal</span>"
   ]
  },
  {
   "cell_type": "markdown",
   "id": "156a6931-f18f-4b83-a0af-1d323f1fa2a6",
   "metadata": {},
   "source": [
    "La función linear_kernel calcula el núcleo lineal, que es un caso especial del núcleo polinómico con degree=1 y coef0=0 (homogéneo). Si x e y son vectores columna, su núcleo lineal es:\n",
    "\n",
    "$$\n",
    "k(x, y) = x^\\top y\n",
    "$$"
   ]
  },
  {
   "cell_type": "markdown",
   "id": "ba6da8bd-3cc4-4030-bb36-8fe9e2e2012d",
   "metadata": {},
   "source": [
    "###   <span style=\"color:blue\">Kernel polinomial</span>"
   ]
  },
  {
   "cell_type": "markdown",
   "id": "03bc64f3-2252-4d7b-a30e-ec0866ba1141",
   "metadata": {},
   "source": [
    "La función polynomial_kernel calcula el kernel polinómico de grado-d entre dos vectores. El kernel polinómico representa la similitud entre dos vectores. Conceptualmente, el kernel polinómico no solo considera la similitud entre vectores en la misma dimensión, sino también entre dimensiones. Cuando se utiliza en algoritmos de aprendizaje automático, esto permite tener en cuenta la interacción entre características.\n",
    "\n",
    "El kernel polinómico se define como:\n",
    "\n",
    "$$\n",
    "k(x, y) = (\\gamma x^\\top y +c_0)^d\n",
    "$$\n",
    "\n",
    "donde:\n",
    "\n",
    "- x, y son los vectores de entrada\n",
    "\n",
    "- d es el grado del kernel\n",
    "\n",
    "Si $c_0 = 0$ se dice que el kernel es homogéneo."
   ]
  },
  {
   "cell_type": "markdown",
   "id": "583067fb-a5eb-47f7-80e7-71bfa7de95e7",
   "metadata": {},
   "source": [
    "###   <span style=\"color:blue\">Kernel sigmoide</span>"
   ]
  },
  {
   "cell_type": "markdown",
   "id": "6f8e15f4-20f7-4fd6-8219-53ebc1e75747",
   "metadata": {},
   "source": [
    "La función [sigmoid_kernel](https://scikit-learn.org/stable/modules/generated/sklearn.metrics.pairwise.sigmoid_kernel.html#sklearn.metrics.pairwise.sigmoid_kernel) calcula el núcleo sigmoidal entre dos vectores. El núcleo sigmoidal también se conoce como tangente hiperbólica o Perceptrón Multicapa (porque, en el campo de las redes neuronales, a menudo se utiliza como función de activación de neuronas). Se define de la siguiente manera:\n",
    "\n",
    "$$\n",
    "k(x, y) = \\tanh( \\gamma x^\\top y + c_0)\n",
    "$$\n",
    "\n",
    "donde:\n",
    "\n",
    "- x, y son los vectores de entrada\n",
    "\n",
    "- $\\gamma$ se conoce como la pendiente\n",
    "\n",
    "- $c_0$ se conoce como la intercepción"
   ]
  },
  {
   "cell_type": "markdown",
   "id": "1fec05c6-98ec-47c7-a88a-5550292f17b3",
   "metadata": {},
   "source": [
    "###   <span style=\"color:blue\">Kernel RBF</span>"
   ]
  },
  {
   "cell_type": "markdown",
   "id": "70b24319-8db8-4a0b-a224-c3abb67fd46f",
   "metadata": {},
   "source": [
    "La función rbf_kernel calcula el kernel de función de base radial (RBF) entre dos vectores. Este kernel se define como:\n",
    "\n",
    "$$\n",
    "k(x, y) = \\exp( -\\gamma \\| x-y \\|^2)\n",
    "$$\n",
    "\n",
    "donde x e y son los vectores de entrada. Si $\\gamma = \\sigma^{-2}$ el kernel se conoce como el kernel Gaussiano de varianza $\\sigma^2$."
   ]
  },
  {
   "cell_type": "markdown",
   "id": "23c5af29-b759-4cc8-bc7f-c7b75c9408f5",
   "metadata": {},
   "source": [
    "###   <span style=\"color:blue\">Kernel laplaciano</span>"
   ]
  },
  {
   "cell_type": "markdown",
   "id": "afbd167f-b84e-405d-b77f-61b0e1e10b72",
   "metadata": {},
   "source": [
    "La función [laplacian_kernel](https://scikit-learn.org/stable/modules/generated/sklearn.metrics.pairwise.laplacian_kernel.html#sklearn.metrics.pairwise.laplacian_kernel) es una variante del kernel de función de base radial definido como:\n",
    "\n",
    "$$\n",
    "k(x, y) = \\exp( -\\gamma \\| x-y \\|_1)\n",
    "$$\n",
    "\n",
    "donde x e y son los vectores de entrada y $\\|x-y\\|_1$ es la distancia de Manhattan entre los vectores de entrada.\n",
    "\n",
    "Se ha demostrado útil en el aprendizaje automático aplicado a datos sin ruido. Véase, por ejemplo, [Machine learning for quantum mechanics in a nutshell](https://onlinelibrary.wiley.com/doi/full/10.1002/qua.24954)."
   ]
  },
  {
   "cell_type": "markdown",
   "id": "7676ad1d-2b75-4e4a-b238-141eadc04603",
   "metadata": {},
   "source": [
    "###   <span style=\"color:blue\">Kernel Chi-cuadrado</span>"
   ]
  },
  {
   "cell_type": "markdown",
   "id": "d1aa3243-4ee0-4991-af68-0e639285d50b",
   "metadata": {},
   "source": [
    "El núcleo chi-cuadrado es una elección muy popular para entrenar SVM no lineales en aplicaciones de visión por computadora. Se puede calcular utilizando [chi2_kernel](https://scikit-learn.org/stable/modules/generated/sklearn.metrics.pairwise.chi2_kernel.html#sklearn.metrics.pairwise.chi2_kernel) y luego pasarse a un [SVC](https://scikit-learn.org/stable/modules/generated/sklearn.svm.SVC.html#sklearn.svm.SVC) con kernel=\"precomputed\":"
   ]
  },
  {
   "cell_type": "code",
   "execution_count": 112,
   "id": "77035359-3f28-41a2-9f25-c67bfd91b9a1",
   "metadata": {},
   "outputs": [
    {
     "data": {
      "text/plain": [
       "array([[1.        , 0.36787944, 0.89483932, 0.58364548],\n",
       "       [0.36787944, 1.        , 0.51341712, 0.83822343],\n",
       "       [0.89483932, 0.51341712, 1.        , 0.7768366 ],\n",
       "       [0.58364548, 0.83822343, 0.7768366 , 1.        ]])"
      ]
     },
     "execution_count": 112,
     "metadata": {},
     "output_type": "execute_result"
    }
   ],
   "source": [
    "from sklearn.svm import SVC\n",
    "from sklearn.metrics.pairwise import chi2_kernel\n",
    "X = [[0, 1], [1, 0], [.2, .8], [.7, .3]]\n",
    "y = [0, 1, 0, 1]\n",
    "K = chi2_kernel(X, gamma=.5)\n",
    "K"
   ]
  },
  {
   "cell_type": "code",
   "execution_count": 113,
   "id": "bbb2f160-602e-444b-bf02-4b6fde62079f",
   "metadata": {},
   "outputs": [
    {
     "data": {
      "text/plain": [
       "array([0, 1, 0, 1])"
      ]
     },
     "execution_count": 113,
     "metadata": {},
     "output_type": "execute_result"
    }
   ],
   "source": [
    "svm = SVC(kernel='precomputed').fit(K, y)\n",
    "svm.predict(K)"
   ]
  },
  {
   "cell_type": "markdown",
   "id": "22708445-9427-425a-904c-af057f9ad23e",
   "metadata": {},
   "source": [
    "También se puede usar directamente como el argumento del núcleo:"
   ]
  },
  {
   "cell_type": "code",
   "execution_count": 114,
   "id": "b14ab69d-5971-4dd4-bc27-4800fe6d28ea",
   "metadata": {},
   "outputs": [
    {
     "data": {
      "text/plain": [
       "array([0, 1, 0, 1])"
      ]
     },
     "execution_count": 114,
     "metadata": {},
     "output_type": "execute_result"
    }
   ],
   "source": [
    "svm = SVC(kernel=chi2_kernel).fit(X, y)\n",
    "svm.predict(X)"
   ]
  },
  {
   "cell_type": "markdown",
   "id": "c9fca95d-d4d2-4c43-8ca7-8c5406209fc6",
   "metadata": {},
   "source": [
    "El kernel chi cuadrado se define como\n",
    "\n",
    "$$\n",
    "k(x, y) = \\exp \\left (-\\gamma \\sum_i \\frac{(x[i] - y[i]) ^ 2}{x[i] + y[i]} \\right )\n",
    "$$\n",
    "\n",
    "Se supone que los datos son no negativos y a menudo se normalizan para tener una norma L1 igual a uno. La normalización se justifica mediante la conexión con la distancia chi cuadrado, que es una distancia entre distribuciones de probabilidad discretas.\n",
    "\n",
    "El kernel chi cuadrado se utiliza más comúnmente en histogramas (bolsas) de palabras visuales.\n",
    "\n",
    "**Referencias**:\n",
    "\n",
    "Zhang, J. y Marszalek, M. y Lazebnik, S. y Schmid, C. Características locales y kernels para la clasificación de texturas y categorías de objetos: un estudio exhaustivo. International Journal of Computer Vision 2007. [Enlace al documento](https://hal.archives-ouvertes.fr/hal-00171412/document)"
   ]
  },
  {
   "cell_type": "markdown",
   "id": "b4d54560-b49c-464a-9388-bb0cf8a6634c",
   "metadata": {},
   "source": [
    "#   <span style=\"color:blue\">Transformando el objetivo de predicción (y)</span>"
   ]
  },
  {
   "cell_type": "markdown",
   "id": "da52ae56-50cf-422f-b54b-769187f0a143",
   "metadata": {},
   "source": [
    "Estos son transformadores que no están destinados a utilizarse en características, sino solo en objetivos de aprendizaje supervisado. Consulta también \"Transformar el objetivo en regresión\" si deseas transformar el objetivo de predicción para el aprendizaje, pero evaluar el modelo en el espacio original (sin transformar)."
   ]
  },
  {
   "cell_type": "markdown",
   "id": "5af17a65-45aa-46b7-8810-14d45af16ad0",
   "metadata": {},
   "source": [
    "###   <span style=\"color:blue\">Binarización de etiquetas</span>"
   ]
  },
  {
   "cell_type": "markdown",
   "id": "2bca6edc-c97c-4903-b4c3-4dd0a12bad2f",
   "metadata": {},
   "source": [
    "####   <span style=\"color:blue\">LabelBinarizer</span>"
   ]
  },
  {
   "cell_type": "markdown",
   "id": "79f2c314-a7f5-44fc-ad46-56da162436b6",
   "metadata": {},
   "source": [
    "[LabelBinarizer](https://scikit-learn.org/stable/modules/generated/sklearn.preprocessing.LabelBinarizer.html#sklearn.preprocessing.LabelBinarizer) es una clase de utilidad que ayuda a crear una matriz indicadora de etiquetas a partir de una lista de etiquetas multiclase:"
   ]
  },
  {
   "cell_type": "code",
   "execution_count": 115,
   "id": "4b0d8388-a05b-4fbb-8bcf-c51549d6facb",
   "metadata": {},
   "outputs": [
    {
     "data": {
      "text/plain": [
       "LabelBinarizer()"
      ]
     },
     "execution_count": 115,
     "metadata": {},
     "output_type": "execute_result"
    }
   ],
   "source": [
    "from sklearn import preprocessing\n",
    "lb = preprocessing.LabelBinarizer()\n",
    "lb.fit([1, 2, 6, 4, 2])"
   ]
  },
  {
   "cell_type": "code",
   "execution_count": 116,
   "id": "c0cd9e81-0b0d-4b40-85bf-f0da8db1ab2a",
   "metadata": {},
   "outputs": [
    {
     "data": {
      "text/plain": [
       "array([1, 2, 4, 6])"
      ]
     },
     "execution_count": 116,
     "metadata": {},
     "output_type": "execute_result"
    }
   ],
   "source": [
    "lb.classes_"
   ]
  },
  {
   "cell_type": "code",
   "execution_count": 117,
   "id": "8b5e4f9c-90d0-4a09-9506-8f29f3bfe7ff",
   "metadata": {},
   "outputs": [
    {
     "data": {
      "text/plain": [
       "array([[1, 0, 0, 0],\n",
       "       [0, 0, 0, 1]])"
      ]
     },
     "execution_count": 117,
     "metadata": {},
     "output_type": "execute_result"
    }
   ],
   "source": [
    "lb.transform([1, 6])"
   ]
  },
  {
   "cell_type": "markdown",
   "id": "d402af24-a20f-4843-87b5-ff68302b7c04",
   "metadata": {},
   "source": [
    "Usar este formato puede permitir la clasificación multiclase en estimadores que admiten el formato de matriz indicadora de etiquetas."
   ]
  },
  {
   "cell_type": "markdown",
   "id": "f47ea658-f49a-4e9e-8db0-cf2e739399ad",
   "metadata": {},
   "source": [
    "**Advertencia**\n",
    "\n",
    "No es necesario usar LabelBinarizer si estás utilizando un estimador que ya admite datos multiclase."
   ]
  },
  {
   "cell_type": "markdown",
   "id": "636b7d6c-9338-469a-b41c-98f953fa1620",
   "metadata": {},
   "source": [
    "####   <span style=\"color:blue\">MultiLabelBinarizer</span>"
   ]
  },
  {
   "cell_type": "markdown",
   "id": "2780877c-9107-4e44-8ca4-efc9cec22871",
   "metadata": {},
   "source": [
    "En el aprendizaje multietiqueta, el conjunto conjunto conjunto de tareas de clasificación binaria se expresa con un arreglo indicador binario de etiquetas: cada muestra es una fila de un arreglo bidimensional de forma (n_muestras, n_clases) con valores binarios donde el uno, es decir, los elementos no nulos, corresponden al subconjunto de etiquetas para esa muestra. Un arreglo como np.array([[1, 0, 0], [0, 1, 1], [0, 0, 0]]) representa la etiqueta 0 en la primera muestra, las etiquetas 1 y 2 en la segunda muestra y ninguna etiqueta en la tercera muestra.\n",
    "\n",
    "Producir datos multietiqueta como una lista de conjuntos de etiquetas puede ser más intuitivo. El transformador [MultiLabelBinarizer](https://scikit-learn.org/stable/modules/generated/sklearn.preprocessing.MultiLabelBinarizer.html#sklearn.preprocessing.MultiLabelBinarizer) se puede utilizar para convertir entre una colección de colecciones de etiquetas y el formato indicador:"
   ]
  },
  {
   "cell_type": "code",
   "execution_count": 118,
   "id": "24f17014-ad66-4cef-9c42-5408e2e2053b",
   "metadata": {},
   "outputs": [
    {
     "data": {
      "text/plain": [
       "array([[0, 0, 1, 1, 1],\n",
       "       [0, 0, 1, 0, 0],\n",
       "       [1, 1, 0, 1, 0],\n",
       "       [1, 1, 1, 1, 1],\n",
       "       [1, 1, 1, 0, 0]])"
      ]
     },
     "execution_count": 118,
     "metadata": {},
     "output_type": "execute_result"
    }
   ],
   "source": [
    "from sklearn.preprocessing import MultiLabelBinarizer\n",
    "y = [[2, 3, 4], [2], [0, 1, 3], [0, 1, 2, 3, 4], [0, 1, 2]]\n",
    "MultiLabelBinarizer().fit_transform(y)"
   ]
  },
  {
   "cell_type": "markdown",
   "id": "979871ed-f4f6-4358-bc30-413195c32928",
   "metadata": {},
   "source": [
    "###   <span style=\"color:blue\">Codificación de etiquetas</span>"
   ]
  },
  {
   "cell_type": "markdown",
   "id": "af5ada5d-29be-4818-b10f-d24362e7f8f7",
   "metadata": {},
   "source": [
    "[LabelEncoder](https://scikit-learn.org/stable/modules/generated/sklearn.preprocessing.LabelEncoder.html#sklearn.preprocessing.LabelEncoder) es una clase de utilidad que ayuda a normalizar etiquetas de manera que solo contengan valores entre 0 y n_classes-1. Esto a veces es útil para escribir rutinas eficientes en Cython. LabelEncoder se puede usar de la siguiente manera:"
   ]
  },
  {
   "cell_type": "code",
   "execution_count": 119,
   "id": "e1683144-3914-431d-ab08-8c5ae10aefc2",
   "metadata": {},
   "outputs": [
    {
     "data": {
      "text/plain": [
       "LabelEncoder()"
      ]
     },
     "execution_count": 119,
     "metadata": {},
     "output_type": "execute_result"
    }
   ],
   "source": [
    "from sklearn import preprocessing\n",
    "le = preprocessing.LabelEncoder()\n",
    "le.fit([1, 2, 2, 6])"
   ]
  },
  {
   "cell_type": "code",
   "execution_count": 120,
   "id": "a4269657-5002-42a3-940c-7ebe4d47bc23",
   "metadata": {},
   "outputs": [
    {
     "data": {
      "text/plain": [
       "array([1, 2, 6])"
      ]
     },
     "execution_count": 120,
     "metadata": {},
     "output_type": "execute_result"
    }
   ],
   "source": [
    "le.classes_"
   ]
  },
  {
   "cell_type": "code",
   "execution_count": 121,
   "id": "fb9afd42-48e2-4802-9487-60ad0349af2b",
   "metadata": {},
   "outputs": [
    {
     "data": {
      "text/plain": [
       "array([0, 0, 1, 2], dtype=int64)"
      ]
     },
     "execution_count": 121,
     "metadata": {},
     "output_type": "execute_result"
    }
   ],
   "source": [
    "le.transform([1, 1, 2, 6])"
   ]
  },
  {
   "cell_type": "code",
   "execution_count": 122,
   "id": "67d7c82c-1b93-4924-8702-95b848c7d36a",
   "metadata": {},
   "outputs": [
    {
     "data": {
      "text/plain": [
       "array([1, 1, 2, 6])"
      ]
     },
     "execution_count": 122,
     "metadata": {},
     "output_type": "execute_result"
    }
   ],
   "source": [
    "le.inverse_transform([0, 0, 1, 2])"
   ]
  },
  {
   "cell_type": "markdown",
   "id": "121c6bfb-3184-40b0-853d-7c2bd0a038a1",
   "metadata": {},
   "source": [
    "También se puede usar para transformar etiquetas no numéricas (siempre y cuando sean hasheables y comparables) en etiquetas numéricas:"
   ]
  },
  {
   "cell_type": "code",
   "execution_count": 123,
   "id": "db14d6ee-9572-4cf5-b47d-239b2a7f5a24",
   "metadata": {},
   "outputs": [
    {
     "data": {
      "text/plain": [
       "LabelEncoder()"
      ]
     },
     "execution_count": 123,
     "metadata": {},
     "output_type": "execute_result"
    }
   ],
   "source": [
    "le = preprocessing.LabelEncoder()\n",
    "le.fit([\"paris\", \"paris\", \"tokyo\", \"amsterdam\"])"
   ]
  },
  {
   "cell_type": "code",
   "execution_count": 124,
   "id": "ba7678da-3b5a-46f7-8994-74f61862d68e",
   "metadata": {},
   "outputs": [
    {
     "data": {
      "text/plain": [
       "['amsterdam', 'paris', 'tokyo']"
      ]
     },
     "execution_count": 124,
     "metadata": {},
     "output_type": "execute_result"
    }
   ],
   "source": [
    "list(le.classes_)"
   ]
  },
  {
   "cell_type": "code",
   "execution_count": 125,
   "id": "a96471c6-a56b-459a-9d41-021bf435fa1f",
   "metadata": {},
   "outputs": [
    {
     "data": {
      "text/plain": [
       "array([2, 2, 1])"
      ]
     },
     "execution_count": 125,
     "metadata": {},
     "output_type": "execute_result"
    }
   ],
   "source": [
    "le.transform([\"tokyo\", \"tokyo\", \"paris\"])"
   ]
  },
  {
   "cell_type": "code",
   "execution_count": 126,
   "id": "efd7d4d3-6233-4825-9b3f-8d4b3257bf50",
   "metadata": {},
   "outputs": [
    {
     "data": {
      "text/plain": [
       "['tokyo', 'tokyo', 'paris']"
      ]
     },
     "execution_count": 126,
     "metadata": {},
     "output_type": "execute_result"
    }
   ],
   "source": [
    "list(le.inverse_transform([2, 2, 1]))"
   ]
  },
  {
   "cell_type": "code",
   "execution_count": null,
   "id": "96a2262f-a378-4676-a4d8-2c2af6f47d1c",
   "metadata": {},
   "outputs": [],
   "source": []
  }
 ],
 "metadata": {
  "kernelspec": {
   "display_name": "Python 3 (ipykernel)",
   "language": "python",
   "name": "python3"
  },
  "language_info": {
   "codemirror_mode": {
    "name": "ipython",
    "version": 3
   },
   "file_extension": ".py",
   "mimetype": "text/x-python",
   "name": "python",
   "nbconvert_exporter": "python",
   "pygments_lexer": "ipython3",
   "version": "3.11.4"
  }
 },
 "nbformat": 4,
 "nbformat_minor": 5
}
