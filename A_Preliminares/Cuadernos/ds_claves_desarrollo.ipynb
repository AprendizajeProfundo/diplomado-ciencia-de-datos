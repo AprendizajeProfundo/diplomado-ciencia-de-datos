{
 "cells": [
  {
   "cell_type": "markdown",
   "id": "e17872b7-6436-4310-a263-c624d9b1419a",
   "metadata": {
    "slideshow": {
     "slide_type": "slide"
    },
    "tags": []
   },
   "source": [
    "<figure>\n",
    "<img src=\"https://raw.githubusercontent.com/AprendizajeProfundo/diplomado-ciencia-de-datos/master/A_Preliminares/Imagenes/logo-final-ap.png\"  width=\"80\" height=\"80\" align=\"left\"/> \n",
    "</figure>\n",
    "\n",
    "# <span style=\"color:blue\"><left>Aprendizaje Profundo</left></span>"
   ]
  },
  {
   "cell_type": "markdown",
   "id": "9410923b-9f52-40c6-9563-a390ef1708f6",
   "metadata": {},
   "source": [
    "# <span style=\"color:red\"><center>Ciencia de Datos</center></span>"
   ]
  },
  {
   "cell_type": "markdown",
   "id": "50508e80-b758-446e-b1d5-ab318d958f0c",
   "metadata": {
    "slideshow": {
     "slide_type": "slide"
    }
   },
   "source": [
    "## <span style=\"color:#4361EE\">Profesores</span>"
   ]
  },
  {
   "cell_type": "markdown",
   "id": "b2e750f3-cc8c-4ce9-89d4-50c535a91639",
   "metadata": {},
   "source": [
    "1. Alvaro Montenegro, PhD, ammontenegrod@unal.edu.co\n",
    "1. Campo Elías Pardo, PhD, cepardot@unal.edu.co\n",
    "1. Daniel Montenegro, Msc, dextronomo@gmail.com \n",
    "1. Camilo Torres, Msc, cjtorresj@unal.edu.co"
   ]
  },
  {
   "cell_type": "markdown",
   "id": "04c2b686-b3c0-4bbc-91e8-1d40a5b7bd8a",
   "metadata": {},
   "source": [
    "## <span style=\"color:#4361EE\">Asesora Medios y Marketing digital</span>"
   ]
  },
  {
   "cell_type": "markdown",
   "id": "a27368ec-af97-4720-b27d-b92d18d8280a",
   "metadata": {},
   "source": [
    "5. Maria del Pilar Montenegro, pmontenegro88@gmail.com\n",
    "6. Jessica López Mejía, jelopezme@unal.edu.co\n",
    "7. Venus Puertas, vpuertasg@unal.edu.co"
   ]
  },
  {
   "cell_type": "markdown",
   "id": "5705572f-d2c6-4883-abec-2d677cfc86c2",
   "metadata": {},
   "source": [
    "## <span style=\"color:#4361EE\">Jefe Jurídica</span>"
   ]
  },
  {
   "cell_type": "markdown",
   "id": "fd1c806b-91e5-43df-b91f-1f976e8bc9a6",
   "metadata": {},
   "source": [
    "8. Paula Andrea Guzmán, guzmancruz.paula@gmail.com"
   ]
  },
  {
   "cell_type": "markdown",
   "id": "3bbeb9d2-43ca-4a38-b974-c2a651432778",
   "metadata": {
    "slideshow": {
     "slide_type": "subslide"
    }
   },
   "source": [
    "## <span style=\"color:#4361EE\">Coordinador Jurídico</span>"
   ]
  },
  {
   "cell_type": "markdown",
   "id": "0d3ebad2-1d3f-4aee-b2d4-4925cfed9dc0",
   "metadata": {},
   "source": [
    "9. David Fuentes, fuentesd065@gmail.com"
   ]
  },
  {
   "cell_type": "markdown",
   "id": "73907297-dde5-4563-abda-b496eb147dc7",
   "metadata": {},
   "source": [
    "## <span style=\"color:#4361EE\">Desarrolladores Principales</span>"
   ]
  },
  {
   "cell_type": "markdown",
   "id": "561fad8b-4dc3-478f-a2e8-5deeb1cd824b",
   "metadata": {},
   "source": [
    "10. Dairo Moreno, damoralesj@unal.edu.co\n",
    "11. Joan Castro, jocastroc@unal.edu.co\n",
    "12. Bryan Riveros, briveros@unal.edu.co\n",
    "13. Rosmer Vargas, rovargasc@unal.edu.co"
   ]
  },
  {
   "cell_type": "markdown",
   "id": "2a832cfe-5b62-430d-9a2d-c96e4a3128d6",
   "metadata": {},
   "source": [
    "## <span style=\"color:#4361EE\">Expertos en Bases de Datos</span>"
   ]
  },
  {
   "cell_type": "markdown",
   "id": "4be34a15-84c3-4d81-8880-b4fc21357978",
   "metadata": {},
   "source": [
    "14. Giovvani Barrera, udgiovanni@gmail.com\n",
    "15. Camilo Chitivo, cchitivo@unal.edu.co"
   ]
  },
  {
   "cell_type": "markdown",
   "id": "2a0da79b-44dc-460c-ac1e-b71ade087a9c",
   "metadata": {
    "slideshow": {
     "slide_type": "slide"
    },
    "tags": []
   },
   "source": [
    "## <span style=\"color:#4361EE\">Contenido</span>"
   ]
  },
  {
   "cell_type": "markdown",
   "id": "22434174-4335-4e04-91b4-adc7c3cd665a",
   "metadata": {},
   "source": [
    "* [Nuestro equipo](#Nuestro-equipo)"
   ]
  },
  {
   "cell_type": "markdown",
   "id": "3fb53d12-1afd-4c49-b625-58fff4af141f",
   "metadata": {},
   "source": [
    "[Que es la ciencia de datos](#Que-es-la-ciencia-de-datos)\n",
    "* [Identificar el problema y el objetivo](#Identificar-el-problema-y-el-objetivo)\n",
    "* [Capturar y recolectar de datos](#Capturar-y-recolectar-de-datos)\n",
    "* [Transformar](Transformar)\n",
    "* [Explorar, análizar, modelar, visualizar y concluir](#Concluir-y-visualizar)"
   ]
  },
  {
   "cell_type": "markdown",
   "id": "578ed542-cfa4-46ec-9f1b-c97a83ed46e9",
   "metadata": {},
   "source": [
    "[Claves de desarrollo en ciencia de datos](#Claves-de-desarrollo-en-ciencia-de-datos)\n",
    "* [Digitalización de documentos](#Digitalización-de-documentos)\n",
    "* [Matemáticas](#Matemáticas)\n",
    "* [Transformación de problemas](#Transformación-de-problemas)\n",
    "* [Tecnología](#Tecnología)\n",
    "* [Arquitecturas Neuronales Paradigma](#Arquitecturas-Neuronales-Paradigma)"
   ]
  },
  {
   "cell_type": "markdown",
   "id": "64659b3d-d30a-46cf-885f-f576cb4ee62e",
   "metadata": {
    "slideshow": {
     "slide_type": "slide"
    }
   },
   "source": [
    "## <span style=\"color:#4361EE\">Nuestro equipo</span>"
   ]
  },
  {
   "cell_type": "markdown",
   "id": "d89daa42-ebd4-4ee5-915c-3a7a1a5c69b3",
   "metadata": {},
   "source": [
    "### <span style=\"color:#4CC9F0\">Alvaro Montenegro, PhD</span>"
   ]
  },
  {
   "cell_type": "markdown",
   "id": "21ab42a1-2a8a-44fb-8c61-b8494581a523",
   "metadata": {},
   "source": [
    "* Líder en ciencia de datos. Experto 3.0\n",
    "* Matemático, informático y Estadístico, con Msc y PhD en Estadística.\n",
    "* Profesor de inteligencia artificial, minería de datos, aprendizaje profundo, métodos de computación intensiva ciencia de datos, big-data, estadística bayesiana, Teoría de Respuesta al Ítem, entre otras.\n",
    "* Desarrollado proyectos gubernamentales como el sistema de información ciencia y tecnología de Colombia.\n",
    "* Investigador y desarrollador en Inteligencia Artificial."
   ]
  },
  {
   "cell_type": "markdown",
   "id": "b1f9c17d-9b94-4080-8518-6dac1fed7529",
   "metadata": {
    "slideshow": {
     "slide_type": "subslide"
    }
   },
   "source": [
    "### <span style=\"color:#4CC9F0\">Campo Elías Pardo, PhD</span>"
   ]
  },
  {
   "cell_type": "markdown",
   "id": "ab0d5617-b0c2-4cfc-ba3c-6658a759f780",
   "metadata": {},
   "source": [
    "* Experto en ciencia de datos. Experto 2.0\n",
    "* Ingeniero químico, con Msc y PhD en Estadística\n",
    "* Profesor de estadística multivariada Descriptiva, ciencia de datos, minería de datos, entre otros.\n",
    "* Desarrollo de productos de análisis multivariado de datos\n",
    "* Investigador y desarrollador en modelos no supervisados"
   ]
  },
  {
   "cell_type": "markdown",
   "id": "aefd317f-cbe1-4570-95fc-ef0fd86e716c",
   "metadata": {
    "slideshow": {
     "slide_type": "subslide"
    }
   },
   "source": [
    "### <span style=\"color:#4CC9F0\">Daniel Montenegro, Msc</span>"
   ]
  },
  {
   "cell_type": "markdown",
   "id": "4221b944-5a46-47bd-b109-fd57ed31274d",
   "metadata": {},
   "source": [
    "* Experto en ciencia de datos. Experto 2.0\n",
    "* Matemático,  con Msc y PhD en Matemática Aplicada\n",
    "* Profesor de inteligencia artificial, modelación matemática, métodos numéricos, redes neuronales, aprendizaje profundo, entre otros.\n",
    "* Desarrollo de proyecto de IA en lenguaje natural\n",
    "* Investigador y desarrollador en Inteligencia Artificial"
   ]
  },
  {
   "cell_type": "markdown",
   "id": "0cb53d80-be40-46ec-9db1-218518a1bcbe",
   "metadata": {
    "slideshow": {
     "slide_type": "subslide"
    }
   },
   "source": [
    "### <span style=\"color:#4CC9F0\">Camilo Torres, Msc</span>"
   ]
  },
  {
   "cell_type": "markdown",
   "id": "9e90c9b6-2cba-4c90-8b15-eb062f27384b",
   "metadata": {},
   "source": [
    "* Experto en ciencia de datos. Experto 2.0.\n",
    "* Matemático, con línea de profundización en Informática y Msc en Estadística.\n",
    "* Profesor de cursos de fundamentación matemático-estadística, análisis de datos multivariados y lenguajes de programación, entre otros.\n",
    "* Programador, administrador de bases de datos (DBA), consultor y líder de proyectos en ciencia de datos."
   ]
  },
  {
   "cell_type": "markdown",
   "id": "1cc01710-1c61-41e1-9f48-2c4620dd53f6",
   "metadata": {
    "slideshow": {
     "slide_type": "slide"
    }
   },
   "source": [
    "# <span style=\"color:green\"><center>Que es la ciencia de datos</center></span>"
   ]
  },
  {
   "cell_type": "markdown",
   "id": "1647d3b6-e922-40de-83ad-f4325fd5c454",
   "metadata": {},
   "source": [
    "**El área trabajo empresarial encargada de convertir datos en productos.**"
   ]
  },
  {
   "cell_type": "markdown",
   "id": "72358432-cff3-4487-b792-b3d834a3ecda",
   "metadata": {
    "slideshow": {
     "slide_type": "subslide"
    }
   },
   "source": [
    "<figure>\n",
    "<center>\n",
    "<img src=\"https://cjtorresj.quarto.pub/pyef/01-defin_ini/Estadistica.png\" width=\"100%\" align=\"center\"/>\n",
    "<figcaption>El quehacer de la ciencia de datos</figcaption>\n",
    "</center>\n",
    "</figure>"
   ]
  },
  {
   "cell_type": "markdown",
   "id": "833f77bd-1588-46a9-89a8-1ac8d24d1a3e",
   "metadata": {},
   "source": [
    "## <span style=\"color:#4361EE\">Identificar el problema y el objetivo</span>"
   ]
  },
  {
   "cell_type": "markdown",
   "id": "9ac81c4d-d0c7-49ee-9b48-0f0c079dff86",
   "metadata": {},
   "source": [
    "* **¿Cuál es el problema que quiero resolver?**\n",
    "\n",
    "* **¿Cuál es el objetivo?**\n",
    "\n",
    "* **¿Cuál es la meta a la que quiero llegar?**"
   ]
  },
  {
   "cell_type": "markdown",
   "id": "4c449009-2c42-45e6-909e-1aa61f190cbb",
   "metadata": {},
   "source": [
    "## <span style=\"color:#4361EE\">Capturar y recolectar de datos</span>"
   ]
  },
  {
   "cell_type": "markdown",
   "id": "931c4c35-b179-499b-ba8d-43df846bf3fd",
   "metadata": {},
   "source": [
    "Ejemplo de un \"Google Forms\": [EncuestaInicioCurso.pdf](../ArchivosOtros/EncuestaInicioCurso.pdf)\n",
    "\n",
    "Ejemplo de una \"Hoja de cálculo\": [EncuestaInicioCursoResponses.xlsx](../ArchivosOtros/EncuestaInicioCursoResponses.xlsx)"
   ]
  },
  {
   "cell_type": "markdown",
   "id": "f6df3d88-c84b-46e3-a152-0fdb921abd53",
   "metadata": {},
   "source": [
    "## <span style=\"color:#4361EE\">Transformar</span>"
   ]
  },
  {
   "cell_type": "markdown",
   "id": "54b7718e-1933-4a95-ba4b-ee955d7029f9",
   "metadata": {},
   "source": [
    "Ejemplo de un archivo de texto plano .csv (del inglés *comma-separated values*, es decir, valores separados por comas): [EncuestaInicioCursoResponses.csv](../ArchivosOtros/EncuestaInicioCursoResponses.csv)"
   ]
  },
  {
   "cell_type": "code",
   "execution_count": 1,
   "id": "26952b19-cfca-4b63-91b6-6ec7f8748c1c",
   "metadata": {},
   "outputs": [],
   "source": [
    "#pip install pandas\n",
    "#conda install pandas"
   ]
  },
  {
   "cell_type": "code",
   "execution_count": 1,
   "id": "31bf9a9a-a72a-4c4b-b0f5-68b132f9fd22",
   "metadata": {},
   "outputs": [
    {
     "data": {
      "text/html": [
       "<div>\n",
       "<style scoped>\n",
       "    .dataframe tbody tr th:only-of-type {\n",
       "        vertical-align: middle;\n",
       "    }\n",
       "\n",
       "    .dataframe tbody tr th {\n",
       "        vertical-align: top;\n",
       "    }\n",
       "\n",
       "    .dataframe thead th {\n",
       "        text-align: right;\n",
       "    }\n",
       "</style>\n",
       "<table border=\"1\" class=\"dataframe\">\n",
       "  <thead>\n",
       "    <tr style=\"text-align: right;\">\n",
       "      <th></th>\n",
       "      <th>Timestamp</th>\n",
       "      <th>TXT_EXPECTATIVA_APREND</th>\n",
       "      <th>GRABAR_CLASES</th>\n",
       "      <th>PROGRAMA</th>\n",
       "      <th>SEMESTRE_INICIO</th>\n",
       "      <th>NRO_MATRICULAS</th>\n",
       "      <th>PRCTJ_CRED_APROB</th>\n",
       "      <th>PROP_CRED_APROB</th>\n",
       "      <th>NRO_MATERIAS_INSCR</th>\n",
       "      <th>NRO_CRED_INSCR</th>\n",
       "      <th>HRS_TRABAJA_SEMAN</th>\n",
       "      <th>NIVEL_INGLES</th>\n",
       "      <th>ESTATURA</th>\n",
       "      <th>CAMBIO_PESO_DESEADO</th>\n",
       "      <th>GENERO_BIO</th>\n",
       "    </tr>\n",
       "  </thead>\n",
       "  <tbody>\n",
       "    <tr>\n",
       "      <th>0</th>\n",
       "      <td>10/4/2021 13:01:19</td>\n",
       "      <td>Aprender sobre la estadística</td>\n",
       "      <td>Sí</td>\n",
       "      <td>Ingeniería Química</td>\n",
       "      <td>2020-I</td>\n",
       "      <td>4</td>\n",
       "      <td>35.0</td>\n",
       "      <td>56.00</td>\n",
       "      <td>5</td>\n",
       "      <td>17</td>\n",
       "      <td>50</td>\n",
       "      <td>B2</td>\n",
       "      <td>1.75</td>\n",
       "      <td>60.0</td>\n",
       "      <td>XY (Hombre)</td>\n",
       "    </tr>\n",
       "    <tr>\n",
       "      <th>1</th>\n",
       "      <td>10/4/2021 13:06:59</td>\n",
       "      <td>Espero poder reforzar mis conocimientos sobre ...</td>\n",
       "      <td>Sí</td>\n",
       "      <td>Contaduría pública</td>\n",
       "      <td>2020-II</td>\n",
       "      <td>3</td>\n",
       "      <td>15.0</td>\n",
       "      <td>1/7</td>\n",
       "      <td>3</td>\n",
       "      <td>9</td>\n",
       "      <td>32</td>\n",
       "      <td>A2</td>\n",
       "      <td>1.68</td>\n",
       "      <td>-2.0</td>\n",
       "      <td>XY (Hombre)</td>\n",
       "    </tr>\n",
       "    <tr>\n",
       "      <th>2</th>\n",
       "      <td>10/4/2021 13:07:40</td>\n",
       "      <td>Cosas útiles</td>\n",
       "      <td>Sí</td>\n",
       "      <td>Ingeniería mecatrónica</td>\n",
       "      <td>2019-I</td>\n",
       "      <td>5</td>\n",
       "      <td>10.0</td>\n",
       "      <td>1/10</td>\n",
       "      <td>5</td>\n",
       "      <td>19</td>\n",
       "      <td>0</td>\n",
       "      <td>B2</td>\n",
       "      <td>1.73</td>\n",
       "      <td>0.0</td>\n",
       "      <td>XY (Hombre)</td>\n",
       "    </tr>\n",
       "    <tr>\n",
       "      <th>3</th>\n",
       "      <td>10/4/2021 13:13:26</td>\n",
       "      <td>Honestamente, cualquier conocimiento es bienve...</td>\n",
       "      <td>Sí</td>\n",
       "      <td>Ingeniería Civil</td>\n",
       "      <td>2019-I</td>\n",
       "      <td>4</td>\n",
       "      <td>20.0</td>\n",
       "      <td>36.00</td>\n",
       "      <td>6</td>\n",
       "      <td>20</td>\n",
       "      <td>16</td>\n",
       "      <td>B2</td>\n",
       "      <td>1.80</td>\n",
       "      <td>72.0</td>\n",
       "      <td>XY (Hombre)</td>\n",
       "    </tr>\n",
       "    <tr>\n",
       "      <th>4</th>\n",
       "      <td>10/4/2021 13:18:09</td>\n",
       "      <td>Pues aprender todo lo que se requiere en la ma...</td>\n",
       "      <td>Sí</td>\n",
       "      <td>Ingenieria civil</td>\n",
       "      <td>2019-I</td>\n",
       "      <td>6</td>\n",
       "      <td>35.0</td>\n",
       "      <td>75 créditos</td>\n",
       "      <td>5</td>\n",
       "      <td>16</td>\n",
       "      <td>0</td>\n",
       "      <td>B1</td>\n",
       "      <td>1.70</td>\n",
       "      <td>2.0</td>\n",
       "      <td>XY (Hombre)</td>\n",
       "    </tr>\n",
       "  </tbody>\n",
       "</table>\n",
       "</div>"
      ],
      "text/plain": [
       "            Timestamp                             TXT_EXPECTATIVA_APREND  \\\n",
       "0  10/4/2021 13:01:19                      Aprender sobre la estadística   \n",
       "1  10/4/2021 13:06:59  Espero poder reforzar mis conocimientos sobre ...   \n",
       "2  10/4/2021 13:07:40                                       Cosas útiles   \n",
       "3  10/4/2021 13:13:26  Honestamente, cualquier conocimiento es bienve...   \n",
       "4  10/4/2021 13:18:09  Pues aprender todo lo que se requiere en la ma...   \n",
       "\n",
       "  GRABAR_CLASES                PROGRAMA SEMESTRE_INICIO  NRO_MATRICULAS  \\\n",
       "0            Sí      Ingeniería Química          2020-I               4   \n",
       "1            Sí     Contaduría pública          2020-II               3   \n",
       "2            Sí  Ingeniería mecatrónica          2019-I               5   \n",
       "3            Sí        Ingeniería Civil          2019-I               4   \n",
       "4            Sí        Ingenieria civil          2019-I               6   \n",
       "\n",
       "   PRCTJ_CRED_APROB PROP_CRED_APROB  NRO_MATERIAS_INSCR  NRO_CRED_INSCR  \\\n",
       "0              35.0           56.00                   5              17   \n",
       "1              15.0             1/7                   3               9   \n",
       "2              10.0            1/10                   5              19   \n",
       "3              20.0           36.00                   6              20   \n",
       "4              35.0    75 créditos                    5              16   \n",
       "\n",
       "   HRS_TRABAJA_SEMAN NIVEL_INGLES  ESTATURA  CAMBIO_PESO_DESEADO   GENERO_BIO  \n",
       "0                 50           B2      1.75                 60.0  XY (Hombre)  \n",
       "1                 32           A2      1.68                 -2.0  XY (Hombre)  \n",
       "2                  0           B2      1.73                  0.0  XY (Hombre)  \n",
       "3                 16           B2      1.80                 72.0  XY (Hombre)  \n",
       "4                  0           B1      1.70                  2.0  XY (Hombre)  "
      ]
     },
     "execution_count": 1,
     "metadata": {},
     "output_type": "execute_result"
    }
   ],
   "source": [
    "import pandas as pd\n",
    "url = \"https://raw.githubusercontent.com/AprendizajeProfundo/diplomado-ciencia-de-datos/master/\"\n",
    "carpetas = \"A_Preliminares/ArchivosOtros/\"\n",
    "archivo_csv = 'EncuestaInicioCursoResponses.csv'\n",
    "ruta_completa = archivo_csv\n",
    "datos = pd.read_csv(ruta_completa)\n",
    "datos.head()"
   ]
  },
  {
   "cell_type": "markdown",
   "id": "1c99c3fd-9f22-4da0-9405-cce5d5fe63ee",
   "metadata": {},
   "source": [
    "* **¿Qué limpieza, depuración o transformaciones en general se requieren para este conjunto de datos? (el objetivo y las características de los datos guían la respuesta a esta pregunta)**"
   ]
  },
  {
   "cell_type": "markdown",
   "id": "29b131aa-e7f5-4d14-b4bf-99f8532579ce",
   "metadata": {},
   "source": [
    "## <span style=\"color:#4361EE\">Explorar, análizar, modelar, visualizar y concluir</span>"
   ]
  },
  {
   "cell_type": "markdown",
   "id": "f5f24203-9860-4ec5-ac82-19fa3685fd5a",
   "metadata": {},
   "source": [
    "* **¿Estadísticas básicas?**"
   ]
  },
  {
   "cell_type": "code",
   "execution_count": 2,
   "id": "a5ff778c-8f63-4ba4-96b6-8ef58e36bbb8",
   "metadata": {},
   "outputs": [
    {
     "data": {
      "text/html": [
       "<div>\n",
       "<style scoped>\n",
       "    .dataframe tbody tr th:only-of-type {\n",
       "        vertical-align: middle;\n",
       "    }\n",
       "\n",
       "    .dataframe tbody tr th {\n",
       "        vertical-align: top;\n",
       "    }\n",
       "\n",
       "    .dataframe thead th {\n",
       "        text-align: right;\n",
       "    }\n",
       "</style>\n",
       "<table border=\"1\" class=\"dataframe\">\n",
       "  <thead>\n",
       "    <tr style=\"text-align: right;\">\n",
       "      <th></th>\n",
       "      <th>NRO_MATRICULAS</th>\n",
       "      <th>PRCTJ_CRED_APROB</th>\n",
       "      <th>NRO_MATERIAS_INSCR</th>\n",
       "      <th>NRO_CRED_INSCR</th>\n",
       "      <th>HRS_TRABAJA_SEMAN</th>\n",
       "      <th>ESTATURA</th>\n",
       "      <th>CAMBIO_PESO_DESEADO</th>\n",
       "    </tr>\n",
       "  </thead>\n",
       "  <tbody>\n",
       "    <tr>\n",
       "      <th>count</th>\n",
       "      <td>47.000000</td>\n",
       "      <td>47.000000</td>\n",
       "      <td>47.000000</td>\n",
       "      <td>47.000000</td>\n",
       "      <td>47.000000</td>\n",
       "      <td>47.000000</td>\n",
       "      <td>47.000000</td>\n",
       "    </tr>\n",
       "    <tr>\n",
       "      <th>mean</th>\n",
       "      <td>4.702128</td>\n",
       "      <td>18.774468</td>\n",
       "      <td>4.510638</td>\n",
       "      <td>15.255319</td>\n",
       "      <td>14.702128</td>\n",
       "      <td>1.722128</td>\n",
       "      <td>7.882979</td>\n",
       "    </tr>\n",
       "    <tr>\n",
       "      <th>std</th>\n",
       "      <td>2.992127</td>\n",
       "      <td>13.161392</td>\n",
       "      <td>0.997221</td>\n",
       "      <td>3.578122</td>\n",
       "      <td>17.366778</td>\n",
       "      <td>0.083508</td>\n",
       "      <td>23.236780</td>\n",
       "    </tr>\n",
       "    <tr>\n",
       "      <th>min</th>\n",
       "      <td>1.000000</td>\n",
       "      <td>0.000000</td>\n",
       "      <td>3.000000</td>\n",
       "      <td>6.000000</td>\n",
       "      <td>0.000000</td>\n",
       "      <td>1.500000</td>\n",
       "      <td>-20.000000</td>\n",
       "    </tr>\n",
       "    <tr>\n",
       "      <th>25%</th>\n",
       "      <td>3.000000</td>\n",
       "      <td>9.450000</td>\n",
       "      <td>4.000000</td>\n",
       "      <td>12.500000</td>\n",
       "      <td>0.000000</td>\n",
       "      <td>1.670000</td>\n",
       "      <td>-2.500000</td>\n",
       "    </tr>\n",
       "    <tr>\n",
       "      <th>50%</th>\n",
       "      <td>4.000000</td>\n",
       "      <td>16.000000</td>\n",
       "      <td>5.000000</td>\n",
       "      <td>16.000000</td>\n",
       "      <td>8.000000</td>\n",
       "      <td>1.730000</td>\n",
       "      <td>3.000000</td>\n",
       "    </tr>\n",
       "    <tr>\n",
       "      <th>75%</th>\n",
       "      <td>5.000000</td>\n",
       "      <td>26.500000</td>\n",
       "      <td>5.000000</td>\n",
       "      <td>18.000000</td>\n",
       "      <td>25.000000</td>\n",
       "      <td>1.785000</td>\n",
       "      <td>10.000000</td>\n",
       "    </tr>\n",
       "    <tr>\n",
       "      <th>max</th>\n",
       "      <td>18.000000</td>\n",
       "      <td>56.400000</td>\n",
       "      <td>7.000000</td>\n",
       "      <td>21.000000</td>\n",
       "      <td>50.000000</td>\n",
       "      <td>1.850000</td>\n",
       "      <td>75.000000</td>\n",
       "    </tr>\n",
       "  </tbody>\n",
       "</table>\n",
       "</div>"
      ],
      "text/plain": [
       "       NRO_MATRICULAS  PRCTJ_CRED_APROB  NRO_MATERIAS_INSCR  NRO_CRED_INSCR  \\\n",
       "count       47.000000         47.000000           47.000000       47.000000   \n",
       "mean         4.702128         18.774468            4.510638       15.255319   \n",
       "std          2.992127         13.161392            0.997221        3.578122   \n",
       "min          1.000000          0.000000            3.000000        6.000000   \n",
       "25%          3.000000          9.450000            4.000000       12.500000   \n",
       "50%          4.000000         16.000000            5.000000       16.000000   \n",
       "75%          5.000000         26.500000            5.000000       18.000000   \n",
       "max         18.000000         56.400000            7.000000       21.000000   \n",
       "\n",
       "       HRS_TRABAJA_SEMAN   ESTATURA  CAMBIO_PESO_DESEADO  \n",
       "count          47.000000  47.000000            47.000000  \n",
       "mean           14.702128   1.722128             7.882979  \n",
       "std            17.366778   0.083508            23.236780  \n",
       "min             0.000000   1.500000           -20.000000  \n",
       "25%             0.000000   1.670000            -2.500000  \n",
       "50%             8.000000   1.730000             3.000000  \n",
       "75%            25.000000   1.785000            10.000000  \n",
       "max            50.000000   1.850000            75.000000  "
      ]
     },
     "execution_count": 2,
     "metadata": {},
     "output_type": "execute_result"
    }
   ],
   "source": [
    "datos.describe()"
   ]
  },
  {
   "cell_type": "markdown",
   "id": "942b1914-0784-4106-8ae0-08d3949087fe",
   "metadata": {},
   "source": [
    "* **¿Qué pasó con las demás variables?**"
   ]
  },
  {
   "cell_type": "markdown",
   "id": "7278f49d-1313-497f-817e-35b5fdbab966",
   "metadata": {},
   "source": [
    "* **¿Gráficos?**"
   ]
  },
  {
   "cell_type": "code",
   "execution_count": 8,
   "id": "17a62588-d071-40b2-8aa3-da0827e4ad91",
   "metadata": {},
   "outputs": [],
   "source": [
    "#pip install plotly\n",
    "#conda install plotly"
   ]
  },
  {
   "cell_type": "code",
   "execution_count": 11,
   "id": "995b0dce-1e35-49d3-8c8c-ba305208bb3d",
   "metadata": {},
   "outputs": [
    {
     "data": {
      "application/vnd.plotly.v1+json": {
       "config": {
        "plotlyServerURL": "https://plot.ly"
       },
       "data": [
        {
         "hovertemplate": "GENERO_BIO=XY (Hombre)<br>ESTATURA=%{x}<br>CAMBIO_PESO_DESEADO=%{y}<extra></extra>",
         "legendgroup": "XY (Hombre)",
         "marker": {
          "color": "#1F77B4",
          "symbol": "circle"
         },
         "mode": "markers",
         "name": "XY (Hombre)",
         "orientation": "v",
         "showlegend": true,
         "type": "scatter",
         "x": [
          1.75,
          1.68,
          1.73,
          1.8,
          1.7,
          1.78,
          1.71,
          1.83,
          1.78,
          1.76,
          1.67,
          1.75,
          1.75,
          1.6,
          1.7,
          1.81,
          1.75,
          1.77,
          1.75,
          1.84,
          1.82,
          1.83,
          1.67,
          1.61,
          1.8,
          1.7,
          1.67,
          1.72,
          1.6,
          1.75,
          1.72,
          1.85,
          1.75,
          1.7,
          1.8,
          1.73,
          1.82,
          1.79,
          1.67,
          1.85,
          1.68
         ],
         "xaxis": "x",
         "y": [
          60,
          -2,
          0,
          72,
          2,
          0,
          -3,
          60,
          5,
          10,
          0,
          2,
          -17,
          5,
          3,
          1,
          5,
          1,
          -17,
          15,
          10,
          10,
          -3,
          3,
          -20,
          5,
          -1,
          -12,
          52,
          60,
          3,
          -5,
          8,
          0,
          75,
          15,
          10,
          -10,
          -19,
          15,
          -10
         ],
         "yaxis": "y"
        },
        {
         "alignmentgroup": "True",
         "bingroup": "x",
         "hovertemplate": "GENERO_BIO=XY (Hombre)<br>ESTATURA=%{x}<br>count=%{y}<extra></extra>",
         "legendgroup": "XY (Hombre)",
         "marker": {
          "color": "#1F77B4"
         },
         "name": "XY (Hombre)",
         "offsetgroup": "XY (Hombre)",
         "opacity": 0.5,
         "showlegend": false,
         "type": "histogram",
         "x": [
          1.75,
          1.68,
          1.73,
          1.8,
          1.7,
          1.78,
          1.71,
          1.83,
          1.78,
          1.76,
          1.67,
          1.75,
          1.75,
          1.6,
          1.7,
          1.81,
          1.75,
          1.77,
          1.75,
          1.84,
          1.82,
          1.83,
          1.67,
          1.61,
          1.8,
          1.7,
          1.67,
          1.72,
          1.6,
          1.75,
          1.72,
          1.85,
          1.75,
          1.7,
          1.8,
          1.73,
          1.82,
          1.79,
          1.67,
          1.85,
          1.68
         ],
         "xaxis": "x3",
         "yaxis": "y3"
        },
        {
         "alignmentgroup": "True",
         "hovertemplate": "GENERO_BIO=XY (Hombre)<br>CAMBIO_PESO_DESEADO=%{y}<extra></extra>",
         "legendgroup": "XY (Hombre)",
         "marker": {
          "color": "#1F77B4",
          "symbol": "circle"
         },
         "name": "XY (Hombre)",
         "notched": true,
         "offsetgroup": "XY (Hombre)",
         "showlegend": false,
         "type": "box",
         "xaxis": "x2",
         "y": [
          60,
          -2,
          0,
          72,
          2,
          0,
          -3,
          60,
          5,
          10,
          0,
          2,
          -17,
          5,
          3,
          1,
          5,
          1,
          -17,
          15,
          10,
          10,
          -3,
          3,
          -20,
          5,
          -1,
          -12,
          52,
          60,
          3,
          -5,
          8,
          0,
          75,
          15,
          10,
          -10,
          -19,
          15,
          -10
         ],
         "yaxis": "y2"
        },
        {
         "hovertemplate": "GENERO_BIO=XX (Mujer)<br>ESTATURA=%{x}<br>CAMBIO_PESO_DESEADO=%{y}<extra></extra>",
         "legendgroup": "XX (Mujer)",
         "marker": {
          "color": "#FF7F0E",
          "symbol": "circle"
         },
         "mode": "markers",
         "name": "XX (Mujer)",
         "orientation": "v",
         "showlegend": true,
         "type": "scatter",
         "x": [
          1.56,
          1.6,
          1.62,
          1.6,
          1.62,
          1.5
         ],
         "xaxis": "x",
         "y": [
          4,
          -2,
          -17,
          4.5,
          3,
          -10
         ],
         "yaxis": "y"
        },
        {
         "alignmentgroup": "True",
         "bingroup": "x",
         "hovertemplate": "GENERO_BIO=XX (Mujer)<br>ESTATURA=%{x}<br>count=%{y}<extra></extra>",
         "legendgroup": "XX (Mujer)",
         "marker": {
          "color": "#FF7F0E"
         },
         "name": "XX (Mujer)",
         "offsetgroup": "XX (Mujer)",
         "opacity": 0.5,
         "showlegend": false,
         "type": "histogram",
         "x": [
          1.56,
          1.6,
          1.62,
          1.6,
          1.62,
          1.5
         ],
         "xaxis": "x3",
         "yaxis": "y3"
        },
        {
         "alignmentgroup": "True",
         "hovertemplate": "GENERO_BIO=XX (Mujer)<br>CAMBIO_PESO_DESEADO=%{y}<extra></extra>",
         "legendgroup": "XX (Mujer)",
         "marker": {
          "color": "#FF7F0E",
          "symbol": "circle"
         },
         "name": "XX (Mujer)",
         "notched": true,
         "offsetgroup": "XX (Mujer)",
         "showlegend": false,
         "type": "box",
         "xaxis": "x2",
         "y": [
          4,
          -2,
          -17,
          4.5,
          3,
          -10
         ],
         "yaxis": "y2"
        }
       ],
       "layout": {
        "barmode": "overlay",
        "height": 400,
        "legend": {
         "title": {
          "text": "GENERO_BIO"
         },
         "tracegroupgap": 0
        },
        "margin": {
         "t": 60
        },
        "template": {
         "data": {
          "bar": [
           {
            "error_x": {
             "color": "rgb(36,36,36)"
            },
            "error_y": {
             "color": "rgb(36,36,36)"
            },
            "marker": {
             "line": {
              "color": "white",
              "width": 0.5
             },
             "pattern": {
              "fillmode": "overlay",
              "size": 10,
              "solidity": 0.2
             }
            },
            "type": "bar"
           }
          ],
          "barpolar": [
           {
            "marker": {
             "line": {
              "color": "white",
              "width": 0.5
             },
             "pattern": {
              "fillmode": "overlay",
              "size": 10,
              "solidity": 0.2
             }
            },
            "type": "barpolar"
           }
          ],
          "carpet": [
           {
            "aaxis": {
             "endlinecolor": "rgb(36,36,36)",
             "gridcolor": "white",
             "linecolor": "white",
             "minorgridcolor": "white",
             "startlinecolor": "rgb(36,36,36)"
            },
            "baxis": {
             "endlinecolor": "rgb(36,36,36)",
             "gridcolor": "white",
             "linecolor": "white",
             "minorgridcolor": "white",
             "startlinecolor": "rgb(36,36,36)"
            },
            "type": "carpet"
           }
          ],
          "choropleth": [
           {
            "colorbar": {
             "outlinewidth": 1,
             "tickcolor": "rgb(36,36,36)",
             "ticks": "outside"
            },
            "type": "choropleth"
           }
          ],
          "contour": [
           {
            "colorbar": {
             "outlinewidth": 1,
             "tickcolor": "rgb(36,36,36)",
             "ticks": "outside"
            },
            "colorscale": [
             [
              0,
              "#440154"
             ],
             [
              0.1111111111111111,
              "#482878"
             ],
             [
              0.2222222222222222,
              "#3e4989"
             ],
             [
              0.3333333333333333,
              "#31688e"
             ],
             [
              0.4444444444444444,
              "#26828e"
             ],
             [
              0.5555555555555556,
              "#1f9e89"
             ],
             [
              0.6666666666666666,
              "#35b779"
             ],
             [
              0.7777777777777778,
              "#6ece58"
             ],
             [
              0.8888888888888888,
              "#b5de2b"
             ],
             [
              1,
              "#fde725"
             ]
            ],
            "type": "contour"
           }
          ],
          "contourcarpet": [
           {
            "colorbar": {
             "outlinewidth": 1,
             "tickcolor": "rgb(36,36,36)",
             "ticks": "outside"
            },
            "type": "contourcarpet"
           }
          ],
          "heatmap": [
           {
            "colorbar": {
             "outlinewidth": 1,
             "tickcolor": "rgb(36,36,36)",
             "ticks": "outside"
            },
            "colorscale": [
             [
              0,
              "#440154"
             ],
             [
              0.1111111111111111,
              "#482878"
             ],
             [
              0.2222222222222222,
              "#3e4989"
             ],
             [
              0.3333333333333333,
              "#31688e"
             ],
             [
              0.4444444444444444,
              "#26828e"
             ],
             [
              0.5555555555555556,
              "#1f9e89"
             ],
             [
              0.6666666666666666,
              "#35b779"
             ],
             [
              0.7777777777777778,
              "#6ece58"
             ],
             [
              0.8888888888888888,
              "#b5de2b"
             ],
             [
              1,
              "#fde725"
             ]
            ],
            "type": "heatmap"
           }
          ],
          "heatmapgl": [
           {
            "colorbar": {
             "outlinewidth": 1,
             "tickcolor": "rgb(36,36,36)",
             "ticks": "outside"
            },
            "colorscale": [
             [
              0,
              "#440154"
             ],
             [
              0.1111111111111111,
              "#482878"
             ],
             [
              0.2222222222222222,
              "#3e4989"
             ],
             [
              0.3333333333333333,
              "#31688e"
             ],
             [
              0.4444444444444444,
              "#26828e"
             ],
             [
              0.5555555555555556,
              "#1f9e89"
             ],
             [
              0.6666666666666666,
              "#35b779"
             ],
             [
              0.7777777777777778,
              "#6ece58"
             ],
             [
              0.8888888888888888,
              "#b5de2b"
             ],
             [
              1,
              "#fde725"
             ]
            ],
            "type": "heatmapgl"
           }
          ],
          "histogram": [
           {
            "marker": {
             "line": {
              "color": "white",
              "width": 0.6
             }
            },
            "type": "histogram"
           }
          ],
          "histogram2d": [
           {
            "colorbar": {
             "outlinewidth": 1,
             "tickcolor": "rgb(36,36,36)",
             "ticks": "outside"
            },
            "colorscale": [
             [
              0,
              "#440154"
             ],
             [
              0.1111111111111111,
              "#482878"
             ],
             [
              0.2222222222222222,
              "#3e4989"
             ],
             [
              0.3333333333333333,
              "#31688e"
             ],
             [
              0.4444444444444444,
              "#26828e"
             ],
             [
              0.5555555555555556,
              "#1f9e89"
             ],
             [
              0.6666666666666666,
              "#35b779"
             ],
             [
              0.7777777777777778,
              "#6ece58"
             ],
             [
              0.8888888888888888,
              "#b5de2b"
             ],
             [
              1,
              "#fde725"
             ]
            ],
            "type": "histogram2d"
           }
          ],
          "histogram2dcontour": [
           {
            "colorbar": {
             "outlinewidth": 1,
             "tickcolor": "rgb(36,36,36)",
             "ticks": "outside"
            },
            "colorscale": [
             [
              0,
              "#440154"
             ],
             [
              0.1111111111111111,
              "#482878"
             ],
             [
              0.2222222222222222,
              "#3e4989"
             ],
             [
              0.3333333333333333,
              "#31688e"
             ],
             [
              0.4444444444444444,
              "#26828e"
             ],
             [
              0.5555555555555556,
              "#1f9e89"
             ],
             [
              0.6666666666666666,
              "#35b779"
             ],
             [
              0.7777777777777778,
              "#6ece58"
             ],
             [
              0.8888888888888888,
              "#b5de2b"
             ],
             [
              1,
              "#fde725"
             ]
            ],
            "type": "histogram2dcontour"
           }
          ],
          "mesh3d": [
           {
            "colorbar": {
             "outlinewidth": 1,
             "tickcolor": "rgb(36,36,36)",
             "ticks": "outside"
            },
            "type": "mesh3d"
           }
          ],
          "parcoords": [
           {
            "line": {
             "colorbar": {
              "outlinewidth": 1,
              "tickcolor": "rgb(36,36,36)",
              "ticks": "outside"
             }
            },
            "type": "parcoords"
           }
          ],
          "pie": [
           {
            "automargin": true,
            "type": "pie"
           }
          ],
          "scatter": [
           {
            "fillpattern": {
             "fillmode": "overlay",
             "size": 10,
             "solidity": 0.2
            },
            "type": "scatter"
           }
          ],
          "scatter3d": [
           {
            "line": {
             "colorbar": {
              "outlinewidth": 1,
              "tickcolor": "rgb(36,36,36)",
              "ticks": "outside"
             }
            },
            "marker": {
             "colorbar": {
              "outlinewidth": 1,
              "tickcolor": "rgb(36,36,36)",
              "ticks": "outside"
             }
            },
            "type": "scatter3d"
           }
          ],
          "scattercarpet": [
           {
            "marker": {
             "colorbar": {
              "outlinewidth": 1,
              "tickcolor": "rgb(36,36,36)",
              "ticks": "outside"
             }
            },
            "type": "scattercarpet"
           }
          ],
          "scattergeo": [
           {
            "marker": {
             "colorbar": {
              "outlinewidth": 1,
              "tickcolor": "rgb(36,36,36)",
              "ticks": "outside"
             }
            },
            "type": "scattergeo"
           }
          ],
          "scattergl": [
           {
            "marker": {
             "colorbar": {
              "outlinewidth": 1,
              "tickcolor": "rgb(36,36,36)",
              "ticks": "outside"
             }
            },
            "type": "scattergl"
           }
          ],
          "scattermapbox": [
           {
            "marker": {
             "colorbar": {
              "outlinewidth": 1,
              "tickcolor": "rgb(36,36,36)",
              "ticks": "outside"
             }
            },
            "type": "scattermapbox"
           }
          ],
          "scatterpolar": [
           {
            "marker": {
             "colorbar": {
              "outlinewidth": 1,
              "tickcolor": "rgb(36,36,36)",
              "ticks": "outside"
             }
            },
            "type": "scatterpolar"
           }
          ],
          "scatterpolargl": [
           {
            "marker": {
             "colorbar": {
              "outlinewidth": 1,
              "tickcolor": "rgb(36,36,36)",
              "ticks": "outside"
             }
            },
            "type": "scatterpolargl"
           }
          ],
          "scatterternary": [
           {
            "marker": {
             "colorbar": {
              "outlinewidth": 1,
              "tickcolor": "rgb(36,36,36)",
              "ticks": "outside"
             }
            },
            "type": "scatterternary"
           }
          ],
          "surface": [
           {
            "colorbar": {
             "outlinewidth": 1,
             "tickcolor": "rgb(36,36,36)",
             "ticks": "outside"
            },
            "colorscale": [
             [
              0,
              "#440154"
             ],
             [
              0.1111111111111111,
              "#482878"
             ],
             [
              0.2222222222222222,
              "#3e4989"
             ],
             [
              0.3333333333333333,
              "#31688e"
             ],
             [
              0.4444444444444444,
              "#26828e"
             ],
             [
              0.5555555555555556,
              "#1f9e89"
             ],
             [
              0.6666666666666666,
              "#35b779"
             ],
             [
              0.7777777777777778,
              "#6ece58"
             ],
             [
              0.8888888888888888,
              "#b5de2b"
             ],
             [
              1,
              "#fde725"
             ]
            ],
            "type": "surface"
           }
          ],
          "table": [
           {
            "cells": {
             "fill": {
              "color": "rgb(237,237,237)"
             },
             "line": {
              "color": "white"
             }
            },
            "header": {
             "fill": {
              "color": "rgb(217,217,217)"
             },
             "line": {
              "color": "white"
             }
            },
            "type": "table"
           }
          ]
         },
         "layout": {
          "annotationdefaults": {
           "arrowhead": 0,
           "arrowwidth": 1
          },
          "autotypenumbers": "strict",
          "coloraxis": {
           "colorbar": {
            "outlinewidth": 1,
            "tickcolor": "rgb(36,36,36)",
            "ticks": "outside"
           }
          },
          "colorscale": {
           "diverging": [
            [
             0,
             "rgb(103,0,31)"
            ],
            [
             0.1,
             "rgb(178,24,43)"
            ],
            [
             0.2,
             "rgb(214,96,77)"
            ],
            [
             0.3,
             "rgb(244,165,130)"
            ],
            [
             0.4,
             "rgb(253,219,199)"
            ],
            [
             0.5,
             "rgb(247,247,247)"
            ],
            [
             0.6,
             "rgb(209,229,240)"
            ],
            [
             0.7,
             "rgb(146,197,222)"
            ],
            [
             0.8,
             "rgb(67,147,195)"
            ],
            [
             0.9,
             "rgb(33,102,172)"
            ],
            [
             1,
             "rgb(5,48,97)"
            ]
           ],
           "sequential": [
            [
             0,
             "#440154"
            ],
            [
             0.1111111111111111,
             "#482878"
            ],
            [
             0.2222222222222222,
             "#3e4989"
            ],
            [
             0.3333333333333333,
             "#31688e"
            ],
            [
             0.4444444444444444,
             "#26828e"
            ],
            [
             0.5555555555555556,
             "#1f9e89"
            ],
            [
             0.6666666666666666,
             "#35b779"
            ],
            [
             0.7777777777777778,
             "#6ece58"
            ],
            [
             0.8888888888888888,
             "#b5de2b"
            ],
            [
             1,
             "#fde725"
            ]
           ],
           "sequentialminus": [
            [
             0,
             "#440154"
            ],
            [
             0.1111111111111111,
             "#482878"
            ],
            [
             0.2222222222222222,
             "#3e4989"
            ],
            [
             0.3333333333333333,
             "#31688e"
            ],
            [
             0.4444444444444444,
             "#26828e"
            ],
            [
             0.5555555555555556,
             "#1f9e89"
            ],
            [
             0.6666666666666666,
             "#35b779"
            ],
            [
             0.7777777777777778,
             "#6ece58"
            ],
            [
             0.8888888888888888,
             "#b5de2b"
            ],
            [
             1,
             "#fde725"
            ]
           ]
          },
          "colorway": [
           "#1F77B4",
           "#FF7F0E",
           "#2CA02C",
           "#D62728",
           "#9467BD",
           "#8C564B",
           "#E377C2",
           "#7F7F7F",
           "#BCBD22",
           "#17BECF"
          ],
          "font": {
           "color": "rgb(36,36,36)"
          },
          "geo": {
           "bgcolor": "white",
           "lakecolor": "white",
           "landcolor": "white",
           "showlakes": true,
           "showland": true,
           "subunitcolor": "white"
          },
          "hoverlabel": {
           "align": "left"
          },
          "hovermode": "closest",
          "mapbox": {
           "style": "light"
          },
          "paper_bgcolor": "white",
          "plot_bgcolor": "white",
          "polar": {
           "angularaxis": {
            "gridcolor": "rgb(232,232,232)",
            "linecolor": "rgb(36,36,36)",
            "showgrid": false,
            "showline": true,
            "ticks": "outside"
           },
           "bgcolor": "white",
           "radialaxis": {
            "gridcolor": "rgb(232,232,232)",
            "linecolor": "rgb(36,36,36)",
            "showgrid": false,
            "showline": true,
            "ticks": "outside"
           }
          },
          "scene": {
           "xaxis": {
            "backgroundcolor": "white",
            "gridcolor": "rgb(232,232,232)",
            "gridwidth": 2,
            "linecolor": "rgb(36,36,36)",
            "showbackground": true,
            "showgrid": false,
            "showline": true,
            "ticks": "outside",
            "zeroline": false,
            "zerolinecolor": "rgb(36,36,36)"
           },
           "yaxis": {
            "backgroundcolor": "white",
            "gridcolor": "rgb(232,232,232)",
            "gridwidth": 2,
            "linecolor": "rgb(36,36,36)",
            "showbackground": true,
            "showgrid": false,
            "showline": true,
            "ticks": "outside",
            "zeroline": false,
            "zerolinecolor": "rgb(36,36,36)"
           },
           "zaxis": {
            "backgroundcolor": "white",
            "gridcolor": "rgb(232,232,232)",
            "gridwidth": 2,
            "linecolor": "rgb(36,36,36)",
            "showbackground": true,
            "showgrid": false,
            "showline": true,
            "ticks": "outside",
            "zeroline": false,
            "zerolinecolor": "rgb(36,36,36)"
           }
          },
          "shapedefaults": {
           "fillcolor": "black",
           "line": {
            "width": 0
           },
           "opacity": 0.3
          },
          "ternary": {
           "aaxis": {
            "gridcolor": "rgb(232,232,232)",
            "linecolor": "rgb(36,36,36)",
            "showgrid": false,
            "showline": true,
            "ticks": "outside"
           },
           "baxis": {
            "gridcolor": "rgb(232,232,232)",
            "linecolor": "rgb(36,36,36)",
            "showgrid": false,
            "showline": true,
            "ticks": "outside"
           },
           "bgcolor": "white",
           "caxis": {
            "gridcolor": "rgb(232,232,232)",
            "linecolor": "rgb(36,36,36)",
            "showgrid": false,
            "showline": true,
            "ticks": "outside"
           }
          },
          "title": {
           "x": 0.05
          },
          "xaxis": {
           "automargin": true,
           "gridcolor": "rgb(232,232,232)",
           "linecolor": "rgb(36,36,36)",
           "showgrid": false,
           "showline": true,
           "ticks": "outside",
           "title": {
            "standoff": 15
           },
           "zeroline": false,
           "zerolinecolor": "rgb(36,36,36)"
          },
          "yaxis": {
           "automargin": true,
           "gridcolor": "rgb(232,232,232)",
           "linecolor": "rgb(36,36,36)",
           "showgrid": false,
           "showline": true,
           "ticks": "outside",
           "title": {
            "standoff": 15
           },
           "zeroline": false,
           "zerolinecolor": "rgb(36,36,36)"
          }
         }
        },
        "width": 600,
        "xaxis": {
         "anchor": "y",
         "autorange": true,
         "domain": [
          0,
          0.7363
         ],
         "range": [
          1.47465054197092,
          1.8753494580290802
         ],
         "title": {
          "text": "ESTATURA"
         },
         "type": "linear"
        },
        "xaxis2": {
         "anchor": "y2",
         "autorange": true,
         "domain": [
          0.7413,
          1
         ],
         "matches": "x2",
         "range": [
          -0.5,
          1.5
         ],
         "showline": false,
         "showticklabels": false,
         "ticks": "",
         "type": "category"
        },
        "xaxis3": {
         "anchor": "y3",
         "autorange": true,
         "domain": [
          0,
          0.7363
         ],
         "matches": "x",
         "range": [
          1.47465054197092,
          1.8753494580290802
         ],
         "showticklabels": false,
         "type": "linear"
        },
        "xaxis4": {
         "anchor": "y4",
         "domain": [
          0.7413,
          1
         ],
         "matches": "x2",
         "showline": false,
         "showticklabels": false,
         "ticks": ""
        },
        "yaxis": {
         "anchor": "x",
         "autorange": true,
         "domain": [
          0,
          0.7326
         ],
         "range": [
          -27.692449874457385,
          82.69244987445738
         ],
         "title": {
          "text": "CAMBIO_PESO_DESEADO"
         },
         "type": "linear"
        },
        "yaxis2": {
         "anchor": "x2",
         "autorange": true,
         "domain": [
          0,
          0.7326
         ],
         "matches": "y",
         "range": [
          -27.692449874457385,
          82.69244987445738
         ],
         "showticklabels": false,
         "type": "linear"
        },
        "yaxis3": {
         "anchor": "x3",
         "autorange": true,
         "domain": [
          0.7426,
          1
         ],
         "matches": "y3",
         "range": [
          0,
          11.578947368421053
         ],
         "showline": false,
         "showticklabels": false,
         "ticks": ""
        },
        "yaxis4": {
         "anchor": "x4",
         "domain": [
          0.7426,
          1
         ],
         "matches": "y3",
         "showline": false,
         "showticklabels": false,
         "ticks": ""
        }
       }
      },
      "text/html": [
       "<div>                            <div id=\"6abcdb19-cf83-4cce-b073-be61bddf0a3c\" class=\"plotly-graph-div\" style=\"height:400px; width:600px;\"></div>            <script type=\"text/javascript\">                require([\"plotly\"], function(Plotly) {                    window.PLOTLYENV=window.PLOTLYENV || {};                                    if (document.getElementById(\"6abcdb19-cf83-4cce-b073-be61bddf0a3c\")) {                    Plotly.newPlot(                        \"6abcdb19-cf83-4cce-b073-be61bddf0a3c\",                        [{\"hovertemplate\":\"GENERO_BIO=XY (Hombre)\\u003cbr\\u003eESTATURA=%{x}\\u003cbr\\u003eCAMBIO_PESO_DESEADO=%{y}\\u003cextra\\u003e\\u003c\\u002fextra\\u003e\",\"legendgroup\":\"XY (Hombre)\",\"marker\":{\"color\":\"#1F77B4\",\"symbol\":\"circle\"},\"mode\":\"markers\",\"name\":\"XY (Hombre)\",\"orientation\":\"v\",\"showlegend\":true,\"x\":[1.75,1.68,1.73,1.8,1.7,1.78,1.71,1.83,1.78,1.76,1.67,1.75,1.75,1.6,1.7,1.81,1.75,1.77,1.75,1.84,1.82,1.83,1.67,1.61,1.8,1.7,1.67,1.72,1.6,1.75,1.72,1.85,1.75,1.7,1.8,1.73,1.82,1.79,1.67,1.85,1.68],\"xaxis\":\"x\",\"y\":[60.0,-2.0,0.0,72.0,2.0,0.0,-3.0,60.0,5.0,10.0,0.0,2.0,-17.0,5.0,3.0,1.0,5.0,1.0,-17.0,15.0,10.0,10.0,-3.0,3.0,-20.0,5.0,-1.0,-12.0,52.0,60.0,3.0,-5.0,8.0,0.0,75.0,15.0,10.0,-10.0,-19.0,15.0,-10.0],\"yaxis\":\"y\",\"type\":\"scatter\"},{\"alignmentgroup\":\"True\",\"bingroup\":\"x\",\"hovertemplate\":\"GENERO_BIO=XY (Hombre)\\u003cbr\\u003eESTATURA=%{x}\\u003cbr\\u003ecount=%{y}\\u003cextra\\u003e\\u003c\\u002fextra\\u003e\",\"legendgroup\":\"XY (Hombre)\",\"marker\":{\"color\":\"#1F77B4\"},\"name\":\"XY (Hombre)\",\"offsetgroup\":\"XY (Hombre)\",\"opacity\":0.5,\"showlegend\":false,\"x\":[1.75,1.68,1.73,1.8,1.7,1.78,1.71,1.83,1.78,1.76,1.67,1.75,1.75,1.6,1.7,1.81,1.75,1.77,1.75,1.84,1.82,1.83,1.67,1.61,1.8,1.7,1.67,1.72,1.6,1.75,1.72,1.85,1.75,1.7,1.8,1.73,1.82,1.79,1.67,1.85,1.68],\"xaxis\":\"x3\",\"yaxis\":\"y3\",\"type\":\"histogram\"},{\"alignmentgroup\":\"True\",\"hovertemplate\":\"GENERO_BIO=XY (Hombre)\\u003cbr\\u003eCAMBIO_PESO_DESEADO=%{y}\\u003cextra\\u003e\\u003c\\u002fextra\\u003e\",\"legendgroup\":\"XY (Hombre)\",\"marker\":{\"color\":\"#1F77B4\",\"symbol\":\"circle\"},\"name\":\"XY (Hombre)\",\"notched\":true,\"offsetgroup\":\"XY (Hombre)\",\"showlegend\":false,\"xaxis\":\"x2\",\"y\":[60.0,-2.0,0.0,72.0,2.0,0.0,-3.0,60.0,5.0,10.0,0.0,2.0,-17.0,5.0,3.0,1.0,5.0,1.0,-17.0,15.0,10.0,10.0,-3.0,3.0,-20.0,5.0,-1.0,-12.0,52.0,60.0,3.0,-5.0,8.0,0.0,75.0,15.0,10.0,-10.0,-19.0,15.0,-10.0],\"yaxis\":\"y2\",\"type\":\"box\"},{\"hovertemplate\":\"GENERO_BIO=XX (Mujer)\\u003cbr\\u003eESTATURA=%{x}\\u003cbr\\u003eCAMBIO_PESO_DESEADO=%{y}\\u003cextra\\u003e\\u003c\\u002fextra\\u003e\",\"legendgroup\":\"XX (Mujer)\",\"marker\":{\"color\":\"#FF7F0E\",\"symbol\":\"circle\"},\"mode\":\"markers\",\"name\":\"XX (Mujer)\",\"orientation\":\"v\",\"showlegend\":true,\"x\":[1.56,1.6,1.62,1.6,1.62,1.5],\"xaxis\":\"x\",\"y\":[4.0,-2.0,-17.0,4.5,3.0,-10.0],\"yaxis\":\"y\",\"type\":\"scatter\"},{\"alignmentgroup\":\"True\",\"bingroup\":\"x\",\"hovertemplate\":\"GENERO_BIO=XX (Mujer)\\u003cbr\\u003eESTATURA=%{x}\\u003cbr\\u003ecount=%{y}\\u003cextra\\u003e\\u003c\\u002fextra\\u003e\",\"legendgroup\":\"XX (Mujer)\",\"marker\":{\"color\":\"#FF7F0E\"},\"name\":\"XX (Mujer)\",\"offsetgroup\":\"XX (Mujer)\",\"opacity\":0.5,\"showlegend\":false,\"x\":[1.56,1.6,1.62,1.6,1.62,1.5],\"xaxis\":\"x3\",\"yaxis\":\"y3\",\"type\":\"histogram\"},{\"alignmentgroup\":\"True\",\"hovertemplate\":\"GENERO_BIO=XX (Mujer)\\u003cbr\\u003eCAMBIO_PESO_DESEADO=%{y}\\u003cextra\\u003e\\u003c\\u002fextra\\u003e\",\"legendgroup\":\"XX (Mujer)\",\"marker\":{\"color\":\"#FF7F0E\",\"symbol\":\"circle\"},\"name\":\"XX (Mujer)\",\"notched\":true,\"offsetgroup\":\"XX (Mujer)\",\"showlegend\":false,\"xaxis\":\"x2\",\"y\":[4.0,-2.0,-17.0,4.5,3.0,-10.0],\"yaxis\":\"y2\",\"type\":\"box\"}],                        {\"template\":{\"data\":{\"barpolar\":[{\"marker\":{\"line\":{\"color\":\"white\",\"width\":0.5},\"pattern\":{\"fillmode\":\"overlay\",\"size\":10,\"solidity\":0.2}},\"type\":\"barpolar\"}],\"bar\":[{\"error_x\":{\"color\":\"rgb(36,36,36)\"},\"error_y\":{\"color\":\"rgb(36,36,36)\"},\"marker\":{\"line\":{\"color\":\"white\",\"width\":0.5},\"pattern\":{\"fillmode\":\"overlay\",\"size\":10,\"solidity\":0.2}},\"type\":\"bar\"}],\"carpet\":[{\"aaxis\":{\"endlinecolor\":\"rgb(36,36,36)\",\"gridcolor\":\"white\",\"linecolor\":\"white\",\"minorgridcolor\":\"white\",\"startlinecolor\":\"rgb(36,36,36)\"},\"baxis\":{\"endlinecolor\":\"rgb(36,36,36)\",\"gridcolor\":\"white\",\"linecolor\":\"white\",\"minorgridcolor\":\"white\",\"startlinecolor\":\"rgb(36,36,36)\"},\"type\":\"carpet\"}],\"choropleth\":[{\"colorbar\":{\"outlinewidth\":1,\"tickcolor\":\"rgb(36,36,36)\",\"ticks\":\"outside\"},\"type\":\"choropleth\"}],\"contourcarpet\":[{\"colorbar\":{\"outlinewidth\":1,\"tickcolor\":\"rgb(36,36,36)\",\"ticks\":\"outside\"},\"type\":\"contourcarpet\"}],\"contour\":[{\"colorbar\":{\"outlinewidth\":1,\"tickcolor\":\"rgb(36,36,36)\",\"ticks\":\"outside\"},\"colorscale\":[[0.0,\"#440154\"],[0.1111111111111111,\"#482878\"],[0.2222222222222222,\"#3e4989\"],[0.3333333333333333,\"#31688e\"],[0.4444444444444444,\"#26828e\"],[0.5555555555555556,\"#1f9e89\"],[0.6666666666666666,\"#35b779\"],[0.7777777777777778,\"#6ece58\"],[0.8888888888888888,\"#b5de2b\"],[1.0,\"#fde725\"]],\"type\":\"contour\"}],\"heatmapgl\":[{\"colorbar\":{\"outlinewidth\":1,\"tickcolor\":\"rgb(36,36,36)\",\"ticks\":\"outside\"},\"colorscale\":[[0.0,\"#440154\"],[0.1111111111111111,\"#482878\"],[0.2222222222222222,\"#3e4989\"],[0.3333333333333333,\"#31688e\"],[0.4444444444444444,\"#26828e\"],[0.5555555555555556,\"#1f9e89\"],[0.6666666666666666,\"#35b779\"],[0.7777777777777778,\"#6ece58\"],[0.8888888888888888,\"#b5de2b\"],[1.0,\"#fde725\"]],\"type\":\"heatmapgl\"}],\"heatmap\":[{\"colorbar\":{\"outlinewidth\":1,\"tickcolor\":\"rgb(36,36,36)\",\"ticks\":\"outside\"},\"colorscale\":[[0.0,\"#440154\"],[0.1111111111111111,\"#482878\"],[0.2222222222222222,\"#3e4989\"],[0.3333333333333333,\"#31688e\"],[0.4444444444444444,\"#26828e\"],[0.5555555555555556,\"#1f9e89\"],[0.6666666666666666,\"#35b779\"],[0.7777777777777778,\"#6ece58\"],[0.8888888888888888,\"#b5de2b\"],[1.0,\"#fde725\"]],\"type\":\"heatmap\"}],\"histogram2dcontour\":[{\"colorbar\":{\"outlinewidth\":1,\"tickcolor\":\"rgb(36,36,36)\",\"ticks\":\"outside\"},\"colorscale\":[[0.0,\"#440154\"],[0.1111111111111111,\"#482878\"],[0.2222222222222222,\"#3e4989\"],[0.3333333333333333,\"#31688e\"],[0.4444444444444444,\"#26828e\"],[0.5555555555555556,\"#1f9e89\"],[0.6666666666666666,\"#35b779\"],[0.7777777777777778,\"#6ece58\"],[0.8888888888888888,\"#b5de2b\"],[1.0,\"#fde725\"]],\"type\":\"histogram2dcontour\"}],\"histogram2d\":[{\"colorbar\":{\"outlinewidth\":1,\"tickcolor\":\"rgb(36,36,36)\",\"ticks\":\"outside\"},\"colorscale\":[[0.0,\"#440154\"],[0.1111111111111111,\"#482878\"],[0.2222222222222222,\"#3e4989\"],[0.3333333333333333,\"#31688e\"],[0.4444444444444444,\"#26828e\"],[0.5555555555555556,\"#1f9e89\"],[0.6666666666666666,\"#35b779\"],[0.7777777777777778,\"#6ece58\"],[0.8888888888888888,\"#b5de2b\"],[1.0,\"#fde725\"]],\"type\":\"histogram2d\"}],\"histogram\":[{\"marker\":{\"line\":{\"color\":\"white\",\"width\":0.6}},\"type\":\"histogram\"}],\"mesh3d\":[{\"colorbar\":{\"outlinewidth\":1,\"tickcolor\":\"rgb(36,36,36)\",\"ticks\":\"outside\"},\"type\":\"mesh3d\"}],\"parcoords\":[{\"line\":{\"colorbar\":{\"outlinewidth\":1,\"tickcolor\":\"rgb(36,36,36)\",\"ticks\":\"outside\"}},\"type\":\"parcoords\"}],\"pie\":[{\"automargin\":true,\"type\":\"pie\"}],\"scatter3d\":[{\"line\":{\"colorbar\":{\"outlinewidth\":1,\"tickcolor\":\"rgb(36,36,36)\",\"ticks\":\"outside\"}},\"marker\":{\"colorbar\":{\"outlinewidth\":1,\"tickcolor\":\"rgb(36,36,36)\",\"ticks\":\"outside\"}},\"type\":\"scatter3d\"}],\"scattercarpet\":[{\"marker\":{\"colorbar\":{\"outlinewidth\":1,\"tickcolor\":\"rgb(36,36,36)\",\"ticks\":\"outside\"}},\"type\":\"scattercarpet\"}],\"scattergeo\":[{\"marker\":{\"colorbar\":{\"outlinewidth\":1,\"tickcolor\":\"rgb(36,36,36)\",\"ticks\":\"outside\"}},\"type\":\"scattergeo\"}],\"scattergl\":[{\"marker\":{\"colorbar\":{\"outlinewidth\":1,\"tickcolor\":\"rgb(36,36,36)\",\"ticks\":\"outside\"}},\"type\":\"scattergl\"}],\"scattermapbox\":[{\"marker\":{\"colorbar\":{\"outlinewidth\":1,\"tickcolor\":\"rgb(36,36,36)\",\"ticks\":\"outside\"}},\"type\":\"scattermapbox\"}],\"scatterpolargl\":[{\"marker\":{\"colorbar\":{\"outlinewidth\":1,\"tickcolor\":\"rgb(36,36,36)\",\"ticks\":\"outside\"}},\"type\":\"scatterpolargl\"}],\"scatterpolar\":[{\"marker\":{\"colorbar\":{\"outlinewidth\":1,\"tickcolor\":\"rgb(36,36,36)\",\"ticks\":\"outside\"}},\"type\":\"scatterpolar\"}],\"scatter\":[{\"fillpattern\":{\"fillmode\":\"overlay\",\"size\":10,\"solidity\":0.2},\"type\":\"scatter\"}],\"scatterternary\":[{\"marker\":{\"colorbar\":{\"outlinewidth\":1,\"tickcolor\":\"rgb(36,36,36)\",\"ticks\":\"outside\"}},\"type\":\"scatterternary\"}],\"surface\":[{\"colorbar\":{\"outlinewidth\":1,\"tickcolor\":\"rgb(36,36,36)\",\"ticks\":\"outside\"},\"colorscale\":[[0.0,\"#440154\"],[0.1111111111111111,\"#482878\"],[0.2222222222222222,\"#3e4989\"],[0.3333333333333333,\"#31688e\"],[0.4444444444444444,\"#26828e\"],[0.5555555555555556,\"#1f9e89\"],[0.6666666666666666,\"#35b779\"],[0.7777777777777778,\"#6ece58\"],[0.8888888888888888,\"#b5de2b\"],[1.0,\"#fde725\"]],\"type\":\"surface\"}],\"table\":[{\"cells\":{\"fill\":{\"color\":\"rgb(237,237,237)\"},\"line\":{\"color\":\"white\"}},\"header\":{\"fill\":{\"color\":\"rgb(217,217,217)\"},\"line\":{\"color\":\"white\"}},\"type\":\"table\"}]},\"layout\":{\"annotationdefaults\":{\"arrowhead\":0,\"arrowwidth\":1},\"autotypenumbers\":\"strict\",\"coloraxis\":{\"colorbar\":{\"outlinewidth\":1,\"tickcolor\":\"rgb(36,36,36)\",\"ticks\":\"outside\"}},\"colorscale\":{\"diverging\":[[0.0,\"rgb(103,0,31)\"],[0.1,\"rgb(178,24,43)\"],[0.2,\"rgb(214,96,77)\"],[0.3,\"rgb(244,165,130)\"],[0.4,\"rgb(253,219,199)\"],[0.5,\"rgb(247,247,247)\"],[0.6,\"rgb(209,229,240)\"],[0.7,\"rgb(146,197,222)\"],[0.8,\"rgb(67,147,195)\"],[0.9,\"rgb(33,102,172)\"],[1.0,\"rgb(5,48,97)\"]],\"sequential\":[[0.0,\"#440154\"],[0.1111111111111111,\"#482878\"],[0.2222222222222222,\"#3e4989\"],[0.3333333333333333,\"#31688e\"],[0.4444444444444444,\"#26828e\"],[0.5555555555555556,\"#1f9e89\"],[0.6666666666666666,\"#35b779\"],[0.7777777777777778,\"#6ece58\"],[0.8888888888888888,\"#b5de2b\"],[1.0,\"#fde725\"]],\"sequentialminus\":[[0.0,\"#440154\"],[0.1111111111111111,\"#482878\"],[0.2222222222222222,\"#3e4989\"],[0.3333333333333333,\"#31688e\"],[0.4444444444444444,\"#26828e\"],[0.5555555555555556,\"#1f9e89\"],[0.6666666666666666,\"#35b779\"],[0.7777777777777778,\"#6ece58\"],[0.8888888888888888,\"#b5de2b\"],[1.0,\"#fde725\"]]},\"colorway\":[\"#1F77B4\",\"#FF7F0E\",\"#2CA02C\",\"#D62728\",\"#9467BD\",\"#8C564B\",\"#E377C2\",\"#7F7F7F\",\"#BCBD22\",\"#17BECF\"],\"font\":{\"color\":\"rgb(36,36,36)\"},\"geo\":{\"bgcolor\":\"white\",\"lakecolor\":\"white\",\"landcolor\":\"white\",\"showlakes\":true,\"showland\":true,\"subunitcolor\":\"white\"},\"hoverlabel\":{\"align\":\"left\"},\"hovermode\":\"closest\",\"mapbox\":{\"style\":\"light\"},\"paper_bgcolor\":\"white\",\"plot_bgcolor\":\"white\",\"polar\":{\"angularaxis\":{\"gridcolor\":\"rgb(232,232,232)\",\"linecolor\":\"rgb(36,36,36)\",\"showgrid\":false,\"showline\":true,\"ticks\":\"outside\"},\"bgcolor\":\"white\",\"radialaxis\":{\"gridcolor\":\"rgb(232,232,232)\",\"linecolor\":\"rgb(36,36,36)\",\"showgrid\":false,\"showline\":true,\"ticks\":\"outside\"}},\"scene\":{\"xaxis\":{\"backgroundcolor\":\"white\",\"gridcolor\":\"rgb(232,232,232)\",\"gridwidth\":2,\"linecolor\":\"rgb(36,36,36)\",\"showbackground\":true,\"showgrid\":false,\"showline\":true,\"ticks\":\"outside\",\"zeroline\":false,\"zerolinecolor\":\"rgb(36,36,36)\"},\"yaxis\":{\"backgroundcolor\":\"white\",\"gridcolor\":\"rgb(232,232,232)\",\"gridwidth\":2,\"linecolor\":\"rgb(36,36,36)\",\"showbackground\":true,\"showgrid\":false,\"showline\":true,\"ticks\":\"outside\",\"zeroline\":false,\"zerolinecolor\":\"rgb(36,36,36)\"},\"zaxis\":{\"backgroundcolor\":\"white\",\"gridcolor\":\"rgb(232,232,232)\",\"gridwidth\":2,\"linecolor\":\"rgb(36,36,36)\",\"showbackground\":true,\"showgrid\":false,\"showline\":true,\"ticks\":\"outside\",\"zeroline\":false,\"zerolinecolor\":\"rgb(36,36,36)\"}},\"shapedefaults\":{\"fillcolor\":\"black\",\"line\":{\"width\":0},\"opacity\":0.3},\"ternary\":{\"aaxis\":{\"gridcolor\":\"rgb(232,232,232)\",\"linecolor\":\"rgb(36,36,36)\",\"showgrid\":false,\"showline\":true,\"ticks\":\"outside\"},\"baxis\":{\"gridcolor\":\"rgb(232,232,232)\",\"linecolor\":\"rgb(36,36,36)\",\"showgrid\":false,\"showline\":true,\"ticks\":\"outside\"},\"bgcolor\":\"white\",\"caxis\":{\"gridcolor\":\"rgb(232,232,232)\",\"linecolor\":\"rgb(36,36,36)\",\"showgrid\":false,\"showline\":true,\"ticks\":\"outside\"}},\"title\":{\"x\":0.05},\"xaxis\":{\"automargin\":true,\"gridcolor\":\"rgb(232,232,232)\",\"linecolor\":\"rgb(36,36,36)\",\"showgrid\":false,\"showline\":true,\"ticks\":\"outside\",\"title\":{\"standoff\":15},\"zeroline\":false,\"zerolinecolor\":\"rgb(36,36,36)\"},\"yaxis\":{\"automargin\":true,\"gridcolor\":\"rgb(232,232,232)\",\"linecolor\":\"rgb(36,36,36)\",\"showgrid\":false,\"showline\":true,\"ticks\":\"outside\",\"title\":{\"standoff\":15},\"zeroline\":false,\"zerolinecolor\":\"rgb(36,36,36)\"}}},\"xaxis\":{\"anchor\":\"y\",\"domain\":[0.0,0.7363],\"title\":{\"text\":\"ESTATURA\"}},\"yaxis\":{\"anchor\":\"x\",\"domain\":[0.0,0.7326],\"title\":{\"text\":\"CAMBIO_PESO_DESEADO\"}},\"xaxis2\":{\"anchor\":\"y2\",\"domain\":[0.7413,1.0],\"matches\":\"x2\",\"showticklabels\":false,\"showline\":false,\"ticks\":\"\"},\"yaxis2\":{\"anchor\":\"x2\",\"domain\":[0.0,0.7326],\"matches\":\"y\",\"showticklabels\":false},\"xaxis3\":{\"anchor\":\"y3\",\"domain\":[0.0,0.7363],\"matches\":\"x\",\"showticklabels\":false},\"yaxis3\":{\"anchor\":\"x3\",\"domain\":[0.7426,1.0],\"matches\":\"y3\",\"showticklabels\":false,\"showline\":false,\"ticks\":\"\"},\"xaxis4\":{\"anchor\":\"y4\",\"domain\":[0.7413,1.0],\"matches\":\"x2\",\"showticklabels\":false,\"showline\":false,\"ticks\":\"\"},\"yaxis4\":{\"anchor\":\"x4\",\"domain\":[0.7426,1.0],\"matches\":\"y3\",\"showticklabels\":false,\"showline\":false,\"ticks\":\"\"},\"legend\":{\"title\":{\"text\":\"GENERO_BIO\"},\"tracegroupgap\":0},\"margin\":{\"t\":60},\"height\":400,\"width\":600,\"barmode\":\"overlay\"},                        {\"responsive\": true}                    ).then(function(){\n",
       "                            \n",
       "var gd = document.getElementById('6abcdb19-cf83-4cce-b073-be61bddf0a3c');\n",
       "var x = new MutationObserver(function (mutations, observer) {{\n",
       "        var display = window.getComputedStyle(gd).display;\n",
       "        if (!display || display === 'none') {{\n",
       "            console.log([gd, 'removed!']);\n",
       "            Plotly.purge(gd);\n",
       "            observer.disconnect();\n",
       "        }}\n",
       "}});\n",
       "\n",
       "// Listen for the removal of the full notebook cells\n",
       "var notebookContainer = gd.closest('#notebook-container');\n",
       "if (notebookContainer) {{\n",
       "    x.observe(notebookContainer, {childList: true});\n",
       "}}\n",
       "\n",
       "// Listen for the clearing of the current output cell\n",
       "var outputEl = gd.closest('.output');\n",
       "if (outputEl) {{\n",
       "    x.observe(outputEl, {childList: true});\n",
       "}}\n",
       "\n",
       "                        })                };                });            </script>        </div>"
      ]
     },
     "metadata": {},
     "output_type": "display_data"
    }
   ],
   "source": [
    "import plotly.express as px\n",
    "fig = px.scatter(datos, x=\"ESTATURA\", y=\"CAMBIO_PESO_DESEADO\", color=\"GENERO_BIO\", \n",
    "                 marginal_y=\"box\", marginal_x=\"histogram\", template=\"simple_white\",\n",
    "                 width=600, height=400)\n",
    "fig.show()"
   ]
  },
  {
   "cell_type": "code",
   "execution_count": null,
   "id": "60ff7d17-d081-47cb-a342-be5cd36e5280",
   "metadata": {},
   "outputs": [],
   "source": []
  },
  {
   "cell_type": "markdown",
   "id": "34881289-40da-4eba-9e5b-1b681af92ffe",
   "metadata": {},
   "source": [
    "* **¿Qué métodos, técnicas, modelos debo aplicar? (el objetivo y las características de los datos guían la respuesta a esta pregunta)**"
   ]
  },
  {
   "cell_type": "markdown",
   "id": "ea3d97cc-e3e3-4796-a732-9a8944ed1494",
   "metadata": {},
   "source": [
    "# <span style=\"color:green\"><center>Claves de desarrollo en ciencia de datos</center></span>"
   ]
  },
  {
   "cell_type": "markdown",
   "id": "f86d5d38-af80-4a75-ae52-e0ab4309f49b",
   "metadata": {},
   "source": [
    "<figure>\n",
    "<center>\n",
    "<img src=\"https://raw.githubusercontent.com/AprendizajeProfundo/diplomado-ciencia-de-datos/master/A_Preliminares/Imagenes/ai-in-education.jpg\" style=\"width:600px;height:300px;\"/> \n",
    "</center>   \n",
    "</figure>"
   ]
  },
  {
   "cell_type": "markdown",
   "id": "47815890-5b20-446c-95a4-af3eac8bc5a4",
   "metadata": {
    "slideshow": {
     "slide_type": "slide"
    },
    "tags": []
   },
   "source": [
    "## <span style=\"color:#4361EE\">Digitalización de documentos</span>"
   ]
  },
  {
   "cell_type": "markdown",
   "id": "5d714264-7b11-44b2-af9e-d54c8cbe5427",
   "metadata": {
    "slideshow": {
     "slide_type": "slide"
    },
    "tags": []
   },
   "source": [
    "<img src=\"https://raw.githubusercontent.com/AprendizajeProfundo/diplomado-ciencia-de-datos/master/A_Preliminares/Imagenes/Internet_Archive_book_scanner.jpg\" width=\"380\" height=\"300\" align=\"left\"/>\n",
    "<img src=\"https://raw.githubusercontent.com/AprendizajeProfundo/diplomado-ciencia-de-datos/master/A_Preliminares/Imagenes/Dunhuang_manuscript_digitisation.jpg\" width=\"380\" height=\"600\" align=\"right\"/>"
   ]
  },
  {
   "cell_type": "markdown",
   "id": "657a10df-7d34-4c1e-81ea-89a2a5df816e",
   "metadata": {
    "slideshow": {
     "slide_type": "slide"
    },
    "tags": []
   },
   "source": [
    "## <span style=\"color:#4361EE\">Matemáticas</span>"
   ]
  },
  {
   "cell_type": "markdown",
   "id": "c31414ad-34cc-40fb-bf75-26b77520a8ec",
   "metadata": {
    "slideshow": {
     "slide_type": "slide"
    },
    "tags": []
   },
   "source": [
    "### Tensores"
   ]
  },
  {
   "cell_type": "markdown",
   "id": "5ed01eb5-f61c-4e11-bd02-603d7f479082",
   "metadata": {},
   "source": [
    "<center>\n",
    "<img src=\"https://raw.githubusercontent.com/AprendizajeProfundo/diplomado-ciencia-de-datos/master/A_Preliminares/Imagenes/ten_tensores.jpg\" width=\"600\" height=\"600\" align=\"center\"/>\n",
    "</center>"
   ]
  },
  {
   "cell_type": "markdown",
   "id": "13cdf148-30d1-44a7-a6c2-42c6d60016d2",
   "metadata": {
    "slideshow": {
     "slide_type": "slide"
    },
    "tags": []
   },
   "source": [
    "<center>\n",
    "<img src=\"https://raw.githubusercontent.com/AprendizajeProfundo/diplomado-ciencia-de-datos/master/A_Preliminares/Imagenes/ten_tensor_4_d.jpg\" width=\"600\" height=\"600\" align=\"center\"/>\n",
    "</center>"
   ]
  },
  {
   "cell_type": "markdown",
   "id": "af0c0f34-f8dd-4187-b1bb-29860d634997",
   "metadata": {
    "slideshow": {
     "slide_type": "slide"
    },
    "tags": []
   },
   "source": [
    "### Diferenciación Automática"
   ]
  },
  {
   "cell_type": "markdown",
   "id": "7ccc7678-3f6a-443c-af6e-edf0e41c3b9e",
   "metadata": {},
   "source": [
    "<figure>\n",
    "<center>\n",
    "<img src=\"https://raw.githubusercontent.com/AprendizajeProfundo/diplomado-ciencia-de-datos/master/A_Preliminares/Imagenes/AutomaticDifferentiationNutshell.png\" width=\"600\" height=\"600\"/> \n",
    "</center>   \n",
    "</figure>"
   ]
  },
  {
   "cell_type": "markdown",
   "id": "bf0dbf52-77ff-4923-b1d8-dee14709a25d",
   "metadata": {
    "slideshow": {
     "slide_type": "slide"
    },
    "tags": []
   },
   "source": [
    "### Optimización a gran escala. Gradiente Estocástico Descendiente"
   ]
  },
  {
   "cell_type": "markdown",
   "id": "064b01be-17d4-491f-b49f-d2c5edebee78",
   "metadata": {},
   "source": [
    "GPT-3, el moelo de lenguaje natural de OpenAI tiene 175 mil millones  de parámetros."
   ]
  },
  {
   "cell_type": "markdown",
   "id": "20d494a8-d5d7-4fd6-bfc9-053365d63c47",
   "metadata": {},
   "source": [
    "<img src=\"https://raw.githubusercontent.com/AprendizajeProfundo/diplomado-ciencia-de-datos/master/A_Preliminares/Imagenes/Gradient_ascent.png\" width=\"380\" height=\"400\" align=\"left\"/>\n",
    "<img src=\"https://raw.githubusercontent.com/AprendizajeProfundo/diplomado-ciencia-de-datos/master/A_Preliminares/Imagenes/Adam_MsProp.png\" width=\"380\" height=\"600\" align=\"right\"/>"
   ]
  },
  {
   "cell_type": "markdown",
   "id": "efe4f270-4a54-4c8f-a0e7-9ae78b2a715a",
   "metadata": {
    "slideshow": {
     "slide_type": "skip"
    },
    "tags": []
   },
   "source": [
    "### Convoluciones"
   ]
  },
  {
   "cell_type": "markdown",
   "id": "9548fb65-8226-4ea0-9a00-ce7324844428",
   "metadata": {
    "slideshow": {
     "slide_type": "skip"
    },
    "tags": []
   },
   "source": [
    "<figure>\n",
    "<center>\n",
    "<img src=\"https://raw.githubusercontent.com/AprendizajeProfundo/diplomado-ciencia-de-datos/master/A_Preliminares/Imagenes/Convolution_discrete.png\" width=\"800\" height=\"700\"/> \n",
    "</center>   \n",
    "</figure>"
   ]
  },
  {
   "cell_type": "markdown",
   "id": "33f23b8d-58e0-4450-afc6-9d7000758701",
   "metadata": {
    "slideshow": {
     "slide_type": "slide"
    },
    "tags": []
   },
   "source": [
    "### Estadística"
   ]
  },
  {
   "cell_type": "markdown",
   "id": "f4ae1656-e010-4d90-86c9-99d026092cef",
   "metadata": {},
   "source": [
    "![Digi1](https://raw.githubusercontent.com/AprendizajeProfundo/diplomado-ciencia-de-datos/master/A_Preliminares/Imagenes/mod_reg2.jpg)"
   ]
  },
  {
   "cell_type": "markdown",
   "id": "98fd0bac-c4af-49d6-9b93-dfa1d35bba9a",
   "metadata": {
    "slideshow": {
     "slide_type": "subslide"
    },
    "tags": []
   },
   "source": [
    "![Clust](https://raw.githubusercontent.com/AprendizajeProfundo/diplomado-ciencia-de-datos/master/A_Preliminares/Imagenes/clustering.png)"
   ]
  },
  {
   "cell_type": "markdown",
   "id": "d72c2ef2-e894-40ce-b977-89cf84d5e6af",
   "metadata": {
    "slideshow": {
     "slide_type": "subslide"
    },
    "tags": []
   },
   "source": [
    "![Clust2](https://raw.githubusercontent.com/AprendizajeProfundo/diplomado-ciencia-de-datos/master/A_Preliminares/Imagenes/clustering_2.png)"
   ]
  },
  {
   "cell_type": "markdown",
   "id": "fd196ec7-9d91-436c-91a3-1c46e438d7f9",
   "metadata": {
    "slideshow": {
     "slide_type": "slide"
    },
    "tags": []
   },
   "source": [
    "### Máquinas de Aprendizaje"
   ]
  },
  {
   "cell_type": "markdown",
   "id": "861eb4c0-0d78-4cc4-bfe9-a1935934ce3d",
   "metadata": {},
   "source": [
    "![Digi1](https://raw.githubusercontent.com/AprendizajeProfundo/diplomado-ciencia-de-datos/master/A_Preliminares/Imagenes/mod_machine-learning-map.png)"
   ]
  },
  {
   "cell_type": "markdown",
   "id": "1d11f99e-50fb-4689-8c50-4bfdd28b1e6c",
   "metadata": {
    "slideshow": {
     "slide_type": "slide"
    },
    "tags": []
   },
   "source": [
    "### Red Neuronal"
   ]
  },
  {
   "cell_type": "markdown",
   "id": "bf50dafe-8077-4a05-b37a-ece5a850889d",
   "metadata": {},
   "source": [
    "![Capa oculta](https://raw.githubusercontent.com/AprendizajeProfundo/diplomado-ciencia-de-datos/master/A_Preliminares/Imagenes/ANN_Capa_Oculta.png)"
   ]
  },
  {
   "cell_type": "markdown",
   "id": "edc2269a-b321-433b-a7d1-d6df394c8d86",
   "metadata": {
    "slideshow": {
     "slide_type": "slide"
    },
    "tags": []
   },
   "source": [
    "## <span style=\"color:#4361EE\">Transformación de problemas</span>"
   ]
  },
  {
   "cell_type": "markdown",
   "id": "5b7676e7-71f0-4b1f-9bc9-8b7913aa305d",
   "metadata": {
    "slideshow": {
     "slide_type": "slide"
    },
    "tags": []
   },
   "source": [
    "### Imagen a tensor"
   ]
  },
  {
   "cell_type": "markdown",
   "id": "c3cf7ae9-44ba-4aec-83b5-c97bc0d0be84",
   "metadata": {},
   "source": [
    "<figure>\n",
    "<center>\n",
    "<img src=\"https://raw.githubusercontent.com/AprendizajeProfundo/diplomado-ciencia-de-datos/master/A_Preliminares/Imagenes/image2tensor.webp\" width=\"700\" height=\"600\"/> \n",
    "</center>   \n",
    "</figure>"
   ]
  },
  {
   "cell_type": "markdown",
   "id": "177ea86f-bf0f-4f16-b374-6a056dc6f10f",
   "metadata": {
    "slideshow": {
     "slide_type": "slide"
    },
    "tags": []
   },
   "source": [
    "### Texto a tensor: Sumergimiento de palabras"
   ]
  },
  {
   "cell_type": "markdown",
   "id": "2fff12c6-e0bf-41ce-aedd-c504d0ca91a1",
   "metadata": {},
   "source": [
    "<figure>\n",
    "<center>\n",
    "<img src=\"https://raw.githubusercontent.com/AprendizajeProfundo/diplomado-ciencia-de-datos/master/A_Preliminares/Imagenes/word_embedding_2.jpg\" width=\"800\" height=\"700\"/> \n",
    "</center>   \n",
    "</figure>"
   ]
  },
  {
   "cell_type": "markdown",
   "id": "9bc2e4b3-e882-4a9e-a1ba-fe999195d906",
   "metadata": {
    "slideshow": {
     "slide_type": "slide"
    },
    "tags": []
   },
   "source": [
    "## <span style=\"color:#4361EE\">Tecnología</span>"
   ]
  },
  {
   "cell_type": "markdown",
   "id": "1f4fea4d-b6fb-4b87-a404-c4be09805f32",
   "metadata": {
    "slideshow": {
     "slide_type": "subslide"
    },
    "tags": []
   },
   "source": [
    "### Hardware tradicional : CPU, GPU"
   ]
  },
  {
   "cell_type": "markdown",
   "id": "d79054d5-d9e0-4bc0-8e8b-584ce93f2b5f",
   "metadata": {},
   "source": [
    "<img src=\"https://raw.githubusercontent.com/AprendizajeProfundo/diplomado-ciencia-de-datos/master/A_Preliminares/Imagenes/CPU.jpg\" width=\"380\" height=\"300\" align=\"left\"/>\n",
    "<img src=\"https://raw.githubusercontent.com/AprendizajeProfundo/diplomado-ciencia-de-datos/master/A_Preliminares/Imagenes/GPU.jpg\" width=\"380\" height=\"300\" align=\"left\"/>"
   ]
  },
  {
   "cell_type": "markdown",
   "id": "7993179f-05ad-4eb8-8326-41ad14f717b1",
   "metadata": {
    "slideshow": {
     "slide_type": "subslide"
    },
    "tags": []
   },
   "source": [
    "### Hardware moderno : TPU, Cerebras"
   ]
  },
  {
   "cell_type": "markdown",
   "id": "808ea59c-3aa2-4576-b445-b3904f952db1",
   "metadata": {},
   "source": [
    "<center>\n",
    "<img src=\"https://raw.githubusercontent.com/AprendizajeProfundo/diplomado-ciencia-de-datos/master/A_Preliminares/Imagenes/TPU.png\" width=\"480\" height=\"400\" align=\"center\"/>\n",
    "</center>\n",
    "<center>\n",
    "<img src=\"https://raw.githubusercontent.com/AprendizajeProfundo/diplomado-ciencia-de-datos/master/A_Preliminares/Imagenes/cerebras.png\" width=\"380\" height=\"400\" align=\"center\"/>\n",
    "</center>"
   ]
  },
  {
   "cell_type": "markdown",
   "id": "c1ce7a23-cd15-4a38-9897-d6bb39fd02d8",
   "metadata": {
    "slideshow": {
     "slide_type": "slide"
    },
    "tags": []
   },
   "source": [
    "### Computación en la nube"
   ]
  },
  {
   "cell_type": "markdown",
   "id": "ecddd2c9-3c3b-4162-8d45-d7ff2fc7773c",
   "metadata": {},
   "source": [
    "<figure>\n",
    "<center>\n",
    "<img src=\"https://raw.githubusercontent.com/AprendizajeProfundo/diplomado-ciencia-de-datos/master/A_Preliminares/Imagenes/Cloud_computing-es.svg.png\" width=\"450\"/> \n",
    "</center>   \n",
    "</figure>"
   ]
  },
  {
   "cell_type": "markdown",
   "id": "eb1c7c34-106b-4d62-9b6d-af236b76c3e1",
   "metadata": {
    "slideshow": {
     "slide_type": "slide"
    },
    "tags": []
   },
   "source": [
    "### Big data"
   ]
  },
  {
   "cell_type": "markdown",
   "id": "08a02cb6-93d8-4763-9ae6-a82d2be92491",
   "metadata": {},
   "source": [
    "<figure>\n",
    "<center>\n",
    "<img src=\"https://raw.githubusercontent.com/AprendizajeProfundo/diplomado-ciencia-de-datos/master/A_Preliminares/Imagenes/apache-spark.png\" width=\"600\" height=\"400\" align=\"center\"/> \n",
    "</center>   \n",
    "</figure>"
   ]
  },
  {
   "cell_type": "markdown",
   "id": "db3d50c6-bf2b-4b4d-b135-6050092d6ad1",
   "metadata": {
    "slideshow": {
     "slide_type": "slide"
    },
    "tags": []
   },
   "source": [
    "### Programación: ciencia de datos, redes neuronales"
   ]
  },
  {
   "cell_type": "markdown",
   "id": "7570b6c2-8b9b-48bd-a5d2-1f764e5b04b1",
   "metadata": {},
   "source": [
    "<figure>\n",
    "<center>\n",
    "<img src=\"https://raw.githubusercontent.com/AprendizajeProfundo/diplomado-ciencia-de-datos/master/A_Preliminares/Imagenes/Frameworks.jpg\" width=\"800\" height=\"800\"/> \n",
    "</center>   \n",
    "</figure>"
   ]
  },
  {
   "cell_type": "markdown",
   "id": "fc52ce75-03df-4fc8-bf2b-5775ddf039b8",
   "metadata": {
    "slideshow": {
     "slide_type": "slide"
    },
    "tags": []
   },
   "source": [
    "## <span style=\"color:#4361EE\">Arquitecturas Neuronales Paradigma</span>"
   ]
  },
  {
   "cell_type": "markdown",
   "id": "8f6b31d6-72e3-4322-b21c-21e9120a0cdc",
   "metadata": {
    "slideshow": {
     "slide_type": "slide"
    },
    "tags": []
   },
   "source": [
    "### Modelo Convolucional"
   ]
  },
  {
   "cell_type": "markdown",
   "id": "c573dab4-fda2-43a5-8f1c-952ca3f82428",
   "metadata": {},
   "source": [
    "![](https://raw.githubusercontent.com/AprendizajeProfundo/diplomado-ciencia-de-datos/master/A_Preliminares/Imagenes/cnn-procedure.png)"
   ]
  },
  {
   "cell_type": "markdown",
   "id": "5c52a6fa-8709-4fbf-b52a-2f3afd425699",
   "metadata": {
    "slideshow": {
     "slide_type": "slide"
    },
    "tags": []
   },
   "source": [
    "### Modelo Recurrente"
   ]
  },
  {
   "cell_type": "markdown",
   "id": "0f67afdc-2b50-4f76-8a92-da7450c02f73",
   "metadata": {},
   "source": [
    "![](https://raw.githubusercontent.com/AprendizajeProfundo/diplomado-ciencia-de-datos/master/A_Preliminares/Imagenes/RNN-longtermdependencies.png)"
   ]
  },
  {
   "cell_type": "markdown",
   "id": "c7039faa-340a-4270-8153-b4121109e689",
   "metadata": {
    "slideshow": {
     "slide_type": "slide"
    },
    "tags": []
   },
   "source": [
    "### Modelo Atencional: Transformers"
   ]
  },
  {
   "cell_type": "markdown",
   "id": "536b6f04-411f-41f1-a7a5-9e84aa5c3644",
   "metadata": {},
   "source": [
    "<figure>\n",
    "<center>\n",
    "<img src=\"https://raw.githubusercontent.com/AprendizajeProfundo/diplomado-ciencia-de-datos/master/A_Preliminares/Imagenes/transformer.png\" width=\"380\" height=\"250\"/> \n",
    "</center>   \n",
    "</figure>"
   ]
  },
  {
   "cell_type": "markdown",
   "id": "9c497ecc-19f8-4cf7-8471-f7a8ea980152",
   "metadata": {
    "slideshow": {
     "slide_type": "slide"
    },
    "tags": []
   },
   "source": [
    "### Transferencia de conocimiento"
   ]
  },
  {
   "cell_type": "markdown",
   "id": "ee6206fb-282c-449d-99ef-0cbcbf88b808",
   "metadata": {},
   "source": [
    "<figure>\n",
    "<center>\n",
    "<img src=\"https://raw.githubusercontent.com/AprendizajeProfundo/diplomado-ciencia-de-datos/master/A_Preliminares/Imagenes/bert.jpg\" width=\"800\" height=\"800\"/> \n",
    "</center>   \n",
    "</figure>\n"
   ]
  }
 ],
 "metadata": {
  "kernelspec": {
   "display_name": "Python 3 (ipykernel)",
   "language": "python",
   "name": "python3"
  },
  "language_info": {
   "codemirror_mode": {
    "name": "ipython",
    "version": 3
   },
   "file_extension": ".py",
   "mimetype": "text/x-python",
   "name": "python",
   "nbconvert_exporter": "python",
   "pygments_lexer": "ipython3",
   "version": "3.10.6"
  }
 },
 "nbformat": 4,
 "nbformat_minor": 5
}
