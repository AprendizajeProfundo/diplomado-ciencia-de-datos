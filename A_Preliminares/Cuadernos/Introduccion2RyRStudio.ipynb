{
 "cells": [
  {
   "cell_type": "markdown",
   "metadata": {
    "id": "1Ch3SsEFYI1u"
   },
   "source": [
    "# **<p align=\"center\"><font size=5 color=#006600>Diplomado en Ciencia de Datos**"
   ]
  },
  {
   "cell_type": "markdown",
   "metadata": {
    "id": "OOJ7NOMnelA2"
   },
   "source": [
    "# **<p align=\"center\"><font size=5 color=#FF0033>Introducción a R y RStudio**"
   ]
  },
  {
   "cell_type": "markdown",
   "metadata": {
    "id": "z9oBWmjodpyc"
   },
   "source": [
    "# **<font size=5 color=#0000FF>Profesores**"
   ]
  },
  {
   "cell_type": "markdown",
   "metadata": {
    "id": "ms1l2HJYeCh7"
   },
   "source": [
    "1. Campo Elías Pardo Turriago, cepardot@unal.edu.co \n",
    "2. Alvaro Mauricio Montenegro Díaz,ammontenegrod@unal.edu.co \n",
    "3. Daniel Mauricio Montenegro Reyes, dextronomo@gmail.com\n",
    "\n",
    "\n",
    "\n",
    "\n"
   ]
  },
  {
   "cell_type": "markdown",
   "metadata": {
    "id": "TApWfcZxemhD"
   },
   "source": [
    "# **<font size=5 color=#0000FF>Asesora Medios y Marketing Digital**"
   ]
  },
  {
   "cell_type": "markdown",
   "metadata": {
    "id": "43gtv0Abextl"
   },
   "source": [
    "1. Maria del Pilar Montenegro, pmontenegro88@gmail.com"
   ]
  },
  {
   "cell_type": "markdown",
   "metadata": {
    "id": "jLSx3bVoe9fZ"
   },
   "source": [
    "# **<font size=5 color=#0000FF>Asistentes**"
   ]
  },
  {
   "cell_type": "markdown",
   "metadata": {
    "id": "74W8jrBSfFXl"
   },
   "source": [
    "1. Oleg Jarma, ojarmam@unal.edu.co\n",
    "2. Laura Lizarazo, ljlizarazore@unal.edu.co\n",
    "3. Julieth Andrea López Castiblanco, julalopezcas@unal.edu.co"
   ]
  },
  {
   "cell_type": "markdown",
   "metadata": {
    "id": "yEs44GdM-3bD"
   },
   "source": [
    "**Nota:** los trozos de código de este cuaderno son de R"
   ]
  },
  {
   "cell_type": "markdown",
   "metadata": {
    "id": "L7dnhZUdeyR7"
   },
   "source": [
    "## **Contenido**"
   ]
  },
  {
   "cell_type": "markdown",
   "metadata": {
    "id": "ok00ZM5AgXw6"
   },
   "source": [
    "* [Introducción](#Introducción)\n",
    "* [Historia y características de R](Historia-y-características-de-R)\n",
    "* [Instalación](#Instalación)\n",
    "    * [Características](#Características)\n",
    "* [Cómo empezar y avanzar en R](#Cómo-empezar-y-avanzar-en-R)\n",
    "    * [Algunas funciones para estadística](#Algunas-funciones-para-estadística)\n",
    "    * [Datos base](#Lectura-de-datos)\n",
    "    * [Instalación de paquetes](#Instalación-de-paquetes)\n",
    "    * [Algunos gráficos](#Algunos-gráficos)\n",
    "* [Algunos aspectos y herramientas cotidianas](#Algunos-aspectos-y-herramientas-cotidianas)\n",
    "* [Instalación de paquetes](#Instalación-de-paquetes)\n",
    "* [Referencias](#Referencias)"
   ]
  },
  {
   "cell_type": "markdown",
   "metadata": {},
   "source": [
    "<center>\n",
    "<img src=\"https://ih1.redbubble.net/image.522687890.2102/raf,750x1000,075,t,FFFFFF:97ab1c12de.u4.jpg\" alt=\"eigenvectores\" width=\"250\">\n",
    "<center>"
   ]
  },
  {
   "cell_type": "markdown",
   "metadata": {
    "id": "liXrxkeGMutK",
    "tags": []
   },
   "source": [
    "# **Introducción**"
   ]
  },
  {
   "cell_type": "markdown",
   "metadata": {},
   "source": [
    "R es un lenguaje de programación y entorno computacional distribuido de manera gratuita, a través de la Licencia Pública General de GNU, por lo que es software libre y de código abierto. \n",
    "\n",
    "R es una herramienta muy poderosa para el trabajo en Estadística y una persona especializada en esta encuentra lo que necesita para su trabajo.\n",
    "\n",
    "Leer también en [Wikipedia](https://es.wikipedia.org/wiki/R_(lenguaje_de_programaci%C3%B3n))"
   ]
  },
  {
   "cell_type": "markdown",
   "metadata": {},
   "source": [
    "# **Historia y características de R**"
   ]
  },
  {
   "cell_type": "markdown",
   "metadata": {},
   "source": [
    "En el prefacio de la cuarta edición de \n",
    "[Modern Applied Statistics with S-Plus](https://www.researchgate.net/publication/224817420_Modern_Applied_Statistics_With_S), los autores presentan el **S** como un lenguage y ambiente para análisis de datos, desarrollado en *Bell Laboratories*, con dos implementaciones: una comercial **S-Plus** y la otra **R**, como un sistema de código abierto escrito por en equipo de voluntarios.\n",
    "\n",
    "El libro mencionado se puede considerar como un manual de Estadística y análisis de datos utilizando  R. Además aparece como referencia en la documentación de varias funciones de R, sobretodo del paquete recomendado *MASS*. Los paquetes recomendados quedan instalados junto con el R, pero hay que cargarlos en cada sesión de trabajo cuando se use alguna de sus funciones. Por ejemplo la función *lda{MASS}* para realizar análisis lineal discriminante:"
   ]
  },
  {
   "cell_type": "markdown",
   "metadata": {},
   "source": [
    "La función *lda* también referencia el libro [Ripley, B. D. (1996) Pattern Recognition and Neural Networks -pdf-]()Scholarly articles for Ripley, B. D. (1996) Pattern Recognition and Neural Networks"
   ]
  },
  {
   "cell_type": "code",
   "execution_count": 1,
   "metadata": {
    "tags": []
   },
   "outputs": [],
   "source": [
    "library(MASS)\n",
    "#?lda"
   ]
  },
  {
   "cell_type": "markdown",
   "metadata": {},
   "source": [
    "Por otro lado  [Ihaka y Gentleman (1996) -PDF-](https://www.stat.auckland.ac.nz/~ihaka/downloads/R-paper.pdf) presentan *R* como un lenguaje de computador nuevo para el análisis estadístico, basado de *S* y *Scheme*. Le dan ese nombre por tener como predecesor a *S* y a la inicial de sus nombres (Ross y Robert} para destacar también su contribución.\n",
    "\n",
    "En todo caso esos dos grupos: el de Bell Laboratories y la Univesity de Auckland en Nueva Zelanda, se consideran los creadores y desarrolladores de R. Ross Ihaka, Robert Gentleman y John Chambers (creador de S en Bell Laboratories) forman parte del *core* de *R*:"
   ]
  },
  {
   "cell_type": "code",
   "execution_count": 2,
   "metadata": {},
   "outputs": [],
   "source": [
    "#contributors()"
   ]
  },
  {
   "cell_type": "markdown",
   "metadata": {},
   "source": [
    "## **Facetas de R**"
   ]
  },
  {
   "cell_type": "markdown",
   "metadata": {},
   "source": [
    "En el artículo *Facets of R* [(Chambers 2009)](https://journal.r-project.org/archive/2009-1/RJournal_2009-1_Chambers.pdf) el autor presenta las características de R en 6 facetas que son también una cronoloogía del desarrollo de R. Aquí se presenta un resumen."
   ]
  },
  {
   "cell_type": "markdown",
   "metadata": {},
   "source": [
    "### **Una interfaz interactiva**\n",
    "\n",
    "1. Una interfaz de procedimientos computacionales de muchos tipos.\n",
    "2. Interactivo: se ejecuta en tiempo real.\n",
    "\n",
    "- Una mejor interfaz para los procedimientos computacionales nuevos para el análisis de datos científicos, por lo general implementados como subrutinas Fortran, luego también en C y otros lenguajes. Por ejemplo [*Linear Algebra PACKage LACPAC*](http://www.netlib.org/lapack/)\n",
    "- La investigación estadística de Bell Labs había recogido y escrito una variedad procedimientos en Fortran.\n",
    "- Se publicaban algoritmos para muchas de las técnicas computacionales esenciales.\n",
    "- Estos procedimientos fueron la esencia de los análisis de datos reales.\n",
    "- La interfaz tenía que ser interactiva.\n",
    "- Un lenguaje usado para que el analista de datos se pueda comunicar en tiempo real con el software."
   ]
  },
  {
   "cell_type": "markdown",
   "metadata": {
    "id": "uEboBJSD94iY"
   },
   "source": [
    "### **Funcional en su modelo de programación y orientado a objetos, \"todo es un objeto\"**\n",
    "\n",
    "3. Funcional en su modelo de programación.\n",
    "4. Orientado a objetos: todo es un objeto.\n",
    "\n",
    "- Los procedimientos son funciones.\n",
    "- La interfaz de procedimiento se define como funciones que proveen una interfaz para subrutinas en Fortran o C.\n",
    "- Se incluyen clases de objetos y métodos que hacen que las funciones específicas funcionen de acuerdo a las clases de sus argumentos. Por ejemplo, la función diag() que se ve a continuación.\n",
    "- Funciones como objetos.\n",
    "- Los objetos tienen un atributo que define su clase.\n",
    "- S4 provee definiciones formales de las clases.\n",
    "- Definiciones formales de métodos asociados con funciones genéricas."
   ]
  },
  {
   "cell_type": "markdown",
   "metadata": {
    "id": "6LKwIi27FoMH"
   },
   "source": [
    "### **Modular, construido a partir de piezas estandarizadas**\n",
    "\n",
    "5. Modular: construido en piezas estandarizadas.\n",
    "6. Colaborativo: un esfuerzo mundial de código abierto. \n",
    "\n",
    " - Colaboración: un esfuerzo de código abierto en todo el mundo.\n",
    " - Funciones y paquetes.\n",
    " - Entorno (environment)\n",
    " - Funciones comparten ambiente, mecanismo Namespace.\n",
    " - Un paquete R es un módulo que combina funciones de R, su documentación y posiblemente datos y código en otros lenguajes.\n",
    " - R está disponible libremente como un sistema de código abierto: tanto el programa núcleo como la mayoría de los paquetes, que son el resultado de nuevas investigaciones estadísticas y sus aplicaciones. Actualmente (octubre de 2022) hay más de 18 mil paquetes en el CRAN de R.\n",
    " - Las herramientas para la administración de paquetes juegan un papel esencial de colaboración.\n",
    " - R generalmente es capaz de incorporar otros softwares de código abierto o relacionarse con ellos, por ejemplo:\n",
    "     - [LATEX](http://www.latex-project.org/)\n",
    "     - [xfig](http://www.xfig.org/)"
   ]
  },
  {
   "cell_type": "markdown",
   "metadata": {},
   "source": [
    "## Instalación de R\n",
    "\n",
    "[CRAN](https://cran.r-project.org/): The Comprehensive R Archive Network. Ahí se archivan todas las versiones de R base, así como todos los paquetes para R que han pasado por un proceso de revisión riguroso, realizado por el CRAN Team, que se encarga de asegurar su correcto funcionamiento.\n",
    "\n",
    "El archivo instalador de R para Windows o Mac se baja y se ejecuta. Se recomienda dejar las opciones por defecto que propone el instalador. Al instalar R queda disponible dentro de R, toda la documentación. R se puede arrancar básicamente con 3 opciones:\n",
    "\n",
    "1. Desde la consola\n",
    "2. Desde el RGui, una ayuda gráfica sencilla para ejecutar los procedimientos especiales.\n",
    "3. Desde in *IDE* como RStudio y Jupyter."
   ]
  },
  {
   "cell_type": "markdown",
   "metadata": {},
   "source": [
    "Desde un entorno Jupyter, como el de este cuaderno, los trozos de código son casi como los de la consola, lo que no funciona es la intereacción. Por una vez veamos la consola, para entrar en la ayuda con el navegador."
   ]
  },
  {
   "cell_type": "markdown",
   "metadata": {
    "id": "_Iaq6fouJlVV"
   },
   "source": [
    "# **Cómo empezar y avanzar en R**"
   ]
  },
  {
   "cell_type": "markdown",
   "metadata": {},
   "source": [
    "1. Empezemos usando R desde la consola como una calculadora científica para hacer operaciones básicas."
   ]
  },
  {
   "cell_type": "code",
   "execution_count": 3,
   "metadata": {},
   "outputs": [
    {
     "data": {
      "text/html": [
       "27"
      ],
      "text/latex": [
       "27"
      ],
      "text/markdown": [
       "27"
      ],
      "text/plain": [
       "[1] 27"
      ]
     },
     "metadata": {},
     "output_type": "display_data"
    },
    {
     "data": {
      "text/html": [
       "180"
      ],
      "text/latex": [
       "180"
      ],
      "text/markdown": [
       "180"
      ],
      "text/plain": [
       "[1] 180"
      ]
     },
     "metadata": {},
     "output_type": "display_data"
    },
    {
     "data": {
      "text/html": [
       "0.8"
      ],
      "text/latex": [
       "0.8"
      ],
      "text/markdown": [
       "0.8"
      ],
      "text/plain": [
       "[1] 0.8"
      ]
     },
     "metadata": {},
     "output_type": "display_data"
    },
    {
     "data": {
      "text/html": [
       "8"
      ],
      "text/latex": [
       "8"
      ],
      "text/markdown": [
       "8"
      ],
      "text/plain": [
       "[1] 8"
      ]
     },
     "metadata": {},
     "output_type": "display_data"
    },
    {
     "data": {
      "text/html": [
       "8"
      ],
      "text/latex": [
       "8"
      ],
      "text/markdown": [
       "8"
      ],
      "text/plain": [
       "[1] 8"
      ]
     },
     "metadata": {},
     "output_type": "display_data"
    }
   ],
   "source": [
    "# Pasar a la consola y hacer desde allá lo que se hace aqui:\n",
    "12+15\n",
    "12*15 # multiplicación\n",
    "12/15\n",
    "2**3 # 2 elevado a la 3\n",
    "2^3  # también 2 elevado a la 3"
   ]
  },
  {
   "cell_type": "markdown",
   "metadata": {},
   "source": [
    "2. Ahora R como una calculadora matricial"
   ]
  },
  {
   "cell_type": "code",
   "execution_count": 4,
   "metadata": {
    "colab": {
     "base_uri": "https://localhost:8080/",
     "height": 373
    },
    "id": "e4cjwJWx-Qev",
    "outputId": "435c201e-8779-4ff0-850d-bcf95300191b"
   },
   "outputs": [
    {
     "data": {
      "text/html": [
       "<style>\n",
       ".list-inline {list-style: none; margin:0; padding: 0}\n",
       ".list-inline>li {display: inline-block}\n",
       ".list-inline>li:not(:last-child)::after {content: \"\\00b7\"; padding: 0 .5ex}\n",
       "</style>\n",
       "<ol class=list-inline><li>1</li><li>2</li><li>3</li><li>4</li></ol>\n"
      ],
      "text/latex": [
       "\\begin{enumerate*}\n",
       "\\item 1\n",
       "\\item 2\n",
       "\\item 3\n",
       "\\item 4\n",
       "\\end{enumerate*}\n"
      ],
      "text/markdown": [
       "1. 1\n",
       "2. 2\n",
       "3. 3\n",
       "4. 4\n",
       "\n",
       "\n"
      ],
      "text/plain": [
       "[1] 1 2 3 4"
      ]
     },
     "metadata": {},
     "output_type": "display_data"
    },
    {
     "data": {
      "text/html": [
       "'integer'"
      ],
      "text/latex": [
       "'integer'"
      ],
      "text/markdown": [
       "'integer'"
      ],
      "text/plain": [
       "[1] \"integer\""
      ]
     },
     "metadata": {},
     "output_type": "display_data"
    }
   ],
   "source": [
    "a = c(1:4)\n",
    "a\n",
    "class(a)         #vector "
   ]
  },
  {
   "cell_type": "code",
   "execution_count": 5,
   "metadata": {},
   "outputs": [
    {
     "data": {
      "text/html": [
       "<table class=\"dataframe\">\n",
       "<caption>A matrix: 2 × 2 of type int</caption>\n",
       "<tbody>\n",
       "\t<tr><td>1</td><td>3</td></tr>\n",
       "\t<tr><td>2</td><td>4</td></tr>\n",
       "</tbody>\n",
       "</table>\n"
      ],
      "text/latex": [
       "A matrix: 2 × 2 of type int\n",
       "\\begin{tabular}{ll}\n",
       "\t 1 & 3\\\\\n",
       "\t 2 & 4\\\\\n",
       "\\end{tabular}\n"
      ],
      "text/markdown": [
       "\n",
       "A matrix: 2 × 2 of type int\n",
       "\n",
       "| 1 | 3 |\n",
       "| 2 | 4 |\n",
       "\n"
      ],
      "text/plain": [
       "     [,1] [,2]\n",
       "[1,] 1    3   \n",
       "[2,] 2    4   "
      ]
     },
     "metadata": {},
     "output_type": "display_data"
    },
    {
     "data": {
      "text/html": [
       "<style>\n",
       ".list-inline {list-style: none; margin:0; padding: 0}\n",
       ".list-inline>li {display: inline-block}\n",
       ".list-inline>li:not(:last-child)::after {content: \"\\00b7\"; padding: 0 .5ex}\n",
       "</style>\n",
       "<ol class=list-inline><li>'matrix'</li><li>'array'</li></ol>\n"
      ],
      "text/latex": [
       "\\begin{enumerate*}\n",
       "\\item 'matrix'\n",
       "\\item 'array'\n",
       "\\end{enumerate*}\n"
      ],
      "text/markdown": [
       "1. 'matrix'\n",
       "2. 'array'\n",
       "\n",
       "\n"
      ],
      "text/plain": [
       "[1] \"matrix\" \"array\" "
      ]
     },
     "metadata": {},
     "output_type": "display_data"
    }
   ],
   "source": [
    "A <- matrix(a,2,2)\n",
    "A\n",
    "class(A) #matriz"
   ]
  },
  {
   "cell_type": "code",
   "execution_count": 6,
   "metadata": {},
   "outputs": [
    {
     "name": "stdout",
     "output_type": "stream",
     "text": [
      "Diagonal A:  1 4\n",
      "\n",
      "Matriz identidad de orden 3:"
     ]
    },
    {
     "data": {
      "text/html": [
       "<table class=\"dataframe\">\n",
       "<caption>A matrix: 3 × 3 of type dbl</caption>\n",
       "<tbody>\n",
       "\t<tr><td>1</td><td>0</td><td>0</td></tr>\n",
       "\t<tr><td>0</td><td>1</td><td>0</td></tr>\n",
       "\t<tr><td>0</td><td>0</td><td>1</td></tr>\n",
       "</tbody>\n",
       "</table>\n"
      ],
      "text/latex": [
       "A matrix: 3 × 3 of type dbl\n",
       "\\begin{tabular}{lll}\n",
       "\t 1 & 0 & 0\\\\\n",
       "\t 0 & 1 & 0\\\\\n",
       "\t 0 & 0 & 1\\\\\n",
       "\\end{tabular}\n"
      ],
      "text/markdown": [
       "\n",
       "A matrix: 3 × 3 of type dbl\n",
       "\n",
       "| 1 | 0 | 0 |\n",
       "| 0 | 1 | 0 |\n",
       "| 0 | 0 | 1 |\n",
       "\n"
      ],
      "text/plain": [
       "     [,1] [,2] [,3]\n",
       "[1,] 1    0    0   \n",
       "[2,] 0    1    0   \n",
       "[3,] 0    0    1   "
      ]
     },
     "metadata": {},
     "output_type": "display_data"
    }
   ],
   "source": [
    "cat(\"Diagonal A: \",diag(A))   #diag cuando el argumento es una matrix\n",
    "I3 = diag(3)  #Asignación a I3 una matriz identidad de orden 3 \n",
    "cat(\"\\n\\nMatriz identidad de orden 3:\") \n",
    "I3"
   ]
  },
  {
   "cell_type": "markdown",
   "metadata": {},
   "source": [
    "3. Leer poco a poco en la documentación que queda disponible al instalar R. Lo primero es leer *An Introducción a R*, la cual también se recomienda consultarla con frecuencia."
   ]
  },
  {
   "cell_type": "code",
   "execution_count": 7,
   "metadata": {
    "tags": []
   },
   "outputs": [],
   "source": [
    "# pasar a la consola del Mac\n",
    "# entrar a R\n",
    "## $ R <enter>\n",
    "# ayuda con el navegador\n",
    "## help.start()\n",
    "# Clic en An Introduction to R, darle una ojeada\n",
    "# Ejecutar los comandos del apéndice A"
   ]
  },
  {
   "cell_type": "markdown",
   "metadata": {},
   "source": [
    "### 6. Una sección de muestra - Apéndice A de *An Introduction to R*"
   ]
  },
  {
   "cell_type": "code",
   "execution_count": 8,
   "metadata": {},
   "outputs": [],
   "source": [
    "rm(list=ls())"
   ]
  },
  {
   "cell_type": "code",
   "execution_count": 9,
   "metadata": {},
   "outputs": [
    {
     "data": {
      "image/png": "[encoded data removed]",
      "text/plain": [
       "plot without title"
      ]
     },
     "metadata": {
      "image/png": {
       "height": 420,
       "width": 420
      }
     },
     "output_type": "display_data"
    }
   ],
   "source": [
    "x <- rnorm(50)\n",
    "y <- rnorm(x)\n",
    "#Generate two pseudo-random normal vectors of x- and y-coordinates.\n",
    "\n",
    "plot(x, y)\n",
    "#Plot the points in the plane. A graphics window will appear automatically."
   ]
  },
  {
   "cell_type": "code",
   "execution_count": 10,
   "metadata": {},
   "outputs": [
    {
     "data": {
      "text/html": [
       "<style>\n",
       ".list-inline {list-style: none; margin:0; padding: 0}\n",
       ".list-inline>li {display: inline-block}\n",
       ".list-inline>li:not(:last-child)::after {content: \"\\00b7\"; padding: 0 .5ex}\n",
       "</style>\n",
       "<ol class=list-inline><li>'x'</li><li>'y'</li></ol>\n"
      ],
      "text/latex": [
       "\\begin{enumerate*}\n",
       "\\item 'x'\n",
       "\\item 'y'\n",
       "\\end{enumerate*}\n"
      ],
      "text/markdown": [
       "1. 'x'\n",
       "2. 'y'\n",
       "\n",
       "\n"
      ],
      "text/plain": [
       "[1] \"x\" \"y\""
      ]
     },
     "metadata": {},
     "output_type": "display_data"
    }
   ],
   "source": [
    "ls() # See which R objects are now in the R workspace.\n",
    "\n",
    "rm(x, y) #Remove objects no longer needed. (Clean up)."
   ]
  },
  {
   "cell_type": "code",
   "execution_count": 11,
   "metadata": {},
   "outputs": [
    {
     "data": {
      "text/html": [
       "<table class=\"dataframe\">\n",
       "<caption>A data.frame: 20 × 2</caption>\n",
       "<thead>\n",
       "\t<tr><th scope=col>x</th><th scope=col>y</th></tr>\n",
       "\t<tr><th scope=col>&lt;int&gt;</th><th scope=col>&lt;dbl&gt;</th></tr>\n",
       "</thead>\n",
       "<tbody>\n",
       "\t<tr><td> 1</td><td> 1.619042</td></tr>\n",
       "\t<tr><td> 2</td><td> 2.345019</td></tr>\n",
       "\t<tr><td> 3</td><td> 4.507053</td></tr>\n",
       "\t<tr><td> 4</td><td> 4.914954</td></tr>\n",
       "\t<tr><td> 5</td><td> 4.519153</td></tr>\n",
       "\t<tr><td> 6</td><td> 6.918625</td></tr>\n",
       "\t<tr><td> 7</td><td> 5.782143</td></tr>\n",
       "\t<tr><td> 8</td><td>10.315151</td></tr>\n",
       "\t<tr><td> 9</td><td> 6.806951</td></tr>\n",
       "\t<tr><td>10</td><td> 9.096172</td></tr>\n",
       "\t<tr><td>11</td><td>11.562597</td></tr>\n",
       "\t<tr><td>12</td><td>14.085566</td></tr>\n",
       "\t<tr><td>13</td><td>16.741428</td></tr>\n",
       "\t<tr><td>14</td><td>14.141641</td></tr>\n",
       "\t<tr><td>15</td><td>20.355867</td></tr>\n",
       "\t<tr><td>16</td><td>12.035553</td></tr>\n",
       "\t<tr><td>17</td><td>15.007796</td></tr>\n",
       "\t<tr><td>18</td><td>19.887788</td></tr>\n",
       "\t<tr><td>19</td><td>14.509495</td></tr>\n",
       "\t<tr><td>20</td><td>15.263715</td></tr>\n",
       "</tbody>\n",
       "</table>\n"
      ],
      "text/latex": [
       "A data.frame: 20 × 2\n",
       "\\begin{tabular}{ll}\n",
       " x & y\\\\\n",
       " <int> & <dbl>\\\\\n",
       "\\hline\n",
       "\t  1 &  1.619042\\\\\n",
       "\t  2 &  2.345019\\\\\n",
       "\t  3 &  4.507053\\\\\n",
       "\t  4 &  4.914954\\\\\n",
       "\t  5 &  4.519153\\\\\n",
       "\t  6 &  6.918625\\\\\n",
       "\t  7 &  5.782143\\\\\n",
       "\t  8 & 10.315151\\\\\n",
       "\t  9 &  6.806951\\\\\n",
       "\t 10 &  9.096172\\\\\n",
       "\t 11 & 11.562597\\\\\n",
       "\t 12 & 14.085566\\\\\n",
       "\t 13 & 16.741428\\\\\n",
       "\t 14 & 14.141641\\\\\n",
       "\t 15 & 20.355867\\\\\n",
       "\t 16 & 12.035553\\\\\n",
       "\t 17 & 15.007796\\\\\n",
       "\t 18 & 19.887788\\\\\n",
       "\t 19 & 14.509495\\\\\n",
       "\t 20 & 15.263715\\\\\n",
       "\\end{tabular}\n"
      ],
      "text/markdown": [
       "\n",
       "A data.frame: 20 × 2\n",
       "\n",
       "| x &lt;int&gt; | y &lt;dbl&gt; |\n",
       "|---|---|\n",
       "|  1 |  1.619042 |\n",
       "|  2 |  2.345019 |\n",
       "|  3 |  4.507053 |\n",
       "|  4 |  4.914954 |\n",
       "|  5 |  4.519153 |\n",
       "|  6 |  6.918625 |\n",
       "|  7 |  5.782143 |\n",
       "|  8 | 10.315151 |\n",
       "|  9 |  6.806951 |\n",
       "| 10 |  9.096172 |\n",
       "| 11 | 11.562597 |\n",
       "| 12 | 14.085566 |\n",
       "| 13 | 16.741428 |\n",
       "| 14 | 14.141641 |\n",
       "| 15 | 20.355867 |\n",
       "| 16 | 12.035553 |\n",
       "| 17 | 15.007796 |\n",
       "| 18 | 19.887788 |\n",
       "| 19 | 14.509495 |\n",
       "| 20 | 15.263715 |\n",
       "\n"
      ],
      "text/plain": [
       "   x  y        \n",
       "1   1  1.619042\n",
       "2   2  2.345019\n",
       "3   3  4.507053\n",
       "4   4  4.914954\n",
       "5   5  4.519153\n",
       "6   6  6.918625\n",
       "7   7  5.782143\n",
       "8   8 10.315151\n",
       "9   9  6.806951\n",
       "10 10  9.096172\n",
       "11 11 11.562597\n",
       "12 12 14.085566\n",
       "13 13 16.741428\n",
       "14 14 14.141641\n",
       "15 15 20.355867\n",
       "16 16 12.035553\n",
       "17 17 15.007796\n",
       "18 18 19.887788\n",
       "19 19 14.509495\n",
       "20 20 15.263715"
      ]
     },
     "metadata": {},
     "output_type": "display_data"
    },
    {
     "data": {
      "text/plain": [
       "\n",
       "Call:\n",
       "lm(formula = y ~ x, data = dummy)\n",
       "\n",
       "Residuals:\n",
       "    Min      1Q  Median      3Q     Max \n",
       "-3.4466 -1.3756 -0.3574  0.9455  5.9558 \n",
       "\n",
       "Coefficients:\n",
       "            Estimate Std. Error t value Pr(>|t|)    \n",
       "(Intercept)  1.46924    1.18791   1.237    0.232    \n",
       "x            0.86205    0.09916   8.693 7.36e-08 ***\n",
       "---\n",
       "Signif. codes:  0 ‘***’ 0.001 ‘**’ 0.01 ‘*’ 0.05 ‘.’ 0.1 ‘ ’ 1\n",
       "\n",
       "Residual standard error: 2.557 on 18 degrees of freedom\n",
       "Multiple R-squared:  0.8076,\tAdjusted R-squared:  0.7969 \n",
       "F-statistic: 75.57 on 1 and 18 DF,  p-value: 7.359e-08\n"
      ]
     },
     "metadata": {},
     "output_type": "display_data"
    },
    {
     "data": {
      "text/plain": [
       "\n",
       "Call:\n",
       "lm(formula = y ~ x, data = dummy, weights = 1/w^2)\n",
       "\n",
       "Weighted Residuals:\n",
       "     Min       1Q   Median       3Q      Max \n",
       "-1.17245 -0.53732 -0.04856  0.50505  1.97449 \n",
       "\n",
       "Coefficients:\n",
       "            Estimate Std. Error t value Pr(>|t|)    \n",
       "(Intercept)  1.05766    0.80862   1.308    0.207    \n",
       "x            0.90001    0.08245  10.916 2.28e-09 ***\n",
       "---\n",
       "Signif. codes:  0 ‘***’ 0.001 ‘**’ 0.01 ‘*’ 0.05 ‘.’ 0.1 ‘ ’ 1\n",
       "\n",
       "Residual standard error: 0.8936 on 18 degrees of freedom\n",
       "Multiple R-squared:  0.8688,\tAdjusted R-squared:  0.8615 \n",
       "F-statistic: 119.1 on 1 and 18 DF,  p-value: 2.282e-09\n"
      ]
     },
     "metadata": {},
     "output_type": "display_data"
    },
    {
     "name": "stderr",
     "output_type": "stream",
     "text": [
      "The following object is masked _by_ .GlobalEnv:\n",
      "\n",
      "    x\n",
      "\n",
      "\n"
     ]
    },
    {
     "data": {
      "image/png": "[encoded data removed]",
      "text/plain": [
       "plot without title"
      ]
     },
     "metadata": {
      "image/png": {
       "height": 420,
       "width": 420
      }
     },
     "output_type": "display_data"
    },
    {
     "data": {
      "image/png": "[encoded data removed]",
      "text/plain": [
       "Plot with title “Residuals vs Fitted”"
      ]
     },
     "metadata": {
      "image/png": {
       "height": 420,
       "width": 420
      }
     },
     "output_type": "display_data"
    },
    {
     "data": {
      "image/png": "[encoded data removed]",
      "text/plain": [
       "Plot with title “Residuals Rankit Plot”"
      ]
     },
     "metadata": {
      "image/png": {
       "height": 420,
       "width": 420
      }
     },
     "output_type": "display_data"
    }
   ],
   "source": [
    "\n",
    "x <- 1:20 #Make x = (1, 2, …, 20).\n",
    "\n",
    "w <- 1 + sqrt(x)/2 #A ‘weight’ vector of standard deviations.\n",
    "\n",
    "dummy <- data.frame(x=x, y= x + rnorm(x)*w)\n",
    "dummy\n",
    "#Make a data frame of two columns, x and y, and look at it.\n",
    "\n",
    "fm <- lm(y ~ x, data=dummy)\n",
    "summary(fm)\n",
    "#Fit a simple linear regression and look at the analysis. With y to the left of the tilde, we are modelling y dependent on x.\n",
    "\n",
    "fm1 <- lm(y ~ x, data=dummy, weight=1/w^2)\n",
    "summary(fm1)\n",
    "#Since we know the standard deviations, we can do a weighted regression.\n",
    "\n",
    "attach(dummy) #Make the columns in the data frame visible as variables.\n",
    "\n",
    "lrf <- lowess(x, y)\n",
    "#Make a nonparametric local regression function.\n",
    "\n",
    "plot(x, y) #Standard point plot.\n",
    "lines(x, lrf$y) #Add in the local regression.\n",
    "\n",
    "abline(0, 1, lty=3)\n",
    "#The true regression line: (intercept 0, slope 1).\n",
    "\n",
    "abline(coef(fm)) #Unweighted regression line.\n",
    "\n",
    "abline(coef(fm1), col = \"red\") #Weighted regression line.\n",
    "\n",
    "detach() #Remove data frame from the search path.\n",
    "\n",
    "plot(fitted(fm), resid(fm),\n",
    "     xlab=\"Fitted values\",\n",
    "     ylab=\"Residuals\",\n",
    "     main=\"Residuals vs Fitted\")\n",
    "#A standard regression diagnostic plot to check for heteroscedasticity. Can you see it?\n",
    "\n",
    "qqnorm(resid(fm), main=\"Residuals Rankit Plot\")\n",
    "#A normal scores plot to check for skewness, kurtosis and outliers. (Not very useful here.)\n"
   ]
  },
  {
   "cell_type": "code",
   "execution_count": 12,
   "metadata": {},
   "outputs": [
    {
     "ename": "ERROR",
     "evalue": "Error in parse(text = x, srcfile = src): <text>:1:4: unexpected symbol\n1: 4. Otros\n       ^\n",
     "output_type": "error",
     "traceback": [
      "Error in parse(text = x, srcfile = src): <text>:1:4: unexpected symbol\n1: 4. Otros\n       ^\nTraceback:\n"
     ]
    }
   ],
   "source": [
    "4. Otros tipos de objetos y sus atributos"
   ]
  },
  {
   "cell_type": "code",
   "execution_count": null,
   "metadata": {
    "tags": []
   },
   "outputs": [],
   "source": [
    "fruta <- c(5, 10, 1, 20)  #vector\n",
    "names(fruta) <- c(\"naranja\", \"plátano\", \"manzana\", \"pera\") #asignar nombres de los elementos del vector\n",
    "fruta\n",
    "class(fruta)\n",
    "attributes(fruta)"
   ]
  },
  {
   "cell_type": "code",
   "execution_count": null,
   "metadata": {},
   "outputs": [],
   "source": [
    "Lst <- list(nombre=\"Pedro\",      #lista\n",
    "            esposa=\"María\",\n",
    "            no.hijos=3,\n",
    "            edad.hijos=c(4,7,9))\n",
    "Lst\n",
    "attributes(Lst)"
   ]
  },
  {
   "cell_type": "markdown",
   "metadata": {},
   "source": [
    "Como sabemos la clase de los objetos?"
   ]
  },
  {
   "cell_type": "code",
   "execution_count": null,
   "metadata": {},
   "outputs": [],
   "source": [
    "class(fruta)\n",
    "class(Lst)\n",
    "class(-17+0i)"
   ]
  },
  {
   "cell_type": "code",
   "execution_count": null,
   "metadata": {},
   "outputs": [],
   "source": [
    "sqrt(-17)\n",
    "sqrt(-17+0i) #admite números complejos"
   ]
  },
  {
   "cell_type": "markdown",
   "metadata": {},
   "source": [
    "Para saber sobre la función y sus argumentos se pueden utilizar cualquiera de las siguientes dos opciones:"
   ]
  },
  {
   "cell_type": "code",
   "execution_count": null,
   "metadata": {},
   "outputs": [],
   "source": [
    "#help(sqrt)\n",
    "#?sqrt"
   ]
  },
  {
   "cell_type": "markdown",
   "metadata": {},
   "source": [
    "Veamos como utilizar la función **sqrt** en la siguiente función, hagamos una función para calcular la desviación estandar muestral:"
   ]
  },
  {
   "cell_type": "code",
   "execution_count": null,
   "metadata": {},
   "outputs": [],
   "source": [
    "StdErr <- function(x)\n",
    "    sqrt(sum((x-mean(x))^2)/(length(x)-1))\n",
    "\n",
    "StdErr(1:10)"
   ]
  },
  {
   "cell_type": "code",
   "execution_count": null,
   "metadata": {},
   "outputs": [],
   "source": [
    "sd(1:10)"
   ]
  },
  {
   "cell_type": "markdown",
   "metadata": {},
   "source": [
    "## Algunas funciones para estadística"
   ]
  },
  {
   "cell_type": "markdown",
   "metadata": {},
   "source": [
    "Dentro de las muchas funciones se encuentra la función beta (beta), binomial (binom), Cauchy (cauchy), ji cuadrado (chisq), exponencial (exp), F de Snedecor (f), gamma (gamma),geométrica (geom), entre otras. Para saber más puede revisar en el [capítulo 8-Distribuciones probabilísticas](https://cran.r-project.org/doc/contrib/R-intro-1.1.0-espanol.1.pdf)."
   ]
  },
  {
   "cell_type": "code",
   "execution_count": null,
   "metadata": {
    "colab": {
     "base_uri": "https://localhost:8080/",
     "height": 436
    },
    "id": "p6zBQgBEf3wm",
    "outputId": "ffd2a566-2e33-48a3-cea1-1f7c118b402b"
   },
   "outputs": [],
   "source": [
    "set.seed(23)\n",
    "x <- rnorm(50, mean=0, sd=1) #muestra normal de \n",
    "y <- rnorm(x)\n",
    "plot(x, y, main=\"x vs y\")"
   ]
  },
  {
   "cell_type": "markdown",
   "metadata": {
    "id": "sDesf8I5gU2c"
   },
   "source": [
    "Ver los objetos en memoria (*workspace*) "
   ]
  },
  {
   "cell_type": "code",
   "execution_count": null,
   "metadata": {
    "colab": {
     "base_uri": "https://localhost:8080/",
     "height": 33
    },
    "id": "kjN6MCF7gtOq",
    "outputId": "72923164-e261-41fc-8d9e-228d0e4755c2"
   },
   "outputs": [],
   "source": [
    "ls()"
   ]
  },
  {
   "cell_type": "markdown",
   "metadata": {
    "id": "BfgpsJHmhfXG"
   },
   "source": [
    "Borremos los objetos x, y."
   ]
  },
  {
   "cell_type": "code",
   "execution_count": null,
   "metadata": {
    "colab": {
     "base_uri": "https://localhost:8080/",
     "height": 33
    },
    "id": "z7njZgZ2hoed",
    "outputId": "d478e31a-56d3-43d6-e835-9d59dc30533c"
   },
   "outputs": [],
   "source": [
    "rm(x,y)\n",
    "ls()"
   ]
  },
  {
   "cell_type": "markdown",
   "metadata": {
    "id": "7EKThWPGi-3r"
   },
   "source": [
    "Borremos ahora todos los objetos."
   ]
  },
  {
   "cell_type": "code",
   "execution_count": null,
   "metadata": {
    "colab": {
     "base_uri": "https://localhost:8080/",
     "height": 16
    },
    "id": "GZO8nYq-jhSE",
    "outputId": "f5eb9284-1a46-41df-8105-eeb9105b1261"
   },
   "outputs": [],
   "source": [
    "rm(list=ls())\n",
    "ls()"
   ]
  },
  {
   "cell_type": "markdown",
   "metadata": {
    "id": "brxNP3qBlZKT"
   },
   "source": [
    "Creemos el vector **x** con los números de 1 a 20 y calculemos $ w = 1 + \\frac{\\sqrt{x}}{2} $. Mostremos además el *data.frame* con las dos columnas."
   ]
  },
  {
   "cell_type": "code",
   "execution_count": null,
   "metadata": {
    "colab": {
     "base_uri": "https://localhost:8080/",
     "height": 661
    },
    "id": "WQgf17fWmZGD",
    "outputId": "621642ae-6905-4dfa-bf53-ebd1532b653a"
   },
   "outputs": [],
   "source": [
    "x <- 1:20\n",
    "w <- 1 + sqrt(x)/2\n",
    "y <- x + rnorm(x)*w\n",
    "datos <- data.frame(x,y)\n",
    "datos"
   ]
  },
  {
   "cell_type": "markdown",
   "metadata": {},
   "source": [
    "Hay muchas funciones estadísticas descriptivas para obtener información de una base de datos, una función bastante completa es la función *summary*.\n",
    "\n",
    "| Nombre Comando| Explicación           |\n",
    "|---------------|-----------------------|\n",
    "| summary(data) | Resumen estadístico   |\n",
    "| min(data)     | Mínimo                |\n",
    "| max(data)     | Máximo                |\n",
    "| range(data)   | Rango                 |\n",
    "| mean(data)    | Media aritmética      |"
   ]
  },
  {
   "cell_type": "code",
   "execution_count": null,
   "metadata": {},
   "outputs": [],
   "source": [
    "summary(datos)"
   ]
  },
  {
   "cell_type": "markdown",
   "metadata": {},
   "source": [
    "Podemos realizar gráficos y pruebas de hipótesis sobre las variable y, por ejemplo, podemos realizar un histograma o la prueba de normalidad Shapiro-Wilk donde $H_0$ = La variable proviene de una distibución normal, $H_1$ = La variable no proviene de una distibución normal. Vemos que p > 0.05, por lo tanto, no se rechaza la hipotesis nula y se asume que los datos provienen de una distribución normal."
   ]
  },
  {
   "cell_type": "code",
   "execution_count": null,
   "metadata": {},
   "outputs": [],
   "source": [
    "hist(y)\n",
    "\n",
    "shapiro.test(y) "
   ]
  },
  {
   "cell_type": "markdown",
   "metadata": {},
   "source": [
    "Realizamos el ajuste de un modelo de regresión lineal tomando *y* como respuesta y *x* como variable explicativa. Se presenta en pantalla un resumen del análisis."
   ]
  },
  {
   "cell_type": "code",
   "execution_count": null,
   "metadata": {},
   "outputs": [],
   "source": [
    "regr <- lm(y ∼ x, data=datos)\n",
    "summary(regr)"
   ]
  },
  {
   "cell_type": "markdown",
   "metadata": {},
   "source": [
    "Puesto que se conocen las desviaciones típicas, puede realizarse una regresión ponderada."
   ]
  },
  {
   "cell_type": "code",
   "execution_count": null,
   "metadata": {},
   "outputs": [],
   "source": [
    "regr.pon <- lm(y ∼ x, data=datos, weight=1/w^2)\n",
    "summary(regr.pon)"
   ]
  },
  {
   "cell_type": "markdown",
   "metadata": {},
   "source": [
    "Para conectar o **fijar** los datos de tal modo que sus columnas aparecen como variables. Realizamos una regresión local no paramétrica."
   ]
  },
  {
   "cell_type": "code",
   "execution_count": null,
   "metadata": {},
   "outputs": [],
   "source": [
    "attach(datos) #fijar los datos\n",
    "regr.loc <- lowess(x, y) #regresión no paramétrica\n",
    "plot(x, y, main=\"Ajuste y~x\") #gráfico bidimensional estándar\n",
    "lines(x, regr.loc$y) #regresión local\n",
    "abline(0, 1, lty=3) #verdadera recta de regresión (punto de corte 0, pendiente 1)\n",
    "abline(coef(regr), col=\"blue\") #recta de regresión no ponderada\n",
    "abline(coef(regr.pon), col=\"red\") #recta de regresión ponderada\n",
    "legend(\"topleft\",\n",
    "       legend = c(\"regr.local\",\"regr.verdadera\",\"regr.no.pond\",\"regr.pond\"),\n",
    "       lty=c(1,3,1,1),\n",
    "       col=c(1,1,4,2),\n",
    "       bty = \"n\")\n",
    "detach() #desconecta la hoja de datos"
   ]
  },
  {
   "cell_type": "markdown",
   "metadata": {
    "tags": []
   },
   "source": [
    "Un gráfico diagnóstico de regresión para investigar la posible heteroscedasticidad (la varianza de los errores no es constante)."
   ]
  },
  {
   "cell_type": "code",
   "execution_count": null,
   "metadata": {},
   "outputs": [],
   "source": [
    "plot(fitted(regr), resid(regr),\n",
    "     xlab=\"Predichos\",\n",
    "     ylab=\"Residuos\",\n",
    "     main=\"Residuos vs Predichos\")"
   ]
  },
  {
   "cell_type": "markdown",
   "metadata": {},
   "source": [
    "Podemos ver no hay heterocesdasticidad. Ahora, veamos a modo de introducción un gráfico en papel probabilístico normal para comprobar asimetría, aplastamiento y datos anómalos (No es muy útil en este caso)."
   ]
  },
  {
   "cell_type": "code",
   "execution_count": null,
   "metadata": {},
   "outputs": [],
   "source": [
    "qqnorm(resid(regr), main=\"Residuos por rangos\")\n",
    "qqline(resid(regr))\n",
    "rm(x,w,datos,regr,regr.pon,regr.loc) #Elimina los objetos creados"
   ]
  },
  {
   "cell_type": "markdown",
   "metadata": {
    "tags": []
   },
   "source": [
    "## Datos base"
   ]
  },
  {
   "cell_type": "markdown",
   "metadata": {},
   "source": [
    "En R es posible leer datos en distintos formatos. En primera instancia se debe ubicar la carpeta donde se tienen los datos, luego se debe utilizar el codigo dependiendo del formato read.table, read_excel, read.csv, read.xlsx. En este caso vamos a trabajar con datos que se encuentran por defecto en R."
   ]
  },
  {
   "cell_type": "code",
   "execution_count": null,
   "metadata": {},
   "outputs": [],
   "source": [
    "getwd() #se obtiene la ruta en la que se está ubicado actualmente\n",
    "#setwd() #se cambia o se establece la ruta"
   ]
  },
  {
   "cell_type": "markdown",
   "metadata": {},
   "source": [
    "Vamos a utilizar los datos de Michaelson y Morley. Hay cinco experimentos (columna Expt) y cada uno contiene 20 series (columna Run) y la columna Speed contiene la velocidad de la luz medida en cada caso, codificada apropiadamente."
   ]
  },
  {
   "cell_type": "code",
   "execution_count": null,
   "metadata": {},
   "outputs": [],
   "source": [
    "#data() #muestra todas las bases de datos incluidas base en R"
   ]
  },
  {
   "cell_type": "code",
   "execution_count": null,
   "metadata": {},
   "outputs": [],
   "source": [
    "data(\"morley\") #carga la base de datos\n",
    "head(morley)"
   ]
  },
  {
   "cell_type": "code",
   "execution_count": null,
   "metadata": {},
   "outputs": [],
   "source": [
    "#Transforma Expt y Run en factores.\n",
    "morley$Expt <- factor(morley$Expt)\n",
    "morley$Run <- factor(morley$Run)"
   ]
  },
  {
   "cell_type": "markdown",
   "metadata": {},
   "source": [
    "Comparamos los cinco experimentos mediante diagramas de cajas."
   ]
  },
  {
   "cell_type": "code",
   "execution_count": null,
   "metadata": {},
   "outputs": [],
   "source": [
    "attach(morley)\n",
    "boxplot(Speed~Expt, main=\"Velocidad de la luz\", xlab=\"No. Experimento\")"
   ]
  },
  {
   "cell_type": "markdown",
   "metadata": {},
   "source": [
    "## Instalación de paquetes"
   ]
  },
  {
   "cell_type": "code",
   "execution_count": null,
   "metadata": {},
   "outputs": [],
   "source": [
    "#install.packages(\"ggplot2\")"
   ]
  },
  {
   "cell_type": "code",
   "execution_count": null,
   "metadata": {},
   "outputs": [],
   "source": [
    "# library\n",
    "library(ggplot2)\n",
    " \n",
    "# Top Left: Set a unique color with fill, colour, and alpha\n",
    "ggplot(morley, aes(x=Expt, y=Speed)) + \n",
    "    geom_boxplot(color=\"red\", fill=\"orange\", alpha=0.2) + \n",
    "    ggtitle(\"Velocidad de la luz\") +\n",
    "    xlab(\"No. Experimento\") + \n",
    "    theme(plot.title = element_text(hjust = 0.5))"
   ]
  },
  {
   "cell_type": "markdown",
   "metadata": {},
   "source": [
    "Analizamos los datos como un diseño en bloques aleatorizados, tomando las ‘series’ y los ‘experimentos’ como factores."
   ]
  },
  {
   "cell_type": "code",
   "execution_count": null,
   "metadata": {},
   "outputs": [],
   "source": [
    "fm <- aov(Speed ∼ Run + Expt, data=morley) #Run 1:20, Expt 5\n",
    "summary(fm)"
   ]
  },
  {
   "cell_type": "markdown",
   "metadata": {},
   "source": [
    "Ajustamos un submodelo eliminando las ‘series’ para compararlos utilizando un análisis de la varianza. Podemos ver que el valor-P es > 0.05 y por lo tanto, los modelos no son significativamente distintos, y por lo tanto el efecto producido por el bloque Run no mejora el modelo."
   ]
  },
  {
   "cell_type": "code",
   "execution_count": null,
   "metadata": {},
   "outputs": [],
   "source": [
    "fm0 <- update(fm, . ∼ . - Run)\n",
    "anova(fm0,fm)\n",
    "detach() #Desconecta la hoja de datos\n",
    "rm(fm, fm0) #Elimina los objetos creados"
   ]
  },
  {
   "cell_type": "markdown",
   "metadata": {},
   "source": [
    "## Algunos gráficos"
   ]
  },
  {
   "cell_type": "markdown",
   "metadata": {},
   "source": [
    "Consideraremos ahora **nuevas** posibilidades gráficas."
   ]
  },
  {
   "cell_type": "code",
   "execution_count": null,
   "metadata": {},
   "outputs": [],
   "source": [
    "x <- seq(-pi, pi, len=50) #x es un vector con 50 valores equiespaciados en el intervalo −π ≤ x ≤ π\n",
    "y <- x #El vector y es idéntico a x."
   ]
  },
  {
   "cell_type": "markdown",
   "metadata": {},
   "source": [
    "f es una matriz cuadrada, cuyas filas y columnas están indexadas por x e y respectivamente, formada por los valores de la función $ cos(y)/(1 + x2) $."
   ]
  },
  {
   "cell_type": "code",
   "execution_count": null,
   "metadata": {},
   "outputs": [],
   "source": [
    "f <- outer(x, y, function(x, y) cos(y)/(1 + x^2)) #almacenamos los parámetros gráficos"
   ]
  },
  {
   "cell_type": "markdown",
   "metadata": {},
   "source": [
    "Dibujamos un mapa de curvas de nivel de f y después le añadimos más líneas para obtener más detalle."
   ]
  },
  {
   "cell_type": "code",
   "execution_count": null,
   "metadata": {},
   "outputs": [],
   "source": [
    "contour(x, y, f, col=2, main=expression(paste(\"Contornos de \",frac(\"cos(y)\", \"1+x\"^2),sep='')), xlab=\"x\", ylab=\"y\")\n",
    "contour(x, y, f, nlevels=15, add=TRUE)"
   ]
  },
  {
   "cell_type": "markdown",
   "metadata": {},
   "source": [
    "Dibujamos un gráfico de densidad."
   ]
  },
  {
   "cell_type": "code",
   "execution_count": null,
   "metadata": {},
   "outputs": [],
   "source": [
    "image(x, y, f)"
   ]
  },
  {
   "cell_type": "markdown",
   "metadata": {},
   "source": [
    "Presenta los objetos existentes y elimina los objetos creados, antes de seguir adelante. Con R también se puede utilizar números complejos. 1i se utiliza para representar la unidad imaginaria, i."
   ]
  },
  {
   "cell_type": "code",
   "execution_count": null,
   "metadata": {},
   "outputs": [],
   "source": [
    "ecuacion <- expression(f == frac(cos(y), 1+x^2))\n",
    "persp(x, y, f, theta = 30, phi = 30, expand=0.5, col = \"darkgreen\",\n",
    "      main=\"Gráfico 3D usando la función persp\", sub=ecuacion, col.main=\"blue\")"
   ]
  },
  {
   "cell_type": "code",
   "execution_count": null,
   "metadata": {},
   "outputs": [],
   "source": [
    "objects(); rm(x, y, f)"
   ]
  },
  {
   "cell_type": "markdown",
   "metadata": {},
   "source": [
    "La representación gráfica de un argumento complejo consiste en dibujar la parte imaginaria frente a la real. En este caso se obtiene un círculo. Ademas con la funnción par y el argumento pty vamos a cambiar el tipo de región de dibujo, \"s\" genera una región de gráficos cuadrada y \"m\" genera la región de dibujo máxima."
   ]
  },
  {
   "cell_type": "code",
   "execution_count": null,
   "metadata": {},
   "outputs": [],
   "source": [
    "th <- seq(-pi, pi, len=100)\n",
    "z <- exp(1i*th)\n",
    "par(pty=\"s\")\n",
    "plot(z, type=\"l\")"
   ]
  },
  {
   "cell_type": "markdown",
   "metadata": {},
   "source": [
    "Suponga que desea generar puntos pseudoaleatorios dentro del círculo unidad. Un primer intento consiste en generar puntos complejos cuyas partes real e imaginaria, respectivamente, procedan de una N(0,1) y sustituir los que caen fuera del círculo por sus inversos."
   ]
  },
  {
   "cell_type": "code",
   "execution_count": null,
   "metadata": {},
   "outputs": [],
   "source": [
    "w <- rnorm(100) + rnorm(100)*1i\n",
    "w <- ifelse(Mod(w) > 1, 1/w, w)\n",
    "par(pty=\"s\")\n",
    "plot(w, xlim=c(-1,1), ylim=c(-1,1), pch=\"+\",xlab=\"x\", ylab=\"y\")\n",
    "lines(z)\n",
    "#Todos los puntos estan dentro del cırculo unidad, pero la distribucion no es uniforme."
   ]
  },
  {
   "cell_type": "markdown",
   "metadata": {},
   "source": [
    "Este segundo método utiliza la distribución uniforme. En este caso, los puntos presentan una apariencia más uniformemente espaciada sobre el círculo."
   ]
  },
  {
   "cell_type": "code",
   "execution_count": null,
   "metadata": {},
   "outputs": [],
   "source": [
    "w <- sqrt(runif(100))*exp(2*pi*runif(100)*1i)\n",
    "par(pty=\"s\")\n",
    "plot(w, xlim=c(-1,1), ylim=c(-1,1), pch=\"+\", xlab=\"x\", ylab=\"y\")\n",
    "lines(z)"
   ]
  },
  {
   "cell_type": "markdown",
   "metadata": {
    "id": "J-g-s8sVpM_o"
   },
   "source": [
    "# **Algunos aspectos claves y herramientas cotidianas**"
   ]
  },
  {
   "cell_type": "markdown",
   "metadata": {
    "id": "SPWX4PYzpX7R"
   },
   "source": [
    "- R considera diferencias entre mayúsculas y minúsculas.\n",
    "- Los comentarios en R empiezan con # y van en cualquier parte de la linea siempre que no interrumpan la lógica de una instrucción.\n",
    "- El salto de linea y el punto y coma son los separadores de comandos.\n",
    "- Para definir o asignar un objeto se una <-, -> o =\n",
    "- En la consola de R con las flechas hacia arriba y hacia abajo se navega por los comandos ya utilizados.\n",
    "- La estructura más pequeña de R es un vector. Entonces un escalar es un vector.\n",
    "- Hay  que entender las clases y las funciones genéricas de R. \n",
    "  + Las funciones se programan para diferentes objetos y R las selecciona de acuerdo al objeto de entrada. \n",
    "  + Las funciones reciben parámetros de ciertas clases y si los utilizados al llamarlas no corresponden, se ocasiona un error.\n",
    "  + Las funciones de R tienen argumentos por defecto, los que se pueden cambiar al momento de llamarlas (utilizarlas)."
   ]
  },
  {
   "cell_type": "markdown",
   "metadata": {},
   "source": [
    "# **Adicional (Aprende R, en R.)**\n",
    "\n",
    "<center>\n",
    "<img src=\"https://swirlstats.com/images/swirl_new_large_final.png\" alt=\"eigenvectores\" width=\"250\">\n",
    "<center>"
   ]
  },
  {
   "cell_type": "markdown",
   "metadata": {},
   "source": [
    "[**Swirl**](), es un paquete que permite aprender de forma interactiva directamente en **R**, cuenta con diversos cursos para principiantes, intermedios y avanzados, puede usarse en la consola aunque recomiendan utilizar [RStudio](https://www.rstudio.com/products/rstudio/download/). \n",
    "\n",
    "- install.packages(\"swirl\") ----->*Instala*\n",
    "- library(\"swirl\") ----->*se llama la librería*\n",
    "- swirl() ----->*se inicia los cursos base*\n",
    "- bye() ----->*se cierran los cursos*"
   ]
  },
  {
   "cell_type": "markdown",
   "metadata": {
    "tags": []
   },
   "source": [
    "# **Referencias**\n",
    "\n",
    "- [R para principiantes](https://bookdown.org/jboscomendoza/r-principiantes4/)\n",
    "- [Introducción a R](https://cran.r-project.org/doc/contrib/R-intro-1.1.0-espanol.1.pdf)"
   ]
  },
  {
   "cell_type": "markdown",
   "metadata": {},
   "source": [
    "# Introducción a RStudio"
   ]
  },
  {
   "cell_type": "markdown",
   "metadata": {},
   "source": [
    "RStudio es el primer *IDE* (*Integrated Development Environment*) para R  \n",
    "[RStudio](http://www.rstudio.com/products/rstudio/features/) \n",
    "y facilita la documentación de los trabajos realizados con R, integrando *Sweave* y *R Markdown*\n"
   ]
  },
  {
   "cell_type": "markdown",
   "metadata": {},
   "source": [
    "*Sweave* es una herramienta que permite integrar el código de R para llevar a cabo el análisis de datos dentro de documentos *LaTeX*\n",
    "\"LaTeX  es *de facto* el estándar para la comunicación y publicación de documentos científicos\".  [LaTeX](http://www.latex-project.org). \n",
    "Morales06 escribió un manual en español para el uso de *Sweave*, displonible en el CRAN de R.\n",
    "\n",
    "*R Markdown* es un formato de edición que permite la creación fácil de documentos dinámicos, presentaciones y reportes desde R. [RMarkdown](http://rmarkdown.rstudio.com/).\n",
    "\n",
    "El uso de estas herramientas permite documentar los trabajos a medida que se van realizando, de modo que se facilita la elaboración del reporte escrito de un trabajo de análisis de datos y la elaboración del material de apoyo para su presentación en público.\n"
   ]
  },
  {
   "cell_type": "markdown",
   "metadata": {},
   "source": [
    "La introducción a RStudio se presenta utilizando LaTeX y RStudio."
   ]
  },
  {
   "cell_type": "code",
   "execution_count": null,
   "metadata": {},
   "outputs": [],
   "source": [
    "FIN"
   ]
  }
 ],
 "metadata": {
  "colab": {
   "collapsed_sections": [],
   "name": "BreveIntroduccion2R.ipynb",
   "provenance": []
  },
  "kernelspec": {
   "display_name": "R",
   "language": "R",
   "name": "ir"
  },
  "language_info": {
   "codemirror_mode": "r",
   "file_extension": ".r",
   "mimetype": "text/x-r-source",
   "name": "R",
   "pygments_lexer": "r",
   "version": "4.2.1"
  }
 },
 "nbformat": 4,
 "nbformat_minor": 4
}
