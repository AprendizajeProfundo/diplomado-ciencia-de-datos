{
 "cells": [
  {
   "cell_type": "markdown",
   "metadata": {},
   "source": [
    "# <span style=\"color:#F72585\"><center>Modelos Lineales Generalizados</center></span>\n"
   ]
  },
  {
   "cell_type": "markdown",
   "metadata": {},
   "source": [
    "\n",
    "<figure>\n",
    "<center>\n",
    "<img src=\"../Imagenes/moon.jpg\" width=\"600\" height=\"600\" align=\"center\" /> \n",
    "</center>   \n",
    "</figure>\n",
    "\n",
    "<a href=\"https://commons.wikimedia.org/wiki/File:Moon_in_Blue_Sky.jpg\">Keshani Kaveesha</a>, <a href=\"https://creativecommons.org/licenses/by-sa/4.0\">CC BY-SA 4.0</a>, via Wikimedia Commons"
   ]
  },
  {
   "cell_type": "markdown",
   "metadata": {},
   "source": [
    "## <span style=\"color:#4361EE\">Referencias</span>"
   ]
  },
  {
   "cell_type": "markdown",
   "metadata": {},
   "source": [
    "1. [Dobson y Baernett, An introduction to Generalizer Linear Modesl](http://library.lol/main/472B57FA461867F6CFB4334BFED60010)\n",
    "1. [Nelder y Wedderburn, Generalized  Linear Models](http://www.medicine.mcgill.ca/epidemiology/hanley/bios601/Likelihood/NelderWedderburn1972.pdf)"
   ]
  },
  {
   "cell_type": "markdown",
   "metadata": {},
   "source": [
    "## <span style=\"color:#4361EE\">Introducción</span>"
   ]
  },
  {
   "cell_type": "markdown",
   "metadata": {},
   "source": [
    "El proceso de modelación estadística clásicamente incluye los siguientes pasos:\n",
    "\n",
    "1. Especificar los modelos en dos partes: ecuaciones que relacionan la respuesta con variables exploratorias y la distribución de probabilidad de la   variable respuesta.\n",
    "1. Estimar los parámetros usados en los modelos.\n",
    "1. Chequear que tan bien los modelos ajustan a los datos reales.\n",
    "1. Hacer inferencias; Por ejemplo calculando intervalos de confianza o de credibilidad, pruebas de hipótesis acerca de los parámetros y de los modelos.\n"
   ]
  },
  {
   "cell_type": "markdown",
   "metadata": {},
   "source": [
    "## <span style=\"color:#4361EE\">Familia exponencial de distribuciones</span>"
   ]
  },
  {
   "cell_type": "markdown",
   "metadata": {},
   "source": [
    "La familia exponencial de distribuciones es un conjunto de distribuciones muy especial. Muchas propiedades que poseen la hacen muy atrayente para  la modelación  estadística. Algunas de las distribuciones más notables de la probabilidad pertenecen a ella, lo que facilita el desarrollo de modelos de regresión relativamente sencillos.\n",
    "\n",
    "Consideremos una variable aleatoria $Y$ cuya función de probabilidad depende de un parámetro $\\theta$. La distribución pertenece a la familia exponencial si y solo sí puede escribirse en la forma\n",
    "\n",
    "$$\n",
    "f(y|\\theta) =  \\exp\\left[a(y)b(\\theta) + c(\\theta) + d(y) \\right],\n",
    "$$\n",
    "\n",
    "en  donde $a, b, c, d$ son funciones conocidas.\n",
    "\n",
    "* Si $a(y) = y$, se dice que la expresión de la densidad está en `forma canónica`.\n",
    "* $b(\\theta)$ se llama parámetro canónico.\n",
    "* Si la distribución tiene otros parámetros, estos se denominan parámetros de ruido.\n",
    "\n",
    "\n",
    "Los siguientes son los tres ejemplos más notables de distribuciones de la familia exponencial.\n"
   ]
  },
  {
   "cell_type": "markdown",
   "metadata": {},
   "source": [
    "### <span style=\"color:#4CC9F0\">Distribución normal</span>"
   ]
  },
  {
   "cell_type": "markdown",
   "metadata": {},
   "source": [
    "Arriba hemos escrito la forma como comúnmente se conoce esta distribución. Se deja al lector verificar que esta densidad se puede reescribir en la forma. \n",
    "\n",
    "$$\n",
    "f(y|\\theta, \\sigma^2) = \\exp \\left[-\\frac{y^2}{2\\sigma^2}  + \\frac{y\\theta}{\\sigma^2} - \\frac{\\theta^2}{2\\sigma^2} -  \\frac{1}{2}\\log (2\\pi \\sigma^2) \\right].\n",
    "$$\n",
    "\n",
    "En este caso, el parámetro de interés de $\\theta$ y $\\sigma^2$ es un parámetro de ruido. Se tiene que:\n",
    "\n",
    "* La densidad está en su forma canónica, pues si  $a(y) = y$,\n",
    "* El parámetro natural es $b(\\theta) = \\frac{\\theta}{\\sigma^2}$,\n",
    "* $c(\\theta) = - \\frac{\\theta^2}{2\\sigma^2} - \\frac{1}{2}\\log (2\\pi \\sigma^2) $, \n",
    "* $d(y) =  -\\frac{y^2}{2\\sigma^2}$.\n",
    "\n",
    "Se puede verificar que si una variable aleatoria $Y$ tiene distribución $\\text{N}(\\theta, \\sigma^2)$, entonces\n",
    "\n",
    "* $E[Y] = \\theta$,\n",
    "* $Var[Y] = \\sigma^2$.\n",
    "\n",
    "El siguiente fragmento de \n"
   ]
  },
  {
   "cell_type": "code",
   "execution_count": 3,
   "metadata": {},
   "outputs": [
    {
     "data": {
      "image/png": "[encoded data removed]",
      "text/plain": [
       "<Figure size 640x480 with 1 Axes>"
      ]
     },
     "metadata": {},
     "output_type": "display_data"
    }
   ],
   "source": [
    "import numpy as np\n",
    "import matplotlib.pyplot as plt\n",
    "from scipy.stats import norm\n",
    "\n",
    "mu = 0\n",
    "sigma = 1\n",
    "normal = norm(mu, sigma)\n",
    "\n",
    "x = np.linspace(-4,  4, 100)\n",
    "y = normal.pdf(x)\n",
    "plt.plot(x, y, 'b', lw=2, alpha=0.6)\n",
    "plt.title('Función de densidad de la distribución N(0,1)')\n",
    "plt.show()"
   ]
  },
  {
   "cell_type": "markdown",
   "metadata": {},
   "source": [
    "Con el siguiente código calculamos la media varianza y algunos cuantiles de la distribución $\\text{N}(0,1)$."
   ]
  },
  {
   "cell_type": "code",
   "execution_count": 20,
   "metadata": {},
   "outputs": [
    {
     "name": "stdout",
     "output_type": "stream",
     "text": [
      "Distribución Normal(0,1); media = 0.0, varianza = 1.0\n",
      "Distribución Normal(0,1); probabilidades=[0.025 0.5   0.975]; cuantiles=[-1.96  0.    1.96]\n"
     ]
    }
   ],
   "source": [
    "# media y varianza de la distribución Normal(0,1)\n",
    "import numpy as np\n",
    "from scipy.stats import norm\n",
    "\n",
    "mu = 0\n",
    "sigma = 1\n",
    "normal = norm(mu, sigma)\n",
    "media, var = normal.stats(moments=\"mv\")\n",
    "print('Distribución Normal(0,1); media = {}, varianza = {}'.format(media, var, curtosis ))\n",
    "\n",
    "# calcula algunos cuantiles de la distribución\n",
    "prob = np.array([0.025,  0.5, 0.975])\n",
    "cuantiles = normal.ppf(prob)\n",
    "print('Distribución Normal(0,1); probabilidades={}; cuantiles={}'.format(prob, np.round(cuantiles,3)))"
   ]
  },
  {
   "cell_type": "markdown",
   "metadata": {},
   "source": [
    "### <span style=\"color:#4CC9F0\">Distribución de Poisson</span>"
   ]
  },
  {
   "cell_type": "markdown",
   "metadata": {},
   "source": [
    "La distribución de Poisson es una distribución discreta usada en problemas de conteos. La función de probabildiad tiene la forma\n",
    "\n",
    "$$\n",
    "p(y|\\theta) = \\frac{e^{-\\theta} \\theta^y }{y!}, \\theta >0, \\hspace{1mm} y =0,1,2, \\ldots.\n",
    "$$\n",
    "\n",
    "Denotamos esta densidad como $\\text{Pois}(\\theta)$ . En foma de la familia exponencial, la distribución puede escribirse como\n",
    "\n",
    "$$\n",
    "p(y|\\theta) = \\exp \\left[y\\log \\theta - \\theta  - log y! \\right]\n",
    "$$\n",
    "\n",
    "Entonces se tiene que:\n",
    "\n",
    "* la distribución está en forma canónica,: $a(y) = y$,\n",
    "* el parámetro natural es $b(\\theta)=log (\\theta)$, \n",
    "* $c(\\theta) = - \\theta$,\n",
    "* $d(y) = - \\log y!$.\n",
    "\n",
    "Se puede verificar que si una variable aleatoria $Y$ tiene distribución $\\text{Pois}(\\theta)$, entonces\n",
    "\n",
    "* $E[Y] = \\theta$,\n",
    "* $Var[Y] = \\theta$.\n",
    "\n",
    "El siguiente fragmento de código dibuja la función de probabilidad $\\text{Pois}(10)$"
   ]
  },
  {
   "cell_type": "code",
   "execution_count": 3,
   "metadata": {},
   "outputs": [
    {
     "data": {
      "image/png": "[encoded data removed]",
      "text/plain": [
       "<Figure size 640x480 with 1 Axes>"
      ]
     },
     "metadata": {},
     "output_type": "display_data"
    }
   ],
   "source": [
    "import numpy as np\n",
    "import pandas as pd\n",
    "import seaborn as sns\n",
    "import matplotlib.pyplot as plt\n",
    "from scipy.stats import poisson \n",
    "\n",
    "mu = 10\n",
    "pois = poisson(mu)\n",
    "import pandas as pd\n",
    "x = np.arange(30)\n",
    "prob_p = pois.pmf(x)\n",
    "data = pd.DataFrame(zip(x,prob_p))\n",
    "data.columns=['x','p']\n",
    "ax = sns.barplot(data=data, x='x', y='p')\n",
    "ax.set(xlabel='x', ylabel='p(x|$\\theta$)', title='Distribución Poisson({})'.format(mu))\n",
    "ax.set_xticklabels(x, rotation=90, size=5)\n",
    "plt.show()"
   ]
  },
  {
   "cell_type": "markdown",
   "metadata": {},
   "source": [
    "Con el siguiente código calculamos la media varianza y algunos cuantiles de la distribución $\\text{Pois}(10)$."
   ]
  },
  {
   "cell_type": "code",
   "execution_count": 17,
   "metadata": {},
   "outputs": [
    {
     "name": "stdout",
     "output_type": "stream",
     "text": [
      "Distribución Poisson(10); media = 10.0, varianza 10.0\n",
      "Distribución Poisson(10); probabilidades=[0.25 0.5  0.75]; cuantiles=[ 8. 10. 12.]\n"
     ]
    }
   ],
   "source": [
    "# media y varianza de la distribución Poisson(17.5)\n",
    "import numpy as np\n",
    "from scipy.stats import poisson \n",
    "\n",
    "mu = 10\n",
    "pois = poisson(mu)\n",
    "media, var = pois.stats(moments=\"mv\")\n",
    "print('Distribución Poisson(10); media = {}, varianza {}'.format(media, var))\n",
    "\n",
    "# calcula algunos cuantiles de la distribución\n",
    "prob = np.array([0.25, 0.5, 0.75])\n",
    "cuantiles = pois.ppf(prob)\n",
    "print('Distribución Poisson(10); probabilidades={}; cuantiles={}'.format(prob, cuantiles))"
   ]
  },
  {
   "cell_type": "markdown",
   "metadata": {},
   "source": [
    "### <span style=\"color:#4CC9F0\">Distribución Binomial</span>"
   ]
  },
  {
   "cell_type": "markdown",
   "metadata": {},
   "source": [
    "La distribución Binomial surge en problemas con ensayos binarios que pueden resultar en éxito (1) o fallo (0). Si se realizan $n$ ensayos (de Bernoulli) de forma independiente y se define la variable aleatoria $y$ como el  número de éxitos, entonces se dice que $Y$ tiene distribución Binomial con parámetro $\\theta$, cuya densidad es dada por:\n",
    "\n",
    "$$\n",
    "p(y|\\theta) = \\binom{n}{y}\\theta^y(1-\\theta)^{n-y}, \\hspace{1mm} y=1,\\ldots,n,\n",
    "$$\n",
    "\n",
    "en donde \n",
    "\n",
    "$$\n",
    "\\binom{n}{y} =\\frac{n!}{y!(n-y)!}\n",
    "$$\n",
    "\n",
    "es el número de grupos diferentes de tamaño $y$, que se pueden organizar si se tienen en total $n$ elementos. Esta distribución se denota $\\text{Binom}(n,\\theta)$. La densidad se puede reescribir como\n",
    "\n",
    "$$\n",
    "p(y|\\theta) = \\exp\\left[ y \\log \\theta - y\\log(1-\\theta) + n\\log  (1-\\theta) + \\log \\binom{n}{y} \\right],\n",
    "$$\n",
    "\n",
    "de donde se tiene que:\n",
    "\n",
    "* la densidad está en forma canónica: $a(y) =y$,\n",
    "* parámetro natural: $b(\\theta) = \\log \\theta - log (1-\\theta) = \\log\\left[\\frac{\\theta}{1-\\theta} \\right]$,\n",
    "* $c(\\theta) = n \\log(1-\\theta)$,\n",
    "* $d(y) = \\log \\binom{n}{y}$.\n",
    "\n",
    "Se puede verificar que si una variable aleatoria $Y$ tiene distribución $\\text{Binom}(n,\\theta)$, entonces se tiene que\n",
    "\n",
    "* $E[Y] = n\\theta$.\n",
    "* $Var[Y] = n\\theta(1-\\theta)$. \n",
    "\n",
    "El siguiente fragmento de código muestra la función de probabilidad de la distribución $\\text{Binom}(4,0.25)$\n"
   ]
  },
  {
   "cell_type": "code",
   "execution_count": 18,
   "metadata": {},
   "outputs": [
    {
     "data": {
      "image/png": "[encoded data removed]",
      "text/plain": [
       "<Figure size 640x480 with 1 Axes>"
      ]
     },
     "metadata": {},
     "output_type": "display_data"
    }
   ],
   "source": [
    "import numpy as np\n",
    "import pandas as pd\n",
    "import seaborn as sns\n",
    "import matplotlib.pyplot as plt\n",
    "from scipy.stats import binom\n",
    "\n",
    "mu = 0.25\n",
    "n=4\n",
    "binomial = binom(n, mu)\n",
    "x = np.arange(4)\n",
    "prob_p = binomial.pmf(x)\n",
    "data = pd.DataFrame(zip(x,prob_p))\n",
    "data.columns=['x','p']\n",
    "ax = sns.barplot(data=data, x='x', y='p')\n",
    "ax.set(xlabel='x', ylabel='p(x|$\\theta$)', title='Función de probabilidad de la distribución Binomial({},{})'.format(n,mu))\n",
    "ax.set_xticklabels(x, rotation=0, size=10)\n",
    "plt.show()"
   ]
  },
  {
   "cell_type": "markdown",
   "metadata": {},
   "source": [
    "Con el siguiente código calculamos la media varianza y algunos cuantiles de la distribución $\\text{Binom(4, 0.25)}$."
   ]
  },
  {
   "cell_type": "code",
   "execution_count": 15,
   "metadata": {},
   "outputs": [
    {
     "name": "stdout",
     "output_type": "stream",
     "text": [
      "Distribución Binomial(4, 0.25); media = 1.0, varianza 0.75\n",
      "Distribución Binomial(4, 0.25); probabilidades=[0.25 0.5  0.75]; cuantiles=[0. 1. 2.]\n"
     ]
    }
   ],
   "source": [
    "# media y varianza de la distribución Binomial(4, 0.25)\n",
    "import numpy as np\n",
    "from scipy.stats import binom\n",
    "\n",
    "mu = 0.25\n",
    "n=4\n",
    "binomial = binom(n, mu)\n",
    "\n",
    "media, var = binomial.stats(moments=\"mv\")\n",
    "print('Distribución Binomial(4, 0.25); media = {}, varianza {}'.format(media, var))\n",
    "\n",
    "# calcula algunos cuantiles de la distribución\n",
    "prob = np.array([0.25, 0.5, 0.75])\n",
    "cuantiles = binomial.ppf(prob)\n",
    "print('Distribución Binomial(4, 0.25); probabilidades={}; cuantiles={}'.format(prob, cuantiles))"
   ]
  },
  {
   "cell_type": "markdown",
   "metadata": {},
   "source": [
    "### <span style=\"color:#4CC9F0\">Propiedades de la familia exponencial</span>"
   ]
  },
  {
   "cell_type": "markdown",
   "metadata": {},
   "source": [
    "Recordemos que la función de probabilidad (densidad) de una distribución en la familia exponencial se expresa como\n",
    "$$\n",
    "f(y|\\theta) = \\exp\\left[a(y)b(\\theta) + c(\\theta) + d(y) \\right].\n",
    "$$\n",
    "\n",
    "Adicionalmente la verosimilitud, si no se consideran distribuciones a priori para los parámetros, es la función dada por\n",
    "\n",
    "$$\n",
    "f(\\theta|y) = \\exp\\left[a(y)b(\\theta) + c(\\theta) + d(y) \\right],\n",
    "$$\n",
    " en donde la $y$ ha sido observada y en consecuencia se conoce y $\\theta$ es ahora la variable en la función.\n"
   ]
  },
  {
   "cell_type": "markdown",
   "metadata": {},
   "source": [
    "#### <span style=\"color:#4CC9F0\">Media y varianza de la variable respuesta</span>"
   ]
  },
  {
   "cell_type": "markdown",
   "metadata": {},
   "source": [
    "Si $Y$ es una variable aleatoria con distribución en la familia exponencial, se puede comprobar que:\n",
    "\n",
    "* $E[a(Y)] = - \\frac{c'(\\theta)}{b'(\\theta)}$\n",
    "* $Var[a(Y)] = \\frac{b''(\\theta)c'(\\theta) -c''(\\theta)b'(\\theta) }{[b'(\\theta)]^3}$"
   ]
  },
  {
   "cell_type": "markdown",
   "metadata": {},
   "source": [
    "## <span style=\"color:#4361EE\">Modelos Lineales Generalizados (GLM) clásicos</span>"
   ]
  },
  {
   "cell_type": "markdown",
   "metadata": {},
   "source": [
    "En los modelos lineales generalizados clásicos o frecuentista no asumimos una distribución a priori constante. Por ejemplo, es usual tomar como distribución a priori dela parámetros $f(\\theta) = 1$, que realmente no es una densidad propia, es decir no suma uno necesariamente. Entonces, la posterior no necesariamente resulta siendo una distribución, por lo que la tratamos simplemente como una función de los parámetros.\n",
    "\n",
    "Un modelo lineal generalizado GLM(por su sigla en inglés), se define de la configura de la siguiente forma. Asumimos que se tienen variables aleatorias independientes $Y_1, \\ldots, Y_n$, cada una con distribución en la familia exponencial tal que\n",
    "\n",
    "* `Componente aleatoria`: $f(y_i|\\theta) = \\exp \\left[y_ib(\\theta_i) + c(\\theta_i) + d(y_i) \\right]$. \n",
    "\n",
    "* Todas las distribuciones tiene la misma forma Normal, Binomial, Poisson,..., pero probablemente distintos parámetros. Denotemos $\\mathbf{y}= (y_1, \\ldots, y_n)$, $\\boldsymbol{\\theta} = (\\theta_1, \\ldots, \\theta_n)$. Entonces la función de densidad conjunta es dada por\n",
    "$$\n",
    "f(\\mathbf{y}|\\boldsymbol{\\theta}) = \\prod_{i=1}^n \\exp \\left[y_ib(\\theta_i) + c(\\theta_i) + d(y_i)  \\right] = \\exp \\left[\\sum_{i=1}^n y_ib(\\theta_i) + \\sum_{i=1}^nc(\\theta_i) + \\sum_{i=1}^nd(y_i)  \\right]\n",
    "$$\n",
    "\n",
    "* `Componente sistemática`: Se supone que las esperanzas de las $E[Y_i]$  son dadas por $E[Y_i]= \\mu_i$. Antes hemos mencionado que  se tiene que $E[Y] = - \\frac{c'(\\theta)}{b'(\\theta)}$. De esta forma las esperanzas $\\mu_i$ se relacionan con los parámetros $\\theta_i$, mediante la función invertible $h(\\theta)=   - \\frac{c'(\\theta)}{b'(\\theta)}$. Es decir, tenemos que \n",
    "$$\n",
    "\\mu_i = h(\\theta_i).\n",
    "$$\n",
    "Los parámetros $\\mu_i$ están relacionados con parámetros estructurales $\\boldsymbol{\\beta}= (\\beta_1,\\ldots, \\beta_p)$, con $p<n$ en la forma\n",
    "$$\n",
    "g(\\mu_i) = \\mathbf{x}_i^t\\boldsymbol{\\beta},\n",
    "$$\n",
    "en donde $g$ es una función invertible, llamada `función de enlace` y en donde $\\mathbf{x}$ representa un vector de variables observadas.\n",
    "\n",
    "La idea central es que las $\\mathbf{x}_i$ son realizaciones de un vector aleatorio $X=(x_1, \\ldots, x_n)$ que se supone permite predecir adecuadamente a los valores observados $y_i$.\n",
    "\n",
    "Es común escribir $\\hat{y_i} = \\mu_i$, en el sentido que los valores $\\mu_i$ son predictores de las $y_i$. Además observe que\n",
    "\n",
    "$$\n",
    "\\hat{y_i} = g^{-1}(\\mathbf{x}_i^t\\boldsymbol{\\beta}) =  g^{-1}(x_1\\beta_1, \\ldots, x_p\\beta_p).\n",
    "$$\n"
   ]
  },
  {
   "cell_type": "markdown",
   "metadata": {},
   "source": [
    "## <span style=\"color:#4361EE\">Estimación puntual </span>"
   ]
  },
  {
   "cell_type": "markdown",
   "metadata": {},
   "source": [
    "Supongamos que se tienen $n$ variables aleatorias independientes $Y=(Y_1, \\ldots, Y_n)$. Además supondremos que cada una de las variables aleatorias están indexadas por parámetros $\\theta_i$. Es decir $Y_i\\sim f(\\theta_i)$. Además vamos a suponer que existe un parámetro estructural de tamaño $p$, denotado $\\boldsymbol{\\beta}$, y variables aleatorias $X_i$ con realizaciones $x_{ij}$ tal que\n",
    "\n",
    "$$\n",
    "g(\\theta_i) = \\beta_1 x_{1i} + \\beta_2 x_{2i} + \\ldots + \\beta_{p} x_{pi}.\n",
    "$$\n",
    "\n",
    "La función $g$ se denomina función de enlace. La ecuación anterior pone en  comunicación el parámetro privilegiado $\\theta_i$ con una expresión lineal (componente lineal). La función $g$ es necesaria para permitir que la componente lineal del modelo puede ser transportado a la escala del parámetro $\\theta_i$.\n",
    "\n",
    "En el modelo lineal clásico la función de enlace es la función identidad. Es decir, en ese caso se tiene\n",
    "\n",
    "$$\n",
    "\\theta_i= \\beta_1 x_{1i} + \\beta_2 x_{2i} + \\ldots + \\beta_{p} x_{pi} + b.\n",
    "$$\n"
   ]
  },
  {
   "cell_type": "markdown",
   "metadata": {},
   "source": [
    "### <span style=\"color:#4CC9F0\">Función de densidad conjunta</span>"
   ]
  },
  {
   "cell_type": "markdown",
   "metadata": {},
   "source": [
    "La función de probabilidad conjunta si la variables son independientes es dada por\n",
    "\n",
    "$$\n",
    "f(y|\\boldsymbol{\\beta}, \\mathbf{X}) = \\prod_{i=1}^n f(y_i|\\theta_i) = \\prod_{i=1}^n f(y_i|\\boldsymbol{\\beta}, \\mathbf{X}) = \\exp \\left[\\sum_{i=1}^n y_ib(\\theta_i) + \\sum_{i=1}^nc(\\theta_i) + \\sum_{i=1}^nd(y_i)  \\right]\n",
    "$$\n",
    "\n",
    "En donde $\\mathbf{X}$ es la matriz completa de observaciones, que se denomina matriz de diseño, que para efectos prácticos se considera constante. Las columnas de la matriz de diseño representan a las variables explicativas. "
   ]
  },
  {
   "cell_type": "markdown",
   "metadata": {},
   "source": [
    "### <span style=\"color:#4CC9F0\">Función de log-verosimilitud</span>"
   ]
  },
  {
   "cell_type": "markdown",
   "metadata": {},
   "source": [
    "La función de log-verosimilitud  es dada por\n",
    "\n",
    "$$\n",
    "\\begin{align}\n",
    "L &= \\sum_{i=1}^{n} L_i =\\log \\prod_{i=1}^n f(y_i|\\boldsymbol{\\beta},\\mathbf{X}) = \\left[\\sum_{i=1}^n y_ib(\\theta_i) + \\sum_{i=1}^nc(\\theta_i) + \\sum_{i=1}^nd(y_i)  \\right]\\\\\n",
    "\\mu_i &= h (\\theta_i)\\\\\n",
    "g(\\mu_i) &= \\beta_1 x_{1i} + \\beta_2 x_{2i} + \\ldots + \\beta_{p} x_{pi} = \\eta_i.\n",
    "\\end{align}\n",
    "$$\n"
   ]
  },
  {
   "cell_type": "markdown",
   "metadata": {},
   "source": [
    "### <span style=\"color:#4CC9F0\">Gradiente de la función de log-verosimilitud</span>"
   ]
  },
  {
   "cell_type": "markdown",
   "metadata": {},
   "source": [
    "Para estimar $\\boldsymbol{\\beta}$ se require calcular el gradiente de la función de log-verosimilitud $\\nabla_{\\boldsymbol{\\beta}}L$. Usando la regla de la cadena para derivadas se tiene que\n",
    "\n",
    "$$\n",
    "\\frac{\\partial L}{\\partial \\beta_j} = U_j= \\sum_{i=1}^n \\frac{\\partial l_i}{\\partial\\theta_i}\\frac{\\partial \\theta_i}{\\partial \\mu_i}\\frac{\\partial \\mu_i}{\\partial \\beta_j}.\n",
    "$$\n",
    "\n",
    "\n",
    "Puede verificarse directamente que\n",
    "\n",
    "$$\n",
    "\\begin{align}\n",
    "\\frac{\\partial l_i}{\\partial \\theta_i}  &= b'(\\theta_i)(y_i-\\mu_i), \\\\\n",
    "\\frac{\\partial \\theta_i}{\\partial \\mu_i}  &= \\frac{1}{\\frac{\\partial \\mu_i}{\\partial \\theta_i}}\\\\\n",
    "\\frac{\\partial \\mu_i}{\\partial \\theta_i}  &= b'(\\theta_i)var(Y_i)\\\\\n",
    "\\frac{\\partial \\mu_i}{\\partial \\beta_j}  &=  \\frac{\\partial \\mu_i}{\\partial \\eta_i}x_{ij}\n",
    "\\end{align}\n",
    "$$\n",
    "\n",
    "Esto es todo lo que se requiere para escribir un algoritmo de optimización basado en el gradiente."
   ]
  },
  {
   "cell_type": "markdown",
   "metadata": {},
   "source": [
    "### <span style=\"color:#4CC9F0\">El método de Fisher-Scoring</span>"
   ]
  },
  {
   "cell_type": "markdown",
   "metadata": {},
   "source": [
    "El método de Fisher-Scoring es un algoritmo muy rápido que se implementa usualmente para este problema e estimar los parámetros $\\boldsymbol{\\beta}$, por lo rápido. En problemas con muchos datos y muchas variables puede ser más lento que un método basado en el gradiente e incluso prohibitivo.\n",
    "\n",
    "El método está basado en la `matriz de información`, la cual es la matriz de covarianza de variables score. Concretamente, se tiene que \n",
    "\n",
    "$$\n",
    "U_j = \\sum_{i=1}^n \\left[ \\frac{(y_i-\\mu_i)}{Var(Y_i)}x_{ij}\\frac{\\partial \\mu_i}{\\partial \\eta_i} \\right]\n",
    "$$ \n",
    "\n",
    "La matriz de información tiene como elemento $ij$\n",
    "\n",
    "$$\n",
    "\\mathcal{I}_{jk} = E(U_iU_j) = \\sum_{i=1}^n \\frac{x_{ij}x_{ik}}{Var(Y_i)}\\left( \\frac{\\partial\\mu_i}{\\partial \\eta_j}  \\right)^2.\n",
    "$$\n",
    "\n",
    "El algoritmo es una variación del método de Newton y  tiene como ecuación de actualización\n",
    "\n",
    "$$\n",
    "\\mathbf{b}^{(m+1)} = \\mathbf{b}^{(m)} + \\left[\\mathcal{I}^{(m)} \\right]^{-1}U^{(m)}\n",
    "$$\n",
    "\n",
    "en donde $\\mathbf{b}^{(m)}$ es  la estimación del parámetro $\\boldsymbol{\\beta}$ en el paso $m$.\n"
   ]
  }
 ],
 "metadata": {
  "kernelspec": {
   "display_name": "Python 3 (ipykernel)",
   "language": "python",
   "name": "python3"
  },
  "language_info": {
   "codemirror_mode": {
    "name": "ipython",
    "version": 3
   },
   "file_extension": ".py",
   "mimetype": "text/x-python",
   "name": "python",
   "nbconvert_exporter": "python",
   "pygments_lexer": "ipython3",
   "version": "3.11.4"
  }
 },
 "nbformat": 4,
 "nbformat_minor": 4
}
