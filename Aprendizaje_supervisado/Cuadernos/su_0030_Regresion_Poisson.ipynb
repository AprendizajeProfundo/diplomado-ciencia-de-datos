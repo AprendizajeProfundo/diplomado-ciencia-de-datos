{
 "cells": [
  {
   "cell_type": "markdown",
   "metadata": {},
   "source": [
    "# <span style=\"color:#F72585\"><center>Modelo de regresión Poisson</center></span>\n"
   ]
  },
  {
   "cell_type": "markdown",
   "metadata": {},
   "source": [
    "\n",
    "<figure>\n",
    "<center>\n",
    "<img src=\"../Imagenes/ojo_dios.jpeg\" width=\"400\" height=\"400\" align=\"center\" /> \n",
    "</center>   \n",
    "</figure>\n",
    "\n",
    "Fuente: <a href=\"https://commons.wikimedia.org/wiki/File:NGC7293_(2004).jpg\">, Public domain, via Wikimedia Commons"
   ]
  },
  {
   "cell_type": "markdown",
   "metadata": {},
   "source": [
    "## <span style=\"color:#4361EE\">Referencias</span>"
   ]
  },
  {
   "cell_type": "markdown",
   "metadata": {},
   "source": [
    "1. [Dobson y Baernett, An introduction oto Generalizer Linear Modesl](http://library.lol/main/472B57FA461867F6CFB4334BFED60010)"
   ]
  },
  {
   "cell_type": "markdown",
   "metadata": {},
   "source": [
    "## <span style=\"color:#4361EE\">Introducción</span>"
   ]
  },
  {
   "cell_type": "markdown",
   "metadata": {},
   "source": [
    "En esta lección introducimos iuno de los modelos GLM mas utlizados en la práctica."
   ]
  },
  {
   "cell_type": "markdown",
   "metadata": {},
   "source": [
    "## <span style=\"color:#4361EE\">Modelo Poission</span> "
   ]
  },
  {
   "cell_type": "markdown",
   "metadata": {},
   "source": [
    "### <span style=\"color:#4CC9F0\">Distribución de probabilidad Poisson</span>"
   ]
  },
  {
   "cell_type": "markdown",
   "metadata": {},
   "source": [
    "Primero vamos a recordar la distribución de Poisson. Este es un modelo de probabilidad que se encuentra usualmente en problemas de conteos. Piense por ejemplo en el número de vehículos que pasan por un punto de la ciudad en una hora y día de la semana en condiciones y fechas normales. Entonces ese número puede ser digamos 15, 16, 17, 18, 19, 20.\n",
    "\n",
    "La función de probabilidad del modelo Poisson es dado por\n",
    "\n",
    "$$\n",
    "p(x|\\lambda) = \\frac{e^{-\\mu} \\mu^x }{x!}, \\mu >0, x =0,1,2, \\ldots\n",
    "$$\n",
    "\n",
    "El único parámetro $\\lambda$ en este caso puede interpretarse como la rata de valores que pueden observarse por unidad de tiempo, area, etc. Por ejemplo, en el caso mencionamos arriba de los automóbiles, quizas esa rata sea un valor entre 17 y 18. \n",
    "\n",
    "Antes de avanzar vamos a suponer $\\mu = 17.5$ y hagamos un gráfico de la función de probabilidad. Pero inicialmente vamos a calcular la media y la varianza de la distribución.\n",
    "\n"
   ]
  },
  {
   "cell_type": "code",
   "execution_count": 2,
   "metadata": {},
   "outputs": [],
   "source": [
    "import numpy as np\n",
    "import pandas as pd\n",
    "import seaborn as sns\n",
    "import matplotlib.pyplot as plt\n",
    "from scipy.stats import poisson "
   ]
  },
  {
   "cell_type": "code",
   "execution_count": 28,
   "metadata": {},
   "outputs": [
    {
     "name": "stdout",
     "output_type": "stream",
     "text": [
      "Distribución Poisson(17.5); media = 17.5, varianza 17.5\n",
      "Distribución Poisson(17.5); probabilidades=[0.25 0.5  0.75]; cuantiles=[15. 17. 20.]\n"
     ]
    }
   ],
   "source": [
    "# media y varianza de la distribución Poisson(17.5)\n",
    "mu = 17.5\n",
    "pois = poisson(mu)\n",
    "media, var = pois.stats(moments=\"mv\")\n",
    "print('Distribución Poisson(17.5); media = {}, varianza {}'.format(media, var))\n",
    "\n",
    "# calcula algunos cuantiles de la distribución\n",
    "prob = np.array([0.25, 0.5, 0.75])\n",
    "cuantiles = pois.ppf(prob)\n",
    "print('Distribución Poisson(17.5); probabilidades={}; cuantiles={}'.format(prob, cuantiles))"
   ]
  },
  {
   "cell_type": "code",
   "execution_count": 60,
   "metadata": {},
   "outputs": [
    {
     "data": {
      "image/png": "[encoded data removed]",
      "text/plain": [
       "<Figure size 640x480 with 1 Axes>"
      ]
     },
     "metadata": {},
     "output_type": "display_data"
    }
   ],
   "source": [
    "#Calcula los valores de probabilidad para los valores 0, 1, 2, ...,100\n",
    "# datos\n",
    "import pandas as pd\n",
    "x = np.arange(40)\n",
    "prob_p = pois.pmf(datos)\n",
    "data = pd.DataFrame(zip(x,prob_p))\n",
    "data.columns=['x','p']\n",
    "ax = sns.barplot(data=data, x='x', y='p')\n",
    "ax.set(xlabel='x', ylabel='p(x|$\\mu$)', title='Distribución Poisson({})'.format(mu))\n",
    "ax.set_xticklabels(x, rotation=90, size=5)\n",
    "plt.show()"
   ]
  },
  {
   "cell_type": "markdown",
   "metadata": {},
   "source": [
    "## <span style=\"color:#4361EE\">Estimación puntual del parámetro $\\mu$</span>"
   ]
  },
  {
   "cell_type": "markdown",
   "metadata": {},
   "source": [
    "Supongamos que se hacen $n$ observaciones independientes de una distribución Pois$(\\mu)$. La distribución conjunta es data por\n",
    "\n",
    "$$\n",
    "p(x_1, x_2, \\ldots, x_n|\\mu) = \\prod_{i=1}^n Pois(x_i|\\mu) = \\prod_{i=1}^n \\frac{e^{\\mu} \\mu^{x_i}}{x_i!}\n",
    "$$\n",
    "\n",
    "Asumamos que a priori $\\mu \\sim U[0, 1000]$.  Sea $\\mathbf{x} = (x_1, x_2, \\ldots, x_n))$\n",
    "\n",
    "El teorema de Bayes nos lleva a que\n",
    "\n",
    "$$\n",
    "f(\\mu|\\mathbf{x}) = \\prod_{i=1}^n \\frac{e^{-\\mu} \\mu^{x_i}}{K} , \n",
    "$$\n",
    "\n",
    "en donce $K>0$ es la constante de normalizacion de la densidad $f(\\mu|\\mathbf{x})$. Supongamos que se tiene la realización de la muestra. La moda de la densidad $f(\\mu|\\mathbf{x})$ se llama estimación máximo verosímil del parámetro.\n",
    "\n",
    "La función de pérdida asociada es dada por  $\\mathcal{L}(\\mu)=-\\log f(\\mu|\\mathbf{x})$. Entonces se tiene que\n",
    "\n",
    "$$\n",
    "\\mathcal{L}(\\mu) = \\sum_{i=1}^n \\mu - x_i\\log \\mu\n",
    "$$\n",
    "\n",
    "Derivando con respecto a $\\mu$ e igualando a cero se obtiene la solución\n",
    "\n",
    "$$\n",
    "\\hat{\\mu} = \\frac{1}{n}\\sum_{i=1}^n x_i.\n",
    "$$\n",
    "\n",
    "En el ejemplo de los vehículos, se tiene que $n=6$, $\\sum_{i=1}^n = 105$,  en consecuencia se tiene que\n",
    "\n",
    "$$\n",
    "\\hat{\\mu} = \\frac{105}{6} = 17.5.\n",
    "$$\n",
    "\n",
    "La siguiente imagen muestra la función de pérdida $\\mathcal{L}(\\mu)$."
   ]
  },
  {
   "cell_type": "code",
   "execution_count": 84,
   "metadata": {},
   "outputs": [
    {
     "data": {
      "image/png": "[encoded data removed]",
      "text/plain": [
       "<Figure size 640x480 with 1 Axes>"
      ]
     },
     "metadata": {},
     "output_type": "display_data"
    }
   ],
   "source": [
    "x = np.array(np.arange(15,21))\n",
    "mu = np.arange(12, 24.5,0.1)\n",
    "def loss(mu,x):\n",
    "    return np.sum(mu - np.log(mu)*x)\n",
    "y = np.array([loss(m,x) for m in mu])\n",
    "\n",
    "z = [17.5, 17.5]\n",
    "w = [-196., -195]\n",
    "plt.plot(mu,y,color='blue')\n",
    "plt.plot(z,w, color='red')\n",
    "plt\n",
    "plt.title('función de pérdida $\\mathcal{L}(\\mu)$')\n",
    "plt.show()"
   ]
  },
  {
   "cell_type": "markdown",
   "metadata": {},
   "source": [
    "## <span style=\"color:#4361EE\">Estimación por intervalo del parámetro $\\mu$</span>"
   ]
  },
  {
   "cell_type": "markdown",
   "metadata": {},
   "source": [
    "Podemos hacer directamente la estimación de un intervalo de credibilidad que contenga el intervalo de confianza con una probabilidad dada, digamos del 95%. Para hacerlo, vamos a revisar brevemente la distribución Gama."
   ]
  },
  {
   "cell_type": "markdown",
   "metadata": {},
   "source": [
    "### <span style=\"color:#4CC9F0\">Distribución Gamma</span>"
   ]
  },
  {
   "cell_type": "markdown",
   "metadata": {},
   "source": [
    "La distribución Gama aparece aparece de manera natural cuando se tienen mediciones continuas positivas. La distribución Gama con parámetros $(\\alpha, \\beta)$ tiene como función de densidad $gamma(\\alpha,\\beta)$ dada por\n",
    "\n",
    "$$\n",
    "\\text{gamma}(x|\\alpha,\\beta) = \\frac{\\beta^{\\alpha}}{\\Gamma(\\alpha)} e^{-\\beta x} x^{\\alpha-1}\n",
    "$$"
   ]
  },
  {
   "cell_type": "markdown",
   "metadata": {},
   "source": [
    "### <span style=\"color:#4CC9F0\">Distribución de $f(\\mu|\\mathbf{x})$</span>"
   ]
  },
  {
   "cell_type": "markdown",
   "metadata": {},
   "source": [
    "Observe que  \n",
    "$$\n",
    "f(\\mu|\\mathbf{x}) = \\prod_{i=1}^n \\frac{e^{-\\mu} \\mu^{x_i}}{K} = \\frac{e^{-n\\mu} \\mu^{\\sum_i x_i}}{K}\n",
    "$$\n",
    "\n",
    "\n",
    "$$\n",
    "f(\\mu|\\mathbf{x}) = \\text{gamma}\\left(n,\\sum_i x_i + 1\\right)\n",
    "$$"
   ]
  },
  {
   "cell_type": "markdown",
   "metadata": {},
   "source": [
    "### <span style=\"color:#4CC9F0\">Intervalo de credibilidad de probabilidad 0.95</span>"
   ]
  },
  {
   "cell_type": "markdown",
   "metadata": {},
   "source": [
    "Con este última ecuación es inmediato construir intervalos de credibilidad con 95% de probabilidad. En nuestro ejemplo tenemos"
   ]
  },
  {
   "cell_type": "code",
   "execution_count": 91,
   "metadata": {},
   "outputs": [
    {
     "name": "stdout",
     "output_type": "stream",
     "text": [
      "14.46 21.0\n"
     ]
    }
   ],
   "source": [
    "from scipy.stats import gamma\n",
    "\n",
    "beta = 6\n",
    "scale = 1/beta\n",
    "alpha = 105 + 1\n",
    "gama = gamma(a=alpha,scale=scale)\n",
    "\n",
    "LCI,UCI = gama.interval(0.95)\n",
    "print(np.round(LCI,2),np.round(UCI))"
   ]
  },
  {
   "cell_type": "markdown",
   "metadata": {},
   "source": [
    "### <span style=\"color:#4CC9F0\">Regresión Poisson</span>"
   ]
  },
  {
   "cell_type": "markdown",
   "metadata": {},
   "source": [
    "Ejemplo tomado de [Regresión de Poisson](https://estadistica-dma.ulpgc.es/MEAV/Ejemplo_Regresi%C3%B3n_Poisson.html). En un estudio sobre la población de un parásito se hizo un recuento de parásitos en 15 localizaciones con diversas condiciones ambientales. Los datos obtenidos son los siguientes:"
   ]
  },
  {
   "cell_type": "code",
   "execution_count": 99,
   "metadata": {},
   "outputs": [
    {
     "data": {
      "text/html": [
       "<div>\n",
       "<style scoped>\n",
       "    .dataframe tbody tr th:only-of-type {\n",
       "        vertical-align: middle;\n",
       "    }\n",
       "\n",
       "    .dataframe tbody tr th {\n",
       "        vertical-align: top;\n",
       "    }\n",
       "\n",
       "    .dataframe thead th {\n",
       "        text-align: right;\n",
       "    }\n",
       "</style>\n",
       "<table border=\"1\" class=\"dataframe\">\n",
       "  <thead>\n",
       "    <tr style=\"text-align: right;\">\n",
       "      <th></th>\n",
       "      <th>Temperatura</th>\n",
       "      <th>Humedad</th>\n",
       "      <th>Conteo</th>\n",
       "    </tr>\n",
       "  </thead>\n",
       "  <tbody>\n",
       "    <tr>\n",
       "      <th>0</th>\n",
       "      <td>15</td>\n",
       "      <td>70</td>\n",
       "      <td>156</td>\n",
       "    </tr>\n",
       "    <tr>\n",
       "      <th>1</th>\n",
       "      <td>16</td>\n",
       "      <td>65</td>\n",
       "      <td>157</td>\n",
       "    </tr>\n",
       "    <tr>\n",
       "      <th>2</th>\n",
       "      <td>24</td>\n",
       "      <td>71</td>\n",
       "      <td>177</td>\n",
       "    </tr>\n",
       "    <tr>\n",
       "      <th>3</th>\n",
       "      <td>13</td>\n",
       "      <td>64</td>\n",
       "      <td>145</td>\n",
       "    </tr>\n",
       "    <tr>\n",
       "      <th>4</th>\n",
       "      <td>21</td>\n",
       "      <td>84</td>\n",
       "      <td>197</td>\n",
       "    </tr>\n",
       "    <tr>\n",
       "      <th>5</th>\n",
       "      <td>16</td>\n",
       "      <td>86</td>\n",
       "      <td>184</td>\n",
       "    </tr>\n",
       "    <tr>\n",
       "      <th>6</th>\n",
       "      <td>22</td>\n",
       "      <td>72</td>\n",
       "      <td>172</td>\n",
       "    </tr>\n",
       "    <tr>\n",
       "      <th>7</th>\n",
       "      <td>18</td>\n",
       "      <td>84</td>\n",
       "      <td>187</td>\n",
       "    </tr>\n",
       "    <tr>\n",
       "      <th>8</th>\n",
       "      <td>20</td>\n",
       "      <td>71</td>\n",
       "      <td>157</td>\n",
       "    </tr>\n",
       "    <tr>\n",
       "      <th>9</th>\n",
       "      <td>16</td>\n",
       "      <td>75</td>\n",
       "      <td>169</td>\n",
       "    </tr>\n",
       "    <tr>\n",
       "      <th>10</th>\n",
       "      <td>28</td>\n",
       "      <td>84</td>\n",
       "      <td>200</td>\n",
       "    </tr>\n",
       "    <tr>\n",
       "      <th>11</th>\n",
       "      <td>27</td>\n",
       "      <td>79</td>\n",
       "      <td>193</td>\n",
       "    </tr>\n",
       "    <tr>\n",
       "      <th>12</th>\n",
       "      <td>13</td>\n",
       "      <td>80</td>\n",
       "      <td>167</td>\n",
       "    </tr>\n",
       "    <tr>\n",
       "      <th>13</th>\n",
       "      <td>22</td>\n",
       "      <td>76</td>\n",
       "      <td>170</td>\n",
       "    </tr>\n",
       "    <tr>\n",
       "      <th>14</th>\n",
       "      <td>23</td>\n",
       "      <td>88</td>\n",
       "      <td>192</td>\n",
       "    </tr>\n",
       "  </tbody>\n",
       "</table>\n",
       "</div>"
      ],
      "text/plain": [
       "    Temperatura  Humedad  Conteo\n",
       "0            15       70     156\n",
       "1            16       65     157\n",
       "2            24       71     177\n",
       "3            13       64     145\n",
       "4            21       84     197\n",
       "5            16       86     184\n",
       "6            22       72     172\n",
       "7            18       84     187\n",
       "8            20       71     157\n",
       "9            16       75     169\n",
       "10           28       84     200\n",
       "11           27       79     193\n",
       "12           13       80     167\n",
       "13           22       76     170\n",
       "14           23       88     192"
      ]
     },
     "execution_count": 99,
     "metadata": {},
     "output_type": "execute_result"
    }
   ],
   "source": [
    "import pandas as pd\n",
    "\n",
    "parasitos = {'Temperatura':[15,16,24,13,21,16,22,18,20,16,28,27,13,22,23],\n",
    "             'Humedad': [70,65,71,64,84,86,72,84,71,75,84,79,80,76,88],\n",
    "             'Conteo':[156,157,177,145,197,184,172,187,157,169,200,193,167,170,192]}\n",
    "parasitos = pd.DataFrame(parasitos)\n",
    "parasitos "
   ]
  },
  {
   "cell_type": "markdown",
   "metadata": {},
   "source": [
    "### <span style=\"color:#4CC9F0\">Estadísticas Descriptivas</span>"
   ]
  },
  {
   "cell_type": "code",
   "execution_count": 96,
   "metadata": {},
   "outputs": [
    {
     "data": {
      "image/png": "[encoded data removed]",
      "text/plain": [
       "<Figure size 750x750 with 12 Axes>"
      ]
     },
     "metadata": {},
     "output_type": "display_data"
    }
   ],
   "source": [
    "import seaborn as sns\n",
    "sns.pairplot(parasitos, diag_kind=\"kde\")\n",
    "plt.show()"
   ]
  },
  {
   "cell_type": "markdown",
   "metadata": {},
   "source": [
    "### <span style=\"color:#4CC9F0\">Planteamiento del problema</span>"
   ]
  },
  {
   "cell_type": "markdown",
   "metadata": {},
   "source": [
    "Por razones de claridad donotaremos Temperatura, Humedad y Conteo respectivamente como $\\mathbf{x}_1,\\mathbf{x}_2$ y $\\mathbf{y}$. Supondremos que tenemos una muestra de vectores independientes $(y_i,x_{1i}, x_{2i})^t$, $i=1, 2, \\ldots, n$. Las gráficas descriptivas revelan una relación lineal entre la variable de Conteo y las variables Temperatura y Humedad. Como Conteo es realmente una variable de conteo, la relación entre las variables se plantea de la siguiente forma.\n",
    "\n",
    "$$\n",
    "\\begin{align}\n",
    "y_i &\\sim \\text{Poi}(\\mu_i)\\\\\n",
    "\\log \\mu_i &=  w_1x_{1i} + w_2x_{2i} + b\n",
    "\\end{align}\n",
    "$$\n",
    "\n",
    "La razón de escribir $\\log \\mu_i$, en lugar de simplemente $\\mu_i$ es la siguiente. Todos los $\\mu_i>0$, pero las expresiones lineales $w_1x_{1i} + w_2x_{2i} + b$ pueden toma cualquier valor real. Al tomar $\\log \\mu_i$ desaparece el problema. La función $\\log$ en este caso se llama función de enlace. Esta función pone en comunicación el predictor lineal $w_1x_{1i} + w_2x_{2i} + b$ con la esperanza $\\mu_i$ de las variables $y_i$.\n",
    "\n",
    "Para completar el modelo asumiremos las siguientes distribuciones a priori.\n",
    "\n",
    "$$\n",
    "\\begin{align}\n",
    "w_1 &\\sim U[-1000, 1000]\\\\\n",
    "w_2 &\\sim U[-1000, 1000]\\\\\n",
    "b &\\sim U[-1000, 1000]\n",
    "\\end{align}\n",
    "$$\n",
    "\n"
   ]
  },
  {
   "cell_type": "markdown",
   "metadata": {},
   "source": [
    "### <span style=\"color:#4CC9F0\">Modelo estadístico</span>"
   ]
  },
  {
   "cell_type": "markdown",
   "metadata": {},
   "source": [
    "Vamos a denotar $\\mathbf{y} = (y_1, y_2, \\ldots, y_n)$, $\\mathbf{x} = [x_{ij}]_{n\\times 2}$,  $\\mathbf{w} = (w_1, w_2)$, $\\mathbf{x}_i =(x_{1i}, x_{2i})^t$\n",
    "\n",
    "\n",
    "Asumiremos que las variables $[y_i|x_{1i},x_{2i}, w_1,w_2,b ]$ son independientes. En consecuencia la distribución conjunta se dada por\n",
    "\n",
    "$$\n",
    "p(\\mathbf{y}|, \\mathbf{w}, b) = \\frac{1}{2000^3}\\prod_{i=1}^n \\frac{e^{-\\mu_i} \\mu_i^{y_i}}{y_i!}\n",
    "$$\n",
    "\n",
    "Usando el teorema de Bayes se obtiene la distribución condicional de $(\\mathbf{w}, b |\\mathbf{x})$:\n",
    "\n",
    "$$\n",
    "\\begin{align}\n",
    "f(\\mathbf{w}, b |\\mathbf{x}) &= \\prod_{i=1}^n \\frac{e^{-\\mu_i} \\mu_i^{y_i}}{K},\\\\\n",
    "\\log \\mu_i &=  w_1x_{1i} + w_2x_{2i} + b,\n",
    "\\end{align}\n",
    "$$\n",
    "\n",
    "en donde $K$ es la constante de normalización de la densidad conjunta. La estimación máximo verosímil es la moda de la densidad $f(\\mathbf{w}, b |\\mathbf{x})$. Para encontrarla, usaremos la función de pérdida $\\mathcal{L}(\\mathbf{w}, b) = - \\log f(\\mathbf{w}, b |\\mathbf{x})$. Omitiendo la constante de  normalización se tiene entonces\n",
    "\n",
    "$$\n",
    "\\begin{align}\n",
    "\\mathcal{L}(\\mathbf{w}, b) &= - \\sum_i \\left[ -(\\mu_i) + y_i \\log (\\mu_i) \\right]\\\\\n",
    "\\log \\mu_i &=  w_1x_{1i} + w_2x_{2i} + b,\n",
    "\\end{align} \n",
    "$$\n",
    "\n",
    "En el lenguaje de los modelos de regresión $\\mu_i$ es identificado como la variable predictora. Por esa razón tomamos la licencia de escribir\n",
    "\n",
    "$$\n",
    "\\hat{y_i} = \\mu_i\n",
    "$$"
   ]
  },
  {
   "cell_type": "markdown",
   "metadata": {},
   "source": [
    "### <span style=\"color:#4CC9F0\">Gradiente</span>"
   ]
  },
  {
   "cell_type": "markdown",
   "metadata": {},
   "source": [
    "Es inmediato ver que\n",
    "\n",
    "$$\n",
    "\\begin{align}\n",
    "\\frac{\\partial \\mathcal{L}}{\\partial \\mu_i} &=  \\sum_i \\left[1-\\frac{x_i}{\\mu_i}\\right]\\\\\n",
    "\\frac{\\partial \\mu_i}{\\partial w_1} &= \\mu_ix_{1i}\\\\\n",
    "\\frac{\\partial \\mu_i}{\\partial w_2} &= \\mu_ix_{2i}\\\\\n",
    "\\frac{\\partial \\mu_i}{\\partial b} &= \\mu_i\\\\\n",
    "\\end{align}\n",
    "$$\n",
    "\n",
    "$$\n",
    "\\begin{align}\n",
    "\\frac{\\partial \\mathcal{L}}{\\partial w_1} &= \\sum_i \\left[1 -  \\frac{y_i}{\\mu_i} \\right]\\mu_ix_{1i} = \\sum_i \\left[\\mu_i -  y_i \\right]x_{1i} = \\sum_i \\left[\\hat{y}_i -  y_i \\right]x_{1i}\\\\\n",
    "\\frac{\\partial \\mathcal{L}}{\\partial w_2} &= \\sum_i \\left[1 -  \\frac{y_i}{\\mu_i} \\right]\\mu_ix_{2_i} = \\sum_i \\left[\\mu_i -  y_i \\right]x_{2i}=  \\sum_i \\left[\\hat{y}_i -  y_i \\right]x_{2i}\\\\\n",
    "\\frac{\\partial \\mathcal{L}}{\\partial b} &= \\sum_i \\left[1 -  \\frac{y_i}{\\mu_i} \\right]\\mu_i = \\sum_i \\left[\\mu_i -  y_i \\right] = \\sum_i \\left[\\hat{y}_i -  y_i \\right]\n",
    "\\end{align}\n",
    "$$\n",
    "\n"
   ]
  },
  {
   "cell_type": "markdown",
   "metadata": {},
   "source": [
    "### <span style=\"color:#4CC9F0\">Optimización: Gradiente descendiente</span>"
   ]
  },
  {
   "cell_type": "markdown",
   "metadata": {},
   "source": [
    "Dejamos como ejercicio la implementación del algoritmo de optimización para estimar los parámetros del modelo. Le pedimos comparar con los resultados que vamos a obtener con la librería `statsmodels` de Python.\n",
    "\n",
    "El siguiente fragmento de código incluye algunas piezas que puede usar para su implementación."
   ]
  },
  {
   "cell_type": "code",
   "execution_count": null,
   "metadata": {},
   "outputs": [],
   "source": [
    "# calculo del gradiente\n",
    "def grad(param x , y):\n",
    "    y_hat = np.exp(x @ param)\n",
    "    err   = y_hat - y\n",
    "    gradient = np.transpose(x) @ err\n",
    "    return gradient\n",
    "    \n",
    "# paso de optimización\n",
    "def step(param, gradient,learning):\n",
    "    return param -learning*gradient\n",
    "\n",
    "# función de pérdida\n",
    "def loss(param, x,y):\n",
    "    y_hat = np.exp(x @ param)\n",
    "    val = y*np.log(y_hat)\n",
    "    return np.sum(y_hat - val)\n",
    "\n",
    "# agregar columna de unos a X  \n",
    "def add_intercept(x):\n",
    "    return np.hstack(X, np.ones(x.shpae[1]))\n",
    "\n",
    "# implementación del algoritmo gradiente descendiente    \n",
    "def optim(param_0, x, y, , learning_0, max_iter=50, eps=1e-4, rate = 0.8):\n",
    "    leraning = learning_0\n",
    "    new = param_0\n",
    "    loss_l = []\n",
    "    itera = 1\n",
    "    \n",
    "    while itera < max_iter:\n",
    "        gradient = grad(param, x, y)\n",
    "        param = new_param\n",
    "        new_param = step(param, gradient, learning)\n",
    "        los = loss(w, b ,x , y, z)\n",
    "        loss_l.append(los)\n",
    "        \n",
    "        error = np.sum(np.abs(new_param- param))\n",
    "        if error <= eps:\n",
    "            break\n",
    "        learning  *= rate\n",
    "    \n",
    "    if itera < max_iter:\n",
    "        converge = True\n",
    "    else:\n",
    "        converge = False\n",
    "    \n",
    "    return {'param': param, 'loss':loos_l, 'converge': converge, 'last_loss': loos_l[-1]}\n",
    "\n"
   ]
  },
  {
   "cell_type": "markdown",
   "metadata": {},
   "source": [
    "#### <span style=\"color:#4CC9F0\">Ejercicio</span>"
   ]
  },
  {
   "cell_type": "markdown",
   "metadata": {},
   "source": [
    "Implemente el algortime de optimizacón para estimar el parametro del problema."
   ]
  },
  {
   "cell_type": "markdown",
   "metadata": {},
   "source": [
    "### <span style=\"color:#4CC9F0\">Mdodelos GLM con statsmodels de Python</span>"
   ]
  },
  {
   "cell_type": "code",
   "execution_count": null,
   "metadata": {},
   "outputs": [],
   "source": [
    "# conda install -c anaconda statsmodels"
   ]
  },
  {
   "cell_type": "code",
   "execution_count": 26,
   "metadata": {},
   "outputs": [
    {
     "name": "stdout",
     "output_type": "stream",
     "text": [
      "Número de valores únicos por variable\n",
      " Temperatura    11\n",
      "Humedad        12\n",
      "Conteo         14\n",
      "dtype: int64\n"
     ]
    },
    {
     "data": {
      "text/html": [
       "<table class=\"simpletable\">\n",
       "<caption>Generalized Linear Model Regression Results</caption>\n",
       "<tr>\n",
       "  <th>Dep. Variable:</th>        <td>Conteo</td>      <th>  No. Observations:  </th>  <td>    15</td> \n",
       "</tr>\n",
       "<tr>\n",
       "  <th>Model:</th>                  <td>GLM</td>       <th>  Df Residuals:      </th>  <td>    12</td> \n",
       "</tr>\n",
       "<tr>\n",
       "  <th>Model Family:</th>         <td>Poisson</td>     <th>  Df Model:          </th>  <td>     2</td> \n",
       "</tr>\n",
       "<tr>\n",
       "  <th>Link Function:</th>          <td>Log</td>       <th>  Scale:             </th> <td>  1.0000</td>\n",
       "</tr>\n",
       "<tr>\n",
       "  <th>Method:</th>                <td>IRLS</td>       <th>  Log-Likelihood:    </th> <td> -53.462</td>\n",
       "</tr>\n",
       "<tr>\n",
       "  <th>Date:</th>            <td>Sun, 20 Nov 2022</td> <th>  Deviance:          </th> <td>  1.9468</td>\n",
       "</tr>\n",
       "<tr>\n",
       "  <th>Time:</th>                <td>16:03:14</td>     <th>  Pearson chi2:      </th>  <td>  1.94</td> \n",
       "</tr>\n",
       "<tr>\n",
       "  <th>No. Iterations:</th>          <td>3</td>        <th>  Pseudo R-squ. (CS):</th>  <td>0.7536</td> \n",
       "</tr>\n",
       "<tr>\n",
       "  <th>Covariance Type:</th>     <td>nonrobust</td>    <th>                     </th>     <td> </td>   \n",
       "</tr>\n",
       "</table>\n",
       "<table class=\"simpletable\">\n",
       "<tr>\n",
       "       <td></td>          <th>coef</th>     <th>std err</th>      <th>z</th>      <th>P>|z|</th>  <th>[0.025</th>    <th>0.975]</th>  \n",
       "</tr>\n",
       "<tr>\n",
       "  <th>Intercepto</th>  <td>    5.1600</td> <td>    0.020</td> <td>  263.202</td> <td> 0.000</td> <td>    5.122</td> <td>    5.198</td>\n",
       "</tr>\n",
       "<tr>\n",
       "  <th>Temperatura</th> <td>    0.0417</td> <td>    0.021</td> <td>    2.018</td> <td> 0.044</td> <td>    0.001</td> <td>    0.082</td>\n",
       "</tr>\n",
       "<tr>\n",
       "  <th>Humedad</th>     <td>    0.0664</td> <td>    0.021</td> <td>    3.163</td> <td> 0.002</td> <td>    0.025</td> <td>    0.108</td>\n",
       "</tr>\n",
       "</table>"
      ],
      "text/plain": [
       "<class 'statsmodels.iolib.summary.Summary'>\n",
       "\"\"\"\n",
       "                 Generalized Linear Model Regression Results                  \n",
       "==============================================================================\n",
       "Dep. Variable:                 Conteo   No. Observations:                   15\n",
       "Model:                            GLM   Df Residuals:                       12\n",
       "Model Family:                 Poisson   Df Model:                            2\n",
       "Link Function:                    Log   Scale:                          1.0000\n",
       "Method:                          IRLS   Log-Likelihood:                -53.462\n",
       "Date:                Sun, 20 Nov 2022   Deviance:                       1.9468\n",
       "Time:                        16:03:14   Pearson chi2:                     1.94\n",
       "No. Iterations:                     3   Pseudo R-squ. (CS):             0.7536\n",
       "Covariance Type:            nonrobust                                         \n",
       "===============================================================================\n",
       "                  coef    std err          z      P>|z|      [0.025      0.975]\n",
       "-------------------------------------------------------------------------------\n",
       "Intercepto      5.1600      0.020    263.202      0.000       5.122       5.198\n",
       "Temperatura     0.0417      0.021      2.018      0.044       0.001       0.082\n",
       "Humedad         0.0664      0.021      3.163      0.002       0.025       0.108\n",
       "===============================================================================\n",
       "\"\"\""
      ]
     },
     "execution_count": 26,
     "metadata": {},
     "output_type": "execute_result"
    }
   ],
   "source": [
    "# librerías\n",
    "import numpy as np\n",
    "import pandas as pd\n",
    "import matplotlib.pyplot as plt\n",
    "\n",
    "from sklearn.preprocessing import StandardScaler\n",
    "import statsmodels.api as sm\n",
    "\n",
    "# datos\n",
    "parasitos = {'Temperatura':[15,16,24,13,21,16,22,18,20,16,28,27,13,22,23],\n",
    "             'Humedad': [70,65,71,64,84,86,72,84,71,75,84,79,80,76,88],\n",
    "             'Conteo':[156,157,177,145,197,184,172,187,157,169,200,193,167,170,192]}\n",
    "parasitos = pd.DataFrame(parasitos)\n",
    "\n",
    "# prepara los datos para la regresión\n",
    "X = parasitos.drop(\"Conteo\", axis=1)\n",
    "y = parasitos.Conteo\n",
    "nomb_caract = X.columns.to_list()\n",
    "\n",
    "# escala las características (variables)\n",
    "standizer = StandardScaler()\n",
    "X = standizer.fit_transform(X)\n",
    "\n",
    "# revisa número de valores únicos en cada característica\n",
    "print('Número de valores únicos por variable\\n', parasitos.select_dtypes(\"int\").nunique())\n",
    "\n",
    "# ajusta un modelo de regresión de Poisson a los datos\n",
    "exog = sm.add_constant(X)\n",
    "poission_model = sm.GLM(y, exog, family=sm.families.Poisson())\n",
    "result = poission_model.fit()\n",
    "result.summary(xname=['Intercepto'] + nomb_caract)"
   ]
  },
  {
   "cell_type": "markdown",
   "metadata": {},
   "source": [
    "## <span style=\"color:#4361EE\">Interpretación de la salida de la regresión </span>"
   ]
  },
  {
   "cell_type": "markdown",
   "metadata": {},
   "source": [
    "### <span style=\"color:#4CC9F0\">Coeficientes y p-valores</span>"
   ]
  },
  {
   "cell_type": "markdown",
   "metadata": {},
   "source": [
    "1. La estimación de los coeficientes , `coef`, en la salida indica el cambio en el logaritmo de los $\\mu_i$, es decir en el logartimo de la predcciones del modelos. Por ejemplo, un aumento de una unidad en la variable predictora *Temperatura* está asociado con un cambio promedio de 0.0417 en el logaritmo de la variable de respuesta *Conteo*, manteniendo la variable *Humedad* sin ningún cambio.Esto significa que los valores más altos de *Temperatura* están asociados con una mayor probabilidad de la variable *Conteo*.\n",
    "\n",
    "1. El error estándar, `std err` da una idea de la variabilidad asociada con la estimación del coeficiente. Puede interpretar el error estándar como una estimación  desviación estándar de la distribución posterior del respectivo coeficiente.\n",
    "\n",
    "1. `El valor z`. Se obtiene al dividir la estimación del coeficiente por el error estándar.\n",
    "1. El `p- valor` Pr(>|z|)  dice la probabilidad asociada con un valor *z* particular. Básicamente, esta probabilidad nos dice qué tan bien cada variable predictora puede predecir el valor de la variable de respuesta en el modelo. Por ejemplo, el p-valor asociado con el valor *z* para la variable *Temperatura* es .044. Dado que este valor es inferior a 0,05, diríamos que *Temperatura* es una variable predictora estadísticamente significativa en el modelo. \n",
    "1. `Intervalo de confianza`: [0.025, 0.975]. Es una estimación por intervalo del 95%. La salida en esta caso no puede interpretarse directamente como un intervalo de credibilidad, pero es una aproximación razonable. En el ejemplo el intervalos de confianza reportado para el parámetro *Temperatura* es [0.001, 0.082]."
   ]
  },
  {
   "cell_type": "markdown",
   "metadata": {},
   "source": [
    "### <span style=\"color:#4CC9F0\">Bondad de ajuste</span>"
   ]
  },
  {
   "cell_type": "markdown",
   "metadata": {},
   "source": [
    "Las medidas de bondad de ajuste indican que tan bien ajusta el modelo a los datos. Si no está acostubrado o acostumbrada a estas medidas revise las siguientes dos secciones.\n",
    "\n",
    "\n"
   ]
  },
  {
   "cell_type": "markdown",
   "metadata": {},
   "source": [
    "#### <span style=\"color:#4CC9F0\">Sobre la Deviance</span>"
   ]
  },
  {
   "cell_type": "markdown",
   "metadata": {},
   "source": [
    "La devianza es una medida de la bondad de ajuste de los modelos lineales generalizados. O más bien, es una medida de desajuste, puesto que valores más altos indican un peor ajuste. \n",
    "\n",
    "Supongamos que en un modelo estadístico $\\boldsymbol{\\beta}$ denota el vector de parámetros del modelo. Con $\\boldsymbol{\\beta}_{max}$ denotamos el vector de parámetros  con el  máximo de posibles parámetros en el modelo. En este caso $\\boldsymbol{\\beta}_{max}$ por lo general corresponde al caso en el cual se toma $\\mu_i = y_i$. Técnicamente la deviance para un modelo es definida por \n",
    "\n",
    "$$\n",
    "\\text{deviance} = -2\\left[\\log p(\\mathbf{y}|\\hat{\\boldsymbol{\\beta}}_{max},\\mathbf{X} ) - \\log p(\\mathbf{y}|\\hat{\\boldsymbol{\\beta}}, \\mathbf{X}) \\right].\n",
    "$$\n",
    "\n",
    "En la expresión de la deviance $\\hat{\\boldsymbol{\\beta}}$ es la estimación de $\\boldsymbol{\\beta}$.\n",
    "\n",
    "La deviance es una variable aleatoria que tiene aproximadamente distribución $\\chi^2(n-p)$, en donde $n$ es el tamaño del vector $\\boldsymbol{\\beta}_{max}$ y $p$ el tamaño del vector $\\boldsymbol{\\beta}$.\n",
    "\n",
    "En la distribución $\\chi^2(k)$, el parámetro $k$ se llama grados de libertad (`Df`). La esperanza de la distribución $\\chi^2(k)$ es $k$.\n",
    "\n",
    "\n",
    "\n",
    "\n",
    "1. La `deviance nula` en la salida  dice qué tan bien se puede predecir la variable de respuesta mediante un modelo con solamente con el término de intercepto. Esta medida no es mostrada en la salida.\n",
    "\n",
    "1. La `desviance residual`  dice qué tan bien se puede predecir la variable de respuesta mediante el modelo específico que ajustamos con *p* variables predictoras. Cuanto menor sea el valor, mejor podrá el modelo predecir el valor de la variable de respuesta. La deviance residual es reportada simplemente como `Deviance`.  La deviance residual de calcula como\n",
    "1. la `deviance del modelo`. Esta es la reportada por *statsmodel* y definida por\n",
    "$$\n",
    "\\text{Deviance modelo} = \\text{deviance nula} -  \\text{deviance residual}.\n",
    "$$\n",
    "*Statsmode*l reporta la deviance del modelo como `Deviance`.\n",
    "\n",
    "Los grados de libertad de la distribución de cada deviance se calculan de la siguiente manera.\n",
    "\n",
    "* df(deviance nula) = $n-1$.\n",
    "* df(deviance residual) = $n-p$.\n",
    "* df(deviance model0) = df(deviance nula) - df(deviance residual) = $p-1$."
   ]
  },
  {
   "cell_type": "markdown",
   "metadata": {},
   "source": [
    "#### <span style=\"color:#4CC9F0\">Como interpretar  la Deviance</span>"
   ]
  },
  {
   "cell_type": "markdown",
   "metadata": {},
   "source": [
    "La deviance debe interpretarse junto con los grados de libertad reportados. En el ejemplo se tiene que la deviance es 1.9468 con $k=2$ grados de libertad. La idea central es la siguiente:\n",
    "\n",
    "**Si el modelo ajusta bien a los datos, la deviance debe estar cerca de los grados de libertad del modelo**\n",
    "\n",
    "En nuestro ejemplo parece ser así, pero en realidad no estamos seguros. Para resolver el problema de si en realidad  1.9468 está estadísticamente cerca de 2, calculamos el intervalo del 95% de la distribución $\\chi^2(2)$. Si el valor 1.9468 queda en ese intervalo, estamos tranquilos. Hagámos el cálculo. En realidad la deviance ne este caso nos permite descartar un modelo. Si por elemplo la deviance del modelo en el ejemplo es 8, definitivamente el modleo no es correcto y es necesario pensar en un nuevo modelo."
   ]
  },
  {
   "cell_type": "code",
   "execution_count": 2,
   "metadata": {},
   "outputs": [
    {
     "name": "stdout",
     "output_type": "stream",
     "text": [
      "0.05 7.0\n"
     ]
    }
   ],
   "source": [
    "import numpy as np\n",
    "from scipy.stats import chi2\n",
    "\n",
    "k = 2\n",
    "chi = chi2(k)\n",
    "\n",
    "LCI,UCI = chi.interval(0.95)\n",
    "print(np.round(LCI,2),np.round(UCI))"
   ]
  },
  {
   "cell_type": "markdown",
   "metadata": {},
   "source": [
    "### <span style=\"color:#4CC9F0\">Deviance en el modelo de Poisson</span>"
   ]
  },
  {
   "cell_type": "markdown",
   "metadata": {},
   "source": [
    "El modelo saturado o con el número máximo de parámetros es aquel en el cual $\\hat{y_i}= y_i$. Entonces un claculo directo muestra que la deciance en este caso es\n",
    "\n",
    "$$\n",
    "\\text{Deviance} = -2\\left[\\sum_i \\left(\\mu_i - y_i \\log \\mu_i \\right) - \\sum_i \\left(y_i - y_i \\log y_i \\right) \\right] = 2 \\sum_i \\left[y_i \\log(y_i/\\mu_i) - (y_i-\\mu_i)  \\right]\n",
    "$$"
   ]
  },
  {
   "cell_type": "markdown",
   "metadata": {},
   "source": [
    "### <span style=\"color:#4CC9F0\">Interpretación adicional del p-valor</span>"
   ]
  },
  {
   "cell_type": "markdown",
   "metadata": {},
   "source": [
    "Según sus preferencias, puede decidir utilizar un nivel de significación de 0,01, 0,05 o 0,10 para determinar si cada variable predictora es estadísticamente significativa o no. "
   ]
  }
 ],
 "metadata": {
  "kernelspec": {
   "display_name": "Python 3 (ipykernel)",
   "language": "python",
   "name": "python3"
  },
  "language_info": {
   "codemirror_mode": {
    "name": "ipython",
    "version": 3
   },
   "file_extension": ".py",
   "mimetype": "text/x-python",
   "name": "python",
   "nbconvert_exporter": "python",
   "pygments_lexer": "ipython3",
   "version": "3.10.6"
  }
 },
 "nbformat": 4,
 "nbformat_minor": 4
}
