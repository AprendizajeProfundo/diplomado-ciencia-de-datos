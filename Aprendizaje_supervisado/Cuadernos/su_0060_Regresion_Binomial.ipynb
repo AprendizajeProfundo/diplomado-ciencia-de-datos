{
 "cells": [
  {
   "cell_type": "markdown",
   "metadata": {},
   "source": [
    "<figure>\n",
    "<img src=\"../Imagenes/logo-final-ap.png\"  width=\"80\" height=\"80\" align=\"left\"/> \n",
    "</figure>\n",
    "\n",
    "# <span style=\"color:blue\"><left>Aprendizaje Profundo</left></span>"
   ]
  },
  {
   "cell_type": "markdown",
   "metadata": {
    "tags": []
   },
   "source": [
    "# <span style=\"color:red\"><center>Diplomado en Ciencia de Datos</center></span>"
   ]
  },
  {
   "cell_type": "markdown",
   "metadata": {},
   "source": [
    "# <span style=\"color:green\"><center>Modelos de Regresión Binomial y Logístico</center></span>"
   ]
  },
  {
   "cell_type": "markdown",
   "metadata": {},
   "source": [
    "\n",
    "<figure>\n",
    "<center>\n",
    "<img src=\"../Imagenes/linea-produccion.jpg\" width=\"500\" height=\"500\" align=\"center\" /> \n",
    "</center>   \n",
    "</figure>\n",
    "\n",
    "<a href=\"https://commons.wikimedia.org/wiki/File:The_Arms_Production_in_Britain_in_the_First_World_War_Q27861.jpg\">Lewis, George P. (Photographer)</a>, Public domain, via Wikimedia Commons"
   ]
  },
  {
   "cell_type": "markdown",
   "metadata": {},
   "source": [
    "## <span style=\"color:#4361EE\">Profesores</span>"
   ]
  },
  {
   "cell_type": "markdown",
   "metadata": {},
   "source": [
    "* Alvaro  Montenegro, PhD, <ammontenegrod@unal.edu.co>\n",
    "* Campo Elías Pardo, PhD, <cepardot@unal.edu.co>\n",
    "* Daniel  Montenegro, Msc, <dextronomo@gmail.com>\n",
    "* Camilo José Torres Jiménez, Msc, <cjtorresj@unal.edu.co>"
   ]
  },
  {
   "cell_type": "markdown",
   "metadata": {},
   "source": [
    "## <span style=\"color:#4361EE\">Asesora Medios y Marketing digital</span>"
   ]
  },
  {
   "cell_type": "markdown",
   "metadata": {},
   "source": [
    "* Maria del Pilar Montenegro, pmontenegro88@gmail.com\n",
    "* Jessica López Mejía, jelopezme@unal.edu.co"
   ]
  },
  {
   "cell_type": "markdown",
   "metadata": {},
   "source": [
    "## <span style=\"color:#4361EE\">Jefe Jurídica</span>"
   ]
  },
  {
   "cell_type": "markdown",
   "metadata": {},
   "source": [
    "* Paula Andrea Guzmán, guzmancruz.paula@gmail.com"
   ]
  },
  {
   "cell_type": "markdown",
   "metadata": {},
   "source": [
    "## <span style=\"color:#4361EE\">Coordinador Jurídico</span>"
   ]
  },
  {
   "cell_type": "markdown",
   "metadata": {},
   "source": [
    "* David Fuentes, fuentesd065@gmail.com"
   ]
  },
  {
   "cell_type": "markdown",
   "metadata": {},
   "source": [
    "## <span style=\"color:#4361EE\">Desarrolladores Principales</span>"
   ]
  },
  {
   "cell_type": "markdown",
   "metadata": {},
   "source": [
    "* Dairo Moreno, damoralesj@unal.edu.co\n",
    "* Joan Castro, jocastroc@unal.edu.co\n",
    "* Bryan Riveros, briveros@unal.edu.co\n",
    "* Rosmer Vargas, rovargasc@unal.edu.co\n",
    "* Venus Puertas, vpuertasg@unal.edu.co"
   ]
  },
  {
   "cell_type": "markdown",
   "metadata": {},
   "source": [
    "## <span style=\"color:#4361EE\">Expertos en Bases de Datos</span>"
   ]
  },
  {
   "cell_type": "markdown",
   "metadata": {},
   "source": [
    "* Giovvani Barrera, udgiovanni@gmail.com\n",
    "* Camilo Chitivo, cchitivo@unal.edu.co"
   ]
  },
  {
   "cell_type": "markdown",
   "metadata": {},
   "source": [
    "## <span style=\"color:#4361EE\">Referencias</span>"
   ]
  },
  {
   "cell_type": "markdown",
   "metadata": {},
   "source": [
    "1. [Dobson y Baernett, An introduction to Generalizer Linear Model](http://library.lol/main/472B57FA461867F6CFB4334BFED60010)"
   ]
  },
  {
   "cell_type": "markdown",
   "metadata": {},
   "source": [
    "## <span style=\"color:#4361EE\">Introducción</span>"
   ]
  },
  {
   "cell_type": "markdown",
   "metadata": {},
   "source": [
    "En esta lección introducimos el modelo logístico y el modelo binomial.\n",
    "\n",
    "La librería `statsmodels` es un paquete de Python orientado a la exploración de datos con métodos estadísticos. Proporciona una amplia gama de herramientas estadísticas, se integra con Pandas y NumPy, y puede utilizar las cadenas de fórmulas de estilo R para definir modelos."
   ]
  },
  {
   "cell_type": "markdown",
   "metadata": {},
   "source": [
    "## <span style=\"color:#4361EE\">Modelo Binomial</span> "
   ]
  },
  {
   "cell_type": "markdown",
   "metadata": {},
   "source": [
    "### <span style=\"color:#4CC9F0\">Distribución de probabilidad Binomial</span>"
   ]
  },
  {
   "cell_type": "markdown",
   "metadata": {},
   "source": [
    "La distribución Binomial surge en problemas con ensayos binarios que pueden resultar en éxito (1) o fallo (0). Si se realizan $n$ ensayos (de Bernoulli) de forma independiente y se define la variable aleatoria $y$ como el  número de éxitos, entonces se dice que $Y$ tiene distribución Binomial con parámetro $\\theta$, cuya densidad es dada por:\n",
    "\n",
    "$$\n",
    "p(y|\\theta) = \\binom{n}{y}\\theta^y(1-\\theta)^{n-y}, \\hspace{1mm} y=1,\\ldots,n,\n",
    "$$\n",
    "\n",
    "en donde \n",
    "\n",
    "$$\n",
    "\\binom{n}{y} =\\frac{n!}{y!(n-y)!}\n",
    "$$\n",
    "es el número de grupos diferentes de tamaño $y$, que se pueden organizar si se tienen en total $n$ elementos. "
   ]
  },
  {
   "cell_type": "code",
   "execution_count": 1,
   "metadata": {},
   "outputs": [
    {
     "data": {
      "image/png": "[encoded data removed]",
      "text/plain": [
       "<Figure size 432x288 with 1 Axes>"
      ]
     },
     "metadata": {
      "needs_background": "light"
     },
     "output_type": "display_data"
    }
   ],
   "source": [
    "import numpy as np\n",
    "import pandas as pd\n",
    "import seaborn as sns\n",
    "import matplotlib.pyplot as plt\n",
    "from scipy.stats import binom\n",
    "\n",
    "mu = 0.25\n",
    "n = 4\n",
    "binomial = binom(n, mu)\n",
    "x = np.arange(5)\n",
    "prob_p = binomial.pmf(x)\n",
    "data = pd.DataFrame(zip(x,prob_p))\n",
    "data.columns=['x','p']\n",
    "ax = sns.barplot(data=data, x='x', y='p')\n",
    "ax.set(xlabel='x', ylabel='p(x|$\\theta$)', title='Función de probabilidad de la distribución Binomial({},{})'.format(n,mu))\n",
    "ax.set_xticklabels(x, rotation=0, size=10)\n",
    "plt.show()"
   ]
  },
  {
   "cell_type": "code",
   "execution_count": 2,
   "metadata": {},
   "outputs": [
    {
     "name": "stdout",
     "output_type": "stream",
     "text": [
      "Distribución Binomial(4, 0.25); media = 1.0, varianza 0.75\n",
      "Distribución Binomial(4, 0.25); probabilidades=[0.25 0.5  0.75]; cuantiles=[0. 1. 2.]\n"
     ]
    }
   ],
   "source": [
    "# media y varianza de la distribución Binomial(4, 0.25)\n",
    "import numpy as np\n",
    "from scipy.stats import binom\n",
    "mu = 0.25\n",
    "n = 4\n",
    "binomial = binom(n, mu)\n",
    "media, var = binomial.stats(moments=\"mv\")\n",
    "print('Distribución Binomial(4, 0.25); media = {}, varianza {}'.format(media, var))\n",
    "# calcula algunos cuantiles de la distribución\n",
    "prob = np.array([0.25, 0.5, 0.75])\n",
    "cuantiles = binomial.ppf(prob)\n",
    "print('Distribución Binomial(4, 0.25); probabilidades={}; cuantiles={}'.format(prob, cuantiles))"
   ]
  },
  {
   "cell_type": "markdown",
   "metadata": {},
   "source": [
    "## <span style=\"color:#4361EE\">Regresión Binomial </span> "
   ]
  },
  {
   "cell_type": "markdown",
   "metadata": {},
   "source": [
    "Supongamos que se hacen $n$ observaciones independientes de $ Y_i \\sim\\text{Binom}(n_i,\\pi_i)$. El modelo estadístico usando la función de enlace natural es determinado por\n",
    "\n",
    "$$\n",
    "\\begin{align}\n",
    "\\text{Probabilidad conjunta: } \\hspace{1mm} p(\\mathbf{y}|\\boldsymbol{\\pi}) &= \\prod_{i=1}^n Binom(y_i|\\pi_i) = \\prod_{i=1}^n \\binom{n_i}{y_i}\\pi_i^{y_i}(1-\\pi_i)^{n_i-y_i},\\\\\n",
    "\\text{Modelo de regresión: } \\hspace{1mm}  \\log \\frac{\\pi_i}{1-\\pi_i} &= \\mathbf{x}_i^t \\boldsymbol{\\beta} = \\beta_1x_{1i} + \\ldots +\\beta_px_{pi}\n",
    "\\end{align}\n",
    "$$"
   ]
  },
  {
   "cell_type": "markdown",
   "metadata": {},
   "source": [
    "### <span style=\"color:#4CC9F0\">Log verosimilitud</span>"
   ]
  },
  {
   "cell_type": "markdown",
   "metadata": {},
   "source": [
    "La función de log-verosimilitud es dada por\n",
    "\n",
    "\n",
    "$$\n",
    "\\mathcal{L}(\\mu) = \\sum_{i=1}^n  x_i\\log \\pi_i +  (n_i-x_i)\\log(1-\\pi_i).\n",
    "$$"
   ]
  },
  {
   "cell_type": "markdown",
   "metadata": {},
   "source": [
    "## <span style=\"color:#4361EE\">Regresión Logística </span> "
   ]
  },
  {
   "cell_type": "markdown",
   "metadata": {},
   "source": [
    "La regresión logística corresponde al caso en el cual tenemos como variable de respuesta 0 o 1. Es decir, la distribución de la variables de respuesta es Bernoulli($\\pi$).  El modelo estadístico usando la función de enlace natural es determinado por\n",
    "\n",
    "$$\n",
    "\\begin{align}\n",
    "\\text{Probabilidad conjunta: } \\hspace{1mm} p(\\mathbf{y}|\\boldsymbol{\\pi}) &= \\prod_{i=1}^n Bernoulli(y_i|\\pi_i) = \\prod_{i=1}^n \\pi_i^{y_i}(1-\\pi_i)^{n_i-y_i},\\\\\n",
    "\\text{Modelo de regresión: } \\hspace{1mm}  \\log \\frac{\\pi_i}{1-\\pi_i} &= \\mathbf{x}_i^t \\boldsymbol{\\beta} = \\beta_1x_{1i} + \\ldots +\\beta_px_{pi}\n",
    "\\end{align}\n",
    "$$\n",
    "\n",
    "Además, directamente se puede despejar $\\pi_i $ para obtener las predicciones. Si escribimos $z_i = \\mathbf{x}_i^t \\boldsymbol{\\beta}$\n",
    "\n",
    "$$\n",
    "\\hat{y}_i = \\pi_i = \\frac{z_i}{1+z_i}.\n",
    "$$\n"
   ]
  },
  {
   "cell_type": "markdown",
   "metadata": {},
   "source": [
    "### <span style=\"color:#4CC9F0\">Log verosimilitud</span>"
   ]
  },
  {
   "cell_type": "markdown",
   "metadata": {},
   "source": [
    "La función de log-verosimilitud es dada por\n",
    "\n",
    "\n",
    "$$\n",
    "\\mathcal{L}(\\mu) = \\sum_{i=1}^n  x_i\\log \\pi_i +  (1-x_i)\\log(1-\\pi_i) \n",
    "$$"
   ]
  },
  {
   "cell_type": "markdown",
   "metadata": {},
   "source": [
    "### <span style=\"color:#4CC9F0\">Deviance del modelo Binomial</span>"
   ]
  },
  {
   "cell_type": "markdown",
   "metadata": {},
   "source": [
    "El modelo saturado o con el número máximo de parámetros es aquel en el cual $\\hat{y_i}= y_i$. Entonces un cálculo directo muestra que la deviance en este caso es\n",
    "\n",
    "$$\n",
    "\\text{Deviance} = 2\\left[\\sum_i y_i \\log\\left(\\frac{y_i}{\\hat{y}_i}\\right) +  (n_i-y_i)\\log \\left(\\frac{n_i-y_i}{n_i-\\hat{y}_i} \\right)  \\right]\n",
    "$$"
   ]
  },
  {
   "cell_type": "markdown",
   "metadata": {},
   "source": [
    "## <span style=\"color:#4361EE\">Ejemplos de Regresión Binomial</span> "
   ]
  },
  {
   "cell_type": "markdown",
   "metadata": {},
   "source": [
    "### <span style=\"color:#4CC9F0\">Sobre la API de Statmodels</span>"
   ]
  },
  {
   "cell_type": "markdown",
   "metadata": {},
   "source": [
    "* `statsmodels.api`: La API estándar. Los datos se separan en variables explicativas (exog) y una variable de respuesta (endog). La especificación de un modelo se realiza a través de clases.\n",
    "* `statsmodels.formula.api`: La fórmula API. Utiliza la sintaxis de la fórmula de estilo R y los marcos de datos. La API de fórmula es una forma más conveniente de crear modelos que abstraen el texto estándar requerido por la API estándar. Debajo del capó, las API estándar y de fórmula utilizan los mismos modelos subyacentes."
   ]
  },
  {
   "cell_type": "markdown",
   "metadata": {},
   "source": [
    "### <span style=\"color:#4CC9F0\">Ejemplo de regresión logística : Titanic</span>"
   ]
  },
  {
   "cell_type": "markdown",
   "metadata": {},
   "source": [
    "Los datos corresponden al histórico naufragio. Los datos puede descargarlos de [seaborn-data](https://raw.githubusercontent.com/mwaskom/seaborn-data/master/titanic.csv). Este famoso conjunto de datos ha sido utilizado en competencias de maquinas de aprendizaje. Inicialmente son 891 datos y 15 variables. La variable de respuesta (endógena) es binaria. *survived = 1*, si sobrevivió y *survived  = 0*, si no sobrevivió. Tratamos de predecir *survived* a partir de variables explicativas."
   ]
  },
  {
   "cell_type": "markdown",
   "metadata": {},
   "source": [
    "- **Survived (Sobrevivió):** Esta columna indica si un pasajero sobrevivió o no al naufragio del Titanic. Suele tener dos valores posibles: 0 para no sobrevivir y 1 para sobrevivir.\n",
    "- **Pclass (Clase del boleto):** Esta columna representa la clase del boleto que tenía el pasajero. Puede tomar uno de los tres valores posibles: 1 para primera clase, 2 para segunda clase y 3 para tercera clase. La clase se utiliza a menudo como una indicación del estatus socioeconómico del pasajero.\n",
    "- **Sex (Género):** El género del pasajero, que puede ser \"male\" (masculino) o \"female\" (femenino).\n",
    "- **Age (Edad):** La edad del pasajero en años. Esta columna puede contener valores numéricos.\n",
    "- **SibSp (Hermanos/cónyuges a bordo):** El número de hermanos o cónyuges que el pasajero tenía a bordo del Titanic.\n",
    "- **Parch (Padres/hijos a bordo):** El número de padres o hijos que el pasajero tenía a bordo del Titanic.\n",
    "- **Fare (Tarifa):** El costo del boleto del pasajero.\n",
    "- **Embarked (Puerto de embarque):** El puerto de embarque del pasajero. Puede tener tres valores posibles: \"C\" para Cherbourg, \"Q\" para Queenstown y \"S\" para Southampton.\n",
    "- **Class (Clase):** La clase a la que pertenece el pasajero, similar a \"Pclass\" pero con una representación diferente.\n",
    "- **Who (Quién):** Una categorización que describe si el pasajero es un niño, hombre o mujer.\n",
    "- **Adult_male (Adulto masculino):** Indica si el pasajero es un adulto masculino (Verdadero/Falso).\n",
    "- **Deck (Cubierta):** La cubierta donde se encontraba la cabina del pasajero.\n",
    "- **Embark_town (Ciudad de embarque):** El nombre de la ciudad donde el pasajero embarcó.\n",
    "- **Alive (Vivo):** Indica si el pasajero sobrevivió o no en un formato más legible, como \"yes\" (sí) o \"no\" (no).\n",
    "- **Alone (Solo):** Indica si el pasajero viajaba solo (Verdadero/Falso)."
   ]
  },
  {
   "cell_type": "markdown",
   "metadata": {},
   "source": [
    "Seleccionamos algunas variables y eliminamos los registros con datos faltantes. Al final nos quedamos con 715 registros y 5 variables."
   ]
  },
  {
   "cell_type": "code",
   "execution_count": 3,
   "metadata": {},
   "outputs": [],
   "source": [
    "# librerías\n",
    "import numpy as np\n",
    "import pandas as pd\n",
    "import matplotlib.pyplot as plt\n",
    "import statsmodels.formula.api as smf # smf perimte escribir la fórmula como se hace en la librería gl de R."
   ]
  },
  {
   "cell_type": "code",
   "execution_count": 4,
   "metadata": {},
   "outputs": [
    {
     "data": {
      "text/html": [
       "<div>\n",
       "<style scoped>\n",
       "    .dataframe tbody tr th:only-of-type {\n",
       "        vertical-align: middle;\n",
       "    }\n",
       "\n",
       "    .dataframe tbody tr th {\n",
       "        vertical-align: top;\n",
       "    }\n",
       "\n",
       "    .dataframe thead th {\n",
       "        text-align: right;\n",
       "    }\n",
       "</style>\n",
       "<table border=\"1\" class=\"dataframe\">\n",
       "  <thead>\n",
       "    <tr style=\"text-align: right;\">\n",
       "      <th></th>\n",
       "      <th>survived</th>\n",
       "      <th>pclass</th>\n",
       "      <th>sex</th>\n",
       "      <th>age</th>\n",
       "      <th>embark_town</th>\n",
       "    </tr>\n",
       "  </thead>\n",
       "  <tbody>\n",
       "    <tr>\n",
       "      <th>0</th>\n",
       "      <td>0</td>\n",
       "      <td>3</td>\n",
       "      <td>male</td>\n",
       "      <td>22.0</td>\n",
       "      <td>Southampton</td>\n",
       "    </tr>\n",
       "    <tr>\n",
       "      <th>1</th>\n",
       "      <td>1</td>\n",
       "      <td>1</td>\n",
       "      <td>female</td>\n",
       "      <td>38.0</td>\n",
       "      <td>Cherbourg</td>\n",
       "    </tr>\n",
       "    <tr>\n",
       "      <th>2</th>\n",
       "      <td>1</td>\n",
       "      <td>3</td>\n",
       "      <td>female</td>\n",
       "      <td>26.0</td>\n",
       "      <td>Southampton</td>\n",
       "    </tr>\n",
       "    <tr>\n",
       "      <th>3</th>\n",
       "      <td>1</td>\n",
       "      <td>1</td>\n",
       "      <td>female</td>\n",
       "      <td>35.0</td>\n",
       "      <td>Southampton</td>\n",
       "    </tr>\n",
       "    <tr>\n",
       "      <th>4</th>\n",
       "      <td>0</td>\n",
       "      <td>3</td>\n",
       "      <td>male</td>\n",
       "      <td>35.0</td>\n",
       "      <td>Southampton</td>\n",
       "    </tr>\n",
       "    <tr>\n",
       "      <th>...</th>\n",
       "      <td>...</td>\n",
       "      <td>...</td>\n",
       "      <td>...</td>\n",
       "      <td>...</td>\n",
       "      <td>...</td>\n",
       "    </tr>\n",
       "    <tr>\n",
       "      <th>885</th>\n",
       "      <td>0</td>\n",
       "      <td>3</td>\n",
       "      <td>female</td>\n",
       "      <td>39.0</td>\n",
       "      <td>Queenstown</td>\n",
       "    </tr>\n",
       "    <tr>\n",
       "      <th>886</th>\n",
       "      <td>0</td>\n",
       "      <td>2</td>\n",
       "      <td>male</td>\n",
       "      <td>27.0</td>\n",
       "      <td>Southampton</td>\n",
       "    </tr>\n",
       "    <tr>\n",
       "      <th>887</th>\n",
       "      <td>1</td>\n",
       "      <td>1</td>\n",
       "      <td>female</td>\n",
       "      <td>19.0</td>\n",
       "      <td>Southampton</td>\n",
       "    </tr>\n",
       "    <tr>\n",
       "      <th>889</th>\n",
       "      <td>1</td>\n",
       "      <td>1</td>\n",
       "      <td>male</td>\n",
       "      <td>26.0</td>\n",
       "      <td>Cherbourg</td>\n",
       "    </tr>\n",
       "    <tr>\n",
       "      <th>890</th>\n",
       "      <td>0</td>\n",
       "      <td>3</td>\n",
       "      <td>male</td>\n",
       "      <td>32.0</td>\n",
       "      <td>Queenstown</td>\n",
       "    </tr>\n",
       "  </tbody>\n",
       "</table>\n",
       "<p>712 rows × 5 columns</p>\n",
       "</div>"
      ],
      "text/plain": [
       "     survived  pclass     sex   age  embark_town\n",
       "0           0       3    male  22.0  Southampton\n",
       "1           1       1  female  38.0    Cherbourg\n",
       "2           1       3  female  26.0  Southampton\n",
       "3           1       1  female  35.0  Southampton\n",
       "4           0       3    male  35.0  Southampton\n",
       "..        ...     ...     ...   ...          ...\n",
       "885         0       3  female  39.0   Queenstown\n",
       "886         0       2    male  27.0  Southampton\n",
       "887         1       1  female  19.0  Southampton\n",
       "889         1       1    male  26.0    Cherbourg\n",
       "890         0       3    male  32.0   Queenstown\n",
       "\n",
       "[712 rows x 5 columns]"
      ]
     },
     "execution_count": 4,
     "metadata": {},
     "output_type": "execute_result"
    }
   ],
   "source": [
    "# datos\n",
    "titanic = pd.read_csv('../Datos/titanic.csv')\n",
    "titanic # son 891 datos y 15 columnas\n",
    "# selecciona variables de interés\n",
    "titanic = titanic[[\"survived\", \"pclass\", \"sex\", \"age\", \"embark_town\"]]\n",
    "# omite registros con faltantes\n",
    "titanic = titanic.dropna()\n",
    "titanic # quedan 712 registros y 5 variables"
   ]
  },
  {
   "cell_type": "code",
   "execution_count": 5,
   "metadata": {},
   "outputs": [
    {
     "name": "stdout",
     "output_type": "stream",
     "text": [
      "Optimization terminated successfully.\n",
      "         Current function value: 0.509889\n",
      "         Iterations 6\n"
     ]
    }
   ],
   "source": [
    "# modelación con statmodels. Ajuste del modelo\n",
    "import statsmodels.formula.api as smf\n",
    "#fit logistic regression model\n",
    "# \"survived ~ sex + age + embark_town\", \n",
    "log_reg = smf.logit(\"survived ~ sex + age + embark_town\", data=titanic).fit()"
   ]
  },
  {
   "cell_type": "markdown",
   "metadata": {},
   "source": [
    "### <span style=\"color:#4CC9F0\">Revisión de los resultados</span>"
   ]
  },
  {
   "cell_type": "markdown",
   "metadata": {},
   "source": [
    "Usaremos el método summary para revisar los resultados."
   ]
  },
  {
   "cell_type": "code",
   "execution_count": 6,
   "metadata": {},
   "outputs": [
    {
     "name": "stdout",
     "output_type": "stream",
     "text": [
      "                           Logit Regression Results                           \n",
      "==============================================================================\n",
      "Dep. Variable:               survived   No. Observations:                  712\n",
      "Model:                          Logit   Df Residuals:                      707\n",
      "Method:                           MLE   Df Model:                            4\n",
      "Date:                Sat, 02 Sep 2023   Pseudo R-squ.:                  0.2444\n",
      "Time:                        07:46:13   Log-Likelihood:                -363.04\n",
      "converged:                       True   LL-Null:                       -480.45\n",
      "Covariance Type:            nonrobust   LLR p-value:                 1.209e-49\n",
      "==============================================================================================\n",
      "                                 coef    std err          z      P>|z|      [0.025      0.975]\n",
      "----------------------------------------------------------------------------------------------\n",
      "Intercept                      2.2046      0.322      6.851      0.000       1.574       2.835\n",
      "sex[T.male]                   -2.4760      0.191    -12.976      0.000      -2.850      -2.102\n",
      "embark_town[T.Queenstown]     -1.8156      0.535     -3.393      0.001      -2.864      -0.767\n",
      "embark_town[T.Southampton]    -1.0069      0.237     -4.251      0.000      -1.471      -0.543\n",
      "age                           -0.0081      0.007     -1.233      0.217      -0.021       0.005\n",
      "==============================================================================================\n"
     ]
    }
   ],
   "source": [
    "# impirme el summary de los resultados\n",
    "print(log_reg.summary())"
   ]
  },
  {
   "cell_type": "markdown",
   "metadata": {},
   "source": [
    "### <span style=\"color:#4CC9F0\">Acceso a los parámetros y demás objetos  de la salida del modelo</span>"
   ]
  },
  {
   "cell_type": "markdown",
   "metadata": {},
   "source": [
    "En statsmodels, el método fit() devuelve un objeto *Result*. Los coeficientes del modelo, los errores estándar, los valores p, etc., están todos disponibles en este objeto Result."
   ]
  },
  {
   "cell_type": "code",
   "execution_count": 7,
   "metadata": {},
   "outputs": [
    {
     "name": "stdout",
     "output_type": "stream",
     "text": [
      "<statsmodels.discrete.discrete_model.BinaryResultsWrapper object at 0x7f9224d36fe0>\n"
     ]
    }
   ],
   "source": [
    "print(log_reg)"
   ]
  },
  {
   "cell_type": "markdown",
   "metadata": {},
   "source": [
    "Convenientemente, los resultados se  almacenan como dataframes de Pandas con el nombre del parámetro como índice del marco de datos."
   ]
  },
  {
   "cell_type": "code",
   "execution_count": 8,
   "metadata": {},
   "outputs": [
    {
     "name": "stdout",
     "output_type": "stream",
     "text": [
      "Intercept                     2.204585\n",
      "sex[T.male]                  -2.475962\n",
      "embark_town[T.Queenstown]    -1.815592\n",
      "embark_town[T.Southampton]   -1.006949\n",
      "age                          -0.008079\n",
      "dtype: float64\n"
     ]
    }
   ],
   "source": [
    "# Inspecciona los parámetros\n",
    "print(log_reg.params)"
   ]
  },
  {
   "cell_type": "markdown",
   "metadata": {},
   "source": [
    "Estos son algunos de los valores relevantes para una regresión logística.\n",
    "\n",
    "|Atributo/función |Descripción|\n",
    "|---|---|\n",
    "|params |Parámetros estimados del modelo. Aparece como coef cuando se llama a summary() en un modelo ajustado|\n",
    "|bse| Error estándar|\n",
    "|tvalues|columna z al llamar a summary() en un modelo ajustado|\n",
    "|pvalues|Valores p del modelo|\n",
    "|conf_int(alfa)| Método que calcula el intervalo de confianza para los parámetros estimados. Para llamar: model.conf_int(0.05)|"
   ]
  },
  {
   "cell_type": "markdown",
   "metadata": {},
   "source": [
    "Por ejemplo el intervalos de confianza se recupera con"
   ]
  },
  {
   "cell_type": "code",
   "execution_count": 9,
   "metadata": {},
   "outputs": [
    {
     "data": {
      "text/html": [
       "<div>\n",
       "<style scoped>\n",
       "    .dataframe tbody tr th:only-of-type {\n",
       "        vertical-align: middle;\n",
       "    }\n",
       "\n",
       "    .dataframe tbody tr th {\n",
       "        vertical-align: top;\n",
       "    }\n",
       "\n",
       "    .dataframe thead th {\n",
       "        text-align: right;\n",
       "    }\n",
       "</style>\n",
       "<table border=\"1\" class=\"dataframe\">\n",
       "  <thead>\n",
       "    <tr style=\"text-align: right;\">\n",
       "      <th></th>\n",
       "      <th>0</th>\n",
       "      <th>1</th>\n",
       "    </tr>\n",
       "  </thead>\n",
       "  <tbody>\n",
       "    <tr>\n",
       "      <th>Intercept</th>\n",
       "      <td>1.573877</td>\n",
       "      <td>2.835293</td>\n",
       "    </tr>\n",
       "    <tr>\n",
       "      <th>sex[T.male]</th>\n",
       "      <td>-2.849937</td>\n",
       "      <td>-2.101986</td>\n",
       "    </tr>\n",
       "    <tr>\n",
       "      <th>embark_town[T.Queenstown]</th>\n",
       "      <td>-2.864233</td>\n",
       "      <td>-0.766950</td>\n",
       "    </tr>\n",
       "    <tr>\n",
       "      <th>embark_town[T.Southampton]</th>\n",
       "      <td>-1.471180</td>\n",
       "      <td>-0.542717</td>\n",
       "    </tr>\n",
       "    <tr>\n",
       "      <th>age</th>\n",
       "      <td>-0.020917</td>\n",
       "      <td>0.004760</td>\n",
       "    </tr>\n",
       "  </tbody>\n",
       "</table>\n",
       "</div>"
      ],
      "text/plain": [
       "                                   0         1\n",
       "Intercept                   1.573877  2.835293\n",
       "sex[T.male]                -2.849937 -2.101986\n",
       "embark_town[T.Queenstown]  -2.864233 -0.766950\n",
       "embark_town[T.Southampton] -1.471180 -0.542717\n",
       "age                        -0.020917  0.004760"
      ]
     },
     "execution_count": 9,
     "metadata": {},
     "output_type": "execute_result"
    }
   ],
   "source": [
    "log_reg.conf_int(0.05)"
   ]
  },
  {
   "cell_type": "markdown",
   "metadata": {},
   "source": [
    "Para ver la lista completa de atributos y métodos disponibles, use la función dir() integrada de Python en el modelo ajustado."
   ]
  },
  {
   "cell_type": "code",
   "execution_count": 10,
   "metadata": {},
   "outputs": [
    {
     "name": "stdout",
     "output_type": "stream",
     "text": [
      "['__class__', '__delattr__', '__dict__', '__dir__', '__doc__', '__eq__', '__format__', '__ge__', '__getattribute__', '__getstate__', '__gt__', '__hash__', '__init__', '__init_subclass__', '__le__', '__lt__', '__module__', '__ne__', '__new__', '__reduce__', '__reduce_ex__', '__repr__', '__setattr__', '__sizeof__', '__str__', '__subclasshook__', '__weakref__', '_cache', '_data_attr', '_data_in_cache', '_get_endog_name', '_get_robustcov_results', '_get_wald_nonlinear', '_transform_predict_exog', '_use_t', 'aic', 'bic', 'bse', 'conf_int', 'converged', 'cov_kwds', 'cov_params', 'cov_type', 'df_model', 'df_resid', 'f_test', 'fittedvalues', 'get_distribution', 'get_influence', 'get_margeff', 'get_prediction', 'im_ratio', 'info_criteria', 'initialize', 'k_constant', 'llf', 'llnull', 'llr', 'llr_pvalue', 'load', 'method', 'mle_retvals', 'mle_settings', 'model', 'nobs', 'normalized_cov_params', 'params', 'pred_table', 'predict', 'prsquared', 'pvalues', 'remove_data', 'resid_dev', 'resid_generalized', 'resid_pearson', 'resid_response', 'save', 'scale', 'score_test', 'set_null_options', 'summary', 'summary2', 't_test', 't_test_pairwise', 'tvalues', 'use_t', 'wald_test', 'wald_test_terms']\n"
     ]
    }
   ],
   "source": [
    "print(dir(log_reg))"
   ]
  },
  {
   "cell_type": "markdown",
   "metadata": {},
   "source": [
    "### <span style=\"color:#4CC9F0\">Evaluación el rendimiento del modelo</span>"
   ]
  },
  {
   "cell_type": "markdown",
   "metadata": {},
   "source": [
    "Para evaluar la calidad del modelo de regresión logística, podemos observar dos métricas en el resultado:"
   ]
  },
  {
   "cell_type": "markdown",
   "metadata": {},
   "source": [
    "### <span style=\"color:#4CC9F0\">Pseudo R-cuadrado</span> "
   ]
  },
  {
   "cell_type": "markdown",
   "metadata": {},
   "source": [
    "Este valor se puede considerar como el sustituto del valor de *R* cuadrado ($R^2$) para un modelo de regresión lineal.\n",
    "\n",
    "* Se calcula como el cociente entre la función logaritmo de verosimilitud evaluada en el modelo nulo y el modelo completo.\n",
    "\n",
    " * Este valor puede oscilar entre 0 y 1; los valores más altos indican un mejor ajuste del modelo.\n",
    "\n",
    "* En este ejemplo, el valor pseudo R-cuadrado es  0.2444, que es bastante bajo. Esto nos dice que las variables predictoras en el modelo no hacen un buen trabajo al predecir el valor de la variable de respuesta."
   ]
  },
  {
   "cell_type": "markdown",
   "metadata": {},
   "source": [
    "### <span style=\"color:#4CC9F0\">LLR p-valor</span> "
   ]
  },
  {
   "cell_type": "markdown",
   "metadata": {},
   "source": [
    "LLR = log likelihood residual, o log vrosimilitud marginal.\n",
    "\n",
    "Este valor se puede considerar como el sustituto del valor p para el valor F general de un modelo de regresión lineal.\n",
    "\n",
    "* Si este valor está por debajo de cierto umbral (por ejemplo, α = .05), entonces podemos concluir que el modelo en general es \"útil\" y es mejor para predecir los valores de la variable de respuesta en comparación con un modelo sin variables predictoras.\n",
    "\n",
    "* En este ejemplo, el valor p de LLR es 1.209e-49. Dependiendo del nivel de significación que elijamos (p. ej., .01, .05, .1), podemos o no concluir que el modelo en su conjunto es útil. En este caso, es claro que las variables predictores si están aportando a la predicción de la variable observada o en endógena.\n",
    "\n"
   ]
  },
  {
   "cell_type": "markdown",
   "metadata": {},
   "source": [
    "### <span style=\"color:#4CC9F0\">Conclusión provisional</span> "
   ]
  },
  {
   "cell_type": "markdown",
   "metadata": {},
   "source": [
    "De acuerdo con las salidas explicadas para este problema podemos concluir que \n",
    "\n",
    "* Las variables *sex* y *embark_town* y el intercepto son necesarias en el modelo. La variable edad tiene un aporte que alcanza a ser significativo, por lo que en la explicación de del problema no aporta demasiado.\n",
    "* El valor *LLR p-valor* indica que en realidad las variables explicativas si aportan a la predicción de la variable observada y son necesarias además del intercepto.\n",
    "* Finalmente el valor de la estadística *Pseudo R-cuadrado* indica que las variables explicativas no son suficientes para tener una explicación satisfactoria de la variable respuesta. \n",
    "\n",
    "En conclusión, las variables *sex* y *embark_town* hacen un buen aporte a la explicación de la variable  *survived*, pero no son suficiente para tener una adecuada explicación del problema.\n"
   ]
  },
  {
   "cell_type": "markdown",
   "metadata": {},
   "source": [
    "### <span style=\"color:#4CC9F0\">Ejemplo de regresión Binomial: Star9</span> "
   ]
  },
  {
   "cell_type": "markdown",
   "metadata": {},
   "source": [
    "En este ejemplo, usamos el conjunto de datos Star9 de los ejemplos de statmodels, el cual que se tomó con permiso de Jeff Gill (2000) Modelos lineales generalizados: un enfoque unificado. \n",
    "\n",
    "La variable de respuesta (endog) es una típica variable $\\text{Binomial}(n_i,x_i)$. Son datos de personas que presentan una prueba estatal. La variable de respuesta está divida en dos partes: *NABOVE* que corresponde al número de personas en cada estado  con puntaje por encima de la mediana nacional para la parte de matemáticas de la prueba y *NBLOW* el número de personas en cada estado  con puntaje por debajo de la mediana nacional para la parte de matemáticas de la prueba. La documentación de los datos se puede obtener escribiendo:\n"
   ]
  },
  {
   "cell_type": "code",
   "execution_count": 11,
   "metadata": {},
   "outputs": [],
   "source": [
    "%matplotlib inline"
   ]
  },
  {
   "cell_type": "code",
   "execution_count": 12,
   "metadata": {},
   "outputs": [],
   "source": [
    "import numpy as np\n",
    "import statsmodels.api as sm\n",
    "from scipy import stats\n",
    "from matplotlib import pyplot as plt\n",
    "\n",
    "plt.rc(\"figure\", figsize=(16,8))\n",
    "plt.rc(\"font\", size=14)"
   ]
  },
  {
   "cell_type": "code",
   "execution_count": 13,
   "metadata": {},
   "outputs": [
    {
     "name": "stdout",
     "output_type": "stream",
     "text": [
      "::\n",
      "\n",
      "    Number of Observations - 303 (counties in California).\n",
      "\n",
      "    Number of Variables - 13 and 8 interaction terms.\n",
      "\n",
      "    Definition of variables names::\n",
      "\n",
      "        NABOVE   - Total number of students above the national median for the\n",
      "                   math section.\n",
      "        NBELOW   - Total number of students below the national median for the\n",
      "                   math section.\n",
      "        LOWINC   - Percentage of low income students\n",
      "        PERASIAN - Percentage of Asian student\n",
      "        PERBLACK - Percentage of black students\n",
      "        PERHISP  - Percentage of Hispanic students\n",
      "        PERMINTE - Percentage of minority teachers\n",
      "        AVYRSEXP - Sum of teachers' years in educational service divided by the\n",
      "                number of teachers.\n",
      "        AVSALK   - Total salary budget including benefits divided by the number\n",
      "                   of full-time teachers (in thousands)\n",
      "        PERSPENK - Per-pupil spending (in thousands)\n",
      "        PTRATIO  - Pupil-teacher ratio.\n",
      "        PCTAF    - Percentage of students taking UC/CSU prep courses\n",
      "        PCTCHRT  - Percentage of charter schools\n",
      "        PCTYRRND - Percentage of year-round schools\n",
      "\n",
      "        The below variables are interaction terms of the variables defined\n",
      "        above.\n",
      "\n",
      "        PERMINTE_AVYRSEXP\n",
      "        PEMINTE_AVSAL\n",
      "        AVYRSEXP_AVSAL\n",
      "        PERSPEN_PTRATIO\n",
      "        PERSPEN_PCTAF\n",
      "        PTRATIO_PCTAF\n",
      "        PERMINTE_AVTRSEXP_AVSAL\n",
      "        PERSPEN_PTRATIO_PCTAF\n",
      "\n"
     ]
    }
   ],
   "source": [
    "print(sm.datasets.star98.NOTE)"
   ]
  },
  {
   "cell_type": "code",
   "execution_count": 14,
   "metadata": {},
   "outputs": [],
   "source": [
    "#Carga los datos y agrega una constante a las variables exógenas (independientes):"
   ]
  },
  {
   "cell_type": "code",
   "execution_count": 15,
   "metadata": {},
   "outputs": [],
   "source": [
    "data = sm.datasets.star98.load()\n",
    "\n",
    "data.exog = sm.add_constant(data.exog, prepend=False)"
   ]
  },
  {
   "cell_type": "code",
   "execution_count": 16,
   "metadata": {},
   "outputs": [
    {
     "data": {
      "text/plain": [
       "Index(['LOWINC', 'PERASIAN', 'PERBLACK', 'PERHISP', 'PERMINTE', 'AVYRSEXP',\n",
       "       'AVSALK', 'PERSPENK', 'PTRATIO', 'PCTAF', 'PCTCHRT', 'PCTYRRND',\n",
       "       'PERMINTE_AVYRSEXP', 'PERMINTE_AVSAL', 'AVYRSEXP_AVSAL',\n",
       "       'PERSPEN_PTRATIO', 'PERSPEN_PCTAF', 'PTRATIO_PCTAF',\n",
       "       'PERMINTE_AVYRSEXP_AVSAL', 'PERSPEN_PTRATIO_PCTAF', 'const'],\n",
       "      dtype='object')"
      ]
     },
     "execution_count": 16,
     "metadata": {},
     "output_type": "execute_result"
    }
   ],
   "source": [
    "data.exog.columns"
   ]
  },
  {
   "cell_type": "code",
   "execution_count": 17,
   "metadata": {},
   "outputs": [
    {
     "data": {
      "text/html": [
       "<div>\n",
       "<style scoped>\n",
       "    .dataframe tbody tr th:only-of-type {\n",
       "        vertical-align: middle;\n",
       "    }\n",
       "\n",
       "    .dataframe tbody tr th {\n",
       "        vertical-align: top;\n",
       "    }\n",
       "\n",
       "    .dataframe thead th {\n",
       "        text-align: right;\n",
       "    }\n",
       "</style>\n",
       "<table border=\"1\" class=\"dataframe\">\n",
       "  <thead>\n",
       "    <tr style=\"text-align: right;\">\n",
       "      <th></th>\n",
       "      <th>LOWINC</th>\n",
       "      <th>PERASIAN</th>\n",
       "      <th>PERBLACK</th>\n",
       "      <th>PERHISP</th>\n",
       "      <th>PERMINTE</th>\n",
       "      <th>AVYRSEXP</th>\n",
       "      <th>AVSALK</th>\n",
       "      <th>PERSPENK</th>\n",
       "      <th>PTRATIO</th>\n",
       "      <th>PCTAF</th>\n",
       "      <th>...</th>\n",
       "      <th>PCTYRRND</th>\n",
       "      <th>PERMINTE_AVYRSEXP</th>\n",
       "      <th>PERMINTE_AVSAL</th>\n",
       "      <th>AVYRSEXP_AVSAL</th>\n",
       "      <th>PERSPEN_PTRATIO</th>\n",
       "      <th>PERSPEN_PCTAF</th>\n",
       "      <th>PTRATIO_PCTAF</th>\n",
       "      <th>PERMINTE_AVYRSEXP_AVSAL</th>\n",
       "      <th>PERSPEN_PTRATIO_PCTAF</th>\n",
       "      <th>const</th>\n",
       "    </tr>\n",
       "  </thead>\n",
       "  <tbody>\n",
       "    <tr>\n",
       "      <th>0</th>\n",
       "      <td>34.39730</td>\n",
       "      <td>23.299300</td>\n",
       "      <td>14.235280</td>\n",
       "      <td>11.411120</td>\n",
       "      <td>15.918370</td>\n",
       "      <td>14.70646</td>\n",
       "      <td>59.15732</td>\n",
       "      <td>4.445207</td>\n",
       "      <td>21.71025</td>\n",
       "      <td>57.03276</td>\n",
       "      <td>...</td>\n",
       "      <td>22.222220</td>\n",
       "      <td>234.102872</td>\n",
       "      <td>941.68811</td>\n",
       "      <td>869.9948</td>\n",
       "      <td>96.50656</td>\n",
       "      <td>253.52242</td>\n",
       "      <td>1238.1955</td>\n",
       "      <td>13848.8985</td>\n",
       "      <td>5504.0352</td>\n",
       "      <td>1.0</td>\n",
       "    </tr>\n",
       "    <tr>\n",
       "      <th>1</th>\n",
       "      <td>17.36507</td>\n",
       "      <td>29.328380</td>\n",
       "      <td>8.234897</td>\n",
       "      <td>9.314884</td>\n",
       "      <td>13.636360</td>\n",
       "      <td>16.08324</td>\n",
       "      <td>59.50397</td>\n",
       "      <td>5.267598</td>\n",
       "      <td>20.44278</td>\n",
       "      <td>64.62264</td>\n",
       "      <td>...</td>\n",
       "      <td>0.000000</td>\n",
       "      <td>219.316851</td>\n",
       "      <td>811.41756</td>\n",
       "      <td>957.0166</td>\n",
       "      <td>107.68435</td>\n",
       "      <td>340.40609</td>\n",
       "      <td>1321.0664</td>\n",
       "      <td>13050.2233</td>\n",
       "      <td>6958.8468</td>\n",
       "      <td>1.0</td>\n",
       "    </tr>\n",
       "    <tr>\n",
       "      <th>2</th>\n",
       "      <td>32.64324</td>\n",
       "      <td>9.226386</td>\n",
       "      <td>42.406310</td>\n",
       "      <td>13.543720</td>\n",
       "      <td>28.834360</td>\n",
       "      <td>14.59559</td>\n",
       "      <td>60.56992</td>\n",
       "      <td>5.482922</td>\n",
       "      <td>18.95419</td>\n",
       "      <td>53.94191</td>\n",
       "      <td>...</td>\n",
       "      <td>0.000000</td>\n",
       "      <td>420.854496</td>\n",
       "      <td>1746.49488</td>\n",
       "      <td>884.0537</td>\n",
       "      <td>103.92435</td>\n",
       "      <td>295.75929</td>\n",
       "      <td>1022.4252</td>\n",
       "      <td>25491.1232</td>\n",
       "      <td>5605.8777</td>\n",
       "      <td>1.0</td>\n",
       "    </tr>\n",
       "    <tr>\n",
       "      <th>3</th>\n",
       "      <td>11.90953</td>\n",
       "      <td>13.883090</td>\n",
       "      <td>3.796973</td>\n",
       "      <td>11.443110</td>\n",
       "      <td>11.111110</td>\n",
       "      <td>14.38939</td>\n",
       "      <td>58.33411</td>\n",
       "      <td>4.165093</td>\n",
       "      <td>21.63539</td>\n",
       "      <td>49.06103</td>\n",
       "      <td>...</td>\n",
       "      <td>7.142857</td>\n",
       "      <td>159.882095</td>\n",
       "      <td>648.15671</td>\n",
       "      <td>839.3923</td>\n",
       "      <td>90.11341</td>\n",
       "      <td>204.34375</td>\n",
       "      <td>1061.4545</td>\n",
       "      <td>9326.5797</td>\n",
       "      <td>4421.0568</td>\n",
       "      <td>1.0</td>\n",
       "    </tr>\n",
       "    <tr>\n",
       "      <th>4</th>\n",
       "      <td>36.88889</td>\n",
       "      <td>12.187500</td>\n",
       "      <td>76.875000</td>\n",
       "      <td>7.604167</td>\n",
       "      <td>43.589740</td>\n",
       "      <td>13.90568</td>\n",
       "      <td>63.15364</td>\n",
       "      <td>4.324902</td>\n",
       "      <td>18.77984</td>\n",
       "      <td>52.38095</td>\n",
       "      <td>...</td>\n",
       "      <td>0.000000</td>\n",
       "      <td>606.144976</td>\n",
       "      <td>2752.85075</td>\n",
       "      <td>878.1943</td>\n",
       "      <td>81.22097</td>\n",
       "      <td>226.54248</td>\n",
       "      <td>983.7059</td>\n",
       "      <td>38280.2616</td>\n",
       "      <td>4254.4314</td>\n",
       "      <td>1.0</td>\n",
       "    </tr>\n",
       "    <tr>\n",
       "      <th>...</th>\n",
       "      <td>...</td>\n",
       "      <td>...</td>\n",
       "      <td>...</td>\n",
       "      <td>...</td>\n",
       "      <td>...</td>\n",
       "      <td>...</td>\n",
       "      <td>...</td>\n",
       "      <td>...</td>\n",
       "      <td>...</td>\n",
       "      <td>...</td>\n",
       "      <td>...</td>\n",
       "      <td>...</td>\n",
       "      <td>...</td>\n",
       "      <td>...</td>\n",
       "      <td>...</td>\n",
       "      <td>...</td>\n",
       "      <td>...</td>\n",
       "      <td>...</td>\n",
       "      <td>...</td>\n",
       "      <td>...</td>\n",
       "      <td>...</td>\n",
       "    </tr>\n",
       "    <tr>\n",
       "      <th>298</th>\n",
       "      <td>62.23968</td>\n",
       "      <td>13.820860</td>\n",
       "      <td>3.956157</td>\n",
       "      <td>32.128790</td>\n",
       "      <td>15.884480</td>\n",
       "      <td>13.27089</td>\n",
       "      <td>52.88133</td>\n",
       "      <td>4.324174</td>\n",
       "      <td>20.98711</td>\n",
       "      <td>8.00000</td>\n",
       "      <td>...</td>\n",
       "      <td>18.181820</td>\n",
       "      <td>210.801187</td>\n",
       "      <td>839.99243</td>\n",
       "      <td>701.7823</td>\n",
       "      <td>90.75192</td>\n",
       "      <td>34.59339</td>\n",
       "      <td>167.8969</td>\n",
       "      <td>11147.4471</td>\n",
       "      <td>726.0153</td>\n",
       "      <td>1.0</td>\n",
       "    </tr>\n",
       "    <tr>\n",
       "      <th>299</th>\n",
       "      <td>46.16188</td>\n",
       "      <td>1.150575</td>\n",
       "      <td>0.800400</td>\n",
       "      <td>45.622810</td>\n",
       "      <td>13.333330</td>\n",
       "      <td>11.80714</td>\n",
       "      <td>48.42615</td>\n",
       "      <td>3.945069</td>\n",
       "      <td>19.85830</td>\n",
       "      <td>53.77358</td>\n",
       "      <td>...</td>\n",
       "      <td>0.000000</td>\n",
       "      <td>157.428494</td>\n",
       "      <td>645.68184</td>\n",
       "      <td>571.7743</td>\n",
       "      <td>78.34236</td>\n",
       "      <td>212.14048</td>\n",
       "      <td>1067.8519</td>\n",
       "      <td>7623.6559</td>\n",
       "      <td>4212.7494</td>\n",
       "      <td>1.0</td>\n",
       "    </tr>\n",
       "    <tr>\n",
       "      <th>300</th>\n",
       "      <td>43.41431</td>\n",
       "      <td>3.648564</td>\n",
       "      <td>1.541204</td>\n",
       "      <td>46.319980</td>\n",
       "      <td>21.377670</td>\n",
       "      <td>14.40468</td>\n",
       "      <td>53.79616</td>\n",
       "      <td>3.845481</td>\n",
       "      <td>22.70884</td>\n",
       "      <td>29.89247</td>\n",
       "      <td>...</td>\n",
       "      <td>6.666667</td>\n",
       "      <td>307.938495</td>\n",
       "      <td>1150.03656</td>\n",
       "      <td>774.9165</td>\n",
       "      <td>87.32641</td>\n",
       "      <td>114.95093</td>\n",
       "      <td>678.8233</td>\n",
       "      <td>16565.9086</td>\n",
       "      <td>2610.4022</td>\n",
       "      <td>1.0</td>\n",
       "    </tr>\n",
       "    <tr>\n",
       "      <th>301</th>\n",
       "      <td>70.62104</td>\n",
       "      <td>20.461720</td>\n",
       "      <td>2.989345</td>\n",
       "      <td>17.423050</td>\n",
       "      <td>11.032860</td>\n",
       "      <td>16.56420</td>\n",
       "      <td>61.70566</td>\n",
       "      <td>3.970984</td>\n",
       "      <td>24.88647</td>\n",
       "      <td>15.14286</td>\n",
       "      <td>...</td>\n",
       "      <td>13.636360</td>\n",
       "      <td>182.750500</td>\n",
       "      <td>680.78991</td>\n",
       "      <td>1022.1049</td>\n",
       "      <td>98.82377</td>\n",
       "      <td>60.13205</td>\n",
       "      <td>376.8523</td>\n",
       "      <td>11276.7402</td>\n",
       "      <td>1496.4746</td>\n",
       "      <td>1.0</td>\n",
       "    </tr>\n",
       "    <tr>\n",
       "      <th>302</th>\n",
       "      <td>77.74827</td>\n",
       "      <td>5.998899</td>\n",
       "      <td>9.576225</td>\n",
       "      <td>11.117230</td>\n",
       "      <td>7.874016</td>\n",
       "      <td>16.91871</td>\n",
       "      <td>65.09957</td>\n",
       "      <td>6.913397</td>\n",
       "      <td>20.03252</td>\n",
       "      <td>23.52941</td>\n",
       "      <td>...</td>\n",
       "      <td>0.000000</td>\n",
       "      <td>133.218193</td>\n",
       "      <td>512.59506</td>\n",
       "      <td>1101.4007</td>\n",
       "      <td>138.49276</td>\n",
       "      <td>162.66815</td>\n",
       "      <td>471.3534</td>\n",
       "      <td>8672.4471</td>\n",
       "      <td>3258.6530</td>\n",
       "      <td>1.0</td>\n",
       "    </tr>\n",
       "  </tbody>\n",
       "</table>\n",
       "<p>303 rows × 21 columns</p>\n",
       "</div>"
      ],
      "text/plain": [
       "       LOWINC   PERASIAN   PERBLACK    PERHISP   PERMINTE  AVYRSEXP    AVSALK  \\\n",
       "0    34.39730  23.299300  14.235280  11.411120  15.918370  14.70646  59.15732   \n",
       "1    17.36507  29.328380   8.234897   9.314884  13.636360  16.08324  59.50397   \n",
       "2    32.64324   9.226386  42.406310  13.543720  28.834360  14.59559  60.56992   \n",
       "3    11.90953  13.883090   3.796973  11.443110  11.111110  14.38939  58.33411   \n",
       "4    36.88889  12.187500  76.875000   7.604167  43.589740  13.90568  63.15364   \n",
       "..        ...        ...        ...        ...        ...       ...       ...   \n",
       "298  62.23968  13.820860   3.956157  32.128790  15.884480  13.27089  52.88133   \n",
       "299  46.16188   1.150575   0.800400  45.622810  13.333330  11.80714  48.42615   \n",
       "300  43.41431   3.648564   1.541204  46.319980  21.377670  14.40468  53.79616   \n",
       "301  70.62104  20.461720   2.989345  17.423050  11.032860  16.56420  61.70566   \n",
       "302  77.74827   5.998899   9.576225  11.117230   7.874016  16.91871  65.09957   \n",
       "\n",
       "     PERSPENK   PTRATIO     PCTAF  ...   PCTYRRND  PERMINTE_AVYRSEXP  \\\n",
       "0    4.445207  21.71025  57.03276  ...  22.222220         234.102872   \n",
       "1    5.267598  20.44278  64.62264  ...   0.000000         219.316851   \n",
       "2    5.482922  18.95419  53.94191  ...   0.000000         420.854496   \n",
       "3    4.165093  21.63539  49.06103  ...   7.142857         159.882095   \n",
       "4    4.324902  18.77984  52.38095  ...   0.000000         606.144976   \n",
       "..        ...       ...       ...  ...        ...                ...   \n",
       "298  4.324174  20.98711   8.00000  ...  18.181820         210.801187   \n",
       "299  3.945069  19.85830  53.77358  ...   0.000000         157.428494   \n",
       "300  3.845481  22.70884  29.89247  ...   6.666667         307.938495   \n",
       "301  3.970984  24.88647  15.14286  ...  13.636360         182.750500   \n",
       "302  6.913397  20.03252  23.52941  ...   0.000000         133.218193   \n",
       "\n",
       "     PERMINTE_AVSAL  AVYRSEXP_AVSAL  PERSPEN_PTRATIO  PERSPEN_PCTAF  \\\n",
       "0         941.68811        869.9948         96.50656      253.52242   \n",
       "1         811.41756        957.0166        107.68435      340.40609   \n",
       "2        1746.49488        884.0537        103.92435      295.75929   \n",
       "3         648.15671        839.3923         90.11341      204.34375   \n",
       "4        2752.85075        878.1943         81.22097      226.54248   \n",
       "..              ...             ...              ...            ...   \n",
       "298       839.99243        701.7823         90.75192       34.59339   \n",
       "299       645.68184        571.7743         78.34236      212.14048   \n",
       "300      1150.03656        774.9165         87.32641      114.95093   \n",
       "301       680.78991       1022.1049         98.82377       60.13205   \n",
       "302       512.59506       1101.4007        138.49276      162.66815   \n",
       "\n",
       "     PTRATIO_PCTAF  PERMINTE_AVYRSEXP_AVSAL  PERSPEN_PTRATIO_PCTAF  const  \n",
       "0        1238.1955               13848.8985              5504.0352    1.0  \n",
       "1        1321.0664               13050.2233              6958.8468    1.0  \n",
       "2        1022.4252               25491.1232              5605.8777    1.0  \n",
       "3        1061.4545                9326.5797              4421.0568    1.0  \n",
       "4         983.7059               38280.2616              4254.4314    1.0  \n",
       "..             ...                      ...                    ...    ...  \n",
       "298       167.8969               11147.4471               726.0153    1.0  \n",
       "299      1067.8519                7623.6559              4212.7494    1.0  \n",
       "300       678.8233               16565.9086              2610.4022    1.0  \n",
       "301       376.8523               11276.7402              1496.4746    1.0  \n",
       "302       471.3534                8672.4471              3258.6530    1.0  \n",
       "\n",
       "[303 rows x 21 columns]"
      ]
     },
     "execution_count": 17,
     "metadata": {},
     "output_type": "execute_result"
    }
   ],
   "source": [
    "data.exog"
   ]
  },
  {
   "cell_type": "code",
   "execution_count": 18,
   "metadata": {},
   "outputs": [],
   "source": [
    "#La variable dependiente es N por 2 (Éxito: NABOVE, Fracaso: NBELOW):"
   ]
  },
  {
   "cell_type": "code",
   "execution_count": 19,
   "metadata": {},
   "outputs": [
    {
     "data": {
      "text/html": [
       "<div>\n",
       "<style scoped>\n",
       "    .dataframe tbody tr th:only-of-type {\n",
       "        vertical-align: middle;\n",
       "    }\n",
       "\n",
       "    .dataframe tbody tr th {\n",
       "        vertical-align: top;\n",
       "    }\n",
       "\n",
       "    .dataframe thead th {\n",
       "        text-align: right;\n",
       "    }\n",
       "</style>\n",
       "<table border=\"1\" class=\"dataframe\">\n",
       "  <thead>\n",
       "    <tr style=\"text-align: right;\">\n",
       "      <th></th>\n",
       "      <th>NABOVE</th>\n",
       "      <th>NBELOW</th>\n",
       "    </tr>\n",
       "  </thead>\n",
       "  <tbody>\n",
       "    <tr>\n",
       "      <th>0</th>\n",
       "      <td>452.0</td>\n",
       "      <td>355.0</td>\n",
       "    </tr>\n",
       "    <tr>\n",
       "      <th>1</th>\n",
       "      <td>144.0</td>\n",
       "      <td>40.0</td>\n",
       "    </tr>\n",
       "    <tr>\n",
       "      <th>2</th>\n",
       "      <td>337.0</td>\n",
       "      <td>234.0</td>\n",
       "    </tr>\n",
       "    <tr>\n",
       "      <th>3</th>\n",
       "      <td>395.0</td>\n",
       "      <td>178.0</td>\n",
       "    </tr>\n",
       "    <tr>\n",
       "      <th>4</th>\n",
       "      <td>8.0</td>\n",
       "      <td>57.0</td>\n",
       "    </tr>\n",
       "    <tr>\n",
       "      <th>...</th>\n",
       "      <td>...</td>\n",
       "      <td>...</td>\n",
       "    </tr>\n",
       "    <tr>\n",
       "      <th>298</th>\n",
       "      <td>96.0</td>\n",
       "      <td>246.0</td>\n",
       "    </tr>\n",
       "    <tr>\n",
       "      <th>299</th>\n",
       "      <td>37.0</td>\n",
       "      <td>117.0</td>\n",
       "    </tr>\n",
       "    <tr>\n",
       "      <th>300</th>\n",
       "      <td>208.0</td>\n",
       "      <td>387.0</td>\n",
       "    </tr>\n",
       "    <tr>\n",
       "      <th>301</th>\n",
       "      <td>199.0</td>\n",
       "      <td>510.0</td>\n",
       "    </tr>\n",
       "    <tr>\n",
       "      <th>302</th>\n",
       "      <td>72.0</td>\n",
       "      <td>84.0</td>\n",
       "    </tr>\n",
       "  </tbody>\n",
       "</table>\n",
       "<p>303 rows × 2 columns</p>\n",
       "</div>"
      ],
      "text/plain": [
       "     NABOVE  NBELOW\n",
       "0     452.0   355.0\n",
       "1     144.0    40.0\n",
       "2     337.0   234.0\n",
       "3     395.0   178.0\n",
       "4       8.0    57.0\n",
       "..      ...     ...\n",
       "298    96.0   246.0\n",
       "299    37.0   117.0\n",
       "300   208.0   387.0\n",
       "301   199.0   510.0\n",
       "302    72.0    84.0\n",
       "\n",
       "[303 rows x 2 columns]"
      ]
     },
     "execution_count": 19,
     "metadata": {},
     "output_type": "execute_result"
    }
   ],
   "source": [
    "data.endog"
   ]
  },
  {
   "cell_type": "markdown",
   "metadata": {},
   "source": [
    "#### <span style=\"color:#4CC9F0\">Ajuste del modelo</span> "
   ]
  },
  {
   "cell_type": "code",
   "execution_count": 20,
   "metadata": {},
   "outputs": [
    {
     "name": "stdout",
     "output_type": "stream",
     "text": [
      "                  Generalized Linear Model Regression Results                   \n",
      "================================================================================\n",
      "Dep. Variable:     ['NABOVE', 'NBELOW']   No. Observations:                  303\n",
      "Model:                              GLM   Df Residuals:                      282\n",
      "Model Family:                  Binomial   Df Model:                           20\n",
      "Link Function:                    Logit   Scale:                          1.0000\n",
      "Method:                            IRLS   Log-Likelihood:                -2998.6\n",
      "Date:                  Sat, 02 Sep 2023   Deviance:                       4078.8\n",
      "Time:                          07:46:14   Pearson chi2:                 4.05e+03\n",
      "No. Iterations:                       5   Pseudo R-squ. (CS):              1.000\n",
      "Covariance Type:              nonrobust                                         \n",
      "===========================================================================================\n",
      "                              coef    std err          z      P>|z|      [0.025      0.975]\n",
      "-------------------------------------------------------------------------------------------\n",
      "LOWINC                     -0.0168      0.000    -38.749      0.000      -0.018      -0.016\n",
      "PERASIAN                    0.0099      0.001     16.505      0.000       0.009       0.011\n",
      "PERBLACK                   -0.0187      0.001    -25.182      0.000      -0.020      -0.017\n",
      "PERHISP                    -0.0142      0.000    -32.818      0.000      -0.015      -0.013\n",
      "PERMINTE                    0.2545      0.030      8.498      0.000       0.196       0.313\n",
      "AVYRSEXP                    0.2407      0.057      4.212      0.000       0.129       0.353\n",
      "AVSALK                      0.0804      0.014      5.775      0.000       0.053       0.108\n",
      "PERSPENK                   -1.9522      0.317     -6.162      0.000      -2.573      -1.331\n",
      "PTRATIO                    -0.3341      0.061     -5.453      0.000      -0.454      -0.214\n",
      "PCTAF                      -0.1690      0.033     -5.169      0.000      -0.233      -0.105\n",
      "PCTCHRT                     0.0049      0.001      3.921      0.000       0.002       0.007\n",
      "PCTYRRND                   -0.0036      0.000    -15.878      0.000      -0.004      -0.003\n",
      "PERMINTE_AVYRSEXP          -0.0141      0.002     -7.391      0.000      -0.018      -0.010\n",
      "PERMINTE_AVSAL             -0.0040      0.000     -8.450      0.000      -0.005      -0.003\n",
      "AVYRSEXP_AVSAL             -0.0039      0.001     -4.059      0.000      -0.006      -0.002\n",
      "PERSPEN_PTRATIO             0.0917      0.015      6.321      0.000       0.063       0.120\n",
      "PERSPEN_PCTAF               0.0490      0.007      6.574      0.000       0.034       0.064\n",
      "PTRATIO_PCTAF               0.0080      0.001      5.362      0.000       0.005       0.011\n",
      "PERMINTE_AVYRSEXP_AVSAL     0.0002   2.99e-05      7.428      0.000       0.000       0.000\n",
      "PERSPEN_PTRATIO_PCTAF      -0.0022      0.000     -6.445      0.000      -0.003      -0.002\n",
      "const                       2.9589      1.547      1.913      0.056      -0.073       5.990\n",
      "===========================================================================================\n"
     ]
    }
   ],
   "source": [
    "glm_binom = sm.GLM(data.endog, data.exog, family=sm.families.Binomial())\n",
    "res = glm_binom.fit()\n",
    "print(res.summary())"
   ]
  },
  {
   "cell_type": "markdown",
   "metadata": {},
   "source": [
    "#### <span style=\"color:#4CC9F0\">Cantidades de interés</span>"
   ]
  },
  {
   "cell_type": "code",
   "execution_count": 21,
   "metadata": {},
   "outputs": [
    {
     "name": "stdout",
     "output_type": "stream",
     "text": [
      "Total number of trials: 108418.0\n",
      "Parameters:  LOWINC                    -0.016815\n",
      "PERASIAN                   0.009925\n",
      "PERBLACK                  -0.018724\n",
      "PERHISP                   -0.014239\n",
      "PERMINTE                   0.254487\n",
      "AVYRSEXP                   0.240694\n",
      "AVSALK                     0.080409\n",
      "PERSPENK                  -1.952161\n",
      "PTRATIO                   -0.334086\n",
      "PCTAF                     -0.169022\n",
      "PCTCHRT                    0.004917\n",
      "PCTYRRND                  -0.003580\n",
      "PERMINTE_AVYRSEXP         -0.014077\n",
      "PERMINTE_AVSAL            -0.004005\n",
      "AVYRSEXP_AVSAL            -0.003906\n",
      "PERSPEN_PTRATIO            0.091714\n",
      "PERSPEN_PCTAF              0.048990\n",
      "PTRATIO_PCTAF              0.008041\n",
      "PERMINTE_AVYRSEXP_AVSAL    0.000222\n",
      "PERSPEN_PTRATIO_PCTAF     -0.002249\n",
      "const                      2.958878\n",
      "dtype: float64\n",
      "T-values:  LOWINC                    -38.749083\n",
      "PERASIAN                   16.504736\n",
      "PERBLACK                  -25.182189\n",
      "PERHISP                   -32.817913\n",
      "PERMINTE                    8.498271\n",
      "AVYRSEXP                    4.212479\n",
      "AVSALK                      5.774998\n",
      "PERSPENK                   -6.161911\n",
      "PTRATIO                    -5.453217\n",
      "PCTAF                      -5.168654\n",
      "PCTCHRT                     3.921200\n",
      "PCTYRRND                  -15.878260\n",
      "PERMINTE_AVYRSEXP          -7.390931\n",
      "PERMINTE_AVSAL             -8.449639\n",
      "AVYRSEXP_AVSAL             -4.059162\n",
      "PERSPEN_PTRATIO             6.321099\n",
      "PERSPEN_PCTAF               6.574347\n",
      "PTRATIO_PCTAF               5.362290\n",
      "PERMINTE_AVYRSEXP_AVSAL     7.428064\n",
      "PERSPEN_PTRATIO_PCTAF      -6.445137\n",
      "const                       1.913012\n",
      "dtype: float64\n"
     ]
    }
   ],
   "source": [
    "print('Total number of trials:',  data.endog.iloc[:, 0].sum())\n",
    "print('Parameters: ', res.params)\n",
    "print('T-values: ', res.tvalues)"
   ]
  },
  {
   "cell_type": "markdown",
   "metadata": {},
   "source": [
    "#### <span style=\"color:#4CC9F0\">Gráfico curva ajustada</span>"
   ]
  },
  {
   "cell_type": "code",
   "execution_count": 22,
   "metadata": {},
   "outputs": [],
   "source": [
    "nobs = res.nobs\n",
    "y = data.endog.iloc[:,0]/data.endog.sum(1)\n",
    "yhat = res.mu"
   ]
  },
  {
   "cell_type": "code",
   "execution_count": 23,
   "metadata": {},
   "outputs": [
    {
     "data": {
      "text/html": [
       "<div>\n",
       "<style scoped>\n",
       "    .dataframe tbody tr th:only-of-type {\n",
       "        vertical-align: middle;\n",
       "    }\n",
       "\n",
       "    .dataframe tbody tr th {\n",
       "        vertical-align: top;\n",
       "    }\n",
       "\n",
       "    .dataframe thead th {\n",
       "        text-align: right;\n",
       "    }\n",
       "</style>\n",
       "<table border=\"1\" class=\"dataframe\">\n",
       "  <thead>\n",
       "    <tr style=\"text-align: right;\">\n",
       "      <th></th>\n",
       "      <th>y</th>\n",
       "      <th>yhat</th>\n",
       "      <th>indice</th>\n",
       "    </tr>\n",
       "  </thead>\n",
       "  <tbody>\n",
       "    <tr>\n",
       "      <th>287</th>\n",
       "      <td>0.171642</td>\n",
       "      <td>0.097120</td>\n",
       "      <td>0</td>\n",
       "    </tr>\n",
       "    <tr>\n",
       "      <th>42</th>\n",
       "      <td>0.093750</td>\n",
       "      <td>0.117765</td>\n",
       "      <td>1</td>\n",
       "    </tr>\n",
       "    <tr>\n",
       "      <th>103</th>\n",
       "      <td>0.199820</td>\n",
       "      <td>0.134021</td>\n",
       "      <td>2</td>\n",
       "    </tr>\n",
       "    <tr>\n",
       "      <th>282</th>\n",
       "      <td>0.351351</td>\n",
       "      <td>0.141042</td>\n",
       "      <td>3</td>\n",
       "    </tr>\n",
       "    <tr>\n",
       "      <th>77</th>\n",
       "      <td>0.086957</td>\n",
       "      <td>0.148461</td>\n",
       "      <td>4</td>\n",
       "    </tr>\n",
       "    <tr>\n",
       "      <th>...</th>\n",
       "      <td>...</td>\n",
       "      <td>...</td>\n",
       "      <td>...</td>\n",
       "    </tr>\n",
       "    <tr>\n",
       "      <th>90</th>\n",
       "      <td>0.829736</td>\n",
       "      <td>0.834301</td>\n",
       "      <td>298</td>\n",
       "    </tr>\n",
       "    <tr>\n",
       "      <th>116</th>\n",
       "      <td>0.928302</td>\n",
       "      <td>0.858354</td>\n",
       "      <td>299</td>\n",
       "    </tr>\n",
       "    <tr>\n",
       "      <th>148</th>\n",
       "      <td>0.600000</td>\n",
       "      <td>0.858500</td>\n",
       "      <td>300</td>\n",
       "    </tr>\n",
       "    <tr>\n",
       "      <th>252</th>\n",
       "      <td>0.889256</td>\n",
       "      <td>0.863858</td>\n",
       "      <td>301</td>\n",
       "    </tr>\n",
       "    <tr>\n",
       "      <th>11</th>\n",
       "      <td>0.889362</td>\n",
       "      <td>0.866315</td>\n",
       "      <td>302</td>\n",
       "    </tr>\n",
       "  </tbody>\n",
       "</table>\n",
       "<p>303 rows × 3 columns</p>\n",
       "</div>"
      ],
      "text/plain": [
       "            y      yhat  indice\n",
       "287  0.171642  0.097120       0\n",
       "42   0.093750  0.117765       1\n",
       "103  0.199820  0.134021       2\n",
       "282  0.351351  0.141042       3\n",
       "77   0.086957  0.148461       4\n",
       "..        ...       ...     ...\n",
       "90   0.829736  0.834301     298\n",
       "116  0.928302  0.858354     299\n",
       "148  0.600000  0.858500     300\n",
       "252  0.889256  0.863858     301\n",
       "11   0.889362  0.866315     302\n",
       "\n",
       "[303 rows x 3 columns]"
      ]
     },
     "execution_count": 23,
     "metadata": {},
     "output_type": "execute_result"
    }
   ],
   "source": [
    "fit_data = pd.DataFrame({'y':y, 'yhat':yhat})\n",
    "fit_data = fit_data.sort_values(by= 'yhat')\n",
    "fit_data['indice'] = np.array(np.arange(fit_data.shape[0]))\n",
    "fit_data"
   ]
  },
  {
   "cell_type": "code",
   "execution_count": 24,
   "metadata": {},
   "outputs": [
    {
     "data": {
      "image/png": "[encoded data removed]",
      "text/plain": [
       "<Figure size 1152x576 with 1 Axes>"
      ]
     },
     "metadata": {
      "needs_background": "light"
     },
     "output_type": "display_data"
    }
   ],
   "source": [
    "\n",
    "plt.scatter(fit_data['indice'], fit_data['yhat'], label='predichos')\n",
    "plt.scatter(fit_data['indice'], fit_data['y'], label='observados')\n",
    "plt.legend()\n",
    "plt.title('Gráfico de valores observados y predichos')\n",
    "plt.show()"
   ]
  },
  {
   "cell_type": "markdown",
   "metadata": {},
   "source": [
    "#### <span style=\"color:#4CC9F0\">Gráfico de valores ajustados v.s. valores observados</span>"
   ]
  },
  {
   "cell_type": "code",
   "execution_count": 25,
   "metadata": {},
   "outputs": [],
   "source": [
    "from statsmodels.graphics.api import abline_plot"
   ]
  },
  {
   "cell_type": "code",
   "execution_count": 26,
   "metadata": {},
   "outputs": [
    {
     "data": {
      "image/png": "[encoded data removed]",
      "text/plain": [
       "<Figure size 1152x576 with 1 Axes>"
      ]
     },
     "metadata": {
      "needs_background": "light"
     },
     "output_type": "display_data"
    }
   ],
   "source": [
    "fig, ax = plt.subplots()\n",
    "ax.scatter(yhat, y)\n",
    "line_fit = sm.OLS(y, sm.add_constant(yhat, prepend=True)).fit()\n",
    "abline_plot(model_results=line_fit, ax=ax)\n",
    "\n",
    "\n",
    "ax.set_title('Gráfico de ajuste del modelo')\n",
    "ax.set_ylabel('Valores observados')\n",
    "ax.set_xlabel('Valores ajustados');"
   ]
  },
  {
   "cell_type": "markdown",
   "metadata": {},
   "source": [
    "#### <span style=\"color:#4CC9F0\">Gráfico de Residuales de Person</span>"
   ]
  },
  {
   "cell_type": "code",
   "execution_count": 27,
   "metadata": {},
   "outputs": [
    {
     "data": {
      "image/png": "[encoded data removed]",
      "text/plain": [
       "<Figure size 1152x576 with 1 Axes>"
      ]
     },
     "metadata": {
      "needs_background": "light"
     },
     "output_type": "display_data"
    }
   ],
   "source": [
    "fig, ax = plt.subplots()\n",
    "\n",
    "ax.scatter(yhat, res.resid_pearson)\n",
    "ax.hlines(0, 0, 1)\n",
    "ax.set_xlim(0, 1)\n",
    "ax.set_title('Gráfico de Dependencia de Residuales')\n",
    "ax.set_ylabel(' Residuales de Pearson')\n",
    "ax.set_xlabel('Valores Ajustados')\n",
    "plt.show()"
   ]
  },
  {
   "cell_type": "markdown",
   "metadata": {},
   "source": [
    "#### <span style=\"color:#4CC9F0\">Histograma de residuales deviance estandarizados</span>"
   ]
  },
  {
   "cell_type": "code",
   "execution_count": 28,
   "metadata": {},
   "outputs": [
    {
     "data": {
      "image/png": "[encoded data removed]",
      "text/plain": [
       "<Figure size 1152x576 with 1 Axes>"
      ]
     },
     "metadata": {
      "needs_background": "light"
     },
     "output_type": "display_data"
    }
   ],
   "source": [
    "from scipy import stats\n",
    "\n",
    "fig, ax = plt.subplots()\n",
    "\n",
    "resid = res.resid_deviance.copy()\n",
    "resid_std = stats.zscore(resid)\n",
    "ax.hist(resid_std, bins=25)\n",
    "ax.set_title('Histograma de Residuales Deviance Estandarizados');"
   ]
  },
  {
   "cell_type": "markdown",
   "metadata": {},
   "source": [
    "#### <span style=\"color:#4CC9F0\">qq plot de residuales deviance</span>"
   ]
  },
  {
   "cell_type": "code",
   "execution_count": 29,
   "metadata": {},
   "outputs": [
    {
     "data": {
      "image/png": "[encoded data removed]",
      "text/plain": [
       "<Figure size 1152x576 with 1 Axes>"
      ]
     },
     "execution_count": 29,
     "metadata": {},
     "output_type": "execute_result"
    },
    {
     "data": {
      "image/png": "[encoded data removed]",
      "text/plain": [
       "<Figure size 1152x576 with 1 Axes>"
      ]
     },
     "metadata": {
      "needs_background": "light"
     },
     "output_type": "display_data"
    }
   ],
   "source": [
    "from statsmodels import graphics\n",
    "graphics.gofplots.qqplot(resid, line='r')"
   ]
  },
  {
   "cell_type": "markdown",
   "metadata": {},
   "source": [
    "### <span style=\"color:#4CC9F0\">Problema de la dosis</span>"
   ]
  },
  {
   "cell_type": "markdown",
   "metadata": {},
   "source": [
    "Problema de la dosis. Tomado de \n",
    "[Dobson y Baernett, An introduction oto Generalizer Linear Model](http://library.lol/main/472B57FA461867F6CFB4334BFED60010). Los datos corresponde al número de escarabajos que mueren después de cinco hora de estar expuestos a un veneno en diferentes concentraciones."
   ]
  },
  {
   "cell_type": "code",
   "execution_count": 30,
   "metadata": {},
   "outputs": [
    {
     "data": {
      "text/html": [
       "<div>\n",
       "<style scoped>\n",
       "    .dataframe tbody tr th:only-of-type {\n",
       "        vertical-align: middle;\n",
       "    }\n",
       "\n",
       "    .dataframe tbody tr th {\n",
       "        vertical-align: top;\n",
       "    }\n",
       "\n",
       "    .dataframe thead th {\n",
       "        text-align: right;\n",
       "    }\n",
       "</style>\n",
       "<table border=\"1\" class=\"dataframe\">\n",
       "  <thead>\n",
       "    <tr style=\"text-align: right;\">\n",
       "      <th></th>\n",
       "      <th>Dosis</th>\n",
       "      <th>Expuestos</th>\n",
       "      <th>Muertos</th>\n",
       "      <th>Proporción</th>\n",
       "      <th>Vivos</th>\n",
       "    </tr>\n",
       "  </thead>\n",
       "  <tbody>\n",
       "    <tr>\n",
       "      <th>0</th>\n",
       "      <td>1.6907</td>\n",
       "      <td>59</td>\n",
       "      <td>6</td>\n",
       "      <td>0.101695</td>\n",
       "      <td>53</td>\n",
       "    </tr>\n",
       "    <tr>\n",
       "      <th>1</th>\n",
       "      <td>1.7242</td>\n",
       "      <td>60</td>\n",
       "      <td>13</td>\n",
       "      <td>0.216667</td>\n",
       "      <td>47</td>\n",
       "    </tr>\n",
       "    <tr>\n",
       "      <th>2</th>\n",
       "      <td>1.7552</td>\n",
       "      <td>62</td>\n",
       "      <td>18</td>\n",
       "      <td>0.290323</td>\n",
       "      <td>44</td>\n",
       "    </tr>\n",
       "    <tr>\n",
       "      <th>3</th>\n",
       "      <td>1.7842</td>\n",
       "      <td>56</td>\n",
       "      <td>28</td>\n",
       "      <td>0.500000</td>\n",
       "      <td>28</td>\n",
       "    </tr>\n",
       "    <tr>\n",
       "      <th>4</th>\n",
       "      <td>1.8113</td>\n",
       "      <td>63</td>\n",
       "      <td>52</td>\n",
       "      <td>0.825397</td>\n",
       "      <td>11</td>\n",
       "    </tr>\n",
       "    <tr>\n",
       "      <th>5</th>\n",
       "      <td>1.8369</td>\n",
       "      <td>59</td>\n",
       "      <td>53</td>\n",
       "      <td>0.898305</td>\n",
       "      <td>6</td>\n",
       "    </tr>\n",
       "    <tr>\n",
       "      <th>6</th>\n",
       "      <td>1.8610</td>\n",
       "      <td>62</td>\n",
       "      <td>61</td>\n",
       "      <td>0.983871</td>\n",
       "      <td>1</td>\n",
       "    </tr>\n",
       "    <tr>\n",
       "      <th>7</th>\n",
       "      <td>1.8839</td>\n",
       "      <td>60</td>\n",
       "      <td>60</td>\n",
       "      <td>1.000000</td>\n",
       "      <td>0</td>\n",
       "    </tr>\n",
       "  </tbody>\n",
       "</table>\n",
       "</div>"
      ],
      "text/plain": [
       "    Dosis  Expuestos  Muertos  Proporción  Vivos\n",
       "0  1.6907         59        6    0.101695     53\n",
       "1  1.7242         60       13    0.216667     47\n",
       "2  1.7552         62       18    0.290323     44\n",
       "3  1.7842         56       28    0.500000     28\n",
       "4  1.8113         63       52    0.825397     11\n",
       "5  1.8369         59       53    0.898305      6\n",
       "6  1.8610         62       61    0.983871      1\n",
       "7  1.8839         60       60    1.000000      0"
      ]
     },
     "execution_count": 30,
     "metadata": {},
     "output_type": "execute_result"
    }
   ],
   "source": [
    "import pandas as pd\n",
    "\n",
    "escarabajos = {'Dosis':[1.6907, 1.7242, 1.7552, 1.7842, 1.8113, 1.8369, 1.8610, 1.8839],\n",
    "             'Expuestos': [59, 60, 62, 56, 63, 59, 62, 60],\n",
    "             'Muertos':[6, 13, 18, 28, 52, 53, 61, 60],\n",
    "             'Proporción': [6.0/59, 13./60, 18./62, 28./56, 52./63, 53./59 ,61./62, 60./60]}\n",
    "escarabajos = pd.DataFrame(escarabajos)\n",
    "escarabajos['Vivos'] = escarabajos.Expuestos - escarabajos.Muertos \n",
    "escarabajos"
   ]
  },
  {
   "cell_type": "markdown",
   "metadata": {},
   "source": [
    "#### <span style=\"color:#4CC9F0\">Gráfica dosis v.s. proporción</span>"
   ]
  },
  {
   "cell_type": "code",
   "execution_count": 31,
   "metadata": {},
   "outputs": [
    {
     "data": {
      "image/png": "[encoded data removed]",
      "text/plain": [
       "<Figure size 1152x576 with 1 Axes>"
      ]
     },
     "metadata": {
      "needs_background": "light"
     },
     "output_type": "display_data"
    }
   ],
   "source": [
    "import seaborn as sns\n",
    "sns.scatterplot(data=escarabajos, x='Dosis', y='Proporción')\n",
    "plt.show()"
   ]
  },
  {
   "cell_type": "markdown",
   "metadata": {},
   "source": [
    "Observe la forma de S de los datos. Además se tiene que esta es un relación entre números reales y números entre 0 y 1. Funciones candidatas para modelar este tipo de datos son las funciones de distribución."
   ]
  },
  {
   "cell_type": "markdown",
   "metadata": {},
   "source": [
    "#### <span style=\"color:#4CC9F0\">Modelación con GLM de Statsmodels</span>"
   ]
  },
  {
   "cell_type": "code",
   "execution_count": 32,
   "metadata": {},
   "outputs": [],
   "source": [
    "endog = escarabajos[['Muertos', 'Vivos']]\n",
    "exog =  escarabajos['Dosis']\n",
    "exog =  sm.add_constant(exog, prepend=False)"
   ]
  },
  {
   "cell_type": "code",
   "execution_count": 33,
   "metadata": {},
   "outputs": [
    {
     "data": {
      "text/html": [
       "<div>\n",
       "<style scoped>\n",
       "    .dataframe tbody tr th:only-of-type {\n",
       "        vertical-align: middle;\n",
       "    }\n",
       "\n",
       "    .dataframe tbody tr th {\n",
       "        vertical-align: top;\n",
       "    }\n",
       "\n",
       "    .dataframe thead th {\n",
       "        text-align: right;\n",
       "    }\n",
       "</style>\n",
       "<table border=\"1\" class=\"dataframe\">\n",
       "  <thead>\n",
       "    <tr style=\"text-align: right;\">\n",
       "      <th></th>\n",
       "      <th>Dosis</th>\n",
       "      <th>const</th>\n",
       "    </tr>\n",
       "  </thead>\n",
       "  <tbody>\n",
       "    <tr>\n",
       "      <th>0</th>\n",
       "      <td>1.6907</td>\n",
       "      <td>1.0</td>\n",
       "    </tr>\n",
       "    <tr>\n",
       "      <th>1</th>\n",
       "      <td>1.7242</td>\n",
       "      <td>1.0</td>\n",
       "    </tr>\n",
       "    <tr>\n",
       "      <th>2</th>\n",
       "      <td>1.7552</td>\n",
       "      <td>1.0</td>\n",
       "    </tr>\n",
       "    <tr>\n",
       "      <th>3</th>\n",
       "      <td>1.7842</td>\n",
       "      <td>1.0</td>\n",
       "    </tr>\n",
       "    <tr>\n",
       "      <th>4</th>\n",
       "      <td>1.8113</td>\n",
       "      <td>1.0</td>\n",
       "    </tr>\n",
       "    <tr>\n",
       "      <th>5</th>\n",
       "      <td>1.8369</td>\n",
       "      <td>1.0</td>\n",
       "    </tr>\n",
       "    <tr>\n",
       "      <th>6</th>\n",
       "      <td>1.8610</td>\n",
       "      <td>1.0</td>\n",
       "    </tr>\n",
       "    <tr>\n",
       "      <th>7</th>\n",
       "      <td>1.8839</td>\n",
       "      <td>1.0</td>\n",
       "    </tr>\n",
       "  </tbody>\n",
       "</table>\n",
       "</div>"
      ],
      "text/plain": [
       "    Dosis  const\n",
       "0  1.6907    1.0\n",
       "1  1.7242    1.0\n",
       "2  1.7552    1.0\n",
       "3  1.7842    1.0\n",
       "4  1.8113    1.0\n",
       "5  1.8369    1.0\n",
       "6  1.8610    1.0\n",
       "7  1.8839    1.0"
      ]
     },
     "execution_count": 33,
     "metadata": {},
     "output_type": "execute_result"
    }
   ],
   "source": [
    "exog"
   ]
  },
  {
   "cell_type": "code",
   "execution_count": 34,
   "metadata": {},
   "outputs": [
    {
     "data": {
      "text/html": [
       "<div>\n",
       "<style scoped>\n",
       "    .dataframe tbody tr th:only-of-type {\n",
       "        vertical-align: middle;\n",
       "    }\n",
       "\n",
       "    .dataframe tbody tr th {\n",
       "        vertical-align: top;\n",
       "    }\n",
       "\n",
       "    .dataframe thead th {\n",
       "        text-align: right;\n",
       "    }\n",
       "</style>\n",
       "<table border=\"1\" class=\"dataframe\">\n",
       "  <thead>\n",
       "    <tr style=\"text-align: right;\">\n",
       "      <th></th>\n",
       "      <th>Muertos</th>\n",
       "      <th>Vivos</th>\n",
       "    </tr>\n",
       "  </thead>\n",
       "  <tbody>\n",
       "    <tr>\n",
       "      <th>0</th>\n",
       "      <td>6</td>\n",
       "      <td>53</td>\n",
       "    </tr>\n",
       "    <tr>\n",
       "      <th>1</th>\n",
       "      <td>13</td>\n",
       "      <td>47</td>\n",
       "    </tr>\n",
       "    <tr>\n",
       "      <th>2</th>\n",
       "      <td>18</td>\n",
       "      <td>44</td>\n",
       "    </tr>\n",
       "    <tr>\n",
       "      <th>3</th>\n",
       "      <td>28</td>\n",
       "      <td>28</td>\n",
       "    </tr>\n",
       "    <tr>\n",
       "      <th>4</th>\n",
       "      <td>52</td>\n",
       "      <td>11</td>\n",
       "    </tr>\n",
       "    <tr>\n",
       "      <th>5</th>\n",
       "      <td>53</td>\n",
       "      <td>6</td>\n",
       "    </tr>\n",
       "    <tr>\n",
       "      <th>6</th>\n",
       "      <td>61</td>\n",
       "      <td>1</td>\n",
       "    </tr>\n",
       "    <tr>\n",
       "      <th>7</th>\n",
       "      <td>60</td>\n",
       "      <td>0</td>\n",
       "    </tr>\n",
       "  </tbody>\n",
       "</table>\n",
       "</div>"
      ],
      "text/plain": [
       "   Muertos  Vivos\n",
       "0        6     53\n",
       "1       13     47\n",
       "2       18     44\n",
       "3       28     28\n",
       "4       52     11\n",
       "5       53      6\n",
       "6       61      1\n",
       "7       60      0"
      ]
     },
     "execution_count": 34,
     "metadata": {},
     "output_type": "execute_result"
    }
   ],
   "source": [
    "endog"
   ]
  },
  {
   "cell_type": "code",
   "execution_count": 35,
   "metadata": {},
   "outputs": [
    {
     "name": "stdout",
     "output_type": "stream",
     "text": [
      "                  Generalized Linear Model Regression Results                   \n",
      "================================================================================\n",
      "Dep. Variable:     ['Muertos', 'Vivos']   No. Observations:                    8\n",
      "Model:                              GLM   Df Residuals:                        6\n",
      "Model Family:                  Binomial   Df Model:                            1\n",
      "Link Function:                    Logit   Scale:                          1.0000\n",
      "Method:                            IRLS   Log-Likelihood:                -18.715\n",
      "Date:                  Sat, 02 Sep 2023   Deviance:                       11.232\n",
      "Time:                          07:46:15   Pearson chi2:                     10.0\n",
      "No. Iterations:                       6   Pseudo R-squ. (CS):              1.000\n",
      "Covariance Type:              nonrobust                                         \n",
      "==============================================================================\n",
      "                 coef    std err          z      P>|z|      [0.025      0.975]\n",
      "------------------------------------------------------------------------------\n",
      "Dosis         34.2703      2.912     11.768      0.000      28.563      39.978\n",
      "const        -60.7175      5.181    -11.720      0.000     -70.871     -50.563\n",
      "==============================================================================\n"
     ]
    }
   ],
   "source": [
    "glm_binom = sm.GLM(endog, exog, family=sm.families.Binomial())\n",
    "res = glm_binom.fit()\n",
    "print(res.summary())"
   ]
  },
  {
   "cell_type": "markdown",
   "metadata": {},
   "source": [
    "#### <span style=\"color:#4CC9F0\">Curva ajustada</span>"
   ]
  },
  {
   "cell_type": "code",
   "execution_count": 36,
   "metadata": {},
   "outputs": [],
   "source": [
    "nobs = res.nobs\n",
    "y = endog.iloc[:,0]/endog.sum(1)\n",
    "yhat = res.mu"
   ]
  },
  {
   "cell_type": "code",
   "execution_count": 37,
   "metadata": {},
   "outputs": [
    {
     "data": {
      "text/html": [
       "<div>\n",
       "<style scoped>\n",
       "    .dataframe tbody tr th:only-of-type {\n",
       "        vertical-align: middle;\n",
       "    }\n",
       "\n",
       "    .dataframe tbody tr th {\n",
       "        vertical-align: top;\n",
       "    }\n",
       "\n",
       "    .dataframe thead th {\n",
       "        text-align: right;\n",
       "    }\n",
       "</style>\n",
       "<table border=\"1\" class=\"dataframe\">\n",
       "  <thead>\n",
       "    <tr style=\"text-align: right;\">\n",
       "      <th></th>\n",
       "      <th>y</th>\n",
       "      <th>yhat</th>\n",
       "      <th>indice</th>\n",
       "    </tr>\n",
       "  </thead>\n",
       "  <tbody>\n",
       "    <tr>\n",
       "      <th>0</th>\n",
       "      <td>0.101695</td>\n",
       "      <td>0.058601</td>\n",
       "      <td>0</td>\n",
       "    </tr>\n",
       "    <tr>\n",
       "      <th>1</th>\n",
       "      <td>0.216667</td>\n",
       "      <td>0.164028</td>\n",
       "      <td>1</td>\n",
       "    </tr>\n",
       "    <tr>\n",
       "      <th>2</th>\n",
       "      <td>0.290323</td>\n",
       "      <td>0.362119</td>\n",
       "      <td>2</td>\n",
       "    </tr>\n",
       "    <tr>\n",
       "      <th>3</th>\n",
       "      <td>0.500000</td>\n",
       "      <td>0.605315</td>\n",
       "      <td>3</td>\n",
       "    </tr>\n",
       "    <tr>\n",
       "      <th>4</th>\n",
       "      <td>0.825397</td>\n",
       "      <td>0.795172</td>\n",
       "      <td>4</td>\n",
       "    </tr>\n",
       "    <tr>\n",
       "      <th>5</th>\n",
       "      <td>0.898305</td>\n",
       "      <td>0.903236</td>\n",
       "      <td>5</td>\n",
       "    </tr>\n",
       "    <tr>\n",
       "      <th>6</th>\n",
       "      <td>0.983871</td>\n",
       "      <td>0.955196</td>\n",
       "      <td>6</td>\n",
       "    </tr>\n",
       "    <tr>\n",
       "      <th>7</th>\n",
       "      <td>1.000000</td>\n",
       "      <td>0.979049</td>\n",
       "      <td>7</td>\n",
       "    </tr>\n",
       "  </tbody>\n",
       "</table>\n",
       "</div>"
      ],
      "text/plain": [
       "          y      yhat  indice\n",
       "0  0.101695  0.058601       0\n",
       "1  0.216667  0.164028       1\n",
       "2  0.290323  0.362119       2\n",
       "3  0.500000  0.605315       3\n",
       "4  0.825397  0.795172       4\n",
       "5  0.898305  0.903236       5\n",
       "6  0.983871  0.955196       6\n",
       "7  1.000000  0.979049       7"
      ]
     },
     "execution_count": 37,
     "metadata": {},
     "output_type": "execute_result"
    }
   ],
   "source": [
    "fit_data = pd.DataFrame({'y':y, 'yhat':yhat})\n",
    "fit_data = fit_data.sort_values(by= 'yhat')\n",
    "fit_data['indice'] = np.array(np.arange(fit_data.shape[0]))\n",
    "fit_data"
   ]
  },
  {
   "cell_type": "code",
   "execution_count": 38,
   "metadata": {},
   "outputs": [
    {
     "data": {
      "image/png": "[encoded data removed]",
      "text/plain": [
       "<Figure size 1152x576 with 1 Axes>"
      ]
     },
     "metadata": {
      "needs_background": "light"
     },
     "output_type": "display_data"
    }
   ],
   "source": [
    "plt.scatter(fit_data['indice'], fit_data['yhat'], label='predichos')\n",
    "plt.plot(fit_data['indice'], fit_data['y'], label='observados', color=\"orange\")\n",
    "plt.legend()\n",
    "plt.title('Gráfico de valores observados y predichos')\n",
    "plt.show()"
   ]
  },
  {
   "cell_type": "markdown",
   "metadata": {},
   "source": [
    "#### <span style=\"color:#4CC9F0\">Curva ajustados v.s. predichos</span>"
   ]
  },
  {
   "cell_type": "code",
   "execution_count": 39,
   "metadata": {},
   "outputs": [
    {
     "data": {
      "image/png": "[encoded data removed]",
      "text/plain": [
       "<Figure size 1152x576 with 1 Axes>"
      ]
     },
     "metadata": {
      "needs_background": "light"
     },
     "output_type": "display_data"
    }
   ],
   "source": [
    "from statsmodels.graphics.api import abline_plot\n",
    "\n",
    "fig, ax = plt.subplots()\n",
    "ax.scatter(yhat, y)\n",
    "line_fit = sm.OLS(y, sm.add_constant(yhat, prepend=True)).fit()\n",
    "abline_plot(model_results=line_fit, ax=ax)\n",
    "\n",
    "\n",
    "ax.set_title('Gráfico de ajuste del modelo')\n",
    "ax.set_ylabel('Valores observados')\n",
    "ax.set_xlabel('Valores ajustados');"
   ]
  },
  {
   "cell_type": "markdown",
   "metadata": {},
   "source": [
    "#### <span style=\"color:#4CC9F0\">Residuales de Pearson</span>"
   ]
  },
  {
   "cell_type": "code",
   "execution_count": 40,
   "metadata": {},
   "outputs": [
    {
     "data": {
      "image/png": "[encoded data removed]",
      "text/plain": [
       "<Figure size 1152x576 with 1 Axes>"
      ]
     },
     "metadata": {
      "needs_background": "light"
     },
     "output_type": "display_data"
    }
   ],
   "source": [
    "fig, ax = plt.subplots()\n",
    "\n",
    "ax.scatter(yhat, res.resid_pearson)\n",
    "ax.hlines(0, 0, 1)\n",
    "ax.set_xlim(0, 1)\n",
    "ax.set_title('Gráfico de Dependencia de Residuales')\n",
    "ax.set_ylabel(' Residuales de Pearson')\n",
    "ax.set_xlabel('Valores Ajustados')\n",
    "plt.show()"
   ]
  },
  {
   "cell_type": "markdown",
   "metadata": {},
   "source": [
    "#### <span style=\"color:#4CC9F0\">Histograma de residuales deviance estandarizados</span>"
   ]
  },
  {
   "cell_type": "code",
   "execution_count": 41,
   "metadata": {},
   "outputs": [
    {
     "data": {
      "image/png": "[encoded data removed]",
      "text/plain": [
       "<Figure size 1152x576 with 1 Axes>"
      ]
     },
     "metadata": {
      "needs_background": "light"
     },
     "output_type": "display_data"
    }
   ],
   "source": [
    "from scipy import stats\n",
    "\n",
    "fig, ax = plt.subplots()\n",
    "\n",
    "resid = res.resid_deviance.copy()\n",
    "resid_std = stats.zscore(resid)\n",
    "ax.hist(resid_std, bins=3)\n",
    "ax.set_title('Histograma de Residuales Deviance Estandarizados');"
   ]
  },
  {
   "cell_type": "markdown",
   "metadata": {},
   "source": [
    "#### <span style=\"color:#4CC9F0\">qq plot de residuales deviance</span>"
   ]
  },
  {
   "cell_type": "code",
   "execution_count": 42,
   "metadata": {},
   "outputs": [
    {
     "data": {
      "image/png": "[encoded data removed]",
      "text/plain": [
       "<Figure size 1152x576 with 1 Axes>"
      ]
     },
     "execution_count": 42,
     "metadata": {},
     "output_type": "execute_result"
    },
    {
     "data": {
      "image/png": "[encoded data removed]",
      "text/plain": [
       "<Figure size 1152x576 with 1 Axes>"
      ]
     },
     "metadata": {
      "needs_background": "light"
     },
     "output_type": "display_data"
    }
   ],
   "source": [
    "from statsmodels import graphics\n",
    "graphics.gofplots.qqplot(resid, line='r')"
   ]
  },
  {
   "cell_type": "markdown",
   "metadata": {},
   "source": [
    "#### <span style=\"color:#4CC9F0\">Dosis Letal"
   ]
  },
  {
   "cell_type": "markdown",
   "metadata": {},
   "source": [
    "La dosis letal se define como la dosis que téoricamente mata al 50% de los expuestos.\n",
    "\n",
    "De la relación\n",
    "\n",
    "$$\n",
    "\\log \\frac{\\pi}{1-\\pi} = intercept +\\beta*dosis\n",
    "$$\n",
    "\n",
    "se obtiene \n",
    "\n",
    "$$\n",
    "\\log \\frac{0.5}{0.5} = 0 =  -60.7175 +34.2703*dosis\n",
    "$$\n",
    "\n",
    "de donde la dosis letal es \n",
    "\n",
    "$$\n",
    "\\text{dosis  letal} = \\frac{60.7175}{34.2703}  = 1.77\n",
    "$$"
   ]
  }
 ],
 "metadata": {
  "kernelspec": {
   "display_name": "Python 3 (ipykernel)",
   "language": "python",
   "name": "python3"
  },
  "language_info": {
   "codemirror_mode": {
    "name": "ipython",
    "version": 3
   },
   "file_extension": ".py",
   "mimetype": "text/x-python",
   "name": "python",
   "nbconvert_exporter": "python",
   "pygments_lexer": "ipython3",
   "version": "3.10.12"
  }
 },
 "nbformat": 4,
 "nbformat_minor": 4
}
