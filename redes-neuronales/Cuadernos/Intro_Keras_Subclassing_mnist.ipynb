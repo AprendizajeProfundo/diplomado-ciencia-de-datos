{
 "cells": [
  {
   "cell_type": "markdown",
   "id": "spiritual-safety",
   "metadata": {},
   "source": [
    "# <span style=\"color:#F72585\"><center>Introducción a subclassing y a la API funcional de Keras</center></span>"
   ]
  },
  {
   "cell_type": "markdown",
   "id": "86449a07",
   "metadata": {},
   "source": [
    "<figure>\n",
    "<center>\n",
    "<img src=\"https://raw.githubusercontent.com/AprendizajeProfundo/Alejandria/main/Redes_Neuronales/Imagenes/Funcional.JPG\" width=\"700\" height=\"400\" align=\"center\" /> \n",
    "</center>   \n",
    "</figure>\n",
    "<center>\n",
    "\n",
    "Fuente: <a href=\"https://commons.wikimedia.org/wiki/File:Functional_group_with_sulfur_compounds_sulfone_sulfonic_acid_sulfonamide_2.JPG\">Bin im Garten</a>, <a href=\"https://creativecommons.org/licenses/by-sa/3.0\">CC BY-SA 3.0</a>, via Wikimedia Commons\n",
    "\n",
    "</center>"
   ]
  },
  {
   "cell_type": "markdown",
   "id": "pediatric-obligation",
   "metadata": {},
   "source": [
    "## <span style=\"color:#4361EE\">Introducción</span>"
   ]
  },
  {
   "cell_type": "markdown",
   "id": "3b03fca6-f9dc-4a5c-8f0d-0dffe8bcdf3e",
   "metadata": {},
   "source": [
    "Est lección es basada en un notebook de Google Colaboratory. Los programas de Python se ejecutan directamente en tu navegador,  una gran manera de aprender y utilizar TensorFlow. Para poder seguir este tutorial, ejecuta este notebook en Google Colab. Basado en [Tensorflow- quick start expertos](https://www.tensorflow.org/tutorials/quickstart/advanced)"
   ]
  },
  {
   "cell_type": "markdown",
   "id": "5424bf2d-33f0-4f6a-a090-9de0ed59d375",
   "metadata": {},
   "source": [
    "## <span style=\"color:#4361EE\">Sobre los datos MNIST</span> "
   ]
  },
  {
   "cell_type": "markdown",
   "id": "c2d0105b-1585-4d66-b9a5-836c2334c595",
   "metadata": {},
   "source": [
    "<figure>\n",
    "<center>\n",
    "<img src=\"https://raw.githubusercontent.com/AprendizajeProfundo/Alejandria/main/Redes_Neuronales/Imagenes/mnist.png\" width=\"700\" height=\"400\" align=\"center\" /> \n",
    "</center>   \n",
    "</figure>\n",
    "<center>\n",
    "\n",
    "Fuente: <a href=\"https://commons.wikimedia.org/wiki/File:MnistExamples.png\">Josef Steppan</a>, <a href=\"https://creativecommons.org/licenses/by-sa/4.0\">CC BY-SA 4.0</a>, via Wikimedia Commons"
   ]
  },
  {
   "cell_type": "markdown",
   "id": "b1ab20ed-bc0e-4f72-8ccb-16c8524e5d83",
   "metadata": {},
   "source": [
    "Tomado de [Wikipedia](https://en.wikipedia.org/wiki/MNIST_database). La base de datos MNIST (Base de datos modificada del Instituto Nacional de Estándares y Tecnología es una gran base de datos de dígitos escritos a mano que se usa comúnmente para entrenar varios sistemas de procesamiento de imágenes. La base de datos también se usa ampliamente para entrenamiento y pruebas en el campo del aprendizaje automático. Fue creado \"volviendo a mezclar\" las muestras de los conjuntos de datos originales del NIST. Los creadores sintieron que, dado que el conjunto de datos de entrenamiento del NIST se tomó de los empleados de la Oficina del Censo de los Estados Unidos, mientras que el conjunto de datos de prueba se tomó de los estudiantes de secundaria estadounidenses, no era adecuado para los experimentos de aprendizaje automático. Además, las imágenes en blanco y negro del NIST se normalizaron para encajar en un cuadro delimitador de 28x28 píxeles y se suavizaron, lo que introdujo niveles de escala de grises.\n",
    "\n",
    "La base de datos del MNIST contiene 60 000 imágenes de entrenamiento y 10 000 imágenes de prueba. La mitad del conjunto de entrenamiento y la mitad del conjunto de prueba se tomaron del conjunto de datos de entrenamiento del NIST, mientras que la otra mitad del conjunto de entrenamiento y la otra mitad del conjunto de prueba se tomaron del conjunto de datos de prueba del NIST. Los creadores originales de la base de datos mantienen una lista de algunos de los métodos probados en ella. En su artículo original, utilizan una máquina de vectores de soporte para obtener una tasa de error del 0,8 %.\n",
    "\n",
    "En nuestro ejemplo, tomaremos los datos de los ejmeplos de keras en `tensorflow.keras.datasets`."
   ]
  },
  {
   "cell_type": "markdown",
   "id": "227e26e1-ce6a-433a-8e37-9eb03f9bb409",
   "metadata": {},
   "source": [
    "## <span style=\"color:#4361EE\">Importa librerías</span> "
   ]
  },
  {
   "cell_type": "code",
   "execution_count": 76,
   "id": "valid-checkout",
   "metadata": {},
   "outputs": [
    {
     "name": "stdout",
     "output_type": "stream",
     "text": [
      "Version de Tensorflow =  2.4.1\n"
     ]
    }
   ],
   "source": [
    "\n",
    "import tensorflow as tf\n",
    "print('Version de Tensorflow = ', tf.__version__)\n",
    "\n",
    "# Objetos de la API de Keras\n",
    "from tensorflow.keras.layers import Dense, Flatten, Conv2D\n",
    "from tensorflow.keras import Model\n",
    "from tensorflow.keras.losses import SparseCategoricalCrossentropy\n",
    "from tensorflow.keras.optimizers import Adam\n",
    "from tensorflow.keras.utils import plot_model\n",
    "\n",
    "# datos mnist\n",
    "from tensorflow.keras.datasets import mnist\n",
    "\n",
    "# Manejo de datasets como tensores de tf\n",
    "dataset = tf.data.Dataset.from_tensor_slices\n",
    "\n",
    "# Métricas para medir pérdida y precisión\n",
    "loss_metric     = tf.keras.metrics.Mean\n",
    "accuracy_metric = tf.keras.metrics.SparseCategoricalAccuracy\n",
    "\n",
    "from sklearn.model_selection import train_test_split\n",
    "from sklearn.metrics import confusion_matrix\n",
    "\n",
    "import pandas as pd\n",
    "import matplotlib\n",
    "import numpy as np\n",
    "import seaborn as sns"
   ]
  },
  {
   "cell_type": "markdown",
   "id": "e031d167-ba7f-4f26-b854-e6638d198c49",
   "metadata": {},
   "source": [
    "## <span style=\"color:#4361EE\">Prepara datos de MNIST</span> "
   ]
  },
  {
   "cell_type": "code",
   "execution_count": 24,
   "id": "0d9b4e92-d3ad-4e81-b883-16a762e47af7",
   "metadata": {},
   "outputs": [],
   "source": [
    "# carga los datos en areglos de numpy\n",
    "(x_train, y_train), (x_test, y_test) = mnist.load_data()\n",
    "x_train, x_test = x_train/255.0, x_test/255.0\n",
    "\n",
    "# Crea un subconjunto de validación interna\n",
    "x_train, x_val, y_train, y_val = train_test_split(x_train, y_train, test_size=0.20, random_state=100)"
   ]
  },
  {
   "cell_type": "code",
   "execution_count": 38,
   "id": "990df4ca-355b-4a37-a4e7-73e8e5f32b59",
   "metadata": {},
   "outputs": [
    {
     "data": {
      "text/plain": [
       "(10000,)"
      ]
     },
     "execution_count": 38,
     "metadata": {},
     "output_type": "execute_result"
    }
   ],
   "source": [
    "y_test.shape"
   ]
  },
  {
   "cell_type": "code",
   "execution_count": 25,
   "id": "dee8f2a8-1fbb-4898-915f-9eec2dc90843",
   "metadata": {},
   "outputs": [
    {
     "name": "stdout",
     "output_type": "stream",
     "text": [
      "Tamaños train: X = (48000, 28, 28), y = (48000,)\n",
      "Tamaños validación: X = (12000, 28, 28), y = (12000,)\n",
      "Tamaños prueba: X = (10000, 28, 28), y = (10000,)\n"
     ]
    }
   ],
   "source": [
    "print('Tamaños train: X = {}, y = {}'.format(x_train.shape, y_train.shape))\n",
    "print('Tamaños validación: X = {}, y = {}'.format(x_val.shape, y_val.shape))\n",
    "print('Tamaños prueba: X = {}, y = {}'.format(x_test.shape, y_test.shape))"
   ]
  },
  {
   "cell_type": "code",
   "execution_count": 26,
   "id": "included-columbia",
   "metadata": {},
   "outputs": [],
   "source": [
    "# Agrega una dimensión en el input para manejo de canales de imágenes en tensorflow\n",
    "x_train = x_train[...,tf.newaxis]\n",
    "x_val = x_val[...,tf.newaxis]\n",
    "x_test = x_test[...,tf.newaxis]"
   ]
  },
  {
   "cell_type": "code",
   "execution_count": 27,
   "id": "personalized-concrete",
   "metadata": {},
   "outputs": [
    {
     "name": "stdout",
     "output_type": "stream",
     "text": [
      "Forma de x_train: (48000, 28, 28, 1)\n",
      "Forma de x_test: (12000, 28, 28, 1)\n",
      "Forma de x_test: (10000, 28, 28, 1)\n"
     ]
    }
   ],
   "source": [
    "print('Forma de x_train:', x_train.shape)\n",
    "print('Forma de x_test:', x_val.shape)\n",
    "print('Forma de x_test:', x_test.shape)"
   ]
  },
  {
   "cell_type": "markdown",
   "id": "recent-narrow",
   "metadata": {},
   "source": [
    "## <span style=\"color:#4361EE\">Separa lotes de datos  y mezclar el conjunto de datos</span>"
   ]
  },
  {
   "cell_type": "markdown",
   "id": "reliable-syracuse",
   "metadata": {},
   "source": [
    "Usamos *tf.data*.  Revise cuidadosamente el tutorial  [tf.data: compila canalizaciones de entrada de TensorFlow](https://www.tensorflow.org/guide/data)"
   ]
  },
  {
   "cell_type": "code",
   "execution_count": 28,
   "id": "indonesian-toner",
   "metadata": {},
   "outputs": [],
   "source": [
    "train_ds = dataset((x_train, y_train)).shuffle(10000).batch(32)\n",
    "val_ds  = dataset((x_val, y_val)).shuffle(10000).batch(32)\n",
    "test_ds  = dataset((x_test, y_test)).shuffle(10000).batch(32)"
   ]
  },
  {
   "cell_type": "code",
   "execution_count": 33,
   "id": "italic-power",
   "metadata": {},
   "outputs": [
    {
     "name": "stdout",
     "output_type": "stream",
     "text": [
      "<BatchDataset shapes: ((None, 28, 28, 1), (None,)), types: (tf.float64, tf.uint8)>\n",
      "<BatchDataset shapes: ((None, 28, 28, 1), (None,)), types: (tf.float64, tf.uint8)>\n",
      "<BatchDataset shapes: ((None, 28, 28, 1), (None,)), types: (tf.float64, tf.uint8)>\n",
      "1500\n",
      "375\n",
      "313\n"
     ]
    }
   ],
   "source": [
    "print(train_ds)\n",
    "print(val_ds)\n",
    "print(test_ds)\n",
    "print(len(train_ds))\n",
    "print(len(val_ds))\n",
    "print(len(test_ds))"
   ]
  },
  {
   "cell_type": "markdown",
   "id": "integrated-amino",
   "metadata": {},
   "source": [
    "## <span style=\"color:#4361EE\">API Funcional de Keras. Sub-clases</span>"
   ]
  },
  {
   "cell_type": "markdown",
   "id": "economic-writer",
   "metadata": {},
   "source": [
    "Vamos a derivar nuestro model de la clase Model de la API funcional de Keras."
   ]
  },
  {
   "cell_type": "code",
   "execution_count": 7,
   "id": "7c5fa999-633b-4d94-b2d5-c6cdf1e2b785",
   "metadata": {},
   "outputs": [],
   "source": [
    "class MNIST_Model(Model):\n",
    "    def __init__(self):\n",
    "        super(MNIST_Model,self).__init__()\n",
    "        self.conv1 = Conv2D(32, 3, activation='relu')\n",
    "        self.flatten= Flatten()\n",
    "        self.d1 = Dense(128, activation='relu')\n",
    "        self.d2 = Dense(10, activation='softmax')\n",
    "    \n",
    "    def call(self,x):\n",
    "        x = self.conv1(x)\n",
    "        x = self.flatten(x)\n",
    "        x = self.d1(x)\n",
    "        return self.d2(x)\n",
    "\n",
    "# crea una instancia del modelo\n",
    "model_mnist = MNIST_Model()"
   ]
  },
  {
   "cell_type": "markdown",
   "id": "ae4446d1-24b5-41e1-825d-9459671dc920",
   "metadata": {
    "tags": []
   },
   "source": [
    "## <span style=\"color:#4361EE\">Compila</span>\n"
   ]
  },
  {
   "cell_type": "code",
   "execution_count": 43,
   "id": "1828bb47-479f-427c-8656-486811be002f",
   "metadata": {},
   "outputs": [],
   "source": [
    "#configura obetos para entrenamiento\n",
    "optimizer = tf.keras.optimizers.Adam(0.001)\n",
    "metrics = ['accuracy']\n",
    "loss = SparseCategoricalCrossentropy()\n",
    "\n",
    "# compila el modelo\n",
    "model_mnist.compile(optimizer=optimizer,\n",
    "                    loss=loss,\n",
    "                    metrics=metrics)"
   ]
  },
  {
   "cell_type": "markdown",
   "id": "a5026500-4797-4552-9819-6fe281db1a40",
   "metadata": {},
   "source": [
    "## <span style=\"color:#4361EE\">Entrena</span>\n"
   ]
  },
  {
   "cell_type": "code",
   "execution_count": 44,
   "id": "53177073-e5e1-4bc3-883a-fb2f091d96ca",
   "metadata": {},
   "outputs": [
    {
     "name": "stdout",
     "output_type": "stream",
     "text": [
      "Epoch 1/5\n"
     ]
    },
    {
     "name": "stderr",
     "output_type": "stream",
     "text": [
      "2022-12-07 11:15:26.870981: I tensorflow/compiler/mlir/mlir_graph_optimization_pass.cc:116] None of the MLIR optimization passes are enabled (registered 2)\n",
      "2022-12-07 11:15:26.891230: I tensorflow/core/platform/profile_utils/cpu_utils.cc:112] CPU Frequency: 2694965000 Hz\n"
     ]
    },
    {
     "name": "stdout",
     "output_type": "stream",
     "text": [
      "1500/1500 [==============================] - 110s 71ms/step - loss: 0.2873 - accuracy: 0.9121 - val_loss: 0.0765 - val_accuracy: 0.9766\n",
      "Epoch 2/5\n",
      "1500/1500 [==============================] - 109s 72ms/step - loss: 0.0527 - accuracy: 0.9831 - val_loss: 0.0618 - val_accuracy: 0.9835\n",
      "Epoch 3/5\n",
      "1500/1500 [==============================] - 112s 74ms/step - loss: 0.0264 - accuracy: 0.9915 - val_loss: 0.0590 - val_accuracy: 0.9838\n",
      "Epoch 4/5\n",
      "1500/1500 [==============================] - 113s 75ms/step - loss: 0.0156 - accuracy: 0.9948 - val_loss: 0.0712 - val_accuracy: 0.9813\n",
      "Epoch 5/5\n",
      "1500/1500 [==============================] - 114s 76ms/step - loss: 0.0114 - accuracy: 0.9961 - val_loss: 0.0658 - val_accuracy: 0.9841\n"
     ]
    }
   ],
   "source": [
    "epochs = 5\n",
    "validation_split = 0.2\n",
    "\n",
    "history = model_mnist.fit(train_ds,\n",
    "                    epochs=epochs,\n",
    "                    validation_data=val_ds)"
   ]
  },
  {
   "cell_type": "code",
   "execution_count": 6,
   "id": "0ac308a8-0183-476b-a95e-8fac18539a92",
   "metadata": {},
   "outputs": [],
   "source": [
    "model_iris.compile(optimizer='rmsprop',\n",
    "              loss='categorical_crossentropy',\n",
    "              metrics=['accuracy'])"
   ]
  },
  {
   "cell_type": "markdown",
   "id": "bcfae96d-594c-4222-bb14-0486c74fec2c",
   "metadata": {},
   "source": [
    "## <span style=\"color:#4361EE\">Arquitectura del modelo</span>"
   ]
  },
  {
   "cell_type": "code",
   "execution_count": 45,
   "id": "00da351b-d65b-4c1a-a102-8c2080196378",
   "metadata": {},
   "outputs": [
    {
     "name": "stdout",
     "output_type": "stream",
     "text": [
      "Model: \"mnist__model\"\n",
      "_________________________________________________________________\n",
      "Layer (type)                 Output Shape              Param #   \n",
      "=================================================================\n",
      "conv2d (Conv2D)              multiple                  320       \n",
      "_________________________________________________________________\n",
      "flatten (Flatten)            multiple                  0         \n",
      "_________________________________________________________________\n",
      "dense (Dense)                multiple                  2769024   \n",
      "_________________________________________________________________\n",
      "dense_1 (Dense)              multiple                  1290      \n",
      "=================================================================\n",
      "Total params: 2,770,634\n",
      "Trainable params: 2,770,634\n",
      "Non-trainable params: 0\n",
      "_________________________________________________________________\n"
     ]
    },
    {
     "data": {
      "image/png": "[encoded data removed]",
      "text/plain": [
       "<IPython.core.display.Image object>"
      ]
     },
     "execution_count": 45,
     "metadata": {},
     "output_type": "execute_result"
    }
   ],
   "source": [
    "model_mnist.summary()\n",
    "plot_model(model_mnist, to_file='../Imagenes/mnist_model.png', \n",
    "           show_shapes=True)"
   ]
  },
  {
   "cell_type": "markdown",
   "id": "3798166c-fea8-4a0c-96d9-df217b637b25",
   "metadata": {},
   "source": [
    "## <span style=\"color:#4361EE\">Evaluación del entrenamiento</span>"
   ]
  },
  {
   "cell_type": "code",
   "execution_count": 53,
   "id": "fc4f8da1-f6c9-4edd-8788-5f2bd1501a5a",
   "metadata": {},
   "outputs": [
    {
     "data": {
      "text/html": [
       "<div>\n",
       "<style scoped>\n",
       "    .dataframe tbody tr th:only-of-type {\n",
       "        vertical-align: middle;\n",
       "    }\n",
       "\n",
       "    .dataframe tbody tr th {\n",
       "        vertical-align: top;\n",
       "    }\n",
       "\n",
       "    .dataframe thead th {\n",
       "        text-align: right;\n",
       "    }\n",
       "</style>\n",
       "<table border=\"1\" class=\"dataframe\">\n",
       "  <thead>\n",
       "    <tr style=\"text-align: right;\">\n",
       "      <th></th>\n",
       "      <th>loss</th>\n",
       "      <th>accuracy</th>\n",
       "      <th>val_loss</th>\n",
       "      <th>val_accuracy</th>\n",
       "      <th>epoch</th>\n",
       "    </tr>\n",
       "  </thead>\n",
       "  <tbody>\n",
       "    <tr>\n",
       "      <th>0</th>\n",
       "      <td>0.152810</td>\n",
       "      <td>0.953583</td>\n",
       "      <td>0.076471</td>\n",
       "      <td>0.976583</td>\n",
       "      <td>0</td>\n",
       "    </tr>\n",
       "    <tr>\n",
       "      <th>1</th>\n",
       "      <td>0.046672</td>\n",
       "      <td>0.985187</td>\n",
       "      <td>0.061765</td>\n",
       "      <td>0.983500</td>\n",
       "      <td>1</td>\n",
       "    </tr>\n",
       "    <tr>\n",
       "      <th>2</th>\n",
       "      <td>0.025305</td>\n",
       "      <td>0.991521</td>\n",
       "      <td>0.059041</td>\n",
       "      <td>0.983833</td>\n",
       "      <td>2</td>\n",
       "    </tr>\n",
       "    <tr>\n",
       "      <th>3</th>\n",
       "      <td>0.014654</td>\n",
       "      <td>0.995167</td>\n",
       "      <td>0.071229</td>\n",
       "      <td>0.981333</td>\n",
       "      <td>3</td>\n",
       "    </tr>\n",
       "    <tr>\n",
       "      <th>4</th>\n",
       "      <td>0.011462</td>\n",
       "      <td>0.996083</td>\n",
       "      <td>0.065816</td>\n",
       "      <td>0.984083</td>\n",
       "      <td>4</td>\n",
       "    </tr>\n",
       "  </tbody>\n",
       "</table>\n",
       "</div>"
      ],
      "text/plain": [
       "       loss  accuracy  val_loss  val_accuracy  epoch\n",
       "0  0.152810  0.953583  0.076471      0.976583      0\n",
       "1  0.046672  0.985187  0.061765      0.983500      1\n",
       "2  0.025305  0.991521  0.059041      0.983833      2\n",
       "3  0.014654  0.995167  0.071229      0.981333      3\n",
       "4  0.011462  0.996083  0.065816      0.984083      4"
      ]
     },
     "execution_count": 53,
     "metadata": {},
     "output_type": "execute_result"
    }
   ],
   "source": [
    "hist = pd.DataFrame(history.history)\n",
    "hist['epoch'] = history.epoch\n",
    "hist.tail()"
   ]
  },
  {
   "cell_type": "markdown",
   "id": "7c72fe5a-ef95-45bb-87fd-2414b5389f18",
   "metadata": {},
   "source": [
    "Revisemos la gráficas de entrenamiento"
   ]
  },
  {
   "cell_type": "code",
   "execution_count": 58,
   "id": "amateur-array",
   "metadata": {},
   "outputs": [
    {
     "data": {
      "image/png": "[encoded data removed]",
      "text/plain": [
       "<Figure size 640x480 with 1 Axes>"
      ]
     },
     "metadata": {},
     "output_type": "display_data"
    },
    {
     "data": {
      "image/png": "[encoded data removed]",
      "text/plain": [
       "<Figure size 640x480 with 1 Axes>"
      ]
     },
     "metadata": {},
     "output_type": "display_data"
    }
   ],
   "source": [
    "# función para mostrar pérdida y métricas\n",
    "def plot_history(history):\n",
    "    hist = pd.DataFrame(history.history)\n",
    "    hist['Epoca'] = history.epoch\n",
    "\n",
    "    plt.figure()\n",
    "    plt.xlabel('Epoca')\n",
    "    plt.ylabel(' Pérdida')\n",
    "    plt.plot(hist['Epoca'], hist['loss'],\n",
    "           label=' Entrenamiento')\n",
    "    plt.plot(hist['Epoca'], hist['val_loss'],\n",
    "           label = 'Validación')\n",
    "    plt.ylim([0,0.5])\n",
    "    plt.legend()\n",
    "\n",
    "    plt.figure()\n",
    "    plt.xlabel('Epoca')\n",
    "    plt.ylabel('Exactitud(accuracy)')\n",
    "    plt.plot(hist['Epoca'], hist['accuracy'],\n",
    "           label='Entrenamiento')\n",
    "    plt.plot(hist['Epoca'], hist['val_accuracy'],\n",
    "           label = 'Validación')\n",
    "    plt.ylim([0,1.5])\n",
    "    plt.legend()\n",
    "    plt.show()\n",
    "\n",
    "\n",
    "plot_history(history)"
   ]
  },
  {
   "cell_type": "markdown",
   "id": "extensive-thursday",
   "metadata": {},
   "source": [
    "## <span style=\"color:#4361EE\">Evaluación del modelo</span>"
   ]
  },
  {
   "cell_type": "code",
   "execution_count": 60,
   "id": "breathing-frederick",
   "metadata": {},
   "outputs": [
    {
     "name": "stdout",
     "output_type": "stream",
     "text": [
      "Evaluación del modelo con datos de prueba\n",
      "313/313 [==============================] - 6s 19ms/step - loss: 0.0593 - accuracy: 0.9836\n",
      "\n",
      " test loss, test acc: [0.0592704638838768, 0.9836000204086304]\n"
     ]
    }
   ],
   "source": [
    "print(\"Evaluación del modelo con datos de prueba\")\n",
    "results = model_mnist.evaluate(test_ds)\n",
    "print(\"\\n test loss, test acc:\", results)"
   ]
  },
  {
   "cell_type": "markdown",
   "id": "convenient-sperm",
   "metadata": {},
   "source": [
    "O lo que es lo mismo"
   ]
  },
  {
   "cell_type": "markdown",
   "id": "d6935b2b-01a6-4393-ae54-298914190d9c",
   "metadata": {},
   "source": [
    "## <span style=\"color:#4361EE\">Predicciones del modelo</span>"
   ]
  },
  {
   "cell_type": "code",
   "execution_count": 67,
   "id": "900cb28e-e097-42aa-a5af-2a7c9be7e9ac",
   "metadata": {},
   "outputs": [
    {
     "name": "stdout",
     "output_type": "stream",
     "text": [
      "Genera predicciones para cuatro muestras\n",
      "Predicciones:\n",
      " [[0. 0. 0. 0. 0. 0. 0. 1. 0. 0.]\n",
      " [0. 0. 1. 0. 0. 0. 0. 0. 0. 0.]\n",
      " [0. 1. 0. 0. 0. 0. 0. 0. 0. 0.]]\n",
      "\n",
      " Clase predicha:  [7 2 1]\n"
     ]
    }
   ],
   "source": [
    "# Generar predicciones (probabilidades -- el resultado de la última capa)\n",
    "# sobre nuevos datos usando `predict`\n",
    "print(\"Genera predicciones para cuatro muestras\")\n",
    "predicciones = model_mnist.predict(x_test[:3])\n",
    "print(\"Predicciones:\\n\", np.round(predicciones,3))\n",
    "\n",
    "# clase predicha\n",
    "y_pred_c = np.argmax(predicciones, axis=1)\n",
    "print('\\n Clase predicha: ', y_pred_c )"
   ]
  },
  {
   "cell_type": "markdown",
   "id": "7be5f4d5-2efa-4ed2-bcc8-e25e0761e448",
   "metadata": {},
   "source": [
    "## <span style=\"color:#4361EE\">Matriz de confusión con datos de prueba</span>\n"
   ]
  },
  {
   "cell_type": "code",
   "execution_count": 74,
   "id": "7ed2ce10-e773-4526-9357-c15743d76c34",
   "metadata": {},
   "outputs": [],
   "source": [
    "y_pred = np.argmax(model_mnist.predict(x_test), axis=1)\n",
    "\n",
    "cm = confusion_matrix(y_test, y_pred)"
   ]
  },
  {
   "cell_type": "code",
   "execution_count": 77,
   "id": "6dcc9ef2-eb42-47d6-8826-2c4b1cc24e1a",
   "metadata": {},
   "outputs": [
    {
     "data": {
      "image/png": "[encoded data removed]",
      "text/plain": [
       "<Figure size 640x480 with 2 Axes>"
      ]
     },
     "metadata": {},
     "output_type": "display_data"
    }
   ],
   "source": [
    "sns.heatmap(cm,annot=True)\n",
    "plt.savefig('h.png')"
   ]
  },
  {
   "cell_type": "markdown",
   "id": "thermal-north",
   "metadata": {
    "tags": []
   },
   "source": [
    "## <span style=\"color:#4361EE\">Ejercicio</span>"
   ]
  },
  {
   "cell_type": "markdown",
   "id": "8e719a32-02b4-4553-bcec-34ab1a1b5b55",
   "metadata": {},
   "source": [
    "1. Muestre la imagen de los dígitos a mano alzada usados en la última predicción. Adicione la etiqueta de la imagen y la predicción.\n",
    "1. Pruebe la siguiente funcipon que permite separar datos en un objeto `tf.data`. Explique los detalles."
   ]
  },
  {
   "cell_type": "code",
   "execution_count": null,
   "id": "90330362-6425-4716-8e71-110911d0e9fd",
   "metadata": {},
   "outputs": [],
   "source": [
    "def get_dataset_partitions_tf(ds, ds_size, train_split=0.8, val_split=0.1, test_split=0.1, shuffle=True, shuffle_size=10000):\n",
    "    assert (train_split + test_split + val_split) == 1\n",
    "    \n",
    "    if shuffle:\n",
    "        # Especificar semilla para tener siempre la misma distribución dividida entre ejecuciones\n",
    "        ds = ds.shuffle(shuffle_size, seed=12)\n",
    "    \n",
    "    train_size = int(train_split * ds_size)\n",
    "    val_size = int(val_split * ds_size)\n",
    "    \n",
    "    train_ds = ds.take(train_size)    \n",
    "    val_ds = ds.skip(train_size).take(val_size)\n",
    "    test_ds = ds.skip(train_size).skip(val_size)\n",
    "    \n",
    "    return train_ds, val_ds, test_ds"
   ]
  }
 ],
 "metadata": {
  "kernelspec": {
   "display_name": "Python 3 (ipykernel)",
   "language": "python",
   "name": "python3"
  },
  "language_info": {
   "codemirror_mode": {
    "name": "ipython",
    "version": 3
   },
   "file_extension": ".py",
   "mimetype": "text/x-python",
   "name": "python",
   "nbconvert_exporter": "python",
   "pygments_lexer": "ipython3",
   "version": "3.8.8"
  },
  "vscode": {
   "interpreter": {
    "hash": "3620b340ed2ed479d71e72c732c6d6a6eac39d8adbece51414abdea5ed84aec5"
   }
  }
 },
 "nbformat": 4,
 "nbformat_minor": 5
}
