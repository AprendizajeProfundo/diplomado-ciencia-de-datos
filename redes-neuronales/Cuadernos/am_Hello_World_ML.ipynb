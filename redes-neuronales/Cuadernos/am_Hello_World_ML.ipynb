{
 "cells": [
  {
   "cell_type": "markdown",
   "metadata": {},
   "source": [
    "<figure>\n",
    "<img src=\"../Imagenes/logo-final-ap.png\"  width=\"80\" height=\"80\" align=\"left\"/> \n",
    "</figure>\n",
    "\n",
    "# <span style=\"color:blue\"><left>Aprendizaje Profundo</left></span>"
   ]
  },
  {
   "cell_type": "markdown",
   "metadata": {
    "tags": []
   },
   "source": [
    "# <span style=\"color:red\"><center>Diplomado en Ciencia de Datos</center></span>"
   ]
  },
  {
   "cell_type": "markdown",
   "metadata": {},
   "source": [
    "# <span style=\"color:green\"><center>Introducción a Keras Sequential y API Funcional</center></span>"
   ]
  },
  {
   "cell_type": "markdown",
   "metadata": {},
   "source": [
    "<figure>\n",
    "<center>\n",
    "<img src=\"https://raw.githubusercontent.com/AprendizajeProfundo/Alejandria/main/Archivos_Generales/Imagenes/Péndulo.jpg\" width=\"600\" height=\"400\" align=\"center\" /> \n",
    "</center>   \n",
    "</figure>\n",
    "<center>\n",
    "\n",
    "Fuente: [Pexels](https://www.pexels.com/es-es/foto/cuna-de-gray-newton-en-fotografia-de-primer-plano-60582/)\n",
    "\n",
    "</center>"
   ]
  },
  {
   "cell_type": "markdown",
   "metadata": {},
   "source": [
    "## <span style=\"color:#4361EE\">Profesores</span>"
   ]
  },
  {
   "cell_type": "markdown",
   "metadata": {},
   "source": [
    "* Alvaro  Montenegro, PhD, <ammontenegrod@unal.edu.co>\n",
    "* Campo Elías Pardo, PhD, <cepardot@unal.edu.co>\n",
    "* Daniel  Montenegro, Msc, <dextronomo@gmail.com>\n",
    "* Camilo José Torres Jiménez, Msc, <cjtorresj@unal.edu.co>"
   ]
  },
  {
   "cell_type": "markdown",
   "metadata": {},
   "source": [
    "##   <span style=\"color:#4361EE\">Estudiantes auxiliares</span>"
   ]
  },
  {
   "cell_type": "markdown",
   "metadata": {},
   "source": [
    "* Jessica López, jelopezme@unal.edu.co\n",
    "* Camilo Chitivo, cchitivo@unal.edu.co\n",
    "* Daniel Rojas, anrojasor@unal.edu.co"
   ]
  },
  {
   "cell_type": "markdown",
   "metadata": {},
   "source": [
    "## <span style=\"color:#4361EE\">Asesora Medios y Marketing digital</span>"
   ]
  },
  {
   "cell_type": "markdown",
   "metadata": {},
   "source": [
    "* Maria del Pilar Montenegro, pmontenegro88@gmail.com\n",
    "* Jessica López Mejía, jelopezme@unal.edu.co"
   ]
  },
  {
   "cell_type": "markdown",
   "metadata": {},
   "source": [
    "## <span style=\"color:#4361EE\">Jefe Jurídica</span>"
   ]
  },
  {
   "cell_type": "markdown",
   "metadata": {},
   "source": [
    "* Paula Andrea Guzmán, guzmancruz.paula@gmail.com"
   ]
  },
  {
   "cell_type": "markdown",
   "metadata": {},
   "source": [
    "## <span style=\"color:#4361EE\">Coordinador Jurídico</span>"
   ]
  },
  {
   "cell_type": "markdown",
   "metadata": {},
   "source": [
    "* David Fuentes, fuentesd065@gmail.com"
   ]
  },
  {
   "cell_type": "markdown",
   "metadata": {},
   "source": [
    "## <span style=\"color:#4361EE\">Desarrolladores Principales</span>"
   ]
  },
  {
   "cell_type": "markdown",
   "metadata": {},
   "source": [
    "* Dairo Moreno, damoralesj@unal.edu.co\n",
    "* Joan Castro, jocastroc@unal.edu.co\n",
    "* Bryan Riveros, briveros@unal.edu.co\n",
    "* Rosmer Vargas, rovargasc@unal.edu.co\n",
    "* Venus Puertas, vpuertasg@unal.edu.co"
   ]
  },
  {
   "cell_type": "markdown",
   "metadata": {},
   "source": [
    "## <span style=\"color:#4361EE\">Expertos en Bases de Datos</span>"
   ]
  },
  {
   "cell_type": "markdown",
   "metadata": {},
   "source": [
    "* Giovvani Barrera, udgiovanni@gmail.com\n",
    "* Camilo Chitivo, cchitivo@unal.edu.co"
   ]
  },
  {
   "cell_type": "markdown",
   "metadata": {},
   "source": [
    "## <span style=\"color:blue\">Contenido</span>"
   ]
  },
  {
   "cell_type": "markdown",
   "metadata": {},
   "source": [
    "* [Introducción a TensorFlow](#Introducción-a-TensorFlow)\n",
    "* [Introducción a Keras](#Introducción-a-Keras)\n",
    "* [¿Por qué elegir Keras?](#¿Por-qué-elegir-Keras?)\n",
    "* [Simulando Datos](#Simulando-Datos)\n",
    "* [Visualizando Datos](#Visualizando-Datos)\n",
    "* [Construyendo Red Neuronal (Diseño)](#Construyendo-Red-Neuronal-(Diseño))\n",
    "* [Compilando Red Neuronal (Forma de Optimizar)](#Compilando-Red-Neuronal-(Forma-de-Optimizar))\n",
    "* [Entrenando Red Neuronal](#Entrenando-Red-Neuronal-(Fancy-para-\"Ajustar-los-datos\"))\n",
    "* [Visualizar Resultados de la Red](#Visualizar-Resultados-de-la-Red)\n",
    "* [Redes Neuronales](#Redes-Neuronales)"
   ]
  },
  {
   "cell_type": "markdown",
   "metadata": {},
   "source": [
    "## Introducción a TensorFlow"
   ]
  },
  {
   "cell_type": "markdown",
   "metadata": {},
   "source": [
    "La mejor introducción a esta biblioteca fundamental de inteligencia artificial es entrando a la documentación oficial:\n",
    "\n",
    "[![diosito](../Imagenes/tf_logo_2.png)](https://www.tensorflow.org/)"
   ]
  },
  {
   "cell_type": "markdown",
   "metadata": {},
   "source": [
    "[[Volver]](#Contenido)"
   ]
  },
  {
   "cell_type": "markdown",
   "metadata": {},
   "source": [
    "## Introducción a Keras"
   ]
  },
  {
   "cell_type": "markdown",
   "metadata": {},
   "source": [
    "Keras no es más que una API funcionando sobre algún motor tensorial (Por ejemplo, **TensorFlow**).\n",
    "\n",
    "Igual que antes, no hay nada mejor que ir a los sitios oficiales y chequear por sí mismxs la documentación oficial:\n",
    "\n",
    "[![diosito2](https://keras.io/img/logo.png)](https://keras.io/)"
   ]
  },
  {
   "cell_type": "markdown",
   "metadata": {},
   "source": [
    "[[Volver]](#Contenido)"
   ]
  },
  {
   "cell_type": "markdown",
   "metadata": {},
   "source": [
    "## ¿Por qué elegir Keras?"
   ]
  },
  {
   "cell_type": "markdown",
   "metadata": {},
   "source": [
    "Preguntémosle a dios Google:\n",
    "\n",
    "[![dios_trends](https://external-content.duckduckgo.com/iu/?u=https%3A%2F%2Ftechbullion.com%2Fwp-content%2Fuploads%2F2019%2F03%2FGoogle-Trends.jpg&f=1&nofb=1)](https://trends.google.com/trends/?geo=US)"
   ]
  },
  {
   "cell_type": "markdown",
   "metadata": {},
   "source": [
    "[[Volver]](#Contenido)"
   ]
  },
  {
   "cell_type": "markdown",
   "metadata": {
    "id": "re5uLVZSWwUb"
   },
   "source": [
    "# Importando Librerías Necesarias "
   ]
  },
  {
   "cell_type": "markdown",
   "metadata": {},
   "source": [
    "Como siempre, lo primero que debemos hacer es importar las librerías necesarias:"
   ]
  },
  {
   "cell_type": "code",
   "execution_count": null,
   "metadata": {
    "id": "4bi39_-RWwUf"
   },
   "outputs": [],
   "source": [
    "# Librería para manejo de tensores\n",
    "import tensorflow as tf\n",
    "# API para AI sobre motor de tensores\n",
    "from tensorflow import keras\n",
    "# Manejo de arreglos\n",
    "import numpy as np\n",
    "# Dibujitos\n",
    "import matplotlib.pyplot as plt"
   ]
  },
  {
   "cell_type": "markdown",
   "metadata": {},
   "source": [
    "[[Volver]](#Contenido)"
   ]
  },
  {
   "cell_type": "markdown",
   "metadata": {
    "id": "ru0toq83WwUh"
   },
   "source": [
    "# Simulando Datos "
   ]
  },
  {
   "cell_type": "markdown",
   "metadata": {},
   "source": [
    "En esta ocasión y por ser la introducción, mostraremos que el proceso de optimización visto en clase (usando JAX), es equivalente a construir una red neuronal artificial.\n",
    "\n",
    "Para esto, simulemos unos datos de prueba:"
   ]
  },
  {
   "cell_type": "code",
   "execution_count": null,
   "metadata": {
    "id": "oPasXHEFWwUj"
   },
   "outputs": [],
   "source": [
    "# Genera datos espaciados uniformemente\n",
    "x=np.linspace(-10,10,50)\n",
    "# Modelo generado a partir de las entradas\n",
    "y=2*x**2+3*x+5*np.random.normal(0,4,size=len(x))"
   ]
  },
  {
   "cell_type": "markdown",
   "metadata": {},
   "source": [
    "Observemos algo de los datos simulados:"
   ]
  },
  {
   "cell_type": "code",
   "execution_count": null,
   "metadata": {},
   "outputs": [],
   "source": [
    "print(x)"
   ]
  },
  {
   "cell_type": "code",
   "execution_count": null,
   "metadata": {},
   "outputs": [],
   "source": [
    "print(y)"
   ]
  },
  {
   "cell_type": "markdown",
   "metadata": {},
   "source": [
    "[[Volver]](#Contenido)"
   ]
  },
  {
   "cell_type": "markdown",
   "metadata": {
    "id": "b-sia34TWwUl"
   },
   "source": [
    "# Visualizando Datos"
   ]
  },
  {
   "cell_type": "markdown",
   "metadata": {},
   "source": [
    "En lo posible, trate de visualizar datos para tener una intuición sobre lo que está pasando. Es claro que no siempre es posible hacerlo, pero exsiten, por ejemplo, técnicas de reducción de dimensión para dar una idea vaga de lo que está pasando."
   ]
  },
  {
   "cell_type": "code",
   "execution_count": null,
   "metadata": {
    "id": "5HirHtWRWwUm",
    "outputId": "7ca0cc67-4b8a-4de3-a1f8-f9a4eba53fc4"
   },
   "outputs": [],
   "source": [
    "# Generar Lienzo\n",
    "plt.figure(figsize=(13,8))\n",
    "#Titulo del lienzo\n",
    "plt.title(\"Visualización de Datos\",fontsize=15)\n",
    "#Dibujar datos\n",
    "plt.plot(x,y,'o')\n",
    "# Leyenda de los datos\n",
    "plt.legend([\"Datos\"],fontsize=15)\n",
    "# Nombrar Ejes\n",
    "plt.xlabel(\"$Tiempo$\",fontsize=15)\n",
    "plt.ylabel(\"$Valor$\",fontsize=15)\n",
    "\n",
    "# Poner cuadrícula\n",
    "plt.grid()\n",
    "# Mostrar imagen\n",
    "plt.show()"
   ]
  },
  {
   "cell_type": "markdown",
   "metadata": {},
   "source": [
    "[[Volver]](#Contenido)"
   ]
  },
  {
   "cell_type": "markdown",
   "metadata": {
    "id": "88D1xXGNWwUo"
   },
   "source": [
    "# Construyendo Red Neuronal (Diseño)"
   ]
  },
  {
   "cell_type": "markdown",
   "metadata": {},
   "source": [
    "Para construir nuestra primera red Neuronal, recuerde el siguiente dibujo:\n",
    "\n",
    "![Perceptron](https://i.ytimg.com/vi/kft1AJ9WVDk/maxresdefault.jpg)\n",
    "\n",
    "Vemos que el dibujo opera de izquierda a derecha ($\\rightarrow$), por lo que tiene sentido llamarlo **Modelo Secuencial**.\n",
    "\n",
    "En este caso, usaremos una neurona (`units`) y la dimensión de entrada es unidimensional (`input_shape`)"
   ]
  },
  {
   "cell_type": "code",
   "execution_count": null,
   "metadata": {
    "id": "USiM-97tWwUo"
   },
   "outputs": [],
   "source": [
    "model = keras.Sequential(keras.layers.Dense(units=1, input_shape=(1,)))"
   ]
  },
  {
   "cell_type": "markdown",
   "metadata": {},
   "source": [
    "[[Volver]](#Contenido)"
   ]
  },
  {
   "cell_type": "markdown",
   "metadata": {
    "id": "lSJZ60eWWwUp"
   },
   "source": [
    "# Compilando Red Neuronal (Forma de Optimizar)"
   ]
  },
  {
   "cell_type": "markdown",
   "metadata": {},
   "source": [
    "Ahora que tenemos nuestra maqueta de las ecuaciones del modelo, elegimos una función de pérdida adecuada a nuestro problema y un optimizador para minimizar dicha pérdida:"
   ]
  },
  {
   "cell_type": "code",
   "execution_count": null,
   "metadata": {
    "id": "uSxlU3L0WwUp"
   },
   "outputs": [],
   "source": [
    "model.compile(optimizer='sgd', loss='mean_squared_error')"
   ]
  },
  {
   "cell_type": "markdown",
   "metadata": {},
   "source": [
    "[[Volver]](#Contenido)"
   ]
  },
  {
   "cell_type": "markdown",
   "metadata": {
    "id": "z0jk8QvrWwUq"
   },
   "source": [
    "# Resumen de la Red Neuronal"
   ]
  },
  {
   "cell_type": "markdown",
   "metadata": {},
   "source": [
    "El modelo creado y compilado tiene muchos otros métodos interesantes.\n",
    "\n",
    "Por ejemplo, podemos ver el resumen de lo que tiene la red."
   ]
  },
  {
   "cell_type": "code",
   "execution_count": null,
   "metadata": {
    "id": "SVH4Z6LwWwUq",
    "outputId": "7e8441b6-1202-44d1-abea-8b36afe79b88"
   },
   "outputs": [],
   "source": [
    "model.summary()"
   ]
  },
  {
   "cell_type": "markdown",
   "metadata": {},
   "source": [
    "También es posible visualizar los modelos en forma de grafo, lo cual es muy útil para tener control global de la arquitectura del modelo:"
   ]
  },
  {
   "cell_type": "code",
   "execution_count": null,
   "metadata": {},
   "outputs": [],
   "source": [
    "from tensorflow.keras.utils import plot_model"
   ]
  },
  {
   "cell_type": "code",
   "execution_count": null,
   "metadata": {},
   "outputs": [],
   "source": [
    "plot_model(model,show_shapes=True)"
   ]
  },
  {
   "cell_type": "markdown",
   "metadata": {},
   "source": [
    "[[Volver]](#Contenido)"
   ]
  },
  {
   "cell_type": "markdown",
   "metadata": {
    "id": "hOKh23emWwUr"
   },
   "source": [
    "# Entrenando Red Neuronal (Fancy para \"Ajustar los datos\") "
   ]
  },
  {
   "cell_type": "code",
   "execution_count": null,
   "metadata": {
    "id": "dHlUk_O4WwUr",
    "outputId": "b458ce43-8298-4971-abae-56cb4ff042f5"
   },
   "outputs": [],
   "source": [
    "history = model.fit(x, y, epochs=100,verbose=0)"
   ]
  },
  {
   "cell_type": "markdown",
   "metadata": {},
   "source": [
    "[[Volver]](#Contenido)"
   ]
  },
  {
   "cell_type": "markdown",
   "metadata": {
    "id": "PKs1BmoSWwUs"
   },
   "source": [
    "# Visualizar Resultados de la Red "
   ]
  },
  {
   "cell_type": "code",
   "execution_count": null,
   "metadata": {
    "id": "9ofDQ1nvWwUs",
    "outputId": "95fbbb5b-d301-4459-9e6f-03840f5ebff9"
   },
   "outputs": [],
   "source": [
    "#Obtener Pesos de la Red\n",
    "w=model.get_weights();\n",
    "print(w)\n",
    "#Imprimir resultados\n",
    "print(\"\\nObjeto Pesos:\",w)\n",
    "print('\\nNumber of Weights -> '+ str(len(w)))\n",
    "print('\\nw = ' + str(w[0][0]) +'(Weight)')\n",
    "print('b = ' + str(w[1])+'(\"Weight\"->Bias)')"
   ]
  },
  {
   "cell_type": "markdown",
   "metadata": {},
   "source": [
    "[[Volver]](#Contenido)"
   ]
  },
  {
   "cell_type": "markdown",
   "metadata": {
    "id": "d7AvVCEBWwUu"
   },
   "source": [
    "# Predecir valores dentro de los datos (Ver Regresión)"
   ]
  },
  {
   "cell_type": "code",
   "execution_count": null,
   "metadata": {
    "id": "hMDVLECqWwUv"
   },
   "outputs": [],
   "source": [
    "predecir=model.predict(x)\n",
    "#print(predecir)\n",
    "#np.vstack((predecir.reshape(-1,),y)).T"
   ]
  },
  {
   "cell_type": "markdown",
   "metadata": {},
   "source": [
    "[[Volver]](#Contenido)"
   ]
  },
  {
   "cell_type": "markdown",
   "metadata": {
    "id": "6pwyWRuUWwUw"
   },
   "source": [
    "# Visualizar Resultados "
   ]
  },
  {
   "cell_type": "code",
   "execution_count": null,
   "metadata": {
    "id": "hnYDPjeWWwUx",
    "outputId": "f41e1aed-cbb9-4b29-8fdf-e2ed9821849e"
   },
   "outputs": [],
   "source": [
    "plt.figure(figsize=(15,8))\n",
    "plt.plot(x,predecir,'r-',label='Model: y={:.2f}*x+{:.2f}'.format(w[0].item(),w[1].item()))\n",
    "plt.plot(x,y,'o', label='Data')\n",
    "plt.title('Plotting Model vs Data')\n",
    "plt.legend(loc=0)\n",
    "plt.show()"
   ]
  },
  {
   "cell_type": "markdown",
   "metadata": {},
   "source": [
    "[[Volver]](#Contenido)"
   ]
  },
  {
   "cell_type": "markdown",
   "metadata": {
    "id": "GLkk4qevWwUy"
   },
   "source": [
    "# Mejorando Red Neuronal "
   ]
  },
  {
   "cell_type": "code",
   "execution_count": null,
   "metadata": {
    "id": "B2eWdesRWwUz",
    "outputId": "73ff50a8-e1a5-4caf-f5fb-e1c9537582bf"
   },
   "outputs": [],
   "source": [
    "model2 = tf.keras.Sequential([\n",
    "    keras.layers.Dense(units=5,input_shape=(1,),activation='relu'),\n",
    "    keras.layers.Dense(units=10,activation='tanh'),\n",
    "    keras.layers.Dense(units=20,activation='softplus'),\n",
    "    keras.layers.Dense(units=1),\n",
    "    ])\n",
    "model2.compile(optimizer='adam', loss='mean_squared_error')\n",
    "model2.summary()"
   ]
  },
  {
   "cell_type": "code",
   "execution_count": null,
   "metadata": {
    "id": "I-Db7MBtWwU0"
   },
   "outputs": [],
   "source": [
    "history=model2.fit(x, y, epochs=1000,verbose=0)"
   ]
  },
  {
   "cell_type": "code",
   "execution_count": null,
   "metadata": {
    "id": "TsK8Z7jHWwU0"
   },
   "outputs": [],
   "source": [
    "#Obtener Pesos de la Red\n",
    "w2=model2.get_weights();\n",
    "#Imprimir resultados\n",
    "#print(\"\\nObjeto Pesos:\",w2)\n",
    "#print('\\nNumber of Weights -> '+ str(len(w2)))\n",
    "#print('\\nw = ' + str(w[0][0]) +'(Weight)')\n",
    "#print('b = ' + str(w[1])+'(\"Weight\"->Bias)')"
   ]
  },
  {
   "cell_type": "code",
   "execution_count": null,
   "metadata": {
    "id": "0PA7OVKkWwU0"
   },
   "outputs": [],
   "source": [
    "x_test=np.linspace(x[0],x[-1],300)\n",
    "predecir=model2.predict(x_test)"
   ]
  },
  {
   "cell_type": "code",
   "execution_count": null,
   "metadata": {
    "id": "y3XwApFMWwU1",
    "outputId": "827943cb-0845-48ac-abd4-1a0bf9a8d0ee"
   },
   "outputs": [],
   "source": [
    "plt.figure(figsize=(15,8))\n",
    "plt.plot(x_test,predecir,label='Model')\n",
    "plt.plot(x,y,'o', label='Data')\n",
    "plt.title('Plotting Model vs Data')\n",
    "plt.legend(loc=0)\n",
    "plt.show()"
   ]
  },
  {
   "cell_type": "code",
   "execution_count": null,
   "metadata": {
    "id": "APhUIPpRWwU1",
    "outputId": "44524a81-45bb-45b2-d653-16e3cc9d702a"
   },
   "outputs": [],
   "source": [
    "plt.figure(figsize=(15,8))\n",
    "plt.plot(history.history['loss'],'r-',label='Loss')\n",
    "plt.title('Plotting Model vs Data')\n",
    "plt.legend(loc=0)\n",
    "plt.show()"
   ]
  },
  {
   "cell_type": "code",
   "execution_count": null,
   "metadata": {},
   "outputs": [],
   "source": [
    "model.save('modelo_1.h5')"
   ]
  },
  {
   "cell_type": "code",
   "execution_count": null,
   "metadata": {},
   "outputs": [],
   "source": [
    "modelo_guardado = tf.keras.models.load_model('modelo_1.h5')\n",
    "modelo_guardado.summary()"
   ]
  },
  {
   "cell_type": "markdown",
   "metadata": {
    "id": "FqEavKWyWwU2"
   },
   "source": [
    "# **Datos más Retadores**"
   ]
  },
  {
   "cell_type": "code",
   "execution_count": null,
   "metadata": {
    "id": "Ok-O9zWCWwU2"
   },
   "outputs": [],
   "source": [
    "trend=0.1\n",
    "time=np.arange(0,100,0.1)\n",
    "y=trend*time+np.sin(time)+np.random.normal(scale=0.5,size=len(time))"
   ]
  },
  {
   "cell_type": "code",
   "execution_count": null,
   "metadata": {
    "id": "ri9DvrmSWwU2",
    "outputId": "1ac0565e-eeac-461a-f5ad-878ec433729b"
   },
   "outputs": [],
   "source": [
    "plt.figure(figsize=(15,8))\n",
    "plt.title(\"Visualización de Datos\",fontsize=15)\n",
    "plt.plot(time,y,'-')\n",
    "plt.legend([\"Datos\"],fontsize=15)\n",
    "plt.xlabel(\"$x$\",fontsize=15)\n",
    "plt.ylabel(\"$y$\",fontsize=15)\n",
    "plt.grid()\n",
    "plt.show()"
   ]
  },
  {
   "cell_type": "code",
   "execution_count": null,
   "metadata": {
    "id": "3tFro12QWwU2",
    "outputId": "26d9fa57-c1d4-4244-f77f-3c5db16ef41d"
   },
   "outputs": [],
   "source": [
    "model3 = tf.keras.Sequential([\n",
    "    keras.layers.Dense(units=10,input_shape=(1,),activation='elu'),\n",
    "    keras.layers.Dense(units=20,activation='elu'),\n",
    "    keras.layers.Dense(units=30,activation='elu'),\n",
    "    keras.layers.Dense(units=40,activation='elu'),\n",
    "    keras.layers.Dense(units=50,activation='elu'),\n",
    "    keras.layers.Dense(units=60,activation='elu'),\n",
    "    keras.layers.Dense(units=70,activation='elu'),\n",
    "    keras.layers.Dense(units=1)\n",
    "    \n",
    "    ])\n",
    "\n",
    "model3.compile(optimizer='adam', loss='mean_squared_error')\n",
    "model3.summary()"
   ]
  },
  {
   "cell_type": "code",
   "execution_count": null,
   "metadata": {
    "id": "axfTw8ToWwU3"
   },
   "outputs": [],
   "source": [
    "history=model3.fit(time, y, epochs=10000,verbose=0)"
   ]
  },
  {
   "cell_type": "code",
   "execution_count": null,
   "metadata": {
    "id": "L3OUQmZkWwU3"
   },
   "outputs": [],
   "source": [
    "#Obtener Pesos de la Red\n",
    "w3=model3.get_weights();\n",
    "#Imprimir resultados\n",
    "#print(\"\\nObjeto Pesos:\",w2)\n",
    "#print('\\nNumber of Weights -> '+ str(len(w2)))\n",
    "#print('\\nw = ' + str(w[0][0]) +'(Weight)')\n",
    "#print('b = ' + str(w[1])+'(\"Weight\"->Bias)')"
   ]
  },
  {
   "cell_type": "code",
   "execution_count": null,
   "metadata": {
    "id": "U7Bc3iCVWwU4"
   },
   "outputs": [],
   "source": [
    "x_test=np.linspace(time[0],time[-1],3000)\n",
    "predecir=model3.predict(x_test)"
   ]
  },
  {
   "cell_type": "code",
   "execution_count": null,
   "metadata": {
    "id": "AsA3WIqXWwU4"
   },
   "outputs": [],
   "source": [
    "plt.figure(figsize=(15,8))\n",
    "plt.plot(time,y,'-', label='Data')\n",
    "plt.plot(x_test,predecir,'r',label='Model')\n",
    "plt.title('Plotting Model vs Data')\n",
    "plt.legend(loc=0)\n",
    "plt.show()"
   ]
  },
  {
   "cell_type": "code",
   "execution_count": null,
   "metadata": {
    "id": "aNZ63ZexWwU4"
   },
   "outputs": [],
   "source": [
    "plt.figure(figsize=(15,8))\n",
    "plt.plot(history.history['loss'],'r-',label='Model')\n",
    "plt.title('Plotting Model vs Data')\n",
    "plt.legend(loc=0)\n",
    "plt.show()"
   ]
  },
  {
   "cell_type": "markdown",
   "metadata": {
    "id": "TZaW_FNoWwU4"
   },
   "source": [
    "# **API Funcional**"
   ]
  },
  {
   "cell_type": "code",
   "execution_count": null,
   "metadata": {
    "id": "Z2gi5_4PWwU5"
   },
   "outputs": [],
   "source": [
    "import tensorflow as tf\n",
    "import numpy as np\n",
    "import matplotlib.pyplot as plt\n",
    "from tensorflow import keras\n",
    "from tensorflow.keras.layers import Activation, Input,Dense\n",
    "from tensorflow.keras.models import Model\n",
    "from tensorflow.keras.optimizers import Adam"
   ]
  },
  {
   "cell_type": "code",
   "execution_count": null,
   "metadata": {
    "id": "kR4Hob8BWwU5"
   },
   "outputs": [],
   "source": [
    "trend=0.1\n",
    "time=np.arange(0,100,0.1)\n",
    "y=trend*time+np.sin(time)+np.random.normal(scale=0.5,size=len(time))"
   ]
  },
  {
   "cell_type": "code",
   "execution_count": null,
   "metadata": {
    "id": "NWAIi0rTWwU5"
   },
   "outputs": [],
   "source": [
    "inputs=Input(shape=(1,))\n",
    "output=inputs\n",
    "capas=10\n",
    "dim=10\n",
    "output=Activation('elu')(output)\n",
    "\n",
    "for capa in range(capas):\n",
    "    output=Dense(dim)(output)\n",
    "    output=Activation('elu')(output)\n",
    "    dim+=10\n",
    "output=Dense(1)(output)\n",
    "\n",
    "model=Model(inputs,output)\n",
    "model.compile(loss='mse',optimizer='adam')\n",
    "model.summary()"
   ]
  },
  {
   "cell_type": "code",
   "execution_count": null,
   "metadata": {
    "id": "ZtnVGwVqWwU6"
   },
   "outputs": [],
   "source": [
    "history=model.fit(time,y,epochs=500,verbose=0)"
   ]
  },
  {
   "cell_type": "code",
   "execution_count": null,
   "metadata": {
    "id": "BIIGJfo9WwU6"
   },
   "outputs": [],
   "source": [
    "x_test=np.linspace(time[0],time[-1],1000)\n",
    "predecir=model.predict(x_test) # PRODUCCION"
   ]
  },
  {
   "cell_type": "code",
   "execution_count": null,
   "metadata": {
    "id": "YG4_K3A3WwU6"
   },
   "outputs": [],
   "source": [
    "plt.figure(figsize=(15,8))\n",
    "plt.plot(time[0:300],y[0:300],'-', label='Data')\n",
    "plt.plot(x_test[0:300],predecir[0:300],'r',label='Model')\n",
    "plt.title('Plotting Model vs Data')\n",
    "plt.legend(loc=0)\n",
    "plt.show()"
   ]
  },
  {
   "cell_type": "code",
   "execution_count": null,
   "metadata": {
    "id": "W5m9kfqvWwU6"
   },
   "outputs": [],
   "source": [
    "plt.figure(figsize=(15,8))\n",
    "plt.plot(history.history['loss'],'r-',label='Model')\n",
    "plt.title('Plotting Model vs Data')\n",
    "plt.legend(loc=0)\n",
    "plt.show()"
   ]
  }
 ],
 "metadata": {
  "colab": {
   "collapsed_sections": [],
   "name": "Hello_World_ML2.ipynb",
   "provenance": []
  },
  "kernelspec": {
   "display_name": "Python 3 (ipykernel)",
   "language": "python",
   "name": "python3"
  },
  "language_info": {
   "codemirror_mode": {
    "name": "ipython",
    "version": 3
   },
   "file_extension": ".py",
   "mimetype": "text/x-python",
   "name": "python",
   "nbconvert_exporter": "python",
   "pygments_lexer": "ipython3",
   "version": "3.10.12"
  }
 },
 "nbformat": 4,
 "nbformat_minor": 4
}
