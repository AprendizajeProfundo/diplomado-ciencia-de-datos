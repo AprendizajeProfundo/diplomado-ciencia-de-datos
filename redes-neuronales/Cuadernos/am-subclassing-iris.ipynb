{
 "cells": [
  {
   "cell_type": "markdown",
   "metadata": {},
   "source": [
    "# <span style=\"color:#F72585\"><center> Subclassing-Modelo de Regresión multi-logística </center></span>\n"
   ]
  },
  {
   "cell_type": "markdown",
   "metadata": {},
   "source": [
    "<figure>\n",
    "<center>\n",
    "<img src=\"https://raw.githubusercontent.com/AprendizajeProfundo/Alejandria/main/Redes_Neuronales/Imagenes/iris.jpg\" width=\"600\" height=\"400\" align=\"center\" /> \n",
    "</center>   \n",
    "</figure>\n",
    "<center>\n",
    "\n",
    "Fuente: <a href=\"https://commons.wikimedia.org/wiki/File:Iris_versicolor_4.jpg\">No machine-readable author provided. Dlanglois assumed (based on copyright claims).</a>, <a href=\"http://creativecommons.org/licenses/by-sa/3.0/\">CC BY-SA 3.0</a>, via Wikimedia Commons\n",
    "\n",
    "</center>"
   ]
  },
  {
   "cell_type": "markdown",
   "metadata": {},
   "source": [
    "## <span style=\"color:#4361EE\">Introducción</span>"
   ]
  },
  {
   "cell_type": "markdown",
   "metadata": {},
   "source": [
    "Esta lección está dedicada a presentar la programación orientada a objetos aplicada a Keras, conocida genéricamente como subclassing.\n",
    "\n",
    "El tema es recomendado para  usuarios con conocimientos en programación y keras en nuestro caso.\n",
    "\n",
    "Haremos el  modelo  de clasificación con múltiples categorías, utilizado en la introducción de la API funcional. El ejemplo es de nuevo Iris, con el propósito de comparar los dos estilos de programación.\n"
   ]
  },
  {
   "cell_type": "markdown",
   "metadata": {},
   "source": [
    "## <span style=\"color:#4361EE\">Importa módulos</span>\n"
   ]
  },
  {
   "cell_type": "code",
   "execution_count": 1,
   "metadata": {},
   "outputs": [],
   "source": [
    "try:\n",
    "  %tensorflow_version 2.x\n",
    "except Exception:\n",
    "  pass"
   ]
  },
  {
   "cell_type": "code",
   "execution_count": 2,
   "metadata": {},
   "outputs": [
    {
     "name": "stderr",
     "output_type": "stream",
     "text": [
      "c:\\Users\\User\\anaconda3\\envs\\work\\lib\\site-packages\\scipy\\__init__.py:146: UserWarning: A NumPy version >=1.16.5 and <1.23.0 is required for this version of SciPy (detected version 1.23.3\n",
      "  warnings.warn(f\"A NumPy version >={np_minversion} and <{np_maxversion}\"\n"
     ]
    },
    {
     "name": "stdout",
     "output_type": "stream",
     "text": [
      "2.9.1\n"
     ]
    }
   ],
   "source": [
    "from __future__ import absolute_import, division, print_function, unicode_literals\n",
    "#\n",
    "import pandas as pd\n",
    "import numpy as np\n",
    "import matplotlib.pyplot as plt\n",
    "import seaborn as sns\n",
    "import tensorflow as tf\n",
    "#\n",
    "from tensorflow.keras.models import Model\n",
    "#\n",
    "from tensorflow.keras.layers import Dense, Input, Activation\n",
    "#\n",
    "from tensorflow.keras.utils import to_categorical\n",
    "from tensorflow.keras.utils import plot_model\n",
    "#\n",
    "from sklearn.preprocessing import StandardScaler\n",
    "from sklearn.metrics import confusion_matrix\n",
    "#\n",
    "print(tf.__version__)"
   ]
  },
  {
   "cell_type": "markdown",
   "metadata": {},
   "source": [
    "## <span style=\"color:#4361EE\">El conjunto de datos Iris</span>"
   ]
  },
  {
   "cell_type": "markdown",
   "metadata": {},
   "source": [
    "Este conjunto de datos fue introducido por sir [Ronald Fisher](https://es.wikipedia.org/wiki/Ronald_Fisher)"
   ]
  },
  {
   "cell_type": "markdown",
   "metadata": {},
   "source": [
    "## <span style=\"color:#4361EE\">Lectura de datos</span>\n"
   ]
  },
  {
   "cell_type": "code",
   "execution_count": 3,
   "metadata": {},
   "outputs": [],
   "source": [
    "# nombres de las columnas de los datos\n",
    "col_names = ['SepalLength', 'SepalWidth', 'PetalLength', 'PetalWidth', 'Species']\n",
    "target_dimensions = ['Setosa', 'Versicolor', 'Virginica']\n",
    "\n",
    "# lee los datos\n",
    "training_data_path = tf.keras.utils.get_file(\"iris_training.csv\", \"https://storage.googleapis.com/download.tensorflow.org/data/iris_training.csv\")\n",
    "test_data_path = tf.keras.utils.get_file(\"iris_test.csv\", \"https://storage.googleapis.com/download.tensorflow.org/data/iris_test.csv\")\n",
    "\n",
    "training = pd.read_csv(training_data_path, names=col_names, header=0)\n",
    "test = pd.read_csv(test_data_path, names=col_names, header=0)"
   ]
  },
  {
   "cell_type": "markdown",
   "metadata": {},
   "source": [
    "## <span style=\"color:#4361EE\">Pre-procesamiento</span>\n"
   ]
  },
  {
   "cell_type": "markdown",
   "metadata": {},
   "source": [
    "La variable objetivo (target) tiene tres categorías. Usaremos la codificación one-hot."
   ]
  },
  {
   "cell_type": "markdown",
   "metadata": {},
   "source": [
    "### <span style=\"color:#4CC9F0\">Codificación one-hot</span>"
   ]
  },
  {
   "cell_type": "code",
   "execution_count": 4,
   "metadata": {},
   "outputs": [],
   "source": [
    "y_train= pd.DataFrame(to_categorical(training.Species))\n",
    "y_train.columns = target_dimensions\n",
    "\n",
    "y_test = pd.DataFrame(to_categorical(test.Species))\n",
    "y_test.columns = target_dimensions"
   ]
  },
  {
   "cell_type": "markdown",
   "metadata": {},
   "source": [
    "### <span style=\"color:#4CC9F0\">Elimina columna Species </span>\n"
   ]
  },
  {
   "cell_type": "code",
   "execution_count": 5,
   "metadata": {},
   "outputs": [],
   "source": [
    "training.drop(['Species'], axis=1, inplace=True)\n",
    "#test.drop(['Species'], axis=1, inplace=True)\n",
    "y_test_species = test.pop('Species') # extrae la columna y la coloca en y_test_species\n",
    "#\n",
    "#Si necesita subir al dataframe la recodificación use estas líneas\n",
    "#training = training.join(labels_training )\n",
    "#test = test.join(labels_test )"
   ]
  },
  {
   "cell_type": "markdown",
   "metadata": {},
   "source": [
    "\n",
    "### <span style=\"color:#4CC9F0\">Normaliza los features</span>\n"
   ]
  },
  {
   "cell_type": "markdown",
   "metadata": {},
   "source": [
    "#### <span style=\"color:#4CC9F0\">StandardScaler</span>\n"
   ]
  },
  {
   "cell_type": "code",
   "execution_count": 6,
   "metadata": {},
   "outputs": [
    {
     "name": "stdout",
     "output_type": "stream",
     "text": [
      "[5.845      3.065      3.73916667 1.19666667]\n"
     ]
    }
   ],
   "source": [
    "# crea el objeto StandardScaler\n",
    "scaler = StandardScaler()\n",
    "\n",
    "# Ajusta los parámetros del scaler\n",
    "scaler.fit(training)\n",
    "print (scaler.mean_)\n",
    "\n",
    "# escala training y test\n",
    "x_train = scaler.transform(training)\n",
    "x_test = scaler.transform(test)\n",
    "\n",
    "# labels ( no requieren escalación)\n"
   ]
  },
  {
   "cell_type": "markdown",
   "metadata": {},
   "source": [
    "\n",
    "## <span style=\"color:#4361EE\">Crea el modelo usando subclassing</span>\n"
   ]
  },
  {
   "cell_type": "markdown",
   "metadata": {},
   "source": [
    " Vamos a derivar una clase de la clase Model"
   ]
  },
  {
   "cell_type": "code",
   "execution_count": 7,
   "metadata": {},
   "outputs": [],
   "source": [
    "class CustomModel(Model):\n",
    "    \n",
    "    def __init__(self, **kwargs):\n",
    "        super(CustomModel, self).__init__(**kwargs)\n",
    "        self.dense1 = Dense(5, activation='relu', )\n",
    "        self.dense2 = Dense(10, activation='relu')\n",
    "        self.dense3 = Dense(3, activation='softmax')\n",
    "        \n",
    "    def call(self, inputs):\n",
    "        x = self.dense1(inputs)\n",
    "        x = self.dense2(x)\n",
    "        return self.dense3(x)\n",
    "    \n"
   ]
  },
  {
   "cell_type": "markdown",
   "metadata": {},
   "source": [
    "## <span style=\"color:#4361EE\">Crea una instancia de CustomModel</span>"
   ]
  },
  {
   "cell_type": "code",
   "execution_count": 8,
   "metadata": {},
   "outputs": [],
   "source": [
    "model_iris = CustomModel(name='my_custom_model')"
   ]
  },
  {
   "cell_type": "markdown",
   "metadata": {
    "tags": []
   },
   "source": [
    "## <span style=\"color:#4361EE\">Compila</span>\n"
   ]
  },
  {
   "cell_type": "code",
   "execution_count": 9,
   "metadata": {},
   "outputs": [],
   "source": [
    "model_iris.compile(optimizer='rmsprop',\n",
    "              loss='categorical_crossentropy',\n",
    "              metrics=['accuracy'])"
   ]
  },
  {
   "cell_type": "markdown",
   "metadata": {},
   "source": [
    "## <span style=\"color:#4361EE\">Entrena</span>\n"
   ]
  },
  {
   "cell_type": "code",
   "execution_count": 10,
   "metadata": {},
   "outputs": [
    {
     "name": "stdout",
     "output_type": "stream",
     "text": [
      "Epoch 1/30\n",
      "2/2 [==============================] - 5s 777ms/step - loss: 0.9947 - accuracy: 0.3333 - val_loss: 0.9057 - val_accuracy: 0.5417\n",
      "Epoch 2/30\n",
      "2/2 [==============================] - 0s 42ms/step - loss: 0.9790 - accuracy: 0.3958 - val_loss: 0.8927 - val_accuracy: 0.5417\n",
      "Epoch 3/30\n",
      "2/2 [==============================] - 0s 40ms/step - loss: 0.9693 - accuracy: 0.4167 - val_loss: 0.8832 - val_accuracy: 0.5833\n",
      "Epoch 4/30\n",
      "2/2 [==============================] - 0s 50ms/step - loss: 0.9609 - accuracy: 0.4583 - val_loss: 0.8718 - val_accuracy: 0.5833\n",
      "Epoch 5/30\n",
      "2/2 [==============================] - 0s 44ms/step - loss: 0.9530 - accuracy: 0.5000 - val_loss: 0.8627 - val_accuracy: 0.5833\n",
      "Epoch 6/30\n",
      "2/2 [==============================] - 0s 41ms/step - loss: 0.9457 - accuracy: 0.5208 - val_loss: 0.8524 - val_accuracy: 0.5833\n",
      "Epoch 7/30\n",
      "2/2 [==============================] - 0s 40ms/step - loss: 0.9383 - accuracy: 0.5208 - val_loss: 0.8434 - val_accuracy: 0.5833\n",
      "Epoch 8/30\n",
      "2/2 [==============================] - 0s 41ms/step - loss: 0.9315 - accuracy: 0.5312 - val_loss: 0.8346 - val_accuracy: 0.6250\n",
      "Epoch 9/30\n",
      "2/2 [==============================] - 0s 39ms/step - loss: 0.9251 - accuracy: 0.5833 - val_loss: 0.8265 - val_accuracy: 0.6250\n",
      "Epoch 10/30\n",
      "2/2 [==============================] - 0s 41ms/step - loss: 0.9190 - accuracy: 0.5833 - val_loss: 0.8178 - val_accuracy: 0.6250\n",
      "Epoch 11/30\n",
      "2/2 [==============================] - 0s 42ms/step - loss: 0.9131 - accuracy: 0.6146 - val_loss: 0.8102 - val_accuracy: 0.6250\n",
      "Epoch 12/30\n",
      "2/2 [==============================] - 0s 42ms/step - loss: 0.9075 - accuracy: 0.6250 - val_loss: 0.8014 - val_accuracy: 0.6250\n",
      "Epoch 13/30\n",
      "2/2 [==============================] - 0s 43ms/step - loss: 0.9016 - accuracy: 0.6458 - val_loss: 0.7938 - val_accuracy: 0.6250\n",
      "Epoch 14/30\n",
      "2/2 [==============================] - 0s 40ms/step - loss: 0.8963 - accuracy: 0.6667 - val_loss: 0.7870 - val_accuracy: 0.6250\n",
      "Epoch 15/30\n",
      "2/2 [==============================] - 0s 42ms/step - loss: 0.8910 - accuracy: 0.6667 - val_loss: 0.7792 - val_accuracy: 0.6250\n",
      "Epoch 16/30\n",
      "2/2 [==============================] - 0s 44ms/step - loss: 0.8856 - accuracy: 0.6771 - val_loss: 0.7723 - val_accuracy: 0.6667\n",
      "Epoch 17/30\n",
      "2/2 [==============================] - 0s 42ms/step - loss: 0.8805 - accuracy: 0.6771 - val_loss: 0.7657 - val_accuracy: 0.6667\n",
      "Epoch 18/30\n",
      "2/2 [==============================] - 0s 42ms/step - loss: 0.8756 - accuracy: 0.6979 - val_loss: 0.7596 - val_accuracy: 0.6667\n",
      "Epoch 19/30\n",
      "2/2 [==============================] - 0s 41ms/step - loss: 0.8707 - accuracy: 0.6979 - val_loss: 0.7525 - val_accuracy: 0.6667\n",
      "Epoch 20/30\n",
      "2/2 [==============================] - 0s 38ms/step - loss: 0.8658 - accuracy: 0.6979 - val_loss: 0.7463 - val_accuracy: 0.6667\n",
      "Epoch 21/30\n",
      "2/2 [==============================] - 0s 46ms/step - loss: 0.8611 - accuracy: 0.6979 - val_loss: 0.7410 - val_accuracy: 0.6667\n",
      "Epoch 22/30\n",
      "2/2 [==============================] - 0s 43ms/step - loss: 0.8565 - accuracy: 0.6979 - val_loss: 0.7349 - val_accuracy: 0.6667\n",
      "Epoch 23/30\n",
      "2/2 [==============================] - 0s 43ms/step - loss: 0.8520 - accuracy: 0.6979 - val_loss: 0.7291 - val_accuracy: 0.6667\n",
      "Epoch 24/30\n",
      "2/2 [==============================] - 0s 41ms/step - loss: 0.8475 - accuracy: 0.6979 - val_loss: 0.7221 - val_accuracy: 0.6667\n",
      "Epoch 25/30\n",
      "2/2 [==============================] - 0s 42ms/step - loss: 0.8426 - accuracy: 0.7083 - val_loss: 0.7170 - val_accuracy: 0.6667\n",
      "Epoch 26/30\n",
      "2/2 [==============================] - 0s 43ms/step - loss: 0.8382 - accuracy: 0.7083 - val_loss: 0.7107 - val_accuracy: 0.6667\n",
      "Epoch 27/30\n",
      "2/2 [==============================] - 0s 42ms/step - loss: 0.8337 - accuracy: 0.7083 - val_loss: 0.7050 - val_accuracy: 0.6667\n",
      "Epoch 28/30\n",
      "2/2 [==============================] - 0s 39ms/step - loss: 0.8294 - accuracy: 0.7083 - val_loss: 0.6991 - val_accuracy: 0.6667\n",
      "Epoch 29/30\n",
      "2/2 [==============================] - 0s 38ms/step - loss: 0.8249 - accuracy: 0.7083 - val_loss: 0.6935 - val_accuracy: 0.6667\n",
      "Epoch 30/30\n",
      "2/2 [==============================] - 0s 42ms/step - loss: 0.8207 - accuracy: 0.7083 - val_loss: 0.6888 - val_accuracy: 0.6667\n"
     ]
    }
   ],
   "source": [
    "\n",
    "history = model_iris.fit(x_train, y_train.values,\n",
    "                    batch_size= 64,\n",
    "                    epochs= 30,\n",
    "                    validation_split=0.2)"
   ]
  },
  {
   "cell_type": "code",
   "execution_count": 11,
   "metadata": {},
   "outputs": [
    {
     "name": "stdout",
     "output_type": "stream",
     "text": [
      "Model: \"my_custom_model\"\n",
      "_________________________________________________________________\n",
      " Layer (type)                Output Shape              Param #   \n",
      "=================================================================\n",
      " dense (Dense)               multiple                  25        \n",
      "                                                                 \n",
      " dense_1 (Dense)             multiple                  60        \n",
      "                                                                 \n",
      " dense_2 (Dense)             multiple                  33        \n",
      "                                                                 \n",
      "=================================================================\n",
      "Total params: 118\n",
      "Trainable params: 118\n",
      "Non-trainable params: 0\n",
      "_________________________________________________________________\n"
     ]
    }
   ],
   "source": [
    "model_iris.summary()\n",
    "#plot_model(model_iris, to_file='../Imagenes/iris_model.png', \n",
    "#           show_shapes=True)"
   ]
  },
  {
   "cell_type": "markdown",
   "metadata": {},
   "source": [
    "## <span style=\"color:#4361EE\">Evaluación del modelo</span>\n"
   ]
  },
  {
   "cell_type": "code",
   "execution_count": 12,
   "metadata": {},
   "outputs": [],
   "source": [
    "\n",
    "def plot_metric(history, metric):\n",
    "    train_metrics = history.history[metric]\n",
    "    val_metrics = history.history['val_'+metric]\n",
    "    epochs = range(1, len(train_metrics) + 1)\n",
    "    plt.plot(epochs, train_metrics, 'bo--')\n",
    "    plt.plot(epochs, val_metrics, 'ro-')\n",
    "    plt.title('Entrenamiento y validación '+ metric)\n",
    "    plt.xlabel(\"Epochs\")\n",
    "    plt.ylabel(metric)\n",
    "    plt.legend([\"train_\"+metric, 'val_'+metric])\n",
    "    plt.show()"
   ]
  },
  {
   "cell_type": "code",
   "execution_count": 13,
   "metadata": {},
   "outputs": [
    {
     "data": {
      "image/png": "[encoded data removed]",
      "text/plain": [
       "<Figure size 640x480 with 1 Axes>"
      ]
     },
     "metadata": {},
     "output_type": "display_data"
    }
   ],
   "source": [
    "plot_metric(history, 'loss')"
   ]
  },
  {
   "cell_type": "code",
   "execution_count": 14,
   "metadata": {},
   "outputs": [
    {
     "data": {
      "image/png": "[encoded data removed]",
      "text/plain": [
       "<Figure size 640x480 with 1 Axes>"
      ]
     },
     "metadata": {},
     "output_type": "display_data"
    }
   ],
   "source": [
    "plot_metric(history, 'accuracy')"
   ]
  },
  {
   "cell_type": "code",
   "execution_count": 15,
   "metadata": {},
   "outputs": [
    {
     "name": "stdout",
     "output_type": "stream",
     "text": [
      "1/1 [==============================] - 0s 34ms/step - loss: 0.8556 - accuracy: 0.5333\n"
     ]
    },
    {
     "data": {
      "text/plain": [
       "[0.8555782437324524, 0.5333333611488342]"
      ]
     },
     "execution_count": 15,
     "metadata": {},
     "output_type": "execute_result"
    }
   ],
   "source": [
    "model_iris.evaluate(x = x_test,y = y_test.values)"
   ]
  },
  {
   "cell_type": "markdown",
   "metadata": {},
   "source": [
    "## <span style=\"color:#4361EE\">Predicciones</span>\n"
   ]
  },
  {
   "cell_type": "code",
   "execution_count": 16,
   "metadata": {},
   "outputs": [
    {
     "name": "stdout",
     "output_type": "stream",
     "text": [
      "1/1 [==============================] - 0s 154ms/step\n"
     ]
    }
   ],
   "source": [
    "# Predicting the Test set results\n",
    "y_pred = model_iris.predict(x_test)\n",
    "y_pred_c = np.argmax(y_pred, axis=1)"
   ]
  },
  {
   "cell_type": "markdown",
   "metadata": {},
   "source": [
    "## <span style=\"color:#4361EE\">Matriz de confusión</span>\n"
   ]
  },
  {
   "cell_type": "code",
   "execution_count": 17,
   "metadata": {},
   "outputs": [],
   "source": [
    "cm = confusion_matrix(y_test_species, y_pred_c)"
   ]
  },
  {
   "cell_type": "code",
   "execution_count": 18,
   "metadata": {},
   "outputs": [
    {
     "name": "stdout",
     "output_type": "stream",
     "text": [
      "Our accuracy is 53.333333333333336%\n"
     ]
    }
   ],
   "source": [
    "print(\"Nuestra exactitud es {}%\".format(((cm[0][0] + cm[1][1]+ cm[2][2])/y_test_species.shape[0])*100))"
   ]
  },
  {
   "cell_type": "code",
   "execution_count": 19,
   "metadata": {},
   "outputs": [
    {
     "data": {
      "image/png": "[encoded data removed]",
      "text/plain": [
       "<Figure size 640x480 with 2 Axes>"
      ]
     },
     "metadata": {},
     "output_type": "display_data"
    }
   ],
   "source": [
    "sns.heatmap(cm,annot=True)\n",
    "plt.savefig('h.png')"
   ]
  }
 ],
 "metadata": {
  "kernelspec": {
   "display_name": "Python 3 (ipykernel)",
   "language": "python",
   "name": "python3"
  },
  "language_info": {
   "codemirror_mode": {
    "name": "ipython",
    "version": 3
   },
   "file_extension": ".py",
   "mimetype": "text/x-python",
   "name": "python",
   "nbconvert_exporter": "python",
   "pygments_lexer": "ipython3",
   "version": "3.8.8"
  },
  "vscode": {
   "interpreter": {
    "hash": "3620b340ed2ed479d71e72c732c6d6a6eac39d8adbece51414abdea5ed84aec5"
   }
  }
 },
 "nbformat": 4,
 "nbformat_minor": 4
}
