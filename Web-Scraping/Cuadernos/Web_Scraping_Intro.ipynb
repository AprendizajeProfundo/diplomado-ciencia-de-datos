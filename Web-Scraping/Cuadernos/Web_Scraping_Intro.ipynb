{
 "cells": [
  {
   "cell_type": "markdown",
   "id": "bd653d9c-68a7-464f-afd6-bfac57a63313",
   "metadata": {
    "slideshow": {
     "slide_type": "slide"
    },
    "tags": []
   },
   "source": [
    "<figure>\n",
    "<img src=\"../Imagenes/logo-final-ap.png\"  width=\"80\" height=\"80\" align=\"left\"/> \n",
    "</figure>\n",
    "\n",
    "# <span style=\"color:blue\"><left>Aprendizaje Profundo</left></span>"
   ]
  },
  {
   "cell_type": "markdown",
   "id": "6ed82eab-5e11-4aae-aa67-2c9743da4a3b",
   "metadata": {},
   "source": [
    "# <span style=\"color:red\"><center>Web Scraping</center></span>"
   ]
  },
  {
   "cell_type": "markdown",
   "id": "c3e3c99b-d525-4a2b-ba5b-49d16cd8156a",
   "metadata": {},
   "source": [
    "<center>Introducción</center>"
   ]
  },
  {
   "cell_type": "markdown",
   "id": "dd24783b-8f3e-4905-94c7-2e21c5462ca0",
   "metadata": {
    "slideshow": {
     "slide_type": "slide"
    },
    "tags": []
   },
   "source": [
    "<figure>\n",
    "<center>\n",
    "<img src=\"../Imagenes/web_scraping.jpeg\" width=\"800\" height=\"800\" align=\"center\" /> \n",
    "</center>\n",
    "</figure>\n",
    "\n",
    "Fuente: [Ilya Pavlov](https://unsplash.com/photos/OqtafYT5kTw)"
   ]
  },
  {
   "cell_type": "markdown",
   "id": "c10b1383-1583-4d81-9f45-8c63c6d29cc0",
   "metadata": {
    "slideshow": {
     "slide_type": "slide"
    },
    "tags": []
   },
   "source": [
    "##   <span style=\"color:blue\">Profesores</span>"
   ]
  },
  {
   "cell_type": "markdown",
   "id": "5a7fe4b8-4369-4dca-9361-7e243a7ee82d",
   "metadata": {
    "tags": []
   },
   "source": [
    "### Coordinador"
   ]
  },
  {
   "cell_type": "markdown",
   "id": "10738a8e-2d00-485f-be05-8d2bcdcaf9fa",
   "metadata": {
    "tags": []
   },
   "source": [
    "- Campo Elías Pardo, PhD, cepardot@unal.edu.co"
   ]
  },
  {
   "cell_type": "markdown",
   "id": "5c25b19c-dcf9-416c-8393-e7516a923ba7",
   "metadata": {
    "tags": []
   },
   "source": [
    "### Conferencistas"
   ]
  },
  {
   "cell_type": "markdown",
   "id": "00c5c7f4-afb8-4003-bfda-fef4ae76d1da",
   "metadata": {},
   "source": [
    "- Alvaro  Montenegro, PhD, ammontenegrod@unal.edu.co\n",
    "- Daniel  Montenegro, Msc, dextronomo@gmail.com \n",
    "- Oleg Jarma, Estadístico, ojarmam@unal.edu.co "
   ]
  },
  {
   "cell_type": "markdown",
   "id": "d8546959-513f-45cb-a3e0-ebbb61cd173b",
   "metadata": {
    "slideshow": {
     "slide_type": "subslide"
    },
    "tags": []
   },
   "source": [
    "##   <span style=\"color:blue\">Asesora Medios y Marketing digital</span>\n",
    " "
   ]
  },
  {
   "cell_type": "markdown",
   "id": "b7a742f2-3282-405c-b29d-9c2d4bf1dd5e",
   "metadata": {
    "tags": []
   },
   "source": [
    "- Maria del Pilar Montenegro, pmontenegro88@gmail.com "
   ]
  },
  {
   "cell_type": "markdown",
   "id": "8f54faab-730d-438e-b156-e1ec35c03b3d",
   "metadata": {
    "slideshow": {
     "slide_type": "subslide"
    },
    "tags": []
   },
   "source": [
    "## <span style=\"color:blue\">Asistentes</span>"
   ]
  },
  {
   "cell_type": "markdown",
   "id": "5b59a3cf-349d-411d-87cb-2f997aa1c8a1",
   "metadata": {},
   "source": [
    "- Nayibe Yesenia Arias, naariasc@unal.edu.co\n",
    "- Venus Celeste Puertas, vpuertasg@unal.edu.co "
   ]
  },
  {
   "cell_type": "markdown",
   "id": "0fab7322-aa45-4a2b-897d-cd49f7e6beef",
   "metadata": {
    "slideshow": {
     "slide_type": "subslide"
    },
    "tags": []
   },
   "source": [
    "## <span style=\"color:blue\">Referencias</span>"
   ]
  },
  {
   "cell_type": "markdown",
   "id": "49dc1511-11a7-4136-987c-3893cf036e99",
   "metadata": {},
   "source": [
    "1. [Alvaro Montenegro y Daniel Montenegro, Inteligencia Artificial y Aprendizaje Profundo, 2021](https://github.com/AprendizajeProfundo/Diplomado)\n",
    "1. [Unesco: educación e inteligencia artificial](https://es.unesco.org/themes/tic-educacion/inteligencia-artificial)"
   ]
  },
  {
   "cell_type": "markdown",
   "id": "9fe41794-71ef-4cdb-95c2-7f1754c743e9",
   "metadata": {
    "slideshow": {
     "slide_type": "slide"
    },
    "tags": []
   },
   "source": [
    "## <span style=\"color:blue\">Contenido</span>"
   ]
  },
  {
   "cell_type": "markdown",
   "id": "4525c44b-c154-403f-a529-b631904b87bf",
   "metadata": {},
   "source": [
    "* [¿Qué es Web Scraping?](#¿Qué-es-Web-Scraping?)\n",
    "* [Brevísima Introducción a HTML](#Brevísima-Introducción-a-HTML)\n",
    "* [Scraper de Noticias de Google News](#Scraper-de-Noticias-de-Google-News)\n",
    "* [Accediendo al contenido de Noticias](#Accediendo-al-contenido-de-Noticias)\n",
    "    * [Beautiful Soup](#Beautiful-Soup)\n",
    "    * [Limpieza Básica usando expresiones regulares](#Limpieza-Básica-usando-expresiones-regulares)\n",
    "    * [Uniendo Piezas](#Uniendo-Piezas)\n",
    "    * [Ir más allá](#Ir-más-allá)\n",
    "* [Reto](#Reto)"
   ]
  },
  {
   "cell_type": "markdown",
   "id": "07071bad-76a6-44c9-9ff2-be3a1762643c",
   "metadata": {
    "slideshow": {
     "slide_type": "slide"
    },
    "tags": []
   },
   "source": [
    "## <span style=\"color:blue\">¿Qué es Web Scraping?</span> "
   ]
  },
  {
   "cell_type": "markdown",
   "id": "c93224aa-df15-402f-98a7-57f9810f0366",
   "metadata": {},
   "source": [
    "**Web scraping** o raspado web, es una técnica utilizada mediante programas de software para extraer información de sitios web.\n",
    "\n",
    "La razón de utilizar ésta técnica puede deberse a la incapacidad de obtención de información de manera directa en forma estructurada.\n",
    "\n",
    "Usualmente, estos programas simulan la navegación de un humano en la World Wide Web ya sea utilizando el protocolo HTTP manualmente, o incrustando un navegador en una aplicación.\n",
    "\n",
    "Web scraping es el proceso de recopilar información de forma automática de la Web.\n",
    "\n",
    "Es un campo con desarrollos activos, compartiendo un propósito en común con la visión de la Web semántica.\n",
    "\n",
    "Utiliza soluciones prácticas basadas en tecnologías existentes que son comúnmente ad hoc."
   ]
  },
  {
   "cell_type": "markdown",
   "id": "b280e131-b01b-4074-bcf7-97ae5b4dab05",
   "metadata": {},
   "source": [
    "[[Volver al inicio]](#Contenido)"
   ]
  },
  {
   "cell_type": "markdown",
   "id": "b12ec725-ba25-4e95-99bb-080f4c1d5b6a",
   "metadata": {
    "slideshow": {
     "slide_type": "slide"
    },
    "tags": []
   },
   "source": [
    "## <span style=\"color:blue\">Brevísima Introducción a HTML</span>"
   ]
  },
  {
   "cell_type": "markdown",
   "id": "1b9241da-fd62-48be-b516-51b7ac16a77c",
   "metadata": {},
   "source": [
    "```html\n",
    "<!DOCTYPE html>\n",
    "<html>\n",
    "<head>\n",
    "<title>Esto es para divertirnos</title>\n",
    "</head>\n",
    "<body>\n",
    "\n",
    "<h1>Mi primera página web</h1>\n",
    "<p>Escribiré un párrafo... Algún día.</p>\n",
    "\n",
    "</body>\n",
    "</html>\n",
    "```"
   ]
  },
  {
   "cell_type": "markdown",
   "id": "2c66964d-0e61-48d4-b0b3-f6e95c2e71b6",
   "metadata": {},
   "source": [
    "**Observemos la renderización de dicho código HTML anterior en este Notebook**"
   ]
  },
  {
   "cell_type": "markdown",
   "id": "ac16558f-8e73-463a-ab24-1978bb7ef144",
   "metadata": {},
   "source": [
    "---\n",
    "<!DOCTYPE html>\n",
    "<html>\n",
    "<head>\n",
    "<title>Esto es para divertirnos</title>\n",
    "</head>\n",
    "<body>\n",
    "\n",
    "<h1>Mi primera página web</h1>\n",
    "<p>Escribiré un párrafo... Algún día.</p>\n",
    "\n",
    "</body>\n",
    "</html>\n",
    "\n",
    "---"
   ]
  },
  {
   "cell_type": "markdown",
   "id": "5cea9a36-ef24-4939-99e6-61b98b76718e",
   "metadata": {},
   "source": [
    "Partes Fundamentales:\n",
    "\n",
    "```html\n",
    "<!DOCTYPE html>\n",
    "``` \n",
    "\n",
    "- Declaración que define que este documento es un documento HTML5.\n",
    "\n",
    "```html\n",
    "<html>\n",
    "```\n",
    "\n",
    "- Inicia la estrutura html. Es la raíz de la página web.\n",
    "\n",
    "```html\n",
    "<head>\n",
    "```\n",
    "\n",
    "- Inicia la cabecera (metadata) de la página web.\n",
    "\n",
    "```html\n",
    "<title>\n",
    "```\n",
    "\n",
    "- Coloca un título en la cabecera de la página web.\n",
    "\n",
    "```html\n",
    "<body>\n",
    "```\n",
    "\n",
    "- Inicia el cuerpo de la página web, que contiene todos los elementos visibles de la página web.\n",
    "\n",
    "```html\n",
    "<h1>\n",
    "```\n",
    "\n",
    "- Coloca una cabecera dentro del cuerpo de la página web.\n",
    "\n",
    "```html\n",
    "<p>\n",
    "```\n",
    "\n",
    "- Coloca un párrafo dentro de la página web."
   ]
  },
  {
   "cell_type": "markdown",
   "id": "84fa3999-b2dc-4565-bd34-0327ebbe5871",
   "metadata": {},
   "source": [
    "**Experimento:**\n",
    "\n",
    "Utlize el código anterior en un bloc de notas y visualízelo desde un Browser."
   ]
  },
  {
   "cell_type": "markdown",
   "id": "e79dc016-fe25-4ffc-ac0f-8be90b260ade",
   "metadata": {},
   "source": [
    "### Objetos CSS"
   ]
  },
  {
   "cell_type": "markdown",
   "id": "26f85e98-6b4e-46d9-ac9a-789be82b9927",
   "metadata": {},
   "source": [
    "Es posible enriquecer aún más el contenido HTML con objetos CSS (Cascading Style Sheets)"
   ]
  },
  {
   "cell_type": "markdown",
   "id": "bc468492-8844-4fd3-a5b6-9b9a07a82634",
   "metadata": {},
   "source": [
    "```html\n",
    "<!DOCTYPE html>\n",
    "<html>\n",
    "<head>\n",
    "<style>\n",
    "h1 {\n",
    "  color: blue;\n",
    "  font-family: verdana;\n",
    "  font-size: 300%;\n",
    "}\n",
    "p {\n",
    "  color: red;\n",
    "  font-family: courier;\n",
    "  font-size: 160%;\n",
    "}\n",
    "</style>\n",
    "</head>\n",
    "<body>\n",
    "\n",
    "<h1>This is a heading</h1>\n",
    "<p>This is a paragraph.</p>\n",
    "\n",
    "</body>\n",
    "</html>\n",
    "```"
   ]
  },
  {
   "cell_type": "markdown",
   "id": "586d7e94-6de9-4e41-aa7e-f34c2ccc52dc",
   "metadata": {},
   "source": [
    "### JavaScript"
   ]
  },
  {
   "cell_type": "markdown",
   "id": "f2269411-1735-44fe-bd46-f53198923772",
   "metadata": {},
   "source": [
    "También es posible utilizar herramientas de programación para afectar los comportamientos que puede tener las páginas web.\n",
    "\n",
    "Este lenguaje de programación se conoce como JavaScript y es utilizado ampliamente dentro del gremio de desarrolladores web."
   ]
  },
  {
   "cell_type": "markdown",
   "id": "2db93541-2429-423c-8235-d05a3e95cf91",
   "metadata": {},
   "source": [
    "```html\n",
    "<!DOCTYPE html>\n",
    "<html>\n",
    "<body>\n",
    "\n",
    "<h2>JavaScript in Body</h2>\n",
    "\n",
    "<p id=\"demo\"></p>\n",
    "\n",
    "<script>\n",
    "document.getElementById(\"demo\").innerHTML = \"My First JavaScript\";\n",
    "</script>\n",
    "\n",
    "</body>\n",
    "</html>\n",
    "```"
   ]
  },
  {
   "cell_type": "markdown",
   "id": "7fd2fcf4-0716-427c-83dd-cfb7378dcb5d",
   "metadata": {},
   "source": [
    "Lo más interesante de JavaScript, es que puede interactuar sobre el DOM () de las páginas web, generando interactividad con los usuarios de manera dinámica:"
   ]
  },
  {
   "cell_type": "markdown",
   "id": "563eba7b-9ea0-43ee-aab4-bb876483c6f9",
   "metadata": {},
   "source": [
    "```html\n",
    "<!DOCTYPE html>\n",
    "<html>\n",
    "<body>\n",
    "\n",
    "<p><a id=\"Ancla\" hreflang=\"¡Soy un elemento nuevo!\" href=\"https://www.w3schools.com/\">W3Schools</a></p>\n",
    "\n",
    "<p>Hacer click en el botón para obtener más info</p>\n",
    "\n",
    "<button onclick=\"myFunction()\">Pruébame</button>\n",
    "\n",
    "<p id=\"Demo\"></p>\n",
    "\n",
    "<script>\n",
    "function myFunction() {\n",
    "  var x = document.getElementById(\"Ancla\").hreflang;\n",
    "  document.getElementById(\"Demo\").innerHTML = x;\n",
    "}\n",
    "</script>\n",
    "\n",
    "</body>\n",
    "</html>\n",
    "```"
   ]
  },
  {
   "cell_type": "markdown",
   "id": "5aea47e9-f62f-4a8b-8747-8b0acf63c9d3",
   "metadata": {},
   "source": [
    "Existen distintos niveles de automatización que las existentes tecnologías de Web Scraping pueden brindar:\n",
    "\n",
    "- «Copiar y pegar» humano: algunas veces incluso las mejores técnicas de web scraping no pueden reemplazar el examen manual de un humano, y a veces esta puede ser la única vía de solución cuando el sitio que tenemos en mente pone ciertas barreras para prevenir que se creen softwares para realizar tareas automáticas en este.\n",
    "\n",
    "- Uso de expresiones regulares: una posible vía para extraer información de páginas webs pueden ser las expresiones regulares, aunque comúnmente no se recomienda utilizarlas para parsear el formato HTML.\n",
    "\n",
    "- Protocolo HTTP: páginas webs estáticas y dinámicas pueden ser obtenidas haciendo peticiones HTTP al servidor remoto utilizando sockets, etc.\n",
    "\n",
    "- Algoritmos de minería de datos: muchos sitios webs tienen grandes colecciones de páginas generadas dinámicamente a partir de una base de datos. Datos de la misma categoría aparecen usualmente en páginas similares mediante un script o una plantilla. En la minería de datos, un programa detecta estas plantillas en un contexto específico y extrae su contenido.\n",
    "\n",
    "- Parsers de HTML: Algunos lenguajes, como XQuery y HTQL pueden ser utilizados para parsear documentos, recuperar y transformar el contenido de documentos HTML.\n",
    "\n",
    "- Aplicaciones para web scraping: existen muchas aplicaciones disponibles que pueden ser utilizadas para personalizar soluciones de Web Scraping. Estas aplicaciones podrían reconocer automáticamente la estructura de cierta página o brindar una interfaz al usuario donde este pudiera seleccionar los campos que son de interés dentro del documento. De esta forma no es necesario escribir manualmente código para realizar estas tareas.\n",
    "\n",
    "- Reconocimiento de información semántica: las páginas que son analizadas podrían incluir metadatos o cierta información semántica como anotaciones o comentarios, los cuales pueden ser usados comúnmente. Si estas anotaciones están en las mismas páginas, como sucede con los microformatos, estas podrían ser de utilidad cuando parseamos el DOM del documento. En otro caso, las anotaciones, organizadas en una capa semántica, son almacenadas y manejadas de forma separada desde otras páginas, por lo que los scrapers pueden recuperar estos esquemas y las instrucciones desde esta capa antes de analizar los documentos."
   ]
  },
  {
   "cell_type": "markdown",
   "id": "f31ae38a-accf-480c-a5a1-ae6718317af3",
   "metadata": {},
   "source": [
    "[[Volver al inicio]](#Contenido)"
   ]
  },
  {
   "cell_type": "markdown",
   "id": "60afe5c2-2c12-49fd-8a8e-0f3d6a88cdbf",
   "metadata": {
    "tags": []
   },
   "source": [
    "## <span style=\"color:blue\">Scraper de Noticias de Google News</span>"
   ]
  },
  {
   "cell_type": "markdown",
   "id": "e7582c89-b06f-4830-8c3f-0235f7a0a6b5",
   "metadata": {},
   "source": [
    "Para comenzar nuestra discusión sobre cómo puede ser el resultado de un Scraping Web existente, usaremos un famoso paquete existente que hace el trabajo para las noticias en la web, conocido como Google News."
   ]
  },
  {
   "cell_type": "markdown",
   "id": "b23b3071-83bf-4689-8401-aca4c9811da4",
   "metadata": {},
   "source": [
    "## Librerías Necesarias "
   ]
  },
  {
   "cell_type": "markdown",
   "id": "f2635919-bd0a-4094-a19b-de0d970959c8",
   "metadata": {},
   "source": [
    "```pip install gnewsclient```\n",
    "\n",
    "```pip install python-Levenshtein```"
   ]
  },
  {
   "cell_type": "code",
   "execution_count": 12,
   "id": "4f41cc07-e518-452f-909b-463022f89b36",
   "metadata": {},
   "outputs": [],
   "source": [
    "# Conexión con Google News\n",
    "from gnewsclient import gnewsclient"
   ]
  },
  {
   "cell_type": "markdown",
   "id": "8158ba40-f4de-43ad-8999-66bd8f9e647b",
   "metadata": {},
   "source": [
    "[[Volver al inicio]](#Contenido)"
   ]
  },
  {
   "cell_type": "markdown",
   "id": "7bbd9a0c-3c7c-45c0-b1b0-48f6845ecfed",
   "metadata": {},
   "source": [
    "##  Extraer Noticias de Google News"
   ]
  },
  {
   "cell_type": "markdown",
   "id": "7f497c8e-0b81-4853-b1a0-46114005e439",
   "metadata": {},
   "source": [
    "Es posible extraer noticias asociadas a [Google News](https://news.google.com/), usando la herramienta [`gnewsclient`](https://pypi.org/project/gnewsclient/), desarrollada por Nikhil Kumar Singh.\n",
    "\n",
    "Es una herramienta bastante intuitiva de usar.\n",
    "\n",
    "Considere que haremos un **Web Scraping** de una página que hace Web Scraping de noticias, utilizando los motores de Google."
   ]
  },
  {
   "cell_type": "code",
   "execution_count": 13,
   "id": "88ee4492-7008-413b-a780-294107c4a1f0",
   "metadata": {},
   "outputs": [],
   "source": [
    "# Inicializar el objeto gnewsclient\n",
    "client = gnewsclient.NewsClient()"
   ]
  },
  {
   "cell_type": "markdown",
   "id": "f6223602-a3ff-46fe-80a3-dec537821073",
   "metadata": {},
   "source": [
    "Como observamos a continuación, el cliente tiene algunas propiedades y métodos útiles:"
   ]
  },
  {
   "cell_type": "code",
   "execution_count": 14,
   "id": "adaedee9-7db4-45ce-b02f-2b0a12d06ed6",
   "metadata": {},
   "outputs": [
    {
     "name": "stdout",
     "output_type": "stream",
     "text": [
      "['__class__', '__delattr__', '__dict__', '__dir__', '__doc__', '__eq__', '__format__', '__ge__', '__getattribute__', '__gt__', '__hash__', '__init__', '__init_subclass__', '__le__', '__lt__', '__module__', '__ne__', '__new__', '__reduce__', '__reduce_ex__', '__repr__', '__setattr__', '__sizeof__', '__str__', '__subclasshook__', '__weakref__', 'get_config', 'get_news', 'language', 'languages', 'location', 'locations', 'max_results', 'params_dict', 'parse_feed', 'topic', 'topics', 'use_opengraph']\n"
     ]
    }
   ],
   "source": [
    "print(dir(client))"
   ]
  },
  {
   "cell_type": "markdown",
   "id": "db224562-6fd7-4645-bd65-e479fb35eb38",
   "metadata": {},
   "source": [
    "[[Volver al inicio]](#Contenido)"
   ]
  },
  {
   "cell_type": "markdown",
   "id": "ec148850-5ae3-46d0-82f5-eaa7f934009d",
   "metadata": {},
   "source": [
    "## Propiedades del Cliente de Noticias"
   ]
  },
  {
   "cell_type": "markdown",
   "id": "09732dbb-a3fc-4d4b-8c9f-2de1832f96e0",
   "metadata": {},
   "source": [
    "Podemos observar que tenemos varios países a disposición:"
   ]
  },
  {
   "cell_type": "code",
   "execution_count": 15,
   "id": "45db9421-9d7c-4a19-a75b-65c871ee1eb8",
   "metadata": {},
   "outputs": [
    {
     "name": "stdout",
     "output_type": "stream",
     "text": [
      "['Australia', 'Botswana', 'Canada ', 'Ethiopia', 'Ghana', 'India ', 'Indonesia', 'Ireland', 'Israel ', 'Kenya', 'Latvia', 'Malaysia', 'Namibia', 'New Zealand', 'Nigeria', 'Pakistan', 'Philippines', 'Singapore', 'South Africa', 'Tanzania', 'Uganda', 'United Kingdom', 'United States', 'Zimbabwe', 'Czech Republic', 'Germany', 'Austria', 'Switzerland', 'Argentina', 'Chile', 'Colombia', 'Cuba', 'Mexico', 'Peru', 'Venezuela', 'Belgium ', 'France', 'Morocco', 'Senegal', 'Italy', 'Lithuania', 'Hungary', 'Netherlands', 'Norway', 'Poland', 'Brazil', 'Portugal', 'Romania', 'Slovakia', 'Slovenia', 'Sweden', 'Vietnam', 'Turkey', 'Greece', 'Bulgaria', 'Russia', 'Ukraine ', 'Serbia', 'United Arab Emirates', 'Saudi Arabia', 'Lebanon', 'Egypt', 'Bangladesh', 'Thailand', 'China', 'Taiwan', 'Hong Kong', 'Japan', 'Republic of Korea']\n"
     ]
    }
   ],
   "source": [
    "print(client.locations)"
   ]
  },
  {
   "cell_type": "code",
   "execution_count": 7,
   "id": "c81883e5-6468-4a13-bbb4-60dbce50b8b2",
   "metadata": {},
   "outputs": [
    {
     "name": "stdout",
     "output_type": "stream",
     "text": [
      "Países Disponibles: 69\n"
     ]
    }
   ],
   "source": [
    "print(f'Países Disponibles: {len(client.locations)}')"
   ]
  },
  {
   "cell_type": "markdown",
   "id": "f0cc4e25-743e-475d-a283-a9e6f1cba083",
   "metadata": {},
   "source": [
    "Además, podemos minar en diferentes idiomas también:"
   ]
  },
  {
   "cell_type": "code",
   "execution_count": 16,
   "id": "36ec68dc-32d9-401b-8ad7-0b1f9ef9573d",
   "metadata": {},
   "outputs": [
    {
     "name": "stdout",
     "output_type": "stream",
     "text": [
      "['english', 'indonesian', 'czech', 'german', 'spanish', 'french', 'italian', 'latvian', 'lithuanian', 'hungarian', 'dutch', 'norwegian', 'polish', 'portuguese brasil', 'portuguese portugal', 'romanian', 'slovak', 'slovenian', 'swedish', 'vietnamese', 'turkish', 'greek', 'bulgarian', 'russian', 'serbian', 'ukrainian', 'hebrew', 'arabic', 'marathi', 'hindi', 'bengali', 'tamil', 'telugu', 'malyalam', 'thai', 'chinese simplified', 'chinese traditional', 'japanese', 'korean']\n"
     ]
    }
   ],
   "source": [
    "print(client.languages)"
   ]
  },
  {
   "cell_type": "code",
   "execution_count": 9,
   "id": "c5e12822-ff3c-4f48-bf3e-8f80175e8418",
   "metadata": {},
   "outputs": [
    {
     "name": "stdout",
     "output_type": "stream",
     "text": [
      "Idiomas Disponibles: 39\n"
     ]
    }
   ],
   "source": [
    "print(f'Idiomas Disponibles: {len(client.languages)}')"
   ]
  },
  {
   "cell_type": "markdown",
   "id": "f37125ad-8eda-40d1-bf60-a74ab634c5e2",
   "metadata": {},
   "source": [
    "Podemos también elegir entre diferentes temas disponibles:"
   ]
  },
  {
   "cell_type": "code",
   "execution_count": 18,
   "id": "56a6ddaf-73b4-4755-9e70-8e7020bbfd14",
   "metadata": {},
   "outputs": [
    {
     "name": "stdout",
     "output_type": "stream",
     "text": [
      "['Top Stories', 'World', 'Nation', 'Business', 'Technology', 'Entertainment', 'Sports', 'Science', 'Health']\n"
     ]
    }
   ],
   "source": [
    "# Mostrar Tópicos disponibles\n",
    "topicos = client.topics\n",
    "print(topicos)"
   ]
  },
  {
   "cell_type": "markdown",
   "id": "3c712171-36f9-48a4-a3b0-d3fe26ce51aa",
   "metadata": {},
   "source": [
    "Tal vez, el método más importante de este paquete es **`get_news()`**, que busca por las noticias solicitadas en la web a través de Google."
   ]
  },
  {
   "cell_type": "code",
   "execution_count": 23,
   "id": "7b019f53-53aa-41a8-b432-76da0026d34c",
   "metadata": {},
   "outputs": [
    {
     "data": {
      "text/plain": [
       "[{'title': 'Ukraine hits Russian oil tanker with sea drone hours after attacking naval base - CNN',\n",
       "  'link': 'https://news.google.com/rss/articles/CBMiT2h0dHBzOi8vd3d3LmNubi5jb20vMjAyMy8wOC8wNS9ldXJvcGUvdWtyYWluZS1zZWEtZHJvbmUtYXR0YWNrcy1pbnRsL2luZGV4Lmh0bWzSAVNodHRwczovL2FtcC5jbm4uY29tL2Nubi8yMDIzLzA4LzA1L2V1cm9wZS91a3JhaW5lLXNlYS1kcm9uZS1hdHRhY2tzLWludGwvaW5kZXguaHRtbA?oc=5',\n",
       "  'media': None},\n",
       " {'title': 'Jan. 6 Prosecutors Ask for Protective Order, Citing Threatening Trump Post - The New York Times',\n",
       "  'link': 'https://news.google.com/rss/articles/CBMiWGh0dHBzOi8vd3d3Lm55dGltZXMuY29tLzIwMjMvMDgvMDUvdXMvcG9saXRpY3MvamFjay1zbWl0aC10cnVtcC10aHJlYXQtc29jaWFsLW1lZGlhLmh0bWzSAQA?oc=5',\n",
       "  'media': None},\n",
       " {'title': 'Kai Cenat: Police plan to charge Twitch streamer after PS5 giveaway mayhem - BBC',\n",
       "  'link': 'https://news.google.com/rss/articles/CBMiMWh0dHBzOi8vd3d3LmJiYy5jb20vbmV3cy93b3JsZC11cy1jYW5hZGEtNjY0MTYzNjbSATVodHRwczovL3d3dy5iYmMuY29tL25ld3Mvd29ybGQtdXMtY2FuYWRhLTY2NDE2MzY2LmFtcA?oc=5',\n",
       "  'media': None},\n",
       " {'title': 'Ukraine counter-offensive: Can it still succeed? - BBC News - BBC News',\n",
       "  'link': 'https://news.google.com/rss/articles/CCAiCzlLTlV3bU9XQzVJmAEB?oc=5',\n",
       "  'media': None},\n",
       " {'title': 'Country lacks a unifying voice in aftermath of Trump charges - The Washington Post',\n",
       "  'link': 'https://news.google.com/rss/articles/CBMiSmh0dHBzOi8vd3d3Lndhc2hpbmd0b25wb3N0LmNvbS9uYXRpb24vMjAyMy8wOC8wNS91cy1sYWNrcy11bmlmeWluZy1maWd1cmUv0gEA?oc=5',\n",
       "  'media': None},\n",
       " {'title': \"Pence seizes on Trump's latest indictment as he looks to break through in crowded GOP field - The Associated Press\",\n",
       "  'link': 'https://news.google.com/rss/articles/CBMic2h0dHBzOi8vYXBuZXdzLmNvbS9hcnRpY2xlL3BlbmNlLXRydW1wLTIwMjQtY2FtcGFpZ24taW5kaWN0bWVudC1yZXB1YmxpY2FuLXByaW1hcnktNWQ4ODI2NTI2MzMxOGI3YzRhZjdlOGIzNjhiMmEwOGXSAQA?oc=5',\n",
       "  'media': None},\n",
       " {'title': 'Search for suspect underway after shooting leaves 2 Orlando officers in critical condition - CNN',\n",
       "  'link': 'https://news.google.com/rss/articles/CBMiSWh0dHBzOi8vd3d3LmNubi5jb20vMjAyMy8wOC8wNS91cy9vcmxhbmRvLXBvbGljZS1vZmZpY2Vycy1zaG90L2luZGV4Lmh0bWzSAU1odHRwczovL2FtcC5jbm4uY29tL2Nubi8yMDIzLzA4LzA1L3VzL29ybGFuZG8tcG9saWNlLW9mZmljZXJzLXNob3QvaW5kZXguaHRtbA?oc=5',\n",
       "  'media': None},\n",
       " {'title': \"Florida officials tell state schools to teach AP Psychology 'in its entirety' - ABC News\",\n",
       "  'link': 'https://news.google.com/rss/articles/CBMiaWh0dHBzOi8vYWJjbmV3cy5nby5jb20vVVMvZmxvcmlkYS1vZmZpY2lhbHMtc3RhdGUtc2Nob29scy10ZWFjaC1hcC1wc3ljaG9sb2d5LWVudGlyZXR5L3N0b3J5P2lkPTEwMjAzMDgwNdIBbWh0dHBzOi8vYWJjbmV3cy5nby5jb20vYW1wL1VTL2Zsb3JpZGEtb2ZmaWNpYWxzLXN0YXRlLXNjaG9vbHMtdGVhY2gtYXAtcHN5Y2hvbG9neS1lbnRpcmV0eS9zdG9yeT9pZD0xMDIwMzA4MDU?oc=5',\n",
       "  'media': None},\n",
       " {'title': \"33 officer arrests in 3 years: Sheriff asks 'What are we doing wrong' - AOL\",\n",
       "  'link': 'https://news.google.com/rss/articles/CBMiPWh0dHBzOi8vd3d3LmFvbC5jb20vMzMtb2ZmaWNlci1hcnJlc3RzLTMteWVhcnMtMTIwMDAwNTk1Lmh0bWzSAUVodHRwczovL3d3dy5hb2wuY29tL2FtcGh0bWwvMzMtb2ZmaWNlci1hcnJlc3RzLTMteWVhcnMtMTIwMDAwNTk1Lmh0bWw?oc=5',\n",
       "  'media': None},\n",
       " {'title': \"Texas Judge Says Doctors Can Use 'Good Faith Judgment' in Providing Abortions - The New York Times\",\n",
       "  'link': 'https://news.google.com/rss/articles/CBMiTGh0dHBzOi8vd3d3Lm55dGltZXMuY29tLzIwMjMvMDgvMDQvdXMvdGV4YXMtYWJvcnRpb24tYmFuLWxhd3N1aXQtcnVsaW5nLmh0bWzSAQA?oc=5',\n",
       "  'media': None}]"
      ]
     },
     "execution_count": 23,
     "metadata": {},
     "output_type": "execute_result"
    }
   ],
   "source": [
    "# Obtener las noticias del cliente\n",
    "noticias = client.get_news()\n",
    "noticias"
   ]
  },
  {
   "cell_type": "markdown",
   "id": "b7d95b8a-8c7f-4a04-8669-56ee0abcda1e",
   "metadata": {},
   "source": [
    "[[Volver al inicio]](#Contenido)"
   ]
  },
  {
   "cell_type": "markdown",
   "id": "bdb81f37-fa9b-45a8-81c1-68d842da7b3f",
   "metadata": {
    "tags": []
   },
   "source": [
    "## Fijar parámetros del Cliente "
   ]
  },
  {
   "cell_type": "markdown",
   "id": "7da2c77e-21a7-4d13-9198-078796199680",
   "metadata": {},
   "source": [
    "Podemos elegir entre tópicos de a lista y pasarlos al cliente:"
   ]
  },
  {
   "cell_type": "code",
   "execution_count": 24,
   "id": "02e41a8a-e688-46a8-b510-9807a8c523c1",
   "metadata": {},
   "outputs": [
    {
     "name": "stdout",
     "output_type": "stream",
     "text": [
      "['Top Stories', 'World', 'Nation', 'Business', 'Technology', 'Entertainment', 'Sports', 'Science', 'Health']\n"
     ]
    }
   ],
   "source": [
    "print(topicos)"
   ]
  },
  {
   "cell_type": "code",
   "execution_count": 25,
   "id": "a6fd3f8a-8d82-45fd-8dd9-1d38b93c04b1",
   "metadata": {},
   "outputs": [],
   "source": [
    "# Elegir de tópicos discponibles\n",
    "client.topic = topicos[-1]"
   ]
  },
  {
   "cell_type": "code",
   "execution_count": 26,
   "id": "df40e372-04d1-46e2-b629-1c6589801fe5",
   "metadata": {},
   "outputs": [
    {
     "name": "stdout",
     "output_type": "stream",
     "text": [
      "['english', 'indonesian', 'czech', 'german', 'spanish', 'french', 'italian', 'latvian', 'lithuanian', 'hungarian', 'dutch', 'norwegian', 'polish', 'portuguese brasil', 'portuguese portugal', 'romanian', 'slovak', 'slovenian', 'swedish', 'vietnamese', 'turkish', 'greek', 'bulgarian', 'russian', 'serbian', 'ukrainian', 'hebrew', 'arabic', 'marathi', 'hindi', 'bengali', 'tamil', 'telugu', 'malyalam', 'thai', 'chinese simplified', 'chinese traditional', 'japanese', 'korean']\n"
     ]
    }
   ],
   "source": [
    "print(client.languages)"
   ]
  },
  {
   "cell_type": "markdown",
   "id": "3b38b42d-6a1d-48af-8d70-84a9b24383ec",
   "metadata": {},
   "source": [
    "Podemos también elegir el idioma de nuestro interés:"
   ]
  },
  {
   "cell_type": "code",
   "execution_count": 27,
   "id": "a3ef99a8-4038-42c5-87c4-d2691bb50a7b",
   "metadata": {},
   "outputs": [],
   "source": [
    "client.language = 'greek'"
   ]
  },
  {
   "cell_type": "code",
   "execution_count": 28,
   "id": "629267e6-32fd-4f25-853b-eb52f840b866",
   "metadata": {},
   "outputs": [
    {
     "data": {
      "text/plain": [
       "[{'title': 'ΗΠΑ: Εγκρίθηκε το πρώτο χάπι για την επιλόχειο κατάθλιψη - ΕΡΤ News',\n",
       "  'link': 'https://news.google.com/rss/articles/CBMiZGh0dHBzOi8vd3d3LmVydG5ld3MuZ3IvZWlkaXNlaXMvZXBpc3RpbWkvaXBhLWVna3JpdGhpa2UtdG8tcHJvdG8teGFwaS1naWEtdGluLWVwaWxveGVpby1rYXRhdGhsaXBzaS_SAWhodHRwczovL3d3dy5lcnRuZXdzLmdyL2VpZGlzZWlzL2VwaXN0aW1pL2lwYS1lZ2tyaXRoaWtlLXRvLXByb3RvLXhhcGktZ2lhLXRpbi1lcGlsb3hlaW8ta2F0YXRobGlwc2kvP2FtcA?oc=5',\n",
       "  'media': None},\n",
       " {'title': 'Ποιος είναι ο πιο υγιεινός ξηρός καρπός; - Newsbeast.gr',\n",
       "  'link': 'https://news.google.com/rss/articles/CBMiVmh0dHBzOi8vd3d3Lm5ld3NiZWFzdC5nci9oZWFsdGgvYXJ0aHJvLzk5MTU0OTQvcG9pb3MtZWluYWktby1waW8teWdpZWlub3MteGlyb3Mta2FycG9z0gFcaHR0cHM6Ly93d3cubmV3c2JlYXN0LmdyL2hlYWx0aC9hcnRocm8vOTkxNTQ5NC9wb2lvcy1laW5haS1vLXBpby15Z2llaW5vcy14aXJvcy1rYXJwb3M_YW1wPTE?oc=5',\n",
       "  'media': None},\n",
       " {'title': 'Περισσότερη πρωτεΐνη στη διατροφή ίσως είναι το νέο μυστικό για την πρόληψη της γήρανσης - Capital.gr',\n",
       "  'link': 'https://news.google.com/rss/articles/CBMigAFodHRwczovL3d3dy5jYXBpdGFsLmdyL2hlYWx0aC8zNzMwOTYxL3Blcmlzc290ZXJpLXByb3RlaW5pLXN0aS1kaWF0cm9maS1pc29zLWVpbmFpLXRvLW5lby1tdXN0aWtvLWdpYS10aW4tcHJvbGlwc2ktdGlzLWdpcmFuc2lzL9IBiQFodHRwczovL3d3dy5jYXBpdGFsLmdyL2hlYWx0aC8zNzMwOTYxL3Blcmlzc290ZXJpLXByb3RlaW5pLXN0aS1kaWF0cm9maS1pc29zLWVpbmFpLXRvLW5lby1tdXN0aWtvLWdpYS10aW4tcHJvbGlwc2ktdGlzLWdpcmFuc2lzLz9hbXA9dHJ1ZQ?oc=5',\n",
       "  'media': None},\n",
       " {'title': 'Διατροφή: Ποιες υγιεινές αντικαταστάσεις χαρίζουν μακροζωία; - vita.gr',\n",
       "  'link': 'https://news.google.com/rss/articles/CBMiY2h0dHBzOi8vd3d3LnZpdGEuZ3IvMjAyMy8wOC8wNS9kaWF0cm9maS9kaWF0cm9maS1wb2llcy15Z2llaW5lcy1hbnRpa2F0YXN0YXNlaXMteGFyaXpvdW4tbWFrcm96b2lhL9IBZ2h0dHBzOi8vd3d3LnZpdGEuZ3IvMjAyMy8wOC8wNS9kaWF0cm9maS9kaWF0cm9maS1wb2llcy15Z2llaW5lcy1hbnRpa2F0YXN0YXNlaXMteGFyaXpvdW4tbWFrcm96b2lhL2FtcC8?oc=5',\n",
       "  'media': None},\n",
       " {'title': 'Φάρμακο για τον καρκίνο εξουδετέρωσε όλα τα είδη όγκων στα οποία δοκιμάστηκε! - Kavala News',\n",
       "  'link': 'https://news.google.com/rss/articles/CBMiZmh0dHBzOi8vd3d3LmthdmFsYW5ld3MuZ3IvMzYyMzYtZmFybWFrby1rYXJraW5vLWV4b3lkZXRlcm9zZS1vbGEtZWlkaS1vZ2tvbi1zdGEtb3BvaWEtZG9raW1hc3Rpa2UuaHRtbNIBAA?oc=5',\n",
       "  'media': None},\n",
       " {'title': 'Αυτή είναι η πιο υγιεινή τροφή του κόσμου που πρέπει να προσθέσετε στην καθημερινότητά σας - Vogue Greece',\n",
       "  'link': 'https://news.google.com/rss/articles/CBMidWh0dHBzOi8vdm9ndWUuZ3IvYmVhdXR5L2F5dGktZWluYWktaS1waW8teWdpZWluaS10cm9maS10b3kta29zbW95LXBveS1wcmVwZWktbmEtcHJvc3RoZXNldGUtc3Rpbi1rYXRoaW1lcmlub3RpdGEtc2FzL9IBeWh0dHBzOi8vdm9ndWUuZ3IvYmVhdXR5L2F5dGktZWluYWktaS1waW8teWdpZWluaS10cm9maS10b3kta29zbW95LXBveS1wcmVwZWktbmEtcHJvc3RoZXNldGUtc3Rpbi1rYXRoaW1lcmlub3RpdGEtc2FzL2FtcC8?oc=5',\n",
       "  'media': None},\n",
       " {'title': 'Αλτσχάιμερ: Το μυρωδικό που δυναμώνει μυαλό και μνήμη - AlfaVita',\n",
       "  'link': 'https://news.google.com/rss/articles/CBMiWWh0dHBzOi8vd3d3LmFsZmF2aXRhLmdyL2VwaXN0aW1pLzQyMzE3NV9hbHRzaGFpbWVyLW15cm9kaWtvLXBveS1keW5hbW9uZWktbXlhbG8ta2FpLW1uaW1p0gFdaHR0cHM6Ly93d3cuYWxmYXZpdGEuZ3IvZXBpc3RpbWkvNDIzMTc1X2FsdHNoYWltZXItbXlyb2Rpa28tcG95LWR5bmFtb25laS1teWFsby1rYWktbW5pbWk_YW1w?oc=5',\n",
       "  'media': None},\n",
       " {'title': 'Προβιοτικά: Καινούργια έρευνα δείχνει πώς επηρεάζει την άνοια και τη γήρανση - Real.gr',\n",
       "  'link': 'https://news.google.com/rss/articles/CBMidGh0dHBzOi8vd3d3LnJlYWwuZ3IveWdlaWEvYXJ0aHJvL3Byb2Jpb3Rpa2Ffa2Fpbm91cmdpYV9lcmV1bmFfZGVpeG5laV9wb3NfZXBpcmVhemVpX3Rpbl9hbm9pYV9rYWlfdGlfZ2lyYW5zaS05MzkzNjkv0gEA?oc=5',\n",
       "  'media': None},\n",
       " {'title': 'Κουνούπια / Τα φονικότερα πλάσματα στον κόσμο; - tvxs.gr - TVXS - TV Χωρίς Σύνορα',\n",
       "  'link': 'https://news.google.com/rss/articles/CBMiS2h0dHBzOi8vdHZ4cy5nci9saWZlLXBsdXMvbGlmZS9rb3lub3lwaWEtdGEtZm9uaWtvdGVyYS1wbGFzbWF0YS1zdG9uLWtvc21vL9IBAA?oc=5',\n",
       "  'media': None},\n",
       " {'title': 'Η ανάδυση της αόρατης Αθήνας: Ζωντανεύουν τα παλιά μέγαρα του κέντρου - Η Καθημερινή',\n",
       "  'link': 'https://news.google.com/rss/articles/CBMic2h0dHBzOi8vd3d3LmthdGhpbWVyaW5pLmdyL2N1bHR1cmUvNTYyNTUzMjQyL2ktYW5hZHlzaS10aXMtYW9yYXRpcy1hdGhpbmFzLXpvbnRhbmV5b3luLXRhLXBhbGlhLW1lZ2FyYS10b3kta2VudHJveS_SAQA?oc=5',\n",
       "  'media': None}]"
      ]
     },
     "execution_count": 28,
     "metadata": {},
     "output_type": "execute_result"
    }
   ],
   "source": [
    "client.get_news()"
   ]
  },
  {
   "cell_type": "markdown",
   "id": "ea3ef5ad-2785-4a13-87f7-b42515aee328",
   "metadata": {},
   "source": [
    "También es posible iniciar el cliente con parámetros fijos desde el principio:"
   ]
  },
  {
   "cell_type": "code",
   "execution_count": 38,
   "id": "b9e283b2-c775-401a-94d0-6703ab51c8f2",
   "metadata": {},
   "outputs": [],
   "source": [
    "# Con opengraph se puede filtrar el medio de comunicación\n",
    "client = gnewsclient.NewsClient(location='Colombia', language='spanish', topic='Nation', use_opengraph=True, max_results=100)\n",
    "# Obtener noticias\n",
    "noticias = client.get_news()"
   ]
  },
  {
   "cell_type": "code",
   "execution_count": 37,
   "id": "158d1a5e-9b23-4527-ad69-f51b96fbf11d",
   "metadata": {},
   "outputs": [
    {
     "name": "stdout",
     "output_type": "stream",
     "text": [
      "{'url': 'https://www.pulzo.com/nacion/multa-conjuntos-residenciales-por-contratar-empresas-seguridad-papeles-PP2945783', 'site_name': 'pulzo.com', 'title': 'Avisan a conjuntos que están contratando empresas de seguridad; tendrían millonaria multa - Pulzo.com', 'description': 'Noticias de multas en Colombia: para evitar problemas y peligros para los residentes de los conjuntos residenciales, deben contratar buenas empresas.', 'image': 'https://d2yoo3qu6vrk5d.cloudfront.net/pulzo-lite/images-resized/PP2945783-h-o.jpg', 'type': 'article', 'locale': 'es_LA', 'locale:alternate': 'es_ES', 'image:url': 'https://d2yoo3qu6vrk5d.cloudfront.net/pulzo-lite/images-resized/PP2945783-h-o.jpg', 'image:secure_url': 'https://d2yoo3qu6vrk5d.cloudfront.net/pulzo-lite/images-resized/PP2945783-h-o.jpg', 'image_width': 150, 'image_height': 80.81285444234405, 'link': 'https://news.google.com/rss/articles/CBMibWh0dHBzOi8vd3d3LnB1bHpvLmNvbS9uYWNpb24vbXVsdGEtY29uanVudG9zLXJlc2lkZW5jaWFsZXMtcG9yLWNvbnRyYXRhci1lbXByZXNhcy1zZWd1cmlkYWQtcGFwZWxlcy1QUDI5NDU3ODPSAXFodHRwczovL3d3dy5wdWx6by5jb20vYW1wL25hY2lvbi9tdWx0YS1jb25qdW50b3MtcmVzaWRlbmNpYWxlcy1wb3ItY29udHJhdGFyLWVtcHJlc2FzLXNlZ3VyaWRhZC1wYXBlbGVzLVBQMjk0NTc4Mw?oc=5', 'media': None}\n"
     ]
    }
   ],
   "source": [
    "import numpy as np\n",
    "print(np.random.choice(noticias))"
   ]
  },
  {
   "cell_type": "code",
   "execution_count": 39,
   "id": "51bca1df-820a-44c0-b117-e2197431563b",
   "metadata": {},
   "outputs": [
    {
     "data": {
      "text/html": [
       "<div>\n",
       "<style scoped>\n",
       "    .dataframe tbody tr th:only-of-type {\n",
       "        vertical-align: middle;\n",
       "    }\n",
       "\n",
       "    .dataframe tbody tr th {\n",
       "        vertical-align: top;\n",
       "    }\n",
       "\n",
       "    .dataframe thead th {\n",
       "        text-align: right;\n",
       "    }\n",
       "</style>\n",
       "<table border=\"1\" class=\"dataframe\">\n",
       "  <thead>\n",
       "    <tr style=\"text-align: right;\">\n",
       "      <th></th>\n",
       "      <th>url</th>\n",
       "      <th>site_name</th>\n",
       "      <th>title</th>\n",
       "      <th>description</th>\n",
       "      <th>image</th>\n",
       "      <th>type</th>\n",
       "      <th>locale</th>\n",
       "      <th>image:secure_url</th>\n",
       "      <th>image_width</th>\n",
       "      <th>image_height</th>\n",
       "      <th>...</th>\n",
       "      <th>video:width</th>\n",
       "      <th>video:height</th>\n",
       "      <th>video:url</th>\n",
       "      <th>video:secure_url</th>\n",
       "      <th>video:tag</th>\n",
       "      <th>article:publisher</th>\n",
       "      <th>article:author</th>\n",
       "      <th>country_name</th>\n",
       "      <th>region</th>\n",
       "      <th>determiner</th>\n",
       "    </tr>\n",
       "  </thead>\n",
       "  <tbody>\n",
       "    <tr>\n",
       "      <th>0</th>\n",
       "      <td>https://www.elpais.com.co/politica/nicolas-pet...</td>\n",
       "      <td>Noticias de Cali, Valle y Colombia - Periodico...</td>\n",
       "      <td>Nicolás Petro habla del protagónico rol de Ver...</td>\n",
       "      <td>El hijo del Presidente es investigado por enri...</td>\n",
       "      <td>https://www.elpais.com.co/resizer/NmdmUWgBB8Jy...</td>\n",
       "      <td>article</td>\n",
       "      <td>es_LA</td>\n",
       "      <td>https://www.elpais.com.co/resizer/NmdmUWgBB8Jy...</td>\n",
       "      <td>150</td>\n",
       "      <td>80.750</td>\n",
       "      <td>...</td>\n",
       "      <td>NaN</td>\n",
       "      <td>NaN</td>\n",
       "      <td>NaN</td>\n",
       "      <td>NaN</td>\n",
       "      <td>NaN</td>\n",
       "      <td>NaN</td>\n",
       "      <td>NaN</td>\n",
       "      <td>NaN</td>\n",
       "      <td>NaN</td>\n",
       "      <td>NaN</td>\n",
       "    </tr>\n",
       "    <tr>\n",
       "      <th>1</th>\n",
       "      <td>https://www.infobae.com/colombia/2023/08/05/ca...</td>\n",
       "      <td>infobae</td>\n",
       "      <td>Caso Nicolás Petro: estos son los personajes q...</td>\n",
       "      <td>El hijo del presidente Gustavo Petro prendió e...</td>\n",
       "      <td>https://www.infobae.com/new-resizer/K4d1gUFLWN...</td>\n",
       "      <td>article</td>\n",
       "      <td>es_LA</td>\n",
       "      <td>NaN</td>\n",
       "      <td>150</td>\n",
       "      <td>78.750</td>\n",
       "      <td>...</td>\n",
       "      <td>NaN</td>\n",
       "      <td>NaN</td>\n",
       "      <td>NaN</td>\n",
       "      <td>NaN</td>\n",
       "      <td>NaN</td>\n",
       "      <td>NaN</td>\n",
       "      <td>NaN</td>\n",
       "      <td>NaN</td>\n",
       "      <td>NaN</td>\n",
       "      <td>NaN</td>\n",
       "    </tr>\n",
       "    <tr>\n",
       "      <th>2</th>\n",
       "      <td>https://www.eltiempo.com/economia/sectores/gas...</td>\n",
       "      <td>El Tiempo</td>\n",
       "      <td>Gasolina sube $ 600 pesos en Colombia: así que...</td>\n",
       "      <td>Estas son las ciudades que tendrán la gasolina...</td>\n",
       "      <td>https://www.eltiempo.com/uploads/2023/07/13/64...</td>\n",
       "      <td>article</td>\n",
       "      <td>es_CO</td>\n",
       "      <td>NaN</td>\n",
       "      <td>150</td>\n",
       "      <td>150.000</td>\n",
       "      <td>...</td>\n",
       "      <td>NaN</td>\n",
       "      <td>NaN</td>\n",
       "      <td>NaN</td>\n",
       "      <td>NaN</td>\n",
       "      <td>NaN</td>\n",
       "      <td>NaN</td>\n",
       "      <td>NaN</td>\n",
       "      <td>NaN</td>\n",
       "      <td>NaN</td>\n",
       "      <td>NaN</td>\n",
       "    </tr>\n",
       "    <tr>\n",
       "      <th>3</th>\n",
       "      <td>https://www.semana.com/nacion/justicia/articul...</td>\n",
       "      <td>Semana.com   Últimas Noticias de Colombia y el...</td>\n",
       "      <td>Así fue que Nicolás Petro decidió contarle tod...</td>\n",
       "      <td>Bastó la imputación de la Fiscalía para derrum...</td>\n",
       "      <td>https://www.semana.com/resizer/KhvD0fNNNqZ4aSB...</td>\n",
       "      <td>article</td>\n",
       "      <td>es_LA</td>\n",
       "      <td>https://www.semana.com/resizer/KhvD0fNNNqZ4aSB...</td>\n",
       "      <td>150</td>\n",
       "      <td>80.750</td>\n",
       "      <td>...</td>\n",
       "      <td>NaN</td>\n",
       "      <td>NaN</td>\n",
       "      <td>NaN</td>\n",
       "      <td>NaN</td>\n",
       "      <td>NaN</td>\n",
       "      <td>NaN</td>\n",
       "      <td>NaN</td>\n",
       "      <td>NaN</td>\n",
       "      <td>NaN</td>\n",
       "      <td>NaN</td>\n",
       "    </tr>\n",
       "    <tr>\n",
       "      <th>4</th>\n",
       "      <td>https://wintorabc.com.co/subsidios/renta-ciuda...</td>\n",
       "      <td>Wintor ABC</td>\n",
       "      <td>Tránsito a Renta Ciudadana alcanza a 1,9 millo...</td>\n",
       "      <td>El programa Tránsito a Renta Ciudadana sigue d...</td>\n",
       "      <td>https://wintorabc.com.co/wp-content/uploads/20...</td>\n",
       "      <td>article</td>\n",
       "      <td>es_ES</td>\n",
       "      <td>https://wintorabc.com.co/wp-content/uploads/20...</td>\n",
       "      <td>150</td>\n",
       "      <td>84.375</td>\n",
       "      <td>...</td>\n",
       "      <td>NaN</td>\n",
       "      <td>NaN</td>\n",
       "      <td>NaN</td>\n",
       "      <td>NaN</td>\n",
       "      <td>NaN</td>\n",
       "      <td>NaN</td>\n",
       "      <td>NaN</td>\n",
       "      <td>NaN</td>\n",
       "      <td>NaN</td>\n",
       "      <td>NaN</td>\n",
       "    </tr>\n",
       "    <tr>\n",
       "      <th>...</th>\n",
       "      <td>...</td>\n",
       "      <td>...</td>\n",
       "      <td>...</td>\n",
       "      <td>...</td>\n",
       "      <td>...</td>\n",
       "      <td>...</td>\n",
       "      <td>...</td>\n",
       "      <td>...</td>\n",
       "      <td>...</td>\n",
       "      <td>...</td>\n",
       "      <td>...</td>\n",
       "      <td>...</td>\n",
       "      <td>...</td>\n",
       "      <td>...</td>\n",
       "      <td>...</td>\n",
       "      <td>...</td>\n",
       "      <td>...</td>\n",
       "      <td>...</td>\n",
       "      <td>...</td>\n",
       "      <td>...</td>\n",
       "      <td>...</td>\n",
       "    </tr>\n",
       "    <tr>\n",
       "      <th>65</th>\n",
       "      <td>https://www.youtube.com/watch?v=bmUbXWLrID0</td>\n",
       "      <td>YouTube</td>\n",
       "      <td>Se cayó orden de detención contra María Fernan...</td>\n",
       "      <td>A través de un certificado, con fecha del 12 d...</td>\n",
       "      <td>https://i.ytimg.com/vi/bmUbXWLrID0/maxresdefau...</td>\n",
       "      <td>video.other</td>\n",
       "      <td>NaN</td>\n",
       "      <td>NaN</td>\n",
       "      <td>150</td>\n",
       "      <td>84.375</td>\n",
       "      <td>...</td>\n",
       "      <td>1280</td>\n",
       "      <td>720</td>\n",
       "      <td>https://www.youtube.com/embed/bmUbXWLrID0</td>\n",
       "      <td>https://www.youtube.com/embed/bmUbXWLrID0</td>\n",
       "      <td>Julio Sánchez Cristo</td>\n",
       "      <td>NaN</td>\n",
       "      <td>NaN</td>\n",
       "      <td>NaN</td>\n",
       "      <td>NaN</td>\n",
       "      <td>NaN</td>\n",
       "    </tr>\n",
       "    <tr>\n",
       "      <th>66</th>\n",
       "      <td>https://www.youtube.com/watch?v=7UpbgGvOXZg</td>\n",
       "      <td>YouTube</td>\n",
       "      <td>“Caso Nicolás Petro estremece los cimientos de...</td>\n",
       "      <td>El escándalo que se destapó tras las revelacio...</td>\n",
       "      <td>https://i.ytimg.com/vi/7UpbgGvOXZg/maxresdefau...</td>\n",
       "      <td>video.other</td>\n",
       "      <td>NaN</td>\n",
       "      <td>NaN</td>\n",
       "      <td>150</td>\n",
       "      <td>84.375</td>\n",
       "      <td>...</td>\n",
       "      <td>1280</td>\n",
       "      <td>720</td>\n",
       "      <td>https://www.youtube.com/embed/7UpbgGvOXZg</td>\n",
       "      <td>https://www.youtube.com/embed/7UpbgGvOXZg</td>\n",
       "      <td>Sergio Fajardo</td>\n",
       "      <td>NaN</td>\n",
       "      <td>NaN</td>\n",
       "      <td>NaN</td>\n",
       "      <td>NaN</td>\n",
       "      <td>NaN</td>\n",
       "    </tr>\n",
       "    <tr>\n",
       "      <th>67</th>\n",
       "      <td>https://www.lafm.com.co/judicial/explosiva-con...</td>\n",
       "      <td>None</td>\n",
       "      <td>Nicolás Petro: llamada entre Day Vásquez y Máx...</td>\n",
       "      <td>Se reveló una conversación telefónica que tuvo...</td>\n",
       "      <td>https://files.lafm.com.co/assets/public/styles...</td>\n",
       "      <td>article</td>\n",
       "      <td>NaN</td>\n",
       "      <td>https://files.lafm.com.co/assets/public/styles...</td>\n",
       "      <td>150</td>\n",
       "      <td>150.000</td>\n",
       "      <td>...</td>\n",
       "      <td>NaN</td>\n",
       "      <td>NaN</td>\n",
       "      <td>NaN</td>\n",
       "      <td>NaN</td>\n",
       "      <td>NaN</td>\n",
       "      <td>NaN</td>\n",
       "      <td>NaN</td>\n",
       "      <td>NaN</td>\n",
       "      <td>NaN</td>\n",
       "      <td>NaN</td>\n",
       "    </tr>\n",
       "    <tr>\n",
       "      <th>68</th>\n",
       "      <td>https://www.elespectador.com/politica/hombre-m...</td>\n",
       "      <td>ELESPECTADOR.COM</td>\n",
       "      <td>“Marlboro” recibió aval como candidato en medi...</td>\n",
       "      <td>La Registraduría certificó las firmas que Samu...</td>\n",
       "      <td>https://www.elespectador.com/resizer/zO6SxdW0Z...</td>\n",
       "      <td>article</td>\n",
       "      <td>NaN</td>\n",
       "      <td>NaN</td>\n",
       "      <td>150</td>\n",
       "      <td>150.000</td>\n",
       "      <td>...</td>\n",
       "      <td>NaN</td>\n",
       "      <td>NaN</td>\n",
       "      <td>NaN</td>\n",
       "      <td>NaN</td>\n",
       "      <td>NaN</td>\n",
       "      <td>NaN</td>\n",
       "      <td>NaN</td>\n",
       "      <td>Colombia</td>\n",
       "      <td>NaN</td>\n",
       "      <td>NaN</td>\n",
       "    </tr>\n",
       "    <tr>\n",
       "      <th>69</th>\n",
       "      <td>https://www.semana.com/nacion/articulo/convoca...</td>\n",
       "      <td>Semana.com   Últimas Noticias de Colombia y el...</td>\n",
       "      <td>Convocan a marchas en toda Colombia para pedir...</td>\n",
       "      <td>A falta de cuatro días para completar el prime...</td>\n",
       "      <td>https://www.semana.com/resizer/Ec-ZB5k5h9mzB2q...</td>\n",
       "      <td>article</td>\n",
       "      <td>es_LA</td>\n",
       "      <td>https://www.semana.com/resizer/Ec-ZB5k5h9mzB2q...</td>\n",
       "      <td>150</td>\n",
       "      <td>80.750</td>\n",
       "      <td>...</td>\n",
       "      <td>NaN</td>\n",
       "      <td>NaN</td>\n",
       "      <td>NaN</td>\n",
       "      <td>NaN</td>\n",
       "      <td>NaN</td>\n",
       "      <td>NaN</td>\n",
       "      <td>NaN</td>\n",
       "      <td>NaN</td>\n",
       "      <td>NaN</td>\n",
       "      <td>NaN</td>\n",
       "    </tr>\n",
       "  </tbody>\n",
       "</table>\n",
       "<p>70 rows × 29 columns</p>\n",
       "</div>"
      ],
      "text/plain": [
       "                                                  url  \\\n",
       "0   https://www.elpais.com.co/politica/nicolas-pet...   \n",
       "1   https://www.infobae.com/colombia/2023/08/05/ca...   \n",
       "2   https://www.eltiempo.com/economia/sectores/gas...   \n",
       "3   https://www.semana.com/nacion/justicia/articul...   \n",
       "4   https://wintorabc.com.co/subsidios/renta-ciuda...   \n",
       "..                                                ...   \n",
       "65        https://www.youtube.com/watch?v=bmUbXWLrID0   \n",
       "66        https://www.youtube.com/watch?v=7UpbgGvOXZg   \n",
       "67  https://www.lafm.com.co/judicial/explosiva-con...   \n",
       "68  https://www.elespectador.com/politica/hombre-m...   \n",
       "69  https://www.semana.com/nacion/articulo/convoca...   \n",
       "\n",
       "                                            site_name  \\\n",
       "0   Noticias de Cali, Valle y Colombia - Periodico...   \n",
       "1                                             infobae   \n",
       "2                                           El Tiempo   \n",
       "3   Semana.com   Últimas Noticias de Colombia y el...   \n",
       "4                                          Wintor ABC   \n",
       "..                                                ...   \n",
       "65                                            YouTube   \n",
       "66                                            YouTube   \n",
       "67                                               None   \n",
       "68                                   ELESPECTADOR.COM   \n",
       "69  Semana.com   Últimas Noticias de Colombia y el...   \n",
       "\n",
       "                                                title  \\\n",
       "0   Nicolás Petro habla del protagónico rol de Ver...   \n",
       "1   Caso Nicolás Petro: estos son los personajes q...   \n",
       "2   Gasolina sube $ 600 pesos en Colombia: así que...   \n",
       "3   Así fue que Nicolás Petro decidió contarle tod...   \n",
       "4   Tránsito a Renta Ciudadana alcanza a 1,9 millo...   \n",
       "..                                                ...   \n",
       "65  Se cayó orden de detención contra María Fernan...   \n",
       "66  “Caso Nicolás Petro estremece los cimientos de...   \n",
       "67  Nicolás Petro: llamada entre Day Vásquez y Máx...   \n",
       "68  “Marlboro” recibió aval como candidato en medi...   \n",
       "69  Convocan a marchas en toda Colombia para pedir...   \n",
       "\n",
       "                                          description  \\\n",
       "0   El hijo del Presidente es investigado por enri...   \n",
       "1   El hijo del presidente Gustavo Petro prendió e...   \n",
       "2   Estas son las ciudades que tendrán la gasolina...   \n",
       "3   Bastó la imputación de la Fiscalía para derrum...   \n",
       "4   El programa Tránsito a Renta Ciudadana sigue d...   \n",
       "..                                                ...   \n",
       "65  A través de un certificado, con fecha del 12 d...   \n",
       "66  El escándalo que se destapó tras las revelacio...   \n",
       "67  Se reveló una conversación telefónica que tuvo...   \n",
       "68  La Registraduría certificó las firmas que Samu...   \n",
       "69  A falta de cuatro días para completar el prime...   \n",
       "\n",
       "                                                image         type locale  \\\n",
       "0   https://www.elpais.com.co/resizer/NmdmUWgBB8Jy...      article  es_LA   \n",
       "1   https://www.infobae.com/new-resizer/K4d1gUFLWN...      article  es_LA   \n",
       "2   https://www.eltiempo.com/uploads/2023/07/13/64...      article  es_CO   \n",
       "3   https://www.semana.com/resizer/KhvD0fNNNqZ4aSB...      article  es_LA   \n",
       "4   https://wintorabc.com.co/wp-content/uploads/20...      article  es_ES   \n",
       "..                                                ...          ...    ...   \n",
       "65  https://i.ytimg.com/vi/bmUbXWLrID0/maxresdefau...  video.other    NaN   \n",
       "66  https://i.ytimg.com/vi/7UpbgGvOXZg/maxresdefau...  video.other    NaN   \n",
       "67  https://files.lafm.com.co/assets/public/styles...      article    NaN   \n",
       "68  https://www.elespectador.com/resizer/zO6SxdW0Z...      article    NaN   \n",
       "69  https://www.semana.com/resizer/Ec-ZB5k5h9mzB2q...      article  es_LA   \n",
       "\n",
       "                                     image:secure_url  image_width  \\\n",
       "0   https://www.elpais.com.co/resizer/NmdmUWgBB8Jy...          150   \n",
       "1                                                 NaN          150   \n",
       "2                                                 NaN          150   \n",
       "3   https://www.semana.com/resizer/KhvD0fNNNqZ4aSB...          150   \n",
       "4   https://wintorabc.com.co/wp-content/uploads/20...          150   \n",
       "..                                                ...          ...   \n",
       "65                                                NaN          150   \n",
       "66                                                NaN          150   \n",
       "67  https://files.lafm.com.co/assets/public/styles...          150   \n",
       "68                                                NaN          150   \n",
       "69  https://www.semana.com/resizer/Ec-ZB5k5h9mzB2q...          150   \n",
       "\n",
       "    image_height  ... video:width video:height  \\\n",
       "0         80.750  ...         NaN          NaN   \n",
       "1         78.750  ...         NaN          NaN   \n",
       "2        150.000  ...         NaN          NaN   \n",
       "3         80.750  ...         NaN          NaN   \n",
       "4         84.375  ...         NaN          NaN   \n",
       "..           ...  ...         ...          ...   \n",
       "65        84.375  ...        1280          720   \n",
       "66        84.375  ...        1280          720   \n",
       "67       150.000  ...         NaN          NaN   \n",
       "68       150.000  ...         NaN          NaN   \n",
       "69        80.750  ...         NaN          NaN   \n",
       "\n",
       "                                    video:url  \\\n",
       "0                                         NaN   \n",
       "1                                         NaN   \n",
       "2                                         NaN   \n",
       "3                                         NaN   \n",
       "4                                         NaN   \n",
       "..                                        ...   \n",
       "65  https://www.youtube.com/embed/bmUbXWLrID0   \n",
       "66  https://www.youtube.com/embed/7UpbgGvOXZg   \n",
       "67                                        NaN   \n",
       "68                                        NaN   \n",
       "69                                        NaN   \n",
       "\n",
       "                             video:secure_url             video:tag  \\\n",
       "0                                         NaN                   NaN   \n",
       "1                                         NaN                   NaN   \n",
       "2                                         NaN                   NaN   \n",
       "3                                         NaN                   NaN   \n",
       "4                                         NaN                   NaN   \n",
       "..                                        ...                   ...   \n",
       "65  https://www.youtube.com/embed/bmUbXWLrID0  Julio Sánchez Cristo   \n",
       "66  https://www.youtube.com/embed/7UpbgGvOXZg        Sergio Fajardo   \n",
       "67                                        NaN                   NaN   \n",
       "68                                        NaN                   NaN   \n",
       "69                                        NaN                   NaN   \n",
       "\n",
       "   article:publisher article:author country_name region determiner  \n",
       "0                NaN            NaN          NaN    NaN        NaN  \n",
       "1                NaN            NaN          NaN    NaN        NaN  \n",
       "2                NaN            NaN          NaN    NaN        NaN  \n",
       "3                NaN            NaN          NaN    NaN        NaN  \n",
       "4                NaN            NaN          NaN    NaN        NaN  \n",
       "..               ...            ...          ...    ...        ...  \n",
       "65               NaN            NaN          NaN    NaN        NaN  \n",
       "66               NaN            NaN          NaN    NaN        NaN  \n",
       "67               NaN            NaN          NaN    NaN        NaN  \n",
       "68               NaN            NaN     Colombia    NaN        NaN  \n",
       "69               NaN            NaN          NaN    NaN        NaN  \n",
       "\n",
       "[70 rows x 29 columns]"
      ]
     },
     "execution_count": 39,
     "metadata": {},
     "output_type": "execute_result"
    }
   ],
   "source": [
    "pd.DataFrame(noticias)"
   ]
  },
  {
   "cell_type": "markdown",
   "id": "9ec9dda0-abf0-449f-a10f-378c5cae2e00",
   "metadata": {},
   "source": [
    "Note que el uso de **openGraph** nos permite obtener más características de las noticias, tales como imágenes asociadas, descripciones y tipo de noticia."
   ]
  },
  {
   "cell_type": "code",
   "execution_count": 18,
   "id": "465dd5db-0237-4627-9f01-39edc3f5b655",
   "metadata": {},
   "outputs": [
    {
     "name": "stdout",
     "output_type": "stream",
     "text": [
      "dict_keys(['url', 'site_name', 'title', 'description', 'image', 'type', 'locale', 'locale:alternate', 'image:url', 'image:secure_url', 'image_width', 'image_height', 'link', 'media'])\n"
     ]
    }
   ],
   "source": [
    "print(noticias[0].keys())"
   ]
  },
  {
   "cell_type": "code",
   "execution_count": 40,
   "id": "a6ef75f8-514c-47c2-894e-da68cad090ee",
   "metadata": {
    "collapsed": true,
    "jupyter": {
     "outputs_hidden": true
    },
    "tags": []
   },
   "outputs": [
    {
     "name": "stdout",
     "output_type": "stream",
     "text": [
      "Noticias de Cali, Valle y Colombia - Periodico: Diario El País\n",
      "Nicolás Petro habla del protagónico rol de Verónica Alcocer en la relación con su papá, el presidente Gustavo Petro - El País Cali\n",
      "https://www.elpais.com.co/politica/nicolas-petro-habla-del-protagonico-rol-de-veronica-alcocer-en-la-relacion-con-su-papa-el-presidente-gustavo-petro-0548.html\n",
      "https://news.google.com/rss/articles/CBMinwFodHRwczovL3d3dy5lbHBhaXMuY29tLmNvL3BvbGl0aWNhL25pY29sYXMtcGV0cm8taGFibGEtZGVsLXByb3RhZ29uaWNvLXJvbC1kZS12ZXJvbmljYS1hbGNvY2VyLWVuLWxhLXJlbGFjaW9uLWNvbi1zdS1wYXBhLWVsLXByZXNpZGVudGUtZ3VzdGF2by1wZXRyby0wNTQ4Lmh0bWzSAaMBaHR0cHM6Ly93d3cuZWxwYWlzLmNvbS5jby9hbXAvcG9saXRpY2Evbmljb2xhcy1wZXRyby1oYWJsYS1kZWwtcHJvdGFnb25pY28tcm9sLWRlLXZlcm9uaWNhLWFsY29jZXItZW4tbGEtcmVsYWNpb24tY29uLXN1LXBhcGEtZWwtcHJlc2lkZW50ZS1ndXN0YXZvLXBldHJvLTA1NDguaHRtbA?oc=5\n",
      "\n",
      "infobae\n",
      "Caso Nicolás Petro: estos son los personajes que podrían ser capturados en los próximos días - Infobae Colombia\n",
      "https://www.infobae.com/colombia/2023/08/05/caso-nicolas-petro-estos-son-los-personajes-que-podrian-ser-capturados-en-los-proximos-dias/\n",
      "https://news.google.com/rss/articles/CBMiiAFodHRwczovL3d3dy5pbmZvYmFlLmNvbS9jb2xvbWJpYS8yMDIzLzA4LzA1L2Nhc28tbmljb2xhcy1wZXRyby1lc3Rvcy1zb24tbG9zLXBlcnNvbmFqZXMtcXVlLXBvZHJpYW4tc2VyLWNhcHR1cmFkb3MtZW4tbG9zLXByb3hpbW9zLWRpYXMv0gGcAWh0dHBzOi8vd3d3LmluZm9iYWUuY29tL2NvbG9tYmlhLzIwMjMvMDgvMDUvY2Fzby1uaWNvbGFzLXBldHJvLWVzdG9zLXNvbi1sb3MtcGVyc29uYWplcy1xdWUtcG9kcmlhbi1zZXItY2FwdHVyYWRvcy1lbi1sb3MtcHJveGltb3MtZGlhcy8_b3V0cHV0VHlwZT1hbXAtdHlwZQ?oc=5\n",
      "\n",
      "El Tiempo\n",
      "Gasolina sube $ 600 pesos en Colombia: así queda el galón - El Tiempo\n",
      "https://www.eltiempo.com/economia/sectores/gasolina-subira-de-precio-600-pesos-en-colombia-asi-quedara-el-galon-793404\n",
      "https://news.google.com/rss/articles/CBMidmh0dHBzOi8vd3d3LmVsdGllbXBvLmNvbS9lY29ub21pYS9zZWN0b3Jlcy9nYXNvbGluYS1zdWJpcmEtZGUtcHJlY2lvLTYwMC1wZXNvcy1lbi1jb2xvbWJpYS1hc2ktcXVlZGFyYS1lbC1nYWxvbi03OTM0MDTSAXpodHRwczovL3d3dy5lbHRpZW1wby5jb20vYW1wL2Vjb25vbWlhL3NlY3RvcmVzL2dhc29saW5hLXN1YmlyYS1kZS1wcmVjaW8tNjAwLXBlc29zLWVuLWNvbG9tYmlhLWFzaS1xdWVkYXJhLWVsLWdhbG9uLTc5MzQwNA?oc=5\n",
      "\n",
      "Semana.com   Últimas Noticias de Colombia y el Mundo\n",
      "Así fue que Nicolás Petro decidió contarle todo a la Fiscalía sobre la financiación ilegal de la campaña presidencial de Gustavo Petro; a esto se comprometió - Revista Semana\n",
      "https://www.semana.com/nacion/justicia/articulo/asi-fue-que-nicolas-petro-decidio-contarle-todo-a-la-fiscalia-sobre-la-financiacion-ilegal-de-la-campana-presidencial-de-gustavo-petro-a-esto-se-comprometio/202313/\n",
      "https://news.google.com/rss/articles/CBMi1AFodHRwczovL3d3dy5zZW1hbmEuY29tL25hY2lvbi9qdXN0aWNpYS9hcnRpY3Vsby9hc2ktZnVlLXF1ZS1uaWNvbGFzLXBldHJvLWRlY2lkaW8tY29udGFybGUtdG9kby1hLWxhLWZpc2NhbGlhLXNvYnJlLWxhLWZpbmFuY2lhY2lvbi1pbGVnYWwtZGUtbGEtY2FtcGFuYS1wcmVzaWRlbmNpYWwtZGUtZ3VzdGF2by1wZXRyby1hLWVzdG8tc2UtY29tcHJvbWV0aW8vMjAyMzEzL9IB2AFodHRwczovL3d3dy5zZW1hbmEuY29tL2FtcC9uYWNpb24vanVzdGljaWEvYXJ0aWN1bG8vYXNpLWZ1ZS1xdWUtbmljb2xhcy1wZXRyby1kZWNpZGlvLWNvbnRhcmxlLXRvZG8tYS1sYS1maXNjYWxpYS1zb2JyZS1sYS1maW5hbmNpYWNpb24taWxlZ2FsLWRlLWxhLWNhbXBhbmEtcHJlc2lkZW5jaWFsLWRlLWd1c3Rhdm8tcGV0cm8tYS1lc3RvLXNlLWNvbXByb21ldGlvLzIwMjMxMy8?oc=5\n",
      "\n",
      "Wintor ABC\n",
      "Tránsito a Renta Ciudadana alcanza a 1,9 millones de hogares en todo el país - Wintor ABC\n",
      "https://wintorabc.com.co/subsidios/renta-ciudadana/transito-a-renta-ciudadana-alcanza-a-19-millones-de-hogares-en-todo-el-pais/?v=1691252266\n",
      "https://news.google.com/rss/articles/CBMif2h0dHBzOi8vd2ludG9yYWJjLmNvbS5jby9zdWJzaWRpb3MvcmVudGEtY2l1ZGFkYW5hL3RyYW5zaXRvLWEtcmVudGEtY2l1ZGFkYW5hLWFsY2FuemEtYS0xOS1taWxsb25lcy1kZS1ob2dhcmVzLWVuLXRvZG8tZWwtcGFpcy_SAQA?oc=5\n",
      "\n",
      "W Radio\n",
      "Oficialmente Andrés Camacho se posesionó como ministro de Minas y Energía - W Radio\n",
      "https://www.wradio.com.co/2023/08/05/oficialmente-andres-camacho-se-posesiono-como-ministro-de-minas-y-energia/\n",
      "https://news.google.com/rss/articles/CBMib2h0dHBzOi8vd3d3LndyYWRpby5jb20uY28vMjAyMy8wOC8wNS9vZmljaWFsbWVudGUtYW5kcmVzLWNhbWFjaG8tc2UtcG9zZXNpb25vLWNvbW8tbWluaXN0cm8tZGUtbWluYXMteS1lbmVyZ2lhL9IBfmh0dHBzOi8vd3d3LndyYWRpby5jb20uY28vMjAyMy8wOC8wNS9vZmljaWFsbWVudGUtYW5kcmVzLWNhbWFjaG8tc2UtcG9zZXNpb25vLWNvbW8tbWluaXN0cm8tZGUtbWluYXMteS1lbmVyZ2lhLz9vdXRwdXRUeXBlPWFtcA?oc=5\n",
      "\n",
      "www.elcolombiano.com\n",
      "En vivo: siga la transmisión del Desfile de Autos Clásicos y Antiguos - El Colombiano\n",
      "https://www.elcolombiano.com/cultura/desfile-de-carros-clasicos-y-antiguos-2023-LI22089741\n",
      "https://news.google.com/rss/articles/CBMiWmh0dHBzOi8vd3d3LmVsY29sb21iaWFuby5jb20vY3VsdHVyYS9kZXNmaWxlLWRlLWNhcnJvcy1jbGFzaWNvcy15LWFudGlndW9zLTIwMjMtTEkyMjA4OTc0MdIBXmh0dHBzOi8vd3d3LmVsY29sb21iaWFuby5jb20vYW1wL2N1bHR1cmEvZGVzZmlsZS1kZS1jYXJyb3MtY2xhc2ljb3MteS1hbnRpZ3Vvcy0yMDIzLUxJMjIwODk3NDE?oc=5\n",
      "\n",
      "None\n",
      "Resultados de las loterías de Medellín, Santander y Risaralda de hoy viernes 4 de agosto de 2023 - Blu Radio\n",
      "None\n",
      "https://news.google.com/rss/articles/CBMilQFodHRwczovL3d3dy5ibHVyYWRpby5jb20vZWNvbm9taWEvanVlZ29zLWRlLWF6YXIvcmVzdWx0YWRvcy1kZS1sYXMtbG90ZXJpYXMtZGUtbWVkZWxsaW4tc2FudGFuZGVyLXktcmlzYXJhbGRhLWRlLWhveS12aWVybmVzLTQtZGUtYWdvc3RvLWRlLTIwMjMtc28zNdIBnwFodHRwczovL3d3dy5ibHVyYWRpby5jb20vZWNvbm9taWEvanVlZ29zLWRlLWF6YXIvcmVzdWx0YWRvcy1kZS1sYXMtbG90ZXJpYXMtZGUtbWVkZWxsaW4tc2FudGFuZGVyLXktcmlzYXJhbGRhLWRlLWhveS12aWVybmVzLTQtZGUtYWdvc3RvLWRlLTIwMjMtc28zNT9fYW1wPXRydWU?oc=5\n",
      "\n",
      "pulzo.com\n",
      "Nicolás Petro relata cómo metió cuento a Day Vásquez para levantarse número de Laura Ojeda - Pulzo.com\n",
      "https://www.pulzo.com/nacion/nicolas-petro-metio-cuento-day-vasquez-para-conseguir-telefono-laura-ojeda-PP2948978\n",
      "https://news.google.com/rss/articles/CBMicWh0dHBzOi8vd3d3LnB1bHpvLmNvbS9uYWNpb24vbmljb2xhcy1wZXRyby1tZXRpby1jdWVudG8tZGF5LXZhc3F1ZXotcGFyYS1jb25zZWd1aXItdGVsZWZvbm8tbGF1cmEtb2plZGEtUFAyOTQ4OTc40gF1aHR0cHM6Ly93d3cucHVsem8uY29tL2FtcC9uYWNpb24vbmljb2xhcy1wZXRyby1tZXRpby1jdWVudG8tZGF5LXZhc3F1ZXotcGFyYS1jb25zZWd1aXItdGVsZWZvbm8tbGF1cmEtb2plZGEtUFAyOTQ4OTc4?oc=5\n",
      "\n",
      "pulzo.com\n",
      "Avisan a conjuntos que están contratando empresas de seguridad; tendrían millonaria multa - Pulzo.com\n",
      "https://www.pulzo.com/nacion/multa-conjuntos-residenciales-por-contratar-empresas-seguridad-papeles-PP2945783\n",
      "https://news.google.com/rss/articles/CBMibWh0dHBzOi8vd3d3LnB1bHpvLmNvbS9uYWNpb24vbXVsdGEtY29uanVudG9zLXJlc2lkZW5jaWFsZXMtcG9yLWNvbnRyYXRhci1lbXByZXNhcy1zZWd1cmlkYWQtcGFwZWxlcy1QUDI5NDU3ODPSAXFodHRwczovL3d3dy5wdWx6by5jb20vYW1wL25hY2lvbi9tdWx0YS1jb25qdW50b3MtcmVzaWRlbmNpYWxlcy1wb3ItY29udHJhdGFyLWVtcHJlc2FzLXNlZ3VyaWRhZC1wYXBlbGVzLVBQMjk0NTc4Mw?oc=5\n",
      "\n",
      "El Tiempo\n",
      "Plan éxodo y plan retorno en Bogotá: lo que debe saber para este puente 7 de agosto - El Tiempo\n",
      "https://www.eltiempo.com/bogota/plan-exodo-y-plan-retorno-puente-festivo-del-7-de-agosto-lo-que-usted-debe-saber-793120\n",
      "https://news.google.com/rss/articles/CBMid2h0dHBzOi8vd3d3LmVsdGllbXBvLmNvbS9ib2dvdGEvcGxhbi1leG9kby15LXBsYW4tcmV0b3Juby1wdWVudGUtZmVzdGl2by1kZWwtNy1kZS1hZ29zdG8tbG8tcXVlLXVzdGVkLWRlYmUtc2FiZXItNzkzMTIw0gEA?oc=5\n",
      "\n",
      "Semana.com   Últimas Noticias de Colombia y el Mundo\n",
      "Video reconstruye el paso a paso de los sicarios que mataron a la patrullera Paula Cristina Ortega en Neiva - Revista Semana\n",
      "https://www.semana.com/nacion/articulo/video-reconstruye-el-paso-a-paso-de-los-sicarios-que-mataron-a-la-patrullera-paula-cristina-ortega-en-neiva/202328/\n",
      "https://news.google.com/rss/articles/CBMimgFodHRwczovL3d3dy5zZW1hbmEuY29tL25hY2lvbi9hcnRpY3Vsby92aWRlby1yZWNvbnN0cnV5ZS1lbC1wYXNvLWEtcGFzby1kZS1sb3Mtc2ljYXJpb3MtcXVlLW1hdGFyb24tYS1sYS1wYXRydWxsZXJhLXBhdWxhLWNyaXN0aW5hLW9ydGVnYS1lbi1uZWl2YS8yMDIzMjgv0gGeAWh0dHBzOi8vd3d3LnNlbWFuYS5jb20vYW1wL25hY2lvbi9hcnRpY3Vsby92aWRlby1yZWNvbnN0cnV5ZS1lbC1wYXNvLWEtcGFzby1kZS1sb3Mtc2ljYXJpb3MtcXVlLW1hdGFyb24tYS1sYS1wYXRydWxsZXJhLXBhdWxhLWNyaXN0aW5hLW9ydGVnYS1lbi1uZWl2YS8yMDIzMjgv?oc=5\n",
      "\n",
      "W Radio\n",
      "Caso Nicolás Petro: se avecinan capturas e imputaciones de cargos - W Radio\n",
      "https://www.wradio.com.co/2023/08/05/caso-nicolas-petro-se-avecinan-capturas-e-imputaciones-de-cargos/\n",
      "https://news.google.com/rss/articles/CBMiZmh0dHBzOi8vd3d3LndyYWRpby5jb20uY28vMjAyMy8wOC8wNS9jYXNvLW5pY29sYXMtcGV0cm8tc2UtYXZlY2luYW4tY2FwdHVyYXMtZS1pbXB1dGFjaW9uZXMtZGUtY2FyZ29zL9IBdWh0dHBzOi8vd3d3LndyYWRpby5jb20uY28vMjAyMy8wOC8wNS9jYXNvLW5pY29sYXMtcGV0cm8tc2UtYXZlY2luYW4tY2FwdHVyYXMtZS1pbXB1dGFjaW9uZXMtZGUtY2FyZ29zLz9vdXRwdXRUeXBlPWFtcA?oc=5\n",
      "\n",
      "www.lasillavacia.com\n",
      "Cinco cambios en la mentalidad política que llegaron con Petro - La Silla Vacía\n",
      "https://www.lasillavacia.com/historias/historia-academica/cinco-cambios-en-la-mentalidad-politica-que-llegaron-con-petro/\n",
      "https://news.google.com/rss/articles/CBMieWh0dHBzOi8vd3d3Lmxhc2lsbGF2YWNpYS5jb20vaGlzdG9yaWFzL2hpc3RvcmlhLWFjYWRlbWljYS9jaW5jby1jYW1iaW9zLWVuLWxhLW1lbnRhbGlkYWQtcG9saXRpY2EtcXVlLWxsZWdhcm9uLWNvbi1wZXRyby_SAQA?oc=5\n",
      "\n",
      "Noticias de Cali, Valle y Colombia - Periodico: Diario El País\n",
      "La Fiscalía, Day Vásquez y el Mercedes Benz: “De forma caprichosa, como una niña chiquita, pedía que Nicolás Petro le diera lujoso regalo” - El País Cali\n",
      "https://www.elpais.com.co/politica/la-fiscalia-day-vasquez-y-el-mercedes-benz-de-forma-caprichosa-como-una-nina-chiquita-pedia-que-nicolas-petro-le-diera-lujoso-regalo-0417.html\n",
      "https://news.google.com/rss/articles/CBMisQFodHRwczovL3d3dy5lbHBhaXMuY29tLmNvL3BvbGl0aWNhL2xhLWZpc2NhbGlhLWRheS12YXNxdWV6LXktZWwtbWVyY2VkZXMtYmVuei1kZS1mb3JtYS1jYXByaWNob3NhLWNvbW8tdW5hLW5pbmEtY2hpcXVpdGEtcGVkaWEtcXVlLW5pY29sYXMtcGV0cm8tbGUtZGllcmEtbHVqb3NvLXJlZ2Fsby0wNDE3Lmh0bWzSAbUBaHR0cHM6Ly93d3cuZWxwYWlzLmNvbS5jby9hbXAvcG9saXRpY2EvbGEtZmlzY2FsaWEtZGF5LXZhc3F1ZXoteS1lbC1tZXJjZWRlcy1iZW56LWRlLWZvcm1hLWNhcHJpY2hvc2EtY29tby11bmEtbmluYS1jaGlxdWl0YS1wZWRpYS1xdWUtbmljb2xhcy1wZXRyby1sZS1kaWVyYS1sdWpvc28tcmVnYWxvLTA0MTcuaHRtbA?oc=5\n",
      "\n",
      "www.elcolombiano.com\n",
      "Hasta con drones y sobrevuelo de helicópteros, organismos de emergencia de Medellín reforzarán atención de incendios - El Colombiano\n",
      "https://www.elcolombiano.com/medellin/helicopteros-para-atender-incendios-en-medellin-FI22081040\n",
      "https://news.google.com/rss/articles/CBMiYGh0dHBzOi8vd3d3LmVsY29sb21iaWFuby5jb20vbWVkZWxsaW4vaGVsaWNvcHRlcm9zLXBhcmEtYXRlbmRlci1pbmNlbmRpb3MtZW4tbWVkZWxsaW4tRkkyMjA4MTA0MNIBZGh0dHBzOi8vd3d3LmVsY29sb21iaWFuby5jb20vYW1wL21lZGVsbGluL2hlbGljb3B0ZXJvcy1wYXJhLWF0ZW5kZXItaW5jZW5kaW9zLWVuLW1lZGVsbGluLUZJMjIwODEwNDA?oc=5\n",
      "\n",
      "None\n",
      "Cortes de luz en Bogotá y Soacha: 16 localidades tendrán barrios a oscuras durante este festivo - RED+ Noticias\n",
      "None\n",
      "https://news.google.com/rss/articles/CBMiiAFodHRwczovL3JlZG1hcy5jb20uY28vY29sb21iaWEvQ29ydGVzLWRlLWx1ei1lbi1Cb2dvdGEteS1Tb2FjaGEtMTYtbG9jYWxpZGFkZXMtZXN0YXJhbi1hLW9zY3VyYXMtZHVyYW50ZS1lc3RlLWZlc3Rpdm8tMjAyMzA4MDQtMDAyOS5odG1s0gGMAWh0dHBzOi8vcmVkbWFzLmNvbS5jby9hbXAvY29sb21iaWEvQ29ydGVzLWRlLWx1ei1lbi1Cb2dvdGEteS1Tb2FjaGEtMTYtbG9jYWxpZGFkZXMtZXN0YXJhbi1hLW9zY3VyYXMtZHVyYW50ZS1lc3RlLWZlc3Rpdm8tMjAyMzA4MDQtMDAyOS5odG1s?oc=5\n",
      "\n",
      "Pluralidad Z\n",
      "A Willie Colón le recordaron que su hijo estuvo en la cárcel por pedofilia - Pluralidad Z\n",
      "https://pluralidadz.com/politica/a-willie-colon-le-recordaron-que-su-hijo-estuvo-en-la-carcel-por-pedofilia/\n",
      "https://news.google.com/rss/articles/CBMibGh0dHBzOi8vcGx1cmFsaWRhZHouY29tL3BvbGl0aWNhL2Etd2lsbGllLWNvbG9uLWxlLXJlY29yZGFyb24tcXVlLXN1LWhpam8tZXN0dXZvLWVuLWxhLWNhcmNlbC1wb3ItcGVkb2ZpbGlhL9IBAA?oc=5\n",
      "\n",
      "El Tiempo\n",
      "El Pacto Histórico pierde una curul en la Cámara y la gana el Centro Democrático - El Tiempo\n",
      "https://www.eltiempo.com/justicia/cortes/pacto-historico-pierde-una-curul-en-la-camara-y-la-gana-el-centro-democratico-793374\n",
      "https://news.google.com/rss/articles/CBMifWh0dHBzOi8vd3d3LmVsdGllbXBvLmNvbS9qdXN0aWNpYS9jb3J0ZXMvcGFjdG8taGlzdG9yaWNvLXBpZXJkZS11bmEtY3VydWwtZW4tbGEtY2FtYXJhLXktbGEtZ2FuYS1lbC1jZW50cm8tZGVtb2NyYXRpY28tNzkzMzc00gGBAWh0dHBzOi8vd3d3LmVsdGllbXBvLmNvbS9hbXAvanVzdGljaWEvY29ydGVzL3BhY3RvLWhpc3Rvcmljby1waWVyZGUtdW5hLWN1cnVsLWVuLWxhLWNhbWFyYS15LWxhLWdhbmEtZWwtY2VudHJvLWRlbW9jcmF0aWNvLTc5MzM3NA?oc=5\n",
      "\n",
      "Caracol Radio\n",
      "Abrió la convocatoria Todos a la U: hay 27 mil becas de formación para el trabajo - Caracol Radio\n",
      "https://caracol.com.co/2023/08/04/abrio-la-convocatoria-todos-a-la-u-hay-27-mil-becas-de-formacion-para-el-trabajo/\n",
      "https://news.google.com/rss/articles/CBMic2h0dHBzOi8vY2FyYWNvbC5jb20uY28vMjAyMy8wOC8wNC9hYnJpby1sYS1jb252b2NhdG9yaWEtdG9kb3MtYS1sYS11LWhheS0yNy1taWwtYmVjYXMtZGUtZm9ybWFjaW9uLXBhcmEtZWwtdHJhYmFqby_SAQA?oc=5\n",
      "\n",
      "pulzo.com\n",
      "Lotería de Santander último sorteo hoy 4 de agosto, nuevo premio y resultado - Pulzo.com\n",
      "https://www.pulzo.com/economia/loteria-santander-ultimo-sorteo-resultado-hoy-4-agosto-2023-PP2948644A\n",
      "https://news.google.com/rss/articles/CBMiZWh0dHBzOi8vd3d3LnB1bHpvLmNvbS9lY29ub21pYS9sb3RlcmlhLXNhbnRhbmRlci11bHRpbW8tc29ydGVvLXJlc3VsdGFkby1ob3ktNC1hZ29zdG8tMjAyMy1QUDI5NDg2NDRB0gFpaHR0cHM6Ly93d3cucHVsem8uY29tL2FtcC9lY29ub21pYS9sb3RlcmlhLXNhbnRhbmRlci11bHRpbW8tc29ydGVvLXJlc3VsdGFkby1ob3ktNC1hZ29zdG8tMjAyMy1QUDI5NDg2NDRB?oc=5\n",
      "\n",
      "None\n",
      "Resultado Sinuano Día: chance de hoy viernes 4 de agosto de 2023 - Blu Radio\n",
      "None\n",
      "https://news.google.com/rss/articles/CBMidWh0dHBzOi8vd3d3LmJsdXJhZGlvLmNvbS9lY29ub21pYS9qdWVnb3MtZGUtYXphci9yZXN1bHRhZG8tc2ludWFuby1kaWEtY2hhbmNlLWRlLWhveS12aWVybmVzLTQtZGUtYWdvc3RvLWRlLTIwMjMtc28zNdIBf2h0dHBzOi8vd3d3LmJsdXJhZGlvLmNvbS9lY29ub21pYS9qdWVnb3MtZGUtYXphci9yZXN1bHRhZG8tc2ludWFuby1kaWEtY2hhbmNlLWRlLWhveS12aWVybmVzLTQtZGUtYWdvc3RvLWRlLTIwMjMtc28zNT9fYW1wPXRydWU?oc=5\n",
      "\n",
      "Noticias de Cali, Valle y Colombia - Periodico: Diario El País\n",
      "🔴Temblor hoy en Colombia EN VIVO este sábado 5 de agosto; siga en directo el epicentro y magnitud del reciente sismo - El País Cali\n",
      "https://www.elpais.com.co/colombia/temblor-hoy-en-colombia-en-vivo-este-sabado-5-de-agosto-siga-en-directo-el-epicentro-y-magnitud-del-reciente-sismo-0523.html\n",
      "https://news.google.com/rss/articles/CBMinwFodHRwczovL3d3dy5lbHBhaXMuY29tLmNvL2NvbG9tYmlhL3RlbWJsb3ItaG95LWVuLWNvbG9tYmlhLWVuLXZpdm8tZXN0ZS1zYWJhZG8tNS1kZS1hZ29zdG8tc2lnYS1lbi1kaXJlY3RvLWVsLWVwaWNlbnRyby15LW1hZ25pdHVkLWRlbC1yZWNpZW50ZS1zaXNtby0wNTIzLmh0bWzSAaMBaHR0cHM6Ly93d3cuZWxwYWlzLmNvbS5jby9hbXAvY29sb21iaWEvdGVtYmxvci1ob3ktZW4tY29sb21iaWEtZW4tdml2by1lc3RlLXNhYmFkby01LWRlLWFnb3N0by1zaWdhLWVuLWRpcmVjdG8tZWwtZXBpY2VudHJvLXktbWFnbml0dWQtZGVsLXJlY2llbnRlLXNpc21vLTA1MjMuaHRtbA?oc=5\n",
      "\n",
      "Semana.com   Últimas Noticias de Colombia y el Mundo\n",
      "Piedad Córdoba renunciaría al Congreso - Revista Semana\n",
      "https://www.semana.com/confidenciales/articulo/piedad-cordoba-renunciaria-al-congreso/202356/\n",
      "https://news.google.com/rss/articles/CBMiXWh0dHBzOi8vd3d3LnNlbWFuYS5jb20vY29uZmlkZW5jaWFsZXMvYXJ0aWN1bG8vcGllZGFkLWNvcmRvYmEtcmVudW5jaWFyaWEtYWwtY29uZ3Jlc28vMjAyMzU2L9IBYWh0dHBzOi8vd3d3LnNlbWFuYS5jb20vYW1wL2NvbmZpZGVuY2lhbGVzL2FydGljdWxvL3BpZWRhZC1jb3Jkb2JhLXJlbnVuY2lhcmlhLWFsLWNvbmdyZXNvLzIwMjM1Ni8?oc=5\n",
      "\n",
      "None\n",
      "Declaración de renta 2023: aquí todo lo que necesita saber - Noticias Caracol\n",
      "None\n",
      "https://news.google.com/rss/articles/CBMiZmh0dHBzOi8vbm90aWNpYXMuY2FyYWNvbHR2LmNvbS9lY29ub21pYS9kZWNsYXJhY2lvbi1kZS1yZW50YS0yMDIzLWFxdWktdG9kby1sby1xdWUtbmVjZXNpdGEtc2FiZXItcmcxMNIBcGh0dHBzOi8vbm90aWNpYXMuY2FyYWNvbHR2LmNvbS9lY29ub21pYS9kZWNsYXJhY2lvbi1kZS1yZW50YS0yMDIzLWFxdWktdG9kby1sby1xdWUtbmVjZXNpdGEtc2FiZXItcmcxMD9fYW1wPXRydWU?oc=5\n",
      "\n",
      "Diario La República\n",
      "Así se movieron las acciones de Ecopetrol en medio de la polémica por el caso Petro - La República\n",
      "https://www.larepublica.co/finanzas/asi-se-mueven-las-acciones-de-ecopetrol-en-medio-de-la-polemica-por-el-caso-petro-3672553\n",
      "https://news.google.com/rss/articles/CBMifWh0dHBzOi8vd3d3LmxhcmVwdWJsaWNhLmNvL2ZpbmFuemFzL2FzaS1zZS1tdWV2ZW4tbGFzLWFjY2lvbmVzLWRlLWVjb3BldHJvbC1lbi1tZWRpby1kZS1sYS1wb2xlbWljYS1wb3ItZWwtY2Fzby1wZXRyby0zNjcyNTUz0gEA?oc=5\n",
      "\n",
      "Caracol Radio\n",
      "¿Se firmará acuerdo entre los transportadores y la Alcaldía de Ibagué? - Caracol Radio\n",
      "https://caracol.com.co/2023/08/04/se-firmara-acuerdo-entre-los-transportadores-y-la-alcaldia-de-ibague/\n",
      "https://news.google.com/rss/articles/CBMiZ2h0dHBzOi8vY2FyYWNvbC5jb20uY28vMjAyMy8wOC8wNC9zZS1maXJtYXJhLWFjdWVyZG8tZW50cmUtbG9zLXRyYW5zcG9ydGFkb3Jlcy15LWxhLWFsY2FsZGlhLWRlLWliYWd1ZS_SAQA?oc=5\n",
      "\n",
      "infobae\n",
      "Alejandro Gaviria rechazó versiones de una “conspiración golpista” en el escándalo de Nicolás Petro - Infobae Colombia\n",
      "https://www.infobae.com/colombia/2023/08/04/alejandro-gaviria-rechazo-versiones-de-una-conspiracion-golpista-en-el-escandalo-de-nicolas-petro/\n",
      "https://news.google.com/rss/articles/CBMijgFodHRwczovL3d3dy5pbmZvYmFlLmNvbS9jb2xvbWJpYS8yMDIzLzA4LzA0L2FsZWphbmRyby1nYXZpcmlhLXJlY2hhem8tdmVyc2lvbmVzLWRlLXVuYS1jb25zcGlyYWNpb24tZ29scGlzdGEtZW4tZWwtZXNjYW5kYWxvLWRlLW5pY29sYXMtcGV0cm8v0gGiAWh0dHBzOi8vd3d3LmluZm9iYWUuY29tL2NvbG9tYmlhLzIwMjMvMDgvMDQvYWxlamFuZHJvLWdhdmlyaWEtcmVjaGF6by12ZXJzaW9uZXMtZGUtdW5hLWNvbnNwaXJhY2lvbi1nb2xwaXN0YS1lbi1lbC1lc2NhbmRhbG8tZGUtbmljb2xhcy1wZXRyby8_b3V0cHV0VHlwZT1hbXAtdHlwZQ?oc=5\n",
      "\n",
      "www.elcolombiano.com\n",
      "Estudiantes: estas son las universidades en las que aplicará la matrícula cero - El Colombiano\n",
      "https://www.elcolombiano.com/colombia/matricula-cero-universidades-publicas-HI22083523\n",
      "https://news.google.com/rss/articles/CBMiVmh0dHBzOi8vd3d3LmVsY29sb21iaWFuby5jb20vY29sb21iaWEvbWF0cmljdWxhLWNlcm8tdW5pdmVyc2lkYWRlcy1wdWJsaWNhcy1ISTIyMDgzNTIz0gFaaHR0cHM6Ly93d3cuZWxjb2xvbWJpYW5vLmNvbS9hbXAvY29sb21iaWEvbWF0cmljdWxhLWNlcm8tdW5pdmVyc2lkYWRlcy1wdWJsaWNhcy1ISTIyMDgzNTIz?oc=5\n",
      "\n",
      "El Tiempo\n",
      "Nicolás Petro dice que Armando Benedetti tiene información sobre plata en la campaña - Unidad Investigativa - El Tiempo\n",
      "https://www.eltiempo.com/unidad-investigativa/nicolas-petro-dice-que-armando-benedetti-tiene-informacion-sobre-plata-en-la-campana-793424\n",
      "https://news.google.com/rss/articles/CBMiiQFodHRwczovL3d3dy5lbHRpZW1wby5jb20vdW5pZGFkLWludmVzdGlnYXRpdmEvbmljb2xhcy1wZXRyby1kaWNlLXF1ZS1hcm1hbmRvLWJlbmVkZXR0aS10aWVuZS1pbmZvcm1hY2lvbi1zb2JyZS1wbGF0YS1lbi1sYS1jYW1wYW5hLTc5MzQyNNIBAA?oc=5\n",
      "\n",
      "Semana.com   Últimas Noticias de Colombia y el Mundo\n",
      "Levy Rincón y Beto Coral entre la espada y la pared por cuenta del escándalo de Nicolás Petro - Revista Semana\n",
      "https://www.semana.com/nacion/articulo/levy-rincon-y-beto-coral-entre-la-espada-y-la-pared-por-cuenta-del-escandalo-de-nicolas-petro/202355/\n",
      "https://news.google.com/rss/articles/CBMijAFodHRwczovL3d3dy5zZW1hbmEuY29tL25hY2lvbi9hcnRpY3Vsby9sZXZ5LXJpbmNvbi15LWJldG8tY29yYWwtZW50cmUtbGEtZXNwYWRhLXktbGEtcGFyZWQtcG9yLWN1ZW50YS1kZWwtZXNjYW5kYWxvLWRlLW5pY29sYXMtcGV0cm8vMjAyMzU1L9IBAA?oc=5\n",
      "\n",
      "infobae\n",
      "Revisión tecnicomecánica subirá de precio por la nueva póliza de responsabilidad civil: qué tan grande será el incremento - Infobae Colombia\n",
      "https://www.infobae.com/colombia/2023/08/04/ojo-la-revision-tecnicomecanica-sube-su-precio-por-la-nueva-poliza-de-responsabilidad-civil-exigida-por-mintransporte/\n",
      "https://news.google.com/rss/articles/CBMiogFodHRwczovL3d3dy5pbmZvYmFlLmNvbS9jb2xvbWJpYS8yMDIzLzA4LzA0L29qby1sYS1yZXZpc2lvbi10ZWNuaWNvbWVjYW5pY2Etc3ViZS1zdS1wcmVjaW8tcG9yLWxhLW51ZXZhLXBvbGl6YS1kZS1yZXNwb25zYWJpbGlkYWQtY2l2aWwtZXhpZ2lkYS1wb3ItbWludHJhbnNwb3J0ZS_SAbYBaHR0cHM6Ly93d3cuaW5mb2JhZS5jb20vY29sb21iaWEvMjAyMy8wOC8wNC9vam8tbGEtcmV2aXNpb24tdGVjbmljb21lY2FuaWNhLXN1YmUtc3UtcHJlY2lvLXBvci1sYS1udWV2YS1wb2xpemEtZGUtcmVzcG9uc2FiaWxpZGFkLWNpdmlsLWV4aWdpZGEtcG9yLW1pbnRyYW5zcG9ydGUvP291dHB1dFR5cGU9YW1wLXR5cGU?oc=5\n",
      "\n",
      "YouTube\n",
      "\"Yo le creo al presidente Petro\": representante Alfredo Mondragón - Blu Radio\n",
      "https://www.youtube.com/watch?v=Qsws_rUO6Rg\n",
      "https://news.google.com/rss/articles/CCAiC1Fzd3NfclVPNlJnmAEB?oc=5\n",
      "\n",
      "El País América Colombia\n",
      "La financiación de la campaña de Gustavo Petro provoca un terremoto político en Colombia - EL PAÍS América Colombia\n",
      "https://elpais.com/america-colombia/2023-08-05/la-financiacion-de-la-campana-de-gustavo-petro-provoca-un-terremoto-politico-en-colombia.html\n",
      "https://news.google.com/rss/articles/CBMijAFodHRwczovL2VscGFpcy5jb20vYW1lcmljYS1jb2xvbWJpYS8yMDIzLTA4LTA1L2xhLWZpbmFuY2lhY2lvbi1kZS1sYS1jYW1wYW5hLWRlLWd1c3Rhdm8tcGV0cm8tcHJvdm9jYS11bi10ZXJyZW1vdG8tcG9saXRpY28tZW4tY29sb21iaWEuaHRtbNIBmwFodHRwczovL2VscGFpcy5jb20vYW1lcmljYS1jb2xvbWJpYS8yMDIzLTA4LTA1L2xhLWZpbmFuY2lhY2lvbi1kZS1sYS1jYW1wYW5hLWRlLWd1c3Rhdm8tcGV0cm8tcHJvdm9jYS11bi10ZXJyZW1vdG8tcG9saXRpY28tZW4tY29sb21iaWEuaHRtbD9vdXRwdXRUeXBlPWFtcA?oc=5\n",
      "\n",
      "None\n",
      "Revelan los 14 municipios que tendrán alumbrado navideño de EPM - Hora 13 Noticias\n",
      "None\n",
      "https://news.google.com/rss/articles/CBMiSWh0dHBzOi8vd3d3LmgxM24uY29tLzE0LW11bmljaXBpb3MtdGVuZHJhbi1hbHVtYnJhZG8tbmF2aWRlbm8tZXBtLzIwNDEwNi_SAQA?oc=5\n",
      "\n",
      "None\n",
      "Resultado Super Astro Sol: chance de viernes 4 de agosto de 2023 - Blu Radio\n",
      "None\n",
      "https://news.google.com/rss/articles/CBMidWh0dHBzOi8vd3d3LmJsdXJhZGlvLmNvbS9lY29ub21pYS9qdWVnb3MtZGUtYXphci9yZXN1bHRhZG8tc3VwZXItYXN0cm8tc29sLWNoYW5jZS1kZS12aWVybmVzLTQtZGUtYWdvc3RvLWRlLTIwMjMtc28zNdIBf2h0dHBzOi8vd3d3LmJsdXJhZGlvLmNvbS9lY29ub21pYS9qdWVnb3MtZGUtYXphci9yZXN1bHRhZG8tc3VwZXItYXN0cm8tc29sLWNoYW5jZS1kZS12aWVybmVzLTQtZGUtYWdvc3RvLWRlLTIwMjMtc28zNT9fYW1wPXRydWU?oc=5\n",
      "\n",
      "Semana.com   Últimas Noticias de Colombia y el Mundo\n",
      "Nicolás Petro salva al exministro Alfonso Prada: dice que lo de los 10 cupos fue una mentira que le echó a Day Vásquez para tener la hoja de vida de Laura Ojeda - Revista Semana\n",
      "https://www.semana.com/politica/articulo/nicolas-petro-hay-personas-que-aparecen-ahi-pero-realmente-no-han-tenido-ninguna-participacion-una-de-esas-personas-es-prada/202301/\n",
      "https://news.google.com/rss/articles/CBMirQFodHRwczovL3d3dy5zZW1hbmEuY29tL3BvbGl0aWNhL2FydGljdWxvL25pY29sYXMtcGV0cm8taGF5LXBlcnNvbmFzLXF1ZS1hcGFyZWNlbi1haGktcGVyby1yZWFsbWVudGUtbm8taGFuLXRlbmlkby1uaW5ndW5hLXBhcnRpY2lwYWNpb24tdW5hLWRlLWVzYXMtcGVyc29uYXMtZXMtcHJhZGEvMjAyMzAxL9IBsQFodHRwczovL3d3dy5zZW1hbmEuY29tL2FtcC9wb2xpdGljYS9hcnRpY3Vsby9uaWNvbGFzLXBldHJvLWhheS1wZXJzb25hcy1xdWUtYXBhcmVjZW4tYWhpLXBlcm8tcmVhbG1lbnRlLW5vLWhhbi10ZW5pZG8tbmluZ3VuYS1wYXJ0aWNpcGFjaW9uLXVuYS1kZS1lc2FzLXBlcnNvbmFzLWVzLXByYWRhLzIwMjMwMS8?oc=5\n",
      "\n",
      "pulzo.com\n",
      "Venta de carros y motos usados en Colombia no prende ni empujada; clientes no invierten - Pulzo.com\n",
      "https://www.pulzo.com/economia/venta-carros-motos-usados-colombia-cayo-primer-semestre-2023-PP2948505\n",
      "https://news.google.com/rss/articles/CBMiZWh0dHBzOi8vd3d3LnB1bHpvLmNvbS9lY29ub21pYS92ZW50YS1jYXJyb3MtbW90b3MtdXNhZG9zLWNvbG9tYmlhLWNheW8tcHJpbWVyLXNlbWVzdHJlLTIwMjMtUFAyOTQ4NTA10gFpaHR0cHM6Ly93d3cucHVsem8uY29tL2FtcC9lY29ub21pYS92ZW50YS1jYXJyb3MtbW90b3MtdXNhZG9zLWNvbG9tYmlhLWNheW8tcHJpbWVyLXNlbWVzdHJlLTIwMjMtUFAyOTQ4NTA1?oc=5\n",
      "\n",
      "EL HERALDO\n",
      "Mujer muere luego de ser arrollada por tractomula en la avenida Circunvalar - EL HERALDO\n",
      "https://www.elheraldo.co/judicial/mujer-muere-luego-de-ser-arrollada-por-tractomula-en-la-avenida-circunvalar-1021417\n",
      "https://news.google.com/rss/articles/CBMidWh0dHBzOi8vd3d3LmVsaGVyYWxkby5jby9qdWRpY2lhbC9tdWplci1tdWVyZS1sdWVnby1kZS1zZXItYXJyb2xsYWRhLXBvci10cmFjdG9tdWxhLWVuLWxhLWF2ZW5pZGEtY2lyY3VudmFsYXItMTAyMTQxN9IBeWh0dHBzOi8vd3d3LmVsaGVyYWxkby5jby9qdWRpY2lhbC9tdWplci1tdWVyZS1sdWVnby1kZS1zZXItYXJyb2xsYWRhLXBvci10cmFjdG9tdWxhLWVuLWxhLWF2ZW5pZGEtY2lyY3VudmFsYXItMTAyMTQxNz9hbXA?oc=5\n",
      "\n",
      "El Tiempo\n",
      "Cartagena: banda conformada por 4 hombres y una mujer atraca joyería en Bocagrande - El Tiempo\n",
      "https://www.eltiempo.com/colombia/otras-ciudades/atracan-joyeria-en-zona-exclusiva-de-cartagena-793264\n",
      "https://news.google.com/rss/articles/CBMiZmh0dHBzOi8vd3d3LmVsdGllbXBvLmNvbS9jb2xvbWJpYS9vdHJhcy1jaXVkYWRlcy9hdHJhY2FuLWpveWVyaWEtZW4tem9uYS1leGNsdXNpdmEtZGUtY2FydGFnZW5hLTc5MzI2NNIBamh0dHBzOi8vd3d3LmVsdGllbXBvLmNvbS9hbXAvY29sb21iaWEvb3RyYXMtY2l1ZGFkZXMvYXRyYWNhbi1qb3llcmlhLWVuLXpvbmEtZXhjbHVzaXZhLWRlLWNhcnRhZ2VuYS03OTMyNjQ?oc=5\n",
      "\n",
      "Noticias de Norte de Santander, Colombia y el mundo\n",
      "Asesinan a bumanguesa en Santa Teresita, Cúcuta - La Opinión Cúcuta\n",
      "https://www.laopinion.com.co/judicial/asesinan-bumanguesa-en-santa-teresita-cucuta\n",
      "https://news.google.com/rss/articles/CBMiUmh0dHBzOi8vd3d3Lmxhb3Bpbmlvbi5jb20uY28vanVkaWNpYWwvYXNlc2luYW4tYnVtYW5ndWVzYS1lbi1zYW50YS10ZXJlc2l0YS1jdWN1dGHSAQA?oc=5\n",
      "\n",
      "None\n",
      "Pareja muere al caer de un puente peatonal en Bogotá tras acalorada discusión - Noticias Caracol\n",
      "None\n",
      "https://news.google.com/rss/articles/CBMieGh0dHBzOi8vbm90aWNpYXMuY2FyYWNvbHR2LmNvbS9ib2dvdGEvcGFyZWphLW11ZXJlLWFsLWNhZXItZGUtdW4tcHVlbnRlLXBlYXRvbmFsLWVuLWJvZ290YS10cmFzLWFjYWxvcmFkYS1kaXNjdXNpb24tcmcxMNIBggFodHRwczovL25vdGljaWFzLmNhcmFjb2x0di5jb20vYm9nb3RhL3BhcmVqYS1tdWVyZS1hbC1jYWVyLWRlLXVuLXB1ZW50ZS1wZWF0b25hbC1lbi1ib2dvdGEtdHJhcy1hY2Fsb3JhZGEtZGlzY3VzaW9uLXJnMTA_X2FtcD10cnVl?oc=5\n",
      "\n",
      "Semana.com   Últimas Noticias de Colombia y el Mundo\n",
      "Caso Nicolás Petro: juez compulsará copias por delito de interés indebido en celebración de contratos con Gobernación del Atlántico - Revista Semana\n",
      "https://www.semana.com/nacion/articulo/caso-nicolas-petro-juez-compulsara-copias-por-delito-de-interes-indebido-en-celebracion-de-contratos-con-gobernacion-del-atlantico/202312/\n",
      "https://news.google.com/rss/articles/CBMisQFodHRwczovL3d3dy5zZW1hbmEuY29tL25hY2lvbi9hcnRpY3Vsby9jYXNvLW5pY29sYXMtcGV0cm8tanVlei1jb21wdWxzYXJhLWNvcGlhcy1wb3ItZGVsaXRvLWRlLWludGVyZXMtaW5kZWJpZG8tZW4tY2VsZWJyYWNpb24tZGUtY29udHJhdG9zLWNvbi1nb2Jlcm5hY2lvbi1kZWwtYXRsYW50aWNvLzIwMjMxMi_SAbUBaHR0cHM6Ly93d3cuc2VtYW5hLmNvbS9hbXAvbmFjaW9uL2FydGljdWxvL2Nhc28tbmljb2xhcy1wZXRyby1qdWV6LWNvbXB1bHNhcmEtY29waWFzLXBvci1kZWxpdG8tZGUtaW50ZXJlcy1pbmRlYmlkby1lbi1jZWxlYnJhY2lvbi1kZS1jb250cmF0b3MtY29uLWdvYmVybmFjaW9uLWRlbC1hdGxhbnRpY28vMjAyMzEyLw?oc=5\n",
      "\n",
      "www.vanguardia.com\n",
      "Todas las víctimas eran integrantes de una misma familia que se movilizaban en un vehículo tipo campero, de color azul claro y de placas ISE-145, cuando chocó aparatosamente contra un camión en el descenso de la vereda Portachuelo. - Vanguardia\n",
      "https://www.vanguardia.com/judicial/las-victimas-del-accidente-que-dejo-cuatro-muertos-en-santander-HD7137595\n",
      "https://news.google.com/rss/articles/CBMia2h0dHBzOi8vbS52YW5ndWFyZGlhLmNvbS9qdWRpY2lhbC9sYXMtdmljdGltYXMtZGVsLWFjY2lkZW50ZS1xdWUtZGVqby1jdWF0cm8tbXVlcnRvcy1lbi1zYW50YW5kZXItSEQ3MTM3NTk10gEA?oc=5\n",
      "\n",
      "ELESPECTADOR.COM\n",
      "Capturan a presuntos responsables de muerte de empresario en el norte de Bogotá - El Espectador\n",
      "https://www.elespectador.com/bogota/capturan-a-presuntos-responsables-de-muerte-de-empresario-en-el-norte-de-bogota-noticias-bogota-hoy/\n",
      "https://news.google.com/rss/articles/CBMiiAFodHRwczovL3d3dy5lbGVzcGVjdGFkb3IuY29tL2JvZ290YS9jYXB0dXJhbi1hLXByZXN1bnRvcy1yZXNwb25zYWJsZXMtZGUtbXVlcnRlLWRlLWVtcHJlc2FyaW8tZW4tZWwtbm9ydGUtZGUtYm9nb3RhLW5vdGljaWFzLWJvZ290YS1ob3kv0gGXAWh0dHBzOi8vd3d3LmVsZXNwZWN0YWRvci5jb20vYm9nb3RhL2NhcHR1cmFuLWEtcHJlc3VudG9zLXJlc3BvbnNhYmxlcy1kZS1tdWVydGUtZGUtZW1wcmVzYXJpby1lbi1lbC1ub3J0ZS1kZS1ib2dvdGEtbm90aWNpYXMtYm9nb3RhLWhveS8_b3V0cHV0VHlwZT1hbXA?oc=5\n",
      "\n",
      "Valora Analitik\n",
      "Encuesta | Gustavo Bolívar no ganaría elecciones en Bogotá si pasa a segunda vuelta - Valora Analitik\n",
      "https://www.valoraanalitik.com/2023/08/04/elecciones-bogota-gustavo-bolivar-perderia-en-estos-escenarios/\n",
      "https://news.google.com/rss/articles/CBMiaWh0dHBzOi8vd3d3LnZhbG9yYWFuYWxpdGlrLmNvbS8yMDIzLzA4LzA0L2VsZWNjaW9uZXMtYm9nb3RhLWd1c3Rhdm8tYm9saXZhci1wZXJkZXJpYS1lbi1lc3Rvcy1lc2NlbmFyaW9zL9IBbWh0dHBzOi8vd3d3LnZhbG9yYWFuYWxpdGlrLmNvbS8yMDIzLzA4LzA0L2VsZWNjaW9uZXMtYm9nb3RhLWd1c3Rhdm8tYm9saXZhci1wZXJkZXJpYS1lbi1lc3Rvcy1lc2NlbmFyaW9zLz9hbXA?oc=5\n",
      "\n",
      "El Tiempo\n",
      "En Cartagena investigan la violenta muerte de una pareja en el barrio Las Palmeras - El Tiempo\n",
      "https://www.eltiempo.com/colombia/otras-ciudades/violenta-muerte-de-una-pareja-en-el-barrio-las-palmeras-de-cartagena-793092\n",
      "https://news.google.com/rss/articles/CBMifGh0dHBzOi8vd3d3LmVsdGllbXBvLmNvbS9jb2xvbWJpYS9vdHJhcy1jaXVkYWRlcy92aW9sZW50YS1tdWVydGUtZGUtdW5hLXBhcmVqYS1lbi1lbC1iYXJyaW8tbGFzLXBhbG1lcmFzLWRlLWNhcnRhZ2VuYS03OTMwOTLSAQA?oc=5\n",
      "\n",
      "Caracol Radio\n",
      "Nicolás Petro y Days: escándalo con tintes de infidelidad, traición, corrupción y ambición - Caracol Radio\n",
      "https://caracol.com.co/2023/08/04/nicolas-y-days-escandalo-con-tintes-de-infidelidad-traicion-corrupcion-y-ambicion/\n",
      "https://news.google.com/rss/articles/CBMidGh0dHBzOi8vY2FyYWNvbC5jb20uY28vMjAyMy8wOC8wNC9uaWNvbGFzLXktZGF5cy1lc2NhbmRhbG8tY29uLXRpbnRlcy1kZS1pbmZpZGVsaWRhZC10cmFpY2lvbi1jb3JydXBjaW9uLXktYW1iaWNpb24v0gEA?oc=5\n",
      "\n",
      "W Radio\n",
      "Ofrecen recompensa por ataque sicarial en medio de reunión política en Barranquilla - W Radio\n",
      "https://www.wradio.com.co/2023/08/04/ofrecen-recompensa-por-ataque-sicarial-en-medio-de-reunion-politica-en-barranquilla/\n",
      "https://news.google.com/rss/articles/CBMieWh0dHBzOi8vd3d3LndyYWRpby5jb20uY28vMjAyMy8wOC8wNC9vZnJlY2VuLXJlY29tcGVuc2EtcG9yLWF0YXF1ZS1zaWNhcmlhbC1lbi1tZWRpby1kZS1yZXVuaW9uLXBvbGl0aWNhLWVuLWJhcnJhbnF1aWxsYS_SAYgBaHR0cHM6Ly93d3cud3JhZGlvLmNvbS5jby8yMDIzLzA4LzA0L29mcmVjZW4tcmVjb21wZW5zYS1wb3ItYXRhcXVlLXNpY2FyaWFsLWVuLW1lZGlvLWRlLXJldW5pb24tcG9saXRpY2EtZW4tYmFycmFucXVpbGxhLz9vdXRwdXRUeXBlPWFtcA?oc=5\n",
      "\n",
      "ZONA CERO\n",
      "Cárcel para hombre imputado de abusar de una mujer y robar en su vivienda, en La Victoria - Zona Cero\n",
      "http://zonacero.com/judiciales/carcel-para-hombre-imputado-de-abusar-de-una-mujer-y-robar-en-su-vivienda-en-la-victoria\n",
      "https://news.google.com/rss/articles/CBMieGh0dHBzOi8vem9uYWNlcm8uY29tL2p1ZGljaWFsZXMvY2FyY2VsLXBhcmEtaG9tYnJlLWltcHV0YWRvLWRlLWFidXNhci1kZS11bmEtbXVqZXIteS1yb2Jhci1lbi1zdS12aXZpZW5kYS1lbi1sYS12aWN0b3JpYdIBAA?oc=5\n",
      "\n",
      "www.elcolombiano.com\n",
      "La aterradora historia de una menor que fue secuestrada durante un mes por vecino de su mismo edificio en Cali - El Colombiano\n",
      "https://www.elcolombiano.com/colombia/nina-estuvo-secuestrada-un-mes-por-vecino-en-cali-DI22082177\n",
      "https://news.google.com/rss/articles/CBMiYmh0dHBzOi8vd3d3LmVsY29sb21iaWFuby5jb20vY29sb21iaWEvbmluYS1lc3R1dm8tc2VjdWVzdHJhZGEtdW4tbWVzLXBvci12ZWNpbm8tZW4tY2FsaS1ESTIyMDgyMTc30gEA?oc=5\n",
      "\n",
      "Semana.com   Últimas Noticias de Colombia y el Mundo\n",
      "Estas son las denuncias del abogado de Nicolás Petro que lo llevaron a pedir casa por cárcel, respaldando la solicitud de la Fiscalía - Revista Semana\n",
      "https://www.semana.com/politica/articulo/estas-son-las-denuncias-del-abogado-de-nicolas-petro-que-lo-llevaron-a-pedir-casa-por-carcel-respaldando-la-solicitud-de-la-fiscalia/202329/\n",
      "https://news.google.com/rss/articles/CBMitQFodHRwczovL3d3dy5zZW1hbmEuY29tL3BvbGl0aWNhL2FydGljdWxvL2VzdGFzLXNvbi1sYXMtZGVudW5jaWFzLWRlbC1hYm9nYWRvLWRlLW5pY29sYXMtcGV0cm8tcXVlLWxvLWxsZXZhcm9uLWEtcGVkaXItY2FzYS1wb3ItY2FyY2VsLXJlc3BhbGRhbmRvLWxhLXNvbGljaXR1ZC1kZS1sYS1maXNjYWxpYS8yMDIzMjkv0gG5AWh0dHBzOi8vd3d3LnNlbWFuYS5jb20vYW1wL3BvbGl0aWNhL2FydGljdWxvL2VzdGFzLXNvbi1sYXMtZGVudW5jaWFzLWRlbC1hYm9nYWRvLWRlLW5pY29sYXMtcGV0cm8tcXVlLWxvLWxsZXZhcm9uLWEtcGVkaXItY2FzYS1wb3ItY2FyY2VsLXJlc3BhbGRhbmRvLWxhLXNvbGljaXR1ZC1kZS1sYS1maXNjYWxpYS8yMDIzMjkv?oc=5\n",
      "\n",
      "Semana.com   Últimas Noticias de Colombia y el Mundo\n",
      "Escalofriante: hace 28 años estalló Santiago Medina en el proceso 8.000 en el Gobierno Samper. Hoy la confesión de Nicolás Petro sacude al Gobierno Petro - Revista Semana\n",
      "https://www.semana.com/confidenciales/articulo/que-coincidencia-hace-28-anos-el-pais-conocio-la-explosiva-declaracion-de-santiago-medina-el-testigo-estrella-del-proceso-8000/202312/\n",
      "https://news.google.com/rss/articles/CBMitQFodHRwczovL3d3dy5zZW1hbmEuY29tL2NvbmZpZGVuY2lhbGVzL2FydGljdWxvL3F1ZS1jb2luY2lkZW5jaWEtaGFjZS0yOC1hbm9zLWVsLXBhaXMtY29ub2Npby1sYS1leHBsb3NpdmEtZGVjbGFyYWNpb24tZGUtc2FudGlhZ28tbWVkaW5hLWVsLXRlc3RpZ28tZXN0cmVsbGEtZGVsLXByb2Nlc28tODAwMC8yMDIzMTIv0gG5AWh0dHBzOi8vd3d3LnNlbWFuYS5jb20vYW1wL2NvbmZpZGVuY2lhbGVzL2FydGljdWxvL3F1ZS1jb2luY2lkZW5jaWEtaGFjZS0yOC1hbm9zLWVsLXBhaXMtY29ub2Npby1sYS1leHBsb3NpdmEtZGVjbGFyYWNpb24tZGUtc2FudGlhZ28tbWVkaW5hLWVsLXRlc3RpZ28tZXN0cmVsbGEtZGVsLXByb2Nlc28tODAwMC8yMDIzMTIv?oc=5\n",
      "\n",
      "YouTube\n",
      "Petro ha entregado su vida a denunciar la corrupción y la parapolítica: María José Pizarro - W Radio Colombia\n",
      "https://www.youtube.com/watch?v=Cjc5bf9vjnE\n",
      "https://news.google.com/rss/articles/CCAiC0NqYzViZjl2am5FmAEB?oc=5\n",
      "\n",
      "infobae\n",
      "Hijo del presidente rompió el silencio y habló de su hermano, Nicolás Petro: “Él es el único responsable” - Infobae Colombia\n",
      "https://www.infobae.com/colombia/2023/08/05/hijo-del-presidente-rompio-el-silencio-y-hablo-de-su-hermano-nicolas-petro-el-es-el-unico-responsable/\n",
      "https://news.google.com/rss/articles/CBMikgFodHRwczovL3d3dy5pbmZvYmFlLmNvbS9jb2xvbWJpYS8yMDIzLzA4LzA1L2hpam8tZGVsLXByZXNpZGVudGUtcm9tcGlvLWVsLXNpbGVuY2lvLXktaGFibG8tZGUtc3UtaGVybWFuby1uaWNvbGFzLXBldHJvLWVsLWVzLWVsLXVuaWNvLXJlc3BvbnNhYmxlL9IBpgFodHRwczovL3d3dy5pbmZvYmFlLmNvbS9jb2xvbWJpYS8yMDIzLzA4LzA1L2hpam8tZGVsLXByZXNpZGVudGUtcm9tcGlvLWVsLXNpbGVuY2lvLXktaGFibG8tZGUtc3UtaGVybWFuby1uaWNvbGFzLXBldHJvLWVsLWVzLWVsLXVuaWNvLXJlc3BvbnNhYmxlLz9vdXRwdXRUeXBlPWFtcC10eXBl?oc=5\n",
      "\n",
      "YouTube\n",
      "No se puede minimizar denuncia de Nicolás Petro y decir que toda campaña se financia igual: analista - Noticias Caracol\n",
      "https://www.youtube.com/watch?v=ky8kDMpDJJE\n",
      "https://news.google.com/rss/articles/CCAiC2t5OGtETXBESkpFmAEB?oc=5\n",
      "\n",
      "YouTube\n",
      "Conductora grabó impactante robo en Engativá que terminó en batalla campal en plena calle - Noticias Caracol\n",
      "https://www.youtube.com/watch?v=-64ZkXvpX3E\n",
      "https://news.google.com/rss/articles/CCAiCy02NFprWHZwWDNFmAEB?oc=5\n",
      "\n",
      "ELESPECTADOR.COM\n",
      "Tia de Paula, joven que murió al caer de un Transmilenio, murió en su velorio - El Espectador\n",
      "https://www.elespectador.com/bogota/tia-de-paula-joven-que-murio-al-caer-de-un-transmilenio-murio-en-su-velorio/\n",
      "https://news.google.com/rss/articles/CBMicGh0dHBzOi8vd3d3LmVsZXNwZWN0YWRvci5jb20vYm9nb3RhL3RpYS1kZS1wYXVsYS1qb3Zlbi1xdWUtbXVyaW8tYWwtY2Flci1kZS11bi10cmFuc21pbGVuaW8tbXVyaW8tZW4tc3UtdmVsb3Jpby_SAQA?oc=5\n",
      "\n",
      "El Tiempo\n",
      "¡Pilas! Buenas noticias de reunificación familiar en Estados Unidos para colombianos - El Tiempo\n",
      "https://www.eltiempo.com/mundo/eeuu-y-canada/reunificacion-familiar-emiten-invitaciones-para-los-elegibles-a-la-visa-colombianos-793300\n",
      "https://news.google.com/rss/articles/CBMihwFodHRwczovL3d3dy5lbHRpZW1wby5jb20vbXVuZG8vZWV1dS15LWNhbmFkYS9yZXVuaWZpY2FjaW9uLWZhbWlsaWFyLWVtaXRlbi1pbnZpdGFjaW9uZXMtcGFyYS1sb3MtZWxlZ2libGVzLWEtbGEtdmlzYS1jb2xvbWJpYW5vcy03OTMzMDDSAYsBaHR0cHM6Ly93d3cuZWx0aWVtcG8uY29tL2FtcC9tdW5kby9lZXV1LXktY2FuYWRhL3JldW5pZmljYWNpb24tZmFtaWxpYXItZW1pdGVuLWludml0YWNpb25lcy1wYXJhLWxvcy1lbGVnaWJsZXMtYS1sYS12aXNhLWNvbG9tYmlhbm9zLTc5MzMwMA?oc=5\n",
      "\n",
      "El Tiempo\n",
      "Lotería del Quindío y Bogotá en vivo: ganadores del sorteo del jueves 3 de agosto - El Tiempo\n",
      "https://www.eltiempo.com/economia/finanzas-personales/loteria-del-quindio-y-bogota-resultados-del-jueves-3-de-agosto-793020\n",
      "https://news.google.com/rss/articles/CBMie2h0dHBzOi8vd3d3LmVsdGllbXBvLmNvbS9lY29ub21pYS9maW5hbnphcy1wZXJzb25hbGVzL2xvdGVyaWEtZGVsLXF1aW5kaW8teS1ib2dvdGEtcmVzdWx0YWRvcy1kZWwtanVldmVzLTMtZGUtYWdvc3RvLTc5MzAyMNIBAA?oc=5\n",
      "\n",
      "Semana.com   Últimas Noticias de Colombia y el Mundo\n",
      "El curioso pedido de la defensa de Day Vásquez y que se relaciona con la pareja sentimental de la acusada. ¿De qué se trata? - Revista Semana\n",
      "https://www.semana.com/nacion/articulo/el-curioso-pedido-de-la-defensa-de-day-vasquez-y-que-se-relaciona-con-la-pareja-sentimental-de-la-acusada-de-que-se-trata/202300/\n",
      "https://news.google.com/rss/articles/CBMiqAFodHRwczovL3d3dy5zZW1hbmEuY29tL25hY2lvbi9hcnRpY3Vsby9lbC1jdXJpb3NvLXBlZGlkby1kZS1sYS1kZWZlbnNhLWRlLWRheS12YXNxdWV6LXktcXVlLXNlLXJlbGFjaW9uYS1jb24tbGEtcGFyZWphLXNlbnRpbWVudGFsLWRlLWxhLWFjdXNhZGEtZGUtcXVlLXNlLXRyYXRhLzIwMjMwMC_SAawBaHR0cHM6Ly93d3cuc2VtYW5hLmNvbS9hbXAvbmFjaW9uL2FydGljdWxvL2VsLWN1cmlvc28tcGVkaWRvLWRlLWxhLWRlZmVuc2EtZGUtZGF5LXZhc3F1ZXoteS1xdWUtc2UtcmVsYWNpb25hLWNvbi1sYS1wYXJlamEtc2VudGltZW50YWwtZGUtbGEtYWN1c2FkYS1kZS1xdWUtc2UtdHJhdGEvMjAyMzAwLw?oc=5\n",
      "\n",
      "YouTube\n",
      "Cinco mujeres denuncian que un taxista abusador anda suelto en Bogotá - Noticias Caracol\n",
      "https://www.youtube.com/watch?v=A7i5a5efPQg\n",
      "https://news.google.com/rss/articles/CCAiC0E3aTVhNWVmUFFnmAEB?oc=5\n",
      "\n",
      "W Radio\n",
      "“Buscan objetivos políticos”: Máximo Noriega por caso de Day Vásquez y Nicolás Petro - W Radio\n",
      "https://www.wradio.com.co/2023/08/04/buscan-objetivos-politicos-maximo-noriega-por-caso-de-day-vasquez-y-nicolas-petro/\n",
      "https://news.google.com/rss/articles/CBMid2h0dHBzOi8vd3d3LndyYWRpby5jb20uY28vMjAyMy8wOC8wNC9idXNjYW4tb2JqZXRpdm9zLXBvbGl0aWNvcy1tYXhpbW8tbm9yaWVnYS1wb3ItY2Fzby1kZS1kYXktdmFzcXVlei15LW5pY29sYXMtcGV0cm8v0gGGAWh0dHBzOi8vd3d3LndyYWRpby5jb20uY28vMjAyMy8wOC8wNC9idXNjYW4tb2JqZXRpdm9zLXBvbGl0aWNvcy1tYXhpbW8tbm9yaWVnYS1wb3ItY2Fzby1kZS1kYXktdmFzcXVlei15LW5pY29sYXMtcGV0cm8vP291dHB1dFR5cGU9YW1w?oc=5\n",
      "\n",
      "pulzo.com\n",
      "Desde modificar rutas hasta color de buses: qué harán candidatos a alcaldía con TM y SITP - Pulzo.com\n",
      "https://www.pulzo.com/elecciones-colombia-2023/transmilenio-sitp-propuestas-candidatos-bogota-para-movilidad-PP2945904\n",
      "https://news.google.com/rss/articles/CBMidmh0dHBzOi8vd3d3LnB1bHpvLmNvbS9lbGVjY2lvbmVzLWNvbG9tYmlhLTIwMjMvdHJhbnNtaWxlbmlvLXNpdHAtcHJvcHVlc3Rhcy1jYW5kaWRhdG9zLWJvZ290YS1wYXJhLW1vdmlsaWRhZC1QUDI5NDU5MDTSAXpodHRwczovL3d3dy5wdWx6by5jb20vYW1wL2VsZWNjaW9uZXMtY29sb21iaWEtMjAyMy90cmFuc21pbGVuaW8tc2l0cC1wcm9wdWVzdGFzLWNhbmRpZGF0b3MtYm9nb3RhLXBhcmEtbW92aWxpZGFkLVBQMjk0NTkwNA?oc=5\n",
      "\n",
      "YouTube\n",
      "Por una llamada ubicaron a uno de los presuntos ladrones de la carrera Séptima en Bogotá - Noticias Caracol\n",
      "https://www.youtube.com/watch?v=QfljZ8pmjQg\n",
      "https://news.google.com/rss/articles/CCAiC1FmbGpaOHBtalFnmAEB?oc=5\n",
      "\n",
      "YouTube\n",
      "Se cayó orden de detención contra María Fernanda Cabal - W Radio Colombia\n",
      "https://www.youtube.com/watch?v=bmUbXWLrID0\n",
      "https://news.google.com/rss/articles/CCAiC2JtVWJYV0xySUQwmAEB?oc=5\n",
      "\n",
      "YouTube\n",
      "“Caso Nicolás Petro estremece los cimientos de la democracia en Colombia”: Sergio Fajardo - Blu Radio\n",
      "https://www.youtube.com/watch?v=7UpbgGvOXZg\n",
      "https://news.google.com/rss/articles/CCAiCzdVcGJnR3ZPWFpnmAEB?oc=5\n",
      "\n",
      "None\n",
      "Nicolás Petro: llamada entre Day Vásquez y Máximo Noriega - La FM\n",
      "https://www.lafm.com.co/judicial/explosiva-conversacion-telefonica-entre-day-vasquez-y-maximo-noriega-todos-estamos-robando\n",
      "https://news.google.com/rss/articles/CBMie2h0dHBzOi8vd3d3LmxhZm0uY29tLmNvL2p1ZGljaWFsL2V4cGxvc2l2YS1jb252ZXJzYWNpb24tdGVsZWZvbmljYS1lbnRyZS1kYXktdmFzcXVlei15LW1heGltby1ub3JpZWdhLXRvZG9zLWVzdGFtb3Mtcm9iYW5kb9IBAA?oc=5\n",
      "\n",
      "ELESPECTADOR.COM\n",
      "“Marlboro” recibió aval como candidato en medio del escándalo de Nicolás Petro - El Espectador\n",
      "https://www.elespectador.com/politica/hombre-marlboro-santander-lopesierra-tiene-firmas-en-registraduria-para-ser-candidato-escandalo-nicolas-petro-noticias-hoy/\n",
      "https://news.google.com/rss/articles/CBMioQFodHRwczovL3d3dy5lbGVzcGVjdGFkb3IuY29tL3BvbGl0aWNhL2hvbWJyZS1tYXJsYm9yby1zYW50YW5kZXItbG9wZXNpZXJyYS10aWVuZS1maXJtYXMtZW4tcmVnaXN0cmFkdXJpYS1wYXJhLXNlci1jYW5kaWRhdG8tZXNjYW5kYWxvLW5pY29sYXMtcGV0cm8tbm90aWNpYXMtaG95L9IBsAFodHRwczovL3d3dy5lbGVzcGVjdGFkb3IuY29tL3BvbGl0aWNhL2hvbWJyZS1tYXJsYm9yby1zYW50YW5kZXItbG9wZXNpZXJyYS10aWVuZS1maXJtYXMtZW4tcmVnaXN0cmFkdXJpYS1wYXJhLXNlci1jYW5kaWRhdG8tZXNjYW5kYWxvLW5pY29sYXMtcGV0cm8tbm90aWNpYXMtaG95Lz9vdXRwdXRUeXBlPWFtcA?oc=5\n",
      "\n",
      "Semana.com   Últimas Noticias de Colombia y el Mundo\n",
      "Convocan a marchas en toda Colombia para pedir la renuncia de Gustavo Petro como presidente - Revista Semana\n",
      "https://www.semana.com/nacion/articulo/convocan-a-marchas-en-toda-colombia-para-pedir-la-renuncia-de-gustavo-petro-como-presidente/202325/\n",
      "https://news.google.com/rss/articles/CBMiigFodHRwczovL3d3dy5zZW1hbmEuY29tL25hY2lvbi9hcnRpY3Vsby9jb252b2Nhbi1hLW1hcmNoYXMtZW4tdG9kYS1jb2xvbWJpYS1wYXJhLXBlZGlyLWxhLXJlbnVuY2lhLWRlLWd1c3Rhdm8tcGV0cm8tY29tby1wcmVzaWRlbnRlLzIwMjMyNS_SAQA?oc=5\n",
      "\n"
     ]
    }
   ],
   "source": [
    "#Mostrar noticias\n",
    "for noticia in noticias:\n",
    "    print(noticia['site_name'],noticia['title'],noticia['url'],noticia['link'],sep='\\n',end='\\n\\n')"
   ]
  },
  {
   "cell_type": "markdown",
   "id": "49f33f3d-fc6d-45f0-a310-fdd177fe3ac8",
   "metadata": {},
   "source": [
    "[[Volver al inicio]](#Contenido)"
   ]
  },
  {
   "cell_type": "markdown",
   "id": "f71b01a7-9d21-47ae-b5fd-9d9533bb0f54",
   "metadata": {
    "tags": []
   },
   "source": [
    "## <span style=\"color:blue\">Accediendo al contenido de Noticias</span>"
   ]
  },
  {
   "cell_type": "markdown",
   "id": "764d36b8-668b-48ed-9147-f70281ad86dd",
   "metadata": {},
   "source": [
    "### Estado de Conexión"
   ]
  },
  {
   "cell_type": "markdown",
   "id": "8bf4b0a6-a478-4573-be00-5dfe6c7e3caa",
   "metadata": {},
   "source": [
    "Podemos usar la librería `requests` para generar una conexión hacia la página web de la cual queremos extraer la información:"
   ]
  },
  {
   "cell_type": "code",
   "execution_count": 41,
   "id": "18464ede-1631-44f3-9901-fd1ef5ab4a21",
   "metadata": {},
   "outputs": [],
   "source": [
    "# Abrir conexiones de una página web\n",
    "import requests\n",
    "# Bella sopa de muchas cosas de HTML\n",
    "from bs4 import BeautifulSoup\n",
    "# Expresiones regulares para filtrar dentro de la sopa\n",
    "import re\n",
    "# Transformar html a texto\n",
    "import html2text"
   ]
  },
  {
   "cell_type": "code",
   "execution_count": 47,
   "id": "93a1eb5f-9365-4679-b5ae-4f3ead306caa",
   "metadata": {},
   "outputs": [
    {
     "name": "stdout",
     "output_type": "stream",
     "text": [
      "infobae\n",
      "\n",
      "Hijo del presidente rompió el silencio y habló de su hermano, Nicolás Petro: “Él es el único responsable” - Infobae Colombia\n",
      "\n",
      "https://www.infobae.com/colombia/2023/08/05/hijo-del-presidente-rompio-el-silencio-y-hablo-de-su-hermano-nicolas-petro-el-es-el-unico-responsable/\n",
      "\n",
      "Estado de conexión: 200 OK (200 = OK, 403 = NOT OK)\n"
     ]
    }
   ],
   "source": [
    "# Elegir noticia al azar\n",
    "noticia_elegida = np.random.choice(noticias)\n",
    "# Obtener info importante del diccionario de gnews\n",
    "medio = noticia_elegida['site_name']\n",
    "# nombre del sitio de la noticia\n",
    "titular = noticia_elegida['title']\n",
    "# url de la noticia elegida\n",
    "url = noticia_elegida['url']\n",
    "# Elegir link adecuado, a veces url=None\n",
    "if url==None or re.search('http',url)==None:\n",
    "    # Si no hay info, ir desde Google\n",
    "    url = noticia_elegida['link']\n",
    "# Imprimir info importante\n",
    "print(medio,titular,url,sep='\\n\\n',end='\\n\\n')\n",
    "# Rompe defensa dummy anti-robot: https://stackoverflow.com/questions/38489386/python-requests-403-forbidden\n",
    "headers = {'User-Agent': 'Mozilla/5.0 (Macintosh; Intel Mac OS X 10_11_5) AppleWebKit/537.36 (KHTML, like Gecko) Chrome/50.0.2661.102 Safari/537.36'}\n",
    "# Obtener info de la página web\n",
    "res = requests.get(url,headers=headers)\n",
    "# Mostrar estado de la conexión\n",
    "print(\"Estado de conexión:\", res.status_code,res.reason, \"(200 = OK, 403 = NOT OK)\")"
   ]
  },
  {
   "cell_type": "markdown",
   "id": "5ced58f2-f647-4bb2-ac3a-ae68387c4e02",
   "metadata": {},
   "source": [
    "[[Volver al inicio]](#Contenido)"
   ]
  },
  {
   "cell_type": "markdown",
   "id": "87054a68-6561-46b0-825f-9c99d23d9a61",
   "metadata": {
    "tags": []
   },
   "source": [
    "## <span style=\"color:blue\">Beautiful Soup</span>"
   ]
  },
  {
   "cell_type": "markdown",
   "id": "d8de2cd8-5067-4a9c-bb5a-0e86ebbc8da1",
   "metadata": {},
   "source": [
    "En caso de tener conexión, `requests.content` copiará **todo** en contenido encontrado en la página fuente:"
   ]
  },
  {
   "cell_type": "code",
   "execution_count": 48,
   "id": "2a546225-4591-45a2-9982-5c2ba826579a",
   "metadata": {},
   "outputs": [
    {
     "name": "stdout",
     "output_type": "stream",
     "text": [
      "b'<!DOCTYPE html><html lang=\"es\"><head><title>Hijo del presidente rompi\\xc3\\xb3 el silencio y habl\\xc3\\xb3 de su hermano, Nicol\\xc3\\xa1s Petro: \\xe2\\x80\\x9c\\xc3\\x89l es el \\xc3\\xbanico responsable\\xe2\\x80\\x9d - Infobae</title><meta http-equiv=\"X-UA-Compatible\" content=\"IE=edge,chrome=1\"/><meta charSet=\"UTF-8\"/><link rel=\"preload\" as=\"font\" type=\"font/woff2\" crossorigin=\"\" fetchpriority=\"high\" href=\"/pf/resources/fonts/roboto-v30-latin-regular.woff2?d=1504\"/><link rel=\"preload\" as=\"font\" type=\"font/woff2\" crossorigin=\"\" fetchpriority=\"high\" href=\"/pf/resources/fonts/roboto-v30-latin-300.woff2?d=1504\"/><link rel=\"preload\" as=\"font\" type=\"font/woff2\" crossorigin=\"\" fetchpriority=\"high\" href=\"/pf/resources/fonts/roboto-v30-latin-500.woff2?d=1504\"/><link rel=\"preload\" as=\"font\" type=\"font/woff2\" crossorigin=\"\" fetchpriority=\"high\" href=\"/pf/resources/fonts/roboto-v30-latin-700.woff2?d=1504\"/><link rel=\"preload\" as=\"font\" type=\"font/woff2\" crossorigin=\"\" fetchpriority=\"high\" href=\"/pf/resources/fonts/roboto-v30-latin-900.woff2?d=1504\"/><link rel=\"preload\" as=\"font\" type=\"font/woff2\" crossorigin=\"\" fetchpriority=\"high\" href=\"/pf/resources/fonts/roboto-v30-latin-italic.woff2?d=1504\"/><link rel=\"preload\" as=\"font\" type=\"font/woff2\" crossorigin=\"\" fetchpriority=\"high\" href=\"/pf/resources/fonts/roboto-v30-latin-300italic.woff2?d=1504\"/><link rel=\"preload\" as=\"font\" type=\"font/woff2\" crossorigin=\"\" fetchpriority=\"high\" href=\"/pf/resources/fonts/roboto-v30-latin-500italic.woff2?d=1504\"/><link rel=\"preload\" as=\"font\" type=\"font/woff2\" crossorigin=\"\" fetchpriority=\"high\" href=\"/pf/resources/fonts/roboto-v30-latin-700italic.woff2?d=1504\"/><script>(function(w,d,s,l,i){w[l]=w[l]||[];w[l].push({\\'gtm.start\\':new Date().getTime(),event:\\'gtm.js\\'});var f=d.getElementsByTagName(s)[0],j=d.createElement(s),dl=l!=\\'dataLayer\\'?\\'&l=\\'+l:\\'\\';j.async=true;j.src=\\'https://www.googletagmanager.com/gtm.js?id=\\'+i+dl;f.parentNode.insertBefore(j,f);})(window,document,\\'script\\',\\'dataLayer\\',\\'GTM-NCW47QB\\');</script><meta http-equiv=\"X-UA-Compatible\" content=\"I'\n"
     ]
    }
   ],
   "source": [
    "# Obtener contenido Web\n",
    "html_page = res.content\n",
    "# Mostrar algo de código fuente\n",
    "print(html_page[:2000])"
   ]
  },
  {
   "cell_type": "markdown",
   "id": "0fddefae-6090-4acd-8003-0cdf463e5dda",
   "metadata": {},
   "source": [
    "Para poder decodificar símbolos especiales y organizar en forma coherente para python, usaremos la librería `BeautifulSoup`:"
   ]
  },
  {
   "cell_type": "code",
   "execution_count": 49,
   "id": "bbbb4d4d-fae6-47bc-baf5-5419aa023f94",
   "metadata": {},
   "outputs": [
    {
     "name": "stdout",
     "output_type": "stream",
     "text": [
      "<!DOCTYPE html>\n",
      "<html lang=\"es\">\n",
      " <head>\n",
      "  <title>\n",
      "   Hijo del presidente rompió el silencio y habló de su hermano, Nicolás Petro: “Él es el único responsable” - Infobae\n",
      "  </title>\n",
      "  <meta content=\"IE=edge,chrome=1\" http-equiv=\"X-UA-Compatible\"/>\n",
      "  <meta charset=\"utf-8\"/>\n",
      "  <link as=\"font\" crossorigin=\"\" fetchpriority=\"high\" href=\"/pf/resources/fonts/roboto-v30-latin-regular.woff2?d=1504\" rel=\"preload\" type=\"font/woff2\"/>\n",
      "  <link as=\"font\" crossorigin=\"\" fetchpriority=\"high\" href=\"/pf/resources/fonts/roboto-v30-latin-300.woff2?d=1504\" rel=\"preload\" type=\"font/woff2\"/>\n",
      "  <link as=\"font\" crossorigin=\"\" fetchpriority=\"high\" href=\"/pf/resources/fonts/roboto-v30-latin-500.woff2?d=1504\" rel=\"preload\" type=\"font/woff2\"/>\n",
      "  <link as=\"font\" crossorigin=\"\" fetchpriority=\"high\" href=\"/pf/resources/fonts/roboto-v30-latin-700.woff2?d=1504\" rel=\"preload\" type=\"font/woff2\"/>\n",
      "  <link as=\"font\" crossorigin=\"\" fetchpriority=\"high\" href=\"/pf/resources/fonts/roboto-v30-latin-900.woff2?d=1504\" rel=\"preload\" type=\"font/woff2\"/>\n",
      "  <link as=\"font\" crossorigin=\"\" fetchpriority=\"high\" href=\"/pf/resources/fonts/roboto-v30-latin-italic.woff2?d=1504\" rel=\"preload\" type=\"font/woff2\"/>\n",
      "  <link as=\"font\" crossorigin=\"\" fetchpriority=\"high\" href=\"/pf/resources/fonts/roboto-v30-latin-300italic.woff2?d=1504\" rel=\"preload\" type=\"font/woff2\"/>\n",
      "  <link as=\"font\" crossorigin=\"\" fetchpriority=\"high\" href=\"/pf/resources/fonts/roboto-v30-latin-500italic.woff2?d=1504\" rel=\"preload\" type=\"font/woff2\"/>\n",
      "  <link as=\"font\" crossorigin=\"\" fetchpriority=\"high\" href=\"/pf/resources/fonts/roboto-v30-latin-700italic.woff2?d=1504\" rel=\"preload\" type=\"font/woff2\"/>\n",
      "  <script>\n",
      "   (function(w,d,s,l,i){w[l]=w[l]||[];w[l].push({'gtm.start':new Date().getTime(),event:'gtm.js'});var f=d.getElementsByTagName(s)[0],j=d.createElement(s),dl=l!='dataLayer'?'&l='+l:'';j.async=true;j.src='https://www.googletagmanager.com/gtm.js?id='+i+dl;f.parentNode.insertBefore(j,f);})(window,document,'script','dataLayer','GTM-NCW47QB');\n",
      "  </scrip\n"
     ]
    }
   ],
   "source": [
    "## Obtener la sopa del HTML (construye la estructura de datos para poder minar por tags)\n",
    "soup = BeautifulSoup(html_page, 'html.parser')\n",
    "# parser permite decodificar algunos símbolos\n",
    "print(soup.prettify()[:2000])"
   ]
  },
  {
   "cell_type": "markdown",
   "id": "ba9f3960-2268-44bf-8bea-9b44e741b90d",
   "metadata": {},
   "source": [
    "Notemos que BeautifulSoup tiene bastantes herramientas para trabajar: "
   ]
  },
  {
   "cell_type": "code",
   "execution_count": 50,
   "id": "ba3c031d-ee37-43d6-8063-707debc5ab6d",
   "metadata": {},
   "outputs": [
    {
     "name": "stdout",
     "output_type": "stream",
     "text": [
      "['ASCII_SPACES', 'DEFAULT_BUILDER_FEATURES', 'DEFAULT_INTERESTING_STRING_TYPES', 'NO_PARSER_SPECIFIED_WARNING', 'ROOT_TAG_NAME', '__bool__', '__call__', '__class__', '__contains__', '__copy__', '__delattr__', '__delitem__', '__dict__', '__dir__', '__doc__', '__eq__', '__format__', '__ge__', '__getattr__', '__getattribute__', '__getitem__', '__getstate__', '__gt__', '__hash__', '__init__', '__init_subclass__', '__iter__', '__le__', '__len__', '__lt__', '__module__', '__ne__', '__new__', '__reduce__', '__reduce_ex__', '__repr__', '__setattr__', '__setitem__', '__sizeof__', '__str__', '__subclasshook__', '__unicode__', '__weakref__', '_all_strings', '_decode_markup', '_feed', '_find_all', '_find_one', '_is_xml', '_lastRecursiveChild', '_last_descendant', '_linkage_fixer', '_markup_is_url', '_markup_resembles_filename', '_most_recent_element', '_namespaces', '_popToTag', '_should_pretty_print', 'append', 'attrs', 'builder', 'can_be_empty_element', 'cdata_list_attributes', 'childGenerator', 'children', 'clear', 'contains_replacement_characters', 'contents', 'currentTag', 'current_data', 'declared_html_encoding', 'decode', 'decode_contents', 'decompose', 'decomposed', 'default', 'descendants', 'element_classes', 'encode', 'encode_contents', 'endData', 'extend', 'extract', 'fetchNextSiblings', 'fetchParents', 'fetchPrevious', 'fetchPreviousSiblings', 'find', 'findAll', 'findAllNext', 'findAllPrevious', 'findChild', 'findChildren', 'findNext', 'findNextSibling', 'findNextSiblings', 'findParent', 'findParents', 'findPrevious', 'findPreviousSibling', 'findPreviousSiblings', 'find_all', 'find_all_next', 'find_all_previous', 'find_next', 'find_next_sibling', 'find_next_siblings', 'find_parent', 'find_parents', 'find_previous', 'find_previous_sibling', 'find_previous_siblings', 'format_string', 'formatter_for_name', 'get', 'getText', 'get_attribute_list', 'get_text', 'handle_data', 'handle_endtag', 'handle_starttag', 'has_attr', 'has_key', 'hidden', 'index', 'insert', 'insert_after', 'insert_before', 'interesting_string_types', 'isSelfClosing', 'is_empty_element', 'is_xml', 'known_xml', 'markup', 'name', 'namespace', 'new_string', 'new_tag', 'next', 'nextGenerator', 'nextSibling', 'nextSiblingGenerator', 'next_element', 'next_elements', 'next_sibling', 'next_siblings', 'object_was_parsed', 'open_tag_counter', 'original_encoding', 'parent', 'parentGenerator', 'parents', 'parse_only', 'parserClass', 'parser_class', 'popTag', 'prefix', 'preserve_whitespace_tag_stack', 'preserve_whitespace_tags', 'prettify', 'previous', 'previousGenerator', 'previousSibling', 'previousSiblingGenerator', 'previous_element', 'previous_elements', 'previous_sibling', 'previous_siblings', 'pushTag', 'recursiveChildGenerator', 'renderContents', 'replaceWith', 'replaceWithChildren', 'replace_with', 'replace_with_children', 'reset', 'select', 'select_one', 'setup', 'smooth', 'string', 'string_container', 'string_container_stack', 'strings', 'stripped_strings', 'tagStack', 'text', 'unwrap', 'wrap']\n"
     ]
    }
   ],
   "source": [
    "print(dir(soup))"
   ]
  },
  {
   "cell_type": "markdown",
   "id": "6288f3c2-6422-4dc0-8eff-51f5d6c68655",
   "metadata": {},
   "source": [
    "[[Volver al inicio]](#Contenido)"
   ]
  },
  {
   "cell_type": "markdown",
   "id": "192603a6-aadf-4e12-86af-4b50cd740f1e",
   "metadata": {},
   "source": [
    "### Obtención del texto de la noticia"
   ]
  },
  {
   "cell_type": "code",
   "execution_count": 51,
   "id": "f6d2501e-127a-489c-b45b-eb1cdb2e0954",
   "metadata": {},
   "outputs": [
    {
     "name": "stdout",
     "output_type": "stream",
     "text": [
      "infobae\n",
      "\n",
      "Hijo del presidente rompió el silencio y habló de su hermano, Nicolás Petro: “Él es el único responsable” - Infobae Colombia\n",
      "\n",
      "https://www.infobae.com/colombia/2023/08/05/hijo-del-presidente-rompio-el-silencio-y-hablo-de-su-hermano-nicolas-petro-el-es-el-unico-responsable/\n",
      "\n"
     ]
    }
   ],
   "source": [
    "# Info Básica\n",
    "print(medio,titular,url,sep='\\n\\n',end='\\n\\n')"
   ]
  },
  {
   "cell_type": "code",
   "execution_count": 57,
   "id": "f42719e0-6a55-4fc6-853e-a89f5125998b",
   "metadata": {},
   "outputs": [
    {
     "data": {
      "text/plain": [
       "[<p class=\"paragraph\">La situación jurídica que atraviesa <b>Nicolás Petro Burgos</b>, hijo mayor del presidente de la República, <b>Gustavo Petro</b>, que afronta cargos por lavado de activos y enriquecimiento ilícito, sigue generando reacciones en el seno de la familia del jefe de Estado. El viernes 4 de agosto se conoció una nueva reacción, en relación con el escándalo que salpica al mandatario.</p>,\n",
       " <p class=\"paragraph\">Se trata de <b>Andrés Gustavo Petro Herrán</b>, que desde el exilio en Canadá, rompió el silencio y con un extenso mensaje en sus historias de Instagram, hizo una profunda reflexión acerca del complejo proceso judicial que involucra a su hermano. El joven es hijo de la relación que tuvo el hoy jefe de Estado con <b>Mary Luz Herrán</b>, que también pertenecía al <i>M-19</i>.</p>,\n",
       " <p class=\"paragraph\">En su mensaje, que replicó su hermana, <b>Andrea Petro</b> en su perfil de Twitter, el hombre que no estuvo en la posesión de su padre debido a que tiene condición de refugiado y no puede abandonar el país norteamericano, emitió sus apreciaciones más personales de esta situación, de la que podría inferirse lo tiene en medio de un dilema.</p>,\n",
       " <p class=\"paragraph\">A su hermano, que afronta cargos por lavado de activos y enriquecimiento ilícito, le pidió que “tenga la fuerza para afrontar las consecuencias de sus actos” y que, del mismo modo, “logre salir del hoyo en el que se encuentra”. Y expresó su deseo de que lo pueda hacer “sin resentimiento alguno”, pues frente lo que hizo <b>“él es el único responsable”.</b></p>,\n",
       " <p class=\"paragraph\">A su vez, a su progenitor, que oficia como jefe de Estado, le dijo que confía en que tenga<b> “las capacidades y la inteligencia necesarias para dirigir el barco en esta tormenta”</b>. Y mencionó que tiene certeza de su transparencia, “pues más allá de todo interés particular, su objetivo siempre ha sido el bienestar del país.</p>,\n",
       " <p class=\"paragraph\">Por su parte, a ambos, <b>en un mensaje que generó todo tipo de reacciones</b>, entre quienes apoyan al mandatario y los que han pedido su renuncia, les dedicó unas líneas adicionales en las que mostró, si se quiere, una postura neutral en la rota relación entre el Gustavo Petro y su primogénito, a tal punto de que el sindicado se negó a ver a su padre.</p>,\n",
       " <p class=\"paragraph\">Y por último, a los colombianos, el joven les pidió que, lo que calificó la “ambición infantil” de la pareja que conformaron Petro Burgos y Vásquez Castro, no acaben con el proyecto político que encarna <b>Gustavo Petro</b>: el primer presidente de izquierda de Colombia, que en su tercer intento logró llegar a la Casa de Nariño.</p>,\n",
       " <p class=\"paragraph\">“A Colombia: <b>que tantos años de lucha y de sacrificios no pueden quedar deslegitimados </b>por la ambición infantil de una pareja, de todos depende que el país no retroceda, pues si el cambio no es ahora, tal vez pasen décadas hasta que sea”, finalizó en su mensaje.</p>,\n",
       " <p class=\"paragraph\">El escrito se conoció el día en que se revelaron detalles del interrogatorio de <b>Nicolás Petro</b>, que incriminó a su progenitor, el presidente, en la presunta financiación ilegal de su campaña; no solo por violar los topes electorales, sino también por el origen de los recursos que la permearon, por parte de cuestionados personajes.</p>]"
      ]
     },
     "execution_count": 57,
     "metadata": {},
     "output_type": "execute_result"
    }
   ],
   "source": [
    "texto = soup.find_all('p',{'class': 'paragraph'})\n",
    "texto"
   ]
  },
  {
   "cell_type": "raw",
   "id": "e10c3e32-7398-4882-aea1-9b4abe46f055",
   "metadata": {},
   "source": [
    "# Para italia, il mattino\n",
    "texto = soup.find_all('script',{'type':'application/ld+json'})\n",
    "# Encontrar dentro del script la parte de , \"content\":\"...\n",
    "p=re.compile('([^,\\\"*]*\\w+\\s[^\\\"]*\\.)')\n",
    "# Encontrar texto escondido\n",
    "texto= p.findall(''.join(str(texto)))\n",
    "texto"
   ]
  },
  {
   "cell_type": "markdown",
   "id": "21cedbf8-fee5-490a-9c28-9c8a0abf4d6e",
   "metadata": {},
   "source": [
    "Librería `html2text`"
   ]
  },
  {
   "cell_type": "code",
   "execution_count": 61,
   "id": "c69f3539-88a6-41d5-98a2-f5bb8f52eca1",
   "metadata": {},
   "outputs": [
    {
     "data": {
      "text/plain": [
       "'[\\n\\nLa situación jurídica que atraviesa **Nicolás Petro Burgos** , hijo mayor del\\npresidente de la República, **Gustavo Petro** , que afronta cargos por lavado\\nde activos y enriquecimiento ilícito, sigue generando reacciones en el seno de\\nla familia del jefe de Estado. El viernes 4 de agosto se conoció una nueva\\nreacción, en relación con el escándalo que salpica al mandatario.\\n\\n,\\n\\nSe trata de **Andrés Gustavo Petro Herrán** , que desde el exilio en Canadá,\\nrompió el silencio y con un extenso mensaje en sus historias de Instagram,\\nhizo una profunda reflexión acerca del complejo proceso judicial que involucra\\na su hermano. El joven es hijo de la relación que tuvo el hoy jefe de Estado\\ncon **Mary Luz Herrán** , que también pertenecía al _M-19_.\\n\\n,\\n\\nEn su mensaje, que replicó su hermana, **Andrea Petro** en su perfil de\\nTwitter, el hombre que no estuvo en la posesión de su padre debido a que tiene\\ncondición de refugiado y no puede abandonar el país norteamericano, emitió sus\\napreciaciones más personales de esta situación, de la que podría inferirse lo\\ntiene en medio de un dilema.\\n\\n,\\n\\nA su hermano, que afronta cargos por lavado de activos y enriquecimiento\\nilícito, le pidió que “tenga la fuerza para afrontar las consecuencias de sus\\nactos” y que, del mismo modo, “logre salir del hoyo en el que se encuentra”. Y\\nexpresó su deseo de que lo pueda hacer “sin resentimiento alguno”, pues frente\\nlo que hizo **“él es el único responsable”.**\\n\\n,\\n\\nA su vez, a su progenitor, que oficia como jefe de Estado, le dijo que confía\\nen que tenga **“las capacidades y la inteligencia necesarias para dirigir el\\nbarco en esta tormenta”**. Y mencionó que tiene certeza de su transparencia,\\n“pues más allá de todo interés particular, su objetivo siempre ha sido el\\nbienestar del país.\\n\\n,\\n\\nPor su parte, a ambos, **en un mensaje que generó todo tipo de reacciones** ,\\nentre quienes apoyan al mandatario y los que han pedido su renuncia, les\\ndedicó unas líneas adicionales en las que mostró, si se quiere, una postura\\nneutral en la rota relación entre el Gustavo Petro y su primogénito, a tal\\npunto de que el sindicado se negó a ver a su padre.\\n\\n,\\n\\nY por último, a los colombianos, el joven les pidió que, lo que calificó la\\n“ambición infantil” de la pareja que conformaron Petro Burgos y Vásquez\\nCastro, no acaben con el proyecto político que encarna **Gustavo Petro** : el\\nprimer presidente de izquierda de Colombia, que en su tercer intento logró\\nllegar a la Casa de Nariño.\\n\\n,\\n\\n“A Colombia: **que tantos años de lucha y de sacrificios no pueden quedar\\ndeslegitimados** por la ambición infantil de una pareja, de todos depende que\\nel país no retroceda, pues si el cambio no es ahora, tal vez pasen décadas\\nhasta que sea”, finalizó en su mensaje.\\n\\n,\\n\\nEl escrito se conoció el día en que se revelaron detalles del interrogatorio\\nde **Nicolás Petro** , que incriminó a su progenitor, el presidente, en la\\npresunta financiación ilegal de su campaña; no solo por violar los topes\\nelectorales, sino también por el origen de los recursos que la permearon, por\\nparte de cuestionados personajes.\\n\\n]\\n\\n'"
      ]
     },
     "execution_count": 61,
     "metadata": {},
     "output_type": "execute_result"
    }
   ],
   "source": [
    "# Convertit HTML a Texto    \n",
    "texto_limpio = html2text.html2text(''.join(str(texto)))\n",
    "texto_limpio"
   ]
  },
  {
   "cell_type": "markdown",
   "id": "624807de-9031-445b-9687-adf1d494cdd8",
   "metadata": {},
   "source": [
    "[[Volver al inicio]](#Contenido)"
   ]
  },
  {
   "cell_type": "markdown",
   "id": "a33be511-155a-4be9-b140-f697c41e4cd4",
   "metadata": {
    "tags": []
   },
   "source": [
    "## <span style=\"color:blue\">Limpieza Básica usando expresiones regulares</span>"
   ]
  },
  {
   "cell_type": "markdown",
   "id": "0284ae11-f400-42fa-8537-2badece8caf7",
   "metadata": {},
   "source": [
    "Para mayor información, recomendamos visitar [Regular Expressions Cheat Sheet](https://cheatography.com/davechild/cheat-sheets/regular-expressions/), para un resumen de las posibilidades de las expresiones regulares. \n",
    "\n",
    "También podemos acceder a un tester para probar todo tipo de patrones en [RegExr: Learn, Build, & Test RegEx](https://regexr.com/)"
   ]
  },
  {
   "cell_type": "code",
   "execution_count": 63,
   "id": "28bc8e23-68bc-4fc5-a458-c991e2648351",
   "metadata": {},
   "outputs": [
    {
     "data": {
      "text/plain": [
       "'La situación jurídica que atraviesa Nicolás Petro Burgos , hijo mayor del presidente de la República, Gustavo Petro , que afronta cargos por lavado de activos y enriquecimiento ilícito, sigue generando reacciones en el seno de la familia del jefe de Estado. El viernes 4 de agosto se conoció una nueva reacción, en relación con el escándalo que salpica al mandatario. Se trata de Andrés Gustavo Petro Herrán , que desde el exilio en Canadá, rompió el silencio y con un extenso mensaje en sus historias de Instagram, hizo una profunda reflexión acerca del complejo proceso judicial que involucra a su hermano. El joven es hijo de la relación que tuvo el hoy jefe de Estado con Mary Luz Herrán , que también pertenecía al M-19. En su mensaje, que replicó su hermana, Andrea Petro en su perfil de Twitter, el hombre que no estuvo en la posesión de su padre debido a que tiene condición de refugiado y no puede abandonar el país norteamericano, emitió sus apreciaciones más personales de esta situación, de la que podría inferirse lo tiene en medio de un dilema. A su hermano, que afronta cargos por lavado de activos y enriquecimiento ilícito, le pidió que “tenga la fuerza para afrontar las consecuencias de sus actos” y que, del mismo modo, “logre salir del hoyo en el que se encuentra”. Y expresó su deseo de que lo pueda hacer “sin resentimiento alguno”, pues frente lo que hizo “él es el único responsable”. A su vez, a su progenitor, que oficia como jefe de Estado, le dijo que confía en que tenga “las capacidades y la inteligencia necesarias para dirigir el barco en esta tormenta” . Y mencionó que tiene certeza de su transparencia, “pues más allá de todo interés particular, su objetivo siempre ha sido el bienestar del país. Por su parte, a ambos, en un mensaje que generó todo tipo de reacciones , entre quienes apoyan al mandatario y los que han pedido su renuncia, les dedicó unas líneas adicionales en las que mostró, si se quiere, una postura neutral en la rota relación entre el Gustavo Petro y su primogénito, a tal punto de que el sindicado se negó a ver a su padre. Y por último, a los colombianos, el joven les pidió que, lo que calificó la “ambición infantil” de la pareja que conformaron Petro Burgos y Vásquez Castro, no acaben con el proyecto político que encarna Gustavo Petro : el primer presidente de izquierda de Colombia, que en su tercer intento logró llegar a la Casa de Nariño. “A Colombia: que tantos años de lucha y de sacrificios no pueden quedar deslegitimados por la ambición infantil de una pareja, de todos depende que el país no retroceda, pues si el cambio no es ahora, tal vez pasen décadas hasta que sea”, finalizó en su mensaje. El escrito se conoció el día en que se revelaron detalles del interrogatorio de Nicolás Petro , que incriminó a su progenitor, el presidente, en la presunta financiación ilegal de su campaña; no solo por violar los topes electorales, sino también por el origen de los recursos que la permearon, por parte de cuestionados personajes.'"
      ]
     },
     "execution_count": 63,
     "metadata": {},
     "output_type": "execute_result"
    }
   ],
   "source": [
    "#Quitar links\n",
    "texto_limpio = re.sub(r'\\([^)]*\\)',' ',texto_limpio)\n",
    "# Quitar paréntesis redondos y cuadrados después de quitar links\n",
    "texto_limpio = re.sub(r'[\\[\\]\\(\\)]','',texto_limpio)\n",
    "# Quitar saltos de línea\n",
    "texto_limpio = re.sub(r'\\n',' ',texto_limpio)\n",
    "# Quitar asteriscos\n",
    "texto_limpio = re.sub(r'\\*',' ',texto_limpio)\n",
    "# Quitar comillas sencillas y reemplazar por dobles\n",
    "texto_limpio = re.sub(r\"[\\\\']\",'\\'',texto_limpio)\n",
    "# Quitar todo lo que no tenga punto al final, después del punto final.\n",
    "texto_limpio = re.sub(r'([^.]*$)','',texto_limpio)\n",
    "# Quitar Espacios extra (dos o más)\n",
    "texto_limpio = re.sub('\\s\\s+', ' ',texto_limpio)\n",
    "# Quitar el patrón . , [texto]\n",
    "texto_limpio = re.sub('\\.\\s,\\s', '. ',texto_limpio)\n",
    "# Algunos países tienen prob\n",
    "texto_limpio = re.sub(u'\\\\\\'xa0','',texto_limpio)\n",
    "texto_limpio = re.sub('_','',texto_limpio)\n",
    "# Quitar espacios iniciales y finales\n",
    "texto_limpio = texto_limpio.strip()\n",
    "texto_limpio"
   ]
  },
  {
   "cell_type": "markdown",
   "id": "9af81d8a-1fca-42d6-8ecc-0aaf7cf7c6ef",
   "metadata": {},
   "source": [
    "[[Volver al inicio]](#Contenido)"
   ]
  },
  {
   "cell_type": "markdown",
   "id": "c56e9d5d-3542-4f54-8497-4272a8888973",
   "metadata": {},
   "source": [
    "### Uniendo Piezas"
   ]
  },
  {
   "cell_type": "code",
   "execution_count": 64,
   "id": "fa558397-64df-49a9-9185-20cb8029bee5",
   "metadata": {},
   "outputs": [
    {
     "name": "stdout",
     "output_type": "stream",
     "text": [
      "Semana.com   Últimas Noticias de Colombia y el Mundo\n",
      "\n",
      "Piedad Córdoba renunciaría al Congreso - Revista Semana\n",
      "\n",
      "https://www.semana.com/confidenciales/articulo/piedad-cordoba-renunciaria-al-congreso/202356/\n",
      "\n",
      "Medio de comunicación no reconocido. Los resultados pueden salirse de lo esperado.\n",
      "\n",
      "\n",
      "No se puede minar ésta Noticia...\n",
      "\n",
      "Le recomendamos chequear el link para ver qué ocurrió.\n"
     ]
    }
   ],
   "source": [
    "# Elegir noticia al azar\n",
    "noticia_elegida = np.random.randint(len(noticias))\n",
    "\n",
    "# url de la noticia elegida\n",
    "url = noticias[noticia_elegida]['url']\n",
    "# Elegir link adecuado, a veces url=None\n",
    "if url==None or re.search('http',url)==None:\n",
    "    # Si no hay info, ir desde Google\n",
    "    url = noticias[noticia_elegida]['link']\n",
    "    \n",
    "# nombre del sitio de la noticia\n",
    "medio = noticias[noticia_elegida]['site_name']\n",
    "# Titular de la noticia\n",
    "titular = noticias[noticia_elegida]['title']\n",
    "\n",
    "# Rompe defensa dummy anti-robot: https://stackoverflow.com/questions/38489386/python-requests-403-forbidden\n",
    "headers = {'User-Agent': 'Mozilla/5.0 (Macintosh; Intel Mac OS X 10_11_5) AppleWebKit/537.36 (KHTML, like Gecko) Chrome/50.0.2661.102 Safari/537.36'}\n",
    "# Obtener info de la página web\n",
    "res = requests.get(url,headers=headers)\n",
    "\n",
    "# Extraer contenido\n",
    "html_page = res.content\n",
    "# Parsing del contenido en forma de árbol\n",
    "soup = BeautifulSoup(html_page, 'html.parser')\n",
    "# En caso de que tengamos que ir más profundo en la fuente\n",
    "#print(soup.prettify())\n",
    "\n",
    "# Info Básica\n",
    "print(medio,titular,url,sep='\\n\\n',end='\\n\\n')\n",
    "\n",
    "# Cuando se tiene error 403\n",
    "if re.search('403',str(res)):\n",
    "    print('\\nNo se puede mirar ésta Noticia... Estado de la petición:', res)\n",
    "    print(f'\\nLe recomendamos chequear el link para ver qué ocurrió.')\n",
    "    texto = []\n",
    "# Sirve para El Tiempo\n",
    "elif re.search(re.compile('Tiempo|ElTiempo'),titular):\n",
    "    texto = soup.find_all('p',{'class': 'contenido'})\n",
    "elif re.search(re.compile('Caracol'),titular):\n",
    "    texto = soup.find_all('p')\n",
    "    # Todas las noticias de CR comienzan con negrita (Hasta ahora)\n",
    "    p = re.compile('^[^\\*]*\\*')\n",
    "    # Quitar Las propagandas del inicio\n",
    "    texto = re.sub(p,'',''.join(str(texto)))\n",
    "else:\n",
    "    print(\"Medio de comunicación no reconocido. Los resultados pueden salirse de lo esperado.\\n\")\n",
    "    texto = []\n",
    "    \n",
    "#print(texto)\n",
    "if texto:\n",
    "    # Convertit HTML a Texto    \n",
    "    texto_limpio = html2text.html2text(''.join(str(texto)))\n",
    "    #Quitar links\n",
    "    texto_limpio = re.sub(r'\\([^)]*\\)',' ',texto_limpio)\n",
    "    # Quitar paréntesis redondos y cuadrados después de quitar links\n",
    "    texto_limpio = re.sub(r'[\\[\\]\\(\\)]','',texto_limpio)\n",
    "    # Quitar saltos de línea\n",
    "    texto_limpio = re.sub(r'\\n',' ',texto_limpio)\n",
    "    # Quitar asteriscos\n",
    "    texto_limpio = re.sub(r'\\*',' ',texto_limpio)\n",
    "    # Quitar comillas sencillas y reemplazar por dobles\n",
    "    texto_limpio = re.sub(r\"[\\\\']\",'\\'',texto_limpio)\n",
    "    # Especial para el Colombiano, se mezclan noticias después de >\n",
    "    #texto_limpio = re.sub(r'(>[^>]*$)','',texto_limpio)\n",
    "    #Quitar todo lo que no tenga punto al final, después del punto final.\n",
    "    texto_limpio = re.sub(r'([^.]*$)','',texto_limpio)\n",
    "    # Quitar Espacios extra (dos o más)\n",
    "    texto_limpio = re.sub('\\s\\s+', ' ',texto_limpio)\n",
    "    # Quitar el patrón . , texto\n",
    "    texto_limpio = re.sub('\\.\\s,\\s', '. ',texto_limpio)\n",
    "    # Quitar espacios iniciales y finales\n",
    "    texto_limpio = texto_limpio.strip()\n",
    "else: texto_limpio=[]\n",
    "\n",
    "if texto_limpio:\n",
    "    print(texto_limpio)\n",
    "elif not re.search('403',str(res)):\n",
    "    print('\\nNo se puede minar ésta Noticia...')\n",
    "    print(f'\\nLe recomendamos chequear el link para ver qué ocurrió.')"
   ]
  },
  {
   "cell_type": "markdown",
   "id": "81707f08-5926-4276-9911-3b1da528e43f",
   "metadata": {},
   "source": [
    "[[Volver al inicio]](#Contenido)"
   ]
  },
  {
   "cell_type": "markdown",
   "id": "ca9aad79-75f1-4354-a96a-818b728b3397",
   "metadata": {
    "tags": []
   },
   "source": [
    "## <span style=\"color:blue\">Ir más allá</span>"
   ]
  },
  {
   "cell_type": "code",
   "execution_count": 156,
   "id": "a9a8f5cd-ea08-435c-ace7-517a460e0cbf",
   "metadata": {},
   "outputs": [],
   "source": [
    "# Separar texto en frases (Para el transformer)\n",
    "from sentence_utils import split_into_sentences\n",
    "# Utilidad de resumen y traducción\n",
    "from transformers import pipeline"
   ]
  },
  {
   "cell_type": "code",
   "execution_count": 157,
   "id": "1e651288-ad69-489e-9471-738b4c323a21",
   "metadata": {},
   "outputs": [],
   "source": [
    "traductor = pipeline(\"translation\", model=\"Helsinki-NLP/opus-mt-es-en\")"
   ]
  },
  {
   "cell_type": "code",
   "execution_count": 158,
   "id": "df3e0388-bb78-44fd-bf25-b77bdaccb161",
   "metadata": {},
   "outputs": [
    {
     "name": "stdout",
     "output_type": "stream",
     "text": [
      "8 Frases encontradas.\n"
     ]
    }
   ],
   "source": [
    "frases = split_into_sentences(texto_limpio)\n",
    "print(f\"{len(frases)} Frases encontradas.\")"
   ]
  },
  {
   "cell_type": "code",
   "execution_count": 159,
   "id": "de537235-e733-4dbc-8395-601111f77c27",
   "metadata": {},
   "outputs": [],
   "source": [
    "traducciones_frases = traductor(frases)"
   ]
  },
  {
   "cell_type": "code",
   "execution_count": 160,
   "id": "0b79f3e7-136e-41bf-976b-39863ad14cbe",
   "metadata": {},
   "outputs": [
    {
     "data": {
      "text/plain": [
       "'Advertising , Advertising , Advertising , Advertising , According to the National Registry , until March 29 there is a deadline for the registration of ballot papers for the presidential elections . The Electoral Organization will attend at each of its seats from 8:00 a.m. to 4:00 p.m. Likewise, all citizens who wish to change their voting position can do so within these dates. This procedure can be carried out in person at the different offices of the Registry, it is also possible from the website of the entity. Advertising , If you prefer to change your voting position from the website, simply enter <https://citizens registration. register.gov.co/> and type in your card number and date of issue. Once this process has been carried out, you will need to download proof of the change of voting position. Publicity , It is important that before proceeding with the registration of the ballot paper the current voting position is confirmed. You should approach the original document at any Registry venue from 8:00 a.m. to 4:00 p.m. When the biometric authentication process is performed, the change of polling place will take place.'"
      ]
     },
     "execution_count": 160,
     "metadata": {},
     "output_type": "execute_result"
    }
   ],
   "source": [
    "traduccion = [traduccion['translation_text'] for traduccion in traducciones_frases]\n",
    "traduccion = ' '.join(traduccion)\n",
    "traduccion"
   ]
  },
  {
   "cell_type": "code",
   "execution_count": 161,
   "id": "996ec9c7-1e97-4938-981d-a163867c2b90",
   "metadata": {},
   "outputs": [
    {
     "name": "stderr",
     "output_type": "stream",
     "text": [
      "No model was supplied, defaulted to sshleifer/distilbart-cnn-12-6 (https://huggingface.co/sshleifer/distilbart-cnn-12-6)\n"
     ]
    }
   ],
   "source": [
    "sumarizer = pipeline('summarization',min_length=100)"
   ]
  },
  {
   "cell_type": "code",
   "execution_count": 162,
   "id": "9789af9c-52e6-4ae6-bfb2-ecded97d72bd",
   "metadata": {},
   "outputs": [],
   "source": [
    "resumen = sumarizer(traduccion)"
   ]
  },
  {
   "cell_type": "code",
   "execution_count": 163,
   "id": "afbda0a7-5db1-4af3-a6ec-32bc5a790b22",
   "metadata": {},
   "outputs": [
    {
     "data": {
      "text/plain": [
       "' Until March 29 there is a deadline for the registration of ballot papers for the presidential elections . All citizens who wish to change their voting position can do so within these dates . This procedure can be carried out in person at the different offices of the Registry, it is also possible from the website of the entity . The Electoral Organization will attend at each of its seats from 8:00 a.m. to 4:00 p.m., the change of polling place will take place when the biometric authentication process is performed .'"
      ]
     },
     "execution_count": 163,
     "metadata": {},
     "output_type": "execute_result"
    }
   ],
   "source": [
    "resumen_en = resumen[0]['summary_text']\n",
    "resumen_en"
   ]
  },
  {
   "cell_type": "code",
   "execution_count": 164,
   "id": "dcda0768-eceb-4cd7-bfd2-9e0176280cc2",
   "metadata": {},
   "outputs": [],
   "source": [
    "traductor_en_es = pipeline(\"translation\", model=\"Helsinki-NLP/opus-mt-en-es\")"
   ]
  },
  {
   "cell_type": "code",
   "execution_count": 165,
   "id": "92870235-e41b-4d45-b19c-87c995763f88",
   "metadata": {},
   "outputs": [],
   "source": [
    "resumen_es = traductor_en_es(resumen_en)"
   ]
  },
  {
   "cell_type": "code",
   "execution_count": 166,
   "id": "0a40f511-01d1-46cf-b610-2d334a608529",
   "metadata": {},
   "outputs": [
    {
     "data": {
      "text/plain": [
       "'Hasta el 29 de marzo hay un plazo para la inscripción de papeletas de votación para las elecciones presidenciales . Todos los ciudadanos que deseen cambiar su posición de voto pueden hacerlo dentro de estas fechas . Este procedimiento se puede llevar a cabo en persona en las diferentes oficinas del Registro, también es posible desde el sitio web de la entidad . La Organización Electoral asistirá a cada uno de sus asientos de 8:00 a.m. a 4:00 p.m., el cambio de lugar de votación se llevará a cabo cuando se realice el proceso de autenticación biométrica .'"
      ]
     },
     "execution_count": 166,
     "metadata": {},
     "output_type": "execute_result"
    }
   ],
   "source": [
    "resumen_final = resumen_es[0]['translation_text']\n",
    "resumen_final"
   ]
  },
  {
   "cell_type": "markdown",
   "id": "b5ccaa4d-d18d-4b0c-9cde-53de76c39f0f",
   "metadata": {},
   "source": [
    "[[Volver al inicio]](#Contenido)"
   ]
  },
  {
   "cell_type": "markdown",
   "id": "d0a062a4-c63d-4276-a975-9ce7eb497d98",
   "metadata": {},
   "source": [
    "**Reto:**\n",
    "\n",
    "Encontrar la mayoría de patrones para todas las noticias que puede extraer Google News.\n",
    "\n",
    "**Pista:**\n",
    "\n",
    "```Python\n",
    "# Sirve para Revista Semana (IOY)\n",
    "elif re.search(re.compile('Semana'),titular):\n",
    "    texto = soup.find_all('script',{'id':'fusion-metadata'})\n",
    "    # Encontrar dentro del script la parte de , \"content\":\"...\n",
    "    p=re.compile('([^,\\\"*]*\\w+\\s[^\\\"]*\\.)')\n",
    "    # Encontrar texto escondido\n",
    "    texto= p.findall(''.join(str(texto)))\n",
    "    # Chambonada chévere, quitar partes finales (No creo que siempre funcione)\n",
    "    texto = [re.sub(re.compile(r'\\b(Últimas)\\b.*|\\b(últimas)\\b.*|\\b(Noticias)\\b.*|\\b(Nación)\\b.*|\\b(Revista Semana)\\b.*'),'',token) for token in texto]\n",
    "    texto = ''.join(texto)\n",
    "```"
   ]
  }
 ],
 "metadata": {
  "kernelspec": {
   "display_name": "Python 3 (ipykernel)",
   "language": "python",
   "name": "python3"
  },
  "language_info": {
   "codemirror_mode": {
    "name": "ipython",
    "version": 3
   },
   "file_extension": ".py",
   "mimetype": "text/x-python",
   "name": "python",
   "nbconvert_exporter": "python",
   "pygments_lexer": "ipython3",
   "version": "3.9.13"
  }
 },
 "nbformat": 4,
 "nbformat_minor": 5
}
