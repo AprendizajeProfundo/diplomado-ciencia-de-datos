{
 "cells": [
  {
   "cell_type": "markdown",
   "id": "9790ec89-3a08-4ec8-b337-8cee54837b85",
   "metadata": {
    "tags": []
   },
   "source": [
    "# <span style=\"color:#F72585\"><center>Taller de paquete RegEx</center> </span>"
   ]
  },
  {
   "cell_type": "markdown",
   "id": "1568f425-e201-4c59-a650-d1f8cedc4c3a",
   "metadata": {},
   "source": [
    "<figure>\n",
    "<center>\n",
    "<img src=\"../Imagenes/regex.jpg\" width=\"600\" height=\"400\" align=\"center\" /> \n",
    "</center>   \n",
    "</figure>\n",
    "\n",
    "Fuente: [Pexels](https://www.pexels.com/es-es/foto/azulejos-de-letras-de-cosas-extranas-944740/)"
   ]
  },
  {
   "cell_type": "markdown",
   "id": "9b32e410-cd87-4a9e-91b0-053bbe122859",
   "metadata": {},
   "source": [
    "## <span style=\"color:#4361EE\">Autores</span>"
   ]
  },
  {
   "cell_type": "markdown",
   "id": "a2deb12e-a789-450f-a78e-63c1e740a9b4",
   "metadata": {},
   "source": [
    "- Oleg Jarma, ojarmam@unal.edu.co \n",
    "- Laura Lizarazo, ljlizarazore@unal.edu.co \n",
    "- Venus Celeste Puertas Gualtero\n"
   ]
  },
  {
   "cell_type": "markdown",
   "id": "5df4696f-db84-4748-a700-8deefdea3814",
   "metadata": {},
   "source": [
    "## <span style=\"color:#4361EE\">Profesores</span>"
   ]
  },
  {
   "cell_type": "markdown",
   "id": "a0c3bf29-f9e2-4be8-9311-e5e1ea0aa9d7",
   "metadata": {},
   "source": [
    "* Alvaro  Montenegro, PhD, <ammontenegrod@unal.edu.co>\n",
    "* Campo Elías Pardo, PhD, <cepardot@unal.edu.co>\n",
    "* Daniel  Montenegro, Msc, <dextronomo@gmail.com>\n",
    "* Camilo José Torres Jiménez, Msc, <cjtorresj@unal.edu.co>"
   ]
  },
  {
   "cell_type": "markdown",
   "id": "42aa77df-4dd1-42ab-be32-d5d7ef3130a9",
   "metadata": {},
   "source": [
    "## <span style=\"color:#4361EE\">Coordinador</span>"
   ]
  },
  {
   "cell_type": "markdown",
   "id": "7ea5b8e1-a1e9-44e5-bb8f-e61db1758374",
   "metadata": {},
   "source": [
    "* Campo Elías Pardo, PhD, cepardot@unal.edu.co"
   ]
  },
  {
   "cell_type": "markdown",
   "id": "353980c8-c7ef-4d64-8bbe-a77b93873d65",
   "metadata": {},
   "source": [
    "## <span style=\"color:#4361EE\">Asesora Medios y Marketing digital</span>"
   ]
  },
  {
   "cell_type": "markdown",
   "id": "2d86e232-6db1-4015-937b-50d465299cb5",
   "metadata": {},
   "source": [
    "* Maria del Pilar Montenegro, pmontenegro88@gmail.com\n",
    "* Jessica López Mejía, jelopezme@unal.edu.co"
   ]
  },
  {
   "cell_type": "markdown",
   "id": "c4d6612e-cb1d-4a5c-8278-19a8bf8e8890",
   "metadata": {},
   "source": [
    "## <span style=\"color:#4361EE\">¿Qué es?</span>"
   ]
  },
  {
   "cell_type": "markdown",
   "id": "cbd68ce3",
   "metadata": {},
   "source": [
    "Una expresión regular es una secuencia de caracteres que forman un patrón de busqueda. Usando el paquete RegEx, podemos buscar dentro de strings o textos estos mismos patrones.\n",
    "\n",
    "El correcto uso de este paquete es muy importante. Y puede aplicarse para cosas como text mining o pre procesamiento de bases de datos "
   ]
  },
  {
   "cell_type": "markdown",
   "id": "73b9e5a3-7e90-46ec-9982-37a0dd8a2da6",
   "metadata": {},
   "source": [
    "## <span style=\"color:#4361EE\">Algunos preliminares</span>"
   ]
  },
  {
   "cell_type": "markdown",
   "id": "ad7996b4-4977-4a7a-a629-a8e867d2923e",
   "metadata": {},
   "source": [
    "Es necesario hablar de algunos símbolos que nos ayudarán con este paquete."
   ]
  },
  {
   "cell_type": "markdown",
   "id": "2ca07d36-772e-4a19-84fa-c1486992f7eb",
   "metadata": {},
   "source": [
    "### <span style=\"color:#4CC9F0\">Metacaracteres</span>"
   ]
  },
  {
   "cell_type": "markdown",
   "id": "e3647d91",
   "metadata": {},
   "source": [
    "Tenemos algunos caracteres con significado especial:\n",
    "\n",
    "| Caracter    | Uso         |\n",
    "| :---        |     ---:   |\n",
    "| \\.   | Cualquier caracter        |\n",
    "| \\$   | empieza con        |\n",
    "| \\*   | ninguna o más ocurrencias        |\n",
    "| \\+   | Una o más ocurrencias        |\n",
    "| \\{ \\}   | Exactamente el número especificado de caracteres        |\n",
    "|  \\|  | entre las opciones        |\n",
    "|  \\( \\)  | capturar o agrupar        |\n"
   ]
  },
  {
   "cell_type": "markdown",
   "id": "a928baab-4ab8-4976-b4a3-7aaed4c5ead7",
   "metadata": {},
   "source": [
    "### <span style=\"color:#4CC9F0\">Secuencias secuenciales</span>"
   ]
  },
  {
   "cell_type": "markdown",
   "id": "106cbdbb",
   "metadata": {},
   "source": [
    "Algunas letras precedidas con un \\ causan búsquedas distintas:\n",
    "\n",
    "| Caracter      | Uso |\n",
    "| :---        |    ---:   |\n",
    "| \\A      | Busca si los caracteres están al inicio del string      |\n",
    "| \\b   | Busca si los caracteres están al inicio o al final de una palabra (depende donde se ponga)        |\n",
    "| \\B   | Busca si los caracteres están en el string EXCEPTO al inicio o al final de una palabra       |\n",
    "| \\d   | Busca si el string contiene dígitos        |\n",
    "| \\D   | Busca si el string tiene caracteres que NO SEAN dígitos        |\n",
    "| \\s   | Busca si el string contiene espacios        |\n",
    "| \\S   | Busca si el string tiene caracteres que NO SEAN espacios        |\n",
    "| \\w   | Busca si el string contiene caracteres de palabras(letras, dígitos o '_' )        |\n",
    "| \\W   | Busca si el string tiene caracteres que NO SEAN de palabras        |\n",
    "| \\Z   | busca si los caracteeres están el final del string        |"
   ]
  },
  {
   "cell_type": "markdown",
   "id": "9f6b3f6a-4bdd-4eea-9819-76477dcc387f",
   "metadata": {},
   "source": [
    "### <span style=\"color:#4CC9F0\">Conjuntos</span>"
   ]
  },
  {
   "cell_type": "markdown",
   "id": "3db36c8a-b831-4306-8072-01f779848c12",
   "metadata": {},
   "source": [
    "Todo lo definido dentro de dos corchetes \\[ \\] define un conjunto de caracteres con el cual se puede hacer búsqueda:\n",
    "\n",
    "| Caracter      | Uso |\n",
    "| :---        |    ---:   |\n",
    "| \\[arn\\]      | Busca los caracteres  a,r,n      |\n",
    "| \\[a-n\\]   | Busca los caracteres alfabéticos entre a y n        |\n",
    "| \\[^arn\\]   | Busca los caracteres alfabéticos EXCEPTO a,r,n       |\n",
    "| \\[0123\\]   | Busca los caracteres numéricos 0,1,2,3        |\n",
    "| \\[0-9\\]   | Busca los caracteres numéricos entre 0 y 9        |\n",
    "| \\[0-5\\]\\[0-9\\]   | Busca caracteres numéricos de dos digitos desde 00 y 59        |\n",
    "| \\[a-zA-Z\\]   | Busca caracteres alfabéticos, tanto en minúscula como mayúscula        |\n",
    "\n",
    "Los metacaracteres dentro de los corchetes cuentan como caracteres regulares, así que se buscarán estos mismos."
   ]
  },
  {
   "cell_type": "markdown",
   "id": "59e9887c-8473-49d7-aa89-7e46386fd7b4",
   "metadata": {},
   "source": [
    "## <span style=\"color:#4361EE\">El Paquete re</span>"
   ]
  },
  {
   "cell_type": "markdown",
   "id": "0ab229f2",
   "metadata": {},
   "source": [
    "Vamos ahora a trabajar con el paquete re y sus distintas funciones.\n",
    "\n",
    "Importamos el paquete."
   ]
  },
  {
   "cell_type": "code",
   "execution_count": 1,
   "id": "498be8ca",
   "metadata": {
    "id": "2vmkhDvAwzI2"
   },
   "outputs": [],
   "source": [
    "import re"
   ]
  },
  {
   "cell_type": "markdown",
   "id": "d1f2d29f-6500-4566-aebf-716be9b64f29",
   "metadata": {},
   "source": [
    "### <span style=\"color:#4CC9F0\">Función findall()</span>"
   ]
  },
  {
   "cell_type": "markdown",
   "id": "6e4802c1",
   "metadata": {
    "id": "kJKq3Okmxf7V"
   },
   "source": [
    "Esta función nos devolverá una lista con todos las coincidencias encontradas en los textos."
   ]
  },
  {
   "cell_type": "markdown",
   "id": "040a66ba",
   "metadata": {
    "id": "gBh2omqgx0FM"
   },
   "source": [
    "En primer lugar, veamos ejemplos donde hay coincidencias entre el patrón y nuestra cadena de texto."
   ]
  },
  {
   "cell_type": "code",
   "execution_count": 2,
   "id": "9b67f78d",
   "metadata": {
    "colab": {
     "base_uri": "https://localhost:8080/"
    },
    "id": "EQ3WnX7ExXV8",
    "outputId": "1490b465-4eef-44e2-f45a-b0f81ac9e88c"
   },
   "outputs": [
    {
     "name": "stdout",
     "output_type": "stream",
     "text": [
      "['e', 'a', 'c', 'a', 'd', 'e', 'a', 'd', 'e', 'e']\n",
      "Sí, hay coincidencias\n"
     ]
    }
   ],
   "source": [
    "Texto1_f=\"Primera cadena de texto\"\n",
    "x1=re.findall(\"[a-f]\",Texto1_f) #elemento requerido, cadena de texto\n",
    "print(x1)\n",
    "\n",
    "if (x1):\n",
    "  print(\"Sí, hay coincidencias\")\n",
    "else:\n",
    "  print(\"No hay coincidencias\")"
   ]
  },
  {
   "cell_type": "markdown",
   "id": "6ced9291",
   "metadata": {
    "id": "VhQ4l-8VzR9w"
   },
   "source": [
    "En segundo lugar, veamos ejemplos donde no hay coincidencias entre el patrón y nuestra cadena de texto."
   ]
  },
  {
   "cell_type": "code",
   "execution_count": 3,
   "id": "4e586c2b",
   "metadata": {
    "colab": {
     "base_uri": "https://localhost:8080/"
    },
    "id": "Ir5k9v2gy0ag",
    "outputId": "c4df1a93-841f-4929-b78d-df7f47a2be0a"
   },
   "outputs": [
    {
     "name": "stdout",
     "output_type": "stream",
     "text": [
      "No hay coincidencias\n"
     ]
    }
   ],
   "source": [
    "Texto2_f=\"Segunda cadena de texto, veamos\"\n",
    "x2=re.findall(\"té|segunda|do\",Texto2_f)\n",
    "#print(x2)\n",
    "\n",
    "if (x2):\n",
    "  print(\"Sí, hay coincidencias\")\n",
    "else:\n",
    "  print(\"No hay coincidencias\")\n"
   ]
  },
  {
   "cell_type": "markdown",
   "id": "0332eb5a",
   "metadata": {
    "id": "nBoxnVS1_OzV"
   },
   "source": [
    "En esta función, se puede poner más de un patrón del que se espera coincidencia en la cadena de texto."
   ]
  },
  {
   "cell_type": "code",
   "execution_count": 4,
   "id": "db8f1024",
   "metadata": {
    "colab": {
     "base_uri": "https://localhost:8080/"
    },
    "id": "bwfqo_tY1aWQ",
    "outputId": "a0fc67ed-d4e8-44e2-e6e7-fe90cbc9955c"
   },
   "outputs": [
    {
     "name": "stdout",
     "output_type": "stream",
     "text": [
      "['T', 'texto,']\n"
     ]
    }
   ],
   "source": [
    "Texto3_f=\"Tercera cadena de texto, veamos\"\n",
    "x3=re.findall(\"o$|^T|te...,\",Texto3_f)\n",
    "print(x3)"
   ]
  },
  {
   "cell_type": "markdown",
   "id": "c2cff028-70cc-4df0-93ad-fe8ad69c0d8b",
   "metadata": {},
   "source": [
    "### <span style=\"color:#4CC9F0\">Función search()</span>"
   ]
  },
  {
   "cell_type": "markdown",
   "id": "7d6fa781",
   "metadata": {
    "id": "cH5sC2_I3Z4U"
   },
   "source": [
    "Esta función busca en la cadena una coincidencia y devuelve un *Match object* si existe.\n",
    "\n",
    " Si hay más de una coincidencia, solo se devolverá la primera coincidencia."
   ]
  },
  {
   "cell_type": "code",
   "execution_count": 5,
   "id": "f8dd22b7",
   "metadata": {
    "colab": {
     "base_uri": "https://localhost:8080/"
    },
    "id": "GT2UURuF26hD",
    "outputId": "bcf621c8-3237-4856-babd-57eddbe9925b"
   },
   "outputs": [
    {
     "name": "stdout",
     "output_type": "stream",
     "text": [
      "<re.Match object; span=(6, 7), match='e'>\n",
      "Posicion del primer e que no está al inicio ni fin:  6\n"
     ]
    }
   ],
   "source": [
    "Texto1_s=\"eABC defgh IJK éí ae\"\n",
    "x1 = re.search(r\"\\Be\", Texto1_s)\n",
    "print(x1)\n",
    "print(\"Posicion del primer e que no está al inicio ni fin: \", x1.start()) "
   ]
  },
  {
   "cell_type": "code",
   "execution_count": 6,
   "id": "73a93870",
   "metadata": {
    "colab": {
     "base_uri": "https://localhost:8080/"
    },
    "id": "f3-mKETZ79XH",
    "outputId": "6a1f2636-c62b-4c55-e619-eba883d4ab6b"
   },
   "outputs": [
    {
     "name": "stdout",
     "output_type": "stream",
     "text": [
      "<re.Match object; span=(3, 4), match=' '>\n",
      "Posición de primera cadena que no contiene digítos:  3\n"
     ]
    }
   ],
   "source": [
    "Texto2_s=\"123 ABC45 abc xyz\"\n",
    "x2 = re.search(\"\\D\", Texto2_s)\n",
    "print(x2)\n",
    "print(\"Posición de primera cadena que no contiene digítos: \", x2.start()) "
   ]
  },
  {
   "cell_type": "markdown",
   "id": "88f9b00b",
   "metadata": {
    "id": "iqR89DfC-rFG"
   },
   "source": [
    "Igualmente que en los ejemplos de la función `findall()`, se puede poner más de un patrón del que se espera coincidencia en la cadena de texto."
   ]
  },
  {
   "cell_type": "code",
   "execution_count": 7,
   "id": "b9867673",
   "metadata": {
    "colab": {
     "base_uri": "https://localhost:8080/"
    },
    "id": "t5-mUHmr8r38",
    "outputId": "32dc0772-d772-4041-f3a7-7b22a112d052"
   },
   "outputs": [
    {
     "name": "stdout",
     "output_type": "stream",
     "text": [
      "Posición primera en que hay un espacio en blanco o hay digítos:  0\n"
     ]
    }
   ],
   "source": [
    "Texto3_s=\"123 ABC45 abc xyz\"\n",
    "x3 = re.search(\"\\d|\\s\", Texto3_s)\n",
    "print(\"Posición primera en que hay un espacio en blanco o hay digítos: \", x3.start()) "
   ]
  },
  {
   "cell_type": "markdown",
   "id": "8bfe4e34-0e61-43ff-9685-1ab236451c2d",
   "metadata": {},
   "source": [
    "### <span style=\"color:#4CC9F0\">Función split()</span>"
   ]
  },
  {
   "cell_type": "markdown",
   "id": "d5a053b4",
   "metadata": {},
   "source": [
    "Esta función busca el caracter y genera un corte de la cadena en las posiciones en donde se encuentra el caracter. "
   ]
  },
  {
   "cell_type": "code",
   "execution_count": 8,
   "id": "419da011",
   "metadata": {},
   "outputs": [
    {
     "name": "stdout",
     "output_type": "stream",
     "text": [
      "['', '', '', '', '', '', '', '', '', '', '', '', '', '', '', '', '', '', '', '', '', '', '', '', '', '', '', '']\n"
     ]
    }
   ],
   "source": [
    "Texto1_sp=\"El bueno. El malo. Y el feo\"\n",
    "x1=re.split(\".\", Texto1_sp)\n",
    "print(x1)"
   ]
  },
  {
   "cell_type": "markdown",
   "id": "dbcd8f83",
   "metadata": {},
   "source": [
    "¿Por qué sucede esto? \n",
    "\n",
    "Porque `.` es un metacaracter. Para que se cuente como un caracter normal, se puede usar `[.]` ó `\\.`"
   ]
  },
  {
   "cell_type": "code",
   "execution_count": 9,
   "id": "880efb24",
   "metadata": {},
   "outputs": [
    {
     "name": "stdout",
     "output_type": "stream",
     "text": [
      "['El bueno', ' El malo', ' Y el feo']\n"
     ]
    }
   ],
   "source": [
    "x1=re.split(\"\\.\", Texto1_sp)\n",
    "print(x1)"
   ]
  },
  {
   "cell_type": "markdown",
   "id": "138e12fc",
   "metadata": {},
   "source": [
    "El caracter que se busca va a desaparecer durante el corte."
   ]
  },
  {
   "cell_type": "code",
   "execution_count": 11,
   "id": "174e1e2b",
   "metadata": {},
   "outputs": [
    {
     "name": "stdout",
     "output_type": "stream",
     "text": [
      "['El bu', 'no. El malo. Y ', 'l f', 'o']\n"
     ]
    }
   ],
   "source": [
    "x2=re.split('e', Texto1_sp)\n",
    "print(x2)"
   ]
  },
  {
   "cell_type": "markdown",
   "id": "9b7e5b54",
   "metadata": {},
   "source": [
    "Se puede indicar el número máximo de separaciones."
   ]
  },
  {
   "cell_type": "code",
   "execution_count": 12,
   "id": "605c5de2",
   "metadata": {},
   "outputs": [
    {
     "name": "stdout",
     "output_type": "stream",
     "text": [
      "['Sólo quiero cortar aquí', ' El resto no. Por favor no cortes más']\n"
     ]
    }
   ],
   "source": [
    "Texto2_sp='Sólo quiero cortar aquí. El resto no. Por favor no cortes más'\n",
    "x3=re.split('\\.', Texto2_sp, 1)\n",
    "print(x3)"
   ]
  },
  {
   "cell_type": "markdown",
   "id": "fd3489a1-51c9-4ba0-9838-d44b7081c1d7",
   "metadata": {},
   "source": [
    "### <span style=\"color:#4CC9F0\">Función sub()</span>"
   ]
  },
  {
   "cell_type": "markdown",
   "id": "389faa20",
   "metadata": {},
   "source": [
    "Con esta función podemos buscar un caracter en la cadena, y reemplazarlo con otro de nuestra elección."
   ]
  },
  {
   "cell_type": "code",
   "execution_count": 13,
   "id": "aacdea24",
   "metadata": {},
   "outputs": [
    {
     "name": "stdout",
     "output_type": "stream",
     "text": [
      "vAmos A hAcer unos pequeños cAmbios.\n"
     ]
    }
   ],
   "source": [
    "Texto_1_sub='vamos a hacer unos pequeños cambios.'\n",
    "x1=re.sub('[a]', 'A', Texto_1_sub)\n",
    "print(x1)"
   ]
  },
  {
   "cell_type": "markdown",
   "id": "b3c02685",
   "metadata": {},
   "source": [
    "Podemos usar las secuencias especiales para hacer restricciones a lo que reemplaza"
   ]
  },
  {
   "cell_type": "code",
   "execution_count": 14,
   "id": "7c3e6f8a",
   "metadata": {},
   "outputs": [
    {
     "name": "stdout",
     "output_type": "stream",
     "text": [
      "Vamos V Vacer Vnos Vequeños Vambios.\n"
     ]
    }
   ],
   "source": [
    "x2=re.sub(r'\\b[a-z]', 'V', Texto_1_sub)\n",
    "print(x2)"
   ]
  },
  {
   "cell_type": "markdown",
   "id": "3c8bc714",
   "metadata": {},
   "source": [
    "Igual que con `split()`, podemos reducir el número de veces en las que generamos el reemplazo."
   ]
  },
  {
   "cell_type": "code",
   "execution_count": 15,
   "id": "f3664e54",
   "metadata": {},
   "outputs": [
    {
     "name": "stdout",
     "output_type": "stream",
     "text": [
      "vamos V Vacer Vnos Vequeños Vambios.\n"
     ]
    }
   ],
   "source": [
    "x3=re.sub(r'\\bV', 'v', x2,1)\n",
    "print(x3)"
   ]
  },
  {
   "cell_type": "markdown",
   "id": "afe56938-d0d5-4c71-a344-8bf86d586622",
   "metadata": {},
   "source": [
    "### <span style=\"color:#4CC9F0\">Flags</span>"
   ]
  },
  {
   "cell_type": "markdown",
   "id": "456f777b",
   "metadata": {},
   "source": [
    "Python nos permite agregar aún más especificaciones a las anteriores funciones por medio del uso de \"flags\"."
   ]
  },
  {
   "cell_type": "code",
   "execution_count": 17,
   "id": "255e9df9",
   "metadata": {},
   "outputs": [
    {
     "name": "stdout",
     "output_type": "stream",
     "text": [
      "El Prof. Enoch Bowen regresa de Egipto, mayo l844. Compra vieja iglesia\n",
      "Federal Hill en julio. Muy conocido por sus trabajos arqueológicos y estudios\n",
      "esotéricos.\n",
      "El Dr. Drowe, anabaptista, exhorta contra la «Sabiduría de las Estrellas» en el\n",
      "sermón del 29 de diciembre de 1844.\n",
      "97 fieles a finales de 1845.\n",
      "1846: 3 desapariciones;. primera mención del Trapezoedro Resplandeciente.\n",
      "7 desapariciones en 1848. Comienzo de rumores sobre sacrificios de sangre.\n",
      "La investigación de 1853 no conduce a nada; sólo ruidos sospechosos.\n",
      "El padre O'Malley habla del culto al demonio mediante caja hallada en las\n",
      "ruinas egipcias. Afirma invocan algo que no puede soportar la luz. Rehuye la luz\n",
      "suave y desaparece ante una luz fuerte. En este caso tiene que ser invocado otra vez.\n",
      "Probablemente lo sabe por la confesión de Francis X. Feeney en su lecho de muerte,\n",
      "que ingresó en la «Sabiduría de las Estrellas» en 1849. Esta gente afirma que el\n",
      "Trapezoedro Resplandeciente les muestra el cielo y los demás mundos, y que el\n",
      "Morador de las Tinieblas les revela ciertos secretos.\n",
      "Relato de Orrin B. Eddy; 1857: Invocan mirando al cristal y tienen un lenguaje\n",
      "secreto particular.\n",
      "Reun. de 200 ó más en 1863; sin contar a los que han marchado al frente.\n",
      "Muchachos irlandeses atacan la iglesia en 1869, después de la desaparición de\n",
      "Patrick Regan.\n",
      "\n"
     ]
    }
   ],
   "source": [
    "love=open(\"Lovecraft.txt\",\"r\",encoding=\"utf-8\")\n",
    "morador=love.read()\n",
    "print(morador)"
   ]
  },
  {
   "cell_type": "markdown",
   "id": "26290e13",
   "metadata": {},
   "source": [
    "Ejecutando la siguiente búsqueda no se encuentran coincidencias ¿Por qué?"
   ]
  },
  {
   "cell_type": "code",
   "execution_count": 18,
   "id": "d7542e43",
   "metadata": {},
   "outputs": [
    {
     "name": "stdout",
     "output_type": "stream",
     "text": [
      "None\n"
     ]
    }
   ],
   "source": [
    "print(re.search(r'^La investigación de 1853',morador))"
   ]
  },
  {
   "cell_type": "markdown",
   "id": "87e4c5d9",
   "metadata": {},
   "source": [
    "Usando `flags=re.M` podemos pedirle a Python que haga la búsqueda de coincidencias en modo multilinea."
   ]
  },
  {
   "cell_type": "code",
   "execution_count": 19,
   "id": "dbac8b3d",
   "metadata": {},
   "outputs": [
    {
     "name": "stdout",
     "output_type": "stream",
     "text": [
      "<re.Match object; span=(456, 480), match='La investigación de 1853'>\n"
     ]
    }
   ],
   "source": [
    "print(re.search(r'^La investigación de 1853',morador,flags=re.M))"
   ]
  },
  {
   "cell_type": "markdown",
   "id": "9105fec1",
   "metadata": {},
   "source": [
    "También podemos hacer búsquedas sin discriminar entre mayúsculas y minúsculas."
   ]
  },
  {
   "cell_type": "code",
   "execution_count": 20,
   "id": "e53cadd6",
   "metadata": {},
   "outputs": [
    {
     "name": "stdout",
     "output_type": "stream",
     "text": [
      "[]\n",
      "['Egipto']\n"
     ]
    }
   ],
   "source": [
    "print(re.findall(r'egipto',morador))\n",
    "\n",
    "print(re.findall(r'egipto',morador,flags=re.I+re.M))"
   ]
  }
 ],
 "metadata": {
  "kernelspec": {
   "display_name": "Python 3 (ipykernel)",
   "language": "python",
   "name": "python3"
  },
  "language_info": {
   "codemirror_mode": {
    "name": "ipython",
    "version": 3
   },
   "file_extension": ".py",
   "mimetype": "text/x-python",
   "name": "python",
   "nbconvert_exporter": "python",
   "pygments_lexer": "ipython3",
   "version": "3.9.13"
  }
 },
 "nbformat": 4,
 "nbformat_minor": 5
}
