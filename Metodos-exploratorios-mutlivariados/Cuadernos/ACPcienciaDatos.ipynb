{
 "cells": [
  {
   "cell_type": "markdown",
   "metadata": {},
   "source": [
    "# <span style=\"color:green\"><center>Diplomado en Ciencia de Datos</center></span>"
   ]
  },
  {
   "cell_type": "markdown",
   "metadata": {},
   "source": [
    "# <span style=\"color:red\"><center>Análisis en componentes principales</center></span>"
   ]
  },
  {
   "cell_type": "markdown",
   "metadata": {
    "id": "z9oBWmjodpyc"
   },
   "source": [
    "# **<font size=5 color=#0000FF>Profesores**"
   ]
  },
  {
   "cell_type": "markdown",
   "metadata": {
    "id": "ms1l2HJYeCh7"
   },
   "source": [
    "1. Campo Elías Pardo Turriago, cepardot@unal.edu.co \n",
    "2. Alvaro Mauricio Montenegro Díaz,ammontenegrod@unal.edu.co \n",
    "3. Daniel Mauricio Montenegro Reyes, dextronomo@gmail.com\n",
    "4. Oleg Jarma, ojarmam@unal.edu.co\n",
    "\n",
    "\n",
    "\n",
    "\n"
   ]
  },
  {
   "cell_type": "markdown",
   "metadata": {
    "id": "TApWfcZxemhD"
   },
   "source": [
    "# **<font size=5 color=#0000FF>Asesora Medios y Marketing Digital**"
   ]
  },
  {
   "cell_type": "markdown",
   "metadata": {
    "id": "43gtv0Abextl"
   },
   "source": [
    "1. Maria del Pilar Montenegro, pmontenegro88@gmail.com"
   ]
  },
  {
   "cell_type": "markdown",
   "metadata": {},
   "source": [
    "## <span style=\"color:blue\">Asistentes</span>"
   ]
  },
  {
   "cell_type": "markdown",
   "metadata": {},
   "source": [
    "1. Jessica López Mejia, jelopezme@unal.edu.co"
   ]
  },
  {
   "cell_type": "markdown",
   "metadata": {
    "id": "L7dnhZUdeyR7"
   },
   "source": [
    "## **Contenido**"
   ]
  },
  {
   "cell_type": "markdown",
   "metadata": {
    "id": "ok00ZM5AgXw6"
   },
   "source": [
    "* [Introducción](#Introducción)\n",
    "* [Geometría de una variable](#Geometría-de-una-variable)\n",
    "* [Geometría de dos variables](#Geometría-de-dos-variables)\n",
    "* [Nube de variables](#)\n",
    "* [Dualidad entre representaciones](#)\n",
    "* [ACP generalizado](#)\n",
    "\n",
    "Fuente: Pardo C. E. (2020). Estadística descriptiva multivariada. Universidad Nacional de Colombia Sede Bogotá. Facultad de Ciencias. [PDF](https://bit.ly/3mD9rEY)"
   ]
  },
  {
   "cell_type": "markdown",
   "metadata": {
    "id": "liXrxkeGMutK"
   },
   "source": [
    "# **Introducción**"
   ]
  },
  {
   "cell_type": "markdown",
   "metadata": {
    "id": "HERsa4ZLudhx"
   },
   "source": [
    "El análisis en componentes principales (ACP) es muy conocido en la Ciencia de Datos como una técnica de reducción de dimensión, pero es mucho más que eso. Si se aborda desde un punto de vista geométrico, es una técnica poderosa para la visualización de datos.  Hacemos uso del R en primera instancia para entender los métodos y luego para llevarlos a cabo en la práctica. En este cuaderno introducimos el ACP como se conoce en la mayoría de los ámbitos y que podemos llamar ACP canónico. \n",
    "\n",
    "Antes de abordar el ACP repasemos algunos aspectos de representación geométrica de $n$ puntos en la recta real ($\\Re$) y de $n$ puntos en el plano ($\\Re^2$), utilizando dos ejemplos sencillos. Las demás secciones presentan el ACP con un \"ejemplo de juguete\" en $\\Re^3$ y ejemplo de aplicación pequeño.\n",
    "\n",
    "Para ver con mayor detalle se puede consultar el libro *Estadística descriptiva multivariada*, disponible en [PDF](https://bit.ly/3mD9rEY) en la página Web de la Facultad de Ciencias, Universidad Nacional de Colombia Sede Bogotá, dónde además, se encuentran unas cuantas referencias para profundizar en el método. "
   ]
  },
  {
   "cell_type": "markdown",
   "metadata": {},
   "source": [
    "[Volver al inicio](#Contenido)"
   ]
  },
  {
   "cell_type": "markdown",
   "metadata": {},
   "source": [
    "## **Geometría de una variable**\n",
    "\n",
    "Se tiene la variable $Y$, con los valores:"
   ]
  },
  {
   "cell_type": "code",
   "execution_count": 1,
   "metadata": {},
   "outputs": [
    {
     "name": "stdout",
     "output_type": "stream",
     "text": [
      "Y = [ 9 7 8 3 1 3 4 7 2 6 ]"
     ]
    }
   ],
   "source": [
    "Y <- c(9,7,8,3,1,3,4,7,2,6)\n",
    "cat(\"Y = [\",Y,\"]\")"
   ]
  },
  {
   "cell_type": "markdown",
   "metadata": {},
   "source": [
    "La media de $Y$ es el centro de gravedad de los 10 puntos, si se consideran, por ejemplo como esferas sobre una barra de peso despreciable:\n",
    "$$\n",
    "g = \\sum_{i=1}^{10} p_i y_i \\  \\ \\ con \\ \\ \\sum_{i=1}^{10} p_i =1\n",
    "$$\n",
    "El caso particular de $p_i = \\dfrac{1}{n}$ para todo $i$, el que calcula R con la función\n",
    "*mean{base}*\n",
    "$$\n",
    "\\bar{Y} = \\frac{1}{n} \\sum_{i=1}^{10} p_i y_i\n",
    "$$\n",
    "Llamaremos $g$ a la media de $Y$:"
   ]
  },
  {
   "cell_type": "code",
   "execution_count": 2,
   "metadata": {},
   "outputs": [
    {
     "name": "stdout",
     "output_type": "stream",
     "text": [
      "media de Y = g =  5"
     ]
    }
   ],
   "source": [
    "g=mean(Y) \n",
    "cat(\"media de Y = g = \",g)"
   ]
  },
  {
   "cell_type": "markdown",
   "metadata": {},
   "source": [
    "Sea $X = Y-g$:"
   ]
  },
  {
   "cell_type": "code",
   "execution_count": 3,
   "metadata": {},
   "outputs": [
    {
     "name": "stdout",
     "output_type": "stream",
     "text": [
      "X = [ 4 2 3 -2 -4 -2 -1 2 -3 1 ]"
     ]
    }
   ],
   "source": [
    "X = Y-g\n",
    "cat(\"X = [\",X,\"]\")"
   ]
  },
  {
   "cell_type": "markdown",
   "metadata": {},
   "source": [
    "Representación de $Y$ y $X$ en la recta real:"
   ]
  },
  {
   "cell_type": "markdown",
   "metadata": {},
   "source": [
    "<figure> \n",
    "<img src=\"../imagenes/geometriaY.png\"  width=\"480\" height=\"480\" align=\"left\"/> \n",
    "</figure>"
   ]
  },
  {
   "cell_type": "markdown",
   "metadata": {},
   "source": [
    "Nótese que al restar la media ($Y-g$) el cero se ha trasladado a la media (cinco). Las tranlaciones no modifican la varianza entonces $Y$ y $X$ tienen igual varianza, pero como $X$ está centrada, entonces en el cálculo de la varianza se suman los cuadrados de $X$, la varianza es entonces el momento de de inercia de los puntos con respecto al centro de gravedad.\n",
    "\n",
    "Sea $V$, la varianza de $Y$ (igual a la de $X$), entonces $V =\\dfrac{1}{10} \\sum_\\limits{i=1}^{10} x_i^2$\n",
    "\n",
    "Por otro lado, el momento de inercia es:\n",
    "$$\n",
    "V = \\sum_{i=1}^{10} p_i d^2(y_i,g) = \\sum_{i=1}^{10} p_i d^2(x_i,0) = \\frac{1}{10} \\sum_{i=1}^{10}  x_i^2\n",
    "$$\n",
    "En Estadística le decimos *Inercia* al momento de inercia respecto al centro de gravedad, de la física. Cuando nos referimos a una sola variable le decimos *varianza*."
   ]
  },
  {
   "cell_type": "code",
   "execution_count": 4,
   "metadata": {},
   "outputs": [
    {
     "name": "stdout",
     "output_type": "stream",
     "text": [
      "Varianza de X =  6.8"
     ]
    }
   ],
   "source": [
    "V=1/10*sum(X*X)\n",
    "cat(\"Varianza de X = \",V)"
   ]
  },
  {
   "cell_type": "markdown",
   "metadata": {},
   "source": [
    "La función *var{stats}* de R calcula la varianza muestral (divide por $n-1$ = 9) entonces se debe multiplivar por $\\dfrac{n-1}{n}$, en este ejemplo por $9/10)$"
   ]
  },
  {
   "cell_type": "code",
   "execution_count": 5,
   "metadata": {},
   "outputs": [
    {
     "data": {
      "text/html": [
       "6.8"
      ],
      "text/latex": [
       "6.8"
      ],
      "text/markdown": [
       "6.8"
      ],
      "text/plain": [
       "[1] 6.8"
      ]
     },
     "metadata": {},
     "output_type": "display_data"
    }
   ],
   "source": [
    "9/10*var(Y)"
   ]
  },
  {
   "cell_type": "markdown",
   "metadata": {},
   "source": [
    "[Volver al inicio](#Contenido)"
   ]
  },
  {
   "cell_type": "markdown",
   "metadata": {},
   "source": [
    "## **Geometría de dos variables**\n",
    "\n",
    "Sea la variable $Y_1 = Y$ y $Y_2$ con los valores:\n"
   ]
  },
  {
   "cell_type": "code",
   "execution_count": 6,
   "metadata": {},
   "outputs": [
    {
     "name": "stdout",
     "output_type": "stream",
     "text": [
      "Y2 = [ 9 13 6 1 5 11 4 3 8 10 ]"
     ]
    }
   ],
   "source": [
    "Y1=Y\n",
    "Y2=c(9,13,6,1,5,11,4,3,8,10)\n",
    "cat(\"Y2 = [\",Y2,\"]\")"
   ]
  },
  {
   "cell_type": "markdown",
   "metadata": {},
   "source": [
    "Ahora llamamos **Y** la tabla de datos (matriz) de $10$ filas y $2$ columnas, por comodidad se muestra transpuesta:"
   ]
  },
  {
   "cell_type": "code",
   "execution_count": 7,
   "metadata": {},
   "outputs": [
    {
     "data": {
      "text/html": [
       "<table class=\"dataframe\">\n",
       "<caption>A matrix: 2 × 10 of type dbl</caption>\n",
       "<thead>\n",
       "\t<tr><th></th><th scope=col>1</th><th scope=col>2</th><th scope=col>3</th><th scope=col>4</th><th scope=col>5</th><th scope=col>6</th><th scope=col>7</th><th scope=col>8</th><th scope=col>9</th><th scope=col>10</th></tr>\n",
       "</thead>\n",
       "<tbody>\n",
       "\t<tr><th scope=row>Y1</th><td>9</td><td> 7</td><td>8</td><td>3</td><td>1</td><td> 3</td><td>4</td><td>7</td><td>2</td><td> 6</td></tr>\n",
       "\t<tr><th scope=row>Y2</th><td>9</td><td>13</td><td>6</td><td>1</td><td>5</td><td>11</td><td>4</td><td>3</td><td>8</td><td>10</td></tr>\n",
       "</tbody>\n",
       "</table>\n"
      ],
      "text/latex": [
       "A matrix: 2 × 10 of type dbl\n",
       "\\begin{tabular}{r|llllllllll}\n",
       "  & 1 & 2 & 3 & 4 & 5 & 6 & 7 & 8 & 9 & 10\\\\\n",
       "\\hline\n",
       "\tY1 & 9 &  7 & 8 & 3 & 1 &  3 & 4 & 7 & 2 &  6\\\\\n",
       "\tY2 & 9 & 13 & 6 & 1 & 5 & 11 & 4 & 3 & 8 & 10\\\\\n",
       "\\end{tabular}\n"
      ],
      "text/markdown": [
       "\n",
       "A matrix: 2 × 10 of type dbl\n",
       "\n",
       "| <!--/--> | 1 | 2 | 3 | 4 | 5 | 6 | 7 | 8 | 9 | 10 |\n",
       "|---|---|---|---|---|---|---|---|---|---|---|\n",
       "| Y1 | 9 |  7 | 8 | 3 | 1 |  3 | 4 | 7 | 2 |  6 |\n",
       "| Y2 | 9 | 13 | 6 | 1 | 5 | 11 | 4 | 3 | 8 | 10 |\n",
       "\n"
      ],
      "text/plain": [
       "   1 2  3 4 5 6  7 8 9 10\n",
       "Y1 9  7 8 3 1  3 4 7 2  6\n",
       "Y2 9 13 6 1 5 11 4 3 8 10"
      ]
     },
     "metadata": {},
     "output_type": "display_data"
    }
   ],
   "source": [
    "Y = cbind(Y1,Y2)\n",
    "rownames(Y)=1:10\n",
    "t(Y)"
   ]
  },
  {
   "cell_type": "markdown",
   "metadata": {},
   "source": [
    "Cada columna de $\\mathbf{Y}^T$ es un vector en $\\Re^2$, que notaremos por $\\mathbf{y}_i \\ \\ i =1,2,\\cdots,10$ y el centro de gravedad es el vector formado por las dos medias:\n",
    "$$\n",
    "\\mathbf{g} = \\frac{1}{n}\\sum_{i=1}^{10}  \\mathbf{y}_i\n",
    "$$"
   ]
  },
  {
   "cell_type": "code",
   "execution_count": 8,
   "metadata": {},
   "outputs": [
    {
     "name": "stdout",
     "output_type": "stream",
     "text": [
      "Centro de gravedad = g =  5 7"
     ]
    }
   ],
   "source": [
    "g=colMeans(Y)\n",
    "cat(\"Centro de gravedad = g = \",g)"
   ]
  },
  {
   "cell_type": "markdown",
   "metadata": {},
   "source": [
    "Representación de los puntos en el plano, junto con su centro de gravedad:"
   ]
  },
  {
   "cell_type": "code",
   "execution_count": 9,
   "metadata": {},
   "outputs": [
    {
     "data": {
      "image/png": "[encoded data removed]",
      "text/plain": [
       "plot without title"
      ]
     },
     "metadata": {
      "image/png": {
       "height": 420,
       "width": 420
      }
     },
     "output_type": "display_data"
    }
   ],
   "source": [
    "plot(Y,las=1,asp=1,xlim=c(0,10),ylim=c(0,13))\n",
    "text(Y,labels=rownames(Y),pos=2)\n",
    "text(g[1],g[2],col=\"blue\",labels=\"g\")\n",
    "abline(v=-2:12,h=0:15,col=\"gray80\")\n",
    "abline(v=0,h=0,col=\"blue\")\n",
    "abline(v=5,h=7,col=\"green\")\n"
   ]
  },
  {
   "cell_type": "markdown",
   "metadata": {},
   "source": [
    "Ahora centramos los puntos (poner el cero en el centro de gravedad):\n",
    "$$\n",
    "\\mathbf{x}_i = \\mathbf{y}_i - \\mathbf{g}\n",
    "$$\n",
    "\n",
    "Diagrama de dispersión transladando el origen al centro de gravedad (centrado)"
   ]
  },
  {
   "cell_type": "code",
   "execution_count": 10,
   "metadata": {},
   "outputs": [
    {
     "data": {
      "text/html": [
       "<table class=\"dataframe\">\n",
       "<caption>A matrix: 2 × 10 of type dbl</caption>\n",
       "<thead>\n",
       "\t<tr><th></th><th scope=col>1</th><th scope=col>2</th><th scope=col>3</th><th scope=col>4</th><th scope=col>5</th><th scope=col>6</th><th scope=col>7</th><th scope=col>8</th><th scope=col>9</th><th scope=col>10</th></tr>\n",
       "</thead>\n",
       "<tbody>\n",
       "\t<tr><th scope=row>X1</th><td>4</td><td>2</td><td> 3</td><td>-2</td><td>-4</td><td>-2</td><td>-1</td><td> 2</td><td>-3</td><td>1</td></tr>\n",
       "\t<tr><th scope=row>X2</th><td>2</td><td>6</td><td>-1</td><td>-6</td><td>-2</td><td> 4</td><td>-3</td><td>-4</td><td> 1</td><td>3</td></tr>\n",
       "</tbody>\n",
       "</table>\n"
      ],
      "text/latex": [
       "A matrix: 2 × 10 of type dbl\n",
       "\\begin{tabular}{r|llllllllll}\n",
       "  & 1 & 2 & 3 & 4 & 5 & 6 & 7 & 8 & 9 & 10\\\\\n",
       "\\hline\n",
       "\tX1 & 4 & 2 &  3 & -2 & -4 & -2 & -1 &  2 & -3 & 1\\\\\n",
       "\tX2 & 2 & 6 & -1 & -6 & -2 &  4 & -3 & -4 &  1 & 3\\\\\n",
       "\\end{tabular}\n"
      ],
      "text/markdown": [
       "\n",
       "A matrix: 2 × 10 of type dbl\n",
       "\n",
       "| <!--/--> | 1 | 2 | 3 | 4 | 5 | 6 | 7 | 8 | 9 | 10 |\n",
       "|---|---|---|---|---|---|---|---|---|---|---|\n",
       "| X1 | 4 | 2 |  3 | -2 | -4 | -2 | -1 |  2 | -3 | 1 |\n",
       "| X2 | 2 | 6 | -1 | -6 | -2 |  4 | -3 | -4 |  1 | 3 |\n",
       "\n"
      ],
      "text/plain": [
       "   1 2 3  4  5  6  7  8  9  10\n",
       "X1 4 2  3 -2 -4 -2 -1  2 -3 1 \n",
       "X2 2 6 -1 -6 -2  4 -3 -4  1 3 "
      ]
     },
     "metadata": {},
     "output_type": "display_data"
    },
    {
     "name": "stdout",
     "output_type": "stream",
     "text": [
      "Suma =  0 0"
     ]
    }
   ],
   "source": [
    "X = matrix(NA,10,2)\n",
    "for (i in 1:10) X[i,] = Y[i,] - g\n",
    "colnames(X) = paste(\"X\",1:2,sep=\"\")\n",
    "rownames(X) = 1:10\n",
    "t(X)\n",
    "# suma 0 porque están centrados\n",
    "cat(\"Suma = \",colSums(X))\n"
   ]
  },
  {
   "cell_type": "markdown",
   "metadata": {},
   "source": [
    "Plano de los puntos centrados:"
   ]
  },
  {
   "cell_type": "code",
   "execution_count": 11,
   "metadata": {},
   "outputs": [
    {
     "data": {
      "image/png": "[encoded data removed]",
      "text/plain": [
       "plot without title"
      ]
     },
     "metadata": {
      "image/png": {
       "height": 420,
       "width": 420
      }
     },
     "output_type": "display_data"
    }
   ],
   "source": [
    "plot(X,las=1,asp=1)\n",
    "text(X,labels=rownames(X),pos=2)\n",
    "abline(v=-6:6,h=-6:6,col=\"gray80\")\n",
    "abline(v=0,h=0,col=\"green\")\n",
    "text(0,0,\"0\",col=\"green\")\n"
   ]
  },
  {
   "cell_type": "markdown",
   "metadata": {},
   "source": [
    "Ahora busquemos el eje en la dirección más alargada de la nube de puntos. A ojo se ve que es la linea que pasa por el origen y es de pendiente 3 y dibujemos también la que pasa por el origen y es de pendiente -1/3:"
   ]
  },
  {
   "cell_type": "code",
   "execution_count": 12,
   "metadata": {},
   "outputs": [
    {
     "data": {
      "image/png": "[encoded data removed]",
      "text/plain": [
       "plot without title"
      ]
     },
     "metadata": {
      "image/png": {
       "height": 420,
       "width": 420
      }
     },
     "output_type": "display_data"
    }
   ],
   "source": [
    "plot(X,las=1,asp=1)\n",
    "text(X,labels=rownames(X),pos=2)\n",
    "abline(v=-6:6,h=-6:6,col=\"gray80\")\n",
    "abline(v=0,h=0,col=\"green\")\n",
    "text(0,0,\"0\",col=\"green\")\n",
    "# en la dirección más alargada\n",
    "abline(0,3,col=\"orange\")\n",
    "# eje perpendicular\n",
    "abline(0,-1/3,col=\"orange\")"
   ]
  },
  {
   "cell_type": "markdown",
   "metadata": {},
   "source": [
    "Tomemos como vector director el punto 10 de coordenadas $[1 \\ 3]^T$, calculemos su norma y obtengamos $\\mathbf{u}_1$, de norma 1:"
   ]
  },
  {
   "cell_type": "code",
   "execution_count": 13,
   "metadata": {},
   "outputs": [
    {
     "name": "stdout",
     "output_type": "stream",
     "text": [
      "\n",
      "Norma de t =  3.16\n",
      "u1 =  0.32 0.95\n",
      "u2 =  -0.95 0.32"
     ]
    }
   ],
   "source": [
    "t = c(1,3)\n",
    "nor.t=sqrt(sum(t*t))\n",
    "cat(\"\\nNorma de t = \",round(nor.t,2))\n",
    "u1 = t/nor.t\n",
    "cat(\"\\nu1 = \",round(u1,2))\n",
    "u2 = c(-u1[2],u1[1])\n",
    "cat(\"\\nu2 = \",round(u2,2))       "
   ]
  },
  {
   "cell_type": "markdown",
   "metadata": {},
   "source": [
    "La recta generado por $\\mathbf{u}_1$, la llamamos $F_1$ y  la generada por $\\mathbf{u}_2$, $F_2$.\n",
    "Ahora tenemos que encontrar las proyecciones de los 10 puntos sobre los ejes $F_1$ y $F_2$. Si hacemos la gráfica en papel cuadriculado podemos medir las proyecciones con una regla. Sin embargo podemos hacerlo con observación geométrica:\n",
    "\n",
    "- El punto 10 está sobre $F_1$ y tiene norma 3.16 (redondeada a dos decimales) $\\rightarrow$ la coordena de 10 sobre $F_1$ es 3.16. \n",
    "- Los puntos 1 y 6 tienen la misma coordenada de 10. \n",
    "- El punto 7 es de la misma longitud de 10, pero tiene sentido opuesto, entonces su coordenada es -3.16, igual que la de los puntos 5 y 8, \n",
    "- los puntos 3 y 6 se proyectan en 0, los puntos 2 y 4 tienen 2 veces la longitud de 10 y 7; \n",
    "\n",
    "Entonces las proyecciones sobre $F_1$ son:\n"
   ]
  },
  {
   "cell_type": "code",
   "execution_count": 14,
   "metadata": {},
   "outputs": [
    {
     "data": {
      "text/html": [
       "0"
      ],
      "text/latex": [
       "0"
      ],
      "text/markdown": [
       "0"
      ],
      "text/plain": [
       "[1] 0"
      ]
     },
     "metadata": {},
     "output_type": "display_data"
    },
    {
     "data": {
      "text/html": [
       "0"
      ],
      "text/latex": [
       "0"
      ],
      "text/markdown": [
       "0"
      ],
      "text/plain": [
       "[1] 0"
      ]
     },
     "metadata": {},
     "output_type": "display_data"
    }
   ],
   "source": [
    "F1 =c(3.16,6.32,0,-6.32,-3.16,3.16,-3.16,-3.16,0,3.16)\n",
    "sum(F1)\n",
    "F2 = c(-3.16,0,-3.16,0,3.16,3.16,0,-3.16,3.16,0)\n",
    "sum(F2)"
   ]
  },
  {
   "cell_type": "markdown",
   "metadata": {},
   "source": [
    "Llamemos $\\mathbf{F}$ la tabla de coordenadas sobre los nuevos ejes y hagamos el plano pero con $F_1$ como eje horizontal y $F_2$ como vertical:\n"
   ]
  },
  {
   "cell_type": "code",
   "execution_count": 15,
   "metadata": {},
   "outputs": [
    {
     "data": {
      "text/html": [
       "<table class=\"dataframe\">\n",
       "<caption>A matrix: 2 × 10 of type dbl</caption>\n",
       "<thead>\n",
       "\t<tr><th></th><th scope=col>1</th><th scope=col>2</th><th scope=col>3</th><th scope=col>4</th><th scope=col>5</th><th scope=col>6</th><th scope=col>7</th><th scope=col>8</th><th scope=col>9</th><th scope=col>10</th></tr>\n",
       "</thead>\n",
       "<tbody>\n",
       "\t<tr><th scope=row>F1</th><td> 3.16</td><td>6.32</td><td> 0.00</td><td>-6.32</td><td>-3.16</td><td>3.16</td><td>-3.16</td><td>-3.16</td><td>0.00</td><td>3.16</td></tr>\n",
       "\t<tr><th scope=row>F2</th><td>-3.16</td><td>0.00</td><td>-3.16</td><td> 0.00</td><td> 3.16</td><td>3.16</td><td> 0.00</td><td>-3.16</td><td>3.16</td><td>0.00</td></tr>\n",
       "</tbody>\n",
       "</table>\n"
      ],
      "text/latex": [
       "A matrix: 2 × 10 of type dbl\n",
       "\\begin{tabular}{r|llllllllll}\n",
       "  & 1 & 2 & 3 & 4 & 5 & 6 & 7 & 8 & 9 & 10\\\\\n",
       "\\hline\n",
       "\tF1 &  3.16 & 6.32 &  0.00 & -6.32 & -3.16 & 3.16 & -3.16 & -3.16 & 0.00 & 3.16\\\\\n",
       "\tF2 & -3.16 & 0.00 & -3.16 &  0.00 &  3.16 & 3.16 &  0.00 & -3.16 & 3.16 & 0.00\\\\\n",
       "\\end{tabular}\n"
      ],
      "text/markdown": [
       "\n",
       "A matrix: 2 × 10 of type dbl\n",
       "\n",
       "| <!--/--> | 1 | 2 | 3 | 4 | 5 | 6 | 7 | 8 | 9 | 10 |\n",
       "|---|---|---|---|---|---|---|---|---|---|---|\n",
       "| F1 |  3.16 | 6.32 |  0.00 | -6.32 | -3.16 | 3.16 | -3.16 | -3.16 | 0.00 | 3.16 |\n",
       "| F2 | -3.16 | 0.00 | -3.16 |  0.00 |  3.16 | 3.16 |  0.00 | -3.16 | 3.16 | 0.00 |\n",
       "\n"
      ],
      "text/plain": [
       "   1     2    3     4     5     6    7     8     9    10  \n",
       "F1  3.16 6.32  0.00 -6.32 -3.16 3.16 -3.16 -3.16 0.00 3.16\n",
       "F2 -3.16 0.00 -3.16  0.00  3.16 3.16  0.00 -3.16 3.16 0.00"
      ]
     },
     "metadata": {},
     "output_type": "display_data"
    },
    {
     "data": {
      "text/html": [
       "<table class=\"dataframe\">\n",
       "<caption>A matrix: 2 × 2 of type dbl</caption>\n",
       "<thead>\n",
       "\t<tr><th></th><th scope=col>u1</th><th scope=col>u2</th></tr>\n",
       "</thead>\n",
       "<tbody>\n",
       "\t<tr><th scope=row>X1</th><td>0.32</td><td>-0.95</td></tr>\n",
       "\t<tr><th scope=row>X2</th><td>0.95</td><td> 0.32</td></tr>\n",
       "</tbody>\n",
       "</table>\n"
      ],
      "text/latex": [
       "A matrix: 2 × 2 of type dbl\n",
       "\\begin{tabular}{r|ll}\n",
       "  & u1 & u2\\\\\n",
       "\\hline\n",
       "\tX1 & 0.32 & -0.95\\\\\n",
       "\tX2 & 0.95 &  0.32\\\\\n",
       "\\end{tabular}\n"
      ],
      "text/markdown": [
       "\n",
       "A matrix: 2 × 2 of type dbl\n",
       "\n",
       "| <!--/--> | u1 | u2 |\n",
       "|---|---|---|\n",
       "| X1 | 0.32 | -0.95 |\n",
       "| X2 | 0.95 |  0.32 |\n",
       "\n"
      ],
      "text/plain": [
       "   u1   u2   \n",
       "X1 0.32 -0.95\n",
       "X2 0.95  0.32"
      ]
     },
     "metadata": {},
     "output_type": "display_data"
    },
    {
     "name": "stdout",
     "output_type": "stream",
     "text": [
      "Pendiente X1 =  -3"
     ]
    },
    {
     "data": {
      "image/png": "[encoded data removed]",
      "text/plain": [
       "plot without title"
      ]
     },
     "metadata": {
      "image/png": {
       "height": 420,
       "width": 420
      }
     },
     "output_type": "display_data"
    }
   ],
   "source": [
    "F =cbind(F1,F2)\n",
    "colnames(F)=c(\"F1\",\"F2\")\n",
    "rownames(F)=1:10\n",
    "t(F)\n",
    "plot(F,las=1,asp=1)\n",
    "text(F,labels=rownames(F),pos=3)\n",
    "abline(v=-6:6,h=-6:6,col=\"gray80\")\n",
    "abline(v=0,h=0,col=\"orange\")\n",
    "text(0,0,\"0\",col=\"orange\")\n",
    "# antiguos ejes sea U:\n",
    "U=cbind(u1,u2)\n",
    "rownames(U)=c(\"X1\",\"X2\")\n",
    "round(U,2)\n",
    "# la pendiente del antiguo eje X1 es\n",
    "m1=U[1,2]/U[1,1]\n",
    "cat(\"Pendiente X1 = \",m1)\n",
    "abline(0,m1,col=\"green\")\n",
    "text(2,-4,\"X1\",col=\"darkgreen\")\n",
    "# X2\n",
    "abline(0,-1/m1,col=\"green\")\n",
    "text(5,2,\"X2\",col=\"darkgreen\",pos=2)"
   ]
  },
  {
   "cell_type": "markdown",
   "metadata": {},
   "source": [
    "Pimero rotamos los ejes: nuevos $F_1$ y $F_2$ y luego la nube de puntos."
   ]
  },
  {
   "cell_type": "markdown",
   "metadata": {},
   "source": [
    "Suma de cuadrados y productos cruzados de **X** (**F**) y trazas:"
   ]
  },
  {
   "cell_type": "code",
   "execution_count": 16,
   "metadata": {},
   "outputs": [
    {
     "data": {
      "text/html": [
       "<table class=\"dataframe\">\n",
       "<caption>A matrix: 2 × 2 of type dbl</caption>\n",
       "<thead>\n",
       "\t<tr><th></th><th scope=col>X1</th><th scope=col>X2</th></tr>\n",
       "</thead>\n",
       "<tbody>\n",
       "\t<tr><th scope=row>X1</th><td>68</td><td> 24</td></tr>\n",
       "\t<tr><th scope=row>X2</th><td>24</td><td>132</td></tr>\n",
       "</tbody>\n",
       "</table>\n"
      ],
      "text/latex": [
       "A matrix: 2 × 2 of type dbl\n",
       "\\begin{tabular}{r|ll}\n",
       "  & X1 & X2\\\\\n",
       "\\hline\n",
       "\tX1 & 68 &  24\\\\\n",
       "\tX2 & 24 & 132\\\\\n",
       "\\end{tabular}\n"
      ],
      "text/markdown": [
       "\n",
       "A matrix: 2 × 2 of type dbl\n",
       "\n",
       "| <!--/--> | X1 | X2 |\n",
       "|---|---|---|\n",
       "| X1 | 68 |  24 |\n",
       "| X2 | 24 | 132 |\n",
       "\n"
      ],
      "text/plain": [
       "   X1 X2 \n",
       "X1 68  24\n",
       "X2 24 132"
      ]
     },
     "metadata": {},
     "output_type": "display_data"
    },
    {
     "data": {
      "text/html": [
       "200"
      ],
      "text/latex": [
       "200"
      ],
      "text/markdown": [
       "200"
      ],
      "text/plain": [
       "[1] 200"
      ]
     },
     "metadata": {},
     "output_type": "display_data"
    },
    {
     "data": {
      "text/html": [
       "<table class=\"dataframe\">\n",
       "<caption>A matrix: 2 × 2 of type dbl</caption>\n",
       "<thead>\n",
       "\t<tr><th></th><th scope=col>F1</th><th scope=col>F2</th></tr>\n",
       "</thead>\n",
       "<tbody>\n",
       "\t<tr><th scope=row>F1</th><td>139.8</td><td> 0.0</td></tr>\n",
       "\t<tr><th scope=row>F2</th><td>  0.0</td><td>59.9</td></tr>\n",
       "</tbody>\n",
       "</table>\n"
      ],
      "text/latex": [
       "A matrix: 2 × 2 of type dbl\n",
       "\\begin{tabular}{r|ll}\n",
       "  & F1 & F2\\\\\n",
       "\\hline\n",
       "\tF1 & 139.8 &  0.0\\\\\n",
       "\tF2 &   0.0 & 59.9\\\\\n",
       "\\end{tabular}\n"
      ],
      "text/markdown": [
       "\n",
       "A matrix: 2 × 2 of type dbl\n",
       "\n",
       "| <!--/--> | F1 | F2 |\n",
       "|---|---|---|\n",
       "| F1 | 139.8 |  0.0 |\n",
       "| F2 |   0.0 | 59.9 |\n",
       "\n"
      ],
      "text/plain": [
       "   F1    F2  \n",
       "F1 139.8  0.0\n",
       "F2   0.0 59.9"
      ]
     },
     "metadata": {},
     "output_type": "display_data"
    },
    {
     "data": {
      "text/html": [
       "199.7"
      ],
      "text/latex": [
       "199.7"
      ],
      "text/markdown": [
       "199.7"
      ],
      "text/plain": [
       "[1] 199.7"
      ]
     },
     "metadata": {},
     "output_type": "display_data"
    }
   ],
   "source": [
    "SS.X = t(X)%*%X\n",
    "SS.X\n",
    "sum(diag(SS.X))\n",
    "SS.F =t(F)%*%F\n",
    "round(SS.F,1)\n",
    "round(sum(diag(SS.F)),1)"
   ]
  },
  {
   "cell_type": "markdown",
   "metadata": {},
   "source": [
    "Los nuevos ejes no están correlacionados."
   ]
  },
  {
   "cell_type": "markdown",
   "metadata": {},
   "source": [
    "Los valores y vectores propios dan la solución a esta rotación:"
   ]
  },
  {
   "cell_type": "code",
   "execution_count": 17,
   "metadata": {},
   "outputs": [
    {
     "data": {
      "text/plain": [
       "eigen() decomposition\n",
       "$values\n",
       "[1] 140  60\n",
       "\n",
       "$vectors\n",
       "          [,1]       [,2]\n",
       "[1,] 0.3162278 -0.9486833\n",
       "[2,] 0.9486833  0.3162278\n"
      ]
     },
     "metadata": {},
     "output_type": "display_data"
    }
   ],
   "source": [
    "eigen(SS.X)"
   ]
  },
  {
   "cell_type": "code",
   "execution_count": 18,
   "metadata": {},
   "outputs": [
    {
     "data": {
      "text/html": [
       "<table class=\"dataframe\">\n",
       "<caption>A matrix: 2 × 2 of type dbl</caption>\n",
       "<thead>\n",
       "\t<tr><th></th><th scope=col>u1</th><th scope=col>u2</th></tr>\n",
       "</thead>\n",
       "<tbody>\n",
       "\t<tr><th scope=row>X1</th><td>0.3162278</td><td>-0.9486833</td></tr>\n",
       "\t<tr><th scope=row>X2</th><td>0.9486833</td><td> 0.3162278</td></tr>\n",
       "</tbody>\n",
       "</table>\n"
      ],
      "text/latex": [
       "A matrix: 2 × 2 of type dbl\n",
       "\\begin{tabular}{r|ll}\n",
       "  & u1 & u2\\\\\n",
       "\\hline\n",
       "\tX1 & 0.3162278 & -0.9486833\\\\\n",
       "\tX2 & 0.9486833 &  0.3162278\\\\\n",
       "\\end{tabular}\n"
      ],
      "text/markdown": [
       "\n",
       "A matrix: 2 × 2 of type dbl\n",
       "\n",
       "| <!--/--> | u1 | u2 |\n",
       "|---|---|---|\n",
       "| X1 | 0.3162278 | -0.9486833 |\n",
       "| X2 | 0.9486833 |  0.3162278 |\n",
       "\n"
      ],
      "text/plain": [
       "   u1        u2        \n",
       "X1 0.3162278 -0.9486833\n",
       "X2 0.9486833  0.3162278"
      ]
     },
     "metadata": {},
     "output_type": "display_data"
    },
    {
     "data": {
      "text/html": [
       "<style>\n",
       ".dl-inline {width: auto; margin:0; padding: 0}\n",
       ".dl-inline>dt, .dl-inline>dd {float: none; width: auto; display: inline-block}\n",
       ".dl-inline>dt::after {content: \":\\0020\"; padding-right: .5ex}\n",
       ".dl-inline>dt:not(:first-of-type) {padding-left: .5ex}\n",
       "</style><dl class=dl-inline><dt>F1</dt><dd>139.8</dd><dt>F2</dt><dd>59.9</dd></dl>\n"
      ],
      "text/latex": [
       "\\begin{description*}\n",
       "\\item[F1] 139.8\n",
       "\\item[F2] 59.9\n",
       "\\end{description*}\n"
      ],
      "text/markdown": [
       "F1\n",
       ":   139.8F2\n",
       ":   59.9\n",
       "\n"
      ],
      "text/plain": [
       "   F1    F2 \n",
       "139.8  59.9 "
      ]
     },
     "metadata": {},
     "output_type": "display_data"
    }
   ],
   "source": [
    "U\n",
    "round(diag(SS.F),1)"
   ]
  },
  {
   "cell_type": "markdown",
   "metadata": {},
   "source": [
    "No son iguales porque se usaron valores redondeados de **F** para calcular $SS.F$. Corrigiendo ahora:"
   ]
  },
  {
   "cell_type": "code",
   "execution_count": 19,
   "metadata": {},
   "outputs": [
    {
     "data": {
      "text/html": [
       "<table class=\"dataframe\">\n",
       "<caption>A matrix: 2 × 2 of type dbl</caption>\n",
       "<tbody>\n",
       "\t<tr><td>140</td><td> 0</td></tr>\n",
       "\t<tr><td>  0</td><td>60</td></tr>\n",
       "</tbody>\n",
       "</table>\n"
      ],
      "text/latex": [
       "A matrix: 2 × 2 of type dbl\n",
       "\\begin{tabular}{ll}\n",
       "\t 140 &  0\\\\\n",
       "\t   0 & 60\\\\\n",
       "\\end{tabular}\n"
      ],
      "text/markdown": [
       "\n",
       "A matrix: 2 × 2 of type dbl\n",
       "\n",
       "| 140 |  0 |\n",
       "|   0 | 60 |\n",
       "\n"
      ],
      "text/plain": [
       "     [,1] [,2]\n",
       "[1,] 140   0  \n",
       "[2,]   0  60  "
      ]
     },
     "metadata": {},
     "output_type": "display_data"
    }
   ],
   "source": [
    "SS.F=diag(eigen(SS.X)$values)\n",
    "SS.F"
   ]
  },
  {
   "cell_type": "markdown",
   "metadata": {},
   "source": [
    "Lo que se hizo en el plano fue una rotación de los ejes, lo que también en un cambio de base, porque ahora los puntos se expresan como combinaciones lineales de los vectores propios, es decir que la nueva base es:\n",
    "$$\n",
    "B = \\{\\mathbf{u}_1, \\mathbf{u}_2\\} \n",
    "$$\n",
    "\n",
    "Si llamamos $\\mathbf{A}$ la matriz y transformación lineal de rotación, entonces $\\mathbf{A} = \\mathbf{U}^T $ y la matriz $\\mathbf{U} = [\\mathbf{u}_1 \\ \\ \\mathbf{u}_2]$"
   ]
  },
  {
   "cell_type": "code",
   "execution_count": 20,
   "metadata": {},
   "outputs": [
    {
     "data": {
      "text/html": [
       "<table class=\"dataframe\">\n",
       "<caption>A matrix: 2 × 2 of type dbl</caption>\n",
       "<thead>\n",
       "\t<tr><th></th><th scope=col>X1</th><th scope=col>X2</th></tr>\n",
       "</thead>\n",
       "<tbody>\n",
       "\t<tr><th scope=row>u1</th><td> 0.3162278</td><td>0.9486833</td></tr>\n",
       "\t<tr><th scope=row>u2</th><td>-0.9486833</td><td>0.3162278</td></tr>\n",
       "</tbody>\n",
       "</table>\n"
      ],
      "text/latex": [
       "A matrix: 2 × 2 of type dbl\n",
       "\\begin{tabular}{r|ll}\n",
       "  & X1 & X2\\\\\n",
       "\\hline\n",
       "\tu1 &  0.3162278 & 0.9486833\\\\\n",
       "\tu2 & -0.9486833 & 0.3162278\\\\\n",
       "\\end{tabular}\n"
      ],
      "text/markdown": [
       "\n",
       "A matrix: 2 × 2 of type dbl\n",
       "\n",
       "| <!--/--> | X1 | X2 |\n",
       "|---|---|---|\n",
       "| u1 |  0.3162278 | 0.9486833 |\n",
       "| u2 | -0.9486833 | 0.3162278 |\n",
       "\n"
      ],
      "text/plain": [
       "   X1         X2       \n",
       "u1  0.3162278 0.9486833\n",
       "u2 -0.9486833 0.3162278"
      ]
     },
     "metadata": {},
     "output_type": "display_data"
    }
   ],
   "source": [
    "A = t(U)\n",
    "A\n"
   ]
  },
  {
   "cell_type": "markdown",
   "metadata": {},
   "source": [
    "Entonces la transformación lineal es:\n",
    "\n",
    "$$\n",
    "\\Re^2 \\xrightarrow{\\ \\ \\ \\ \\ \\ \\mathbf{A} \\ \\ \\ \\ \\ \\ } \\Re^2\n",
    "$$\n",
    "\n",
    "$$\n",
    "\\mathbf{x}_i \\to \\mathbf{A}\\mathbf{x}_i\n",
    "$$"
   ]
  },
  {
   "cell_type": "markdown",
   "metadata": {},
   "source": [
    "Las dos columas de  $\\mathbf{A}$  son las coordenadas de los *antiguos ejes unitarios* vectores que generan los ejes $X_1$ y $X=2$ para verlos en el plano rotado: eje horizontal $F_1$ y eje vertical $F_2$. "
   ]
  },
  {
   "cell_type": "markdown",
   "metadata": {},
   "source": [
    "El ángulo de rotación de los ejes es,en grados:"
   ]
  },
  {
   "cell_type": "code",
   "execution_count": 21,
   "metadata": {},
   "outputs": [
    {
     "data": {
      "text/html": [
       "71.565051177078"
      ],
      "text/latex": [
       "71.565051177078"
      ],
      "text/markdown": [
       "71.565051177078"
      ],
      "text/plain": [
       "[1] 71.56505"
      ]
     },
     "metadata": {},
     "output_type": "display_data"
    }
   ],
   "source": [
    "acos(A[1,1])*180/pi"
   ]
  },
  {
   "cell_type": "markdown",
   "metadata": {},
   "source": [
    "[Volver al inicio](#Contenido)"
   ]
  },
  {
   "cell_type": "markdown",
   "metadata": {},
   "source": [
    "### Representación geométrica de las dos variables centradas $X_1$ y $X_2$\n",
    "\n",
    "Las dos variables también tienen una representación geométrica, en el caso del ejemplo, en $\\Re^{10}$, en este casos los ejes son las 10 filas. Las variables se suelen representar por flechas que parten del origen. No podemos ver su representación en en $\\Re^{10}$ pero si en en $\\Re^{2}$, sobre los nuevos ejes del espacio de las variables ($\\Re^{2}$ subespacio de $\\Re^{10}$. Veremos más adelante que las coordenadas de las variables $G_1$ y $G_2$, se pueden obtener de los valores y vectores propios del espacio de los individuos mediante:\n",
    "\n",
    "$$\n",
    "G_1 = \\sqrt{\\lambda_1}\\mathbf{u}_1 \\ \\ \\ y \\ \\ \\ G_2 = \\sqrt{\\lambda_2} \\mathbf{u}_2\n",
    "$$\n"
   ]
  },
  {
   "cell_type": "code",
   "execution_count": 22,
   "metadata": {},
   "outputs": [
    {
     "data": {
      "text/html": [
       "<table class=\"dataframe\">\n",
       "<caption>A matrix: 10 × 2 of type dbl</caption>\n",
       "<thead>\n",
       "\t<tr><th></th><th scope=col>X1</th><th scope=col>X2</th></tr>\n",
       "</thead>\n",
       "<tbody>\n",
       "\t<tr><th scope=row>1</th><td> 4</td><td> 2</td></tr>\n",
       "\t<tr><th scope=row>2</th><td> 2</td><td> 6</td></tr>\n",
       "\t<tr><th scope=row>3</th><td> 3</td><td>-1</td></tr>\n",
       "\t<tr><th scope=row>4</th><td>-2</td><td>-6</td></tr>\n",
       "\t<tr><th scope=row>5</th><td>-4</td><td>-2</td></tr>\n",
       "\t<tr><th scope=row>6</th><td>-2</td><td> 4</td></tr>\n",
       "\t<tr><th scope=row>7</th><td>-1</td><td>-3</td></tr>\n",
       "\t<tr><th scope=row>8</th><td> 2</td><td>-4</td></tr>\n",
       "\t<tr><th scope=row>9</th><td>-3</td><td> 1</td></tr>\n",
       "\t<tr><th scope=row>10</th><td> 1</td><td> 3</td></tr>\n",
       "</tbody>\n",
       "</table>\n"
      ],
      "text/latex": [
       "A matrix: 10 × 2 of type dbl\n",
       "\\begin{tabular}{r|ll}\n",
       "  & X1 & X2\\\\\n",
       "\\hline\n",
       "\t1 &  4 &  2\\\\\n",
       "\t2 &  2 &  6\\\\\n",
       "\t3 &  3 & -1\\\\\n",
       "\t4 & -2 & -6\\\\\n",
       "\t5 & -4 & -2\\\\\n",
       "\t6 & -2 &  4\\\\\n",
       "\t7 & -1 & -3\\\\\n",
       "\t8 &  2 & -4\\\\\n",
       "\t9 & -3 &  1\\\\\n",
       "\t10 &  1 &  3\\\\\n",
       "\\end{tabular}\n"
      ],
      "text/markdown": [
       "\n",
       "A matrix: 10 × 2 of type dbl\n",
       "\n",
       "| <!--/--> | X1 | X2 |\n",
       "|---|---|---|\n",
       "| 1 |  4 |  2 |\n",
       "| 2 |  2 |  6 |\n",
       "| 3 |  3 | -1 |\n",
       "| 4 | -2 | -6 |\n",
       "| 5 | -4 | -2 |\n",
       "| 6 | -2 |  4 |\n",
       "| 7 | -1 | -3 |\n",
       "| 8 |  2 | -4 |\n",
       "| 9 | -3 |  1 |\n",
       "| 10 |  1 |  3 |\n",
       "\n"
      ],
      "text/plain": [
       "   X1 X2\n",
       "1   4  2\n",
       "2   2  6\n",
       "3   3 -1\n",
       "4  -2 -6\n",
       "5  -4 -2\n",
       "6  -2  4\n",
       "7  -1 -3\n",
       "8   2 -4\n",
       "9  -3  1\n",
       "10  1  3"
      ]
     },
     "metadata": {},
     "output_type": "display_data"
    }
   ],
   "source": [
    "X"
   ]
  },
  {
   "cell_type": "markdown",
   "metadata": {},
   "source": [
    "Cálculo de las coordenadas de las variables y gráfica:"
   ]
  },
  {
   "cell_type": "code",
   "execution_count": null,
   "metadata": {},
   "outputs": [],
   "source": [
    "G1 = sqrt(140)*u1\n",
    "G2 = sqrt(60)*u2\n",
    "G = cbind(G1,G2)\n",
    "rownames(G) =c(\"X1\",\"X2\")\n",
    "G\n",
    "library(ade4)\n",
    "s.arrow(G)"
   ]
  },
  {
   "cell_type": "markdown",
   "metadata": {},
   "source": [
    "[Volver al inicio](#Contenido)"
   ]
  },
  {
   "cell_type": "markdown",
   "metadata": {},
   "source": [
    "# **Objetivos del análisis en componentes principales (ACP)**"
   ]
  },
  {
   "cell_type": "markdown",
   "metadata": {
    "id": "tn5sP7WofAu6"
   },
   "source": [
    "La entrada a un procedimiento de ACP es una tabla de $n$ filas y $p$ columnas. Las filas resperesntan las unidades estadísticas objeto del estudio, que se denominan *individuos* y las columnas variables continuas que se observan o miden sobre los individuos. Los objetivos principales del ACP son:\n",
    "\n",
    "1. Comparar los individuos entre si\n",
    "2. Describir las relaciones entre las variables\n",
    "3. Reducir la dimensión de la representación\n",
    "\n",
    "La tabla de datos tiene dos representaciones geométricas: los $n$ vectores fila en $Re^p$ (*nube de indiviuos*), en la cual se comparan los individuos; y $p$ vectores columna representados en $\\Re^n$ (*nube de variables*), donde se describen las relaciones entre las variables.  "
   ]
  },
  {
   "cell_type": "markdown",
   "metadata": {},
   "source": [
    "<figure> \n",
    "<img src=\"../imagenes/esquemaTabla.png\"  width=\"240\" height=\"240\" align=\"left\"/> \n",
    "</figure>"
   ]
  },
  {
   "cell_type": "markdown",
   "metadata": {},
   "source": [
    "[Volver al inicio](#Contenido)"
   ]
  },
  {
   "cell_type": "markdown",
   "metadata": {
    "id": "ecYgDekbDCOY"
   },
   "source": [
    "# **Ejemplo Café y notación**\n",
    "\n",
    "Para entender el ACP  utilizamos un ejemplo muy pequeño, utilizando la tabla de datos *cafe*, dispoble en el paqute *FactoClass*. Es el resultado de un experimento realizado en el Laboratorio de Investigaciones Químicas del Café.\n",
    "\n",
    "El experimento considera 3 factores:\n",
    "\n",
    "- Agregado (sin maíz, cebada)\n",
    "- Porcentaje del agregado (20\\% y 40\\%)\n",
    "- Grado de tostación (clara y oscura)\n",
    "\n",
    "Se producen  \"libras de café\" tostado y molido para los 10 tratamientos del experimento y con ellas se preparan tazas de café que se someten a mediciones físicas químicas y de degustación. El ejemplo de esta sección se utilizan solo las tres variables físicas, para visualizar la geometría del ACP. La tabla de datos de 10 filas y 3 columnas la definimos como **Y**."
   ]
  },
  {
   "cell_type": "code",
   "execution_count": null,
   "metadata": {
    "colab": {
     "base_uri": "https://localhost:8080/",
     "height": 131
    },
    "id": "cme9dZc5048P",
    "outputId": "86020904-1283-45af-8ec5-94e756527dfd"
   },
   "outputs": [],
   "source": [
    "# carga de FactoClass y definición de Y\n",
    "library(FactoClass)"
   ]
  },
  {
   "cell_type": "code",
   "execution_count": null,
   "metadata": {
    "colab": {
     "base_uri": "https://localhost:8080/",
     "height": 394
    },
    "id": "wexoGG3E2VHT",
    "outputId": "8d825789-5af3-4531-da48-04de3d5c5690",
    "slideshow": {
     "slide_type": "-"
    }
   },
   "outputs": [],
   "source": [
    "# definición de Y\n",
    "data(cafe)\n",
    "Y<-cafe[1:10,1:3]\n",
    "Y"
   ]
  },
  {
   "cell_type": "markdown",
   "metadata": {
    "id": "UIYqCyvb2wnL"
   },
   "source": [
    "La identificación de las filas (cafés, individuos) es nemotécnica y nos informa del respectivo tratamiento. Por ejemplo ExCl, significa café excelso (sin contaminación) y de tostación clara, C40M significa tostación clara contaminado con 40% de maíz."
   ]
  },
  {
   "cell_type": "markdown",
   "metadata": {},
   "source": [
    "[Volver al inicio](#Contenido)"
   ]
  },
  {
   "cell_type": "markdown",
   "metadata": {
    "id": "HxuQGMSxDRSV"
   },
   "source": [
    "# Nube de individuos \n",
    "\n",
    "En nube de los $n$ individuos en el espacio de las filas, cada fila ($i$ de **Y**, $y_i^T$  se representa como un punto en $\\Re^p$. Los $p$ ejes son las variables El conjunto de puntos de denomina *nube de individuos* y se nota $N_n$. El centro de gravedad de la nube de puntos es:\n",
    "\n",
    "$$\n",
    "\\mathbf{g}= \\sum_{i=1}^{n} p_i  \\mathbf{y}_i \\qquad si \\quad p_i = \\frac{1}{n}\\qquad  \\mathbf{g} = \\frac{1}{n} \\sum_{i=1}^{n} \\mathbf{y}_i\n",
    "$$"
   ]
  },
  {
   "cell_type": "markdown",
   "metadata": {},
   "source": [
    "#### Representación de la nube en $3D$, junto con su centro de gravedad."
   ]
  },
  {
   "cell_type": "code",
   "execution_count": null,
   "metadata": {
    "colab": {
     "base_uri": "https://localhost:8080/",
     "height": 437
    },
    "id": "_lwcDX-A4puS",
    "outputId": "0e54fe69-2c5e-4ec3-adab-aa25bdb0674b"
   },
   "outputs": [],
   "source": [
    "par(las=1); # grafica;\n",
    "Y3D<-scatterplot3d(Y,main=\"Y\",type=\"h\",color=\"black\",box=FALSE,las=1); \n",
    "Y3D$points3d(Y,pch=1);\n",
    "addgrids3d(Y, grid = c(\"xy\",\"xz\",\"yz\"));\n",
    "cord2d<-Y3D$xyz.convert(Y) # convertir cordenadas 3D a 2D;\n",
    "# poner etiquetas;\n",
    "text(cord2d,labels=rownames(Y), cex=0.8,col=\"black\",pos=3); \n",
    "# poner el centro de gravedad en la gráfica\n",
    "g <- colMeans(Y) \n",
    "Y3D$points3d(t(g),pch=19,col=\"darkgreen\",type = \"h\");\n",
    "text(Y3D$xyz.convert(t(g)),labels=\"g\",pos=3,col=\"black\",\n",
    "     cex=1.3);\n",
    "rbind(Y[c(\"C40M\",\"ExOs\",\"O20C\",\"O20M\"),],g=g)-> sel\n",
    "sel"
   ]
  },
  {
   "cell_type": "markdown",
   "metadata": {},
   "source": [
    "#### Gráfica 3D para rotar. No ejecute aquí el siguiente código. Cópielo y ejecútelo en la consola de R"
   ]
  },
  {
   "cell_type": "raw",
   "metadata": {},
   "source": [
    "#=======================================\n",
    "# Ejecute este código en la consola de R\n",
    "#==============================\n",
    "library(FactoClass)\n",
    "data(cafe)\n",
    "Y<-cafe[1:10,1:3]\n",
    "Y\n",
    "library(rgl)\n",
    "plot3d(Y)\n",
    "grid3d(c(\"x\", \"y+\", \"z\"))\n",
    "text3d(Y, texts=row.names(Y))\n",
    "g<-colMeans(Y)\n",
    "text3d(g,texts=\"g\",col=\"red\")\n",
    "#========================================"
   ]
  },
  {
   "cell_type": "markdown",
   "metadata": {
    "id": "iW7Ow0U-7OBr"
   },
   "source": [
    "#### **Centrado de la nube de puntos**\n",
    "Los ejes se trasladan al centro de gravedad, restando a cada vector individuo el centro de gravedad:\n",
    "$$\n",
    "\\mathbf{y_C}_i = \\mathbf{y}_i - \\mathbf{g}\n",
    "$$"
   ]
  },
  {
   "cell_type": "code",
   "execution_count": null,
   "metadata": {},
   "outputs": [],
   "source": [
    "# cálculo de la matriz de datos centrados y representación en 3D\n",
    "Yc<-scale(Y,scale=FALSE)   #calculo\n",
    "attr(Yc,\"scaled:center\")->g  #la función scale muestra el centro de gravedad\n",
    "t(rbind(Yc,g))\n",
    "# grafica de datos centrados\n",
    "par(las=1);\n",
    "Yc3D<-scatterplot3d(Yc,main=\"Yc\",type=\"h\",color=\"black\",\n",
    "\t               box=FALSE,las=1);\n",
    "Yc3D$points3d(Yc,pch=1);\n",
    "addgrids3d(Yc,grid=c(\"xy\", \"xz\", \"yz\"));\n",
    "text (Yc3D$xyz.convert(Yc),labels=rownames(Yc),cex=0.8,\n",
    "\t  col=\"black\",pos=3);\n",
    "Yc3D$points3d(t(c(0 ,0 ,0)),pch=19 , col =\"darkgreen\",type = \"h\");\n",
    "text(Yc3D$xyz.convert (t(c(0 ,0 ,0))),labels =\"0\",pos =3, \n",
    "     col =\"darkgreen\",cex =1.3);\n"
   ]
  },
  {
   "cell_type": "markdown",
   "metadata": {
    "id": "mb19acrq-1C5",
    "jp-MarkdownHeadingCollapsed": true,
    "tags": []
   },
   "source": [
    "#### **Inercia de la nube de puntos**\n",
    "$$\n",
    "Inercia(N_n) = \\sum\\limits_{i=1}^{n}{p_i\n",
    "d^2(i,\\mathbf{g})}\n",
    "$$\n",
    "$$\n",
    "  Inercia(N_n) =\n",
    " \\sum\\limits_{i=1}^{n} p_i\\sum\\limits_{j=1}^{p}y_{{_C}_{ij}}^2 =\n",
    "  \\sum\\limits_{j=1}^{p}\\sum\\limits_{i=1}^{n} p_i y_{{_C}_{ij}}^2\n",
    " = \\sum\\limits_{j=1}^{p}\\sigma_j^2 \n",
    "$$"
   ]
  },
  {
   "cell_type": "markdown",
   "metadata": {
    "id": "0G1dp5Z_Ai_h",
    "tags": []
   },
   "source": [
    "#### **Matriz de varianzas y covarianzas**\n",
    "Si los pesos de los individuos son iguales: $p_i=\\frac{1}{n}$\n",
    "$$\n",
    "  \\mathbf{V}=\\dfrac{1}{n} \\mathbf{Y'_C}\\mathbf{Y_C} $$ \n",
    "La inercia de la nube de puntos es también: $Inercia(N_n) = traza(\\mathbf{V})$\n",
    "\n"
   ]
  },
  {
   "cell_type": "code",
   "execution_count": null,
   "metadata": {
    "colab": {
     "base_uri": "https://localhost:8080/",
     "height": 170
    },
    "id": "z9QQctf6COGv",
    "outputId": "5f292b6d-f375-4b81-ae50-41804cdfcb74"
   },
   "outputs": [],
   "source": [
    "V<-covfacwt(Y) # función de ade4 para calcular V dividiendo por n\n",
    "round(V,0)"
   ]
  },
  {
   "cell_type": "markdown",
   "metadata": {},
   "source": [
    "#### **Cálculo y gráfica 3D de la matriz de datos estandarizados X**"
   ]
  },
  {
   "cell_type": "code",
   "execution_count": null,
   "metadata": {},
   "outputs": [],
   "source": [
    "# Cálculo de matriz X estandarizada\n",
    "X<-scale(Y)\n",
    "# aquí la función scale calcula la media y la desviación estándar\n",
    "# las varianzas que calcula R es la muestral: se divide por n-1\n",
    "round(attr(X,\"scaled:scale\"),1)->Des\n",
    "# X transpuesta + g + Des\n",
    "t(round(rbind(X,g,Des),2))\n",
    "# gráfica de la matriz centrada y reducida (estandrizada)\n",
    "par(las=1) # etiquetas de los dos ejes sean horizontales;\n",
    "X3D<-scatterplot3d(X,main=\"X\",type =\"h\",box=FALSE,asp=1); \n",
    "X3D$points3d(Yc,pch=1);\n",
    "addgrids3d(X,grid=c(\"xy\",\"xz\",\"yz\"),col.grid=\"grey80\");\n",
    "text (X3D$xyz.convert(X),labels=rownames(X),cex=0.8,pos=3);\n",
    "X3D$points3d (t(c(0,0,0)),pch=19,col=\"darkgreen\",type=\"h\");\n",
    "text(X3D$xyz.convert(t(c(0,0,0))),labels=\"0\",pos=3,col=\"darkgreen\"\n",
    "\t ,cex=0.8);\n"
   ]
  },
  {
   "cell_type": "markdown",
   "metadata": {
    "tags": []
   },
   "source": [
    "#### Gráfica 3D para rotar. No ejecute aquí el siguiente código. Cópielo y ejecútelo en la consola de R\n"
   ]
  },
  {
   "cell_type": "code",
   "execution_count": null,
   "metadata": {},
   "outputs": [],
   "source": [
    "#=======================================\n",
    "# Ejecute este código en la consola de R\n",
    "#==============================\n",
    "library(FactoClass)\n",
    "data(cafe)\n",
    "X<-scalewt(cafe[1:10,1:3])\n",
    "X\n",
    "library(rgl)\n",
    "plot3d(X)\n",
    "grid3d(c(\"x\", \"y+\", \"z\"))\n",
    "text3d(X, texts=row.names(X))\n",
    "g=c(0,0,0)\n",
    "text3d(g,texts=\"g\",col=\"red\")\n",
    "#========================================"
   ]
  },
  {
   "cell_type": "markdown",
   "metadata": {},
   "source": [
    "[Volver al inicio](#Contenido)"
   ]
  },
  {
   "cell_type": "markdown",
   "metadata": {
    "id": "LOOrmAXjt6ic",
    "tags": []
   },
   "source": [
    "## **Búsqueda del eje de mayor inercia proyectada (varianza)**"
   ]
  },
  {
   "cell_type": "markdown",
   "metadata": {
    "id": "oLiOtAGFt6id"
   },
   "source": [
    "El valor de la proyección de un individuo *i* sobre el eje generado por un vector $\\mathbf{u}$ unitario es: $<\\mathbf{x}_i,\\mathbf{u}>=\\mathbf{x}_i'\\mathbf{u}$.\n",
    "\n",
    "El individuo $i$ suma a la inercia proyectada (varianza) sobre el eje $\\mathbf{u}$ la cantidad $\\dfrac{1}{n} (\\mathbf{x}_i'\\mathbf{u})^2$.\n",
    "\n",
    "La inercia total de la nube de individuos (varianza), proyectada sobre el eje $\\mathbf{u}$ es entonces:\n",
    "$$\n",
    "\\sum_{i=1}^{n} \\frac{1}{n} (\\mathbf{x}_i'\\mathbf{u})^2 =\n",
    "\\frac{1}{n}(\\mathbf{Xu})'\\mathbf{Xu} = \\mathbf{u'}\\frac{1}{n}\\mathbf{X'Xu}\n",
    "$$\n",
    "\n"
   ]
  },
  {
   "cell_type": "markdown",
   "metadata": {
    "id": "Ya41OD-It6id"
   },
   "source": [
    "<center>\n",
    "<img src=\"https://github.com/cepardot/DiplomadoIAyAP20211/blob/main/uProyeccion.png?raw=TRUE\" alt=\"Proyección sobre u\" width=\"300\" height=\"400\">\n",
    "<center>"
   ]
  },
  {
   "cell_type": "markdown",
   "metadata": {
    "id": "AwZoOSXAt6id"
   },
   "source": [
    "Geométricamente la búsqueda del eje equivale a rotarlo hasta que la suma de cuadrados de las proyecciones de los puntos sobre él  sea máxima. Cuando los puntos tienen pesos iguales el eje coincide con la dirección donde la nube de puntos esté más alargada. Se puede observar que cualquier vector que esté sobre la recta es solución y por lo tanto se introduce la condición de que el vector sea unitario: $\\mathbf{u'u}=1$, con lo cual las soluciones son dos, ya que si $\\mathbf{u}$ es solución $-\\mathbf{u}$ también lo es. Cómo es una optimización se pueden tener diferentes procedimientos para hacerlo. En Álgebra lineal se obtiene una solución analítica utilizando la técnica de multiplicadores de Lagrange."
   ]
  },
  {
   "cell_type": "markdown",
   "metadata": {
    "id": "JPiXhjPOqjRp"
   },
   "source": [
    "<center>\n",
    "<img src=\"https://images3.programmerclick.com/611/1d/1da21c4ce8bb7e0d68f27776d42a0c13.gif\" alt=\"Linea proyeccion\" width=\"400\" height=\"500\">\n",
    "<center>"
   ]
  },
  {
   "cell_type": "markdown",
   "metadata": {
    "id": "UuwmDSe6qjRp"
   },
   "source": [
    "La solución es uno de los dos vectores propios unitarios asociados al valor propio más grande de la matriz:\n",
    "$$\n",
    "\\dfrac{1}{n}\\mathbf{X'X}\n",
    "$$\n",
    "que es la matriz de correlaciones. Una pareja (valor propio más grande, vector propio) se denota \n",
    "$(\\lambda_1 ,\\mathbf{u}_1)$\n",
    "\n",
    "La matriz de correlaciones, cuando $n\\geq p$, generalmente tiene $p$ valores propios, los cuales se ordenan de mayor a menor:\n",
    "$$\n",
    "\\lambda_1 \\geq \\lambda_2 \\geq \\cdots \\lambda_s \\geq \\cdots \\lambda_S \\geq \\cdots \\lambda_p\n",
    "$$\n",
    "\n",
    "Los\n",
    "$p$ vectores propios\n",
    " $\\{\\mathbf{u_1},\\cdots,\\mathbf{u_s},\\cdots,\\mathbf{u_S} \\cdots,\\mathbf{u_p} \\}$\n",
    "generan un sistema de nuevos ejes, denominados componentes principales, que son variables, calculadas como combinaciones lineales (sumas ponderadas de las $p$ variables originales), se notan como $F_s, s=1,2 \\cdots p$, que se pueden entender como nuevas variables y como vectores de dimensión $n \\times 1$, cada uno con los valores de la nueva variable. Los  $p$ vectores $\\mathbf{u}_s$ conforman una nueva base para soportar la nube de puntos."
   ]
  },
  {
   "cell_type": "markdown",
   "metadata": {
    "id": "0pvO0KCLqjRq"
   },
   "source": [
    "<center>\n",
    "<img src=\"https://miro.medium.com/max/972/1*foB2cfjPCgHVnSyon293pQ.gif\" alt=\"eigenvectores\" width=\"250\" height=\"350\">\n",
    "<center>"
   ]
  },
  {
   "cell_type": "markdown",
   "metadata": {},
   "source": [
    "#### Rotación de ejes o cambio de base"
   ]
  },
  {
   "cell_type": "code",
   "execution_count": null,
   "metadata": {},
   "outputs": [],
   "source": [
    "acp=dudi.pca(Y,scannf=FALSE,nf=3)\n",
    "cat(\"Tabla en nuevos ejes\")\n",
    "F=acp$li;round(t(F),2)"
   ]
  },
  {
   "cell_type": "code",
   "execution_count": null,
   "metadata": {},
   "outputs": [],
   "source": [
    "par(las=1) # etiquetas de los dos ejes sean horizontales;\n",
    "X3D<-scatterplot3d(F,main=\"F\",type =\"h\",box=FALSE,asp=1); \n",
    "X3D$points3d(F,pch=1);\n",
    "addgrids3d(F,grid=c(\"xy\",\"xz\",\"yz\"),col.grid=\"grey80\");\n",
    "text (X3D$xyz.convert(F),labels=rownames(F),cex=0.8,pos=3);\n",
    "X3D$points3d (t(c(0,0,0)),pch=19,col=\"darkgreen\",type=\"h\");\n",
    "text(X3D$xyz.convert(t(c(0,0,0))),labels=\"0\",pos=3,col=\"darkgreen\"\n",
    "\t ,cex=0.8);"
   ]
  },
  {
   "cell_type": "markdown",
   "metadata": {
    "tags": []
   },
   "source": [
    "#### Gráfica 3D para rotar. No ejecute aquí el siguiente código. Cópielo y ejecútelo en la consola de R\n"
   ]
  },
  {
   "cell_type": "code",
   "execution_count": null,
   "metadata": {},
   "outputs": [],
   "source": [
    "#=======================================\n",
    "# Ejecute este código en la consola de R\n",
    "#==============================\n",
    "library(FactoClass)\n",
    "data(cafe)\n",
    "acp=dudi.pca(cafe[1:10,1:3],scannf=FALSE,nf=3)\n",
    "F=acp$li\n",
    "library(rgl)\n",
    "plot3d(F,aspect = c(12,6,1))\n",
    "grid3d(c(\"x\", \"y+\", \"z\"))\n",
    "text3d(F, texts=row.names(X))\n",
    "g=c(0,0,0)\n",
    "text3d(g,texts=\"g\",col=\"red\")\n",
    "#========================================\n"
   ]
  },
  {
   "cell_type": "markdown",
   "metadata": {},
   "source": [
    "#### Mejor plano de proyección"
   ]
  },
  {
   "cell_type": "code",
   "execution_count": null,
   "metadata": {},
   "outputs": [],
   "source": [
    "plot(acp,Tcol=FALSE,asp=1)"
   ]
  },
  {
   "cell_type": "markdown",
   "metadata": {},
   "source": [
    "Plano 1-3"
   ]
  },
  {
   "cell_type": "code",
   "execution_count": null,
   "metadata": {},
   "outputs": [],
   "source": [
    "plot(acp,1,3,Tcol=FALSE,asp=1)"
   ]
  },
  {
   "cell_type": "markdown",
   "metadata": {},
   "source": [
    "[Volver al inicio](#Contenido)"
   ]
  },
  {
   "cell_type": "markdown",
   "metadata": {
    "id": "BQAEwuSFDX6o"
   },
   "source": [
    "# **Nube de variables**\n",
    "\n",
    "La matriz de datos $\\mathbf{Y}$ y sus transformaciones tienen una interpretación dual a la de los individuos: la nube de variables. Ahora los ejes son los individuos y las variables son los puntos. En el ejemplo café, se tienen entonces, tres puntos variable en $\\mathbf{R}^{10}$.\n"
   ]
  },
  {
   "cell_type": "code",
   "execution_count": 19,
   "metadata": {
    "id": "z5Q86U2Qt6ih",
    "outputId": "6b1604d1-1ab5-4998-ffed-794a2a09324b"
   },
   "outputs": [
    {
     "data": {
      "text/html": [
       "<table class=\"dataframe\">\n",
       "<caption>A data.frame: 10 × 3</caption>\n",
       "<thead>\n",
       "\t<tr><th></th><th scope=col>Color</th><th scope=col>DA</th><th scope=col>EA</th></tr>\n",
       "\t<tr><th></th><th scope=col>&lt;int&gt;</th><th scope=col>&lt;dbl&gt;</th><th scope=col>&lt;int&gt;</th></tr>\n",
       "</thead>\n",
       "<tbody>\n",
       "\t<tr><th scope=row>ExCl</th><td>298</td><td>385.1</td><td>25</td></tr>\n",
       "\t<tr><th scope=row>C40M</th><td>361</td><td>481.3</td><td>41</td></tr>\n",
       "\t<tr><th scope=row>C40C</th><td>321</td><td>422.6</td><td>40</td></tr>\n",
       "\t<tr><th scope=row>C20M</th><td>335</td><td>444.3</td><td>33</td></tr>\n",
       "\t<tr><th scope=row>C20C</th><td>314</td><td>368.7</td><td>32</td></tr>\n",
       "\t<tr><th scope=row>ExOs</th><td>186</td><td>346.6</td><td>28</td></tr>\n",
       "\t<tr><th scope=row>O40M</th><td>278</td><td>422.6</td><td>43</td></tr>\n",
       "\t<tr><th scope=row>O40C</th><td>238</td><td>403.0</td><td>42</td></tr>\n",
       "\t<tr><th scope=row>O20M</th><td>226</td><td>368.7</td><td>36</td></tr>\n",
       "\t<tr><th scope=row>O20C</th><td>210</td><td>368.7</td><td>35</td></tr>\n",
       "</tbody>\n",
       "</table>\n"
      ],
      "text/latex": [
       "A data.frame: 10 × 3\n",
       "\\begin{tabular}{r|lll}\n",
       "  & Color & DA & EA\\\\\n",
       "  & <int> & <dbl> & <int>\\\\\n",
       "\\hline\n",
       "\tExCl & 298 & 385.1 & 25\\\\\n",
       "\tC40M & 361 & 481.3 & 41\\\\\n",
       "\tC40C & 321 & 422.6 & 40\\\\\n",
       "\tC20M & 335 & 444.3 & 33\\\\\n",
       "\tC20C & 314 & 368.7 & 32\\\\\n",
       "\tExOs & 186 & 346.6 & 28\\\\\n",
       "\tO40M & 278 & 422.6 & 43\\\\\n",
       "\tO40C & 238 & 403.0 & 42\\\\\n",
       "\tO20M & 226 & 368.7 & 36\\\\\n",
       "\tO20C & 210 & 368.7 & 35\\\\\n",
       "\\end{tabular}\n"
      ],
      "text/markdown": [
       "\n",
       "A data.frame: 10 × 3\n",
       "\n",
       "| <!--/--> | Color &lt;int&gt; | DA &lt;dbl&gt; | EA &lt;int&gt; |\n",
       "|---|---|---|---|\n",
       "| ExCl | 298 | 385.1 | 25 |\n",
       "| C40M | 361 | 481.3 | 41 |\n",
       "| C40C | 321 | 422.6 | 40 |\n",
       "| C20M | 335 | 444.3 | 33 |\n",
       "| C20C | 314 | 368.7 | 32 |\n",
       "| ExOs | 186 | 346.6 | 28 |\n",
       "| O40M | 278 | 422.6 | 43 |\n",
       "| O40C | 238 | 403.0 | 42 |\n",
       "| O20M | 226 | 368.7 | 36 |\n",
       "| O20C | 210 | 368.7 | 35 |\n",
       "\n"
      ],
      "text/plain": [
       "     Color DA    EA\n",
       "ExCl 298   385.1 25\n",
       "C40M 361   481.3 41\n",
       "C40C 321   422.6 40\n",
       "C20M 335   444.3 33\n",
       "C20C 314   368.7 32\n",
       "ExOs 186   346.6 28\n",
       "O40M 278   422.6 43\n",
       "O40C 238   403.0 42\n",
       "O20M 226   368.7 36\n",
       "O20C 210   368.7 35"
      ]
     },
     "metadata": {},
     "output_type": "display_data"
    }
   ],
   "source": [
    "Y"
   ]
  },
  {
   "cell_type": "markdown",
   "metadata": {
    "id": "_bMTQcmWt6ih"
   },
   "source": [
    "En el espacio de las variables los pesos están en la diagonal de $\\mathbf{I}_p$, es decir son uno para todas las variables, y la métrica (matriz que define el producto interno) es la matriz diagonal con los pesos de los individuos, es decir $\\frac{1}{n}\\mathbf{I}_n$, para el caso de pesos iguales. Con esta métrica las estadísticas de resumen y las transformaciones de la matriz desde $\\mathbf{Y}$ hasta la $\\mathbf{X}$ tienen significado geométrico, lo que resumo a continuación (ver el capítulo 3 del [libro Estadística descriptiva multivariada](https://bit.ly/3mD9rEY)). \n",
    "\n",
    "- Media de una variable $j$: \n",
    "$$\n",
    "\\bar{Y}_j = \\frac{1}{n} \\sum_{i=1}^{n} y_{ij} = \n",
    "\\frac{1}{n}\\mathbf{Y'}_j \\mathbf{1_{_n}} =\n",
    "\\left<  \\mathbf{Y}_j,\\mathbf{1_{_n}} \\right>_{\\frac{1}{n}\\mathbf{I}_n} \n",
    "$$\n",
    "\n",
    "- Centrado de una variable\n",
    "$$\n",
    "\\mathbf{Y}_{C_j}=\\mathbf{Y}_j - \\overline{Y} \\mathbf{1}_n \n",
    "$$\n",
    "donde $\\mathbf{1}_n$ es un vetor de $n$ unos ($n \\times 1$)."
   ]
  },
  {
   "cell_type": "markdown",
   "metadata": {
    "id": "9J80L8Jqt6ih"
   },
   "source": [
    "<center>\n",
    "<img src=\"https://github.com/cepardot/DiplomadoIAyAP20211/blob/main/EDMvariables.png?raw=TRUE\" alt=\"Significado de la media y el centrado de una variable\" width=\"400\" height=\"500\">\n",
    "<center>"
   ]
  },
  {
   "cell_type": "markdown",
   "metadata": {
    "id": "tC0JQvk5t6ih"
   },
   "source": [
    "- Varianza\n",
    "\n",
    "$$\n",
    "var(Y_j) = \\frac{1}{n} \\sum_{i=1}^n (y_{ij} - \\bar{Y}_j)^2 = \n",
    "\\left<\\mathbf{Y_{C}}_j,\\mathbf{Y_{C}}_j\\right>_{\\frac{1}{n}\\mathbf{I}_n}\n",
    "$$\n",
    "\n",
    "- Covarianza\n",
    "\n",
    "$$\n",
    " cov(Y_j,Y_{k}) = \\frac{1}{n} \\sum_{i=1}^n (y_{ij} - \\bar{Y}_j)(y_{ik} - \\bar{Y}_{k}) = \n",
    "\\left<\\mathbf{Y_{C}}_j,\\mathbf{Y_{C}}_{k}\\right>_{\\frac{1}{n}\\mathbf{I}_n}\n",
    "$$\n",
    "\n",
    "- Significado del reducido\n",
    "\n",
    "$$\n",
    "\\mathbf{X_j}=\n",
    "\\dfrac{1}{\\sigma_j}\\mathbf{Y}_{C_j}\n",
    "$$\n",
    "\n",
    "    + Varianza de una variable centrada y reducida:\n",
    "    \n",
    "$$\n",
    "<\\mathbf{X_j,X_j}>_{\\frac{1}{n}\\mathbf{I_n}}=\\mathbf{X_j^{'}}\\left(\\frac{1}{n}\\mathbf{I}_n\\right)\\mathbf{X}_j=\n",
    "\\frac{1}{n}\\mathbf{X_j^{'}X_j}=1\n",
    "$$ \n",
    "    Las variables estandarizadas se pueden ver como flechas que terminan en el cascarón hiperesféricon de radio 1 y centro origen.\n",
    "    \n",
    " - Correlación\n",
    "\n",
    "$$\n",
    "cor(Y_j,Y_{k}) = \\frac{cov(Y_j,Y_{k})}{\\sigma_j \\sigma_{k}}=\n",
    "\\frac{ <\\mathbf{Y_{C_j},Y_{C_k}}>_{\\frac{1}{n}\\mathbf{I_n}}}{\\| \\mathbf{Y_{C_j}} \\|_{\\frac{1}{n}\\mathbf{I_n}} \\|\\mathbf{Y_{C_k}} \\|_{\\frac{1}{n}\\mathbf{I_n}}}=\n",
    "<\\mathbf{X_j,X_{k}}>_{\\frac{1}{n}\\mathbf{I_n}}\n",
    "$$\n",
    "\n",
    "    + El espacio de las variables de un ACP normado es una representación de la matriz de correlaciones.\n",
    "    \n",
    "    + Si entre dos vectores variables hay un ángulo pequeño, su correlación es alta; mientras dos vectores variables ortogonales indican que las variables no están correlacionadas.\n",
    "\n"
   ]
  },
  {
   "cell_type": "markdown",
   "metadata": {
    "id": "QBuMUse_t6ih"
   },
   "source": [
    "**Búsqueda de los nuevos ejes**\n",
    "\n",
    "El procedimento para encontrar los nuevos ejes es el mismo que en el de los individuos.\n",
    "\n",
    "<center>\n",
    "<img src=\"https://github.com/cepardot/DiplomadoIAyAP20211/blob/main/EDMvariablesprimerEjeColor.png?raw=TRUE\" alt=\"Búsqueda de los nuevos ejes en el espacio de las variables\" width=\"300\" height=\"400\">\n",
    "<center>\n",
    "\n",
    "Solución con vectores propios $\\frac{1}{n}\\mathbf{I}_n$ unitarios asociados a los $\\mu$ valores propios de la matriz:\n",
    "$$\n",
    "\\frac{1}{n}\\mathbf{XX'}\n",
    "$$\n",
    "\n",
    "- Esta matriz es $n \\times n$, pero solo tiene $p$ valores propios mayores que 0 (se supone que $n \\geq p$)\n",
    "\n",
    "- Los dos espacios están relacionados."
   ]
  },
  {
   "cell_type": "markdown",
   "metadata": {},
   "source": [
    "[Volver al inicio](#Contenido)"
   ]
  },
  {
   "cell_type": "markdown",
   "metadata": {
    "id": "Ld5DLveht6ih"
   },
   "source": [
    "# Relaciones entre los espacios de individuos y de variables\n",
    "\n",
    "- La matriz  $$\\frac{1}{n}\\mathbf{XX'}$$ tiene $p$ valores propios, que son iguales a los valores propios de $$\\frac{1}{n}\\mathbf{X'X}$$ y los restantes $n - p$ valores propios son 0. \n",
    "\n",
    "- El vector coordenadas de los $n$ individuos sobre el eje $s$  $\\mathbf{F}_s$, es un vector propio de $$\\frac{1}{n}\\mathbf{XX'}$$.\n",
    "\n",
    "- La varianza de $\\mathbf{F}_s$ es $\\lambda_s$, y por lo tanto, el vector propio $\\mathbf{v}_s$ se puede calcular mediante:  $$\\mathbf{v}_s=\\frac{1}{\\sqrt{\\lambda_s}}\\mathbf{F}_s$$.\n",
    "\n",
    "-  $\\mathbf{G}_s$, vector de coordenadas de las $p$ variables sobre el eje $s$, es un vector propio de $$\\frac{1}{n}\\mathbf{X'X}$$.\n",
    "\n",
    "- La varianza de $\\mathbf{G}_s$ es $\\lambda_s$, y por lo tanto, se puede obtener mediante:   $$\\mathbf{G}_s =\\sqrt{\\lambda_s}\\mathbf{u}_s$$.\n",
    "\n",
    "- En el ACP normado, las coordenadas de $\\mathbf{G}_s$ son las correlaciones entre las variables y el eje $s$: $cor(Y_j,F_s)$.\n"
   ]
  },
  {
   "cell_type": "markdown",
   "metadata": {
    "id": "h4zMC2Xat6ih"
   },
   "source": [
    "### **Círculo de correlaciones del ejemplo café**"
   ]
  },
  {
   "cell_type": "code",
   "execution_count": 20,
   "metadata": {
    "id": "W8uQDI0Pt6ii",
    "outputId": "32c63507-cb2b-46cf-c393-82a5992873df",
    "scrolled": true
   },
   "outputs": [
    {
     "data": {
      "text/html": [
       "<table class=\"dataframe\">\n",
       "<caption>A matrix: 3 × 3 of type dbl</caption>\n",
       "<thead>\n",
       "\t<tr><th></th><th scope=col>Color</th><th scope=col>DA</th><th scope=col>EA</th></tr>\n",
       "</thead>\n",
       "<tbody>\n",
       "\t<tr><th scope=row>Color</th><td>1.00</td><td>0.79</td><td>0.19</td></tr>\n",
       "\t<tr><th scope=row>DA</th><td>0.79</td><td>1.00</td><td>0.57</td></tr>\n",
       "\t<tr><th scope=row>EA</th><td>0.19</td><td>0.57</td><td>1.00</td></tr>\n",
       "</tbody>\n",
       "</table>\n"
      ],
      "text/latex": [
       "A matrix: 3 × 3 of type dbl\n",
       "\\begin{tabular}{r|lll}\n",
       "  & Color & DA & EA\\\\\n",
       "\\hline\n",
       "\tColor & 1.00 & 0.79 & 0.19\\\\\n",
       "\tDA & 0.79 & 1.00 & 0.57\\\\\n",
       "\tEA & 0.19 & 0.57 & 1.00\\\\\n",
       "\\end{tabular}\n"
      ],
      "text/markdown": [
       "\n",
       "A matrix: 3 × 3 of type dbl\n",
       "\n",
       "| <!--/--> | Color | DA | EA |\n",
       "|---|---|---|---|\n",
       "| Color | 1.00 | 0.79 | 0.19 |\n",
       "| DA | 0.79 | 1.00 | 0.57 |\n",
       "| EA | 0.19 | 0.57 | 1.00 |\n",
       "\n"
      ],
      "text/plain": [
       "      Color DA   EA  \n",
       "Color 1.00  0.79 0.19\n",
       "DA    0.79  1.00 0.57\n",
       "EA    0.19  0.57 1.00"
      ]
     },
     "metadata": {},
     "output_type": "display_data"
    },
    {
     "data": {
      "image/png": "[encoded data removed]",
      "text/plain": [
       "plot without title"
      ]
     },
     "metadata": {
      "image/png": {
       "height": 420,
       "width": 420
      }
     },
     "output_type": "display_data"
    },
    {
     "data": {
      "image/png": "[encoded data removed]",
      "text/plain": [
       "plot without title"
      ]
     },
     "metadata": {
      "image/png": {
       "height": 420,
       "width": 420
      }
     },
     "output_type": "display_data"
    }
   ],
   "source": [
    "s.corcircle(acpcafe$co)\n",
    "# matriz de correlaciones\n",
    "round(cor(Y),2)\n",
    "s.corcircle(acpcafe$co,fullcircle=FALSE)\n"
   ]
  },
  {
   "cell_type": "code",
   "execution_count": 21,
   "metadata": {},
   "outputs": [
    {
     "data": {
      "text/plain": [
       "   Color   DA\n",
       "DA  0.79     \n",
       "EA  0.19 0.57"
      ]
     },
     "metadata": {},
     "output_type": "display_data"
    }
   ],
   "source": [
    "as.dist(round(cor(Y),2))"
   ]
  },
  {
   "cell_type": "markdown",
   "metadata": {},
   "source": [
    "[Volver al inicio](#Contenido)"
   ]
  },
  {
   "cell_type": "markdown",
   "metadata": {
    "id": "6QDs5ObOt6ii"
   },
   "source": [
    "# Ayudas para la interpretación\n",
    "Es importante evitar malas lecturas de los ejes y planos factoriales. En las ayudas para la interpretación se encuentran índices para evitarlo. Otras ayudas orientan la lectura de las gráficas y la toma de decisiones metodológicas. A continuación se presentan las del ejemplo café y se recomienda leer sobre ellas en el capítulo 3 del libro EDM\n"
   ]
  },
  {
   "cell_type": "code",
   "execution_count": 22,
   "metadata": {
    "id": "PGmYZKRbt6ii"
   },
   "outputs": [],
   "source": [
    "ayuacpcafe<-inertia(acpcafe,T,T) # inertia.dudi es una función de ade4\n"
   ]
  },
  {
   "cell_type": "markdown",
   "metadata": {
    "id": "3LtTIrvqt6ii"
   },
   "source": [
    "#### Valores propios\n"
   ]
  },
  {
   "cell_type": "code",
   "execution_count": 23,
   "metadata": {
    "id": "3N41DBGpt6ii",
    "outputId": "462ff7f3-9871-497a-b345-4ab8407481d8"
   },
   "outputs": [
    {
     "data": {
      "text/html": [
       "<table class=\"dataframe\">\n",
       "<caption>A data.frame: 3 × 3</caption>\n",
       "<thead>\n",
       "\t<tr><th></th><th scope=col>inertia</th><th scope=col>cum</th><th scope=col>cum(%)</th></tr>\n",
       "\t<tr><th></th><th scope=col>&lt;dbl&gt;</th><th scope=col>&lt;dbl&gt;</th><th scope=col>&lt;dbl&gt;</th></tr>\n",
       "</thead>\n",
       "<tbody>\n",
       "\t<tr><th scope=row>Ax1</th><td>2.07</td><td>2.07</td><td> 68.90</td></tr>\n",
       "\t<tr><th scope=row>Ax2</th><td>0.82</td><td>2.89</td><td> 96.29</td></tr>\n",
       "\t<tr><th scope=row>Ax3</th><td>0.11</td><td>3.00</td><td>100.00</td></tr>\n",
       "</tbody>\n",
       "</table>\n"
      ],
      "text/latex": [
       "A data.frame: 3 × 3\n",
       "\\begin{tabular}{r|lll}\n",
       "  & inertia & cum & cum(\\%)\\\\\n",
       "  & <dbl> & <dbl> & <dbl>\\\\\n",
       "\\hline\n",
       "\tAx1 & 2.07 & 2.07 &  68.90\\\\\n",
       "\tAx2 & 0.82 & 2.89 &  96.29\\\\\n",
       "\tAx3 & 0.11 & 3.00 & 100.00\\\\\n",
       "\\end{tabular}\n"
      ],
      "text/markdown": [
       "\n",
       "A data.frame: 3 × 3\n",
       "\n",
       "| <!--/--> | inertia &lt;dbl&gt; | cum &lt;dbl&gt; | cum(%) &lt;dbl&gt; |\n",
       "|---|---|---|---|\n",
       "| Ax1 | 2.07 | 2.07 |  68.90 |\n",
       "| Ax2 | 0.82 | 2.89 |  96.29 |\n",
       "| Ax3 | 0.11 | 3.00 | 100.00 |\n",
       "\n"
      ],
      "text/plain": [
       "    inertia cum  cum(%)\n",
       "Ax1 2.07    2.07  68.90\n",
       "Ax2 0.82    2.89  96.29\n",
       "Ax3 0.11    3.00 100.00"
      ]
     },
     "metadata": {},
     "output_type": "display_data"
    },
    {
     "data": {
      "image/png": "[encoded data removed]",
      "text/plain": [
       "plot without title"
      ]
     },
     "metadata": {
      "image/png": {
       "height": 420,
       "width": 420
      }
     },
     "output_type": "display_data"
    }
   ],
   "source": [
    "round(ayuacpcafe$tot.inertia,2)\n",
    "barplot(ayuacpcafe$tot.inertia$inertia[3:1],hor=TRUE)\n",
    "abline(h=1,col=\"darkgreen\")"
   ]
  },
  {
   "cell_type": "markdown",
   "metadata": {
    "id": "-0Oqkmjrt6ii"
   },
   "source": [
    "#### Coordenadas y ayudas para las variables"
   ]
  },
  {
   "cell_type": "code",
   "execution_count": 24,
   "metadata": {
    "id": "BubH9eeXt6ii",
    "outputId": "de6c546b-0bfb-412e-8908-3e0523d29f90"
   },
   "outputs": [
    {
     "data": {
      "text/html": [
       "<style>\n",
       ".list-inline {list-style: none; margin:0; padding: 0}\n",
       ".list-inline>li {display: inline-block}\n",
       ".list-inline>li:not(:last-child)::after {content: \"\\00b7\"; padding: 0 .5ex}\n",
       "</style>\n",
       "<ol class=list-inline><li>'tot.inertia'</li><li>'row.contrib'</li><li>'row.abs'</li><li>'row.rel'</li><li>'row.cum'</li><li>'col.contrib'</li><li>'col.abs'</li><li>'col.rel'</li><li>'col.cum'</li><li>'nf'</li><li>'call'</li></ol>\n"
      ],
      "text/latex": [
       "\\begin{enumerate*}\n",
       "\\item 'tot.inertia'\n",
       "\\item 'row.contrib'\n",
       "\\item 'row.abs'\n",
       "\\item 'row.rel'\n",
       "\\item 'row.cum'\n",
       "\\item 'col.contrib'\n",
       "\\item 'col.abs'\n",
       "\\item 'col.rel'\n",
       "\\item 'col.cum'\n",
       "\\item 'nf'\n",
       "\\item 'call'\n",
       "\\end{enumerate*}\n"
      ],
      "text/markdown": [
       "1. 'tot.inertia'\n",
       "2. 'row.contrib'\n",
       "3. 'row.abs'\n",
       "4. 'row.rel'\n",
       "5. 'row.cum'\n",
       "6. 'col.contrib'\n",
       "7. 'col.abs'\n",
       "8. 'col.rel'\n",
       "9. 'col.cum'\n",
       "10. 'nf'\n",
       "11. 'call'\n",
       "\n",
       "\n"
      ],
      "text/plain": [
       " [1] \"tot.inertia\" \"row.contrib\" \"row.abs\"     \"row.rel\"     \"row.cum\"    \n",
       " [6] \"col.contrib\" \"col.abs\"     \"col.rel\"     \"col.cum\"     \"nf\"         \n",
       "[11] \"call\"       "
      ]
     },
     "metadata": {},
     "output_type": "display_data"
    }
   ],
   "source": [
    "names(ayuacpcafe)"
   ]
  },
  {
   "cell_type": "code",
   "execution_count": 25,
   "metadata": {
    "id": "SNc-9BDBt6ij",
    "outputId": "d4b92698-339b-476f-e4f1-dc56a6a3f1d4"
   },
   "outputs": [
    {
     "data": {
      "text/html": [
       "<table class=\"dataframe\">\n",
       "<caption>A data.frame: 3 × 10</caption>\n",
       "<thead>\n",
       "\t<tr><th></th><th scope=col>Comp1</th><th scope=col>Comp2</th><th scope=col>Comp3</th><th scope=col>Ca.Axis1</th><th scope=col>Ca.Axis2</th><th scope=col>Ca.Axis3</th><th scope=col>Cos2.Axis1</th><th scope=col>Cos2.Axis2</th><th scope=col>Cos2.Axis3</th><th scope=col>conInercia</th></tr>\n",
       "\t<tr><th></th><th scope=col>&lt;dbl&gt;</th><th scope=col>&lt;dbl&gt;</th><th scope=col>&lt;dbl&gt;</th><th scope=col>&lt;dbl&gt;</th><th scope=col>&lt;dbl&gt;</th><th scope=col>&lt;dbl&gt;</th><th scope=col>&lt;dbl&gt;</th><th scope=col>&lt;dbl&gt;</th><th scope=col>&lt;dbl&gt;</th><th scope=col>&lt;dbl&gt;</th></tr>\n",
       "</thead>\n",
       "<tbody>\n",
       "\t<tr><th scope=row>Color</th><td>0.83</td><td> 0.52</td><td> 0.19</td><td>33.58</td><td>32.65</td><td>33.77</td><td>69.41</td><td> 26.83</td><td> 3.76</td><td>33.33</td></tr>\n",
       "\t<tr><th scope=row>DA</th><td>0.97</td><td> 0.06</td><td>-0.25</td><td>45.28</td><td> 0.45</td><td>54.28</td><td>93.59</td><td>  0.37</td><td>-6.04</td><td>33.33</td></tr>\n",
       "\t<tr><th scope=row>EA</th><td>0.66</td><td>-0.74</td><td> 0.12</td><td>21.14</td><td>66.90</td><td>11.96</td><td>43.70</td><td>-54.97</td><td> 1.33</td><td>33.33</td></tr>\n",
       "</tbody>\n",
       "</table>\n"
      ],
      "text/latex": [
       "A data.frame: 3 × 10\n",
       "\\begin{tabular}{r|llllllllll}\n",
       "  & Comp1 & Comp2 & Comp3 & Ca.Axis1 & Ca.Axis2 & Ca.Axis3 & Cos2.Axis1 & Cos2.Axis2 & Cos2.Axis3 & conInercia\\\\\n",
       "  & <dbl> & <dbl> & <dbl> & <dbl> & <dbl> & <dbl> & <dbl> & <dbl> & <dbl> & <dbl>\\\\\n",
       "\\hline\n",
       "\tColor & 0.83 &  0.52 &  0.19 & 33.58 & 32.65 & 33.77 & 69.41 &  26.83 &  3.76 & 33.33\\\\\n",
       "\tDA & 0.97 &  0.06 & -0.25 & 45.28 &  0.45 & 54.28 & 93.59 &   0.37 & -6.04 & 33.33\\\\\n",
       "\tEA & 0.66 & -0.74 &  0.12 & 21.14 & 66.90 & 11.96 & 43.70 & -54.97 &  1.33 & 33.33\\\\\n",
       "\\end{tabular}\n"
      ],
      "text/markdown": [
       "\n",
       "A data.frame: 3 × 10\n",
       "\n",
       "| <!--/--> | Comp1 &lt;dbl&gt; | Comp2 &lt;dbl&gt; | Comp3 &lt;dbl&gt; | Ca.Axis1 &lt;dbl&gt; | Ca.Axis2 &lt;dbl&gt; | Ca.Axis3 &lt;dbl&gt; | Cos2.Axis1 &lt;dbl&gt; | Cos2.Axis2 &lt;dbl&gt; | Cos2.Axis3 &lt;dbl&gt; | conInercia &lt;dbl&gt; |\n",
       "|---|---|---|---|---|---|---|---|---|---|---|\n",
       "| Color | 0.83 |  0.52 |  0.19 | 33.58 | 32.65 | 33.77 | 69.41 |  26.83 |  3.76 | 33.33 |\n",
       "| DA | 0.97 |  0.06 | -0.25 | 45.28 |  0.45 | 54.28 | 93.59 |   0.37 | -6.04 | 33.33 |\n",
       "| EA | 0.66 | -0.74 |  0.12 | 21.14 | 66.90 | 11.96 | 43.70 | -54.97 |  1.33 | 33.33 |\n",
       "\n"
      ],
      "text/plain": [
       "      Comp1 Comp2 Comp3 Ca.Axis1 Ca.Axis2 Ca.Axis3 Cos2.Axis1 Cos2.Axis2\n",
       "Color 0.83   0.52  0.19 33.58    32.65    33.77    69.41       26.83    \n",
       "DA    0.97   0.06 -0.25 45.28     0.45    54.28    93.59        0.37    \n",
       "EA    0.66  -0.74  0.12 21.14    66.90    11.96    43.70      -54.97    \n",
       "      Cos2.Axis3 conInercia\n",
       "Color  3.76      33.33     \n",
       "DA    -6.04      33.33     \n",
       "EA     1.33      33.33     "
      ]
     },
     "metadata": {},
     "output_type": "display_data"
    }
   ],
   "source": [
    "attach(ayuacpcafe)\n",
    "round(cbind(acpcafe$co,Ca=col.abs,Cos2=col.rel,conInercia=col.contrib),2)\n",
    "detach(ayuacpcafe)"
   ]
  },
  {
   "cell_type": "markdown",
   "metadata": {
    "id": "71c6MvYHt6ij"
   },
   "source": [
    "#### Coordenadas y ayudas para los cafés"
   ]
  },
  {
   "cell_type": "code",
   "execution_count": 26,
   "metadata": {
    "id": "T3tIhKOut6ij",
    "outputId": "c1b52eb7-3203-45df-93f0-8ebe9626cda2"
   },
   "outputs": [
    {
     "data": {
      "text/html": [
       "<table class=\"dataframe\">\n",
       "<caption>A data.frame: 10 × 10</caption>\n",
       "<thead>\n",
       "\t<tr><th></th><th scope=col>Axis1</th><th scope=col>Axis2</th><th scope=col>Axis3</th><th scope=col>Ca.Axis1</th><th scope=col>Ca.Axis2</th><th scope=col>Ca.Axis3</th><th scope=col>Cos2.Axis1</th><th scope=col>Cos2.Axis2</th><th scope=col>Cos2.Axis3</th><th scope=col>conInercia</th></tr>\n",
       "\t<tr><th></th><th scope=col>&lt;dbl&gt;</th><th scope=col>&lt;dbl&gt;</th><th scope=col>&lt;dbl&gt;</th><th scope=col>&lt;dbl&gt;</th><th scope=col>&lt;dbl&gt;</th><th scope=col>&lt;dbl&gt;</th><th scope=col>&lt;dbl&gt;</th><th scope=col>&lt;dbl&gt;</th><th scope=col>&lt;dbl&gt;</th><th scope=col>&lt;dbl&gt;</th></tr>\n",
       "</thead>\n",
       "<tbody>\n",
       "\t<tr><th scope=row>ExCl</th><td>-0.89</td><td> 1.68</td><td>-0.11</td><td> 3.80</td><td>34.19</td><td> 1.01</td><td>-21.80</td><td> 77.89</td><td>-0.31</td><td>12.02</td></tr>\n",
       "\t<tr><th scope=row>C40M</th><td> 2.68</td><td> 0.22</td><td>-0.29</td><td>34.72</td><td> 0.60</td><td> 7.39</td><td> 98.20</td><td>  0.67</td><td>-1.13</td><td>24.36</td></tr>\n",
       "\t<tr><th scope=row>C40C</th><td> 1.18</td><td>-0.15</td><td> 0.33</td><td> 6.78</td><td> 0.26</td><td> 9.85</td><td> 91.45</td><td> -1.39</td><td> 7.16</td><td> 5.11</td></tr>\n",
       "\t<tr><th scope=row>C20M</th><td> 1.14</td><td> 1.02</td><td>-0.35</td><td> 6.31</td><td>12.77</td><td>10.77</td><td> 52.75</td><td> 42.41</td><td>-4.84</td><td> 8.25</td></tr>\n",
       "\t<tr><th scope=row>C20C</th><td>-0.44</td><td> 0.82</td><td> 0.79</td><td> 0.95</td><td> 8.23</td><td>55.37</td><td>-13.20</td><td> 45.42</td><td>41.38</td><td> 4.97</td></tr>\n",
       "\t<tr><th scope=row>ExOs</th><td>-2.47</td><td> 0.04</td><td>-0.38</td><td>29.49</td><td> 0.02</td><td>12.73</td><td>-97.70</td><td>  0.02</td><td>-2.27</td><td>20.79</td></tr>\n",
       "\t<tr><th scope=row>O40M</th><td> 0.98</td><td>-1.01</td><td> 0.06</td><td> 4.60</td><td>12.44</td><td> 0.35</td><td> 48.09</td><td>-51.72</td><td> 0.19</td><td> 6.59</td></tr>\n",
       "\t<tr><th scope=row>O40C</th><td> 0.15</td><td>-1.31</td><td>-0.05</td><td> 0.10</td><td>20.98</td><td> 0.22</td><td>  1.21</td><td>-98.65</td><td>-0.14</td><td> 5.82</td></tr>\n",
       "\t<tr><th scope=row>O20M</th><td>-1.04</td><td>-0.65</td><td> 0.11</td><td> 5.24</td><td> 5.07</td><td> 1.02</td><td>-71.67</td><td>-27.58</td><td> 0.75</td><td> 5.03</td></tr>\n",
       "\t<tr><th scope=row>O20C</th><td>-1.29</td><td>-0.67</td><td>-0.12</td><td> 8.00</td><td> 5.43</td><td> 1.29</td><td>-78.22</td><td>-21.10</td><td>-0.68</td><td> 7.05</td></tr>\n",
       "</tbody>\n",
       "</table>\n"
      ],
      "text/latex": [
       "A data.frame: 10 × 10\n",
       "\\begin{tabular}{r|llllllllll}\n",
       "  & Axis1 & Axis2 & Axis3 & Ca.Axis1 & Ca.Axis2 & Ca.Axis3 & Cos2.Axis1 & Cos2.Axis2 & Cos2.Axis3 & conInercia\\\\\n",
       "  & <dbl> & <dbl> & <dbl> & <dbl> & <dbl> & <dbl> & <dbl> & <dbl> & <dbl> & <dbl>\\\\\n",
       "\\hline\n",
       "\tExCl & -0.89 &  1.68 & -0.11 &  3.80 & 34.19 &  1.01 & -21.80 &  77.89 & -0.31 & 12.02\\\\\n",
       "\tC40M &  2.68 &  0.22 & -0.29 & 34.72 &  0.60 &  7.39 &  98.20 &   0.67 & -1.13 & 24.36\\\\\n",
       "\tC40C &  1.18 & -0.15 &  0.33 &  6.78 &  0.26 &  9.85 &  91.45 &  -1.39 &  7.16 &  5.11\\\\\n",
       "\tC20M &  1.14 &  1.02 & -0.35 &  6.31 & 12.77 & 10.77 &  52.75 &  42.41 & -4.84 &  8.25\\\\\n",
       "\tC20C & -0.44 &  0.82 &  0.79 &  0.95 &  8.23 & 55.37 & -13.20 &  45.42 & 41.38 &  4.97\\\\\n",
       "\tExOs & -2.47 &  0.04 & -0.38 & 29.49 &  0.02 & 12.73 & -97.70 &   0.02 & -2.27 & 20.79\\\\\n",
       "\tO40M &  0.98 & -1.01 &  0.06 &  4.60 & 12.44 &  0.35 &  48.09 & -51.72 &  0.19 &  6.59\\\\\n",
       "\tO40C &  0.15 & -1.31 & -0.05 &  0.10 & 20.98 &  0.22 &   1.21 & -98.65 & -0.14 &  5.82\\\\\n",
       "\tO20M & -1.04 & -0.65 &  0.11 &  5.24 &  5.07 &  1.02 & -71.67 & -27.58 &  0.75 &  5.03\\\\\n",
       "\tO20C & -1.29 & -0.67 & -0.12 &  8.00 &  5.43 &  1.29 & -78.22 & -21.10 & -0.68 &  7.05\\\\\n",
       "\\end{tabular}\n"
      ],
      "text/markdown": [
       "\n",
       "A data.frame: 10 × 10\n",
       "\n",
       "| <!--/--> | Axis1 &lt;dbl&gt; | Axis2 &lt;dbl&gt; | Axis3 &lt;dbl&gt; | Ca.Axis1 &lt;dbl&gt; | Ca.Axis2 &lt;dbl&gt; | Ca.Axis3 &lt;dbl&gt; | Cos2.Axis1 &lt;dbl&gt; | Cos2.Axis2 &lt;dbl&gt; | Cos2.Axis3 &lt;dbl&gt; | conInercia &lt;dbl&gt; |\n",
       "|---|---|---|---|---|---|---|---|---|---|---|\n",
       "| ExCl | -0.89 |  1.68 | -0.11 |  3.80 | 34.19 |  1.01 | -21.80 |  77.89 | -0.31 | 12.02 |\n",
       "| C40M |  2.68 |  0.22 | -0.29 | 34.72 |  0.60 |  7.39 |  98.20 |   0.67 | -1.13 | 24.36 |\n",
       "| C40C |  1.18 | -0.15 |  0.33 |  6.78 |  0.26 |  9.85 |  91.45 |  -1.39 |  7.16 |  5.11 |\n",
       "| C20M |  1.14 |  1.02 | -0.35 |  6.31 | 12.77 | 10.77 |  52.75 |  42.41 | -4.84 |  8.25 |\n",
       "| C20C | -0.44 |  0.82 |  0.79 |  0.95 |  8.23 | 55.37 | -13.20 |  45.42 | 41.38 |  4.97 |\n",
       "| ExOs | -2.47 |  0.04 | -0.38 | 29.49 |  0.02 | 12.73 | -97.70 |   0.02 | -2.27 | 20.79 |\n",
       "| O40M |  0.98 | -1.01 |  0.06 |  4.60 | 12.44 |  0.35 |  48.09 | -51.72 |  0.19 |  6.59 |\n",
       "| O40C |  0.15 | -1.31 | -0.05 |  0.10 | 20.98 |  0.22 |   1.21 | -98.65 | -0.14 |  5.82 |\n",
       "| O20M | -1.04 | -0.65 |  0.11 |  5.24 |  5.07 |  1.02 | -71.67 | -27.58 |  0.75 |  5.03 |\n",
       "| O20C | -1.29 | -0.67 | -0.12 |  8.00 |  5.43 |  1.29 | -78.22 | -21.10 | -0.68 |  7.05 |\n",
       "\n"
      ],
      "text/plain": [
       "     Axis1 Axis2 Axis3 Ca.Axis1 Ca.Axis2 Ca.Axis3 Cos2.Axis1 Cos2.Axis2\n",
       "ExCl -0.89  1.68 -0.11  3.80    34.19     1.01    -21.80      77.89    \n",
       "C40M  2.68  0.22 -0.29 34.72     0.60     7.39     98.20       0.67    \n",
       "C40C  1.18 -0.15  0.33  6.78     0.26     9.85     91.45      -1.39    \n",
       "C20M  1.14  1.02 -0.35  6.31    12.77    10.77     52.75      42.41    \n",
       "C20C -0.44  0.82  0.79  0.95     8.23    55.37    -13.20      45.42    \n",
       "ExOs -2.47  0.04 -0.38 29.49     0.02    12.73    -97.70       0.02    \n",
       "O40M  0.98 -1.01  0.06  4.60    12.44     0.35     48.09     -51.72    \n",
       "O40C  0.15 -1.31 -0.05  0.10    20.98     0.22      1.21     -98.65    \n",
       "O20M -1.04 -0.65  0.11  5.24     5.07     1.02    -71.67     -27.58    \n",
       "O20C -1.29 -0.67 -0.12  8.00     5.43     1.29    -78.22     -21.10    \n",
       "     Cos2.Axis3 conInercia\n",
       "ExCl -0.31      12.02     \n",
       "C40M -1.13      24.36     \n",
       "C40C  7.16       5.11     \n",
       "C20M -4.84       8.25     \n",
       "C20C 41.38       4.97     \n",
       "ExOs -2.27      20.79     \n",
       "O40M  0.19       6.59     \n",
       "O40C -0.14       5.82     \n",
       "O20M  0.75       5.03     \n",
       "O20C -0.68       7.05     "
      ]
     },
     "metadata": {},
     "output_type": "display_data"
    }
   ],
   "source": [
    "attach(ayuacpcafe)\n",
    "round(cbind(acpcafe$li,Ca=row.abs,Cos2=row.rel,conInercia=row.contrib),2)\n",
    "detach(ayuacpcafe)"
   ]
  },
  {
   "cell_type": "markdown",
   "metadata": {
    "id": "brEMtbpst6io",
    "jp-MarkdownHeadingCollapsed": true,
    "tags": []
   },
   "source": [
    "# Proyección de elementos suplementarios o ilustrativos\n",
    "\n",
    "Sobre los planos factoriales de las variables se pueden proyectar variables continuas que no participaron en el análisis, lo que enriquece los análisis.\n",
    "\n",
    "En los planos factoriales de los individuos se pueden proyectar: individuos suplementarios, variables cualitativas, y los antiguos ejes unitarios para las variables activas que estén bien representadas.\n",
    "\n",
    "Ver capítulos 3 y 4 del libro EDM."
   ]
  },
  {
   "cell_type": "markdown",
   "metadata": {},
   "source": [
    "# FIN"
   ]
  },
  {
   "cell_type": "markdown",
   "metadata": {},
   "source": [
    "[Volver al inicio](#Contenido)"
   ]
  }
 ],
 "metadata": {
  "colab": {
   "collapsed_sections": [],
   "name": "ACP.ipynb",
   "provenance": []
  },
  "kernelspec": {
   "display_name": "R",
   "language": "R",
   "name": "ir"
  },
  "language_info": {
   "codemirror_mode": "r",
   "file_extension": ".r",
   "mimetype": "text/x-r-source",
   "name": "R",
   "pygments_lexer": "r",
   "version": "4.2.1"
  }
 },
 "nbformat": 4,
 "nbformat_minor": 4
}
