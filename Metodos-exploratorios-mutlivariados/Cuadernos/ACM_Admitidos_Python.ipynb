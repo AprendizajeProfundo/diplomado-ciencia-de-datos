{
 "cells": [
  {
   "cell_type": "markdown",
   "metadata": {},
   "source": [
    "# **<p align=\"center\"><font size=5 color=#006600>Diplomado en Ciencia de Datos**"
   ]
  },
  {
   "cell_type": "markdown",
   "metadata": {},
   "source": [
    "# **<p align=\"center\"><font size=5 color=#006600>Análisis de correspondencias múltiples (ACM)**"
   ]
  },
  {
   "attachments": {},
   "cell_type": "markdown",
   "metadata": {},
   "source": [
    "# **<font size=5 color=#0000FF>Autor**"
   ]
  },
  {
   "attachments": {},
   "cell_type": "markdown",
   "metadata": {},
   "source": [
    "L. Felipe Castañeda G., lufecasta@gmail.com, https://github.com/lfelipecas."
   ]
  },
  {
   "attachments": {},
   "cell_type": "markdown",
   "metadata": {},
   "source": [
    "Adaptado de [ACMcienciaDatos.ipynb](https://github.com/AprendizajeProfundo/diplomado-ciencia-de-datos/blob/main/Metodos-exploratorios-mutlivariados/Cuadernos/ACMcienciaDatos.ipynb)."
   ]
  },
  {
   "attachments": {},
   "cell_type": "markdown",
   "metadata": {},
   "source": [
    "Este cuaderno es una adaptación a Python del cuaderno [ACMcienciaDatos.ipynb](https://github.com/AprendizajeProfundo/diplomado-ciencia-de-datos/blob/main/Metodos-exploratorios-mutlivariados/Cuadernos/ACMcienciaDatos.ipynb), en el cual se realiza el Análisis de Correspondecias Múltiples (ACM) usando R, de los admitidos a la Facultad de Ciencias de la Universidad Nacional de Colombia 2013-1.\n",
    "\n",
    "Este cuaderno no es tan detallado como el original en R, pero es un ejemplo práctico en Python en el que se muestran los principales resultados del cuaderno original, y por lo tanto se puede llegar a las mismas conclusiones. Para mayor información de los detalles remitirse a [ACMcienciaDatos.ipynb](https://github.com/AprendizajeProfundo/diplomado-ciencia-de-datos/blob/main/Metodos-exploratorios-mutlivariados/Cuadernos/ACMcienciaDatos.ipynb)."
   ]
  },
  {
   "cell_type": "code",
   "execution_count": 1,
   "metadata": {},
   "outputs": [],
   "source": [
    "# Importar las librerías necesarias\n",
    "import numpy as np # Para cálculos numéricos\n",
    "import pandas as pd # Para manipulación y análisis de datos\n",
    "import plotly.express as px # Para crear visualizaciones\n",
    "import plotly.graph_objects as go # Para crear visualizaciones personalizadas\n",
    "import prince # Para realizar el análisis de correspondecias múltiples (ACM)"
   ]
  },
  {
   "attachments": {},
   "cell_type": "markdown",
   "metadata": {},
   "source": [
    "### Tabla de datos del ejemplo admitidos"
   ]
  },
  {
   "cell_type": "code",
   "execution_count": 2,
   "metadata": {},
   "outputs": [
    {
     "data": {
      "text/html": [
       "<div>\n",
       "<style scoped>\n",
       "    .dataframe tbody tr th:only-of-type {\n",
       "        vertical-align: middle;\n",
       "    }\n",
       "\n",
       "    .dataframe tbody tr th {\n",
       "        vertical-align: top;\n",
       "    }\n",
       "\n",
       "    .dataframe thead th {\n",
       "        text-align: right;\n",
       "    }\n",
       "</style>\n",
       "<table border=\"1\" class=\"dataframe\">\n",
       "  <thead>\n",
       "    <tr style=\"text-align: right;\">\n",
       "      <th></th>\n",
       "      <th>carr</th>\n",
       "      <th>mate</th>\n",
       "      <th>cien</th>\n",
       "      <th>soci</th>\n",
       "      <th>text</th>\n",
       "      <th>imag</th>\n",
       "      <th>exam</th>\n",
       "      <th>gene</th>\n",
       "      <th>estr</th>\n",
       "      <th>orig</th>\n",
       "      <th>edad</th>\n",
       "      <th>niLE</th>\n",
       "      <th>niMa</th>\n",
       "      <th>stra</th>\n",
       "      <th>age</th>\n",
       "    </tr>\n",
       "  </thead>\n",
       "  <tbody>\n",
       "    <tr>\n",
       "      <th>0</th>\n",
       "      <td>Biol</td>\n",
       "      <td>12.03</td>\n",
       "      <td>10.84</td>\n",
       "      <td>12.08</td>\n",
       "      <td>10.62</td>\n",
       "      <td>10.68</td>\n",
       "      <td>696.4424</td>\n",
       "      <td>F</td>\n",
       "      <td>alto</td>\n",
       "      <td>Bogo</td>\n",
       "      <td>a17</td>\n",
       "      <td>noLE</td>\n",
       "      <td>siMa</td>\n",
       "      <td>E4</td>\n",
       "      <td>17</td>\n",
       "    </tr>\n",
       "    <tr>\n",
       "      <th>1</th>\n",
       "      <td>Biol</td>\n",
       "      <td>11.75</td>\n",
       "      <td>11.16</td>\n",
       "      <td>11.71</td>\n",
       "      <td>10.35</td>\n",
       "      <td>11.60</td>\n",
       "      <td>703.2127</td>\n",
       "      <td>M</td>\n",
       "      <td>medio</td>\n",
       "      <td>Bogo</td>\n",
       "      <td>a17</td>\n",
       "      <td>noLE</td>\n",
       "      <td>siMa</td>\n",
       "      <td>E3</td>\n",
       "      <td>17</td>\n",
       "    </tr>\n",
       "    <tr>\n",
       "      <th>2</th>\n",
       "      <td>Biol</td>\n",
       "      <td>10.03</td>\n",
       "      <td>10.51</td>\n",
       "      <td>10.70</td>\n",
       "      <td>9.57</td>\n",
       "      <td>8.80</td>\n",
       "      <td>503.9774</td>\n",
       "      <td>F</td>\n",
       "      <td>bajo</td>\n",
       "      <td>Bogo</td>\n",
       "      <td>a18</td>\n",
       "      <td>siLE</td>\n",
       "      <td>siMa</td>\n",
       "      <td>E2</td>\n",
       "      <td>18</td>\n",
       "    </tr>\n",
       "    <tr>\n",
       "      <th>3</th>\n",
       "      <td>Biol</td>\n",
       "      <td>11.48</td>\n",
       "      <td>11.48</td>\n",
       "      <td>11.71</td>\n",
       "      <td>10.91</td>\n",
       "      <td>11.60</td>\n",
       "      <td>714.7407</td>\n",
       "      <td>F</td>\n",
       "      <td>bajo</td>\n",
       "      <td>Bogo</td>\n",
       "      <td>a18</td>\n",
       "      <td>noLE</td>\n",
       "      <td>siMa</td>\n",
       "      <td>E2</td>\n",
       "      <td>18</td>\n",
       "    </tr>\n",
       "    <tr>\n",
       "      <th>4</th>\n",
       "      <td>Biol</td>\n",
       "      <td>11.21</td>\n",
       "      <td>10.84</td>\n",
       "      <td>12.08</td>\n",
       "      <td>11.21</td>\n",
       "      <td>11.26</td>\n",
       "      <td>693.1449</td>\n",
       "      <td>M</td>\n",
       "      <td>medio</td>\n",
       "      <td>Bogo</td>\n",
       "      <td>a17</td>\n",
       "      <td>noLE</td>\n",
       "      <td>siMa</td>\n",
       "      <td>E3</td>\n",
       "      <td>17</td>\n",
       "    </tr>\n",
       "  </tbody>\n",
       "</table>\n",
       "</div>"
      ],
      "text/plain": [
       "   carr   mate   cien   soci   text   imag      exam gene   estr  orig edad  \\\n",
       "0  Biol  12.03  10.84  12.08  10.62  10.68  696.4424    F   alto  Bogo  a17   \n",
       "1  Biol  11.75  11.16  11.71  10.35  11.60  703.2127    M  medio  Bogo  a17   \n",
       "2  Biol  10.03  10.51  10.70   9.57   8.80  503.9774    F   bajo  Bogo  a18   \n",
       "3  Biol  11.48  11.48  11.71  10.91  11.60  714.7407    F   bajo  Bogo  a18   \n",
       "4  Biol  11.21  10.84  12.08  11.21  11.26  693.1449    M  medio  Bogo  a17   \n",
       "\n",
       "   niLE  niMa stra  age  \n",
       "0  noLE  siMa   E4   17  \n",
       "1  noLE  siMa   E3   17  \n",
       "2  siLE  siMa   E2   18  \n",
       "3  noLE  siMa   E2   18  \n",
       "4  noLE  siMa   E3   17  "
      ]
     },
     "execution_count": 2,
     "metadata": {},
     "output_type": "execute_result"
    }
   ],
   "source": [
    "# Cargar archivo CSV de datos (admi.csv) en un DataFrame\n",
    "# y visualizar las primeras filas del DataFrame admi\n",
    "admi = pd.read_csv('../Data/admi.csv')\n",
    "admi.head()"
   ]
  },
  {
   "cell_type": "code",
   "execution_count": 3,
   "metadata": {},
   "outputs": [
    {
     "name": "stdout",
     "output_type": "stream",
     "text": [
      "<class 'pandas.core.frame.DataFrame'>\n",
      "RangeIndex: 445 entries, 0 to 444\n",
      "Data columns (total 15 columns):\n",
      " #   Column  Non-Null Count  Dtype  \n",
      "---  ------  --------------  -----  \n",
      " 0   carr    445 non-null    object \n",
      " 1   mate    445 non-null    float64\n",
      " 2   cien    445 non-null    float64\n",
      " 3   soci    445 non-null    float64\n",
      " 4   text    445 non-null    float64\n",
      " 5   imag    445 non-null    float64\n",
      " 6   exam    445 non-null    float64\n",
      " 7   gene    445 non-null    object \n",
      " 8   estr    445 non-null    object \n",
      " 9   orig    445 non-null    object \n",
      " 10  edad    445 non-null    object \n",
      " 11  niLE    445 non-null    object \n",
      " 12  niMa    445 non-null    object \n",
      " 13  stra    445 non-null    object \n",
      " 14  age     445 non-null    int64  \n",
      "dtypes: float64(6), int64(1), object(8)\n",
      "memory usage: 52.3+ KB\n"
     ]
    }
   ],
   "source": [
    "# Mostrar información del DataFrame admi\n",
    "admi.info()"
   ]
  },
  {
   "attachments": {},
   "cell_type": "markdown",
   "metadata": {},
   "source": [
    "### Tabla de datos Y"
   ]
  },
  {
   "cell_type": "code",
   "execution_count": 4,
   "metadata": {},
   "outputs": [
    {
     "data": {
      "text/html": [
       "<div>\n",
       "<style scoped>\n",
       "    .dataframe tbody tr th:only-of-type {\n",
       "        vertical-align: middle;\n",
       "    }\n",
       "\n",
       "    .dataframe tbody tr th {\n",
       "        vertical-align: top;\n",
       "    }\n",
       "\n",
       "    .dataframe thead th {\n",
       "        text-align: right;\n",
       "    }\n",
       "</style>\n",
       "<table border=\"1\" class=\"dataframe\">\n",
       "  <thead>\n",
       "    <tr style=\"text-align: right;\">\n",
       "      <th></th>\n",
       "      <th>carr</th>\n",
       "      <th>gene</th>\n",
       "      <th>estr</th>\n",
       "      <th>orig</th>\n",
       "      <th>edad</th>\n",
       "    </tr>\n",
       "  </thead>\n",
       "  <tbody>\n",
       "    <tr>\n",
       "      <th>0</th>\n",
       "      <td>Biol</td>\n",
       "      <td>F</td>\n",
       "      <td>alto</td>\n",
       "      <td>Bogo</td>\n",
       "      <td>a17</td>\n",
       "    </tr>\n",
       "    <tr>\n",
       "      <th>1</th>\n",
       "      <td>Biol</td>\n",
       "      <td>M</td>\n",
       "      <td>medio</td>\n",
       "      <td>Bogo</td>\n",
       "      <td>a17</td>\n",
       "    </tr>\n",
       "    <tr>\n",
       "      <th>2</th>\n",
       "      <td>Biol</td>\n",
       "      <td>F</td>\n",
       "      <td>bajo</td>\n",
       "      <td>Bogo</td>\n",
       "      <td>a18</td>\n",
       "    </tr>\n",
       "    <tr>\n",
       "      <th>3</th>\n",
       "      <td>Biol</td>\n",
       "      <td>F</td>\n",
       "      <td>bajo</td>\n",
       "      <td>Bogo</td>\n",
       "      <td>a18</td>\n",
       "    </tr>\n",
       "    <tr>\n",
       "      <th>4</th>\n",
       "      <td>Biol</td>\n",
       "      <td>M</td>\n",
       "      <td>medio</td>\n",
       "      <td>Bogo</td>\n",
       "      <td>a17</td>\n",
       "    </tr>\n",
       "  </tbody>\n",
       "</table>\n",
       "</div>"
      ],
      "text/plain": [
       "   carr gene   estr  orig edad\n",
       "0  Biol    F   alto  Bogo  a17\n",
       "1  Biol    M  medio  Bogo  a17\n",
       "2  Biol    F   bajo  Bogo  a18\n",
       "3  Biol    F   bajo  Bogo  a18\n",
       "4  Biol    M  medio  Bogo  a17"
      ]
     },
     "execution_count": 4,
     "metadata": {},
     "output_type": "execute_result"
    }
   ],
   "source": [
    "# Seleccionar las columnas 'carr', 'gene', 'estr', 'orig', 'edad' del DataFrame admi\n",
    "# y crear un nuevo DataFrame llamado Y_raw\n",
    "Y_raw = admi.loc[:,['carr','gene','estr','orig','edad']]\n",
    "Y_raw.head()"
   ]
  },
  {
   "cell_type": "code",
   "execution_count": 5,
   "metadata": {},
   "outputs": [
    {
     "data": {
      "text/html": [
       "<div>\n",
       "<style scoped>\n",
       "    .dataframe tbody tr th:only-of-type {\n",
       "        vertical-align: middle;\n",
       "    }\n",
       "\n",
       "    .dataframe tbody tr th {\n",
       "        vertical-align: top;\n",
       "    }\n",
       "\n",
       "    .dataframe thead th {\n",
       "        text-align: right;\n",
       "    }\n",
       "</style>\n",
       "<table border=\"1\" class=\"dataframe\">\n",
       "  <thead>\n",
       "    <tr style=\"text-align: right;\">\n",
       "      <th></th>\n",
       "      <th>carr</th>\n",
       "      <th>gene</th>\n",
       "      <th>estr</th>\n",
       "      <th>orig</th>\n",
       "      <th>edad</th>\n",
       "      <th>Carrera_Biol</th>\n",
       "      <th>Carrera_Esta</th>\n",
       "      <th>Carrera_Farm</th>\n",
       "      <th>Carrera_Fisi</th>\n",
       "      <th>Carrera_Geol</th>\n",
       "      <th>...</th>\n",
       "      <th>Edad_a16m</th>\n",
       "      <th>Edad_a17</th>\n",
       "      <th>Edad_a18</th>\n",
       "      <th>Edad_a19M</th>\n",
       "      <th>Estrato_alto</th>\n",
       "      <th>Estrato_bajo</th>\n",
       "      <th>Estrato_medio</th>\n",
       "      <th>Origen_Bogo</th>\n",
       "      <th>Origen_Cund</th>\n",
       "      <th>Origen_Otro</th>\n",
       "    </tr>\n",
       "  </thead>\n",
       "  <tbody>\n",
       "    <tr>\n",
       "      <th>0</th>\n",
       "      <td>Biol</td>\n",
       "      <td>F</td>\n",
       "      <td>alto</td>\n",
       "      <td>Bogo</td>\n",
       "      <td>a17</td>\n",
       "      <td>1</td>\n",
       "      <td>0</td>\n",
       "      <td>0</td>\n",
       "      <td>0</td>\n",
       "      <td>0</td>\n",
       "      <td>...</td>\n",
       "      <td>0</td>\n",
       "      <td>1</td>\n",
       "      <td>0</td>\n",
       "      <td>0</td>\n",
       "      <td>1</td>\n",
       "      <td>0</td>\n",
       "      <td>0</td>\n",
       "      <td>1</td>\n",
       "      <td>0</td>\n",
       "      <td>0</td>\n",
       "    </tr>\n",
       "    <tr>\n",
       "      <th>1</th>\n",
       "      <td>Biol</td>\n",
       "      <td>M</td>\n",
       "      <td>medio</td>\n",
       "      <td>Bogo</td>\n",
       "      <td>a17</td>\n",
       "      <td>1</td>\n",
       "      <td>0</td>\n",
       "      <td>0</td>\n",
       "      <td>0</td>\n",
       "      <td>0</td>\n",
       "      <td>...</td>\n",
       "      <td>0</td>\n",
       "      <td>1</td>\n",
       "      <td>0</td>\n",
       "      <td>0</td>\n",
       "      <td>0</td>\n",
       "      <td>0</td>\n",
       "      <td>1</td>\n",
       "      <td>1</td>\n",
       "      <td>0</td>\n",
       "      <td>0</td>\n",
       "    </tr>\n",
       "    <tr>\n",
       "      <th>2</th>\n",
       "      <td>Biol</td>\n",
       "      <td>F</td>\n",
       "      <td>bajo</td>\n",
       "      <td>Bogo</td>\n",
       "      <td>a18</td>\n",
       "      <td>1</td>\n",
       "      <td>0</td>\n",
       "      <td>0</td>\n",
       "      <td>0</td>\n",
       "      <td>0</td>\n",
       "      <td>...</td>\n",
       "      <td>0</td>\n",
       "      <td>0</td>\n",
       "      <td>1</td>\n",
       "      <td>0</td>\n",
       "      <td>0</td>\n",
       "      <td>1</td>\n",
       "      <td>0</td>\n",
       "      <td>1</td>\n",
       "      <td>0</td>\n",
       "      <td>0</td>\n",
       "    </tr>\n",
       "    <tr>\n",
       "      <th>3</th>\n",
       "      <td>Biol</td>\n",
       "      <td>F</td>\n",
       "      <td>bajo</td>\n",
       "      <td>Bogo</td>\n",
       "      <td>a18</td>\n",
       "      <td>1</td>\n",
       "      <td>0</td>\n",
       "      <td>0</td>\n",
       "      <td>0</td>\n",
       "      <td>0</td>\n",
       "      <td>...</td>\n",
       "      <td>0</td>\n",
       "      <td>0</td>\n",
       "      <td>1</td>\n",
       "      <td>0</td>\n",
       "      <td>0</td>\n",
       "      <td>1</td>\n",
       "      <td>0</td>\n",
       "      <td>1</td>\n",
       "      <td>0</td>\n",
       "      <td>0</td>\n",
       "    </tr>\n",
       "    <tr>\n",
       "      <th>4</th>\n",
       "      <td>Biol</td>\n",
       "      <td>M</td>\n",
       "      <td>medio</td>\n",
       "      <td>Bogo</td>\n",
       "      <td>a17</td>\n",
       "      <td>1</td>\n",
       "      <td>0</td>\n",
       "      <td>0</td>\n",
       "      <td>0</td>\n",
       "      <td>0</td>\n",
       "      <td>...</td>\n",
       "      <td>0</td>\n",
       "      <td>1</td>\n",
       "      <td>0</td>\n",
       "      <td>0</td>\n",
       "      <td>0</td>\n",
       "      <td>0</td>\n",
       "      <td>1</td>\n",
       "      <td>1</td>\n",
       "      <td>0</td>\n",
       "      <td>0</td>\n",
       "    </tr>\n",
       "  </tbody>\n",
       "</table>\n",
       "<p>5 rows × 24 columns</p>\n",
       "</div>"
      ],
      "text/plain": [
       "   carr gene   estr  orig edad  Carrera_Biol  Carrera_Esta  Carrera_Farm  \\\n",
       "0  Biol    F   alto  Bogo  a17             1             0             0   \n",
       "1  Biol    M  medio  Bogo  a17             1             0             0   \n",
       "2  Biol    F   bajo  Bogo  a18             1             0             0   \n",
       "3  Biol    F   bajo  Bogo  a18             1             0             0   \n",
       "4  Biol    M  medio  Bogo  a17             1             0             0   \n",
       "\n",
       "   Carrera_Fisi  Carrera_Geol  ...  Edad_a16m  Edad_a17  Edad_a18  Edad_a19M  \\\n",
       "0             0             0  ...          0         1         0          0   \n",
       "1             0             0  ...          0         1         0          0   \n",
       "2             0             0  ...          0         0         1          0   \n",
       "3             0             0  ...          0         0         1          0   \n",
       "4             0             0  ...          0         1         0          0   \n",
       "\n",
       "   Estrato_alto  Estrato_bajo  Estrato_medio  Origen_Bogo  Origen_Cund  \\\n",
       "0             1             0              0            1            0   \n",
       "1             0             0              1            1            0   \n",
       "2             0             1              0            1            0   \n",
       "3             0             1              0            1            0   \n",
       "4             0             0              1            1            0   \n",
       "\n",
       "   Origen_Otro  \n",
       "0            0  \n",
       "1            0  \n",
       "2            0  \n",
       "3            0  \n",
       "4            0  \n",
       "\n",
       "[5 rows x 24 columns]"
      ]
     },
     "execution_count": 5,
     "metadata": {},
     "output_type": "execute_result"
    }
   ],
   "source": [
    "# Crear nuevas columnas en el DataFrame Y_raw para almacenar las columnas seleccionadas\n",
    "# de admi con nombres de columna más descriptivos\n",
    "Y_raw['Carrera'] = Y_raw['carr']\n",
    "Y_raw['Genero'] = Y_raw['gene']\n",
    "Y_raw['Edad'] = Y_raw['edad']\n",
    "Y_raw['Estrato'] = Y_raw['estr']\n",
    "Y_raw['Origen'] = Y_raw['orig']\n",
    "\n",
    "# Aplicar la función pd.get_dummies() para convertir las columnas categóricas en variables\n",
    "# dummy (binarias) y reemplazarlas en el DataFrame Y_raw\n",
    "Y_raw = pd.get_dummies(data=Y_raw, columns=['Carrera','Genero','Edad','Estrato','Origen'], dtype=int)\n",
    "Y_raw.head()"
   ]
  },
  {
   "cell_type": "code",
   "execution_count": 6,
   "metadata": {},
   "outputs": [
    {
     "name": "stdout",
     "output_type": "stream",
     "text": [
      "<class 'pandas.core.frame.DataFrame'>\n",
      "RangeIndex: 445 entries, 0 to 444\n",
      "Data columns (total 24 columns):\n",
      " #   Column         Non-Null Count  Dtype \n",
      "---  ------         --------------  ----- \n",
      " 0   carr           445 non-null    object\n",
      " 1   gene           445 non-null    object\n",
      " 2   estr           445 non-null    object\n",
      " 3   orig           445 non-null    object\n",
      " 4   edad           445 non-null    object\n",
      " 5   Carrera_Biol   445 non-null    int32 \n",
      " 6   Carrera_Esta   445 non-null    int32 \n",
      " 7   Carrera_Farm   445 non-null    int32 \n",
      " 8   Carrera_Fisi   445 non-null    int32 \n",
      " 9   Carrera_Geol   445 non-null    int32 \n",
      " 10  Carrera_Mate   445 non-null    int32 \n",
      " 11  Carrera_Quim   445 non-null    int32 \n",
      " 12  Genero_F       445 non-null    int32 \n",
      " 13  Genero_M       445 non-null    int32 \n",
      " 14  Edad_a16m      445 non-null    int32 \n",
      " 15  Edad_a17       445 non-null    int32 \n",
      " 16  Edad_a18       445 non-null    int32 \n",
      " 17  Edad_a19M      445 non-null    int32 \n",
      " 18  Estrato_alto   445 non-null    int32 \n",
      " 19  Estrato_bajo   445 non-null    int32 \n",
      " 20  Estrato_medio  445 non-null    int32 \n",
      " 21  Origen_Bogo    445 non-null    int32 \n",
      " 22  Origen_Cund    445 non-null    int32 \n",
      " 23  Origen_Otro    445 non-null    int32 \n",
      "dtypes: int32(19), object(5)\n",
      "memory usage: 50.5+ KB\n"
     ]
    }
   ],
   "source": [
    "# Mostrar información del DataFrame Y_raw\n",
    "Y_raw.info()"
   ]
  },
  {
   "cell_type": "code",
   "execution_count": 7,
   "metadata": {},
   "outputs": [
    {
     "data": {
      "text/plain": [
       "array(['Biol', 'Esta', 'Farm', 'Fisi', 'Geol', 'Mate', 'Quim'],\n",
       "      dtype=object)"
      ]
     },
     "execution_count": 7,
     "metadata": {},
     "output_type": "execute_result"
    }
   ],
   "source": [
    "# Obtener los valores únicos en la columna 'carr' del DataFrame Y_raw\n",
    "Y_raw['carr'].unique()"
   ]
  },
  {
   "cell_type": "code",
   "execution_count": 8,
   "metadata": {},
   "outputs": [
    {
     "data": {
      "text/html": [
       "<div>\n",
       "<style scoped>\n",
       "    .dataframe tbody tr th:only-of-type {\n",
       "        vertical-align: middle;\n",
       "    }\n",
       "\n",
       "    .dataframe tbody tr th {\n",
       "        vertical-align: top;\n",
       "    }\n",
       "\n",
       "    .dataframe thead th {\n",
       "        text-align: right;\n",
       "    }\n",
       "</style>\n",
       "<table border=\"1\" class=\"dataframe\">\n",
       "  <thead>\n",
       "    <tr style=\"text-align: right;\">\n",
       "      <th></th>\n",
       "      <th>carr</th>\n",
       "      <th>gene</th>\n",
       "      <th>estr</th>\n",
       "      <th>orig</th>\n",
       "      <th>edad</th>\n",
       "      <th>Biol</th>\n",
       "      <th>Esta</th>\n",
       "      <th>Farm</th>\n",
       "      <th>Fisi</th>\n",
       "      <th>Geol</th>\n",
       "      <th>...</th>\n",
       "      <th>16-</th>\n",
       "      <th>17</th>\n",
       "      <th>18</th>\n",
       "      <th>19+</th>\n",
       "      <th>al</th>\n",
       "      <th>ba</th>\n",
       "      <th>me</th>\n",
       "      <th>Bo</th>\n",
       "      <th>Cu</th>\n",
       "      <th>Ot</th>\n",
       "    </tr>\n",
       "  </thead>\n",
       "  <tbody>\n",
       "    <tr>\n",
       "      <th>0</th>\n",
       "      <td>Biol</td>\n",
       "      <td>F</td>\n",
       "      <td>alto</td>\n",
       "      <td>Bogo</td>\n",
       "      <td>a17</td>\n",
       "      <td>1</td>\n",
       "      <td>0</td>\n",
       "      <td>0</td>\n",
       "      <td>0</td>\n",
       "      <td>0</td>\n",
       "      <td>...</td>\n",
       "      <td>0</td>\n",
       "      <td>1</td>\n",
       "      <td>0</td>\n",
       "      <td>0</td>\n",
       "      <td>1</td>\n",
       "      <td>0</td>\n",
       "      <td>0</td>\n",
       "      <td>1</td>\n",
       "      <td>0</td>\n",
       "      <td>0</td>\n",
       "    </tr>\n",
       "    <tr>\n",
       "      <th>1</th>\n",
       "      <td>Biol</td>\n",
       "      <td>M</td>\n",
       "      <td>medio</td>\n",
       "      <td>Bogo</td>\n",
       "      <td>a17</td>\n",
       "      <td>1</td>\n",
       "      <td>0</td>\n",
       "      <td>0</td>\n",
       "      <td>0</td>\n",
       "      <td>0</td>\n",
       "      <td>...</td>\n",
       "      <td>0</td>\n",
       "      <td>1</td>\n",
       "      <td>0</td>\n",
       "      <td>0</td>\n",
       "      <td>0</td>\n",
       "      <td>0</td>\n",
       "      <td>1</td>\n",
       "      <td>1</td>\n",
       "      <td>0</td>\n",
       "      <td>0</td>\n",
       "    </tr>\n",
       "    <tr>\n",
       "      <th>2</th>\n",
       "      <td>Biol</td>\n",
       "      <td>F</td>\n",
       "      <td>bajo</td>\n",
       "      <td>Bogo</td>\n",
       "      <td>a18</td>\n",
       "      <td>1</td>\n",
       "      <td>0</td>\n",
       "      <td>0</td>\n",
       "      <td>0</td>\n",
       "      <td>0</td>\n",
       "      <td>...</td>\n",
       "      <td>0</td>\n",
       "      <td>0</td>\n",
       "      <td>1</td>\n",
       "      <td>0</td>\n",
       "      <td>0</td>\n",
       "      <td>1</td>\n",
       "      <td>0</td>\n",
       "      <td>1</td>\n",
       "      <td>0</td>\n",
       "      <td>0</td>\n",
       "    </tr>\n",
       "    <tr>\n",
       "      <th>3</th>\n",
       "      <td>Biol</td>\n",
       "      <td>F</td>\n",
       "      <td>bajo</td>\n",
       "      <td>Bogo</td>\n",
       "      <td>a18</td>\n",
       "      <td>1</td>\n",
       "      <td>0</td>\n",
       "      <td>0</td>\n",
       "      <td>0</td>\n",
       "      <td>0</td>\n",
       "      <td>...</td>\n",
       "      <td>0</td>\n",
       "      <td>0</td>\n",
       "      <td>1</td>\n",
       "      <td>0</td>\n",
       "      <td>0</td>\n",
       "      <td>1</td>\n",
       "      <td>0</td>\n",
       "      <td>1</td>\n",
       "      <td>0</td>\n",
       "      <td>0</td>\n",
       "    </tr>\n",
       "    <tr>\n",
       "      <th>4</th>\n",
       "      <td>Biol</td>\n",
       "      <td>M</td>\n",
       "      <td>medio</td>\n",
       "      <td>Bogo</td>\n",
       "      <td>a17</td>\n",
       "      <td>1</td>\n",
       "      <td>0</td>\n",
       "      <td>0</td>\n",
       "      <td>0</td>\n",
       "      <td>0</td>\n",
       "      <td>...</td>\n",
       "      <td>0</td>\n",
       "      <td>1</td>\n",
       "      <td>0</td>\n",
       "      <td>0</td>\n",
       "      <td>0</td>\n",
       "      <td>0</td>\n",
       "      <td>1</td>\n",
       "      <td>1</td>\n",
       "      <td>0</td>\n",
       "      <td>0</td>\n",
       "    </tr>\n",
       "  </tbody>\n",
       "</table>\n",
       "<p>5 rows × 24 columns</p>\n",
       "</div>"
      ],
      "text/plain": [
       "   carr gene   estr  orig edad  Biol  Esta  Farm  Fisi  Geol  ...  16-  17  \\\n",
       "0  Biol    F   alto  Bogo  a17     1     0     0     0     0  ...    0   1   \n",
       "1  Biol    M  medio  Bogo  a17     1     0     0     0     0  ...    0   1   \n",
       "2  Biol    F   bajo  Bogo  a18     1     0     0     0     0  ...    0   0   \n",
       "3  Biol    F   bajo  Bogo  a18     1     0     0     0     0  ...    0   0   \n",
       "4  Biol    M  medio  Bogo  a17     1     0     0     0     0  ...    0   1   \n",
       "\n",
       "   18  19+  al  ba  me  Bo  Cu  Ot  \n",
       "0   0    0   1   0   0   1   0   0  \n",
       "1   0    0   0   0   1   1   0   0  \n",
       "2   1    0   0   1   0   1   0   0  \n",
       "3   1    0   0   1   0   1   0   0  \n",
       "4   0    0   0   0   1   1   0   0  \n",
       "\n",
       "[5 rows x 24 columns]"
      ]
     },
     "execution_count": 8,
     "metadata": {},
     "output_type": "execute_result"
    }
   ],
   "source": [
    "# Crear un diccionario que mapea los nombres de columna originales a los nombres de columna deseados\n",
    "dict_Y_raw = {'Carrera_Biol':'Biol','Carrera_Esta':'Esta','Carrera_Farm':'Farm','Carrera_Fisi':'Fisi',\n",
    "              'Carrera_Geol':'Geol','Carrera_Mate':'Mate','Carrera_Quim':'Quim',\n",
    "              'Genero_F':'F','Genero_M':'M',\n",
    "              'Edad_a16m':'16-','Edad_a17':'17','Edad_a18':'18','Edad_a19M':'19+',\n",
    "              'Estrato_alto':'al','Estrato_bajo':'ba','Estrato_medio':'me',\n",
    "              'Origen_Bogo':'Bo','Origen_Cund':'Cu','Origen_Otro':'Ot'}\n",
    "\n",
    "# Utilizar el diccionario para renombrar las columnas del DataFrame Y_raw\n",
    "Y_raw.rename(columns=dict_Y_raw, inplace=True)\n",
    "\n",
    "# Mostrar las primeras filas del DataFrame Y_raw actualizado\n",
    "Y_raw.head()"
   ]
  },
  {
   "cell_type": "code",
   "execution_count": 9,
   "metadata": {},
   "outputs": [
    {
     "name": "stdout",
     "output_type": "stream",
     "text": [
      "<class 'pandas.core.frame.DataFrame'>\n",
      "RangeIndex: 445 entries, 0 to 444\n",
      "Data columns (total 24 columns):\n",
      " #   Column  Non-Null Count  Dtype \n",
      "---  ------  --------------  ----- \n",
      " 0   carr    445 non-null    object\n",
      " 1   gene    445 non-null    object\n",
      " 2   estr    445 non-null    object\n",
      " 3   orig    445 non-null    object\n",
      " 4   edad    445 non-null    object\n",
      " 5   Biol    445 non-null    int32 \n",
      " 6   Esta    445 non-null    int32 \n",
      " 7   Farm    445 non-null    int32 \n",
      " 8   Fisi    445 non-null    int32 \n",
      " 9   Geol    445 non-null    int32 \n",
      " 10  Mate    445 non-null    int32 \n",
      " 11  Quim    445 non-null    int32 \n",
      " 12  F       445 non-null    int32 \n",
      " 13  M       445 non-null    int32 \n",
      " 14  16-     445 non-null    int32 \n",
      " 15  17      445 non-null    int32 \n",
      " 16  18      445 non-null    int32 \n",
      " 17  19+     445 non-null    int32 \n",
      " 18  al      445 non-null    int32 \n",
      " 19  ba      445 non-null    int32 \n",
      " 20  me      445 non-null    int32 \n",
      " 21  Bo      445 non-null    int32 \n",
      " 22  Cu      445 non-null    int32 \n",
      " 23  Ot      445 non-null    int32 \n",
      "dtypes: int32(19), object(5)\n",
      "memory usage: 50.5+ KB\n"
     ]
    }
   ],
   "source": [
    "# Mostrar información del DataFrame Y_raw\n",
    "Y_raw.info()"
   ]
  },
  {
   "cell_type": "code",
   "execution_count": 10,
   "metadata": {},
   "outputs": [
    {
     "data": {
      "text/html": [
       "<div>\n",
       "<style scoped>\n",
       "    .dataframe tbody tr th:only-of-type {\n",
       "        vertical-align: middle;\n",
       "    }\n",
       "\n",
       "    .dataframe tbody tr th {\n",
       "        vertical-align: top;\n",
       "    }\n",
       "\n",
       "    .dataframe thead th {\n",
       "        text-align: right;\n",
       "    }\n",
       "</style>\n",
       "<table border=\"1\" class=\"dataframe\">\n",
       "  <thead>\n",
       "    <tr style=\"text-align: right;\">\n",
       "      <th></th>\n",
       "      <th>gene</th>\n",
       "      <th>estr</th>\n",
       "      <th>orig</th>\n",
       "      <th>edad</th>\n",
       "    </tr>\n",
       "  </thead>\n",
       "  <tbody>\n",
       "    <tr>\n",
       "      <th>0</th>\n",
       "      <td>F</td>\n",
       "      <td>alto</td>\n",
       "      <td>Bogo</td>\n",
       "      <td>a17</td>\n",
       "    </tr>\n",
       "    <tr>\n",
       "      <th>1</th>\n",
       "      <td>M</td>\n",
       "      <td>medio</td>\n",
       "      <td>Bogo</td>\n",
       "      <td>a17</td>\n",
       "    </tr>\n",
       "    <tr>\n",
       "      <th>2</th>\n",
       "      <td>F</td>\n",
       "      <td>bajo</td>\n",
       "      <td>Bogo</td>\n",
       "      <td>a18</td>\n",
       "    </tr>\n",
       "    <tr>\n",
       "      <th>3</th>\n",
       "      <td>F</td>\n",
       "      <td>bajo</td>\n",
       "      <td>Bogo</td>\n",
       "      <td>a18</td>\n",
       "    </tr>\n",
       "    <tr>\n",
       "      <th>4</th>\n",
       "      <td>M</td>\n",
       "      <td>medio</td>\n",
       "      <td>Bogo</td>\n",
       "      <td>a17</td>\n",
       "    </tr>\n",
       "  </tbody>\n",
       "</table>\n",
       "</div>"
      ],
      "text/plain": [
       "  gene   estr  orig edad\n",
       "0    F   alto  Bogo  a17\n",
       "1    M  medio  Bogo  a17\n",
       "2    F   bajo  Bogo  a18\n",
       "3    F   bajo  Bogo  a18\n",
       "4    M  medio  Bogo  a17"
      ]
     },
     "execution_count": 10,
     "metadata": {},
     "output_type": "execute_result"
    }
   ],
   "source": [
    "# Seleccionar las columnas 'gene', 'estr', 'orig' y 'edad' del DataFrame Y_raw\n",
    "Y = Y_raw[['gene','estr','orig','edad']]\n",
    "\n",
    "# Mostrar las primeras filas del DataFrame Y\n",
    "Y.head()"
   ]
  },
  {
   "attachments": {},
   "cell_type": "markdown",
   "metadata": {},
   "source": [
    "### Tabla disyuntiva completa (TDC) Z"
   ]
  },
  {
   "cell_type": "code",
   "execution_count": 11,
   "metadata": {},
   "outputs": [
    {
     "data": {
      "text/html": [
       "<div>\n",
       "<style scoped>\n",
       "    .dataframe tbody tr th:only-of-type {\n",
       "        vertical-align: middle;\n",
       "    }\n",
       "\n",
       "    .dataframe tbody tr th {\n",
       "        vertical-align: top;\n",
       "    }\n",
       "\n",
       "    .dataframe thead th {\n",
       "        text-align: right;\n",
       "    }\n",
       "</style>\n",
       "<table border=\"1\" class=\"dataframe\">\n",
       "  <thead>\n",
       "    <tr style=\"text-align: right;\">\n",
       "      <th></th>\n",
       "      <th>F</th>\n",
       "      <th>M</th>\n",
       "      <th>16-</th>\n",
       "      <th>17</th>\n",
       "      <th>18</th>\n",
       "      <th>19+</th>\n",
       "      <th>al</th>\n",
       "      <th>ba</th>\n",
       "      <th>me</th>\n",
       "      <th>Bo</th>\n",
       "      <th>Cu</th>\n",
       "      <th>Ot</th>\n",
       "    </tr>\n",
       "  </thead>\n",
       "  <tbody>\n",
       "    <tr>\n",
       "      <th>0</th>\n",
       "      <td>1</td>\n",
       "      <td>0</td>\n",
       "      <td>0</td>\n",
       "      <td>1</td>\n",
       "      <td>0</td>\n",
       "      <td>0</td>\n",
       "      <td>1</td>\n",
       "      <td>0</td>\n",
       "      <td>0</td>\n",
       "      <td>1</td>\n",
       "      <td>0</td>\n",
       "      <td>0</td>\n",
       "    </tr>\n",
       "    <tr>\n",
       "      <th>1</th>\n",
       "      <td>0</td>\n",
       "      <td>1</td>\n",
       "      <td>0</td>\n",
       "      <td>1</td>\n",
       "      <td>0</td>\n",
       "      <td>0</td>\n",
       "      <td>0</td>\n",
       "      <td>0</td>\n",
       "      <td>1</td>\n",
       "      <td>1</td>\n",
       "      <td>0</td>\n",
       "      <td>0</td>\n",
       "    </tr>\n",
       "    <tr>\n",
       "      <th>2</th>\n",
       "      <td>1</td>\n",
       "      <td>0</td>\n",
       "      <td>0</td>\n",
       "      <td>0</td>\n",
       "      <td>1</td>\n",
       "      <td>0</td>\n",
       "      <td>0</td>\n",
       "      <td>1</td>\n",
       "      <td>0</td>\n",
       "      <td>1</td>\n",
       "      <td>0</td>\n",
       "      <td>0</td>\n",
       "    </tr>\n",
       "    <tr>\n",
       "      <th>3</th>\n",
       "      <td>1</td>\n",
       "      <td>0</td>\n",
       "      <td>0</td>\n",
       "      <td>0</td>\n",
       "      <td>1</td>\n",
       "      <td>0</td>\n",
       "      <td>0</td>\n",
       "      <td>1</td>\n",
       "      <td>0</td>\n",
       "      <td>1</td>\n",
       "      <td>0</td>\n",
       "      <td>0</td>\n",
       "    </tr>\n",
       "    <tr>\n",
       "      <th>4</th>\n",
       "      <td>0</td>\n",
       "      <td>1</td>\n",
       "      <td>0</td>\n",
       "      <td>1</td>\n",
       "      <td>0</td>\n",
       "      <td>0</td>\n",
       "      <td>0</td>\n",
       "      <td>0</td>\n",
       "      <td>1</td>\n",
       "      <td>1</td>\n",
       "      <td>0</td>\n",
       "      <td>0</td>\n",
       "    </tr>\n",
       "  </tbody>\n",
       "</table>\n",
       "</div>"
      ],
      "text/plain": [
       "   F  M  16-  17  18  19+  al  ba  me  Bo  Cu  Ot\n",
       "0  1  0    0   1   0    0   1   0   0   1   0   0\n",
       "1  0  1    0   1   0    0   0   0   1   1   0   0\n",
       "2  1  0    0   0   1    0   0   1   0   1   0   0\n",
       "3  1  0    0   0   1    0   0   1   0   1   0   0\n",
       "4  0  1    0   1   0    0   0   0   1   1   0   0"
      ]
     },
     "execution_count": 11,
     "metadata": {},
     "output_type": "execute_result"
    }
   ],
   "source": [
    "# Seleccionar todas las filas y las columnas desde la posición 12 hasta el final del DataFrame Y_raw\n",
    "Z = Y_raw.iloc[:,12:]\n",
    "\n",
    "# Mostrar las primeras filas del DataFrame Z\n",
    "Z.head()"
   ]
  },
  {
   "attachments": {},
   "cell_type": "markdown",
   "metadata": {},
   "source": [
    "### Tabla de Burt"
   ]
  },
  {
   "attachments": {},
   "cell_type": "markdown",
   "metadata": {},
   "source": [
    "$B = Z^TZ$"
   ]
  },
  {
   "cell_type": "code",
   "execution_count": 12,
   "metadata": {},
   "outputs": [
    {
     "data": {
      "text/html": [
       "<div>\n",
       "<style scoped>\n",
       "    .dataframe tbody tr th:only-of-type {\n",
       "        vertical-align: middle;\n",
       "    }\n",
       "\n",
       "    .dataframe tbody tr th {\n",
       "        vertical-align: top;\n",
       "    }\n",
       "\n",
       "    .dataframe thead th {\n",
       "        text-align: right;\n",
       "    }\n",
       "</style>\n",
       "<table border=\"1\" class=\"dataframe\">\n",
       "  <thead>\n",
       "    <tr style=\"text-align: right;\">\n",
       "      <th></th>\n",
       "      <th>F</th>\n",
       "      <th>M</th>\n",
       "      <th>16-</th>\n",
       "      <th>17</th>\n",
       "      <th>18</th>\n",
       "      <th>19+</th>\n",
       "      <th>al</th>\n",
       "      <th>ba</th>\n",
       "      <th>me</th>\n",
       "      <th>Bo</th>\n",
       "      <th>Cu</th>\n",
       "      <th>Ot</th>\n",
       "    </tr>\n",
       "  </thead>\n",
       "  <tbody>\n",
       "    <tr>\n",
       "      <th>F</th>\n",
       "      <td>128</td>\n",
       "      <td>0</td>\n",
       "      <td>46</td>\n",
       "      <td>45</td>\n",
       "      <td>18</td>\n",
       "      <td>19</td>\n",
       "      <td>23</td>\n",
       "      <td>46</td>\n",
       "      <td>59</td>\n",
       "      <td>89</td>\n",
       "      <td>9</td>\n",
       "      <td>30</td>\n",
       "    </tr>\n",
       "    <tr>\n",
       "      <th>M</th>\n",
       "      <td>0</td>\n",
       "      <td>317</td>\n",
       "      <td>72</td>\n",
       "      <td>126</td>\n",
       "      <td>38</td>\n",
       "      <td>81</td>\n",
       "      <td>58</td>\n",
       "      <td>133</td>\n",
       "      <td>126</td>\n",
       "      <td>222</td>\n",
       "      <td>29</td>\n",
       "      <td>66</td>\n",
       "    </tr>\n",
       "    <tr>\n",
       "      <th>16-</th>\n",
       "      <td>46</td>\n",
       "      <td>72</td>\n",
       "      <td>118</td>\n",
       "      <td>0</td>\n",
       "      <td>0</td>\n",
       "      <td>0</td>\n",
       "      <td>27</td>\n",
       "      <td>44</td>\n",
       "      <td>47</td>\n",
       "      <td>70</td>\n",
       "      <td>9</td>\n",
       "      <td>39</td>\n",
       "    </tr>\n",
       "    <tr>\n",
       "      <th>17</th>\n",
       "      <td>45</td>\n",
       "      <td>126</td>\n",
       "      <td>0</td>\n",
       "      <td>171</td>\n",
       "      <td>0</td>\n",
       "      <td>0</td>\n",
       "      <td>39</td>\n",
       "      <td>58</td>\n",
       "      <td>74</td>\n",
       "      <td>116</td>\n",
       "      <td>19</td>\n",
       "      <td>36</td>\n",
       "    </tr>\n",
       "    <tr>\n",
       "      <th>18</th>\n",
       "      <td>18</td>\n",
       "      <td>38</td>\n",
       "      <td>0</td>\n",
       "      <td>0</td>\n",
       "      <td>56</td>\n",
       "      <td>0</td>\n",
       "      <td>8</td>\n",
       "      <td>22</td>\n",
       "      <td>26</td>\n",
       "      <td>47</td>\n",
       "      <td>2</td>\n",
       "      <td>7</td>\n",
       "    </tr>\n",
       "    <tr>\n",
       "      <th>19+</th>\n",
       "      <td>19</td>\n",
       "      <td>81</td>\n",
       "      <td>0</td>\n",
       "      <td>0</td>\n",
       "      <td>0</td>\n",
       "      <td>100</td>\n",
       "      <td>7</td>\n",
       "      <td>55</td>\n",
       "      <td>38</td>\n",
       "      <td>78</td>\n",
       "      <td>8</td>\n",
       "      <td>14</td>\n",
       "    </tr>\n",
       "    <tr>\n",
       "      <th>al</th>\n",
       "      <td>23</td>\n",
       "      <td>58</td>\n",
       "      <td>27</td>\n",
       "      <td>39</td>\n",
       "      <td>8</td>\n",
       "      <td>7</td>\n",
       "      <td>81</td>\n",
       "      <td>0</td>\n",
       "      <td>0</td>\n",
       "      <td>65</td>\n",
       "      <td>5</td>\n",
       "      <td>11</td>\n",
       "    </tr>\n",
       "    <tr>\n",
       "      <th>ba</th>\n",
       "      <td>46</td>\n",
       "      <td>133</td>\n",
       "      <td>44</td>\n",
       "      <td>58</td>\n",
       "      <td>22</td>\n",
       "      <td>55</td>\n",
       "      <td>0</td>\n",
       "      <td>179</td>\n",
       "      <td>0</td>\n",
       "      <td>95</td>\n",
       "      <td>22</td>\n",
       "      <td>62</td>\n",
       "    </tr>\n",
       "    <tr>\n",
       "      <th>me</th>\n",
       "      <td>59</td>\n",
       "      <td>126</td>\n",
       "      <td>47</td>\n",
       "      <td>74</td>\n",
       "      <td>26</td>\n",
       "      <td>38</td>\n",
       "      <td>0</td>\n",
       "      <td>0</td>\n",
       "      <td>185</td>\n",
       "      <td>151</td>\n",
       "      <td>11</td>\n",
       "      <td>23</td>\n",
       "    </tr>\n",
       "    <tr>\n",
       "      <th>Bo</th>\n",
       "      <td>89</td>\n",
       "      <td>222</td>\n",
       "      <td>70</td>\n",
       "      <td>116</td>\n",
       "      <td>47</td>\n",
       "      <td>78</td>\n",
       "      <td>65</td>\n",
       "      <td>95</td>\n",
       "      <td>151</td>\n",
       "      <td>311</td>\n",
       "      <td>0</td>\n",
       "      <td>0</td>\n",
       "    </tr>\n",
       "    <tr>\n",
       "      <th>Cu</th>\n",
       "      <td>9</td>\n",
       "      <td>29</td>\n",
       "      <td>9</td>\n",
       "      <td>19</td>\n",
       "      <td>2</td>\n",
       "      <td>8</td>\n",
       "      <td>5</td>\n",
       "      <td>22</td>\n",
       "      <td>11</td>\n",
       "      <td>0</td>\n",
       "      <td>38</td>\n",
       "      <td>0</td>\n",
       "    </tr>\n",
       "    <tr>\n",
       "      <th>Ot</th>\n",
       "      <td>30</td>\n",
       "      <td>66</td>\n",
       "      <td>39</td>\n",
       "      <td>36</td>\n",
       "      <td>7</td>\n",
       "      <td>14</td>\n",
       "      <td>11</td>\n",
       "      <td>62</td>\n",
       "      <td>23</td>\n",
       "      <td>0</td>\n",
       "      <td>0</td>\n",
       "      <td>96</td>\n",
       "    </tr>\n",
       "  </tbody>\n",
       "</table>\n",
       "</div>"
      ],
      "text/plain": [
       "       F    M  16-   17  18  19+  al   ba   me   Bo  Cu  Ot\n",
       "F    128    0   46   45  18   19  23   46   59   89   9  30\n",
       "M      0  317   72  126  38   81  58  133  126  222  29  66\n",
       "16-   46   72  118    0   0    0  27   44   47   70   9  39\n",
       "17    45  126    0  171   0    0  39   58   74  116  19  36\n",
       "18    18   38    0    0  56    0   8   22   26   47   2   7\n",
       "19+   19   81    0    0   0  100   7   55   38   78   8  14\n",
       "al    23   58   27   39   8    7  81    0    0   65   5  11\n",
       "ba    46  133   44   58  22   55   0  179    0   95  22  62\n",
       "me    59  126   47   74  26   38   0    0  185  151  11  23\n",
       "Bo    89  222   70  116  47   78  65   95  151  311   0   0\n",
       "Cu     9   29    9   19   2    8   5   22   11    0  38   0\n",
       "Ot    30   66   39   36   7   14  11   62   23    0   0  96"
      ]
     },
     "execution_count": 12,
     "metadata": {},
     "output_type": "execute_result"
    }
   ],
   "source": [
    "# Transponer el DataFrame Z y realizar la multiplicación de matrices con el DataFrame Z\n",
    "B = Z.transpose().dot(Z)\n",
    "\n",
    "# Mostrar el DataFrame B resultante\n",
    "B"
   ]
  },
  {
   "attachments": {},
   "cell_type": "markdown",
   "metadata": {},
   "source": [
    "### Tabla de frecuencias relativas F"
   ]
  },
  {
   "cell_type": "code",
   "execution_count": 13,
   "metadata": {},
   "outputs": [
    {
     "data": {
      "text/html": [
       "<div>\n",
       "<style scoped>\n",
       "    .dataframe tbody tr th:only-of-type {\n",
       "        vertical-align: middle;\n",
       "    }\n",
       "\n",
       "    .dataframe tbody tr th {\n",
       "        vertical-align: top;\n",
       "    }\n",
       "\n",
       "    .dataframe thead th {\n",
       "        text-align: right;\n",
       "    }\n",
       "</style>\n",
       "<table border=\"1\" class=\"dataframe\">\n",
       "  <thead>\n",
       "    <tr style=\"text-align: right;\">\n",
       "      <th></th>\n",
       "      <th>F</th>\n",
       "      <th>M</th>\n",
       "      <th>16-</th>\n",
       "      <th>17</th>\n",
       "      <th>18</th>\n",
       "      <th>19+</th>\n",
       "      <th>al</th>\n",
       "      <th>ba</th>\n",
       "      <th>me</th>\n",
       "      <th>Bo</th>\n",
       "      <th>Cu</th>\n",
       "      <th>Ot</th>\n",
       "      <th>Sum</th>\n",
       "    </tr>\n",
       "  </thead>\n",
       "  <tbody>\n",
       "    <tr>\n",
       "      <th>0</th>\n",
       "      <td>0.000562</td>\n",
       "      <td>0.000000</td>\n",
       "      <td>0.0</td>\n",
       "      <td>0.000562</td>\n",
       "      <td>0.000000</td>\n",
       "      <td>0.0</td>\n",
       "      <td>0.000562</td>\n",
       "      <td>0.000000</td>\n",
       "      <td>0.000000</td>\n",
       "      <td>0.000562</td>\n",
       "      <td>0.0</td>\n",
       "      <td>0.0</td>\n",
       "      <td>0.002247</td>\n",
       "    </tr>\n",
       "    <tr>\n",
       "      <th>1</th>\n",
       "      <td>0.000000</td>\n",
       "      <td>0.000562</td>\n",
       "      <td>0.0</td>\n",
       "      <td>0.000562</td>\n",
       "      <td>0.000000</td>\n",
       "      <td>0.0</td>\n",
       "      <td>0.000000</td>\n",
       "      <td>0.000000</td>\n",
       "      <td>0.000562</td>\n",
       "      <td>0.000562</td>\n",
       "      <td>0.0</td>\n",
       "      <td>0.0</td>\n",
       "      <td>0.002247</td>\n",
       "    </tr>\n",
       "    <tr>\n",
       "      <th>2</th>\n",
       "      <td>0.000562</td>\n",
       "      <td>0.000000</td>\n",
       "      <td>0.0</td>\n",
       "      <td>0.000000</td>\n",
       "      <td>0.000562</td>\n",
       "      <td>0.0</td>\n",
       "      <td>0.000000</td>\n",
       "      <td>0.000562</td>\n",
       "      <td>0.000000</td>\n",
       "      <td>0.000562</td>\n",
       "      <td>0.0</td>\n",
       "      <td>0.0</td>\n",
       "      <td>0.002247</td>\n",
       "    </tr>\n",
       "    <tr>\n",
       "      <th>3</th>\n",
       "      <td>0.000562</td>\n",
       "      <td>0.000000</td>\n",
       "      <td>0.0</td>\n",
       "      <td>0.000000</td>\n",
       "      <td>0.000562</td>\n",
       "      <td>0.0</td>\n",
       "      <td>0.000000</td>\n",
       "      <td>0.000562</td>\n",
       "      <td>0.000000</td>\n",
       "      <td>0.000562</td>\n",
       "      <td>0.0</td>\n",
       "      <td>0.0</td>\n",
       "      <td>0.002247</td>\n",
       "    </tr>\n",
       "    <tr>\n",
       "      <th>4</th>\n",
       "      <td>0.000000</td>\n",
       "      <td>0.000562</td>\n",
       "      <td>0.0</td>\n",
       "      <td>0.000562</td>\n",
       "      <td>0.000000</td>\n",
       "      <td>0.0</td>\n",
       "      <td>0.000000</td>\n",
       "      <td>0.000000</td>\n",
       "      <td>0.000562</td>\n",
       "      <td>0.000562</td>\n",
       "      <td>0.0</td>\n",
       "      <td>0.0</td>\n",
       "      <td>0.002247</td>\n",
       "    </tr>\n",
       "  </tbody>\n",
       "</table>\n",
       "</div>"
      ],
      "text/plain": [
       "          F         M  16-        17        18  19+        al        ba  \\\n",
       "0  0.000562  0.000000  0.0  0.000562  0.000000  0.0  0.000562  0.000000   \n",
       "1  0.000000  0.000562  0.0  0.000562  0.000000  0.0  0.000000  0.000000   \n",
       "2  0.000562  0.000000  0.0  0.000000  0.000562  0.0  0.000000  0.000562   \n",
       "3  0.000562  0.000000  0.0  0.000000  0.000562  0.0  0.000000  0.000562   \n",
       "4  0.000000  0.000562  0.0  0.000562  0.000000  0.0  0.000000  0.000000   \n",
       "\n",
       "         me        Bo   Cu   Ot       Sum  \n",
       "0  0.000000  0.000562  0.0  0.0  0.002247  \n",
       "1  0.000562  0.000562  0.0  0.0  0.002247  \n",
       "2  0.000000  0.000562  0.0  0.0  0.002247  \n",
       "3  0.000000  0.000562  0.0  0.0  0.002247  \n",
       "4  0.000562  0.000562  0.0  0.0  0.002247  "
      ]
     },
     "execution_count": 13,
     "metadata": {},
     "output_type": "execute_result"
    }
   ],
   "source": [
    "# Calcular el número de filas y columnas del DataFrame Y\n",
    "n = Y.shape[0] # Número de filas\n",
    "s = Y.shape[1] # Número de columnas\n",
    "\n",
    "# Calcular la matriz F dividiendo cada valor en el DataFrame Z por el producto de n y s\n",
    "F = 1/(n*s)*Z\n",
    "\n",
    "# Calcular la suma de las filas y columnas en el DataFrame F y agregarlas como filas y columnas adicionales\n",
    "F.loc['Sum'] = F.sum(numeric_only=True, axis=0) # Suma por columnas\n",
    "F.loc[:,'Sum'] = F.sum(numeric_only=True, axis=1) # Suma por filas\n",
    "\n",
    "# Mostrar las primeras filas del DataFrame F\n",
    "F.head()"
   ]
  },
  {
   "attachments": {},
   "cell_type": "markdown",
   "metadata": {},
   "source": [
    "## Análisis de correspondencias múltiples"
   ]
  },
  {
   "cell_type": "code",
   "execution_count": 14,
   "metadata": {},
   "outputs": [],
   "source": [
    "# Calcular p y s\n",
    "p = Z.shape[1]  # Número de categorías o columnas en Z\n",
    "s = Y.shape[1]  # Número de variables o columnas en Y\n",
    "\n",
    "# Realizar el análisis de correspondencias múltiples (MCA) con p - s componentes\n",
    "n_componentes = p - s\n",
    "mca = prince.MCA(n_components=n_componentes)\n",
    "mca_Z = mca.fit(Z)"
   ]
  },
  {
   "attachments": {},
   "cell_type": "markdown",
   "metadata": {},
   "source": [
    "Valores propios del ACM de admitidos"
   ]
  },
  {
   "cell_type": "code",
   "execution_count": 15,
   "metadata": {},
   "outputs": [
    {
     "data": {
      "text/html": [
       "<div>\n",
       "<style scoped>\n",
       "    .dataframe tbody tr th:only-of-type {\n",
       "        vertical-align: middle;\n",
       "    }\n",
       "\n",
       "    .dataframe tbody tr th {\n",
       "        vertical-align: top;\n",
       "    }\n",
       "\n",
       "    .dataframe thead th {\n",
       "        text-align: right;\n",
       "    }\n",
       "</style>\n",
       "<table border=\"1\" class=\"dataframe\">\n",
       "  <thead>\n",
       "    <tr style=\"text-align: right;\">\n",
       "      <th></th>\n",
       "      <th>eigenvalue</th>\n",
       "      <th>% of variance</th>\n",
       "      <th>% of variance (cumulative)</th>\n",
       "    </tr>\n",
       "    <tr>\n",
       "      <th>component</th>\n",
       "      <th></th>\n",
       "      <th></th>\n",
       "      <th></th>\n",
       "    </tr>\n",
       "  </thead>\n",
       "  <tbody>\n",
       "    <tr>\n",
       "      <th>0</th>\n",
       "      <td>0.337</td>\n",
       "      <td>16.83%</td>\n",
       "      <td>16.83%</td>\n",
       "    </tr>\n",
       "    <tr>\n",
       "      <th>1</th>\n",
       "      <td>0.313</td>\n",
       "      <td>15.64%</td>\n",
       "      <td>32.47%</td>\n",
       "    </tr>\n",
       "    <tr>\n",
       "      <th>2</th>\n",
       "      <td>0.283</td>\n",
       "      <td>14.13%</td>\n",
       "      <td>46.60%</td>\n",
       "    </tr>\n",
       "    <tr>\n",
       "      <th>3</th>\n",
       "      <td>0.247</td>\n",
       "      <td>12.36%</td>\n",
       "      <td>58.96%</td>\n",
       "    </tr>\n",
       "    <tr>\n",
       "      <th>4</th>\n",
       "      <td>0.241</td>\n",
       "      <td>12.04%</td>\n",
       "      <td>71.00%</td>\n",
       "    </tr>\n",
       "    <tr>\n",
       "      <th>5</th>\n",
       "      <td>0.229</td>\n",
       "      <td>11.47%</td>\n",
       "      <td>82.46%</td>\n",
       "    </tr>\n",
       "    <tr>\n",
       "      <th>6</th>\n",
       "      <td>0.208</td>\n",
       "      <td>10.38%</td>\n",
       "      <td>92.84%</td>\n",
       "    </tr>\n",
       "    <tr>\n",
       "      <th>7</th>\n",
       "      <td>0.143</td>\n",
       "      <td>7.16%</td>\n",
       "      <td>100.00%</td>\n",
       "    </tr>\n",
       "  </tbody>\n",
       "</table>\n",
       "</div>"
      ],
      "text/plain": [
       "          eigenvalue % of variance % of variance (cumulative)\n",
       "component                                                    \n",
       "0              0.337        16.83%                     16.83%\n",
       "1              0.313        15.64%                     32.47%\n",
       "2              0.283        14.13%                     46.60%\n",
       "3              0.247        12.36%                     58.96%\n",
       "4              0.241        12.04%                     71.00%\n",
       "5              0.229        11.47%                     82.46%\n",
       "6              0.208        10.38%                     92.84%\n",
       "7              0.143         7.16%                    100.00%"
      ]
     },
     "execution_count": 15,
     "metadata": {},
     "output_type": "execute_result"
    }
   ],
   "source": [
    "# Calcular un resumen de los valores propios del análisis de MCA en el objeto mca_Z\n",
    "eigenvalues_summary_Z = mca_Z.eigenvalues_summary\n",
    "eigenvalues_summary_Z"
   ]
  },
  {
   "cell_type": "code",
   "execution_count": 16,
   "metadata": {},
   "outputs": [
    {
     "data": {
      "text/html": [
       "<div>\n",
       "<style scoped>\n",
       "    .dataframe tbody tr th:only-of-type {\n",
       "        vertical-align: middle;\n",
       "    }\n",
       "\n",
       "    .dataframe tbody tr th {\n",
       "        vertical-align: top;\n",
       "    }\n",
       "\n",
       "    .dataframe thead th {\n",
       "        text-align: right;\n",
       "    }\n",
       "</style>\n",
       "<table border=\"1\" class=\"dataframe\">\n",
       "  <thead>\n",
       "    <tr style=\"text-align: right;\">\n",
       "      <th></th>\n",
       "      <th>Valor propio</th>\n",
       "      <th>% de varianza</th>\n",
       "      <th>% de varianza acumulada</th>\n",
       "    </tr>\n",
       "  </thead>\n",
       "  <tbody>\n",
       "    <tr>\n",
       "      <th>Componente 1</th>\n",
       "      <td>0.34</td>\n",
       "      <td>0.17</td>\n",
       "      <td>0.17</td>\n",
       "    </tr>\n",
       "    <tr>\n",
       "      <th>Componente 2</th>\n",
       "      <td>0.31</td>\n",
       "      <td>0.16</td>\n",
       "      <td>0.32</td>\n",
       "    </tr>\n",
       "    <tr>\n",
       "      <th>Componente 3</th>\n",
       "      <td>0.28</td>\n",
       "      <td>0.14</td>\n",
       "      <td>0.47</td>\n",
       "    </tr>\n",
       "    <tr>\n",
       "      <th>Componente 4</th>\n",
       "      <td>0.25</td>\n",
       "      <td>0.12</td>\n",
       "      <td>0.59</td>\n",
       "    </tr>\n",
       "    <tr>\n",
       "      <th>Componente 5</th>\n",
       "      <td>0.24</td>\n",
       "      <td>0.12</td>\n",
       "      <td>0.71</td>\n",
       "    </tr>\n",
       "    <tr>\n",
       "      <th>Componente 6</th>\n",
       "      <td>0.23</td>\n",
       "      <td>0.12</td>\n",
       "      <td>0.82</td>\n",
       "    </tr>\n",
       "    <tr>\n",
       "      <th>Componente 7</th>\n",
       "      <td>0.21</td>\n",
       "      <td>0.10</td>\n",
       "      <td>0.93</td>\n",
       "    </tr>\n",
       "    <tr>\n",
       "      <th>Componente 8</th>\n",
       "      <td>0.14</td>\n",
       "      <td>0.07</td>\n",
       "      <td>1.00</td>\n",
       "    </tr>\n",
       "  </tbody>\n",
       "</table>\n",
       "</div>"
      ],
      "text/plain": [
       "              Valor propio  % de varianza  % de varianza acumulada\n",
       "Componente 1          0.34           0.17                     0.17\n",
       "Componente 2          0.31           0.16                     0.32\n",
       "Componente 3          0.28           0.14                     0.47\n",
       "Componente 4          0.25           0.12                     0.59\n",
       "Componente 5          0.24           0.12                     0.71\n",
       "Componente 6          0.23           0.12                     0.82\n",
       "Componente 7          0.21           0.10                     0.93\n",
       "Componente 8          0.14           0.07                     1.00"
      ]
     },
     "execution_count": 16,
     "metadata": {},
     "output_type": "execute_result"
    }
   ],
   "source": [
    "# Crear nombres de filas para el resumen de valores propios\n",
    "row_names = [f\"Componente {i+1}\" for i in range(eigenvalues_summary_Z.shape[0])]\n",
    "\n",
    "# Crear nombres de columnas para el resumen de valores propios\n",
    "column_names = ['Valor propio', '% de varianza', '% de varianza acumulada']\n",
    "\n",
    "# Crear un DataFrame con el resumen de valores propios\n",
    "eigenvalues_summary_Z = pd.DataFrame(data=eigenvalues_summary_Z.values, index=row_names, columns=column_names, dtype=str)\n",
    "\n",
    "# Eliminar el símbolo de porcentaje (%) en los valores del DataFrame\n",
    "eigenvalues_summary_Z.replace('%','',inplace=True,regex=True)\n",
    "\n",
    "# Convertir los valores del DataFrame a tipo float\n",
    "eigenvalues_summary_Z = pd.DataFrame(data=eigenvalues_summary_Z.values, index=eigenvalues_summary_Z.index,\n",
    "                                     columns=eigenvalues_summary_Z.columns, dtype=float)\n",
    "\n",
    "# Multiplicar los valores por 0.01 para convertirlos a porcentaje y redondear a 3 decimales\n",
    "eigenvalues_summary_Z = eigenvalues_summary_Z.mul([1,0.01,0.01], axis='columns').round(3)\n",
    "\n",
    "# Redondear todos los valores del DataFrame a 2 decimales\n",
    "eigenvalues_summary_Z.round(2)"
   ]
  },
  {
   "cell_type": "code",
   "execution_count": 17,
   "metadata": {},
   "outputs": [
    {
     "data": {
      "text/plain": [
       "0.25012500000000004"
      ]
     },
     "execution_count": 17,
     "metadata": {},
     "output_type": "execute_result"
    }
   ],
   "source": [
    "# Calcular el valor promedio de los valores propios\n",
    "mean_val = np.mean(eigenvalues_summary_Z['Valor propio'])\n",
    "mean_val"
   ]
  },
  {
   "cell_type": "code",
   "execution_count": 18,
   "metadata": {},
   "outputs": [
    {
     "data": {
      "application/vnd.plotly.v1+json": {
       "config": {
        "plotlyServerURL": "https://plot.ly"
       },
       "data": [
        {
         "alignmentgroup": "True",
         "cliponaxis": false,
         "hovertemplate": "x=%{x}<br>Valor propio=%{y}<extra></extra>",
         "legendgroup": "",
         "marker": {
          "color": "#636efa",
          "pattern": {
           "shape": ""
          }
         },
         "name": "",
         "offsetgroup": "",
         "orientation": "v",
         "showlegend": false,
         "textangle": 0,
         "textfont": {
          "size": 12
         },
         "textposition": "outside",
         "texttemplate": "%{y:.3}",
         "type": "bar",
         "x": [
          "Comp 1",
          "Comp 2",
          "Comp 3",
          "Comp 4",
          "Comp 5",
          "Comp 6",
          "Comp 7",
          "Comp 8"
         ],
         "xaxis": "x",
         "y": [
          0.337,
          0.313,
          0.283,
          0.247,
          0.241,
          0.229,
          0.208,
          0.143
         ],
         "yaxis": "y"
        },
        {
         "line": {
          "color": "red"
         },
         "mode": "lines",
         "name": "0.25",
         "showlegend": false,
         "type": "scatter",
         "x": [
          "Comp 1",
          "Comp 2",
          "Comp 3",
          "Comp 4",
          "Comp 5",
          "Comp 6",
          "Comp 7",
          "Comp 8"
         ],
         "y": [
          0.25012500000000004,
          0.25012500000000004,
          0.25012500000000004,
          0.25012500000000004,
          0.25012500000000004,
          0.25012500000000004,
          0.25012500000000004,
          0.25012500000000004
         ]
        }
       ],
       "layout": {
        "barmode": "relative",
        "legend": {
         "tracegroupgap": 0
        },
        "template": {
         "data": {
          "bar": [
           {
            "error_x": {
             "color": "#2a3f5f"
            },
            "error_y": {
             "color": "#2a3f5f"
            },
            "marker": {
             "line": {
              "color": "#E5ECF6",
              "width": 0.5
             },
             "pattern": {
              "fillmode": "overlay",
              "size": 10,
              "solidity": 0.2
             }
            },
            "type": "bar"
           }
          ],
          "barpolar": [
           {
            "marker": {
             "line": {
              "color": "#E5ECF6",
              "width": 0.5
             },
             "pattern": {
              "fillmode": "overlay",
              "size": 10,
              "solidity": 0.2
             }
            },
            "type": "barpolar"
           }
          ],
          "carpet": [
           {
            "aaxis": {
             "endlinecolor": "#2a3f5f",
             "gridcolor": "white",
             "linecolor": "white",
             "minorgridcolor": "white",
             "startlinecolor": "#2a3f5f"
            },
            "baxis": {
             "endlinecolor": "#2a3f5f",
             "gridcolor": "white",
             "linecolor": "white",
             "minorgridcolor": "white",
             "startlinecolor": "#2a3f5f"
            },
            "type": "carpet"
           }
          ],
          "choropleth": [
           {
            "colorbar": {
             "outlinewidth": 0,
             "ticks": ""
            },
            "type": "choropleth"
           }
          ],
          "contour": [
           {
            "colorbar": {
             "outlinewidth": 0,
             "ticks": ""
            },
            "colorscale": [
             [
              0,
              "#0d0887"
             ],
             [
              0.1111111111111111,
              "#46039f"
             ],
             [
              0.2222222222222222,
              "#7201a8"
             ],
             [
              0.3333333333333333,
              "#9c179e"
             ],
             [
              0.4444444444444444,
              "#bd3786"
             ],
             [
              0.5555555555555556,
              "#d8576b"
             ],
             [
              0.6666666666666666,
              "#ed7953"
             ],
             [
              0.7777777777777778,
              "#fb9f3a"
             ],
             [
              0.8888888888888888,
              "#fdca26"
             ],
             [
              1,
              "#f0f921"
             ]
            ],
            "type": "contour"
           }
          ],
          "contourcarpet": [
           {
            "colorbar": {
             "outlinewidth": 0,
             "ticks": ""
            },
            "type": "contourcarpet"
           }
          ],
          "heatmap": [
           {
            "colorbar": {
             "outlinewidth": 0,
             "ticks": ""
            },
            "colorscale": [
             [
              0,
              "#0d0887"
             ],
             [
              0.1111111111111111,
              "#46039f"
             ],
             [
              0.2222222222222222,
              "#7201a8"
             ],
             [
              0.3333333333333333,
              "#9c179e"
             ],
             [
              0.4444444444444444,
              "#bd3786"
             ],
             [
              0.5555555555555556,
              "#d8576b"
             ],
             [
              0.6666666666666666,
              "#ed7953"
             ],
             [
              0.7777777777777778,
              "#fb9f3a"
             ],
             [
              0.8888888888888888,
              "#fdca26"
             ],
             [
              1,
              "#f0f921"
             ]
            ],
            "type": "heatmap"
           }
          ],
          "heatmapgl": [
           {
            "colorbar": {
             "outlinewidth": 0,
             "ticks": ""
            },
            "colorscale": [
             [
              0,
              "#0d0887"
             ],
             [
              0.1111111111111111,
              "#46039f"
             ],
             [
              0.2222222222222222,
              "#7201a8"
             ],
             [
              0.3333333333333333,
              "#9c179e"
             ],
             [
              0.4444444444444444,
              "#bd3786"
             ],
             [
              0.5555555555555556,
              "#d8576b"
             ],
             [
              0.6666666666666666,
              "#ed7953"
             ],
             [
              0.7777777777777778,
              "#fb9f3a"
             ],
             [
              0.8888888888888888,
              "#fdca26"
             ],
             [
              1,
              "#f0f921"
             ]
            ],
            "type": "heatmapgl"
           }
          ],
          "histogram": [
           {
            "marker": {
             "pattern": {
              "fillmode": "overlay",
              "size": 10,
              "solidity": 0.2
             }
            },
            "type": "histogram"
           }
          ],
          "histogram2d": [
           {
            "colorbar": {
             "outlinewidth": 0,
             "ticks": ""
            },
            "colorscale": [
             [
              0,
              "#0d0887"
             ],
             [
              0.1111111111111111,
              "#46039f"
             ],
             [
              0.2222222222222222,
              "#7201a8"
             ],
             [
              0.3333333333333333,
              "#9c179e"
             ],
             [
              0.4444444444444444,
              "#bd3786"
             ],
             [
              0.5555555555555556,
              "#d8576b"
             ],
             [
              0.6666666666666666,
              "#ed7953"
             ],
             [
              0.7777777777777778,
              "#fb9f3a"
             ],
             [
              0.8888888888888888,
              "#fdca26"
             ],
             [
              1,
              "#f0f921"
             ]
            ],
            "type": "histogram2d"
           }
          ],
          "histogram2dcontour": [
           {
            "colorbar": {
             "outlinewidth": 0,
             "ticks": ""
            },
            "colorscale": [
             [
              0,
              "#0d0887"
             ],
             [
              0.1111111111111111,
              "#46039f"
             ],
             [
              0.2222222222222222,
              "#7201a8"
             ],
             [
              0.3333333333333333,
              "#9c179e"
             ],
             [
              0.4444444444444444,
              "#bd3786"
             ],
             [
              0.5555555555555556,
              "#d8576b"
             ],
             [
              0.6666666666666666,
              "#ed7953"
             ],
             [
              0.7777777777777778,
              "#fb9f3a"
             ],
             [
              0.8888888888888888,
              "#fdca26"
             ],
             [
              1,
              "#f0f921"
             ]
            ],
            "type": "histogram2dcontour"
           }
          ],
          "mesh3d": [
           {
            "colorbar": {
             "outlinewidth": 0,
             "ticks": ""
            },
            "type": "mesh3d"
           }
          ],
          "parcoords": [
           {
            "line": {
             "colorbar": {
              "outlinewidth": 0,
              "ticks": ""
             }
            },
            "type": "parcoords"
           }
          ],
          "pie": [
           {
            "automargin": true,
            "type": "pie"
           }
          ],
          "scatter": [
           {
            "fillpattern": {
             "fillmode": "overlay",
             "size": 10,
             "solidity": 0.2
            },
            "type": "scatter"
           }
          ],
          "scatter3d": [
           {
            "line": {
             "colorbar": {
              "outlinewidth": 0,
              "ticks": ""
             }
            },
            "marker": {
             "colorbar": {
              "outlinewidth": 0,
              "ticks": ""
             }
            },
            "type": "scatter3d"
           }
          ],
          "scattercarpet": [
           {
            "marker": {
             "colorbar": {
              "outlinewidth": 0,
              "ticks": ""
             }
            },
            "type": "scattercarpet"
           }
          ],
          "scattergeo": [
           {
            "marker": {
             "colorbar": {
              "outlinewidth": 0,
              "ticks": ""
             }
            },
            "type": "scattergeo"
           }
          ],
          "scattergl": [
           {
            "marker": {
             "colorbar": {
              "outlinewidth": 0,
              "ticks": ""
             }
            },
            "type": "scattergl"
           }
          ],
          "scattermapbox": [
           {
            "marker": {
             "colorbar": {
              "outlinewidth": 0,
              "ticks": ""
             }
            },
            "type": "scattermapbox"
           }
          ],
          "scatterpolar": [
           {
            "marker": {
             "colorbar": {
              "outlinewidth": 0,
              "ticks": ""
             }
            },
            "type": "scatterpolar"
           }
          ],
          "scatterpolargl": [
           {
            "marker": {
             "colorbar": {
              "outlinewidth": 0,
              "ticks": ""
             }
            },
            "type": "scatterpolargl"
           }
          ],
          "scatterternary": [
           {
            "marker": {
             "colorbar": {
              "outlinewidth": 0,
              "ticks": ""
             }
            },
            "type": "scatterternary"
           }
          ],
          "surface": [
           {
            "colorbar": {
             "outlinewidth": 0,
             "ticks": ""
            },
            "colorscale": [
             [
              0,
              "#0d0887"
             ],
             [
              0.1111111111111111,
              "#46039f"
             ],
             [
              0.2222222222222222,
              "#7201a8"
             ],
             [
              0.3333333333333333,
              "#9c179e"
             ],
             [
              0.4444444444444444,
              "#bd3786"
             ],
             [
              0.5555555555555556,
              "#d8576b"
             ],
             [
              0.6666666666666666,
              "#ed7953"
             ],
             [
              0.7777777777777778,
              "#fb9f3a"
             ],
             [
              0.8888888888888888,
              "#fdca26"
             ],
             [
              1,
              "#f0f921"
             ]
            ],
            "type": "surface"
           }
          ],
          "table": [
           {
            "cells": {
             "fill": {
              "color": "#EBF0F8"
             },
             "line": {
              "color": "white"
             }
            },
            "header": {
             "fill": {
              "color": "#C8D4E3"
             },
             "line": {
              "color": "white"
             }
            },
            "type": "table"
           }
          ]
         },
         "layout": {
          "annotationdefaults": {
           "arrowcolor": "#2a3f5f",
           "arrowhead": 0,
           "arrowwidth": 1
          },
          "autotypenumbers": "strict",
          "coloraxis": {
           "colorbar": {
            "outlinewidth": 0,
            "ticks": ""
           }
          },
          "colorscale": {
           "diverging": [
            [
             0,
             "#8e0152"
            ],
            [
             0.1,
             "#c51b7d"
            ],
            [
             0.2,
             "#de77ae"
            ],
            [
             0.3,
             "#f1b6da"
            ],
            [
             0.4,
             "#fde0ef"
            ],
            [
             0.5,
             "#f7f7f7"
            ],
            [
             0.6,
             "#e6f5d0"
            ],
            [
             0.7,
             "#b8e186"
            ],
            [
             0.8,
             "#7fbc41"
            ],
            [
             0.9,
             "#4d9221"
            ],
            [
             1,
             "#276419"
            ]
           ],
           "sequential": [
            [
             0,
             "#0d0887"
            ],
            [
             0.1111111111111111,
             "#46039f"
            ],
            [
             0.2222222222222222,
             "#7201a8"
            ],
            [
             0.3333333333333333,
             "#9c179e"
            ],
            [
             0.4444444444444444,
             "#bd3786"
            ],
            [
             0.5555555555555556,
             "#d8576b"
            ],
            [
             0.6666666666666666,
             "#ed7953"
            ],
            [
             0.7777777777777778,
             "#fb9f3a"
            ],
            [
             0.8888888888888888,
             "#fdca26"
            ],
            [
             1,
             "#f0f921"
            ]
           ],
           "sequentialminus": [
            [
             0,
             "#0d0887"
            ],
            [
             0.1111111111111111,
             "#46039f"
            ],
            [
             0.2222222222222222,
             "#7201a8"
            ],
            [
             0.3333333333333333,
             "#9c179e"
            ],
            [
             0.4444444444444444,
             "#bd3786"
            ],
            [
             0.5555555555555556,
             "#d8576b"
            ],
            [
             0.6666666666666666,
             "#ed7953"
            ],
            [
             0.7777777777777778,
             "#fb9f3a"
            ],
            [
             0.8888888888888888,
             "#fdca26"
            ],
            [
             1,
             "#f0f921"
            ]
           ]
          },
          "colorway": [
           "#636efa",
           "#EF553B",
           "#00cc96",
           "#ab63fa",
           "#FFA15A",
           "#19d3f3",
           "#FF6692",
           "#B6E880",
           "#FF97FF",
           "#FECB52"
          ],
          "font": {
           "color": "#2a3f5f"
          },
          "geo": {
           "bgcolor": "white",
           "lakecolor": "white",
           "landcolor": "#E5ECF6",
           "showlakes": true,
           "showland": true,
           "subunitcolor": "white"
          },
          "hoverlabel": {
           "align": "left"
          },
          "hovermode": "closest",
          "mapbox": {
           "style": "light"
          },
          "paper_bgcolor": "white",
          "plot_bgcolor": "#E5ECF6",
          "polar": {
           "angularaxis": {
            "gridcolor": "white",
            "linecolor": "white",
            "ticks": ""
           },
           "bgcolor": "#E5ECF6",
           "radialaxis": {
            "gridcolor": "white",
            "linecolor": "white",
            "ticks": ""
           }
          },
          "scene": {
           "xaxis": {
            "backgroundcolor": "#E5ECF6",
            "gridcolor": "white",
            "gridwidth": 2,
            "linecolor": "white",
            "showbackground": true,
            "ticks": "",
            "zerolinecolor": "white"
           },
           "yaxis": {
            "backgroundcolor": "#E5ECF6",
            "gridcolor": "white",
            "gridwidth": 2,
            "linecolor": "white",
            "showbackground": true,
            "ticks": "",
            "zerolinecolor": "white"
           },
           "zaxis": {
            "backgroundcolor": "#E5ECF6",
            "gridcolor": "white",
            "gridwidth": 2,
            "linecolor": "white",
            "showbackground": true,
            "ticks": "",
            "zerolinecolor": "white"
           }
          },
          "shapedefaults": {
           "line": {
            "color": "#2a3f5f"
           }
          },
          "ternary": {
           "aaxis": {
            "gridcolor": "white",
            "linecolor": "white",
            "ticks": ""
           },
           "baxis": {
            "gridcolor": "white",
            "linecolor": "white",
            "ticks": ""
           },
           "bgcolor": "#E5ECF6",
           "caxis": {
            "gridcolor": "white",
            "linecolor": "white",
            "ticks": ""
           }
          },
          "title": {
           "x": 0.05
          },
          "xaxis": {
           "automargin": true,
           "gridcolor": "white",
           "linecolor": "white",
           "ticks": "",
           "title": {
            "standoff": 15
           },
           "zerolinecolor": "white",
           "zerolinewidth": 2
          },
          "yaxis": {
           "automargin": true,
           "gridcolor": "white",
           "linecolor": "white",
           "ticks": "",
           "title": {
            "standoff": 15
           },
           "zerolinecolor": "white",
           "zerolinewidth": 2
          }
         }
        },
        "title": {
         "text": "Valores propios y valor propio promedio"
        },
        "width": 500,
        "xaxis": {
         "anchor": "y",
         "domain": [
          0,
          1
         ],
         "tickangle": -90,
         "title": {
          "text": "x"
         }
        },
        "yaxis": {
         "anchor": "x",
         "domain": [
          0,
          1
         ],
         "dtick": 0.05,
         "title": {
          "text": "Valor propio"
         }
        }
       }
      }
     },
     "metadata": {},
     "output_type": "display_data"
    }
   ],
   "source": [
    "# Crear una lista de etiquetas para el eje x del gráfico\n",
    "x = ['Comp 1','Comp 2','Comp 3','Comp 4','Comp 5','Comp 6','Comp 7','Comp 8']\n",
    "\n",
    "# Crear un gráfico de barras con los valores propios y el valor promedio\n",
    "fig = px.bar(eigenvalues_summary_Z,\n",
    "             x=x,\n",
    "            #  ['Comp 1','Comp 2','Comp 3','Comp 4','Comp 5','Comp 6','Comp 7','Comp 8'],\n",
    "             y='Valor propio', text_auto='.3',\n",
    "             title=\"Valores propios y valor propio promedio\")\n",
    "\n",
    "# Actualizar la apariencia del gráfico\n",
    "fig.update_traces(textfont_size=12, textangle=0, textposition=\"outside\", cliponaxis=False)\n",
    "fig.update_layout(xaxis_tickangle=-90)\n",
    "fig.update_layout(width=500)\n",
    "fig.update_layout(yaxis=dict(dtick=0.05))\n",
    "\n",
    "# Agregar una línea de trazo para el valor promedio\n",
    "fig.add_trace(go.Scatter(x=x, y=[mean_val] * len(x),\n",
    "                         mode='lines',\n",
    "                         name='0.25',\n",
    "                         line=dict(color='red'),\n",
    "                         showlegend=False))\n",
    "\n",
    "# Mostrar el gráfico\n",
    "fig.show()"
   ]
  },
  {
   "attachments": {},
   "cell_type": "markdown",
   "metadata": {},
   "source": [
    "### Nube de individuos"
   ]
  },
  {
   "cell_type": "code",
   "execution_count": 19,
   "metadata": {},
   "outputs": [
    {
     "data": {
      "text/html": [
       "<div>\n",
       "<style scoped>\n",
       "    .dataframe tbody tr th:only-of-type {\n",
       "        vertical-align: middle;\n",
       "    }\n",
       "\n",
       "    .dataframe tbody tr th {\n",
       "        vertical-align: top;\n",
       "    }\n",
       "\n",
       "    .dataframe thead th {\n",
       "        text-align: right;\n",
       "    }\n",
       "</style>\n",
       "<table border=\"1\" class=\"dataframe\">\n",
       "  <thead>\n",
       "    <tr style=\"text-align: right;\">\n",
       "      <th></th>\n",
       "      <th>0</th>\n",
       "      <th>1</th>\n",
       "      <th>2</th>\n",
       "      <th>3</th>\n",
       "      <th>4</th>\n",
       "      <th>5</th>\n",
       "      <th>6</th>\n",
       "      <th>7</th>\n",
       "    </tr>\n",
       "  </thead>\n",
       "  <tbody>\n",
       "    <tr>\n",
       "      <th>0</th>\n",
       "      <td>-0.585759</td>\n",
       "      <td>0.701510</td>\n",
       "      <td>0.649514</td>\n",
       "      <td>-0.157755</td>\n",
       "      <td>0.053737</td>\n",
       "      <td>0.202652</td>\n",
       "      <td>-0.957437</td>\n",
       "      <td>0.090956</td>\n",
       "    </tr>\n",
       "    <tr>\n",
       "      <th>1</th>\n",
       "      <td>-0.563779</td>\n",
       "      <td>-0.220058</td>\n",
       "      <td>0.315105</td>\n",
       "      <td>0.171639</td>\n",
       "      <td>-0.137415</td>\n",
       "      <td>-0.617858</td>\n",
       "      <td>0.208022</td>\n",
       "      <td>-0.147212</td>\n",
       "    </tr>\n",
       "    <tr>\n",
       "      <th>2</th>\n",
       "      <td>-0.196604</td>\n",
       "      <td>0.140595</td>\n",
       "      <td>-0.907408</td>\n",
       "      <td>0.210090</td>\n",
       "      <td>1.166903</td>\n",
       "      <td>0.395276</td>\n",
       "      <td>-0.543991</td>\n",
       "      <td>-0.308536</td>\n",
       "    </tr>\n",
       "    <tr>\n",
       "      <th>3</th>\n",
       "      <td>-0.196604</td>\n",
       "      <td>0.140595</td>\n",
       "      <td>-0.907408</td>\n",
       "      <td>0.210090</td>\n",
       "      <td>1.166903</td>\n",
       "      <td>0.395276</td>\n",
       "      <td>-0.543991</td>\n",
       "      <td>-0.308536</td>\n",
       "    </tr>\n",
       "    <tr>\n",
       "      <th>4</th>\n",
       "      <td>-0.563779</td>\n",
       "      <td>-0.220058</td>\n",
       "      <td>0.315105</td>\n",
       "      <td>0.171639</td>\n",
       "      <td>-0.137415</td>\n",
       "      <td>-0.617858</td>\n",
       "      <td>0.208022</td>\n",
       "      <td>-0.147212</td>\n",
       "    </tr>\n",
       "  </tbody>\n",
       "</table>\n",
       "</div>"
      ],
      "text/plain": [
       "          0         1         2         3         4         5         6  \\\n",
       "0 -0.585759  0.701510  0.649514 -0.157755  0.053737  0.202652 -0.957437   \n",
       "1 -0.563779 -0.220058  0.315105  0.171639 -0.137415 -0.617858  0.208022   \n",
       "2 -0.196604  0.140595 -0.907408  0.210090  1.166903  0.395276 -0.543991   \n",
       "3 -0.196604  0.140595 -0.907408  0.210090  1.166903  0.395276 -0.543991   \n",
       "4 -0.563779 -0.220058  0.315105  0.171639 -0.137415 -0.617858  0.208022   \n",
       "\n",
       "          7  \n",
       "0  0.090956  \n",
       "1 -0.147212  \n",
       "2 -0.308536  \n",
       "3 -0.308536  \n",
       "4 -0.147212  "
      ]
     },
     "execution_count": 19,
     "metadata": {},
     "output_type": "execute_result"
    }
   ],
   "source": [
    "# Calcular las coordenadas de las filas usando MCA en el dataframe Z\n",
    "row_coordinates_Z = mca_Z.row_coordinates(Z)\n",
    "\n",
    "# Mostrar las primeras filas de las coordenadas de las filas\n",
    "row_coordinates_Z.head()"
   ]
  },
  {
   "cell_type": "code",
   "execution_count": 20,
   "metadata": {},
   "outputs": [
    {
     "data": {
      "text/html": [
       "<div>\n",
       "<style scoped>\n",
       "    .dataframe tbody tr th:only-of-type {\n",
       "        vertical-align: middle;\n",
       "    }\n",
       "\n",
       "    .dataframe tbody tr th {\n",
       "        vertical-align: top;\n",
       "    }\n",
       "\n",
       "    .dataframe thead th {\n",
       "        text-align: right;\n",
       "    }\n",
       "</style>\n",
       "<table border=\"1\" class=\"dataframe\">\n",
       "  <thead>\n",
       "    <tr style=\"text-align: right;\">\n",
       "      <th></th>\n",
       "      <th>Componente 1</th>\n",
       "      <th>Componente 2</th>\n",
       "      <th>Componente 3</th>\n",
       "      <th>Componente 4</th>\n",
       "      <th>Componente 5</th>\n",
       "      <th>Componente 6</th>\n",
       "      <th>Componente 7</th>\n",
       "      <th>Componente 8</th>\n",
       "    </tr>\n",
       "  </thead>\n",
       "  <tbody>\n",
       "    <tr>\n",
       "      <th>0</th>\n",
       "      <td>-0.585759</td>\n",
       "      <td>0.701510</td>\n",
       "      <td>0.649514</td>\n",
       "      <td>-0.157755</td>\n",
       "      <td>0.053737</td>\n",
       "      <td>0.202652</td>\n",
       "      <td>-0.957437</td>\n",
       "      <td>0.090956</td>\n",
       "    </tr>\n",
       "    <tr>\n",
       "      <th>1</th>\n",
       "      <td>-0.563779</td>\n",
       "      <td>-0.220058</td>\n",
       "      <td>0.315105</td>\n",
       "      <td>0.171639</td>\n",
       "      <td>-0.137415</td>\n",
       "      <td>-0.617858</td>\n",
       "      <td>0.208022</td>\n",
       "      <td>-0.147212</td>\n",
       "    </tr>\n",
       "    <tr>\n",
       "      <th>2</th>\n",
       "      <td>-0.196604</td>\n",
       "      <td>0.140595</td>\n",
       "      <td>-0.907408</td>\n",
       "      <td>0.210090</td>\n",
       "      <td>1.166903</td>\n",
       "      <td>0.395276</td>\n",
       "      <td>-0.543991</td>\n",
       "      <td>-0.308536</td>\n",
       "    </tr>\n",
       "    <tr>\n",
       "      <th>3</th>\n",
       "      <td>-0.196604</td>\n",
       "      <td>0.140595</td>\n",
       "      <td>-0.907408</td>\n",
       "      <td>0.210090</td>\n",
       "      <td>1.166903</td>\n",
       "      <td>0.395276</td>\n",
       "      <td>-0.543991</td>\n",
       "      <td>-0.308536</td>\n",
       "    </tr>\n",
       "    <tr>\n",
       "      <th>4</th>\n",
       "      <td>-0.563779</td>\n",
       "      <td>-0.220058</td>\n",
       "      <td>0.315105</td>\n",
       "      <td>0.171639</td>\n",
       "      <td>-0.137415</td>\n",
       "      <td>-0.617858</td>\n",
       "      <td>0.208022</td>\n",
       "      <td>-0.147212</td>\n",
       "    </tr>\n",
       "  </tbody>\n",
       "</table>\n",
       "</div>"
      ],
      "text/plain": [
       "   Componente 1  Componente 2  Componente 3  Componente 4  Componente 5  \\\n",
       "0     -0.585759      0.701510      0.649514     -0.157755      0.053737   \n",
       "1     -0.563779     -0.220058      0.315105      0.171639     -0.137415   \n",
       "2     -0.196604      0.140595     -0.907408      0.210090      1.166903   \n",
       "3     -0.196604      0.140595     -0.907408      0.210090      1.166903   \n",
       "4     -0.563779     -0.220058      0.315105      0.171639     -0.137415   \n",
       "\n",
       "   Componente 6  Componente 7  Componente 8  \n",
       "0      0.202652     -0.957437      0.090956  \n",
       "1     -0.617858      0.208022     -0.147212  \n",
       "2      0.395276     -0.543991     -0.308536  \n",
       "3      0.395276     -0.543991     -0.308536  \n",
       "4     -0.617858      0.208022     -0.147212  "
      ]
     },
     "execution_count": 20,
     "metadata": {},
     "output_type": "execute_result"
    }
   ],
   "source": [
    "# # Generar los nombres de las filas y las columnas del Dataframe row_coordinates_Z\n",
    "row_names = row_coordinates_Z.index\n",
    "\n",
    "# Crear nombres de columnas para las coordenadas de las filas\n",
    "column_names = [f\"Componente {i+1}\" for i in range(row_coordinates_Z.shape[1])]\n",
    "\n",
    "# Crear un dataframe con las coordenadas de las filas\n",
    "row_coordinates_Z = pd.DataFrame(data=row_coordinates_Z.values, index=row_names, columns=column_names)\n",
    "\n",
    "# Mostrar las primeras filas del dataframe de coordenadas de las filas\n",
    "row_coordinates_Z.head()"
   ]
  },
  {
   "cell_type": "code",
   "execution_count": 21,
   "metadata": {},
   "outputs": [
    {
     "data": {
      "application/vnd.plotly.v1+json": {
       "config": {
        "plotlyServerURL": "https://plot.ly"
       },
       "data": [
        {
         "marker": {
          "color": "black",
          "size": 3
         },
         "mode": "markers+text",
         "name": "Nube de individuos",
         "text": [
          0,
          1,
          2,
          3,
          4,
          5,
          6,
          7,
          8,
          9,
          10,
          11,
          12,
          13,
          14,
          15,
          16,
          17,
          18,
          19,
          20,
          21,
          22,
          23,
          24,
          25,
          26,
          27,
          28,
          29,
          30,
          31,
          32,
          33,
          34,
          35,
          36,
          37,
          38,
          39,
          40,
          41,
          42,
          43,
          44,
          45,
          46,
          47,
          48,
          49,
          50,
          51,
          52,
          53,
          54,
          55,
          56,
          57,
          58,
          59,
          60,
          61,
          62,
          63,
          64,
          65,
          66,
          67,
          68,
          69,
          70,
          71,
          72,
          73,
          74,
          75,
          76,
          77,
          78,
          79,
          80,
          81,
          82,
          83,
          84,
          85,
          86,
          87,
          88,
          89,
          90,
          91,
          92,
          93,
          94,
          95,
          96,
          97,
          98,
          99,
          100,
          101,
          102,
          103,
          104,
          105,
          106,
          107,
          108,
          109,
          110,
          111,
          112,
          113,
          114,
          115,
          116,
          117,
          118,
          119,
          120,
          121,
          122,
          123,
          124,
          125,
          126,
          127,
          128,
          129,
          130,
          131,
          132,
          133,
          134,
          135,
          136,
          137,
          138,
          139,
          140,
          141,
          142,
          143,
          144,
          145,
          146,
          147,
          148,
          149,
          150,
          151,
          152,
          153,
          154,
          155,
          156,
          157,
          158,
          159,
          160,
          161,
          162,
          163,
          164,
          165,
          166,
          167,
          168,
          169,
          170,
          171,
          172,
          173,
          174,
          175,
          176,
          177,
          178,
          179,
          180,
          181,
          182,
          183,
          184,
          185,
          186,
          187,
          188,
          189,
          190,
          191,
          192,
          193,
          194,
          195,
          196,
          197,
          198,
          199,
          200,
          201,
          202,
          203,
          204,
          205,
          206,
          207,
          208,
          209,
          210,
          211,
          212,
          213,
          214,
          215,
          216,
          217,
          218,
          219,
          220,
          221,
          222,
          223,
          224,
          225,
          226,
          227,
          228,
          229,
          230,
          231,
          232,
          233,
          234,
          235,
          236,
          237,
          238,
          239,
          240,
          241,
          242,
          243,
          244,
          245,
          246,
          247,
          248,
          249,
          250,
          251,
          252,
          253,
          254,
          255,
          256,
          257,
          258,
          259,
          260,
          261,
          262,
          263,
          264,
          265,
          266,
          267,
          268,
          269,
          270,
          271,
          272,
          273,
          274,
          275,
          276,
          277,
          278,
          279,
          280,
          281,
          282,
          283,
          284,
          285,
          286,
          287,
          288,
          289,
          290,
          291,
          292,
          293,
          294,
          295,
          296,
          297,
          298,
          299,
          300,
          301,
          302,
          303,
          304,
          305,
          306,
          307,
          308,
          309,
          310,
          311,
          312,
          313,
          314,
          315,
          316,
          317,
          318,
          319,
          320,
          321,
          322,
          323,
          324,
          325,
          326,
          327,
          328,
          329,
          330,
          331,
          332,
          333,
          334,
          335,
          336,
          337,
          338,
          339,
          340,
          341,
          342,
          343,
          344,
          345,
          346,
          347,
          348,
          349,
          350,
          351,
          352,
          353,
          354,
          355,
          356,
          357,
          358,
          359,
          360,
          361,
          362,
          363,
          364,
          365,
          366,
          367,
          368,
          369,
          370,
          371,
          372,
          373,
          374,
          375,
          376,
          377,
          378,
          379,
          380,
          381,
          382,
          383,
          384,
          385,
          386,
          387,
          388,
          389,
          390,
          391,
          392,
          393,
          394,
          395,
          396,
          397,
          398,
          399,
          400,
          401,
          402,
          403,
          404,
          405,
          406,
          407,
          408,
          409,
          410,
          411,
          412,
          413,
          414,
          415,
          416,
          417,
          418,
          419,
          420,
          421,
          422,
          423,
          424,
          425,
          426,
          427,
          428,
          429,
          430,
          431,
          432,
          433,
          434,
          435,
          436,
          437,
          438,
          439,
          440,
          441,
          442,
          443,
          444
         ],
         "textfont": {
          "size": 15
         },
         "textposition": "middle right",
         "type": "scatter",
         "x": [
          -0.5857586417639165,
          -0.5637792563896756,
          -0.196604167225429,
          -0.196604167225429,
          -0.5637792563896756,
          -0.6419436371950387,
          -0.6419436371950387,
          -0.5637792563896756,
          -0.4446134057452865,
          -0.8068027254312957,
          0.12458368262155403,
          -0.5637792563896756,
          -0.3148371863335903,
          -0.5857586417639165,
          -0.5637792563896756,
          -0.8068027254312957,
          -0.3664490249399235,
          -0.4446134057452865,
          0.2730368871435986,
          -0.3664490249399235,
          0.3219139140713062,
          0.2437495332659432,
          0.2730368871435986,
          0.3219139140713062,
          0.13868751090711337,
          0.7214098868450244,
          -0.33681657170783114,
          -0.04511743297156829,
          0.3219139140713062,
          1.1541569007797914,
          0.2600096325156393,
          0.3219139140713062,
          1.0243806813680953,
          0.2819890178898801,
          0.7214098868450244,
          1.0759925199744285,
          0.7214098868450244,
          0.3876295809631987,
          0.08923194326491694,
          0.584026980876723,
          0.662191361682086,
          0.3876295809631987,
          0.9052148307237061,
          -0.5075942609585534,
          -0.39300156713895334,
          -0.3102640295088013,
          -0.2586521909024681,
          -0.3664490249399235,
          -0.5637792563896756,
          -0.11843978642006603,
          -0.5075942609585534,
          -0.7506177300001735,
          -0.8849671062366588,
          0.12458368262155403,
          -0.5075942609585534,
          -0.3148371863335903,
          -0.5857586417639165,
          1.1541569007797914,
          0.13868751090711337,
          0.2168518917124764,
          1.1541569007797914,
          1.0759925199744285,
          1.1541569007797914,
          -0.5637792563896756,
          -0.2586521909024681,
          0.12458368262155403,
          -0.33681657170783114,
          -0.5637792563896756,
          -0.3664490249399235,
          0.12458368262155403,
          0.12458368262155403,
          -0.5637792563896756,
          -0.5637792563896756,
          0.2437495332659432,
          0.12458368262155403,
          -0.3148371863335903,
          -0.6419436371950387,
          -0.39300156713895334,
          -0.39300156713895334,
          0.12458368262155403,
          -0.33681657170783114,
          0.3219139140713062,
          -0.5637792563896756,
          0.12458368262155403,
          0.2953613718722763,
          0.3735257526776393,
          -0.39300156713895334,
          -0.3664490249399235,
          0.2437495332659432,
          0.3219139140713062,
          0.6432455060396614,
          0.3219139140713062,
          0.3219139140713062,
          0.3735257526776393,
          -0.8068027254312957,
          0.3219139140713062,
          0.2038246370845171,
          0.3219139140713062,
          0.9052148307237061,
          -0.8068027254312957,
          -0.3664490249399235,
          0.6432455060396614,
          0.9187401182947766,
          0.08923194326491694,
          0.2168518917124764,
          0.46579396176856175,
          0.19487250633823558,
          0.3735257526776393,
          -0.3148371863335903,
          0.2953613718722763,
          -0.5637792563896756,
          -0.39300156713895334,
          -0.3148371863335903,
          0.12458368262155403,
          -0.3148371863335903,
          0.3219139140713062,
          -0.5637792563896756,
          -0.4446134057452865,
          -0.5637792563896756,
          -0.7506177300001735,
          0.12458368262155403,
          -0.5075942609585534,
          1.1025450621734583,
          0.662191361682086,
          0.13868751090711337,
          0.2168518917124764,
          0.662191361682086,
          0.2168518917124764,
          -0.5075942609585534,
          -0.5637792563896756,
          -0.39300156713895334,
          -0.6419436371950387,
          -0.39300156713895334,
          -0.5637792563896756,
          -0.8068027254312957,
          -0.8849671062366588,
          -0.4446134057452865,
          0.12458368262155403,
          -0.6419436371950387,
          0.046419301816191,
          -0.39300156713895334,
          -0.8849671062366588,
          -0.6419436371950387,
          -0.6419436371950387,
          -0.6419436371950387,
          -0.39300156713895334,
          -0.3148371863335903,
          0.2437495332659432,
          -0.6419436371950387,
          0.2953613718722763,
          -0.6419436371950387,
          -0.39300156713895334,
          -0.8849671062366588,
          0.3219139140713062,
          0.2168518917124764,
          -0.3664490249399235,
          0.046419301816191,
          0.3219139140713062,
          -0.8068027254312957,
          0.3219139140713062,
          -0.8068027254312957,
          -0.8068027254312957,
          1.0759925199744285,
          -0.8068027254312957,
          -0.196604167225429,
          0.3219139140713062,
          -0.196604167225429,
          0.12458368262155403,
          0.3876295809631987,
          -0.11843978642006603,
          0.9187401182947766,
          0.47838641780340435,
          0.9703519569011098,
          0.2953613718722763,
          -0.3102640295088013,
          0.3876295809631987,
          1.0759925199744285,
          0.03304694783379474,
          1.0243806813680953,
          0.2437495332659432,
          -0.5637792563896756,
          -0.3664490249399235,
          1.0243806813680953,
          -0.5637792563896756,
          -0.8849671062366588,
          -0.5857586417639165,
          0.12458368262155403,
          -0.5857586417639165,
          -0.3148371863335903,
          -0.6419436371950387,
          0.12458368262155403,
          -0.8849671062366588,
          -0.33681657170783114,
          -0.2586521909024681,
          -0.11843978642006603,
          -0.2586521909024681,
          0.9052148307237061,
          0.19487250633823558,
          1.0759925199744285,
          0.8270504499183431,
          0.9052148307237061,
          1.0243806813680953,
          -0.7506177300001735,
          -0.2586521909024681,
          -0.39300156713895334,
          -0.3148371863335903,
          -0.5637792563896756,
          -0.8068027254312957,
          -0.5637792563896756,
          -0.8068027254312957,
          0.3735257526776393,
          -0.3664490249399235,
          -0.11843978642006603,
          -0.2586521909024681,
          0.12458368262155403,
          -0.5637792563896756,
          -0.11843978642006603,
          -0.2586521909024681,
          -0.5075942609585534,
          -0.3664490249399235,
          -0.5075942609585534,
          -0.5075942609585534,
          0.2437495332659432,
          0.12458368262155403,
          0.521978957199684,
          0.3219139140713062,
          -0.5075942609585534,
          0.521978957199684,
          -0.3664490249399235,
          0.7214098868450244,
          0.3735257526776393,
          0.584026980876723,
          0.8270504499183431,
          -0.3884284103141643,
          0.4002220369980414,
          -0.8068027254312957,
          0.7214098868450244,
          1.1541569007797914,
          1.1541569007797914,
          1.1025450621734583,
          0.6432455060396614,
          0.03304694783379474,
          1.1541569007797914,
          0.2168518917124764,
          -0.5637792563896756,
          -0.6419436371950387,
          -0.5637792563896756,
          -0.5637792563896756,
          -0.5637792563896756,
          -0.5075942609585534,
          -0.5857586417639165,
          -0.5637792563896756,
          1.1025450621734583,
          -0.3148371863335903,
          -0.5637792563896756,
          -0.33681657170783114,
          -0.33681657170783114,
          -0.5637792563896756,
          -0.2586521909024681,
          -0.8068027254312957,
          -0.7506177300001735,
          -0.7506177300001735,
          -0.3102640295088013,
          1.1541569007797914,
          -0.3664490249399235,
          0.3735257526776393,
          -0.3664490249399235,
          -0.3664490249399235,
          -0.6419436371950387,
          -0.6419436371950387,
          -0.8068027254312957,
          -0.3664490249399235,
          -0.5637792563896756,
          -0.3664490249399235,
          0.12458368262155403,
          0.9052148307237061,
          0.9052148307237061,
          0.46579396176856175,
          0.2168518917124764,
          0.2168518917124764,
          0.9052148307237061,
          1.1541569007797914,
          1.1541569007797914,
          -0.3664490249399235,
          0.12458368262155403,
          -0.5857586417639165,
          -0.5637792563896756,
          -0.2586521909024681,
          -0.3664490249399235,
          -0.5637792563896756,
          0.12458368262155403,
          0.12458368262155403,
          -0.3148371863335903,
          -0.5075942609585534,
          0.08923194326491694,
          0.08923194326491694,
          0.7214098868450244,
          0.2819890178898801,
          0.9052148307237061,
          1.1025450621734583,
          0.3219139140713062,
          0.3735257526776393,
          0.8270504499183431,
          0.9187401182947766,
          0.2168518917124764,
          0.521978957199684,
          -0.39300156713895334,
          -0.2586521909024681,
          1.1541569007797914,
          -0.7506177300001735,
          -0.5857586417639165,
          -0.2586521909024681,
          -0.6419436371950387,
          -0.8287821108055365,
          -0.5075942609585534,
          -0.33681657170783114,
          0.9052148307237061,
          -0.2586521909024681,
          0.2437495332659432,
          -0.5637792563896756,
          -0.5075942609585534,
          0.3219139140713062,
          -0.5075942609585534,
          -0.5075942609585534,
          -0.5075942609585534,
          0.12458368262155403,
          0.12458368262155403,
          0.9052148307237061,
          1.1025450621734583,
          -0.4446134057452865,
          0.12458368262155403,
          -0.8068027254312957,
          -0.5637792563896756,
          -0.3664490249399235,
          -0.3148371863335903,
          -0.8068027254312957,
          -0.3664490249399235,
          -0.6419436371950387,
          -0.5637792563896756,
          -0.5637792563896756,
          -0.8068027254312957,
          0.3219139140713062,
          0.2819890178898801,
          1.1541569007797914,
          0.7214098868450244,
          -0.3664490249399235,
          -0.11843978642006603,
          0.2168518917124764,
          -0.3664490249399235,
          -0.3664490249399235,
          0.3219139140713062,
          0.3735257526776393,
          0.3219139140713062,
          0.3219139140713062,
          0.8405757374894136,
          -0.5075942609585534,
          0.12458368262155403,
          -0.8068027254312957,
          -0.5075942609585534,
          0.3219139140713062,
          0.4141821231622286,
          -0.3664490249399235,
          0.521978957199684,
          0.9187401182947766,
          1.1541569007797914,
          -0.3102640295088013,
          0.12458368262155403,
          -0.3102640295088013,
          -0.5637792563896756,
          0.3735257526776393,
          -0.3102640295088013,
          1.1025450621734583,
          -0.5637792563896756,
          -0.39300156713895334,
          -0.3664490249399235,
          -0.4446134057452865,
          -0.3148371863335903,
          1.1025450621734583,
          1.1025450621734583,
          0.4438145763943209,
          1.1541569007797914,
          0.9052148307237061,
          -0.39300156713895334,
          -0.196604167225429,
          -0.8849671062366588,
          -0.2586521909024681,
          -0.3664490249399235,
          -0.3664490249399235,
          0.3735257526776393,
          0.3735257526776393,
          -0.39300156713895334,
          -0.3664490249399235,
          -0.196604167225429,
          -0.5075942609585534,
          -0.8068027254312957,
          0.3219139140713062,
          -0.3664490249399235,
          0.8921875760957467,
          0.3219139140713062,
          -0.196604167225429,
          -0.3148371863335903,
          0.12458368262155403,
          -0.3664490249399235,
          1.1541569007797914,
          0.662191361682086,
          0.9187401182947766,
          0.3219139140713062,
          1.1541569007797914,
          1.0759925199744285,
          0.13868751090711337,
          -0.7506177300001735,
          0.2819890178898801,
          0.03304694783379474,
          0.03304694783379474,
          0.2819890178898801,
          0.9187401182947766,
          1.0759925199744285,
          1.1541569007797914,
          0.9187401182947766,
          0.19487250633823558,
          0.46579396176856175,
          0.9052148307237061,
          0.19487250633823558,
          -0.39300156713895334,
          -0.2586521909024681,
          0.46579396176856175,
          -0.39300156713895334,
          -0.5075942609585534,
          0.046419301816191,
          -0.39300156713895334,
          -0.39300156713895334,
          -0.5075942609585534,
          0.2953613718722763,
          0.3219139140713062,
          0.12458368262155403,
          0.12458368262155403,
          -0.3664490249399235,
          -0.5637792563896756,
          -0.6419436371950387,
          0.046419301816191,
          1.1025450621734583,
          1.1541569007797914,
          1.1541569007797914,
          0.662191361682086,
          0.8270504499183431
         ],
         "y": [
          0.7015097939172187,
          -0.2200582863722025,
          0.14059524418504693,
          0.14059524418504693,
          -0.2200582863722025,
          0.33835925352821666,
          0.33835925352821666,
          -0.2200582863722025,
          -0.22800032522999963,
          -0.29447077845012026,
          -0.3434098036374544,
          -0.2200582863722025,
          0.24260537921521105,
          0.7015097939172187,
          -0.2200582863722025,
          -0.29447077845012026,
          -0.7864178651304189,
          -0.22800032522999963,
          0.49171868793008433,
          -0.7864178651304189,
          -0.9097693823956707,
          -0.35135184249525153,
          0.49171868793008433,
          -0.9097693823956707,
          0.6869856874415015,
          -0.5577827672021312,
          1.1641734595046322,
          0.12398628996353983,
          -0.9097693823956707,
          0.4678802958632439,
          0.9498004959399555,
          -0.9097693823956707,
          -0.0027254085819667633,
          0.02823241565053425,
          -0.5577827672021312,
          1.0262978357636632,
          -0.5577827672021312,
          1.149649353028915,
          -0.07128070954787727,
          0.4892216780983317,
          -0.0691958618020874,
          1.149649353028915,
          0.005216630275830388,
          0.14309225401679954,
          0.8010229191156302,
          -0.4232673247414167,
          0.605755919604213,
          -0.7864178651304189,
          -0.2200582863722025,
          -0.41782229571537216,
          0.14309225401679954,
          0.06867976193888177,
          0.2639467614502989,
          -0.3434098036374544,
          0.14309225401679954,
          0.24260537921521105,
          0.7015097939172187,
          0.4678802958632439,
          0.6869856874415015,
          0.12856814754108228,
          0.4678802958632439,
          1.0262978357636632,
          0.4678802958632439,
          -0.2200582863722025,
          0.605755919604213,
          -0.3434098036374544,
          1.1641734595046322,
          -0.2200582863722025,
          -0.7864178651304189,
          -0.3434098036374544,
          -0.3434098036374544,
          -0.2200582863722025,
          -0.2200582863722025,
          -0.35135184249525153,
          -0.3434098036374544,
          0.24260537921521105,
          0.33835925352821666,
          0.8010229191156302,
          0.8010229191156302,
          -0.3434098036374544,
          1.1641734595046322,
          -0.9097693823956707,
          -0.2200582863722025,
          -0.3434098036374544,
          0.6776714018503783,
          0.11925386194995914,
          0.8010229191156302,
          -0.7864178651304189,
          -0.35135184249525153,
          -0.9097693823956707,
          0.0006347726982879338,
          -0.9097693823956707,
          -0.9097693823956707,
          0.11925386194995914,
          -0.29447077845012026,
          -0.9097693823956707,
          0.5866499555509535,
          -0.9097693823956707,
          0.005216630275830388,
          -0.29447077845012026,
          -0.7864178651304189,
          0.0006347726982879338,
          -1.1241423459603475,
          -0.07128070954787727,
          0.12856814754108228,
          0.5912318131284958,
          1.0501362278305035,
          0.11925386194995914,
          0.24260537921521105,
          0.6776714018503783,
          -0.2200582863722025,
          0.8010229191156302,
          0.24260537921521105,
          -0.3434098036374544,
          0.24260537921521105,
          -0.9097693823956707,
          -0.2200582863722025,
          -0.22800032522999963,
          -0.2200582863722025,
          0.06867976193888177,
          -0.3434098036374544,
          0.14309225401679954,
          -0.5611429484823859,
          -0.0691958618020874,
          0.6869856874415015,
          0.12856814754108228,
          -0.0691958618020874,
          0.12856814754108228,
          0.14309225401679954,
          -0.2200582863722025,
          0.8010229191156302,
          0.33835925352821666,
          0.8010229191156302,
          -0.2200582863722025,
          -0.29447077845012026,
          0.2639467614502989,
          -0.22800032522999963,
          -0.3434098036374544,
          0.33835925352821666,
          0.21500773626296474,
          0.8010229191156302,
          0.2639467614502989,
          0.33835925352821666,
          0.33835925352821666,
          0.33835925352821666,
          0.8010229191156302,
          0.24260537921521105,
          -0.35135184249525153,
          0.33835925352821666,
          0.6776714018503783,
          0.33835925352821666,
          0.8010229191156302,
          0.2639467614502989,
          -0.9097693823956707,
          0.12856814754108228,
          -0.7864178651304189,
          0.21500773626296474,
          -0.9097693823956707,
          -0.29447077845012026,
          -0.9097693823956707,
          -0.29447077845012026,
          -0.29447077845012026,
          1.0262978357636632,
          -0.29447077845012026,
          0.14059524418504693,
          -0.9097693823956707,
          0.14059524418504693,
          -0.3434098036374544,
          1.149649353028915,
          -0.41782229571537216,
          -1.1241423459603475,
          -0.6321952592800489,
          -0.09511910161471768,
          0.6776714018503783,
          -0.4232673247414167,
          1.149649353028915,
          1.0262978357636632,
          -0.4344312499368793,
          -0.0027254085819667633,
          -0.35135184249525153,
          -0.2200582863722025,
          -0.7864178651304189,
          -0.0027254085819667633,
          -0.2200582863722025,
          0.2639467614502989,
          0.7015097939172187,
          -0.3434098036374544,
          0.7015097939172187,
          0.24260537921521105,
          0.33835925352821666,
          -0.3434098036374544,
          0.2639467614502989,
          1.1641734595046322,
          0.605755919604213,
          -0.41782229571537216,
          0.605755919604213,
          0.005216630275830388,
          1.0501362278305035,
          1.0262978357636632,
          0.5636341701762495,
          0.005216630275830388,
          -0.0027254085819667633,
          0.06867976193888177,
          0.605755919604213,
          0.8010229191156302,
          0.24260537921521105,
          -0.2200582863722025,
          -0.29447077845012026,
          -0.2200582863722025,
          -0.29447077845012026,
          0.11925386194995914,
          -0.7864178651304189,
          -0.41782229571537216,
          0.605755919604213,
          -0.3434098036374544,
          -0.2200582863722025,
          -0.41782229571537216,
          0.605755919604213,
          0.14309225401679954,
          -0.7864178651304189,
          0.14309225401679954,
          0.14309225401679954,
          -0.35135184249525153,
          -0.3434098036374544,
          0.9543823535174979,
          -0.9097693823956707,
          0.14309225401679954,
          0.9543823535174979,
          -0.7864178651304189,
          -0.5577827672021312,
          0.11925386194995914,
          0.4892216780983317,
          0.5636341701762495,
          0.1351502151590024,
          -0.07377771937962987,
          -0.29447077845012026,
          -0.5577827672021312,
          0.4678802958632439,
          0.4678802958632439,
          -0.5611429484823859,
          0.0006347726982879338,
          -0.4344312499368793,
          0.4678802958632439,
          0.12856814754108228,
          -0.2200582863722025,
          0.33835925352821666,
          -0.2200582863722025,
          -0.2200582863722025,
          -0.2200582863722025,
          0.14309225401679954,
          0.7015097939172187,
          -0.2200582863722025,
          -0.5611429484823859,
          0.24260537921521105,
          -0.2200582863722025,
          1.1641734595046322,
          1.1641734595046322,
          -0.2200582863722025,
          0.605755919604213,
          -0.29447077845012026,
          0.06867976193888177,
          0.06867976193888177,
          -0.4232673247414167,
          0.4678802958632439,
          -0.7864178651304189,
          0.11925386194995914,
          -0.7864178651304189,
          -0.7864178651304189,
          0.33835925352821666,
          0.33835925352821666,
          -0.29447077845012026,
          -0.7864178651304189,
          -0.2200582863722025,
          -0.7864178651304189,
          -0.3434098036374544,
          0.005216630275830388,
          0.005216630275830388,
          0.5912318131284958,
          0.12856814754108228,
          0.12856814754108228,
          0.005216630275830388,
          0.4678802958632439,
          0.4678802958632439,
          -0.7864178651304189,
          -0.3434098036374544,
          0.7015097939172187,
          -0.2200582863722025,
          0.605755919604213,
          -0.7864178651304189,
          -0.2200582863722025,
          -0.3434098036374544,
          -0.3434098036374544,
          0.24260537921521105,
          0.14309225401679954,
          -0.07128070954787727,
          -0.07128070954787727,
          -0.5577827672021312,
          0.02823241565053425,
          0.005216630275830388,
          -0.5611429484823859,
          -0.9097693823956707,
          0.11925386194995914,
          0.5636341701762495,
          -1.1241423459603475,
          0.12856814754108228,
          0.9543823535174979,
          0.8010229191156302,
          0.605755919604213,
          0.4678802958632439,
          0.06867976193888177,
          0.7015097939172187,
          0.605755919604213,
          0.33835925352821666,
          0.6270973018393009,
          0.14309225401679954,
          1.1641734595046322,
          0.005216630275830388,
          0.605755919604213,
          -0.35135184249525153,
          -0.2200582863722025,
          0.14309225401679954,
          -0.9097693823956707,
          0.14309225401679954,
          0.14309225401679954,
          0.14309225401679954,
          -0.3434098036374544,
          -0.3434098036374544,
          0.005216630275830388,
          -0.5611429484823859,
          -0.22800032522999963,
          -0.3434098036374544,
          -0.29447077845012026,
          -0.2200582863722025,
          -0.7864178651304189,
          0.24260537921521105,
          -0.29447077845012026,
          -0.7864178651304189,
          0.33835925352821666,
          -0.2200582863722025,
          -0.2200582863722025,
          -0.29447077845012026,
          -0.9097693823956707,
          0.02823241565053425,
          0.4678802958632439,
          -0.5577827672021312,
          -0.7864178651304189,
          -0.41782229571537216,
          0.12856814754108228,
          -0.7864178651304189,
          -0.7864178651304189,
          -0.9097693823956707,
          0.11925386194995914,
          -0.9097693823956707,
          -0.9097693823956707,
          -0.5657248060599284,
          0.14309225401679954,
          -0.3434098036374544,
          -0.29447077845012026,
          0.14309225401679954,
          -0.9097693823956707,
          -0.43779143121713404,
          -0.7864178651304189,
          0.9543823535174979,
          -1.1241423459603475,
          0.4678802958632439,
          -0.4232673247414167,
          -0.3434098036374544,
          -0.4232673247414167,
          -0.2200582863722025,
          0.11925386194995914,
          -0.4232673247414167,
          -0.5611429484823859,
          -0.2200582863722025,
          0.8010229191156302,
          -0.7864178651304189,
          -0.22800032522999963,
          0.24260537921521105,
          -0.5611429484823859,
          -0.5611429484823859,
          1.512799893417917,
          0.4678802958632439,
          0.005216630275830388,
          0.8010229191156302,
          0.14059524418504693,
          0.2639467614502989,
          0.605755919604213,
          -0.7864178651304189,
          -0.7864178651304189,
          0.11925386194995914,
          0.11925386194995914,
          0.8010229191156302,
          -0.7864178651304189,
          0.14059524418504693,
          0.14309225401679954,
          -0.29447077845012026,
          -0.9097693823956707,
          -0.7864178651304189,
          0.46329843828570155,
          -0.9097693823956707,
          0.14059524418504693,
          0.24260537921521105,
          -0.3434098036374544,
          -0.7864178651304189,
          0.4678802958632439,
          -0.0691958618020874,
          -1.1241423459603475,
          -0.9097693823956707,
          0.4678802958632439,
          1.0262978357636632,
          0.6869856874415015,
          0.06867976193888177,
          0.02823241565053425,
          -0.4344312499368793,
          -0.4344312499368793,
          0.02823241565053425,
          -1.1241423459603475,
          1.0262978357636632,
          0.4678802958632439,
          -1.1241423459603475,
          1.0501362278305035,
          0.5912318131284958,
          0.005216630275830388,
          1.0501362278305035,
          0.8010229191156302,
          0.605755919604213,
          0.5912318131284958,
          0.8010229191156302,
          0.14309225401679954,
          0.21500773626296474,
          0.8010229191156302,
          0.8010229191156302,
          0.14309225401679954,
          0.6776714018503783,
          -0.9097693823956707,
          -0.3434098036374544,
          -0.3434098036374544,
          -0.7864178651304189,
          -0.2200582863722025,
          0.33835925352821666,
          0.21500773626296474,
          -0.5611429484823859,
          0.4678802958632439,
          0.4678802958632439,
          -0.0691958618020874,
          0.5636341701762495
         ]
        }
       ],
       "layout": {
        "height": 800,
        "showlegend": false,
        "template": {
         "data": {
          "bar": [
           {
            "error_x": {
             "color": "#2a3f5f"
            },
            "error_y": {
             "color": "#2a3f5f"
            },
            "marker": {
             "line": {
              "color": "#E5ECF6",
              "width": 0.5
             },
             "pattern": {
              "fillmode": "overlay",
              "size": 10,
              "solidity": 0.2
             }
            },
            "type": "bar"
           }
          ],
          "barpolar": [
           {
            "marker": {
             "line": {
              "color": "#E5ECF6",
              "width": 0.5
             },
             "pattern": {
              "fillmode": "overlay",
              "size": 10,
              "solidity": 0.2
             }
            },
            "type": "barpolar"
           }
          ],
          "carpet": [
           {
            "aaxis": {
             "endlinecolor": "#2a3f5f",
             "gridcolor": "white",
             "linecolor": "white",
             "minorgridcolor": "white",
             "startlinecolor": "#2a3f5f"
            },
            "baxis": {
             "endlinecolor": "#2a3f5f",
             "gridcolor": "white",
             "linecolor": "white",
             "minorgridcolor": "white",
             "startlinecolor": "#2a3f5f"
            },
            "type": "carpet"
           }
          ],
          "choropleth": [
           {
            "colorbar": {
             "outlinewidth": 0,
             "ticks": ""
            },
            "type": "choropleth"
           }
          ],
          "contour": [
           {
            "colorbar": {
             "outlinewidth": 0,
             "ticks": ""
            },
            "colorscale": [
             [
              0,
              "#0d0887"
             ],
             [
              0.1111111111111111,
              "#46039f"
             ],
             [
              0.2222222222222222,
              "#7201a8"
             ],
             [
              0.3333333333333333,
              "#9c179e"
             ],
             [
              0.4444444444444444,
              "#bd3786"
             ],
             [
              0.5555555555555556,
              "#d8576b"
             ],
             [
              0.6666666666666666,
              "#ed7953"
             ],
             [
              0.7777777777777778,
              "#fb9f3a"
             ],
             [
              0.8888888888888888,
              "#fdca26"
             ],
             [
              1,
              "#f0f921"
             ]
            ],
            "type": "contour"
           }
          ],
          "contourcarpet": [
           {
            "colorbar": {
             "outlinewidth": 0,
             "ticks": ""
            },
            "type": "contourcarpet"
           }
          ],
          "heatmap": [
           {
            "colorbar": {
             "outlinewidth": 0,
             "ticks": ""
            },
            "colorscale": [
             [
              0,
              "#0d0887"
             ],
             [
              0.1111111111111111,
              "#46039f"
             ],
             [
              0.2222222222222222,
              "#7201a8"
             ],
             [
              0.3333333333333333,
              "#9c179e"
             ],
             [
              0.4444444444444444,
              "#bd3786"
             ],
             [
              0.5555555555555556,
              "#d8576b"
             ],
             [
              0.6666666666666666,
              "#ed7953"
             ],
             [
              0.7777777777777778,
              "#fb9f3a"
             ],
             [
              0.8888888888888888,
              "#fdca26"
             ],
             [
              1,
              "#f0f921"
             ]
            ],
            "type": "heatmap"
           }
          ],
          "heatmapgl": [
           {
            "colorbar": {
             "outlinewidth": 0,
             "ticks": ""
            },
            "colorscale": [
             [
              0,
              "#0d0887"
             ],
             [
              0.1111111111111111,
              "#46039f"
             ],
             [
              0.2222222222222222,
              "#7201a8"
             ],
             [
              0.3333333333333333,
              "#9c179e"
             ],
             [
              0.4444444444444444,
              "#bd3786"
             ],
             [
              0.5555555555555556,
              "#d8576b"
             ],
             [
              0.6666666666666666,
              "#ed7953"
             ],
             [
              0.7777777777777778,
              "#fb9f3a"
             ],
             [
              0.8888888888888888,
              "#fdca26"
             ],
             [
              1,
              "#f0f921"
             ]
            ],
            "type": "heatmapgl"
           }
          ],
          "histogram": [
           {
            "marker": {
             "pattern": {
              "fillmode": "overlay",
              "size": 10,
              "solidity": 0.2
             }
            },
            "type": "histogram"
           }
          ],
          "histogram2d": [
           {
            "colorbar": {
             "outlinewidth": 0,
             "ticks": ""
            },
            "colorscale": [
             [
              0,
              "#0d0887"
             ],
             [
              0.1111111111111111,
              "#46039f"
             ],
             [
              0.2222222222222222,
              "#7201a8"
             ],
             [
              0.3333333333333333,
              "#9c179e"
             ],
             [
              0.4444444444444444,
              "#bd3786"
             ],
             [
              0.5555555555555556,
              "#d8576b"
             ],
             [
              0.6666666666666666,
              "#ed7953"
             ],
             [
              0.7777777777777778,
              "#fb9f3a"
             ],
             [
              0.8888888888888888,
              "#fdca26"
             ],
             [
              1,
              "#f0f921"
             ]
            ],
            "type": "histogram2d"
           }
          ],
          "histogram2dcontour": [
           {
            "colorbar": {
             "outlinewidth": 0,
             "ticks": ""
            },
            "colorscale": [
             [
              0,
              "#0d0887"
             ],
             [
              0.1111111111111111,
              "#46039f"
             ],
             [
              0.2222222222222222,
              "#7201a8"
             ],
             [
              0.3333333333333333,
              "#9c179e"
             ],
             [
              0.4444444444444444,
              "#bd3786"
             ],
             [
              0.5555555555555556,
              "#d8576b"
             ],
             [
              0.6666666666666666,
              "#ed7953"
             ],
             [
              0.7777777777777778,
              "#fb9f3a"
             ],
             [
              0.8888888888888888,
              "#fdca26"
             ],
             [
              1,
              "#f0f921"
             ]
            ],
            "type": "histogram2dcontour"
           }
          ],
          "mesh3d": [
           {
            "colorbar": {
             "outlinewidth": 0,
             "ticks": ""
            },
            "type": "mesh3d"
           }
          ],
          "parcoords": [
           {
            "line": {
             "colorbar": {
              "outlinewidth": 0,
              "ticks": ""
             }
            },
            "type": "parcoords"
           }
          ],
          "pie": [
           {
            "automargin": true,
            "type": "pie"
           }
          ],
          "scatter": [
           {
            "fillpattern": {
             "fillmode": "overlay",
             "size": 10,
             "solidity": 0.2
            },
            "type": "scatter"
           }
          ],
          "scatter3d": [
           {
            "line": {
             "colorbar": {
              "outlinewidth": 0,
              "ticks": ""
             }
            },
            "marker": {
             "colorbar": {
              "outlinewidth": 0,
              "ticks": ""
             }
            },
            "type": "scatter3d"
           }
          ],
          "scattercarpet": [
           {
            "marker": {
             "colorbar": {
              "outlinewidth": 0,
              "ticks": ""
             }
            },
            "type": "scattercarpet"
           }
          ],
          "scattergeo": [
           {
            "marker": {
             "colorbar": {
              "outlinewidth": 0,
              "ticks": ""
             }
            },
            "type": "scattergeo"
           }
          ],
          "scattergl": [
           {
            "marker": {
             "colorbar": {
              "outlinewidth": 0,
              "ticks": ""
             }
            },
            "type": "scattergl"
           }
          ],
          "scattermapbox": [
           {
            "marker": {
             "colorbar": {
              "outlinewidth": 0,
              "ticks": ""
             }
            },
            "type": "scattermapbox"
           }
          ],
          "scatterpolar": [
           {
            "marker": {
             "colorbar": {
              "outlinewidth": 0,
              "ticks": ""
             }
            },
            "type": "scatterpolar"
           }
          ],
          "scatterpolargl": [
           {
            "marker": {
             "colorbar": {
              "outlinewidth": 0,
              "ticks": ""
             }
            },
            "type": "scatterpolargl"
           }
          ],
          "scatterternary": [
           {
            "marker": {
             "colorbar": {
              "outlinewidth": 0,
              "ticks": ""
             }
            },
            "type": "scatterternary"
           }
          ],
          "surface": [
           {
            "colorbar": {
             "outlinewidth": 0,
             "ticks": ""
            },
            "colorscale": [
             [
              0,
              "#0d0887"
             ],
             [
              0.1111111111111111,
              "#46039f"
             ],
             [
              0.2222222222222222,
              "#7201a8"
             ],
             [
              0.3333333333333333,
              "#9c179e"
             ],
             [
              0.4444444444444444,
              "#bd3786"
             ],
             [
              0.5555555555555556,
              "#d8576b"
             ],
             [
              0.6666666666666666,
              "#ed7953"
             ],
             [
              0.7777777777777778,
              "#fb9f3a"
             ],
             [
              0.8888888888888888,
              "#fdca26"
             ],
             [
              1,
              "#f0f921"
             ]
            ],
            "type": "surface"
           }
          ],
          "table": [
           {
            "cells": {
             "fill": {
              "color": "#EBF0F8"
             },
             "line": {
              "color": "white"
             }
            },
            "header": {
             "fill": {
              "color": "#C8D4E3"
             },
             "line": {
              "color": "white"
             }
            },
            "type": "table"
           }
          ]
         },
         "layout": {
          "annotationdefaults": {
           "arrowcolor": "#2a3f5f",
           "arrowhead": 0,
           "arrowwidth": 1
          },
          "autotypenumbers": "strict",
          "coloraxis": {
           "colorbar": {
            "outlinewidth": 0,
            "ticks": ""
           }
          },
          "colorscale": {
           "diverging": [
            [
             0,
             "#8e0152"
            ],
            [
             0.1,
             "#c51b7d"
            ],
            [
             0.2,
             "#de77ae"
            ],
            [
             0.3,
             "#f1b6da"
            ],
            [
             0.4,
             "#fde0ef"
            ],
            [
             0.5,
             "#f7f7f7"
            ],
            [
             0.6,
             "#e6f5d0"
            ],
            [
             0.7,
             "#b8e186"
            ],
            [
             0.8,
             "#7fbc41"
            ],
            [
             0.9,
             "#4d9221"
            ],
            [
             1,
             "#276419"
            ]
           ],
           "sequential": [
            [
             0,
             "#0d0887"
            ],
            [
             0.1111111111111111,
             "#46039f"
            ],
            [
             0.2222222222222222,
             "#7201a8"
            ],
            [
             0.3333333333333333,
             "#9c179e"
            ],
            [
             0.4444444444444444,
             "#bd3786"
            ],
            [
             0.5555555555555556,
             "#d8576b"
            ],
            [
             0.6666666666666666,
             "#ed7953"
            ],
            [
             0.7777777777777778,
             "#fb9f3a"
            ],
            [
             0.8888888888888888,
             "#fdca26"
            ],
            [
             1,
             "#f0f921"
            ]
           ],
           "sequentialminus": [
            [
             0,
             "#0d0887"
            ],
            [
             0.1111111111111111,
             "#46039f"
            ],
            [
             0.2222222222222222,
             "#7201a8"
            ],
            [
             0.3333333333333333,
             "#9c179e"
            ],
            [
             0.4444444444444444,
             "#bd3786"
            ],
            [
             0.5555555555555556,
             "#d8576b"
            ],
            [
             0.6666666666666666,
             "#ed7953"
            ],
            [
             0.7777777777777778,
             "#fb9f3a"
            ],
            [
             0.8888888888888888,
             "#fdca26"
            ],
            [
             1,
             "#f0f921"
            ]
           ]
          },
          "colorway": [
           "#636efa",
           "#EF553B",
           "#00cc96",
           "#ab63fa",
           "#FFA15A",
           "#19d3f3",
           "#FF6692",
           "#B6E880",
           "#FF97FF",
           "#FECB52"
          ],
          "font": {
           "color": "#2a3f5f"
          },
          "geo": {
           "bgcolor": "white",
           "lakecolor": "white",
           "landcolor": "#E5ECF6",
           "showlakes": true,
           "showland": true,
           "subunitcolor": "white"
          },
          "hoverlabel": {
           "align": "left"
          },
          "hovermode": "closest",
          "mapbox": {
           "style": "light"
          },
          "paper_bgcolor": "white",
          "plot_bgcolor": "#E5ECF6",
          "polar": {
           "angularaxis": {
            "gridcolor": "white",
            "linecolor": "white",
            "ticks": ""
           },
           "bgcolor": "#E5ECF6",
           "radialaxis": {
            "gridcolor": "white",
            "linecolor": "white",
            "ticks": ""
           }
          },
          "scene": {
           "xaxis": {
            "backgroundcolor": "#E5ECF6",
            "gridcolor": "white",
            "gridwidth": 2,
            "linecolor": "white",
            "showbackground": true,
            "ticks": "",
            "zerolinecolor": "white"
           },
           "yaxis": {
            "backgroundcolor": "#E5ECF6",
            "gridcolor": "white",
            "gridwidth": 2,
            "linecolor": "white",
            "showbackground": true,
            "ticks": "",
            "zerolinecolor": "white"
           },
           "zaxis": {
            "backgroundcolor": "#E5ECF6",
            "gridcolor": "white",
            "gridwidth": 2,
            "linecolor": "white",
            "showbackground": true,
            "ticks": "",
            "zerolinecolor": "white"
           }
          },
          "shapedefaults": {
           "line": {
            "color": "#2a3f5f"
           }
          },
          "ternary": {
           "aaxis": {
            "gridcolor": "white",
            "linecolor": "white",
            "ticks": ""
           },
           "baxis": {
            "gridcolor": "white",
            "linecolor": "white",
            "ticks": ""
           },
           "bgcolor": "#E5ECF6",
           "caxis": {
            "gridcolor": "white",
            "linecolor": "white",
            "ticks": ""
           }
          },
          "title": {
           "x": 0.05
          },
          "xaxis": {
           "automargin": true,
           "gridcolor": "white",
           "linecolor": "white",
           "ticks": "",
           "title": {
            "standoff": 15
           },
           "zerolinecolor": "white",
           "zerolinewidth": 2
          },
          "yaxis": {
           "automargin": true,
           "gridcolor": "white",
           "linecolor": "white",
           "ticks": "",
           "title": {
            "standoff": 15
           },
           "zerolinecolor": "white",
           "zerolinewidth": 2
          }
         }
        },
        "title": {
         "font": {
          "size": 25
         },
         "text": "Nube de individuos plano 1-2"
        },
        "width": 800,
        "xaxis": {
         "dtick": 0.25,
         "range": [
          -1,
          1.5
         ],
         "tickfont": {
          "size": 15
         },
         "title": {
          "font": {
           "size": 20
          },
          "text": "Componente 1 (16.8%)"
         }
        },
        "yaxis": {
         "dtick": 0.25,
         "range": [
          -1.25,
          1.55
         ],
         "tickfont": {
          "size": 15
         },
         "title": {
          "font": {
           "size": 20
          },
          "text": "Componente 2 (15.6%)"
         }
        }
       }
      }
     },
     "metadata": {},
     "output_type": "display_data"
    }
   ],
   "source": [
    "# Crear la figura\n",
    "fig = go.Figure()\n",
    "\n",
    "# Añadir una traza de dispersión con texto para la nube de individuos en los componentes 1 y 2\n",
    "fig.add_trace(go.Scatter(x=row_coordinates_Z['Componente 1'], y=row_coordinates_Z['Componente 2'],\n",
    "                         mode='markers+text', text=row_coordinates_Z.index,\n",
    "                        marker=dict(size=3, color='black'),\n",
    "                         textposition='middle right',\n",
    "                         name='Nube de individuos',\n",
    "                         textfont=dict(size=15)))\n",
    "\n",
    "# Actualizar la configuración de la figura\n",
    "fig.update_layout(width=800, height=800,\n",
    "                  title='Nube de individuos plano 1-2',\n",
    "                  xaxis=dict(dtick=0.25, range=[-1,1.5], title='Componente 1 (16.8%)',\n",
    "                             title_font=dict(size=20), tickfont=dict(size=15)),\n",
    "                  yaxis=dict(dtick=0.25, range=[-1.25,1.55], title='Componente 2 (15.6%)',\n",
    "                             title_font=dict(size=20), tickfont=dict(size=15)),\n",
    "                  title_font=dict(size=25),\n",
    "                  showlegend=False)\n",
    "\n",
    "# Mostrar la figura\n",
    "fig.show()"
   ]
  },
  {
   "attachments": {},
   "cell_type": "markdown",
   "metadata": {},
   "source": [
    "### Nube de categorías"
   ]
  },
  {
   "cell_type": "code",
   "execution_count": 22,
   "metadata": {},
   "outputs": [
    {
     "data": {
      "text/html": [
       "<div>\n",
       "<style scoped>\n",
       "    .dataframe tbody tr th:only-of-type {\n",
       "        vertical-align: middle;\n",
       "    }\n",
       "\n",
       "    .dataframe tbody tr th {\n",
       "        vertical-align: top;\n",
       "    }\n",
       "\n",
       "    .dataframe thead th {\n",
       "        text-align: right;\n",
       "    }\n",
       "</style>\n",
       "<table border=\"1\" class=\"dataframe\">\n",
       "  <thead>\n",
       "    <tr style=\"text-align: right;\">\n",
       "      <th></th>\n",
       "      <th>0</th>\n",
       "      <th>1</th>\n",
       "      <th>2</th>\n",
       "      <th>3</th>\n",
       "      <th>4</th>\n",
       "      <th>5</th>\n",
       "      <th>6</th>\n",
       "      <th>7</th>\n",
       "    </tr>\n",
       "  </thead>\n",
       "  <tbody>\n",
       "    <tr>\n",
       "      <th>F</th>\n",
       "      <td>-0.129213</td>\n",
       "      <td>0.889864</td>\n",
       "      <td>-0.511860</td>\n",
       "      <td>0.682270</td>\n",
       "      <td>-0.085236</td>\n",
       "      <td>0.215781</td>\n",
       "      <td>-0.939615</td>\n",
       "      <td>0.061736</td>\n",
       "    </tr>\n",
       "    <tr>\n",
       "      <th>M</th>\n",
       "      <td>0.052175</td>\n",
       "      <td>-0.359314</td>\n",
       "      <td>0.206682</td>\n",
       "      <td>-0.275491</td>\n",
       "      <td>0.034417</td>\n",
       "      <td>-0.087129</td>\n",
       "      <td>0.379403</td>\n",
       "      <td>-0.024928</td>\n",
       "    </tr>\n",
       "    <tr>\n",
       "      <th>16-</th>\n",
       "      <td>0.392574</td>\n",
       "      <td>1.066189</td>\n",
       "      <td>-0.291666</td>\n",
       "      <td>-0.111559</td>\n",
       "      <td>-0.574764</td>\n",
       "      <td>0.514161</td>\n",
       "      <td>0.800535</td>\n",
       "      <td>-0.383702</td>\n",
       "    </tr>\n",
       "    <tr>\n",
       "      <th>17</th>\n",
       "      <td>-0.185120</td>\n",
       "      <td>0.031211</td>\n",
       "      <td>0.883722</td>\n",
       "      <td>0.261505</td>\n",
       "      <td>0.159235</td>\n",
       "      <td>-0.736572</td>\n",
       "      <td>-0.341502</td>\n",
       "      <td>-0.182289</td>\n",
       "    </tr>\n",
       "    <tr>\n",
       "      <th>18</th>\n",
       "      <td>-0.749080</td>\n",
       "      <td>-0.135249</td>\n",
       "      <td>-1.130052</td>\n",
       "      <td>-0.060332</td>\n",
       "      <td>2.170654</td>\n",
       "      <td>0.396093</td>\n",
       "      <td>0.336964</td>\n",
       "      <td>0.322779</td>\n",
       "    </tr>\n",
       "  </tbody>\n",
       "</table>\n",
       "</div>"
      ],
      "text/plain": [
       "            0         1         2         3         4         5         6  \\\n",
       "F   -0.129213  0.889864 -0.511860  0.682270 -0.085236  0.215781 -0.939615   \n",
       "M    0.052175 -0.359314  0.206682 -0.275491  0.034417 -0.087129  0.379403   \n",
       "16-  0.392574  1.066189 -0.291666 -0.111559 -0.574764  0.514161  0.800535   \n",
       "17  -0.185120  0.031211  0.883722  0.261505  0.159235 -0.736572 -0.341502   \n",
       "18  -0.749080 -0.135249 -1.130052 -0.060332  2.170654  0.396093  0.336964   \n",
       "\n",
       "            7  \n",
       "F    0.061736  \n",
       "M   -0.024928  \n",
       "16- -0.383702  \n",
       "17  -0.182289  \n",
       "18   0.322779  "
      ]
     },
     "execution_count": 22,
     "metadata": {},
     "output_type": "execute_result"
    }
   ],
   "source": [
    "# Calcular las coordenadas de columna\n",
    "column_coordinates_Z = mca_Z.column_coordinates(Z)\n",
    "\n",
    "# Mostrar las primeras filas del DataFrame resultante\n",
    "column_coordinates_Z.head()"
   ]
  },
  {
   "cell_type": "code",
   "execution_count": 23,
   "metadata": {},
   "outputs": [
    {
     "data": {
      "text/html": [
       "<div>\n",
       "<style scoped>\n",
       "    .dataframe tbody tr th:only-of-type {\n",
       "        vertical-align: middle;\n",
       "    }\n",
       "\n",
       "    .dataframe tbody tr th {\n",
       "        vertical-align: top;\n",
       "    }\n",
       "\n",
       "    .dataframe thead th {\n",
       "        text-align: right;\n",
       "    }\n",
       "</style>\n",
       "<table border=\"1\" class=\"dataframe\">\n",
       "  <thead>\n",
       "    <tr style=\"text-align: right;\">\n",
       "      <th></th>\n",
       "      <th>Componente 1</th>\n",
       "      <th>Componente 2</th>\n",
       "      <th>Componente 3</th>\n",
       "      <th>Componente 4</th>\n",
       "      <th>Componente 5</th>\n",
       "      <th>Componente 6</th>\n",
       "      <th>Componente 7</th>\n",
       "      <th>Componente 8</th>\n",
       "    </tr>\n",
       "  </thead>\n",
       "  <tbody>\n",
       "    <tr>\n",
       "      <th>F</th>\n",
       "      <td>-0.129213</td>\n",
       "      <td>0.889864</td>\n",
       "      <td>-0.511860</td>\n",
       "      <td>0.682270</td>\n",
       "      <td>-0.085236</td>\n",
       "      <td>0.215781</td>\n",
       "      <td>-0.939615</td>\n",
       "      <td>0.061736</td>\n",
       "    </tr>\n",
       "    <tr>\n",
       "      <th>M</th>\n",
       "      <td>0.052175</td>\n",
       "      <td>-0.359314</td>\n",
       "      <td>0.206682</td>\n",
       "      <td>-0.275491</td>\n",
       "      <td>0.034417</td>\n",
       "      <td>-0.087129</td>\n",
       "      <td>0.379403</td>\n",
       "      <td>-0.024928</td>\n",
       "    </tr>\n",
       "    <tr>\n",
       "      <th>16-</th>\n",
       "      <td>0.392574</td>\n",
       "      <td>1.066189</td>\n",
       "      <td>-0.291666</td>\n",
       "      <td>-0.111559</td>\n",
       "      <td>-0.574764</td>\n",
       "      <td>0.514161</td>\n",
       "      <td>0.800535</td>\n",
       "      <td>-0.383702</td>\n",
       "    </tr>\n",
       "    <tr>\n",
       "      <th>17</th>\n",
       "      <td>-0.185120</td>\n",
       "      <td>0.031211</td>\n",
       "      <td>0.883722</td>\n",
       "      <td>0.261505</td>\n",
       "      <td>0.159235</td>\n",
       "      <td>-0.736572</td>\n",
       "      <td>-0.341502</td>\n",
       "      <td>-0.182289</td>\n",
       "    </tr>\n",
       "    <tr>\n",
       "      <th>18</th>\n",
       "      <td>-0.749080</td>\n",
       "      <td>-0.135249</td>\n",
       "      <td>-1.130052</td>\n",
       "      <td>-0.060332</td>\n",
       "      <td>2.170654</td>\n",
       "      <td>0.396093</td>\n",
       "      <td>0.336964</td>\n",
       "      <td>0.322779</td>\n",
       "    </tr>\n",
       "    <tr>\n",
       "      <th>19+</th>\n",
       "      <td>0.272804</td>\n",
       "      <td>-1.235734</td>\n",
       "      <td>-0.534169</td>\n",
       "      <td>-0.281749</td>\n",
       "      <td>-0.809636</td>\n",
       "      <td>0.431016</td>\n",
       "      <td>-0.549364</td>\n",
       "      <td>0.583726</td>\n",
       "    </tr>\n",
       "    <tr>\n",
       "      <th>al</th>\n",
       "      <td>-0.535905</td>\n",
       "      <td>0.775493</td>\n",
       "      <td>1.116254</td>\n",
       "      <td>-1.094155</td>\n",
       "      <td>0.135951</td>\n",
       "      <td>0.834673</td>\n",
       "      <td>-0.364628</td>\n",
       "      <td>0.560294</td>\n",
       "    </tr>\n",
       "    <tr>\n",
       "      <th>ba</th>\n",
       "      <td>0.931125</td>\n",
       "      <td>-0.312811</td>\n",
       "      <td>-0.181127</td>\n",
       "      <td>-0.040864</td>\n",
       "      <td>0.309392</td>\n",
       "      <td>0.070986</td>\n",
       "      <td>-0.289736</td>\n",
       "      <td>-0.549547</td>\n",
       "    </tr>\n",
       "    <tr>\n",
       "      <th>me</th>\n",
       "      <td>-0.666287</td>\n",
       "      <td>-0.036874</td>\n",
       "      <td>-0.313486</td>\n",
       "      <td>0.518601</td>\n",
       "      <td>-0.358882</td>\n",
       "      <td>-0.434135</td>\n",
       "      <td>0.439987</td>\n",
       "      <td>0.286405</td>\n",
       "    </tr>\n",
       "    <tr>\n",
       "      <th>Bo</th>\n",
       "      <td>-0.509071</td>\n",
       "      <td>-0.127293</td>\n",
       "      <td>-0.106773</td>\n",
       "      <td>-0.163314</td>\n",
       "      <td>-0.104479</td>\n",
       "      <td>0.074306</td>\n",
       "      <td>-0.098843</td>\n",
       "      <td>-0.302047</td>\n",
       "    </tr>\n",
       "    <tr>\n",
       "      <th>Cu</th>\n",
       "      <td>0.875922</td>\n",
       "      <td>-0.606844</td>\n",
       "      <td>1.442611</td>\n",
       "      <td>2.117863</td>\n",
       "      <td>0.366152</td>\n",
       "      <td>1.512596</td>\n",
       "      <td>0.590893</td>\n",
       "      <td>0.487225</td>\n",
       "    </tr>\n",
       "    <tr>\n",
       "      <th>Ot</th>\n",
       "      <td>1.302459</td>\n",
       "      <td>0.652584</td>\n",
       "      <td>-0.225133</td>\n",
       "      <td>-0.309250</td>\n",
       "      <td>0.193533</td>\n",
       "      <td>-0.839457</td>\n",
       "      <td>0.086314</td>\n",
       "      <td>0.785645</td>\n",
       "    </tr>\n",
       "  </tbody>\n",
       "</table>\n",
       "</div>"
      ],
      "text/plain": [
       "     Componente 1  Componente 2  Componente 3  Componente 4  Componente 5  \\\n",
       "F       -0.129213      0.889864     -0.511860      0.682270     -0.085236   \n",
       "M        0.052175     -0.359314      0.206682     -0.275491      0.034417   \n",
       "16-      0.392574      1.066189     -0.291666     -0.111559     -0.574764   \n",
       "17      -0.185120      0.031211      0.883722      0.261505      0.159235   \n",
       "18      -0.749080     -0.135249     -1.130052     -0.060332      2.170654   \n",
       "19+      0.272804     -1.235734     -0.534169     -0.281749     -0.809636   \n",
       "al      -0.535905      0.775493      1.116254     -1.094155      0.135951   \n",
       "ba       0.931125     -0.312811     -0.181127     -0.040864      0.309392   \n",
       "me      -0.666287     -0.036874     -0.313486      0.518601     -0.358882   \n",
       "Bo      -0.509071     -0.127293     -0.106773     -0.163314     -0.104479   \n",
       "Cu       0.875922     -0.606844      1.442611      2.117863      0.366152   \n",
       "Ot       1.302459      0.652584     -0.225133     -0.309250      0.193533   \n",
       "\n",
       "     Componente 6  Componente 7  Componente 8  \n",
       "F        0.215781     -0.939615      0.061736  \n",
       "M       -0.087129      0.379403     -0.024928  \n",
       "16-      0.514161      0.800535     -0.383702  \n",
       "17      -0.736572     -0.341502     -0.182289  \n",
       "18       0.396093      0.336964      0.322779  \n",
       "19+      0.431016     -0.549364      0.583726  \n",
       "al       0.834673     -0.364628      0.560294  \n",
       "ba       0.070986     -0.289736     -0.549547  \n",
       "me      -0.434135      0.439987      0.286405  \n",
       "Bo       0.074306     -0.098843     -0.302047  \n",
       "Cu       1.512596      0.590893      0.487225  \n",
       "Ot      -0.839457      0.086314      0.785645  "
      ]
     },
     "execution_count": 23,
     "metadata": {},
     "output_type": "execute_result"
    }
   ],
   "source": [
    "# Generar los nombres de las filas y las columnas para Dataframe column_coordinates_Z\n",
    "row_names = column_coordinates_Z.index\n",
    "column_names = [f\"Componente {i+1}\" for i in range(column_coordinates_Z.shape[1])]\n",
    "\n",
    "# Crear un DataFrame a partir de column_coordinates_Z con los nombres de fila y columna generados\n",
    "column_coordinates_Z = pd.DataFrame(data=column_coordinates_Z.values, index=row_names, columns=column_names)\n",
    "\n",
    "# Mostrar el DataFrame resultante\n",
    "column_coordinates_Z"
   ]
  },
  {
   "attachments": {},
   "cell_type": "markdown",
   "metadata": {},
   "source": [
    "Plano factorial 1-2 de las categorías"
   ]
  },
  {
   "cell_type": "code",
   "execution_count": 24,
   "metadata": {},
   "outputs": [
    {
     "data": {
      "application/vnd.plotly.v1+json": {
       "config": {
        "plotlyServerURL": "https://plot.ly"
       },
       "data": [
        {
         "marker": {
          "color": [
           "blue",
           "blue",
           "green",
           "green",
           "green",
           "green",
           "orange",
           "orange",
           "orange",
           "red",
           "red",
           "red"
          ],
          "size": 6
         },
         "mode": "markers+text",
         "name": "Nube de categorías plano 1-2",
         "text": [
          "F",
          "M",
          "16-",
          "17",
          "18",
          "19+",
          "al",
          "ba",
          "me",
          "Bo",
          "Cu",
          "Ot"
         ],
         "textfont": {
          "size": 15
         },
         "textposition": "middle right",
         "type": "scatter",
         "x": [
          -0.12921349205173985,
          0.05217453306821066,
          0.392573814392091,
          -0.1851203986432087,
          -0.7490799241082181,
          0.272803538197823,
          -0.5359047285058122,
          0.9311254907436116,
          -0.6662874585628954,
          -0.5090711089869832,
          0.8759219710900211,
          1.302459166599281
         ],
         "y": [
          0.8898643897078352,
          -0.3593143277053716,
          1.0661886451364055,
          0.031211118328702298,
          -0.13524945063908048,
          -1.2357339212451548,
          0.7754927738009828,
          -0.31281117973851674,
          -0.036874127052351484,
          -0.12729253026534598,
          -0.6068443432716941,
          0.6525839787171561
         ]
        }
       ],
       "layout": {
        "height": 800,
        "showlegend": false,
        "template": {
         "data": {
          "bar": [
           {
            "error_x": {
             "color": "#2a3f5f"
            },
            "error_y": {
             "color": "#2a3f5f"
            },
            "marker": {
             "line": {
              "color": "#E5ECF6",
              "width": 0.5
             },
             "pattern": {
              "fillmode": "overlay",
              "size": 10,
              "solidity": 0.2
             }
            },
            "type": "bar"
           }
          ],
          "barpolar": [
           {
            "marker": {
             "line": {
              "color": "#E5ECF6",
              "width": 0.5
             },
             "pattern": {
              "fillmode": "overlay",
              "size": 10,
              "solidity": 0.2
             }
            },
            "type": "barpolar"
           }
          ],
          "carpet": [
           {
            "aaxis": {
             "endlinecolor": "#2a3f5f",
             "gridcolor": "white",
             "linecolor": "white",
             "minorgridcolor": "white",
             "startlinecolor": "#2a3f5f"
            },
            "baxis": {
             "endlinecolor": "#2a3f5f",
             "gridcolor": "white",
             "linecolor": "white",
             "minorgridcolor": "white",
             "startlinecolor": "#2a3f5f"
            },
            "type": "carpet"
           }
          ],
          "choropleth": [
           {
            "colorbar": {
             "outlinewidth": 0,
             "ticks": ""
            },
            "type": "choropleth"
           }
          ],
          "contour": [
           {
            "colorbar": {
             "outlinewidth": 0,
             "ticks": ""
            },
            "colorscale": [
             [
              0,
              "#0d0887"
             ],
             [
              0.1111111111111111,
              "#46039f"
             ],
             [
              0.2222222222222222,
              "#7201a8"
             ],
             [
              0.3333333333333333,
              "#9c179e"
             ],
             [
              0.4444444444444444,
              "#bd3786"
             ],
             [
              0.5555555555555556,
              "#d8576b"
             ],
             [
              0.6666666666666666,
              "#ed7953"
             ],
             [
              0.7777777777777778,
              "#fb9f3a"
             ],
             [
              0.8888888888888888,
              "#fdca26"
             ],
             [
              1,
              "#f0f921"
             ]
            ],
            "type": "contour"
           }
          ],
          "contourcarpet": [
           {
            "colorbar": {
             "outlinewidth": 0,
             "ticks": ""
            },
            "type": "contourcarpet"
           }
          ],
          "heatmap": [
           {
            "colorbar": {
             "outlinewidth": 0,
             "ticks": ""
            },
            "colorscale": [
             [
              0,
              "#0d0887"
             ],
             [
              0.1111111111111111,
              "#46039f"
             ],
             [
              0.2222222222222222,
              "#7201a8"
             ],
             [
              0.3333333333333333,
              "#9c179e"
             ],
             [
              0.4444444444444444,
              "#bd3786"
             ],
             [
              0.5555555555555556,
              "#d8576b"
             ],
             [
              0.6666666666666666,
              "#ed7953"
             ],
             [
              0.7777777777777778,
              "#fb9f3a"
             ],
             [
              0.8888888888888888,
              "#fdca26"
             ],
             [
              1,
              "#f0f921"
             ]
            ],
            "type": "heatmap"
           }
          ],
          "heatmapgl": [
           {
            "colorbar": {
             "outlinewidth": 0,
             "ticks": ""
            },
            "colorscale": [
             [
              0,
              "#0d0887"
             ],
             [
              0.1111111111111111,
              "#46039f"
             ],
             [
              0.2222222222222222,
              "#7201a8"
             ],
             [
              0.3333333333333333,
              "#9c179e"
             ],
             [
              0.4444444444444444,
              "#bd3786"
             ],
             [
              0.5555555555555556,
              "#d8576b"
             ],
             [
              0.6666666666666666,
              "#ed7953"
             ],
             [
              0.7777777777777778,
              "#fb9f3a"
             ],
             [
              0.8888888888888888,
              "#fdca26"
             ],
             [
              1,
              "#f0f921"
             ]
            ],
            "type": "heatmapgl"
           }
          ],
          "histogram": [
           {
            "marker": {
             "pattern": {
              "fillmode": "overlay",
              "size": 10,
              "solidity": 0.2
             }
            },
            "type": "histogram"
           }
          ],
          "histogram2d": [
           {
            "colorbar": {
             "outlinewidth": 0,
             "ticks": ""
            },
            "colorscale": [
             [
              0,
              "#0d0887"
             ],
             [
              0.1111111111111111,
              "#46039f"
             ],
             [
              0.2222222222222222,
              "#7201a8"
             ],
             [
              0.3333333333333333,
              "#9c179e"
             ],
             [
              0.4444444444444444,
              "#bd3786"
             ],
             [
              0.5555555555555556,
              "#d8576b"
             ],
             [
              0.6666666666666666,
              "#ed7953"
             ],
             [
              0.7777777777777778,
              "#fb9f3a"
             ],
             [
              0.8888888888888888,
              "#fdca26"
             ],
             [
              1,
              "#f0f921"
             ]
            ],
            "type": "histogram2d"
           }
          ],
          "histogram2dcontour": [
           {
            "colorbar": {
             "outlinewidth": 0,
             "ticks": ""
            },
            "colorscale": [
             [
              0,
              "#0d0887"
             ],
             [
              0.1111111111111111,
              "#46039f"
             ],
             [
              0.2222222222222222,
              "#7201a8"
             ],
             [
              0.3333333333333333,
              "#9c179e"
             ],
             [
              0.4444444444444444,
              "#bd3786"
             ],
             [
              0.5555555555555556,
              "#d8576b"
             ],
             [
              0.6666666666666666,
              "#ed7953"
             ],
             [
              0.7777777777777778,
              "#fb9f3a"
             ],
             [
              0.8888888888888888,
              "#fdca26"
             ],
             [
              1,
              "#f0f921"
             ]
            ],
            "type": "histogram2dcontour"
           }
          ],
          "mesh3d": [
           {
            "colorbar": {
             "outlinewidth": 0,
             "ticks": ""
            },
            "type": "mesh3d"
           }
          ],
          "parcoords": [
           {
            "line": {
             "colorbar": {
              "outlinewidth": 0,
              "ticks": ""
             }
            },
            "type": "parcoords"
           }
          ],
          "pie": [
           {
            "automargin": true,
            "type": "pie"
           }
          ],
          "scatter": [
           {
            "fillpattern": {
             "fillmode": "overlay",
             "size": 10,
             "solidity": 0.2
            },
            "type": "scatter"
           }
          ],
          "scatter3d": [
           {
            "line": {
             "colorbar": {
              "outlinewidth": 0,
              "ticks": ""
             }
            },
            "marker": {
             "colorbar": {
              "outlinewidth": 0,
              "ticks": ""
             }
            },
            "type": "scatter3d"
           }
          ],
          "scattercarpet": [
           {
            "marker": {
             "colorbar": {
              "outlinewidth": 0,
              "ticks": ""
             }
            },
            "type": "scattercarpet"
           }
          ],
          "scattergeo": [
           {
            "marker": {
             "colorbar": {
              "outlinewidth": 0,
              "ticks": ""
             }
            },
            "type": "scattergeo"
           }
          ],
          "scattergl": [
           {
            "marker": {
             "colorbar": {
              "outlinewidth": 0,
              "ticks": ""
             }
            },
            "type": "scattergl"
           }
          ],
          "scattermapbox": [
           {
            "marker": {
             "colorbar": {
              "outlinewidth": 0,
              "ticks": ""
             }
            },
            "type": "scattermapbox"
           }
          ],
          "scatterpolar": [
           {
            "marker": {
             "colorbar": {
              "outlinewidth": 0,
              "ticks": ""
             }
            },
            "type": "scatterpolar"
           }
          ],
          "scatterpolargl": [
           {
            "marker": {
             "colorbar": {
              "outlinewidth": 0,
              "ticks": ""
             }
            },
            "type": "scatterpolargl"
           }
          ],
          "scatterternary": [
           {
            "marker": {
             "colorbar": {
              "outlinewidth": 0,
              "ticks": ""
             }
            },
            "type": "scatterternary"
           }
          ],
          "surface": [
           {
            "colorbar": {
             "outlinewidth": 0,
             "ticks": ""
            },
            "colorscale": [
             [
              0,
              "#0d0887"
             ],
             [
              0.1111111111111111,
              "#46039f"
             ],
             [
              0.2222222222222222,
              "#7201a8"
             ],
             [
              0.3333333333333333,
              "#9c179e"
             ],
             [
              0.4444444444444444,
              "#bd3786"
             ],
             [
              0.5555555555555556,
              "#d8576b"
             ],
             [
              0.6666666666666666,
              "#ed7953"
             ],
             [
              0.7777777777777778,
              "#fb9f3a"
             ],
             [
              0.8888888888888888,
              "#fdca26"
             ],
             [
              1,
              "#f0f921"
             ]
            ],
            "type": "surface"
           }
          ],
          "table": [
           {
            "cells": {
             "fill": {
              "color": "#EBF0F8"
             },
             "line": {
              "color": "white"
             }
            },
            "header": {
             "fill": {
              "color": "#C8D4E3"
             },
             "line": {
              "color": "white"
             }
            },
            "type": "table"
           }
          ]
         },
         "layout": {
          "annotationdefaults": {
           "arrowcolor": "#2a3f5f",
           "arrowhead": 0,
           "arrowwidth": 1
          },
          "autotypenumbers": "strict",
          "coloraxis": {
           "colorbar": {
            "outlinewidth": 0,
            "ticks": ""
           }
          },
          "colorscale": {
           "diverging": [
            [
             0,
             "#8e0152"
            ],
            [
             0.1,
             "#c51b7d"
            ],
            [
             0.2,
             "#de77ae"
            ],
            [
             0.3,
             "#f1b6da"
            ],
            [
             0.4,
             "#fde0ef"
            ],
            [
             0.5,
             "#f7f7f7"
            ],
            [
             0.6,
             "#e6f5d0"
            ],
            [
             0.7,
             "#b8e186"
            ],
            [
             0.8,
             "#7fbc41"
            ],
            [
             0.9,
             "#4d9221"
            ],
            [
             1,
             "#276419"
            ]
           ],
           "sequential": [
            [
             0,
             "#0d0887"
            ],
            [
             0.1111111111111111,
             "#46039f"
            ],
            [
             0.2222222222222222,
             "#7201a8"
            ],
            [
             0.3333333333333333,
             "#9c179e"
            ],
            [
             0.4444444444444444,
             "#bd3786"
            ],
            [
             0.5555555555555556,
             "#d8576b"
            ],
            [
             0.6666666666666666,
             "#ed7953"
            ],
            [
             0.7777777777777778,
             "#fb9f3a"
            ],
            [
             0.8888888888888888,
             "#fdca26"
            ],
            [
             1,
             "#f0f921"
            ]
           ],
           "sequentialminus": [
            [
             0,
             "#0d0887"
            ],
            [
             0.1111111111111111,
             "#46039f"
            ],
            [
             0.2222222222222222,
             "#7201a8"
            ],
            [
             0.3333333333333333,
             "#9c179e"
            ],
            [
             0.4444444444444444,
             "#bd3786"
            ],
            [
             0.5555555555555556,
             "#d8576b"
            ],
            [
             0.6666666666666666,
             "#ed7953"
            ],
            [
             0.7777777777777778,
             "#fb9f3a"
            ],
            [
             0.8888888888888888,
             "#fdca26"
            ],
            [
             1,
             "#f0f921"
            ]
           ]
          },
          "colorway": [
           "#636efa",
           "#EF553B",
           "#00cc96",
           "#ab63fa",
           "#FFA15A",
           "#19d3f3",
           "#FF6692",
           "#B6E880",
           "#FF97FF",
           "#FECB52"
          ],
          "font": {
           "color": "#2a3f5f"
          },
          "geo": {
           "bgcolor": "white",
           "lakecolor": "white",
           "landcolor": "#E5ECF6",
           "showlakes": true,
           "showland": true,
           "subunitcolor": "white"
          },
          "hoverlabel": {
           "align": "left"
          },
          "hovermode": "closest",
          "mapbox": {
           "style": "light"
          },
          "paper_bgcolor": "white",
          "plot_bgcolor": "#E5ECF6",
          "polar": {
           "angularaxis": {
            "gridcolor": "white",
            "linecolor": "white",
            "ticks": ""
           },
           "bgcolor": "#E5ECF6",
           "radialaxis": {
            "gridcolor": "white",
            "linecolor": "white",
            "ticks": ""
           }
          },
          "scene": {
           "xaxis": {
            "backgroundcolor": "#E5ECF6",
            "gridcolor": "white",
            "gridwidth": 2,
            "linecolor": "white",
            "showbackground": true,
            "ticks": "",
            "zerolinecolor": "white"
           },
           "yaxis": {
            "backgroundcolor": "#E5ECF6",
            "gridcolor": "white",
            "gridwidth": 2,
            "linecolor": "white",
            "showbackground": true,
            "ticks": "",
            "zerolinecolor": "white"
           },
           "zaxis": {
            "backgroundcolor": "#E5ECF6",
            "gridcolor": "white",
            "gridwidth": 2,
            "linecolor": "white",
            "showbackground": true,
            "ticks": "",
            "zerolinecolor": "white"
           }
          },
          "shapedefaults": {
           "line": {
            "color": "#2a3f5f"
           }
          },
          "ternary": {
           "aaxis": {
            "gridcolor": "white",
            "linecolor": "white",
            "ticks": ""
           },
           "baxis": {
            "gridcolor": "white",
            "linecolor": "white",
            "ticks": ""
           },
           "bgcolor": "#E5ECF6",
           "caxis": {
            "gridcolor": "white",
            "linecolor": "white",
            "ticks": ""
           }
          },
          "title": {
           "x": 0.05
          },
          "xaxis": {
           "automargin": true,
           "gridcolor": "white",
           "linecolor": "white",
           "ticks": "",
           "title": {
            "standoff": 15
           },
           "zerolinecolor": "white",
           "zerolinewidth": 2
          },
          "yaxis": {
           "automargin": true,
           "gridcolor": "white",
           "linecolor": "white",
           "ticks": "",
           "title": {
            "standoff": 15
           },
           "zerolinecolor": "white",
           "zerolinewidth": 2
          }
         }
        },
        "title": {
         "font": {
          "size": 25
         },
         "text": "Nube de categorías plano 1-2"
        },
        "width": 800,
        "xaxis": {
         "dtick": 0.25,
         "range": [
          -1,
          1.5
         ],
         "tickfont": {
          "size": 15
         },
         "title": {
          "font": {
           "size": 20
          },
          "text": "Componente 1 (16.8%)"
         }
        },
        "yaxis": {
         "dtick": 0.25,
         "range": [
          -1.5,
          1.25
         ],
         "tickfont": {
          "size": 15
         },
         "title": {
          "font": {
           "size": 20
          },
          "text": "Componente 2 (15.6%)"
         }
        }
       }
      }
     },
     "metadata": {},
     "output_type": "display_data"
    }
   ],
   "source": [
    "# Crear la figura\n",
    "fig = go.Figure()\n",
    "\n",
    "# Definir los colores para las categorías\n",
    "colors = {'F':'blue','M':'blue','16-':'green','17':'green','18':'green','19+':'green',\n",
    "          'al':'orange','ba':'orange','me':'orange','Bo':'red','Cu':'red','Ot':'red'}\n",
    "\n",
    "# Agregar una nueva traza a la figura con las coordenadas de columna\n",
    "fig.add_trace(go.Scatter(x=column_coordinates_Z['Componente 1'], y=column_coordinates_Z['Componente 2'],\n",
    "                         mode='markers+text', text=column_coordinates_Z.index,\n",
    "                         marker=dict(size=6, color=[colors.get(x, 'black') for x in column_coordinates_Z.index]),\n",
    "                         textposition='middle right',\n",
    "                         name='Nube de categorías plano 1-2',\n",
    "                         textfont=dict(size=15)))\n",
    "\n",
    "# Actualizar el diseño de la figura\n",
    "fig.update_layout(width=800, height=800,\n",
    "                  title='Nube de categorías plano 1-2',\n",
    "                  xaxis=dict(dtick=0.25, range=[-1,1.5], title='Componente 1 (16.8%)',\n",
    "                             title_font=dict(size=20), tickfont=dict(size=15)),\n",
    "                  yaxis=dict(dtick=0.25, range=[-1.5,1.25], title='Componente 2 (15.6%)',\n",
    "                             title_font=dict(size=20), tickfont=dict(size=15)),\n",
    "                  title_font=dict(size=25),\n",
    "                  showlegend=False)\n",
    "\n",
    "# Mostrar la figura\n",
    "fig.show()"
   ]
  },
  {
   "attachments": {},
   "cell_type": "markdown",
   "metadata": {},
   "source": [
    "### Coordenadas y ayudas para la interpretación de las categorías para los tres primeros ejes"
   ]
  },
  {
   "cell_type": "code",
   "execution_count": 25,
   "metadata": {},
   "outputs": [
    {
     "data": {
      "text/html": [
       "<div>\n",
       "<style scoped>\n",
       "    .dataframe tbody tr th:only-of-type {\n",
       "        vertical-align: middle;\n",
       "    }\n",
       "\n",
       "    .dataframe tbody tr th {\n",
       "        vertical-align: top;\n",
       "    }\n",
       "\n",
       "    .dataframe thead th {\n",
       "        text-align: right;\n",
       "    }\n",
       "</style>\n",
       "<table border=\"1\" class=\"dataframe\">\n",
       "  <thead>\n",
       "    <tr style=\"text-align: right;\">\n",
       "      <th></th>\n",
       "      <th>0</th>\n",
       "      <th>1</th>\n",
       "      <th>2</th>\n",
       "      <th>3</th>\n",
       "      <th>4</th>\n",
       "      <th>5</th>\n",
       "      <th>6</th>\n",
       "      <th>7</th>\n",
       "    </tr>\n",
       "  </thead>\n",
       "  <tbody>\n",
       "    <tr>\n",
       "      <th>F</th>\n",
       "      <td>0.003567</td>\n",
       "      <td>0.182065</td>\n",
       "      <td>0.066648</td>\n",
       "      <td>0.135450</td>\n",
       "      <td>0.002170</td>\n",
       "      <td>0.014600</td>\n",
       "      <td>0.305946</td>\n",
       "      <td>0.001913</td>\n",
       "    </tr>\n",
       "    <tr>\n",
       "      <th>M</th>\n",
       "      <td>0.001440</td>\n",
       "      <td>0.073515</td>\n",
       "      <td>0.026912</td>\n",
       "      <td>0.054693</td>\n",
       "      <td>0.000876</td>\n",
       "      <td>0.005895</td>\n",
       "      <td>0.123537</td>\n",
       "      <td>0.000773</td>\n",
       "    </tr>\n",
       "    <tr>\n",
       "      <th>16-</th>\n",
       "      <td>0.030355</td>\n",
       "      <td>0.240946</td>\n",
       "      <td>0.019949</td>\n",
       "      <td>0.003338</td>\n",
       "      <td>0.090957</td>\n",
       "      <td>0.076419</td>\n",
       "      <td>0.204728</td>\n",
       "      <td>0.068140</td>\n",
       "    </tr>\n",
       "    <tr>\n",
       "      <th>17</th>\n",
       "      <td>0.009781</td>\n",
       "      <td>0.000299</td>\n",
       "      <td>0.265400</td>\n",
       "      <td>0.026584</td>\n",
       "      <td>0.010117</td>\n",
       "      <td>0.227272</td>\n",
       "      <td>0.053990</td>\n",
       "      <td>0.022287</td>\n",
       "    </tr>\n",
       "    <tr>\n",
       "      <th>18</th>\n",
       "      <td>0.052450</td>\n",
       "      <td>0.001840</td>\n",
       "      <td>0.142121</td>\n",
       "      <td>0.000463</td>\n",
       "      <td>0.615661</td>\n",
       "      <td>0.021523</td>\n",
       "      <td>0.017214</td>\n",
       "      <td>0.022884</td>\n",
       "    </tr>\n",
       "    <tr>\n",
       "      <th>19+</th>\n",
       "      <td>0.012422</td>\n",
       "      <td>0.274296</td>\n",
       "      <td>0.056706</td>\n",
       "      <td>0.018046</td>\n",
       "      <td>0.152951</td>\n",
       "      <td>0.045510</td>\n",
       "      <td>0.081706</td>\n",
       "      <td>0.133644</td>\n",
       "    </tr>\n",
       "    <tr>\n",
       "      <th>al</th>\n",
       "      <td>0.038829</td>\n",
       "      <td>0.087500</td>\n",
       "      <td>0.200579</td>\n",
       "      <td>0.220444</td>\n",
       "      <td>0.003493</td>\n",
       "      <td>0.138241</td>\n",
       "      <td>0.029155</td>\n",
       "      <td>0.099735</td>\n",
       "    </tr>\n",
       "    <tr>\n",
       "      <th>ba</th>\n",
       "      <td>0.259042</td>\n",
       "      <td>0.031462</td>\n",
       "      <td>0.011671</td>\n",
       "      <td>0.000679</td>\n",
       "      <td>0.039980</td>\n",
       "      <td>0.002210</td>\n",
       "      <td>0.040681</td>\n",
       "      <td>0.212028</td>\n",
       "    </tr>\n",
       "    <tr>\n",
       "      <th>me</th>\n",
       "      <td>0.137087</td>\n",
       "      <td>0.000452</td>\n",
       "      <td>0.036131</td>\n",
       "      <td>0.113108</td>\n",
       "      <td>0.055597</td>\n",
       "      <td>0.085416</td>\n",
       "      <td>0.096959</td>\n",
       "      <td>0.059520</td>\n",
       "    </tr>\n",
       "    <tr>\n",
       "      <th>Bo</th>\n",
       "      <td>0.134530</td>\n",
       "      <td>0.009052</td>\n",
       "      <td>0.007046</td>\n",
       "      <td>0.018857</td>\n",
       "      <td>0.007921</td>\n",
       "      <td>0.004207</td>\n",
       "      <td>0.008226</td>\n",
       "      <td>0.111286</td>\n",
       "    </tr>\n",
       "    <tr>\n",
       "      <th>Cu</th>\n",
       "      <td>0.048665</td>\n",
       "      <td>0.025137</td>\n",
       "      <td>0.157165</td>\n",
       "      <td>0.387467</td>\n",
       "      <td>0.011887</td>\n",
       "      <td>0.212984</td>\n",
       "      <td>0.035920</td>\n",
       "      <td>0.035381</td>\n",
       "    </tr>\n",
       "    <tr>\n",
       "      <th>Ot</th>\n",
       "      <td>0.271832</td>\n",
       "      <td>0.073437</td>\n",
       "      <td>0.009670</td>\n",
       "      <td>0.020871</td>\n",
       "      <td>0.008390</td>\n",
       "      <td>0.165724</td>\n",
       "      <td>0.001936</td>\n",
       "      <td>0.232410</td>\n",
       "    </tr>\n",
       "  </tbody>\n",
       "</table>\n",
       "</div>"
      ],
      "text/plain": [
       "            0         1         2         3         4         5         6  \\\n",
       "F    0.003567  0.182065  0.066648  0.135450  0.002170  0.014600  0.305946   \n",
       "M    0.001440  0.073515  0.026912  0.054693  0.000876  0.005895  0.123537   \n",
       "16-  0.030355  0.240946  0.019949  0.003338  0.090957  0.076419  0.204728   \n",
       "17   0.009781  0.000299  0.265400  0.026584  0.010117  0.227272  0.053990   \n",
       "18   0.052450  0.001840  0.142121  0.000463  0.615661  0.021523  0.017214   \n",
       "19+  0.012422  0.274296  0.056706  0.018046  0.152951  0.045510  0.081706   \n",
       "al   0.038829  0.087500  0.200579  0.220444  0.003493  0.138241  0.029155   \n",
       "ba   0.259042  0.031462  0.011671  0.000679  0.039980  0.002210  0.040681   \n",
       "me   0.137087  0.000452  0.036131  0.113108  0.055597  0.085416  0.096959   \n",
       "Bo   0.134530  0.009052  0.007046  0.018857  0.007921  0.004207  0.008226   \n",
       "Cu   0.048665  0.025137  0.157165  0.387467  0.011887  0.212984  0.035920   \n",
       "Ot   0.271832  0.073437  0.009670  0.020871  0.008390  0.165724  0.001936   \n",
       "\n",
       "            7  \n",
       "F    0.001913  \n",
       "M    0.000773  \n",
       "16-  0.068140  \n",
       "17   0.022287  \n",
       "18   0.022884  \n",
       "19+  0.133644  \n",
       "al   0.099735  \n",
       "ba   0.212028  \n",
       "me   0.059520  \n",
       "Bo   0.111286  \n",
       "Cu   0.035381  \n",
       "Ot   0.232410  "
      ]
     },
     "execution_count": 25,
     "metadata": {},
     "output_type": "execute_result"
    }
   ],
   "source": [
    "# Calcular las contribuciones de las categorías a cada componente\n",
    "column_contributions_Z = mca_Z.column_contributions_\n",
    "\n",
    "# Mostrar el DataFrame de contribuciones\n",
    "column_contributions_Z"
   ]
  },
  {
   "cell_type": "code",
   "execution_count": 26,
   "metadata": {},
   "outputs": [
    {
     "data": {
      "text/html": [
       "<div>\n",
       "<style scoped>\n",
       "    .dataframe tbody tr th:only-of-type {\n",
       "        vertical-align: middle;\n",
       "    }\n",
       "\n",
       "    .dataframe tbody tr th {\n",
       "        vertical-align: top;\n",
       "    }\n",
       "\n",
       "    .dataframe thead th {\n",
       "        text-align: right;\n",
       "    }\n",
       "</style>\n",
       "<table border=\"1\" class=\"dataframe\">\n",
       "  <thead>\n",
       "    <tr style=\"text-align: right;\">\n",
       "      <th></th>\n",
       "      <th>Cont1</th>\n",
       "      <th>Cont2</th>\n",
       "      <th>Cont3</th>\n",
       "      <th>Cont4</th>\n",
       "      <th>Cont5</th>\n",
       "      <th>Cont6</th>\n",
       "      <th>Cont7</th>\n",
       "      <th>Cont8</th>\n",
       "    </tr>\n",
       "  </thead>\n",
       "  <tbody>\n",
       "    <tr>\n",
       "      <th>F</th>\n",
       "      <td>0.003567</td>\n",
       "      <td>0.182065</td>\n",
       "      <td>0.066648</td>\n",
       "      <td>0.135450</td>\n",
       "      <td>0.002170</td>\n",
       "      <td>0.014600</td>\n",
       "      <td>0.305946</td>\n",
       "      <td>0.001913</td>\n",
       "    </tr>\n",
       "    <tr>\n",
       "      <th>M</th>\n",
       "      <td>0.001440</td>\n",
       "      <td>0.073515</td>\n",
       "      <td>0.026912</td>\n",
       "      <td>0.054693</td>\n",
       "      <td>0.000876</td>\n",
       "      <td>0.005895</td>\n",
       "      <td>0.123537</td>\n",
       "      <td>0.000773</td>\n",
       "    </tr>\n",
       "    <tr>\n",
       "      <th>16-</th>\n",
       "      <td>0.030355</td>\n",
       "      <td>0.240946</td>\n",
       "      <td>0.019949</td>\n",
       "      <td>0.003338</td>\n",
       "      <td>0.090957</td>\n",
       "      <td>0.076419</td>\n",
       "      <td>0.204728</td>\n",
       "      <td>0.068140</td>\n",
       "    </tr>\n",
       "    <tr>\n",
       "      <th>17</th>\n",
       "      <td>0.009781</td>\n",
       "      <td>0.000299</td>\n",
       "      <td>0.265400</td>\n",
       "      <td>0.026584</td>\n",
       "      <td>0.010117</td>\n",
       "      <td>0.227272</td>\n",
       "      <td>0.053990</td>\n",
       "      <td>0.022287</td>\n",
       "    </tr>\n",
       "    <tr>\n",
       "      <th>18</th>\n",
       "      <td>0.052450</td>\n",
       "      <td>0.001840</td>\n",
       "      <td>0.142121</td>\n",
       "      <td>0.000463</td>\n",
       "      <td>0.615661</td>\n",
       "      <td>0.021523</td>\n",
       "      <td>0.017214</td>\n",
       "      <td>0.022884</td>\n",
       "    </tr>\n",
       "    <tr>\n",
       "      <th>19+</th>\n",
       "      <td>0.012422</td>\n",
       "      <td>0.274296</td>\n",
       "      <td>0.056706</td>\n",
       "      <td>0.018046</td>\n",
       "      <td>0.152951</td>\n",
       "      <td>0.045510</td>\n",
       "      <td>0.081706</td>\n",
       "      <td>0.133644</td>\n",
       "    </tr>\n",
       "    <tr>\n",
       "      <th>al</th>\n",
       "      <td>0.038829</td>\n",
       "      <td>0.087500</td>\n",
       "      <td>0.200579</td>\n",
       "      <td>0.220444</td>\n",
       "      <td>0.003493</td>\n",
       "      <td>0.138241</td>\n",
       "      <td>0.029155</td>\n",
       "      <td>0.099735</td>\n",
       "    </tr>\n",
       "    <tr>\n",
       "      <th>ba</th>\n",
       "      <td>0.259042</td>\n",
       "      <td>0.031462</td>\n",
       "      <td>0.011671</td>\n",
       "      <td>0.000679</td>\n",
       "      <td>0.039980</td>\n",
       "      <td>0.002210</td>\n",
       "      <td>0.040681</td>\n",
       "      <td>0.212028</td>\n",
       "    </tr>\n",
       "    <tr>\n",
       "      <th>me</th>\n",
       "      <td>0.137087</td>\n",
       "      <td>0.000452</td>\n",
       "      <td>0.036131</td>\n",
       "      <td>0.113108</td>\n",
       "      <td>0.055597</td>\n",
       "      <td>0.085416</td>\n",
       "      <td>0.096959</td>\n",
       "      <td>0.059520</td>\n",
       "    </tr>\n",
       "    <tr>\n",
       "      <th>Bo</th>\n",
       "      <td>0.134530</td>\n",
       "      <td>0.009052</td>\n",
       "      <td>0.007046</td>\n",
       "      <td>0.018857</td>\n",
       "      <td>0.007921</td>\n",
       "      <td>0.004207</td>\n",
       "      <td>0.008226</td>\n",
       "      <td>0.111286</td>\n",
       "    </tr>\n",
       "    <tr>\n",
       "      <th>Cu</th>\n",
       "      <td>0.048665</td>\n",
       "      <td>0.025137</td>\n",
       "      <td>0.157165</td>\n",
       "      <td>0.387467</td>\n",
       "      <td>0.011887</td>\n",
       "      <td>0.212984</td>\n",
       "      <td>0.035920</td>\n",
       "      <td>0.035381</td>\n",
       "    </tr>\n",
       "    <tr>\n",
       "      <th>Ot</th>\n",
       "      <td>0.271832</td>\n",
       "      <td>0.073437</td>\n",
       "      <td>0.009670</td>\n",
       "      <td>0.020871</td>\n",
       "      <td>0.008390</td>\n",
       "      <td>0.165724</td>\n",
       "      <td>0.001936</td>\n",
       "      <td>0.232410</td>\n",
       "    </tr>\n",
       "  </tbody>\n",
       "</table>\n",
       "</div>"
      ],
      "text/plain": [
       "        Cont1     Cont2     Cont3     Cont4     Cont5     Cont6     Cont7  \\\n",
       "F    0.003567  0.182065  0.066648  0.135450  0.002170  0.014600  0.305946   \n",
       "M    0.001440  0.073515  0.026912  0.054693  0.000876  0.005895  0.123537   \n",
       "16-  0.030355  0.240946  0.019949  0.003338  0.090957  0.076419  0.204728   \n",
       "17   0.009781  0.000299  0.265400  0.026584  0.010117  0.227272  0.053990   \n",
       "18   0.052450  0.001840  0.142121  0.000463  0.615661  0.021523  0.017214   \n",
       "19+  0.012422  0.274296  0.056706  0.018046  0.152951  0.045510  0.081706   \n",
       "al   0.038829  0.087500  0.200579  0.220444  0.003493  0.138241  0.029155   \n",
       "ba   0.259042  0.031462  0.011671  0.000679  0.039980  0.002210  0.040681   \n",
       "me   0.137087  0.000452  0.036131  0.113108  0.055597  0.085416  0.096959   \n",
       "Bo   0.134530  0.009052  0.007046  0.018857  0.007921  0.004207  0.008226   \n",
       "Cu   0.048665  0.025137  0.157165  0.387467  0.011887  0.212984  0.035920   \n",
       "Ot   0.271832  0.073437  0.009670  0.020871  0.008390  0.165724  0.001936   \n",
       "\n",
       "        Cont8  \n",
       "F    0.001913  \n",
       "M    0.000773  \n",
       "16-  0.068140  \n",
       "17   0.022287  \n",
       "18   0.022884  \n",
       "19+  0.133644  \n",
       "al   0.099735  \n",
       "ba   0.212028  \n",
       "me   0.059520  \n",
       "Bo   0.111286  \n",
       "Cu   0.035381  \n",
       "Ot   0.232410  "
      ]
     },
     "execution_count": 26,
     "metadata": {},
     "output_type": "execute_result"
    }
   ],
   "source": [
    "# Generar los nombres de las filas y las columnas para Dataframe column_contributions_Z\n",
    "row_names = column_contributions_Z.index\n",
    "column_names = [f\"Cont{i+1}\" for i in range(column_contributions_Z.shape[1])]\n",
    "\n",
    "# Crear un DataFrame a partir de column_contributions_Z con los nombres de fila y columna generados\n",
    "column_contributions_Z = pd.DataFrame(data=column_contributions_Z.values, index=row_names, columns=column_names)\n",
    "\n",
    "# Mostrar el DataFrame resultante\n",
    "column_contributions_Z"
   ]
  },
  {
   "cell_type": "code",
   "execution_count": 27,
   "metadata": {},
   "outputs": [
    {
     "data": {
      "text/html": [
       "<div>\n",
       "<style scoped>\n",
       "    .dataframe tbody tr th:only-of-type {\n",
       "        vertical-align: middle;\n",
       "    }\n",
       "\n",
       "    .dataframe tbody tr th {\n",
       "        vertical-align: top;\n",
       "    }\n",
       "\n",
       "    .dataframe thead th {\n",
       "        text-align: right;\n",
       "    }\n",
       "</style>\n",
       "<table border=\"1\" class=\"dataframe\">\n",
       "  <thead>\n",
       "    <tr style=\"text-align: right;\">\n",
       "      <th></th>\n",
       "      <th>0</th>\n",
       "      <th>1</th>\n",
       "      <th>2</th>\n",
       "      <th>3</th>\n",
       "      <th>4</th>\n",
       "      <th>5</th>\n",
       "      <th>6</th>\n",
       "      <th>7</th>\n",
       "    </tr>\n",
       "  </thead>\n",
       "  <tbody>\n",
       "    <tr>\n",
       "      <th>F</th>\n",
       "      <td>0.006742</td>\n",
       "      <td>0.319741</td>\n",
       "      <td>0.105792</td>\n",
       "      <td>0.187959</td>\n",
       "      <td>0.002934</td>\n",
       "      <td>0.018801</td>\n",
       "      <td>0.356493</td>\n",
       "      <td>0.001539</td>\n",
       "    </tr>\n",
       "    <tr>\n",
       "      <th>M</th>\n",
       "      <td>0.006742</td>\n",
       "      <td>0.319741</td>\n",
       "      <td>0.105792</td>\n",
       "      <td>0.187959</td>\n",
       "      <td>0.002934</td>\n",
       "      <td>0.018801</td>\n",
       "      <td>0.356493</td>\n",
       "      <td>0.001539</td>\n",
       "    </tr>\n",
       "    <tr>\n",
       "      <th>16-</th>\n",
       "      <td>0.055613</td>\n",
       "      <td>0.410206</td>\n",
       "      <td>0.030698</td>\n",
       "      <td>0.004491</td>\n",
       "      <td>0.119210</td>\n",
       "      <td>0.095397</td>\n",
       "      <td>0.231257</td>\n",
       "      <td>0.053128</td>\n",
       "    </tr>\n",
       "    <tr>\n",
       "      <th>17</th>\n",
       "      <td>0.021387</td>\n",
       "      <td>0.000608</td>\n",
       "      <td>0.487390</td>\n",
       "      <td>0.042678</td>\n",
       "      <td>0.015824</td>\n",
       "      <td>0.338591</td>\n",
       "      <td>0.072783</td>\n",
       "      <td>0.020738</td>\n",
       "    </tr>\n",
       "    <tr>\n",
       "      <th>18</th>\n",
       "      <td>0.080778</td>\n",
       "      <td>0.002633</td>\n",
       "      <td>0.183838</td>\n",
       "      <td>0.000524</td>\n",
       "      <td>0.678296</td>\n",
       "      <td>0.022586</td>\n",
       "      <td>0.016346</td>\n",
       "      <td>0.014999</td>\n",
       "    </tr>\n",
       "    <tr>\n",
       "      <th>19+</th>\n",
       "      <td>0.021572</td>\n",
       "      <td>0.442620</td>\n",
       "      <td>0.082706</td>\n",
       "      <td>0.023009</td>\n",
       "      <td>0.190003</td>\n",
       "      <td>0.053848</td>\n",
       "      <td>0.087478</td>\n",
       "      <td>0.098764</td>\n",
       "    </tr>\n",
       "    <tr>\n",
       "      <th>al</th>\n",
       "      <td>0.063909</td>\n",
       "      <td>0.133826</td>\n",
       "      <td>0.277274</td>\n",
       "      <td>0.266404</td>\n",
       "      <td>0.004113</td>\n",
       "      <td>0.155030</td>\n",
       "      <td>0.029586</td>\n",
       "      <td>0.069858</td>\n",
       "    </tr>\n",
       "    <tr>\n",
       "      <th>ba</th>\n",
       "      <td>0.583429</td>\n",
       "      <td>0.065847</td>\n",
       "      <td>0.022077</td>\n",
       "      <td>0.001124</td>\n",
       "      <td>0.064415</td>\n",
       "      <td>0.003391</td>\n",
       "      <td>0.056491</td>\n",
       "      <td>0.203227</td>\n",
       "    </tr>\n",
       "    <tr>\n",
       "      <th>me</th>\n",
       "      <td>0.315880</td>\n",
       "      <td>0.000967</td>\n",
       "      <td>0.069925</td>\n",
       "      <td>0.191366</td>\n",
       "      <td>0.091644</td>\n",
       "      <td>0.134106</td>\n",
       "      <td>0.137746</td>\n",
       "      <td>0.058366</td>\n",
       "    </tr>\n",
       "    <tr>\n",
       "      <th>Bo</th>\n",
       "      <td>0.601468</td>\n",
       "      <td>0.037606</td>\n",
       "      <td>0.026459</td>\n",
       "      <td>0.061902</td>\n",
       "      <td>0.025335</td>\n",
       "      <td>0.012815</td>\n",
       "      <td>0.022675</td>\n",
       "      <td>0.211740</td>\n",
       "    </tr>\n",
       "    <tr>\n",
       "      <th>Cu</th>\n",
       "      <td>0.071634</td>\n",
       "      <td>0.034383</td>\n",
       "      <td>0.194307</td>\n",
       "      <td>0.418779</td>\n",
       "      <td>0.012517</td>\n",
       "      <td>0.213617</td>\n",
       "      <td>0.032599</td>\n",
       "      <td>0.022164</td>\n",
       "    </tr>\n",
       "    <tr>\n",
       "      <th>Ot</th>\n",
       "      <td>0.466631</td>\n",
       "      <td>0.117144</td>\n",
       "      <td>0.013942</td>\n",
       "      <td>0.026307</td>\n",
       "      <td>0.010303</td>\n",
       "      <td>0.193840</td>\n",
       "      <td>0.002049</td>\n",
       "      <td>0.169785</td>\n",
       "    </tr>\n",
       "  </tbody>\n",
       "</table>\n",
       "</div>"
      ],
      "text/plain": [
       "            0         1         2         3         4         5         6  \\\n",
       "F    0.006742  0.319741  0.105792  0.187959  0.002934  0.018801  0.356493   \n",
       "M    0.006742  0.319741  0.105792  0.187959  0.002934  0.018801  0.356493   \n",
       "16-  0.055613  0.410206  0.030698  0.004491  0.119210  0.095397  0.231257   \n",
       "17   0.021387  0.000608  0.487390  0.042678  0.015824  0.338591  0.072783   \n",
       "18   0.080778  0.002633  0.183838  0.000524  0.678296  0.022586  0.016346   \n",
       "19+  0.021572  0.442620  0.082706  0.023009  0.190003  0.053848  0.087478   \n",
       "al   0.063909  0.133826  0.277274  0.266404  0.004113  0.155030  0.029586   \n",
       "ba   0.583429  0.065847  0.022077  0.001124  0.064415  0.003391  0.056491   \n",
       "me   0.315880  0.000967  0.069925  0.191366  0.091644  0.134106  0.137746   \n",
       "Bo   0.601468  0.037606  0.026459  0.061902  0.025335  0.012815  0.022675   \n",
       "Cu   0.071634  0.034383  0.194307  0.418779  0.012517  0.213617  0.032599   \n",
       "Ot   0.466631  0.117144  0.013942  0.026307  0.010303  0.193840  0.002049   \n",
       "\n",
       "            7  \n",
       "F    0.001539  \n",
       "M    0.001539  \n",
       "16-  0.053128  \n",
       "17   0.020738  \n",
       "18   0.014999  \n",
       "19+  0.098764  \n",
       "al   0.069858  \n",
       "ba   0.203227  \n",
       "me   0.058366  \n",
       "Bo   0.211740  \n",
       "Cu   0.022164  \n",
       "Ot   0.169785  "
      ]
     },
     "execution_count": 27,
     "metadata": {},
     "output_type": "execute_result"
    }
   ],
   "source": [
    "# Calcular las similitudes coseno de las columnas en Z\n",
    "column_cosine_similarities_Z = mca_Z.column_cosine_similarities(Z)\n",
    "\n",
    "# Mostrar el objeto column_cosine_similarities_Z\n",
    "column_cosine_similarities_Z"
   ]
  },
  {
   "cell_type": "code",
   "execution_count": 28,
   "metadata": {},
   "outputs": [
    {
     "data": {
      "text/html": [
       "<div>\n",
       "<style scoped>\n",
       "    .dataframe tbody tr th:only-of-type {\n",
       "        vertical-align: middle;\n",
       "    }\n",
       "\n",
       "    .dataframe tbody tr th {\n",
       "        vertical-align: top;\n",
       "    }\n",
       "\n",
       "    .dataframe thead th {\n",
       "        text-align: right;\n",
       "    }\n",
       "</style>\n",
       "<table border=\"1\" class=\"dataframe\">\n",
       "  <thead>\n",
       "    <tr style=\"text-align: right;\">\n",
       "      <th></th>\n",
       "      <th>Cos2 1</th>\n",
       "      <th>Cos2 2</th>\n",
       "      <th>Cos2 3</th>\n",
       "      <th>Cos2 4</th>\n",
       "      <th>Cos2 5</th>\n",
       "      <th>Cos2 6</th>\n",
       "      <th>Cos2 7</th>\n",
       "      <th>Cos2 8</th>\n",
       "    </tr>\n",
       "  </thead>\n",
       "  <tbody>\n",
       "    <tr>\n",
       "      <th>F</th>\n",
       "      <td>0.006742</td>\n",
       "      <td>0.319741</td>\n",
       "      <td>0.105792</td>\n",
       "      <td>0.187959</td>\n",
       "      <td>0.002934</td>\n",
       "      <td>0.018801</td>\n",
       "      <td>0.356493</td>\n",
       "      <td>0.001539</td>\n",
       "    </tr>\n",
       "    <tr>\n",
       "      <th>M</th>\n",
       "      <td>0.006742</td>\n",
       "      <td>0.319741</td>\n",
       "      <td>0.105792</td>\n",
       "      <td>0.187959</td>\n",
       "      <td>0.002934</td>\n",
       "      <td>0.018801</td>\n",
       "      <td>0.356493</td>\n",
       "      <td>0.001539</td>\n",
       "    </tr>\n",
       "    <tr>\n",
       "      <th>16-</th>\n",
       "      <td>0.055613</td>\n",
       "      <td>0.410206</td>\n",
       "      <td>0.030698</td>\n",
       "      <td>0.004491</td>\n",
       "      <td>0.119210</td>\n",
       "      <td>0.095397</td>\n",
       "      <td>0.231257</td>\n",
       "      <td>0.053128</td>\n",
       "    </tr>\n",
       "    <tr>\n",
       "      <th>17</th>\n",
       "      <td>0.021387</td>\n",
       "      <td>0.000608</td>\n",
       "      <td>0.487390</td>\n",
       "      <td>0.042678</td>\n",
       "      <td>0.015824</td>\n",
       "      <td>0.338591</td>\n",
       "      <td>0.072783</td>\n",
       "      <td>0.020738</td>\n",
       "    </tr>\n",
       "    <tr>\n",
       "      <th>18</th>\n",
       "      <td>0.080778</td>\n",
       "      <td>0.002633</td>\n",
       "      <td>0.183838</td>\n",
       "      <td>0.000524</td>\n",
       "      <td>0.678296</td>\n",
       "      <td>0.022586</td>\n",
       "      <td>0.016346</td>\n",
       "      <td>0.014999</td>\n",
       "    </tr>\n",
       "    <tr>\n",
       "      <th>19+</th>\n",
       "      <td>0.021572</td>\n",
       "      <td>0.442620</td>\n",
       "      <td>0.082706</td>\n",
       "      <td>0.023009</td>\n",
       "      <td>0.190003</td>\n",
       "      <td>0.053848</td>\n",
       "      <td>0.087478</td>\n",
       "      <td>0.098764</td>\n",
       "    </tr>\n",
       "    <tr>\n",
       "      <th>al</th>\n",
       "      <td>0.063909</td>\n",
       "      <td>0.133826</td>\n",
       "      <td>0.277274</td>\n",
       "      <td>0.266404</td>\n",
       "      <td>0.004113</td>\n",
       "      <td>0.155030</td>\n",
       "      <td>0.029586</td>\n",
       "      <td>0.069858</td>\n",
       "    </tr>\n",
       "    <tr>\n",
       "      <th>ba</th>\n",
       "      <td>0.583429</td>\n",
       "      <td>0.065847</td>\n",
       "      <td>0.022077</td>\n",
       "      <td>0.001124</td>\n",
       "      <td>0.064415</td>\n",
       "      <td>0.003391</td>\n",
       "      <td>0.056491</td>\n",
       "      <td>0.203227</td>\n",
       "    </tr>\n",
       "    <tr>\n",
       "      <th>me</th>\n",
       "      <td>0.315880</td>\n",
       "      <td>0.000967</td>\n",
       "      <td>0.069925</td>\n",
       "      <td>0.191366</td>\n",
       "      <td>0.091644</td>\n",
       "      <td>0.134106</td>\n",
       "      <td>0.137746</td>\n",
       "      <td>0.058366</td>\n",
       "    </tr>\n",
       "    <tr>\n",
       "      <th>Bo</th>\n",
       "      <td>0.601468</td>\n",
       "      <td>0.037606</td>\n",
       "      <td>0.026459</td>\n",
       "      <td>0.061902</td>\n",
       "      <td>0.025335</td>\n",
       "      <td>0.012815</td>\n",
       "      <td>0.022675</td>\n",
       "      <td>0.211740</td>\n",
       "    </tr>\n",
       "    <tr>\n",
       "      <th>Cu</th>\n",
       "      <td>0.071634</td>\n",
       "      <td>0.034383</td>\n",
       "      <td>0.194307</td>\n",
       "      <td>0.418779</td>\n",
       "      <td>0.012517</td>\n",
       "      <td>0.213617</td>\n",
       "      <td>0.032599</td>\n",
       "      <td>0.022164</td>\n",
       "    </tr>\n",
       "    <tr>\n",
       "      <th>Ot</th>\n",
       "      <td>0.466631</td>\n",
       "      <td>0.117144</td>\n",
       "      <td>0.013942</td>\n",
       "      <td>0.026307</td>\n",
       "      <td>0.010303</td>\n",
       "      <td>0.193840</td>\n",
       "      <td>0.002049</td>\n",
       "      <td>0.169785</td>\n",
       "    </tr>\n",
       "  </tbody>\n",
       "</table>\n",
       "</div>"
      ],
      "text/plain": [
       "       Cos2 1    Cos2 2    Cos2 3    Cos2 4    Cos2 5    Cos2 6    Cos2 7  \\\n",
       "F    0.006742  0.319741  0.105792  0.187959  0.002934  0.018801  0.356493   \n",
       "M    0.006742  0.319741  0.105792  0.187959  0.002934  0.018801  0.356493   \n",
       "16-  0.055613  0.410206  0.030698  0.004491  0.119210  0.095397  0.231257   \n",
       "17   0.021387  0.000608  0.487390  0.042678  0.015824  0.338591  0.072783   \n",
       "18   0.080778  0.002633  0.183838  0.000524  0.678296  0.022586  0.016346   \n",
       "19+  0.021572  0.442620  0.082706  0.023009  0.190003  0.053848  0.087478   \n",
       "al   0.063909  0.133826  0.277274  0.266404  0.004113  0.155030  0.029586   \n",
       "ba   0.583429  0.065847  0.022077  0.001124  0.064415  0.003391  0.056491   \n",
       "me   0.315880  0.000967  0.069925  0.191366  0.091644  0.134106  0.137746   \n",
       "Bo   0.601468  0.037606  0.026459  0.061902  0.025335  0.012815  0.022675   \n",
       "Cu   0.071634  0.034383  0.194307  0.418779  0.012517  0.213617  0.032599   \n",
       "Ot   0.466631  0.117144  0.013942  0.026307  0.010303  0.193840  0.002049   \n",
       "\n",
       "       Cos2 8  \n",
       "F    0.001539  \n",
       "M    0.001539  \n",
       "16-  0.053128  \n",
       "17   0.020738  \n",
       "18   0.014999  \n",
       "19+  0.098764  \n",
       "al   0.069858  \n",
       "ba   0.203227  \n",
       "me   0.058366  \n",
       "Bo   0.211740  \n",
       "Cu   0.022164  \n",
       "Ot   0.169785  "
      ]
     },
     "execution_count": 28,
     "metadata": {},
     "output_type": "execute_result"
    }
   ],
   "source": [
    "# Generar los nombres de fila para el nuevo DataFrame de similitudes coseno\n",
    "row_names = column_cosine_similarities_Z.index\n",
    "\n",
    "# Generar los nombres de columna para el nuevo DataFrame de similitudes coseno\n",
    "column_names = [f\"Cos2 {i+1}\" for i in range(column_cosine_similarities_Z.shape[1])]\n",
    "\n",
    "# Crear un nuevo DataFrame con column_cosine_similarities_Z\n",
    "column_cosine_similarities_Z = pd.DataFrame(data=column_cosine_similarities_Z.values, index=row_names, columns=column_names)\n",
    "\n",
    "# Mostrar el DataFrame\n",
    "column_cosine_similarities_Z"
   ]
  },
  {
   "cell_type": "markdown",
   "metadata": {},
   "source": [
    "Tabla de coordenadas y ayudas para la interpretación de las categorías para los tres primeros ejes"
   ]
  },
  {
   "cell_type": "code",
   "execution_count": 29,
   "metadata": {},
   "outputs": [
    {
     "data": {
      "text/html": [
       "<div>\n",
       "<style scoped>\n",
       "    .dataframe tbody tr th:only-of-type {\n",
       "        vertical-align: middle;\n",
       "    }\n",
       "\n",
       "    .dataframe tbody tr th {\n",
       "        vertical-align: top;\n",
       "    }\n",
       "\n",
       "    .dataframe thead th {\n",
       "        text-align: right;\n",
       "    }\n",
       "</style>\n",
       "<table border=\"1\" class=\"dataframe\">\n",
       "  <thead>\n",
       "    <tr style=\"text-align: right;\">\n",
       "      <th></th>\n",
       "      <th>Componente 1</th>\n",
       "      <th>Componente 2</th>\n",
       "      <th>Componente 3</th>\n",
       "      <th>Cont1</th>\n",
       "      <th>Cont2</th>\n",
       "      <th>Cont3</th>\n",
       "      <th>Cos2 1</th>\n",
       "      <th>Cos2 2</th>\n",
       "      <th>Cos2 3</th>\n",
       "    </tr>\n",
       "  </thead>\n",
       "  <tbody>\n",
       "    <tr>\n",
       "      <th>F</th>\n",
       "      <td>-0.129</td>\n",
       "      <td>0.890</td>\n",
       "      <td>-0.512</td>\n",
       "      <td>0.004</td>\n",
       "      <td>0.182</td>\n",
       "      <td>0.067</td>\n",
       "      <td>0.007</td>\n",
       "      <td>0.320</td>\n",
       "      <td>0.106</td>\n",
       "    </tr>\n",
       "    <tr>\n",
       "      <th>M</th>\n",
       "      <td>0.052</td>\n",
       "      <td>-0.359</td>\n",
       "      <td>0.207</td>\n",
       "      <td>0.001</td>\n",
       "      <td>0.074</td>\n",
       "      <td>0.027</td>\n",
       "      <td>0.007</td>\n",
       "      <td>0.320</td>\n",
       "      <td>0.106</td>\n",
       "    </tr>\n",
       "    <tr>\n",
       "      <th>16-</th>\n",
       "      <td>0.393</td>\n",
       "      <td>1.066</td>\n",
       "      <td>-0.292</td>\n",
       "      <td>0.030</td>\n",
       "      <td>0.241</td>\n",
       "      <td>0.020</td>\n",
       "      <td>0.056</td>\n",
       "      <td>0.410</td>\n",
       "      <td>0.031</td>\n",
       "    </tr>\n",
       "    <tr>\n",
       "      <th>17</th>\n",
       "      <td>-0.185</td>\n",
       "      <td>0.031</td>\n",
       "      <td>0.884</td>\n",
       "      <td>0.010</td>\n",
       "      <td>0.000</td>\n",
       "      <td>0.265</td>\n",
       "      <td>0.021</td>\n",
       "      <td>0.001</td>\n",
       "      <td>0.487</td>\n",
       "    </tr>\n",
       "    <tr>\n",
       "      <th>18</th>\n",
       "      <td>-0.749</td>\n",
       "      <td>-0.135</td>\n",
       "      <td>-1.130</td>\n",
       "      <td>0.052</td>\n",
       "      <td>0.002</td>\n",
       "      <td>0.142</td>\n",
       "      <td>0.081</td>\n",
       "      <td>0.003</td>\n",
       "      <td>0.184</td>\n",
       "    </tr>\n",
       "    <tr>\n",
       "      <th>19+</th>\n",
       "      <td>0.273</td>\n",
       "      <td>-1.236</td>\n",
       "      <td>-0.534</td>\n",
       "      <td>0.012</td>\n",
       "      <td>0.274</td>\n",
       "      <td>0.057</td>\n",
       "      <td>0.022</td>\n",
       "      <td>0.443</td>\n",
       "      <td>0.083</td>\n",
       "    </tr>\n",
       "    <tr>\n",
       "      <th>al</th>\n",
       "      <td>-0.536</td>\n",
       "      <td>0.775</td>\n",
       "      <td>1.116</td>\n",
       "      <td>0.039</td>\n",
       "      <td>0.088</td>\n",
       "      <td>0.201</td>\n",
       "      <td>0.064</td>\n",
       "      <td>0.134</td>\n",
       "      <td>0.277</td>\n",
       "    </tr>\n",
       "    <tr>\n",
       "      <th>ba</th>\n",
       "      <td>0.931</td>\n",
       "      <td>-0.313</td>\n",
       "      <td>-0.181</td>\n",
       "      <td>0.259</td>\n",
       "      <td>0.031</td>\n",
       "      <td>0.012</td>\n",
       "      <td>0.583</td>\n",
       "      <td>0.066</td>\n",
       "      <td>0.022</td>\n",
       "    </tr>\n",
       "    <tr>\n",
       "      <th>me</th>\n",
       "      <td>-0.666</td>\n",
       "      <td>-0.037</td>\n",
       "      <td>-0.313</td>\n",
       "      <td>0.137</td>\n",
       "      <td>0.000</td>\n",
       "      <td>0.036</td>\n",
       "      <td>0.316</td>\n",
       "      <td>0.001</td>\n",
       "      <td>0.070</td>\n",
       "    </tr>\n",
       "    <tr>\n",
       "      <th>Bo</th>\n",
       "      <td>-0.509</td>\n",
       "      <td>-0.127</td>\n",
       "      <td>-0.107</td>\n",
       "      <td>0.135</td>\n",
       "      <td>0.009</td>\n",
       "      <td>0.007</td>\n",
       "      <td>0.601</td>\n",
       "      <td>0.038</td>\n",
       "      <td>0.026</td>\n",
       "    </tr>\n",
       "    <tr>\n",
       "      <th>Cu</th>\n",
       "      <td>0.876</td>\n",
       "      <td>-0.607</td>\n",
       "      <td>1.443</td>\n",
       "      <td>0.049</td>\n",
       "      <td>0.025</td>\n",
       "      <td>0.157</td>\n",
       "      <td>0.072</td>\n",
       "      <td>0.034</td>\n",
       "      <td>0.194</td>\n",
       "    </tr>\n",
       "    <tr>\n",
       "      <th>Ot</th>\n",
       "      <td>1.302</td>\n",
       "      <td>0.653</td>\n",
       "      <td>-0.225</td>\n",
       "      <td>0.272</td>\n",
       "      <td>0.073</td>\n",
       "      <td>0.010</td>\n",
       "      <td>0.467</td>\n",
       "      <td>0.117</td>\n",
       "      <td>0.014</td>\n",
       "    </tr>\n",
       "  </tbody>\n",
       "</table>\n",
       "</div>"
      ],
      "text/plain": [
       "     Componente 1  Componente 2  Componente 3  Cont1  Cont2  Cont3  Cos2 1  \\\n",
       "F          -0.129         0.890        -0.512  0.004  0.182  0.067   0.007   \n",
       "M           0.052        -0.359         0.207  0.001  0.074  0.027   0.007   \n",
       "16-         0.393         1.066        -0.292  0.030  0.241  0.020   0.056   \n",
       "17         -0.185         0.031         0.884  0.010  0.000  0.265   0.021   \n",
       "18         -0.749        -0.135        -1.130  0.052  0.002  0.142   0.081   \n",
       "19+         0.273        -1.236        -0.534  0.012  0.274  0.057   0.022   \n",
       "al         -0.536         0.775         1.116  0.039  0.088  0.201   0.064   \n",
       "ba          0.931        -0.313        -0.181  0.259  0.031  0.012   0.583   \n",
       "me         -0.666        -0.037        -0.313  0.137  0.000  0.036   0.316   \n",
       "Bo         -0.509        -0.127        -0.107  0.135  0.009  0.007   0.601   \n",
       "Cu          0.876        -0.607         1.443  0.049  0.025  0.157   0.072   \n",
       "Ot          1.302         0.653        -0.225  0.272  0.073  0.010   0.467   \n",
       "\n",
       "     Cos2 2  Cos2 3  \n",
       "F     0.320   0.106  \n",
       "M     0.320   0.106  \n",
       "16-   0.410   0.031  \n",
       "17    0.001   0.487  \n",
       "18    0.003   0.184  \n",
       "19+   0.443   0.083  \n",
       "al    0.134   0.277  \n",
       "ba    0.066   0.022  \n",
       "me    0.001   0.070  \n",
       "Bo    0.038   0.026  \n",
       "Cu    0.034   0.194  \n",
       "Ot    0.117   0.014  "
      ]
     },
     "execution_count": 29,
     "metadata": {},
     "output_type": "execute_result"
    }
   ],
   "source": [
    "# Concatenar los primeros 3 componentes de column_coordinates_Z\n",
    "# con los primeros 3 componentes de column_contributions_Z\n",
    "# y los primeros 3 componentes de column_cosine_similarities_Z\n",
    "help_columns_Z = pd.concat([column_coordinates_Z.iloc[:,:3],\n",
    "                            column_contributions_Z.iloc[:,:3],\n",
    "                            column_cosine_similarities_Z.iloc[:,:3]],\n",
    "                            axis=1)\n",
    "\n",
    "# Redondear los valores del nuevo DataFrame a 3 decimales\n",
    "help_columns_Z.round(3)"
   ]
  },
  {
   "cell_type": "code",
   "execution_count": 30,
   "metadata": {},
   "outputs": [
    {
     "data": {
      "text/plain": [
       "0.08333333333333333"
      ]
     },
     "execution_count": 30,
     "metadata": {},
     "output_type": "execute_result"
    }
   ],
   "source": [
    "# Calcular el promedio de las contribuciones de columna, que es 1/p = 1/12\n",
    "mean_cont = 1/p\n",
    "mean_cont"
   ]
  },
  {
   "attachments": {},
   "cell_type": "markdown",
   "metadata": {},
   "source": [
    "### Nubes de individuos y de categorías el plano factorial 1-2"
   ]
  },
  {
   "cell_type": "code",
   "execution_count": 31,
   "metadata": {},
   "outputs": [
    {
     "data": {
      "application/vnd.plotly.v1+json": {
       "config": {
        "plotlyServerURL": "https://plot.ly"
       },
       "data": [
        {
         "marker": {
          "color": [
           "black",
           "black",
           "black",
           "black",
           "black",
           "black",
           "black",
           "black",
           "black",
           "black",
           "black",
           "black",
           "black",
           "black",
           "black",
           "black",
           "black",
           "black",
           "black",
           "black",
           "black",
           "black",
           "black",
           "black",
           "black",
           "black",
           "black",
           "black",
           "black",
           "black",
           "black",
           "black",
           "black",
           "black",
           "black",
           "black",
           "black",
           "black",
           "black",
           "black",
           "black",
           "black",
           "black",
           "black",
           "black",
           "black",
           "black",
           "black",
           "black",
           "black",
           "black",
           "black",
           "black",
           "black",
           "black",
           "black",
           "black",
           "black",
           "black",
           "black",
           "black",
           "black",
           "black",
           "black",
           "black",
           "black",
           "black",
           "black",
           "black",
           "black",
           "black",
           "black",
           "black",
           "black",
           "black",
           "black",
           "black",
           "black",
           "black",
           "black",
           "black",
           "black",
           "black",
           "black",
           "black",
           "black",
           "black",
           "black",
           "black",
           "black",
           "black",
           "black",
           "black",
           "black",
           "black",
           "black",
           "black",
           "black",
           "black",
           "black",
           "black",
           "black",
           "black",
           "black",
           "black",
           "black",
           "black",
           "black",
           "black",
           "black",
           "black",
           "black",
           "black",
           "black",
           "black",
           "black",
           "black",
           "black",
           "black",
           "black",
           "black",
           "black",
           "black",
           "black",
           "black",
           "black",
           "black",
           "black",
           "black",
           "black",
           "black",
           "black",
           "black",
           "black",
           "black",
           "black",
           "black",
           "black",
           "black",
           "black",
           "black",
           "black",
           "black",
           "black",
           "black",
           "black",
           "black",
           "black",
           "black",
           "black",
           "black",
           "black",
           "black",
           "black",
           "black",
           "black",
           "black",
           "black",
           "black",
           "black",
           "black",
           "black",
           "black",
           "black",
           "black",
           "black",
           "black",
           "black",
           "black",
           "black",
           "black",
           "black",
           "black",
           "black",
           "black",
           "black",
           "black",
           "black",
           "black",
           "black",
           "black",
           "black",
           "black",
           "black",
           "black",
           "black",
           "black",
           "black",
           "black",
           "black",
           "black",
           "black",
           "black",
           "black",
           "black",
           "black",
           "black",
           "black",
           "black",
           "black",
           "black",
           "black",
           "black",
           "black",
           "black",
           "black",
           "black",
           "black",
           "black",
           "black",
           "black",
           "black",
           "black",
           "black",
           "black",
           "black",
           "black",
           "black",
           "black",
           "black",
           "black",
           "black",
           "black",
           "black",
           "black",
           "black",
           "black",
           "black",
           "black",
           "black",
           "black",
           "black",
           "black",
           "black",
           "black",
           "black",
           "black",
           "black",
           "black",
           "black",
           "black",
           "black",
           "black",
           "black",
           "black",
           "black",
           "black",
           "black",
           "black",
           "black",
           "black",
           "black",
           "black",
           "black",
           "black",
           "black",
           "black",
           "black",
           "black",
           "black",
           "black",
           "black",
           "black",
           "black",
           "black",
           "black",
           "black",
           "black",
           "black",
           "black",
           "black",
           "black",
           "black",
           "black",
           "black",
           "black",
           "black",
           "black",
           "black",
           "black",
           "black",
           "black",
           "black",
           "black",
           "black",
           "black",
           "black",
           "black",
           "black",
           "black",
           "black",
           "black",
           "black",
           "black",
           "black",
           "black",
           "black",
           "black",
           "black",
           "black",
           "black",
           "black",
           "black",
           "black",
           "black",
           "black",
           "black",
           "black",
           "black",
           "black",
           "black",
           "black",
           "black",
           "black",
           "black",
           "black",
           "black",
           "black",
           "black",
           "black",
           "black",
           "black",
           "black",
           "black",
           "black",
           "black",
           "black",
           "black",
           "black",
           "black",
           "black",
           "black",
           "black",
           "black",
           "black",
           "black",
           "black",
           "black",
           "black",
           "black",
           "black",
           "black",
           "black",
           "black",
           "black",
           "black",
           "black",
           "black",
           "black",
           "black",
           "black",
           "black",
           "black",
           "black",
           "black",
           "black",
           "black",
           "black",
           "black",
           "black",
           "black",
           "black",
           "black",
           "black",
           "black",
           "black",
           "black",
           "black",
           "black",
           "black",
           "black",
           "black",
           "black",
           "black",
           "black",
           "black",
           "black",
           "black",
           "black",
           "black",
           "black",
           "black",
           "black",
           "black",
           "black",
           "black",
           "black",
           "black",
           "black",
           "black",
           "black",
           "black",
           "black",
           "black",
           "black",
           "black",
           "black",
           "black",
           "black",
           "black",
           "black",
           "black",
           "black",
           "black",
           "black",
           "black",
           "black",
           "black",
           "black",
           "black",
           "black",
           "black",
           "black",
           "black",
           "black",
           "black",
           "black",
           "black",
           "black",
           "black",
           "black",
           "black",
           "black",
           "black",
           "black",
           "black",
           "black",
           "black",
           "black",
           "black",
           "black",
           "black",
           "black",
           "black",
           "black",
           "black",
           "black",
           "black",
           "black",
           "black",
           "black",
           "black",
           "black",
           "black",
           "black"
          ],
          "size": 3
         },
         "mode": "markers+text",
         "name": "Nube de individuos",
         "text": [
          0,
          1,
          2,
          3,
          4,
          5,
          6,
          7,
          8,
          9,
          10,
          11,
          12,
          13,
          14,
          15,
          16,
          17,
          18,
          19,
          20,
          21,
          22,
          23,
          24,
          25,
          26,
          27,
          28,
          29,
          30,
          31,
          32,
          33,
          34,
          35,
          36,
          37,
          38,
          39,
          40,
          41,
          42,
          43,
          44,
          45,
          46,
          47,
          48,
          49,
          50,
          51,
          52,
          53,
          54,
          55,
          56,
          57,
          58,
          59,
          60,
          61,
          62,
          63,
          64,
          65,
          66,
          67,
          68,
          69,
          70,
          71,
          72,
          73,
          74,
          75,
          76,
          77,
          78,
          79,
          80,
          81,
          82,
          83,
          84,
          85,
          86,
          87,
          88,
          89,
          90,
          91,
          92,
          93,
          94,
          95,
          96,
          97,
          98,
          99,
          100,
          101,
          102,
          103,
          104,
          105,
          106,
          107,
          108,
          109,
          110,
          111,
          112,
          113,
          114,
          115,
          116,
          117,
          118,
          119,
          120,
          121,
          122,
          123,
          124,
          125,
          126,
          127,
          128,
          129,
          130,
          131,
          132,
          133,
          134,
          135,
          136,
          137,
          138,
          139,
          140,
          141,
          142,
          143,
          144,
          145,
          146,
          147,
          148,
          149,
          150,
          151,
          152,
          153,
          154,
          155,
          156,
          157,
          158,
          159,
          160,
          161,
          162,
          163,
          164,
          165,
          166,
          167,
          168,
          169,
          170,
          171,
          172,
          173,
          174,
          175,
          176,
          177,
          178,
          179,
          180,
          181,
          182,
          183,
          184,
          185,
          186,
          187,
          188,
          189,
          190,
          191,
          192,
          193,
          194,
          195,
          196,
          197,
          198,
          199,
          200,
          201,
          202,
          203,
          204,
          205,
          206,
          207,
          208,
          209,
          210,
          211,
          212,
          213,
          214,
          215,
          216,
          217,
          218,
          219,
          220,
          221,
          222,
          223,
          224,
          225,
          226,
          227,
          228,
          229,
          230,
          231,
          232,
          233,
          234,
          235,
          236,
          237,
          238,
          239,
          240,
          241,
          242,
          243,
          244,
          245,
          246,
          247,
          248,
          249,
          250,
          251,
          252,
          253,
          254,
          255,
          256,
          257,
          258,
          259,
          260,
          261,
          262,
          263,
          264,
          265,
          266,
          267,
          268,
          269,
          270,
          271,
          272,
          273,
          274,
          275,
          276,
          277,
          278,
          279,
          280,
          281,
          282,
          283,
          284,
          285,
          286,
          287,
          288,
          289,
          290,
          291,
          292,
          293,
          294,
          295,
          296,
          297,
          298,
          299,
          300,
          301,
          302,
          303,
          304,
          305,
          306,
          307,
          308,
          309,
          310,
          311,
          312,
          313,
          314,
          315,
          316,
          317,
          318,
          319,
          320,
          321,
          322,
          323,
          324,
          325,
          326,
          327,
          328,
          329,
          330,
          331,
          332,
          333,
          334,
          335,
          336,
          337,
          338,
          339,
          340,
          341,
          342,
          343,
          344,
          345,
          346,
          347,
          348,
          349,
          350,
          351,
          352,
          353,
          354,
          355,
          356,
          357,
          358,
          359,
          360,
          361,
          362,
          363,
          364,
          365,
          366,
          367,
          368,
          369,
          370,
          371,
          372,
          373,
          374,
          375,
          376,
          377,
          378,
          379,
          380,
          381,
          382,
          383,
          384,
          385,
          386,
          387,
          388,
          389,
          390,
          391,
          392,
          393,
          394,
          395,
          396,
          397,
          398,
          399,
          400,
          401,
          402,
          403,
          404,
          405,
          406,
          407,
          408,
          409,
          410,
          411,
          412,
          413,
          414,
          415,
          416,
          417,
          418,
          419,
          420,
          421,
          422,
          423,
          424,
          425,
          426,
          427,
          428,
          429,
          430,
          431,
          432,
          433,
          434,
          435,
          436,
          437,
          438,
          439,
          440,
          441,
          442,
          443,
          444
         ],
         "textfont": {
          "size": 7
         },
         "textposition": "middle right",
         "type": "scatter",
         "x": [
          -0.5857586417639165,
          -0.5637792563896756,
          -0.196604167225429,
          -0.196604167225429,
          -0.5637792563896756,
          -0.6419436371950387,
          -0.6419436371950387,
          -0.5637792563896756,
          -0.4446134057452865,
          -0.8068027254312957,
          0.12458368262155403,
          -0.5637792563896756,
          -0.3148371863335903,
          -0.5857586417639165,
          -0.5637792563896756,
          -0.8068027254312957,
          -0.3664490249399235,
          -0.4446134057452865,
          0.2730368871435986,
          -0.3664490249399235,
          0.3219139140713062,
          0.2437495332659432,
          0.2730368871435986,
          0.3219139140713062,
          0.13868751090711337,
          0.7214098868450244,
          -0.33681657170783114,
          -0.04511743297156829,
          0.3219139140713062,
          1.1541569007797914,
          0.2600096325156393,
          0.3219139140713062,
          1.0243806813680953,
          0.2819890178898801,
          0.7214098868450244,
          1.0759925199744285,
          0.7214098868450244,
          0.3876295809631987,
          0.08923194326491694,
          0.584026980876723,
          0.662191361682086,
          0.3876295809631987,
          0.9052148307237061,
          -0.5075942609585534,
          -0.39300156713895334,
          -0.3102640295088013,
          -0.2586521909024681,
          -0.3664490249399235,
          -0.5637792563896756,
          -0.11843978642006603,
          -0.5075942609585534,
          -0.7506177300001735,
          -0.8849671062366588,
          0.12458368262155403,
          -0.5075942609585534,
          -0.3148371863335903,
          -0.5857586417639165,
          1.1541569007797914,
          0.13868751090711337,
          0.2168518917124764,
          1.1541569007797914,
          1.0759925199744285,
          1.1541569007797914,
          -0.5637792563896756,
          -0.2586521909024681,
          0.12458368262155403,
          -0.33681657170783114,
          -0.5637792563896756,
          -0.3664490249399235,
          0.12458368262155403,
          0.12458368262155403,
          -0.5637792563896756,
          -0.5637792563896756,
          0.2437495332659432,
          0.12458368262155403,
          -0.3148371863335903,
          -0.6419436371950387,
          -0.39300156713895334,
          -0.39300156713895334,
          0.12458368262155403,
          -0.33681657170783114,
          0.3219139140713062,
          -0.5637792563896756,
          0.12458368262155403,
          0.2953613718722763,
          0.3735257526776393,
          -0.39300156713895334,
          -0.3664490249399235,
          0.2437495332659432,
          0.3219139140713062,
          0.6432455060396614,
          0.3219139140713062,
          0.3219139140713062,
          0.3735257526776393,
          -0.8068027254312957,
          0.3219139140713062,
          0.2038246370845171,
          0.3219139140713062,
          0.9052148307237061,
          -0.8068027254312957,
          -0.3664490249399235,
          0.6432455060396614,
          0.9187401182947766,
          0.08923194326491694,
          0.2168518917124764,
          0.46579396176856175,
          0.19487250633823558,
          0.3735257526776393,
          -0.3148371863335903,
          0.2953613718722763,
          -0.5637792563896756,
          -0.39300156713895334,
          -0.3148371863335903,
          0.12458368262155403,
          -0.3148371863335903,
          0.3219139140713062,
          -0.5637792563896756,
          -0.4446134057452865,
          -0.5637792563896756,
          -0.7506177300001735,
          0.12458368262155403,
          -0.5075942609585534,
          1.1025450621734583,
          0.662191361682086,
          0.13868751090711337,
          0.2168518917124764,
          0.662191361682086,
          0.2168518917124764,
          -0.5075942609585534,
          -0.5637792563896756,
          -0.39300156713895334,
          -0.6419436371950387,
          -0.39300156713895334,
          -0.5637792563896756,
          -0.8068027254312957,
          -0.8849671062366588,
          -0.4446134057452865,
          0.12458368262155403,
          -0.6419436371950387,
          0.046419301816191,
          -0.39300156713895334,
          -0.8849671062366588,
          -0.6419436371950387,
          -0.6419436371950387,
          -0.6419436371950387,
          -0.39300156713895334,
          -0.3148371863335903,
          0.2437495332659432,
          -0.6419436371950387,
          0.2953613718722763,
          -0.6419436371950387,
          -0.39300156713895334,
          -0.8849671062366588,
          0.3219139140713062,
          0.2168518917124764,
          -0.3664490249399235,
          0.046419301816191,
          0.3219139140713062,
          -0.8068027254312957,
          0.3219139140713062,
          -0.8068027254312957,
          -0.8068027254312957,
          1.0759925199744285,
          -0.8068027254312957,
          -0.196604167225429,
          0.3219139140713062,
          -0.196604167225429,
          0.12458368262155403,
          0.3876295809631987,
          -0.11843978642006603,
          0.9187401182947766,
          0.47838641780340435,
          0.9703519569011098,
          0.2953613718722763,
          -0.3102640295088013,
          0.3876295809631987,
          1.0759925199744285,
          0.03304694783379474,
          1.0243806813680953,
          0.2437495332659432,
          -0.5637792563896756,
          -0.3664490249399235,
          1.0243806813680953,
          -0.5637792563896756,
          -0.8849671062366588,
          -0.5857586417639165,
          0.12458368262155403,
          -0.5857586417639165,
          -0.3148371863335903,
          -0.6419436371950387,
          0.12458368262155403,
          -0.8849671062366588,
          -0.33681657170783114,
          -0.2586521909024681,
          -0.11843978642006603,
          -0.2586521909024681,
          0.9052148307237061,
          0.19487250633823558,
          1.0759925199744285,
          0.8270504499183431,
          0.9052148307237061,
          1.0243806813680953,
          -0.7506177300001735,
          -0.2586521909024681,
          -0.39300156713895334,
          -0.3148371863335903,
          -0.5637792563896756,
          -0.8068027254312957,
          -0.5637792563896756,
          -0.8068027254312957,
          0.3735257526776393,
          -0.3664490249399235,
          -0.11843978642006603,
          -0.2586521909024681,
          0.12458368262155403,
          -0.5637792563896756,
          -0.11843978642006603,
          -0.2586521909024681,
          -0.5075942609585534,
          -0.3664490249399235,
          -0.5075942609585534,
          -0.5075942609585534,
          0.2437495332659432,
          0.12458368262155403,
          0.521978957199684,
          0.3219139140713062,
          -0.5075942609585534,
          0.521978957199684,
          -0.3664490249399235,
          0.7214098868450244,
          0.3735257526776393,
          0.584026980876723,
          0.8270504499183431,
          -0.3884284103141643,
          0.4002220369980414,
          -0.8068027254312957,
          0.7214098868450244,
          1.1541569007797914,
          1.1541569007797914,
          1.1025450621734583,
          0.6432455060396614,
          0.03304694783379474,
          1.1541569007797914,
          0.2168518917124764,
          -0.5637792563896756,
          -0.6419436371950387,
          -0.5637792563896756,
          -0.5637792563896756,
          -0.5637792563896756,
          -0.5075942609585534,
          -0.5857586417639165,
          -0.5637792563896756,
          1.1025450621734583,
          -0.3148371863335903,
          -0.5637792563896756,
          -0.33681657170783114,
          -0.33681657170783114,
          -0.5637792563896756,
          -0.2586521909024681,
          -0.8068027254312957,
          -0.7506177300001735,
          -0.7506177300001735,
          -0.3102640295088013,
          1.1541569007797914,
          -0.3664490249399235,
          0.3735257526776393,
          -0.3664490249399235,
          -0.3664490249399235,
          -0.6419436371950387,
          -0.6419436371950387,
          -0.8068027254312957,
          -0.3664490249399235,
          -0.5637792563896756,
          -0.3664490249399235,
          0.12458368262155403,
          0.9052148307237061,
          0.9052148307237061,
          0.46579396176856175,
          0.2168518917124764,
          0.2168518917124764,
          0.9052148307237061,
          1.1541569007797914,
          1.1541569007797914,
          -0.3664490249399235,
          0.12458368262155403,
          -0.5857586417639165,
          -0.5637792563896756,
          -0.2586521909024681,
          -0.3664490249399235,
          -0.5637792563896756,
          0.12458368262155403,
          0.12458368262155403,
          -0.3148371863335903,
          -0.5075942609585534,
          0.08923194326491694,
          0.08923194326491694,
          0.7214098868450244,
          0.2819890178898801,
          0.9052148307237061,
          1.1025450621734583,
          0.3219139140713062,
          0.3735257526776393,
          0.8270504499183431,
          0.9187401182947766,
          0.2168518917124764,
          0.521978957199684,
          -0.39300156713895334,
          -0.2586521909024681,
          1.1541569007797914,
          -0.7506177300001735,
          -0.5857586417639165,
          -0.2586521909024681,
          -0.6419436371950387,
          -0.8287821108055365,
          -0.5075942609585534,
          -0.33681657170783114,
          0.9052148307237061,
          -0.2586521909024681,
          0.2437495332659432,
          -0.5637792563896756,
          -0.5075942609585534,
          0.3219139140713062,
          -0.5075942609585534,
          -0.5075942609585534,
          -0.5075942609585534,
          0.12458368262155403,
          0.12458368262155403,
          0.9052148307237061,
          1.1025450621734583,
          -0.4446134057452865,
          0.12458368262155403,
          -0.8068027254312957,
          -0.5637792563896756,
          -0.3664490249399235,
          -0.3148371863335903,
          -0.8068027254312957,
          -0.3664490249399235,
          -0.6419436371950387,
          -0.5637792563896756,
          -0.5637792563896756,
          -0.8068027254312957,
          0.3219139140713062,
          0.2819890178898801,
          1.1541569007797914,
          0.7214098868450244,
          -0.3664490249399235,
          -0.11843978642006603,
          0.2168518917124764,
          -0.3664490249399235,
          -0.3664490249399235,
          0.3219139140713062,
          0.3735257526776393,
          0.3219139140713062,
          0.3219139140713062,
          0.8405757374894136,
          -0.5075942609585534,
          0.12458368262155403,
          -0.8068027254312957,
          -0.5075942609585534,
          0.3219139140713062,
          0.4141821231622286,
          -0.3664490249399235,
          0.521978957199684,
          0.9187401182947766,
          1.1541569007797914,
          -0.3102640295088013,
          0.12458368262155403,
          -0.3102640295088013,
          -0.5637792563896756,
          0.3735257526776393,
          -0.3102640295088013,
          1.1025450621734583,
          -0.5637792563896756,
          -0.39300156713895334,
          -0.3664490249399235,
          -0.4446134057452865,
          -0.3148371863335903,
          1.1025450621734583,
          1.1025450621734583,
          0.4438145763943209,
          1.1541569007797914,
          0.9052148307237061,
          -0.39300156713895334,
          -0.196604167225429,
          -0.8849671062366588,
          -0.2586521909024681,
          -0.3664490249399235,
          -0.3664490249399235,
          0.3735257526776393,
          0.3735257526776393,
          -0.39300156713895334,
          -0.3664490249399235,
          -0.196604167225429,
          -0.5075942609585534,
          -0.8068027254312957,
          0.3219139140713062,
          -0.3664490249399235,
          0.8921875760957467,
          0.3219139140713062,
          -0.196604167225429,
          -0.3148371863335903,
          0.12458368262155403,
          -0.3664490249399235,
          1.1541569007797914,
          0.662191361682086,
          0.9187401182947766,
          0.3219139140713062,
          1.1541569007797914,
          1.0759925199744285,
          0.13868751090711337,
          -0.7506177300001735,
          0.2819890178898801,
          0.03304694783379474,
          0.03304694783379474,
          0.2819890178898801,
          0.9187401182947766,
          1.0759925199744285,
          1.1541569007797914,
          0.9187401182947766,
          0.19487250633823558,
          0.46579396176856175,
          0.9052148307237061,
          0.19487250633823558,
          -0.39300156713895334,
          -0.2586521909024681,
          0.46579396176856175,
          -0.39300156713895334,
          -0.5075942609585534,
          0.046419301816191,
          -0.39300156713895334,
          -0.39300156713895334,
          -0.5075942609585534,
          0.2953613718722763,
          0.3219139140713062,
          0.12458368262155403,
          0.12458368262155403,
          -0.3664490249399235,
          -0.5637792563896756,
          -0.6419436371950387,
          0.046419301816191,
          1.1025450621734583,
          1.1541569007797914,
          1.1541569007797914,
          0.662191361682086,
          0.8270504499183431
         ],
         "y": [
          0.7015097939172187,
          -0.2200582863722025,
          0.14059524418504693,
          0.14059524418504693,
          -0.2200582863722025,
          0.33835925352821666,
          0.33835925352821666,
          -0.2200582863722025,
          -0.22800032522999963,
          -0.29447077845012026,
          -0.3434098036374544,
          -0.2200582863722025,
          0.24260537921521105,
          0.7015097939172187,
          -0.2200582863722025,
          -0.29447077845012026,
          -0.7864178651304189,
          -0.22800032522999963,
          0.49171868793008433,
          -0.7864178651304189,
          -0.9097693823956707,
          -0.35135184249525153,
          0.49171868793008433,
          -0.9097693823956707,
          0.6869856874415015,
          -0.5577827672021312,
          1.1641734595046322,
          0.12398628996353983,
          -0.9097693823956707,
          0.4678802958632439,
          0.9498004959399555,
          -0.9097693823956707,
          -0.0027254085819667633,
          0.02823241565053425,
          -0.5577827672021312,
          1.0262978357636632,
          -0.5577827672021312,
          1.149649353028915,
          -0.07128070954787727,
          0.4892216780983317,
          -0.0691958618020874,
          1.149649353028915,
          0.005216630275830388,
          0.14309225401679954,
          0.8010229191156302,
          -0.4232673247414167,
          0.605755919604213,
          -0.7864178651304189,
          -0.2200582863722025,
          -0.41782229571537216,
          0.14309225401679954,
          0.06867976193888177,
          0.2639467614502989,
          -0.3434098036374544,
          0.14309225401679954,
          0.24260537921521105,
          0.7015097939172187,
          0.4678802958632439,
          0.6869856874415015,
          0.12856814754108228,
          0.4678802958632439,
          1.0262978357636632,
          0.4678802958632439,
          -0.2200582863722025,
          0.605755919604213,
          -0.3434098036374544,
          1.1641734595046322,
          -0.2200582863722025,
          -0.7864178651304189,
          -0.3434098036374544,
          -0.3434098036374544,
          -0.2200582863722025,
          -0.2200582863722025,
          -0.35135184249525153,
          -0.3434098036374544,
          0.24260537921521105,
          0.33835925352821666,
          0.8010229191156302,
          0.8010229191156302,
          -0.3434098036374544,
          1.1641734595046322,
          -0.9097693823956707,
          -0.2200582863722025,
          -0.3434098036374544,
          0.6776714018503783,
          0.11925386194995914,
          0.8010229191156302,
          -0.7864178651304189,
          -0.35135184249525153,
          -0.9097693823956707,
          0.0006347726982879338,
          -0.9097693823956707,
          -0.9097693823956707,
          0.11925386194995914,
          -0.29447077845012026,
          -0.9097693823956707,
          0.5866499555509535,
          -0.9097693823956707,
          0.005216630275830388,
          -0.29447077845012026,
          -0.7864178651304189,
          0.0006347726982879338,
          -1.1241423459603475,
          -0.07128070954787727,
          0.12856814754108228,
          0.5912318131284958,
          1.0501362278305035,
          0.11925386194995914,
          0.24260537921521105,
          0.6776714018503783,
          -0.2200582863722025,
          0.8010229191156302,
          0.24260537921521105,
          -0.3434098036374544,
          0.24260537921521105,
          -0.9097693823956707,
          -0.2200582863722025,
          -0.22800032522999963,
          -0.2200582863722025,
          0.06867976193888177,
          -0.3434098036374544,
          0.14309225401679954,
          -0.5611429484823859,
          -0.0691958618020874,
          0.6869856874415015,
          0.12856814754108228,
          -0.0691958618020874,
          0.12856814754108228,
          0.14309225401679954,
          -0.2200582863722025,
          0.8010229191156302,
          0.33835925352821666,
          0.8010229191156302,
          -0.2200582863722025,
          -0.29447077845012026,
          0.2639467614502989,
          -0.22800032522999963,
          -0.3434098036374544,
          0.33835925352821666,
          0.21500773626296474,
          0.8010229191156302,
          0.2639467614502989,
          0.33835925352821666,
          0.33835925352821666,
          0.33835925352821666,
          0.8010229191156302,
          0.24260537921521105,
          -0.35135184249525153,
          0.33835925352821666,
          0.6776714018503783,
          0.33835925352821666,
          0.8010229191156302,
          0.2639467614502989,
          -0.9097693823956707,
          0.12856814754108228,
          -0.7864178651304189,
          0.21500773626296474,
          -0.9097693823956707,
          -0.29447077845012026,
          -0.9097693823956707,
          -0.29447077845012026,
          -0.29447077845012026,
          1.0262978357636632,
          -0.29447077845012026,
          0.14059524418504693,
          -0.9097693823956707,
          0.14059524418504693,
          -0.3434098036374544,
          1.149649353028915,
          -0.41782229571537216,
          -1.1241423459603475,
          -0.6321952592800489,
          -0.09511910161471768,
          0.6776714018503783,
          -0.4232673247414167,
          1.149649353028915,
          1.0262978357636632,
          -0.4344312499368793,
          -0.0027254085819667633,
          -0.35135184249525153,
          -0.2200582863722025,
          -0.7864178651304189,
          -0.0027254085819667633,
          -0.2200582863722025,
          0.2639467614502989,
          0.7015097939172187,
          -0.3434098036374544,
          0.7015097939172187,
          0.24260537921521105,
          0.33835925352821666,
          -0.3434098036374544,
          0.2639467614502989,
          1.1641734595046322,
          0.605755919604213,
          -0.41782229571537216,
          0.605755919604213,
          0.005216630275830388,
          1.0501362278305035,
          1.0262978357636632,
          0.5636341701762495,
          0.005216630275830388,
          -0.0027254085819667633,
          0.06867976193888177,
          0.605755919604213,
          0.8010229191156302,
          0.24260537921521105,
          -0.2200582863722025,
          -0.29447077845012026,
          -0.2200582863722025,
          -0.29447077845012026,
          0.11925386194995914,
          -0.7864178651304189,
          -0.41782229571537216,
          0.605755919604213,
          -0.3434098036374544,
          -0.2200582863722025,
          -0.41782229571537216,
          0.605755919604213,
          0.14309225401679954,
          -0.7864178651304189,
          0.14309225401679954,
          0.14309225401679954,
          -0.35135184249525153,
          -0.3434098036374544,
          0.9543823535174979,
          -0.9097693823956707,
          0.14309225401679954,
          0.9543823535174979,
          -0.7864178651304189,
          -0.5577827672021312,
          0.11925386194995914,
          0.4892216780983317,
          0.5636341701762495,
          0.1351502151590024,
          -0.07377771937962987,
          -0.29447077845012026,
          -0.5577827672021312,
          0.4678802958632439,
          0.4678802958632439,
          -0.5611429484823859,
          0.0006347726982879338,
          -0.4344312499368793,
          0.4678802958632439,
          0.12856814754108228,
          -0.2200582863722025,
          0.33835925352821666,
          -0.2200582863722025,
          -0.2200582863722025,
          -0.2200582863722025,
          0.14309225401679954,
          0.7015097939172187,
          -0.2200582863722025,
          -0.5611429484823859,
          0.24260537921521105,
          -0.2200582863722025,
          1.1641734595046322,
          1.1641734595046322,
          -0.2200582863722025,
          0.605755919604213,
          -0.29447077845012026,
          0.06867976193888177,
          0.06867976193888177,
          -0.4232673247414167,
          0.4678802958632439,
          -0.7864178651304189,
          0.11925386194995914,
          -0.7864178651304189,
          -0.7864178651304189,
          0.33835925352821666,
          0.33835925352821666,
          -0.29447077845012026,
          -0.7864178651304189,
          -0.2200582863722025,
          -0.7864178651304189,
          -0.3434098036374544,
          0.005216630275830388,
          0.005216630275830388,
          0.5912318131284958,
          0.12856814754108228,
          0.12856814754108228,
          0.005216630275830388,
          0.4678802958632439,
          0.4678802958632439,
          -0.7864178651304189,
          -0.3434098036374544,
          0.7015097939172187,
          -0.2200582863722025,
          0.605755919604213,
          -0.7864178651304189,
          -0.2200582863722025,
          -0.3434098036374544,
          -0.3434098036374544,
          0.24260537921521105,
          0.14309225401679954,
          -0.07128070954787727,
          -0.07128070954787727,
          -0.5577827672021312,
          0.02823241565053425,
          0.005216630275830388,
          -0.5611429484823859,
          -0.9097693823956707,
          0.11925386194995914,
          0.5636341701762495,
          -1.1241423459603475,
          0.12856814754108228,
          0.9543823535174979,
          0.8010229191156302,
          0.605755919604213,
          0.4678802958632439,
          0.06867976193888177,
          0.7015097939172187,
          0.605755919604213,
          0.33835925352821666,
          0.6270973018393009,
          0.14309225401679954,
          1.1641734595046322,
          0.005216630275830388,
          0.605755919604213,
          -0.35135184249525153,
          -0.2200582863722025,
          0.14309225401679954,
          -0.9097693823956707,
          0.14309225401679954,
          0.14309225401679954,
          0.14309225401679954,
          -0.3434098036374544,
          -0.3434098036374544,
          0.005216630275830388,
          -0.5611429484823859,
          -0.22800032522999963,
          -0.3434098036374544,
          -0.29447077845012026,
          -0.2200582863722025,
          -0.7864178651304189,
          0.24260537921521105,
          -0.29447077845012026,
          -0.7864178651304189,
          0.33835925352821666,
          -0.2200582863722025,
          -0.2200582863722025,
          -0.29447077845012026,
          -0.9097693823956707,
          0.02823241565053425,
          0.4678802958632439,
          -0.5577827672021312,
          -0.7864178651304189,
          -0.41782229571537216,
          0.12856814754108228,
          -0.7864178651304189,
          -0.7864178651304189,
          -0.9097693823956707,
          0.11925386194995914,
          -0.9097693823956707,
          -0.9097693823956707,
          -0.5657248060599284,
          0.14309225401679954,
          -0.3434098036374544,
          -0.29447077845012026,
          0.14309225401679954,
          -0.9097693823956707,
          -0.43779143121713404,
          -0.7864178651304189,
          0.9543823535174979,
          -1.1241423459603475,
          0.4678802958632439,
          -0.4232673247414167,
          -0.3434098036374544,
          -0.4232673247414167,
          -0.2200582863722025,
          0.11925386194995914,
          -0.4232673247414167,
          -0.5611429484823859,
          -0.2200582863722025,
          0.8010229191156302,
          -0.7864178651304189,
          -0.22800032522999963,
          0.24260537921521105,
          -0.5611429484823859,
          -0.5611429484823859,
          1.512799893417917,
          0.4678802958632439,
          0.005216630275830388,
          0.8010229191156302,
          0.14059524418504693,
          0.2639467614502989,
          0.605755919604213,
          -0.7864178651304189,
          -0.7864178651304189,
          0.11925386194995914,
          0.11925386194995914,
          0.8010229191156302,
          -0.7864178651304189,
          0.14059524418504693,
          0.14309225401679954,
          -0.29447077845012026,
          -0.9097693823956707,
          -0.7864178651304189,
          0.46329843828570155,
          -0.9097693823956707,
          0.14059524418504693,
          0.24260537921521105,
          -0.3434098036374544,
          -0.7864178651304189,
          0.4678802958632439,
          -0.0691958618020874,
          -1.1241423459603475,
          -0.9097693823956707,
          0.4678802958632439,
          1.0262978357636632,
          0.6869856874415015,
          0.06867976193888177,
          0.02823241565053425,
          -0.4344312499368793,
          -0.4344312499368793,
          0.02823241565053425,
          -1.1241423459603475,
          1.0262978357636632,
          0.4678802958632439,
          -1.1241423459603475,
          1.0501362278305035,
          0.5912318131284958,
          0.005216630275830388,
          1.0501362278305035,
          0.8010229191156302,
          0.605755919604213,
          0.5912318131284958,
          0.8010229191156302,
          0.14309225401679954,
          0.21500773626296474,
          0.8010229191156302,
          0.8010229191156302,
          0.14309225401679954,
          0.6776714018503783,
          -0.9097693823956707,
          -0.3434098036374544,
          -0.3434098036374544,
          -0.7864178651304189,
          -0.2200582863722025,
          0.33835925352821666,
          0.21500773626296474,
          -0.5611429484823859,
          0.4678802958632439,
          0.4678802958632439,
          -0.0691958618020874,
          0.5636341701762495
         ]
        },
        {
         "marker": {
          "color": [
           "blue",
           "blue",
           "green",
           "green",
           "green",
           "green",
           "orange",
           "orange",
           "orange",
           "red",
           "red",
           "red"
          ],
          "size": 6
         },
         "mode": "markers+text",
         "name": "Nube de categorías plano 1-2",
         "text": [
          "F",
          "M",
          "16-",
          "17",
          "18",
          "19+",
          "al",
          "ba",
          "me",
          "Bo",
          "Cu",
          "Ot"
         ],
         "textfont": {
          "size": 15
         },
         "textposition": "middle right",
         "type": "scatter",
         "x": [
          -0.12921349205173985,
          0.05217453306821066,
          0.392573814392091,
          -0.1851203986432087,
          -0.7490799241082181,
          0.272803538197823,
          -0.5359047285058122,
          0.9311254907436116,
          -0.6662874585628954,
          -0.5090711089869832,
          0.8759219710900211,
          1.302459166599281
         ],
         "y": [
          0.8898643897078352,
          -0.3593143277053716,
          1.0661886451364055,
          0.031211118328702298,
          -0.13524945063908048,
          -1.2357339212451548,
          0.7754927738009828,
          -0.31281117973851674,
          -0.036874127052351484,
          -0.12729253026534598,
          -0.6068443432716941,
          0.6525839787171561
         ]
        }
       ],
       "layout": {
        "height": 800,
        "showlegend": false,
        "template": {
         "data": {
          "bar": [
           {
            "error_x": {
             "color": "#2a3f5f"
            },
            "error_y": {
             "color": "#2a3f5f"
            },
            "marker": {
             "line": {
              "color": "#E5ECF6",
              "width": 0.5
             },
             "pattern": {
              "fillmode": "overlay",
              "size": 10,
              "solidity": 0.2
             }
            },
            "type": "bar"
           }
          ],
          "barpolar": [
           {
            "marker": {
             "line": {
              "color": "#E5ECF6",
              "width": 0.5
             },
             "pattern": {
              "fillmode": "overlay",
              "size": 10,
              "solidity": 0.2
             }
            },
            "type": "barpolar"
           }
          ],
          "carpet": [
           {
            "aaxis": {
             "endlinecolor": "#2a3f5f",
             "gridcolor": "white",
             "linecolor": "white",
             "minorgridcolor": "white",
             "startlinecolor": "#2a3f5f"
            },
            "baxis": {
             "endlinecolor": "#2a3f5f",
             "gridcolor": "white",
             "linecolor": "white",
             "minorgridcolor": "white",
             "startlinecolor": "#2a3f5f"
            },
            "type": "carpet"
           }
          ],
          "choropleth": [
           {
            "colorbar": {
             "outlinewidth": 0,
             "ticks": ""
            },
            "type": "choropleth"
           }
          ],
          "contour": [
           {
            "colorbar": {
             "outlinewidth": 0,
             "ticks": ""
            },
            "colorscale": [
             [
              0,
              "#0d0887"
             ],
             [
              0.1111111111111111,
              "#46039f"
             ],
             [
              0.2222222222222222,
              "#7201a8"
             ],
             [
              0.3333333333333333,
              "#9c179e"
             ],
             [
              0.4444444444444444,
              "#bd3786"
             ],
             [
              0.5555555555555556,
              "#d8576b"
             ],
             [
              0.6666666666666666,
              "#ed7953"
             ],
             [
              0.7777777777777778,
              "#fb9f3a"
             ],
             [
              0.8888888888888888,
              "#fdca26"
             ],
             [
              1,
              "#f0f921"
             ]
            ],
            "type": "contour"
           }
          ],
          "contourcarpet": [
           {
            "colorbar": {
             "outlinewidth": 0,
             "ticks": ""
            },
            "type": "contourcarpet"
           }
          ],
          "heatmap": [
           {
            "colorbar": {
             "outlinewidth": 0,
             "ticks": ""
            },
            "colorscale": [
             [
              0,
              "#0d0887"
             ],
             [
              0.1111111111111111,
              "#46039f"
             ],
             [
              0.2222222222222222,
              "#7201a8"
             ],
             [
              0.3333333333333333,
              "#9c179e"
             ],
             [
              0.4444444444444444,
              "#bd3786"
             ],
             [
              0.5555555555555556,
              "#d8576b"
             ],
             [
              0.6666666666666666,
              "#ed7953"
             ],
             [
              0.7777777777777778,
              "#fb9f3a"
             ],
             [
              0.8888888888888888,
              "#fdca26"
             ],
             [
              1,
              "#f0f921"
             ]
            ],
            "type": "heatmap"
           }
          ],
          "heatmapgl": [
           {
            "colorbar": {
             "outlinewidth": 0,
             "ticks": ""
            },
            "colorscale": [
             [
              0,
              "#0d0887"
             ],
             [
              0.1111111111111111,
              "#46039f"
             ],
             [
              0.2222222222222222,
              "#7201a8"
             ],
             [
              0.3333333333333333,
              "#9c179e"
             ],
             [
              0.4444444444444444,
              "#bd3786"
             ],
             [
              0.5555555555555556,
              "#d8576b"
             ],
             [
              0.6666666666666666,
              "#ed7953"
             ],
             [
              0.7777777777777778,
              "#fb9f3a"
             ],
             [
              0.8888888888888888,
              "#fdca26"
             ],
             [
              1,
              "#f0f921"
             ]
            ],
            "type": "heatmapgl"
           }
          ],
          "histogram": [
           {
            "marker": {
             "pattern": {
              "fillmode": "overlay",
              "size": 10,
              "solidity": 0.2
             }
            },
            "type": "histogram"
           }
          ],
          "histogram2d": [
           {
            "colorbar": {
             "outlinewidth": 0,
             "ticks": ""
            },
            "colorscale": [
             [
              0,
              "#0d0887"
             ],
             [
              0.1111111111111111,
              "#46039f"
             ],
             [
              0.2222222222222222,
              "#7201a8"
             ],
             [
              0.3333333333333333,
              "#9c179e"
             ],
             [
              0.4444444444444444,
              "#bd3786"
             ],
             [
              0.5555555555555556,
              "#d8576b"
             ],
             [
              0.6666666666666666,
              "#ed7953"
             ],
             [
              0.7777777777777778,
              "#fb9f3a"
             ],
             [
              0.8888888888888888,
              "#fdca26"
             ],
             [
              1,
              "#f0f921"
             ]
            ],
            "type": "histogram2d"
           }
          ],
          "histogram2dcontour": [
           {
            "colorbar": {
             "outlinewidth": 0,
             "ticks": ""
            },
            "colorscale": [
             [
              0,
              "#0d0887"
             ],
             [
              0.1111111111111111,
              "#46039f"
             ],
             [
              0.2222222222222222,
              "#7201a8"
             ],
             [
              0.3333333333333333,
              "#9c179e"
             ],
             [
              0.4444444444444444,
              "#bd3786"
             ],
             [
              0.5555555555555556,
              "#d8576b"
             ],
             [
              0.6666666666666666,
              "#ed7953"
             ],
             [
              0.7777777777777778,
              "#fb9f3a"
             ],
             [
              0.8888888888888888,
              "#fdca26"
             ],
             [
              1,
              "#f0f921"
             ]
            ],
            "type": "histogram2dcontour"
           }
          ],
          "mesh3d": [
           {
            "colorbar": {
             "outlinewidth": 0,
             "ticks": ""
            },
            "type": "mesh3d"
           }
          ],
          "parcoords": [
           {
            "line": {
             "colorbar": {
              "outlinewidth": 0,
              "ticks": ""
             }
            },
            "type": "parcoords"
           }
          ],
          "pie": [
           {
            "automargin": true,
            "type": "pie"
           }
          ],
          "scatter": [
           {
            "fillpattern": {
             "fillmode": "overlay",
             "size": 10,
             "solidity": 0.2
            },
            "type": "scatter"
           }
          ],
          "scatter3d": [
           {
            "line": {
             "colorbar": {
              "outlinewidth": 0,
              "ticks": ""
             }
            },
            "marker": {
             "colorbar": {
              "outlinewidth": 0,
              "ticks": ""
             }
            },
            "type": "scatter3d"
           }
          ],
          "scattercarpet": [
           {
            "marker": {
             "colorbar": {
              "outlinewidth": 0,
              "ticks": ""
             }
            },
            "type": "scattercarpet"
           }
          ],
          "scattergeo": [
           {
            "marker": {
             "colorbar": {
              "outlinewidth": 0,
              "ticks": ""
             }
            },
            "type": "scattergeo"
           }
          ],
          "scattergl": [
           {
            "marker": {
             "colorbar": {
              "outlinewidth": 0,
              "ticks": ""
             }
            },
            "type": "scattergl"
           }
          ],
          "scattermapbox": [
           {
            "marker": {
             "colorbar": {
              "outlinewidth": 0,
              "ticks": ""
             }
            },
            "type": "scattermapbox"
           }
          ],
          "scatterpolar": [
           {
            "marker": {
             "colorbar": {
              "outlinewidth": 0,
              "ticks": ""
             }
            },
            "type": "scatterpolar"
           }
          ],
          "scatterpolargl": [
           {
            "marker": {
             "colorbar": {
              "outlinewidth": 0,
              "ticks": ""
             }
            },
            "type": "scatterpolargl"
           }
          ],
          "scatterternary": [
           {
            "marker": {
             "colorbar": {
              "outlinewidth": 0,
              "ticks": ""
             }
            },
            "type": "scatterternary"
           }
          ],
          "surface": [
           {
            "colorbar": {
             "outlinewidth": 0,
             "ticks": ""
            },
            "colorscale": [
             [
              0,
              "#0d0887"
             ],
             [
              0.1111111111111111,
              "#46039f"
             ],
             [
              0.2222222222222222,
              "#7201a8"
             ],
             [
              0.3333333333333333,
              "#9c179e"
             ],
             [
              0.4444444444444444,
              "#bd3786"
             ],
             [
              0.5555555555555556,
              "#d8576b"
             ],
             [
              0.6666666666666666,
              "#ed7953"
             ],
             [
              0.7777777777777778,
              "#fb9f3a"
             ],
             [
              0.8888888888888888,
              "#fdca26"
             ],
             [
              1,
              "#f0f921"
             ]
            ],
            "type": "surface"
           }
          ],
          "table": [
           {
            "cells": {
             "fill": {
              "color": "#EBF0F8"
             },
             "line": {
              "color": "white"
             }
            },
            "header": {
             "fill": {
              "color": "#C8D4E3"
             },
             "line": {
              "color": "white"
             }
            },
            "type": "table"
           }
          ]
         },
         "layout": {
          "annotationdefaults": {
           "arrowcolor": "#2a3f5f",
           "arrowhead": 0,
           "arrowwidth": 1
          },
          "autotypenumbers": "strict",
          "coloraxis": {
           "colorbar": {
            "outlinewidth": 0,
            "ticks": ""
           }
          },
          "colorscale": {
           "diverging": [
            [
             0,
             "#8e0152"
            ],
            [
             0.1,
             "#c51b7d"
            ],
            [
             0.2,
             "#de77ae"
            ],
            [
             0.3,
             "#f1b6da"
            ],
            [
             0.4,
             "#fde0ef"
            ],
            [
             0.5,
             "#f7f7f7"
            ],
            [
             0.6,
             "#e6f5d0"
            ],
            [
             0.7,
             "#b8e186"
            ],
            [
             0.8,
             "#7fbc41"
            ],
            [
             0.9,
             "#4d9221"
            ],
            [
             1,
             "#276419"
            ]
           ],
           "sequential": [
            [
             0,
             "#0d0887"
            ],
            [
             0.1111111111111111,
             "#46039f"
            ],
            [
             0.2222222222222222,
             "#7201a8"
            ],
            [
             0.3333333333333333,
             "#9c179e"
            ],
            [
             0.4444444444444444,
             "#bd3786"
            ],
            [
             0.5555555555555556,
             "#d8576b"
            ],
            [
             0.6666666666666666,
             "#ed7953"
            ],
            [
             0.7777777777777778,
             "#fb9f3a"
            ],
            [
             0.8888888888888888,
             "#fdca26"
            ],
            [
             1,
             "#f0f921"
            ]
           ],
           "sequentialminus": [
            [
             0,
             "#0d0887"
            ],
            [
             0.1111111111111111,
             "#46039f"
            ],
            [
             0.2222222222222222,
             "#7201a8"
            ],
            [
             0.3333333333333333,
             "#9c179e"
            ],
            [
             0.4444444444444444,
             "#bd3786"
            ],
            [
             0.5555555555555556,
             "#d8576b"
            ],
            [
             0.6666666666666666,
             "#ed7953"
            ],
            [
             0.7777777777777778,
             "#fb9f3a"
            ],
            [
             0.8888888888888888,
             "#fdca26"
            ],
            [
             1,
             "#f0f921"
            ]
           ]
          },
          "colorway": [
           "#636efa",
           "#EF553B",
           "#00cc96",
           "#ab63fa",
           "#FFA15A",
           "#19d3f3",
           "#FF6692",
           "#B6E880",
           "#FF97FF",
           "#FECB52"
          ],
          "font": {
           "color": "#2a3f5f"
          },
          "geo": {
           "bgcolor": "white",
           "lakecolor": "white",
           "landcolor": "#E5ECF6",
           "showlakes": true,
           "showland": true,
           "subunitcolor": "white"
          },
          "hoverlabel": {
           "align": "left"
          },
          "hovermode": "closest",
          "mapbox": {
           "style": "light"
          },
          "paper_bgcolor": "white",
          "plot_bgcolor": "#E5ECF6",
          "polar": {
           "angularaxis": {
            "gridcolor": "white",
            "linecolor": "white",
            "ticks": ""
           },
           "bgcolor": "#E5ECF6",
           "radialaxis": {
            "gridcolor": "white",
            "linecolor": "white",
            "ticks": ""
           }
          },
          "scene": {
           "xaxis": {
            "backgroundcolor": "#E5ECF6",
            "gridcolor": "white",
            "gridwidth": 2,
            "linecolor": "white",
            "showbackground": true,
            "ticks": "",
            "zerolinecolor": "white"
           },
           "yaxis": {
            "backgroundcolor": "#E5ECF6",
            "gridcolor": "white",
            "gridwidth": 2,
            "linecolor": "white",
            "showbackground": true,
            "ticks": "",
            "zerolinecolor": "white"
           },
           "zaxis": {
            "backgroundcolor": "#E5ECF6",
            "gridcolor": "white",
            "gridwidth": 2,
            "linecolor": "white",
            "showbackground": true,
            "ticks": "",
            "zerolinecolor": "white"
           }
          },
          "shapedefaults": {
           "line": {
            "color": "#2a3f5f"
           }
          },
          "ternary": {
           "aaxis": {
            "gridcolor": "white",
            "linecolor": "white",
            "ticks": ""
           },
           "baxis": {
            "gridcolor": "white",
            "linecolor": "white",
            "ticks": ""
           },
           "bgcolor": "#E5ECF6",
           "caxis": {
            "gridcolor": "white",
            "linecolor": "white",
            "ticks": ""
           }
          },
          "title": {
           "x": 0.05
          },
          "xaxis": {
           "automargin": true,
           "gridcolor": "white",
           "linecolor": "white",
           "ticks": "",
           "title": {
            "standoff": 15
           },
           "zerolinecolor": "white",
           "zerolinewidth": 2
          },
          "yaxis": {
           "automargin": true,
           "gridcolor": "white",
           "linecolor": "white",
           "ticks": "",
           "title": {
            "standoff": 15
           },
           "zerolinecolor": "white",
           "zerolinewidth": 2
          }
         }
        },
        "title": {
         "font": {
          "size": 25
         },
         "text": "Nubes de individuos y de categorías plano 1-2"
        },
        "width": 800,
        "xaxis": {
         "dtick": 0.25,
         "range": [
          -1,
          1.5
         ],
         "tickfont": {
          "size": 15
         },
         "title": {
          "font": {
           "size": 20
          },
          "text": "Componente 1 (16.8%)"
         }
        },
        "yaxis": {
         "dtick": 0.25,
         "range": [
          -1.3,
          1.55
         ],
         "tickfont": {
          "size": 15
         },
         "title": {
          "font": {
           "size": 20
          },
          "text": "Componente 2 (15.6%)"
         }
        }
       }
      }
     },
     "metadata": {},
     "output_type": "display_data"
    }
   ],
   "source": [
    "# Crear la figura\n",
    "fig = go.Figure()\n",
    "\n",
    "# Agregar la nube de individuos en el plano 1-2\n",
    "fig.add_trace(go.Scatter(x=row_coordinates_Z['Componente 1'], y=row_coordinates_Z['Componente 2'],\n",
    "                         mode='markers+text', text=row_coordinates_Z.index,\n",
    "                         marker=dict(size=3, color=[colors.get(x, 'black') for x in row_coordinates_Z.index]),\n",
    "                         textposition='middle right',\n",
    "                         name='Nube de individuos',\n",
    "                         textfont=dict(size=7)))\n",
    "\n",
    "# Definir los colores para las categorías\n",
    "colors = {'F':'blue','M':'blue','16-':'green','17':'green','18':'green','19+':'green',\n",
    "          'al':'orange','ba':'orange','me':'orange','Bo':'red','Cu':'red','Ot':'red'}\n",
    "\n",
    "# Agregar la nube de categorías en el plano 1-2\n",
    "fig.add_trace(go.Scatter(x=column_coordinates_Z['Componente 1'], y=column_coordinates_Z['Componente 2'],\n",
    "                         mode='markers+text', text=column_coordinates_Z.index,\n",
    "                         marker=dict(size=6, color=[colors.get(x, 'black') for x in column_coordinates_Z.index]),\n",
    "                         textposition='middle right',\n",
    "                         name='Nube de categorías plano 1-2',\n",
    "                         textfont=dict(size=15)))\n",
    "\n",
    "# Actualizar el diseño de la figura\n",
    "fig.update_layout(width=800, height=800,\n",
    "                  title='Nubes de individuos y de categorías plano 1-2',\n",
    "                  xaxis=dict(dtick=0.25, range=[-1,1.5], title='Componente 1 (16.8%)',\n",
    "                             title_font=dict(size=20), tickfont=dict(size=15)),\n",
    "                  yaxis=dict(dtick=0.25, range=[-1.3,1.55], title='Componente 2 (15.6%)',\n",
    "                             title_font=dict(size=20), tickfont=dict(size=15)),\n",
    "                  title_font=dict(size=25),\n",
    "                  showlegend=False)\n",
    "\n",
    "# Mostrar la figura\n",
    "fig.show()"
   ]
  },
  {
   "attachments": {},
   "cell_type": "markdown",
   "metadata": {},
   "source": [
    "### Nubes de individuos y de categorías el plano factorial 2-3"
   ]
  },
  {
   "cell_type": "code",
   "execution_count": 32,
   "metadata": {},
   "outputs": [
    {
     "data": {
      "application/vnd.plotly.v1+json": {
       "config": {
        "plotlyServerURL": "https://plot.ly"
       },
       "data": [
        {
         "marker": {
          "color": [
           "black",
           "black",
           "black",
           "black",
           "black",
           "black",
           "black",
           "black",
           "black",
           "black",
           "black",
           "black",
           "black",
           "black",
           "black",
           "black",
           "black",
           "black",
           "black",
           "black",
           "black",
           "black",
           "black",
           "black",
           "black",
           "black",
           "black",
           "black",
           "black",
           "black",
           "black",
           "black",
           "black",
           "black",
           "black",
           "black",
           "black",
           "black",
           "black",
           "black",
           "black",
           "black",
           "black",
           "black",
           "black",
           "black",
           "black",
           "black",
           "black",
           "black",
           "black",
           "black",
           "black",
           "black",
           "black",
           "black",
           "black",
           "black",
           "black",
           "black",
           "black",
           "black",
           "black",
           "black",
           "black",
           "black",
           "black",
           "black",
           "black",
           "black",
           "black",
           "black",
           "black",
           "black",
           "black",
           "black",
           "black",
           "black",
           "black",
           "black",
           "black",
           "black",
           "black",
           "black",
           "black",
           "black",
           "black",
           "black",
           "black",
           "black",
           "black",
           "black",
           "black",
           "black",
           "black",
           "black",
           "black",
           "black",
           "black",
           "black",
           "black",
           "black",
           "black",
           "black",
           "black",
           "black",
           "black",
           "black",
           "black",
           "black",
           "black",
           "black",
           "black",
           "black",
           "black",
           "black",
           "black",
           "black",
           "black",
           "black",
           "black",
           "black",
           "black",
           "black",
           "black",
           "black",
           "black",
           "black",
           "black",
           "black",
           "black",
           "black",
           "black",
           "black",
           "black",
           "black",
           "black",
           "black",
           "black",
           "black",
           "black",
           "black",
           "black",
           "black",
           "black",
           "black",
           "black",
           "black",
           "black",
           "black",
           "black",
           "black",
           "black",
           "black",
           "black",
           "black",
           "black",
           "black",
           "black",
           "black",
           "black",
           "black",
           "black",
           "black",
           "black",
           "black",
           "black",
           "black",
           "black",
           "black",
           "black",
           "black",
           "black",
           "black",
           "black",
           "black",
           "black",
           "black",
           "black",
           "black",
           "black",
           "black",
           "black",
           "black",
           "black",
           "black",
           "black",
           "black",
           "black",
           "black",
           "black",
           "black",
           "black",
           "black",
           "black",
           "black",
           "black",
           "black",
           "black",
           "black",
           "black",
           "black",
           "black",
           "black",
           "black",
           "black",
           "black",
           "black",
           "black",
           "black",
           "black",
           "black",
           "black",
           "black",
           "black",
           "black",
           "black",
           "black",
           "black",
           "black",
           "black",
           "black",
           "black",
           "black",
           "black",
           "black",
           "black",
           "black",
           "black",
           "black",
           "black",
           "black",
           "black",
           "black",
           "black",
           "black",
           "black",
           "black",
           "black",
           "black",
           "black",
           "black",
           "black",
           "black",
           "black",
           "black",
           "black",
           "black",
           "black",
           "black",
           "black",
           "black",
           "black",
           "black",
           "black",
           "black",
           "black",
           "black",
           "black",
           "black",
           "black",
           "black",
           "black",
           "black",
           "black",
           "black",
           "black",
           "black",
           "black",
           "black",
           "black",
           "black",
           "black",
           "black",
           "black",
           "black",
           "black",
           "black",
           "black",
           "black",
           "black",
           "black",
           "black",
           "black",
           "black",
           "black",
           "black",
           "black",
           "black",
           "black",
           "black",
           "black",
           "black",
           "black",
           "black",
           "black",
           "black",
           "black",
           "black",
           "black",
           "black",
           "black",
           "black",
           "black",
           "black",
           "black",
           "black",
           "black",
           "black",
           "black",
           "black",
           "black",
           "black",
           "black",
           "black",
           "black",
           "black",
           "black",
           "black",
           "black",
           "black",
           "black",
           "black",
           "black",
           "black",
           "black",
           "black",
           "black",
           "black",
           "black",
           "black",
           "black",
           "black",
           "black",
           "black",
           "black",
           "black",
           "black",
           "black",
           "black",
           "black",
           "black",
           "black",
           "black",
           "black",
           "black",
           "black",
           "black",
           "black",
           "black",
           "black",
           "black",
           "black",
           "black",
           "black",
           "black",
           "black",
           "black",
           "black",
           "black",
           "black",
           "black",
           "black",
           "black",
           "black",
           "black",
           "black",
           "black",
           "black",
           "black",
           "black",
           "black",
           "black",
           "black",
           "black",
           "black",
           "black",
           "black",
           "black",
           "black",
           "black",
           "black",
           "black",
           "black",
           "black",
           "black",
           "black",
           "black",
           "black",
           "black",
           "black",
           "black",
           "black",
           "black",
           "black",
           "black",
           "black",
           "black",
           "black",
           "black",
           "black",
           "black",
           "black",
           "black",
           "black",
           "black",
           "black",
           "black",
           "black",
           "black",
           "black",
           "black",
           "black",
           "black",
           "black",
           "black",
           "black",
           "black",
           "black",
           "black",
           "black",
           "black",
           "black",
           "black",
           "black",
           "black",
           "black",
           "black",
           "black",
           "black",
           "black",
           "black",
           "black",
           "black",
           "black",
           "black",
           "black",
           "black",
           "black",
           "black",
           "black",
           "black",
           "black",
           "black",
           "black"
          ],
          "size": 3
         },
         "mode": "markers+text",
         "name": "Nube de individuos",
         "text": [
          0,
          1,
          2,
          3,
          4,
          5,
          6,
          7,
          8,
          9,
          10,
          11,
          12,
          13,
          14,
          15,
          16,
          17,
          18,
          19,
          20,
          21,
          22,
          23,
          24,
          25,
          26,
          27,
          28,
          29,
          30,
          31,
          32,
          33,
          34,
          35,
          36,
          37,
          38,
          39,
          40,
          41,
          42,
          43,
          44,
          45,
          46,
          47,
          48,
          49,
          50,
          51,
          52,
          53,
          54,
          55,
          56,
          57,
          58,
          59,
          60,
          61,
          62,
          63,
          64,
          65,
          66,
          67,
          68,
          69,
          70,
          71,
          72,
          73,
          74,
          75,
          76,
          77,
          78,
          79,
          80,
          81,
          82,
          83,
          84,
          85,
          86,
          87,
          88,
          89,
          90,
          91,
          92,
          93,
          94,
          95,
          96,
          97,
          98,
          99,
          100,
          101,
          102,
          103,
          104,
          105,
          106,
          107,
          108,
          109,
          110,
          111,
          112,
          113,
          114,
          115,
          116,
          117,
          118,
          119,
          120,
          121,
          122,
          123,
          124,
          125,
          126,
          127,
          128,
          129,
          130,
          131,
          132,
          133,
          134,
          135,
          136,
          137,
          138,
          139,
          140,
          141,
          142,
          143,
          144,
          145,
          146,
          147,
          148,
          149,
          150,
          151,
          152,
          153,
          154,
          155,
          156,
          157,
          158,
          159,
          160,
          161,
          162,
          163,
          164,
          165,
          166,
          167,
          168,
          169,
          170,
          171,
          172,
          173,
          174,
          175,
          176,
          177,
          178,
          179,
          180,
          181,
          182,
          183,
          184,
          185,
          186,
          187,
          188,
          189,
          190,
          191,
          192,
          193,
          194,
          195,
          196,
          197,
          198,
          199,
          200,
          201,
          202,
          203,
          204,
          205,
          206,
          207,
          208,
          209,
          210,
          211,
          212,
          213,
          214,
          215,
          216,
          217,
          218,
          219,
          220,
          221,
          222,
          223,
          224,
          225,
          226,
          227,
          228,
          229,
          230,
          231,
          232,
          233,
          234,
          235,
          236,
          237,
          238,
          239,
          240,
          241,
          242,
          243,
          244,
          245,
          246,
          247,
          248,
          249,
          250,
          251,
          252,
          253,
          254,
          255,
          256,
          257,
          258,
          259,
          260,
          261,
          262,
          263,
          264,
          265,
          266,
          267,
          268,
          269,
          270,
          271,
          272,
          273,
          274,
          275,
          276,
          277,
          278,
          279,
          280,
          281,
          282,
          283,
          284,
          285,
          286,
          287,
          288,
          289,
          290,
          291,
          292,
          293,
          294,
          295,
          296,
          297,
          298,
          299,
          300,
          301,
          302,
          303,
          304,
          305,
          306,
          307,
          308,
          309,
          310,
          311,
          312,
          313,
          314,
          315,
          316,
          317,
          318,
          319,
          320,
          321,
          322,
          323,
          324,
          325,
          326,
          327,
          328,
          329,
          330,
          331,
          332,
          333,
          334,
          335,
          336,
          337,
          338,
          339,
          340,
          341,
          342,
          343,
          344,
          345,
          346,
          347,
          348,
          349,
          350,
          351,
          352,
          353,
          354,
          355,
          356,
          357,
          358,
          359,
          360,
          361,
          362,
          363,
          364,
          365,
          366,
          367,
          368,
          369,
          370,
          371,
          372,
          373,
          374,
          375,
          376,
          377,
          378,
          379,
          380,
          381,
          382,
          383,
          384,
          385,
          386,
          387,
          388,
          389,
          390,
          391,
          392,
          393,
          394,
          395,
          396,
          397,
          398,
          399,
          400,
          401,
          402,
          403,
          404,
          405,
          406,
          407,
          408,
          409,
          410,
          411,
          412,
          413,
          414,
          415,
          416,
          417,
          418,
          419,
          420,
          421,
          422,
          423,
          424,
          425,
          426,
          427,
          428,
          429,
          430,
          431,
          432,
          433,
          434,
          435,
          436,
          437,
          438,
          439,
          440,
          441,
          442,
          443,
          444
         ],
         "textfont": {
          "size": 7
         },
         "textposition": "middle right",
         "type": "scatter",
         "x": [
          0.7015097939172187,
          -0.2200582863722025,
          0.14059524418504693,
          0.14059524418504693,
          -0.2200582863722025,
          0.33835925352821666,
          0.33835925352821666,
          -0.2200582863722025,
          -0.22800032522999963,
          -0.29447077845012026,
          -0.3434098036374544,
          -0.2200582863722025,
          0.24260537921521105,
          0.7015097939172187,
          -0.2200582863722025,
          -0.29447077845012026,
          -0.7864178651304189,
          -0.22800032522999963,
          0.49171868793008433,
          -0.7864178651304189,
          -0.9097693823956707,
          -0.35135184249525153,
          0.49171868793008433,
          -0.9097693823956707,
          0.6869856874415015,
          -0.5577827672021312,
          1.1641734595046322,
          0.12398628996353983,
          -0.9097693823956707,
          0.4678802958632439,
          0.9498004959399555,
          -0.9097693823956707,
          -0.0027254085819667633,
          0.02823241565053425,
          -0.5577827672021312,
          1.0262978357636632,
          -0.5577827672021312,
          1.149649353028915,
          -0.07128070954787727,
          0.4892216780983317,
          -0.0691958618020874,
          1.149649353028915,
          0.005216630275830388,
          0.14309225401679954,
          0.8010229191156302,
          -0.4232673247414167,
          0.605755919604213,
          -0.7864178651304189,
          -0.2200582863722025,
          -0.41782229571537216,
          0.14309225401679954,
          0.06867976193888177,
          0.2639467614502989,
          -0.3434098036374544,
          0.14309225401679954,
          0.24260537921521105,
          0.7015097939172187,
          0.4678802958632439,
          0.6869856874415015,
          0.12856814754108228,
          0.4678802958632439,
          1.0262978357636632,
          0.4678802958632439,
          -0.2200582863722025,
          0.605755919604213,
          -0.3434098036374544,
          1.1641734595046322,
          -0.2200582863722025,
          -0.7864178651304189,
          -0.3434098036374544,
          -0.3434098036374544,
          -0.2200582863722025,
          -0.2200582863722025,
          -0.35135184249525153,
          -0.3434098036374544,
          0.24260537921521105,
          0.33835925352821666,
          0.8010229191156302,
          0.8010229191156302,
          -0.3434098036374544,
          1.1641734595046322,
          -0.9097693823956707,
          -0.2200582863722025,
          -0.3434098036374544,
          0.6776714018503783,
          0.11925386194995914,
          0.8010229191156302,
          -0.7864178651304189,
          -0.35135184249525153,
          -0.9097693823956707,
          0.0006347726982879338,
          -0.9097693823956707,
          -0.9097693823956707,
          0.11925386194995914,
          -0.29447077845012026,
          -0.9097693823956707,
          0.5866499555509535,
          -0.9097693823956707,
          0.005216630275830388,
          -0.29447077845012026,
          -0.7864178651304189,
          0.0006347726982879338,
          -1.1241423459603475,
          -0.07128070954787727,
          0.12856814754108228,
          0.5912318131284958,
          1.0501362278305035,
          0.11925386194995914,
          0.24260537921521105,
          0.6776714018503783,
          -0.2200582863722025,
          0.8010229191156302,
          0.24260537921521105,
          -0.3434098036374544,
          0.24260537921521105,
          -0.9097693823956707,
          -0.2200582863722025,
          -0.22800032522999963,
          -0.2200582863722025,
          0.06867976193888177,
          -0.3434098036374544,
          0.14309225401679954,
          -0.5611429484823859,
          -0.0691958618020874,
          0.6869856874415015,
          0.12856814754108228,
          -0.0691958618020874,
          0.12856814754108228,
          0.14309225401679954,
          -0.2200582863722025,
          0.8010229191156302,
          0.33835925352821666,
          0.8010229191156302,
          -0.2200582863722025,
          -0.29447077845012026,
          0.2639467614502989,
          -0.22800032522999963,
          -0.3434098036374544,
          0.33835925352821666,
          0.21500773626296474,
          0.8010229191156302,
          0.2639467614502989,
          0.33835925352821666,
          0.33835925352821666,
          0.33835925352821666,
          0.8010229191156302,
          0.24260537921521105,
          -0.35135184249525153,
          0.33835925352821666,
          0.6776714018503783,
          0.33835925352821666,
          0.8010229191156302,
          0.2639467614502989,
          -0.9097693823956707,
          0.12856814754108228,
          -0.7864178651304189,
          0.21500773626296474,
          -0.9097693823956707,
          -0.29447077845012026,
          -0.9097693823956707,
          -0.29447077845012026,
          -0.29447077845012026,
          1.0262978357636632,
          -0.29447077845012026,
          0.14059524418504693,
          -0.9097693823956707,
          0.14059524418504693,
          -0.3434098036374544,
          1.149649353028915,
          -0.41782229571537216,
          -1.1241423459603475,
          -0.6321952592800489,
          -0.09511910161471768,
          0.6776714018503783,
          -0.4232673247414167,
          1.149649353028915,
          1.0262978357636632,
          -0.4344312499368793,
          -0.0027254085819667633,
          -0.35135184249525153,
          -0.2200582863722025,
          -0.7864178651304189,
          -0.0027254085819667633,
          -0.2200582863722025,
          0.2639467614502989,
          0.7015097939172187,
          -0.3434098036374544,
          0.7015097939172187,
          0.24260537921521105,
          0.33835925352821666,
          -0.3434098036374544,
          0.2639467614502989,
          1.1641734595046322,
          0.605755919604213,
          -0.41782229571537216,
          0.605755919604213,
          0.005216630275830388,
          1.0501362278305035,
          1.0262978357636632,
          0.5636341701762495,
          0.005216630275830388,
          -0.0027254085819667633,
          0.06867976193888177,
          0.605755919604213,
          0.8010229191156302,
          0.24260537921521105,
          -0.2200582863722025,
          -0.29447077845012026,
          -0.2200582863722025,
          -0.29447077845012026,
          0.11925386194995914,
          -0.7864178651304189,
          -0.41782229571537216,
          0.605755919604213,
          -0.3434098036374544,
          -0.2200582863722025,
          -0.41782229571537216,
          0.605755919604213,
          0.14309225401679954,
          -0.7864178651304189,
          0.14309225401679954,
          0.14309225401679954,
          -0.35135184249525153,
          -0.3434098036374544,
          0.9543823535174979,
          -0.9097693823956707,
          0.14309225401679954,
          0.9543823535174979,
          -0.7864178651304189,
          -0.5577827672021312,
          0.11925386194995914,
          0.4892216780983317,
          0.5636341701762495,
          0.1351502151590024,
          -0.07377771937962987,
          -0.29447077845012026,
          -0.5577827672021312,
          0.4678802958632439,
          0.4678802958632439,
          -0.5611429484823859,
          0.0006347726982879338,
          -0.4344312499368793,
          0.4678802958632439,
          0.12856814754108228,
          -0.2200582863722025,
          0.33835925352821666,
          -0.2200582863722025,
          -0.2200582863722025,
          -0.2200582863722025,
          0.14309225401679954,
          0.7015097939172187,
          -0.2200582863722025,
          -0.5611429484823859,
          0.24260537921521105,
          -0.2200582863722025,
          1.1641734595046322,
          1.1641734595046322,
          -0.2200582863722025,
          0.605755919604213,
          -0.29447077845012026,
          0.06867976193888177,
          0.06867976193888177,
          -0.4232673247414167,
          0.4678802958632439,
          -0.7864178651304189,
          0.11925386194995914,
          -0.7864178651304189,
          -0.7864178651304189,
          0.33835925352821666,
          0.33835925352821666,
          -0.29447077845012026,
          -0.7864178651304189,
          -0.2200582863722025,
          -0.7864178651304189,
          -0.3434098036374544,
          0.005216630275830388,
          0.005216630275830388,
          0.5912318131284958,
          0.12856814754108228,
          0.12856814754108228,
          0.005216630275830388,
          0.4678802958632439,
          0.4678802958632439,
          -0.7864178651304189,
          -0.3434098036374544,
          0.7015097939172187,
          -0.2200582863722025,
          0.605755919604213,
          -0.7864178651304189,
          -0.2200582863722025,
          -0.3434098036374544,
          -0.3434098036374544,
          0.24260537921521105,
          0.14309225401679954,
          -0.07128070954787727,
          -0.07128070954787727,
          -0.5577827672021312,
          0.02823241565053425,
          0.005216630275830388,
          -0.5611429484823859,
          -0.9097693823956707,
          0.11925386194995914,
          0.5636341701762495,
          -1.1241423459603475,
          0.12856814754108228,
          0.9543823535174979,
          0.8010229191156302,
          0.605755919604213,
          0.4678802958632439,
          0.06867976193888177,
          0.7015097939172187,
          0.605755919604213,
          0.33835925352821666,
          0.6270973018393009,
          0.14309225401679954,
          1.1641734595046322,
          0.005216630275830388,
          0.605755919604213,
          -0.35135184249525153,
          -0.2200582863722025,
          0.14309225401679954,
          -0.9097693823956707,
          0.14309225401679954,
          0.14309225401679954,
          0.14309225401679954,
          -0.3434098036374544,
          -0.3434098036374544,
          0.005216630275830388,
          -0.5611429484823859,
          -0.22800032522999963,
          -0.3434098036374544,
          -0.29447077845012026,
          -0.2200582863722025,
          -0.7864178651304189,
          0.24260537921521105,
          -0.29447077845012026,
          -0.7864178651304189,
          0.33835925352821666,
          -0.2200582863722025,
          -0.2200582863722025,
          -0.29447077845012026,
          -0.9097693823956707,
          0.02823241565053425,
          0.4678802958632439,
          -0.5577827672021312,
          -0.7864178651304189,
          -0.41782229571537216,
          0.12856814754108228,
          -0.7864178651304189,
          -0.7864178651304189,
          -0.9097693823956707,
          0.11925386194995914,
          -0.9097693823956707,
          -0.9097693823956707,
          -0.5657248060599284,
          0.14309225401679954,
          -0.3434098036374544,
          -0.29447077845012026,
          0.14309225401679954,
          -0.9097693823956707,
          -0.43779143121713404,
          -0.7864178651304189,
          0.9543823535174979,
          -1.1241423459603475,
          0.4678802958632439,
          -0.4232673247414167,
          -0.3434098036374544,
          -0.4232673247414167,
          -0.2200582863722025,
          0.11925386194995914,
          -0.4232673247414167,
          -0.5611429484823859,
          -0.2200582863722025,
          0.8010229191156302,
          -0.7864178651304189,
          -0.22800032522999963,
          0.24260537921521105,
          -0.5611429484823859,
          -0.5611429484823859,
          1.512799893417917,
          0.4678802958632439,
          0.005216630275830388,
          0.8010229191156302,
          0.14059524418504693,
          0.2639467614502989,
          0.605755919604213,
          -0.7864178651304189,
          -0.7864178651304189,
          0.11925386194995914,
          0.11925386194995914,
          0.8010229191156302,
          -0.7864178651304189,
          0.14059524418504693,
          0.14309225401679954,
          -0.29447077845012026,
          -0.9097693823956707,
          -0.7864178651304189,
          0.46329843828570155,
          -0.9097693823956707,
          0.14059524418504693,
          0.24260537921521105,
          -0.3434098036374544,
          -0.7864178651304189,
          0.4678802958632439,
          -0.0691958618020874,
          -1.1241423459603475,
          -0.9097693823956707,
          0.4678802958632439,
          1.0262978357636632,
          0.6869856874415015,
          0.06867976193888177,
          0.02823241565053425,
          -0.4344312499368793,
          -0.4344312499368793,
          0.02823241565053425,
          -1.1241423459603475,
          1.0262978357636632,
          0.4678802958632439,
          -1.1241423459603475,
          1.0501362278305035,
          0.5912318131284958,
          0.005216630275830388,
          1.0501362278305035,
          0.8010229191156302,
          0.605755919604213,
          0.5912318131284958,
          0.8010229191156302,
          0.14309225401679954,
          0.21500773626296474,
          0.8010229191156302,
          0.8010229191156302,
          0.14309225401679954,
          0.6776714018503783,
          -0.9097693823956707,
          -0.3434098036374544,
          -0.3434098036374544,
          -0.7864178651304189,
          -0.2200582863722025,
          0.33835925352821666,
          0.21500773626296474,
          -0.5611429484823859,
          0.4678802958632439,
          0.4678802958632439,
          -0.0691958618020874,
          0.5636341701762495
         ],
         "y": [
          0.6495142358372747,
          0.31510535905321163,
          -0.9074078450141256,
          -0.9074078450141256,
          0.31510535905321163,
          -0.022756841686214824,
          -0.022756841686214824,
          0.31510535905321163,
          -0.6894562146856447,
          -0.6317813078488056,
          0.37734102262731795,
          0.31510535905321163,
          -0.23756789569949882,
          0.6495142358372747,
          0.31510535905321163,
          -0.6317813078488056,
          -0.35159401394621825,
          -0.6894562146856447,
          0.9317231078399837,
          -0.35159401394621825,
          -0.289358350372112,
          -0.6272205511115384,
          0.9317231078399837,
          -0.289358350372112,
          -0.07841017042293227,
          1.105869710069434,
          0.09684098108456432,
          0.7057718457559011,
          -0.289358350372112,
          -0.23098556086210997,
          0.8253696685266803,
          -0.289358350372112,
          -0.6828738798482559,
          0.4909607917426171,
          1.105869710069434,
          -0.5688477616015364,
          1.105869710069434,
          -0.6310834251756428,
          1.715905124018817,
          -0.9630611737508431,
          -0.6251989730114167,
          -0.6310834251756428,
          0.3216876938906005,
          0.9873764365767012,
          -0.5754300964389253,
          0.32067706357727127,
          0.43470318182399076,
          -0.35159401394621825,
          0.31510535905321163,
          -0.5695456442746992,
          0.9873764365767012,
          0.04048976967468401,
          -0.969643508588232,
          0.37734102262731795,
          0.9873764365767012,
          -0.23756789569949882,
          0.6495142358372747,
          -0.23098556086210997,
          -0.07841017042293227,
          0.25945203031649416,
          -0.23098556086210997,
          -0.5688477616015364,
          -0.23098556086210997,
          0.31510535905321163,
          0.43470318182399076,
          0.37734102262731795,
          0.09684098108456432,
          0.31510535905321163,
          -0.35159401394621825,
          0.37734102262731795,
          0.37734102262731795,
          0.31510535905321163,
          0.31510535905321163,
          -0.6272205511115384,
          0.37734102262731795,
          -0.23756789569949882,
          -0.022756841686214824,
          -0.5754300964389253,
          -0.5754300964389253,
          0.37734102262731795,
          0.09684098108456432,
          -0.289358350372112,
          0.31510535905321163,
          0.37734102262731795,
          -0.5131944328648189,
          -0.1753322321253925,
          -0.5754300964389253,
          -0.35159401394621825,
          -0.6272205511115384,
          -0.289358350372112,
          0.7680075093300074,
          -0.289358350372112,
          -0.289358350372112,
          -0.1753322321253925,
          -0.6317813078488056,
          -0.289358350372112,
          0.15309859100319062,
          -0.289358350372112,
          0.3216876938906005,
          -0.6317813078488056,
          -0.35159401394621825,
          0.7680075093300074,
          0.4391703370700039,
          1.715905124018817,
          0.25945203031649416,
          -0.2932212244362163,
          0.5938609071005573,
          -0.1753322321253925,
          -0.23756789569949882,
          -0.5131944328648189,
          0.31510535905321163,
          -0.5754300964389253,
          -0.23756789569949882,
          0.37734102262731795,
          -0.23756789569949882,
          -0.289358350372112,
          0.31510535905321163,
          -0.6894562146856447,
          0.31510535905321163,
          0.04048976967468401,
          0.37734102262731795,
          0.9873764365767012,
          -0.3450116791088294,
          -0.6251989730114167,
          -0.07841017042293227,
          0.25945203031649416,
          -0.6251989730114167,
          0.25945203031649416,
          0.9873764365767012,
          0.31510535905321163,
          -0.5754300964389253,
          -0.022756841686214824,
          -0.5754300964389253,
          0.31510535905321163,
          -0.6317813078488056,
          -0.969643508588232,
          -0.6894562146856447,
          0.37734102262731795,
          -0.022756841686214824,
          0.039478821887891494,
          -0.5754300964389253,
          -0.969643508588232,
          -0.022756841686214824,
          -0.022756841686214824,
          -0.022756841686214824,
          -0.5754300964389253,
          -0.23756789569949882,
          -0.6272205511115384,
          -0.022756841686214824,
          -0.5131944328648189,
          -0.022756841686214824,
          -0.5754300964389253,
          -0.969643508588232,
          -0.289358350372112,
          0.25945203031649416,
          -0.35159401394621825,
          0.039478821887891494,
          -0.289358350372112,
          -0.6317813078488056,
          -0.289358350372112,
          -0.6317813078488056,
          -0.6317813078488056,
          -0.5688477616015364,
          -0.6317813078488056,
          -0.9074078450141256,
          -0.289358350372112,
          -0.9074078450141256,
          0.37734102262731795,
          -0.6310834251756428,
          -0.5695456442746992,
          0.4391703370700039,
          0.15898304316741668,
          0.5531964553167233,
          -0.5131944328648189,
          0.32067706357727127,
          -0.6310834251756428,
          -0.5688477616015364,
          1.0436340464953275,
          -0.6828738798482559,
          -0.6272205511115384,
          0.31510535905321163,
          -0.35159401394621825,
          -0.6828738798482559,
          0.31510535905321163,
          -0.969643508588232,
          0.6495142358372747,
          0.37734102262731795,
          0.6495142358372747,
          -0.23756789569949882,
          -0.022756841686214824,
          0.37734102262731795,
          -0.969643508588232,
          0.09684098108456432,
          0.43470318182399076,
          -0.5695456442746992,
          0.43470318182399076,
          0.3216876938906005,
          0.5938609071005573,
          -0.5688477616015364,
          -0.016174506848825966,
          0.3216876938906005,
          -0.6828738798482559,
          0.04048976967468401,
          0.43470318182399076,
          -0.5754300964389253,
          -0.23756789569949882,
          0.31510535905321163,
          -0.6317813078488056,
          0.31510535905321163,
          -0.6317813078488056,
          -0.1753322321253925,
          -0.35159401394621825,
          -0.5695456442746992,
          0.43470318182399076,
          0.37734102262731795,
          0.31510535905321163,
          -0.5695456442746992,
          0.43470318182399076,
          0.9873764365767012,
          -0.35159401394621825,
          0.9873764365767012,
          0.9873764365767012,
          -0.6272205511115384,
          0.37734102262731795,
          0.3790498530872733,
          -0.289358350372112,
          0.9873764365767012,
          0.3790498530872733,
          -0.35159401394621825,
          1.105869710069434,
          -0.1753322321253925,
          -0.9630611737508431,
          -0.016174506848825966,
          -0.017185137162155122,
          -0.17887915757200973,
          -0.6317813078488056,
          1.105869710069434,
          -0.23098556086210997,
          -0.23098556086210997,
          -0.3450116791088294,
          0.7680075093300074,
          1.0436340464953275,
          -0.23098556086210997,
          0.25945203031649416,
          0.31510535905321163,
          -0.022756841686214824,
          0.31510535905321163,
          0.31510535905321163,
          0.31510535905321163,
          0.9873764365767012,
          0.6495142358372747,
          0.31510535905321163,
          -0.3450116791088294,
          -0.23756789569949882,
          0.31510535905321163,
          0.09684098108456432,
          0.09684098108456432,
          0.31510535905321163,
          0.43470318182399076,
          -0.6317813078488056,
          0.04048976967468401,
          0.04048976967468401,
          0.32067706357727127,
          -0.23098556086210997,
          -0.35159401394621825,
          -0.1753322321253925,
          -0.35159401394621825,
          -0.35159401394621825,
          -0.022756841686214824,
          -0.022756841686214824,
          -0.6317813078488056,
          -0.35159401394621825,
          0.31510535905321163,
          -0.35159401394621825,
          0.37734102262731795,
          0.3216876938906005,
          0.3216876938906005,
          -0.2932212244362163,
          0.25945203031649416,
          0.25945203031649416,
          0.3216876938906005,
          -0.23098556086210997,
          -0.23098556086210997,
          -0.35159401394621825,
          0.37734102262731795,
          0.6495142358372747,
          0.31510535905321163,
          0.43470318182399076,
          -0.35159401394621825,
          0.31510535905321163,
          0.37734102262731795,
          0.37734102262731795,
          -0.23756789569949882,
          0.9873764365767012,
          1.715905124018817,
          1.715905124018817,
          1.105869710069434,
          0.4909607917426171,
          0.3216876938906005,
          -0.3450116791088294,
          -0.289358350372112,
          -0.1753322321253925,
          -0.016174506848825966,
          0.4391703370700039,
          0.25945203031649416,
          0.3790498530872733,
          -0.5754300964389253,
          0.43470318182399076,
          -0.23098556086210997,
          0.04048976967468401,
          0.6495142358372747,
          0.43470318182399076,
          -0.022756841686214824,
          -0.2973724310647424,
          0.9873764365767012,
          0.09684098108456432,
          0.3216876938906005,
          0.43470318182399076,
          -0.6272205511115384,
          0.31510535905321163,
          0.9873764365767012,
          -0.289358350372112,
          0.9873764365767012,
          0.9873764365767012,
          0.9873764365767012,
          0.37734102262731795,
          0.37734102262731795,
          0.3216876938906005,
          -0.3450116791088294,
          -0.6894562146856447,
          0.37734102262731795,
          -0.6317813078488056,
          0.31510535905321163,
          -0.35159401394621825,
          -0.23756789569949882,
          -0.6317813078488056,
          -0.35159401394621825,
          -0.022756841686214824,
          0.31510535905321163,
          0.31510535905321163,
          -0.6317813078488056,
          -0.289358350372112,
          0.4909607917426171,
          -0.23098556086210997,
          1.105869710069434,
          -0.35159401394621825,
          -0.5695456442746992,
          0.25945203031649416,
          -0.35159401394621825,
          -0.35159401394621825,
          -0.289358350372112,
          -0.1753322321253925,
          -0.289358350372112,
          -0.289358350372112,
          0.1013081363305775,
          0.9873764365767012,
          0.37734102262731795,
          -0.6317813078488056,
          0.9873764365767012,
          -0.289358350372112,
          -0.4072473426829357,
          -0.35159401394621825,
          0.3790498530872733,
          0.4391703370700039,
          -0.23098556086210997,
          0.32067706357727127,
          0.37734102262731795,
          0.32067706357727127,
          0.31510535905321163,
          -0.1753322321253925,
          0.32067706357727127,
          -0.3450116791088294,
          0.31510535905321163,
          -0.5754300964389253,
          -0.35159401394621825,
          -0.6894562146856447,
          -0.23756789569949882,
          -0.3450116791088294,
          -0.3450116791088294,
          0.04118765234784686,
          -0.23098556086210997,
          0.3216876938906005,
          -0.5754300964389253,
          -0.9074078450141256,
          -0.969643508588232,
          0.43470318182399076,
          -0.35159401394621825,
          -0.35159401394621825,
          -0.1753322321253925,
          -0.1753322321253925,
          -0.5754300964389253,
          -0.35159401394621825,
          -0.9074078450141256,
          0.9873764365767012,
          -0.6317813078488056,
          -0.289358350372112,
          -0.35159401394621825,
          0.215334254577297,
          -0.289358350372112,
          -0.9074078450141256,
          -0.23756789569949882,
          0.37734102262731795,
          -0.35159401394621825,
          -0.23098556086210997,
          -0.6251989730114167,
          0.4391703370700039,
          -0.289358350372112,
          -0.23098556086210997,
          -0.5688477616015364,
          -0.07841017042293227,
          0.04048976967468401,
          0.4909607917426171,
          1.0436340464953275,
          1.0436340464953275,
          0.4909607917426171,
          0.4391703370700039,
          -0.5688477616015364,
          -0.23098556086210997,
          0.4391703370700039,
          0.5938609071005573,
          -0.2932212244362163,
          0.3216876938906005,
          0.5938609071005573,
          -0.5754300964389253,
          0.43470318182399076,
          -0.2932212244362163,
          -0.5754300964389253,
          0.9873764365767012,
          0.039478821887891494,
          -0.5754300964389253,
          -0.5754300964389253,
          0.9873764365767012,
          -0.5131944328648189,
          -0.289358350372112,
          0.37734102262731795,
          0.37734102262731795,
          -0.35159401394621825,
          0.31510535905321163,
          -0.022756841686214824,
          0.039478821887891494,
          -0.3450116791088294,
          -0.23098556086210997,
          -0.23098556086210997,
          -0.6251989730114167,
          -0.016174506848825966
         ]
        },
        {
         "marker": {
          "color": [
           "blue",
           "blue",
           "green",
           "green",
           "green",
           "green",
           "orange",
           "orange",
           "orange",
           "red",
           "red",
           "red"
          ],
          "size": 6
         },
         "mode": "markers+text",
         "name": "Nube de categorías plano 2-3",
         "text": [
          "F",
          "M",
          "16-",
          "17",
          "18",
          "19+",
          "al",
          "ba",
          "me",
          "Bo",
          "Cu",
          "Ot"
         ],
         "textfont": {
          "size": 15
         },
         "textposition": "middle right",
         "type": "scatter",
         "x": [
          0.8898643897078352,
          -0.3593143277053716,
          1.0661886451364055,
          0.031211118328702298,
          -0.13524945063908048,
          -1.2357339212451548,
          0.7754927738009828,
          -0.31281117973851674,
          -0.036874127052351484,
          -0.12729253026534598,
          -0.6068443432716941,
          0.6525839787171561
         ],
         "y": [
          -0.5118603319083674,
          0.2066817743983312,
          -0.2916659652160322,
          0.8837215261940082,
          -1.130051954770917,
          -0.5341688761651239,
          1.116254278483985,
          -0.18112711044187585,
          -0.31348564209787627,
          -0.10677323894382743,
          1.4426114996681123,
          -0.22513291329018728
         ]
        }
       ],
       "layout": {
        "height": 800,
        "showlegend": false,
        "template": {
         "data": {
          "bar": [
           {
            "error_x": {
             "color": "#2a3f5f"
            },
            "error_y": {
             "color": "#2a3f5f"
            },
            "marker": {
             "line": {
              "color": "#E5ECF6",
              "width": 0.5
             },
             "pattern": {
              "fillmode": "overlay",
              "size": 10,
              "solidity": 0.2
             }
            },
            "type": "bar"
           }
          ],
          "barpolar": [
           {
            "marker": {
             "line": {
              "color": "#E5ECF6",
              "width": 0.5
             },
             "pattern": {
              "fillmode": "overlay",
              "size": 10,
              "solidity": 0.2
             }
            },
            "type": "barpolar"
           }
          ],
          "carpet": [
           {
            "aaxis": {
             "endlinecolor": "#2a3f5f",
             "gridcolor": "white",
             "linecolor": "white",
             "minorgridcolor": "white",
             "startlinecolor": "#2a3f5f"
            },
            "baxis": {
             "endlinecolor": "#2a3f5f",
             "gridcolor": "white",
             "linecolor": "white",
             "minorgridcolor": "white",
             "startlinecolor": "#2a3f5f"
            },
            "type": "carpet"
           }
          ],
          "choropleth": [
           {
            "colorbar": {
             "outlinewidth": 0,
             "ticks": ""
            },
            "type": "choropleth"
           }
          ],
          "contour": [
           {
            "colorbar": {
             "outlinewidth": 0,
             "ticks": ""
            },
            "colorscale": [
             [
              0,
              "#0d0887"
             ],
             [
              0.1111111111111111,
              "#46039f"
             ],
             [
              0.2222222222222222,
              "#7201a8"
             ],
             [
              0.3333333333333333,
              "#9c179e"
             ],
             [
              0.4444444444444444,
              "#bd3786"
             ],
             [
              0.5555555555555556,
              "#d8576b"
             ],
             [
              0.6666666666666666,
              "#ed7953"
             ],
             [
              0.7777777777777778,
              "#fb9f3a"
             ],
             [
              0.8888888888888888,
              "#fdca26"
             ],
             [
              1,
              "#f0f921"
             ]
            ],
            "type": "contour"
           }
          ],
          "contourcarpet": [
           {
            "colorbar": {
             "outlinewidth": 0,
             "ticks": ""
            },
            "type": "contourcarpet"
           }
          ],
          "heatmap": [
           {
            "colorbar": {
             "outlinewidth": 0,
             "ticks": ""
            },
            "colorscale": [
             [
              0,
              "#0d0887"
             ],
             [
              0.1111111111111111,
              "#46039f"
             ],
             [
              0.2222222222222222,
              "#7201a8"
             ],
             [
              0.3333333333333333,
              "#9c179e"
             ],
             [
              0.4444444444444444,
              "#bd3786"
             ],
             [
              0.5555555555555556,
              "#d8576b"
             ],
             [
              0.6666666666666666,
              "#ed7953"
             ],
             [
              0.7777777777777778,
              "#fb9f3a"
             ],
             [
              0.8888888888888888,
              "#fdca26"
             ],
             [
              1,
              "#f0f921"
             ]
            ],
            "type": "heatmap"
           }
          ],
          "heatmapgl": [
           {
            "colorbar": {
             "outlinewidth": 0,
             "ticks": ""
            },
            "colorscale": [
             [
              0,
              "#0d0887"
             ],
             [
              0.1111111111111111,
              "#46039f"
             ],
             [
              0.2222222222222222,
              "#7201a8"
             ],
             [
              0.3333333333333333,
              "#9c179e"
             ],
             [
              0.4444444444444444,
              "#bd3786"
             ],
             [
              0.5555555555555556,
              "#d8576b"
             ],
             [
              0.6666666666666666,
              "#ed7953"
             ],
             [
              0.7777777777777778,
              "#fb9f3a"
             ],
             [
              0.8888888888888888,
              "#fdca26"
             ],
             [
              1,
              "#f0f921"
             ]
            ],
            "type": "heatmapgl"
           }
          ],
          "histogram": [
           {
            "marker": {
             "pattern": {
              "fillmode": "overlay",
              "size": 10,
              "solidity": 0.2
             }
            },
            "type": "histogram"
           }
          ],
          "histogram2d": [
           {
            "colorbar": {
             "outlinewidth": 0,
             "ticks": ""
            },
            "colorscale": [
             [
              0,
              "#0d0887"
             ],
             [
              0.1111111111111111,
              "#46039f"
             ],
             [
              0.2222222222222222,
              "#7201a8"
             ],
             [
              0.3333333333333333,
              "#9c179e"
             ],
             [
              0.4444444444444444,
              "#bd3786"
             ],
             [
              0.5555555555555556,
              "#d8576b"
             ],
             [
              0.6666666666666666,
              "#ed7953"
             ],
             [
              0.7777777777777778,
              "#fb9f3a"
             ],
             [
              0.8888888888888888,
              "#fdca26"
             ],
             [
              1,
              "#f0f921"
             ]
            ],
            "type": "histogram2d"
           }
          ],
          "histogram2dcontour": [
           {
            "colorbar": {
             "outlinewidth": 0,
             "ticks": ""
            },
            "colorscale": [
             [
              0,
              "#0d0887"
             ],
             [
              0.1111111111111111,
              "#46039f"
             ],
             [
              0.2222222222222222,
              "#7201a8"
             ],
             [
              0.3333333333333333,
              "#9c179e"
             ],
             [
              0.4444444444444444,
              "#bd3786"
             ],
             [
              0.5555555555555556,
              "#d8576b"
             ],
             [
              0.6666666666666666,
              "#ed7953"
             ],
             [
              0.7777777777777778,
              "#fb9f3a"
             ],
             [
              0.8888888888888888,
              "#fdca26"
             ],
             [
              1,
              "#f0f921"
             ]
            ],
            "type": "histogram2dcontour"
           }
          ],
          "mesh3d": [
           {
            "colorbar": {
             "outlinewidth": 0,
             "ticks": ""
            },
            "type": "mesh3d"
           }
          ],
          "parcoords": [
           {
            "line": {
             "colorbar": {
              "outlinewidth": 0,
              "ticks": ""
             }
            },
            "type": "parcoords"
           }
          ],
          "pie": [
           {
            "automargin": true,
            "type": "pie"
           }
          ],
          "scatter": [
           {
            "fillpattern": {
             "fillmode": "overlay",
             "size": 10,
             "solidity": 0.2
            },
            "type": "scatter"
           }
          ],
          "scatter3d": [
           {
            "line": {
             "colorbar": {
              "outlinewidth": 0,
              "ticks": ""
             }
            },
            "marker": {
             "colorbar": {
              "outlinewidth": 0,
              "ticks": ""
             }
            },
            "type": "scatter3d"
           }
          ],
          "scattercarpet": [
           {
            "marker": {
             "colorbar": {
              "outlinewidth": 0,
              "ticks": ""
             }
            },
            "type": "scattercarpet"
           }
          ],
          "scattergeo": [
           {
            "marker": {
             "colorbar": {
              "outlinewidth": 0,
              "ticks": ""
             }
            },
            "type": "scattergeo"
           }
          ],
          "scattergl": [
           {
            "marker": {
             "colorbar": {
              "outlinewidth": 0,
              "ticks": ""
             }
            },
            "type": "scattergl"
           }
          ],
          "scattermapbox": [
           {
            "marker": {
             "colorbar": {
              "outlinewidth": 0,
              "ticks": ""
             }
            },
            "type": "scattermapbox"
           }
          ],
          "scatterpolar": [
           {
            "marker": {
             "colorbar": {
              "outlinewidth": 0,
              "ticks": ""
             }
            },
            "type": "scatterpolar"
           }
          ],
          "scatterpolargl": [
           {
            "marker": {
             "colorbar": {
              "outlinewidth": 0,
              "ticks": ""
             }
            },
            "type": "scatterpolargl"
           }
          ],
          "scatterternary": [
           {
            "marker": {
             "colorbar": {
              "outlinewidth": 0,
              "ticks": ""
             }
            },
            "type": "scatterternary"
           }
          ],
          "surface": [
           {
            "colorbar": {
             "outlinewidth": 0,
             "ticks": ""
            },
            "colorscale": [
             [
              0,
              "#0d0887"
             ],
             [
              0.1111111111111111,
              "#46039f"
             ],
             [
              0.2222222222222222,
              "#7201a8"
             ],
             [
              0.3333333333333333,
              "#9c179e"
             ],
             [
              0.4444444444444444,
              "#bd3786"
             ],
             [
              0.5555555555555556,
              "#d8576b"
             ],
             [
              0.6666666666666666,
              "#ed7953"
             ],
             [
              0.7777777777777778,
              "#fb9f3a"
             ],
             [
              0.8888888888888888,
              "#fdca26"
             ],
             [
              1,
              "#f0f921"
             ]
            ],
            "type": "surface"
           }
          ],
          "table": [
           {
            "cells": {
             "fill": {
              "color": "#EBF0F8"
             },
             "line": {
              "color": "white"
             }
            },
            "header": {
             "fill": {
              "color": "#C8D4E3"
             },
             "line": {
              "color": "white"
             }
            },
            "type": "table"
           }
          ]
         },
         "layout": {
          "annotationdefaults": {
           "arrowcolor": "#2a3f5f",
           "arrowhead": 0,
           "arrowwidth": 1
          },
          "autotypenumbers": "strict",
          "coloraxis": {
           "colorbar": {
            "outlinewidth": 0,
            "ticks": ""
           }
          },
          "colorscale": {
           "diverging": [
            [
             0,
             "#8e0152"
            ],
            [
             0.1,
             "#c51b7d"
            ],
            [
             0.2,
             "#de77ae"
            ],
            [
             0.3,
             "#f1b6da"
            ],
            [
             0.4,
             "#fde0ef"
            ],
            [
             0.5,
             "#f7f7f7"
            ],
            [
             0.6,
             "#e6f5d0"
            ],
            [
             0.7,
             "#b8e186"
            ],
            [
             0.8,
             "#7fbc41"
            ],
            [
             0.9,
             "#4d9221"
            ],
            [
             1,
             "#276419"
            ]
           ],
           "sequential": [
            [
             0,
             "#0d0887"
            ],
            [
             0.1111111111111111,
             "#46039f"
            ],
            [
             0.2222222222222222,
             "#7201a8"
            ],
            [
             0.3333333333333333,
             "#9c179e"
            ],
            [
             0.4444444444444444,
             "#bd3786"
            ],
            [
             0.5555555555555556,
             "#d8576b"
            ],
            [
             0.6666666666666666,
             "#ed7953"
            ],
            [
             0.7777777777777778,
             "#fb9f3a"
            ],
            [
             0.8888888888888888,
             "#fdca26"
            ],
            [
             1,
             "#f0f921"
            ]
           ],
           "sequentialminus": [
            [
             0,
             "#0d0887"
            ],
            [
             0.1111111111111111,
             "#46039f"
            ],
            [
             0.2222222222222222,
             "#7201a8"
            ],
            [
             0.3333333333333333,
             "#9c179e"
            ],
            [
             0.4444444444444444,
             "#bd3786"
            ],
            [
             0.5555555555555556,
             "#d8576b"
            ],
            [
             0.6666666666666666,
             "#ed7953"
            ],
            [
             0.7777777777777778,
             "#fb9f3a"
            ],
            [
             0.8888888888888888,
             "#fdca26"
            ],
            [
             1,
             "#f0f921"
            ]
           ]
          },
          "colorway": [
           "#636efa",
           "#EF553B",
           "#00cc96",
           "#ab63fa",
           "#FFA15A",
           "#19d3f3",
           "#FF6692",
           "#B6E880",
           "#FF97FF",
           "#FECB52"
          ],
          "font": {
           "color": "#2a3f5f"
          },
          "geo": {
           "bgcolor": "white",
           "lakecolor": "white",
           "landcolor": "#E5ECF6",
           "showlakes": true,
           "showland": true,
           "subunitcolor": "white"
          },
          "hoverlabel": {
           "align": "left"
          },
          "hovermode": "closest",
          "mapbox": {
           "style": "light"
          },
          "paper_bgcolor": "white",
          "plot_bgcolor": "#E5ECF6",
          "polar": {
           "angularaxis": {
            "gridcolor": "white",
            "linecolor": "white",
            "ticks": ""
           },
           "bgcolor": "#E5ECF6",
           "radialaxis": {
            "gridcolor": "white",
            "linecolor": "white",
            "ticks": ""
           }
          },
          "scene": {
           "xaxis": {
            "backgroundcolor": "#E5ECF6",
            "gridcolor": "white",
            "gridwidth": 2,
            "linecolor": "white",
            "showbackground": true,
            "ticks": "",
            "zerolinecolor": "white"
           },
           "yaxis": {
            "backgroundcolor": "#E5ECF6",
            "gridcolor": "white",
            "gridwidth": 2,
            "linecolor": "white",
            "showbackground": true,
            "ticks": "",
            "zerolinecolor": "white"
           },
           "zaxis": {
            "backgroundcolor": "#E5ECF6",
            "gridcolor": "white",
            "gridwidth": 2,
            "linecolor": "white",
            "showbackground": true,
            "ticks": "",
            "zerolinecolor": "white"
           }
          },
          "shapedefaults": {
           "line": {
            "color": "#2a3f5f"
           }
          },
          "ternary": {
           "aaxis": {
            "gridcolor": "white",
            "linecolor": "white",
            "ticks": ""
           },
           "baxis": {
            "gridcolor": "white",
            "linecolor": "white",
            "ticks": ""
           },
           "bgcolor": "#E5ECF6",
           "caxis": {
            "gridcolor": "white",
            "linecolor": "white",
            "ticks": ""
           }
          },
          "title": {
           "x": 0.05
          },
          "xaxis": {
           "automargin": true,
           "gridcolor": "white",
           "linecolor": "white",
           "ticks": "",
           "title": {
            "standoff": 15
           },
           "zerolinecolor": "white",
           "zerolinewidth": 2
          },
          "yaxis": {
           "automargin": true,
           "gridcolor": "white",
           "linecolor": "white",
           "ticks": "",
           "title": {
            "standoff": 15
           },
           "zerolinecolor": "white",
           "zerolinewidth": 2
          }
         }
        },
        "title": {
         "font": {
          "size": 25
         },
         "text": "Nubes de individuos y de categorías plano 2-3"
        },
        "width": 800,
        "xaxis": {
         "dtick": 0.25,
         "range": [
          -1.25,
          1.75
         ],
         "tickfont": {
          "size": 15
         },
         "title": {
          "font": {
           "size": 20
          },
          "text": "Componente 2 (15.6%)"
         }
        },
        "yaxis": {
         "dtick": 0.25,
         "range": [
          -1.3,
          1.75
         ],
         "tickfont": {
          "size": 15
         },
         "title": {
          "font": {
           "size": 20
          },
          "text": "Componente 3 (14.1%)"
         }
        }
       }
      }
     },
     "metadata": {},
     "output_type": "display_data"
    }
   ],
   "source": [
    "# Crear la figura\n",
    "fig = go.Figure()\n",
    "\n",
    "# Agregar la nube de individuos en el plano 2-3\n",
    "fig.add_trace(go.Scatter(x=row_coordinates_Z['Componente 2'], y=row_coordinates_Z['Componente 3'],\n",
    "                         mode='markers+text', text=row_coordinates_Z.index,\n",
    "                         marker=dict(size=3, color=[colors.get(x, 'black') for x in row_coordinates_Z.index]),\n",
    "                         textposition='middle right',\n",
    "                         name='Nube de individuos',\n",
    "                         textfont=dict(size=7)))\n",
    "\n",
    "# Definir los colores para las categorías\n",
    "colors = {'F':'blue','M':'blue','16-':'green','17':'green','18':'green','19+':'green',\n",
    "          'al':'orange','ba':'orange','me':'orange','Bo':'red','Cu':'red','Ot':'red'}\n",
    "\n",
    "# Agregar la nube de categorías en el plano 2-3\n",
    "fig.add_trace(go.Scatter(x=column_coordinates_Z['Componente 2'], y=column_coordinates_Z['Componente 3'],\n",
    "                         mode='markers+text', text=column_coordinates_Z.index,\n",
    "                         marker=dict(size=6, color=[colors.get(x, 'black') for x in column_coordinates_Z.index]),\n",
    "                         textposition='middle right',\n",
    "                         name='Nube de categorías plano 2-3',\n",
    "                         textfont=dict(size=15)))\n",
    "\n",
    "# Actualizar el diseño de la figura\n",
    "fig.update_layout(width=800, height=800,\n",
    "                  title='Nubes de individuos y de categorías plano 2-3',\n",
    "                  xaxis=dict(dtick=0.25, range=[-1.25,1.75], title='Componente 2 (15.6%)',\n",
    "                             title_font=dict(size=20), tickfont=dict(size=15)),\n",
    "                  yaxis=dict(dtick=0.25, range=[-1.3,1.75], title='Componente 3 (14.1%)',\n",
    "                             title_font=dict(size=20), tickfont=dict(size=15)),\n",
    "                  title_font=dict(size=25),\n",
    "                  showlegend=False)\n",
    "\n",
    "# Mostrar la figura\n",
    "fig.show()"
   ]
  },
  {
   "attachments": {},
   "cell_type": "markdown",
   "metadata": {},
   "source": [
    "### Razones de correlación de las variables cualitativas sobre los ejes"
   ]
  },
  {
   "cell_type": "code",
   "execution_count": 33,
   "metadata": {},
   "outputs": [
    {
     "data": {
      "text/html": [
       "<div>\n",
       "<style scoped>\n",
       "    .dataframe tbody tr th:only-of-type {\n",
       "        vertical-align: middle;\n",
       "    }\n",
       "\n",
       "    .dataframe tbody tr th {\n",
       "        vertical-align: top;\n",
       "    }\n",
       "\n",
       "    .dataframe thead th {\n",
       "        text-align: right;\n",
       "    }\n",
       "</style>\n",
       "<table border=\"1\" class=\"dataframe\">\n",
       "  <thead>\n",
       "    <tr style=\"text-align: right;\">\n",
       "      <th></th>\n",
       "      <th>Componente 1</th>\n",
       "      <th>Componente 2</th>\n",
       "      <th>Componente 3</th>\n",
       "      <th>Componente 4</th>\n",
       "      <th>Componente 5</th>\n",
       "      <th>Componente 6</th>\n",
       "      <th>Componente 7</th>\n",
       "      <th>Componente 8</th>\n",
       "    </tr>\n",
       "  </thead>\n",
       "  <tbody>\n",
       "    <tr>\n",
       "      <th>F</th>\n",
       "      <td>0.003567</td>\n",
       "      <td>0.182065</td>\n",
       "      <td>0.066648</td>\n",
       "      <td>0.135450</td>\n",
       "      <td>0.002170</td>\n",
       "      <td>0.014600</td>\n",
       "      <td>0.305946</td>\n",
       "      <td>0.001913</td>\n",
       "    </tr>\n",
       "    <tr>\n",
       "      <th>M</th>\n",
       "      <td>0.001440</td>\n",
       "      <td>0.073515</td>\n",
       "      <td>0.026912</td>\n",
       "      <td>0.054693</td>\n",
       "      <td>0.000876</td>\n",
       "      <td>0.005895</td>\n",
       "      <td>0.123537</td>\n",
       "      <td>0.000773</td>\n",
       "    </tr>\n",
       "    <tr>\n",
       "      <th>16-</th>\n",
       "      <td>0.030355</td>\n",
       "      <td>0.240946</td>\n",
       "      <td>0.019949</td>\n",
       "      <td>0.003338</td>\n",
       "      <td>0.090957</td>\n",
       "      <td>0.076419</td>\n",
       "      <td>0.204728</td>\n",
       "      <td>0.068140</td>\n",
       "    </tr>\n",
       "    <tr>\n",
       "      <th>17</th>\n",
       "      <td>0.009781</td>\n",
       "      <td>0.000299</td>\n",
       "      <td>0.265400</td>\n",
       "      <td>0.026584</td>\n",
       "      <td>0.010117</td>\n",
       "      <td>0.227272</td>\n",
       "      <td>0.053990</td>\n",
       "      <td>0.022287</td>\n",
       "    </tr>\n",
       "    <tr>\n",
       "      <th>18</th>\n",
       "      <td>0.052450</td>\n",
       "      <td>0.001840</td>\n",
       "      <td>0.142121</td>\n",
       "      <td>0.000463</td>\n",
       "      <td>0.615661</td>\n",
       "      <td>0.021523</td>\n",
       "      <td>0.017214</td>\n",
       "      <td>0.022884</td>\n",
       "    </tr>\n",
       "    <tr>\n",
       "      <th>19+</th>\n",
       "      <td>0.012422</td>\n",
       "      <td>0.274296</td>\n",
       "      <td>0.056706</td>\n",
       "      <td>0.018046</td>\n",
       "      <td>0.152951</td>\n",
       "      <td>0.045510</td>\n",
       "      <td>0.081706</td>\n",
       "      <td>0.133644</td>\n",
       "    </tr>\n",
       "    <tr>\n",
       "      <th>al</th>\n",
       "      <td>0.038829</td>\n",
       "      <td>0.087500</td>\n",
       "      <td>0.200579</td>\n",
       "      <td>0.220444</td>\n",
       "      <td>0.003493</td>\n",
       "      <td>0.138241</td>\n",
       "      <td>0.029155</td>\n",
       "      <td>0.099735</td>\n",
       "    </tr>\n",
       "    <tr>\n",
       "      <th>ba</th>\n",
       "      <td>0.259042</td>\n",
       "      <td>0.031462</td>\n",
       "      <td>0.011671</td>\n",
       "      <td>0.000679</td>\n",
       "      <td>0.039980</td>\n",
       "      <td>0.002210</td>\n",
       "      <td>0.040681</td>\n",
       "      <td>0.212028</td>\n",
       "    </tr>\n",
       "    <tr>\n",
       "      <th>me</th>\n",
       "      <td>0.137087</td>\n",
       "      <td>0.000452</td>\n",
       "      <td>0.036131</td>\n",
       "      <td>0.113108</td>\n",
       "      <td>0.055597</td>\n",
       "      <td>0.085416</td>\n",
       "      <td>0.096959</td>\n",
       "      <td>0.059520</td>\n",
       "    </tr>\n",
       "    <tr>\n",
       "      <th>Bo</th>\n",
       "      <td>0.134530</td>\n",
       "      <td>0.009052</td>\n",
       "      <td>0.007046</td>\n",
       "      <td>0.018857</td>\n",
       "      <td>0.007921</td>\n",
       "      <td>0.004207</td>\n",
       "      <td>0.008226</td>\n",
       "      <td>0.111286</td>\n",
       "    </tr>\n",
       "    <tr>\n",
       "      <th>Cu</th>\n",
       "      <td>0.048665</td>\n",
       "      <td>0.025137</td>\n",
       "      <td>0.157165</td>\n",
       "      <td>0.387467</td>\n",
       "      <td>0.011887</td>\n",
       "      <td>0.212984</td>\n",
       "      <td>0.035920</td>\n",
       "      <td>0.035381</td>\n",
       "    </tr>\n",
       "    <tr>\n",
       "      <th>Ot</th>\n",
       "      <td>0.271832</td>\n",
       "      <td>0.073437</td>\n",
       "      <td>0.009670</td>\n",
       "      <td>0.020871</td>\n",
       "      <td>0.008390</td>\n",
       "      <td>0.165724</td>\n",
       "      <td>0.001936</td>\n",
       "      <td>0.232410</td>\n",
       "    </tr>\n",
       "  </tbody>\n",
       "</table>\n",
       "</div>"
      ],
      "text/plain": [
       "     Componente 1  Componente 2  Componente 3  Componente 4  Componente 5  \\\n",
       "F        0.003567      0.182065      0.066648      0.135450      0.002170   \n",
       "M        0.001440      0.073515      0.026912      0.054693      0.000876   \n",
       "16-      0.030355      0.240946      0.019949      0.003338      0.090957   \n",
       "17       0.009781      0.000299      0.265400      0.026584      0.010117   \n",
       "18       0.052450      0.001840      0.142121      0.000463      0.615661   \n",
       "19+      0.012422      0.274296      0.056706      0.018046      0.152951   \n",
       "al       0.038829      0.087500      0.200579      0.220444      0.003493   \n",
       "ba       0.259042      0.031462      0.011671      0.000679      0.039980   \n",
       "me       0.137087      0.000452      0.036131      0.113108      0.055597   \n",
       "Bo       0.134530      0.009052      0.007046      0.018857      0.007921   \n",
       "Cu       0.048665      0.025137      0.157165      0.387467      0.011887   \n",
       "Ot       0.271832      0.073437      0.009670      0.020871      0.008390   \n",
       "\n",
       "     Componente 6  Componente 7  Componente 8  \n",
       "F        0.014600      0.305946      0.001913  \n",
       "M        0.005895      0.123537      0.000773  \n",
       "16-      0.076419      0.204728      0.068140  \n",
       "17       0.227272      0.053990      0.022287  \n",
       "18       0.021523      0.017214      0.022884  \n",
       "19+      0.045510      0.081706      0.133644  \n",
       "al       0.138241      0.029155      0.099735  \n",
       "ba       0.002210      0.040681      0.212028  \n",
       "me       0.085416      0.096959      0.059520  \n",
       "Bo       0.004207      0.008226      0.111286  \n",
       "Cu       0.212984      0.035920      0.035381  \n",
       "Ot       0.165724      0.001936      0.232410  "
      ]
     },
     "execution_count": 33,
     "metadata": {},
     "output_type": "execute_result"
    }
   ],
   "source": [
    "# Asignarle nuevos nombres a las columnas del DataFrame column_contributions_Z\n",
    "# Generar los nombres de las filas y las columnas para Dataframe column_contributions_Z\n",
    "row_names = column_contributions_Z.index\n",
    "column_names = [f\"Componente {i+1}\" for i in range(column_contributions_Z.shape[1])]\n",
    "\n",
    "# Crear un DataFrame a partir de column_contributions_Z con los nombres de fila y columna generados\n",
    "column_contributions_Z = pd.DataFrame(data=column_contributions_Z.values, index=row_names, columns=column_names)\n",
    "column_contributions_Z"
   ]
  },
  {
   "cell_type": "code",
   "execution_count": 34,
   "metadata": {},
   "outputs": [
    {
     "data": {
      "text/html": [
       "<div>\n",
       "<style scoped>\n",
       "    .dataframe tbody tr th:only-of-type {\n",
       "        vertical-align: middle;\n",
       "    }\n",
       "\n",
       "    .dataframe tbody tr th {\n",
       "        vertical-align: top;\n",
       "    }\n",
       "\n",
       "    .dataframe thead th {\n",
       "        text-align: right;\n",
       "    }\n",
       "</style>\n",
       "<table border=\"1\" class=\"dataframe\">\n",
       "  <thead>\n",
       "    <tr style=\"text-align: right;\">\n",
       "      <th></th>\n",
       "      <th>Valor propio</th>\n",
       "    </tr>\n",
       "  </thead>\n",
       "  <tbody>\n",
       "    <tr>\n",
       "      <th>Componente 1</th>\n",
       "      <td>0.337</td>\n",
       "    </tr>\n",
       "    <tr>\n",
       "      <th>Componente 2</th>\n",
       "      <td>0.313</td>\n",
       "    </tr>\n",
       "    <tr>\n",
       "      <th>Componente 3</th>\n",
       "      <td>0.283</td>\n",
       "    </tr>\n",
       "    <tr>\n",
       "      <th>Componente 4</th>\n",
       "      <td>0.247</td>\n",
       "    </tr>\n",
       "    <tr>\n",
       "      <th>Componente 5</th>\n",
       "      <td>0.241</td>\n",
       "    </tr>\n",
       "    <tr>\n",
       "      <th>Componente 6</th>\n",
       "      <td>0.229</td>\n",
       "    </tr>\n",
       "    <tr>\n",
       "      <th>Componente 7</th>\n",
       "      <td>0.208</td>\n",
       "    </tr>\n",
       "    <tr>\n",
       "      <th>Componente 8</th>\n",
       "      <td>0.143</td>\n",
       "    </tr>\n",
       "  </tbody>\n",
       "</table>\n",
       "</div>"
      ],
      "text/plain": [
       "              Valor propio\n",
       "Componente 1         0.337\n",
       "Componente 2         0.313\n",
       "Componente 3         0.283\n",
       "Componente 4         0.247\n",
       "Componente 5         0.241\n",
       "Componente 6         0.229\n",
       "Componente 7         0.208\n",
       "Componente 8         0.143"
      ]
     },
     "execution_count": 34,
     "metadata": {},
     "output_type": "execute_result"
    }
   ],
   "source": [
    "# Crear un nuevo DataFrame con los valores propios\n",
    "valores_propios = pd.DataFrame(data=eigenvalues_summary_Z['Valor propio'].values,index=eigenvalues_summary_Z.index,columns=['Valor propio'])\n",
    "valores_propios"
   ]
  },
  {
   "cell_type": "code",
   "execution_count": 35,
   "metadata": {},
   "outputs": [
    {
     "data": {
      "text/html": [
       "<div>\n",
       "<style scoped>\n",
       "    .dataframe tbody tr th:only-of-type {\n",
       "        vertical-align: middle;\n",
       "    }\n",
       "\n",
       "    .dataframe tbody tr th {\n",
       "        vertical-align: top;\n",
       "    }\n",
       "\n",
       "    .dataframe thead th {\n",
       "        text-align: right;\n",
       "    }\n",
       "</style>\n",
       "<table border=\"1\" class=\"dataframe\">\n",
       "  <thead>\n",
       "    <tr style=\"text-align: right;\">\n",
       "      <th></th>\n",
       "      <th>Componente 1</th>\n",
       "      <th>Componente 2</th>\n",
       "      <th>Componente 3</th>\n",
       "      <th>Componente 4</th>\n",
       "      <th>Componente 5</th>\n",
       "      <th>Componente 6</th>\n",
       "      <th>Componente 7</th>\n",
       "      <th>Componente 8</th>\n",
       "    </tr>\n",
       "  </thead>\n",
       "  <tbody>\n",
       "    <tr>\n",
       "      <th>F</th>\n",
       "      <td>0.004809</td>\n",
       "      <td>0.227945</td>\n",
       "      <td>0.075446</td>\n",
       "      <td>0.133824</td>\n",
       "      <td>0.002092</td>\n",
       "      <td>0.013374</td>\n",
       "      <td>0.254547</td>\n",
       "      <td>0.001094</td>\n",
       "    </tr>\n",
       "    <tr>\n",
       "      <th>M</th>\n",
       "      <td>0.001942</td>\n",
       "      <td>0.092041</td>\n",
       "      <td>0.030464</td>\n",
       "      <td>0.054036</td>\n",
       "      <td>0.000845</td>\n",
       "      <td>0.005400</td>\n",
       "      <td>0.102782</td>\n",
       "      <td>0.000442</td>\n",
       "    </tr>\n",
       "    <tr>\n",
       "      <th>16-</th>\n",
       "      <td>0.040918</td>\n",
       "      <td>0.301664</td>\n",
       "      <td>0.022583</td>\n",
       "      <td>0.003298</td>\n",
       "      <td>0.087682</td>\n",
       "      <td>0.069999</td>\n",
       "      <td>0.170334</td>\n",
       "      <td>0.038976</td>\n",
       "    </tr>\n",
       "    <tr>\n",
       "      <th>17</th>\n",
       "      <td>0.013185</td>\n",
       "      <td>0.000375</td>\n",
       "      <td>0.300433</td>\n",
       "      <td>0.026265</td>\n",
       "      <td>0.009753</td>\n",
       "      <td>0.208181</td>\n",
       "      <td>0.044920</td>\n",
       "      <td>0.012748</td>\n",
       "    </tr>\n",
       "    <tr>\n",
       "      <th>18</th>\n",
       "      <td>0.070703</td>\n",
       "      <td>0.002304</td>\n",
       "      <td>0.160881</td>\n",
       "      <td>0.000458</td>\n",
       "      <td>0.593498</td>\n",
       "      <td>0.019715</td>\n",
       "      <td>0.014322</td>\n",
       "      <td>0.013090</td>\n",
       "    </tr>\n",
       "    <tr>\n",
       "      <th>19+</th>\n",
       "      <td>0.016745</td>\n",
       "      <td>0.343418</td>\n",
       "      <td>0.064192</td>\n",
       "      <td>0.017829</td>\n",
       "      <td>0.147445</td>\n",
       "      <td>0.041687</td>\n",
       "      <td>0.067980</td>\n",
       "      <td>0.076444</td>\n",
       "    </tr>\n",
       "    <tr>\n",
       "      <th>al</th>\n",
       "      <td>0.052342</td>\n",
       "      <td>0.109550</td>\n",
       "      <td>0.227056</td>\n",
       "      <td>0.217799</td>\n",
       "      <td>0.003367</td>\n",
       "      <td>0.126629</td>\n",
       "      <td>0.024257</td>\n",
       "      <td>0.057048</td>\n",
       "    </tr>\n",
       "    <tr>\n",
       "      <th>ba</th>\n",
       "      <td>0.349188</td>\n",
       "      <td>0.039390</td>\n",
       "      <td>0.013211</td>\n",
       "      <td>0.000671</td>\n",
       "      <td>0.038541</td>\n",
       "      <td>0.002024</td>\n",
       "      <td>0.033847</td>\n",
       "      <td>0.121280</td>\n",
       "    </tr>\n",
       "    <tr>\n",
       "      <th>me</th>\n",
       "      <td>0.184793</td>\n",
       "      <td>0.000566</td>\n",
       "      <td>0.040900</td>\n",
       "      <td>0.111751</td>\n",
       "      <td>0.053595</td>\n",
       "      <td>0.078241</td>\n",
       "      <td>0.080670</td>\n",
       "      <td>0.034046</td>\n",
       "    </tr>\n",
       "    <tr>\n",
       "      <th>Bo</th>\n",
       "      <td>0.181346</td>\n",
       "      <td>0.011333</td>\n",
       "      <td>0.007976</td>\n",
       "      <td>0.018630</td>\n",
       "      <td>0.007636</td>\n",
       "      <td>0.003853</td>\n",
       "      <td>0.006844</td>\n",
       "      <td>0.063655</td>\n",
       "    </tr>\n",
       "    <tr>\n",
       "      <th>Cu</th>\n",
       "      <td>0.065600</td>\n",
       "      <td>0.031471</td>\n",
       "      <td>0.177911</td>\n",
       "      <td>0.382817</td>\n",
       "      <td>0.011459</td>\n",
       "      <td>0.195094</td>\n",
       "      <td>0.029885</td>\n",
       "      <td>0.020238</td>\n",
       "    </tr>\n",
       "    <tr>\n",
       "      <th>Ot</th>\n",
       "      <td>0.366429</td>\n",
       "      <td>0.091943</td>\n",
       "      <td>0.010946</td>\n",
       "      <td>0.020621</td>\n",
       "      <td>0.008088</td>\n",
       "      <td>0.151803</td>\n",
       "      <td>0.001611</td>\n",
       "      <td>0.132938</td>\n",
       "    </tr>\n",
       "  </tbody>\n",
       "</table>\n",
       "</div>"
      ],
      "text/plain": [
       "     Componente 1  Componente 2  Componente 3  Componente 4  Componente 5  \\\n",
       "F        0.004809      0.227945      0.075446      0.133824      0.002092   \n",
       "M        0.001942      0.092041      0.030464      0.054036      0.000845   \n",
       "16-      0.040918      0.301664      0.022583      0.003298      0.087682   \n",
       "17       0.013185      0.000375      0.300433      0.026265      0.009753   \n",
       "18       0.070703      0.002304      0.160881      0.000458      0.593498   \n",
       "19+      0.016745      0.343418      0.064192      0.017829      0.147445   \n",
       "al       0.052342      0.109550      0.227056      0.217799      0.003367   \n",
       "ba       0.349188      0.039390      0.013211      0.000671      0.038541   \n",
       "me       0.184793      0.000566      0.040900      0.111751      0.053595   \n",
       "Bo       0.181346      0.011333      0.007976      0.018630      0.007636   \n",
       "Cu       0.065600      0.031471      0.177911      0.382817      0.011459   \n",
       "Ot       0.366429      0.091943      0.010946      0.020621      0.008088   \n",
       "\n",
       "     Componente 6  Componente 7  Componente 8  \n",
       "F        0.013374      0.254547      0.001094  \n",
       "M        0.005400      0.102782      0.000442  \n",
       "16-      0.069999      0.170334      0.038976  \n",
       "17       0.208181      0.044920      0.012748  \n",
       "18       0.019715      0.014322      0.013090  \n",
       "19+      0.041687      0.067980      0.076444  \n",
       "al       0.126629      0.024257      0.057048  \n",
       "ba       0.002024      0.033847      0.121280  \n",
       "me       0.078241      0.080670      0.034046  \n",
       "Bo       0.003853      0.006844      0.063655  \n",
       "Cu       0.195094      0.029885      0.020238  \n",
       "Ot       0.151803      0.001611      0.132938  "
      ]
     },
     "execution_count": 35,
     "metadata": {},
     "output_type": "execute_result"
    }
   ],
   "source": [
    "# Calcular la correlación entre las contribuciones de las columnas y los valores propios de Z\n",
    "# s = número de variables o columnas en Y\n",
    "corr = s * column_contributions_Z.values * valores_propios.values.T\n",
    "\n",
    "# Crear un nuevo DataFrame con los resultados\n",
    "corr_df = pd.DataFrame(corr, index=column_contributions_Z.index, columns=column_contributions_Z.columns)\n",
    "\n",
    "# Mostrar el DataFrame\n",
    "corr_df"
   ]
  },
  {
   "attachments": {},
   "cell_type": "markdown",
   "metadata": {},
   "source": [
    "### Tabla de razones de correlación de las variables sobre los ejes"
   ]
  },
  {
   "cell_type": "code",
   "execution_count": 36,
   "metadata": {},
   "outputs": [
    {
     "data": {
      "text/html": [
       "<div>\n",
       "<style scoped>\n",
       "    .dataframe tbody tr th:only-of-type {\n",
       "        vertical-align: middle;\n",
       "    }\n",
       "\n",
       "    .dataframe tbody tr th {\n",
       "        vertical-align: top;\n",
       "    }\n",
       "\n",
       "    .dataframe thead th {\n",
       "        text-align: right;\n",
       "    }\n",
       "</style>\n",
       "<table border=\"1\" class=\"dataframe\">\n",
       "  <thead>\n",
       "    <tr style=\"text-align: right;\">\n",
       "      <th></th>\n",
       "      <th>Componente 1</th>\n",
       "      <th>Componente 2</th>\n",
       "      <th>Componente 3</th>\n",
       "    </tr>\n",
       "  </thead>\n",
       "  <tbody>\n",
       "    <tr>\n",
       "      <th>gen</th>\n",
       "      <td>0.006750</td>\n",
       "      <td>0.319986</td>\n",
       "      <td>0.105909</td>\n",
       "    </tr>\n",
       "    <tr>\n",
       "      <th>edad</th>\n",
       "      <td>0.141551</td>\n",
       "      <td>0.647760</td>\n",
       "      <td>0.548089</td>\n",
       "    </tr>\n",
       "    <tr>\n",
       "      <th>estr</th>\n",
       "      <td>0.586323</td>\n",
       "      <td>0.149506</td>\n",
       "      <td>0.281167</td>\n",
       "    </tr>\n",
       "    <tr>\n",
       "      <th>orig</th>\n",
       "      <td>0.613375</td>\n",
       "      <td>0.134747</td>\n",
       "      <td>0.196834</td>\n",
       "    </tr>\n",
       "  </tbody>\n",
       "</table>\n",
       "</div>"
      ],
      "text/plain": [
       "      Componente 1  Componente 2  Componente 3\n",
       "gen       0.006750      0.319986      0.105909\n",
       "edad      0.141551      0.647760      0.548089\n",
       "estr      0.586323      0.149506      0.281167\n",
       "orig      0.613375      0.134747      0.196834"
      ]
     },
     "execution_count": 36,
     "metadata": {},
     "output_type": "execute_result"
    }
   ],
   "source": [
    "# Calcular la suma de correlaciones por grupo de variables\n",
    "corr_gen = pd.DataFrame(corr_df.iloc[0:2,0:3].sum(axis=0), columns=['gen'])\n",
    "corr_edad = pd.DataFrame(corr_df.iloc[2:6,0:3].sum(axis=0), columns=['edad'])\n",
    "corr_estr = pd.DataFrame(corr_df.iloc[6:9,0:3].sum(axis=0), columns=['estr'])\n",
    "corr_orig = pd.DataFrame(corr_df.iloc[9:,0:3].sum(axis=0), columns=['orig'])\n",
    "\n",
    "# Concatenar los resultados en un nuevo DataFrame\n",
    "corr_rat = pd.concat([corr_gen.T, corr_edad.T, corr_estr.T, corr_orig.T])\n",
    "\n",
    "# Mostrar el DataFrame\n",
    "corr_rat"
   ]
  },
  {
   "attachments": {},
   "cell_type": "markdown",
   "metadata": {},
   "source": [
    "### Razones de correlación sobre el plano factorial 1-2"
   ]
  },
  {
   "cell_type": "code",
   "execution_count": 37,
   "metadata": {},
   "outputs": [
    {
     "data": {
      "application/vnd.plotly.v1+json": {
       "config": {
        "plotlyServerURL": "https://plot.ly"
       },
       "data": [
        {
         "marker": {
          "color": "black",
          "size": 6
         },
         "mode": "markers+text",
         "name": "Razones de correlación de las variables sobre los ejes 1 y 2",
         "text": [
          "gen",
          "edad",
          "estr",
          "orig"
         ],
         "textfont": {
          "size": 15
         },
         "textposition": "middle right",
         "type": "scatter",
         "x": [
          0.006750203677118705,
          0.14155122390231964,
          0.5863234742674106,
          0.6133750981531507
         ],
         "y": [
          0.31998648232996957,
          0.6477603834146692,
          0.1495064967379088,
          0.13474663751745278
         ]
        }
       ],
       "layout": {
        "height": 800,
        "showlegend": false,
        "template": {
         "data": {
          "bar": [
           {
            "error_x": {
             "color": "#2a3f5f"
            },
            "error_y": {
             "color": "#2a3f5f"
            },
            "marker": {
             "line": {
              "color": "#E5ECF6",
              "width": 0.5
             },
             "pattern": {
              "fillmode": "overlay",
              "size": 10,
              "solidity": 0.2
             }
            },
            "type": "bar"
           }
          ],
          "barpolar": [
           {
            "marker": {
             "line": {
              "color": "#E5ECF6",
              "width": 0.5
             },
             "pattern": {
              "fillmode": "overlay",
              "size": 10,
              "solidity": 0.2
             }
            },
            "type": "barpolar"
           }
          ],
          "carpet": [
           {
            "aaxis": {
             "endlinecolor": "#2a3f5f",
             "gridcolor": "white",
             "linecolor": "white",
             "minorgridcolor": "white",
             "startlinecolor": "#2a3f5f"
            },
            "baxis": {
             "endlinecolor": "#2a3f5f",
             "gridcolor": "white",
             "linecolor": "white",
             "minorgridcolor": "white",
             "startlinecolor": "#2a3f5f"
            },
            "type": "carpet"
           }
          ],
          "choropleth": [
           {
            "colorbar": {
             "outlinewidth": 0,
             "ticks": ""
            },
            "type": "choropleth"
           }
          ],
          "contour": [
           {
            "colorbar": {
             "outlinewidth": 0,
             "ticks": ""
            },
            "colorscale": [
             [
              0,
              "#0d0887"
             ],
             [
              0.1111111111111111,
              "#46039f"
             ],
             [
              0.2222222222222222,
              "#7201a8"
             ],
             [
              0.3333333333333333,
              "#9c179e"
             ],
             [
              0.4444444444444444,
              "#bd3786"
             ],
             [
              0.5555555555555556,
              "#d8576b"
             ],
             [
              0.6666666666666666,
              "#ed7953"
             ],
             [
              0.7777777777777778,
              "#fb9f3a"
             ],
             [
              0.8888888888888888,
              "#fdca26"
             ],
             [
              1,
              "#f0f921"
             ]
            ],
            "type": "contour"
           }
          ],
          "contourcarpet": [
           {
            "colorbar": {
             "outlinewidth": 0,
             "ticks": ""
            },
            "type": "contourcarpet"
           }
          ],
          "heatmap": [
           {
            "colorbar": {
             "outlinewidth": 0,
             "ticks": ""
            },
            "colorscale": [
             [
              0,
              "#0d0887"
             ],
             [
              0.1111111111111111,
              "#46039f"
             ],
             [
              0.2222222222222222,
              "#7201a8"
             ],
             [
              0.3333333333333333,
              "#9c179e"
             ],
             [
              0.4444444444444444,
              "#bd3786"
             ],
             [
              0.5555555555555556,
              "#d8576b"
             ],
             [
              0.6666666666666666,
              "#ed7953"
             ],
             [
              0.7777777777777778,
              "#fb9f3a"
             ],
             [
              0.8888888888888888,
              "#fdca26"
             ],
             [
              1,
              "#f0f921"
             ]
            ],
            "type": "heatmap"
           }
          ],
          "heatmapgl": [
           {
            "colorbar": {
             "outlinewidth": 0,
             "ticks": ""
            },
            "colorscale": [
             [
              0,
              "#0d0887"
             ],
             [
              0.1111111111111111,
              "#46039f"
             ],
             [
              0.2222222222222222,
              "#7201a8"
             ],
             [
              0.3333333333333333,
              "#9c179e"
             ],
             [
              0.4444444444444444,
              "#bd3786"
             ],
             [
              0.5555555555555556,
              "#d8576b"
             ],
             [
              0.6666666666666666,
              "#ed7953"
             ],
             [
              0.7777777777777778,
              "#fb9f3a"
             ],
             [
              0.8888888888888888,
              "#fdca26"
             ],
             [
              1,
              "#f0f921"
             ]
            ],
            "type": "heatmapgl"
           }
          ],
          "histogram": [
           {
            "marker": {
             "pattern": {
              "fillmode": "overlay",
              "size": 10,
              "solidity": 0.2
             }
            },
            "type": "histogram"
           }
          ],
          "histogram2d": [
           {
            "colorbar": {
             "outlinewidth": 0,
             "ticks": ""
            },
            "colorscale": [
             [
              0,
              "#0d0887"
             ],
             [
              0.1111111111111111,
              "#46039f"
             ],
             [
              0.2222222222222222,
              "#7201a8"
             ],
             [
              0.3333333333333333,
              "#9c179e"
             ],
             [
              0.4444444444444444,
              "#bd3786"
             ],
             [
              0.5555555555555556,
              "#d8576b"
             ],
             [
              0.6666666666666666,
              "#ed7953"
             ],
             [
              0.7777777777777778,
              "#fb9f3a"
             ],
             [
              0.8888888888888888,
              "#fdca26"
             ],
             [
              1,
              "#f0f921"
             ]
            ],
            "type": "histogram2d"
           }
          ],
          "histogram2dcontour": [
           {
            "colorbar": {
             "outlinewidth": 0,
             "ticks": ""
            },
            "colorscale": [
             [
              0,
              "#0d0887"
             ],
             [
              0.1111111111111111,
              "#46039f"
             ],
             [
              0.2222222222222222,
              "#7201a8"
             ],
             [
              0.3333333333333333,
              "#9c179e"
             ],
             [
              0.4444444444444444,
              "#bd3786"
             ],
             [
              0.5555555555555556,
              "#d8576b"
             ],
             [
              0.6666666666666666,
              "#ed7953"
             ],
             [
              0.7777777777777778,
              "#fb9f3a"
             ],
             [
              0.8888888888888888,
              "#fdca26"
             ],
             [
              1,
              "#f0f921"
             ]
            ],
            "type": "histogram2dcontour"
           }
          ],
          "mesh3d": [
           {
            "colorbar": {
             "outlinewidth": 0,
             "ticks": ""
            },
            "type": "mesh3d"
           }
          ],
          "parcoords": [
           {
            "line": {
             "colorbar": {
              "outlinewidth": 0,
              "ticks": ""
             }
            },
            "type": "parcoords"
           }
          ],
          "pie": [
           {
            "automargin": true,
            "type": "pie"
           }
          ],
          "scatter": [
           {
            "fillpattern": {
             "fillmode": "overlay",
             "size": 10,
             "solidity": 0.2
            },
            "type": "scatter"
           }
          ],
          "scatter3d": [
           {
            "line": {
             "colorbar": {
              "outlinewidth": 0,
              "ticks": ""
             }
            },
            "marker": {
             "colorbar": {
              "outlinewidth": 0,
              "ticks": ""
             }
            },
            "type": "scatter3d"
           }
          ],
          "scattercarpet": [
           {
            "marker": {
             "colorbar": {
              "outlinewidth": 0,
              "ticks": ""
             }
            },
            "type": "scattercarpet"
           }
          ],
          "scattergeo": [
           {
            "marker": {
             "colorbar": {
              "outlinewidth": 0,
              "ticks": ""
             }
            },
            "type": "scattergeo"
           }
          ],
          "scattergl": [
           {
            "marker": {
             "colorbar": {
              "outlinewidth": 0,
              "ticks": ""
             }
            },
            "type": "scattergl"
           }
          ],
          "scattermapbox": [
           {
            "marker": {
             "colorbar": {
              "outlinewidth": 0,
              "ticks": ""
             }
            },
            "type": "scattermapbox"
           }
          ],
          "scatterpolar": [
           {
            "marker": {
             "colorbar": {
              "outlinewidth": 0,
              "ticks": ""
             }
            },
            "type": "scatterpolar"
           }
          ],
          "scatterpolargl": [
           {
            "marker": {
             "colorbar": {
              "outlinewidth": 0,
              "ticks": ""
             }
            },
            "type": "scatterpolargl"
           }
          ],
          "scatterternary": [
           {
            "marker": {
             "colorbar": {
              "outlinewidth": 0,
              "ticks": ""
             }
            },
            "type": "scatterternary"
           }
          ],
          "surface": [
           {
            "colorbar": {
             "outlinewidth": 0,
             "ticks": ""
            },
            "colorscale": [
             [
              0,
              "#0d0887"
             ],
             [
              0.1111111111111111,
              "#46039f"
             ],
             [
              0.2222222222222222,
              "#7201a8"
             ],
             [
              0.3333333333333333,
              "#9c179e"
             ],
             [
              0.4444444444444444,
              "#bd3786"
             ],
             [
              0.5555555555555556,
              "#d8576b"
             ],
             [
              0.6666666666666666,
              "#ed7953"
             ],
             [
              0.7777777777777778,
              "#fb9f3a"
             ],
             [
              0.8888888888888888,
              "#fdca26"
             ],
             [
              1,
              "#f0f921"
             ]
            ],
            "type": "surface"
           }
          ],
          "table": [
           {
            "cells": {
             "fill": {
              "color": "#EBF0F8"
             },
             "line": {
              "color": "white"
             }
            },
            "header": {
             "fill": {
              "color": "#C8D4E3"
             },
             "line": {
              "color": "white"
             }
            },
            "type": "table"
           }
          ]
         },
         "layout": {
          "annotationdefaults": {
           "arrowcolor": "#2a3f5f",
           "arrowhead": 0,
           "arrowwidth": 1
          },
          "autotypenumbers": "strict",
          "coloraxis": {
           "colorbar": {
            "outlinewidth": 0,
            "ticks": ""
           }
          },
          "colorscale": {
           "diverging": [
            [
             0,
             "#8e0152"
            ],
            [
             0.1,
             "#c51b7d"
            ],
            [
             0.2,
             "#de77ae"
            ],
            [
             0.3,
             "#f1b6da"
            ],
            [
             0.4,
             "#fde0ef"
            ],
            [
             0.5,
             "#f7f7f7"
            ],
            [
             0.6,
             "#e6f5d0"
            ],
            [
             0.7,
             "#b8e186"
            ],
            [
             0.8,
             "#7fbc41"
            ],
            [
             0.9,
             "#4d9221"
            ],
            [
             1,
             "#276419"
            ]
           ],
           "sequential": [
            [
             0,
             "#0d0887"
            ],
            [
             0.1111111111111111,
             "#46039f"
            ],
            [
             0.2222222222222222,
             "#7201a8"
            ],
            [
             0.3333333333333333,
             "#9c179e"
            ],
            [
             0.4444444444444444,
             "#bd3786"
            ],
            [
             0.5555555555555556,
             "#d8576b"
            ],
            [
             0.6666666666666666,
             "#ed7953"
            ],
            [
             0.7777777777777778,
             "#fb9f3a"
            ],
            [
             0.8888888888888888,
             "#fdca26"
            ],
            [
             1,
             "#f0f921"
            ]
           ],
           "sequentialminus": [
            [
             0,
             "#0d0887"
            ],
            [
             0.1111111111111111,
             "#46039f"
            ],
            [
             0.2222222222222222,
             "#7201a8"
            ],
            [
             0.3333333333333333,
             "#9c179e"
            ],
            [
             0.4444444444444444,
             "#bd3786"
            ],
            [
             0.5555555555555556,
             "#d8576b"
            ],
            [
             0.6666666666666666,
             "#ed7953"
            ],
            [
             0.7777777777777778,
             "#fb9f3a"
            ],
            [
             0.8888888888888888,
             "#fdca26"
            ],
            [
             1,
             "#f0f921"
            ]
           ]
          },
          "colorway": [
           "#636efa",
           "#EF553B",
           "#00cc96",
           "#ab63fa",
           "#FFA15A",
           "#19d3f3",
           "#FF6692",
           "#B6E880",
           "#FF97FF",
           "#FECB52"
          ],
          "font": {
           "color": "#2a3f5f"
          },
          "geo": {
           "bgcolor": "white",
           "lakecolor": "white",
           "landcolor": "#E5ECF6",
           "showlakes": true,
           "showland": true,
           "subunitcolor": "white"
          },
          "hoverlabel": {
           "align": "left"
          },
          "hovermode": "closest",
          "mapbox": {
           "style": "light"
          },
          "paper_bgcolor": "white",
          "plot_bgcolor": "#E5ECF6",
          "polar": {
           "angularaxis": {
            "gridcolor": "white",
            "linecolor": "white",
            "ticks": ""
           },
           "bgcolor": "#E5ECF6",
           "radialaxis": {
            "gridcolor": "white",
            "linecolor": "white",
            "ticks": ""
           }
          },
          "scene": {
           "xaxis": {
            "backgroundcolor": "#E5ECF6",
            "gridcolor": "white",
            "gridwidth": 2,
            "linecolor": "white",
            "showbackground": true,
            "ticks": "",
            "zerolinecolor": "white"
           },
           "yaxis": {
            "backgroundcolor": "#E5ECF6",
            "gridcolor": "white",
            "gridwidth": 2,
            "linecolor": "white",
            "showbackground": true,
            "ticks": "",
            "zerolinecolor": "white"
           },
           "zaxis": {
            "backgroundcolor": "#E5ECF6",
            "gridcolor": "white",
            "gridwidth": 2,
            "linecolor": "white",
            "showbackground": true,
            "ticks": "",
            "zerolinecolor": "white"
           }
          },
          "shapedefaults": {
           "line": {
            "color": "#2a3f5f"
           }
          },
          "ternary": {
           "aaxis": {
            "gridcolor": "white",
            "linecolor": "white",
            "ticks": ""
           },
           "baxis": {
            "gridcolor": "white",
            "linecolor": "white",
            "ticks": ""
           },
           "bgcolor": "#E5ECF6",
           "caxis": {
            "gridcolor": "white",
            "linecolor": "white",
            "ticks": ""
           }
          },
          "title": {
           "x": 0.05
          },
          "xaxis": {
           "automargin": true,
           "gridcolor": "white",
           "linecolor": "white",
           "ticks": "",
           "title": {
            "standoff": 15
           },
           "zerolinecolor": "white",
           "zerolinewidth": 2
          },
          "yaxis": {
           "automargin": true,
           "gridcolor": "white",
           "linecolor": "white",
           "ticks": "",
           "title": {
            "standoff": 15
           },
           "zerolinecolor": "white",
           "zerolinewidth": 2
          }
         }
        },
        "title": {
         "font": {
          "size": 25
         },
         "text": "Razones de correlación de las variables sobre los ejes 1 y 2"
        },
        "width": 800,
        "xaxis": {
         "dtick": 0.05,
         "range": [
          -0.1,
          0.7
         ],
         "tickfont": {
          "size": 15
         },
         "title": {
          "font": {
           "size": 20
          },
          "text": "Componente 1"
         }
        },
        "yaxis": {
         "dtick": 0.05,
         "range": [
          -0.1,
          0.7
         ],
         "tickfont": {
          "size": 15
         },
         "title": {
          "font": {
           "size": 20
          },
          "text": "Componente 2"
         }
        }
       }
      }
     },
     "metadata": {},
     "output_type": "display_data"
    }
   ],
   "source": [
    "# Crear la figura\n",
    "fig = go.Figure()\n",
    "\n",
    "# Agregar la gráfica de dispersión del DataFrame corr_rat para usando los ejes Componente 1 y Componente 2\n",
    "fig.add_trace(go.Scatter(x=corr_rat['Componente 1'], y=corr_rat['Componente 2'],\n",
    "                         mode='markers+text', text=corr_rat.index,\n",
    "                         marker=dict(size=6, color='black'),\n",
    "                         textposition='middle right',\n",
    "                         name='Razones de correlación de las variables sobre los ejes 1 y 2',\n",
    "                         textfont=dict(size=15)))\n",
    "\n",
    "# Actualizar el diseño de la figura\n",
    "fig.update_layout(width=800, height=800,\n",
    "                  title='Razones de correlación de las variables sobre los ejes 1 y 2',\n",
    "                  xaxis=dict(dtick=0.05, range=[-0.1,0.7], title='Componente 1',\n",
    "                             title_font=dict(size=20), tickfont=dict(size=15)),\n",
    "                  yaxis=dict(dtick=0.05, range=[-0.1,0.7], title='Componente 2',\n",
    "                             title_font=dict(size=20), tickfont=dict(size=15)),\n",
    "                  title_font=dict(size=25),\n",
    "                  showlegend=False)\n",
    "\n",
    "# Mostrar la figura\n",
    "fig.show()"
   ]
  },
  {
   "attachments": {},
   "cell_type": "markdown",
   "metadata": {},
   "source": [
    "### Razones de correlación sobre el plano factorial 2-3"
   ]
  },
  {
   "cell_type": "code",
   "execution_count": 38,
   "metadata": {},
   "outputs": [
    {
     "data": {
      "application/vnd.plotly.v1+json": {
       "config": {
        "plotlyServerURL": "https://plot.ly"
       },
       "data": [
        {
         "marker": {
          "color": "black",
          "size": 6
         },
         "mode": "markers+text",
         "name": "Razones de correlación de las variables sobre los ejes 2 y 3",
         "text": [
          "gen",
          "edad",
          "estr",
          "orig"
         ],
         "textfont": {
          "size": 15
         },
         "textposition": "middle right",
         "type": "scatter",
         "x": [
          0.31998648232996957,
          0.6477603834146692,
          0.1495064967379088,
          0.13474663751745278
         ],
         "y": [
          0.10590948135969472,
          0.5480890867420222,
          0.2811673574102136,
          0.1968340744880695
         ]
        }
       ],
       "layout": {
        "height": 800,
        "showlegend": false,
        "template": {
         "data": {
          "bar": [
           {
            "error_x": {
             "color": "#2a3f5f"
            },
            "error_y": {
             "color": "#2a3f5f"
            },
            "marker": {
             "line": {
              "color": "#E5ECF6",
              "width": 0.5
             },
             "pattern": {
              "fillmode": "overlay",
              "size": 10,
              "solidity": 0.2
             }
            },
            "type": "bar"
           }
          ],
          "barpolar": [
           {
            "marker": {
             "line": {
              "color": "#E5ECF6",
              "width": 0.5
             },
             "pattern": {
              "fillmode": "overlay",
              "size": 10,
              "solidity": 0.2
             }
            },
            "type": "barpolar"
           }
          ],
          "carpet": [
           {
            "aaxis": {
             "endlinecolor": "#2a3f5f",
             "gridcolor": "white",
             "linecolor": "white",
             "minorgridcolor": "white",
             "startlinecolor": "#2a3f5f"
            },
            "baxis": {
             "endlinecolor": "#2a3f5f",
             "gridcolor": "white",
             "linecolor": "white",
             "minorgridcolor": "white",
             "startlinecolor": "#2a3f5f"
            },
            "type": "carpet"
           }
          ],
          "choropleth": [
           {
            "colorbar": {
             "outlinewidth": 0,
             "ticks": ""
            },
            "type": "choropleth"
           }
          ],
          "contour": [
           {
            "colorbar": {
             "outlinewidth": 0,
             "ticks": ""
            },
            "colorscale": [
             [
              0,
              "#0d0887"
             ],
             [
              0.1111111111111111,
              "#46039f"
             ],
             [
              0.2222222222222222,
              "#7201a8"
             ],
             [
              0.3333333333333333,
              "#9c179e"
             ],
             [
              0.4444444444444444,
              "#bd3786"
             ],
             [
              0.5555555555555556,
              "#d8576b"
             ],
             [
              0.6666666666666666,
              "#ed7953"
             ],
             [
              0.7777777777777778,
              "#fb9f3a"
             ],
             [
              0.8888888888888888,
              "#fdca26"
             ],
             [
              1,
              "#f0f921"
             ]
            ],
            "type": "contour"
           }
          ],
          "contourcarpet": [
           {
            "colorbar": {
             "outlinewidth": 0,
             "ticks": ""
            },
            "type": "contourcarpet"
           }
          ],
          "heatmap": [
           {
            "colorbar": {
             "outlinewidth": 0,
             "ticks": ""
            },
            "colorscale": [
             [
              0,
              "#0d0887"
             ],
             [
              0.1111111111111111,
              "#46039f"
             ],
             [
              0.2222222222222222,
              "#7201a8"
             ],
             [
              0.3333333333333333,
              "#9c179e"
             ],
             [
              0.4444444444444444,
              "#bd3786"
             ],
             [
              0.5555555555555556,
              "#d8576b"
             ],
             [
              0.6666666666666666,
              "#ed7953"
             ],
             [
              0.7777777777777778,
              "#fb9f3a"
             ],
             [
              0.8888888888888888,
              "#fdca26"
             ],
             [
              1,
              "#f0f921"
             ]
            ],
            "type": "heatmap"
           }
          ],
          "heatmapgl": [
           {
            "colorbar": {
             "outlinewidth": 0,
             "ticks": ""
            },
            "colorscale": [
             [
              0,
              "#0d0887"
             ],
             [
              0.1111111111111111,
              "#46039f"
             ],
             [
              0.2222222222222222,
              "#7201a8"
             ],
             [
              0.3333333333333333,
              "#9c179e"
             ],
             [
              0.4444444444444444,
              "#bd3786"
             ],
             [
              0.5555555555555556,
              "#d8576b"
             ],
             [
              0.6666666666666666,
              "#ed7953"
             ],
             [
              0.7777777777777778,
              "#fb9f3a"
             ],
             [
              0.8888888888888888,
              "#fdca26"
             ],
             [
              1,
              "#f0f921"
             ]
            ],
            "type": "heatmapgl"
           }
          ],
          "histogram": [
           {
            "marker": {
             "pattern": {
              "fillmode": "overlay",
              "size": 10,
              "solidity": 0.2
             }
            },
            "type": "histogram"
           }
          ],
          "histogram2d": [
           {
            "colorbar": {
             "outlinewidth": 0,
             "ticks": ""
            },
            "colorscale": [
             [
              0,
              "#0d0887"
             ],
             [
              0.1111111111111111,
              "#46039f"
             ],
             [
              0.2222222222222222,
              "#7201a8"
             ],
             [
              0.3333333333333333,
              "#9c179e"
             ],
             [
              0.4444444444444444,
              "#bd3786"
             ],
             [
              0.5555555555555556,
              "#d8576b"
             ],
             [
              0.6666666666666666,
              "#ed7953"
             ],
             [
              0.7777777777777778,
              "#fb9f3a"
             ],
             [
              0.8888888888888888,
              "#fdca26"
             ],
             [
              1,
              "#f0f921"
             ]
            ],
            "type": "histogram2d"
           }
          ],
          "histogram2dcontour": [
           {
            "colorbar": {
             "outlinewidth": 0,
             "ticks": ""
            },
            "colorscale": [
             [
              0,
              "#0d0887"
             ],
             [
              0.1111111111111111,
              "#46039f"
             ],
             [
              0.2222222222222222,
              "#7201a8"
             ],
             [
              0.3333333333333333,
              "#9c179e"
             ],
             [
              0.4444444444444444,
              "#bd3786"
             ],
             [
              0.5555555555555556,
              "#d8576b"
             ],
             [
              0.6666666666666666,
              "#ed7953"
             ],
             [
              0.7777777777777778,
              "#fb9f3a"
             ],
             [
              0.8888888888888888,
              "#fdca26"
             ],
             [
              1,
              "#f0f921"
             ]
            ],
            "type": "histogram2dcontour"
           }
          ],
          "mesh3d": [
           {
            "colorbar": {
             "outlinewidth": 0,
             "ticks": ""
            },
            "type": "mesh3d"
           }
          ],
          "parcoords": [
           {
            "line": {
             "colorbar": {
              "outlinewidth": 0,
              "ticks": ""
             }
            },
            "type": "parcoords"
           }
          ],
          "pie": [
           {
            "automargin": true,
            "type": "pie"
           }
          ],
          "scatter": [
           {
            "fillpattern": {
             "fillmode": "overlay",
             "size": 10,
             "solidity": 0.2
            },
            "type": "scatter"
           }
          ],
          "scatter3d": [
           {
            "line": {
             "colorbar": {
              "outlinewidth": 0,
              "ticks": ""
             }
            },
            "marker": {
             "colorbar": {
              "outlinewidth": 0,
              "ticks": ""
             }
            },
            "type": "scatter3d"
           }
          ],
          "scattercarpet": [
           {
            "marker": {
             "colorbar": {
              "outlinewidth": 0,
              "ticks": ""
             }
            },
            "type": "scattercarpet"
           }
          ],
          "scattergeo": [
           {
            "marker": {
             "colorbar": {
              "outlinewidth": 0,
              "ticks": ""
             }
            },
            "type": "scattergeo"
           }
          ],
          "scattergl": [
           {
            "marker": {
             "colorbar": {
              "outlinewidth": 0,
              "ticks": ""
             }
            },
            "type": "scattergl"
           }
          ],
          "scattermapbox": [
           {
            "marker": {
             "colorbar": {
              "outlinewidth": 0,
              "ticks": ""
             }
            },
            "type": "scattermapbox"
           }
          ],
          "scatterpolar": [
           {
            "marker": {
             "colorbar": {
              "outlinewidth": 0,
              "ticks": ""
             }
            },
            "type": "scatterpolar"
           }
          ],
          "scatterpolargl": [
           {
            "marker": {
             "colorbar": {
              "outlinewidth": 0,
              "ticks": ""
             }
            },
            "type": "scatterpolargl"
           }
          ],
          "scatterternary": [
           {
            "marker": {
             "colorbar": {
              "outlinewidth": 0,
              "ticks": ""
             }
            },
            "type": "scatterternary"
           }
          ],
          "surface": [
           {
            "colorbar": {
             "outlinewidth": 0,
             "ticks": ""
            },
            "colorscale": [
             [
              0,
              "#0d0887"
             ],
             [
              0.1111111111111111,
              "#46039f"
             ],
             [
              0.2222222222222222,
              "#7201a8"
             ],
             [
              0.3333333333333333,
              "#9c179e"
             ],
             [
              0.4444444444444444,
              "#bd3786"
             ],
             [
              0.5555555555555556,
              "#d8576b"
             ],
             [
              0.6666666666666666,
              "#ed7953"
             ],
             [
              0.7777777777777778,
              "#fb9f3a"
             ],
             [
              0.8888888888888888,
              "#fdca26"
             ],
             [
              1,
              "#f0f921"
             ]
            ],
            "type": "surface"
           }
          ],
          "table": [
           {
            "cells": {
             "fill": {
              "color": "#EBF0F8"
             },
             "line": {
              "color": "white"
             }
            },
            "header": {
             "fill": {
              "color": "#C8D4E3"
             },
             "line": {
              "color": "white"
             }
            },
            "type": "table"
           }
          ]
         },
         "layout": {
          "annotationdefaults": {
           "arrowcolor": "#2a3f5f",
           "arrowhead": 0,
           "arrowwidth": 1
          },
          "autotypenumbers": "strict",
          "coloraxis": {
           "colorbar": {
            "outlinewidth": 0,
            "ticks": ""
           }
          },
          "colorscale": {
           "diverging": [
            [
             0,
             "#8e0152"
            ],
            [
             0.1,
             "#c51b7d"
            ],
            [
             0.2,
             "#de77ae"
            ],
            [
             0.3,
             "#f1b6da"
            ],
            [
             0.4,
             "#fde0ef"
            ],
            [
             0.5,
             "#f7f7f7"
            ],
            [
             0.6,
             "#e6f5d0"
            ],
            [
             0.7,
             "#b8e186"
            ],
            [
             0.8,
             "#7fbc41"
            ],
            [
             0.9,
             "#4d9221"
            ],
            [
             1,
             "#276419"
            ]
           ],
           "sequential": [
            [
             0,
             "#0d0887"
            ],
            [
             0.1111111111111111,
             "#46039f"
            ],
            [
             0.2222222222222222,
             "#7201a8"
            ],
            [
             0.3333333333333333,
             "#9c179e"
            ],
            [
             0.4444444444444444,
             "#bd3786"
            ],
            [
             0.5555555555555556,
             "#d8576b"
            ],
            [
             0.6666666666666666,
             "#ed7953"
            ],
            [
             0.7777777777777778,
             "#fb9f3a"
            ],
            [
             0.8888888888888888,
             "#fdca26"
            ],
            [
             1,
             "#f0f921"
            ]
           ],
           "sequentialminus": [
            [
             0,
             "#0d0887"
            ],
            [
             0.1111111111111111,
             "#46039f"
            ],
            [
             0.2222222222222222,
             "#7201a8"
            ],
            [
             0.3333333333333333,
             "#9c179e"
            ],
            [
             0.4444444444444444,
             "#bd3786"
            ],
            [
             0.5555555555555556,
             "#d8576b"
            ],
            [
             0.6666666666666666,
             "#ed7953"
            ],
            [
             0.7777777777777778,
             "#fb9f3a"
            ],
            [
             0.8888888888888888,
             "#fdca26"
            ],
            [
             1,
             "#f0f921"
            ]
           ]
          },
          "colorway": [
           "#636efa",
           "#EF553B",
           "#00cc96",
           "#ab63fa",
           "#FFA15A",
           "#19d3f3",
           "#FF6692",
           "#B6E880",
           "#FF97FF",
           "#FECB52"
          ],
          "font": {
           "color": "#2a3f5f"
          },
          "geo": {
           "bgcolor": "white",
           "lakecolor": "white",
           "landcolor": "#E5ECF6",
           "showlakes": true,
           "showland": true,
           "subunitcolor": "white"
          },
          "hoverlabel": {
           "align": "left"
          },
          "hovermode": "closest",
          "mapbox": {
           "style": "light"
          },
          "paper_bgcolor": "white",
          "plot_bgcolor": "#E5ECF6",
          "polar": {
           "angularaxis": {
            "gridcolor": "white",
            "linecolor": "white",
            "ticks": ""
           },
           "bgcolor": "#E5ECF6",
           "radialaxis": {
            "gridcolor": "white",
            "linecolor": "white",
            "ticks": ""
           }
          },
          "scene": {
           "xaxis": {
            "backgroundcolor": "#E5ECF6",
            "gridcolor": "white",
            "gridwidth": 2,
            "linecolor": "white",
            "showbackground": true,
            "ticks": "",
            "zerolinecolor": "white"
           },
           "yaxis": {
            "backgroundcolor": "#E5ECF6",
            "gridcolor": "white",
            "gridwidth": 2,
            "linecolor": "white",
            "showbackground": true,
            "ticks": "",
            "zerolinecolor": "white"
           },
           "zaxis": {
            "backgroundcolor": "#E5ECF6",
            "gridcolor": "white",
            "gridwidth": 2,
            "linecolor": "white",
            "showbackground": true,
            "ticks": "",
            "zerolinecolor": "white"
           }
          },
          "shapedefaults": {
           "line": {
            "color": "#2a3f5f"
           }
          },
          "ternary": {
           "aaxis": {
            "gridcolor": "white",
            "linecolor": "white",
            "ticks": ""
           },
           "baxis": {
            "gridcolor": "white",
            "linecolor": "white",
            "ticks": ""
           },
           "bgcolor": "#E5ECF6",
           "caxis": {
            "gridcolor": "white",
            "linecolor": "white",
            "ticks": ""
           }
          },
          "title": {
           "x": 0.05
          },
          "xaxis": {
           "automargin": true,
           "gridcolor": "white",
           "linecolor": "white",
           "ticks": "",
           "title": {
            "standoff": 15
           },
           "zerolinecolor": "white",
           "zerolinewidth": 2
          },
          "yaxis": {
           "automargin": true,
           "gridcolor": "white",
           "linecolor": "white",
           "ticks": "",
           "title": {
            "standoff": 15
           },
           "zerolinecolor": "white",
           "zerolinewidth": 2
          }
         }
        },
        "title": {
         "font": {
          "size": 25
         },
         "text": "Razones de correlación de las variables sobre los ejes 2 y 3"
        },
        "width": 800,
        "xaxis": {
         "dtick": 0.05,
         "range": [
          -0.1,
          0.7
         ],
         "tickfont": {
          "size": 15
         },
         "title": {
          "font": {
           "size": 20
          },
          "text": "Componente 2"
         }
        },
        "yaxis": {
         "dtick": 0.05,
         "range": [
          -0.1,
          0.7
         ],
         "tickfont": {
          "size": 15
         },
         "title": {
          "font": {
           "size": 20
          },
          "text": "Componente 3"
         }
        }
       }
      }
     },
     "metadata": {},
     "output_type": "display_data"
    }
   ],
   "source": [
    "# Crear la figura\n",
    "fig = go.Figure()\n",
    "\n",
    "# Agregar la gráfica de dispersión del DataFrame corr_rat usando los ejes Componente 2 y Componente 3\n",
    "fig.add_trace(go.Scatter(x=corr_rat['Componente 2'], y=corr_rat['Componente 3'],\n",
    "                         mode='markers+text', text=corr_rat.index,\n",
    "                         marker=dict(size=6, color='black'),\n",
    "                         textposition='middle right',\n",
    "                         name='Razones de correlación de las variables sobre los ejes 2 y 3',\n",
    "                         textfont=dict(size=15)))\n",
    "\n",
    "# Actualizar el diseño de la figura\n",
    "fig.update_layout(width=800, height=800,\n",
    "                  title='Razones de correlación de las variables sobre los ejes 2 y 3',\n",
    "                  xaxis=dict(dtick=0.05, range=[-0.1,0.7], title='Componente 2',\n",
    "                             title_font=dict(size=20), tickfont=dict(size=15)),\n",
    "                  yaxis=dict(dtick=0.05, range=[-0.1,0.7], title='Componente 3',\n",
    "                             title_font=dict(size=20), tickfont=dict(size=15)),\n",
    "                  title_font=dict(size=25),\n",
    "                  showlegend=False)\n",
    "\n",
    "# Mostrar la figura\n",
    "fig.show()"
   ]
  },
  {
   "attachments": {},
   "cell_type": "markdown",
   "metadata": {},
   "source": [
    "## Elementos suplementarios"
   ]
  },
  {
   "cell_type": "code",
   "execution_count": 39,
   "metadata": {},
   "outputs": [
    {
     "data": {
      "text/html": [
       "<div>\n",
       "<style scoped>\n",
       "    .dataframe tbody tr th:only-of-type {\n",
       "        vertical-align: middle;\n",
       "    }\n",
       "\n",
       "    .dataframe tbody tr th {\n",
       "        vertical-align: top;\n",
       "    }\n",
       "\n",
       "    .dataframe thead th {\n",
       "        text-align: right;\n",
       "    }\n",
       "</style>\n",
       "<table border=\"1\" class=\"dataframe\">\n",
       "  <thead>\n",
       "    <tr style=\"text-align: right;\">\n",
       "      <th></th>\n",
       "      <th>carr</th>\n",
       "      <th>Biol</th>\n",
       "      <th>Esta</th>\n",
       "      <th>Farm</th>\n",
       "      <th>Fisi</th>\n",
       "      <th>Geol</th>\n",
       "      <th>Mate</th>\n",
       "      <th>Quim</th>\n",
       "    </tr>\n",
       "  </thead>\n",
       "  <tbody>\n",
       "    <tr>\n",
       "      <th>0</th>\n",
       "      <td>Biol</td>\n",
       "      <td>1</td>\n",
       "      <td>0</td>\n",
       "      <td>0</td>\n",
       "      <td>0</td>\n",
       "      <td>0</td>\n",
       "      <td>0</td>\n",
       "      <td>0</td>\n",
       "    </tr>\n",
       "    <tr>\n",
       "      <th>1</th>\n",
       "      <td>Biol</td>\n",
       "      <td>1</td>\n",
       "      <td>0</td>\n",
       "      <td>0</td>\n",
       "      <td>0</td>\n",
       "      <td>0</td>\n",
       "      <td>0</td>\n",
       "      <td>0</td>\n",
       "    </tr>\n",
       "    <tr>\n",
       "      <th>2</th>\n",
       "      <td>Biol</td>\n",
       "      <td>1</td>\n",
       "      <td>0</td>\n",
       "      <td>0</td>\n",
       "      <td>0</td>\n",
       "      <td>0</td>\n",
       "      <td>0</td>\n",
       "      <td>0</td>\n",
       "    </tr>\n",
       "    <tr>\n",
       "      <th>3</th>\n",
       "      <td>Biol</td>\n",
       "      <td>1</td>\n",
       "      <td>0</td>\n",
       "      <td>0</td>\n",
       "      <td>0</td>\n",
       "      <td>0</td>\n",
       "      <td>0</td>\n",
       "      <td>0</td>\n",
       "    </tr>\n",
       "    <tr>\n",
       "      <th>4</th>\n",
       "      <td>Biol</td>\n",
       "      <td>1</td>\n",
       "      <td>0</td>\n",
       "      <td>0</td>\n",
       "      <td>0</td>\n",
       "      <td>0</td>\n",
       "      <td>0</td>\n",
       "      <td>0</td>\n",
       "    </tr>\n",
       "  </tbody>\n",
       "</table>\n",
       "</div>"
      ],
      "text/plain": [
       "   carr  Biol  Esta  Farm  Fisi  Geol  Mate  Quim\n",
       "0  Biol     1     0     0     0     0     0     0\n",
       "1  Biol     1     0     0     0     0     0     0\n",
       "2  Biol     1     0     0     0     0     0     0\n",
       "3  Biol     1     0     0     0     0     0     0\n",
       "4  Biol     1     0     0     0     0     0     0"
      ]
     },
     "execution_count": 39,
     "metadata": {},
     "output_type": "execute_result"
    }
   ],
   "source": [
    "# Selección de columnas específicas del DataFrame Y_raw\n",
    "# Columnas seleccionadas: 'carr', 'Biol', 'Esta', 'Farm', 'Fisi', 'Geol', 'Mate', 'Quim'\n",
    "carr = Y_raw.loc[:,['carr','Biol', 'Esta', 'Farm', 'Fisi', 'Geol', 'Mate', 'Quim']]\n",
    "\n",
    "# Vista previa de las primeras filas del DataFrame carr\n",
    "carr.head()"
   ]
  },
  {
   "cell_type": "code",
   "execution_count": 40,
   "metadata": {},
   "outputs": [
    {
     "data": {
      "text/html": [
       "<div>\n",
       "<style scoped>\n",
       "    .dataframe tbody tr th:only-of-type {\n",
       "        vertical-align: middle;\n",
       "    }\n",
       "\n",
       "    .dataframe tbody tr th {\n",
       "        vertical-align: top;\n",
       "    }\n",
       "\n",
       "    .dataframe thead th {\n",
       "        text-align: right;\n",
       "    }\n",
       "</style>\n",
       "<table border=\"1\" class=\"dataframe\">\n",
       "  <thead>\n",
       "    <tr style=\"text-align: right;\">\n",
       "      <th></th>\n",
       "      <th>Biol</th>\n",
       "      <th>Esta</th>\n",
       "      <th>Farm</th>\n",
       "      <th>Fisi</th>\n",
       "      <th>Geol</th>\n",
       "      <th>Mate</th>\n",
       "      <th>Quim</th>\n",
       "    </tr>\n",
       "  </thead>\n",
       "  <tbody>\n",
       "    <tr>\n",
       "      <th>0</th>\n",
       "      <td>1</td>\n",
       "      <td>0</td>\n",
       "      <td>0</td>\n",
       "      <td>0</td>\n",
       "      <td>0</td>\n",
       "      <td>0</td>\n",
       "      <td>0</td>\n",
       "    </tr>\n",
       "    <tr>\n",
       "      <th>1</th>\n",
       "      <td>1</td>\n",
       "      <td>0</td>\n",
       "      <td>0</td>\n",
       "      <td>0</td>\n",
       "      <td>0</td>\n",
       "      <td>0</td>\n",
       "      <td>0</td>\n",
       "    </tr>\n",
       "    <tr>\n",
       "      <th>2</th>\n",
       "      <td>1</td>\n",
       "      <td>0</td>\n",
       "      <td>0</td>\n",
       "      <td>0</td>\n",
       "      <td>0</td>\n",
       "      <td>0</td>\n",
       "      <td>0</td>\n",
       "    </tr>\n",
       "    <tr>\n",
       "      <th>3</th>\n",
       "      <td>1</td>\n",
       "      <td>0</td>\n",
       "      <td>0</td>\n",
       "      <td>0</td>\n",
       "      <td>0</td>\n",
       "      <td>0</td>\n",
       "      <td>0</td>\n",
       "    </tr>\n",
       "    <tr>\n",
       "      <th>4</th>\n",
       "      <td>1</td>\n",
       "      <td>0</td>\n",
       "      <td>0</td>\n",
       "      <td>0</td>\n",
       "      <td>0</td>\n",
       "      <td>0</td>\n",
       "      <td>0</td>\n",
       "    </tr>\n",
       "  </tbody>\n",
       "</table>\n",
       "</div>"
      ],
      "text/plain": [
       "   Biol  Esta  Farm  Fisi  Geol  Mate  Quim\n",
       "0     1     0     0     0     0     0     0\n",
       "1     1     0     0     0     0     0     0\n",
       "2     1     0     0     0     0     0     0\n",
       "3     1     0     0     0     0     0     0\n",
       "4     1     0     0     0     0     0     0"
      ]
     },
     "execution_count": 40,
     "metadata": {},
     "output_type": "execute_result"
    }
   ],
   "source": [
    "# Selección de columnas específicas del DataFrame carr\n",
    "# Columnas seleccionadas: 'Biol', 'Esta', 'Farm', 'Fisi', 'Geol', 'Mate', 'Quim'\n",
    "Z_carr = carr[['Biol','Esta','Farm','Fisi','Geol','Mate','Quim']]\n",
    "\n",
    "# Vista previa de las primeras filas del DataFrame Z_carr\n",
    "Z_carr.head()"
   ]
  },
  {
   "cell_type": "code",
   "execution_count": 41,
   "metadata": {},
   "outputs": [
    {
     "data": {
      "text/html": [
       "<div>\n",
       "<style scoped>\n",
       "    .dataframe tbody tr th:only-of-type {\n",
       "        vertical-align: middle;\n",
       "    }\n",
       "\n",
       "    .dataframe tbody tr th {\n",
       "        vertical-align: top;\n",
       "    }\n",
       "\n",
       "    .dataframe thead th {\n",
       "        text-align: right;\n",
       "    }\n",
       "</style>\n",
       "<table border=\"1\" class=\"dataframe\">\n",
       "  <thead>\n",
       "    <tr style=\"text-align: right;\">\n",
       "      <th></th>\n",
       "      <th>0</th>\n",
       "      <th>1</th>\n",
       "      <th>2</th>\n",
       "      <th>3</th>\n",
       "      <th>4</th>\n",
       "      <th>5</th>\n",
       "      <th>6</th>\n",
       "      <th>7</th>\n",
       "    </tr>\n",
       "  </thead>\n",
       "  <tbody>\n",
       "    <tr>\n",
       "      <th>Biol</th>\n",
       "      <td>0.018234</td>\n",
       "      <td>0.145516</td>\n",
       "      <td>0.067624</td>\n",
       "      <td>0.105336</td>\n",
       "      <td>0.105171</td>\n",
       "      <td>-0.012360</td>\n",
       "      <td>-0.110675</td>\n",
       "      <td>0.202049</td>\n",
       "    </tr>\n",
       "    <tr>\n",
       "      <th>Esta</th>\n",
       "      <td>-0.028989</td>\n",
       "      <td>-0.103706</td>\n",
       "      <td>0.018220</td>\n",
       "      <td>0.048353</td>\n",
       "      <td>-0.139245</td>\n",
       "      <td>-0.073012</td>\n",
       "      <td>0.020556</td>\n",
       "      <td>-0.266394</td>\n",
       "    </tr>\n",
       "    <tr>\n",
       "      <th>Farm</th>\n",
       "      <td>-0.167754</td>\n",
       "      <td>0.197705</td>\n",
       "      <td>-0.392484</td>\n",
       "      <td>0.321936</td>\n",
       "      <td>0.116477</td>\n",
       "      <td>-0.007801</td>\n",
       "      <td>-0.323876</td>\n",
       "      <td>-0.095436</td>\n",
       "    </tr>\n",
       "    <tr>\n",
       "      <th>Fisi</th>\n",
       "      <td>-0.094701</td>\n",
       "      <td>-0.029141</td>\n",
       "      <td>0.126517</td>\n",
       "      <td>-0.203833</td>\n",
       "      <td>0.075708</td>\n",
       "      <td>-0.108546</td>\n",
       "      <td>0.219167</td>\n",
       "      <td>0.072781</td>\n",
       "    </tr>\n",
       "    <tr>\n",
       "      <th>Geol</th>\n",
       "      <td>0.040216</td>\n",
       "      <td>0.076405</td>\n",
       "      <td>0.635285</td>\n",
       "      <td>-0.326797</td>\n",
       "      <td>0.047158</td>\n",
       "      <td>0.103181</td>\n",
       "      <td>-0.094607</td>\n",
       "      <td>-0.060513</td>\n",
       "    </tr>\n",
       "  </tbody>\n",
       "</table>\n",
       "</div>"
      ],
      "text/plain": [
       "             0         1         2         3         4         5         6  \\\n",
       "Biol  0.018234  0.145516  0.067624  0.105336  0.105171 -0.012360 -0.110675   \n",
       "Esta -0.028989 -0.103706  0.018220  0.048353 -0.139245 -0.073012  0.020556   \n",
       "Farm -0.167754  0.197705 -0.392484  0.321936  0.116477 -0.007801 -0.323876   \n",
       "Fisi -0.094701 -0.029141  0.126517 -0.203833  0.075708 -0.108546  0.219167   \n",
       "Geol  0.040216  0.076405  0.635285 -0.326797  0.047158  0.103181 -0.094607   \n",
       "\n",
       "             7  \n",
       "Biol  0.202049  \n",
       "Esta -0.266394  \n",
       "Farm -0.095436  \n",
       "Fisi  0.072781  \n",
       "Geol -0.060513  "
      ]
     },
     "execution_count": 41,
     "metadata": {},
     "output_type": "execute_result"
    }
   ],
   "source": [
    "# Cálculo de las coordenadas de las columnas en el espacio de componentes principales utilizando MCA\n",
    "column_coordinates_Z_carr = mca_Z.column_coordinates(Z_carr)\n",
    "\n",
    "# Vista previa de las primeras filas del DataFrame column_coordinates_Z_carr\n",
    "column_coordinates_Z_carr.head()"
   ]
  },
  {
   "cell_type": "code",
   "execution_count": 42,
   "metadata": {},
   "outputs": [
    {
     "data": {
      "text/html": [
       "<div>\n",
       "<style scoped>\n",
       "    .dataframe tbody tr th:only-of-type {\n",
       "        vertical-align: middle;\n",
       "    }\n",
       "\n",
       "    .dataframe tbody tr th {\n",
       "        vertical-align: top;\n",
       "    }\n",
       "\n",
       "    .dataframe thead th {\n",
       "        text-align: right;\n",
       "    }\n",
       "</style>\n",
       "<table border=\"1\" class=\"dataframe\">\n",
       "  <thead>\n",
       "    <tr style=\"text-align: right;\">\n",
       "      <th></th>\n",
       "      <th>Componente 1</th>\n",
       "      <th>Componente 2</th>\n",
       "      <th>Componente 3</th>\n",
       "      <th>Componente 4</th>\n",
       "      <th>Componente 5</th>\n",
       "      <th>Componente 6</th>\n",
       "      <th>Componente 7</th>\n",
       "      <th>Componente 8</th>\n",
       "    </tr>\n",
       "  </thead>\n",
       "  <tbody>\n",
       "    <tr>\n",
       "      <th>Biol</th>\n",
       "      <td>0.018234</td>\n",
       "      <td>0.145516</td>\n",
       "      <td>0.067624</td>\n",
       "      <td>0.105336</td>\n",
       "      <td>0.105171</td>\n",
       "      <td>-0.012360</td>\n",
       "      <td>-0.110675</td>\n",
       "      <td>0.202049</td>\n",
       "    </tr>\n",
       "    <tr>\n",
       "      <th>Esta</th>\n",
       "      <td>-0.028989</td>\n",
       "      <td>-0.103706</td>\n",
       "      <td>0.018220</td>\n",
       "      <td>0.048353</td>\n",
       "      <td>-0.139245</td>\n",
       "      <td>-0.073012</td>\n",
       "      <td>0.020556</td>\n",
       "      <td>-0.266394</td>\n",
       "    </tr>\n",
       "    <tr>\n",
       "      <th>Farm</th>\n",
       "      <td>-0.167754</td>\n",
       "      <td>0.197705</td>\n",
       "      <td>-0.392484</td>\n",
       "      <td>0.321936</td>\n",
       "      <td>0.116477</td>\n",
       "      <td>-0.007801</td>\n",
       "      <td>-0.323876</td>\n",
       "      <td>-0.095436</td>\n",
       "    </tr>\n",
       "    <tr>\n",
       "      <th>Fisi</th>\n",
       "      <td>-0.094701</td>\n",
       "      <td>-0.029141</td>\n",
       "      <td>0.126517</td>\n",
       "      <td>-0.203833</td>\n",
       "      <td>0.075708</td>\n",
       "      <td>-0.108546</td>\n",
       "      <td>0.219167</td>\n",
       "      <td>0.072781</td>\n",
       "    </tr>\n",
       "    <tr>\n",
       "      <th>Geol</th>\n",
       "      <td>0.040216</td>\n",
       "      <td>0.076405</td>\n",
       "      <td>0.635285</td>\n",
       "      <td>-0.326797</td>\n",
       "      <td>0.047158</td>\n",
       "      <td>0.103181</td>\n",
       "      <td>-0.094607</td>\n",
       "      <td>-0.060513</td>\n",
       "    </tr>\n",
       "    <tr>\n",
       "      <th>Mate</th>\n",
       "      <td>0.049945</td>\n",
       "      <td>-0.461958</td>\n",
       "      <td>-0.112130</td>\n",
       "      <td>-0.188788</td>\n",
       "      <td>-0.247928</td>\n",
       "      <td>0.011462</td>\n",
       "      <td>0.163400</td>\n",
       "      <td>0.201561</td>\n",
       "    </tr>\n",
       "    <tr>\n",
       "      <th>Quim</th>\n",
       "      <td>0.259035</td>\n",
       "      <td>0.106028</td>\n",
       "      <td>-0.156046</td>\n",
       "      <td>0.128527</td>\n",
       "      <td>-0.017912</td>\n",
       "      <td>0.155827</td>\n",
       "      <td>0.109273</td>\n",
       "      <td>-0.033460</td>\n",
       "    </tr>\n",
       "  </tbody>\n",
       "</table>\n",
       "</div>"
      ],
      "text/plain": [
       "      Componente 1  Componente 2  Componente 3  Componente 4  Componente 5  \\\n",
       "Biol      0.018234      0.145516      0.067624      0.105336      0.105171   \n",
       "Esta     -0.028989     -0.103706      0.018220      0.048353     -0.139245   \n",
       "Farm     -0.167754      0.197705     -0.392484      0.321936      0.116477   \n",
       "Fisi     -0.094701     -0.029141      0.126517     -0.203833      0.075708   \n",
       "Geol      0.040216      0.076405      0.635285     -0.326797      0.047158   \n",
       "Mate      0.049945     -0.461958     -0.112130     -0.188788     -0.247928   \n",
       "Quim      0.259035      0.106028     -0.156046      0.128527     -0.017912   \n",
       "\n",
       "      Componente 6  Componente 7  Componente 8  \n",
       "Biol     -0.012360     -0.110675      0.202049  \n",
       "Esta     -0.073012      0.020556     -0.266394  \n",
       "Farm     -0.007801     -0.323876     -0.095436  \n",
       "Fisi     -0.108546      0.219167      0.072781  \n",
       "Geol      0.103181     -0.094607     -0.060513  \n",
       "Mate      0.011462      0.163400      0.201561  \n",
       "Quim      0.155827      0.109273     -0.033460  "
      ]
     },
     "execution_count": 42,
     "metadata": {},
     "output_type": "execute_result"
    }
   ],
   "source": [
    "# Asignación de nombres a las filas y columnas del DataFrame column_coordinates_Z_carr\n",
    "row_names = column_coordinates_Z_carr.index\n",
    "column_names = [f\"Componente {i+1}\" for i in range(column_coordinates_Z_carr.shape[1])]\n",
    "column_coordinates_Z_carr = pd.DataFrame(data=column_coordinates_Z_carr.values, index=row_names, columns=column_names)\n",
    "\n",
    "# Vista previa del DataFrame column_coordinates_Z_carr con los nombres de filas y columnas asignados\n",
    "column_coordinates_Z_carr"
   ]
  },
  {
   "attachments": {},
   "cell_type": "markdown",
   "metadata": {},
   "source": [
    "### Valores test de las carreras"
   ]
  },
  {
   "cell_type": "code",
   "execution_count": 43,
   "metadata": {},
   "outputs": [
    {
     "data": {
      "text/html": [
       "<div>\n",
       "<style scoped>\n",
       "    .dataframe tbody tr th:only-of-type {\n",
       "        vertical-align: middle;\n",
       "    }\n",
       "\n",
       "    .dataframe tbody tr th {\n",
       "        vertical-align: top;\n",
       "    }\n",
       "\n",
       "    .dataframe thead th {\n",
       "        text-align: right;\n",
       "    }\n",
       "</style>\n",
       "<table border=\"1\" class=\"dataframe\">\n",
       "  <thead>\n",
       "    <tr style=\"text-align: right;\">\n",
       "      <th></th>\n",
       "      <th>carr</th>\n",
       "      <th>nCarr</th>\n",
       "    </tr>\n",
       "  </thead>\n",
       "  <tbody>\n",
       "    <tr>\n",
       "      <th>0</th>\n",
       "      <td>Fisi</td>\n",
       "      <td>82</td>\n",
       "    </tr>\n",
       "    <tr>\n",
       "      <th>1</th>\n",
       "      <td>Farm</td>\n",
       "      <td>73</td>\n",
       "    </tr>\n",
       "    <tr>\n",
       "      <th>2</th>\n",
       "      <td>Esta</td>\n",
       "      <td>66</td>\n",
       "    </tr>\n",
       "    <tr>\n",
       "      <th>3</th>\n",
       "      <td>Biol</td>\n",
       "      <td>63</td>\n",
       "    </tr>\n",
       "    <tr>\n",
       "      <th>4</th>\n",
       "      <td>Quim</td>\n",
       "      <td>63</td>\n",
       "    </tr>\n",
       "    <tr>\n",
       "      <th>5</th>\n",
       "      <td>Mate</td>\n",
       "      <td>53</td>\n",
       "    </tr>\n",
       "    <tr>\n",
       "      <th>6</th>\n",
       "      <td>Geol</td>\n",
       "      <td>45</td>\n",
       "    </tr>\n",
       "  </tbody>\n",
       "</table>\n",
       "</div>"
      ],
      "text/plain": [
       "   carr  nCarr\n",
       "0  Fisi     82\n",
       "1  Farm     73\n",
       "2  Esta     66\n",
       "3  Biol     63\n",
       "4  Quim     63\n",
       "5  Mate     53\n",
       "6  Geol     45"
      ]
     },
     "execution_count": 43,
     "metadata": {},
     "output_type": "execute_result"
    }
   ],
   "source": [
    "# Creación de un DataFrame nCarr con el conteo de valores únicos en la columna 'carr' de admi\n",
    "nCarr = admi['carr'].value_counts().to_frame().reset_index()\n",
    "\n",
    "# Renombrar las columnas del DataFrame nCarr\n",
    "nCarr.columns = ['carr', 'nCarr']\n",
    "\n",
    "# Vista previa del DataFrame nCarr con las columnas renombradas\n",
    "nCarr"
   ]
  },
  {
   "attachments": {},
   "cell_type": "markdown",
   "metadata": {},
   "source": [
    "### Valores test de cada carrera para la Componente 1"
   ]
  },
  {
   "cell_type": "code",
   "execution_count": 44,
   "metadata": {},
   "outputs": [],
   "source": [
    "# Creación de un diccionario vt_comp1_dict para almacenar los valores transformados del componente 1 para cada 'carr'\n",
    "vt_comp1_dict = {}\n",
    "\n",
    "# Iteración sobre cada 'carr' en orden ascendente\n",
    "for carr in sorted(nCarr['carr']):\n",
    "    # Obtención del valor de 'nCarr' para la 'carr' actual\n",
    "    n = nCarr.loc[nCarr['carr'] == carr, 'nCarr'].values[0]\n",
    "    # Cálculo del valor transformado del componente 1 para la 'carr' actual\n",
    "    vt_comp1_dict[carr] = np.sqrt(n*(admi.shape[0]-1)/(admi.shape[0]-n)) * column_coordinates_Z_carr.loc[carr, 'Componente 1']\n",
    "\n",
    "# Creación de un DataFrame vt_comp1 a partir del diccionario vt_comp1_dict\n",
    "vt_comp1 = pd.DataFrame.from_dict(vt_comp1_dict, orient='index', columns=['VT1'])"
   ]
  },
  {
   "attachments": {},
   "cell_type": "markdown",
   "metadata": {},
   "source": [
    "### Valores test de cada carrera para la Componente 2"
   ]
  },
  {
   "cell_type": "code",
   "execution_count": 45,
   "metadata": {},
   "outputs": [],
   "source": [
    "# Creación de un diccionario vt_comp1_dict para almacenar los valores transformados del componente 1 para cada 'carr'\n",
    "vt_comp2_dict = {}\n",
    "\n",
    "# Iteración sobre cada 'carr' en orden ascendente\n",
    "for carr in sorted(nCarr['carr']):\n",
    "    # Obtención del valor de 'nCarr' para la 'carr' actual\n",
    "    n = nCarr.loc[nCarr['carr'] == carr, 'nCarr'].values[0]\n",
    "    # Cálculo del valor transformado del componente 2 para la 'carr' actual\n",
    "    vt_comp1_dict[carr] = np.sqrt(n*(admi.shape[0]-1)/(admi.shape[0]-n)) * column_coordinates_Z_carr.loc[carr, 'Componente 2']\n",
    "\n",
    "# Creación de un DataFrame vt_comp2 a partir del diccionario vt_comp2_dict\n",
    "vt_comp2 = pd.DataFrame.from_dict(vt_comp1_dict, orient='index', columns=['VT2'])"
   ]
  },
  {
   "attachments": {},
   "cell_type": "markdown",
   "metadata": {},
   "source": [
    "### Valores test de cada carrera para la Componente 3"
   ]
  },
  {
   "cell_type": "code",
   "execution_count": 46,
   "metadata": {},
   "outputs": [],
   "source": [
    "# Creación de un diccionario vt_comp1_dict para almacenar los valores transformados del componente 1 para cada 'carr'\n",
    "vt_comp3_dict = {}\n",
    "\n",
    "# Iteración sobre cada 'carr' en orden ascendente\n",
    "for carr in sorted(nCarr['carr']):\n",
    "    # Obtención del valor de 'nCarr' para la 'carr' actual\n",
    "    n = nCarr.loc[nCarr['carr'] == carr, 'nCarr'].values[0]\n",
    "    # Cálculo del valor transformado del componente 3 para la 'carr' actual\n",
    "    vt_comp1_dict[carr] = np.sqrt(n*(admi.shape[0]-1)/(admi.shape[0]-n)) * column_coordinates_Z_carr.loc[carr, 'Componente 3']\n",
    "\n",
    "# Creación de un DataFrame vt_comp3 a partir del diccionario vt_comp3_dict\n",
    "vt_comp3 = pd.DataFrame.from_dict(vt_comp1_dict, orient='index', columns=['VT3'])"
   ]
  },
  {
   "attachments": {},
   "cell_type": "markdown",
   "metadata": {},
   "source": [
    "### Tabla de coordenadas y ayudas para la interpretación de las categorías suplementarias"
   ]
  },
  {
   "cell_type": "code",
   "execution_count": 47,
   "metadata": {},
   "outputs": [
    {
     "data": {
      "text/html": [
       "<div>\n",
       "<style scoped>\n",
       "    .dataframe tbody tr th:only-of-type {\n",
       "        vertical-align: middle;\n",
       "    }\n",
       "\n",
       "    .dataframe tbody tr th {\n",
       "        vertical-align: top;\n",
       "    }\n",
       "\n",
       "    .dataframe thead th {\n",
       "        text-align: right;\n",
       "    }\n",
       "</style>\n",
       "<table border=\"1\" class=\"dataframe\">\n",
       "  <thead>\n",
       "    <tr style=\"text-align: right;\">\n",
       "      <th></th>\n",
       "      <th>Componente 1</th>\n",
       "      <th>Componente 2</th>\n",
       "      <th>Componente 3</th>\n",
       "      <th>VT1</th>\n",
       "      <th>VT2</th>\n",
       "      <th>VT3</th>\n",
       "    </tr>\n",
       "  </thead>\n",
       "  <tbody>\n",
       "    <tr>\n",
       "      <th>Biol</th>\n",
       "      <td>0.018</td>\n",
       "      <td>0.146</td>\n",
       "      <td>0.068</td>\n",
       "      <td>0.156</td>\n",
       "      <td>1.245</td>\n",
       "      <td>0.579</td>\n",
       "    </tr>\n",
       "    <tr>\n",
       "      <th>Esta</th>\n",
       "      <td>-0.029</td>\n",
       "      <td>-0.104</td>\n",
       "      <td>0.018</td>\n",
       "      <td>-0.255</td>\n",
       "      <td>-0.912</td>\n",
       "      <td>0.160</td>\n",
       "    </tr>\n",
       "    <tr>\n",
       "      <th>Farm</th>\n",
       "      <td>-0.168</td>\n",
       "      <td>0.198</td>\n",
       "      <td>-0.392</td>\n",
       "      <td>-1.566</td>\n",
       "      <td>1.845</td>\n",
       "      <td>-3.664</td>\n",
       "    </tr>\n",
       "    <tr>\n",
       "      <th>Fisi</th>\n",
       "      <td>-0.095</td>\n",
       "      <td>-0.029</td>\n",
       "      <td>0.127</td>\n",
       "      <td>-0.948</td>\n",
       "      <td>-0.292</td>\n",
       "      <td>1.267</td>\n",
       "    </tr>\n",
       "    <tr>\n",
       "      <th>Geol</th>\n",
       "      <td>0.040</td>\n",
       "      <td>0.076</td>\n",
       "      <td>0.635</td>\n",
       "      <td>0.284</td>\n",
       "      <td>0.540</td>\n",
       "      <td>4.490</td>\n",
       "    </tr>\n",
       "    <tr>\n",
       "      <th>Mate</th>\n",
       "      <td>0.050</td>\n",
       "      <td>-0.462</td>\n",
       "      <td>-0.112</td>\n",
       "      <td>0.387</td>\n",
       "      <td>-3.579</td>\n",
       "      <td>-0.869</td>\n",
       "    </tr>\n",
       "    <tr>\n",
       "      <th>Quim</th>\n",
       "      <td>0.259</td>\n",
       "      <td>0.106</td>\n",
       "      <td>-0.156</td>\n",
       "      <td>2.217</td>\n",
       "      <td>0.907</td>\n",
       "      <td>-1.335</td>\n",
       "    </tr>\n",
       "  </tbody>\n",
       "</table>\n",
       "</div>"
      ],
      "text/plain": [
       "      Componente 1  Componente 2  Componente 3    VT1    VT2    VT3\n",
       "Biol         0.018         0.146         0.068  0.156  1.245  0.579\n",
       "Esta        -0.029        -0.104         0.018 -0.255 -0.912  0.160\n",
       "Farm        -0.168         0.198        -0.392 -1.566  1.845 -3.664\n",
       "Fisi        -0.095        -0.029         0.127 -0.948 -0.292  1.267\n",
       "Geol         0.040         0.076         0.635  0.284  0.540  4.490\n",
       "Mate         0.050        -0.462        -0.112  0.387 -3.579 -0.869\n",
       "Quim         0.259         0.106        -0.156  2.217  0.907 -1.335"
      ]
     },
     "execution_count": 47,
     "metadata": {},
     "output_type": "execute_result"
    }
   ],
   "source": [
    "# Creación de un nuevo DataFrame help_columns_Z_carr a partir de la concatenación de column_coordinates_Z_carr\n",
    "# con vt_comp1, vt_comp2 y vt_comp3\n",
    "help_columns_Z_carr = pd.concat([column_coordinates_Z_carr.iloc[:,:3],\n",
    "                            vt_comp1, vt_comp2, vt_comp3],\n",
    "                            axis=1)\n",
    "# Redondear los valores del DataFrame a 3 decimales\n",
    "help_columns_Z_carr.round(3)"
   ]
  },
  {
   "attachments": {},
   "cell_type": "markdown",
   "metadata": {},
   "source": [
    "### Proyección de las carreras sobre el plano factorial 1-2"
   ]
  },
  {
   "cell_type": "code",
   "execution_count": 48,
   "metadata": {},
   "outputs": [
    {
     "data": {
      "application/vnd.plotly.v1+json": {
       "config": {
        "plotlyServerURL": "https://plot.ly"
       },
       "data": [
        {
         "marker": {
          "color": [
           "blue",
           "blue",
           "green",
           "green",
           "green",
           "green",
           "orange",
           "orange",
           "orange",
           "red",
           "red",
           "red"
          ],
          "size": 6
         },
         "mode": "markers+text",
         "name": "Nube de categorías",
         "text": [
          "F",
          "M",
          "16-",
          "17",
          "18",
          "19+",
          "al",
          "ba",
          "me",
          "Bo",
          "Cu",
          "Ot"
         ],
         "textfont": {
          "size": 15
         },
         "textposition": "middle right",
         "type": "scatter",
         "x": [
          -0.12921349205173985,
          0.05217453306821066,
          0.392573814392091,
          -0.1851203986432087,
          -0.7490799241082181,
          0.272803538197823,
          -0.5359047285058122,
          0.9311254907436116,
          -0.6662874585628954,
          -0.5090711089869832,
          0.8759219710900211,
          1.302459166599281
         ],
         "y": [
          0.8898643897078352,
          -0.3593143277053716,
          1.0661886451364055,
          0.031211118328702298,
          -0.13524945063908048,
          -1.2357339212451548,
          0.7754927738009828,
          -0.31281117973851674,
          -0.036874127052351484,
          -0.12729253026534598,
          -0.6068443432716941,
          0.6525839787171561
         ]
        },
        {
         "marker": {
          "color": "black",
          "size": 6
         },
         "mode": "markers+text",
         "name": "Nube de carreras",
         "text": [
          "Biol",
          "Esta",
          "Farm",
          "Fisi",
          "Geol",
          "Mate",
          "Quim"
         ],
         "textfont": {
          "size": 15
         },
         "textposition": "middle right",
         "type": "scatter",
         "x": [
          0.018234475404987214,
          -0.028988996082605877,
          -0.16775417987623978,
          -0.0947011064055096,
          0.04021647330233574,
          0.04994544400196115,
          0.25903488597533464
         ],
         "y": [
          0.1455159106537424,
          -0.10370634596048671,
          0.19770460104239848,
          -0.029140786472355976,
          0.07640523530169008,
          -0.4619583172002722,
          0.10602825872829885
         ]
        }
       ],
       "layout": {
        "height": 800,
        "showlegend": false,
        "template": {
         "data": {
          "bar": [
           {
            "error_x": {
             "color": "#2a3f5f"
            },
            "error_y": {
             "color": "#2a3f5f"
            },
            "marker": {
             "line": {
              "color": "#E5ECF6",
              "width": 0.5
             },
             "pattern": {
              "fillmode": "overlay",
              "size": 10,
              "solidity": 0.2
             }
            },
            "type": "bar"
           }
          ],
          "barpolar": [
           {
            "marker": {
             "line": {
              "color": "#E5ECF6",
              "width": 0.5
             },
             "pattern": {
              "fillmode": "overlay",
              "size": 10,
              "solidity": 0.2
             }
            },
            "type": "barpolar"
           }
          ],
          "carpet": [
           {
            "aaxis": {
             "endlinecolor": "#2a3f5f",
             "gridcolor": "white",
             "linecolor": "white",
             "minorgridcolor": "white",
             "startlinecolor": "#2a3f5f"
            },
            "baxis": {
             "endlinecolor": "#2a3f5f",
             "gridcolor": "white",
             "linecolor": "white",
             "minorgridcolor": "white",
             "startlinecolor": "#2a3f5f"
            },
            "type": "carpet"
           }
          ],
          "choropleth": [
           {
            "colorbar": {
             "outlinewidth": 0,
             "ticks": ""
            },
            "type": "choropleth"
           }
          ],
          "contour": [
           {
            "colorbar": {
             "outlinewidth": 0,
             "ticks": ""
            },
            "colorscale": [
             [
              0,
              "#0d0887"
             ],
             [
              0.1111111111111111,
              "#46039f"
             ],
             [
              0.2222222222222222,
              "#7201a8"
             ],
             [
              0.3333333333333333,
              "#9c179e"
             ],
             [
              0.4444444444444444,
              "#bd3786"
             ],
             [
              0.5555555555555556,
              "#d8576b"
             ],
             [
              0.6666666666666666,
              "#ed7953"
             ],
             [
              0.7777777777777778,
              "#fb9f3a"
             ],
             [
              0.8888888888888888,
              "#fdca26"
             ],
             [
              1,
              "#f0f921"
             ]
            ],
            "type": "contour"
           }
          ],
          "contourcarpet": [
           {
            "colorbar": {
             "outlinewidth": 0,
             "ticks": ""
            },
            "type": "contourcarpet"
           }
          ],
          "heatmap": [
           {
            "colorbar": {
             "outlinewidth": 0,
             "ticks": ""
            },
            "colorscale": [
             [
              0,
              "#0d0887"
             ],
             [
              0.1111111111111111,
              "#46039f"
             ],
             [
              0.2222222222222222,
              "#7201a8"
             ],
             [
              0.3333333333333333,
              "#9c179e"
             ],
             [
              0.4444444444444444,
              "#bd3786"
             ],
             [
              0.5555555555555556,
              "#d8576b"
             ],
             [
              0.6666666666666666,
              "#ed7953"
             ],
             [
              0.7777777777777778,
              "#fb9f3a"
             ],
             [
              0.8888888888888888,
              "#fdca26"
             ],
             [
              1,
              "#f0f921"
             ]
            ],
            "type": "heatmap"
           }
          ],
          "heatmapgl": [
           {
            "colorbar": {
             "outlinewidth": 0,
             "ticks": ""
            },
            "colorscale": [
             [
              0,
              "#0d0887"
             ],
             [
              0.1111111111111111,
              "#46039f"
             ],
             [
              0.2222222222222222,
              "#7201a8"
             ],
             [
              0.3333333333333333,
              "#9c179e"
             ],
             [
              0.4444444444444444,
              "#bd3786"
             ],
             [
              0.5555555555555556,
              "#d8576b"
             ],
             [
              0.6666666666666666,
              "#ed7953"
             ],
             [
              0.7777777777777778,
              "#fb9f3a"
             ],
             [
              0.8888888888888888,
              "#fdca26"
             ],
             [
              1,
              "#f0f921"
             ]
            ],
            "type": "heatmapgl"
           }
          ],
          "histogram": [
           {
            "marker": {
             "pattern": {
              "fillmode": "overlay",
              "size": 10,
              "solidity": 0.2
             }
            },
            "type": "histogram"
           }
          ],
          "histogram2d": [
           {
            "colorbar": {
             "outlinewidth": 0,
             "ticks": ""
            },
            "colorscale": [
             [
              0,
              "#0d0887"
             ],
             [
              0.1111111111111111,
              "#46039f"
             ],
             [
              0.2222222222222222,
              "#7201a8"
             ],
             [
              0.3333333333333333,
              "#9c179e"
             ],
             [
              0.4444444444444444,
              "#bd3786"
             ],
             [
              0.5555555555555556,
              "#d8576b"
             ],
             [
              0.6666666666666666,
              "#ed7953"
             ],
             [
              0.7777777777777778,
              "#fb9f3a"
             ],
             [
              0.8888888888888888,
              "#fdca26"
             ],
             [
              1,
              "#f0f921"
             ]
            ],
            "type": "histogram2d"
           }
          ],
          "histogram2dcontour": [
           {
            "colorbar": {
             "outlinewidth": 0,
             "ticks": ""
            },
            "colorscale": [
             [
              0,
              "#0d0887"
             ],
             [
              0.1111111111111111,
              "#46039f"
             ],
             [
              0.2222222222222222,
              "#7201a8"
             ],
             [
              0.3333333333333333,
              "#9c179e"
             ],
             [
              0.4444444444444444,
              "#bd3786"
             ],
             [
              0.5555555555555556,
              "#d8576b"
             ],
             [
              0.6666666666666666,
              "#ed7953"
             ],
             [
              0.7777777777777778,
              "#fb9f3a"
             ],
             [
              0.8888888888888888,
              "#fdca26"
             ],
             [
              1,
              "#f0f921"
             ]
            ],
            "type": "histogram2dcontour"
           }
          ],
          "mesh3d": [
           {
            "colorbar": {
             "outlinewidth": 0,
             "ticks": ""
            },
            "type": "mesh3d"
           }
          ],
          "parcoords": [
           {
            "line": {
             "colorbar": {
              "outlinewidth": 0,
              "ticks": ""
             }
            },
            "type": "parcoords"
           }
          ],
          "pie": [
           {
            "automargin": true,
            "type": "pie"
           }
          ],
          "scatter": [
           {
            "fillpattern": {
             "fillmode": "overlay",
             "size": 10,
             "solidity": 0.2
            },
            "type": "scatter"
           }
          ],
          "scatter3d": [
           {
            "line": {
             "colorbar": {
              "outlinewidth": 0,
              "ticks": ""
             }
            },
            "marker": {
             "colorbar": {
              "outlinewidth": 0,
              "ticks": ""
             }
            },
            "type": "scatter3d"
           }
          ],
          "scattercarpet": [
           {
            "marker": {
             "colorbar": {
              "outlinewidth": 0,
              "ticks": ""
             }
            },
            "type": "scattercarpet"
           }
          ],
          "scattergeo": [
           {
            "marker": {
             "colorbar": {
              "outlinewidth": 0,
              "ticks": ""
             }
            },
            "type": "scattergeo"
           }
          ],
          "scattergl": [
           {
            "marker": {
             "colorbar": {
              "outlinewidth": 0,
              "ticks": ""
             }
            },
            "type": "scattergl"
           }
          ],
          "scattermapbox": [
           {
            "marker": {
             "colorbar": {
              "outlinewidth": 0,
              "ticks": ""
             }
            },
            "type": "scattermapbox"
           }
          ],
          "scatterpolar": [
           {
            "marker": {
             "colorbar": {
              "outlinewidth": 0,
              "ticks": ""
             }
            },
            "type": "scatterpolar"
           }
          ],
          "scatterpolargl": [
           {
            "marker": {
             "colorbar": {
              "outlinewidth": 0,
              "ticks": ""
             }
            },
            "type": "scatterpolargl"
           }
          ],
          "scatterternary": [
           {
            "marker": {
             "colorbar": {
              "outlinewidth": 0,
              "ticks": ""
             }
            },
            "type": "scatterternary"
           }
          ],
          "surface": [
           {
            "colorbar": {
             "outlinewidth": 0,
             "ticks": ""
            },
            "colorscale": [
             [
              0,
              "#0d0887"
             ],
             [
              0.1111111111111111,
              "#46039f"
             ],
             [
              0.2222222222222222,
              "#7201a8"
             ],
             [
              0.3333333333333333,
              "#9c179e"
             ],
             [
              0.4444444444444444,
              "#bd3786"
             ],
             [
              0.5555555555555556,
              "#d8576b"
             ],
             [
              0.6666666666666666,
              "#ed7953"
             ],
             [
              0.7777777777777778,
              "#fb9f3a"
             ],
             [
              0.8888888888888888,
              "#fdca26"
             ],
             [
              1,
              "#f0f921"
             ]
            ],
            "type": "surface"
           }
          ],
          "table": [
           {
            "cells": {
             "fill": {
              "color": "#EBF0F8"
             },
             "line": {
              "color": "white"
             }
            },
            "header": {
             "fill": {
              "color": "#C8D4E3"
             },
             "line": {
              "color": "white"
             }
            },
            "type": "table"
           }
          ]
         },
         "layout": {
          "annotationdefaults": {
           "arrowcolor": "#2a3f5f",
           "arrowhead": 0,
           "arrowwidth": 1
          },
          "autotypenumbers": "strict",
          "coloraxis": {
           "colorbar": {
            "outlinewidth": 0,
            "ticks": ""
           }
          },
          "colorscale": {
           "diverging": [
            [
             0,
             "#8e0152"
            ],
            [
             0.1,
             "#c51b7d"
            ],
            [
             0.2,
             "#de77ae"
            ],
            [
             0.3,
             "#f1b6da"
            ],
            [
             0.4,
             "#fde0ef"
            ],
            [
             0.5,
             "#f7f7f7"
            ],
            [
             0.6,
             "#e6f5d0"
            ],
            [
             0.7,
             "#b8e186"
            ],
            [
             0.8,
             "#7fbc41"
            ],
            [
             0.9,
             "#4d9221"
            ],
            [
             1,
             "#276419"
            ]
           ],
           "sequential": [
            [
             0,
             "#0d0887"
            ],
            [
             0.1111111111111111,
             "#46039f"
            ],
            [
             0.2222222222222222,
             "#7201a8"
            ],
            [
             0.3333333333333333,
             "#9c179e"
            ],
            [
             0.4444444444444444,
             "#bd3786"
            ],
            [
             0.5555555555555556,
             "#d8576b"
            ],
            [
             0.6666666666666666,
             "#ed7953"
            ],
            [
             0.7777777777777778,
             "#fb9f3a"
            ],
            [
             0.8888888888888888,
             "#fdca26"
            ],
            [
             1,
             "#f0f921"
            ]
           ],
           "sequentialminus": [
            [
             0,
             "#0d0887"
            ],
            [
             0.1111111111111111,
             "#46039f"
            ],
            [
             0.2222222222222222,
             "#7201a8"
            ],
            [
             0.3333333333333333,
             "#9c179e"
            ],
            [
             0.4444444444444444,
             "#bd3786"
            ],
            [
             0.5555555555555556,
             "#d8576b"
            ],
            [
             0.6666666666666666,
             "#ed7953"
            ],
            [
             0.7777777777777778,
             "#fb9f3a"
            ],
            [
             0.8888888888888888,
             "#fdca26"
            ],
            [
             1,
             "#f0f921"
            ]
           ]
          },
          "colorway": [
           "#636efa",
           "#EF553B",
           "#00cc96",
           "#ab63fa",
           "#FFA15A",
           "#19d3f3",
           "#FF6692",
           "#B6E880",
           "#FF97FF",
           "#FECB52"
          ],
          "font": {
           "color": "#2a3f5f"
          },
          "geo": {
           "bgcolor": "white",
           "lakecolor": "white",
           "landcolor": "#E5ECF6",
           "showlakes": true,
           "showland": true,
           "subunitcolor": "white"
          },
          "hoverlabel": {
           "align": "left"
          },
          "hovermode": "closest",
          "mapbox": {
           "style": "light"
          },
          "paper_bgcolor": "white",
          "plot_bgcolor": "#E5ECF6",
          "polar": {
           "angularaxis": {
            "gridcolor": "white",
            "linecolor": "white",
            "ticks": ""
           },
           "bgcolor": "#E5ECF6",
           "radialaxis": {
            "gridcolor": "white",
            "linecolor": "white",
            "ticks": ""
           }
          },
          "scene": {
           "xaxis": {
            "backgroundcolor": "#E5ECF6",
            "gridcolor": "white",
            "gridwidth": 2,
            "linecolor": "white",
            "showbackground": true,
            "ticks": "",
            "zerolinecolor": "white"
           },
           "yaxis": {
            "backgroundcolor": "#E5ECF6",
            "gridcolor": "white",
            "gridwidth": 2,
            "linecolor": "white",
            "showbackground": true,
            "ticks": "",
            "zerolinecolor": "white"
           },
           "zaxis": {
            "backgroundcolor": "#E5ECF6",
            "gridcolor": "white",
            "gridwidth": 2,
            "linecolor": "white",
            "showbackground": true,
            "ticks": "",
            "zerolinecolor": "white"
           }
          },
          "shapedefaults": {
           "line": {
            "color": "#2a3f5f"
           }
          },
          "ternary": {
           "aaxis": {
            "gridcolor": "white",
            "linecolor": "white",
            "ticks": ""
           },
           "baxis": {
            "gridcolor": "white",
            "linecolor": "white",
            "ticks": ""
           },
           "bgcolor": "#E5ECF6",
           "caxis": {
            "gridcolor": "white",
            "linecolor": "white",
            "ticks": ""
           }
          },
          "title": {
           "x": 0.05
          },
          "xaxis": {
           "automargin": true,
           "gridcolor": "white",
           "linecolor": "white",
           "ticks": "",
           "title": {
            "standoff": 15
           },
           "zerolinecolor": "white",
           "zerolinewidth": 2
          },
          "yaxis": {
           "automargin": true,
           "gridcolor": "white",
           "linecolor": "white",
           "ticks": "",
           "title": {
            "standoff": 15
           },
           "zerolinecolor": "white",
           "zerolinewidth": 2
          }
         }
        },
        "title": {
         "font": {
          "size": 25
         },
         "text": "Nubes de categorías y carreras plano 1-2"
        },
        "width": 800,
        "xaxis": {
         "dtick": 0.25,
         "range": [
          -1,
          1.5
         ],
         "tickfont": {
          "size": 15
         },
         "title": {
          "font": {
           "size": 20
          },
          "text": "Componente 1 (16.8%)"
         }
        },
        "yaxis": {
         "dtick": 0.25,
         "range": [
          -1.3,
          1.25
         ],
         "tickfont": {
          "size": 15
         },
         "title": {
          "font": {
           "size": 20
          },
          "text": "Componente 2 (15.6%)"
         }
        }
       }
      }
     },
     "metadata": {},
     "output_type": "display_data"
    }
   ],
   "source": [
    "# Creación de la figura\n",
    "fig = go.Figure()\n",
    "\n",
    "# Definición de los colores para los diferentes valores de column_coordinates_Z.index\n",
    "colors = {'F':'blue','M':'blue','16-':'green','17':'green','18':'green','19+':'green',\n",
    "          'al':'orange','ba':'orange','me':'orange','Bo':'red','Cu':'red','Ot':'red'}\n",
    "\n",
    "# Añadir un trazo para la nube de categorías en el plano 1-2\n",
    "fig.add_trace(go.Scatter(x=column_coordinates_Z['Componente 1'], y=column_coordinates_Z['Componente 2'],\n",
    "                         mode='markers+text', text=column_coordinates_Z.index,\n",
    "                         marker=dict(size=6, color=[colors.get(x, 'black') for x in column_coordinates_Z.index]),\n",
    "                         textposition='middle right',\n",
    "                         name='Nube de categorías',\n",
    "                         textfont=dict(size=15)))\n",
    "\n",
    "# Añadir un trazo para la nube de carreras en el plano 1-2\n",
    "fig.add_trace(go.Scatter(x=column_coordinates_Z_carr['Componente 1'], y=column_coordinates_Z_carr['Componente 2'],\n",
    "                         mode='markers+text', text=column_coordinates_Z_carr.index,\n",
    "                         marker=dict(size=6, color='black'),\n",
    "                         textposition='middle right',\n",
    "                         name='Nube de carreras',\n",
    "                         textfont=dict(size=15)))\n",
    "\n",
    "# Actualizar la configuración del layout de la figura\n",
    "fig.update_layout(width=800, height=800,\n",
    "                  title='Nubes de categorías y carreras plano 1-2',\n",
    "                  xaxis=dict(dtick=0.25, range=[-1,1.5], title='Componente 1 (16.8%)',\n",
    "                             title_font=dict(size=20), tickfont=dict(size=15)),\n",
    "                  yaxis=dict(dtick=0.25, range=[-1.3,1.25], title='Componente 2 (15.6%)',\n",
    "                             title_font=dict(size=20), tickfont=dict(size=15)),\n",
    "                  title_font=dict(size=25),\n",
    "                  showlegend=False)\n",
    "\n",
    "# Mostrar la figura\n",
    "fig.show()"
   ]
  },
  {
   "attachments": {},
   "cell_type": "markdown",
   "metadata": {},
   "source": [
    "### Proyección de las carreras sobre el plano factorial 2-3"
   ]
  },
  {
   "cell_type": "code",
   "execution_count": 49,
   "metadata": {},
   "outputs": [
    {
     "data": {
      "application/vnd.plotly.v1+json": {
       "config": {
        "plotlyServerURL": "https://plot.ly"
       },
       "data": [
        {
         "marker": {
          "color": [
           "blue",
           "blue",
           "green",
           "green",
           "green",
           "green",
           "orange",
           "orange",
           "orange",
           "red",
           "red",
           "red"
          ],
          "size": 6
         },
         "mode": "markers+text",
         "name": "Nube de categorías",
         "text": [
          "F",
          "M",
          "16-",
          "17",
          "18",
          "19+",
          "al",
          "ba",
          "me",
          "Bo",
          "Cu",
          "Ot"
         ],
         "textfont": {
          "size": 15
         },
         "textposition": "middle right",
         "type": "scatter",
         "x": [
          0.8898643897078352,
          -0.3593143277053716,
          1.0661886451364055,
          0.031211118328702298,
          -0.13524945063908048,
          -1.2357339212451548,
          0.7754927738009828,
          -0.31281117973851674,
          -0.036874127052351484,
          -0.12729253026534598,
          -0.6068443432716941,
          0.6525839787171561
         ],
         "y": [
          -0.5118603319083674,
          0.2066817743983312,
          -0.2916659652160322,
          0.8837215261940082,
          -1.130051954770917,
          -0.5341688761651239,
          1.116254278483985,
          -0.18112711044187585,
          -0.31348564209787627,
          -0.10677323894382743,
          1.4426114996681123,
          -0.22513291329018728
         ]
        },
        {
         "marker": {
          "color": "black",
          "size": 6
         },
         "mode": "markers+text",
         "name": "Nube de carreras",
         "text": [
          "Biol",
          "Esta",
          "Farm",
          "Fisi",
          "Geol",
          "Mate",
          "Quim"
         ],
         "textfont": {
          "size": 15
         },
         "textposition": "middle right",
         "type": "scatter",
         "x": [
          0.1455159106537424,
          -0.10370634596048671,
          0.19770460104239848,
          -0.029140786472355976,
          0.07640523530169008,
          -0.4619583172002722,
          0.10602825872829885
         ],
         "y": [
          0.06762431617116318,
          0.018220215517052777,
          -0.3924839175809673,
          0.12651742298643,
          0.6352849289793777,
          -0.11213024074230679,
          -0.15604583950976447
         ]
        }
       ],
       "layout": {
        "height": 800,
        "showlegend": false,
        "template": {
         "data": {
          "bar": [
           {
            "error_x": {
             "color": "#2a3f5f"
            },
            "error_y": {
             "color": "#2a3f5f"
            },
            "marker": {
             "line": {
              "color": "#E5ECF6",
              "width": 0.5
             },
             "pattern": {
              "fillmode": "overlay",
              "size": 10,
              "solidity": 0.2
             }
            },
            "type": "bar"
           }
          ],
          "barpolar": [
           {
            "marker": {
             "line": {
              "color": "#E5ECF6",
              "width": 0.5
             },
             "pattern": {
              "fillmode": "overlay",
              "size": 10,
              "solidity": 0.2
             }
            },
            "type": "barpolar"
           }
          ],
          "carpet": [
           {
            "aaxis": {
             "endlinecolor": "#2a3f5f",
             "gridcolor": "white",
             "linecolor": "white",
             "minorgridcolor": "white",
             "startlinecolor": "#2a3f5f"
            },
            "baxis": {
             "endlinecolor": "#2a3f5f",
             "gridcolor": "white",
             "linecolor": "white",
             "minorgridcolor": "white",
             "startlinecolor": "#2a3f5f"
            },
            "type": "carpet"
           }
          ],
          "choropleth": [
           {
            "colorbar": {
             "outlinewidth": 0,
             "ticks": ""
            },
            "type": "choropleth"
           }
          ],
          "contour": [
           {
            "colorbar": {
             "outlinewidth": 0,
             "ticks": ""
            },
            "colorscale": [
             [
              0,
              "#0d0887"
             ],
             [
              0.1111111111111111,
              "#46039f"
             ],
             [
              0.2222222222222222,
              "#7201a8"
             ],
             [
              0.3333333333333333,
              "#9c179e"
             ],
             [
              0.4444444444444444,
              "#bd3786"
             ],
             [
              0.5555555555555556,
              "#d8576b"
             ],
             [
              0.6666666666666666,
              "#ed7953"
             ],
             [
              0.7777777777777778,
              "#fb9f3a"
             ],
             [
              0.8888888888888888,
              "#fdca26"
             ],
             [
              1,
              "#f0f921"
             ]
            ],
            "type": "contour"
           }
          ],
          "contourcarpet": [
           {
            "colorbar": {
             "outlinewidth": 0,
             "ticks": ""
            },
            "type": "contourcarpet"
           }
          ],
          "heatmap": [
           {
            "colorbar": {
             "outlinewidth": 0,
             "ticks": ""
            },
            "colorscale": [
             [
              0,
              "#0d0887"
             ],
             [
              0.1111111111111111,
              "#46039f"
             ],
             [
              0.2222222222222222,
              "#7201a8"
             ],
             [
              0.3333333333333333,
              "#9c179e"
             ],
             [
              0.4444444444444444,
              "#bd3786"
             ],
             [
              0.5555555555555556,
              "#d8576b"
             ],
             [
              0.6666666666666666,
              "#ed7953"
             ],
             [
              0.7777777777777778,
              "#fb9f3a"
             ],
             [
              0.8888888888888888,
              "#fdca26"
             ],
             [
              1,
              "#f0f921"
             ]
            ],
            "type": "heatmap"
           }
          ],
          "heatmapgl": [
           {
            "colorbar": {
             "outlinewidth": 0,
             "ticks": ""
            },
            "colorscale": [
             [
              0,
              "#0d0887"
             ],
             [
              0.1111111111111111,
              "#46039f"
             ],
             [
              0.2222222222222222,
              "#7201a8"
             ],
             [
              0.3333333333333333,
              "#9c179e"
             ],
             [
              0.4444444444444444,
              "#bd3786"
             ],
             [
              0.5555555555555556,
              "#d8576b"
             ],
             [
              0.6666666666666666,
              "#ed7953"
             ],
             [
              0.7777777777777778,
              "#fb9f3a"
             ],
             [
              0.8888888888888888,
              "#fdca26"
             ],
             [
              1,
              "#f0f921"
             ]
            ],
            "type": "heatmapgl"
           }
          ],
          "histogram": [
           {
            "marker": {
             "pattern": {
              "fillmode": "overlay",
              "size": 10,
              "solidity": 0.2
             }
            },
            "type": "histogram"
           }
          ],
          "histogram2d": [
           {
            "colorbar": {
             "outlinewidth": 0,
             "ticks": ""
            },
            "colorscale": [
             [
              0,
              "#0d0887"
             ],
             [
              0.1111111111111111,
              "#46039f"
             ],
             [
              0.2222222222222222,
              "#7201a8"
             ],
             [
              0.3333333333333333,
              "#9c179e"
             ],
             [
              0.4444444444444444,
              "#bd3786"
             ],
             [
              0.5555555555555556,
              "#d8576b"
             ],
             [
              0.6666666666666666,
              "#ed7953"
             ],
             [
              0.7777777777777778,
              "#fb9f3a"
             ],
             [
              0.8888888888888888,
              "#fdca26"
             ],
             [
              1,
              "#f0f921"
             ]
            ],
            "type": "histogram2d"
           }
          ],
          "histogram2dcontour": [
           {
            "colorbar": {
             "outlinewidth": 0,
             "ticks": ""
            },
            "colorscale": [
             [
              0,
              "#0d0887"
             ],
             [
              0.1111111111111111,
              "#46039f"
             ],
             [
              0.2222222222222222,
              "#7201a8"
             ],
             [
              0.3333333333333333,
              "#9c179e"
             ],
             [
              0.4444444444444444,
              "#bd3786"
             ],
             [
              0.5555555555555556,
              "#d8576b"
             ],
             [
              0.6666666666666666,
              "#ed7953"
             ],
             [
              0.7777777777777778,
              "#fb9f3a"
             ],
             [
              0.8888888888888888,
              "#fdca26"
             ],
             [
              1,
              "#f0f921"
             ]
            ],
            "type": "histogram2dcontour"
           }
          ],
          "mesh3d": [
           {
            "colorbar": {
             "outlinewidth": 0,
             "ticks": ""
            },
            "type": "mesh3d"
           }
          ],
          "parcoords": [
           {
            "line": {
             "colorbar": {
              "outlinewidth": 0,
              "ticks": ""
             }
            },
            "type": "parcoords"
           }
          ],
          "pie": [
           {
            "automargin": true,
            "type": "pie"
           }
          ],
          "scatter": [
           {
            "fillpattern": {
             "fillmode": "overlay",
             "size": 10,
             "solidity": 0.2
            },
            "type": "scatter"
           }
          ],
          "scatter3d": [
           {
            "line": {
             "colorbar": {
              "outlinewidth": 0,
              "ticks": ""
             }
            },
            "marker": {
             "colorbar": {
              "outlinewidth": 0,
              "ticks": ""
             }
            },
            "type": "scatter3d"
           }
          ],
          "scattercarpet": [
           {
            "marker": {
             "colorbar": {
              "outlinewidth": 0,
              "ticks": ""
             }
            },
            "type": "scattercarpet"
           }
          ],
          "scattergeo": [
           {
            "marker": {
             "colorbar": {
              "outlinewidth": 0,
              "ticks": ""
             }
            },
            "type": "scattergeo"
           }
          ],
          "scattergl": [
           {
            "marker": {
             "colorbar": {
              "outlinewidth": 0,
              "ticks": ""
             }
            },
            "type": "scattergl"
           }
          ],
          "scattermapbox": [
           {
            "marker": {
             "colorbar": {
              "outlinewidth": 0,
              "ticks": ""
             }
            },
            "type": "scattermapbox"
           }
          ],
          "scatterpolar": [
           {
            "marker": {
             "colorbar": {
              "outlinewidth": 0,
              "ticks": ""
             }
            },
            "type": "scatterpolar"
           }
          ],
          "scatterpolargl": [
           {
            "marker": {
             "colorbar": {
              "outlinewidth": 0,
              "ticks": ""
             }
            },
            "type": "scatterpolargl"
           }
          ],
          "scatterternary": [
           {
            "marker": {
             "colorbar": {
              "outlinewidth": 0,
              "ticks": ""
             }
            },
            "type": "scatterternary"
           }
          ],
          "surface": [
           {
            "colorbar": {
             "outlinewidth": 0,
             "ticks": ""
            },
            "colorscale": [
             [
              0,
              "#0d0887"
             ],
             [
              0.1111111111111111,
              "#46039f"
             ],
             [
              0.2222222222222222,
              "#7201a8"
             ],
             [
              0.3333333333333333,
              "#9c179e"
             ],
             [
              0.4444444444444444,
              "#bd3786"
             ],
             [
              0.5555555555555556,
              "#d8576b"
             ],
             [
              0.6666666666666666,
              "#ed7953"
             ],
             [
              0.7777777777777778,
              "#fb9f3a"
             ],
             [
              0.8888888888888888,
              "#fdca26"
             ],
             [
              1,
              "#f0f921"
             ]
            ],
            "type": "surface"
           }
          ],
          "table": [
           {
            "cells": {
             "fill": {
              "color": "#EBF0F8"
             },
             "line": {
              "color": "white"
             }
            },
            "header": {
             "fill": {
              "color": "#C8D4E3"
             },
             "line": {
              "color": "white"
             }
            },
            "type": "table"
           }
          ]
         },
         "layout": {
          "annotationdefaults": {
           "arrowcolor": "#2a3f5f",
           "arrowhead": 0,
           "arrowwidth": 1
          },
          "autotypenumbers": "strict",
          "coloraxis": {
           "colorbar": {
            "outlinewidth": 0,
            "ticks": ""
           }
          },
          "colorscale": {
           "diverging": [
            [
             0,
             "#8e0152"
            ],
            [
             0.1,
             "#c51b7d"
            ],
            [
             0.2,
             "#de77ae"
            ],
            [
             0.3,
             "#f1b6da"
            ],
            [
             0.4,
             "#fde0ef"
            ],
            [
             0.5,
             "#f7f7f7"
            ],
            [
             0.6,
             "#e6f5d0"
            ],
            [
             0.7,
             "#b8e186"
            ],
            [
             0.8,
             "#7fbc41"
            ],
            [
             0.9,
             "#4d9221"
            ],
            [
             1,
             "#276419"
            ]
           ],
           "sequential": [
            [
             0,
             "#0d0887"
            ],
            [
             0.1111111111111111,
             "#46039f"
            ],
            [
             0.2222222222222222,
             "#7201a8"
            ],
            [
             0.3333333333333333,
             "#9c179e"
            ],
            [
             0.4444444444444444,
             "#bd3786"
            ],
            [
             0.5555555555555556,
             "#d8576b"
            ],
            [
             0.6666666666666666,
             "#ed7953"
            ],
            [
             0.7777777777777778,
             "#fb9f3a"
            ],
            [
             0.8888888888888888,
             "#fdca26"
            ],
            [
             1,
             "#f0f921"
            ]
           ],
           "sequentialminus": [
            [
             0,
             "#0d0887"
            ],
            [
             0.1111111111111111,
             "#46039f"
            ],
            [
             0.2222222222222222,
             "#7201a8"
            ],
            [
             0.3333333333333333,
             "#9c179e"
            ],
            [
             0.4444444444444444,
             "#bd3786"
            ],
            [
             0.5555555555555556,
             "#d8576b"
            ],
            [
             0.6666666666666666,
             "#ed7953"
            ],
            [
             0.7777777777777778,
             "#fb9f3a"
            ],
            [
             0.8888888888888888,
             "#fdca26"
            ],
            [
             1,
             "#f0f921"
            ]
           ]
          },
          "colorway": [
           "#636efa",
           "#EF553B",
           "#00cc96",
           "#ab63fa",
           "#FFA15A",
           "#19d3f3",
           "#FF6692",
           "#B6E880",
           "#FF97FF",
           "#FECB52"
          ],
          "font": {
           "color": "#2a3f5f"
          },
          "geo": {
           "bgcolor": "white",
           "lakecolor": "white",
           "landcolor": "#E5ECF6",
           "showlakes": true,
           "showland": true,
           "subunitcolor": "white"
          },
          "hoverlabel": {
           "align": "left"
          },
          "hovermode": "closest",
          "mapbox": {
           "style": "light"
          },
          "paper_bgcolor": "white",
          "plot_bgcolor": "#E5ECF6",
          "polar": {
           "angularaxis": {
            "gridcolor": "white",
            "linecolor": "white",
            "ticks": ""
           },
           "bgcolor": "#E5ECF6",
           "radialaxis": {
            "gridcolor": "white",
            "linecolor": "white",
            "ticks": ""
           }
          },
          "scene": {
           "xaxis": {
            "backgroundcolor": "#E5ECF6",
            "gridcolor": "white",
            "gridwidth": 2,
            "linecolor": "white",
            "showbackground": true,
            "ticks": "",
            "zerolinecolor": "white"
           },
           "yaxis": {
            "backgroundcolor": "#E5ECF6",
            "gridcolor": "white",
            "gridwidth": 2,
            "linecolor": "white",
            "showbackground": true,
            "ticks": "",
            "zerolinecolor": "white"
           },
           "zaxis": {
            "backgroundcolor": "#E5ECF6",
            "gridcolor": "white",
            "gridwidth": 2,
            "linecolor": "white",
            "showbackground": true,
            "ticks": "",
            "zerolinecolor": "white"
           }
          },
          "shapedefaults": {
           "line": {
            "color": "#2a3f5f"
           }
          },
          "ternary": {
           "aaxis": {
            "gridcolor": "white",
            "linecolor": "white",
            "ticks": ""
           },
           "baxis": {
            "gridcolor": "white",
            "linecolor": "white",
            "ticks": ""
           },
           "bgcolor": "#E5ECF6",
           "caxis": {
            "gridcolor": "white",
            "linecolor": "white",
            "ticks": ""
           }
          },
          "title": {
           "x": 0.05
          },
          "xaxis": {
           "automargin": true,
           "gridcolor": "white",
           "linecolor": "white",
           "ticks": "",
           "title": {
            "standoff": 15
           },
           "zerolinecolor": "white",
           "zerolinewidth": 2
          },
          "yaxis": {
           "automargin": true,
           "gridcolor": "white",
           "linecolor": "white",
           "ticks": "",
           "title": {
            "standoff": 15
           },
           "zerolinecolor": "white",
           "zerolinewidth": 2
          }
         }
        },
        "title": {
         "font": {
          "size": 25
         },
         "text": "Nubes de categorías y carreras plano 2-3"
        },
        "width": 800,
        "xaxis": {
         "dtick": 0.25,
         "range": [
          -1.5,
          1.25
         ],
         "tickfont": {
          "size": 15
         },
         "title": {
          "font": {
           "size": 20
          },
          "text": "Componente 2 (15.6%)"
         }
        },
        "yaxis": {
         "dtick": 0.25,
         "range": [
          -1.25,
          1.5
         ],
         "tickfont": {
          "size": 15
         },
         "title": {
          "font": {
           "size": 20
          },
          "text": "Componente 3 (14.1%)"
         }
        }
       }
      }
     },
     "metadata": {},
     "output_type": "display_data"
    }
   ],
   "source": [
    "# Creación de la figura\n",
    "fig = go.Figure()\n",
    "\n",
    "# Definición de los colores para los diferentes valores de column_coordinates_Z.index\n",
    "colors = {'F':'blue','M':'blue','16-':'green','17':'green','18':'green','19+':'green',\n",
    "          'al':'orange','ba':'orange','me':'orange','Bo':'red','Cu':'red','Ot':'red'}\n",
    "\n",
    "fig.add_trace(go.Scatter(x=column_coordinates_Z['Componente 2'], y=column_coordinates_Z['Componente 3'],\n",
    "                         mode='markers+text', text=column_coordinates_Z.index,\n",
    "                         marker=dict(size=6, color=[colors.get(x, 'black') for x in column_coordinates_Z.index]),\n",
    "                         textposition='middle right',\n",
    "                         name='Nube de categorías',\n",
    "                         textfont=dict(size=15)))\n",
    "\n",
    "# Añadir un trazo para la nube de categorías en el plano 2-3\n",
    "fig.add_trace(go.Scatter(x=column_coordinates_Z_carr['Componente 2'], y=column_coordinates_Z_carr['Componente 3'],\n",
    "                         mode='markers+text', text=column_coordinates_Z_carr.index,\n",
    "                         marker=dict(size=6, color='black'),\n",
    "                         textposition='middle right',\n",
    "                         name='Nube de carreras',\n",
    "                         textfont=dict(size=15)))\n",
    "\n",
    "# Actualizar la configuración del layout de la figura\n",
    "fig.update_layout(width=800, height=800,\n",
    "                  title='Nubes de categorías y carreras plano 2-3',\n",
    "                  xaxis=dict(dtick=0.25, range=[-1.5,1.25], title='Componente 2 (15.6%)',\n",
    "                             title_font=dict(size=20), tickfont=dict(size=15)),\n",
    "                  yaxis=dict(dtick=0.25, range=[-1.25,1.5], title='Componente 3 (14.1%)',\n",
    "                             title_font=dict(size=20), tickfont=dict(size=15)),\n",
    "                  title_font=dict(size=25),\n",
    "                  showlegend=False)\n",
    "\n",
    "# Mostrar la figura\n",
    "fig.show()"
   ]
  },
  {
   "attachments": {},
   "cell_type": "markdown",
   "metadata": {},
   "source": [
    "## Retorno a los datos"
   ]
  },
  {
   "attachments": {},
   "cell_type": "markdown",
   "metadata": {},
   "source": [
    "### Tablas de contingencia de las carreras con respecto a las variables activas"
   ]
  },
  {
   "cell_type": "code",
   "execution_count": 50,
   "metadata": {},
   "outputs": [
    {
     "data": {
      "text/html": [
       "<div>\n",
       "<style scoped>\n",
       "    .dataframe tbody tr th:only-of-type {\n",
       "        vertical-align: middle;\n",
       "    }\n",
       "\n",
       "    .dataframe tbody tr th {\n",
       "        vertical-align: top;\n",
       "    }\n",
       "\n",
       "    .dataframe thead th {\n",
       "        text-align: right;\n",
       "    }\n",
       "</style>\n",
       "<table border=\"1\" class=\"dataframe\">\n",
       "  <thead>\n",
       "    <tr style=\"text-align: right;\">\n",
       "      <th>estr</th>\n",
       "      <th>bajo</th>\n",
       "      <th>medio</th>\n",
       "      <th>alto</th>\n",
       "      <th>Suma</th>\n",
       "    </tr>\n",
       "    <tr>\n",
       "      <th>carr</th>\n",
       "      <th></th>\n",
       "      <th></th>\n",
       "      <th></th>\n",
       "      <th></th>\n",
       "    </tr>\n",
       "  </thead>\n",
       "  <tbody>\n",
       "    <tr>\n",
       "      <th>Biol</th>\n",
       "      <td>23</td>\n",
       "      <td>26</td>\n",
       "      <td>14</td>\n",
       "      <td>63</td>\n",
       "    </tr>\n",
       "    <tr>\n",
       "      <th>Esta</th>\n",
       "      <td>29</td>\n",
       "      <td>29</td>\n",
       "      <td>8</td>\n",
       "      <td>66</td>\n",
       "    </tr>\n",
       "    <tr>\n",
       "      <th>Farm</th>\n",
       "      <td>30</td>\n",
       "      <td>36</td>\n",
       "      <td>7</td>\n",
       "      <td>73</td>\n",
       "    </tr>\n",
       "    <tr>\n",
       "      <th>Fisi</th>\n",
       "      <td>27</td>\n",
       "      <td>36</td>\n",
       "      <td>19</td>\n",
       "      <td>82</td>\n",
       "    </tr>\n",
       "    <tr>\n",
       "      <th>Geol</th>\n",
       "      <td>18</td>\n",
       "      <td>9</td>\n",
       "      <td>18</td>\n",
       "      <td>45</td>\n",
       "    </tr>\n",
       "    <tr>\n",
       "      <th>Mate</th>\n",
       "      <td>21</td>\n",
       "      <td>25</td>\n",
       "      <td>7</td>\n",
       "      <td>53</td>\n",
       "    </tr>\n",
       "    <tr>\n",
       "      <th>Quim</th>\n",
       "      <td>31</td>\n",
       "      <td>24</td>\n",
       "      <td>8</td>\n",
       "      <td>63</td>\n",
       "    </tr>\n",
       "    <tr>\n",
       "      <th>Suma</th>\n",
       "      <td>179</td>\n",
       "      <td>185</td>\n",
       "      <td>81</td>\n",
       "      <td>445</td>\n",
       "    </tr>\n",
       "  </tbody>\n",
       "</table>\n",
       "</div>"
      ],
      "text/plain": [
       "estr  bajo  medio  alto  Suma\n",
       "carr                         \n",
       "Biol    23     26    14    63\n",
       "Esta    29     29     8    66\n",
       "Farm    30     36     7    73\n",
       "Fisi    27     36    19    82\n",
       "Geol    18      9    18    45\n",
       "Mate    21     25     7    53\n",
       "Quim    31     24     8    63\n",
       "Suma   179    185    81   445"
      ]
     },
     "execution_count": 50,
     "metadata": {},
     "output_type": "execute_result"
    }
   ],
   "source": [
    "# Crear una tabla de contingencia entre las columnas 'carr' y 'estr' del DataFrame 'admi'\n",
    "K_carr_est = pd.crosstab(index=admi['carr'], columns=admi['estr'], margins=True, margins_name='Suma')\n",
    "\n",
    "# Seleccionar las columnas 'bajo', 'medio', 'alto' y 'Suma' de la tabla de contingencia\n",
    "K_carr_est = K_carr_est[['bajo','medio','alto','Suma']]\n",
    "\n",
    "# Mostrar la tabla de contingencia 'K_carr_est' con los datos de las carreras y estratos\n",
    "K_carr_est"
   ]
  },
  {
   "cell_type": "code",
   "execution_count": 51,
   "metadata": {},
   "outputs": [
    {
     "data": {
      "application/vnd.plotly.v1+json": {
       "config": {
        "plotlyServerURL": "https://plot.ly"
       },
       "data": [
        {
         "name": "bajo",
         "orientation": "h",
         "text": [
          "0.37",
          "0.44",
          "0.41",
          "0.33",
          "0.40",
          "0.40",
          "0.49"
         ],
         "textfont": {
          "color": "black"
         },
         "textposition": "inside",
         "type": "bar",
         "x": [
          0.36507936507936506,
          0.4393939393939394,
          0.410958904109589,
          0.32926829268292684,
          0.4,
          0.39622641509433965,
          0.49206349206349204
         ],
         "y": [
          "Biol",
          "Esta",
          "Farm",
          "Fisi",
          "Geol",
          "Mate",
          "Quim"
         ]
        },
        {
         "name": "medio",
         "orientation": "h",
         "text": [
          "0.41",
          "0.44",
          "0.49",
          "0.44",
          "0.20",
          "0.47",
          "0.38"
         ],
         "textfont": {
          "color": "black"
         },
         "textposition": "inside",
         "type": "bar",
         "x": [
          0.4126984126984127,
          0.4393939393939394,
          0.4931506849315068,
          0.43902439024390244,
          0.2,
          0.4716981132075472,
          0.38095238095238093
         ],
         "y": [
          "Biol",
          "Esta",
          "Farm",
          "Fisi",
          "Geol",
          "Mate",
          "Quim"
         ]
        },
        {
         "name": "alto",
         "orientation": "h",
         "text": [
          "0.22",
          "0.12",
          "0.10",
          "0.23",
          "0.40",
          "0.13",
          "0.13"
         ],
         "textfont": {
          "color": "black"
         },
         "textposition": "inside",
         "type": "bar",
         "x": [
          0.2222222222222222,
          0.12121212121212122,
          0.0958904109589041,
          0.23170731707317074,
          0.4,
          0.1320754716981132,
          0.12698412698412698
         ],
         "y": [
          "Biol",
          "Esta",
          "Farm",
          "Fisi",
          "Geol",
          "Mate",
          "Quim"
         ]
        }
       ],
       "layout": {
        "barmode": "stack",
        "height": 400,
        "template": {
         "data": {
          "bar": [
           {
            "error_x": {
             "color": "#2a3f5f"
            },
            "error_y": {
             "color": "#2a3f5f"
            },
            "marker": {
             "line": {
              "color": "#E5ECF6",
              "width": 0.5
             },
             "pattern": {
              "fillmode": "overlay",
              "size": 10,
              "solidity": 0.2
             }
            },
            "type": "bar"
           }
          ],
          "barpolar": [
           {
            "marker": {
             "line": {
              "color": "#E5ECF6",
              "width": 0.5
             },
             "pattern": {
              "fillmode": "overlay",
              "size": 10,
              "solidity": 0.2
             }
            },
            "type": "barpolar"
           }
          ],
          "carpet": [
           {
            "aaxis": {
             "endlinecolor": "#2a3f5f",
             "gridcolor": "white",
             "linecolor": "white",
             "minorgridcolor": "white",
             "startlinecolor": "#2a3f5f"
            },
            "baxis": {
             "endlinecolor": "#2a3f5f",
             "gridcolor": "white",
             "linecolor": "white",
             "minorgridcolor": "white",
             "startlinecolor": "#2a3f5f"
            },
            "type": "carpet"
           }
          ],
          "choropleth": [
           {
            "colorbar": {
             "outlinewidth": 0,
             "ticks": ""
            },
            "type": "choropleth"
           }
          ],
          "contour": [
           {
            "colorbar": {
             "outlinewidth": 0,
             "ticks": ""
            },
            "colorscale": [
             [
              0,
              "#0d0887"
             ],
             [
              0.1111111111111111,
              "#46039f"
             ],
             [
              0.2222222222222222,
              "#7201a8"
             ],
             [
              0.3333333333333333,
              "#9c179e"
             ],
             [
              0.4444444444444444,
              "#bd3786"
             ],
             [
              0.5555555555555556,
              "#d8576b"
             ],
             [
              0.6666666666666666,
              "#ed7953"
             ],
             [
              0.7777777777777778,
              "#fb9f3a"
             ],
             [
              0.8888888888888888,
              "#fdca26"
             ],
             [
              1,
              "#f0f921"
             ]
            ],
            "type": "contour"
           }
          ],
          "contourcarpet": [
           {
            "colorbar": {
             "outlinewidth": 0,
             "ticks": ""
            },
            "type": "contourcarpet"
           }
          ],
          "heatmap": [
           {
            "colorbar": {
             "outlinewidth": 0,
             "ticks": ""
            },
            "colorscale": [
             [
              0,
              "#0d0887"
             ],
             [
              0.1111111111111111,
              "#46039f"
             ],
             [
              0.2222222222222222,
              "#7201a8"
             ],
             [
              0.3333333333333333,
              "#9c179e"
             ],
             [
              0.4444444444444444,
              "#bd3786"
             ],
             [
              0.5555555555555556,
              "#d8576b"
             ],
             [
              0.6666666666666666,
              "#ed7953"
             ],
             [
              0.7777777777777778,
              "#fb9f3a"
             ],
             [
              0.8888888888888888,
              "#fdca26"
             ],
             [
              1,
              "#f0f921"
             ]
            ],
            "type": "heatmap"
           }
          ],
          "heatmapgl": [
           {
            "colorbar": {
             "outlinewidth": 0,
             "ticks": ""
            },
            "colorscale": [
             [
              0,
              "#0d0887"
             ],
             [
              0.1111111111111111,
              "#46039f"
             ],
             [
              0.2222222222222222,
              "#7201a8"
             ],
             [
              0.3333333333333333,
              "#9c179e"
             ],
             [
              0.4444444444444444,
              "#bd3786"
             ],
             [
              0.5555555555555556,
              "#d8576b"
             ],
             [
              0.6666666666666666,
              "#ed7953"
             ],
             [
              0.7777777777777778,
              "#fb9f3a"
             ],
             [
              0.8888888888888888,
              "#fdca26"
             ],
             [
              1,
              "#f0f921"
             ]
            ],
            "type": "heatmapgl"
           }
          ],
          "histogram": [
           {
            "marker": {
             "pattern": {
              "fillmode": "overlay",
              "size": 10,
              "solidity": 0.2
             }
            },
            "type": "histogram"
           }
          ],
          "histogram2d": [
           {
            "colorbar": {
             "outlinewidth": 0,
             "ticks": ""
            },
            "colorscale": [
             [
              0,
              "#0d0887"
             ],
             [
              0.1111111111111111,
              "#46039f"
             ],
             [
              0.2222222222222222,
              "#7201a8"
             ],
             [
              0.3333333333333333,
              "#9c179e"
             ],
             [
              0.4444444444444444,
              "#bd3786"
             ],
             [
              0.5555555555555556,
              "#d8576b"
             ],
             [
              0.6666666666666666,
              "#ed7953"
             ],
             [
              0.7777777777777778,
              "#fb9f3a"
             ],
             [
              0.8888888888888888,
              "#fdca26"
             ],
             [
              1,
              "#f0f921"
             ]
            ],
            "type": "histogram2d"
           }
          ],
          "histogram2dcontour": [
           {
            "colorbar": {
             "outlinewidth": 0,
             "ticks": ""
            },
            "colorscale": [
             [
              0,
              "#0d0887"
             ],
             [
              0.1111111111111111,
              "#46039f"
             ],
             [
              0.2222222222222222,
              "#7201a8"
             ],
             [
              0.3333333333333333,
              "#9c179e"
             ],
             [
              0.4444444444444444,
              "#bd3786"
             ],
             [
              0.5555555555555556,
              "#d8576b"
             ],
             [
              0.6666666666666666,
              "#ed7953"
             ],
             [
              0.7777777777777778,
              "#fb9f3a"
             ],
             [
              0.8888888888888888,
              "#fdca26"
             ],
             [
              1,
              "#f0f921"
             ]
            ],
            "type": "histogram2dcontour"
           }
          ],
          "mesh3d": [
           {
            "colorbar": {
             "outlinewidth": 0,
             "ticks": ""
            },
            "type": "mesh3d"
           }
          ],
          "parcoords": [
           {
            "line": {
             "colorbar": {
              "outlinewidth": 0,
              "ticks": ""
             }
            },
            "type": "parcoords"
           }
          ],
          "pie": [
           {
            "automargin": true,
            "type": "pie"
           }
          ],
          "scatter": [
           {
            "fillpattern": {
             "fillmode": "overlay",
             "size": 10,
             "solidity": 0.2
            },
            "type": "scatter"
           }
          ],
          "scatter3d": [
           {
            "line": {
             "colorbar": {
              "outlinewidth": 0,
              "ticks": ""
             }
            },
            "marker": {
             "colorbar": {
              "outlinewidth": 0,
              "ticks": ""
             }
            },
            "type": "scatter3d"
           }
          ],
          "scattercarpet": [
           {
            "marker": {
             "colorbar": {
              "outlinewidth": 0,
              "ticks": ""
             }
            },
            "type": "scattercarpet"
           }
          ],
          "scattergeo": [
           {
            "marker": {
             "colorbar": {
              "outlinewidth": 0,
              "ticks": ""
             }
            },
            "type": "scattergeo"
           }
          ],
          "scattergl": [
           {
            "marker": {
             "colorbar": {
              "outlinewidth": 0,
              "ticks": ""
             }
            },
            "type": "scattergl"
           }
          ],
          "scattermapbox": [
           {
            "marker": {
             "colorbar": {
              "outlinewidth": 0,
              "ticks": ""
             }
            },
            "type": "scattermapbox"
           }
          ],
          "scatterpolar": [
           {
            "marker": {
             "colorbar": {
              "outlinewidth": 0,
              "ticks": ""
             }
            },
            "type": "scatterpolar"
           }
          ],
          "scatterpolargl": [
           {
            "marker": {
             "colorbar": {
              "outlinewidth": 0,
              "ticks": ""
             }
            },
            "type": "scatterpolargl"
           }
          ],
          "scatterternary": [
           {
            "marker": {
             "colorbar": {
              "outlinewidth": 0,
              "ticks": ""
             }
            },
            "type": "scatterternary"
           }
          ],
          "surface": [
           {
            "colorbar": {
             "outlinewidth": 0,
             "ticks": ""
            },
            "colorscale": [
             [
              0,
              "#0d0887"
             ],
             [
              0.1111111111111111,
              "#46039f"
             ],
             [
              0.2222222222222222,
              "#7201a8"
             ],
             [
              0.3333333333333333,
              "#9c179e"
             ],
             [
              0.4444444444444444,
              "#bd3786"
             ],
             [
              0.5555555555555556,
              "#d8576b"
             ],
             [
              0.6666666666666666,
              "#ed7953"
             ],
             [
              0.7777777777777778,
              "#fb9f3a"
             ],
             [
              0.8888888888888888,
              "#fdca26"
             ],
             [
              1,
              "#f0f921"
             ]
            ],
            "type": "surface"
           }
          ],
          "table": [
           {
            "cells": {
             "fill": {
              "color": "#EBF0F8"
             },
             "line": {
              "color": "white"
             }
            },
            "header": {
             "fill": {
              "color": "#C8D4E3"
             },
             "line": {
              "color": "white"
             }
            },
            "type": "table"
           }
          ]
         },
         "layout": {
          "annotationdefaults": {
           "arrowcolor": "#2a3f5f",
           "arrowhead": 0,
           "arrowwidth": 1
          },
          "autotypenumbers": "strict",
          "coloraxis": {
           "colorbar": {
            "outlinewidth": 0,
            "ticks": ""
           }
          },
          "colorscale": {
           "diverging": [
            [
             0,
             "#8e0152"
            ],
            [
             0.1,
             "#c51b7d"
            ],
            [
             0.2,
             "#de77ae"
            ],
            [
             0.3,
             "#f1b6da"
            ],
            [
             0.4,
             "#fde0ef"
            ],
            [
             0.5,
             "#f7f7f7"
            ],
            [
             0.6,
             "#e6f5d0"
            ],
            [
             0.7,
             "#b8e186"
            ],
            [
             0.8,
             "#7fbc41"
            ],
            [
             0.9,
             "#4d9221"
            ],
            [
             1,
             "#276419"
            ]
           ],
           "sequential": [
            [
             0,
             "#0d0887"
            ],
            [
             0.1111111111111111,
             "#46039f"
            ],
            [
             0.2222222222222222,
             "#7201a8"
            ],
            [
             0.3333333333333333,
             "#9c179e"
            ],
            [
             0.4444444444444444,
             "#bd3786"
            ],
            [
             0.5555555555555556,
             "#d8576b"
            ],
            [
             0.6666666666666666,
             "#ed7953"
            ],
            [
             0.7777777777777778,
             "#fb9f3a"
            ],
            [
             0.8888888888888888,
             "#fdca26"
            ],
            [
             1,
             "#f0f921"
            ]
           ],
           "sequentialminus": [
            [
             0,
             "#0d0887"
            ],
            [
             0.1111111111111111,
             "#46039f"
            ],
            [
             0.2222222222222222,
             "#7201a8"
            ],
            [
             0.3333333333333333,
             "#9c179e"
            ],
            [
             0.4444444444444444,
             "#bd3786"
            ],
            [
             0.5555555555555556,
             "#d8576b"
            ],
            [
             0.6666666666666666,
             "#ed7953"
            ],
            [
             0.7777777777777778,
             "#fb9f3a"
            ],
            [
             0.8888888888888888,
             "#fdca26"
            ],
            [
             1,
             "#f0f921"
            ]
           ]
          },
          "colorway": [
           "#636efa",
           "#EF553B",
           "#00cc96",
           "#ab63fa",
           "#FFA15A",
           "#19d3f3",
           "#FF6692",
           "#B6E880",
           "#FF97FF",
           "#FECB52"
          ],
          "font": {
           "color": "#2a3f5f"
          },
          "geo": {
           "bgcolor": "white",
           "lakecolor": "white",
           "landcolor": "#E5ECF6",
           "showlakes": true,
           "showland": true,
           "subunitcolor": "white"
          },
          "hoverlabel": {
           "align": "left"
          },
          "hovermode": "closest",
          "mapbox": {
           "style": "light"
          },
          "paper_bgcolor": "white",
          "plot_bgcolor": "#E5ECF6",
          "polar": {
           "angularaxis": {
            "gridcolor": "white",
            "linecolor": "white",
            "ticks": ""
           },
           "bgcolor": "#E5ECF6",
           "radialaxis": {
            "gridcolor": "white",
            "linecolor": "white",
            "ticks": ""
           }
          },
          "scene": {
           "xaxis": {
            "backgroundcolor": "#E5ECF6",
            "gridcolor": "white",
            "gridwidth": 2,
            "linecolor": "white",
            "showbackground": true,
            "ticks": "",
            "zerolinecolor": "white"
           },
           "yaxis": {
            "backgroundcolor": "#E5ECF6",
            "gridcolor": "white",
            "gridwidth": 2,
            "linecolor": "white",
            "showbackground": true,
            "ticks": "",
            "zerolinecolor": "white"
           },
           "zaxis": {
            "backgroundcolor": "#E5ECF6",
            "gridcolor": "white",
            "gridwidth": 2,
            "linecolor": "white",
            "showbackground": true,
            "ticks": "",
            "zerolinecolor": "white"
           }
          },
          "shapedefaults": {
           "line": {
            "color": "#2a3f5f"
           }
          },
          "ternary": {
           "aaxis": {
            "gridcolor": "white",
            "linecolor": "white",
            "ticks": ""
           },
           "baxis": {
            "gridcolor": "white",
            "linecolor": "white",
            "ticks": ""
           },
           "bgcolor": "#E5ECF6",
           "caxis": {
            "gridcolor": "white",
            "linecolor": "white",
            "ticks": ""
           }
          },
          "title": {
           "x": 0.05
          },
          "xaxis": {
           "automargin": true,
           "gridcolor": "white",
           "linecolor": "white",
           "ticks": "",
           "title": {
            "standoff": 15
           },
           "zerolinecolor": "white",
           "zerolinewidth": 2
          },
          "yaxis": {
           "automargin": true,
           "gridcolor": "white",
           "linecolor": "white",
           "ticks": "",
           "title": {
            "standoff": 15
           },
           "zerolinecolor": "white",
           "zerolinewidth": 2
          }
         }
        },
        "title": {
         "text": "Estrato"
        },
        "width": 700,
        "xaxis": {
         "dtick": 0.1
        },
        "yaxis": {
         "title": {
          "text": "Carrera"
         }
        }
       }
      }
     },
     "metadata": {},
     "output_type": "display_data"
    }
   ],
   "source": [
    "# Calcular porcentajes de la tabla de contingencia 'K_carr_est' excluyendo la fila y columna totales\n",
    "K_carr_est_perc = K_carr_est.iloc[:-1, :-1].apply(lambda x: x/x.sum(), axis=1)\n",
    "\n",
    "# Crear la figura\n",
    "fig = go.Figure()\n",
    "\n",
    "# Iterar sobre las columnas de la tabla de contingencia\n",
    "for col in K_carr_est_perc.columns:\n",
    "    # Crear un gráfico de barras horizontal para cada columna\n",
    "    category_percents = [f'{val:.2f}' for val in K_carr_est_perc[col]]\n",
    "    fig.add_trace(go.Bar(\n",
    "        x=K_carr_est_perc[col],\n",
    "        y=K_carr_est_perc.index,\n",
    "        name=col,\n",
    "        orientation='h',\n",
    "        text=category_percents,\n",
    "        textposition='inside',\n",
    "        textfont=dict(color='black')\n",
    "    ))\n",
    "\n",
    "# Actualizar la configuración de la figura\n",
    "fig.update_layout(\n",
    "    title='Estrato',\n",
    "    xaxis=dict(dtick=0.10),\n",
    "    yaxis_title='Carrera',\n",
    "    barmode='stack',\n",
    "    width=700, height=400\n",
    ")\n",
    "\n",
    "# Mostrar la figura\n",
    "fig.show()"
   ]
  },
  {
   "cell_type": "code",
   "execution_count": 52,
   "metadata": {},
   "outputs": [
    {
     "data": {
      "text/html": [
       "<div>\n",
       "<style scoped>\n",
       "    .dataframe tbody tr th:only-of-type {\n",
       "        vertical-align: middle;\n",
       "    }\n",
       "\n",
       "    .dataframe tbody tr th {\n",
       "        vertical-align: top;\n",
       "    }\n",
       "\n",
       "    .dataframe thead th {\n",
       "        text-align: right;\n",
       "    }\n",
       "</style>\n",
       "<table border=\"1\" class=\"dataframe\">\n",
       "  <thead>\n",
       "    <tr style=\"text-align: right;\">\n",
       "      <th>orig</th>\n",
       "      <th>Bogo</th>\n",
       "      <th>Cund</th>\n",
       "      <th>Otro</th>\n",
       "      <th>Suma</th>\n",
       "    </tr>\n",
       "    <tr>\n",
       "      <th>carr</th>\n",
       "      <th></th>\n",
       "      <th></th>\n",
       "      <th></th>\n",
       "      <th></th>\n",
       "    </tr>\n",
       "  </thead>\n",
       "  <tbody>\n",
       "    <tr>\n",
       "      <th>Biol</th>\n",
       "      <td>39</td>\n",
       "      <td>7</td>\n",
       "      <td>17</td>\n",
       "      <td>63</td>\n",
       "    </tr>\n",
       "    <tr>\n",
       "      <th>Esta</th>\n",
       "      <td>51</td>\n",
       "      <td>5</td>\n",
       "      <td>10</td>\n",
       "      <td>66</td>\n",
       "    </tr>\n",
       "    <tr>\n",
       "      <th>Farm</th>\n",
       "      <td>56</td>\n",
       "      <td>4</td>\n",
       "      <td>13</td>\n",
       "      <td>73</td>\n",
       "    </tr>\n",
       "    <tr>\n",
       "      <th>Fisi</th>\n",
       "      <td>58</td>\n",
       "      <td>5</td>\n",
       "      <td>19</td>\n",
       "      <td>82</td>\n",
       "    </tr>\n",
       "    <tr>\n",
       "      <th>Geol</th>\n",
       "      <td>31</td>\n",
       "      <td>5</td>\n",
       "      <td>9</td>\n",
       "      <td>45</td>\n",
       "    </tr>\n",
       "    <tr>\n",
       "      <th>Mate</th>\n",
       "      <td>38</td>\n",
       "      <td>4</td>\n",
       "      <td>11</td>\n",
       "      <td>53</td>\n",
       "    </tr>\n",
       "    <tr>\n",
       "      <th>Quim</th>\n",
       "      <td>38</td>\n",
       "      <td>8</td>\n",
       "      <td>17</td>\n",
       "      <td>63</td>\n",
       "    </tr>\n",
       "    <tr>\n",
       "      <th>Suma</th>\n",
       "      <td>311</td>\n",
       "      <td>38</td>\n",
       "      <td>96</td>\n",
       "      <td>445</td>\n",
       "    </tr>\n",
       "  </tbody>\n",
       "</table>\n",
       "</div>"
      ],
      "text/plain": [
       "orig  Bogo  Cund  Otro  Suma\n",
       "carr                        \n",
       "Biol    39     7    17    63\n",
       "Esta    51     5    10    66\n",
       "Farm    56     4    13    73\n",
       "Fisi    58     5    19    82\n",
       "Geol    31     5     9    45\n",
       "Mate    38     4    11    53\n",
       "Quim    38     8    17    63\n",
       "Suma   311    38    96   445"
      ]
     },
     "execution_count": 52,
     "metadata": {},
     "output_type": "execute_result"
    }
   ],
   "source": [
    "# Crear una tabla de contingencia entre las columnas 'carr' y 'orig' del DataFrame 'admi'\n",
    "K_carr_orig = pd.crosstab(index=admi['carr'], columns=admi['orig'], margins=True, margins_name='Suma')\n",
    "\n",
    "# Mostrar la tabla de contingencia 'K_carr_orig' con los datos de las carreras y los orígenes\n",
    "K_carr_orig"
   ]
  },
  {
   "cell_type": "code",
   "execution_count": 53,
   "metadata": {},
   "outputs": [
    {
     "data": {
      "application/vnd.plotly.v1+json": {
       "config": {
        "plotlyServerURL": "https://plot.ly"
       },
       "data": [
        {
         "name": "Bogo",
         "orientation": "h",
         "text": [
          "0.62",
          "0.77",
          "0.77",
          "0.71",
          "0.69",
          "0.72",
          "0.60"
         ],
         "textfont": {
          "color": "black"
         },
         "textposition": "inside",
         "type": "bar",
         "x": [
          0.6190476190476191,
          0.7727272727272727,
          0.7671232876712328,
          0.7073170731707317,
          0.6888888888888889,
          0.7169811320754716,
          0.6031746031746031
         ],
         "y": [
          "Biol",
          "Esta",
          "Farm",
          "Fisi",
          "Geol",
          "Mate",
          "Quim"
         ]
        },
        {
         "name": "Cund",
         "orientation": "h",
         "text": [
          "0.11",
          "0.08",
          "0.05",
          "0.06",
          "0.11",
          "0.08",
          "0.13"
         ],
         "textfont": {
          "color": "black"
         },
         "textposition": "inside",
         "type": "bar",
         "x": [
          0.1111111111111111,
          0.07575757575757576,
          0.0547945205479452,
          0.06097560975609756,
          0.1111111111111111,
          0.07547169811320754,
          0.12698412698412698
         ],
         "y": [
          "Biol",
          "Esta",
          "Farm",
          "Fisi",
          "Geol",
          "Mate",
          "Quim"
         ]
        },
        {
         "name": "Otro",
         "orientation": "h",
         "text": [
          "0.27",
          "0.15",
          "0.18",
          "0.23",
          "0.20",
          "0.21",
          "0.27"
         ],
         "textfont": {
          "color": "black"
         },
         "textposition": "inside",
         "type": "bar",
         "x": [
          0.2698412698412698,
          0.15151515151515152,
          0.1780821917808219,
          0.23170731707317074,
          0.2,
          0.20754716981132076,
          0.2698412698412698
         ],
         "y": [
          "Biol",
          "Esta",
          "Farm",
          "Fisi",
          "Geol",
          "Mate",
          "Quim"
         ]
        }
       ],
       "layout": {
        "barmode": "stack",
        "height": 400,
        "template": {
         "data": {
          "bar": [
           {
            "error_x": {
             "color": "#2a3f5f"
            },
            "error_y": {
             "color": "#2a3f5f"
            },
            "marker": {
             "line": {
              "color": "#E5ECF6",
              "width": 0.5
             },
             "pattern": {
              "fillmode": "overlay",
              "size": 10,
              "solidity": 0.2
             }
            },
            "type": "bar"
           }
          ],
          "barpolar": [
           {
            "marker": {
             "line": {
              "color": "#E5ECF6",
              "width": 0.5
             },
             "pattern": {
              "fillmode": "overlay",
              "size": 10,
              "solidity": 0.2
             }
            },
            "type": "barpolar"
           }
          ],
          "carpet": [
           {
            "aaxis": {
             "endlinecolor": "#2a3f5f",
             "gridcolor": "white",
             "linecolor": "white",
             "minorgridcolor": "white",
             "startlinecolor": "#2a3f5f"
            },
            "baxis": {
             "endlinecolor": "#2a3f5f",
             "gridcolor": "white",
             "linecolor": "white",
             "minorgridcolor": "white",
             "startlinecolor": "#2a3f5f"
            },
            "type": "carpet"
           }
          ],
          "choropleth": [
           {
            "colorbar": {
             "outlinewidth": 0,
             "ticks": ""
            },
            "type": "choropleth"
           }
          ],
          "contour": [
           {
            "colorbar": {
             "outlinewidth": 0,
             "ticks": ""
            },
            "colorscale": [
             [
              0,
              "#0d0887"
             ],
             [
              0.1111111111111111,
              "#46039f"
             ],
             [
              0.2222222222222222,
              "#7201a8"
             ],
             [
              0.3333333333333333,
              "#9c179e"
             ],
             [
              0.4444444444444444,
              "#bd3786"
             ],
             [
              0.5555555555555556,
              "#d8576b"
             ],
             [
              0.6666666666666666,
              "#ed7953"
             ],
             [
              0.7777777777777778,
              "#fb9f3a"
             ],
             [
              0.8888888888888888,
              "#fdca26"
             ],
             [
              1,
              "#f0f921"
             ]
            ],
            "type": "contour"
           }
          ],
          "contourcarpet": [
           {
            "colorbar": {
             "outlinewidth": 0,
             "ticks": ""
            },
            "type": "contourcarpet"
           }
          ],
          "heatmap": [
           {
            "colorbar": {
             "outlinewidth": 0,
             "ticks": ""
            },
            "colorscale": [
             [
              0,
              "#0d0887"
             ],
             [
              0.1111111111111111,
              "#46039f"
             ],
             [
              0.2222222222222222,
              "#7201a8"
             ],
             [
              0.3333333333333333,
              "#9c179e"
             ],
             [
              0.4444444444444444,
              "#bd3786"
             ],
             [
              0.5555555555555556,
              "#d8576b"
             ],
             [
              0.6666666666666666,
              "#ed7953"
             ],
             [
              0.7777777777777778,
              "#fb9f3a"
             ],
             [
              0.8888888888888888,
              "#fdca26"
             ],
             [
              1,
              "#f0f921"
             ]
            ],
            "type": "heatmap"
           }
          ],
          "heatmapgl": [
           {
            "colorbar": {
             "outlinewidth": 0,
             "ticks": ""
            },
            "colorscale": [
             [
              0,
              "#0d0887"
             ],
             [
              0.1111111111111111,
              "#46039f"
             ],
             [
              0.2222222222222222,
              "#7201a8"
             ],
             [
              0.3333333333333333,
              "#9c179e"
             ],
             [
              0.4444444444444444,
              "#bd3786"
             ],
             [
              0.5555555555555556,
              "#d8576b"
             ],
             [
              0.6666666666666666,
              "#ed7953"
             ],
             [
              0.7777777777777778,
              "#fb9f3a"
             ],
             [
              0.8888888888888888,
              "#fdca26"
             ],
             [
              1,
              "#f0f921"
             ]
            ],
            "type": "heatmapgl"
           }
          ],
          "histogram": [
           {
            "marker": {
             "pattern": {
              "fillmode": "overlay",
              "size": 10,
              "solidity": 0.2
             }
            },
            "type": "histogram"
           }
          ],
          "histogram2d": [
           {
            "colorbar": {
             "outlinewidth": 0,
             "ticks": ""
            },
            "colorscale": [
             [
              0,
              "#0d0887"
             ],
             [
              0.1111111111111111,
              "#46039f"
             ],
             [
              0.2222222222222222,
              "#7201a8"
             ],
             [
              0.3333333333333333,
              "#9c179e"
             ],
             [
              0.4444444444444444,
              "#bd3786"
             ],
             [
              0.5555555555555556,
              "#d8576b"
             ],
             [
              0.6666666666666666,
              "#ed7953"
             ],
             [
              0.7777777777777778,
              "#fb9f3a"
             ],
             [
              0.8888888888888888,
              "#fdca26"
             ],
             [
              1,
              "#f0f921"
             ]
            ],
            "type": "histogram2d"
           }
          ],
          "histogram2dcontour": [
           {
            "colorbar": {
             "outlinewidth": 0,
             "ticks": ""
            },
            "colorscale": [
             [
              0,
              "#0d0887"
             ],
             [
              0.1111111111111111,
              "#46039f"
             ],
             [
              0.2222222222222222,
              "#7201a8"
             ],
             [
              0.3333333333333333,
              "#9c179e"
             ],
             [
              0.4444444444444444,
              "#bd3786"
             ],
             [
              0.5555555555555556,
              "#d8576b"
             ],
             [
              0.6666666666666666,
              "#ed7953"
             ],
             [
              0.7777777777777778,
              "#fb9f3a"
             ],
             [
              0.8888888888888888,
              "#fdca26"
             ],
             [
              1,
              "#f0f921"
             ]
            ],
            "type": "histogram2dcontour"
           }
          ],
          "mesh3d": [
           {
            "colorbar": {
             "outlinewidth": 0,
             "ticks": ""
            },
            "type": "mesh3d"
           }
          ],
          "parcoords": [
           {
            "line": {
             "colorbar": {
              "outlinewidth": 0,
              "ticks": ""
             }
            },
            "type": "parcoords"
           }
          ],
          "pie": [
           {
            "automargin": true,
            "type": "pie"
           }
          ],
          "scatter": [
           {
            "fillpattern": {
             "fillmode": "overlay",
             "size": 10,
             "solidity": 0.2
            },
            "type": "scatter"
           }
          ],
          "scatter3d": [
           {
            "line": {
             "colorbar": {
              "outlinewidth": 0,
              "ticks": ""
             }
            },
            "marker": {
             "colorbar": {
              "outlinewidth": 0,
              "ticks": ""
             }
            },
            "type": "scatter3d"
           }
          ],
          "scattercarpet": [
           {
            "marker": {
             "colorbar": {
              "outlinewidth": 0,
              "ticks": ""
             }
            },
            "type": "scattercarpet"
           }
          ],
          "scattergeo": [
           {
            "marker": {
             "colorbar": {
              "outlinewidth": 0,
              "ticks": ""
             }
            },
            "type": "scattergeo"
           }
          ],
          "scattergl": [
           {
            "marker": {
             "colorbar": {
              "outlinewidth": 0,
              "ticks": ""
             }
            },
            "type": "scattergl"
           }
          ],
          "scattermapbox": [
           {
            "marker": {
             "colorbar": {
              "outlinewidth": 0,
              "ticks": ""
             }
            },
            "type": "scattermapbox"
           }
          ],
          "scatterpolar": [
           {
            "marker": {
             "colorbar": {
              "outlinewidth": 0,
              "ticks": ""
             }
            },
            "type": "scatterpolar"
           }
          ],
          "scatterpolargl": [
           {
            "marker": {
             "colorbar": {
              "outlinewidth": 0,
              "ticks": ""
             }
            },
            "type": "scatterpolargl"
           }
          ],
          "scatterternary": [
           {
            "marker": {
             "colorbar": {
              "outlinewidth": 0,
              "ticks": ""
             }
            },
            "type": "scatterternary"
           }
          ],
          "surface": [
           {
            "colorbar": {
             "outlinewidth": 0,
             "ticks": ""
            },
            "colorscale": [
             [
              0,
              "#0d0887"
             ],
             [
              0.1111111111111111,
              "#46039f"
             ],
             [
              0.2222222222222222,
              "#7201a8"
             ],
             [
              0.3333333333333333,
              "#9c179e"
             ],
             [
              0.4444444444444444,
              "#bd3786"
             ],
             [
              0.5555555555555556,
              "#d8576b"
             ],
             [
              0.6666666666666666,
              "#ed7953"
             ],
             [
              0.7777777777777778,
              "#fb9f3a"
             ],
             [
              0.8888888888888888,
              "#fdca26"
             ],
             [
              1,
              "#f0f921"
             ]
            ],
            "type": "surface"
           }
          ],
          "table": [
           {
            "cells": {
             "fill": {
              "color": "#EBF0F8"
             },
             "line": {
              "color": "white"
             }
            },
            "header": {
             "fill": {
              "color": "#C8D4E3"
             },
             "line": {
              "color": "white"
             }
            },
            "type": "table"
           }
          ]
         },
         "layout": {
          "annotationdefaults": {
           "arrowcolor": "#2a3f5f",
           "arrowhead": 0,
           "arrowwidth": 1
          },
          "autotypenumbers": "strict",
          "coloraxis": {
           "colorbar": {
            "outlinewidth": 0,
            "ticks": ""
           }
          },
          "colorscale": {
           "diverging": [
            [
             0,
             "#8e0152"
            ],
            [
             0.1,
             "#c51b7d"
            ],
            [
             0.2,
             "#de77ae"
            ],
            [
             0.3,
             "#f1b6da"
            ],
            [
             0.4,
             "#fde0ef"
            ],
            [
             0.5,
             "#f7f7f7"
            ],
            [
             0.6,
             "#e6f5d0"
            ],
            [
             0.7,
             "#b8e186"
            ],
            [
             0.8,
             "#7fbc41"
            ],
            [
             0.9,
             "#4d9221"
            ],
            [
             1,
             "#276419"
            ]
           ],
           "sequential": [
            [
             0,
             "#0d0887"
            ],
            [
             0.1111111111111111,
             "#46039f"
            ],
            [
             0.2222222222222222,
             "#7201a8"
            ],
            [
             0.3333333333333333,
             "#9c179e"
            ],
            [
             0.4444444444444444,
             "#bd3786"
            ],
            [
             0.5555555555555556,
             "#d8576b"
            ],
            [
             0.6666666666666666,
             "#ed7953"
            ],
            [
             0.7777777777777778,
             "#fb9f3a"
            ],
            [
             0.8888888888888888,
             "#fdca26"
            ],
            [
             1,
             "#f0f921"
            ]
           ],
           "sequentialminus": [
            [
             0,
             "#0d0887"
            ],
            [
             0.1111111111111111,
             "#46039f"
            ],
            [
             0.2222222222222222,
             "#7201a8"
            ],
            [
             0.3333333333333333,
             "#9c179e"
            ],
            [
             0.4444444444444444,
             "#bd3786"
            ],
            [
             0.5555555555555556,
             "#d8576b"
            ],
            [
             0.6666666666666666,
             "#ed7953"
            ],
            [
             0.7777777777777778,
             "#fb9f3a"
            ],
            [
             0.8888888888888888,
             "#fdca26"
            ],
            [
             1,
             "#f0f921"
            ]
           ]
          },
          "colorway": [
           "#636efa",
           "#EF553B",
           "#00cc96",
           "#ab63fa",
           "#FFA15A",
           "#19d3f3",
           "#FF6692",
           "#B6E880",
           "#FF97FF",
           "#FECB52"
          ],
          "font": {
           "color": "#2a3f5f"
          },
          "geo": {
           "bgcolor": "white",
           "lakecolor": "white",
           "landcolor": "#E5ECF6",
           "showlakes": true,
           "showland": true,
           "subunitcolor": "white"
          },
          "hoverlabel": {
           "align": "left"
          },
          "hovermode": "closest",
          "mapbox": {
           "style": "light"
          },
          "paper_bgcolor": "white",
          "plot_bgcolor": "#E5ECF6",
          "polar": {
           "angularaxis": {
            "gridcolor": "white",
            "linecolor": "white",
            "ticks": ""
           },
           "bgcolor": "#E5ECF6",
           "radialaxis": {
            "gridcolor": "white",
            "linecolor": "white",
            "ticks": ""
           }
          },
          "scene": {
           "xaxis": {
            "backgroundcolor": "#E5ECF6",
            "gridcolor": "white",
            "gridwidth": 2,
            "linecolor": "white",
            "showbackground": true,
            "ticks": "",
            "zerolinecolor": "white"
           },
           "yaxis": {
            "backgroundcolor": "#E5ECF6",
            "gridcolor": "white",
            "gridwidth": 2,
            "linecolor": "white",
            "showbackground": true,
            "ticks": "",
            "zerolinecolor": "white"
           },
           "zaxis": {
            "backgroundcolor": "#E5ECF6",
            "gridcolor": "white",
            "gridwidth": 2,
            "linecolor": "white",
            "showbackground": true,
            "ticks": "",
            "zerolinecolor": "white"
           }
          },
          "shapedefaults": {
           "line": {
            "color": "#2a3f5f"
           }
          },
          "ternary": {
           "aaxis": {
            "gridcolor": "white",
            "linecolor": "white",
            "ticks": ""
           },
           "baxis": {
            "gridcolor": "white",
            "linecolor": "white",
            "ticks": ""
           },
           "bgcolor": "#E5ECF6",
           "caxis": {
            "gridcolor": "white",
            "linecolor": "white",
            "ticks": ""
           }
          },
          "title": {
           "x": 0.05
          },
          "xaxis": {
           "automargin": true,
           "gridcolor": "white",
           "linecolor": "white",
           "ticks": "",
           "title": {
            "standoff": 15
           },
           "zerolinecolor": "white",
           "zerolinewidth": 2
          },
          "yaxis": {
           "automargin": true,
           "gridcolor": "white",
           "linecolor": "white",
           "ticks": "",
           "title": {
            "standoff": 15
           },
           "zerolinecolor": "white",
           "zerolinewidth": 2
          }
         }
        },
        "title": {
         "text": "Origen"
        },
        "width": 700,
        "xaxis": {
         "dtick": 0.1
        },
        "yaxis": {
         "title": {
          "text": "Carrera"
         }
        }
       }
      }
     },
     "metadata": {},
     "output_type": "display_data"
    }
   ],
   "source": [
    "# Calcular porcentajes de la tabla de contingencia 'K_carr_est' excluyendo la fila y columna totales\n",
    "K_carr_orig_perc = K_carr_orig.iloc[:-1, :-1].apply(lambda x: x/x.sum(), axis=1)\n",
    "\n",
    "# Crear la figura\n",
    "fig = go.Figure()\n",
    "\n",
    "# Iterar sobre las columnas de la tabla de contingencia\n",
    "for col in K_carr_orig_perc.columns:\n",
    "    # Crear un gráfico de barras horizontal para cada columna\n",
    "    category_percents = [f'{val:.2f}' for val in K_carr_orig_perc[col]]\n",
    "    fig.add_trace(go.Bar(\n",
    "        x=K_carr_orig_perc[col],\n",
    "        y=K_carr_orig_perc.index,\n",
    "        name=col,\n",
    "        orientation='h',\n",
    "        text=category_percents,\n",
    "        textposition='inside',\n",
    "        textfont=dict(color='black')\n",
    "    ))\n",
    "\n",
    "# Actualizar la configuración de la figura\n",
    "fig.update_layout(\n",
    "    title='Origen',\n",
    "    xaxis=dict(dtick=0.10),\n",
    "    yaxis_title='Carrera',\n",
    "    barmode='stack',\n",
    "    width=700, height=400\n",
    ")\n",
    "\n",
    "# Mostrar la figura\n",
    "fig.show()"
   ]
  },
  {
   "cell_type": "code",
   "execution_count": 54,
   "metadata": {},
   "outputs": [
    {
     "data": {
      "text/html": [
       "<div>\n",
       "<style scoped>\n",
       "    .dataframe tbody tr th:only-of-type {\n",
       "        vertical-align: middle;\n",
       "    }\n",
       "\n",
       "    .dataframe tbody tr th {\n",
       "        vertical-align: top;\n",
       "    }\n",
       "\n",
       "    .dataframe thead th {\n",
       "        text-align: right;\n",
       "    }\n",
       "</style>\n",
       "<table border=\"1\" class=\"dataframe\">\n",
       "  <thead>\n",
       "    <tr style=\"text-align: right;\">\n",
       "      <th>gene</th>\n",
       "      <th>F</th>\n",
       "      <th>M</th>\n",
       "      <th>Suma</th>\n",
       "    </tr>\n",
       "    <tr>\n",
       "      <th>carr</th>\n",
       "      <th></th>\n",
       "      <th></th>\n",
       "      <th></th>\n",
       "    </tr>\n",
       "  </thead>\n",
       "  <tbody>\n",
       "    <tr>\n",
       "      <th>Biol</th>\n",
       "      <td>23</td>\n",
       "      <td>40</td>\n",
       "      <td>63</td>\n",
       "    </tr>\n",
       "    <tr>\n",
       "      <th>Esta</th>\n",
       "      <td>17</td>\n",
       "      <td>49</td>\n",
       "      <td>66</td>\n",
       "    </tr>\n",
       "    <tr>\n",
       "      <th>Farm</th>\n",
       "      <td>40</td>\n",
       "      <td>33</td>\n",
       "      <td>73</td>\n",
       "    </tr>\n",
       "    <tr>\n",
       "      <th>Fisi</th>\n",
       "      <td>13</td>\n",
       "      <td>69</td>\n",
       "      <td>82</td>\n",
       "    </tr>\n",
       "    <tr>\n",
       "      <th>Geol</th>\n",
       "      <td>8</td>\n",
       "      <td>37</td>\n",
       "      <td>45</td>\n",
       "    </tr>\n",
       "    <tr>\n",
       "      <th>Mate</th>\n",
       "      <td>6</td>\n",
       "      <td>47</td>\n",
       "      <td>53</td>\n",
       "    </tr>\n",
       "    <tr>\n",
       "      <th>Quim</th>\n",
       "      <td>21</td>\n",
       "      <td>42</td>\n",
       "      <td>63</td>\n",
       "    </tr>\n",
       "    <tr>\n",
       "      <th>Suma</th>\n",
       "      <td>128</td>\n",
       "      <td>317</td>\n",
       "      <td>445</td>\n",
       "    </tr>\n",
       "  </tbody>\n",
       "</table>\n",
       "</div>"
      ],
      "text/plain": [
       "gene    F    M  Suma\n",
       "carr                \n",
       "Biol   23   40    63\n",
       "Esta   17   49    66\n",
       "Farm   40   33    73\n",
       "Fisi   13   69    82\n",
       "Geol    8   37    45\n",
       "Mate    6   47    53\n",
       "Quim   21   42    63\n",
       "Suma  128  317   445"
      ]
     },
     "execution_count": 54,
     "metadata": {},
     "output_type": "execute_result"
    }
   ],
   "source": [
    "# Crear una tabla de contingencia entre las columnas 'carr' y 'gene' del DataFrame 'admi'\n",
    "K_carr_gene = pd.crosstab(index=admi['carr'], columns=admi['gene'], margins=True, margins_name='Suma')\n",
    "\n",
    "# Mostrar la tabla de contingencia 'K_carr_gene' con los datos de las carreras y los orígenes\n",
    "K_carr_gene"
   ]
  },
  {
   "cell_type": "code",
   "execution_count": 55,
   "metadata": {},
   "outputs": [
    {
     "data": {
      "application/vnd.plotly.v1+json": {
       "config": {
        "plotlyServerURL": "https://plot.ly"
       },
       "data": [
        {
         "name": "F",
         "orientation": "h",
         "text": [
          "0.37",
          "0.26",
          "0.55",
          "0.16",
          "0.18",
          "0.11",
          "0.33"
         ],
         "textfont": {
          "color": "black"
         },
         "textposition": "inside",
         "type": "bar",
         "x": [
          0.36507936507936506,
          0.25757575757575757,
          0.547945205479452,
          0.15853658536585366,
          0.17777777777777778,
          0.11320754716981132,
          0.3333333333333333
         ],
         "y": [
          "Biol",
          "Esta",
          "Farm",
          "Fisi",
          "Geol",
          "Mate",
          "Quim"
         ]
        },
        {
         "name": "M",
         "orientation": "h",
         "text": [
          "0.63",
          "0.74",
          "0.45",
          "0.84",
          "0.82",
          "0.89",
          "0.67"
         ],
         "textfont": {
          "color": "black"
         },
         "textposition": "inside",
         "type": "bar",
         "x": [
          0.6349206349206349,
          0.7424242424242424,
          0.4520547945205479,
          0.8414634146341463,
          0.8222222222222222,
          0.8867924528301887,
          0.6666666666666666
         ],
         "y": [
          "Biol",
          "Esta",
          "Farm",
          "Fisi",
          "Geol",
          "Mate",
          "Quim"
         ]
        }
       ],
       "layout": {
        "barmode": "stack",
        "height": 400,
        "template": {
         "data": {
          "bar": [
           {
            "error_x": {
             "color": "#2a3f5f"
            },
            "error_y": {
             "color": "#2a3f5f"
            },
            "marker": {
             "line": {
              "color": "#E5ECF6",
              "width": 0.5
             },
             "pattern": {
              "fillmode": "overlay",
              "size": 10,
              "solidity": 0.2
             }
            },
            "type": "bar"
           }
          ],
          "barpolar": [
           {
            "marker": {
             "line": {
              "color": "#E5ECF6",
              "width": 0.5
             },
             "pattern": {
              "fillmode": "overlay",
              "size": 10,
              "solidity": 0.2
             }
            },
            "type": "barpolar"
           }
          ],
          "carpet": [
           {
            "aaxis": {
             "endlinecolor": "#2a3f5f",
             "gridcolor": "white",
             "linecolor": "white",
             "minorgridcolor": "white",
             "startlinecolor": "#2a3f5f"
            },
            "baxis": {
             "endlinecolor": "#2a3f5f",
             "gridcolor": "white",
             "linecolor": "white",
             "minorgridcolor": "white",
             "startlinecolor": "#2a3f5f"
            },
            "type": "carpet"
           }
          ],
          "choropleth": [
           {
            "colorbar": {
             "outlinewidth": 0,
             "ticks": ""
            },
            "type": "choropleth"
           }
          ],
          "contour": [
           {
            "colorbar": {
             "outlinewidth": 0,
             "ticks": ""
            },
            "colorscale": [
             [
              0,
              "#0d0887"
             ],
             [
              0.1111111111111111,
              "#46039f"
             ],
             [
              0.2222222222222222,
              "#7201a8"
             ],
             [
              0.3333333333333333,
              "#9c179e"
             ],
             [
              0.4444444444444444,
              "#bd3786"
             ],
             [
              0.5555555555555556,
              "#d8576b"
             ],
             [
              0.6666666666666666,
              "#ed7953"
             ],
             [
              0.7777777777777778,
              "#fb9f3a"
             ],
             [
              0.8888888888888888,
              "#fdca26"
             ],
             [
              1,
              "#f0f921"
             ]
            ],
            "type": "contour"
           }
          ],
          "contourcarpet": [
           {
            "colorbar": {
             "outlinewidth": 0,
             "ticks": ""
            },
            "type": "contourcarpet"
           }
          ],
          "heatmap": [
           {
            "colorbar": {
             "outlinewidth": 0,
             "ticks": ""
            },
            "colorscale": [
             [
              0,
              "#0d0887"
             ],
             [
              0.1111111111111111,
              "#46039f"
             ],
             [
              0.2222222222222222,
              "#7201a8"
             ],
             [
              0.3333333333333333,
              "#9c179e"
             ],
             [
              0.4444444444444444,
              "#bd3786"
             ],
             [
              0.5555555555555556,
              "#d8576b"
             ],
             [
              0.6666666666666666,
              "#ed7953"
             ],
             [
              0.7777777777777778,
              "#fb9f3a"
             ],
             [
              0.8888888888888888,
              "#fdca26"
             ],
             [
              1,
              "#f0f921"
             ]
            ],
            "type": "heatmap"
           }
          ],
          "heatmapgl": [
           {
            "colorbar": {
             "outlinewidth": 0,
             "ticks": ""
            },
            "colorscale": [
             [
              0,
              "#0d0887"
             ],
             [
              0.1111111111111111,
              "#46039f"
             ],
             [
              0.2222222222222222,
              "#7201a8"
             ],
             [
              0.3333333333333333,
              "#9c179e"
             ],
             [
              0.4444444444444444,
              "#bd3786"
             ],
             [
              0.5555555555555556,
              "#d8576b"
             ],
             [
              0.6666666666666666,
              "#ed7953"
             ],
             [
              0.7777777777777778,
              "#fb9f3a"
             ],
             [
              0.8888888888888888,
              "#fdca26"
             ],
             [
              1,
              "#f0f921"
             ]
            ],
            "type": "heatmapgl"
           }
          ],
          "histogram": [
           {
            "marker": {
             "pattern": {
              "fillmode": "overlay",
              "size": 10,
              "solidity": 0.2
             }
            },
            "type": "histogram"
           }
          ],
          "histogram2d": [
           {
            "colorbar": {
             "outlinewidth": 0,
             "ticks": ""
            },
            "colorscale": [
             [
              0,
              "#0d0887"
             ],
             [
              0.1111111111111111,
              "#46039f"
             ],
             [
              0.2222222222222222,
              "#7201a8"
             ],
             [
              0.3333333333333333,
              "#9c179e"
             ],
             [
              0.4444444444444444,
              "#bd3786"
             ],
             [
              0.5555555555555556,
              "#d8576b"
             ],
             [
              0.6666666666666666,
              "#ed7953"
             ],
             [
              0.7777777777777778,
              "#fb9f3a"
             ],
             [
              0.8888888888888888,
              "#fdca26"
             ],
             [
              1,
              "#f0f921"
             ]
            ],
            "type": "histogram2d"
           }
          ],
          "histogram2dcontour": [
           {
            "colorbar": {
             "outlinewidth": 0,
             "ticks": ""
            },
            "colorscale": [
             [
              0,
              "#0d0887"
             ],
             [
              0.1111111111111111,
              "#46039f"
             ],
             [
              0.2222222222222222,
              "#7201a8"
             ],
             [
              0.3333333333333333,
              "#9c179e"
             ],
             [
              0.4444444444444444,
              "#bd3786"
             ],
             [
              0.5555555555555556,
              "#d8576b"
             ],
             [
              0.6666666666666666,
              "#ed7953"
             ],
             [
              0.7777777777777778,
              "#fb9f3a"
             ],
             [
              0.8888888888888888,
              "#fdca26"
             ],
             [
              1,
              "#f0f921"
             ]
            ],
            "type": "histogram2dcontour"
           }
          ],
          "mesh3d": [
           {
            "colorbar": {
             "outlinewidth": 0,
             "ticks": ""
            },
            "type": "mesh3d"
           }
          ],
          "parcoords": [
           {
            "line": {
             "colorbar": {
              "outlinewidth": 0,
              "ticks": ""
             }
            },
            "type": "parcoords"
           }
          ],
          "pie": [
           {
            "automargin": true,
            "type": "pie"
           }
          ],
          "scatter": [
           {
            "fillpattern": {
             "fillmode": "overlay",
             "size": 10,
             "solidity": 0.2
            },
            "type": "scatter"
           }
          ],
          "scatter3d": [
           {
            "line": {
             "colorbar": {
              "outlinewidth": 0,
              "ticks": ""
             }
            },
            "marker": {
             "colorbar": {
              "outlinewidth": 0,
              "ticks": ""
             }
            },
            "type": "scatter3d"
           }
          ],
          "scattercarpet": [
           {
            "marker": {
             "colorbar": {
              "outlinewidth": 0,
              "ticks": ""
             }
            },
            "type": "scattercarpet"
           }
          ],
          "scattergeo": [
           {
            "marker": {
             "colorbar": {
              "outlinewidth": 0,
              "ticks": ""
             }
            },
            "type": "scattergeo"
           }
          ],
          "scattergl": [
           {
            "marker": {
             "colorbar": {
              "outlinewidth": 0,
              "ticks": ""
             }
            },
            "type": "scattergl"
           }
          ],
          "scattermapbox": [
           {
            "marker": {
             "colorbar": {
              "outlinewidth": 0,
              "ticks": ""
             }
            },
            "type": "scattermapbox"
           }
          ],
          "scatterpolar": [
           {
            "marker": {
             "colorbar": {
              "outlinewidth": 0,
              "ticks": ""
             }
            },
            "type": "scatterpolar"
           }
          ],
          "scatterpolargl": [
           {
            "marker": {
             "colorbar": {
              "outlinewidth": 0,
              "ticks": ""
             }
            },
            "type": "scatterpolargl"
           }
          ],
          "scatterternary": [
           {
            "marker": {
             "colorbar": {
              "outlinewidth": 0,
              "ticks": ""
             }
            },
            "type": "scatterternary"
           }
          ],
          "surface": [
           {
            "colorbar": {
             "outlinewidth": 0,
             "ticks": ""
            },
            "colorscale": [
             [
              0,
              "#0d0887"
             ],
             [
              0.1111111111111111,
              "#46039f"
             ],
             [
              0.2222222222222222,
              "#7201a8"
             ],
             [
              0.3333333333333333,
              "#9c179e"
             ],
             [
              0.4444444444444444,
              "#bd3786"
             ],
             [
              0.5555555555555556,
              "#d8576b"
             ],
             [
              0.6666666666666666,
              "#ed7953"
             ],
             [
              0.7777777777777778,
              "#fb9f3a"
             ],
             [
              0.8888888888888888,
              "#fdca26"
             ],
             [
              1,
              "#f0f921"
             ]
            ],
            "type": "surface"
           }
          ],
          "table": [
           {
            "cells": {
             "fill": {
              "color": "#EBF0F8"
             },
             "line": {
              "color": "white"
             }
            },
            "header": {
             "fill": {
              "color": "#C8D4E3"
             },
             "line": {
              "color": "white"
             }
            },
            "type": "table"
           }
          ]
         },
         "layout": {
          "annotationdefaults": {
           "arrowcolor": "#2a3f5f",
           "arrowhead": 0,
           "arrowwidth": 1
          },
          "autotypenumbers": "strict",
          "coloraxis": {
           "colorbar": {
            "outlinewidth": 0,
            "ticks": ""
           }
          },
          "colorscale": {
           "diverging": [
            [
             0,
             "#8e0152"
            ],
            [
             0.1,
             "#c51b7d"
            ],
            [
             0.2,
             "#de77ae"
            ],
            [
             0.3,
             "#f1b6da"
            ],
            [
             0.4,
             "#fde0ef"
            ],
            [
             0.5,
             "#f7f7f7"
            ],
            [
             0.6,
             "#e6f5d0"
            ],
            [
             0.7,
             "#b8e186"
            ],
            [
             0.8,
             "#7fbc41"
            ],
            [
             0.9,
             "#4d9221"
            ],
            [
             1,
             "#276419"
            ]
           ],
           "sequential": [
            [
             0,
             "#0d0887"
            ],
            [
             0.1111111111111111,
             "#46039f"
            ],
            [
             0.2222222222222222,
             "#7201a8"
            ],
            [
             0.3333333333333333,
             "#9c179e"
            ],
            [
             0.4444444444444444,
             "#bd3786"
            ],
            [
             0.5555555555555556,
             "#d8576b"
            ],
            [
             0.6666666666666666,
             "#ed7953"
            ],
            [
             0.7777777777777778,
             "#fb9f3a"
            ],
            [
             0.8888888888888888,
             "#fdca26"
            ],
            [
             1,
             "#f0f921"
            ]
           ],
           "sequentialminus": [
            [
             0,
             "#0d0887"
            ],
            [
             0.1111111111111111,
             "#46039f"
            ],
            [
             0.2222222222222222,
             "#7201a8"
            ],
            [
             0.3333333333333333,
             "#9c179e"
            ],
            [
             0.4444444444444444,
             "#bd3786"
            ],
            [
             0.5555555555555556,
             "#d8576b"
            ],
            [
             0.6666666666666666,
             "#ed7953"
            ],
            [
             0.7777777777777778,
             "#fb9f3a"
            ],
            [
             0.8888888888888888,
             "#fdca26"
            ],
            [
             1,
             "#f0f921"
            ]
           ]
          },
          "colorway": [
           "#636efa",
           "#EF553B",
           "#00cc96",
           "#ab63fa",
           "#FFA15A",
           "#19d3f3",
           "#FF6692",
           "#B6E880",
           "#FF97FF",
           "#FECB52"
          ],
          "font": {
           "color": "#2a3f5f"
          },
          "geo": {
           "bgcolor": "white",
           "lakecolor": "white",
           "landcolor": "#E5ECF6",
           "showlakes": true,
           "showland": true,
           "subunitcolor": "white"
          },
          "hoverlabel": {
           "align": "left"
          },
          "hovermode": "closest",
          "mapbox": {
           "style": "light"
          },
          "paper_bgcolor": "white",
          "plot_bgcolor": "#E5ECF6",
          "polar": {
           "angularaxis": {
            "gridcolor": "white",
            "linecolor": "white",
            "ticks": ""
           },
           "bgcolor": "#E5ECF6",
           "radialaxis": {
            "gridcolor": "white",
            "linecolor": "white",
            "ticks": ""
           }
          },
          "scene": {
           "xaxis": {
            "backgroundcolor": "#E5ECF6",
            "gridcolor": "white",
            "gridwidth": 2,
            "linecolor": "white",
            "showbackground": true,
            "ticks": "",
            "zerolinecolor": "white"
           },
           "yaxis": {
            "backgroundcolor": "#E5ECF6",
            "gridcolor": "white",
            "gridwidth": 2,
            "linecolor": "white",
            "showbackground": true,
            "ticks": "",
            "zerolinecolor": "white"
           },
           "zaxis": {
            "backgroundcolor": "#E5ECF6",
            "gridcolor": "white",
            "gridwidth": 2,
            "linecolor": "white",
            "showbackground": true,
            "ticks": "",
            "zerolinecolor": "white"
           }
          },
          "shapedefaults": {
           "line": {
            "color": "#2a3f5f"
           }
          },
          "ternary": {
           "aaxis": {
            "gridcolor": "white",
            "linecolor": "white",
            "ticks": ""
           },
           "baxis": {
            "gridcolor": "white",
            "linecolor": "white",
            "ticks": ""
           },
           "bgcolor": "#E5ECF6",
           "caxis": {
            "gridcolor": "white",
            "linecolor": "white",
            "ticks": ""
           }
          },
          "title": {
           "x": 0.05
          },
          "xaxis": {
           "automargin": true,
           "gridcolor": "white",
           "linecolor": "white",
           "ticks": "",
           "title": {
            "standoff": 15
           },
           "zerolinecolor": "white",
           "zerolinewidth": 2
          },
          "yaxis": {
           "automargin": true,
           "gridcolor": "white",
           "linecolor": "white",
           "ticks": "",
           "title": {
            "standoff": 15
           },
           "zerolinecolor": "white",
           "zerolinewidth": 2
          }
         }
        },
        "title": {
         "text": "Género"
        },
        "width": 700,
        "xaxis": {
         "dtick": 0.1
        },
        "yaxis": {
         "title": {
          "text": "Carrera"
         }
        }
       }
      }
     },
     "metadata": {},
     "output_type": "display_data"
    }
   ],
   "source": [
    "# Calcular porcentajes de la tabla de contingencia 'K_carr_est' excluyendo la fila y columna totales\n",
    "K_carr_gene_perc = K_carr_gene.iloc[:-1, :-1].apply(lambda x: x/x.sum(), axis=1)\n",
    "\n",
    "# Crear la figura\n",
    "fig = go.Figure()\n",
    "\n",
    "# Iterar sobre las columnas de la tabla de contingencia\n",
    "for col in K_carr_gene_perc.columns:\n",
    "    # Crear un gráfico de barras horizontal para cada columna\n",
    "    category_percents = [f'{val:.2f}' for val in K_carr_gene_perc[col]]\n",
    "    fig.add_trace(go.Bar(\n",
    "        x=K_carr_gene_perc[col],\n",
    "        y=K_carr_gene_perc.index,\n",
    "        name=col,\n",
    "        orientation='h',\n",
    "        text=category_percents,\n",
    "        textposition='inside',\n",
    "        textfont=dict(color='black')\n",
    "    ))\n",
    "\n",
    "# Actualizar la configuración de la figura\n",
    "fig.update_layout(\n",
    "    title='Género',\n",
    "    xaxis=dict(dtick=0.10),\n",
    "    yaxis_title='Carrera',\n",
    "    barmode='stack',\n",
    "    width=700, height=400\n",
    ")\n",
    "\n",
    "# Mostrar la figura\n",
    "fig.show()"
   ]
  },
  {
   "cell_type": "code",
   "execution_count": 56,
   "metadata": {},
   "outputs": [
    {
     "data": {
      "text/html": [
       "<div>\n",
       "<style scoped>\n",
       "    .dataframe tbody tr th:only-of-type {\n",
       "        vertical-align: middle;\n",
       "    }\n",
       "\n",
       "    .dataframe tbody tr th {\n",
       "        vertical-align: top;\n",
       "    }\n",
       "\n",
       "    .dataframe thead th {\n",
       "        text-align: right;\n",
       "    }\n",
       "</style>\n",
       "<table border=\"1\" class=\"dataframe\">\n",
       "  <thead>\n",
       "    <tr style=\"text-align: right;\">\n",
       "      <th>edad</th>\n",
       "      <th>a16m</th>\n",
       "      <th>a17</th>\n",
       "      <th>a18</th>\n",
       "      <th>a19M</th>\n",
       "      <th>Suma</th>\n",
       "    </tr>\n",
       "    <tr>\n",
       "      <th>carr</th>\n",
       "      <th></th>\n",
       "      <th></th>\n",
       "      <th></th>\n",
       "      <th></th>\n",
       "      <th></th>\n",
       "    </tr>\n",
       "  </thead>\n",
       "  <tbody>\n",
       "    <tr>\n",
       "      <th>Biol</th>\n",
       "      <td>15</td>\n",
       "      <td>27</td>\n",
       "      <td>9</td>\n",
       "      <td>12</td>\n",
       "      <td>63</td>\n",
       "    </tr>\n",
       "    <tr>\n",
       "      <th>Esta</th>\n",
       "      <td>18</td>\n",
       "      <td>28</td>\n",
       "      <td>5</td>\n",
       "      <td>15</td>\n",
       "      <td>66</td>\n",
       "    </tr>\n",
       "    <tr>\n",
       "      <th>Farm</th>\n",
       "      <td>18</td>\n",
       "      <td>26</td>\n",
       "      <td>15</td>\n",
       "      <td>14</td>\n",
       "      <td>73</td>\n",
       "    </tr>\n",
       "    <tr>\n",
       "      <th>Fisi</th>\n",
       "      <td>21</td>\n",
       "      <td>34</td>\n",
       "      <td>12</td>\n",
       "      <td>15</td>\n",
       "      <td>82</td>\n",
       "    </tr>\n",
       "    <tr>\n",
       "      <th>Geol</th>\n",
       "      <td>11</td>\n",
       "      <td>25</td>\n",
       "      <td>2</td>\n",
       "      <td>7</td>\n",
       "      <td>45</td>\n",
       "    </tr>\n",
       "    <tr>\n",
       "      <th>Mate</th>\n",
       "      <td>11</td>\n",
       "      <td>14</td>\n",
       "      <td>5</td>\n",
       "      <td>23</td>\n",
       "      <td>53</td>\n",
       "    </tr>\n",
       "    <tr>\n",
       "      <th>Quim</th>\n",
       "      <td>24</td>\n",
       "      <td>17</td>\n",
       "      <td>8</td>\n",
       "      <td>14</td>\n",
       "      <td>63</td>\n",
       "    </tr>\n",
       "    <tr>\n",
       "      <th>Suma</th>\n",
       "      <td>118</td>\n",
       "      <td>171</td>\n",
       "      <td>56</td>\n",
       "      <td>100</td>\n",
       "      <td>445</td>\n",
       "    </tr>\n",
       "  </tbody>\n",
       "</table>\n",
       "</div>"
      ],
      "text/plain": [
       "edad  a16m  a17  a18  a19M  Suma\n",
       "carr                            \n",
       "Biol    15   27    9    12    63\n",
       "Esta    18   28    5    15    66\n",
       "Farm    18   26   15    14    73\n",
       "Fisi    21   34   12    15    82\n",
       "Geol    11   25    2     7    45\n",
       "Mate    11   14    5    23    53\n",
       "Quim    24   17    8    14    63\n",
       "Suma   118  171   56   100   445"
      ]
     },
     "execution_count": 56,
     "metadata": {},
     "output_type": "execute_result"
    }
   ],
   "source": [
    "# Crear una tabla de contingencia entre las columnas 'carr' y 'edad' del DataFrame 'admi'\n",
    "K_carr_edad = pd.crosstab(index=admi['carr'], columns=admi['edad'], margins=True, margins_name='Suma')\n",
    "\n",
    "# Mostrar la tabla de contingencia 'K_carr_gene' con los datos de las carreras y los orígenes\n",
    "K_carr_edad"
   ]
  },
  {
   "cell_type": "code",
   "execution_count": 57,
   "metadata": {},
   "outputs": [
    {
     "data": {
      "application/vnd.plotly.v1+json": {
       "config": {
        "plotlyServerURL": "https://plot.ly"
       },
       "data": [
        {
         "name": "a16m",
         "orientation": "h",
         "text": [
          "0.24",
          "0.27",
          "0.25",
          "0.26",
          "0.24",
          "0.21",
          "0.38"
         ],
         "textfont": {
          "color": "black"
         },
         "textposition": "inside",
         "type": "bar",
         "x": [
          0.23809523809523808,
          0.2727272727272727,
          0.2465753424657534,
          0.25609756097560976,
          0.24444444444444444,
          0.20754716981132076,
          0.38095238095238093
         ],
         "y": [
          "Biol",
          "Esta",
          "Farm",
          "Fisi",
          "Geol",
          "Mate",
          "Quim"
         ]
        },
        {
         "name": "a17",
         "orientation": "h",
         "text": [
          "0.43",
          "0.42",
          "0.36",
          "0.41",
          "0.56",
          "0.26",
          "0.27"
         ],
         "textfont": {
          "color": "black"
         },
         "textposition": "inside",
         "type": "bar",
         "x": [
          0.42857142857142855,
          0.42424242424242425,
          0.3561643835616438,
          0.4146341463414634,
          0.5555555555555556,
          0.2641509433962264,
          0.2698412698412698
         ],
         "y": [
          "Biol",
          "Esta",
          "Farm",
          "Fisi",
          "Geol",
          "Mate",
          "Quim"
         ]
        },
        {
         "name": "a18",
         "orientation": "h",
         "text": [
          "0.14",
          "0.08",
          "0.21",
          "0.15",
          "0.04",
          "0.09",
          "0.13"
         ],
         "textfont": {
          "color": "black"
         },
         "textposition": "inside",
         "type": "bar",
         "x": [
          0.14285714285714285,
          0.07575757575757576,
          0.2054794520547945,
          0.14634146341463414,
          0.044444444444444446,
          0.09433962264150944,
          0.12698412698412698
         ],
         "y": [
          "Biol",
          "Esta",
          "Farm",
          "Fisi",
          "Geol",
          "Mate",
          "Quim"
         ]
        },
        {
         "name": "a19M",
         "orientation": "h",
         "text": [
          "0.19",
          "0.23",
          "0.19",
          "0.18",
          "0.16",
          "0.43",
          "0.22"
         ],
         "textfont": {
          "color": "black"
         },
         "textposition": "inside",
         "type": "bar",
         "x": [
          0.19047619047619047,
          0.22727272727272727,
          0.1917808219178082,
          0.18292682926829268,
          0.15555555555555556,
          0.4339622641509434,
          0.2222222222222222
         ],
         "y": [
          "Biol",
          "Esta",
          "Farm",
          "Fisi",
          "Geol",
          "Mate",
          "Quim"
         ]
        }
       ],
       "layout": {
        "barmode": "stack",
        "height": 400,
        "template": {
         "data": {
          "bar": [
           {
            "error_x": {
             "color": "#2a3f5f"
            },
            "error_y": {
             "color": "#2a3f5f"
            },
            "marker": {
             "line": {
              "color": "#E5ECF6",
              "width": 0.5
             },
             "pattern": {
              "fillmode": "overlay",
              "size": 10,
              "solidity": 0.2
             }
            },
            "type": "bar"
           }
          ],
          "barpolar": [
           {
            "marker": {
             "line": {
              "color": "#E5ECF6",
              "width": 0.5
             },
             "pattern": {
              "fillmode": "overlay",
              "size": 10,
              "solidity": 0.2
             }
            },
            "type": "barpolar"
           }
          ],
          "carpet": [
           {
            "aaxis": {
             "endlinecolor": "#2a3f5f",
             "gridcolor": "white",
             "linecolor": "white",
             "minorgridcolor": "white",
             "startlinecolor": "#2a3f5f"
            },
            "baxis": {
             "endlinecolor": "#2a3f5f",
             "gridcolor": "white",
             "linecolor": "white",
             "minorgridcolor": "white",
             "startlinecolor": "#2a3f5f"
            },
            "type": "carpet"
           }
          ],
          "choropleth": [
           {
            "colorbar": {
             "outlinewidth": 0,
             "ticks": ""
            },
            "type": "choropleth"
           }
          ],
          "contour": [
           {
            "colorbar": {
             "outlinewidth": 0,
             "ticks": ""
            },
            "colorscale": [
             [
              0,
              "#0d0887"
             ],
             [
              0.1111111111111111,
              "#46039f"
             ],
             [
              0.2222222222222222,
              "#7201a8"
             ],
             [
              0.3333333333333333,
              "#9c179e"
             ],
             [
              0.4444444444444444,
              "#bd3786"
             ],
             [
              0.5555555555555556,
              "#d8576b"
             ],
             [
              0.6666666666666666,
              "#ed7953"
             ],
             [
              0.7777777777777778,
              "#fb9f3a"
             ],
             [
              0.8888888888888888,
              "#fdca26"
             ],
             [
              1,
              "#f0f921"
             ]
            ],
            "type": "contour"
           }
          ],
          "contourcarpet": [
           {
            "colorbar": {
             "outlinewidth": 0,
             "ticks": ""
            },
            "type": "contourcarpet"
           }
          ],
          "heatmap": [
           {
            "colorbar": {
             "outlinewidth": 0,
             "ticks": ""
            },
            "colorscale": [
             [
              0,
              "#0d0887"
             ],
             [
              0.1111111111111111,
              "#46039f"
             ],
             [
              0.2222222222222222,
              "#7201a8"
             ],
             [
              0.3333333333333333,
              "#9c179e"
             ],
             [
              0.4444444444444444,
              "#bd3786"
             ],
             [
              0.5555555555555556,
              "#d8576b"
             ],
             [
              0.6666666666666666,
              "#ed7953"
             ],
             [
              0.7777777777777778,
              "#fb9f3a"
             ],
             [
              0.8888888888888888,
              "#fdca26"
             ],
             [
              1,
              "#f0f921"
             ]
            ],
            "type": "heatmap"
           }
          ],
          "heatmapgl": [
           {
            "colorbar": {
             "outlinewidth": 0,
             "ticks": ""
            },
            "colorscale": [
             [
              0,
              "#0d0887"
             ],
             [
              0.1111111111111111,
              "#46039f"
             ],
             [
              0.2222222222222222,
              "#7201a8"
             ],
             [
              0.3333333333333333,
              "#9c179e"
             ],
             [
              0.4444444444444444,
              "#bd3786"
             ],
             [
              0.5555555555555556,
              "#d8576b"
             ],
             [
              0.6666666666666666,
              "#ed7953"
             ],
             [
              0.7777777777777778,
              "#fb9f3a"
             ],
             [
              0.8888888888888888,
              "#fdca26"
             ],
             [
              1,
              "#f0f921"
             ]
            ],
            "type": "heatmapgl"
           }
          ],
          "histogram": [
           {
            "marker": {
             "pattern": {
              "fillmode": "overlay",
              "size": 10,
              "solidity": 0.2
             }
            },
            "type": "histogram"
           }
          ],
          "histogram2d": [
           {
            "colorbar": {
             "outlinewidth": 0,
             "ticks": ""
            },
            "colorscale": [
             [
              0,
              "#0d0887"
             ],
             [
              0.1111111111111111,
              "#46039f"
             ],
             [
              0.2222222222222222,
              "#7201a8"
             ],
             [
              0.3333333333333333,
              "#9c179e"
             ],
             [
              0.4444444444444444,
              "#bd3786"
             ],
             [
              0.5555555555555556,
              "#d8576b"
             ],
             [
              0.6666666666666666,
              "#ed7953"
             ],
             [
              0.7777777777777778,
              "#fb9f3a"
             ],
             [
              0.8888888888888888,
              "#fdca26"
             ],
             [
              1,
              "#f0f921"
             ]
            ],
            "type": "histogram2d"
           }
          ],
          "histogram2dcontour": [
           {
            "colorbar": {
             "outlinewidth": 0,
             "ticks": ""
            },
            "colorscale": [
             [
              0,
              "#0d0887"
             ],
             [
              0.1111111111111111,
              "#46039f"
             ],
             [
              0.2222222222222222,
              "#7201a8"
             ],
             [
              0.3333333333333333,
              "#9c179e"
             ],
             [
              0.4444444444444444,
              "#bd3786"
             ],
             [
              0.5555555555555556,
              "#d8576b"
             ],
             [
              0.6666666666666666,
              "#ed7953"
             ],
             [
              0.7777777777777778,
              "#fb9f3a"
             ],
             [
              0.8888888888888888,
              "#fdca26"
             ],
             [
              1,
              "#f0f921"
             ]
            ],
            "type": "histogram2dcontour"
           }
          ],
          "mesh3d": [
           {
            "colorbar": {
             "outlinewidth": 0,
             "ticks": ""
            },
            "type": "mesh3d"
           }
          ],
          "parcoords": [
           {
            "line": {
             "colorbar": {
              "outlinewidth": 0,
              "ticks": ""
             }
            },
            "type": "parcoords"
           }
          ],
          "pie": [
           {
            "automargin": true,
            "type": "pie"
           }
          ],
          "scatter": [
           {
            "fillpattern": {
             "fillmode": "overlay",
             "size": 10,
             "solidity": 0.2
            },
            "type": "scatter"
           }
          ],
          "scatter3d": [
           {
            "line": {
             "colorbar": {
              "outlinewidth": 0,
              "ticks": ""
             }
            },
            "marker": {
             "colorbar": {
              "outlinewidth": 0,
              "ticks": ""
             }
            },
            "type": "scatter3d"
           }
          ],
          "scattercarpet": [
           {
            "marker": {
             "colorbar": {
              "outlinewidth": 0,
              "ticks": ""
             }
            },
            "type": "scattercarpet"
           }
          ],
          "scattergeo": [
           {
            "marker": {
             "colorbar": {
              "outlinewidth": 0,
              "ticks": ""
             }
            },
            "type": "scattergeo"
           }
          ],
          "scattergl": [
           {
            "marker": {
             "colorbar": {
              "outlinewidth": 0,
              "ticks": ""
             }
            },
            "type": "scattergl"
           }
          ],
          "scattermapbox": [
           {
            "marker": {
             "colorbar": {
              "outlinewidth": 0,
              "ticks": ""
             }
            },
            "type": "scattermapbox"
           }
          ],
          "scatterpolar": [
           {
            "marker": {
             "colorbar": {
              "outlinewidth": 0,
              "ticks": ""
             }
            },
            "type": "scatterpolar"
           }
          ],
          "scatterpolargl": [
           {
            "marker": {
             "colorbar": {
              "outlinewidth": 0,
              "ticks": ""
             }
            },
            "type": "scatterpolargl"
           }
          ],
          "scatterternary": [
           {
            "marker": {
             "colorbar": {
              "outlinewidth": 0,
              "ticks": ""
             }
            },
            "type": "scatterternary"
           }
          ],
          "surface": [
           {
            "colorbar": {
             "outlinewidth": 0,
             "ticks": ""
            },
            "colorscale": [
             [
              0,
              "#0d0887"
             ],
             [
              0.1111111111111111,
              "#46039f"
             ],
             [
              0.2222222222222222,
              "#7201a8"
             ],
             [
              0.3333333333333333,
              "#9c179e"
             ],
             [
              0.4444444444444444,
              "#bd3786"
             ],
             [
              0.5555555555555556,
              "#d8576b"
             ],
             [
              0.6666666666666666,
              "#ed7953"
             ],
             [
              0.7777777777777778,
              "#fb9f3a"
             ],
             [
              0.8888888888888888,
              "#fdca26"
             ],
             [
              1,
              "#f0f921"
             ]
            ],
            "type": "surface"
           }
          ],
          "table": [
           {
            "cells": {
             "fill": {
              "color": "#EBF0F8"
             },
             "line": {
              "color": "white"
             }
            },
            "header": {
             "fill": {
              "color": "#C8D4E3"
             },
             "line": {
              "color": "white"
             }
            },
            "type": "table"
           }
          ]
         },
         "layout": {
          "annotationdefaults": {
           "arrowcolor": "#2a3f5f",
           "arrowhead": 0,
           "arrowwidth": 1
          },
          "autotypenumbers": "strict",
          "coloraxis": {
           "colorbar": {
            "outlinewidth": 0,
            "ticks": ""
           }
          },
          "colorscale": {
           "diverging": [
            [
             0,
             "#8e0152"
            ],
            [
             0.1,
             "#c51b7d"
            ],
            [
             0.2,
             "#de77ae"
            ],
            [
             0.3,
             "#f1b6da"
            ],
            [
             0.4,
             "#fde0ef"
            ],
            [
             0.5,
             "#f7f7f7"
            ],
            [
             0.6,
             "#e6f5d0"
            ],
            [
             0.7,
             "#b8e186"
            ],
            [
             0.8,
             "#7fbc41"
            ],
            [
             0.9,
             "#4d9221"
            ],
            [
             1,
             "#276419"
            ]
           ],
           "sequential": [
            [
             0,
             "#0d0887"
            ],
            [
             0.1111111111111111,
             "#46039f"
            ],
            [
             0.2222222222222222,
             "#7201a8"
            ],
            [
             0.3333333333333333,
             "#9c179e"
            ],
            [
             0.4444444444444444,
             "#bd3786"
            ],
            [
             0.5555555555555556,
             "#d8576b"
            ],
            [
             0.6666666666666666,
             "#ed7953"
            ],
            [
             0.7777777777777778,
             "#fb9f3a"
            ],
            [
             0.8888888888888888,
             "#fdca26"
            ],
            [
             1,
             "#f0f921"
            ]
           ],
           "sequentialminus": [
            [
             0,
             "#0d0887"
            ],
            [
             0.1111111111111111,
             "#46039f"
            ],
            [
             0.2222222222222222,
             "#7201a8"
            ],
            [
             0.3333333333333333,
             "#9c179e"
            ],
            [
             0.4444444444444444,
             "#bd3786"
            ],
            [
             0.5555555555555556,
             "#d8576b"
            ],
            [
             0.6666666666666666,
             "#ed7953"
            ],
            [
             0.7777777777777778,
             "#fb9f3a"
            ],
            [
             0.8888888888888888,
             "#fdca26"
            ],
            [
             1,
             "#f0f921"
            ]
           ]
          },
          "colorway": [
           "#636efa",
           "#EF553B",
           "#00cc96",
           "#ab63fa",
           "#FFA15A",
           "#19d3f3",
           "#FF6692",
           "#B6E880",
           "#FF97FF",
           "#FECB52"
          ],
          "font": {
           "color": "#2a3f5f"
          },
          "geo": {
           "bgcolor": "white",
           "lakecolor": "white",
           "landcolor": "#E5ECF6",
           "showlakes": true,
           "showland": true,
           "subunitcolor": "white"
          },
          "hoverlabel": {
           "align": "left"
          },
          "hovermode": "closest",
          "mapbox": {
           "style": "light"
          },
          "paper_bgcolor": "white",
          "plot_bgcolor": "#E5ECF6",
          "polar": {
           "angularaxis": {
            "gridcolor": "white",
            "linecolor": "white",
            "ticks": ""
           },
           "bgcolor": "#E5ECF6",
           "radialaxis": {
            "gridcolor": "white",
            "linecolor": "white",
            "ticks": ""
           }
          },
          "scene": {
           "xaxis": {
            "backgroundcolor": "#E5ECF6",
            "gridcolor": "white",
            "gridwidth": 2,
            "linecolor": "white",
            "showbackground": true,
            "ticks": "",
            "zerolinecolor": "white"
           },
           "yaxis": {
            "backgroundcolor": "#E5ECF6",
            "gridcolor": "white",
            "gridwidth": 2,
            "linecolor": "white",
            "showbackground": true,
            "ticks": "",
            "zerolinecolor": "white"
           },
           "zaxis": {
            "backgroundcolor": "#E5ECF6",
            "gridcolor": "white",
            "gridwidth": 2,
            "linecolor": "white",
            "showbackground": true,
            "ticks": "",
            "zerolinecolor": "white"
           }
          },
          "shapedefaults": {
           "line": {
            "color": "#2a3f5f"
           }
          },
          "ternary": {
           "aaxis": {
            "gridcolor": "white",
            "linecolor": "white",
            "ticks": ""
           },
           "baxis": {
            "gridcolor": "white",
            "linecolor": "white",
            "ticks": ""
           },
           "bgcolor": "#E5ECF6",
           "caxis": {
            "gridcolor": "white",
            "linecolor": "white",
            "ticks": ""
           }
          },
          "title": {
           "x": 0.05
          },
          "xaxis": {
           "automargin": true,
           "gridcolor": "white",
           "linecolor": "white",
           "ticks": "",
           "title": {
            "standoff": 15
           },
           "zerolinecolor": "white",
           "zerolinewidth": 2
          },
          "yaxis": {
           "automargin": true,
           "gridcolor": "white",
           "linecolor": "white",
           "ticks": "",
           "title": {
            "standoff": 15
           },
           "zerolinecolor": "white",
           "zerolinewidth": 2
          }
         }
        },
        "title": {
         "text": "Edad"
        },
        "width": 700,
        "xaxis": {
         "dtick": 0.1
        },
        "yaxis": {
         "title": {
          "text": "Carrera"
         }
        }
       }
      }
     },
     "metadata": {},
     "output_type": "display_data"
    }
   ],
   "source": [
    "# Calcular porcentajes de la tabla de contingencia 'K_carr_est' excluyendo la fila y columna totales\n",
    "K_carr_edad_perc = K_carr_edad.iloc[:-1, :-1].apply(lambda x: x/x.sum(), axis=1)\n",
    "\n",
    "# Crear la figura\n",
    "fig = go.Figure()\n",
    "\n",
    "# Iterar sobre las columnas de la tabla de contingencia\n",
    "for col in K_carr_edad_perc.columns:\n",
    "    # Crear un gráfico de barras horizontal para cada columna\n",
    "    category_percents = [f'{val:.2f}' for val in K_carr_edad_perc[col]]\n",
    "    fig.add_trace(go.Bar(\n",
    "        x=K_carr_edad_perc[col],\n",
    "        y=K_carr_edad_perc.index,\n",
    "        name=col,\n",
    "        orientation='h',\n",
    "        text=category_percents,\n",
    "        textposition='inside',\n",
    "        textfont=dict(color='black')\n",
    "    ))\n",
    "\n",
    "# Actualizar la configuración de la figura\n",
    "fig.update_layout(\n",
    "    title='Edad',\n",
    "    xaxis=dict(dtick=0.10),\n",
    "    yaxis_title='Carrera',\n",
    "    barmode='stack',\n",
    "    width=700, height=400\n",
    ")\n",
    "\n",
    "# Mostrar la figura\n",
    "fig.show()"
   ]
  }
 ],
 "metadata": {
  "kernelspec": {
   "display_name": "venv_py310",
   "language": "python",
   "name": "python3"
  },
  "language_info": {
   "codemirror_mode": {
    "name": "ipython",
    "version": 3
   },
   "file_extension": ".py",
   "mimetype": "text/x-python",
   "name": "python",
   "nbconvert_exporter": "python",
   "pygments_lexer": "ipython3",
   "version": "3.11.2"
  },
  "orig_nbformat": 4
 },
 "nbformat": 4,
 "nbformat_minor": 2
}
