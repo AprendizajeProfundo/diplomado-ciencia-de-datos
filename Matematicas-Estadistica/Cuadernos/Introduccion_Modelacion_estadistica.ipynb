{
 "cells": [
  {
   "cell_type": "markdown",
   "metadata": {},
   "source": [
    "# <span style=\"color:#F72585\"><center>Introducción a la modelación estadística clásica</center></span>"
   ]
  },
  {
   "cell_type": "markdown",
   "metadata": {},
   "source": [
    "\n",
    "<figure>\n",
    "<center>\n",
    "<img src=\"../Imagenes/Castillo_de_Praga.jpg\" width=\"800\" height=\"400\" align=\"center\"/>\n",
    "<figcaption> Praga de noche</figcaption>\n",
    "</center>\n",
    "</figure>\n",
    "\n",
    "Fuente: <a href=\"https://commons.wikimedia.org/wiki/File:Castillo_de_Praga_y_puente_Carlos,_Praga,_Rep%C3%BAblica_Checa,_2022-07-01,_DD_14-16_HDR.jpg\">Diego Delso</a>, <a href=\"https://creativecommons.org/licenses/by-sa/4.0\">CC BY-SA 4.0</a>, via Wikimedia Commons"
   ]
  },
  {
   "cell_type": "markdown",
   "metadata": {},
   "source": [
    "## <span style=\"color:#4361EE\">Pequeños Mundos y Grandes Mundos</span>\n"
   ]
  },
  {
   "cell_type": "markdown",
   "metadata": {},
   "source": [
    "El propósito central de la Estadística es tratar de explorar, describir,... grandes mundos, a partir de pequeños mundos, mediante la utilización de modelos.\n",
    "\n",
    "En principio el(la) investigador(a) o interesado(a) en tales tareas tiene una idea inicial del mundo grande y construye un modelo para verificar sus hipótesis o para rechazarlas.\n"
   ]
  },
  {
   "cell_type": "markdown",
   "metadata": {},
   "source": [
    "### <span style=\"color:#4CC9F0\">El mundo según Cristobal Colón, 1492</span>\n"
   ]
  },
  {
   "cell_type": "markdown",
   "metadata": {},
   "source": [
    "Para el hombre de finales de s. XV, el mundo estaba compuesto por tres continentes: Europa, Asia y África. experto navegante y apasionado cartógrafo, decidió abrir una ruta marítima hacia Asia y se topó con un continente desconocido.\n",
    "\n",
    "Es bien conocido hoy que la Tierra es una esfera o casi (su ecuador está abultado un poco debido a la rotación). Cuando Cristóbal Colón plantea llegar a la India navegando hacia el oeste desde España, también conocía que la Tierra era redonda. \n",
    "\n",
    "La India era productora de especies apreciadas y de otras mercaderías valiosas, pero llegar allí por el este era difícil porque África cerraba el paso. En un mundo redondo, sin embargo, debería ser posible alcanzar la India navegando hacia el oeste y Colón planteó hacerlo así (no fue el primero en proponerlo, como se verá más abajo). \n",
    "\n",
    "A veces se afirma que los que se oponían al pensamiento de Colón, lo eran por pensar que la Tierra era redonda, pero ese no era, en absoluto, el caso. Hasta en los tiempos antiguos los marinos sabían que la Tierra era redonda y los científicos no solo suponían que era redonda, sino que hasta calculaban su tamaño. \n",
    "\n",
    "\n",
    "Cristóbal Colón propuso llegar a Asia por el lado opuesto por el cual llegaba todo el mundo. El gráfico es una  imagen de Martin Behaim de 1492, mostrando el pequeño mundo que Colón anticipó."
   ]
  },
  {
   "cell_type": "markdown",
   "metadata": {},
   "source": [
    "<figure>\n",
    "<center>\n",
    "<img src=\"https://raw.githubusercontent.com/AprendizajeProfundo/Libro-Estadistica-Bayesiana/main/Introduccion/Imagenes/MartinBehaim1492.jpg\" width=\"400\" height=\"400\" align=\"center\" /> \n",
    "<figcaption> El mundo según Martin Behaim 1942. Mapa que se dice usó  Cristobal Colón para planear su viaje</figcaption>\n",
    "</center>   \n",
    "</figure>\n",
    "\n",
    "Fuente: <a href=\"https://commons.wikimedia.org/wiki/File:Martin_B_Ocean_Map.png\">MartinBehaim1492.jpg: Encyclopedia Larousse illustree - 1898derivative work: PawełMM</a>, Public domain, via Wikimedia Commons\n"
   ]
  },
  {
   "cell_type": "markdown",
   "metadata": {},
   "source": [
    "El error de Colón es que supuso que el diámetro de la tierra era de 30.000 kilómetros. En realidad son 40.000 kilómetros aproximadamente. Por eso no preparó suficientes provisiones para el viaje. Este es un error que cambió al mundo.\n"
   ]
  },
  {
   "cell_type": "markdown",
   "metadata": {},
   "source": [
    "## <span style=\"color:#4361EE\">Construyendo un modelo</span>\n"
   ]
  },
  {
   "cell_type": "markdown",
   "metadata": {},
   "source": [
    "Supongamos que deseamos estimar el porcentaje de agua superficial del globo terráqueo. Al menos tres cosas debemos hacer:\n",
    "\n",
    "1. Narración de los datos: Motivar el modelo, narrando como los datos pueden o deben aparecer.\n",
    "2. Actualizar: Educar(entrenar) el modelo, alimentándolo con datos.\n",
    "3. Evaluar: Todos los modelos estadísticos requieren supervisión, llevando posiblemente a la revisión del modelo.\n",
    "\n",
    "\n",
    "Para nuestro primer modelo usaremos el lanzamiento de una moneda."
   ]
  },
  {
   "cell_type": "markdown",
   "metadata": {},
   "source": [
    "### <span style=\"color:#4CC9F0\">Narración de los datos</span>\n"
   ]
  },
  {
   "cell_type": "markdown",
   "metadata": {},
   "source": [
    "El experimento consiste lanzar una moneda y registrar el resultado: cara (1) o cruz (0).\n",
    "\n",
    "1. La probabilidad de *cara*, digamos $\\mu$,  corresponde al valor verdadero de la proporción de la veces que se espera que se obtenga cara. Por supuesto, si la moneda no es segada, todos sabemos a priori que $\\mu=0.5$. ¿Pero, y si la moneda esta sesgada? por ejemplo la moneda podría tener una deformación que hace más favorable un resultado. \n",
    "2. La probabilidad de *cara*  corresponde al valor verdadero de la proporción esperadas de caras.\n",
    "3. Cada experimento es independiente de los demás."
   ]
  },
  {
   "cell_type": "markdown",
   "metadata": {},
   "source": [
    "### <span style=\"color:#4CC9F0\">Actualización</span>\n"
   ]
  },
  {
   "cell_type": "markdown",
   "metadata": {},
   "source": [
    "1. Al comenzar asumiremos por facilidad que cualquier valor es igualmente plausible. Es decir, no nos inclinamos por ningún posible valor. No aportamos información acerca de nuestra **creencia** acerca de $\\mu$.\n",
    "2. Supondremos que a partir de las observaciones podemos construir una **distribución**. Luego de cada observación, tal distribución es actualizada.  Este proceso se llama **actualización bayesiana**.\n",
    "\n",
    "La primera imagen en el siguiente enlace muestra la distribución a priori, antes de realizar el primer experimento. Las siguientes imágenes ilustran como se va actualizando la posterior, luego de realizar muchas veces el experimento. En este caso la moneda parece justa (insesgada). ¿Porque?"
   ]
  },
  {
   "cell_type": "markdown",
   "metadata": {},
   "source": [
    "<figure>\n",
    "<center>\n",
    "<img src=\"https://raw.githubusercontent.com/AprendizajeProfundo/Libro-Estadistica-Bayesiana/main/Introduccion/Imagenes/qs-bayes-bernoulli.png\" width=\"700\" height=\"600\" align=\"center\" /> \n",
    "</center>   \n",
    "</figure>\n",
    "Actualización de la posterior a partir de la evidencia\n",
    "\n",
    "Fuente: [Amazon](https://s3.amazonaws.com/quantstart/media/images/qs-bayes-bernoulli.png)\n"
   ]
  },
  {
   "cell_type": "markdown",
   "metadata": {},
   "source": [
    "### <span style=\"color:#4CC9F0\">Ejercicio</span>\n"
   ]
  },
  {
   "cell_type": "markdown",
   "metadata": {},
   "source": [
    "Escriba un programa Python que imite el experimento el experimento ilustrado. Pero ahora suponga que la moneda es sesgada. Por ejemplo, suponga que $\\mu=0.7$.\n"
   ]
  },
  {
   "cell_type": "code",
   "execution_count": 1,
   "metadata": {},
   "outputs": [],
   "source": [
    "# Escriba su solución aquí."
   ]
  },
  {
   "cell_type": "markdown",
   "metadata": {},
   "source": [
    "### <span style=\"color:#4CC9F0\">Evaluación</span>\n"
   ]
  },
  {
   "cell_type": "markdown",
   "metadata": {},
   "source": [
    "El modelo estadístico aprende de una forma que puede demostrarse que es optimal, lo que implica que el mundo grande real es descrito adecuadamente por el modelo. Es decir, nuestra **máquina de aprendizaje bayesiana** garantiza una inferencia perfecta, dentro del pequeño mundo. No hay otro camino mejor usando al información disponible."
   ]
  },
  {
   "cell_type": "markdown",
   "metadata": {},
   "source": [
    "### <span style=\"color:#4CC9F0\">Upps</span>\n"
   ]
  },
  {
   "cell_type": "markdown",
   "metadata": {},
   "source": [
    "Sin embargo no se entusiasme demasiado.\n",
    "\n",
    "Los cálculos pueden funcionar mal, entonces los resultados siempre tienen que ser verificados. Y si hay diferencias importantes entre\n",
    "el modelo y la realidad, entonces no hay una garantía lógica de un gran rendimiento global. \n",
    "\n",
    "\n",
    "Incluso si los dos mundos coincidieran, cualquier muestra particular de datos podría ser engañosa. Asi que\n",
    "vale la pena tener en cuenta al menos dos principios cautelosos.\n",
    "\n",
    "1. **La certeza del modelo no garantiza que el modelo sea bueno**. Como la cantidad\n",
    "de los aumentos de datos, el modelo de lanzamiento de globo crecerá cada vez más seguro de la proporción de\n",
    "agua. Esto significa que las curvas en la Figura se volverán cada vez más estrechas y altas,\n",
    "restringir valores plausibles dentro de un rango muy estrecho. Pero modelos de todo tipo: bayesianos o\n",
    "no, puede confiar mucho en una estimación, incluso cuando el modelo es muy engañoso.\n",
    "\n",
    "\n",
    "   Esto se debe a que **las estimaciones dependen del modelo**. \n",
    "\n",
    "2. Es importante supervisar y criticar el trabajo de su modelo. Considere nuevamente el\n",
    "hecho de que la actualización en la sección anterior funciona en cualquier orden de llegada de datos. Podríamos\n",
    "barajar el orden de las observaciones, mientras queden seis W y tres L, y aún así terminen\n",
    "con la misma curva de plausibilidad final. Sin embargo, eso solo es cierto porque el modelo supone\n",
    "ese **orden es irrelevante** para la inferencia. Pero, en algunos caso podría serlo."
   ]
  },
  {
   "cell_type": "markdown",
   "metadata": {},
   "source": [
    "### <span style=\"color:#4CC9F0\">Golems en Estadística</span>\n"
   ]
  },
  {
   "cell_type": "markdown",
   "metadata": {},
   "source": [
    "[Sobre el golem de Praga](https://www.youtube.com/watch?v=KnTP-ZxFAzU)\n",
    "\n",
    "Los estadísticos usamos muchos golem. Por ejemplo en R usamos el golem lm() para hacer regresiones lineales como la siguiente: \n",
    "\n"
   ]
  },
  {
   "cell_type": "markdown",
   "metadata": {},
   "source": [
    "````{tab} R\n",
    "```R\n",
    "# NOT RUN {\n",
    "require(graphics)\n",
    "\n",
    "## Annette Dobson (1990) \"An Introduction to Generalized Linear Models\".\n",
    "## Page 9: Plant Weight Data.\n",
    "ctl <- c(4.17,5.58,5.18,6.11,4.50,4.61,5.17,4.53,5.33,5.14)\n",
    "trt <- c(4.81,4.17,4.41,3.59,5.87,3.83,6.03,4.89,4.32,4.69)\n",
    "group <- gl(2, 10, 20, labels = c(\"Ctl\",\"Trt\"))\n",
    "weight <- c(ctl, trt)\n",
    "lm.D9 <- lm(weight ~ group)\n",
    "lm.D90 <- lm(weight ~ group - 1) # omitting intercept\n",
    "# }\n",
    "# NOT RUN {\n",
    "anova(lm.D9)\n",
    "```\n",
    "````\n"
   ]
  },
  {
   "cell_type": "markdown",
   "metadata": {},
   "source": [
    " ¿Porque lm() es un golem?"
   ]
  },
  {
   "cell_type": "markdown",
   "metadata": {},
   "source": [
    "## <span style=\"color:#4361EE\">Tarea</span>\n"
   ]
  },
  {
   "cell_type": "markdown",
   "metadata": {},
   "source": [
    "### <span style=\"color:#4CC9F0\">Narración de los datos</span>\n"
   ]
  },
  {
   "cell_type": "markdown",
   "metadata": {},
   "source": [
    "Para nuestra primera tarea usaremos un globo terráqueo a escala."
   ]
  },
  {
   "cell_type": "markdown",
   "metadata": {},
   "source": [
    "<figure>\n",
    "<center>\n",
    "<img src=\"https://raw.githubusercontent.com/AprendizajeProfundo/Libro-Estadistica-Bayesiana/main/Introduccion/Imagenes/GlobeSK.jpg\" width=\"400\" height=\"400\" align=\"center\" /> \n",
    "</center>   \n",
    "</figure>\n",
    "\n",
    "Fuente: [Wikipedia](https://es.wikipedia.org/wiki/Globo_terr%C3%A1queo#/media/Archivo:GlobeSK.jpg)\n"
   ]
  },
  {
   "cell_type": "markdown",
   "metadata": {},
   "source": [
    "1. El experimento consiste en hacer girar el globo y *pinchar* en algún lugar sin tener ninguna preferencia. El experimento es de tipo dicotómico, debido a que solamente\n",
    "habrá dos posibles resultados: agua (1) o tierra (0).\n",
    "\n",
    "- La probabilidad de *pinchar* en agua corresponde al valor verdadero de la proporción de agua y se denotará $\\mu$.\n",
    "- La probabilidad de *pinchar* en tierra corresponde al valor verdadero de la proporción de tierra y es $ 1-\\mu$.\n",
    "- Cada experimento es independiente de los demás.\n",
    "\n",
    "2. Repita el proceso de actualización de la posterior en descrito en esta lección. Use Python y elabore algunos gráficos similares. \n"
   ]
  },
  {
   "cell_type": "markdown",
   "metadata": {},
   "source": [
    "## <span style=\"color:#4361EE\">Variables aleatorias</span>\n"
   ]
  },
  {
   "cell_type": "markdown",
   "metadata": {},
   "source": [
    "Una variable aleatoria (v.a.) $X$ es una función real ${\\displaystyle X:\\Omega \\to \\mathbb {R} }$, definida en el espacio de probabilidad, ${\\displaystyle (\\Omega ,{\\mathcal {A}},P)}$, asociado a un experimento aleatorio. Se puede comprobar que la variable aleatoria $X$ puede ser constante. \n"
   ]
  },
  {
   "cell_type": "markdown",
   "metadata": {},
   "source": [
    "### <span style=\"color:#4CC9F0\">Ejemplo de una variable aleatoria discreta</span>\n"
   ]
  },
  {
   "cell_type": "markdown",
   "metadata": {},
   "source": [
    "Supongamos que se lanzan tres monedas sin sesgo (igual probabilidad para cara y para cruz) de manera independiente. Entonces, $P(cara) =0.5$. Denotemos por 1, el resultado cara y por 0 el resultado cruz. El espacio muestral, es decir, el conjunto de posibles resultados es dado por \n",
    "\n",
    "$$ \n",
    "\\Omega = \\{ (0,0,0), (0,0,1), (0,1,0),(1,0,0), (1,1,0), (1,0,1), (0,1,1), (1,1,1)\\}.\n",
    "$$\n",
    "\n",
    "A continuación definimos la variable aleatoria $X$, como el número de caras que sale, es decir el número de unos. La siguiente tabla muestra los valores posibles de la variable aleatoria.\n"
   ]
  },
  {
   "cell_type": "markdown",
   "metadata": {},
   "source": [
    "### <span style=\"color:#4CC9F0\">Ejemplo de una variable aleatoria continua</span>"
   ]
  },
  {
   "cell_type": "markdown",
   "metadata": {},
   "source": [
    "|obs: $x$|prob: $P(x)$ |var: $X$|\n",
    "|---|---|---|\n",
    "| (0,0,0) | 1/8 | 0  |\n",
    "| (0,0,1) | 1/8 | 1  |\n",
    "| (0,1,0) | 1/8 | 1  |\n",
    "| (1,0,0) | 1/8 | 1  |\n",
    "| (0,1,1) | 1/8 | 2  |\n",
    "| (1,1,0) | 1/8 | 2  |\n",
    "| (1,0,1) | 1/8 | 2  |\n",
    "| (1,1,1) | 1/8 | 3  |\n"
   ]
  },
  {
   "cell_type": "markdown",
   "metadata": {},
   "source": [
    "Tomemos $\\Omega=[0,1]$, con la $\\sigma$-álgebra de Borel (la basada en los subconjuntos abiertos de $\\Omega$. $P$ es la medida de Lebesque en $\\Omega$, la cual corresponde a la longitud de los  subconjuntos de $\\Omega$. La variable aleatoria que definimos es $X(x) = 2x$. La siguiente imagen ilustra la función que define la variable aleatoria."
   ]
  },
  {
   "cell_type": "code",
   "execution_count": 4,
   "metadata": {},
   "outputs": [
    {
     "data": {
      "image/png": "[encoded data removed]",
      "text/plain": [
       "<Figure size 550x250 with 1 Axes>"
      ]
     },
     "metadata": {},
     "output_type": "display_data"
    }
   ],
   "source": [
    "import numpy as np\n",
    "from matplotlib import pyplot as plt\n",
    "\n",
    "plt.rcParams[\"figure.figsize\"] = [5.50, 2.50]\n",
    "plt.rcParams[\"figure.autolayout\"] = True\n",
    "\n",
    "def f(x):\n",
    "    return 2*x\n",
    "\n",
    "x = np.linspace(0, 1, 100)\n",
    "\n",
    "plt.plot(x, f(x), color='red')\n",
    "\n",
    "plt.show()"
   ]
  },
  {
   "cell_type": "markdown",
   "metadata": {},
   "source": [
    "### <span style=\"color:#4CC9F0\">Ejercicio</span>"
   ]
  },
  {
   "cell_type": "markdown",
   "metadata": {},
   "source": [
    "1. Proponga un experimento discreto de tipo aleatorio y diseñe una variable aleatoria asociada al experimento. Haga una tabla similar a la presentada arriba.\n",
    "1. Proponga una variable aleatoria continua definida en el espacio  $\\Omega=[0,1]$. Haga un gráfico de la variable aleatoria propuesta."
   ]
  },
  {
   "cell_type": "markdown",
   "metadata": {},
   "source": [
    "### <span style=\"color:#4CC9F0\">Función de distribución de probabilidad</span>\n"
   ]
  },
  {
   "cell_type": "markdown",
   "metadata": {},
   "source": [
    "La distribución de probabilidad de una v.a. X, también llamada función de distribución de $X$ es la función ${\\displaystyle F_{X}(x)}$  que asigna a cada valor $x$ la probabilidad del subconjunto $(-\\infty,x]$ dada por:\n",
    "\n",
    "$$F_{X}(x) = P(X\\leq x)$$\n",
    "\n",
    "y de manera que se cumplan las siguientes tres condiciones:\n",
    "\n",
    "1. ${\\displaystyle \\lim _{x\\to -\\infty }F_X(x)=0}$ y ${\\displaystyle \\lim _{x\\to \\infty }F_X(x)=1}$ \n",
    "2.  $F_{X}(x)$ es continua por la derecha.\n",
    "3. $F_{X}(x)$ Es monótona no decreciente."
   ]
  },
  {
   "cell_type": "markdown",
   "metadata": {},
   "source": [
    "En la teoría de probabilidad se demuestra que a cada variable aleatoria puede asociarse una única distribución de probabilidad. Inversamente, dada una función de distribución $F$, es posible asociarle casi siempre (c.s) una única variable aleatoria con dominio en un subconjunto de $\\mathbb {R}$. Por esta razón usaremos la notación $F(x)$ para denotar una función de distribución de probabilidad.\n",
    "\n",
    "La variable aleatoria es **discreta**, si solamente toma valores en un subconjunto contable de ${\\displaystyle \\mathbb {R} }$. Se dice que la variable es **continua** si su correspondiente función de distribución es continua."
   ]
  },
  {
   "cell_type": "markdown",
   "metadata": {},
   "source": [
    ":::{tip} \n",
    "La notación casi siempre (c.s) para indicar que una propiedad se cumple, excepto posiblemente sobre conjuntos de medida (probabilidad) cero. Por ejemplo, dos variables aleatorias son iguales casi siempre ($X=Y$ c.s) si coinciden en los valores que toman excepto posiblemente en conjuntos de medida de probabilidad cero.\n",
    ":::"
   ]
  },
  {
   "cell_type": "markdown",
   "metadata": {
    "tags": []
   },
   "source": [
    "### <span style=\"color:#4CC9F0\">Ejemplo de una función de distribución discreta</span>"
   ]
  },
  {
   "cell_type": "markdown",
   "metadata": {},
   "source": [
    "En nuestro primero ejemplo hemos definido la variable aleatoria binomial $\\text{Binomial(3,0.5)}$. Vamos a calcular los valores de su función de distribución y haremos un gráfico.\n"
   ]
  },
  {
   "cell_type": "code",
   "execution_count": null,
   "metadata": {},
   "outputs": [
    {
     "name": "stdout",
     "output_type": "stream",
     "text": [
      "Función de distribución (de probabilidad acumulada): Binomial(3,0.5)\n",
      "\n",
      "Prob[X <= 0] = 0.125\n",
      "Prob[X <= 1] = 0.5\n",
      "Prob[X <= 2] = 0.875\n",
      "Prob[X <= 3] = 1.0\n"
     ]
    }
   ],
   "source": [
    "from scipy.stats import binom\n",
    "import matplotlib.pyplot as plt\n",
    "\n",
    "n = 3\n",
    "p = 0.5\n",
    "\n",
    "probs = [binom.cdf(k,n,p) for k in range(n+1)]\n",
    "\n",
    "binom_dist = {i: np.round(prob,3) for i, prob in zip(range(4), probs)}\n",
    "print('Función de distribución (de probabilidad acumulada): Binomial(3,0.5)\\n')\n",
    "\n",
    "\n",
    "for i in range(n+1):\n",
    "    print('Prob[X <= {}] = {}'. format(i, probs[i]))\n"
   ]
  },
  {
   "cell_type": "code",
   "execution_count": null,
   "metadata": {},
   "outputs": [
    {
     "data": {
      "image/png": "[encoded data removed]",
      "text/plain": [
       "<Figure size 550x250 with 1 Axes>"
      ]
     },
     "metadata": {},
     "output_type": "display_data"
    }
   ],
   "source": [
    "# Gráfico\n",
    "from scipy.stats import binom\n",
    "import matplotlib.pyplot as plt\n",
    "\n",
    "\n",
    "n = 4\n",
    "p = 0.5\n",
    "binomial = binom(n,p)\n",
    "\n",
    "x = range(n)\n",
    "prob = binomial.cdf(x)\n",
    "\n",
    "plt.plot(x, prob, 'bo', ms=8)\n",
    "plt.title(\"Función (acumulada) de distribución\")\n",
    "plt.xlabel('Valores')\n",
    "plt.ylabel('Probabilidad')\n",
    "for i,j in zip(x, prob):\n",
    "    plt.hlines(y=j, xmin=i, xmax=i+1)\n",
    "plt.show()"
   ]
  },
  {
   "cell_type": "markdown",
   "metadata": {},
   "source": [
    "### <span style=\"color:#4CC9F0\">Ejemplo de una función de distribución continua</span>"
   ]
  },
  {
   "cell_type": "markdown",
   "metadata": {},
   "source": [
    "En este caso consideramos la distribución normal estándar $N(0,1)$.\n",
    "\n",
    "Inicialmente calculamos algunos valores de probabilidad acumulada para esta distribución\n",
    "\n"
   ]
  },
  {
   "cell_type": "code",
   "execution_count": 37,
   "metadata": {},
   "outputs": [
    {
     "name": "stdout",
     "output_type": "stream",
     "text": [
      "x = [-3.  -2.6 -2.2 -1.8 -1.4 -1.  -0.6 -0.2  0.2  0.6  1.   1.4  1.8  2.2\n",
      "  2.6  3. ]\n",
      "Prob(X<=x) = [0.0, 0.0, 0.01, 0.04, 0.08, 0.16, 0.27, 0.42, 0.58, 0.73, 0.84, 0.92, 0.96, 0.99, 1.0, 1.0]\n"
     ]
    }
   ],
   "source": [
    "from scipy.stats import norm\n",
    "import matplotlib.pyplot as plt\n",
    "\n",
    "normal = norm(loc=0, scale=1)\n",
    "\n",
    "x = np.arange(-3.0, 3.1, 0.4)\n",
    "probs = [np.round(norm.cdf(x_i),2) for x_i in x]\n",
    "\n",
    "print(\"x = {}\".format(x))\n",
    "print('Prob(X<=x) = {}'.format(probs))"
   ]
  },
  {
   "cell_type": "code",
   "execution_count": 38,
   "metadata": {},
   "outputs": [
    {
     "data": {
      "image/png": "[encoded data removed]",
      "text/plain": [
       "<Figure size 550x250 with 1 Axes>"
      ]
     },
     "metadata": {},
     "output_type": "display_data"
    }
   ],
   "source": [
    "# gráfico\n",
    "plt.plot(x, probs)\n",
    "plt.title('Función de distribunción N(0,1)')\n",
    "plt.show()"
   ]
  },
  {
   "cell_type": "markdown",
   "metadata": {},
   "source": [
    "### <span style=\"color:#4CC9F0\">Función de densidad de probabilidad</span>\n"
   ]
  },
  {
   "cell_type": "markdown",
   "metadata": {},
   "source": [
    "La función de densidad de probabilidad (fdp) o, simplemente, función de densidad, representada comúnmente como $f(x)$, se utiliza con el propósito de conocer cómo se distribuyen las probabilidades de un suceso o evento, en relación al resultado del suceso.\n",
    "\n",
    "La fdp es la derivada (ordinaria o en el sentido de las distribuciones) de la función de distribución de probabilidad $F(x)$, o de manera inversa, la función de distribución es la integral de la función de densidad:\n",
    "\n",
    "$$ F(x)=\\int _{-\\infty }^{x}f(t)\\,dt$$\n",
    "\n",
    "En el caso discreto, es usual llamar a esta función, la función de masa de probabilidad."
   ]
  },
  {
   "cell_type": "markdown",
   "metadata": {
    "tags": []
   },
   "source": [
    "### <span style=\"color:#4CC9F0\">Ejemplo de una función de masa de probabilidad</span>"
   ]
  },
  {
   "cell_type": "markdown",
   "metadata": {},
   "source": [
    "Regresamos a nuestro primero ejemplo hemos definido la variable aleatoria binomial $\\text{Binomial(3,0.5)}$. Vamos a calcular los valores de su función de masa y haremos un gráfico.\n"
   ]
  },
  {
   "cell_type": "code",
   "execution_count": 42,
   "metadata": {},
   "outputs": [
    {
     "name": "stdout",
     "output_type": "stream",
     "text": [
      "Función de distribución (de probabilidad acumulada): Binomial(3,0.5)\n",
      "\n",
      "Prob[X = 0] = 0.125\n",
      "Prob[X = 1] = 0.375\n",
      "Prob[X = 2] = 0.375\n",
      "Prob[X = 3] = 0.125\n"
     ]
    }
   ],
   "source": [
    "from scipy.stats import binom\n",
    "import matplotlib.pyplot as plt\n",
    "\n",
    "n = 3\n",
    "p = 0.5\n",
    "\n",
    "probs = [binom.pmf(k,n,p) for k in range(n+1)]\n",
    "\n",
    "binom_dist = {i: np.round(prob,3) for i, prob in zip(range(4), probs)}\n",
    "print('Función de distribución (de probabilidad acumulada): Binomial(3,0.5)\\n')\n",
    "\n",
    "\n",
    "for i in range(n+1):\n",
    "    print('Prob[X = {}] = {}'. format(i, np.round(probs[i],3)))\n"
   ]
  },
  {
   "cell_type": "code",
   "execution_count": 43,
   "metadata": {},
   "outputs": [
    {
     "data": {
      "image/png": "[encoded data removed]",
      "text/plain": [
       "<Figure size 550x250 with 1 Axes>"
      ]
     },
     "metadata": {},
     "output_type": "display_data"
    }
   ],
   "source": [
    "# Gráfico\n",
    "from scipy.stats import binom\n",
    "import matplotlib.pyplot as plt\n",
    "\n",
    "\n",
    "n = 4\n",
    "p = 0.5\n",
    "binomial = binom(n,p)\n",
    "\n",
    "x = range(n)\n",
    "prob = binomial.pmf(x)\n",
    "\n",
    "plt.bar(x=x, height=prob, tick_label=range(4), edgecolor='orange')\n",
    "plt.title('Función de masa de la distribución Binomial(3,0.5)')\n",
    "plt.show()"
   ]
  },
  {
   "cell_type": "markdown",
   "metadata": {},
   "source": [
    "### <span style=\"color:#4CC9F0\">Ejemplo de una función de distribución continua</span>"
   ]
  },
  {
   "cell_type": "markdown",
   "metadata": {},
   "source": [
    "En este caso consideramos la distribución normal estándar $N(0,1)$.\n",
    "\n",
    "Inicialmente calculamos algunos valores de probabilidad acumulada para esta distribución\n"
   ]
  },
  {
   "cell_type": "code",
   "execution_count": 59,
   "metadata": {},
   "outputs": [],
   "source": [
    "from scipy.stats import norm\n",
    "import matplotlib.pyplot as plt\n",
    "\n",
    "normal = norm(loc=0, scale=1)\n",
    "\n",
    "x = np.arange(-3.0, 3.2, 0.4)\n",
    "probs = [np.round(norm.pdf(x_i),2) for x_i in x]\n",
    "\n",
    "#print(\"x = {}\".format(np.round(x,2)))\n",
    "#print('f(x) = {}'.format(probs))"
   ]
  },
  {
   "cell_type": "code",
   "execution_count": 75,
   "metadata": {},
   "outputs": [
    {
     "data": {
      "image/png": "[encoded data removed]",
      "text/plain": [
       "<Figure size 550x250 with 1 Axes>"
      ]
     },
     "metadata": {},
     "output_type": "display_data"
    }
   ],
   "source": [
    "LCI,UCI=normal.interval(0.95)\n",
    "\n",
    "x = np.linspace(norm.ppf(0.01),\n",
    "                norm.ppf(0.99), 100)\n",
    "plt.plot(x, normal.pdf(x),'b-', lw=1, alpha=0.6)\n",
    "plt.title('Función de densidad de la distribución N(0,1)')\n",
    "plt.fill_between(x, normal.pdf(x), 0, \n",
    "                 where = (x >= LCI) & (x <= UCI), \n",
    "                 color = 'r')\n",
    "plt.xlabel('Intervalo con probabilididad de 0.95')\n",
    "plt.show()"
   ]
  },
  {
   "cell_type": "markdown",
   "metadata": {},
   "source": [
    "## <span style=\"color:#4361EE\">Reglas Básicas de Probabilidad</span>\n"
   ]
  },
  {
   "cell_type": "markdown",
   "metadata": {},
   "source": [
    "Supongamos que $X$ y $Y$ son variables aleatorias. La probabilidad conjunta de   $X$ y $Y$ se denotará $P(X,Y)$.\n",
    "\n",
    "1. **Regla de la suma** (probabilidad marginal):  $P(X) = \\sum_Y P(X,Y)$, para el caso discreto y $P(X) = \\int_Y P(X,Y)dY$, en el caso continuo.\n",
    "2. **Regla del producto** (probabilidad conjunta):  $P(X,Y) = P(X|Y)P(Y)$."
   ]
  },
  {
   "cell_type": "markdown",
   "metadata": {},
   "source": [
    "## <span style=\"color:#4361EE\">Teorema de Bayes</span>\n"
   ]
  },
  {
   "cell_type": "markdown",
   "metadata": {
    "slideshow": {
     "slide_type": "slide"
    }
   },
   "source": [
    "Sea $\\{A_{1},A_{2},...,A_{i},...,A_{n}\\}$ un conjunto de sucesos mutuamente excluyentes y exhaustivos, y tales que la probabilidad de cada uno de ellos es distinta de cero (0). Sea $B$ un suceso cualquiera del que se conocen las probabilidades condicionales $P(B|A_{i})$. Entonces, Thomas Bayes (1702-1761) estableció que la probabilidad  $P(A_{i}|B)$ viene dada por la expresión:\n",
    "\n",
    "$$ P(A_{i}|B)={\\frac {P(B|A_{i})P(A_{i})}{\\sum_i P(B|A_i)P(A_i)}}= {\\frac {P(B|A_{i})P(A_{i})}{P(B)}}$$\n",
    "\n",
    "donde:\n",
    "\n",
    "- $P(A_i)$  se llaman las probabilidades a priori, \n",
    "- $P(B|A_{i})$ es la probabilidad de $B$ bajo la hipótesis $A_i$, \n",
    "- $P(A_{i}|B)$ se llaman las probabilidades a posteriori."
   ]
  },
  {
   "cell_type": "markdown",
   "metadata": {
    "slideshow": {
     "slide_type": "slide"
    }
   },
   "source": [
    "## <span style=\"color:#4361EE\">Modelo Estadístico</span>"
   ]
  },
  {
   "cell_type": "markdown",
   "metadata": {
    "slideshow": {
     "slide_type": "slide"
    }
   },
   "source": [
    "Si $\\boldsymbol{\\theta}$ y $\\mathbf{x}$ representan vectores aleatorios, entonces, el teorema de Bayes establece que \n",
    "\n",
    "\n",
    "$$P(\\boldsymbol{\\theta}|\\mathbf{x}) = \\frac{P(\\mathbf{x}|\\boldsymbol{\\theta})P(\\boldsymbol{\\theta})}{\\int P(\\mathbf{x}|\\boldsymbol{\\theta})P(\\boldsymbol{\\theta})d\\boldsymbol{\\theta}} = \\frac{P(\\mathbf{x}|\\boldsymbol{\\theta})P(\\boldsymbol{\\theta})}{P(\\mathbf{x})}.$$"
   ]
  },
  {
   "cell_type": "markdown",
   "metadata": {
    "slideshow": {
     "slide_type": "slide"
    }
   },
   "source": [
    "Desde un punto de vista muy general el teorema de Bayes nos permite escribir de forma técnica los modelos de probabilidad y los modelos estadísticos a partir de una base común. \n",
    "\n",
    "Asumamos que $P(\\boldsymbol{\\theta}, \\mathbf{x})$ es la función de densidad conjunta de $\\boldsymbol{\\theta}$ y $ \\mathbf{x}$. \n",
    "\n",
    "\n",
    "Es común que $\\boldsymbol{\\theta}$  represente a un vector de parámetros y $\\mathbf{x}$ una muestra de la distribución con densidad $P(\\mathbf{x}|\\boldsymbol{\\theta})$."
   ]
  },
  {
   "cell_type": "markdown",
   "metadata": {
    "slideshow": {
     "slide_type": "slide"
    }
   },
   "source": [
    "### <span style=\"color:#4CC9F0\">Nomenclatura</span>"
   ]
  },
  {
   "cell_type": "markdown",
   "metadata": {
    "slideshow": {
     "slide_type": "slide"
    }
   },
   "source": [
    "Llamaremos a nuestros objetos de la siguiente forma:"
   ]
  },
  {
   "cell_type": "markdown",
   "metadata": {
    "slideshow": {
     "slide_type": "slide"
    }
   },
   "source": [
    "#### <span style=\"color:#4CC9F0\">Verosimilitud</span>"
   ]
  },
  {
   "cell_type": "markdown",
   "metadata": {
    "slideshow": {
     "slide_type": "slide"
    }
   },
   "source": [
    "La función de verosimilitud en un problema estadístico es la función de densidad $P(\\mathbf{x}|\\boldsymbol{\\theta})$. Cuando se especifica un valor para $\\boldsymbol{\\theta}$, digamos $\\theta$,  entonces $P(\\mathbf{x}|\\boldsymbol{\\theta}=\\theta)$ es una función de densidad conjunta para el vector aleatorio $\\mathbf{x}$.\n",
    "\n",
    "En la práctica, el vector $\\theta$ es  desconocido. El propósito de la modelación estadística es tratar de inferir un valor \"plausible\" para $\\theta$ , con base en la realización de un muestra específica de $\\mathbf{x}$."
   ]
  },
  {
   "cell_type": "markdown",
   "metadata": {
    "slideshow": {
     "slide_type": "slide"
    }
   },
   "source": [
    "#### <span style=\"color:#4CC9F0\">Distribución a priori</span>"
   ]
  },
  {
   "cell_type": "markdown",
   "metadata": {
    "slideshow": {
     "slide_type": "slide"
    }
   },
   "source": [
    "La distribución marginal $P(\\boldsymbol{\\theta}) = \\int P(\\boldsymbol{\\theta}, \\mathbf{x})d\\mathbf{x} $ se conoce como la densidad de la distribución a priori en la modelación estadística. Observe que esta densidad está definida formalmente desde la teoría de probabiliística. \n",
    "\n",
    "Por otro lado, el problema de modelación estadística consiste en encontrar un valor \"plausible\"  de $\\theta$\n",
    "para un conjuntos de datos observados de la muestra $\\mathbf{x}$. En principio no conocemos nada de $P(\\mathbf{x}, \\boldsymbol{\\theta})$. Por tanto  no es posible conocer $P(\\boldsymbol{\\theta})$. Entonces, el `primer truco` es suponer que $P(\\boldsymbol{\\theta})$ pertence a alguna familia de distribuciones. Podemos incluso, bajo ciertas restricciones, asumir una distribución uniforme en el espacio de posibles valores de $\\boldsymbol{\\theta}$. \n",
    "\n",
    "Por ejemplo, supongamos que el parámetro que una máquina de aprendizaje debe aprender debe ser un número entre 0  y 1.\n",
    "\n",
    "Entonces podriamos asumir, en ausencia de cualquier informacipon adicional que $p(\\theta) = 1$, que corresponde a la densidad de la distribución Uniforme[0,1].\n",
    "\n",
    "Esta distribución es un caso particular de la familia de distribuciones Beta que tienen función de densidad dada por\n",
    "\n",
    "$$\n",
    "f_{\\beta} (x) = \\frac{1}{\\text{beta}(a,b)}x ^{a-1}(1-x)^{b-1}\n",
    "$$"
   ]
  },
  {
   "cell_type": "markdown",
   "metadata": {
    "slideshow": {
     "slide_type": "slide"
    }
   },
   "source": [
    "#### <span style=\"color:#4CC9F0\">Distribución de la muestra</span>"
   ]
  },
  {
   "cell_type": "markdown",
   "metadata": {
    "slideshow": {
     "slide_type": "slide"
    }
   },
   "source": [
    "La distribución marginal $P(\\mathbf{x}) = \\int P(\\boldsymbol{\\theta}, \\mathbf{x})d\\boldsymbol{\\theta} $ se conoce como la densidad de la distribución de la muestra en la modelación estadística. \n",
    "\n",
    "El problema de modelación estadística consiste en encontrar un valor \"plausible\" de $\\theta$ \n",
    "para los datos observados de la muestra $\\mathbf{x}$. Entonces, a primera vista no se requiere conocer $P(\\mathbf{x})$ en el proceso de inferir un valor para $\\theta$. En realidad, en un paso avanzado del proceso de la modelación estadística si será necesario saber de  $P(\\mathbf{x})$, pero para comenzar no."
   ]
  },
  {
   "cell_type": "markdown",
   "metadata": {
    "slideshow": {
     "slide_type": "slide"
    }
   },
   "source": [
    "#### <span style=\"color:#4CC9F0\">Distribución posterior</span>"
   ]
  },
  {
   "cell_type": "markdown",
   "metadata": {
    "slideshow": {
     "slide_type": "slide"
    }
   },
   "source": [
    "La densidad $P(\\boldsymbol{\\theta}|\\mathbf{x})$ se denomina distribución posterior y es la base de  la modelación estadística. En un problema práctico, se dispone de una realización de la muestra $\\mathbf{x}$ que de momento denotaremos por $\\mathbf{x}^*$ y el problema de modelación estadística es encontrar un valor plausible para $\\theta$. La siguiente imagen ilustra la icónica situación de la modelación estadística. \n",
    "\n",
    "* A la izquierda, de azul, la `densidad a priori`  $\\boldsymbol{\\theta}$.\n",
    "* A a la derecha, de verde, la densidad de la muestra, técnicamente llamada `la evidencia`, $P(\\mathbf{x})$.\n",
    "* Al centro, de rojo, la `posterior`  $P(\\boldsymbol{\\theta}|\\mathbf{x})$."
   ]
  },
  {
   "cell_type": "code",
   "execution_count": 14,
   "metadata": {},
   "outputs": [
    {
     "data": {
      "image/png": "[encoded data removed]",
      "text/plain": [
       "<Figure size 640x480 with 1 Axes>"
      ]
     },
     "metadata": {},
     "output_type": "display_data"
    }
   ],
   "source": [
    "# Modelamiento matemático\n",
    "import matplotlib.pyplot as plt\n",
    "import numpy as np \n",
    "from scipy.stats import norm\n",
    "\n",
    "x = np.linspace(-8,8, 100)\n",
    "\n",
    "plt.plot(x, norm.pdf(x,-2,3),color='blue',  lw=2, alpha=0.6, label='A priori: $P(\\\\theta)$')\n",
    "plt.plot(x, norm.pdf(x,2,1.0),color='green',  lw=2, alpha=0.6, label = 'Evidencia: $P(x)$')\n",
    "plt.plot(x, norm.pdf(x,0,1.5),color='red',  lw=4, alpha=0.6, label = 'Posterior: $P(\\\\theta|x)$')\n",
    "plt.title('Modelación estadística')\n",
    "plt.legend(loc='upper left')\n",
    "plt.xlabel('Dominio de los datos y los parámetros')\n",
    "plt.show()"
   ]
  },
  {
   "cell_type": "markdown",
   "metadata": {},
   "source": [
    "### <span style=\"color:#4CC9F0\">El proceso de la modelación estadística</span>\n"
   ]
  },
  {
   "cell_type": "markdown",
   "metadata": {
    "slideshow": {
     "slide_type": "slide"
    }
   },
   "source": [
    "En la modelación estadística moderna  se supone que tanto parámetros ($\\mathbf{\\theta}$) como observaciones ($\\mathbf{x}$) son variables aleatorias. \n",
    "\n",
    "Es posible pensar en un proceso de modelación estadística siguiendo la siguiente estrategia generativa.\n",
    "\n",
    "1. **El parámetro**.Dada la distribución a priori $\\boldsymbol{\\theta}$, se genera un valor específico $\\boldsymbol{\\theta}_0$. Este valor será desconocido todo el tiempo para el científico de datos. En esta parte del proceso, no solamente se supone una distribución a priori que se conoce vagamente y que denotamos $p(\\boldsymbol{\\theta})$. Observe que la verdadera distribución de $\\boldsymbol{\\theta}$ se desconoce, por lo que simplemente hacemos una hipótesis acerca de como es realmente $p(\\boldsymbol{\\theta})$.\n",
    "1. **La evidencia**. Para determinar un valor plausible de $\\boldsymbol{\\theta}_0$, se obtiene una realización de la muestra $\\mathbf{x}$, que denotaremos $\\mathbf{x}^*$. Para poder inferir un valor realmente plausible de  $\\boldsymbol{\\theta}_0$ es necesario que la muestra sea realmente representativa de la población. La población se representa mediante la distribución  $P(\\mathbf{x}|\\boldsymbol{\\theta}_0)$. \n",
    "1. **La verosimilitud**.  la verosimilitud asociada a la muestra  es dada por $P(\\mathbf{x}|\\boldsymbol{\\theta})$. Esta parte del proceso es crucial. No sabemos realmente cual cuál es la verdadera distribución $P(\\mathbf{x}|\\boldsymbol{\\theta})$, por lo que asumimos una distribución razonable que en todo caso debe ponerse a prueba en algún momento del proceso. Para la muestra observada, la verosimilitus toma la forma $P(\\mathbf{x}^*|\\boldsymbol{\\theta})$.\n",
    "1. **La posterior**. De acuerdo con el teorema de Bayes, la posterior es dada por \n",
    "$$P(\\boldsymbol{\\theta}|\\mathbf{x}) = \\frac{P(\\mathbf{x}|\\boldsymbol{\\theta})P(\\boldsymbol{\\theta})}{\\int P(\\mathbf{x}|\\boldsymbol{\\theta})P(\\boldsymbol{\\theta})d\\boldsymbol{\\theta}} = \\frac{P(\\mathbf{x}|\\boldsymbol{\\theta})P(\\boldsymbol{\\theta})}{P(\\mathbf{x})}.$$\n",
    "La posterior es el modelo estadístico del problema.\n",
    "1. **La estimación**. El problema estadístico básicamente consiste en encontrar un valor plausible para $\\boldsymbol{\\theta}_0$. Paar esta parte es posible deshacerse de la distribución de la muestra $P(\\mathbf{x})$, debido a que al ser una distribución marginal, no contiene información $\\boldsymbol{\\theta}_0$. En la distribución posterior $P(\\mathbf{x})$ es realmente una constante de normalización, por lo que haremos el trabajo con el kernel de la distribución posterior, es decir la dsnesida no normalizada dada por\n",
    "\n",
    "$$\n",
    "f(\\boldsymbol{\\theta}|\\mathbf{x}) = P(\\mathbf{x}|\\boldsymbol{\\theta})P(\\boldsymbol{\\theta})\n",
    "$$"
   ]
  },
  {
   "cell_type": "markdown",
   "metadata": {
    "slideshow": {
     "slide_type": "slide"
    }
   },
   "source": [
    "### <span style=\"color:#4CC9F0\">Ejemplo con la distribución Binomial</span>"
   ]
  },
  {
   "cell_type": "markdown",
   "metadata": {
    "slideshow": {
     "slide_type": "slide"
    }
   },
   "source": [
    "Supongamos que deseamos estimar la probabilidad de que un producto sea defectuoso en una línea de producción.\n",
    "\n",
    "Planeamos el experimento de la siguiente forma.\n",
    "\n",
    "1. **Experimento** Se seleccionaran aleatoriamente $N = 100$ elementos de manera independiente de la línea de producción. ¿Puede imaginar como obtener esta muestra aleatoria?. Se revisan los productos, y se anotan 1, si el producto es defectuoso y 0, en caso contrario.\n",
    "1. **A priori**. Como el parámetro investigado está en el intervalo [0,1], vamos a asumir una a priori  Uniforme[0,1].\n",
    "1. **Evidencia**. Como hemos decidido de antemano que se hacen $N$ experimentos independientes de Bernoulli es razonable anotar el número de defectuosos. Por lo tanto nuestra evidencia será $X$ = número de productos defectuosos.\n",
    "1. **Verosimilitud**. Es claro que en este caso $P(x|\\theta)$ es la distribución $\\text{Binomial}( 100, \\theta)$, cuya función de masa es dada por\n",
    "$$\n",
    "P(x|\\theta) = \\frac{\\theta^{x}(1- \\theta)^{100-x}}{K},\n",
    "$$\n",
    "en donde $K$ es la respectiva constante de normalización.\n",
    "1. **Posterior**. Como la a priori tiene densidad $p(\\theta) = 1$ se tiene que la posterior es dada por \n",
    "\n",
    "$$\n",
    "p(\\theta|x) = \\frac{\\theta^{(x+1)-1}(1- \\theta)^{(100-x+1)-1}}{K'},\n",
    "$$\n",
    "en donde $K'$ es la respectiva constante de normalización. Puede verificar que es este caso se tiene que \n",
    "\n",
    "$$\n",
    "P(\\theta|x) = Beta(x+1, 100-x+1).\n",
    "$$\n",
    "\n",
    "Verifique al última afirmación. Antes de seguir revisemos la distribución Beta."
   ]
  },
  {
   "cell_type": "markdown",
   "metadata": {
    "tags": []
   },
   "source": [
    "### <span style=\"color:#4CC9F0\">Distribución Beta</span>"
   ]
  },
  {
   "cell_type": "markdown",
   "metadata": {
    "tags": []
   },
   "source": [
    "La distribución Beta tiene dominio el intervalo [0,1], por lo que es un buena opción como distribución a priori en nuestro problema. La densidad de la distribución Beta(a,b) es dada por\n",
    "\n",
    "$$\n",
    "f_{\\beta}(x) = \\frac{x^{a-1}(1-x)^{b-1}}{K}, a\\ge 0, b \\ge 0,\n",
    "$$\n",
    "en donde $K$ es la constante de normalización. Se sabe que la media de esta distribución es dada por\n",
    " \n",
    "$$\n",
    "\\mu = \\frac{a}{a+b}.\n",
    "$$\n",
    "\n",
    "La moda, es decir el valor en donde la densidad toma el máximo valor es dada por\n",
    "\n",
    "$$\n",
    "m = \\frac{a-1}{a+b-2}, a>1, b>1.\n",
    "$$"
   ]
  },
  {
   "cell_type": "markdown",
   "metadata": {
    "tags": []
   },
   "source": [
    "#### <span style=\"color:#4CC9F0\">Ejercicio</span>"
   ]
  },
  {
   "cell_type": "markdown",
   "metadata": {},
   "source": [
    "#### <span style=\"color:#4CC9F0\">Estimación del parámetro</span>"
   ]
  },
  {
   "cell_type": "markdown",
   "metadata": {},
   "source": [
    "Tenemos varias alternativas para encontrar un valor plausible para el parámetro. Para llegar a una solución numérica, vamos a suponer que hemos encontrado $x=5$ objetos defectuosos. En este ejercicio ya tenemos la intuición de que un valor plausible para el parámetro es $\\theta_0=0.05$. Pero esta situación tan simple casi nunca se tiene.\n",
    "\n",
    "Tenemos para nuestro problema\n",
    "\n",
    "$$\n",
    "p(\\theta|x=5) = \\text{Beta}(6, 101)\n",
    "$$\n",
    "\n",
    "Nuestra primera solución es...\n",
    "\n",
    "**Tomar la media de la distribución posterior**.\n",
    "\n",
    "Puede consultar en Wikipedia \n",
    "\n",
    "$$\n",
    "\\hat{\\theta_0} =  \\frac{\\alpha}{\\alpha+\\beta} = \\frac{6}{107} = 0.056\n",
    "$$\n",
    "\n",
    "Nuestra segunda solución es...\n",
    "\n",
    "**Tomar la moda  de la distribución posterior**.\n",
    "\n",
    "$$\n",
    "\\hat{\\theta_0} =  \\frac{\\alpha-1}{\\alpha+\\beta -2} = \\frac{5}{105} = 0.048\n",
    "$$"
   ]
  }
 ],
 "metadata": {
  "kernelspec": {
   "display_name": "Python 3 (ipykernel)",
   "language": "python",
   "name": "python3"
  },
  "language_info": {
   "codemirror_mode": {
    "name": "ipython",
    "version": 3
   },
   "file_extension": ".py",
   "mimetype": "text/x-python",
   "name": "python",
   "nbconvert_exporter": "python",
   "pygments_lexer": "ipython3",
   "version": "3.10.4"
  }
 },
 "nbformat": 4,
 "nbformat_minor": 4
}
