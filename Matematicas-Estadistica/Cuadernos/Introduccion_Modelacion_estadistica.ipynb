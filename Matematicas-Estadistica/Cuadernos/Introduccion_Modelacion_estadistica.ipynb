{
 "cells": [
  {
   "cell_type": "markdown",
   "metadata": {
    "jp-MarkdownHeadingCollapsed": true
   },
   "source": [
    "<figure>\n",
    "<img src=\"../Imagenes/logo-final-ap.png\"  width=\"80\" height=\"80\" align=\"left\"/> \n",
    "</figure>\n",
    "\n",
    "# <span style=\"color:blue\"><left>Aprendizaje Profundo</left></span>"
   ]
  },
  {
   "cell_type": "markdown",
   "metadata": {
    "tags": []
   },
   "source": [
    "# <span style=\"color:red\"><center>Diplomado en Ciencia de Datos</center></span>"
   ]
  },
  {
   "cell_type": "markdown",
   "metadata": {},
   "source": [
    "# <span style=\"color:green\"><center>Introducción a la modelación estadística</center></span>"
   ]
  },
  {
   "cell_type": "markdown",
   "metadata": {},
   "source": [
    "\n",
    "<figure>\n",
    "<center>\n",
    "<img src=\"../Imagenes/Golem-MET_2.jpg\" width=\"400\" height=\"100\" align=\"center\"/>\n",
    "<figcaption> El rabino Maharal y el Golem de Praga</figcaption>\n",
    "</center>\n",
    "</figure>\n",
    "\n",
    "Fuente: <a href=\"https://commons.wikimedia.org/wiki/File:Castillo_de_Praga_y_puente_Carlos,_Praga,_Rep%C3%BAblica_Checa,_2022-07-01,_DD_14-16_HDR.jpg\">Diego Delso</a>, <a href=\"https://creativecommons.org/licenses/by-sa/4.0\">CC BY-SA 4.0</a>, via Wikimedia Commons"
   ]
  },
  {
   "cell_type": "markdown",
   "metadata": {},
   "source": [
    "## <span style=\"color:#4361EE\">Profesores</span>"
   ]
  },
  {
   "cell_type": "markdown",
   "metadata": {},
   "source": [
    "* Alvaro  Montenegro, PhD, <ammontenegrod@unal.edu.co>\n",
    "* Campo Elías Pardo, PhD, <cepardot@unal.edu.co>\n",
    "* Daniel  Montenegro, Msc, <dextronomo@gmail.com>\n",
    "* Camilo José Torres Jiménez, Msc, <cjtorresj@unal.edu.co>"
   ]
  },
  {
   "cell_type": "markdown",
   "metadata": {},
   "source": [
    "## <span style=\"color:#4361EE\">Asesora Medios y Marketing digital</span>"
   ]
  },
  {
   "cell_type": "markdown",
   "metadata": {},
   "source": [
    "* Maria del Pilar Montenegro, pmontenegro88@gmail.com\n",
    "* Jessica López Mejía, jelopezme@unal.edu.co"
   ]
  },
  {
   "cell_type": "markdown",
   "metadata": {},
   "source": [
    "## <span style=\"color:#4361EE\">Jefe Jurídica</span>"
   ]
  },
  {
   "cell_type": "markdown",
   "metadata": {},
   "source": [
    "* Paula Andrea Guzmán, guzmancruz.paula@gmail.com"
   ]
  },
  {
   "cell_type": "markdown",
   "metadata": {},
   "source": [
    "## <span style=\"color:#4361EE\">Coordinador Jurídico</span>"
   ]
  },
  {
   "cell_type": "markdown",
   "metadata": {},
   "source": [
    "* David Fuentes, fuentesd065@gmail.com"
   ]
  },
  {
   "cell_type": "markdown",
   "metadata": {},
   "source": [
    "## <span style=\"color:#4361EE\">Desarrolladores Principales</span>"
   ]
  },
  {
   "cell_type": "markdown",
   "metadata": {},
   "source": [
    "* Dairo Moreno, damoralesj@unal.edu.co\n",
    "* Joan Castro, jocastroc@unal.edu.co\n",
    "* Bryan Riveros, briveros@unal.edu.co\n",
    "* Rosmer Vargas, rovargasc@unal.edu.co\n",
    "* Venus Puertas, vpuertasg@unal.edu.co"
   ]
  },
  {
   "cell_type": "markdown",
   "metadata": {},
   "source": [
    "## <span style=\"color:#4361EE\">Expertos en Bases de Datos</span>"
   ]
  },
  {
   "cell_type": "markdown",
   "metadata": {},
   "source": [
    "* Giovvani Barrera, udgiovanni@gmail.com\n",
    "* Camilo Chitivo, cchitivo@unal.edu.co"
   ]
  },
  {
   "cell_type": "markdown",
   "metadata": {
    "tags": []
   },
   "source": [
    "## <span style=\"color:#4361EE\">El Golem de Praga</span>\n"
   ]
  },
  {
   "cell_type": "markdown",
   "metadata": {},
   "source": [
    "Tomado de [Wikipedia](https://en.wikipedia.org/wiki/Golem).\n",
    "\n",
    "\n",
    "La narración de golem más famosa involucra a Judah Loew ben Bezalel, el rabino de Praga de fines del siglo XVI, también conocido como el Maharal, quien supuestamente \"creó un golem de arcilla de las orillas del río Vltava y le dio vida a través de rituales y conjuros hebreos para defender el gueto de Praga de ataques antisemitas y pogromos \". Según la versión de la leyenda, los judíos de Praga debían ser expulsados o asesinados bajo el gobierno de Rodolfo II, el emperador del Sacro Imperio Romano Germánico. \n",
    "\n",
    "Para activar el Golem, el rabino le colocaba en la boca un papiro con las instrucciones de que hacer. Este papiro se denominaba *shem*.\n",
    "\n",
    "El Golem se llamaba Josef y era conocido como Yossele. Se decía que podía hacerse invisible y convocar espíritus de los muertos. El rabino Loew desactivaba el Golem los viernes por la noche quitando el shem antes de que comenzara el Shabat (sábado), para dejarlo descansar en el Shabat. \n",
    "\n",
    "Un viernes por la noche, al rabino Loew se olvidó de quitar el shem y temió que el Golem profanara el sábado.  Una historia diferente habla de un golem que se enamoró y, cuando fue rechazado, se convirtió en el monstruo violento que se ve en la mayoría de los relatos. Algunas versiones dicen que el golem finalmente se convirtió en un alborotado asesino. \n",
    "\n",
    "El rabino luego logró sacar el shem de su boca e inmovilizarlo frente a la sinagoga, con lo cual el golem cayó en pedazos.  El cuerpo del Golem se almacenó en el ático genizah de la Sinagoga Vieja Nueva,  donde sería restaurado a la vida si fuera necesario. "
   ]
  },
  {
   "cell_type": "markdown",
   "metadata": {},
   "source": [
    "### <span style=\"color:#4CC9F0\">Golems en Estadística</span>\n"
   ]
  },
  {
   "cell_type": "markdown",
   "metadata": {},
   "source": [
    "[Sobre el golem de Praga](https://www.youtube.com/watch?v=KnTP-ZxFAzU)\n",
    "\n",
    "Los estadísticos usamos muchos golem. Por ejemplo en R usamos el golem lm() para hacer regresiones lineales como la siguiente: \n",
    "\n"
   ]
  },
  {
   "cell_type": "markdown",
   "metadata": {},
   "source": [
    "````{tab} R\n",
    "```R\n",
    "# NOT RUN {\n",
    "require(graphics)\n",
    "\n",
    "## Annette Dobson (1990) \"An Introduction to Generalized Linear Models\".\n",
    "## Page 9: Plant Weight Data.\n",
    "ctl <- c(4.17,5.58,5.18,6.11,4.50,4.61,5.17,4.53,5.33,5.14)\n",
    "trt <- c(4.81,4.17,4.41,3.59,5.87,3.83,6.03,4.89,4.32,4.69)\n",
    "group <- gl(2, 10, 20, labels = c(\"Ctl\",\"Trt\"))\n",
    "weight <- c(ctl, trt)\n",
    "lm.D9 <- lm(weight ~ group)\n",
    "lm.D90 <- lm(weight ~ group - 1) # omitting intercept\n",
    "# }\n",
    "# NOT RUN {\n",
    "anova(lm.D9)\n",
    "```\n",
    "````\n"
   ]
  },
  {
   "cell_type": "markdown",
   "metadata": {},
   "source": [
    " **¿Porque lm() es un golem?**"
   ]
  },
  {
   "cell_type": "markdown",
   "metadata": {
    "tags": []
   },
   "source": [
    "## <span style=\"color:#4361EE\">Pequeños Mundos y Grandes Mundos</span>\n"
   ]
  },
  {
   "cell_type": "markdown",
   "metadata": {},
   "source": [
    "El propósito central de la Estadística es tratar de explorar, describir,... grandes mundos, a partir de pequeños mundos, mediante la utilización de modelos.\n",
    "\n",
    "En principio el(la) investigador(a) o interesado(a) en tales tareas tiene una idea inicial del mundo grande y construye un modelo para verificar sus hipótesis o para rechazarlas.\n"
   ]
  },
  {
   "cell_type": "markdown",
   "metadata": {},
   "source": [
    "### <span style=\"color:#4CC9F0\">Conjunto de datos de ejemplo</span>"
   ]
  },
  {
   "cell_type": "markdown",
   "metadata": {},
   "source": [
    "Supongamos que tenemos un conjunto de datos de interés que tiene variables cualitativas y cuantitativas.\n",
    "\n",
    "A continuación tenemos un conjunto de datos, tan solo como ejemplo:"
   ]
  },
  {
   "cell_type": "code",
   "execution_count": 7,
   "metadata": {},
   "outputs": [
    {
     "name": "stdout",
     "output_type": "stream",
     "text": [
      "    MPG  Cylinders  Displacement Horsepower  Weight  Acceleration  Model Year  \\\n",
      "0  18.0          8         307.0      130.0  3504.0          12.0          70   \n",
      "1  15.0          8         350.0      165.0  3693.0          11.5          70   \n",
      "2  18.0          8         318.0      150.0  3436.0          11.0          70   \n",
      "3  16.0          8         304.0      150.0  3433.0          12.0          70   \n",
      "4  17.0          8         302.0      140.0  3449.0          10.5          70   \n",
      "\n",
      "   Origin                   Car Name  \n",
      "0       1  chevrolet chevelle malibu  \n",
      "1       1          buick skylark 320  \n",
      "2       1         plymouth satellite  \n",
      "3       1              amc rebel sst  \n",
      "4       1                ford torino  \n"
     ]
    }
   ],
   "source": [
    "import pandas as pd\n",
    "# URL del conjunto de datos Auto MPG\n",
    "url = \"https://archive.ics.uci.edu/ml/machine-learning-databases/auto-mpg/auto-mpg.data\"\n",
    "# Nombres de las columnas\n",
    "column_names = [\"MPG\", \"Cylinders\", \"Displacement\", \"Horsepower\", \"Weight\", \"Acceleration\", \"Model Year\", \"Origin\", \"Car Name\"]\n",
    "# Cargar el conjunto de datos en un DataFrame\n",
    "data = pd.read_csv(url, names=column_names, delim_whitespace=True)\n",
    "# Mostrar las primeras filas del DataFrame\n",
    "print(data.head())"
   ]
  },
  {
   "cell_type": "markdown",
   "metadata": {},
   "source": [
    "* `MPG`: Millas por galón (Eficiencia en el consumo de combustible).\n",
    "* `Cylinders`: Número de cilindros del motor.\n",
    "* `Displacement`: Desplazamiento del motor (en pulgadas cúbicas).\n",
    "* `Horsepower`: Potencia del motor (caballos de fuerza).\n",
    "* `Weight`: Peso del automóvil (en libras).\n",
    "* `Acceleration`: Aceleración (en segundos para alcanzar 60 mph).\n",
    "* `Model Year`: Año del modelo del automóvil (siglo XX).\n",
    "* `Origin`: Origen del automóvil (1: Estados Unidos, 2: Europa, 3: Japón).\n",
    "* `Car Name`: Nombre del automóvil.\n",
    "\n",
    "Adicionalmente, supongamos que tenemos tantas variables como querramos acerca de los automoviles, y que podemos tener registros/filas no solamente por referencia de automovil sino que podríamos tener registros por cada auto producido."
   ]
  },
  {
   "cell_type": "markdown",
   "metadata": {},
   "source": [
    "**Conceptos, términos, áreas de la estadística y su relación**:"
   ]
  },
  {
   "cell_type": "markdown",
   "metadata": {},
   "source": [
    "<figure>\n",
    "<center>\n",
    "<img src=\"https://cjtorresj.quarto.pub/ie/infer_princip/EsquemaEstadistica.png\" width=\"500\" height=\"500\" align=\"center\" /> \n",
    "<figcaption>Fuente: Camilo Torres</figcaption>\n",
    "</center>   \n",
    "</figure>"
   ]
  },
  {
   "cell_type": "markdown",
   "metadata": {},
   "source": [
    "Supongamos que los datos que tenemos corresponden a una muestra.\n",
    "\n",
    "$i$ | $X_1$ | $\\dots$ | $X_m$\n",
    ":---:|:---:|:---:|:---:\n",
    "$1$ | $x_{11}$ | $\\dots$ | $x_{1m}$\n",
    "$2$ | $x_{21}$ | $\\dots$ | $x_{2m}$\n",
    "$\\vdots$ | $\\vdots$ | $\\dots$ | $\\vdots$\n",
    "$n$ | $x_{n1}$ | $\\dots$ | $x_{nm}$"
   ]
  },
  {
   "cell_type": "markdown",
   "metadata": {},
   "source": [
    "#### <span style=\"color:#4CC9F0\">Caso 1:</span>\n",
    "\n",
    "Supongamos que queremos modelar una sola variable. Por ejemplo, supongamos que una variable solamente puede tener uno de únicamente dos posibles valores.\n",
    "\n",
    "**¿Qué distribución (poblacional) tendría la variable aleatoria correspodiente? ¿Qué es lo importante que debería tratar de conocer o estimar acerca de esa distribución?**"
   ]
  },
  {
   "cell_type": "markdown",
   "metadata": {},
   "source": [
    "#### <span style=\"color:#4CC9F0\">Caso 2:</span>\n",
    "\n",
    "Ahora, por otra parte, supongamos que dado el contexto de los datos existe una variable que debería depender de las demás y queremos modelar esa relación.\n",
    "\n",
    "$i$ | $X_1$ | $\\dots$ | $X_m$ | $Y$\n",
    ":---:|:---:|:---:|:---:|:---:\n",
    "$1$ | $x_{11}$ | $\\dots$ | $x_{1m}$ | $y_{1}$\n",
    "$2$ | $x_{21}$ | $\\dots$ | $x_{2m}$ | $y_{2}$\n",
    "$\\vdots$ | $\\vdots$ | $\\dots$ | $\\vdots$ | $\\vdots$\n",
    "$n$ | $x_{n1}$ | $\\dots$ | $x_{nm}$ | $y_{n}$"
   ]
  },
  {
   "cell_type": "markdown",
   "metadata": {},
   "source": [
    "El modelo podría ser lineal con respecto a una sola variable (la ecuación de una recta).\n",
    "\n",
    "$$y_i = b_0 + b_1 x_{i1}$$\n",
    "\n",
    "Pero como existen variaciones en los valores y no hay modelo perfecto (o si lo hay para un conjunto de datos específico entonces no serviría para ser generalizado).\n",
    "\n",
    "$$y_i - (b_0 + b_1 x_{i1}) = e_i$$\n",
    "en donde $e_i$ son realizaciones de una variable aleatoria asociada al error, ruido, variación o simplemente la diferencia entre lo que estimaría el modelo para $y_i$: $\\hat{y}_i = b_0 + b_1 x_{i1}$, y el verdadero valor de $y_i$.\n",
    "\n",
    "Debo los mejores $b_0$ y $b_1$, los que hagan que una cierta función de pérdida llegue al valor más pequeño que sea posible, por ejemplo usando:\n",
    "$$\\ell(b_0,b_1; x_{i1}, y_i) = \\sum_{i=1}^n\\left[y_i - \\left( b_0 + b_1 x_{i1} \\right)\\right]^2$$\n",
    "\n",
    "Además los valores $b_0$ y $b_1$ serán estimaciones de los parámetros del modelo equivalente pero a nivel poblacional."
   ]
  },
  {
   "cell_type": "markdown",
   "metadata": {},
   "source": [
    "Si el modelo es lineal con respecto a todas las variables,\n",
    "\n",
    "$$y_i = b_0 + b_1 x_{i1} + b_2 x_{i2} + \\dots + b_m x_{im} + e_i$$"
   ]
  },
  {
   "cell_type": "markdown",
   "metadata": {},
   "source": [
    "Para un modelo en general,\n",
    "\n",
    "$$y_i = f(x_{i1}, \\dots, x_{i2}, \\dots x_{im}; b_0, b_1, \\dots, b_m) + e_i$$"
   ]
  },
  {
   "cell_type": "markdown",
   "metadata": {},
   "source": [
    "Para un modelo en general,\n",
    "\n",
    "$$\\mu_i = E[y_i] = f(x_{i1}, \\dots, x_{i2}, \\dots x_{im}; b_0, b_1, \\dots, b_m)$$"
   ]
  },
  {
   "cell_type": "markdown",
   "metadata": {},
   "source": [
    "La componente aleatoria del modelo es de suma importancia y es la que lo hace un modelo estadístico.\n",
    "\n",
    "**¿Qué distribución (poblacional) tendría la variable aleatoria asociada al error? ¿está relacionada de alguna manera con la distribución (poblacional) asociada a la variable \"especial\" ($Y$)?**"
   ]
  },
  {
   "cell_type": "markdown",
   "metadata": {},
   "source": [
    "### <span style=\"color:#4CC9F0\">El mundo según Cristobal Colón, 1492</span>"
   ]
  },
  {
   "cell_type": "markdown",
   "metadata": {},
   "source": [
    "Para el hombre de finales de s. XV, el mundo estaba compuesto por tres continentes: Europa, Asia y África. experto navegante y apasionado cartógrafo, decidió abrir una ruta marítima hacia Asia y se topó con un continente desconocido.\n",
    "\n",
    "Es bien conocido hoy que la Tierra es una esfera o casi (su ecuador está abultado un poco debido a la rotación). Cuando Cristóbal Colón plantea llegar a la India navegando hacia el oeste desde España, también conocía que la Tierra era redonda. \n",
    "\n",
    "La India era productora de especies apreciadas y de otras mercaderías valiosas, pero llegar allí por el este era difícil porque África cerraba el paso. En un mundo redondo, sin embargo, debería ser posible alcanzar la India navegando hacia el oeste y Colón planteó hacerlo así (no fue el primero en proponerlo, como se verá más abajo). \n",
    "\n",
    "A veces se afirma que los que se oponían al pensamiento de Colón, lo eran por pensar que la Tierra era redonda, pero ese no era, en absoluto, el caso. Hasta en los tiempos antiguos los marinos sabían que la Tierra era redonda y los científicos no solo suponían que era redonda, sino que hasta calculaban su tamaño. \n",
    "\n",
    "\n",
    "Cristóbal Colón propuso llegar a Asia por el lado opuesto por el cual llegaba todo el mundo. El gráfico es una  imagen de Martin Behaim de 1492, mostrando el pequeño mundo que Colón anticipó."
   ]
  },
  {
   "cell_type": "markdown",
   "metadata": {},
   "source": [
    "<figure>\n",
    "<center>\n",
    "<img src=\"https://raw.githubusercontent.com/AprendizajeProfundo/Libro-Estadistica-Bayesiana/main/Introduccion/Imagenes/MartinBehaim1492.jpg\" width=\"400\" height=\"400\" align=\"center\" /> \n",
    "<figcaption> El mundo según Martin Behaim 1942. Mapa que se dice usó  Cristobal Colón para planear su viaje</figcaption>\n",
    "</center>   \n",
    "</figure>\n",
    "\n",
    "Fuente: <a href=\"https://commons.wikimedia.org/wiki/File:Martin_B_Ocean_Map.png\">MartinBehaim1492.jpg: Encyclopedia Larousse illustree - 1898derivative work: PawełMM</a>, Public domain, via Wikimedia Commons\n"
   ]
  },
  {
   "cell_type": "markdown",
   "metadata": {},
   "source": [
    "El error de Colón es que supuso que el diámetro de la tierra era de 30.000 kilómetros. En realidad son 40.000 kilómetros aproximadamente. Por eso no preparó suficientes provisiones para el viaje. Este es un error que cambió al mundo.\n"
   ]
  },
  {
   "cell_type": "markdown",
   "metadata": {},
   "source": [
    "## <span style=\"color:#4361EE\">Construyendo un modelo</span>\n"
   ]
  },
  {
   "cell_type": "markdown",
   "metadata": {},
   "source": [
    "Supongamos que deseamos estimar el porcentaje de agua superficial del globo terráqueo. Al menos tres cosas debemos hacer:\n",
    "\n",
    "1. Narración de los datos: Motivar el modelo, narrando como los datos pueden o deben aparecer.\n",
    "2. Actualizar: Educar(entrenar) el modelo, alimentándolo con datos.\n",
    "3. Evaluar: Todos los modelos estadísticos requieren ser evalueado, llevando posiblemente a la revisión  y replanteamiento del modelo.\n",
    "\n",
    "\n",
    "Para nuestro primer modelo usaremos el lanzamiento de una moneda."
   ]
  },
  {
   "cell_type": "markdown",
   "metadata": {},
   "source": [
    "### <span style=\"color:#4CC9F0\">Narración de los datos</span>\n"
   ]
  },
  {
   "cell_type": "markdown",
   "metadata": {},
   "source": [
    "El experimento consiste lanzar una moneda y registrar el resultado: cara (1) o cruz (0).\n",
    "\n",
    "1. La probabilidad de *cara*, digamos $\\mu$,  corresponde al valor verdadero de la proporción de la veces que se espera que se obtenga cara. Por supuesto, si la moneda no es segada, todos sabemos a priori que $\\mu = \\pi = 0.5$. ¿Pero, y si la moneda esta sesgada? por ejemplo la moneda podría tener una deformación que hace más favorable un resultado. \n",
    "2. La probabilidad de *cara*  corresponde al valor verdadero de la proporción esperadas de caras.\n",
    "3. Cada experimento es independiente de los demás."
   ]
  },
  {
   "cell_type": "markdown",
   "metadata": {},
   "source": [
    "### <span style=\"color:#4CC9F0\">Actualización</span>\n"
   ]
  },
  {
   "cell_type": "markdown",
   "metadata": {},
   "source": [
    "1. Al comenzar asumiremos por facilidad que cualquier valor es igualmente plausible. Es decir, no nos inclinamos por ningún posible valor. No aportamos información acerca de nuestra **creencia** acerca de $\\mu$.\n",
    "2. Supondremos que a partir de las observaciones podemos construir una **distribución**. Luego de cada observación, tal distribución es actualizada.  Este proceso se llama **actualización bayesiana**.\n",
    "\n",
    "La primera imagen en el siguiente enlace muestra la distribución a priori, antes de realizar el primer experimento. Las siguientes imágenes ilustran como se va actualizando la posterior, luego de realizar muchas veces el experimento. En este caso la moneda parece justa (insesgada). ¿Porque?"
   ]
  },
  {
   "cell_type": "markdown",
   "metadata": {},
   "source": [
    "<figure>\n",
    "<center>\n",
    "<img src=\"https://raw.githubusercontent.com/AprendizajeProfundo/Libro-Estadistica-Bayesiana/main/Introduccion/Imagenes/qs-bayes-bernoulli.png\" width=\"700\" height=\"600\" align=\"center\" /> \n",
    "</center>   \n",
    "</figure>\n",
    "Actualización de la posterior a partir de la evidencia\n",
    "\n",
    "Fuente: [Amazon](https://s3.amazonaws.com/quantstart/media/images/qs-bayes-bernoulli.png)\n"
   ]
  },
  {
   "cell_type": "markdown",
   "metadata": {},
   "source": [
    "### <span style=\"color:#4CC9F0\">Ejercicio</span>\n"
   ]
  },
  {
   "cell_type": "markdown",
   "metadata": {},
   "source": [
    "Escriba un programa Python que imite el experimento el experimento ilustrado. Pero ahora suponga que la moneda es sesgada. Por ejemplo, suponga que $\\mu=0.7$.\n"
   ]
  },
  {
   "cell_type": "code",
   "execution_count": 1,
   "metadata": {},
   "outputs": [],
   "source": [
    "# Escriba su solución aquí."
   ]
  },
  {
   "cell_type": "markdown",
   "metadata": {},
   "source": [
    "### <span style=\"color:#4CC9F0\">Evaluación</span>\n"
   ]
  },
  {
   "cell_type": "markdown",
   "metadata": {},
   "source": [
    "El modelo estadístico aprende de una forma que puede demostrarse que es optimal, lo que implica que el mundo grande real es descrito adecuadamente por el modelo. Es decir, nuestra **máquina de aprendizaje bayesiana** garantiza una inferencia perfecta, dentro del pequeño mundo. No hay otro camino mejor usando la información disponible."
   ]
  },
  {
   "cell_type": "markdown",
   "metadata": {},
   "source": [
    "### <span style=\"color:#4CC9F0\">Upps</span>\n"
   ]
  },
  {
   "cell_type": "markdown",
   "metadata": {},
   "source": [
    "Sin embargo no se entusiasme demasiado.\n",
    "\n",
    "Los cálculos pueden funcionar mal, entonces los resultados siempre tienen que ser verificados. Y si hay diferencias importantes entre\n",
    "el modelo y la realidad, entonces no hay una garantía lógica de un gran rendimiento global. \n",
    "\n",
    "\n",
    "Incluso si los dos mundos coincidieran, cualquier muestra particular de datos podría ser engañosa. Asi que\n",
    "vale la pena tener en cuenta al menos dos principios cautelosos.\n",
    "\n",
    "1. **La certeza del modelo no garantiza que el modelo sea bueno**. Como la cantidad\n",
    "de los aumentos de datos, el modelo de lanzamiento de globo crecerá cada vez más seguro de la proporción de\n",
    "agua. Esto significa que las curvas en la Figura se volverán cada vez más estrechas y altas,\n",
    "restringir valores plausibles dentro de un rango muy estrecho. Pero modelos de todo tipo: bayesianos o\n",
    "no, puede confiar mucho en una estimación, incluso cuando el modelo es muy engañoso.\n",
    "\n",
    "\n",
    "   Esto se debe a que **las estimaciones dependen del modelo**. \n",
    "\n",
    "2. Es importante supervisar y criticar el trabajo de su modelo. Considere nuevamente el\n",
    "hecho de que la actualización en la sección anterior funciona en cualquier orden de llegada de datos. Podríamos\n",
    "barajar el orden de las observaciones, mientras queden seis W y tres L, y aún así terminen\n",
    "con la misma curva de plausibilidad final. Sin embargo, eso solo es cierto porque el modelo supone\n",
    "ese **orden es irrelevante** para la inferencia. Pero, en algunos caso podría serlo."
   ]
  },
  {
   "cell_type": "markdown",
   "metadata": {},
   "source": [
    "## <span style=\"color:#4361EE\">Tarea</span>\n"
   ]
  },
  {
   "cell_type": "markdown",
   "metadata": {},
   "source": [
    "### <span style=\"color:#4CC9F0\">Narración de los datos</span>\n"
   ]
  },
  {
   "cell_type": "markdown",
   "metadata": {},
   "source": [
    "Para nuestra primera tarea usaremos un globo terráqueo a escala."
   ]
  },
  {
   "cell_type": "markdown",
   "metadata": {},
   "source": [
    "<figure>\n",
    "<center>\n",
    "<img src=\"https://raw.githubusercontent.com/AprendizajeProfundo/Libro-Estadistica-Bayesiana/main/Introduccion/Imagenes/GlobeSK.jpg\" width=\"400\" height=\"400\" align=\"center\" /> \n",
    "</center>   \n",
    "</figure>\n",
    "\n",
    "Fuente: [Wikipedia](https://es.wikipedia.org/wiki/Globo_terr%C3%A1queo#/media/Archivo:GlobeSK.jpg)\n"
   ]
  },
  {
   "cell_type": "markdown",
   "metadata": {},
   "source": [
    "1. El experimento consiste en hacer girar el globo y *pinchar* en algún lugar sin tener ninguna preferencia. El experimento es de tipo dicotómico, debido a que solamente habrá dos posibles resultados: agua (1) o tierra (0).\n",
    "   \n",
    "    - La probabilidad de *pinchar* en agua corresponde al valor verdadero de la proporción de agua y se denotará $\\mu$.\n",
    "    - La probabilidad de *pinchar* en tierra corresponde al valor verdadero de la proporción de tierra y es $ 1-\\mu$.\n",
    "    - Cada experimento es independiente de los demás.\n",
    "\n",
    "3. Repita el proceso de actualización de la posterior en descrito en esta lección. Use Python y elabore algunos gráficos similares. "
   ]
  }
 ],
 "metadata": {
  "kernelspec": {
   "display_name": "Python 3 (ipykernel)",
   "language": "python",
   "name": "python3"
  },
  "language_info": {
   "codemirror_mode": {
    "name": "ipython",
    "version": 3
   },
   "file_extension": ".py",
   "mimetype": "text/x-python",
   "name": "python",
   "nbconvert_exporter": "python",
   "pygments_lexer": "ipython3",
   "version": "3.10.12"
  }
 },
 "nbformat": 4,
 "nbformat_minor": 4
}
