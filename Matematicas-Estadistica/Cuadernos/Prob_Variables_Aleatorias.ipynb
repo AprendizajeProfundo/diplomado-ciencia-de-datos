{
 "cells": [
  {
   "cell_type": "markdown",
   "metadata": {},
   "source": [
    "<figure>\n",
    "<img src=\"../Imagenes/logo-final-ap.png\"  width=\"80\" height=\"80\" align=\"left\"/> \n",
    "</figure>\n",
    "\n",
    "# <span style=\"color:blue\"><left>Aprendizaje Profundo</left></span>"
   ]
  },
  {
   "cell_type": "markdown",
   "metadata": {
    "tags": []
   },
   "source": [
    "# <span style=\"color:red\"><center>Diplomado en Ciencia de Datos</center></span>"
   ]
  },
  {
   "cell_type": "markdown",
   "metadata": {},
   "source": [
    "# <span style=\"color:green\"><center>Variables aleatorias discretas</center></span>"
   ]
  },
  {
   "cell_type": "markdown",
   "metadata": {},
   "source": [
    "<figure>\n",
    "<center>\n",
    "<img src=\"https://raw.githubusercontent.com/AprendizajeProfundo/Alejandria/main/Estadistica/Imagenes/barplot.png\" width=\"600\" height=\"400\" align=\"center\"/>\n",
    "</center>\n",
    "</figure>\n",
    "\n",
    "Fuente: Alvaro Montenegro"
   ]
  },
  {
   "cell_type": "markdown",
   "metadata": {},
   "source": [
    "## <span style=\"color:#4361EE\">Profesores</span>"
   ]
  },
  {
   "cell_type": "markdown",
   "metadata": {},
   "source": [
    "* Alvaro  Montenegro, PhD, <ammontenegrod@unal.edu.co>\n",
    "* Campo Elías Pardo, PhD, <cepardot@unal.edu.co>\n",
    "* Daniel  Montenegro, Msc, <dextronomo@gmail.com>\n",
    "* Camilo José Torres Jiménez, Msc, <cjtorresj@unal.edu.co>"
   ]
  },
  {
   "cell_type": "markdown",
   "metadata": {},
   "source": [
    "## <span style=\"color:#4361EE\">Asesora Medios y Marketing digital</span>"
   ]
  },
  {
   "cell_type": "markdown",
   "metadata": {},
   "source": [
    "* Maria del Pilar Montenegro, pmontenegro88@gmail.com\n",
    "* Jessica López Mejía, jelopezme@unal.edu.co"
   ]
  },
  {
   "cell_type": "markdown",
   "metadata": {},
   "source": [
    "## <span style=\"color:#4361EE\">Jefe Jurídica</span>"
   ]
  },
  {
   "cell_type": "markdown",
   "metadata": {},
   "source": [
    "* Paula Andrea Guzmán, guzmancruz.paula@gmail.com"
   ]
  },
  {
   "cell_type": "markdown",
   "metadata": {},
   "source": [
    "## <span style=\"color:#4361EE\">Coordinador Jurídico</span>"
   ]
  },
  {
   "cell_type": "markdown",
   "metadata": {},
   "source": [
    "* David Fuentes, fuentesd065@gmail.com"
   ]
  },
  {
   "cell_type": "markdown",
   "metadata": {},
   "source": [
    "## <span style=\"color:#4361EE\">Desarrolladores Principales</span>"
   ]
  },
  {
   "cell_type": "markdown",
   "metadata": {},
   "source": [
    "* Dairo Moreno, damoralesj@unal.edu.co\n",
    "* Joan Castro, jocastroc@unal.edu.co\n",
    "* Bryan Riveros, briveros@unal.edu.co\n",
    "* Rosmer Vargas, rovargasc@unal.edu.co\n",
    "* Venus Puertas, vpuertasg@unal.edu.co"
   ]
  },
  {
   "cell_type": "markdown",
   "metadata": {},
   "source": [
    "## <span style=\"color:#4361EE\">Expertos en Bases de Datos</span>"
   ]
  },
  {
   "cell_type": "markdown",
   "metadata": {},
   "source": [
    "* Giovvani Barrera, udgiovanni@gmail.com\n",
    "* Camilo Chitivo, cchitivo@unal.edu.co"
   ]
  },
  {
   "cell_type": "markdown",
   "metadata": {},
   "source": [
    "## <span style=\"color:#4361EE\">Contenido</span>"
   ]
  },
  {
   "cell_type": "markdown",
   "metadata": {},
   "source": [
    "* [Introducción](#Introducción)\n",
    "* [Ejemplo de los dados](#Ejemplo-de-los-dados)\n",
    "* [Variable aleatoria](#Variable-aleatoria)\n",
    "* [Cálculo de frecuencias](#Cálculo-de-frecuencias)\n",
    "* [Función de Probabilidad de una variable numérica discreta](#Función-de-Probabilidad-de-una-variable-numérica-discreta)\n",
    "* [Interpretación de la función de probabilidad](#Interpretación-de-la-función-de-probabilidad)\n",
    "* [Ejemplos de variables numéricas discretas](#Ejemplos-de-variables-numéricas-discretas)\n",
    "* [Variable categóricas](#Variable-categóricas)\n",
    "* [Esperanza Matemática de una variable aleatoria numérica](#Esperanza-Matemática-de-una-variable-aleatoria-numérica)\n",
    "* [Varianza y desviación estándar de una variable aleatoria](#Varianza-y-desviación-estándar-de-una-variable-aleatoria)\n",
    "* [Entropía de una variable aleatoria](#Entropía-de-una-variable-aleatoria)"
   ]
  },
  {
   "cell_type": "markdown",
   "metadata": {},
   "source": [
    "## <span style=\"color:#4361EE\">Introducción</span>"
   ]
  },
  {
   "cell_type": "markdown",
   "metadata": {},
   "source": [
    "En esta sección se introducen conceptos básicos de variables aleatorias, funciones de probabilidad y distribución acumulada."
   ]
  },
  {
   "cell_type": "markdown",
   "metadata": {},
   "source": [
    "## <span style=\"color:#4361EE\">Ejemplo de los dados</span>"
   ]
  },
  {
   "cell_type": "markdown",
   "metadata": {},
   "source": [
    "Recordemos el ejercicio de la sección anterior [Conceptos básicos](Prob_Conceptos_Basicos.ipynb). La imagen muestra dos dados de seis caras de distinto color. \n"
   ]
  },
  {
   "cell_type": "markdown",
   "metadata": {},
   "source": [
    "<figure>\n",
    "<center>\n",
    "<img src=\"https://raw.githubusercontent.com/AprendizajeProfundo/Alejandria/main/Estadistica/Imagenes/dados_negro.jpg\" width=\"300\" height=\"200\" align=\"center\"/>\n",
    "</center>\n",
    "<figcaption>\n",
    "<p style=\"text-align:center\"> Dos dados de seis caras</p>\n",
    "</figcaption>\n",
    "</figure>\n",
    "\n",
    "Fuente: [pixabay](https://pixabay.com/es/photos/dice-spotted-dark-reflection-5976757/)"
   ]
  },
  {
   "cell_type": "markdown",
   "metadata": {},
   "source": [
    "Como ya sabe del ejercicio hay 36 posibles resultados. Es decir el espacio muestral $\\mathcal{M}$ tiene 36 elementos y $2^{36}$ eventos.\n",
    "\n",
    "Supongamos que $(x,y)$ es un elemento de $\\mathcal{M}$. Observe que $(x,y)$ es en realidad una pareja de números. Por ejemplo $(3,4)$. Definamos ahora la siguiente función:\n",
    "\n",
    "$$\n",
    "X\\big((x,y)\\big) = x+y,\n",
    "$$\n",
    "\n",
    "es decir la función $X$ simplemente calcula la suma de los dos números. Como el espacio muestral tiene 36 elementos, entonces hay 36 posibles resultados, aunque no todos son diferentes.\n",
    "\n",
    "La función $X$ se llama una **variable aleatoria**. Veámos algunos posibles valores que puede tomar la función:"
   ]
  },
  {
   "cell_type": "markdown",
   "metadata": {},
   "source": [
    "$$\n",
    "\\begin{align}\n",
    "X\\big((1,1)\\big) & = 2\\\\\n",
    "X\\big((3,2)\\big) & = 5\\\\\n",
    "X\\big((4,3)\\big) & = 7\\\\\n",
    "X\\big((3,4)\\big) & = 7\\\\\n",
    "X\\big((6,5)\\big) & = 11\n",
    "\\end{align}\n",
    "$$"
   ]
  },
  {
   "cell_type": "markdown",
   "metadata": {},
   "source": [
    "## <span style=\"color:#4361EE\">Variable aleatoria</span>"
   ]
  },
  {
   "cell_type": "markdown",
   "metadata": {},
   "source": [
    "Dado un espacio muestral $\\mathcal{M}$, es una función que asigna a los elementos del espacio muestral un número real. \n",
    "\n",
    "\n",
    "En el espacio muestral de los dos dados de seis lados, se pueden definir muchas variables aleatorias. Considere por ejemplo la variable aleatoria definida por $Y\\big((x,y)\\big) = x\\times y$."
   ]
  },
  {
   "cell_type": "markdown",
   "metadata": {},
   "source": [
    "### <span style=\"color:#4CC9F0\">Ejercicio</span>"
   ]
  },
  {
   "cell_type": "markdown",
   "metadata": {},
   "source": [
    "Considere el ejemplo del espacio muestral de los dos dados de seis caras, no cargados. \n",
    "\n",
    "1. Construya la tabla completa de los posibles resultados de las funcioens $X$ y $Y$.\n",
    "2. Proponga otra variable aleatoria definida sobre el espacio muestral $\\mathcal{M}$.\n",
    "\n",
    "Ayuda: Use Python. Construya primero la tabla que representa el espacio muestral, en un arreglo $36\\times 2$. En otro arreglo construya los respectivos valores de la función."
   ]
  },
  {
   "cell_type": "code",
   "execution_count": 1,
   "metadata": {},
   "outputs": [
    {
     "name": "stdout",
     "output_type": "stream",
     "text": [
      "X( (1.0, 1.0) ) = 2.0\n",
      "X( (1.0, 2.0) ) = 3.0\n",
      "X( (1.0, 3.0) ) = 4.0\n",
      "X( (1.0, 4.0) ) = 5.0\n",
      "X( (1.0, 5.0) ) = 6.0\n",
      "X( (1.0, 6.0) ) = 7.0\n",
      "X( (2.0, 1.0) ) = 3.0\n",
      "X( (2.0, 2.0) ) = 4.0\n",
      "X( (2.0, 3.0) ) = 5.0\n",
      "X( (2.0, 4.0) ) = 6.0\n",
      "X( (2.0, 5.0) ) = 7.0\n",
      "X( (2.0, 6.0) ) = 8.0\n",
      "X( (3.0, 1.0) ) = 4.0\n",
      "X( (3.0, 2.0) ) = 5.0\n",
      "X( (3.0, 3.0) ) = 6.0\n",
      "X( (3.0, 4.0) ) = 7.0\n",
      "X( (3.0, 5.0) ) = 8.0\n",
      "X( (3.0, 6.0) ) = 9.0\n",
      "X( (4.0, 1.0) ) = 5.0\n",
      "X( (4.0, 2.0) ) = 6.0\n",
      "X( (4.0, 3.0) ) = 7.0\n",
      "X( (4.0, 4.0) ) = 8.0\n",
      "X( (4.0, 5.0) ) = 9.0\n",
      "X( (4.0, 6.0) ) = 10.0\n",
      "X( (5.0, 1.0) ) = 6.0\n",
      "X( (5.0, 2.0) ) = 7.0\n",
      "X( (5.0, 3.0) ) = 8.0\n",
      "X( (5.0, 4.0) ) = 9.0\n",
      "X( (5.0, 5.0) ) = 10.0\n",
      "X( (5.0, 6.0) ) = 11.0\n",
      "X( (6.0, 1.0) ) = 7.0\n",
      "X( (6.0, 2.0) ) = 8.0\n",
      "X( (6.0, 3.0) ) = 9.0\n",
      "X( (6.0, 4.0) ) = 10.0\n",
      "X( (6.0, 5.0) ) = 11.0\n",
      "X( (6.0, 6.0) ) = 12.0\n"
     ]
    }
   ],
   "source": [
    "# libreria numérica\n",
    "import numpy as np\n",
    "\n",
    "# espacio muestral\n",
    "M = np.zeros((36,2))\n",
    "k = 0\n",
    "for i in range(1,7):\n",
    "    for j in range(1,7):\n",
    "        M[k,] = (i,j)\n",
    "        k+=1\n",
    "\n",
    "# calcula la variable aleatoria X: X((x,y)) = x + y        \n",
    "X = np.zeros(36)\n",
    "for k in range(36):\n",
    "    X[k] = M[k,0] + M[k,1]\n",
    "    \n",
    "# presenta los resultados\n",
    "for k in range(36):\n",
    "    print('X( (',M[k,0],', ',M[k,1],') ) = ', X[k], sep=\"\")"
   ]
  },
  {
   "cell_type": "markdown",
   "metadata": {},
   "source": [
    "## <span style=\"color:#4361EE\">Cálculo de frecuencias</span>"
   ]
  },
  {
   "cell_type": "markdown",
   "metadata": {},
   "source": [
    "Observe que en el ejemplo anterior, la variable aleatoria toma once(11) posibles valores diferentes: \n",
    "\n",
    "$$X(.) =\\{ 2,3,4,5,6,7,8,9,10,11,12\\}$$\n",
    "\n",
    "Entonces tenemos lo siguiente: 36 posibles valores, pero solamente 11 diferentes. El siguiente fragmento de código muestra como obtener los posibles valores diferentes que toma la variable aleatoria $X$."
   ]
  },
  {
   "cell_type": "code",
   "execution_count": 2,
   "metadata": {},
   "outputs": [
    {
     "name": "stdout",
     "output_type": "stream",
     "text": [
      "[ 2.  3.  4.  5.  6.  7.  8.  9. 10. 11. 12.]\n"
     ]
    }
   ],
   "source": [
    "print(np.unique(X)) "
   ]
  },
  {
   "cell_type": "markdown",
   "metadata": {},
   "source": [
    "### <span style=\"color:#4CC9F0\">Función Python para calcular una tabla de frecuencias</span>"
   ]
  },
  {
   "cell_type": "markdown",
   "metadata": {},
   "source": [
    "La siguiente función muestra un camino de como calcular la tabla de frecuencias de un conjunto de datos, puestos en una lista de Python. No es la única forma. Investigue otras formas de hacerlo."
   ]
  },
  {
   "cell_type": "code",
   "execution_count": 3,
   "metadata": {},
   "outputs": [],
   "source": [
    "# Función Python para contar los elementos la frecuencia\n",
    "# de los elementos de una lista, usando un diccionario\n",
    "def CountFrequency(my_list): \n",
    "    # Creating an empty dictionary  \n",
    "    freq = {} \n",
    "    for item in my_list: \n",
    "        if (item in freq): \n",
    "            freq[item] += 1\n",
    "        else: \n",
    "            freq[item] = 1\n",
    "    return freq            "
   ]
  },
  {
   "cell_type": "markdown",
   "metadata": {},
   "source": [
    "Asegúrese de entender completamente el código. Vamos a probar la función con dos ejemplos. Primero calculamos la frecuencia de los valores de la variable aleatoria $X$."
   ]
  },
  {
   "cell_type": "code",
   "execution_count": 4,
   "metadata": {},
   "outputs": [
    {
     "data": {
      "text/plain": [
       "{2.0: 1,\n",
       " 3.0: 2,\n",
       " 4.0: 3,\n",
       " 5.0: 4,\n",
       " 6.0: 5,\n",
       " 7.0: 6,\n",
       " 8.0: 5,\n",
       " 9.0: 4,\n",
       " 10.0: 3,\n",
       " 11.0: 2,\n",
       " 12.0: 1}"
      ]
     },
     "execution_count": 4,
     "metadata": {},
     "output_type": "execute_result"
    }
   ],
   "source": [
    "frec = CountFrequency(X)   \n",
    "frec"
   ]
  },
  {
   "cell_type": "markdown",
   "metadata": {},
   "source": [
    "Podemos manipular directamente los valores del diccionario. Por ejemplo para calcular la frecuencia de 7, que ya sabemos es 6, se escribe"
   ]
  },
  {
   "cell_type": "code",
   "execution_count": 5,
   "metadata": {},
   "outputs": [
    {
     "data": {
      "text/plain": [
       "6"
      ]
     },
     "execution_count": 5,
     "metadata": {},
     "output_type": "execute_result"
    }
   ],
   "source": [
    "frec[7]"
   ]
  },
  {
   "cell_type": "markdown",
   "metadata": {},
   "source": [
    "En un segundo ejemplo, consideremos el conjunto $ W= \\{A,B,B,C,A,A \\}$"
   ]
  },
  {
   "cell_type": "code",
   "execution_count": 6,
   "metadata": {},
   "outputs": [
    {
     "data": {
      "text/plain": [
       "{'A': 3, 'B': 2, 'C': 1}"
      ]
     },
     "execution_count": 6,
     "metadata": {},
     "output_type": "execute_result"
    }
   ],
   "source": [
    "W = ['A','B','B','C','A','A']\n",
    "frecW = CountFrequency(W)   \n",
    "frecW"
   ]
  },
  {
   "cell_type": "markdown",
   "metadata": {},
   "source": [
    "## <span style=\"color:#4361EE\">Función de Probabilidad de una variable numérica discreta</span>"
   ]
  },
  {
   "cell_type": "markdown",
   "metadata": {},
   "source": [
    "Ahora que hemos aprendido a calcular tablas de frecuencias de conjuntos de datos organizados en una lista, vamos a introducir el concepto clave de función de probabilidad. En esta sección consideramos variables aleatorias numéricas discretas como la función $X$ asociada al espacio muestral del lanzamiento de dos dados no cargados. En la siguiente sección consideramos variables categóricas y en otra lección consideramos variables contínuas.\n",
    "\n",
    "Como observamos antes, la variable aleatoria $X$ es discreta (particularmente es finita), debido a que toma únicamente 11 posibles valores numéricos. Por otro lado sabemos que el resultado del experimento de lanzar los dados puede arrojar 36 posibles resultados. La **función de probabilidad de la variable aleatoria** *X*, que notaremos $p_X$ se define como la probabilidad de obtener cada posible valor de *X*. \n",
    "\n",
    "Entonces como vimos arriba tenemos que la función de probabilidad de la variable aleatoria $X$ esta definida por extensión de la siguiente forma:"
   ]
  },
  {
   "cell_type": "markdown",
   "metadata": {},
   "source": [
    "$$\n",
    "\\begin{align}\n",
    "p_X[2] & = 1/36\\\\\n",
    "p_X[3] & = 2/36\\\\\n",
    "p_X[4] & = 3/36\\\\\n",
    "p_X[5] & = 4/36\\\\\n",
    "p_X[6] & = 5/36\\\\\n",
    "p_X[7] & = 6/36\\\\\n",
    "p_X[8] & = 5/36\\\\\n",
    "p_X[9] & = 4/36\\\\\n",
    "p_X[10] & = 3/36\\\\\n",
    "p_X[11] & = 2/36\\\\\n",
    "p_X[12] & = 1/36\n",
    "\\end{align}\n",
    "$$"
   ]
  },
  {
   "cell_type": "markdown",
   "metadata": {},
   "source": [
    "Su gráfico es el siguiente:"
   ]
  },
  {
   "cell_type": "code",
   "execution_count": 7,
   "metadata": {},
   "outputs": [
    {
     "data": {
      "image/png": "[encoded data removed]",
      "text/plain": [
       "<Figure size 432x288 with 1 Axes>"
      ]
     },
     "metadata": {
      "needs_background": "light"
     },
     "output_type": "display_data"
    }
   ],
   "source": [
    "import matplotlib.pyplot as plt\n",
    "label = frec.keys()\n",
    "plt.plot(label, frec.values(), \"o\", color='orange')\n",
    "plt.vlines(label, 0, frec.values(), colors='orange', lw=5, alpha=0.5)\n",
    "plt.title('Función de probabilidad de la variable aleatoria X')\n",
    "plt.xlabel('Valores de  de la variable aleatoria')\n",
    "plt.ylabel('Probabilidad')\n",
    "plt.show()"
   ]
  },
  {
   "cell_type": "markdown",
   "metadata": {},
   "source": [
    "### <span style=\"color:#4CC9F0\">Cálculo de algunas probabilidades</span>"
   ]
  },
  {
   "cell_type": "markdown",
   "metadata": {},
   "source": [
    "Dado que la variable aleatoria $X$ es númerica, podemos calcular la probabilidad de diferentes eventos del espacio muestral, basados en el valor de $X$. Veámos algunos ejemplos.\n",
    "\n",
    "$$\n",
    "\\begin{align}\n",
    "\\text{Prob}[X \\text{ es par }] &= \\frac{18}{36}\\\\\n",
    "\\text{Prob}[X\\le 6] &= \\frac{15}{36}\\\\\n",
    "\\text{Prob}[X> 10] &= \\frac{3}{36}\\\\\n",
    "\\text{Prob}[X \\text{ es par }|X<5] &= \\frac{4}{6}\n",
    "\\end{align}\n",
    "$$\n",
    "\n",
    "Por favor verifique estos resultados."
   ]
  },
  {
   "cell_type": "markdown",
   "metadata": {},
   "source": [
    "## <span style=\"color:#4361EE\">Interpretación de la función de probabilidad</span>"
   ]
  },
  {
   "cell_type": "markdown",
   "metadata": {},
   "source": [
    "Supongamos que el experimento de lanzar se repite muchas veces. Digamos 100 veces. Como la probabilidad de obtener digmamos $X=7$ es $\\frac{6}{36}$, entonces lo que se espera que ocurra es que en los 100 lanzamientos se obtenga un valor cercano a \n",
    "\n",
    "$$\n",
    "\\text{Número de veces que se espera que ocurra }\\{X=7\\} = \\tfrac{6}{36}\\times 100 \\approx 17.\n",
    "$$\n",
    "\n",
    "Por supuesto, no necesariamente el resultado será 17, pero si un número cercano. Por ejemplo no esperamos que no ocurra ninguna vez o que ocurra todas las veces el resultado $\\{X=7\\}$."
   ]
  },
  {
   "cell_type": "markdown",
   "metadata": {},
   "source": [
    "## <span style=\"color:#4361EE\">Ejemplos de variables numéricas discretas</span>"
   ]
  },
  {
   "cell_type": "markdown",
   "metadata": {},
   "source": [
    "### <span style=\"color:#4CC9F0\">Variable de Bernoulli (Distribución de Bernoulli)</span>"
   ]
  },
  {
   "cell_type": "markdown",
   "metadata": {},
   "source": [
    "Una variable aleatoria $X$ es Bernoulli, si solamente toma dos posibles valores, los cuales por convención son $\\{0,1\\}$. Es común llamar al resultado uno (1) como *exito* y a cero (0) como *fallo*. Observe que en este caso se tiene que la función de probabilidad es dada por\n",
    "\n",
    "$$\n",
    "\\begin{align}\n",
    "p_X[1] &= \\pi\\\\\n",
    "p_X[0] &= 1-\\pi,\n",
    "\\end{align}\n",
    "$$\n",
    "\n",
    "en donde $\\pi = \\text{Prob}[X=1]$. En este caso, se puede escribir la función en una forma más compacta como \n",
    "\n",
    "$$\n",
    "p_X[x] = \\pi^{x}(1-\\pi)^{1-x}, \\quad x = 0,1.\n",
    "$$\n",
    "\n",
    "Asegúrese de entender la fórmula anterior."
   ]
  },
  {
   "cell_type": "markdown",
   "metadata": {},
   "source": [
    "Un ejemplo es el siguiente. En el experimento del lanzamiento dados no cargados, definimos la variable aleatoria $Y$ como sigue:\n",
    "\n",
    "$$\n",
    "Y = \\begin{cases} &1, \\text{ si  la suma de los dos dados es par} \\\\\n",
    "&0, \\text{ si  la suma de los dos dados es impar}\n",
    "\\end{cases}\n",
    "$$\n",
    "\n",
    "Verifique que en este caso $\\pi=\\frac{18}{36}=\\frac{1}{2}$."
   ]
  },
  {
   "attachments": {},
   "cell_type": "markdown",
   "metadata": {},
   "source": [
    "### <span style=\"color:#4CC9F0\">Ejercicio</span>\n",
    "\n",
    "A partir de lo siguiente que encontré en el libro *Estadistica Aplicada a los Negocios y la Economia* de *Lind, Marchal & Wathen*:\n",
    "\n",
    "> El director de planeación de Devine Dining, \n",
    "Inc., desea estudiar la relación entre el género de un huésped y el\n",
    "postre que ordena. Para investigar esta relación, el gerente recopiló la\n",
    "siguiente información.\n",
    "> $\\,$ | Torta de chocolate | Tres leches | Tiramisú | TOTAL\n",
    "---:|---:|---:|---:|---:\n",
    "Hombre | 32 | 26 | 11 | 69\n",
    "Mujer | 48 | 39 | 44 | 131\n",
    "TOTAL | 80 | 65 | 55 | 200\n",
    "\n",
    "* Determine una variable aleatoria Bernoulli y obtenga el valor que le corresponda a su parámetro $\\pi$."
   ]
  },
  {
   "cell_type": "markdown",
   "metadata": {},
   "source": [
    "### <span style=\"color:#4CC9F0\">Variable Binomial (Distribución Binomial)</span>"
   ]
  },
  {
   "cell_type": "markdown",
   "metadata": {},
   "source": [
    "Consideremos la variable aleatoria $Y$ definida arriba. Pero ahora vamos a considerar que hacemos el experimento digamos $N=3$ veces y contamos el número de veces en que $Y=1$. Por otro lado vamos a suponer que que hay un sesgo en el experimento (una especie de dados cargados y se verifica que $\\text{Prob}[Y=1] = 0.6$. Por lo tanto se tiene que $\\text{Prob}[Y=0] = 0.4$.\n",
    "\n",
    "Entonces obtenemos una variable aleatoria que llamaremos $W$ y diremos que $W$ es una variable Binomial. La función de probabilidad de la variable aleatoria $W$ es dada por extensión como sigue. La variable $W$ toma 4 posibles valores, $W(.) = \\{0,1,2,3\\}$"
   ]
  },
  {
   "cell_type": "markdown",
   "metadata": {},
   "source": [
    "Veámos como calcular las probabilidades de los valores de $W$.  La siguiente tabla muestra como calcular tales probabilidades.\n",
    "\n",
    "|Valor |Experimentos| probabilidad cada experimento| probabilidad para este valor| total|\n",
    "|---|---|---| ---|---|\n",
    "|0| 000| $0.4\\times 0.4 \\times 0.4$|0.064|0.064|\n",
    "|1| 100| $0.6\\times 0.4 \\times 0.4$|0.096||\n",
    "|1| 010| $0.4 \\times 0.6\\times 0.4$|0.096||\n",
    "|1| 001| $0.4 \\times 0.4\\times 0.6$|0.096|0.288|\n",
    "|2| 110| $0.6\\times 0.6 \\times 0.4$|0.144||\n",
    "|2| 011| $0.4 \\times 0.6\\times 0.6$|0.144||\n",
    "|2| 101| $0.6 \\times 0.4 \\times 0.6$|0.144|0.432|\n",
    "|3| 111| $0.6 \\times 0.6\\times 0.6$|0.216|0.216 |"
   ]
  },
  {
   "attachments": {},
   "cell_type": "markdown",
   "metadata": {},
   "source": [
    "Entonces se tienen que\n",
    "\n",
    "$$\n",
    "\\begin{align}\n",
    "p_W[0] & = 0.064 \\\\\n",
    "p_W[1] & = 0.288\\\\\n",
    "p_W[2] & = 0.432\\\\\n",
    "p_W[3] & = 0.216 \n",
    "\\end{align}\n",
    "$$"
   ]
  },
  {
   "cell_type": "markdown",
   "metadata": {},
   "source": [
    "### <span style=\"color:#4CC9F0\">Ejercicio</span>\n"
   ]
  },
  {
   "cell_type": "markdown",
   "metadata": {},
   "source": [
    "Verifique los cálculos de la tabla anterior y asegúrese de entender completamente."
   ]
  },
  {
   "cell_type": "markdown",
   "metadata": {},
   "source": [
    "El siguiente código muestra como calcular la función de probabilidad de la variable Binomial $W$ y  como obtener un  gráfico de la función."
   ]
  },
  {
   "cell_type": "code",
   "execution_count": 8,
   "metadata": {},
   "outputs": [
    {
     "name": "stdout",
     "output_type": "stream",
     "text": [
      "p_W = [0.064 0.288 0.432 0.216]\n"
     ]
    },
    {
     "data": {
      "image/png": "[encoded data removed]",
      "text/plain": [
       "<Figure size 432x288 with 1 Axes>"
      ]
     },
     "metadata": {
      "needs_background": "light"
     },
     "output_type": "display_data"
    }
   ],
   "source": [
    "import numpy as np\n",
    "from scipy.stats import binom\n",
    "import matplotlib.pyplot as plt\n",
    "\n",
    "N, p  = 3, 0.6\n",
    "p_W = np.zeros(4)\n",
    "\n",
    "for k in range(4):\n",
    "    p_W[k] = binom.pmf(k,N,p)\n",
    "\n",
    "print('p_W =', p_W)\n",
    "label = ['0','1','2','3']\n",
    "plt.plot(label, p_W, \"o\", color='orange')\n",
    "plt.vlines(label, 0, p_W, colors='orange', lw=5, alpha=0.5)\n",
    "plt.title('Funcion de probabilidad distribución $Binomial(3,0.6)$')\n",
    "plt.xlabel('Valores de  de la variable aleatoria')\n",
    "plt.ylabel('Probabilidad')\n",
    "plt.show()"
   ]
  },
  {
   "cell_type": "markdown",
   "metadata": {},
   "source": [
    "Note que la función de probabilidad de Bernoulli es un caso especial de la Binomial con $N=1$.\n",
    "\n",
    "Existe una formula general para la función de probabilidad de una variable Binomial. Si se supone que se hacen  $N$ experimentos de Bernoulli realizados de manera independientes con la misma probabilidad de exito (obtener 1), y se anota el número de unos (*exitos*) obtenidos, entonces la probabilidad de obtener $k$ exitos es dada por\n",
    "\n",
    "$$\n",
    "p_{bin}[k] = \\binom{N}{k}\\pi^k(1-\\pi)^{N-k},\n",
    "$$\n",
    "\n",
    "en donde $\\binom{N}{k}$ es el símbolo combinatorio y $\\pi$ es la probabilidad de exito de cada experimento de Bernoulli.\n",
    "\n",
    "**Nota:** Recuerde que el combinatorio $\\binom{N}{k}$ es el número de grupos diferentes de tamaño *k* que se pueden formar teniendo *N* elementos. Consulte cualquier libro de probabilidad para los detalles matemáticos.\n"
   ]
  },
  {
   "cell_type": "markdown",
   "metadata": {},
   "source": [
    "### <span style=\"color:#4CC9F0\">Variable Poisson (Distribución de Poisson)</span>"
   ]
  },
  {
   "cell_type": "markdown",
   "metadata": {},
   "source": [
    "Esta distribución es utilizada en problemas de conteo. Por ejemplo el número de bacterias por unidad de área o volúmen encontradas en un cultivo microbiológico.\n",
    "\n",
    "Una variable Poisson puede tomar teóricamente valores enteros entre cero e infinito. La función de probabilidad en este caso está dada por\n",
    "\n",
    "$$\n",
    "p_{poi}[k] = \\frac{e^{\\lambda}\\lambda^k}{k!},\\quad k=0,1, \\ldots\n",
    "$$\n",
    "\n",
    "El valor $\\lambda$ se interpreta como la cantidad promedio de elementos encontrados por unidad de área, volúmem, etc. \n"
   ]
  },
  {
   "cell_type": "markdown",
   "metadata": {},
   "source": [
    "### <span style=\"color:#4CC9F0\">Ejercicio</span>"
   ]
  },
  {
   "cell_type": "markdown",
   "metadata": {},
   "source": [
    "1. Revise en cualquier libro de probabilidad y estadística ejemplos de aplicación de la distribución de Poisson. \n",
    "2. Investigue como calcular probabilidades de la distribución de Poisson con *scipy* de Python. Suponga que para algún caso $\\lambda = 5.3$. Calcule las probabilidades para $ k=0,1,\\ldots, 20$. Haga un gráfico de la función de probabilidad con esos datos (obviamente es una aproximación de la función completa).\n",
    "3. Haga sus comentarios."
   ]
  },
  {
   "cell_type": "markdown",
   "metadata": {},
   "source": [
    "## <span style=\"color:#4361EE\">Variable categóricas</span>"
   ]
  },
  {
   "cell_type": "markdown",
   "metadata": {},
   "source": [
    "En esta sección vamos a suponer que la variable aleatoria no asigna valores numéricos a los elementos del espacio muestral. En lugar de eso, asigna etiquetas. Usualmente dice que en este caso la variable es en realidad un objeto aleatorio. No haremos esa distinción en este desarrollo, pero si seremos cuidadosos en tener en cuenta que la variable no es numérica.\n",
    "\n",
    "Por facilidad usaremos de nuevo el ejemplo de los dados no cargados. Definimos la siguiente variable aleatoria que llamaremos  $X$. Para este ejercicio vamos a distinguir el color de los dados. Entonces en la pareja $(x,y)$, $x$ corresponde al valor del dado rojo. adicionalmente $y$ representa el valor del dado azul. Entonces \n",
    "\n",
    "$$\n",
    "X((x,y)) = \\begin{cases} &R, \\text{ si } x>y\\\\\n",
    "&A, \\text{ si } x<y\\\\\n",
    "&B, \\text{ si } x=y\\\\\n",
    "\\end{cases}\n",
    "$$\n",
    "\n",
    "Observe que en realidad el color del dado es indiferente para la definición de la variable aleatoria\n",
    "\n",
    "Entonces, la función de probabilidad en este caso es dada por\n",
    "\n",
    "$$\n",
    "\\begin{align}\n",
    "p_X[R] &= \\tfrac{15}{36}\\\\\n",
    "p_X[A] &= \\tfrac{15}{36}\\\\\n",
    "p_X[B] &= \\tfrac{6}{36}\\\\\n",
    "\\end{align}\n",
    "$$\n",
    "\n",
    "Aún podemos hacer un gráfico de la función de probabilidad $p_X$ como sigue."
   ]
  },
  {
   "cell_type": "code",
   "execution_count": 10,
   "metadata": {},
   "outputs": [
    {
     "data": {
      "image/png": "[encoded data removed]",
      "text/plain": [
       "<Figure size 432x288 with 1 Axes>"
      ]
     },
     "metadata": {
      "needs_background": "light"
     },
     "output_type": "display_data"
    }
   ],
   "source": [
    "import numpy as np\n",
    "import matplotlib.pyplot as plt\n",
    "\n",
    "p_X = np.array([15/36,15/36, 6/36])\n",
    "label = ['R','A','B']\n",
    "\n",
    "plt.plot(label, p_X, \"ro\")\n",
    "plt.vlines(label, 0, p_X, colors='r', lw=5, alpha=0.5)\n",
    "plt.title('Funcion de probabilidad  $p_X$')\n",
    "plt.xlabel('Etiquetas de  $p_X$')\n",
    "plt.ylabel('Probabilidad')\n",
    "plt.show()"
   ]
  },
  {
   "cell_type": "markdown",
   "metadata": {},
   "source": [
    "Obviamente en este caso no hay cantidades numéricas, por lo que el gráfico puede obtenerse de distintas formas, cambiando el orden de la etiquetas.  Sin embargo, aún podemos hacer algunos cálculos de probabilidad.\n",
    "\n",
    "Por ejemplo, la probabilidad de obtener *R* o *A* es dada por $30/36$.\n"
   ]
  },
  {
   "cell_type": "markdown",
   "metadata": {},
   "source": [
    "## <span style=\"color:#4361EE\">Esperanza Matemática de una variable aleatoria numérica</span>"
   ]
  },
  {
   "cell_type": "markdown",
   "metadata": {},
   "source": [
    "La esperanza matemática de una variable aleatoria numérica discreta es el promedio ponderado  de todos sus posibles valores. La ponderación como se puede sospechar es dada por la función de probabilidad de la variable.\n",
    "\n",
    "La definición se basa en el hecho que la función de probabilidad de la variable aleatoria representa la frecuencia relativa teórica de cada resultado particular.\n",
    "\n",
    "Se tiene  que si $X=\\{x_1,x_2,\\ldots \\}$ es el conjunto de valores de la variable aleatoria $X$ y si la función de probabilidad de $X$ es dada por $p_X =\\{p_1, p_2,\\ldots \\}$, en donde $p_X[x_i] = p_i$, entonces la esperanza matemática de $X$ se denota por $\\mathbb{E}[X]$ y es dada por\n",
    "\n",
    "$$\n",
    "\\mathbb{E}[X] = x_1 p_1 + x_2 p_2 + \\ldots = \\sum_{i} x_i p_i = \\sum_{i} p_i x_i\n",
    "$$"
   ]
  },
  {
   "cell_type": "markdown",
   "metadata": {},
   "source": [
    "### <span style=\"color:#4CC9F0\">Ejemplo</span>"
   ]
  },
  {
   "cell_type": "markdown",
   "metadata": {},
   "source": [
    "En el ejemplo de los dados se tiene que:\n",
    "\n",
    "$$\n",
    "\\begin{align*}\n",
    "p_X[2] & = 1/36\\\\\n",
    "p_X[3] & = 2/36\\\\\n",
    "p_X[4] & = 3/36\\\\\n",
    "p_X[5] & = 4/36\\\\\n",
    "p_X[6] & = 5/36\\\\\n",
    "p_X[7] & = 6/36\\\\\n",
    "p_X[8] & = 5/36\\\\\n",
    "p_X[9] & = 4/36\\\\\n",
    "p_X[10] & = 3/36\\\\\n",
    "p_X[11] & = 2/36\\\\\n",
    "p_X[12] & = 1/36\n",
    "\\end{align*}\n",
    "$$\n",
    "\n",
    "Por lo tanto, \n",
    "\n",
    "$$\n",
    "\\begin{aligned}\n",
    "\\mathbb{E}[X] &= (2)(1/36) + (3)(2/36) + (4)(3/36) + (5)(4/36) + \\\\\n",
    "& \\qquad (6)(5/36) + (7)(6/36) + (8)(5/36) + (9)(4/36) + \\\\\n",
    "& \\qquad (10)(3/36) + (11)(2/36) + (12)(1/36) \\\\\n",
    "&= 7\n",
    "\\end{aligned}\n",
    "$$"
   ]
  },
  {
   "cell_type": "code",
   "execution_count": 11,
   "metadata": {},
   "outputs": [
    {
     "name": "stdout",
     "output_type": "stream",
     "text": [
      "7.000000000000001\n"
     ]
    }
   ],
   "source": [
    "E = 2*1/36 + 3*2/36 + 4*3/36 + 5*4/36 + 6*5/36 + 7*6/36 + 8*5/36 + 9*4/36 + 10*3/36 + 11*2/36 + 12*1/36\n",
    "print(E)"
   ]
  },
  {
   "cell_type": "markdown",
   "metadata": {},
   "source": [
    "### <span style=\"color:#4CC9F0\">Esperanza de la distribución Binomial</span>"
   ]
  },
  {
   "cell_type": "markdown",
   "metadata": {},
   "source": [
    "En el caso del ejemplo Binomial de la moneda cargada que se lanza tres veces tenemos que\n",
    "\n",
    "$$\n",
    "\\mathbb{E}[W] = (0)(0.064)  + (1)(0.288) + (2)(0.432) + (3)(0.216) = 1.8.\n",
    "$$\n",
    "\n",
    "\n",
    "\n",
    "Se puede verificar que si una variable aleatoria $X$ tiene distribución (función de probabilidad) Binomial, $\\text{Bin}(N,p)$, entonces:\n",
    "\n",
    "$$\n",
    "\\mathbb{E}[X] = Np.\n",
    "$$\n",
    "\n",
    "Puede consultar cualquier texto de probabilidad para verificar el resultado. El siguiente código muestra como calcular la esperanza para el caso $\\text{Bin}(3,0.6)$, con Python."
   ]
  },
  {
   "cell_type": "code",
   "execution_count": 12,
   "metadata": {},
   "outputs": [
    {
     "data": {
      "text/plain": [
       "1.7999999999999998"
      ]
     },
     "execution_count": 12,
     "metadata": {},
     "output_type": "execute_result"
    }
   ],
   "source": [
    "from scipy.stats import binom\n",
    "binom.expect(args=(3,0.6))"
   ]
  },
  {
   "cell_type": "markdown",
   "metadata": {},
   "source": [
    "### <span style=\"color:#4CC9F0\">Ejercicio</span>"
   ]
  },
  {
   "cell_type": "markdown",
   "metadata": {},
   "source": [
    "De una interpretación al resultado anterior. Observe que 1.8 no corresponde a un valor que pueda tomar la variable aleatoria. Ayuda: Observe el siguiente gráfico."
   ]
  },
  {
   "cell_type": "code",
   "execution_count": 13,
   "metadata": {},
   "outputs": [
    {
     "name": "stdout",
     "output_type": "stream",
     "text": [
      "p_W = [0.064 0.288 0.432 0.216]\n"
     ]
    },
    {
     "data": {
      "image/png": "[encoded data removed]",
      "text/plain": [
       "<Figure size 432x288 with 1 Axes>"
      ]
     },
     "metadata": {
      "needs_background": "light"
     },
     "output_type": "display_data"
    }
   ],
   "source": [
    "import numpy as np\n",
    "from scipy.stats import binom\n",
    "import matplotlib.pyplot as plt\n",
    "\n",
    "N, p  = 3, 0.6\n",
    "p_W = np.zeros(4)\n",
    "\n",
    "for k in range(4):\n",
    "    p_W[k] = binom.pmf(k,N,p)\n",
    "\n",
    "print('p_W =', p_W)\n",
    "label = ['0','1','2','3']\n",
    "plt.plot(label, p_W, \"o\", color='orange')\n",
    "plt.vlines(label, 0, p_W, colors='orange', lw=5, alpha=0.5)\n",
    "plt.title('Funcion de probabilidad distribución $Binomial(3,0.6)$')\n",
    "plt.xlabel('Valores de  de la variable aleatoria')\n",
    "plt.ylabel('Probabilidad')\n",
    "plt.scatter(N*p, 0, color=\"red\", marker=\"^\", s=200)\n",
    "plt.show()"
   ]
  },
  {
   "cell_type": "markdown",
   "metadata": {},
   "source": [
    "### <span style=\"color:#4CC9F0\">Esperanza de la distribución Poisson</span>"
   ]
  },
  {
   "cell_type": "markdown",
   "metadata": {},
   "source": [
    "Una variable aleatoria con distribución $\\text{Pois}(\\lambda)$ tiene esperanza matemática $\\lambda$. "
   ]
  },
  {
   "cell_type": "markdown",
   "metadata": {},
   "source": [
    "### <span style=\"color:#4CC9F0\">Ejercicio</span>"
   ]
  },
  {
   "cell_type": "markdown",
   "metadata": {},
   "source": [
    "Verifique la afirmación anterior."
   ]
  },
  {
   "cell_type": "markdown",
   "metadata": {},
   "source": [
    "## <span style=\"color:#4361EE\">Varianza y desviación estándar de una variable aleatoria</span>"
   ]
  },
  {
   "cell_type": "markdown",
   "metadata": {},
   "source": [
    "### <span style=\"color:#4CC9F0\">Varianza</span>"
   ]
  },
  {
   "cell_type": "markdown",
   "metadata": {},
   "source": [
    "La varianza de una variable aleatoria mide su nivel de predictibilidad. Dicho en otras palabras, que tan dispersos son los valores de la variable aleatoria en relación con la esperanza matemática. Denotemos la esperanza de $X$ por $\\mu_X$.\n",
    "Técnicamente la varianza de una variable aleatoria se define por:\n",
    "\n",
    "$$\n",
    "Var[X] = \\mathbb{E}\\left[\\left(X-\\mu_X\\right)^2\\right] = \\sum_{i} p_i (x_i- \\mu_X)^2 . \n",
    "$$"
   ]
  },
  {
   "cell_type": "markdown",
   "metadata": {},
   "source": [
    "### <span style=\"color:#4CC9F0\">Desviación estándar</span>"
   ]
  },
  {
   "cell_type": "markdown",
   "metadata": {},
   "source": [
    "La desviación estándar de una variable aleatoria se denota $\\sigma_X$ y es simplemente la raíz cuadrada de la varianza, es decir:\n",
    "\n",
    "$$\n",
    "\\sigma_X = \\sqrt{Var[X]}.\n",
    "$$"
   ]
  },
  {
   "cell_type": "markdown",
   "metadata": {},
   "source": [
    "Para entender el porque la varianza mide el nivel de predictibilidad de una variable aleatoria consideremos una variable Bernoulli $X$. Escribimos  $X \\sim \\text{Ber}(\\pi)$. En este caso puede verificarse que la varianza está dada por:\n",
    "\n",
    "$$\n",
    "Var(X) = \\pi(1-\\pi).\n",
    "$$\n",
    "\n",
    "El siguiente gráfico muestra la varianza de las distribuciones  Bernoulli con valores distintos del parámetro $\\pi$."
   ]
  },
  {
   "cell_type": "code",
   "execution_count": 14,
   "metadata": {},
   "outputs": [
    {
     "data": {
      "image/png": "[encoded data removed]",
      "text/plain": [
       "<Figure size 432x288 with 1 Axes>"
      ]
     },
     "metadata": {
      "needs_background": "light"
     },
     "output_type": "display_data"
    }
   ],
   "source": [
    "import numpy as np\n",
    "import matplotlib.pyplot as plt\n",
    "\n",
    "pi = np.linspace(0,1,100)\n",
    "var = pi*(1-pi)\n",
    "plt.plot(pi,var)\n",
    "plt.title('Funcion de varianza de distribciones Bernoulli')\n",
    "plt.xlabel( '$\\pi$')\n",
    "plt.ylabel('Var')\n",
    "plt.show()"
   ]
  },
  {
   "cell_type": "markdown",
   "metadata": {},
   "source": [
    "Se observa entonces que la máxima varianza se alcanza para el caso $\\pi=0.5$. Es porque en este caso, es más difícil predecir el resultado del experimento, dado que la probabilidad de *acierto* y de *fallo* son la misma. Pero a medida que el valor $\\pi$ está cerca de cero o uno, la varianza desciende hasta cero. Por ejemplo si $\\pi = 0.9$, casi siempre se obtendrá *éxito*. Esto significa que la variable es más predictible para valores muy altos o muy bajos de $\\pi$. **A menor varianza mayor precisión para predecir el resultado del experimento y viceversa**."
   ]
  },
  {
   "cell_type": "markdown",
   "metadata": {},
   "source": [
    "## <span style=\"color:#4361EE\">Entropía de una variable aleatoria</span>"
   ]
  },
  {
   "cell_type": "markdown",
   "metadata": {},
   "source": [
    "Similar a la varianza, la entropía de una variable aleatoria mide su grado de predictibilidad desde el punto de vista de la teoría de información de Shannon. Dada una variable aleatoria discreta $X=\\{x_1,x_2,\\ldots \\}$ con función de probabilidad $p_X =\\{p_1, p_2,\\ldots \\}$, la entropía de $X$ se define por:\n",
    "\n",
    "$$\n",
    "H(X) = -\\sum_i p_i\\log p_i = -\\mathbb{E}[\\log P_X]\n",
    "$$\n",
    "\n",
    "Es usual utilizar la base 2 o la base de los logaritmos Neperianos. En el primer caso, la unidad de medida de la entropía se denomina bit.  En el caso de los logaritmos Neperianos, la unidad de medida se acostumbra a llamar *nat*. En realidad pasar de una base a otra es simplemente un cambio de escala. Estructuralmente miden lo mismo en distintas unidades.\n",
    "\n",
    "Como en el caso de la varianza ilustramos el concepto para la distribución Bernoulli."
   ]
  },
  {
   "cell_type": "code",
   "execution_count": 15,
   "metadata": {},
   "outputs": [
    {
     "data": {
      "image/png": "[encoded data removed]",
      "text/plain": [
       "<Figure size 432x288 with 1 Axes>"
      ]
     },
     "metadata": {
      "needs_background": "light"
     },
     "output_type": "display_data"
    }
   ],
   "source": [
    "import numpy as np\n",
    "import matplotlib.pyplot as plt\n",
    "\n",
    "pi = np.linspace(0.0000001,0.999999,100)\n",
    "H = -(pi*np.log(pi) + (1-pi)*np.log(1-pi))\n",
    "plt.plot(pi,H)\n",
    "plt.title('Entropía de distribuciones Bernoulli')\n",
    "plt.xlabel( '$\\pi$')\n",
    "plt.ylabel('Entropía')\n",
    "plt.show()"
   ]
  },
  {
   "cell_type": "markdown",
   "metadata": {},
   "source": [
    "Como se observa la entropía mide de la misma forma que la varianza pero en una escala diferente. Por otro lado observe que en el cálculo de la entropía no se utilizan los valores que toma la variable aleatoria. Solamente se requiere la función de probabilidad de la variable. \n",
    "\n",
    "En otras palabras se dice que **la entropía no depende de la escala de la  variable**. Solamente de su estructura de probabilidad. Por su parte la varianza sí es dependiente de la escala de la variable aleatoria."
   ]
  }
 ],
 "metadata": {
  "kernelspec": {
   "display_name": "Python 3 (ipykernel)",
   "language": "python",
   "name": "python3"
  },
  "language_info": {
   "codemirror_mode": {
    "name": "ipython",
    "version": 3
   },
   "file_extension": ".py",
   "mimetype": "text/x-python",
   "name": "python",
   "nbconvert_exporter": "python",
   "pygments_lexer": "ipython3",
   "version": "3.10.12"
  },
  "toc-autonumbering": false
 },
 "nbformat": 4,
 "nbformat_minor": 4
}
