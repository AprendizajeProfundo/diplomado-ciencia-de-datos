{
 "cells": [
  {
   "cell_type": "markdown",
   "metadata": {},
   "source": [
    "# <span style=\"color:#F72585\"><center>Introducción a tensores</center></span>"
   ]
  },
  {
   "cell_type": "markdown",
   "metadata": {},
   "source": [
    "<figure>\n",
    "<center>\n",
    "<img src=\"https://raw.githubusercontent.com/AprendizajeProfundo/Alejandria/main/Matematicas/Imagenes/puente_de_Brooklyn.jpg\" width=\"800\" height=\"400\" align=\"center\" /> \n",
    "</center>   \n",
    "</figure>\n",
    "<center>\n",
    "\n",
    "Fuente: <a href=\"https://commons.wikimedia.org/wiki/File:Vista_puente_de_Brooklyn.jpg\">Pixelillo</a>, <a href=\"https://creativecommons.org/licenses/by-sa/4.0\">CC BY-SA 4.0</a>, via Wikimedia Commons\n",
    "\n",
    "</center>\n"
   ]
  },
  {
   "cell_type": "markdown",
   "metadata": {},
   "source": [
    "## <span style=\"color:#4361EE\">Introducción</span>"
   ]
  },
  {
   "cell_type": "markdown",
   "metadata": {},
   "source": [
    "En esta lección se introducen los conceptos de vectores, matrices y tensores. Los tensores son la estructura de datos más utilizada en el aprendizaje profundo. Desde el punto de vista matemático, un tensor generaliza los conceptos de escalares, vectores y matrices. \n",
    "\n",
    "Solamente haremos la introducción al concepto de tensores desde el punto de vista de las estructuras de datos requeridas en el aprendizaje profundo.\n",
    "\n",
    "Los tensores constituyen el pilar fundamental de las estructuras de datos utilizadas en la inteligencia artificial (IA). Motores de aprendizaje profundo como Torch o TensorFlow se basan en Numpy, la librería por excelencia de Python para el manejo de tensores. Recientemente TensorFlow anunció el desarrollo propio de su librería de tensores en un intento de liberarse de Numpy.\n",
    "\n",
    "Desde el punto vista del aprendizaje de máquinas, los tensores con arreglos multidimensionales que generalizan las matrices a múltiples y a los cuales se les agregan algunas características adicionales como la diferenciación automática, que desarrollaremos en otra lección. "
   ]
  },
  {
   "cell_type": "markdown",
   "metadata": {},
   "source": [
    "## <span style=\"color:#4361EE\">Dimensión y tamaño de un tensor</span>"
   ]
  },
  {
   "cell_type": "markdown",
   "metadata": {},
   "source": [
    "Los tensores pueden ser estructuras desde muy simples hasta muy complejos. Para poder describirlos, usamos los términos dimensión y tamaño. La siguiente imagen ilustra diferentes tipos de tensores. "
   ]
  },
  {
   "cell_type": "markdown",
   "metadata": {},
   "source": [
    "La `dimensión de un tensor` se define como el número de índices requeridos para indicar la posición de un elemento en el tensor. En la imagen, es escalar es un tensor de dimensión cero, porque no se requiere ningún índice para determinar la posición de su único elemento. Cada índice requerido para indicar la posición de un elemento determina una dimensión del tensor. Así en ejemplo, de arriba el escalar tiene dimensión cero, el vector dimensión 1, la matriz es de  dimensión 2 y el último objeto a la derecha es un tensor de de dimensión 4. \n",
    "\n",
    "El `tamaño de un tensor` corresponde al número de elementos que se tienen al largo de cada dimensión. En la imagen el vector tiene tamaño 2 , indicado (2,) por acuerdo de notación. La matriz tiene tamaño (2,3) y el tensor de la derecha tiene tamaño (1,4,1,2).\n",
    "\n",
    "Para entender porque este último tensor tiene dimensión cuatro, observe lo siguiente. Hay un contenedor externo. Al representar el tensor en esta forma gráfica se da a entender que esta es la primera capa de varias posibles con la misma estructura. Al interior hay 4 compartimientos de tamaño (1,2), completando así el tamaño (1,4,1,2).\n",
    "()\n",
    "\n",
    "La siguiente ilustra una abstracción de juguete de un video con tres cuadros(frames) de color de forma (shape) $(2, 2)$ cada uno. Este seguro de entender la lógica de organización del tensor."
   ]
  },
  {
   "cell_type": "markdown",
   "metadata": {},
   "source": [
    "<figure>\n",
    "<center>\n",
    "<img src=\"https://raw.githubusercontent.com/AprendizajeProfundo/Alejandria/main/Matematicas/Imagenes/ten_tensor_4_d.jpg\" width=\"600\" height=\"400\" /> \n",
    "</center>\n",
    "</figure>\n",
    "\n",
    "Fuente: Alvaro Montenegro"
   ]
  },
  {
   "cell_type": "markdown",
   "metadata": {},
   "source": [
    "La próxima imagen muestra la organización de diferentes tipos de tensores.\n",
    "\n",
    "<figure>\n",
    "<center>\n",
    "<img src=\"https://raw.githubusercontent.com/AprendizajeProfundo/Alejandria/main/Matematicas/Imagenes/ten_tensores.jpg\" width=\"600\" height=\"500\" align=\"center\"/>\n",
    "</center>\n",
    "<figcaption>\n",
    "<p style=\"text-align:center\">Ejemplos de tensores de diferentes  dimensiones y tamaños</p>\n",
    "</figcaption>\n",
    "</figure>\n",
    "\n",
    "Fuente: A. Montenegro"
   ]
  },
  {
   "cell_type": "markdown",
   "metadata": {},
   "source": [
    "### <span style=\"color:#4CC9F0\">Nota acalaratoria</span>"
   ]
  },
  {
   "cell_type": "markdown",
   "metadata": {},
   "source": [
    "El concepto de tensor en inteligencia artificial difiere del conocido en matemáticas y física. Un tensor desde el punto de vista matemático es a menudo, representado por una matriz de componentes que describen funciones relevantes para las coordenadas de un espacio. En pocas palabras, un tensor es una matriz de números que se transforman de acuerdo con ciertas reglas bajo un cambio de coordenadas. Un tensor se puede definir como un solo punto, una colección de puntos aislados, o se puede definir como un continuo de puntos en los que los elementos del tensor son funciones de posición, y el tensor forma lo que se conoce como campo tensor. Esto significa que en lugar de estar representado por un solo punto, el tensor se define en múltiples puntos juntos en un espacio.\n",
    "\n"
   ]
  },
  {
   "cell_type": "markdown",
   "metadata": {},
   "source": [
    "<figure>\n",
    "<center>\n",
    "<img src=\"https://raw.githubusercontent.com/AprendizajeProfundo/Alejandria/main/Matematicas/Imagenes/tensor_mat.png\" width=\"400\" height=\"400\" /> \n",
    "</center>\n",
    "</figure>\n",
    "\n",
    "\n",
    "Fuente: [Wikipedia](https://en.wikipedia.org/wiki/Tensor).\n",
    "\n",
    "El lector interesado en el concepto matemático , puede consultar en [Wikipedia](https://en.wikipedia.org/wiki/Tensor)."
   ]
  },
  {
   "cell_type": "markdown",
   "metadata": {},
   "source": [
    "\n",
    "Adicionalmente la dimensión de un tensor es un concepto algebraico y no geométrico. En geometría cada componente en un vector representa una dimensión. Entonces el vector $(3,4)$ es un vector bidimensional desde el punto de vista geométrico. Gráficamente lo representamos en un plano como se muestra en la siguiente imagen. Desde el punto de vista tensorial, el mismo objeto es unidimensional, debido a que solamente se necesita un índice para identificar cada uno de sus elementos. Esta la definición que nos interesa aquí. El siguiente código dibuja algunos vectores en $\\mathbb{R}^2$. Los matemáticos dicen que estos objetos geométricos tienen dimensión geométrica 2. Por favor revisa cada línea del código para estar seguro de que lo entiende.\n",
    "\n",
    "Por favor revisa cada línea del siguiente código para estar asegurarse de que lo entiende. Cualquier duda consulte la documentación de Python. `ax.quiver`  crea el gráfico de los vectores, a partir de las coordenadas en $X, Y, U, V$.\n"
   ]
  },
  {
   "cell_type": "code",
   "execution_count": 32,
   "metadata": {},
   "outputs": [
    {
     "data": {
      "image/png": "[encoded data removed]",
      "text/plain": [
       "<Figure size 640x480 with 1 Axes>"
      ]
     },
     "metadata": {},
     "output_type": "display_data"
    }
   ],
   "source": [
    "import numpy as np\n",
    "import matplotlib.pyplot as plt \n",
    "soa = np.array([[0, 0, 4, 1], [0, 0, 1, 5], [0, 0, 3, 2]])\n",
    "X, Y, U, V = zip(*soa)\n",
    "\n",
    "plt.figure()\n",
    "plt.title('Vectores en el espacio Euclideano $R^2$ ')\n",
    "ax = plt.gca()\n",
    "ax.quiver(X, Y, U, V, angles='xy', scale_units='xy', scale=1, color='blue')\n",
    "ax.set_xlim([-1, 6])\n",
    "ax.set_ylim([-1, 6])\n",
    "plt.draw()\n",
    "plt.show()"
   ]
  },
  {
   "cell_type": "markdown",
   "metadata": {},
   "source": [
    "## <span style=\"color:#4361EE\">Escalares (Tensores de dimensión cero)</span>"
   ]
  },
  {
   "cell_type": "markdown",
   "metadata": {},
   "source": [
    "Un tensor de dimensión cero representa una cantidad escalar. Es decir, un tensor de dimensión cero solamente contendrá un número y por tanto tiene tamaño 1."
   ]
  },
  {
   "cell_type": "markdown",
   "metadata": {},
   "source": [
    "## <span style=\"color:#4361EE\">Vectores (Tensores unidimensionales)</span>"
   ]
  },
  {
   "cell_type": "markdown",
   "metadata": {},
   "source": [
    "En esta sección revisamos el concepto de vector. Desde el punto de vista del aprendizaje profundo entendemos un vector como un contenedor de *n* datos, cada uno de los cuales se identifica genéricamente mediante un índice. Por ejemplo, supongamos que $w$ es un vector de tamaño tres. Este vector se representa genéricamente como:\n",
    "\n",
    "$$\n",
    "\\begin{equation*}\n",
    "w = (w_1,w_2, w_3).\n",
    "\\end{equation*}\n",
    "$$\n",
    "\n",
    "En estadística es usual escribir los vectores en columna. En este caso $w$ se escribe como:\n",
    "\n",
    "\n",
    "$$\n",
    "\\begin{equation*}\n",
    "w = \\begin{pmatrix} w_1\\\\ w_2 \\\\ w_3\\end{pmatrix}\n",
    "\\end{equation*}\n",
    "$$\n",
    "\n",
    "\n",
    "El tipo de valores que puede contener un vector debe ser de la misma clase por convención. Por ejemplo, si $w$ es un vector de números reales, entonces $z=(3.2\\;, 1.5 \\;, -7.2 \\;, 0.0)$ es un vector real de tamaño cuatro. Matemáticamente se dice que el vector $z$ tiene dimensión cuatro. En otras palabras, la dimensión matemática de un vector es su tamaño.\n",
    "\n",
    "El contenido y tipo de datos de un vector depende del contexto en que se está utilizando. Supongamos que se trata de construir una máquina de aprendizaje profundo que identifique dígitos escritos a mano en tonalidades de gris. Lo que se acostumbra a hacer es digitalizar las imágenes correspondientes, con lo cual se obtiene una matriz de números de tamaño digamos $255 \\times 255$. Esta matriz puede fácilmente transformarse a un vector, o mejor diríamos un tensor de dimensión 1, con $N = 255^2$ componentes.\n"
   ]
  },
  {
   "cell_type": "markdown",
   "metadata": {},
   "source": [
    "### <span style=\"color:#4CC9F0\">Ejemplo en NumPy</span>"
   ]
  },
  {
   "cell_type": "markdown",
   "metadata": {},
   "source": [
    "En [NumPy](https://numpy.org/) el vector $w =(1,2,3)$ se puede crear así:"
   ]
  },
  {
   "cell_type": "code",
   "execution_count": 33,
   "metadata": {},
   "outputs": [
    {
     "name": "stdout",
     "output_type": "stream",
     "text": [
      "[1 2 3]\n",
      "(3,)\n"
     ]
    }
   ],
   "source": [
    "import numpy as np\n",
    "# crea el vector (array)\n",
    "w = np.array([1,2,3]) \n",
    "# lo imprime\n",
    "print(w)\n",
    "# Muestra el tamaño (shape) del vector\n",
    "print(w.shape)"
   ]
  },
  {
   "cell_type": "markdown",
   "metadata": {},
   "source": [
    "### <span style=\"color:#4CC9F0\">Discusión: ¿Vector o Tensor?</span>"
   ]
  },
  {
   "cell_type": "markdown",
   "metadata": {},
   "source": [
    "Como se dijo arriba, En geometría la dimensión hace referencia al número de componentes con el que se representa un objeto en un espacio. Por lo general usamos el espacio Euclidiano, digamos $\\mathbb{R}^2$ o $\\mathbb{R}^3$.\n",
    "\n",
    "Los tensores son objetos de tipo algebraico. La dimensión de un tensor se define como el número de índices requerido para representar todos a los elementos del tensor.\n",
    "\n",
    "Entonces:\n",
    "\n",
    "1. El vector $w = (w_1,w_2, w_3)$ tiene dimensión geométrica 3.\n",
    "2. El tensor $w = (w_1,w_2, w_3)$ tiene dimensión 1 y tamaño (*shape* = 3).\n",
    "\n",
    "**Asegúrese de comprender la diferencia**.\n",
    "\n",
    "El tipo de valores que puede contener un vector debe ser de la misma clase por convención. Por ejemplo, si $w$ es un vector de números reales, entonces $z=(3.2\\;, 1.5 \\;, -7.2 \\;, 0.0)$ es un vector real de tamaño cuatro. Matemáticamente se dice que el vector $z$ tiene dimensión cuatro. En otras palabras, la dimensión matemática de un vector es su tamaño."
   ]
  },
  {
   "cell_type": "markdown",
   "metadata": {},
   "source": [
    "## <span style=\"color:#4361EE\">Aritmética básica de tensores unidimensionales</span>"
   ]
  },
  {
   "cell_type": "markdown",
   "metadata": {},
   "source": [
    "Mientras no se diga lo contrario, asumiremos que los tensores que usaremos tienen el mismo tamaño. Por facilidad, en las definiciones usaremos tensores unidimensionales de tamaño $n=3$. En realidad el tamaño de los tensores unidimensionales pueden ser cualquier número entero positivo $n$ y las definiciones se generalizan de forma obvia."
   ]
  },
  {
   "cell_type": "markdown",
   "metadata": {},
   "source": [
    "Supongamos que $a= (a_1,a_2,a_3)$ y $b=(b_1,b_2,b_3)$ son dos vectores. La suma entre $a$ y $b$ es un vector $c$ definido por:\n",
    "\n",
    "$$\n",
    "c = a+b = (a_1+b_1, a_2+b_2,a_3+b_3)\n",
    "$$\n",
    "\n",
    "Por ejemplo, con Numpy escribimos:"
   ]
  },
  {
   "cell_type": "code",
   "execution_count": 34,
   "metadata": {},
   "outputs": [
    {
     "name": "stdout",
     "output_type": "stream",
     "text": [
      "[ 8 10 12]\n"
     ]
    }
   ],
   "source": [
    "a = np.array([1,2,3])\n",
    "b = np.array([7,8,9])\n",
    "c = a + b\n",
    "print(c)"
   ]
  },
  {
   "cell_type": "markdown",
   "metadata": {},
   "source": [
    "Similarmente la diferencia  de vectors $a-b$ es definida por:\n",
    "\n",
    "$$\n",
    "c = a-b = (a_1-b_1, a_2-b_2,a_3-b_3)\n",
    "$$\n",
    "\n",
    "Con Numpy operamos así:"
   ]
  },
  {
   "cell_type": "code",
   "execution_count": 35,
   "metadata": {},
   "outputs": [
    {
     "name": "stdout",
     "output_type": "stream",
     "text": [
      "[-6 -6 -6]\n"
     ]
    }
   ],
   "source": [
    "a = np.array([1,2,3])\n",
    "b = np.array([7,8,9])\n",
    "c = a - b\n",
    "print(c)"
   ]
  },
  {
   "cell_type": "markdown",
   "metadata": {},
   "source": [
    "El producto de Hadamard, o producto elemento por elemento entre dos vectores se denota $a \\odot b$ y se define como:\n",
    "\n",
    "$$\n",
    "c = a\\odot b = (a_1*b_1, a_2*b_2,a_3*b_3).\n",
    "$$\n",
    "\n",
    "En Python el producto de Hadamard se implementa simplemente usando el operador de multiplicación ( * ). Veamos:\n"
   ]
  },
  {
   "cell_type": "code",
   "execution_count": 36,
   "metadata": {},
   "outputs": [
    {
     "name": "stdout",
     "output_type": "stream",
     "text": [
      "[ 7 16 27]\n"
     ]
    }
   ],
   "source": [
    "a = np.array([1,2,3])\n",
    "b = np.array([7,8,9])\n",
    "c = a * b\n",
    "print(c)"
   ]
  },
  {
   "cell_type": "markdown",
   "metadata": {},
   "source": [
    "La división entre vectores no es una operación formalmente definida. En ocasiones sin embargo se requiere dividir los elementos de un vector entre los elementos de otro, elemento a elemento. Esta operación se implementa en Python simplemente usando el operador división (/)."
   ]
  },
  {
   "cell_type": "code",
   "execution_count": 37,
   "metadata": {},
   "outputs": [
    {
     "name": "stdout",
     "output_type": "stream",
     "text": [
      "[0.14285714 0.25       0.33333333]\n"
     ]
    }
   ],
   "source": [
    "a = np.array([1,2,3])\n",
    "b = np.array([7,8,9])\n",
    "c = a / b\n",
    "print(c)"
   ]
  },
  {
   "cell_type": "markdown",
   "metadata": {},
   "source": [
    "## <span style=\"color:#4361EE\">Matrices (Tensores bidimensionales)</span>"
   ]
  },
  {
   "cell_type": "markdown",
   "metadata": {},
   "source": [
    "Una matriz es una organización (tensor) bidimensional de objetos del mismo tipo. Por ejemplo una matriz  $M$ de tamaño $2\\times 3$ puede ser:\n",
    "\n",
    "$$\n",
    "\\begin{pmatrix} 1 & 2 & 3\\\\\n",
    "4 &5 & 6\n",
    "\\end{pmatrix}\n",
    "$$\n",
    "\n",
    "Las matrices son muy utilizadas en prácticamente todas las áreas de la ciencia y la tecnología. \n",
    "\n",
    "En el caso del aprendizaje profundo, y más generalmente en Estadística las matrices se usan para representar conjuntos de datos. En los casos de regresión, las filas usualmente representan individuos y las columnas variables.\n",
    "\n",
    "En adelante llamaremos a las matrices tensores bidimensionales (o de dos dimensiones). Entonces una matriz que tiene $m$ filas y $n$ columnas, es un tensor bidimensional de tamaño (*shape*) $=(m,n)$.\n",
    "\n",
    "El tensor $M$ se representa en NumPy de la siguiente forma:"
   ]
  },
  {
   "cell_type": "code",
   "execution_count": 38,
   "metadata": {},
   "outputs": [
    {
     "name": "stdout",
     "output_type": "stream",
     "text": [
      "[[1 2 3]\n",
      " [4 5 6]]\n"
     ]
    },
    {
     "data": {
      "text/plain": [
       "(2, 3)"
      ]
     },
     "execution_count": 38,
     "metadata": {},
     "output_type": "execute_result"
    }
   ],
   "source": [
    "import numpy as np\n",
    "\n",
    "# Crea el tensor\n",
    "M = np.array([[1,2,3],\n",
    "              [4,5,6]])\n",
    "# Imprime el Tensor\n",
    "print(M)\n",
    "# Muestra la forma (shape)\n",
    "M.shape"
   ]
  },
  {
   "cell_type": "markdown",
   "metadata": {},
   "source": [
    "## <span style=\"color:#4361EE\">Creación de algunos tensores bidimensionales</span>"
   ]
  },
  {
   "cell_type": "markdown",
   "metadata": {},
   "source": [
    "### <span style=\"color:#4CC9F0\">Tensor vacío</span>"
   ]
  },
  {
   "cell_type": "markdown",
   "metadata": {},
   "source": [
    "La función *empty()* crea un arreglo de la forma especificada. "
   ]
  },
  {
   "cell_type": "code",
   "execution_count": 39,
   "metadata": {},
   "outputs": [
    {
     "name": "stdout",
     "output_type": "stream",
     "text": [
      "[[0.40222222 0.33722222 0.40222222]\n",
      " [4.03322222 5.36222222 0.33722222]]\n",
      "(2, 3)\n"
     ]
    }
   ],
   "source": [
    "v = np.empty([2,3])\n",
    "print(v)\n",
    "print(v.shape)"
   ]
  },
  {
   "cell_type": "markdown",
   "metadata": {},
   "source": [
    "La salida puede parecer un poco extraña. En realidad lo que hace Numpy es reservar el espacio de memoria necesario para mantener un arreglo de tamaño $(2, 3)$, asignarle el nombre *v* en la tabla de objetos definidos dinámicamente y nada más. Entonces la información que se encontraba es ese lugar no se modifica. De hecho, si volvemos a correr en seguida la celda anterior de código, la salida no debe cambiar.\n",
    "\n",
    "\n",
    "Observe que *v* es un tensor que tiene forma (*shape*) $2\\times2$. En NumPy un tensor puede   estar compuesto por uno o más tensores. La dimensión del tensor *v* es 2. Se requiere un objeto de doble entrada para representar un tensor bidimensional. Dese cuenta de que al arreglo es mostrado como una lista con dos elementos, cada uno de los cuales es un arreglo de tamaño 3. Internamente, unos arreglos no se almacenan como una lista.\n"
   ]
  },
  {
   "cell_type": "markdown",
   "metadata": {},
   "source": [
    "### <span style=\"color:#4CC9F0\">Tensor de ceros</span>"
   ]
  },
  {
   "cell_type": "markdown",
   "metadata": {},
   "source": [
    "La función *zeros()* crea un arreglo de la forma especificada relleno de ceros. Por ejemplo"
   ]
  },
  {
   "cell_type": "code",
   "execution_count": 40,
   "metadata": {},
   "outputs": [
    {
     "name": "stdout",
     "output_type": "stream",
     "text": [
      "[[0. 0.]\n",
      " [0. 0.]\n",
      " [0. 0.]]\n"
     ]
    }
   ],
   "source": [
    "w = np.zeros([3,2])\n",
    "print(w)"
   ]
  },
  {
   "cell_type": "markdown",
   "metadata": {},
   "source": [
    "### <span style=\"color:#4CC9F0\">Arreglo de unos</span>"
   ]
  },
  {
   "cell_type": "markdown",
   "metadata": {},
   "source": [
    "La función *ones()* crea un arreglo de la forma especificada relleno de unos."
   ]
  },
  {
   "cell_type": "code",
   "execution_count": 41,
   "metadata": {},
   "outputs": [
    {
     "name": "stdout",
     "output_type": "stream",
     "text": [
      "[[1. 1.]\n",
      " [1. 1.]]\n"
     ]
    }
   ],
   "source": [
    "w = np.ones([2,2])\n",
    "print(w)"
   ]
  },
  {
   "cell_type": "markdown",
   "metadata": {},
   "source": [
    "### <span style=\"color:#4CC9F0\"> Apilamiento  de arreglos (stack)</span>"
   ]
  },
  {
   "cell_type": "markdown",
   "metadata": {},
   "source": [
    "#### Vertical: `vstack`"
   ]
  },
  {
   "cell_type": "markdown",
   "metadata": {
    "tags": []
   },
   "source": [
    "Con la función *vstack()*. Apila a lo largo del eje 0."
   ]
  },
  {
   "cell_type": "code",
   "execution_count": 42,
   "metadata": {},
   "outputs": [
    {
     "name": "stdout",
     "output_type": "stream",
     "text": [
      "v = [[1. 1. 1.]\n",
      " [1. 1. 1.]]\n",
      "\n",
      "w = [2 2 2]\n",
      "\n",
      "z = [[1. 1. 1.]\n",
      " [1. 1. 1.]\n",
      " [2. 2. 2.]]\n",
      "\n",
      "tamaño final = (3, 3)\n"
     ]
    }
   ],
   "source": [
    "v = np.ones([2,3])\n",
    "w = np.array([2,2,2])\n",
    "z = np.vstack((v,w))\n",
    "\n",
    "print('v = {}\\n'.format(v))\n",
    "print('w = {}\\n'.format(w))\n",
    "print('z = {}\\n'.format(z))\n",
    "\n",
    "print('tamaño final = {}'.format(z.shape))"
   ]
  },
  {
   "cell_type": "markdown",
   "metadata": {},
   "source": [
    "#### Horizontal: `hstack`"
   ]
  },
  {
   "cell_type": "markdown",
   "metadata": {
    "tags": []
   },
   "source": [
    "Con la función *hstack()*. Apila a lo largo del eje 1."
   ]
  },
  {
   "cell_type": "code",
   "execution_count": 43,
   "metadata": {},
   "outputs": [
    {
     "name": "stdout",
     "output_type": "stream",
     "text": [
      "v = [[1. 1. 1.]\n",
      " [1. 1. 1.]]\n",
      "\n",
      "w = [[5]\n",
      " [5]]\n",
      "\n",
      "z = [[1. 1. 1. 5.]\n",
      " [1. 1. 1. 5.]]\n",
      "\n",
      "tamaño final = (2, 4)\n"
     ]
    }
   ],
   "source": [
    "v = np.ones([2,3])\n",
    "w = np.array([[5],[5]])\n",
    "z = np.hstack((v,w))\n",
    "\n",
    "print('v = {}\\n'.format(v))\n",
    "print('w = {}\\n'.format(w))\n",
    "print('z = {}\\n'.format(z))\n",
    "\n",
    "print('tamaño final = {}'.format(z.shape))"
   ]
  },
  {
   "cell_type": "markdown",
   "metadata": {},
   "source": [
    "#### Apilamiento a lo largo de cualquier eje. `stack`"
   ]
  },
  {
   "cell_type": "markdown",
   "metadata": {
    "tags": []
   },
   "source": [
    "Con la función *stack()*. Apila a lo largo cualquier eje. La función *stack()* puede usarse para los dos casos anteriores cambiando el eje a lo largo del cual se hace la apilación. Revise el siguiente ejemplo en el cual apilamos una lista de arreglos a lo largo de cada uno de los ejes.\n",
    "\n",
    "Generamos una lista de 3 arreglos, cada uno de forma $(3, 4)$\n"
   ]
  },
  {
   "cell_type": "code",
   "execution_count": 44,
   "metadata": {},
   "outputs": [
    {
     "name": "stdout",
     "output_type": "stream",
     "text": [
      "Longitud de arrays = 3\n",
      "arrays[0] = \n",
      " [[ 0.13156864 -0.94740808  0.06717628 -1.50798456]\n",
      " [-0.63460968  0.31568777 -1.25686638 -0.41027075]\n",
      " [ 1.17615326  0.87941497 -0.75039359  0.07082663]]\n",
      "arrays[1] = \n",
      " [[ 1.9483979  -0.25963178  0.69517289  0.4072544 ]\n",
      " [ 1.68762712 -1.2348018   1.93836263  0.54969946]\n",
      " [-0.06352865 -0.18193205 -0.3013907  -1.47395905]]\n",
      "arrays[1] = \n",
      " [[-0.35192372 -0.6392832  -0.99033397  0.07240868]\n",
      " [ 0.70834801  0.59872016  0.85488812 -1.25189034]\n",
      " [-0.52253304  0.39805928  2.6775183   0.62660754]]\n"
     ]
    }
   ],
   "source": [
    "import numpy as np\n",
    "arrays = [np.random.randn(3, 4) for _ in range(3)]\n",
    "print('Longitud de arrays =', len(arrays))\n",
    "print('arrays[0] = \\n', arrays[0])\n",
    "print('arrays[1] = \\n', arrays[1])\n",
    "print('arrays[1] = \\n', arrays[2])"
   ]
  },
  {
   "cell_type": "code",
   "execution_count": 45,
   "metadata": {},
   "outputs": [
    {
     "data": {
      "text/plain": [
       "array([[[ 0.13156864, -0.94740808,  0.06717628, -1.50798456],\n",
       "        [-0.63460968,  0.31568777, -1.25686638, -0.41027075],\n",
       "        [ 1.17615326,  0.87941497, -0.75039359,  0.07082663]],\n",
       "\n",
       "       [[ 1.9483979 , -0.25963178,  0.69517289,  0.4072544 ],\n",
       "        [ 1.68762712, -1.2348018 ,  1.93836263,  0.54969946],\n",
       "        [-0.06352865, -0.18193205, -0.3013907 , -1.47395905]],\n",
       "\n",
       "       [[-0.35192372, -0.6392832 , -0.99033397,  0.07240868],\n",
       "        [ 0.70834801,  0.59872016,  0.85488812, -1.25189034],\n",
       "        [-0.52253304,  0.39805928,  2.6775183 ,  0.62660754]]])"
      ]
     },
     "execution_count": 45,
     "metadata": {},
     "output_type": "execute_result"
    }
   ],
   "source": [
    "np.stack(arrays, axis=0)"
   ]
  },
  {
   "cell_type": "markdown",
   "metadata": {},
   "source": [
    " A lo largo del eje 1."
   ]
  },
  {
   "cell_type": "markdown",
   "metadata": {},
   "source": [
    "## <span style=\"color:#4361EE\">Creación de tensores multidimensionales</span>"
   ]
  },
  {
   "cell_type": "markdown",
   "metadata": {},
   "source": [
    "En Python una lista de listas puede crearse como se muestra en el siguiente fragmento de código. En el código se observa como acceder a la primera lista y como acceder al segundo elemento de la segunda lista. Asegúrese de entender la lógica involucrada."
   ]
  },
  {
   "cell_type": "code",
   "execution_count": 46,
   "metadata": {},
   "outputs": [
    {
     "name": "stdout",
     "output_type": "stream",
     "text": [
      "a= [[1 2 3]\n",
      " [4 5 6]]\n",
      "\n",
      "a[0]= [1 2 3]\n",
      "\n",
      "a[1][1]= 5\n"
     ]
    }
   ],
   "source": [
    "a = np.array([[1,2,3],[4,5,6]])\n",
    "\n",
    "print('a=',a)\n",
    "print()\n",
    "print('a[0]=',a[0])\n",
    "print()\n",
    "\n",
    "print('a[1][1]=',a[1][1])"
   ]
  },
  {
   "cell_type": "markdown",
   "metadata": {},
   "source": [
    "### <span style=\"color:#4CC9F0\">Un ejemplo con arreglos tridimensionales</span>\n"
   ]
  },
  {
   "cell_type": "markdown",
   "metadata": {},
   "source": [
    "Para ayudar a entender la indexación y rebanado de arreglos, observe el siguiente ejemplo. Asegúrese de entender completamente la lógica. Vamos a crear un tensor tridimensional de tamaño $(4, 3, 1)$."
   ]
  },
  {
   "cell_type": "code",
   "execution_count": 47,
   "metadata": {},
   "outputs": [
    {
     "name": "stdout",
     "output_type": "stream",
     "text": [
      "a.shape= (4, 3, 2)\n",
      "\n",
      "a = [[[ 1  2]\n",
      "  [ 3  4]\n",
      "  [ 5  6]]\n",
      "\n",
      " [[ 7  8]\n",
      "  [ 9 10]\n",
      "  [11 12]]\n",
      "\n",
      " [[13 14]\n",
      "  [15 16]\n",
      "  [17 18]]\n",
      "\n",
      " [[19 20]\n",
      "  [21 22]\n",
      "  [23 24]]]\n"
     ]
    }
   ],
   "source": [
    "a = np.array([\n",
    "              [[1,2],\n",
    "               [3,4],\n",
    "               [5,6]],\n",
    "             \n",
    "              [[7,8],\n",
    "               [9,10],\n",
    "               [11,12]],\n",
    "    \n",
    "              [[13,14],\n",
    "               [15,16],\n",
    "               [17,18]],\n",
    "    \n",
    "              [[19,20],\n",
    "               [21,22],\n",
    "               [23,24]]\n",
    "            ])\n",
    "\n",
    "print('a.shape=', a.shape)\n",
    "\n",
    "print('\\na =',a)"
   ]
  },
  {
   "cell_type": "markdown",
   "metadata": {},
   "source": [
    "## <span style=\"color:#4361EE\">Ejercicios</span>"
   ]
  },
  {
   "cell_type": "markdown",
   "metadata": {},
   "source": [
    "Investigue sobre los siguientes temas:\n",
    "\n",
    "1. Indexación de tensores NumPy.\n",
    "2. Rebanado (slicing) tensores.\n",
    "3. Reorganización (Reshape) de tensores.\n",
    "\n"
   ]
  },
  {
   "cell_type": "markdown",
   "metadata": {},
   "source": [
    "### <span style=\"color:#4CC9F0\">Ayuda</span>"
   ]
  },
  {
   "cell_type": "markdown",
   "metadata": {
    "tags": []
   },
   "source": [
    "Revise la lección de Numpy."
   ]
  },
  {
   "cell_type": "markdown",
   "metadata": {},
   "source": [
    "### <span style=\"color:#4CC9F0\">Ejercicios adicionales</span>"
   ]
  },
  {
   "cell_type": "markdown",
   "metadata": {},
   "source": [
    "1. Cree una lista 5 de arreglos aleatorios de forma $(2,4,3,5)$.\n",
    "1. Apile los arreglos por cada uno de los cuatro ejes.\n",
    "1. Interprete los resultados."
   ]
  },
  {
   "cell_type": "markdown",
   "metadata": {},
   "source": [
    "4. En las siguientes celdas, analice los arreglos y diga el shape de cada uno. A continuación tendrá la comprobación del shape. Adicional puede apilar los arreglos por cada uno de los correspondientes ejes."
   ]
  },
  {
   "cell_type": "code",
   "execution_count": 3,
   "metadata": {},
   "outputs": [],
   "source": [
    "a = np.array([\n",
    "              [\n",
    "                [[1, 2, 3, 4, 5],\n",
    "                 [6, 7, 8, 9, 10]],\n",
    "               \n",
    "                [[11, 12, 13, 14, 15],\n",
    "                 [16, 17, 18, 19, 20]]\n",
    "              ],\n",
    "              \n",
    "              [\n",
    "                [[21, 22, 23, 24, 25],\n",
    "                 [26, 27, 28, 29, 30]],\n",
    "               \n",
    "                [[31, 32, 33, 34, 35],\n",
    "                 [36, 37, 38, 39, 40]]\n",
    "              ],\n",
    "              \n",
    "              [\n",
    "                [[41, 42, 43, 44, 45],\n",
    "                 [46, 47, 48, 49, 50]],\n",
    "               \n",
    "                [[51, 52, 53, 54, 55],\n",
    "                 [56, 57, 58, 59, 60]]\n",
    "              ],\n",
    "              \n",
    "              [\n",
    "                [[61, 62, 63, 64, 65],\n",
    "                 [66, 67, 68, 69, 70]],\n",
    "               \n",
    "                [[71, 72, 73, 74, 75],\n",
    "                 [76, 77, 78, 79, 80]]\n",
    "              ]\n",
    "            ])"
   ]
  },
  {
   "cell_type": "code",
   "execution_count": null,
   "metadata": {},
   "outputs": [],
   "source": [
    "print('a.shape=', a.shape)\n",
    "\n",
    "print('\\na =',a)"
   ]
  },
  {
   "cell_type": "code",
   "execution_count": 5,
   "metadata": {},
   "outputs": [],
   "source": [
    "a = np.array([\n",
    "              [[[1],\n",
    "                [2]],\n",
    "               [[3],\n",
    "                [4]],\n",
    "               [[5],\n",
    "                [6]],\n",
    "               [[7],\n",
    "                [8]]],\n",
    "             \n",
    "              [[[9],\n",
    "                [10]],\n",
    "               [[11],\n",
    "                [12]],\n",
    "               [[13],\n",
    "                [14]],\n",
    "               [[15],\n",
    "                [16]]],\n",
    "    \n",
    "              [[[17],\n",
    "                [18]],\n",
    "               [[19],\n",
    "                [20]],\n",
    "               [[21],\n",
    "                [22]],\n",
    "               [[23],\n",
    "                [24]]],\n",
    "    \n",
    "              [[[25],\n",
    "                [26]],\n",
    "               [[27],\n",
    "                [28]],\n",
    "               [[29],\n",
    "                [30]],\n",
    "               [[31],\n",
    "                [32]]],\n",
    "    \n",
    "              [[[33],\n",
    "                [34]],\n",
    "               [[35],\n",
    "                [36]],\n",
    "               [[37],\n",
    "                [38]],\n",
    "               [[39],\n",
    "                [40]]]\n",
    "            ])"
   ]
  },
  {
   "cell_type": "code",
   "execution_count": null,
   "metadata": {},
   "outputs": [],
   "source": [
    "print('a.shape=', a.shape)\n",
    "\n",
    "print('\\na =',a)"
   ]
  },
  {
   "cell_type": "code",
   "execution_count": 7,
   "metadata": {},
   "outputs": [],
   "source": [
    "a = np.array([\n",
    "    [\n",
    "        [[1, 2, 3],\n",
    "         [4, 5, 6]],\n",
    "        \n",
    "        [[7, 8, 9],\n",
    "         [10, 11, 12]]\n",
    "    ],\n",
    "    \n",
    "    [\n",
    "        [[13, 14, 15],\n",
    "         [16, 17, 18]],\n",
    "        \n",
    "        [[19, 20, 21],\n",
    "         [22, 23, 24]]\n",
    "    ]\n",
    "])"
   ]
  },
  {
   "cell_type": "code",
   "execution_count": null,
   "metadata": {},
   "outputs": [],
   "source": [
    "print('a.shape=', a.shape)\n",
    "\n",
    "print('\\na =',a)"
   ]
  },
  {
   "cell_type": "code",
   "execution_count": 9,
   "metadata": {},
   "outputs": [],
   "source": [
    "a = np.array([\n",
    "    [\n",
    "        [\n",
    "            [[1, 2, 3], [4, 5, 6]],\n",
    "            [[7, 8, 9], [10, 11, 12]]\n",
    "        ],\n",
    "        [\n",
    "            [[13, 14, 15], [16, 17, 18]],\n",
    "            [[19, 20, 21], [22, 23, 24]]\n",
    "        ]\n",
    "    ],\n",
    "    [\n",
    "        [\n",
    "            [[25, 26, 27], [28, 29, 30]],\n",
    "            [[31, 32, 33], [34, 35, 36]]\n",
    "        ],\n",
    "        [\n",
    "            [[37, 38, 39], [40, 41, 42]],\n",
    "            [[43, 44, 45], [46, 47, 48]]\n",
    "        ]\n",
    "    ]\n",
    "])"
   ]
  },
  {
   "cell_type": "code",
   "execution_count": null,
   "metadata": {},
   "outputs": [],
   "source": [
    "print('a.shape=', a.shape)\n",
    "\n",
    "print('\\na =',a)"
   ]
  }
 ],
 "metadata": {
  "kernelspec": {
   "display_name": "Python 3.9.13 ('work')",
   "language": "python",
   "name": "python3"
  },
  "language_info": {
   "codemirror_mode": {
    "name": "ipython",
    "version": 3
   },
   "file_extension": ".py",
   "mimetype": "text/x-python",
   "name": "python",
   "nbconvert_exporter": "python",
   "pygments_lexer": "ipython3",
   "version": "3.11.4"
  },
  "toc-autonumbering": false,
  "vscode": {
   "interpreter": {
    "hash": "3620b340ed2ed479d71e72c732c6d6a6eac39d8adbece51414abdea5ed84aec5"
   }
  }
 },
 "nbformat": 4,
 "nbformat_minor": 4
}
