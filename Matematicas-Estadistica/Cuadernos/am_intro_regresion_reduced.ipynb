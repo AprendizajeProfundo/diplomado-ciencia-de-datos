{
 "cells": [
  {
   "cell_type": "markdown",
   "metadata": {
    "slideshow": {
     "slide_type": "slide"
    },
    "tags": []
   },
   "source": [
    "<figure> \n",
    "<img src=\"../Imagenes/logo-final-ap.png\"  width=\"80\" height=\"80\" align=\"left\"/> \n",
    "</figure>\n",
    "\n",
    "# <span style=\"color:blue\"><left>Aprendizaje Profundo</left></span>"
   ]
  },
  {
   "cell_type": "markdown",
   "metadata": {},
   "source": [
    "# <span style=\"color:red\"><center>Conceptos básicos de regresión</center></span>"
   ]
  },
  {
   "cell_type": "markdown",
   "metadata": {},
   "source": [
    "##   <span style=\"color:blue\">Profesores</span>"
   ]
  },
  {
   "cell_type": "markdown",
   "metadata": {},
   "source": [
    "1. Alvaro Mauricio Montenegro Díaz, ammontenegrod@unal.edu.co\n",
    "2. Daniel Mauricio Montenegro Reyes, dextronomo@gmail.com \n",
    "3. Campo Elías Pardo Turriago, cepardot@unal.edu.co \n",
    "5. Oleg Jarma, ojarmam@unal.edu.co "
   ]
  },
  {
   "cell_type": "markdown",
   "metadata": {},
   "source": [
    "##   <span style=\"color:blue\">Asesora Medios y Marketing digital</span>\n",
    " "
   ]
  },
  {
   "cell_type": "markdown",
   "metadata": {},
   "source": [
    "1. Maria del Pilar Montenegro, pmontenegro88@gmail.com "
   ]
  },
  {
   "cell_type": "markdown",
   "metadata": {},
   "source": [
    "## <span style=\"color:blue\">Contenido</span>"
   ]
  },
  {
   "cell_type": "markdown",
   "metadata": {},
   "source": [
    "* [Introducción](#Introducción)\n",
    "* [Ejemplo: modelo lineal](#Ejemplo:-modelo-lineal)\n",
    "* [Función de pérdida](#Función-de-pérdida)\n",
    "* [Pérdida en entrenamiento vs pérdida en validación](#Pérdida-en-entrenamiento-vs-pérdida-en-validación)\n",
    "* [Supuestos de Regresión](#Supuestos-de-Regresión)"
   ]
  },
  {
   "cell_type": "markdown",
   "metadata": {},
   "source": [
    "## <span style=\"color:blue\">Introducción</span>"
   ]
  },
  {
   "cell_type": "markdown",
   "metadata": {},
   "source": [
    "En esta lección se introduce una de las máquinas de aprendizaje más conocida. La máquina de regresión.\n",
    "\n",
    "En el caso más simple de un problema de regresión, lo que se busca es establecer una relación entre dos variables aleatorias. "
   ]
  },
  {
   "cell_type": "markdown",
   "metadata": {},
   "source": [
    "## <span style=\"color:blue\">Ejemplo 1: Modelo lineal SIMPLE</span>"
   ]
  },
  {
   "cell_type": "markdown",
   "metadata": {},
   "source": [
    "La gráfica presenta un conjunto de datos de entrenamiento de $ N = 11 $ puntos, que se muestran como círculos cafés, cada uno con una observación de la variable de entrada $ x $ junto con la variable objetivo correspondiente $ y $. \n",
    "\n",
    "\n",
    "Nuestro objetivo en este caso es entrenar una máquina de aprendizaje de tipo lineal, es decir, de la forma $y = ax+b$.\n",
    "\n",
    "\n",
    "La curva azul muestra la función $y= 0.8431 x + 6.339$, la cual corresponde la modelo lineal entrenado para este conjunto de datos. El entrenamiento fue desarrollado usando la función *polyfit* de numpy.\n",
    "\n",
    "El área sombreada corresponde a lo que los estadísticos llaman bandas de confianza. No entraremos en detalles, pero se espera que la mayor parte de los datos de entranamiento y validación queden dentro de tales bandas. Esta es una medida de la calidad de la máquina de aprendizaje. El gráfico muestra que las cosas no salieron muy bien. Esto es porque al parecer el comportamineto de los datos que no es lineal. \n",
    "\n",
    "Los datos de entrenamiento aparecen de color café y los datos de validación en color verde."
   ]
  },
  {
   "cell_type": "code",
   "execution_count": 10,
   "metadata": {},
   "outputs": [
    {
     "data": {
      "image/png": "[encoded data removed]",
      "text/plain": [
       "<Figure size 432x288 with 1 Axes>"
      ]
     },
     "metadata": {
      "needs_background": "light"
     },
     "output_type": "display_data"
    }
   ],
   "source": [
    "import matplotlib.pyplot as plt\n",
    "import numpy as np\n",
    "\n",
    "x_train = np.array([0,1,2,4,5,6,8,9,10])\n",
    "x_val =  np.array([3,7])\n",
    "\n",
    "y_train =  np.array([3.9, 4.4, 10.8,  11.2, 13.1, 14.1,  9.9,  15.1, 12.5])\n",
    "y_val =  np.array([10.3, 13.9]) #12, 17\n",
    "\n",
    "# fit a linear curve an estimate its y-values and their error.\n",
    "a, b = np.polyfit(x_train, y_train, deg=1)\n",
    "y_est = a * x_train + b\n",
    "y_err = x_train.std() * np.sqrt(1/len(x_train) +\n",
    "                          (x_train - x_train.mean())**2 / np.sum((x_train - x_train.mean())**2))\n",
    "\n",
    "fig, ax = plt.subplots()\n",
    "ax.plot(x_train, y_est, '-')\n",
    "ax.fill_between(x_train, y_est - y_err, y_est + y_err, alpha=0.2)\n",
    "ax.plot(x_train, y_train, 'o', color='tab:brown')\n",
    "ax.plot(x_val, y_val, 'o', color='tab:green')\n",
    "\n",
    "plt.show()\n"
   ]
  },
  {
   "cell_type": "markdown",
   "metadata": {},
   "source": [
    "## <span style=\"color:blue\">Ejemplo 2: Modelo lineal MÚLTIPLE</span>"
   ]
  },
  {
   "cell_type": "markdown",
   "metadata": {},
   "source": [
    "El caso generalizado del anterior. En este caso no contamos sólo con una variable $x$ para explicar $y$. podemos pensar en 2, 3, 4.....Las que sean. suponiendo 4 variables, ahora queremos entrenar una máquina de aprendizaje \"lineal\" de la forma $y = ax_1 + bx_2 + cx_3 +dx_4 + e$\n",
    "\n",
    "Este caso específico es complicado de mostrar de una forma gráfica, ya que cada variable es una dimensión nueva\n",
    "\n",
    "<figure> \n",
    "<img src=\"../Imagenes/3d_regression.png\" align=\"center\"/> \n",
    "</figure>"
   ]
  },
  {
   "cell_type": "markdown",
   "metadata": {},
   "source": [
    "## <span style=\"color:blue\">Función de pérdida</span>  "
   ]
  },
  {
   "cell_type": "markdown",
   "metadata": {},
   "source": [
    "\n",
    "Los valores de los coeficientes se determinarán ajustando el polinomio a la\n",
    "datos de entrenamiento. Esto se puede hacer minimizando una función de pérdida que mide la\n",
    "desajuste entre la función $f(x,\\boldsymbol{w})$, para cualquier valor de  $\\boldsymbol{w}$, y el conjunto de datos de entrenamiento.\n",
    "\n",
    "Una opción simple de función de pérdida, que se usa ampliamente, viene dada por\n",
    "el promedio de **los cuadrados de los errores** entre las predicciones  $f(x_n,\\boldsymbol{w})$, que denotaremos por $\\tilde{y}_n$,  y los correspondientes valores objetivo $y_n$, de tal manera que se minimice \n",
    "\n",
    "\n",
    "$$ECM(w) = \\frac{1}{N} \\sum_{n=1}^{N} [{f(x_n,\\boldsymbol{w}) − y_n}]^2 = \\frac{1}{N} \\sum_{n=1}^{N} [{\\tilde{y}_n − y_n}]^2$$, "
   ]
  },
  {
   "cell_type": "markdown",
   "metadata": {},
   "source": [
    "## <span style=\"color:blue\">Pérdida en entrenamiento vs pérdida en validación</span> "
   ]
  },
  {
   "cell_type": "markdown",
   "metadata": {},
   "source": [
    "Los datos de validación se notaran respectivamente como $x_n^*$ y $y_n^*$. Los datos de entrenamiento no tienen ningún símbolo adicional.\n",
    "\n",
    "Así, el ECM,en el modelo cuadrático para los datos de entrenamiento, luego de entrenada la máquina, es dado por\n",
    "\n",
    "$$\n",
    "ECM(w) = \\frac{1}{9} \\sum_{n=1}^{9} [{f(x_n,\\boldsymbol{w}) − y_n}]^2 = \\frac{1}{9} \\sum_{n=1}^{9} [{\\tilde{y}_n − y_n}]^2 = 3.1114\n",
    "$$\n",
    "\n",
    "Para los datos de validación se obtiene \n",
    "\n",
    "\n",
    "$$\n",
    "ECM(w) = \\frac{1}{2} \\sum_{n=1}^{2} [{f(x_n^*,\\boldsymbol{w}) − y_n^*}]^2 = \\frac{1}{9} \\sum_{n=1}^{2} [{\\tilde{y}_n^* − y_n^*}]^2 = 0.0758\n",
    "$$\n",
    "\n",
    "Este resultado, no es realmente tan placentero. Genera dudas, debido a que se espera que el ECM de validación y el de entrenamiento sea similares. Aquí se puede sospechar que los datos de validación no fueron obtenidos adecuadamente. \n",
    "\n",
    "El siguiente código Python enseña como hacer los cálculos de esta sección."
   ]
  },
  {
   "cell_type": "code",
   "execution_count": 12,
   "metadata": {},
   "outputs": [
    {
     "name": "stdout",
     "output_type": "stream",
     "text": [
      "3.052278640749228\n",
      "0.04602282952396599\n"
     ]
    }
   ],
   "source": [
    "# emc train data\n",
    "y_est_train = a * x_train**2 + b *x_train + c\n",
    "print (np.mean((y_train- y_est_train)**2))\n",
    "\n",
    "# emc validation data\n",
    "y_est_val = a * x_val**2 + b *x_val + c\n",
    "print (np.mean((y_val- y_est_val)**2))"
   ]
  },
  {
   "cell_type": "markdown",
   "metadata": {},
   "source": [
    "## <span style=\"color:blue\">Multicolinealidad</span> "
   ]
  },
  {
   "cell_type": "markdown",
   "metadata": {},
   "source": [
    "Cuando definimos una regresión estamos directamente diciendo que hay una relación entre las variables con las que predecimos y la variable predecimos. Pero no queremos que haya ninguna relación dentro de las variables explicativas. Este fenómeno en el que existe una relación entre dos (o más) variables $x_i$ se llama \"colinealidad\" y \"multicolinealidad\".\n",
    "\n",
    "Esta tiene varias formas de descubrirse. La más sencilla es el obtener las correlaciones entre todas las variables. Si Tenemos altas correlaciones(ya bien sean positivas o negativas) tenemos potencialmente multicolinealidad.\n",
    "\n",
    "¿Cómo podemos solucionarlo? El caso más sencillo es eliminar una de las variables con correlación. Esto no debería implicar un problema ya que una sola variable ya nos brinda suficiente información"
   ]
  },
  {
   "cell_type": "code",
   "execution_count": null,
   "metadata": {},
   "outputs": [],
   "source": []
  }
 ],
 "metadata": {
  "kernelspec": {
   "display_name": "Python 3 (ipykernel)",
   "language": "python",
   "name": "python3"
  },
  "language_info": {
   "codemirror_mode": {
    "name": "ipython",
    "version": 3
   },
   "file_extension": ".py",
   "mimetype": "text/x-python",
   "name": "python",
   "nbconvert_exporter": "python",
   "pygments_lexer": "ipython3",
   "version": "3.10.5"
  }
 },
 "nbformat": 4,
 "nbformat_minor": 4
}
