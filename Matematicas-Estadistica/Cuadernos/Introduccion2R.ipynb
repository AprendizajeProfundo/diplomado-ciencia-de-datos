{
 "cells": [
  {
   "cell_type": "markdown",
   "id": "895ff8fb-6e18-4a66-85b1-9928ef715105",
   "metadata": {
    "id": "1Ch3SsEFYI1u"
   },
   "source": [
    "# **<p align=\"center\"><font size=5 color=#006600>Diplomado en Ciencia de Datos**"
   ]
  },
  {
   "cell_type": "markdown",
   "id": "26d1924c-c297-4e24-90c4-c0300773eddd",
   "metadata": {
    "id": "OOJ7NOMnelA2"
   },
   "source": [
    "# **<p align=\"center\"><font size=5 color=#FF0033>Introducción a R**"
   ]
  },
  {
   "cell_type": "markdown",
   "id": "2432ca31-b652-4f24-8f8a-a18818c1e33a",
   "metadata": {
    "id": "z9oBWmjodpyc"
   },
   "source": [
    "# **<font size=5 color=#0000FF>Profesores**"
   ]
  },
  {
   "cell_type": "markdown",
   "id": "73dc38ca-f012-4df3-9dac-d8861df4be35",
   "metadata": {},
   "source": [
    "* Álvaro  Montenegro, PhD, <ammontenegrod@unal.edu.co>\n",
    "* Campo Elías Pardo, PhD, <cepardot@unal.edu.co>\n",
    "* Daniel  Montenegro, Msc, <dextronomo@gmail.com>\n",
    "* Camilo José Torres Jiménez, Msc, <cjtorresj@unal.edu.co>"
   ]
  },
  {
   "cell_type": "markdown",
   "id": "4118669b-afe6-4676-a63a-c4097c7a97de",
   "metadata": {},
   "source": [
    "## <span style=\"color:#4361EE\">Asesora Medios y Marketing digital</span>"
   ]
  },
  {
   "cell_type": "markdown",
   "id": "777f2f89-d4ad-405f-b32d-28993c9e9f4a",
   "metadata": {},
   "source": [
    "* Maria del Pilar Montenegro, pmontenegro88@gmail.com\n",
    "* Jessica López Mejía, jelopezme@unal.edu.co"
   ]
  },
  {
   "cell_type": "markdown",
   "id": "abc4230a-63fd-4547-83ff-ca95f551fa55",
   "metadata": {
    "id": "jLSx3bVoe9fZ"
   },
   "source": [
    "# **<font size=5 color=#0000FF>Asistentes (estudiantes auxiliares)**"
   ]
  },
  {
   "cell_type": "markdown",
   "id": "e69932c2-a998-4dbd-94cd-e90ba8263d30",
   "metadata": {
    "id": "74W8jrBSfFXl"
   },
   "source": [
    "* Jessica López Mejía, jelopezme@unal.edu.co\n",
    "* Camilo Chitivo, cchitivo@unal.edu.co"
   ]
  },
  {
   "cell_type": "markdown",
   "id": "21df9ffa-94f1-4dda-8387-35c8096a1282",
   "metadata": {},
   "source": [
    "## <span style=\"color:#4361EE\">Fuentes principales</span>\n",
    "\n",
    "* Manual de Introducción a R [An Introduction to R](https://cran.r-project.org/doc/manuals/r-release/R-intro.html)\n",
    "* Cuadernos sobre programación en Python."
   ]
  },
  {
   "cell_type": "markdown",
   "id": "4de18a8d-9755-4aed-96b8-b8c24893c736",
   "metadata": {
    "colab_type": "text",
    "id": "kzyZQ2syLu9O"
   },
   "source": [
    "##  <span style=\"color:#4361EE\">¿Qué es R?</span>"
   ]
  },
  {
   "cell_type": "markdown",
   "id": "88481ec5-05d3-4f24-b025-54e55883d1d2",
   "metadata": {},
   "source": [
    "R es un lenguaje de programación y entorno computacional distribuido de manera gratuita, a través de la Licencia Pública General de GNU, por lo que es software libre y de código abierto. \n",
    "\n",
    "R es una herramienta muy poderosa para el trabajo en Estadística. Una persona especializada en esta encuentra lo que necesita para su trabajo.\n",
    "\n",
    "Leer también en [Wikipedia](https://es.wikipedia.org/wiki/R_(lenguaje_de_programaci%C3%B3n))."
   ]
  },
  {
   "cell_type": "markdown",
   "id": "9395dbb0-dbbd-45fd-b99a-cbc7bcd9cf62",
   "metadata": {},
   "source": [
    "## <span style=\"color:#4361EE\">Breve historia de R</span>"
   ]
  },
  {
   "cell_type": "markdown",
   "id": "c356793e-0ea5-44ef-ad64-ca7abedc449a",
   "metadata": {},
   "source": [
    "En el prefacio de la cuarta edición de \n",
    "[Modern Applied Statistics with S-Plus](https://www.researchgate.net/publication/224817420_Modern_Applied_Statistics_With_S), los autores presentan el **S** como un lenguage y ambiente para análisis de datos, desarrollado en *Bell Laboratories*, con dos implementaciones: una comercial **S-Plus** y la otra **R**, como un sistema de código abierto escrito por un equipo de voluntarios.\n"
   ]
  },
  {
   "cell_type": "markdown",
   "id": "a4b51425-cac6-4187-9665-f1c2634844a1",
   "metadata": {},
   "source": [
    "El libro mencionado se puede considerar como un manual de Estadística y análisis de datos utilizando  R. El paquete *MASS* (iniciales del libro) es una de las librerias recomendadas de R, que complementa el libro. Los paquetes recomendados quedan instalados junto con el R, pero hay que cargarlos en cada sesión de trabajo cuando se use alguna de sus funciones. Una de sus funciones es *lda{MASS}* para realizar análisis lineal discriminante (un método estadístico para clasificación supervisada):"
   ]
  },
  {
   "cell_type": "code",
   "execution_count": 4,
   "id": "580c02e8-eed3-4590-81bc-e8a4f26bfef7",
   "metadata": {},
   "outputs": [],
   "source": [
    "#install.packages(\"MASS\") \n",
    "library(MASS) # carga MASS en la sección de trabajo\n",
    "# Ver ayuda de lda (quitar el comentario del siguiente comando\n",
    "#?lda\n",
    "#nótese que el libro es a su vez referencia de la función."
   ]
  },
  {
   "cell_type": "markdown",
   "id": "a9d982c4-55a1-48d8-b4a1-00ba03fc4146",
   "metadata": {},
   "source": [
    "Por otro lado  [Ihaka y Gentleman (1996) -PDF-](https://www.stat.auckland.ac.nz/~ihaka/downloads/R-paper.pdf) presentan *R* como un lenguaje de computador nuevo para el análisis estadístico, basado de *S* y *Scheme*. Le dan ese nombre por tener como predecesor a *S* y a la inicial de sus nombres (Ross y Robert} para destacar también su contribución.\n",
    "\n",
    "En todo caso esos dos grupos: el de Bell Laboratories y la Univesity de Auckland en Nueva Zelanda, se consideran los creadores y desarrolladores de R. Ross Ihaka, Robert Gentleman y John Chambers (creador de S en Bell Laboratories) forman parte del *core* de *R*, lo mismo que Brian Ripley (coautor del libro *MASS*):"
   ]
  },
  {
   "cell_type": "code",
   "execution_count": 2,
   "id": "a8ef4044-80fa-4e01-b4ba-9f30a9443278",
   "metadata": {},
   "outputs": [],
   "source": [
    "#contributors() #para verlos quite el primer comentario "
   ]
  },
  {
   "cell_type": "markdown",
   "id": "5f6d4a2e-94d8-48ae-83e7-52ce07dd0c03",
   "metadata": {},
   "source": [
    "## <span style=\"color:#4361EE\">Características generales del lenguaje R</span>"
   ]
  },
  {
   "cell_type": "markdown",
   "id": "eb9a70da-bfb8-42b6-b461-c52552c2ec78",
   "metadata": {},
   "source": [
    "En el artículo *Facets of R* [(Chambers 2009)](https://journal.r-project.org/archive/2009-1/RJournal_2009-1_Chambers.pdf) el autor presenta las características de R en 6 facetas que son también una cronología del desarrollo de R. Aquí se presenta un resumen:"
   ]
  },
  {
   "cell_type": "markdown",
   "id": "751a380e-bfb2-4f86-b8b5-6187d903b8ab",
   "metadata": {},
   "source": [
    "### **Una interfaz interactiva**\n",
    "\n",
    "**1.** Una interfaz de procedimientos computacionales de muchos tipos.\n",
    "\n",
    "**2.** Interactivo: se ejecuta en tiempo real.\n",
    "\n",
    "- Una mejor interfaz para los procedimientos computacionales nuevos para el análisis de datos científicos, por lo general implementados como subrutinas Fortran, luego también en C y otros lenguajes. Por ejemplo [*Linear Algebra PACKage LACPAC*](http://www.netlib.org/lapack/)\n",
    "- La investigación estadística de Bell Labs había recogido y escrito una variedad procedimientos en Fortran.\n",
    "- Se publicaban algoritmos para muchas de las técnicas computacionales esenciales.\n",
    "- Estos procedimientos fueron la esencia de los análisis de datos reales.\n",
    "- La interfaz tenía que ser interactiva.\n",
    "- Un lenguaje usado para que el analista de datos se pueda comunicar en tiempo real con el software."
   ]
  },
  {
   "cell_type": "markdown",
   "id": "7bcac932-9367-41ba-b1b6-58430f170b8c",
   "metadata": {
    "id": "uEboBJSD94iY"
   },
   "source": [
    "### **Funcional en su modelo de programación y orientado a objetos, \"todo es un objeto\"**\n",
    "\n",
    "**3.** Funcional en su modelo de programación.\n",
    "\n",
    "**4.** Orientado a objetos: todo es un objeto.\n",
    "\n",
    "- Los procedimientos son funciones.\n",
    "- La interfaz de procedimiento se define como funciones que proveen una interfaz para subrutinas en Fortran o C.\n",
    "- Se incluyen clases de objetos y métodos que hacen que las funciones específicas funcionen de acuerdo a las clases de sus argumentos. \n",
    "- Los objetos tienen un atributo que define su clase.\n",
    "- S4 provee definiciones formales de las clases.\n",
    "- Definiciones formales de métodos asociados con funciones genéricas."
   ]
  },
  {
   "cell_type": "markdown",
   "id": "7ca5857f-ea2d-4d3e-8ad5-5a6790d2e0d8",
   "metadata": {
    "id": "6LKwIi27FoMH"
   },
   "source": [
    "### **Modular, construido a partir de piezas estandarizadas**\n",
    "\n",
    "**5.** Modular: construido en piezas estandarizadas.\n",
    "\n",
    "**6.** Colaborativo: un esfuerzo mundial de código abierto. \n",
    "\n",
    " - Colaboración: un esfuerzo de código abierto en todo el mundo.\n",
    " - Funciones y paquetes.\n",
    " - Entorno (*environment*)\n",
    " - Funciones comparten ambiente, mecanismo *Namespace*.\n",
    " - Un paquete R es un módulo que combina funciones de R, su documentación y posiblemente datos y código en otros lenguajes.\n",
    " - R está disponible libremente como un sistema de código abierto: tanto el programa núcleo como la mayoría de los paquetes, que son el resultado de nuevas investigaciones estadísticas y sus aplicaciones. Actualmente (octubre de 2022) hay más de 18 mil paquetes en el CRAN de R.\n",
    " - Las herramientas para la administración de paquetes juegan un papel esencial de colaboración.\n",
    " - R generalmente es capaz de incorporar otros softwares de código abierto o relacionarse con ellos, por ejemplo:\n",
    "     - [LATEX](http://www.latex-project.org/)\n",
    "     - [xfig](http://www.xfig.org/)"
   ]
  },
  {
   "cell_type": "markdown",
   "id": "5b1e28b7-3c31-46ca-a1e8-783e3fe87479",
   "metadata": {
    "colab_type": "text",
    "id": "scclT03UHVrm"
   },
   "source": [
    "## <span style=\"color:#4361EE\">Instalar R</span>"
   ]
  },
  {
   "cell_type": "markdown",
   "id": "6ea902c1-9be4-4197-a64d-7a27946986e0",
   "metadata": {},
   "source": [
    "Desde el *[CRAN](https://cran.r-project.org/): The Comprehensive R Archive Network*. Ahí se archivan todas las versiones de R base, así como todos los paquetes para R que han pasado por un proceso de revisión riguroso, realizado por el *CRAN Team*, que se encarga de asegurar su correcto funcionamiento.\n",
    "\n",
    "El archivo instalador de R para Windows o Mac se baja y se ejecuta. Se recomienda dejar las opciones por defecto que propone el instalador. Al instalar R queda disponible en su interior toda su documentación principal. R se puede arrancar básicamente con 3 opciones:\n",
    "\n",
    "1. Desde la consola.\n",
    "2. Desde el RGui, una ayuda gráfica sencilla para ejecutar los procedimientos especiales.\n",
    "3. Desde in *IDE* como RStudio y Jupyter."
   ]
  },
  {
   "cell_type": "markdown",
   "id": "bd9248c6-4718-4036-94f4-828552291588",
   "metadata": {},
   "source": [
    "Desde un entorno Jupyter, como el de este cuaderno, los trozos de código son casi como los de la consola, lo que no funciona es la interacción. Para lograr que nuestro R local quede disponible en Jupyter, hay que ejecutar dos o tres instruciones, unas en la consola del sistema operativo y otras desde R local. Preguntar a los estudiantes auxiliares y ver con cuidado el siguiente apartado:\n"
   ]
  },
  {
   "cell_type": "markdown",
   "id": "eac25ba5-3b3e-48fa-b694-3cdfbce077e5",
   "metadata": {},
   "source": [
    "Abrir el terminal de Anaconda Prompt bajo la opción de ejecutar como administrador.Una vez abierto escriba lo siguiente:"
   ]
  },
  {
   "cell_type": "raw",
   "id": "dfb6cfdb-5b4e-4029-b87b-63e19a8b77ef",
   "metadata": {},
   "source": [
    "conda install -c anaconda jupyter_client"
   ]
  },
  {
   "cell_type": "markdown",
   "id": "35535616-531f-4bc5-8a91-3f458d5bbcda",
   "metadata": {},
   "source": [
    "Una vez instalado escriba **yes**\n"
   ]
  },
  {
   "cell_type": "markdown",
   "id": "8ac1304d-594c-416a-bbc0-9cff8ec21f4b",
   "metadata": {},
   "source": [
    "Debemos buscar la ubicación del ejecutable de R, por ejemplo: **C:\\Program Files\\R\\R-3.5.0\\bin**\n",
    "\n",
    "Cambiamos el directorio de trabajo de la ventana Anaconda Prompt con el comando: **cd C:\\Program Files\\R\\R-3.5.0\\bin**\n",
    "\n",
    "Luego corremos R: **R.exe**\n",
    "\n",
    "Esto inicia una sesión de R, desde donde ejecutaremos los siguientes comandos:"
   ]
  },
  {
   "cell_type": "raw",
   "id": "19b9e6ef-648a-4e13-9b9f-31b85ae27a20",
   "metadata": {},
   "source": [
    "install.packages(“devtools”)\n",
    "\n",
    "devtools::install_github(“IRkernel/IRkernel”)\n",
    "\n",
    "IRkernel::installspec()"
   ]
  },
  {
   "cell_type": "markdown",
   "id": "2afd9edf-612a-4f73-aaa4-db735aab6d89",
   "metadata": {},
   "source": [
    "Finalizamos escribiendo q() para cerrar la sesión de R y a la pregunta de si desea guardar la imagen de trabajo escribimos **yes** y cerramos el terminal. Una vez cerrado corremos el cuaderno en JupyterLab y seleccionamos el kernel correspondiente a R. Más detalles ([aquí](https://www.youtube.com/watch?v=_d6ZUwl20Js))"
   ]
  },
  {
   "cell_type": "markdown",
   "id": "86ab84f7-f929-44dd-aeba-28ab445413ca",
   "metadata": {},
   "source": [
    "**Lo que sigue trata de hacer un paralelo con lo visto en Python (cuadernos) y hace uso sobre todo del Manual de Introducción a R ([An Introduction to R](https://cran.r-project.org/doc/manuals/r-release/R-intro.html))**"
   ]
  },
  {
   "cell_type": "markdown",
   "id": "7d06a049-8d49-4e9e-b224-fa25e8a94f53",
   "metadata": {},
   "source": [
    "## <span style=\"color:#4361EE\">Hola Mundo</span>"
   ]
  },
  {
   "cell_type": "markdown",
   "id": "ca44b2d4-7acb-41ba-992b-28ee7a9b5f6a",
   "metadata": {
    "colab_type": "text",
    "id": "c3ntgbdgHbS-"
   },
   "source": [
    "El primer ejemplo clásico de programación es saludar, o sea, decirle al computador que muestre un saludo. Para esto, se usa la función de R llamada *cat()*. Para colocar un saludo (o un **texto cualquiera**), se debe colocar entre **comillas dobles o sencillas** dentro del comando *cat()*. Entonces, para que el computador muestre un saludo, por ejemplo **Hola, Mundo**, debemos escribir en ambiente de código como sigue:"
   ]
  },
  {
   "cell_type": "code",
   "execution_count": 3,
   "id": "ba901496-d741-49af-90ec-7a6572fd9f7d",
   "metadata": {},
   "outputs": [
    {
     "name": "stdout",
     "output_type": "stream",
     "text": [
      "Hola mundo"
     ]
    }
   ],
   "source": [
    "cat(\"Hola mundo\")"
   ]
  },
  {
   "cell_type": "code",
   "execution_count": 4,
   "id": "5a8fd241-5897-4e62-a1be-542acfdd9730",
   "metadata": {},
   "outputs": [
    {
     "name": "stdout",
     "output_type": "stream",
     "text": [
      "Hola\n",
      "Mundo"
     ]
    }
   ],
   "source": [
    "cat(\"Hola\\nMundo\")"
   ]
  },
  {
   "cell_type": "markdown",
   "id": "716f5120-0e2b-45c9-9564-8b6d77a1911c",
   "metadata": {},
   "source": [
    "### <span style=\"color:#4CC9F0\">Ejercicio</span>\n"
   ]
  },
  {
   "cell_type": "markdown",
   "id": "93a15df3-b4db-4b56-961d-f1553afaec4e",
   "metadata": {
    "colab_type": "text",
    "id": "gGbUqKOAJc_C"
   },
   "source": [
    "Escriba un código que le diga a R que devuelva el texto:\n",
    "*****\n",
    ">*Sólo sé ...*  \n",
    "*... que nada sé.*\n",
    " ***"
   ]
  },
  {
   "cell_type": "code",
   "execution_count": 5,
   "id": "f591142b-c616-4f13-8686-0b9e4baad064",
   "metadata": {
    "colab": {},
    "colab_type": "code",
    "id": "CVnwiYj8JZY-"
   },
   "outputs": [
    {
     "name": "stdout",
     "output_type": "stream",
     "text": [
      "Sólo sé ...\n",
      "...nada se"
     ]
    }
   ],
   "source": [
    "# Escriba el código aqui\n",
    "cat(\"Sólo sé ...\\n...nada se\")  "
   ]
  },
  {
   "cell_type": "markdown",
   "id": "09a68f52-9f76-4f48-ad24-31a5f1b4eb76",
   "metadata": {},
   "source": [
    "## <span style=\"color:#4361EE\">La consola de R es mi calculadora personal</span>"
   ]
  },
  {
   "cell_type": "markdown",
   "id": "01d5fbac-974c-41b0-8adf-9b89d5fb303b",
   "metadata": {},
   "source": [
    "Fui a la tienda. La siguiente es la revisión de mi tiquete (en miles de pesos): carne 20.5, leche 4.2, vino 54, queso 22.5. El total de la compra fue:"
   ]
  },
  {
   "cell_type": "code",
   "execution_count": 5,
   "id": "80fe41ea-4a38-4602-8371-86acda16f490",
   "metadata": {},
   "outputs": [
    {
     "data": {
      "text/html": [
       "101.2"
      ],
      "text/latex": [
       "101.2"
      ],
      "text/markdown": [
       "101.2"
      ],
      "text/plain": [
       "[1] 101.2"
      ]
     },
     "metadata": {},
     "output_type": "display_data"
    }
   ],
   "source": [
    "20.5+4.2+54+22.5"
   ]
  },
  {
   "cell_type": "markdown",
   "id": "fa17b017-810d-425e-b40f-cb67c942610c",
   "metadata": {},
   "source": [
    "* ¿Cuántos dólares puedo comprar con 10 millones de pesos a un cambio de 3950 pesos/dolar?"
   ]
  },
  {
   "cell_type": "markdown",
   "id": "e07d08c3-6cd2-49bb-a56d-03ed6c2c541b",
   "metadata": {},
   "source": [
    "* ¿Cuántos dólares puedo comprar con 10 millones de pesos a un cambio de 3950 pesos/dolar? (mis cálculos siguen siendo en miles de pesos)"
   ]
  },
  {
   "cell_type": "code",
   "execution_count": 7,
   "id": "649b3886-fa95-4bb1-960b-0bc9691a44d8",
   "metadata": {},
   "outputs": [
    {
     "data": {
      "text/html": [
       "2531.64556962025"
      ],
      "text/latex": [
       "2531.64556962025"
      ],
      "text/markdown": [
       "2531.64556962025"
      ],
      "text/plain": [
       "[1] 2531.646"
      ]
     },
     "metadata": {},
     "output_type": "display_data"
    }
   ],
   "source": [
    "10000/3.95"
   ]
  },
  {
   "cell_type": "markdown",
   "id": "19b56043-1ddb-4716-8c4d-bf58333947e5",
   "metadata": {},
   "source": [
    "* ¿Cuánto pesos debo adicionar para completar 2535 dolares?"
   ]
  },
  {
   "cell_type": "code",
   "execution_count": 6,
   "id": "73b9f5b9-fdb4-40f2-8870-1a0dd92531d6",
   "metadata": {},
   "outputs": [
    {
     "data": {
      "text/html": [
       "13.25"
      ],
      "text/latex": [
       "13.25"
      ],
      "text/markdown": [
       "13.25"
      ],
      "text/plain": [
       "[1] 13.25"
      ]
     },
     "metadata": {},
     "output_type": "display_data"
    }
   ],
   "source": [
    "2535*3.95-10000"
   ]
  },
  {
   "cell_type": "markdown",
   "id": "2d76da08-dec2-489a-a46b-345ebee64c9a",
   "metadata": {},
   "source": [
    "**Es decir $ 13250 pesos más.**"
   ]
  },
  {
   "cell_type": "markdown",
   "id": "b1d5b480-5462-4643-aec2-938a2575c115",
   "metadata": {},
   "source": [
    "##   <span style=\"color:#4361EE\">Variables en R</span>"
   ]
  },
  {
   "cell_type": "markdown",
   "id": "cccbb393-0717-40b3-ab73-71ff9108aae3",
   "metadata": {},
   "source": [
    "La estructura más pequeña de R es un vector donde una variable, en el sentido de Python, es un vector de una dimensión."
   ]
  },
  {
   "cell_type": "code",
   "execution_count": 9,
   "id": "e7f64025-ee79-4667-8f32-285142de99da",
   "metadata": {},
   "outputs": [
    {
     "name": "stdout",
     "output_type": "stream",
     "text": [
      "El valor de la variable x es 1\n",
      "El valor de la variable x es 2\n",
      "El valor de la variable x es 3"
     ]
    }
   ],
   "source": [
    "# Asignamos 1,2 o 3 a la variable x\n",
    "x = 1\n",
    "# Imprimimos por pantalla\n",
    "cat(\"El valor de la variable x es\", x)\n",
    "x <- 2\n",
    "cat(\"\\nEl valor de la variable x es\", x)\n",
    "3 -> x\n",
    "cat(\"\\nEl valor de la variable x es\", x)"
   ]
  },
  {
   "cell_type": "code",
   "execution_count": 10,
   "id": "213702b2-a353-445e-80d8-6372694f3e3a",
   "metadata": {},
   "outputs": [
    {
     "name": "stdout",
     "output_type": "stream",
     "text": [
      "El valor de la variable y es ¡Vamos a programar!"
     ]
    }
   ],
   "source": [
    "# Asignamos \"¡Vamos a programar!\" a la variable y\n",
    "y <- \"¡Vamos a programar!\"\n",
    "# Imprimimos por pantalla\n",
    "cat(\"El valor de la variable y es\", y)"
   ]
  },
  {
   "cell_type": "markdown",
   "id": "a92f015a-14bb-4fe2-af15-1bcdecd643d9",
   "metadata": {},
   "source": [
    "Para que un número sea entero se agrega L al final del número"
   ]
  },
  {
   "cell_type": "code",
   "execution_count": 11,
   "id": "e09b9644-3af9-46df-984f-9f297928938e",
   "metadata": {},
   "outputs": [
    {
     "name": "stdout",
     "output_type": "stream",
     "text": [
      "\n",
      "x es número un entero: 1234"
     ]
    },
    {
     "data": {
      "text/html": [
       "'integer'"
      ],
      "text/latex": [
       "'integer'"
      ],
      "text/markdown": [
       "'integer'"
      ],
      "text/plain": [
       "[1] \"integer\""
      ]
     },
     "metadata": {},
     "output_type": "display_data"
    },
    {
     "name": "stdout",
     "output_type": "stream",
     "text": [
      "\n",
      "x es ahora un número real: 5.6"
     ]
    },
    {
     "data": {
      "text/html": [
       "'numeric'"
      ],
      "text/latex": [
       "'numeric'"
      ],
      "text/markdown": [
       "'numeric'"
      ],
      "text/plain": [
       "[1] \"numeric\""
      ]
     },
     "metadata": {},
     "output_type": "display_data"
    },
    {
     "name": "stdout",
     "output_type": "stream",
     "text": [
      "\n",
      "En cambio ahora x es un string: 25 de mayo"
     ]
    },
    {
     "data": {
      "text/html": [
       "'character'"
      ],
      "text/latex": [
       "'character'"
      ],
      "text/markdown": [
       "'character'"
      ],
      "text/plain": [
       "[1] \"character\""
      ]
     },
     "metadata": {},
     "output_type": "display_data"
    }
   ],
   "source": [
    "x = 1234L\n",
    "cat('\\nx es número un entero:', x)\n",
    "class(x)\n",
    "x = 5.6\n",
    "cat('\\nx es ahora un número real:', x)\n",
    "class(x)\n",
    "x = '25 de mayo'\n",
    "cat('\\nEn cambio ahora x es un string:', x)\n",
    "class(x)"
   ]
  },
  {
   "cell_type": "markdown",
   "id": "64134940-c6ca-4a2a-bed1-ac376c25a7c7",
   "metadata": {},
   "source": [
    "##   <span style=\"color:#4361EE\">Asignación dinámica en R</span>"
   ]
  },
  {
   "cell_type": "markdown",
   "id": "38d411d9-93c5-4ea0-a3f9-056392493c7b",
   "metadata": {},
   "source": [
    "##   <span style=\"color:#4361EE\">Reglas para la creación de variables</span>"
   ]
  },
  {
   "cell_type": "markdown",
   "id": "62bd65a0-1fe8-4ac0-88c8-601e2556b523",
   "metadata": {},
   "source": [
    "* El nombre de una variable **debe comenzar** con una letra.\n",
    "* El nombre de una variable **no puede comenzar** con un número.\n",
    "* El nombre de una variable tiene **sensibilidad** a **mayúsculas** y **minúsculas** (x es diferente de X).\n",
    "* El nombre de una variable puede tener números, puntos, _ (raya al piso)."
   ]
  },
  {
   "cell_type": "markdown",
   "id": "37a3581c-bbfc-4174-8909-d6ce9ebc4aaa",
   "metadata": {},
   "source": [
    "### <span style=\"color:#4CC9F0\">Ejercicio</span>"
   ]
  },
  {
   "cell_type": "markdown",
   "id": "2079b41b-fa3f-424e-b77c-b19ccef24e37",
   "metadata": {},
   "source": [
    "Escriba un código que le diga a R que devuelva el texto: **Tengo `my.age` años**, donde `my_age` es una variable que tenga asignada su edad."
   ]
  },
  {
   "cell_type": "code",
   "execution_count": 12,
   "id": "1f39d05e-768c-47ad-b3a4-c3eb19bdb74a",
   "metadata": {},
   "outputs": [],
   "source": [
    "# Escriba aquí\n"
   ]
  },
  {
   "cell_type": "markdown",
   "id": "635303b4-b892-44c6-af14-df9143107df3",
   "metadata": {},
   "source": [
    "##   <span style=\"color:#4361EE\">Manual de introducción a R</span>"
   ]
  },
  {
   "cell_type": "markdown",
   "id": "35a39b35-4a99-422f-b4d8-4d68cdb3f4a9",
   "metadata": {},
   "source": [
    "Al instalar R quedan  disponibles varios documentos en el computador. Uno de ellos es el \n",
    "Manual de introducción a R ([An Introduction to R](https://cran.r-project.org/doc/manuals/r-release/R-intro.html)). \n",
    "Para avanzar en R se recomienda leerlo detalladamente ejecutando los comandos escribiéndolos desde la consola. Al documentar en Jupyter cada trozo de código es una entrada a la consola de R. En esta introducción a R se toman algunos apartes del manual, tratando de hacer un paralelo de lo que ya se ha visto en Python."
   ]
  },
  {
   "cell_type": "markdown",
   "id": "b720a847-e9de-4057-8e06-2ce1f1fa53e5",
   "metadata": {},
   "source": [
    "##   <span style=\"color:#4361EE\">Estructuras de datos en R</span>\n",
    "[Vectores](https://cran.r-project.org/doc/manuals/r-release/R-intro.html#Vectors-and-assignment)"
   ]
  },
  {
   "cell_type": "markdown",
   "id": "e3d818fb-0e3a-4b87-bab8-7f48bb48ebe1",
   "metadata": {},
   "source": [
    "La estructura más simple en R es un vector, particularmente un vector número. En ese sentido un escalar  (número real) es un vector de una demensión."
   ]
  },
  {
   "cell_type": "markdown",
   "id": "6a44098c-fcb6-41a4-9d76-41bb7e5de225",
   "metadata": {},
   "source": [
    "###   <span style=\"color:#4361EE\">Vectores numéricos y asignación</span>\n",
    "\n",
    "Ver la sección [Vectores](https://cran.r-project.org/doc/manuals/r-release/R-intro.html#Vectors-and-assignment) del manual *Introduction to R*."
   ]
  },
  {
   "cell_type": "markdown",
   "id": "29897f57-d83c-4467-8143-5b91c7af341b",
   "metadata": {},
   "source": [
    "Vector **x**$=(10.4, 5.6, 3.1, 6.4, 21.7)$"
   ]
  },
  {
   "cell_type": "code",
   "execution_count": 17,
   "id": "9587b966-2f20-4209-9a52-dee774e2ba37",
   "metadata": {},
   "outputs": [
    {
     "name": "stdout",
     "output_type": "stream",
     "text": [
      "Vector x = [ 10.4 5.6 3.1 6.4 21.7 ]\n",
      "Vector x = [ 10.4 5.6 3.1 6.4 21.7 ]\n"
     ]
    }
   ],
   "source": [
    "x <- c(10.4, 5.6, 3.1, 6.4, 21.7)\n",
    "cat(\"Vector x = [\",x,\"]\\n\")\n",
    "assign(\"x\", c(10.4, 5.6, 3.1, 6.4, 21.7))\n",
    "cat(\"Vector x = [\",x,\"]\\n\")\n"
   ]
  },
  {
   "cell_type": "markdown",
   "id": "3053b22d-f50a-481e-872f-945a7c717fad",
   "metadata": {},
   "source": [
    "De ahora en adelante utilizaremos preferiblemente el signo igual (=) para asignar valores a variables, aunque esta no la única manera de \n",
    "hacerlo."
   ]
  },
  {
   "cell_type": "markdown",
   "id": "04241296-1c0f-44af-ab60-dd69d3499954",
   "metadata": {},
   "source": [
    "####   <span style=\"color:#4361EE\">Aritmética de vectores numéricos</span>"
   ]
  },
  {
   "cell_type": "markdown",
   "id": "7be73540-1796-4b5c-b423-868f6a2c24fd",
   "metadata": {},
   "source": [
    "Cada una de las operaciones se realizan elemento por elemento. Los vectores en cada expresión no necestian ser de la misma longitud, pero hay que tener\n",
    "cuidado cuando no lo son. El resultado es de longitud del más largo y los más cortos se repiten total o parcialmente hasta completar el mayor. \n",
    "Si uno de los operadores es un número este se repite tantas veces como los elementos del más largo.\n",
    "\n",
    "El orden de prioridad de las operaciones es la misma de Python."
   ]
  },
  {
   "cell_type": "code",
   "execution_count": 18,
   "id": "b7c77706-6abc-42bc-bfbe-c94d8eef616d",
   "metadata": {},
   "outputs": [],
   "source": [
    "y = c(x, 0, x)"
   ]
  },
  {
   "cell_type": "code",
   "execution_count": 19,
   "id": "c9d02c88-69d5-4e0d-bbc7-78ff1e275cd1",
   "metadata": {},
   "outputs": [
    {
     "name": "stderr",
     "output_type": "stream",
     "text": [
      "Warning message in 2 * x + y:\n",
      "\"longitud de objeto mayor no es múltiplo de la longitud de uno menor\"\n"
     ]
    }
   ],
   "source": [
    " v <- 2*x + y + 1"
   ]
  },
  {
   "cell_type": "code",
   "execution_count": 20,
   "id": "56bda3ae-269b-40e1-a4f5-60ad3094d9d6",
   "metadata": {},
   "outputs": [
    {
     "name": "stdout",
     "output_type": "stream",
     "text": [
      "Vector x = [ 10.4 5.6 3.1 6.4 21.7 ]\n",
      "Vector y = [ 10.4 5.6 3.1 6.4 21.7 0 10.4 5.6 3.1 6.4 21.7 ]\n",
      "Vector v = [ 32.2 17.8 10.3 20.2 66.1 21.8 22.6 12.8 16.9 50.8 43.5 ]\n"
     ]
    }
   ],
   "source": [
    "cat(\"Vector x = [\",x,\"]\\n\")\n",
    "cat(\"Vector y = [\",y,\"]\\n\")\n",
    "cat(\"Vector v = [\",v,\"]\\n\")\n"
   ]
  },
  {
   "cell_type": "code",
   "execution_count": 17,
   "id": "e7f06d29-7cc0-42f5-8cb1-778d64fd7bc4",
   "metadata": {},
   "outputs": [
    {
     "name": "stdout",
     "output_type": "stream",
     "text": [
      "Longitud de x = 5 \n",
      "Longitud de y = 11 \n",
      "Longitud de v = 11 \n"
     ]
    }
   ],
   "source": [
    "cat(\"Longitud de x =\",length(x),\"\\n\")\n",
    "cat(\"Longitud de y =\",length(y),\"\\n\")\n",
    "cat(\"Longitud de v =\",length(v),\"\\n\")"
   ]
  },
  {
   "cell_type": "markdown",
   "id": "89936500-5095-4653-b69c-ac4ad82a4aa8",
   "metadata": {},
   "source": [
    "Nótese que v[11] es igual a:"
   ]
  },
  {
   "cell_type": "code",
   "execution_count": 21,
   "id": "c3a8ac18-95de-4b1c-8edb-958bf1c2f4a1",
   "metadata": {},
   "outputs": [
    {
     "data": {
      "text/html": [
       "43.5"
      ],
      "text/latex": [
       "43.5"
      ],
      "text/markdown": [
       "43.5"
      ],
      "text/plain": [
       "[1] 43.5"
      ]
     },
     "metadata": {},
     "output_type": "display_data"
    }
   ],
   "source": [
    "2*10.4 + 21.7 + 1"
   ]
  },
  {
   "cell_type": "markdown",
   "id": "bb9d09c6-27b3-4e43-9a3e-ddbf78a26948",
   "metadata": {},
   "source": [
    "La advertencia es para corroborar si esa es la operación que queremos."
   ]
  },
  {
   "cell_type": "markdown",
   "id": "6bac6fea-e9da-464c-84ae-f066a51e36a4",
   "metadata": {},
   "source": [
    "####   <span style=\"color:#4361EE\">Generación de secuencias regulares</span>"
   ]
  },
  {
   "cell_type": "code",
   "execution_count": 22,
   "id": "13d7de13-43e3-4319-bbd2-1bbf63c0c217",
   "metadata": {},
   "outputs": [
    {
     "name": "stdout",
     "output_type": "stream",
     "text": [
      "Valores desde -5 hasta 5, con incrementos de .2\n"
     ]
    },
    {
     "data": {
      "text/html": [
       "<style>\n",
       ".list-inline {list-style: none; margin:0; padding: 0}\n",
       ".list-inline>li {display: inline-block}\n",
       ".list-inline>li:not(:last-child)::after {content: \"\\00b7\"; padding: 0 .5ex}\n",
       "</style>\n",
       "<ol class=list-inline><li>-5</li><li>-4.8</li><li>-4.6</li><li>-4.4</li><li>-4.2</li><li>-4</li><li>-3.8</li><li>-3.6</li><li>-3.4</li><li>-3.2</li><li>-3</li><li>-2.8</li><li>-2.6</li><li>-2.4</li><li>-2.2</li><li>-2</li><li>-1.8</li><li>-1.6</li><li>-1.4</li><li>-1.2</li><li>-1</li><li>-0.8</li><li>-0.6</li><li>-0.399999999999999</li><li>-0.199999999999999</li><li>0</li><li>0.2</li><li>0.4</li><li>0.600000000000001</li><li>0.800000000000001</li><li>1</li><li>1.2</li><li>1.4</li><li>1.6</li><li>1.8</li><li>2</li><li>2.2</li><li>2.4</li><li>2.6</li><li>2.8</li><li>3</li><li>3.2</li><li>3.4</li><li>3.6</li><li>3.8</li><li>4</li><li>4.2</li><li>4.4</li><li>4.6</li><li>4.8</li><li>5</li></ol>\n"
      ],
      "text/latex": [
       "\\begin{enumerate*}\n",
       "\\item -5\n",
       "\\item -4.8\n",
       "\\item -4.6\n",
       "\\item -4.4\n",
       "\\item -4.2\n",
       "\\item -4\n",
       "\\item -3.8\n",
       "\\item -3.6\n",
       "\\item -3.4\n",
       "\\item -3.2\n",
       "\\item -3\n",
       "\\item -2.8\n",
       "\\item -2.6\n",
       "\\item -2.4\n",
       "\\item -2.2\n",
       "\\item -2\n",
       "\\item -1.8\n",
       "\\item -1.6\n",
       "\\item -1.4\n",
       "\\item -1.2\n",
       "\\item -1\n",
       "\\item -0.8\n",
       "\\item -0.6\n",
       "\\item -0.399999999999999\n",
       "\\item -0.199999999999999\n",
       "\\item 0\n",
       "\\item 0.2\n",
       "\\item 0.4\n",
       "\\item 0.600000000000001\n",
       "\\item 0.800000000000001\n",
       "\\item 1\n",
       "\\item 1.2\n",
       "\\item 1.4\n",
       "\\item 1.6\n",
       "\\item 1.8\n",
       "\\item 2\n",
       "\\item 2.2\n",
       "\\item 2.4\n",
       "\\item 2.6\n",
       "\\item 2.8\n",
       "\\item 3\n",
       "\\item 3.2\n",
       "\\item 3.4\n",
       "\\item 3.6\n",
       "\\item 3.8\n",
       "\\item 4\n",
       "\\item 4.2\n",
       "\\item 4.4\n",
       "\\item 4.6\n",
       "\\item 4.8\n",
       "\\item 5\n",
       "\\end{enumerate*}\n"
      ],
      "text/markdown": [
       "1. -5\n",
       "2. -4.8\n",
       "3. -4.6\n",
       "4. -4.4\n",
       "5. -4.2\n",
       "6. -4\n",
       "7. -3.8\n",
       "8. -3.6\n",
       "9. -3.4\n",
       "10. -3.2\n",
       "11. -3\n",
       "12. -2.8\n",
       "13. -2.6\n",
       "14. -2.4\n",
       "15. -2.2\n",
       "16. -2\n",
       "17. -1.8\n",
       "18. -1.6\n",
       "19. -1.4\n",
       "20. -1.2\n",
       "21. -1\n",
       "22. -0.8\n",
       "23. -0.6\n",
       "24. -0.399999999999999\n",
       "25. -0.199999999999999\n",
       "26. 0\n",
       "27. 0.2\n",
       "28. 0.4\n",
       "29. 0.600000000000001\n",
       "30. 0.800000000000001\n",
       "31. 1\n",
       "32. 1.2\n",
       "33. 1.4\n",
       "34. 1.6\n",
       "35. 1.8\n",
       "36. 2\n",
       "37. 2.2\n",
       "38. 2.4\n",
       "39. 2.6\n",
       "40. 2.8\n",
       "41. 3\n",
       "42. 3.2\n",
       "43. 3.4\n",
       "44. 3.6\n",
       "45. 3.8\n",
       "46. 4\n",
       "47. 4.2\n",
       "48. 4.4\n",
       "49. 4.6\n",
       "50. 4.8\n",
       "51. 5\n",
       "\n",
       "\n"
      ],
      "text/plain": [
       " [1] -5.0 -4.8 -4.6 -4.4 -4.2 -4.0 -3.8 -3.6 -3.4 -3.2 -3.0 -2.8 -2.6 -2.4 -2.2\n",
       "[16] -2.0 -1.8 -1.6 -1.4 -1.2 -1.0 -0.8 -0.6 -0.4 -0.2  0.0  0.2  0.4  0.6  0.8\n",
       "[31]  1.0  1.2  1.4  1.6  1.8  2.0  2.2  2.4  2.6  2.8  3.0  3.2  3.4  3.6  3.8\n",
       "[46]  4.0  4.2  4.4  4.6  4.8  5.0"
      ]
     },
     "metadata": {},
     "output_type": "display_data"
    },
    {
     "name": "stdout",
     "output_type": "stream",
     "text": [
      "Longitud de s3 = 51"
     ]
    }
   ],
   "source": [
    "seq(-5, 5, by=.2) -> s3\n",
    "cat(\"Valores desde -5 hasta 5, con incrementos de .2\\n\")\n",
    "s3  \n",
    "cat(\"Longitud de s3 =\",length(s3))"
   ]
  },
  {
   "cell_type": "code",
   "execution_count": 20,
   "id": "f0f25d66-7d9a-4ba1-90cc-940f88f28c35",
   "metadata": {},
   "outputs": [
    {
     "data": {
      "text/html": [
       "<style>\n",
       ".list-inline {list-style: none; margin:0; padding: 0}\n",
       ".list-inline>li {display: inline-block}\n",
       ".list-inline>li:not(:last-child)::after {content: \"\\00b7\"; padding: 0 .5ex}\n",
       "</style>\n",
       "<ol class=list-inline><li>-5</li><li>-4.8</li><li>-4.6</li><li>-4.4</li><li>-4.2</li><li>-4</li><li>-3.8</li><li>-3.6</li><li>-3.4</li><li>-3.2</li><li>-3</li><li>-2.8</li><li>-2.6</li><li>-2.4</li><li>-2.2</li><li>-2</li><li>-1.8</li><li>-1.6</li><li>-1.4</li><li>-1.2</li><li>-1</li><li>-0.8</li><li>-0.6</li><li>-0.399999999999999</li><li>-0.199999999999999</li><li>0</li><li>0.2</li><li>0.4</li><li>0.6</li><li>0.800000000000001</li><li>1</li><li>1.2</li><li>1.4</li><li>1.6</li><li>1.8</li><li>2</li><li>2.2</li><li>2.4</li><li>2.6</li><li>2.8</li><li>3</li><li>3.2</li><li>3.4</li><li>3.6</li><li>3.8</li><li>4</li><li>4.2</li><li>4.4</li><li>4.6</li><li>4.8</li><li>5</li></ol>\n"
      ],
      "text/latex": [
       "\\begin{enumerate*}\n",
       "\\item -5\n",
       "\\item -4.8\n",
       "\\item -4.6\n",
       "\\item -4.4\n",
       "\\item -4.2\n",
       "\\item -4\n",
       "\\item -3.8\n",
       "\\item -3.6\n",
       "\\item -3.4\n",
       "\\item -3.2\n",
       "\\item -3\n",
       "\\item -2.8\n",
       "\\item -2.6\n",
       "\\item -2.4\n",
       "\\item -2.2\n",
       "\\item -2\n",
       "\\item -1.8\n",
       "\\item -1.6\n",
       "\\item -1.4\n",
       "\\item -1.2\n",
       "\\item -1\n",
       "\\item -0.8\n",
       "\\item -0.6\n",
       "\\item -0.399999999999999\n",
       "\\item -0.199999999999999\n",
       "\\item 0\n",
       "\\item 0.2\n",
       "\\item 0.4\n",
       "\\item 0.6\n",
       "\\item 0.800000000000001\n",
       "\\item 1\n",
       "\\item 1.2\n",
       "\\item 1.4\n",
       "\\item 1.6\n",
       "\\item 1.8\n",
       "\\item 2\n",
       "\\item 2.2\n",
       "\\item 2.4\n",
       "\\item 2.6\n",
       "\\item 2.8\n",
       "\\item 3\n",
       "\\item 3.2\n",
       "\\item 3.4\n",
       "\\item 3.6\n",
       "\\item 3.8\n",
       "\\item 4\n",
       "\\item 4.2\n",
       "\\item 4.4\n",
       "\\item 4.6\n",
       "\\item 4.8\n",
       "\\item 5\n",
       "\\end{enumerate*}\n"
      ],
      "text/markdown": [
       "1. -5\n",
       "2. -4.8\n",
       "3. -4.6\n",
       "4. -4.4\n",
       "5. -4.2\n",
       "6. -4\n",
       "7. -3.8\n",
       "8. -3.6\n",
       "9. -3.4\n",
       "10. -3.2\n",
       "11. -3\n",
       "12. -2.8\n",
       "13. -2.6\n",
       "14. -2.4\n",
       "15. -2.2\n",
       "16. -2\n",
       "17. -1.8\n",
       "18. -1.6\n",
       "19. -1.4\n",
       "20. -1.2\n",
       "21. -1\n",
       "22. -0.8\n",
       "23. -0.6\n",
       "24. -0.399999999999999\n",
       "25. -0.199999999999999\n",
       "26. 0\n",
       "27. 0.2\n",
       "28. 0.4\n",
       "29. 0.6\n",
       "30. 0.800000000000001\n",
       "31. 1\n",
       "32. 1.2\n",
       "33. 1.4\n",
       "34. 1.6\n",
       "35. 1.8\n",
       "36. 2\n",
       "37. 2.2\n",
       "38. 2.4\n",
       "39. 2.6\n",
       "40. 2.8\n",
       "41. 3\n",
       "42. 3.2\n",
       "43. 3.4\n",
       "44. 3.6\n",
       "45. 3.8\n",
       "46. 4\n",
       "47. 4.2\n",
       "48. 4.4\n",
       "49. 4.6\n",
       "50. 4.8\n",
       "51. 5\n",
       "\n",
       "\n"
      ],
      "text/plain": [
       " [1] -5.0 -4.8 -4.6 -4.4 -4.2 -4.0 -3.8 -3.6 -3.4 -3.2 -3.0 -2.8 -2.6 -2.4 -2.2\n",
       "[16] -2.0 -1.8 -1.6 -1.4 -1.2 -1.0 -0.8 -0.6 -0.4 -0.2  0.0  0.2  0.4  0.6  0.8\n",
       "[31]  1.0  1.2  1.4  1.6  1.8  2.0  2.2  2.4  2.6  2.8  3.0  3.2  3.4  3.6  3.8\n",
       "[46]  4.0  4.2  4.4  4.6  4.8  5.0"
      ]
     },
     "metadata": {},
     "output_type": "display_data"
    }
   ],
   "source": [
    "# La misma asignación\n",
    "s4 = seq(length=51, from=-5, by=.2)\n",
    "s4"
   ]
  },
  {
   "cell_type": "markdown",
   "id": "7c01f0b0-c0bc-45c6-bff0-23930fdb0605",
   "metadata": {},
   "source": [
    "**Otras maneras de asignar secuencias**"
   ]
  },
  {
   "cell_type": "markdown",
   "id": "ed5f96b9-4005-41b8-88ed-d81fac108e79",
   "metadata": {},
   "source": [
    "Repetir 5 veces el vector x:"
   ]
  },
  {
   "cell_type": "code",
   "execution_count": 23,
   "id": "692b8b55-7b1d-4b28-b40f-35cf77bf5a10",
   "metadata": {},
   "outputs": [
    {
     "data": {
      "text/html": [
       "<style>\n",
       ".list-inline {list-style: none; margin:0; padding: 0}\n",
       ".list-inline>li {display: inline-block}\n",
       ".list-inline>li:not(:last-child)::after {content: \"\\00b7\"; padding: 0 .5ex}\n",
       "</style>\n",
       "<ol class=list-inline><li>10.4</li><li>5.6</li><li>3.1</li><li>6.4</li><li>21.7</li></ol>\n"
      ],
      "text/latex": [
       "\\begin{enumerate*}\n",
       "\\item 10.4\n",
       "\\item 5.6\n",
       "\\item 3.1\n",
       "\\item 6.4\n",
       "\\item 21.7\n",
       "\\end{enumerate*}\n"
      ],
      "text/markdown": [
       "1. 10.4\n",
       "2. 5.6\n",
       "3. 3.1\n",
       "4. 6.4\n",
       "5. 21.7\n",
       "\n",
       "\n"
      ],
      "text/plain": [
       "[1] 10.4  5.6  3.1  6.4 21.7"
      ]
     },
     "metadata": {},
     "output_type": "display_data"
    },
    {
     "data": {
      "text/html": [
       "<style>\n",
       ".list-inline {list-style: none; margin:0; padding: 0}\n",
       ".list-inline>li {display: inline-block}\n",
       ".list-inline>li:not(:last-child)::after {content: \"\\00b7\"; padding: 0 .5ex}\n",
       "</style>\n",
       "<ol class=list-inline><li>10.4</li><li>5.6</li><li>3.1</li><li>6.4</li><li>21.7</li><li>10.4</li><li>5.6</li><li>3.1</li><li>6.4</li><li>21.7</li><li>10.4</li><li>5.6</li><li>3.1</li><li>6.4</li><li>21.7</li><li>10.4</li><li>5.6</li><li>3.1</li><li>6.4</li><li>21.7</li><li>10.4</li><li>5.6</li><li>3.1</li><li>6.4</li><li>21.7</li></ol>\n"
      ],
      "text/latex": [
       "\\begin{enumerate*}\n",
       "\\item 10.4\n",
       "\\item 5.6\n",
       "\\item 3.1\n",
       "\\item 6.4\n",
       "\\item 21.7\n",
       "\\item 10.4\n",
       "\\item 5.6\n",
       "\\item 3.1\n",
       "\\item 6.4\n",
       "\\item 21.7\n",
       "\\item 10.4\n",
       "\\item 5.6\n",
       "\\item 3.1\n",
       "\\item 6.4\n",
       "\\item 21.7\n",
       "\\item 10.4\n",
       "\\item 5.6\n",
       "\\item 3.1\n",
       "\\item 6.4\n",
       "\\item 21.7\n",
       "\\item 10.4\n",
       "\\item 5.6\n",
       "\\item 3.1\n",
       "\\item 6.4\n",
       "\\item 21.7\n",
       "\\end{enumerate*}\n"
      ],
      "text/markdown": [
       "1. 10.4\n",
       "2. 5.6\n",
       "3. 3.1\n",
       "4. 6.4\n",
       "5. 21.7\n",
       "6. 10.4\n",
       "7. 5.6\n",
       "8. 3.1\n",
       "9. 6.4\n",
       "10. 21.7\n",
       "11. 10.4\n",
       "12. 5.6\n",
       "13. 3.1\n",
       "14. 6.4\n",
       "15. 21.7\n",
       "16. 10.4\n",
       "17. 5.6\n",
       "18. 3.1\n",
       "19. 6.4\n",
       "20. 21.7\n",
       "21. 10.4\n",
       "22. 5.6\n",
       "23. 3.1\n",
       "24. 6.4\n",
       "25. 21.7\n",
       "\n",
       "\n"
      ],
      "text/plain": [
       " [1] 10.4  5.6  3.1  6.4 21.7 10.4  5.6  3.1  6.4 21.7 10.4  5.6  3.1  6.4 21.7\n",
       "[16] 10.4  5.6  3.1  6.4 21.7 10.4  5.6  3.1  6.4 21.7"
      ]
     },
     "metadata": {},
     "output_type": "display_data"
    }
   ],
   "source": [
    "s5 <- rep(x, times=5)\n",
    "x\n",
    "s5"
   ]
  },
  {
   "cell_type": "markdown",
   "id": "3dfd7450-3012-47a5-8722-81057dba3221",
   "metadata": {},
   "source": [
    "Repetir 5 veces cada elemento del vector x:"
   ]
  },
  {
   "cell_type": "code",
   "execution_count": 24,
   "id": "7ce06c1e-0215-4e9e-b03d-da7ea23e8849",
   "metadata": {},
   "outputs": [
    {
     "data": {
      "text/html": [
       "<style>\n",
       ".list-inline {list-style: none; margin:0; padding: 0}\n",
       ".list-inline>li {display: inline-block}\n",
       ".list-inline>li:not(:last-child)::after {content: \"\\00b7\"; padding: 0 .5ex}\n",
       "</style>\n",
       "<ol class=list-inline><li>10.4</li><li>10.4</li><li>10.4</li><li>10.4</li><li>10.4</li><li>5.6</li><li>5.6</li><li>5.6</li><li>5.6</li><li>5.6</li><li>3.1</li><li>3.1</li><li>3.1</li><li>3.1</li><li>3.1</li><li>6.4</li><li>6.4</li><li>6.4</li><li>6.4</li><li>6.4</li><li>21.7</li><li>21.7</li><li>21.7</li><li>21.7</li><li>21.7</li></ol>\n"
      ],
      "text/latex": [
       "\\begin{enumerate*}\n",
       "\\item 10.4\n",
       "\\item 10.4\n",
       "\\item 10.4\n",
       "\\item 10.4\n",
       "\\item 10.4\n",
       "\\item 5.6\n",
       "\\item 5.6\n",
       "\\item 5.6\n",
       "\\item 5.6\n",
       "\\item 5.6\n",
       "\\item 3.1\n",
       "\\item 3.1\n",
       "\\item 3.1\n",
       "\\item 3.1\n",
       "\\item 3.1\n",
       "\\item 6.4\n",
       "\\item 6.4\n",
       "\\item 6.4\n",
       "\\item 6.4\n",
       "\\item 6.4\n",
       "\\item 21.7\n",
       "\\item 21.7\n",
       "\\item 21.7\n",
       "\\item 21.7\n",
       "\\item 21.7\n",
       "\\end{enumerate*}\n"
      ],
      "text/markdown": [
       "1. 10.4\n",
       "2. 10.4\n",
       "3. 10.4\n",
       "4. 10.4\n",
       "5. 10.4\n",
       "6. 5.6\n",
       "7. 5.6\n",
       "8. 5.6\n",
       "9. 5.6\n",
       "10. 5.6\n",
       "11. 3.1\n",
       "12. 3.1\n",
       "13. 3.1\n",
       "14. 3.1\n",
       "15. 3.1\n",
       "16. 6.4\n",
       "17. 6.4\n",
       "18. 6.4\n",
       "19. 6.4\n",
       "20. 6.4\n",
       "21. 21.7\n",
       "22. 21.7\n",
       "23. 21.7\n",
       "24. 21.7\n",
       "25. 21.7\n",
       "\n",
       "\n"
      ],
      "text/plain": [
       " [1] 10.4 10.4 10.4 10.4 10.4  5.6  5.6  5.6  5.6  5.6  3.1  3.1  3.1  3.1  3.1\n",
       "[16]  6.4  6.4  6.4  6.4  6.4 21.7 21.7 21.7 21.7 21.7"
      ]
     },
     "metadata": {},
     "output_type": "display_data"
    }
   ],
   "source": [
    "s6 = rep(x, each=5)\n",
    "s6"
   ]
  },
  {
   "cell_type": "markdown",
   "id": "173265d9-29d9-4e13-b34d-4a7247de6698",
   "metadata": {},
   "source": [
    "###   <span style=\"color:#4361EE\">Números complejos</span>"
   ]
  },
  {
   "cell_type": "code",
   "execution_count": 25,
   "id": "32144786-19d8-45d8-b120-af1d9e5c248a",
   "metadata": {},
   "outputs": [
    {
     "name": "stdout",
     "output_type": "stream",
     "text": [
      "3.4+4i"
     ]
    },
    {
     "data": {
      "text/html": [
       "'complex'"
      ],
      "text/latex": [
       "'complex'"
      ],
      "text/markdown": [
       "'complex'"
      ],
      "text/plain": [
       "[1] \"complex\""
      ]
     },
     "metadata": {},
     "output_type": "display_data"
    }
   ],
   "source": [
    "z = 3.4 + 4i\n",
    "cat(z)\n",
    "class(z)"
   ]
  },
  {
   "cell_type": "markdown",
   "id": "8c1f02a7-1174-4442-9928-e8d457a22091",
   "metadata": {},
   "source": [
    "$\\sqrt{-5}$ produce error (NaN) pero $\\sqrt{-5+0i}$ da un número complejo"
   ]
  },
  {
   "cell_type": "code",
   "execution_count": 26,
   "id": "2bc20ea5-55d3-4754-9f78-3c2f79bc476d",
   "metadata": {},
   "outputs": [
    {
     "name": "stderr",
     "output_type": "stream",
     "text": [
      "Warning message in sqrt(-5):\n",
      "\"Se han producido NaNs\"\n"
     ]
    },
    {
     "data": {
      "text/html": [
       "NaN"
      ],
      "text/latex": [
       "NaN"
      ],
      "text/markdown": [
       "NaN"
      ],
      "text/plain": [
       "[1] NaN"
      ]
     },
     "metadata": {},
     "output_type": "display_data"
    },
    {
     "data": {
      "text/html": [
       "0+2.23606797749979i"
      ],
      "text/latex": [
       "0+2.23606797749979i"
      ],
      "text/markdown": [
       "0+2.23606797749979i"
      ],
      "text/plain": [
       "[1] 0+2.236068i"
      ]
     },
     "metadata": {},
     "output_type": "display_data"
    }
   ],
   "source": [
    "sqrt(-5)\n",
    "sqrt(-5+0i)"
   ]
  },
  {
   "cell_type": "code",
   "execution_count": 27,
   "id": "c85af184-1d86-4649-8f78-7fc33813ba23",
   "metadata": {},
   "outputs": [
    {
     "name": "stdout",
     "output_type": "stream",
     "text": [
      "[1] 3+2i\n"
     ]
    }
   ],
   "source": [
    "res = 3+(-4+0i)**(1/2) \n",
    "print(res)"
   ]
  },
  {
   "cell_type": "markdown",
   "id": "e1f7bd80-aa12-4500-bf37-259f55bff9cd",
   "metadata": {
    "colab_type": "text",
    "id": "Tjq46qsVQ1F9"
   },
   "source": [
    "#### <span style=\"color:#4361EE\">Operadores aritméticos y redondeo</span>"
   ]
  },
  {
   "cell_type": "markdown",
   "id": "24556993-fc4a-4852-bf55-062e455cbe9b",
   "metadata": {
    "colab_type": "text",
    "id": "GPiu4RLJUzVj"
   },
   "source": [
    "Mediante el uso de operadores podemos utilizar Python para hacer cálculos que haríamos con una calculadora. Por ejemplo, podemos ejecutar operaciones muy sencillas teniendo en cuenta la siguiente tabla:\n",
    "\n",
    "| **Operador** | **Descripción** |\n",
    "| :---: | :---: |\n",
    "|`+`|Suma|\n",
    "|`-`|Resta|\n",
    "|`*`|Multiplicación|\n",
    "|`/`|División|\n",
    "|`^`|Potencia|\n",
    "|`%%`|Módulo (residuo)|\n",
    "|`%/%`|División entera (cociente)|\n"
   ]
  },
  {
   "cell_type": "code",
   "execution_count": 28,
   "id": "62584cf2-5962-4850-84a7-d7dcd1594537",
   "metadata": {
    "colab": {},
    "colab_type": "code",
    "id": "VYj4u-axUzV5"
   },
   "outputs": [
    {
     "name": "stdout",
     "output_type": "stream",
     "text": [
      "6"
     ]
    }
   ],
   "source": [
    "cociente = 20 %/% 3\n",
    "cat(cociente)"
   ]
  },
  {
   "cell_type": "code",
   "execution_count": 29,
   "id": "47928741-b0eb-4b75-a522-e4e93f8c305d",
   "metadata": {
    "colab": {},
    "colab_type": "code",
    "id": "Rg9EebXCUzV7"
   },
   "outputs": [
    {
     "name": "stdout",
     "output_type": "stream",
     "text": [
      "2"
     ]
    }
   ],
   "source": [
    "residuo = 20 %% 3\n",
    "cat(residuo)"
   ]
  },
  {
   "cell_type": "markdown",
   "id": "d6f5c5fd-c29c-4ded-8b58-f0794eb45c33",
   "metadata": {},
   "source": [
    "La función *round()* permite redondear números reales:"
   ]
  },
  {
   "cell_type": "code",
   "execution_count": 30,
   "id": "0161710e-6836-402c-98f9-8fe7457ce9fa",
   "metadata": {},
   "outputs": [
    {
     "data": {
      "text/html": [
       "<style>\n",
       ".list-inline {list-style: none; margin:0; padding: 0}\n",
       ".list-inline>li {display: inline-block}\n",
       ".list-inline>li:not(:last-child)::after {content: \"\\00b7\"; padding: 0 .5ex}\n",
       "</style>\n",
       "<ol class=list-inline><li>10.4</li><li>5.6</li><li>3.1</li><li>6.4</li><li>21.7</li></ol>\n"
      ],
      "text/latex": [
       "\\begin{enumerate*}\n",
       "\\item 10.4\n",
       "\\item 5.6\n",
       "\\item 3.1\n",
       "\\item 6.4\n",
       "\\item 21.7\n",
       "\\end{enumerate*}\n"
      ],
      "text/markdown": [
       "1. 10.4\n",
       "2. 5.6\n",
       "3. 3.1\n",
       "4. 6.4\n",
       "5. 21.7\n",
       "\n",
       "\n"
      ],
      "text/plain": [
       "[1] 10.4  5.6  3.1  6.4 21.7"
      ]
     },
     "metadata": {},
     "output_type": "display_data"
    },
    {
     "data": {
      "text/html": [
       "<style>\n",
       ".list-inline {list-style: none; margin:0; padding: 0}\n",
       ".list-inline>li {display: inline-block}\n",
       ".list-inline>li:not(:last-child)::after {content: \"\\00b7\"; padding: 0 .5ex}\n",
       "</style>\n",
       "<ol class=list-inline><li>10</li><li>6</li><li>3</li><li>6</li><li>22</li></ol>\n"
      ],
      "text/latex": [
       "\\begin{enumerate*}\n",
       "\\item 10\n",
       "\\item 6\n",
       "\\item 3\n",
       "\\item 6\n",
       "\\item 22\n",
       "\\end{enumerate*}\n"
      ],
      "text/markdown": [
       "1. 10\n",
       "2. 6\n",
       "3. 3\n",
       "4. 6\n",
       "5. 22\n",
       "\n",
       "\n"
      ],
      "text/plain": [
       "[1] 10  6  3  6 22"
      ]
     },
     "metadata": {},
     "output_type": "display_data"
    },
    {
     "data": {
      "text/html": [
       "<style>\n",
       ".list-inline {list-style: none; margin:0; padding: 0}\n",
       ".list-inline>li {display: inline-block}\n",
       ".list-inline>li:not(:last-child)::after {content: \"\\00b7\"; padding: 0 .5ex}\n",
       "</style>\n",
       "<ol class=list-inline><li>10.4</li><li>5.6</li><li>3.1</li><li>6.4</li><li>21.7</li></ol>\n"
      ],
      "text/latex": [
       "\\begin{enumerate*}\n",
       "\\item 10.4\n",
       "\\item 5.6\n",
       "\\item 3.1\n",
       "\\item 6.4\n",
       "\\item 21.7\n",
       "\\end{enumerate*}\n"
      ],
      "text/markdown": [
       "1. 10.4\n",
       "2. 5.6\n",
       "3. 3.1\n",
       "4. 6.4\n",
       "5. 21.7\n",
       "\n",
       "\n"
      ],
      "text/plain": [
       "[1] 10.4  5.6  3.1  6.4 21.7"
      ]
     },
     "metadata": {},
     "output_type": "display_data"
    }
   ],
   "source": [
    "x\n",
    "round(x) # redondeo a enteros\n",
    "round(x,1) # redondeo con una cifra decimal"
   ]
  },
  {
   "cell_type": "markdown",
   "id": "8fe14597-3204-4165-8e66-ec57ea3c6ff5",
   "metadata": {},
   "source": [
    "### <span style=\"color:#4CC9F0\">Ejercicio</span>\n"
   ]
  },
  {
   "cell_type": "markdown",
   "id": "479c4c81-0b51-434c-bd9e-a297d45a0bf9",
   "metadata": {
    "colab_type": "text",
    "id": "P8eMjQnDI1Eg"
   },
   "source": [
    "Use la función *round()* para redondear el número $\\pi$ con 6 cifras decimales. $\\pi$ está disponible como la constante *pi* en R:"
   ]
  },
  {
   "cell_type": "code",
   "execution_count": 31,
   "id": "022c15de-7c36-46dc-8506-9d289d55e0be",
   "metadata": {},
   "outputs": [
    {
     "data": {
      "text/html": [
       "3.14159265358979"
      ],
      "text/latex": [
       "3.14159265358979"
      ],
      "text/markdown": [
       "3.14159265358979"
      ],
      "text/plain": [
       "[1] 3.141593"
      ]
     },
     "metadata": {},
     "output_type": "display_data"
    }
   ],
   "source": [
    "pi"
   ]
  },
  {
   "cell_type": "markdown",
   "id": "d6cf6f12-fef2-4dc2-81b9-23e10fe06084",
   "metadata": {},
   "source": [
    "###   <span style=\"color:#4361EE\">Vectores lógicos</span>"
   ]
  },
  {
   "cell_type": "markdown",
   "id": "24078072-606e-4cb6-88a4-ef09081c4ad5",
   "metadata": {},
   "source": [
    "Toman valores TRUE o FALSE  "
   ]
  },
  {
   "cell_type": "code",
   "execution_count": 32,
   "id": "5cc0af7c-50a8-4658-9f70-db445e7d1131",
   "metadata": {},
   "outputs": [
    {
     "data": {
      "text/html": [
       "<style>\n",
       ".list-inline {list-style: none; margin:0; padding: 0}\n",
       ".list-inline>li {display: inline-block}\n",
       ".list-inline>li:not(:last-child)::after {content: \"\\00b7\"; padding: 0 .5ex}\n",
       "</style>\n",
       "<ol class=list-inline><li>10.4</li><li>5.6</li><li>3.1</li><li>6.4</li><li>21.7</li></ol>\n"
      ],
      "text/latex": [
       "\\begin{enumerate*}\n",
       "\\item 10.4\n",
       "\\item 5.6\n",
       "\\item 3.1\n",
       "\\item 6.4\n",
       "\\item 21.7\n",
       "\\end{enumerate*}\n"
      ],
      "text/markdown": [
       "1. 10.4\n",
       "2. 5.6\n",
       "3. 3.1\n",
       "4. 6.4\n",
       "5. 21.7\n",
       "\n",
       "\n"
      ],
      "text/plain": [
       "[1] 10.4  5.6  3.1  6.4 21.7"
      ]
     },
     "metadata": {},
     "output_type": "display_data"
    },
    {
     "data": {
      "text/html": [
       "<style>\n",
       ".list-inline {list-style: none; margin:0; padding: 0}\n",
       ".list-inline>li {display: inline-block}\n",
       ".list-inline>li:not(:last-child)::after {content: \"\\00b7\"; padding: 0 .5ex}\n",
       "</style>\n",
       "<ol class=list-inline><li>FALSE</li><li>FALSE</li><li>FALSE</li><li>FALSE</li><li>TRUE</li></ol>\n"
      ],
      "text/latex": [
       "\\begin{enumerate*}\n",
       "\\item FALSE\n",
       "\\item FALSE\n",
       "\\item FALSE\n",
       "\\item FALSE\n",
       "\\item TRUE\n",
       "\\end{enumerate*}\n"
      ],
      "text/markdown": [
       "1. FALSE\n",
       "2. FALSE\n",
       "3. FALSE\n",
       "4. FALSE\n",
       "5. TRUE\n",
       "\n",
       "\n"
      ],
      "text/plain": [
       "[1] FALSE FALSE FALSE FALSE  TRUE"
      ]
     },
     "metadata": {},
     "output_type": "display_data"
    }
   ],
   "source": [
    "x\n",
    "temp = x > 13\n",
    "temp"
   ]
  },
  {
   "cell_type": "markdown",
   "id": "2b903600-e73a-475d-8a7b-a4878639633c",
   "metadata": {
    "colab_type": "text",
    "id": "qAqnr4i70sLy"
   },
   "source": [
    "#### <span style=\"color:#4361EE\">Operadores de comparación</span>"
   ]
  },
  {
   "cell_type": "markdown",
   "id": "1f25ee5a-669d-44fd-8f31-97c08f020f7f",
   "metadata": {},
   "source": [
    "| **Operador** | **Descripción** |**Ejemplo**|**Resultado**|\n",
    "| :---: | :---: |:---: |:---: |\n",
    "|`==`|Prueba si dos valores son iguales| `3==3` | `TRUE`|\n",
    "|`!=`|Prueba si dos valores no son iguales entre si| `2!=3` | `TRUE` |\n",
    "|`<`|Prueba si el valor de la izquierda es menor que el de la derecha| `4<3`|`FALSE`|\n",
    "|`>`|Prueba si el valor de la izquierda es mayor que el de la derecha| `4>3`|`TRUE`|\n",
    "|`<=`|Prueba si el valor de la izquierda es menor o igual que el de la derecha|`4<=3`|`FALSE`|\n",
    "|`>=`|Prueba si el valor de la izquierda es mayor igual que el de la derecha|`4>=3`|`TRUE`|"
   ]
  },
  {
   "cell_type": "code",
   "execution_count": 33,
   "id": "a4951efc-196d-44e8-b954-c3c132d628e0",
   "metadata": {},
   "outputs": [
    {
     "data": {
      "text/html": [
       "TRUE"
      ],
      "text/latex": [
       "TRUE"
      ],
      "text/markdown": [
       "TRUE"
      ],
      "text/plain": [
       "[1] TRUE"
      ]
     },
     "metadata": {},
     "output_type": "display_data"
    },
    {
     "data": {
      "text/html": [
       "TRUE"
      ],
      "text/latex": [
       "TRUE"
      ],
      "text/markdown": [
       "TRUE"
      ],
      "text/plain": [
       "[1] TRUE"
      ]
     },
     "metadata": {},
     "output_type": "display_data"
    },
    {
     "data": {
      "text/html": [
       "FALSE"
      ],
      "text/latex": [
       "FALSE"
      ],
      "text/markdown": [
       "FALSE"
      ],
      "text/plain": [
       "[1] FALSE"
      ]
     },
     "metadata": {},
     "output_type": "display_data"
    },
    {
     "data": {
      "text/html": [
       "FALSE"
      ],
      "text/latex": [
       "FALSE"
      ],
      "text/markdown": [
       "FALSE"
      ],
      "text/plain": [
       "[1] FALSE"
      ]
     },
     "metadata": {},
     "output_type": "display_data"
    },
    {
     "data": {
      "text/html": [
       "TRUE"
      ],
      "text/latex": [
       "TRUE"
      ],
      "text/markdown": [
       "TRUE"
      ],
      "text/plain": [
       "[1] TRUE"
      ]
     },
     "metadata": {},
     "output_type": "display_data"
    }
   ],
   "source": [
    "3==3; 2!=3; 4<3; 4<=3; 4>=3"
   ]
  },
  {
   "cell_type": "markdown",
   "id": "d12ea7e4-5193-4d68-87a2-7625dee7ea1b",
   "metadata": {
    "colab_type": "text",
    "id": "qAqnr4i70sLy"
   },
   "source": [
    "## <span style=\"color:#4361EE\">Operadores lógicos</span>"
   ]
  },
  {
   "cell_type": "markdown",
   "id": "97039b91-4cf5-41da-b0d6-cfe1685c88ba",
   "metadata": {},
   "source": [
    "| **Operador** | **Descripción** |**Ejemplo**|**Resultado**|\n",
    "| :---: | :---: |:---: |:---: |\n",
    "|`&`|Regresa verdadero si el valor de las izquierda y el de la derecha son verdaderos| `(3<4)and(5>1)`|`True`|\n",
    "|`\\|`|Regresa verdadero si uno de los dos valores a(izquierda o derecha es verdadero, o ambos| `(3>4)or(5<1)`|`False`|\n",
    "|`!`|Regresa verdadero si el valor que se está evaluando es falso|`not(3>2)`|`False`|"
   ]
  },
  {
   "cell_type": "code",
   "execution_count": 34,
   "id": "252e0842-4c9f-4ba9-9de7-d2a44abab75f",
   "metadata": {},
   "outputs": [
    {
     "data": {
      "text/html": [
       "TRUE"
      ],
      "text/latex": [
       "TRUE"
      ],
      "text/markdown": [
       "TRUE"
      ],
      "text/plain": [
       "[1] TRUE"
      ]
     },
     "metadata": {},
     "output_type": "display_data"
    },
    {
     "data": {
      "text/html": [
       "FALSE"
      ],
      "text/latex": [
       "FALSE"
      ],
      "text/markdown": [
       "FALSE"
      ],
      "text/plain": [
       "[1] FALSE"
      ]
     },
     "metadata": {},
     "output_type": "display_data"
    },
    {
     "data": {
      "text/html": [
       "FALSE"
      ],
      "text/latex": [
       "FALSE"
      ],
      "text/markdown": [
       "FALSE"
      ],
      "text/plain": [
       "[1] FALSE"
      ]
     },
     "metadata": {},
     "output_type": "display_data"
    }
   ],
   "source": [
    "(3<4)&(5>1); (3>4)|(5<1); !(3>2)"
   ]
  },
  {
   "cell_type": "markdown",
   "id": "cbe271cf-2a3f-4cf8-a894-21df296ef003",
   "metadata": {
    "colab_type": "text",
    "id": "qAqnr4i70sLy"
   },
   "source": [
    "## <span style=\"color:#4361EE\">Valores faltantes</span>"
   ]
  },
  {
   "cell_type": "markdown",
   "id": "cf367ec9-ee04-464f-a425-8fd13aef4082",
   "metadata": {},
   "source": [
    "Los valores faltantes se identifican con *NA*, la función para identificarlos es *is.na()*"
   ]
  },
  {
   "cell_type": "code",
   "execution_count": 35,
   "id": "080d1b53-71b7-44ab-838c-0706655f0ed2",
   "metadata": {},
   "outputs": [
    {
     "data": {
      "text/html": [
       "&lt;NA&gt;"
      ],
      "text/latex": [
       "<NA>"
      ],
      "text/markdown": [
       "&lt;NA&gt;"
      ],
      "text/plain": [
       "[1] NA"
      ]
     },
     "metadata": {},
     "output_type": "display_data"
    },
    {
     "data": {
      "text/html": [
       "TRUE"
      ],
      "text/latex": [
       "TRUE"
      ],
      "text/markdown": [
       "TRUE"
      ],
      "text/plain": [
       "[1] TRUE"
      ]
     },
     "metadata": {},
     "output_type": "display_data"
    },
    {
     "data": {
      "text/html": [
       "<style>\n",
       ".list-inline {list-style: none; margin:0; padding: 0}\n",
       ".list-inline>li {display: inline-block}\n",
       ".list-inline>li:not(:last-child)::after {content: \"\\00b7\"; padding: 0 .5ex}\n",
       "</style>\n",
       "<ol class=list-inline><li>1</li><li>3</li><li>&lt;NA&gt;</li><li>7</li><li>&lt;NA&gt;</li><li>8</li></ol>\n"
      ],
      "text/latex": [
       "\\begin{enumerate*}\n",
       "\\item 1\n",
       "\\item 3\n",
       "\\item <NA>\n",
       "\\item 7\n",
       "\\item <NA>\n",
       "\\item 8\n",
       "\\end{enumerate*}\n"
      ],
      "text/markdown": [
       "1. 1\n",
       "2. 3\n",
       "3. &lt;NA&gt;\n",
       "4. 7\n",
       "5. &lt;NA&gt;\n",
       "6. 8\n",
       "\n",
       "\n"
      ],
      "text/plain": [
       "[1]  1  3 NA  7 NA  8"
      ]
     },
     "metadata": {},
     "output_type": "display_data"
    },
    {
     "data": {
      "text/html": [
       "<style>\n",
       ".list-inline {list-style: none; margin:0; padding: 0}\n",
       ".list-inline>li {display: inline-block}\n",
       ".list-inline>li:not(:last-child)::after {content: \"\\00b7\"; padding: 0 .5ex}\n",
       "</style>\n",
       "<ol class=list-inline><li>FALSE</li><li>FALSE</li><li>TRUE</li><li>FALSE</li><li>TRUE</li><li>FALSE</li></ol>\n"
      ],
      "text/latex": [
       "\\begin{enumerate*}\n",
       "\\item FALSE\n",
       "\\item FALSE\n",
       "\\item TRUE\n",
       "\\item FALSE\n",
       "\\item TRUE\n",
       "\\item FALSE\n",
       "\\end{enumerate*}\n"
      ],
      "text/markdown": [
       "1. FALSE\n",
       "2. FALSE\n",
       "3. TRUE\n",
       "4. FALSE\n",
       "5. TRUE\n",
       "6. FALSE\n",
       "\n",
       "\n"
      ],
      "text/plain": [
       "[1] FALSE FALSE  TRUE FALSE  TRUE FALSE"
      ]
     },
     "metadata": {},
     "output_type": "display_data"
    },
    {
     "data": {
      "text/html": [
       "<style>\n",
       ".list-inline {list-style: none; margin:0; padding: 0}\n",
       ".list-inline>li {display: inline-block}\n",
       ".list-inline>li:not(:last-child)::after {content: \"\\00b7\"; padding: 0 .5ex}\n",
       "</style>\n",
       "<ol class=list-inline><li>&lt;NA&gt;</li><li>&lt;NA&gt;</li><li>&lt;NA&gt;</li><li>&lt;NA&gt;</li><li>&lt;NA&gt;</li><li>&lt;NA&gt;</li></ol>\n"
      ],
      "text/latex": [
       "\\begin{enumerate*}\n",
       "\\item <NA>\n",
       "\\item <NA>\n",
       "\\item <NA>\n",
       "\\item <NA>\n",
       "\\item <NA>\n",
       "\\item <NA>\n",
       "\\end{enumerate*}\n"
      ],
      "text/markdown": [
       "1. &lt;NA&gt;\n",
       "2. &lt;NA&gt;\n",
       "3. &lt;NA&gt;\n",
       "4. &lt;NA&gt;\n",
       "5. &lt;NA&gt;\n",
       "6. &lt;NA&gt;\n",
       "\n",
       "\n"
      ],
      "text/plain": [
       "[1] NA NA NA NA NA NA"
      ]
     },
     "metadata": {},
     "output_type": "display_data"
    }
   ],
   "source": [
    "NA\n",
    "is.na(NA)\n",
    "z=c(1,3,NA,7,NA,8)\n",
    "z\n",
    "is.na(z)\n",
    "(z == NA)"
   ]
  },
  {
   "cell_type": "markdown",
   "id": "b33c9ee2-b716-4dbe-b82f-6e4d8f189ba0",
   "metadata": {},
   "source": [
    "*x==NA* no tiene sentido, genera un vector lógico de la longitud de *z*, con todos los elementos iguales a *NA*"
   ]
  },
  {
   "cell_type": "code",
   "execution_count": 36,
   "id": "1f11db74-7548-4386-88ba-7e9a84773488",
   "metadata": {},
   "outputs": [
    {
     "data": {
      "text/html": [
       "<style>\n",
       ".list-inline {list-style: none; margin:0; padding: 0}\n",
       ".list-inline>li {display: inline-block}\n",
       ".list-inline>li:not(:last-child)::after {content: \"\\00b7\"; padding: 0 .5ex}\n",
       "</style>\n",
       "<ol class=list-inline><li>&lt;NA&gt;</li><li>&lt;NA&gt;</li><li>&lt;NA&gt;</li><li>&lt;NA&gt;</li><li>&lt;NA&gt;</li><li>&lt;NA&gt;</li></ol>\n"
      ],
      "text/latex": [
       "\\begin{enumerate*}\n",
       "\\item <NA>\n",
       "\\item <NA>\n",
       "\\item <NA>\n",
       "\\item <NA>\n",
       "\\item <NA>\n",
       "\\item <NA>\n",
       "\\end{enumerate*}\n"
      ],
      "text/markdown": [
       "1. &lt;NA&gt;\n",
       "2. &lt;NA&gt;\n",
       "3. &lt;NA&gt;\n",
       "4. &lt;NA&gt;\n",
       "5. &lt;NA&gt;\n",
       "6. &lt;NA&gt;\n",
       "\n",
       "\n"
      ],
      "text/plain": [
       "[1] NA NA NA NA NA NA"
      ]
     },
     "metadata": {},
     "output_type": "display_data"
    }
   ],
   "source": [
    "z == NA"
   ]
  },
  {
   "cell_type": "markdown",
   "id": "9b896f57-25f5-4bd6-9070-c846ad0a42b4",
   "metadata": {},
   "source": [
    "*NaN* (*Not a Number*) identifica valores faltantes origindados en operaciones \n",
    "aritméticas no definidas: "
   ]
  },
  {
   "cell_type": "code",
   "execution_count": 37,
   "id": "c6e5d29e-c2ad-4b38-828a-b051d858e699",
   "metadata": {},
   "outputs": [
    {
     "data": {
      "text/html": [
       "NaN"
      ],
      "text/latex": [
       "NaN"
      ],
      "text/markdown": [
       "NaN"
      ],
      "text/plain": [
       "[1] NaN"
      ]
     },
     "metadata": {},
     "output_type": "display_data"
    },
    {
     "data": {
      "text/html": [
       "NaN"
      ],
      "text/latex": [
       "NaN"
      ],
      "text/markdown": [
       "NaN"
      ],
      "text/plain": [
       "[1] NaN"
      ]
     },
     "metadata": {},
     "output_type": "display_data"
    }
   ],
   "source": [
    "0/0; Inf - Inf"
   ]
  },
  {
   "cell_type": "markdown",
   "id": "039c7e54-8d8e-48c6-bd4f-6810e0b5f8fd",
   "metadata": {},
   "source": [
    "Nótese que:"
   ]
  },
  {
   "cell_type": "code",
   "execution_count": 38,
   "id": "12441302-4f97-4b1b-b6f1-266c15fff25f",
   "metadata": {},
   "outputs": [
    {
     "data": {
      "text/html": [
       "Inf"
      ],
      "text/latex": [
       "Inf"
      ],
      "text/markdown": [
       "Inf"
      ],
      "text/plain": [
       "[1] Inf"
      ]
     },
     "metadata": {},
     "output_type": "display_data"
    },
    {
     "data": {
      "text/html": [
       "-Inf"
      ],
      "text/latex": [
       "-Inf"
      ],
      "text/markdown": [
       "-Inf"
      ],
      "text/plain": [
       "[1] -Inf"
      ]
     },
     "metadata": {},
     "output_type": "display_data"
    }
   ],
   "source": [
    "5/0; -5/0"
   ]
  },
  {
   "cell_type": "markdown",
   "id": "e0d92fed-cd7f-43e8-9b71-ec3e0a8e8ae5",
   "metadata": {},
   "source": [
    "La función *is.nan(xx)* es TRUE solamente para NaNs:"
   ]
  },
  {
   "cell_type": "code",
   "execution_count": 39,
   "id": "087ee4d2-d83c-453d-a964-b1e9cc925ae6",
   "metadata": {},
   "outputs": [
    {
     "data": {
      "text/html": [
       "<style>\n",
       ".list-inline {list-style: none; margin:0; padding: 0}\n",
       ".list-inline>li {display: inline-block}\n",
       ".list-inline>li:not(:last-child)::after {content: \"\\00b7\"; padding: 0 .5ex}\n",
       "</style>\n",
       "<ol class=list-inline><li>FALSE</li><li>FALSE</li><li>TRUE</li><li>FALSE</li></ol>\n"
      ],
      "text/latex": [
       "\\begin{enumerate*}\n",
       "\\item FALSE\n",
       "\\item FALSE\n",
       "\\item TRUE\n",
       "\\item FALSE\n",
       "\\end{enumerate*}\n"
      ],
      "text/markdown": [
       "1. FALSE\n",
       "2. FALSE\n",
       "3. TRUE\n",
       "4. FALSE\n",
       "\n",
       "\n"
      ],
      "text/plain": [
       "[1] FALSE FALSE  TRUE FALSE"
      ]
     },
     "metadata": {},
     "output_type": "display_data"
    }
   ],
   "source": [
    "is.nan(c(NA,5,NaN,6))"
   ]
  },
  {
   "cell_type": "markdown",
   "id": "7afc7869-2ca9-499f-b977-46893fa0a34e",
   "metadata": {
    "colab_type": "text",
    "id": "qAqnr4i70sLy"
   },
   "source": [
    "## <span style=\"color:#4361EE\">Vectores de caracteres (*string*)</span>"
   ]
  },
  {
   "cell_type": "markdown",
   "id": "116ab543-2ca5-4104-9f74-ec54475b7185",
   "metadata": {
    "colab_type": "text",
    "id": "Nhv2kU50RGVu"
   },
   "source": [
    "Las cadenas son variables que representan una secuencia de caracteres, es decir que en ellas se puede almacenar cualquier texto. Para escribir un texto en R usamos comillas simples: `'...'` o comillas dobles: `\"...\"`."
   ]
  },
  {
   "cell_type": "code",
   "execution_count": 40,
   "id": "92902e7f-0227-4d3b-a52d-e7f6b5363c33",
   "metadata": {
    "colab": {
     "base_uri": "https://localhost:8080/",
     "height": 53
    },
    "colab_type": "code",
    "executionInfo": {
     "elapsed": 444,
     "status": "ok",
     "timestamp": 1581637711289,
     "user": {
      "displayName": "Daniel Montenegro",
      "photoUrl": "",
      "userId": "07275166318289302366"
     },
     "user_tz": 300
    },
    "id": "-29-9hgEUzWL",
    "outputId": "6ca68310-1a7b-416c-8c11-d64ae4e1a2fe"
   },
   "outputs": [
    {
     "name": "stdout",
     "output_type": "stream",
     "text": [
      "Texto simple escrito entre comillas simples"
     ]
    }
   ],
   "source": [
    "a = 'Texto simple escrito entre comillas simples'\n",
    "cat(a)"
   ]
  },
  {
   "cell_type": "code",
   "execution_count": 41,
   "id": "4b1486ca-4103-49da-9d69-0be29e5ddca0",
   "metadata": {
    "colab": {
     "base_uri": "https://localhost:8080/",
     "height": 53
    },
    "colab_type": "code",
    "executionInfo": {
     "elapsed": 500,
     "status": "ok",
     "timestamp": 1581637731041,
     "user": {
      "displayName": "Daniel Montenegro",
      "photoUrl": "",
      "userId": "07275166318289302366"
     },
     "user_tz": 300
    },
    "id": "Ue2quTbyUzWN",
    "outputId": "7cbafa60-120c-4d87-d61d-67fae809e78f"
   },
   "outputs": [
    {
     "name": "stdout",
     "output_type": "stream",
     "text": [
      "Texto simple escrito entre comillas dobles"
     ]
    }
   ],
   "source": [
    "b = \"Texto simple escrito entre comillas dobles\"\n",
    "cat(b)"
   ]
  },
  {
   "cell_type": "code",
   "execution_count": 42,
   "id": "a4355358-b76b-4283-8e76-77179d3e7798",
   "metadata": {
    "colab": {
     "base_uri": "https://localhost:8080/",
     "height": 35
    },
    "colab_type": "code",
    "executionInfo": {
     "elapsed": 405,
     "status": "ok",
     "timestamp": 1581637813541,
     "user": {
      "displayName": "Daniel Montenegro",
      "photoUrl": "",
      "userId": "07275166318289302366"
     },
     "user_tz": 300
    },
    "id": "TzXiafxUUzWR",
    "outputId": "d5439b11-7322-4d7b-d150-8f2853900984"
   },
   "outputs": [
    {
     "name": "stdout",
     "output_type": "stream",
     "text": [
      "Texto simple escrito entre comillas simples que necesita \"adentrico\" comillas dobles"
     ]
    }
   ],
   "source": [
    "c = 'Texto simple escrito entre comillas simples que necesita \"adentrico\" comillas dobles'\n",
    "cat(c)"
   ]
  },
  {
   "cell_type": "code",
   "execution_count": 43,
   "id": "346f7ab1-505f-471b-a3b8-a4b7c02a1bc3",
   "metadata": {
    "colab": {
     "base_uri": "https://localhost:8080/",
     "height": 35
    },
    "colab_type": "code",
    "executionInfo": {
     "elapsed": 390,
     "status": "ok",
     "timestamp": 1581637802108,
     "user": {
      "displayName": "Daniel Montenegro",
      "photoUrl": "",
      "userId": "07275166318289302366"
     },
     "user_tz": 300
    },
    "id": "Mqibs8ieUzWW",
    "outputId": "df157699-afb1-4e27-e53a-b086b188cb35"
   },
   "outputs": [
    {
     "name": "stdout",
     "output_type": "stream",
     "text": [
      "Texto simple escrito entre comillas dobles que necesita 'adentro' comillas simples"
     ]
    }
   ],
   "source": [
    "d = \"Texto simple escrito entre comillas dobles que necesita 'adentro' comillas simples\"\n",
    "cat(d)"
   ]
  },
  {
   "cell_type": "markdown",
   "id": "0119c4ef-e377-48e9-8f67-537125f92bc0",
   "metadata": {
    "colab_type": "text",
    "id": "Z-RNqrFEUzWa"
   },
   "source": [
    "Como vimos, la función *cat* es la que nos permite imprimir estos mensajes. La secuencia de control `\\n` indica una nueva línea en el texto:"
   ]
  },
  {
   "cell_type": "code",
   "execution_count": 44,
   "id": "431c3bd3-bf7a-423a-b1a2-cf4829ac6d5d",
   "metadata": {
    "colab": {},
    "colab_type": "code",
    "id": "bkQZpWAbUzWa"
   },
   "outputs": [
    {
     "name": "stdout",
     "output_type": "stream",
     "text": [
      "Una línea\n",
      "Otra línea"
     ]
    }
   ],
   "source": [
    "cat(\"Una línea\\nOtra línea\")"
   ]
  },
  {
   "cell_type": "markdown",
   "id": "df055d7f-4603-40eb-b0bf-0df5fa6e0548",
   "metadata": {
    "colab_type": "text",
    "id": "MCQfYItSUzWc"
   },
   "source": [
    "No obstante, a veces necesitamos escribir  \\n en un mensaje:"
   ]
  },
  {
   "cell_type": "code",
   "execution_count": 45,
   "id": "31e84509-a914-471a-87c6-08cb014389c6",
   "metadata": {
    "colab": {
     "base_uri": "https://localhost:8080/",
     "height": 53
    },
    "colab_type": "code",
    "executionInfo": {
     "elapsed": 474,
     "status": "ok",
     "timestamp": 1581637849962,
     "user": {
      "displayName": "Daniel Montenegro",
      "photoUrl": "",
      "userId": "07275166318289302366"
     },
     "user_tz": 300
    },
    "id": "-tCoup6-UzWd",
    "outputId": "390820fb-2e75-40cd-dc3e-2e622b1f2b5f"
   },
   "outputs": [
    {
     "name": "stdout",
     "output_type": "stream",
     "text": [
      "La ruta del archivo es C:\"\n",
      "ombres\u0007rchivo.ipynb\""
     ]
    }
   ],
   "source": [
    "cat('La ruta del archivo es C:\"\\nombres\\archivo.ipynb\"')"
   ]
  },
  {
   "cell_type": "markdown",
   "id": "b77ae6b1-5f6d-4a27-ba83-40c3fdbaf358",
   "metadata": {},
   "source": [
    "En este caso la aparición del símbolo `\\`  daño el mensaje. Una solución es usar la función *print*: "
   ]
  },
  {
   "cell_type": "code",
   "execution_count": 46,
   "id": "fc772f18-ef9d-4e0e-9d19-328434bfaca8",
   "metadata": {},
   "outputs": [
    {
     "name": "stdout",
     "output_type": "stream",
     "text": [
      "[1] \"La ruta del archivo es C:\\nombres\\archivo.ipynb\"\n"
     ]
    }
   ],
   "source": [
    "print('La ruta del archivo es C:\\nombres\\archivo.ipynb')"
   ]
  },
  {
   "cell_type": "markdown",
   "id": "2b040bbb-9081-4f9e-90f2-aa0c66cc0313",
   "metadata": {
    "colab_type": "text",
    "id": "DvFxzQq4UzWi"
   },
   "source": [
    "Podemos recorrer los valores de la cadena de texto de la siguiente forma (no olvidar que en R, los índices de los vectores empiezan en 1 y en Python en 0, y que en R es incluyé el valor del último índice):"
   ]
  },
  {
   "cell_type": "code",
   "execution_count": 47,
   "id": "9f7050c5-e0a5-400b-8693-ae43474be9cd",
   "metadata": {
    "colab": {},
    "colab_type": "code",
    "id": "VfvvR1MaUzWj"
   },
   "outputs": [
    {
     "name": "stdout",
     "output_type": "stream",
     "text": [
      "cuidado_con_el_orden"
     ]
    }
   ],
   "source": [
    "texto=\"cuidado_con_el_orden\"\n",
    "cat(texto)"
   ]
  },
  {
   "cell_type": "markdown",
   "id": "350e3b6b-e871-40cd-b23e-2722649ae697",
   "metadata": {
    "colab_type": "text",
    "id": "LGbUClMKKCLW"
   },
   "source": [
    "Extrayendo el primer primer caracter del texto, en R se puede usar la función *substr* poque en R *texto* es un vector de dimensión 1 y no un vector cuyos elementos sean los caracteres."
   ]
  },
  {
   "cell_type": "code",
   "execution_count": 48,
   "id": "5ac02fe3-c733-4aba-9c35-ed14b5ff2d7c",
   "metadata": {
    "colab": {
     "base_uri": "https://localhost:8080/",
     "height": 35
    },
    "colab_type": "code",
    "executionInfo": {
     "elapsed": 404,
     "status": "ok",
     "timestamp": 1581638433451,
     "user": {
      "displayName": "Daniel Montenegro",
      "photoUrl": "",
      "userId": "07275166318289302366"
     },
     "user_tz": 300
    },
    "id": "bENx-JazUzWm",
    "outputId": "bd761e20-92ec-44a8-8be4-558ec853e3d9"
   },
   "outputs": [
    {
     "name": "stdout",
     "output_type": "stream",
     "text": [
      "c"
     ]
    }
   ],
   "source": [
    "cat(substr(texto,1,1)) #subtexto empezando en 1 y terminando en 1"
   ]
  },
  {
   "cell_type": "markdown",
   "id": "7461944e-3390-4c07-89d3-c343f840f81e",
   "metadata": {
    "colab_type": "text",
    "id": "j0L1L6d5Khbk"
   },
   "source": [
    "Extrayendo el segundo caracter:"
   ]
  },
  {
   "cell_type": "code",
   "execution_count": 49,
   "id": "dcf0db1d-151a-484a-9b3d-31f82318a4d2",
   "metadata": {
    "colab": {
     "base_uri": "https://localhost:8080/",
     "height": 35
    },
    "colab_type": "code",
    "executionInfo": {
     "elapsed": 425,
     "status": "ok",
     "timestamp": 1581638241568,
     "user": {
      "displayName": "Daniel Montenegro",
      "photoUrl": "",
      "userId": "07275166318289302366"
     },
     "user_tz": 300
    },
    "id": "fWH_t7h8UzWp",
    "outputId": "6f9b3203-36e2-457b-ef02-426e650a6311"
   },
   "outputs": [
    {
     "data": {
      "text/html": [
       "'u'"
      ],
      "text/latex": [
       "'u'"
      ],
      "text/markdown": [
       "'u'"
      ],
      "text/plain": [
       "[1] \"u\""
      ]
     },
     "metadata": {},
     "output_type": "display_data"
    }
   ],
   "source": [
    "substr(texto,2,2) #subtexto empezando en 2 y termiando en 2"
   ]
  },
  {
   "cell_type": "markdown",
   "id": "bded6663-1f4b-4e5a-a178-5471707be541",
   "metadata": {
    "colab_type": "text",
    "id": "SrY2k2XSKyfD"
   },
   "source": [
    "Extrayendo el elemento seis hasta el elemento 9 del texto:"
   ]
  },
  {
   "cell_type": "code",
   "execution_count": 50,
   "id": "7de26ab7-0760-4cc7-8845-f59e53f3e8b9",
   "metadata": {
    "colab": {
     "base_uri": "https://localhost:8080/",
     "height": 35
    },
    "colab_type": "code",
    "executionInfo": {
     "elapsed": 403,
     "status": "ok",
     "timestamp": 1581638663585,
     "user": {
      "displayName": "Daniel Montenegro",
      "photoUrl": "",
      "userId": "07275166318289302366"
     },
     "user_tz": 300
    },
    "id": "R9Py_A_IUzWw",
    "outputId": "d787e85d-d0cf-4991-acd6-6a3e23bfd809"
   },
   "outputs": [
    {
     "data": {
      "text/html": [
       "'ado_c'"
      ],
      "text/latex": [
       "'ado\\_c'"
      ],
      "text/markdown": [
       "'ado_c'"
      ],
      "text/plain": [
       "[1] \"ado_c\""
      ]
     },
     "metadata": {},
     "output_type": "display_data"
    }
   ],
   "source": [
    "substr(texto,5,9) "
   ]
  },
  {
   "cell_type": "markdown",
   "id": "f76d6a6c-e766-40db-8727-933f8024d40c",
   "metadata": {},
   "source": [
    "### <span style=\"color:#4CC9F0\">Variables no asignadas</span>"
   ]
  },
  {
   "cell_type": "markdown",
   "id": "2f32ea72-8c4c-47fc-93ca-4979a60612d9",
   "metadata": {},
   "source": [
    "Igual que en Python, toda variable debe ser incializada, es decir, debe tener algún valor asignado antes se de ser utilizada. Observe el siguiente ejemplo. "
   ]
  },
  {
   "cell_type": "code",
   "execution_count": 51,
   "id": "de9b5b17-6fb0-4c83-affa-25cdf9788dd3",
   "metadata": {},
   "outputs": [
    {
     "ename": "ERROR",
     "evalue": "Error in eval(expr, envir, enclos): objeto 'n' no encontrado\n",
     "output_type": "error",
     "traceback": [
      "Error in eval(expr, envir, enclos): objeto 'n' no encontrado\nTraceback:\n"
     ]
    }
   ],
   "source": [
    "n # Variable sin asignar"
   ]
  },
  {
   "cell_type": "markdown",
   "id": "9e2987f3-2d8c-406e-af02-f8bf1f73f90f",
   "metadata": {},
   "source": [
    "El error ocurre porque la variable *n* no ha sido asignada."
   ]
  },
  {
   "cell_type": "markdown",
   "id": "3ae8172c-ed1c-4ac2-83f2-184e67cd58d1",
   "metadata": {},
   "source": [
    "### <span style=\"color:#4CC9F0\">Eliminación de variables</span>"
   ]
  },
  {
   "cell_type": "markdown",
   "id": "9e1a55a2-9dc5-4192-a25a-d26c243865ba",
   "metadata": {},
   "source": [
    "Una variable y en general un objeto puede ser eliminado del entorno actual con la función *rm()*. Por ejemplo:"
   ]
  },
  {
   "cell_type": "code",
   "execution_count": 52,
   "id": "49af0de8-91be-4ae6-a35e-42791ede0970",
   "metadata": {},
   "outputs": [
    {
     "ename": "ERROR",
     "evalue": "Error in eval(expr, envir, enclos): objeto 'w' no encontrado\n",
     "output_type": "error",
     "traceback": [
      "Error in eval(expr, envir, enclos): objeto 'w' no encontrado\nTraceback:\n",
      "1. cat(w)"
     ]
    }
   ],
   "source": [
    "w = 1\n",
    "rm(w)\n",
    "cat(w)"
   ]
  },
  {
   "cell_type": "markdown",
   "id": "dfc35c2b-ff50-4a56-9c48-a780f7e74316",
   "metadata": {},
   "source": [
    "### <span style=\"color:#4CC9F0\">Ejercicio</span>"
   ]
  },
  {
   "cell_type": "markdown",
   "id": "2d7eefc2-df68-4863-8517-ee712c13d368",
   "metadata": {},
   "source": [
    "Por favor, mediante el uso de comentarios, describa lo sucedido en el último ejemplo."
   ]
  },
  {
   "cell_type": "code",
   "execution_count": 53,
   "id": "ec71e086-d4db-4852-87b7-76d2a4254e8a",
   "metadata": {},
   "outputs": [
    {
     "ename": "ERROR",
     "evalue": "Error in eval(expr, envir, enclos): objeto 'w' no encontrado\n",
     "output_type": "error",
     "traceback": [
      "Error in eval(expr, envir, enclos): objeto 'w' no encontrado\nTraceback:\n",
      "1. cat(w)"
     ]
    }
   ],
   "source": [
    "# \n",
    "w = 1\n",
    "# \n",
    "rm(w)\n",
    "# \n",
    "cat(w)"
   ]
  },
  {
   "cell_type": "markdown",
   "id": "e63158db-0aad-4b76-955c-e4c8cc788c25",
   "metadata": {},
   "source": [
    "### <span style=\"color:#4CC9F0\">Objetos disponibles en una sección de trabajo de R</span>"
   ]
  },
  {
   "cell_type": "markdown",
   "id": "9d5852b3-3f8e-4562-b779-a21128549b93",
   "metadata": {},
   "source": [
    "Se obtienen con la función *ls()* sin parámetros."
   ]
  },
  {
   "cell_type": "code",
   "execution_count": 54,
   "id": "b9c0d41d-c47a-4ce6-88e8-d719b35283a1",
   "metadata": {},
   "outputs": [
    {
     "data": {
      "text/html": [
       "<style>\n",
       ".list-inline {list-style: none; margin:0; padding: 0}\n",
       ".list-inline>li {display: inline-block}\n",
       ".list-inline>li:not(:last-child)::after {content: \"\\00b7\"; padding: 0 .5ex}\n",
       "</style>\n",
       "<ol class=list-inline><li>'a'</li><li>'b'</li><li>'c'</li><li>'cociente'</li><li>'d'</li><li>'res'</li><li>'residuo'</li><li>'s3'</li><li>'s5'</li><li>'s6'</li><li>'temp'</li><li>'texto'</li><li>'v'</li><li>'x'</li><li>'y'</li><li>'z'</li></ol>\n"
      ],
      "text/latex": [
       "\\begin{enumerate*}\n",
       "\\item 'a'\n",
       "\\item 'b'\n",
       "\\item 'c'\n",
       "\\item 'cociente'\n",
       "\\item 'd'\n",
       "\\item 'res'\n",
       "\\item 'residuo'\n",
       "\\item 's3'\n",
       "\\item 's5'\n",
       "\\item 's6'\n",
       "\\item 'temp'\n",
       "\\item 'texto'\n",
       "\\item 'v'\n",
       "\\item 'x'\n",
       "\\item 'y'\n",
       "\\item 'z'\n",
       "\\end{enumerate*}\n"
      ],
      "text/markdown": [
       "1. 'a'\n",
       "2. 'b'\n",
       "3. 'c'\n",
       "4. 'cociente'\n",
       "5. 'd'\n",
       "6. 'res'\n",
       "7. 'residuo'\n",
       "8. 's3'\n",
       "9. 's5'\n",
       "10. 's6'\n",
       "11. 'temp'\n",
       "12. 'texto'\n",
       "13. 'v'\n",
       "14. 'x'\n",
       "15. 'y'\n",
       "16. 'z'\n",
       "\n",
       "\n"
      ],
      "text/plain": [
       " [1] \"a\"        \"b\"        \"c\"        \"cociente\" \"d\"        \"res\"     \n",
       " [7] \"residuo\"  \"s3\"       \"s5\"       \"s6\"       \"temp\"     \"texto\"   \n",
       "[13] \"v\"        \"x\"        \"y\"        \"z\"       "
      ]
     },
     "metadata": {},
     "output_type": "display_data"
    }
   ],
   "source": [
    "ls()"
   ]
  },
  {
   "cell_type": "markdown",
   "id": "a80fc4a2-9781-4c44-9eb1-b52080c4b318",
   "metadata": {},
   "source": [
    "Para borrarlos todos se puede utilizar el comando:"
   ]
  },
  {
   "cell_type": "code",
   "execution_count": 55,
   "id": "add06298-c392-48f6-ad82-c5c67ce35fc6",
   "metadata": {},
   "outputs": [],
   "source": [
    "rm(list=ls())"
   ]
  },
  {
   "cell_type": "code",
   "execution_count": 56,
   "id": "aebd7c09-7449-4331-a874-10ba0256ab3a",
   "metadata": {},
   "outputs": [
    {
     "data": {
      "text/html": [],
      "text/latex": [],
      "text/markdown": [],
      "text/plain": [
       "character(0)"
      ]
     },
     "metadata": {},
     "output_type": "display_data"
    }
   ],
   "source": [
    "ls()"
   ]
  },
  {
   "cell_type": "code",
   "execution_count": 57,
   "id": "d1549a9f-8862-4508-b56f-7f3d3b474766",
   "metadata": {},
   "outputs": [
    {
     "ename": "ERROR",
     "evalue": "Error in eval(expr, envir, enclos): objeto 'a' no encontrado\n",
     "output_type": "error",
     "traceback": [
      "Error in eval(expr, envir, enclos): objeto 'a' no encontrado\nTraceback:\n"
     ]
    }
   ],
   "source": [
    "a"
   ]
  },
  {
   "cell_type": "markdown",
   "id": "e6f7e023-9cf4-4995-8d59-2decb5cf10f5",
   "metadata": {},
   "source": [
    "### <span style=\"color:#4CC9F0\">Ejercicio: ¿Qué pasó?</span>"
   ]
  },
  {
   "cell_type": "markdown",
   "id": "0f152b13-7b19-463c-8042-91a6cd660932",
   "metadata": {},
   "source": [
    "### <span style=\"color:#4CC9F0\">Continuaremos la introducción a R en el ambiente de R Studio</span>"
   ]
  },
  {
   "cell_type": "markdown",
   "id": "6d079517-8f4d-441d-98bd-b5a3583c4d43",
   "metadata": {},
   "source": [
    "Para lograr un funcionamiento adecuado en Windows se recomienda instalar los programas en el orden siguiente:\n",
    "\n",
    "**1.** MikTeX: LaTeX libre para Windows.\n",
    "\n",
    "**2.** R\n",
    "\n",
    "**3.** RStudio\n",
    "\n",
    "Esto se debe a las rutas de los programas. Algunas funciones de R usan LaTeX y RStudio es un *IDE* (ambiente integrado para desarrollo) que utiliza el R previamente instalado). \n",
    "   "
   ]
  },
  {
   "cell_type": "markdown",
   "id": "e6ecec42-dd71-4c90-8ade-3374aac5c105",
   "metadata": {},
   "source": [
    "**Fin de este cuaderno**"
   ]
  }
 ],
 "metadata": {
  "kernelspec": {
   "display_name": "R",
   "language": "R",
   "name": "ir"
  },
  "language_info": {
   "codemirror_mode": "r",
   "file_extension": ".r",
   "mimetype": "text/x-r-source",
   "name": "R",
   "pygments_lexer": "r",
   "version": "4.3.1"
  }
 },
 "nbformat": 4,
 "nbformat_minor": 5
}
