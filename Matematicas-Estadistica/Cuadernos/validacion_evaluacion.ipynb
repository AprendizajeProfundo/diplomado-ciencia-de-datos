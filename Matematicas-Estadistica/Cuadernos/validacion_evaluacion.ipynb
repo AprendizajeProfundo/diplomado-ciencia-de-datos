{
 "cells": [
  {
   "cell_type": "markdown",
   "id": "45dcfa44-686e-479a-9507-cd18e3f721ef",
   "metadata": {
    "slideshow": {
     "slide_type": "slide"
    },
    "tags": []
   },
   "source": [
    "<figure> \n",
    "<img src=\"../Imagenes/logo-final-ap.png\"  width=\"80\" height=\"80\" align=\"left\"/> \n",
    "</figure>\n",
    "\n",
    "# <span style=\"color:blue\"><left>Aprendizaje Profundo</left></span>"
   ]
  },
  {
   "cell_type": "markdown",
   "id": "99d6f0ea-63ec-4a6b-b3bc-a5985d46f54c",
   "metadata": {},
   "source": [
    "# <span style=\"color:red\"><center>Validación y Evaluación</center></span>"
   ]
  },
  {
   "cell_type": "markdown",
   "id": "8c888c1a-e2b2-49f2-895f-0afb20352f28",
   "metadata": {},
   "source": [
    "##   <span style=\"color:blue\">Profesores</span>"
   ]
  },
  {
   "cell_type": "markdown",
   "id": "338c827e-23e4-447e-970f-fc1537c89374",
   "metadata": {},
   "source": [
    "1. Alvaro Mauricio Montenegro Díaz, ammontenegrod@unal.edu.co\n",
    "2. Daniel Mauricio Montenegro Reyes, dextronomo@gmail.com \n",
    "3. Campo Elías Pardo Turriago, cepardot@unal.edu.co \n",
    "5. Oleg Jarma, ojarmam@unal.edu.co "
   ]
  },
  {
   "cell_type": "markdown",
   "id": "74668380-53aa-434f-b47e-a8f2d4ee5178",
   "metadata": {},
   "source": [
    "##   <span style=\"color:blue\">Asesora Medios y Marketing digital</span>\n",
    " "
   ]
  },
  {
   "cell_type": "markdown",
   "id": "89933aaf-7a7d-45ac-ac70-ec292666aa87",
   "metadata": {},
   "source": [
    "1. Maria del Pilar Montenegro, pmontenegro88@gmail.com "
   ]
  },
  {
   "cell_type": "markdown",
   "id": "5d767c1b-f397-4d35-b5df-4047a01493c2",
   "metadata": {},
   "source": [
    "##   <span style=\"color:blue\">Introducción</span>\n",
    " "
   ]
  },
  {
   "cell_type": "markdown",
   "id": "21314ebe-95e4-4e4e-a099-f755a769a70c",
   "metadata": {},
   "source": [
    "Después de desarrollar un modelo: ¿Qué sigue? ¿Cómo estamos seguros de que es funcional? Si hacemos varios modelos. ¿Cómo decidimos cuál elegir? Y si el modelo no está funcionando bien, ¿Cómo revisamos sus problemas? Aquí entran las diferentes métricas y métodos que conforman los conceptos conocidos como \"Validación\" y \"Evaluación\"\n",
    "\n",
    "¿Qué son exactamente?:\n",
    "\n",
    "- Vamos a pensar en \"Validación\" en los métodos que nos permitan revisar y mejorar la capacidad de generalización de un modelo\n",
    "\n",
    "- \"Evaluación\" se referirá a la(s) métrica(s) que ayudan a observar el desempeño final del modelo\n",
    "\n",
    "en ciertos casos puede parecer que estamos hablando de lo mismo, pero la diferencia principal radica en cómo aplicamos estos. Cuando \"Validamos\" un modelo, aplicamos algún tipo de tecnica sobre los datos, y hasta los transformamos. Mientras que, al \"evaluar\" un modelo, sacamos un valor/valores de este.\n",
    "\n",
    "Ya hemos visto/usado ejemplos de estos dos. ¿Cuáles?"
   ]
  },
  {
   "cell_type": "markdown",
   "id": "bb40b3dd-b58d-4558-96ac-e853e48b2f90",
   "metadata": {},
   "source": [
    "##   <span style=\"color:blue\">Evaluación</span>"
   ]
  },
  {
   "cell_type": "markdown",
   "id": "e2f0d00d-363b-4704-941a-39e3873a88fe",
   "metadata": {},
   "source": [
    "<figure> \n",
    "<center>\n",
    "<img src=\"https://imgs.xkcd.com/comics/machine_learning.png\"/>\n",
    "</center>\n",
    "</figure>"
   ]
  },
  {
   "cell_type": "markdown",
   "id": "8bf7b2b9-d97f-4939-9592-1394dab48c13",
   "metadata": {},
   "source": [
    "Tenemos diferentes metricas de evaluación para casos de clasificación y regresión"
   ]
  },
  {
   "cell_type": "markdown",
   "id": "a1fc6b33-b0df-4df1-bf91-c2497b16f6d9",
   "metadata": {},
   "source": [
    "###   <span style=\"color:blue\">Error cuadrático medio</span>\n",
    " "
   ]
  },
  {
   "cell_type": "markdown",
   "id": "b756fbe7-6fa6-4920-ae86-20869e149cf8",
   "metadata": {},
   "source": [
    "Como se ha visto anteriormente, utilizamos los errores en los modelos de regresión para observar qué tan diferentes son los resultados obtenidos por el modelos con respecto a los resultados reales. La función más utilizada para esta es el error cuadrático medio\n",
    "\n",
    "$$\n",
    "\\text{MSE} = \\frac{1}{N}\\sum_{i=1}^{N}(x_i-\\hat{x_i})^2\n",
    "$$"
   ]
  },
  {
   "cell_type": "markdown",
   "id": "b6180a25-24cf-4263-a88d-5ba110b0574d",
   "metadata": {},
   "source": [
    "###   <span style=\"color:blue\">Error absoluto medi</span>"
   ]
  },
  {
   "cell_type": "markdown",
   "id": "bd563230-f24e-465d-916a-0c18c8742c57",
   "metadata": {},
   "source": [
    "Otro posible error que podemos utilizar. Esta utiliza el valor absoluto en lugar de la potencia al cuadrado. Esto causa que los errores más grandes(posiblemente provenientes de datos atípicos) no sean tan castigados como en el MSE. Así que es preferible utilizar el MAE en casos donde no haya muchos atípicos o no es de interés los efectos que tengan estos sobre el modelo y los datos.\n",
    "\n",
    "$$\n",
    "\\text{MAE}=\\frac{1}{N}\\sum_{i=1}^{N}|x_i-\\hat{x_i}|\n",
    "$$"
   ]
  },
  {
   "cell_type": "markdown",
   "id": "4385a414-e660-4572-8db4-daefe4e61c51",
   "metadata": {},
   "source": [
    "###   <span style=\"color:blue\">Matriz de confusión</span>"
   ]
  },
  {
   "cell_type": "markdown",
   "id": "a1d81ab2-a258-40db-9fbe-821da4d4a77e",
   "metadata": {},
   "source": [
    "Usualmente utilizada en clasificación binaria, esta matriz nos permite observar las capacidades de clasificación de un modelo con más detalle.\n",
    "\n",
    "<figure> \n",
    "<center>\n",
    "<img src=\"https://www.juanbarrios.com/wp-content/uploads/2019/07/MATRIZ-CONFUSION.png\"/>\n",
    "</center>\n",
    "</figure>\n",
    "\n",
    "Aquí pensamos en los diferentes casos que puede tomar la clasificación binaria.\n",
    "\n",
    "- El modelo predice \"positivo\", cuando el valor real es positivo (Caso preferido 1 o Verdadero Positivo)\n",
    "- El modelo predice \"positivo\", cuando el valor real es negativo (Error tipo 1 o \"Falso Positivo\" )\n",
    "- El modelo predice \"negativo\", cuando el valor real es positivo (Error tipo 2 o \"Falso Negativo\")\n",
    "- El modelo predice \"negativo\", cuando el valor real es negativo (Caso preferido 2 o Verdadero negativo)\n",
    "\n",
    "con base en esto podemos obtener diferentes métricas:\n",
    "\n",
    "\n",
    "####  <span style=\"color:blue\">Accuracy/Exactitud</span>\n",
    "\n",
    "Esta es la métrica \"clásica\" o predeterminada en la mayoría de librerías de ML. Aquí se obtiene la proporción de predicciones correctas(o sea los casos verdaderos) sobre las predicciones totales\n",
    "\n",
    "$$\n",
    "\\text{accuracy} = \\frac{VP+VN}{\\text{total}}\n",
    "$$\n",
    "\n",
    "####  <span style=\"color:blue\">Precisión</span>\n",
    "\n",
    "Una medida alternativa a la exactitud. Esta se prefiere cuando tenemos datos altamente desbalanceados. Aquí solo tomamos en cuenta los casos positivos y obtenemos una proporción de los verdaderos positivos sobre todos los casos en los que se predijo positivo.\n",
    "\n",
    "$$\n",
    "\\text{precision} = \\frac{VP}{VP+FP}\n",
    "$$\n",
    "\n",
    "####  <span style=\"color:blue\">Recall/Sensibilidad</span>\n",
    "\n",
    "Una métrica incluso más robusta con los datos desbalanceados. Aquí vemos la proporción de los casos en los que se predice positivo sobre todos los casos en los que si es positivo\n",
    "\n",
    "$$\n",
    "\\text{recall} = \\frac{VP}{VP+FN}\n",
    "$$\n",
    "\n",
    "\n",
    "####  <span style=\"color:blue\">Valor F1</span>\n",
    "\n",
    "el problema con la precisión y el recall es que solo toma en cuenta la mitad de la información de la matriz de confusión, así que podríamos estarnos perdiendo de algo.\n",
    "\n",
    "<figure> \n",
    "<center>\n",
    "<img src=\"https://www.kdnuggets.com/wp-content/uploads/nagesh-metrics-3.png\"/>\n",
    "</center>\n",
    "</figure>\n",
    "\n",
    "El valor F1 no es más que la media armónica de estas dos métricas. Permitiéndonos resumir la información de la mayoría de la matríz.\n",
    "\n",
    "Como usamos la media armónica, tenemos una métrica bastante robusta contra datos atípicos.\n",
    "\n",
    "$$\n",
    "F1 =2 \\times \\frac{\\text{precision} \\times \\text{recall}}{\\text{precision}+\\text{recall}}\n",
    "$$"
   ]
  },
  {
   "cell_type": "markdown",
   "id": "a97e4fac-35c0-47c4-9248-6fbb41522d63",
   "metadata": {},
   "source": [
    "Podemos obtener varias de estas métricas de forma sencilla con scikit"
   ]
  },
  {
   "cell_type": "code",
   "execution_count": 24,
   "id": "aa6f1130-98ca-4143-b97d-d402b6ed0114",
   "metadata": {},
   "outputs": [
    {
     "name": "stdout",
     "output_type": "stream",
     "text": [
      "matriz de confusión clásica: \n",
      "  [[3 0 0]\n",
      " [0 2 0]\n",
      " [0 2 9]]\n",
      "matriz de confusión múltiple: \n",
      "  [[[13  0]\n",
      "  [ 0  3]]\n",
      "\n",
      " [[12  2]\n",
      "  [ 0  2]]\n",
      "\n",
      " [[ 5  0]\n",
      "  [ 2  9]]]\n",
      "métricas: \n",
      "               precision    recall  f1-score   support\n",
      "\n",
      "           0       1.00      1.00      1.00         3\n",
      "           1       0.50      1.00      0.67         2\n",
      "           2       1.00      0.82      0.90        11\n",
      "\n",
      "    accuracy                           0.88        16\n",
      "   macro avg       0.83      0.94      0.86        16\n",
      "weighted avg       0.94      0.88      0.89        16\n",
      "\n"
     ]
    }
   ],
   "source": [
    "from sklearn.datasets import load_iris\n",
    "from sklearn.neighbors import KNeighborsClassifier\n",
    "from sklearn.metrics import confusion_matrix, multilabel_confusion_matrix, classification_report\n",
    "from sklearn.model_selection import train_test_split\n",
    "\n",
    "iris = load_iris()\n",
    "X_train, X_test, y_train, y_test = train_test_split(iris.data,iris.target,test_size=0.2,train_size=0.8)\n",
    "knn = KNeighborsClassifier(n_neighbors=2).fit(X_train, y_train)\n",
    "\n",
    "y_pred = knn.predict(X_test)\n",
    "\n",
    "print(\"matriz de confusión clásica: \\n \", confusion_matrix(y_test, y_pred))\n",
    "print(\"matriz de confusión múltiple: \\n \", multilabel_confusion_matrix(y_test, y_pred))\n",
    "\n",
    "print(\"métricas: \\n\", classification_report(y_test, y_pred))"
   ]
  },
  {
   "cell_type": "markdown",
   "id": "7e0e88bb-8319-4847-b5c2-18069ba0e4b3",
   "metadata": {},
   "source": [
    "####  <span style=\"color:blue\">Especificidad</span>\n",
    "\n",
    "Si nos damos cuenta, en ningún caso anterior trabajamos con los verdaderos negativos. Eso es porque, en el contexto de hipótesis, el caso nulo no es de \"mucho interés\". sin embargo, existe la métrica de la especificidad, la cual es la proporción de los verdadernos negativos sobre todos los casos negativos.\n",
    "\n",
    "$$\n",
    "\\text{specificity} = \\frac{VN}{VN+FP}\n",
    "$$\n",
    "\n",
    "Nótese que el recall y la especificidad explican toda la matriz de confusión"
   ]
  },
  {
   "cell_type": "markdown",
   "id": "9d5bad85-9c0e-4368-83fa-024b01e3c187",
   "metadata": {},
   "source": [
    "###   <span style=\"color:blue\">Curva ROC</span>\n",
    " "
   ]
  },
  {
   "cell_type": "markdown",
   "id": "158bf3d8-e4a2-4e20-aa9c-45a8d659723a",
   "metadata": {},
   "source": [
    "La curva ROC(Receiver Operating Characteristics) es otra métrica (o mejor dicho un gráfico) para evaluar modelos de clasificación binarios, aunque con un poco de creatividad se puede extender a clasificación múltiple\n",
    "\n",
    "Esta grafica se hace a partir de metricas obtenidas con la matriz de confusión. Aquí hacemos una comparación entre el recall, que también es llamada la rata de verdaderos positivos, y la especificidad, también llamada la rata de verdaderos negativos.\n",
    "\n",
    "<figure> \n",
    "<center>\n",
    "<img src=\"https://upload.wikimedia.org/wikipedia/commons/thumb/1/13/Roc_curve.svg/1200px-Roc_curve.svg.png\" height= 500, width=500/>\n",
    "</center>\n",
    "</figure>\n",
    "\n",
    "\n",
    "gráficamente puede ser dificil de entender, razón por la cual calculamos el \"area bajo la curva\" (Area Under Curve - AUC). Esta métrica Va de 0 a 1. Un modelo que tiene 100% de predicciones acertadas tiene un valor de AUC de 1. \n",
    "\n",
    "<figure> \n",
    "<center>\n",
    "<img src=\"https://miro.medium.com/max/722/1*pk05QGzoWhCgRiiFbz-oKQ.png\" height= 500, width=500/>\n",
    "</center>\n",
    "</figure>"
   ]
  },
  {
   "cell_type": "code",
   "execution_count": 44,
   "id": "dbac87bc-e002-4263-8fde-aea8bc99a3a2",
   "metadata": {},
   "outputs": [
    {
     "name": "stdout",
     "output_type": "stream",
     "text": [
      "AUC - class 0: 100.00%\n",
      "AUC - class 1: 72.22%\n",
      "AUC - class 2: 99.06%\n"
     ]
    },
    {
     "data": {
      "image/png": "[encoded data removed]",
      "text/plain": [
       "<Figure size 640x480 with 1 Axes>"
      ]
     },
     "metadata": {},
     "output_type": "display_data"
    },
    {
     "data": {
      "image/png": "[encoded data removed]",
      "text/plain": [
       "<Figure size 640x480 with 1 Axes>"
      ]
     },
     "metadata": {},
     "output_type": "display_data"
    }
   ],
   "source": [
    "from sklearn.metrics import roc_auc_score, roc_curve, auc\n",
    "from sklearn.multiclass import OneVsRestClassifier\n",
    "from sklearn.preprocessing import label_binarize\n",
    "from sklearn.svm import SVC\n",
    "\n",
    "import matplotlib.pyplot as plt\n",
    "\n",
    "y_bin = label_binarize(y, classes=[0, 1, 2])\n",
    "n_classes = y_bin.shape[1]\n",
    "\n",
    "# shuffle and split training and test sets\n",
    "X_train, X_test, y_train, y_test = train_test_split(X, y_bin, test_size=.75,\n",
    "                                                    random_state=0)\n",
    "\n",
    "binary_classifier = OneVsRestClassifier(SVC(kernel='linear', probability=True,\n",
    "                                 random_state=13))\n",
    "\n",
    "y_score = binary_classifier.fit(X_train, y_train).decision_function(X_test)\n",
    "\n",
    "\n",
    "\n",
    "fpr = dict()\n",
    "tpr = dict()\n",
    "roc_auc = dict()\n",
    "for i in range(3):\n",
    "    fpr[i], tpr[i], _ = roc_curve(y_test[:, i], y_score[:, i])\n",
    "    roc_auc[i] = auc(fpr[i], tpr[i])\n",
    "\n",
    "# Compute micro-average ROC curve and ROC area\n",
    "fpr[\"micro\"], tpr[\"micro\"], _ = roc_curve(y_test.ravel(), y_score.ravel())\n",
    "roc_auc[\"micro\"] = auc(fpr[\"micro\"], tpr[\"micro\"])\n",
    "\n",
    "# Plot of a ROC curve for a specific class\n",
    "plt.figure()\n",
    "plt.plot(fpr[2], tpr[2], label='ROC curve (area = %0.2f)' % roc_auc[2])\n",
    "plt.plot([0, 1], [0, 1], 'k--')\n",
    "plt.xlim([0.0, 1.0])\n",
    "plt.ylim([0.0, 1.05])\n",
    "plt.xlabel('False Positive Rate')\n",
    "plt.ylabel('True Positive Rate')\n",
    "plt.title('Receiver operating characteristic example')\n",
    "plt.legend(loc=\"lower right\")\n",
    "plt.show()\n",
    "\n",
    "# Plot ROC curve\n",
    "plt.figure()\n",
    "plt.plot(fpr[\"micro\"], tpr[\"micro\"],\n",
    "         label='micro-average ROC curve (area = {0:0.2f})'\n",
    "               ''.format(roc_auc[\"micro\"]))\n",
    "for i in range(n_classes):\n",
    "    plt.plot(fpr[i], tpr[i], label='ROC curve of class {0} (area = {1:0.2f})'\n",
    "                                   ''.format(i, roc_auc[i]))\n",
    "\n",
    "plt.plot([0, 1], [0, 1], 'k--')\n",
    "plt.xlim([0.0, 1.0])\n",
    "plt.ylim([0.0, 1.05])\n",
    "plt.xlabel('False Positive Rate')\n",
    "plt.ylabel('True Positive Rate')\n",
    "plt.title('Some extension of Receiver operating characteristic to multi-class')\n",
    "plt.legend(loc=\"lower right\")\n",
    "plt.show()"
   ]
  },
  {
   "cell_type": "markdown",
   "id": "7185048b-2c46-4483-ae7d-54f32f8c0474",
   "metadata": {},
   "source": [
    "##   <span style=\"color:blue\">Validación</span>"
   ]
  },
  {
   "cell_type": "markdown",
   "id": "028aa545-cb35-4cbb-95c0-43f6e046cc4f",
   "metadata": {},
   "source": [
    "\n",
    "\n",
    "<figure> \n",
    "<center>\n",
    "<img src=\"https://imgs.xkcd.com/comics/ai_methodology.png\"/>\n",
    "</center>\n",
    "</figure>"
   ]
  },
  {
   "cell_type": "markdown",
   "id": "568f407a-9fed-4656-bb9b-7e3173e5afcc",
   "metadata": {},
   "source": [
    "###   <span style=\"color:blue\">Separación de datos</span>\n",
    " "
   ]
  },
  {
   "cell_type": "markdown",
   "id": "5fc82a47-e884-4f7c-b52e-c411a3ff0ea9",
   "metadata": {},
   "source": [
    "el clásico caso del \"train test split\". Separamos los datos en dos \"subconjuntos\": Uno para hacer el ajuste del modelo, y otro en el que se harán comparaciónes a nivel de predicciones del modelo ya entrenado.\n",
    "\n",
    "\n",
    "<figure> \n",
    "<center>\n",
    "<img src=\"https://www.mltut.com/wp-content/uploads/2020/05/k-fold-cross-validation.png\"/>\n",
    "</center>\n",
    "</figure>\n",
    "\n",
    "La idea de esto es poder trabajar el modelo en un \"ambiente desconocido pero controlado\". Logramos observar el modelo con datos que no había visto antes, pero no son completamente desconocidos para el científico.\n",
    "\n",
    "Esta es la forma más sencilla de validación. Ahora, tiene debilidades.\n",
    "\n",
    "La más grande de esta es el sesgo de muestra. Si casualmente nuestro subconjunto de prueba no tiene datos lo suficientemente variados, corremos el riesgo de que las métricas que usemos para evaluar el modelo tenga una \"precisión no merecida\". \n",
    "\n",
    "Podemos intentar arreglar esto separando un poco más el dataset. Dejando tres subconjuntos: Uno de entrenamiento, uno de validación y uno de prueba\n",
    "\n",
    "<figure> \n",
    "<center>\n",
    "<img src=\"https://miro.medium.com/max/1400/1*wkaZ-efb_e2ff_lXSWOBfw.png\"/>\n",
    "</center>\n",
    "</figure>\n",
    "\n",
    "Esto puede ciertamente mitigar el sesgo de muestra, pero no es la mejor alternativa"
   ]
  },
  {
   "cell_type": "code",
   "execution_count": 1,
   "id": "5c0aa0ae-ef45-4698-b9e7-f05cd1f354f8",
   "metadata": {},
   "outputs": [
    {
     "data": {
      "text/plain": [
       "<AxesSubplot:xlabel='0'>"
      ]
     },
     "execution_count": 1,
     "metadata": {},
     "output_type": "execute_result"
    },
    {
     "data": {
      "image/png": "[encoded data removed]",
      "text/plain": [
       "<Figure size 640x480 with 3 Axes>"
      ]
     },
     "metadata": {},
     "output_type": "display_data"
    }
   ],
   "source": [
    "from sklearn.datasets import load_iris\n",
    "from imblearn.datasets import make_imbalance\n",
    "\n",
    "import numpy as np\n",
    "import pandas as pd\n",
    "\n",
    "\n",
    "iris = load_iris()\n",
    "X, y = make_imbalance(\n",
    "    iris.data,\n",
    "    iris.target,\n",
    "    sampling_strategy={0: 10, 1: 10, 2: 50},\n",
    "    random_state=16,\n",
    ")\n",
    "\n",
    "X, X_test, y, y_test = train_test_split(X,y,test_size=0.2,train_size=0.8)\n",
    "X_train, X_val, y_train, y_val = train_test_split(X,y,test_size = 0.25,train_size =0.75)\n",
    "\n",
    "fig, axes = plt.subplots(1,3)\n",
    "\n",
    "pd.DataFrame(y_train).value_counts().plot(kind='bar', ax=axes[0])\n",
    "pd.DataFrame(y_val).value_counts().plot(kind='bar', ax=axes[1])\n",
    "pd.DataFrame(y_test).value_counts().plot(kind='bar', ax=axes[2])"
   ]
  },
  {
   "cell_type": "markdown",
   "id": "849adb4e-53d5-4529-bbb5-af044cae6067",
   "metadata": {},
   "source": [
    "###   <span style=\"color:blue\">Leave One Out</span>"
   ]
  },
  {
   "cell_type": "markdown",
   "id": "df7598cf-e0b7-46a5-9136-eaf6a91af051",
   "metadata": {},
   "source": [
    "De ahora en adelante no hacemos una sola separación de datos, sino múltiples.\n",
    "\n",
    "En este caso, tomando en cuenta su nombre, el subconjunto de prueba solo consta de un elemento. Cada observación eventualmente es utilizada como elemento de prueba. Esto significa que se hacen $N$ separaciones de datos y $N$ ajustes de modelo. Evaluamos cada uno de estos modelos y luego podemos, por ejemplo, obtener el promedio de precisión de estos para saber qué tan bien está generalizando el modelo.\n",
    "\n",
    "\n",
    "<figure> \n",
    "<center>\n",
    "<img src=\"https://www.researchgate.net/profile/Nikolaos-Chlis/publication/266617511/figure/fig11/AS:295705362092036@1447513060277/Leave-One-Out-Cross-Validation.png\"/>\n",
    "</center>\n",
    "</figure>\n",
    "\n",
    "\n"
   ]
  },
  {
   "cell_type": "code",
   "execution_count": 2,
   "id": "9a6dbc22-2b04-4f6a-a751-dc1926c5a688",
   "metadata": {},
   "outputs": [
    {
     "name": "stdout",
     "output_type": "stream",
     "text": [
      "Accuracy: 0.960\n"
     ]
    }
   ],
   "source": [
    "from sklearn.model_selection import LeaveOneOut\n",
    "from sklearn.neighbors import KNeighborsClassifier\n",
    "from sklearn.metrics import accuracy_score\n",
    "\n",
    "loo = LeaveOneOut()\n",
    "knn = KNeighborsClassifier(n_neighbors=3)\n",
    "\n",
    "X, y = load_iris(return_X_y=True)\n",
    "\n",
    "y_true, y_pred = list(), list()\n",
    "for train_ix, test_ix in loo.split(X):\n",
    "    X_train, X_test = X[train_ix, :], X[test_ix, :]\n",
    "    y_train, y_test = y[train_ix], y[test_ix]\n",
    "    # fit model\n",
    "    knn.fit(X_train, y_train)\n",
    "    # evaluate model\n",
    "    yhat = knn.predict(X_test)\n",
    "    # store\n",
    "    y_true.append(y_test[0])\n",
    "    y_pred.append(yhat[0])\n",
    "acc = accuracy_score(y_true, y_pred)\n",
    "print('Accuracy: %.3f' % acc)"
   ]
  },
  {
   "cell_type": "markdown",
   "id": "3fddec18-a9e6-489f-8f09-a9247506bfd1",
   "metadata": {},
   "source": [
    "Este método asegura la menor cantidad de sesgo posible, ya que revisamos la consistencia del modelo sobre TODOS Y CADA UNO DE LOS DATOS, pero tiene dos problemas:\n",
    "\n",
    "- Sufre con datos con una alta varianza.\n",
    "- Es computacionalmente costoso, así que con datos de gran tamaño no es recomendable."
   ]
  },
  {
   "cell_type": "markdown",
   "id": "570363c7-44c4-496e-aa29-452fec8510b7",
   "metadata": {},
   "source": [
    "###   <span style=\"color:blue\">K Folds</span>\n",
    " "
   ]
  },
  {
   "cell_type": "markdown",
   "id": "774a6e87-31aa-4f92-bbca-3a47affae55f",
   "metadata": {},
   "source": [
    "La versión generalizada de Leave One out. Separamos el dataset de en en múltiples subconjuntos de \"casi\" tamaños iguales vamos iterando sobre estos. En la iteración 1, la muestra 1 será el dataset de prueba, mientras que el resto de muestras se usarán como datos de entrenamiento. Este proceso se repetirá $K$ veces, donde $K$ es el número de muestras.\n",
    "\n",
    "K folds es igual a Leave One Out cuando $K=N$\n",
    "\n",
    "<figure> \n",
    "<center>\n",
    "<img src=\"https://www.mltut.com/wp-content/uploads/2020/05/cross-validation.png\"/>\n",
    "</center>\n",
    "</figure>"
   ]
  },
  {
   "cell_type": "code",
   "execution_count": 9,
   "id": "ddedc525-7e31-4b92-8ca2-f819816360be",
   "metadata": {},
   "outputs": [
    {
     "name": "stdout",
     "output_type": "stream",
     "text": [
      "accuracy of each fold in rbf - [1.0, 1.0, 0.9, 0.9, 0.9333333333333333]\n",
      "Avg rbf accuracy : 0.9466666666666667\n",
      "accuracy of each fold in poly - [1.0, 1.0, 0.9666666666666667, 0.9333333333333333, 0.9666666666666667]\n",
      "Avg poly accuracy : 0.9733333333333334\n"
     ]
    }
   ],
   "source": [
    "from sklearn.model_selection import KFold \n",
    "from sklearn.svm import SVC\n",
    " \n",
    "#Implementing cross validation\n",
    " \n",
    "k = 5\n",
    "kf = KFold(n_splits=k, shuffle=True, random_state=42)\n",
    "rbf = SVC(kernel='rbf', gamma=0.5, C=0.1)\n",
    "poly = SVC(kernel='poly', degree=3, C=1)\n",
    " \n",
    "acc_score_rbf = []\n",
    "acc_score_poly = []\n",
    "\n",
    "X, y = load_iris(return_X_y=True)\n",
    "\n",
    "for train_ix , test_ix in kf.split(X):\n",
    "    X_train, X_test = X[train_ix, :], X[test_ix, :]\n",
    "    y_train, y_test = y[train_ix], y[test_ix]\n",
    "     \n",
    "    rbf.fit(X_train,y_train)\n",
    "    poly.fit(X_train, y_train)\n",
    "    \n",
    "    pred_rbf = rbf.predict(X_test)\n",
    "    pred_poly = poly.predict(X_test)\n",
    "     \n",
    "    acc_rbf = accuracy_score(pred_rbf, y_test)\n",
    "    acc_score_rbf.append(acc_rbf)\n",
    "    \n",
    "    acc_poly = accuracy_score(pred_poly, y_test)\n",
    "    acc_score_poly.append(acc_poly)\n",
    "     \n",
    "avg_acc_score_rbf = sum(acc_score_rbf)/k\n",
    "avg_acc_score_poly = sum(acc_score_poly)/k\n",
    " \n",
    "print('accuracy of each fold in rbf - {}'.format(acc_score_rbf))\n",
    "print('Avg rbf accuracy : {}'.format(avg_acc_score_rbf))\n",
    "\n",
    "print('accuracy of each fold in poly - {}'.format(acc_score_poly))\n",
    "print('Avg poly accuracy : {}'.format(avg_acc_score_poly))"
   ]
  },
  {
   "cell_type": "markdown",
   "id": "0bd9e638-6ac4-4bae-9107-0c5c3458ac1a",
   "metadata": {},
   "source": [
    "K folds sacrifica algo de sesgo a favor de resistir a los datasets con alta varianza"
   ]
  },
  {
   "cell_type": "markdown",
   "id": "3c7d6171-af2b-4673-b63a-835b0176edd0",
   "metadata": {},
   "source": [
    "####   <span style=\"color:blue\">K folds estratificados</span>\n",
    " "
   ]
  },
  {
   "cell_type": "markdown",
   "id": "3eaf23f3-8541-4c99-9099-68308b42978b",
   "metadata": {},
   "source": [
    "Una variación de K folds en la cual se usa muestreo estratificado en lugar de muestreo aleatorio. Se generan las mismas muestras pero buscando representar adecuadamente las proporciones de cada clase\n",
    "\n",
    "<figure> \n",
    "<center>\n",
    "<img src=\"https://uedufy.com/wp-content/uploads/2021/12/stratified-sampling-2.png\"/>\n",
    "</center>\n",
    "</figure>"
   ]
  },
  {
   "cell_type": "code",
   "execution_count": 11,
   "id": "c768286d-8d15-4f47-bbc9-90a02ffccd6a",
   "metadata": {},
   "outputs": [
    {
     "name": "stdout",
     "output_type": "stream",
     "text": [
      "accuracy of each fold in poly - [0.9666666666666667, 0.9666666666666667, 0.9666666666666667, 0.9666666666666667, 0.9666666666666667]\n",
      "Avg poly accuracy : 0.9666666666666666\n"
     ]
    }
   ],
   "source": [
    "from sklearn.model_selection import StratifiedKFold \n",
    "\n",
    "X, y = make_imbalance(\n",
    "    iris.data,\n",
    "    iris.target,\n",
    "    sampling_strategy={0: 15, 1: 15, 2: 50},\n",
    "    random_state=16,\n",
    ")\n",
    "\n",
    "k = 5\n",
    "kf = StratifiedKFold(n_splits=k, random_state=None,shuffle=False)\n",
    "poly = SVC(kernel='poly', degree=3, C=1)\n",
    " \n",
    "acc_score_poly = []\n",
    "\n",
    "for train_ix , test_ix in kf.split(X,y):\n",
    "    X_train, X_test = X[train_ix, :], X[test_ix, :]\n",
    "    y_train, y_test = y[train_ix], y[test_ix]\n",
    "     \n",
    "    poly.fit(X_train, y_train)\n",
    "    \n",
    "    pred_poly = poly.predict(X_test)\n",
    "    \n",
    "    acc_score_poly.append(acc_poly)\n",
    "     \n",
    "avg_acc_score_poly = sum(acc_score_poly)/k\n",
    "\n",
    "print('accuracy of each fold in poly - {}'.format(acc_score_poly))\n",
    "print('Avg poly accuracy : {}'.format(avg_acc_score_poly))"
   ]
  },
  {
   "cell_type": "markdown",
   "id": "4177e1b7-8f3d-495a-b83a-cc3a6a75a6f0",
   "metadata": {},
   "source": [
    "##   <span style=\"color:blue\">Recomendaciones</span>"
   ]
  },
  {
   "cell_type": "markdown",
   "id": "b42d2902-e7de-45f3-a258-4c63f1731049",
   "metadata": {},
   "source": [
    "Aquí vimos implementaciones \"manuales\" de como funcionan las metodologías de estos casos de validación cruzada, pero esto en realidad podemos sacarlo en unas cuantas lineas de código"
   ]
  },
  {
   "cell_type": "code",
   "execution_count": 13,
   "id": "68054d57-427e-4b2f-af25-d4020407878f",
   "metadata": {},
   "outputs": [
    {
     "name": "stdout",
     "output_type": "stream",
     "text": [
      "0.9875\n"
     ]
    }
   ],
   "source": [
    "from sklearn.model_selection import cross_val_score\n",
    "\n",
    "\n",
    "print(cross_val_score(poly, X, y, cv=kf).mean())"
   ]
  },
  {
   "cell_type": "markdown",
   "id": "43b02189-57e4-47af-9524-7136a422e17c",
   "metadata": {},
   "source": [
    "Además, podemos mezclar los metodos de validación cruzada con la separación de datos tradicional\n",
    "\n",
    "<figure> \n",
    "<center>\n",
    "<img src=\"https://scikit-learn.org/stable/_images/grid_search_cross_validation.png\"/>\n",
    "</center>\n",
    "</figure>"
   ]
  }
 ],
 "metadata": {
  "kernelspec": {
   "display_name": "Python 3 (ipykernel)",
   "language": "python",
   "name": "python3"
  },
  "language_info": {
   "codemirror_mode": {
    "name": "ipython",
    "version": 3
   },
   "file_extension": ".py",
   "mimetype": "text/x-python",
   "name": "python",
   "nbconvert_exporter": "python",
   "pygments_lexer": "ipython3",
   "version": "3.10.5"
  }
 },
 "nbformat": 4,
 "nbformat_minor": 5
}
