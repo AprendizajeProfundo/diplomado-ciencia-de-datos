{
 "cells": [
  {
   "cell_type": "markdown",
   "id": "94b44deb-1e81-4122-ba1a-82ed6cd5bc66",
   "metadata": {},
   "source": [
    "<figure>\n",
    "<img src=\"../Imagenes/logo-final-ap.png\"  width=\"80\" height=\"80\" align=\"left\"/> \n",
    "</figure>\n",
    "\n",
    "# <span style=\"color:#4361EE\"><left>Aprendizaje Profundo</left></span>"
   ]
  },
  {
   "cell_type": "markdown",
   "id": "83cc57c5-019e-43da-b47a-b56ec7fb6a0a",
   "metadata": {},
   "source": [
    "# <span style=\"color:red\"><center>Diplomado en Ciencia de Datos</center></span>"
   ]
  },
  {
   "cell_type": "markdown",
   "id": "97dda62d-ed33-4807-869e-ab76a96f3a1c",
   "metadata": {},
   "source": [
    "# <span style=\"color:green\"><center>Introducción al paquete `scipy`</center></span>"
   ]
  },
  {
   "cell_type": "markdown",
   "id": "e4cef9a1-03b5-4a20-baa0-6d028a7815c0",
   "metadata": {},
   "source": [
    "<figure>\n",
    "<center>\n",
    "<a href=\"http://www.math.wm.edu/~leemis/chart/UDR/UDR.html\"><img src=\"https://cjtorresj.quarto.pub/ple/09-intro-POO/ChartUnivariateDistributionsRelationships.png\" alt=\"http://www.math.wm.edu/~leemis/chart/UDR/UDR.html\" width=\"400\" height=\"150\" align=\"center\" /> </a>\n",
    "</center>   \n",
    "</figure>\n",
    "\n",
    "<center>Fuente: <a href=\"http://www.math.wm.edu/~leemis/chart/UDR/UDR.html\">Relaciones entre distribuciones univariadas (19 discretas y 57 continuas)</a></center>"
   ]
  },
  {
   "cell_type": "markdown",
   "id": "d001499a-77e6-4f6b-9a57-6410f1bf0362",
   "metadata": {},
   "source": [
    "## <span style=\"color:#4361EE\">Profesores</span>"
   ]
  },
  {
   "cell_type": "markdown",
   "id": "bdfd3b08-cd18-43fb-bd69-a3b45a993379",
   "metadata": {},
   "source": [
    "* Alvaro  Montenegro, PhD, <ammontenegrod@unal.edu.co>\n",
    "* Campo Elías Pardo, PhD, <cepardot@unal.edu.co>\n",
    "* Daniel  Montenegro, Msc, <dextronomo@gmail.com>\n",
    "* Camilo José Torres Jiménez, Msc, <cjtorresj@unal.edu.co>"
   ]
  },
  {
   "cell_type": "markdown",
   "id": "29ec905b-1e35-4b26-8cb5-a571733c55d4",
   "metadata": {},
   "source": [
    "## <span style=\"color:#4361EE\">Asesora Medios y Marketing digital</span>"
   ]
  },
  {
   "cell_type": "markdown",
   "id": "44670e22-aa3f-4d5b-8bd8-c256421a428c",
   "metadata": {},
   "source": [
    "* Maria del Pilar Montenegro, pmontenegro88@gmail.com\n",
    "* Jessica López Mejía, jelopezme@unal.edu.co"
   ]
  },
  {
   "cell_type": "markdown",
   "id": "96d132f7-8417-4202-af10-22f474a5be85",
   "metadata": {},
   "source": [
    "## <span style=\"color:#4361EE\">Jefe Jurídica</span>"
   ]
  },
  {
   "cell_type": "markdown",
   "id": "2ab3132e-20af-42fa-b161-58531333e6d8",
   "metadata": {},
   "source": [
    "* Paula Andrea Guzmán, guzmancruz.paula@gmail.com"
   ]
  },
  {
   "cell_type": "markdown",
   "id": "d9314d79-1a59-4065-b1bc-c24462bca3c9",
   "metadata": {},
   "source": [
    "## <span style=\"color:#4361EE\">Coordinador Jurídico</span>"
   ]
  },
  {
   "cell_type": "markdown",
   "id": "e1d56043-f869-4d70-ac45-aa61b476547f",
   "metadata": {},
   "source": [
    "* David Fuentes, fuentesd065@gmail.com"
   ]
  },
  {
   "cell_type": "markdown",
   "id": "197088ae-dbbc-4a81-8b71-e69378b5c744",
   "metadata": {},
   "source": [
    "## <span style=\"color:#4361EE\">Desarrolladores Principales</span>"
   ]
  },
  {
   "cell_type": "markdown",
   "id": "1d7bc6dd-048f-455e-ac56-c01286f0f1fc",
   "metadata": {},
   "source": [
    "* Dairo Moreno, damoralesj@unal.edu.co\n",
    "* Joan Castro, jocastroc@unal.edu.co\n",
    "* Bryan Riveros, briveros@unal.edu.co\n",
    "* Rosmer Vargas, rovargasc@unal.edu.co\n",
    "* Venus Puertas, vpuertasg@unal.edu.co"
   ]
  },
  {
   "cell_type": "markdown",
   "id": "672c547e-a6a9-416b-ba1a-be2c27e89bdb",
   "metadata": {},
   "source": [
    "## <span style=\"color:#4361EE\">Expertos en Bases de Datos</span>"
   ]
  },
  {
   "cell_type": "markdown",
   "id": "32f22b10-48ac-4a5d-b373-e800fce08bad",
   "metadata": {},
   "source": [
    "* Giovvani Barrera, udgiovanni@gmail.com\n",
    "* Camilo Chitivo, cchitivo@unal.edu.co"
   ]
  },
  {
   "cell_type": "markdown",
   "id": "69313d96-9a27-4d19-84e0-fa0e58a792fe",
   "metadata": {},
   "source": [
    "##   <span style=\"color:#4361EE\">¿Qué es `scipy`?</span>"
   ]
  },
  {
   "cell_type": "markdown",
   "id": "8ab64f2e-0362-42f2-88f3-997167247d35",
   "metadata": {},
   "source": [
    "Scipy es una librería de Python dedicada a la computación científica y técnica. Contiene múltiples algoritmos matemáticos y estadísticos que dan comandos de alto poder para el desarrollo científico. Esta está casi completamente desarrollada sobre numpy.\n",
    "[https://docs.scipy.org/doc/scipy/reference/tutorial/index.html](https://docs.scipy.org/doc/scipy/reference/tutorial/index.html)."
   ]
  },
  {
   "cell_type": "markdown",
   "id": "5c47b64c-ce54-460d-b3bf-07d2994c1ac1",
   "metadata": {},
   "source": [
    "##   <span style=\"color:#4361EE\">Módulos de Scipy</span>"
   ]
  },
  {
   "cell_type": "markdown",
   "id": "a2166570-9615-49a4-9622-faba4806f0fe",
   "metadata": {},
   "source": [
    "Es muy extraño que se importe la librería de Scipy en su totalidad. En su lugar, importamos las sub librerías o \"módulos\" cuyas funcionalidades son muy variadas. Incluso, es posible que solamente necesitemos importar funciones específicas de alguno de los módulos.\n",
    "\n",
    "* **Funciones especiales (scipy.special)**: [https://docs.scipy.org/doc/scipy/reference/special.html](https://docs.scipy.org/doc/scipy/reference/special.html).\n",
    "* **Integración (scipy.integrate)**: [https://docs.scipy.org/doc/scipy/reference/integrate.html](https://docs.scipy.org/doc/scipy/reference/integrate.html).\n",
    "* **Optimización (scipy.optimize)**: [https://docs.scipy.org/doc/scipy/reference/optimize.html](https://docs.scipy.org/doc/scipy/reference/optimize.html).\n",
    "* **Algebra lineal (scipy.linalg)**: [https://docs.scipy.org/doc/scipy/reference/linalg.html](https://docs.scipy.org/doc/scipy/reference/linalg.html).\n",
    "* **Estadística (scipy.stats)**: [https://docs.scipy.org/doc/scipy/reference/stats.html](https://docs.scipy.org/doc/scipy/reference/stats.html)."
   ]
  },
  {
   "cell_type": "markdown",
   "id": "a68a3250-660b-4845-a96b-1a0de27d0503",
   "metadata": {},
   "source": [
    "### <span style=\"color:#4CC9F0\">Constantes</span>"
   ]
  },
  {
   "cell_type": "markdown",
   "id": "8d86bfc5-c499-4d6f-ac74-280dab879e4a",
   "metadata": {},
   "source": [
    "El módulo `constants` es justamente lo que se espera: un conglomerado de diferentes constantes matemáticas guardadas para su uso inmediato."
   ]
  },
  {
   "cell_type": "code",
   "execution_count": 1,
   "id": "14a49b5a-b151-436d-9296-b8601311d7da",
   "metadata": {},
   "outputs": [
    {
     "name": "stdout",
     "output_type": "stream",
     "text": [
      "3.141592653589793\n"
     ]
    }
   ],
   "source": [
    "from scipy import constants\n",
    "\n",
    "print(constants.pi)"
   ]
  },
  {
   "cell_type": "markdown",
   "id": "a693ee18-9eac-45ed-bd7c-ba64e23fcd5c",
   "metadata": {},
   "source": [
    "Podemos mostrar la lista completa de la unidades usando `dir`"
   ]
  },
  {
   "cell_type": "code",
   "execution_count": 2,
   "id": "17e998e8-15c4-437a-8b48-4135b71155be",
   "metadata": {},
   "outputs": [
    {
     "name": "stdout",
     "output_type": "stream",
     "text": [
      "['Avogadro', 'Boltzmann', 'Btu', 'Btu_IT', 'Btu_th', 'ConstantWarning', 'G', 'Julian_year', 'N_A', 'Planck', 'R', 'Rydberg', 'Stefan_Boltzmann', 'Wien', '__all__', '__builtins__', '__cached__', '__doc__', '__file__', '__loader__', '__name__', '__package__', '__path__', '__spec__', '_codata', '_constants', '_obsolete_constants', 'acre', 'alpha', 'angstrom', 'arcmin', 'arcminute', 'arcsec', 'arcsecond', 'astronomical_unit', 'atm', 'atmosphere', 'atomic_mass', 'atto', 'au', 'bar', 'barrel', 'bbl', 'blob', 'c', 'calorie', 'calorie_IT', 'calorie_th', 'carat', 'centi', 'codata', 'constants', 'convert_temperature', 'day', 'deci', 'degree', 'degree_Fahrenheit', 'deka', 'dyn', 'dyne', 'e', 'eV', 'electron_mass', 'electron_volt', 'elementary_charge', 'epsilon_0', 'erg', 'exa', 'exbi', 'femto', 'fermi', 'find', 'fine_structure', 'fluid_ounce', 'fluid_ounce_US', 'fluid_ounce_imp', 'foot', 'g', 'gallon', 'gallon_US', 'gallon_imp', 'gas_constant', 'gibi', 'giga', 'golden', 'golden_ratio', 'grain', 'gram', 'gravitational_constant', 'h', 'hbar', 'hectare', 'hecto', 'horsepower', 'hour', 'hp', 'inch', 'k', 'kgf', 'kibi', 'kilo', 'kilogram_force', 'kmh', 'knot', 'lambda2nu', 'lb', 'lbf', 'light_year', 'liter', 'litre', 'long_ton', 'm_e', 'm_n', 'm_p', 'm_u', 'mach', 'mebi', 'mega', 'metric_ton', 'micro', 'micron', 'mil', 'mile', 'milli', 'minute', 'mmHg', 'mph', 'mu_0', 'nano', 'nautical_mile', 'neutron_mass', 'nu2lambda', 'ounce', 'oz', 'parsec', 'pebi', 'peta', 'physical_constants', 'pi', 'pico', 'point', 'pound', 'pound_force', 'precision', 'proton_mass', 'psi', 'pt', 'short_ton', 'sigma', 'slinch', 'slug', 'speed_of_light', 'speed_of_sound', 'stone', 'survey_foot', 'survey_mile', 'tebi', 'tera', 'test', 'ton_TNT', 'torr', 'troy_ounce', 'troy_pound', 'u', 'unit', 'value', 'week', 'yard', 'year', 'yobi', 'yocto', 'yotta', 'zebi', 'zepto', 'zero_Celsius', 'zetta']\n"
     ]
    }
   ],
   "source": [
    "print(dir(constants))"
   ]
  },
  {
   "cell_type": "markdown",
   "id": "2aceb0bd-9020-48be-b415-b61dd0660f5b",
   "metadata": {},
   "source": [
    "Unidades de particular importancia o interés:\n",
    "- Prefijos del sistema métrico\n",
    "- unidades de masa\n",
    "- unidades de ángulo\n",
    "- longitud\n",
    "- múltiples constantes matemáticas"
   ]
  },
  {
   "cell_type": "code",
   "execution_count": 3,
   "id": "bd7ac2c0-54ee-4c7d-8916-a48420c9e29b",
   "metadata": {},
   "outputs": [
    {
     "name": "stdout",
     "output_type": "stream",
     "text": [
      "1e+24\n",
      "0.45359236999999997\n",
      "0.017453292519943295\n",
      "0.30479999999999996\n",
      "1.618033988749895\n"
     ]
    }
   ],
   "source": [
    "print(constants.yotta) #retorna el valor en el valor unitario\n",
    "print(constants.pound) #retorna el valor en kilogramos\n",
    "print(constants.degree) #retorna el valor en radianes\n",
    "print(constants.foot) #retorna el valor en metros\n",
    "print(constants.golden) #retorna phi"
   ]
  },
  {
   "cell_type": "markdown",
   "id": "be4f10ee-1893-4718-941a-cdce74909d3f",
   "metadata": {},
   "source": [
    "No saben exactamente el nombre de la constante que buscan? `constants` tiene la función `find`"
   ]
  },
  {
   "cell_type": "code",
   "execution_count": 4,
   "id": "b95bfb90-d180-496b-936f-12a74fa6469d",
   "metadata": {},
   "outputs": [
    {
     "data": {
      "text/plain": [
       "['Boltzmann constant',\n",
       " 'Boltzmann constant in Hz/K',\n",
       " 'Boltzmann constant in eV/K',\n",
       " 'Boltzmann constant in inverse meter per kelvin',\n",
       " 'Stefan-Boltzmann constant']"
      ]
     },
     "execution_count": 4,
     "metadata": {},
     "output_type": "execute_result"
    }
   ],
   "source": [
    "constants.find('Boltzmann')"
   ]
  },
  {
   "cell_type": "markdown",
   "id": "0d638f32-f34d-4dda-bd4d-8f48bef7e540",
   "metadata": {},
   "source": [
    "### <span style=\"color:#4CC9F0\">Optimización</span>"
   ]
  },
  {
   "cell_type": "markdown",
   "id": "e424fb37-be68-402c-8a74-3b4568a4d19d",
   "metadata": {},
   "source": [
    "El módulo `optimize` contiene varios algoritmos que se pueden utilizar para resolver problemas de optimización, principalmente para encontrar raices de funciones y potenciales mínimos/máximos."
   ]
  },
  {
   "cell_type": "markdown",
   "id": "29e1f731-a3a8-4eee-9887-6f7804b6723b",
   "metadata": {},
   "source": [
    "Obtengamos primero las raices de una función."
   ]
  },
  {
   "cell_type": "code",
   "execution_count": 5,
   "id": "02e72a40-eec0-4448-8308-792929baf1b8",
   "metadata": {},
   "outputs": [
    {
     "name": "stdout",
     "output_type": "stream",
     "text": [
      "    fjac: array([[-1.]])\n",
      "     fun: array([0.])\n",
      " message: 'The solution converged.'\n",
      "    nfev: 9\n",
      "     qtf: array([-2.66786593e-13])\n",
      "       r: array([-1.67361202])\n",
      "  status: 1\n",
      " success: True\n",
      "       x: array([-0.73908513])\n"
     ]
    }
   ],
   "source": [
    "from scipy.optimize import root\n",
    "import numpy as np\n",
    "\n",
    "def eq(x):\n",
    "    return x+np.cos(x)\n",
    "\n",
    "raiz = root(eq, 0)\n",
    "print(raiz)"
   ]
  },
  {
   "cell_type": "markdown",
   "id": "13a94ab8-dfb8-4b60-ade5-328f4409f63e",
   "metadata": {},
   "source": [
    "Ahora y minimicemos otra función"
   ]
  },
  {
   "cell_type": "code",
   "execution_count": 6,
   "id": "c69b4520-2282-42e3-9bd4-116e14b8090b",
   "metadata": {},
   "outputs": [
    {
     "name": "stdout",
     "output_type": "stream",
     "text": [
      "      fun: 1.75\n",
      " hess_inv: array([[0.50000001]])\n",
      "      jac: array([0.])\n",
      "  message: 'Optimization terminated successfully.'\n",
      "     nfev: 8\n",
      "      nit: 2\n",
      "     njev: 4\n",
      "   status: 0\n",
      "  success: True\n",
      "        x: array([-0.50000001])\n"
     ]
    }
   ],
   "source": [
    "from scipy.optimize import minimize\n",
    "\n",
    "eq2 = lambda x: x**2+x+2\n",
    "\n",
    "minim = minimize(eq2, 0)\n",
    "print(minim)"
   ]
  },
  {
   "cell_type": "markdown",
   "id": "2849af1d-5d0d-4867-85af-91752d3ac31a",
   "metadata": {},
   "source": [
    "## <span style=\"color:#4361EE\">`scipy.stats`</span>"
   ]
  },
  {
   "cell_type": "markdown",
   "id": "a6a8aa50-4de7-4a42-945e-347334ee58c8",
   "metadata": {},
   "source": [
    "Potencialemente, el módulo de interés para la ciencia de datos. Este módulo nos permite trabajar con variables aleatorias, ya bien sean continuas o discretas. Tambíen nos permite realizar algunas pruebas estadísticas (pruebas de hipótesis)."
   ]
  },
  {
   "cell_type": "markdown",
   "id": "4f9fdad4-4330-4a09-b14a-bee25c2058cd",
   "metadata": {},
   "source": [
    "**Discrete Distributions in scipy.stats**:\n",
    "\n",
    "Bernoulli Distribution, Beta-Binomial Distribution, Binomial Distribution, Boltzmann (truncated Planck) Distribution, Planck (discrete exponential) Distribution, Poisson Distribution, Geometric Distribution, Negative Binomial Distribution, Hypergeometric Distribution, Fisher’s Noncentral Hypergeometric Distribution, Wallenius’ Noncentral Hypergeometric Distribution, Negative Hypergeometric Distribution, Zipf (Zeta) Distribution, Zipfian Distribution, Logarithmic (Log-Series, Series) Distribution, Discrete Uniform (randint) Distribution, Discrete Laplacian Distribution, Yule-Simon Distribution\n",
    "\n",
    "**Continuous Distributions in scipy.stats**:\n",
    "\n",
    "Alpha Distribution, Anglit Distribution, Arcsine Distribution, Beta Distribution, Beta Prime Distribution, Bradford Distribution, Burr Distribution, Burr12 Distribution, Cauchy Distribution, Skewed Cauchy Distribution, Chi Distribution, Chi-squared Distribution, Cosine Distribution, Double Gamma Distribution, Double Weibull Distribution, Erlang Distribution, Exponential Distribution, Exponentiated Weibull Distribution, Exponential Power Distribution, Fatigue Life (Birnbaum-Saunders) Distribution, Fisk (Log Logistic) Distribution, Folded Cauchy Distribution, Folded Normal Distribution, Fratio (or F) Distribution, Gamma Distribution, Generalized Logistic Distribution, Generalized Pareto Distribution, Generalized Exponential Distribution, Generalized Extreme Value Distribution, Generalized Gamma Distribution, Generalized Half-Logistic Distribution, Generalized Hyperbolic Distribution, Generalized Inverse Gaussian Distribution, Generalized Normal Distribution, Gilbrat Distribution, Gompertz (Truncated Gumbel) Distribution, Gumbel (LogWeibull, Fisher-Tippetts, Type I Extreme Value) Distribution, Gumbel Left-skewed (for minimum order statistic) Distribution, HalfCauchy Distribution, HalfNormal Distribution, Half-Logistic Distribution, Hyperbolic Secant Distribution, Gauss Hypergeometric Distribution, Inverted Gamma Distribution, Inverse Normal (Inverse Gaussian) Distribution, Inverted Weibull Distribution, Johnson SB Distribution, Johnson SU Distribution, KSone Distribution, KStwo Distribution, KStwobign Distribution, Laplace (Double Exponential, Bilateral Exponential) Distribution, Asymmetric Laplace Distribution, Left-skewed Lévy Distribution, Lévy Distribution, Logistic (Sech-squared) Distribution, Log Double Exponential (Log-Laplace) Distribution, Log Gamma Distribution, Log Normal (Cobb-Douglass) Distribution, Log-Uniform Distribution, Maxwell Distribution, Mielke’s Beta-Kappa Distribution, Nakagami Distribution, Noncentral chi-squared Distribution, Noncentral F Distribution, Noncentral t Distribution, Normal Distribution, Normal Inverse Gaussian Distribution, Pareto Distribution, Pareto Second Kind (Lomax) Distribution, Power Log Normal Distribution, Power Normal Distribution, Power-function Distribution, R-distribution Distribution, Rayleigh Distribution, Rice Distribution, Reciprocal Inverse Gaussian Distribution, Semicircular Distribution, Studentized Range Distribution, Student t Distribution, Trapezoidal Distribution, Triangular Distribution, Truncated Exponential Distribution, Truncated Normal Distribution, Tukey-Lambda Distribution, Uniform Distribution, Von Mises Distribution, Wald Distribution, Weibull Maximum Extreme Value Distribution, Weibull Minimum Extreme Value Distribution, Wrapped Cauchy Distribution"
   ]
  },
  {
   "cell_type": "code",
   "execution_count": 7,
   "id": "ca77b54d-499e-43a9-849f-5ad895861ce6",
   "metadata": {},
   "outputs": [],
   "source": [
    "from scipy.stats import norm, binom # importamos la binomial y la normal"
   ]
  },
  {
   "cell_type": "code",
   "execution_count": 8,
   "id": "67ac9a2c-a0cb-4b52-86ee-067203fe50a7",
   "metadata": {
    "scrolled": true
   },
   "outputs": [
    {
     "name": "stdout",
     "output_type": "stream",
     "text": [
      "A binomial discrete random variable.\n",
      "\n",
      "    As an instance of the `rv_discrete` class, `binom` object inherits from it\n",
      "    a collection of generic methods (see below for the full list),\n",
      "    and completes them with details specific for this particular distribution.\n",
      "    \n",
      "    Methods\n",
      "    -------\n",
      "    rvs(n, p, loc=0, size=1, random_state=None)\n",
      "        Random variates.\n",
      "    pmf(k, n, p, loc=0)\n",
      "        Probability mass function.\n",
      "    logpmf(k, n, p, loc=0)\n",
      "        Log of the probability mass function.\n",
      "    cdf(k, n, p, loc=0)\n",
      "        Cumulative distribution function.\n",
      "    logcdf(k, n, p, loc=0)\n",
      "        Log of the cumulative distribution function.\n",
      "    sf(k, n, p, loc=0)\n",
      "        Survival function  (also defined as ``1 - cdf``, but `sf` is sometimes more accurate).\n",
      "    logsf(k, n, p, loc=0)\n",
      "        Log of the survival function.\n",
      "    ppf(q, n, p, loc=0)\n",
      "        Percent point function (inverse of ``cdf`` --- percentiles).\n",
      "    isf(q, n, p, loc=0)\n",
      "        Inverse survival function (inverse of ``sf``).\n",
      "    stats(n, p, loc=0, moments='mv')\n",
      "        Mean('m'), variance('v'), skew('s'), and/or kurtosis('k').\n",
      "    entropy(n, p, loc=0)\n",
      "        (Differential) entropy of the RV.\n",
      "    expect(func, args=(n, p), loc=0, lb=None, ub=None, conditional=False)\n",
      "        Expected value of a function (of one argument) with respect to the distribution.\n",
      "    median(n, p, loc=0)\n",
      "        Median of the distribution.\n",
      "    mean(n, p, loc=0)\n",
      "        Mean of the distribution.\n",
      "    var(n, p, loc=0)\n",
      "        Variance of the distribution.\n",
      "    std(n, p, loc=0)\n",
      "        Standard deviation of the distribution.\n",
      "    interval(confidence, n, p, loc=0)\n",
      "        Confidence interval with equal areas around the median.\n",
      "\n",
      "    Notes\n",
      "    -----\n",
      "    The probability mass function for `binom` is:\n",
      "\n",
      "    .. math::\n",
      "\n",
      "       f(k) = \\binom{n}{k} p^k (1-p)^{n-k}\n",
      "\n",
      "    for :math:`k \\in \\{0, 1, \\dots, n\\}`, :math:`0 \\leq p \\leq 1`\n",
      "\n",
      "    `binom` takes :math:`n` and :math:`p` as shape parameters,\n",
      "    where :math:`p` is the probability of a single success\n",
      "    and :math:`1-p` is the probability of a single failure.\n",
      "\n",
      "    The probability mass function above is defined in the \"standardized\" form.\n",
      "    To shift distribution use the ``loc`` parameter.\n",
      "    Specifically, ``binom.pmf(k, n, p, loc)`` is identically\n",
      "    equivalent to ``binom.pmf(k - loc, n, p)``.\n",
      "\n",
      "    Examples\n",
      "    --------\n",
      "    >>> from scipy.stats import binom\n",
      "    >>> import matplotlib.pyplot as plt\n",
      "    >>> fig, ax = plt.subplots(1, 1)\n",
      "    \n",
      "    Calculate the first four moments:\n",
      "    \n",
      "    >>> n, p = 5, 0.4\n",
      "    >>> mean, var, skew, kurt = binom.stats(n, p, moments='mvsk')\n",
      "    \n",
      "    Display the probability mass function (``pmf``):\n",
      "    \n",
      "    >>> x = np.arange(binom.ppf(0.01, n, p),\n",
      "    ...               binom.ppf(0.99, n, p))\n",
      "    >>> ax.plot(x, binom.pmf(x, n, p), 'bo', ms=8, label='binom pmf')\n",
      "    >>> ax.vlines(x, 0, binom.pmf(x, n, p), colors='b', lw=5, alpha=0.5)\n",
      "    \n",
      "    Alternatively, the distribution object can be called (as a function)\n",
      "    to fix the shape and location. This returns a \"frozen\" RV object holding\n",
      "    the given parameters fixed.\n",
      "    \n",
      "    Freeze the distribution and display the frozen ``pmf``:\n",
      "    \n",
      "    >>> rv = binom(n, p)\n",
      "    >>> ax.vlines(x, 0, rv.pmf(x), colors='k', linestyles='-', lw=1,\n",
      "    ...         label='frozen pmf')\n",
      "    >>> ax.legend(loc='best', frameon=False)\n",
      "    >>> plt.show()\n",
      "    \n",
      "    Check accuracy of ``cdf`` and ``ppf``:\n",
      "    \n",
      "    >>> prob = binom.cdf(x, n, p)\n",
      "    >>> np.allclose(x, binom.ppf(prob, n, p))\n",
      "    True\n",
      "    \n",
      "    Generate random numbers:\n",
      "    \n",
      "    >>> r = binom.rvs(n, p, size=1000)\n",
      "\n",
      "    See Also\n",
      "    --------\n",
      "    hypergeom, nbinom, nhypergeom\n",
      "\n",
      "    \n"
     ]
    }
   ],
   "source": [
    "#Imprimimos un resumen de la distribución y los métodos que podemos aplicarle\n",
    "print(binom.__doc__)"
   ]
  },
  {
   "cell_type": "code",
   "execution_count": 9,
   "id": "e58b9b47-5958-4347-860a-4e8c334d4d82",
   "metadata": {
    "scrolled": true
   },
   "outputs": [
    {
     "name": "stdout",
     "output_type": "stream",
     "text": [
      "A normal continuous random variable.\n",
      "\n",
      "    The location (``loc``) keyword specifies the mean.\n",
      "    The scale (``scale``) keyword specifies the standard deviation.\n",
      "\n",
      "    As an instance of the `rv_continuous` class, `norm` object inherits from it\n",
      "    a collection of generic methods (see below for the full list),\n",
      "    and completes them with details specific for this particular distribution.\n",
      "    \n",
      "    Methods\n",
      "    -------\n",
      "    rvs(loc=0, scale=1, size=1, random_state=None)\n",
      "        Random variates.\n",
      "    pdf(x, loc=0, scale=1)\n",
      "        Probability density function.\n",
      "    logpdf(x, loc=0, scale=1)\n",
      "        Log of the probability density function.\n",
      "    cdf(x, loc=0, scale=1)\n",
      "        Cumulative distribution function.\n",
      "    logcdf(x, loc=0, scale=1)\n",
      "        Log of the cumulative distribution function.\n",
      "    sf(x, loc=0, scale=1)\n",
      "        Survival function  (also defined as ``1 - cdf``, but `sf` is sometimes more accurate).\n",
      "    logsf(x, loc=0, scale=1)\n",
      "        Log of the survival function.\n",
      "    ppf(q, loc=0, scale=1)\n",
      "        Percent point function (inverse of ``cdf`` --- percentiles).\n",
      "    isf(q, loc=0, scale=1)\n",
      "        Inverse survival function (inverse of ``sf``).\n",
      "    moment(order, loc=0, scale=1)\n",
      "        Non-central moment of the specified order.\n",
      "    stats(loc=0, scale=1, moments='mv')\n",
      "        Mean('m'), variance('v'), skew('s'), and/or kurtosis('k').\n",
      "    entropy(loc=0, scale=1)\n",
      "        (Differential) entropy of the RV.\n",
      "    fit(data)\n",
      "        Parameter estimates for generic data.\n",
      "        See `scipy.stats.rv_continuous.fit <https://docs.scipy.org/doc/scipy/reference/generated/scipy.stats.rv_continuous.fit.html#scipy.stats.rv_continuous.fit>`__ for detailed documentation of the\n",
      "        keyword arguments.\n",
      "    expect(func, args=(), loc=0, scale=1, lb=None, ub=None, conditional=False, **kwds)\n",
      "        Expected value of a function (of one argument) with respect to the distribution.\n",
      "    median(loc=0, scale=1)\n",
      "        Median of the distribution.\n",
      "    mean(loc=0, scale=1)\n",
      "        Mean of the distribution.\n",
      "    var(loc=0, scale=1)\n",
      "        Variance of the distribution.\n",
      "    std(loc=0, scale=1)\n",
      "        Standard deviation of the distribution.\n",
      "    interval(confidence, loc=0, scale=1)\n",
      "        Confidence interval with equal areas around the median.\n",
      "\n",
      "    Notes\n",
      "    -----\n",
      "    The probability density function for `norm` is:\n",
      "\n",
      "    .. math::\n",
      "\n",
      "        f(x) = \\frac{\\exp(-x^2/2)}{\\sqrt{2\\pi}}\n",
      "\n",
      "    for a real number :math:`x`.\n",
      "\n",
      "    The probability density above is defined in the \"standardized\" form. To shift\n",
      "    and/or scale the distribution use the ``loc`` and ``scale`` parameters.\n",
      "    Specifically, ``norm.pdf(x, loc, scale)`` is identically\n",
      "    equivalent to ``norm.pdf(y) / scale`` with\n",
      "    ``y = (x - loc) / scale``. Note that shifting the location of a distribution\n",
      "    does not make it a \"noncentral\" distribution; noncentral generalizations of\n",
      "    some distributions are available in separate classes.\n",
      "\n",
      "    Examples\n",
      "    --------\n",
      "    >>> from scipy.stats import norm\n",
      "    >>> import matplotlib.pyplot as plt\n",
      "    >>> fig, ax = plt.subplots(1, 1)\n",
      "    \n",
      "    Calculate the first four moments:\n",
      "    \n",
      "    \n",
      "    >>> mean, var, skew, kurt = norm.stats(moments='mvsk')\n",
      "    \n",
      "    Display the probability density function (``pdf``):\n",
      "    \n",
      "    >>> x = np.linspace(norm.ppf(0.01),\n",
      "    ...                 norm.ppf(0.99), 100)\n",
      "    >>> ax.plot(x, norm.pdf(x),\n",
      "    ...        'r-', lw=5, alpha=0.6, label='norm pdf')\n",
      "    \n",
      "    Alternatively, the distribution object can be called (as a function)\n",
      "    to fix the shape, location and scale parameters. This returns a \"frozen\"\n",
      "    RV object holding the given parameters fixed.\n",
      "    \n",
      "    Freeze the distribution and display the frozen ``pdf``:\n",
      "    \n",
      "    >>> rv = norm()\n",
      "    >>> ax.plot(x, rv.pdf(x), 'k-', lw=2, label='frozen pdf')\n",
      "    \n",
      "    Check accuracy of ``cdf`` and ``ppf``:\n",
      "    \n",
      "    >>> vals = norm.ppf([0.001, 0.5, 0.999])\n",
      "    >>> np.allclose([0.001, 0.5, 0.999], norm.cdf(vals))\n",
      "    True\n",
      "    \n",
      "    Generate random numbers:\n",
      "    \n",
      "    >>> r = norm.rvs(size=1000)\n",
      "    \n",
      "    And compare the histogram:\n",
      "    \n",
      "    >>> ax.hist(r, density=True, histtype='stepfilled', alpha=0.2)\n",
      "    >>> ax.legend(loc='best', frameon=False)\n",
      "    >>> plt.show()\n",
      "    \n",
      "\n",
      "    \n"
     ]
    }
   ],
   "source": [
    "#Imprimimos un resumen de la distribución y los métodos que podemos aplicarle\n",
    "print(norm.__doc__)"
   ]
  },
  {
   "cell_type": "markdown",
   "id": "25c151b4-779f-443b-8ea6-c08a64098ba1",
   "metadata": {},
   "source": [
    "Vemos un poco más del desarrollo de distribuciones en [este cuaderno](Taller_distribuciones.ipynb#SciPy-para-distribuciones) "
   ]
  },
  {
   "cell_type": "markdown",
   "id": "4ed72af9-364d-4ff8-a6a4-2ea1a41e5882",
   "metadata": {},
   "source": [
    "Podemos generar datos simulados."
   ]
  },
  {
   "cell_type": "code",
   "execution_count": 10,
   "id": "cc5c262c-fd84-406c-84bc-6dfbc465d0d9",
   "metadata": {},
   "outputs": [
    {
     "name": "stdout",
     "output_type": "stream",
     "text": [
      "(array(170.), array(100.), array(0.), array(0.))\n"
     ]
    }
   ],
   "source": [
    "# X1: Variable aleatoria Normal de media 170 y desviación estándar 10\n",
    "X1 = norm(loc=170, scale=10)\n",
    "# Medidas de la variable aleatoria (medidas poblacionales o teóricas)\n",
    "print(X1.stats(moments = 'mvsk'))"
   ]
  },
  {
   "cell_type": "code",
   "execution_count": 11,
   "id": "3c89e738-b212-4785-8521-3a6a489024cc",
   "metadata": {},
   "outputs": [],
   "source": [
    "from numpy.random import default_rng\n",
    "# Semilla para el mecanismo de generación de valores aleatorios\n",
    "rng = default_rng(20230811)\n",
    "# Generación de unos datos simulados provenientes de la anterior variable aleatoria\n",
    "datos = X1.rvs(size=10000, random_state=rng)"
   ]
  },
  {
   "cell_type": "markdown",
   "id": "40757197-477c-41d5-a5b0-3cc85b587f40",
   "metadata": {},
   "source": [
    "Podemos usar la función `describe` para obtener estadísticas descriptivas de un conjunto de datos."
   ]
  },
  {
   "cell_type": "code",
   "execution_count": 12,
   "id": "4c20cfca-918c-497b-8807-bcb5cd2605da",
   "metadata": {},
   "outputs": [
    {
     "name": "stdout",
     "output_type": "stream",
     "text": [
      "DescribeResult(nobs=10000, minmax=(131.65511401525393, 205.72380289066973), mean=170.10074499307518, variance=99.60220023055442, skewness=-0.009811684731217202, kurtosis=-0.05096598676971187)\n"
     ]
    }
   ],
   "source": [
    "from scipy.stats import describe\n",
    "# Medidas de los datos (muestrales)\n",
    "print(describe(datos))"
   ]
  },
  {
   "cell_type": "code",
   "execution_count": 13,
   "id": "043c0128-2587-4dd5-be4c-48dfdea1630b",
   "metadata": {},
   "outputs": [
    {
     "data": {
      "image/png": "[encoded data removed]",
      "text/plain": [
       "<Figure size 864x288 with 2 Axes>"
      ]
     },
     "metadata": {
      "needs_background": "light"
     },
     "output_type": "display_data"
    }
   ],
   "source": [
    "import matplotlib.pyplot as plt\n",
    "import seaborn as sns\n",
    "\n",
    "f, axs = plt.subplots(1, 2, figsize=[12, 4])\n",
    "sns.histplot(data=datos, ax=axs[0], kde=True)\n",
    "sns.ecdfplot(data=datos, ax=axs[1])\n",
    "f.tight_layout()"
   ]
  },
  {
   "cell_type": "markdown",
   "id": "62ecf8c5-f829-4c58-abcf-1ee4a03c7ed0",
   "metadata": {
    "tags": []
   },
   "source": [
    "## <span style=\"color:#4361EE\">Pruebas de hipótesis</span>"
   ]
  },
  {
   "cell_type": "markdown",
   "id": "c14d139c-3ebd-4032-8b74-b12f12bccc49",
   "metadata": {},
   "source": [
    "como indica su nombre, y de una forma muy resumida, una prueba de hipótesis se utiliza para comprobar una suposición sobre un parámetro en una población (o poblaciones).\n",
    "\n",
    "Hay múltiples pruebas para casos altamente especializados, es ventajoso entonces que Scipy tiene varias de estas pruebas y solo necesitamos darle los datos a comprobar."
   ]
  },
  {
   "cell_type": "markdown",
   "id": "4b1abf9e-78eb-4b18-863f-2a7b76c7c837",
   "metadata": {
    "tags": []
   },
   "source": [
    "### <span style=\"color:#4CC9F0\">Pruebas sobre una población</span>"
   ]
  },
  {
   "cell_type": "markdown",
   "id": "e09e4999-0801-447b-a5a6-3ea45fde73bb",
   "metadata": {},
   "source": [
    "Un pequeño ejemplo de una prueba de hipótesis.\n",
    "\n",
    "Supongamos que queremos comprobar que la media de una población es igual a $k$. Para esto Pensamos en dos hipótesis:\n",
    "\n",
    "- Hipótesis nula: la media poblacional es en efecto $k$\n",
    "\n",
    "- Hipótesis alterna: la media poblacional es diferente a $k$\n",
    "\n",
    "definimos un \"valor de significancia\" $\\alpha$. el cuál se refiere a la probabilidad de rechazar la hipótesis nula a favor de la hipótesis alterna. Esta usualmente toma valores de 0.1, 0.05, 0.01\n",
    "\n",
    "La prueba para comprobar si la media es diferente a $k$ sería la conocida \"Prueba T\" univariada, la cual se encuentra en Scipy."
   ]
  },
  {
   "cell_type": "code",
   "execution_count": 14,
   "id": "038a9d97-d3e6-45cf-a369-33a0e2988ba0",
   "metadata": {},
   "outputs": [
    {
     "name": "stdout",
     "output_type": "stream",
     "text": [
      "DescribeResult(nobs=100, minmax=(-2.469556006553479, 2.9089956693589043), mean=0.0007175850638599358, variance=0.9930691952837386, skewness=-0.07874205402315321, kurtosis=-0.2737853903421388)\n"
     ]
    }
   ],
   "source": [
    "from scipy.stats import ttest_1samp\n",
    "\n",
    "# Simulamos unos datos que provengan de una normal estándar\n",
    "v1 = norm.rvs(size=100, random_state=rng)\n",
    "print(describe(v1))"
   ]
  },
  {
   "cell_type": "code",
   "execution_count": 15,
   "id": "4dc6b2a5-65cd-4b1a-9c01-aef3343f2c57",
   "metadata": {},
   "outputs": [
    {
     "data": {
      "image/png": "[encoded data removed]",
      "text/plain": [
       "<Figure size 864x288 with 2 Axes>"
      ]
     },
     "metadata": {
      "needs_background": "light"
     },
     "output_type": "display_data"
    }
   ],
   "source": [
    "import matplotlib.pyplot as plt\n",
    "import seaborn as sns\n",
    "\n",
    "f, axs = plt.subplots(1, 2, figsize=[12, 4])\n",
    "sns.histplot(data=v1, ax=axs[0], kde=True)\n",
    "axs[0].set_xlim(-3.5, 3.5)\n",
    "sns.ecdfplot(data=v1, ax=axs[1])\n",
    "axs[1].set_xlim(-3.5, 3.5)\n",
    "f.tight_layout()"
   ]
  },
  {
   "cell_type": "code",
   "execution_count": 16,
   "id": "ef5aa81f-2ea3-40f5-9e1d-1bb2f919a9e5",
   "metadata": {},
   "outputs": [
    {
     "name": "stdout",
     "output_type": "stream",
     "text": [
      "Ttest_1sampResult(statistic=0.007200847861787429, pvalue=0.9942690948439903)\n"
     ]
    }
   ],
   "source": [
    "# Definamos k = 0\n",
    "k = 0\n",
    "res = ttest_1samp(v1, k)\n",
    "print(res)"
   ]
  },
  {
   "cell_type": "markdown",
   "id": "33751124-be46-42e8-83b1-684650777594",
   "metadata": {},
   "source": [
    "el parámetro a prestar atención aquí es el \"pvalue\" o el p-valor. Esta es una medida sencilla de entender para comprobar las hipótesis hechas.\n",
    "\n",
    "- $p\\leq \\alpha$: rechazamos la hipótesis nula y nos quedamos con la hipótesis alterna\n",
    "- $p > \\alpha$: No nos es posible rechazar la hipótesis nula.\n",
    "\n",
    "En el caso de arriba, suponiendo un $\\alpha = 0.05$, no podemos rechazar la hipótesis nula de que la media sea igual a $k$."
   ]
  },
  {
   "cell_type": "markdown",
   "id": "4b773a31-efa6-43eb-bd33-d74ef4663660",
   "metadata": {},
   "source": [
    "Tratemos otro caso"
   ]
  },
  {
   "cell_type": "code",
   "execution_count": 17,
   "id": "57cbc39f-77b8-4127-8fe6-0a314ccc86d0",
   "metadata": {},
   "outputs": [
    {
     "name": "stdout",
     "output_type": "stream",
     "text": [
      "Ttest_1sampResult(statistic=-10.027634357672746, pvalue=9.52202770773661e-17)\n"
     ]
    }
   ],
   "source": [
    "k = 1\n",
    "res = ttest_1samp(v1, k)\n",
    "print(res)"
   ]
  },
  {
   "cell_type": "markdown",
   "id": "1bf5d35f-3ad1-4990-80d2-8ef6d04fbee3",
   "metadata": {
    "tags": []
   },
   "source": [
    "### <span style=\"color:#4CC9F0\">Pruebas sobre dos poblaciones</span>"
   ]
  },
  {
   "cell_type": "markdown",
   "id": "60544c0a-f80a-4b21-915d-6501973d3dea",
   "metadata": {},
   "source": [
    "Otra posible prueba de hipótesis tendría que ver con obtener el mismo parámetros con dos poblaciones. En este caso las hipótesis serían de esta manera:\n",
    "\n",
    "- Hipótesis nula: la media de la población 1 y la media de la población 2 son diferentes\n",
    "- Hipótesis alterna: las medias de las poblaciones 1 y 2 son diferentes.\n",
    "\n",
    "Para este caso, la prueba T tiene una versión para comparar dos muestras. "
   ]
  },
  {
   "cell_type": "code",
   "execution_count": 18,
   "id": "bac16fa2-f21f-443a-ac69-613a208e7036",
   "metadata": {},
   "outputs": [
    {
     "name": "stdout",
     "output_type": "stream",
     "text": [
      "DescribeResult(nobs=100, minmax=(-2.998120735899525, 2.035752563528225), mean=0.07336553062307041, variance=0.9142435485189154, skewness=-0.6694676662194637, kurtosis=0.9091169798602445)\n"
     ]
    }
   ],
   "source": [
    "from scipy.stats import norm, ttest_ind\n",
    "\n",
    "v2 = norm.rvs(size=100, random_state=rng)\n",
    "print(describe(v2))"
   ]
  },
  {
   "cell_type": "code",
   "execution_count": 19,
   "id": "4e8b3e7e-dfdc-47ef-8082-4fc64490930d",
   "metadata": {},
   "outputs": [
    {
     "data": {
      "image/png": "[encoded data removed]",
      "text/plain": [
       "<Figure size 864x288 with 2 Axes>"
      ]
     },
     "metadata": {
      "needs_background": "light"
     },
     "output_type": "display_data"
    }
   ],
   "source": [
    "import matplotlib.pyplot as plt\n",
    "import seaborn as sns\n",
    "\n",
    "f, axs = plt.subplots(1, 2, figsize=[12, 4])\n",
    "sns.histplot(data=v1, ax=axs[0], kde=True)\n",
    "axs[0].set_xlim(-3.5, 3.5)\n",
    "sns.histplot(data=v2, ax=axs[1], kde=True)\n",
    "axs[1].set_xlim(-3.5, 3.5)\n",
    "f.tight_layout()"
   ]
  },
  {
   "cell_type": "code",
   "execution_count": 20,
   "id": "07a6a9c5-5d77-4ffe-aa1e-9956fee3e0f0",
   "metadata": {},
   "outputs": [
    {
     "name": "stdout",
     "output_type": "stream",
     "text": [
      "Ttest_indResult(statistic=-0.5260322636099152, pvalue=0.5994544762010998)\n"
     ]
    }
   ],
   "source": [
    "res = ttest_ind(v1, v2)\n",
    "print(res)"
   ]
  },
  {
   "cell_type": "code",
   "execution_count": 21,
   "id": "741b90b9-862c-443d-b99a-b5fe79977b29",
   "metadata": {},
   "outputs": [
    {
     "name": "stdout",
     "output_type": "stream",
     "text": [
      "DescribeResult(nobs=100, minmax=(-1.9923776915481017, 2.8334252449352317), mean=0.6435716429721591, variance=0.82584806798444, skewness=-0.2519607650320708, kurtosis=0.5347892338693931)\n"
     ]
    }
   ],
   "source": [
    "v3 = norm(loc = 0.5).rvs(size=100, random_state=rng)\n",
    "print(describe(v3))"
   ]
  },
  {
   "cell_type": "code",
   "execution_count": 22,
   "id": "cf2e190e-7ffa-4814-a746-71e350d649f0",
   "metadata": {},
   "outputs": [
    {
     "data": {
      "image/png": "[encoded data removed]",
      "text/plain": [
       "<Figure size 864x288 with 2 Axes>"
      ]
     },
     "metadata": {
      "needs_background": "light"
     },
     "output_type": "display_data"
    }
   ],
   "source": [
    "import matplotlib.pyplot as plt\n",
    "import seaborn as sns\n",
    "\n",
    "f, axs = plt.subplots(1, 2, figsize=[12, 4])\n",
    "sns.histplot(data=v1, ax=axs[0], kde=True)\n",
    "axs[0].set_xlim(-3.5, 3.5)\n",
    "sns.histplot(data=v3, ax=axs[1], kde=True)\n",
    "axs[1].set_xlim(-3.5, 3.5)\n",
    "f.tight_layout()"
   ]
  },
  {
   "cell_type": "code",
   "execution_count": 23,
   "id": "47e5ccb4-8c39-43a7-bf9f-d75d409e2899",
   "metadata": {},
   "outputs": [
    {
     "name": "stdout",
     "output_type": "stream",
     "text": [
      "Ttest_indResult(statistic=-4.7665693628944235, pvalue=3.6228037457561563e-06)\n"
     ]
    }
   ],
   "source": [
    "res = ttest_ind(v1, v3, equal_var=True)\n",
    "print(res)"
   ]
  },
  {
   "cell_type": "markdown",
   "id": "38bb7e73-9541-42b7-b630-efd75826d2ef",
   "metadata": {},
   "source": [
    "### <span style=\"color:#4CC9F0\">Prueba de normalidad (Shapiro-Wilk)</span>"
   ]
  },
  {
   "cell_type": "markdown",
   "id": "2929c40b-4c5b-4105-9d03-9937e32d7a3b",
   "metadata": {},
   "source": [
    "Consultar: <https://docs.scipy.org/doc/scipy/reference/generated/scipy.stats.shapiro.html#scipy.stats.shapiro>"
   ]
  },
  {
   "cell_type": "code",
   "execution_count": 24,
   "id": "80f927c9-0610-4628-8d95-b6ec4bd5c4cb",
   "metadata": {},
   "outputs": [
    {
     "name": "stdout",
     "output_type": "stream",
     "text": [
      "ShapiroResult(statistic=0.9863544702529907, pvalue=0.3956984281539917)\n"
     ]
    }
   ],
   "source": [
    "from scipy.stats import shapiro\n",
    "res = shapiro(v1)\n",
    "print(res)"
   ]
  },
  {
   "cell_type": "code",
   "execution_count": 25,
   "id": "5659a6d0-af53-4c76-9886-487c75364a3a",
   "metadata": {},
   "outputs": [
    {
     "data": {
      "image/png": "[encoded data removed]",
      "text/plain": [
       "<Figure size 432x288 with 1 Axes>"
      ]
     },
     "metadata": {
      "needs_background": "light"
     },
     "output_type": "display_data"
    }
   ],
   "source": [
    "from scipy.stats import probplot\n",
    "res = probplot(v1, plot=sns.mpl.pyplot)"
   ]
  }
 ],
 "metadata": {
  "kernelspec": {
   "display_name": "Python 3 (ipykernel)",
   "language": "python",
   "name": "python3"
  },
  "language_info": {
   "codemirror_mode": {
    "name": "ipython",
    "version": 3
   },
   "file_extension": ".py",
   "mimetype": "text/x-python",
   "name": "python",
   "nbconvert_exporter": "python",
   "pygments_lexer": "ipython3",
   "version": "3.10.9"
  }
 },
 "nbformat": 4,
 "nbformat_minor": 5
}
