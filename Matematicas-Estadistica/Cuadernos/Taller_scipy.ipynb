{
 "cells": [
  {
   "cell_type": "markdown",
   "id": "94b44deb-1e81-4122-ba1a-82ed6cd5bc66",
   "metadata": {},
   "source": [
    "<figure>\n",
    "<img src=\"../Imagenes/logo-final-ap.png\"  width=\"80\" height=\"80\" align=\"left\"/> \n",
    "</figure>\n",
    "\n",
    "# <span style=\"color:#4361EE\"><left>Aprendizaje Profundo</left></span>"
   ]
  },
  {
   "cell_type": "markdown",
   "id": "83cc57c5-019e-43da-b47a-b56ec7fb6a0a",
   "metadata": {},
   "source": [
    "# <span style=\"color:red\"><center>Diplomado en Ciencia de Datos</center></span>"
   ]
  },
  {
   "cell_type": "markdown",
   "id": "97dda62d-ed33-4807-869e-ab76a96f3a1c",
   "metadata": {},
   "source": [
    "# <span style=\"color:green\"><center>Introducción al paquete `scipy`</center></span>"
   ]
  },
  {
   "cell_type": "markdown",
   "id": "e4cef9a1-03b5-4a20-baa0-6d028a7815c0",
   "metadata": {},
   "source": [
    "<figure>\n",
    "<center>\n",
    "<img src=\"https://raw.githubusercontent.com/AprendizajeProfundo/Alejandria/main/Archivos_Generales/Imagenes/Carretera.jpg\" width=\"600\" height=\"400\" align=\"center\" /> \n",
    "</center>   \n",
    "</figure>\n",
    "\n",
    "<center>Fuente: <a href=\"https://sp.depositphotos.com/stock-photos/architecture-buildings.html\">Dubai downtown cityscape - sp.depositphotos.com</a></center>"
   ]
  },
  {
   "cell_type": "markdown",
   "id": "d001499a-77e6-4f6b-9a57-6410f1bf0362",
   "metadata": {},
   "source": [
    "## <span style=\"color:#4361EE\">Profesores</span>"
   ]
  },
  {
   "cell_type": "markdown",
   "id": "bdfd3b08-cd18-43fb-bd69-a3b45a993379",
   "metadata": {},
   "source": [
    "* Alvaro  Montenegro, PhD, <ammontenegrod@unal.edu.co>\n",
    "* Campo Elías Pardo, PhD, <cepardot@unal.edu.co>\n",
    "* Daniel  Montenegro, Msc, <dextronomo@gmail.com>\n",
    "* Camilo José Torres Jiménez, Msc, <cjtorresj@unal.edu.co>"
   ]
  },
  {
   "cell_type": "markdown",
   "id": "29ec905b-1e35-4b26-8cb5-a571733c55d4",
   "metadata": {},
   "source": [
    "## <span style=\"color:#4361EE\">Asesora Medios y Marketing digital</span>"
   ]
  },
  {
   "cell_type": "markdown",
   "id": "44670e22-aa3f-4d5b-8bd8-c256421a428c",
   "metadata": {},
   "source": [
    "* Maria del Pilar Montenegro, pmontenegro88@gmail.com\n",
    "* Jessica López Mejía, jelopezme@unal.edu.co"
   ]
  },
  {
   "cell_type": "markdown",
   "id": "96d132f7-8417-4202-af10-22f474a5be85",
   "metadata": {},
   "source": [
    "## <span style=\"color:#4361EE\">Jefe Jurídica</span>"
   ]
  },
  {
   "cell_type": "markdown",
   "id": "2ab3132e-20af-42fa-b161-58531333e6d8",
   "metadata": {},
   "source": [
    "* Paula Andrea Guzmán, guzmancruz.paula@gmail.com"
   ]
  },
  {
   "cell_type": "markdown",
   "id": "d9314d79-1a59-4065-b1bc-c24462bca3c9",
   "metadata": {},
   "source": [
    "## <span style=\"color:#4361EE\">Coordinador Jurídico</span>"
   ]
  },
  {
   "cell_type": "markdown",
   "id": "e1d56043-f869-4d70-ac45-aa61b476547f",
   "metadata": {},
   "source": [
    "* David Fuentes, fuentesd065@gmail.com"
   ]
  },
  {
   "cell_type": "markdown",
   "id": "197088ae-dbbc-4a81-8b71-e69378b5c744",
   "metadata": {},
   "source": [
    "## <span style=\"color:#4361EE\">Desarrolladores Principales</span>"
   ]
  },
  {
   "cell_type": "markdown",
   "id": "1d7bc6dd-048f-455e-ac56-c01286f0f1fc",
   "metadata": {},
   "source": [
    "* Dairo Moreno, damoralesj@unal.edu.co\n",
    "* Joan Castro, jocastroc@unal.edu.co\n",
    "* Bryan Riveros, briveros@unal.edu.co\n",
    "* Rosmer Vargas, rovargasc@unal.edu.co\n",
    "* Venus Puertas, vpuertasg@unal.edu.co"
   ]
  },
  {
   "cell_type": "markdown",
   "id": "672c547e-a6a9-416b-ba1a-be2c27e89bdb",
   "metadata": {},
   "source": [
    "## <span style=\"color:#4361EE\">Expertos en Bases de Datos</span>"
   ]
  },
  {
   "cell_type": "markdown",
   "id": "32f22b10-48ac-4a5d-b373-e800fce08bad",
   "metadata": {},
   "source": [
    "* Giovvani Barrera, udgiovanni@gmail.com\n",
    "* Camilo Chitivo, cchitivo@unal.edu.co"
   ]
  },
  {
   "cell_type": "markdown",
   "id": "69313d96-9a27-4d19-84e0-fa0e58a792fe",
   "metadata": {},
   "source": [
    "##   <span style=\"color:#4361EE\">¿Qué es `scipy`?</span>"
   ]
  },
  {
   "cell_type": "markdown",
   "id": "8ab64f2e-0362-42f2-88f3-997167247d35",
   "metadata": {},
   "source": [
    "Scipy es una librería de Python dedicada a la computación científica y técnica. Contiene múltiples algoritmos matemáticos y estadísticos que dan comandos de alto poder para el desarrollo científico. Esta está casi completamente desarrollada sobre numpy.\n",
    "\n",
    "[https://docs.scipy.org/doc/scipy/reference/tutorial/index.html](https://docs.scipy.org/doc/scipy/reference/tutorial/index.html)."
   ]
  },
  {
   "cell_type": "markdown",
   "id": "5c47b64c-ce54-460d-b3bf-07d2994c1ac1",
   "metadata": {},
   "source": [
    "##   <span style=\"color:#4361EE\">Sub librerías de Scipy</span>"
   ]
  },
  {
   "cell_type": "markdown",
   "id": "a2166570-9615-49a4-9622-faba4806f0fe",
   "metadata": {},
   "source": [
    "Es muy extraño que se importe la librería de Scipy en su totalidad. En su lugar, importamos las sub librerías o \"modulos\" cuyas funcionalidades son muy variadas. Incluso, solo importamos funciones específicas.\n",
    "\n",
    "* **Funciones especiales (scipy.special)**: [https://docs.scipy.org/doc/scipy/reference/special.html](https://docs.scipy.org/doc/scipy/reference/special.html).\n",
    "* **Integración (scipy.integrate)**: [https://docs.scipy.org/doc/scipy/reference/integrate.html](https://docs.scipy.org/doc/scipy/reference/integrate.html).\n",
    "* **Optimización (scipy.optimize)**: [https://docs.scipy.org/doc/scipy/reference/optimize.html](https://docs.scipy.org/doc/scipy/reference/optimize.html).\n",
    "* **Algebra lineal (scipy.linalg)**: [https://docs.scipy.org/doc/scipy/reference/linalg.html](https://docs.scipy.org/doc/scipy/reference/linalg.html).\n",
    "* **Estadística (scipy.stats)**: [https://docs.scipy.org/doc/scipy/reference/stats.html](https://docs.scipy.org/doc/scipy/reference/stats.html)."
   ]
  },
  {
   "cell_type": "markdown",
   "id": "a68a3250-660b-4845-a96b-1a0de27d0503",
   "metadata": {},
   "source": [
    "### <span style=\"color:#4CC9F0\">Constantes</span>"
   ]
  },
  {
   "cell_type": "markdown",
   "id": "8d86bfc5-c499-4d6f-ac74-280dab879e4a",
   "metadata": {},
   "source": [
    "la sublibrería \"constants\" es justamente lo que se espera. Un conglomerado de diferentes constantes matemáticas guardadas para su uso inmediato."
   ]
  },
  {
   "cell_type": "code",
   "execution_count": 2,
   "id": "14a49b5a-b151-436d-9296-b8601311d7da",
   "metadata": {},
   "outputs": [
    {
     "name": "stdout",
     "output_type": "stream",
     "text": [
      "3.141592653589793\n"
     ]
    }
   ],
   "source": [
    "from scipy import constants\n",
    "\n",
    "print(constants.pi)"
   ]
  },
  {
   "cell_type": "markdown",
   "id": "a693ee18-9eac-45ed-bd7c-ba64e23fcd5c",
   "metadata": {},
   "source": [
    "Podemos mostrar la lista completa de la unidades que podemos invocar usando `dir`"
   ]
  },
  {
   "cell_type": "code",
   "execution_count": 4,
   "id": "17e998e8-15c4-437a-8b48-4135b71155be",
   "metadata": {},
   "outputs": [
    {
     "name": "stdout",
     "output_type": "stream",
     "text": [
      "['Avogadro', 'Boltzmann', 'Btu', 'Btu_IT', 'Btu_th', 'ConstantWarning', 'G', 'Julian_year', 'N_A', 'Planck', 'R', 'Rydberg', 'Stefan_Boltzmann', 'Wien', '__all__', '__builtins__', '__cached__', '__doc__', '__file__', '__loader__', '__name__', '__package__', '__path__', '__spec__', '_codata', '_constants', '_obsolete_constants', 'acre', 'alpha', 'angstrom', 'arcmin', 'arcminute', 'arcsec', 'arcsecond', 'astronomical_unit', 'atm', 'atmosphere', 'atomic_mass', 'atto', 'au', 'bar', 'barrel', 'bbl', 'blob', 'c', 'calorie', 'calorie_IT', 'calorie_th', 'carat', 'centi', 'codata', 'constants', 'convert_temperature', 'day', 'deci', 'degree', 'degree_Fahrenheit', 'deka', 'dyn', 'dyne', 'e', 'eV', 'electron_mass', 'electron_volt', 'elementary_charge', 'epsilon_0', 'erg', 'exa', 'exbi', 'femto', 'fermi', 'find', 'fine_structure', 'fluid_ounce', 'fluid_ounce_US', 'fluid_ounce_imp', 'foot', 'g', 'gallon', 'gallon_US', 'gallon_imp', 'gas_constant', 'gibi', 'giga', 'golden', 'golden_ratio', 'grain', 'gram', 'gravitational_constant', 'h', 'hbar', 'hectare', 'hecto', 'horsepower', 'hour', 'hp', 'inch', 'k', 'kgf', 'kibi', 'kilo', 'kilogram_force', 'kmh', 'knot', 'lambda2nu', 'lb', 'lbf', 'light_year', 'liter', 'litre', 'long_ton', 'm_e', 'm_n', 'm_p', 'm_u', 'mach', 'mebi', 'mega', 'metric_ton', 'micro', 'micron', 'mil', 'mile', 'milli', 'minute', 'mmHg', 'mph', 'mu_0', 'nano', 'nautical_mile', 'neutron_mass', 'nu2lambda', 'ounce', 'oz', 'parsec', 'pebi', 'peta', 'physical_constants', 'pi', 'pico', 'point', 'pound', 'pound_force', 'precision', 'proton_mass', 'psi', 'pt', 'short_ton', 'sigma', 'slinch', 'slug', 'speed_of_light', 'speed_of_sound', 'stone', 'survey_foot', 'survey_mile', 'tebi', 'tera', 'test', 'ton_TNT', 'torr', 'troy_ounce', 'troy_pound', 'u', 'unit', 'value', 'week', 'yard', 'year', 'yobi', 'yocto', 'yotta', 'zebi', 'zepto', 'zero_Celsius', 'zetta']\n"
     ]
    }
   ],
   "source": [
    "print(dir(constants))"
   ]
  },
  {
   "cell_type": "markdown",
   "id": "2aceb0bd-9020-48be-b415-b61dd0660f5b",
   "metadata": {},
   "source": [
    "Unidades de particular importancia o interés:\n",
    "- Prefijos del sistema métrico\n",
    "- unidades de masa\n",
    "- unidades de ángulo\n",
    "- longitud\n",
    "- múltiples constantes matemáticas"
   ]
  },
  {
   "cell_type": "code",
   "execution_count": 3,
   "id": "bd7ac2c0-54ee-4c7d-8916-a48420c9e29b",
   "metadata": {},
   "outputs": [
    {
     "name": "stdout",
     "output_type": "stream",
     "text": [
      "1e+24\n",
      "0.45359236999999997\n",
      "0.017453292519943295\n",
      "0.30479999999999996\n",
      "1.618033988749895\n"
     ]
    }
   ],
   "source": [
    "print(constants.yotta) #retorna el valor en el valor unitario\n",
    "print(constants.pound) #retorna el valor en kilogramos\n",
    "print(constants.degree) #retorna el valor en radianes\n",
    "print(constants.foot) #retorna el valor en metros\n",
    "print(constants.golden) #retorna phi"
   ]
  },
  {
   "cell_type": "markdown",
   "id": "be4f10ee-1893-4718-941a-cdce74909d3f",
   "metadata": {},
   "source": [
    "No saben exactamente el nombre de la constante que buscan? constants tiene la función `find`"
   ]
  },
  {
   "cell_type": "code",
   "execution_count": 4,
   "id": "b95bfb90-d180-496b-936f-12a74fa6469d",
   "metadata": {},
   "outputs": [
    {
     "data": {
      "text/plain": [
       "['Boltzmann constant',\n",
       " 'Boltzmann constant in Hz/K',\n",
       " 'Boltzmann constant in eV/K',\n",
       " 'Boltzmann constant in inverse meter per kelvin',\n",
       " 'Stefan-Boltzmann constant']"
      ]
     },
     "execution_count": 4,
     "metadata": {},
     "output_type": "execute_result"
    }
   ],
   "source": [
    "constants.find('Boltzmann')"
   ]
  },
  {
   "cell_type": "markdown",
   "id": "0d638f32-f34d-4dda-bd4d-8f48bef7e540",
   "metadata": {},
   "source": [
    "### <span style=\"color:#4CC9F0\">Optimización</span>"
   ]
  },
  {
   "cell_type": "markdown",
   "id": "106ce928-defe-45ef-bd29-c86042e5f3bf",
   "metadata": {},
   "source": [
    "La sublibrería \"Optimize\" contiene múltiples algoritmos para optimizar ciertas funciones, principalmente para encontrar raices de funciones polinómicas y lineales, junto con encontrar mínimos.\n",
    "\n",
    "Obtengamos primero las raices de unas funciones."
   ]
  },
  {
   "cell_type": "code",
   "execution_count": 5,
   "id": "02e72a40-eec0-4448-8308-792929baf1b8",
   "metadata": {},
   "outputs": [
    {
     "name": "stdout",
     "output_type": "stream",
     "text": [
      "    fjac: array([[-1.]])\n",
      "     fun: array([0.])\n",
      " message: 'The solution converged.'\n",
      "    nfev: 9\n",
      "     qtf: array([-2.66786593e-13])\n",
      "       r: array([-1.67361202])\n",
      "  status: 1\n",
      " success: True\n",
      "       x: array([-0.73908513])\n"
     ]
    }
   ],
   "source": [
    "from scipy.optimize import root\n",
    "from numpy import cos\n",
    "\n",
    "def eq(x):\n",
    "    return x+cos(x)\n",
    "\n",
    "raiz = root(eq, 0)\n",
    "\n",
    "print(raiz)"
   ]
  },
  {
   "cell_type": "markdown",
   "id": "13a94ab8-dfb8-4b60-ade5-328f4409f63e",
   "metadata": {},
   "source": [
    "Ahora y minimicemos otra función"
   ]
  },
  {
   "cell_type": "code",
   "execution_count": 17,
   "id": "c69b4520-2282-42e3-9bd4-116e14b8090b",
   "metadata": {},
   "outputs": [
    {
     "name": "stdout",
     "output_type": "stream",
     "text": [
      "      fun: 1.75\n",
      " hess_inv: array([[0.50000001]])\n",
      "      jac: array([0.])\n",
      "  message: 'Optimization terminated successfully.'\n",
      "     nfev: 8\n",
      "      nit: 2\n",
      "     njev: 4\n",
      "   status: 0\n",
      "  success: True\n",
      "        x: array([-0.50000001])\n"
     ]
    }
   ],
   "source": [
    "from scipy.optimize import minimize\n",
    "\n",
    "eq2 = lambda x: x**2+x+2\n",
    "\n",
    "minim = minimize(eq2, 0)\n",
    "print(minim)"
   ]
  },
  {
   "cell_type": "markdown",
   "id": "2849af1d-5d0d-4867-85af-91752d3ac31a",
   "metadata": {},
   "source": [
    "## <span style=\"color:#4361EE\">`scipy.stats`</span>"
   ]
  },
  {
   "cell_type": "markdown",
   "id": "a6a8aa50-4de7-4a42-945e-347334ee58c8",
   "metadata": {},
   "source": [
    "La sublibrería que de mayor interés a nivel de ciencia de datos. Esta nos permite trabajar con variables aleatorias, ya bien sean continuas o discretas, como pruebas de hipótesis para resolver información sobre los datos que estamos trabajando. obtengamos directamente unas distribuciones y veamos lo que podemos hacer con esto"
   ]
  },
  {
   "cell_type": "code",
   "execution_count": 6,
   "id": "f464e93e-c528-4ef4-aaa4-0c4988ca9036",
   "metadata": {},
   "outputs": [
    {
     "name": "stdout",
     "output_type": "stream",
     "text": [
      "A normal continuous random variable.\n",
      "\n",
      "    The location (``loc``) keyword specifies the mean.\n",
      "    The scale (``scale``) keyword specifies the standard deviation.\n",
      "\n",
      "    As an instance of the `rv_continuous` class, `norm` object inherits from it\n",
      "    a collection of generic methods (see below for the full list),\n",
      "    and completes them with details specific for this particular distribution.\n",
      "    \n",
      "    Methods\n",
      "    -------\n",
      "    rvs(loc=0, scale=1, size=1, random_state=None)\n",
      "        Random variates.\n",
      "    pdf(x, loc=0, scale=1)\n",
      "        Probability density function.\n",
      "    logpdf(x, loc=0, scale=1)\n",
      "        Log of the probability density function.\n",
      "    cdf(x, loc=0, scale=1)\n",
      "        Cumulative distribution function.\n",
      "    logcdf(x, loc=0, scale=1)\n",
      "        Log of the cumulative distribution function.\n",
      "    sf(x, loc=0, scale=1)\n",
      "        Survival function  (also defined as ``1 - cdf``, but `sf` is sometimes more accurate).\n",
      "    logsf(x, loc=0, scale=1)\n",
      "        Log of the survival function.\n",
      "    ppf(q, loc=0, scale=1)\n",
      "        Percent point function (inverse of ``cdf`` --- percentiles).\n",
      "    isf(q, loc=0, scale=1)\n",
      "        Inverse survival function (inverse of ``sf``).\n",
      "    moment(order, loc=0, scale=1)\n",
      "        Non-central moment of the specified order.\n",
      "    stats(loc=0, scale=1, moments='mv')\n",
      "        Mean('m'), variance('v'), skew('s'), and/or kurtosis('k').\n",
      "    entropy(loc=0, scale=1)\n",
      "        (Differential) entropy of the RV.\n",
      "    fit(data)\n",
      "        Parameter estimates for generic data.\n",
      "        See `scipy.stats.rv_continuous.fit <https://docs.scipy.org/doc/scipy/reference/generated/scipy.stats.rv_continuous.fit.html#scipy.stats.rv_continuous.fit>`__ for detailed documentation of the\n",
      "        keyword arguments.\n",
      "    expect(func, args=(), loc=0, scale=1, lb=None, ub=None, conditional=False, **kwds)\n",
      "        Expected value of a function (of one argument) with respect to the distribution.\n",
      "    median(loc=0, scale=1)\n",
      "        Median of the distribution.\n",
      "    mean(loc=0, scale=1)\n",
      "        Mean of the distribution.\n",
      "    var(loc=0, scale=1)\n",
      "        Variance of the distribution.\n",
      "    std(loc=0, scale=1)\n",
      "        Standard deviation of the distribution.\n",
      "    interval(confidence, loc=0, scale=1)\n",
      "        Confidence interval with equal areas around the median.\n",
      "\n",
      "    Notes\n",
      "    -----\n",
      "    The probability density function for `norm` is:\n",
      "\n",
      "    .. math::\n",
      "\n",
      "        f(x) = \\frac{\\exp(-x^2/2)}{\\sqrt{2\\pi}}\n",
      "\n",
      "    for a real number :math:`x`.\n",
      "\n",
      "    The probability density above is defined in the \"standardized\" form. To shift\n",
      "    and/or scale the distribution use the ``loc`` and ``scale`` parameters.\n",
      "    Specifically, ``norm.pdf(x, loc, scale)`` is identically\n",
      "    equivalent to ``norm.pdf(y) / scale`` with\n",
      "    ``y = (x - loc) / scale``. Note that shifting the location of a distribution\n",
      "    does not make it a \"noncentral\" distribution; noncentral generalizations of\n",
      "    some distributions are available in separate classes.\n",
      "\n",
      "    Examples\n",
      "    --------\n",
      "    >>> from scipy.stats import norm\n",
      "    >>> import matplotlib.pyplot as plt\n",
      "    >>> fig, ax = plt.subplots(1, 1)\n",
      "    \n",
      "    Calculate the first four moments:\n",
      "    \n",
      "    \n",
      "    >>> mean, var, skew, kurt = norm.stats(moments='mvsk')\n",
      "    \n",
      "    Display the probability density function (``pdf``):\n",
      "    \n",
      "    >>> x = np.linspace(norm.ppf(0.01),\n",
      "    ...                 norm.ppf(0.99), 100)\n",
      "    >>> ax.plot(x, norm.pdf(x),\n",
      "    ...        'r-', lw=5, alpha=0.6, label='norm pdf')\n",
      "    \n",
      "    Alternatively, the distribution object can be called (as a function)\n",
      "    to fix the shape, location and scale parameters. This returns a \"frozen\"\n",
      "    RV object holding the given parameters fixed.\n",
      "    \n",
      "    Freeze the distribution and display the frozen ``pdf``:\n",
      "    \n",
      "    >>> rv = norm()\n",
      "    >>> ax.plot(x, rv.pdf(x), 'k-', lw=2, label='frozen pdf')\n",
      "    \n",
      "    Check accuracy of ``cdf`` and ``ppf``:\n",
      "    \n",
      "    >>> vals = norm.ppf([0.001, 0.5, 0.999])\n",
      "    >>> np.allclose([0.001, 0.5, 0.999], norm.cdf(vals))\n",
      "    True\n",
      "    \n",
      "    Generate random numbers:\n",
      "    \n",
      "    >>> r = norm.rvs(size=1000)\n",
      "    \n",
      "    And compare the histogram:\n",
      "    \n",
      "    >>> ax.hist(r, density=True, histtype='stepfilled', alpha=0.2)\n",
      "    >>> ax.legend(loc='best', frameon=False)\n",
      "    >>> plt.show()\n",
      "    \n",
      "\n",
      "    \n"
     ]
    }
   ],
   "source": [
    "from scipy.stats import norm, binom\n",
    "\n",
    "#Imprimimos un resumen de la distribución y los métodos que podemos aplicarle\n",
    "print(norm.__doc__)"
   ]
  },
  {
   "cell_type": "markdown",
   "id": "25c151b4-779f-443b-8ea6-c08a64098ba1",
   "metadata": {},
   "source": [
    "Vemos un poco más del desarrollo de distribuciones en [este cuaderno](Taller_distribuciones.ipynb#SciPy-para-distribuciones) "
   ]
  },
  {
   "cell_type": "markdown",
   "id": "40757197-477c-41d5-a5b0-3cc85b587f40",
   "metadata": {},
   "source": [
    "En caso de datos a los cuales querramos obtener información, usamos la función `describe` para obtener estadísticas descriptivas relacionadas a su distribución"
   ]
  },
  {
   "cell_type": "code",
   "execution_count": 8,
   "id": "eee31c84-bc95-4b0e-afff-24c01bc0b331",
   "metadata": {},
   "outputs": [
    {
     "name": "stdout",
     "output_type": "stream",
     "text": [
      "DescribeResult(nobs=100, minmax=(-2.8670786469132286, 2.667591918453239), mean=0.05555231056233725, variance=0.9659767650348495, skewness=-0.0033699352417010425, kurtosis=0.4464977676455759)\n"
     ]
    }
   ],
   "source": [
    "import numpy as np\n",
    "from scipy.stats import describe\n",
    "\n",
    "\n",
    "v = np.random.normal(size=100)\n",
    "res = describe(v)\n",
    "\n",
    "print(res)"
   ]
  },
  {
   "cell_type": "markdown",
   "id": "62ecf8c5-f829-4c58-abcf-1ee4a03c7ed0",
   "metadata": {
    "tags": []
   },
   "source": [
    "## <span style=\"color:#4361EE\">Pruebas de hipótesis</span>"
   ]
  },
  {
   "cell_type": "markdown",
   "id": "c14d139c-3ebd-4032-8b74-b12f12bccc49",
   "metadata": {},
   "source": [
    "como indica su nombre, y de una forma muy resumida, una prueba de hipótesis se utiliza para comprobar una suposición sobre un parámetro en una población (o poblaciones).\n",
    "\n",
    "Hay múltiples pruebas para casos altamente especializados, es ventajoso entonces que Scipy tiene varias de estas pruebas y solo necesitamos darle los datos a comprobar."
   ]
  },
  {
   "cell_type": "markdown",
   "id": "4b1abf9e-78eb-4b18-863f-2a7b76c7c837",
   "metadata": {
    "tags": []
   },
   "source": [
    "### <span style=\"color:#4CC9F0\">Pruebas sobre una población</span>"
   ]
  },
  {
   "cell_type": "markdown",
   "id": "e09e4999-0801-447b-a5a6-3ea45fde73bb",
   "metadata": {},
   "source": [
    "Un pequeño ejemplo de una prueba de hipótesis.\n",
    "\n",
    "Supongamos que queremos comprobar que la media de una población es igual a $k$. Para esto Pensamos en dos hipótesis:\n",
    "\n",
    "- Hipótesis nula: la media poblacional es en efecto $k$\n",
    "\n",
    "- Hipótesis alterna: la media poblacional es diferente a $k$\n",
    "\n",
    "definimos un \"valor de significancia\" $\\alpha$. el cuál se refiere a ka probabilidad de rechazar la hipótesis nula a favor de la hipótesis alterna. esta usualmente toma valores de 0.1, 0.05, 0.01\n",
    "\n",
    "La prueba para comprobar es si la media es diferente a $k$ sería la conocida \"Prueba T\" univariada, la cual se encuentra en Scipy."
   ]
  },
  {
   "cell_type": "code",
   "execution_count": 9,
   "id": "68116853-ac15-471d-8d0b-a96f267b3a18",
   "metadata": {},
   "outputs": [
    {
     "name": "stdout",
     "output_type": "stream",
     "text": [
      "Ttest_1sampResult(statistic=-0.3821920478464428, pvalue=0.70313812983078)\n"
     ]
    }
   ],
   "source": [
    "from scipy.stats import ttest_1samp\n",
    "\n",
    "v1 = np.random.normal(size=100)\n",
    "\n",
    "#definamos k=0\n",
    "\n",
    "k = 0\n",
    "res = ttest_1samp(v1, k)\n",
    "print(res)"
   ]
  },
  {
   "cell_type": "markdown",
   "id": "c8b627eb-99cd-410b-9f6f-60d4130acd48",
   "metadata": {},
   "source": [
    "el parámetro a prestar atención aquí es elw \"pvalue\" o el p-valor. Esta es una medida sencilla de entender para comprobar las hipótesis hechas.\n",
    "\n",
    "- $p\\leq \\alpha$: rechazamos la hipótesis nula y nos quedamos con la hipótesis alterna\n",
    "- $p > \\alpha$: No nos es posible rechazar la hipótesis nula.\n",
    "\n",
    "En el caso de arriba, suponiendo un $\\alpha = 0.05$, no podemos rechazar la hipótesis de que la media sea igual a $k$.\n",
    "\n",
    "Tratemos otro caso"
   ]
  },
  {
   "cell_type": "code",
   "execution_count": 10,
   "id": "57cbc39f-77b8-4127-8fe6-0a314ccc86d0",
   "metadata": {},
   "outputs": [
    {
     "name": "stdout",
     "output_type": "stream",
     "text": [
      "Ttest_1sampResult(statistic=-17.25879751664316, pvalue=1.3031182219224353e-31)\n"
     ]
    }
   ],
   "source": [
    "k = 2\n",
    "res = ttest_1samp(v1, k)\n",
    "print(res)"
   ]
  },
  {
   "cell_type": "markdown",
   "id": "1bf5d35f-3ad1-4990-80d2-8ef6d04fbee3",
   "metadata": {
    "tags": []
   },
   "source": [
    "### <span style=\"color:#4CC9F0\">Pruebas sobre dos poblaciones</span>"
   ]
  },
  {
   "cell_type": "markdown",
   "id": "60544c0a-f80a-4b21-915d-6501973d3dea",
   "metadata": {},
   "source": [
    "Otra posible prueba de hipótesis tendría que ver con obtener el mismo parámetros con dos poblaciones. En este caso las hipótesis serían de esta manera:\n",
    "\n",
    "- Hipótesis nula: la media de la población 1 y la media de la población 2 son diferentes\n",
    "- Hipótesis alterna: las medias de las poblaciones 1 y 2 son diferentes.\n",
    "\n",
    "Para este caso, la prueba T tiene una versión para comparar dos muestras. "
   ]
  },
  {
   "cell_type": "code",
   "execution_count": 14,
   "id": "b2778ce0-c5a2-4db9-8be1-0730c10d5954",
   "metadata": {},
   "outputs": [
    {
     "name": "stdout",
     "output_type": "stream",
     "text": [
      "Ttest_indResult(statistic=-1.0635055522042451, pvalue=0.2888480600034284)\n"
     ]
    }
   ],
   "source": [
    "from scipy.stats import norm, ttest_ind\n",
    "\n",
    "v1 = norm(loc = 0, scale = 1).rvs(size=100, random_state=15)\n",
    "v2 = norm(loc = 0, scale = 1).rvs(size=100, random_state=27)\n",
    "\n",
    "res = ttest_ind(v1, v2)\n",
    "\n",
    "print(res)"
   ]
  },
  {
   "cell_type": "code",
   "execution_count": 16,
   "id": "a648c7d8-d6e4-4f8b-a20e-6c1dfb9682ff",
   "metadata": {},
   "outputs": [
    {
     "name": "stdout",
     "output_type": "stream",
     "text": [
      "Ttest_indResult(statistic=-14.815462681759033, pvalue=2.2143880710241776e-31)\n"
     ]
    }
   ],
   "source": [
    "v3 = norm(loc = 3, scale = 2).rvs(size=100, random_state=13)\n",
    "\n",
    "res = ttest_ind(v1, v3, equal_var=False)\n",
    "\n",
    "print(res)"
   ]
  }
 ],
 "metadata": {
  "kernelspec": {
   "display_name": "Python 3 (ipykernel)",
   "language": "python",
   "name": "python3"
  },
  "language_info": {
   "codemirror_mode": {
    "name": "ipython",
    "version": 3
   },
   "file_extension": ".py",
   "mimetype": "text/x-python",
   "name": "python",
   "nbconvert_exporter": "python",
   "pygments_lexer": "ipython3",
   "version": "3.10.12"
  }
 },
 "nbformat": 4,
 "nbformat_minor": 5
}
