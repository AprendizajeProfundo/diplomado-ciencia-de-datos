{
 "cells": [
  {
   "cell_type": "markdown",
   "metadata": {},
   "source": [
    "# <span style=\"color:green\"><center>Diplomado en Ciencia de Datos</center></span>"
   ]
  },
  {
   "cell_type": "markdown",
   "metadata": {},
   "source": [
    "# <span style=\"color:red\"><center>Espacios vectoriales en los reales</center></span>\n",
    "##  <span style=\"color:red\"><center>Vectores, matrices, norma de un vector, geometría</center></span>"
   ]
  },
  {
   "cell_type": "markdown",
   "metadata": {},
   "source": [
    "<figure>\n",
    "<center>\n",
    "<img src=\"../Imagenes/Espacio-vectorial.png\" width=\"400\" height=\"400\" align=\"center\"/>\n",
    "<figcaption>Espacio vectorial</figcaption>\n",
    "</center>\n",
    "</figure>\n",
    "\n",
    "Fuente: [Wikipedia](https://es.wikipedia.org/wiki/Espacio_vectorial)"
   ]
  },
  {
   "cell_type": "markdown",
   "metadata": {},
   "source": [
    "##   <span style=\"color:blue\">Profesores</span>"
   ]
  },
  {
   "cell_type": "markdown",
   "metadata": {},
   "source": [
    "1. Campo Elías Pardo Turriago, cepardot@unal.edu.co \n",
    "2. Alvaro Mauricio Montenegro Díaz, ammontenegrod@unal.edu.co\n",
    "3. Daniel Mauricio Montenegro Reyes, dextronomo@gmail.com \n",
    "4. Camilo José Torres Jiménez, Msc, cjtorresj@unal.edu.co"
   ]
  },
  {
   "cell_type": "markdown",
   "metadata": {},
   "source": [
    "##   <span style=\"color:blue\">Asesora Medios y Marketing digital</span>\n",
    " "
   ]
  },
  {
   "cell_type": "markdown",
   "metadata": {},
   "source": [
    "4. Maria del Pilar Montenegro, pmontenegro88@gmail.com "
   ]
  },
  {
   "cell_type": "markdown",
   "metadata": {},
   "source": [
    "## <span style=\"color:blue\">Asistentes</span>"
   ]
  },
  {
   "cell_type": "markdown",
   "metadata": {},
   "source": [
    "1. Jessica López Mejia, jelopezme@unal.edu.co\n",
    "2. Daniel Andrés Rojas, anrojasor@unal.edu.co"
   ]
  },
  {
   "cell_type": "markdown",
   "metadata": {},
   "source": [
    "## Introducción"
   ]
  },
  {
   "cell_type": "markdown",
   "metadata": {},
   "source": [
    "En esta lección aprenderemos los conceptos básicos de *espacios vectoriales en los reales con producto interno*. Un espacio vectorial está constinuido por el conjunto de  vectores (número infinito) de la misma dimesión. Los múmeros reales se pueden ver como vectores de una dimensión y se pueden representar en una recta, que denominamos la *recta real*. El conjunto de todos los números reales conforman us espacio vectorial y se nota $Re$. Dos números *x* y *y* pertenecen a $Re$ y se nota, $x \\in \\Re$, $y \\in \\Re$. \n",
    "\n",
    "Las parejas ordenadas (si se cambia el orden se trata de una pareja distinta) de números reales, son vectores en $Re^2$, que son las infinitas parejas de dos números reales. Formalmente, la representación geométrica requiere de una *métrica* (*distancia*) que se define por medio de un *producto interno*. La geometría que conocemos desde la formación básica es una de ellas y podemos representar los vectores en $\\Re^2$ como puntos en un *plano cartesiano*, definido por dos rectas perpendiculares y horizontal y la otra vertical, las dos perpendiculares. La generalización matemática de estos conceptos a cualquier dimensión $n$ es el conjunto infinito de vectores definidos en $\\Re^n$.\n",
    "\n",
    "Laa *Geometría Euclidiana Multidimensional* se soporta entonces en *espacios vectoriales en $\\Re^n$ dotados de un producto interno*. Utilizaremos estos conceptos en las descripciones multivariadas de datos.\n",
    "\n",
    "Para facilitar a quienes no han abordado el Álgebra Lineal, empezaremos con los vectores en $\\Re^2$ y luego generalizaremos a $\\Re^n$.\n"
   ]
  },
  {
   "cell_type": "markdown",
   "metadata": {},
   "source": [
    "## Vectores en $\\Re^2$. Álgebra de vectores"
   ]
  },
  {
   "cell_type": "markdown",
   "metadata": {},
   "source": [
    "Un vector en $\\Re^2$ es una dupla de números reales. Sean **x** y **y** dos vectores en $\\Re^2$: $\\mathbf{x}=(x_1,x_2)$ y $\\mathbf{y}=(y_1,y_2)$  por ejemplo $\\mathbf{x} = (1,2)$ y $\\mathbf{y} = (1,3)$. Se definen dos operaciones: suma y la multiplicación por escalar.\n",
    "- Suma: $\\mathbf{x} + \\mathbf{y} = (x_1+y_1,x_2+y_2)$. Ejemplo: $(1,2)+(1,3)=(1+1,2+3) = (2,5)$\n",
    "\n",
    "- Multiplicación por escalar: $c \\mathbf{x} = (cx_1,cx_2)$. Ejemplo: sea $c=3$, $3 \\mathbf{x} = 3(1,2) = (3,6)$\n",
    "\n",
    "Se dice que $\\Re^2$ dotado dotado de esas dos operaciones en un **espacio vectorial**, las duplas se llaman vectores y los elementos de las duplas se llaman componentes del vector. En la siguiente imagen (tomada del cuaderno sobre tensores) podemos reconocer varios vectores en $\\Re^2$:"
   ]
  },
  {
   "cell_type": "markdown",
   "metadata": {},
   "source": [
    "![Vector, matriz, tensor](https://miro.medium.com/max/700/1*V83L4ydCdk21tXjP22VjXQ.jpeg)"
   ]
  },
  {
   "cell_type": "markdown",
   "metadata": {},
   "source": [
    "En una matriz $2 \\times 2$, como la del ejemplo, se pueden ver:\n",
    "- dos vectores fila en $\\Re^2$: $(1,2)$ y $(3,4)$, \n",
    "- dos vectores columna en $\\Re^2$: $(1,3)$ y $(2,4)$.\n",
    "\n",
    "En el tensor del ejemplo se pueden ver 4 vectores en $\\Re^2$: $(1,2)$, $(3,2)$, $(1,7)$, $(5,4)$. \n",
    "\n",
    "\n",
    "En Estadística escribimos los vectores como columnas, es decir como matrices, en $\\Re^2$ ($2 \\times 1$).\n",
    "Con esta opción estos 4 vectores son:\n",
    "\n",
    "$$\n",
    "\\begin{bmatrix}\n",
    " 1  \\\\\n",
    " 2  \n",
    "\\end{bmatrix}, \n",
    "\\begin{bmatrix}\n",
    " 3  \\\\\n",
    " 2  \n",
    "\\end{bmatrix}, \n",
    "\\begin{bmatrix}\n",
    " 1  \\\\\n",
    " 7  \n",
    "\\end{bmatrix}, \n",
    "\\begin{bmatrix}\n",
    " 5  \\\\\n",
    " 4 \n",
    "\\end{bmatrix}\n",
    "$$\n",
    "\n",
    " Entonces los dos vectores fila de la matriz, los vemos como dos vectores transpuestos. La transpuesta de una matriz ($ \\ \\ ^{'}$, $^t$ o $^T$) se obtiene intercambiando filas por columnas.\n",
    "\n",
    "Sea $\\mathbf{A} = \\begin{bmatrix}\n",
    "  1    &  2  \\\\\n",
    "  3    &  4\n",
    "\\end{bmatrix}$ entonces la transpuesta de **A** es $\\mathbf{A}^T = \\begin{bmatrix}\n",
    "  1    &  3  \\\\\n",
    "  2    &  4\n",
    "\\end{bmatrix}$\n",
    "\n",
    "El transpuesto de un vector (columna) es el mismo vector pero escrito como una fila.\n",
    "\n",
    "En esta sección hemos escrito unos cuantos vectores distintos, si los donotemos como $\\mathbf{x}_i, \\ i=1,2,\\cdots$\n",
    "\n",
    "$$\n",
    "\\mathbf{x}_1=\\begin{bmatrix}\n",
    "  1  \\\\\n",
    "  2\n",
    "\\end{bmatrix}, \\ \\mathbf{x}_2=\\begin{bmatrix}\n",
    "  1  \\\\\n",
    "  3\n",
    "\\end{bmatrix}, \\ \\mathbf{x}_3=\\begin{bmatrix}\n",
    "  3  \\\\\n",
    "  4\n",
    "\\end{bmatrix}, \\ \\mathbf{x}_4=\\begin{bmatrix}\n",
    "  3  \\\\\n",
    "  2\n",
    "\\end{bmatrix},\\ \\mathbf{x}_5=\\begin{bmatrix}\n",
    "  1  \\\\\n",
    "  7\n",
    "\\end{bmatrix},\\ \\mathbf{x}_6=\\begin{bmatrix}\n",
    "  5  \\\\\n",
    "  4\n",
    "\\end{bmatrix}\n",
    "$$\n",
    "\n",
    "Podemos sumar los 6 vectores:\n",
    "$$\n",
    "\\sum_{i=1}^6 \\mathbf{x}_i = \\mathbf{x}_1+\\mathbf{x}_2 + \\mathbf{x}_3  + \\mathbf{x}_4 + \\mathbf{x}_5 + \\mathbf{x}_6 =\n",
    " \\begin{bmatrix}  1  \\\\\n",
    "  2\n",
    "\\end{bmatrix} + \\begin{bmatrix}\n",
    "  1  \\\\\n",
    "  3\n",
    "\\end{bmatrix} + \\begin{bmatrix}\n",
    "  3  \\\\\n",
    "  4\n",
    "\\end{bmatrix} + \\begin{bmatrix}\n",
    "  3  \\\\\n",
    "  2\n",
    "\\end{bmatrix} + \\begin{bmatrix}\n",
    "  1  \\\\\n",
    "  7\n",
    "\\end{bmatrix} + \\begin{bmatrix}\n",
    "  5  \\\\\n",
    "  4\n",
    "\\end{bmatrix} =  \n",
    "\\begin{bmatrix}  \n",
    "  1+1+3+3+1+5 \\\\\n",
    "  2+3+4+2+7+4\n",
    "\\end{bmatrix} = \n",
    "\\begin{bmatrix}\n",
    "  14  \\\\\n",
    "  22\n",
    "\\end{bmatrix} \n",
    "$$\n",
    "\n",
    "Si multiplicamos el vector suma por $\\dfrac{1}{6}=0.167$ obtenemos el vector promedio de los 6 vectores:\n",
    "$$\n",
    "\\dfrac{1}{6}\\  \\begin{bmatrix}\n",
    "  14  \\\\\n",
    "  22\n",
    "\\end{bmatrix} = \\begin{bmatrix}\n",
    "  2.333  \\\\\n",
    "  3.667\n",
    "\\end{bmatrix} \n",
    "$$\n",
    "Hemos utilizado las dos operaciones básicas de los vectores: suma y multiplicación por escalar, que forman parte de la definición de espacio vectorial."
   ]
  },
  {
   "cell_type": "markdown",
   "metadata": {},
   "source": [
    "En R los podemos organizar en una matriz  $2 \\times 6$ y verificar los resultados, así:"
   ]
  },
  {
   "cell_type": "code",
   "execution_count": 1,
   "metadata": {
    "tags": []
   },
   "outputs": [
    {
     "name": "stdout",
     "output_type": "stream",
     "text": [
      "\n",
      "La matrix X y sus vectores suma y promedio son:"
     ]
    },
    {
     "data": {
      "text/html": [
       "<table class=\"dataframe\">\n",
       "<caption>A matrix: 2 × 8 of type dbl</caption>\n",
       "<thead>\n",
       "\t<tr><th scope=col>x1</th><th scope=col>x2</th><th scope=col>x3</th><th scope=col>x4</th><th scope=col>x5</th><th scope=col>x6</th><th scope=col>Suma</th><th scope=col>Promedio</th></tr>\n",
       "</thead>\n",
       "<tbody>\n",
       "\t<tr><td>1</td><td>1</td><td>3</td><td>3</td><td>1</td><td>5</td><td>14</td><td>2.333333</td></tr>\n",
       "\t<tr><td>2</td><td>3</td><td>4</td><td>2</td><td>7</td><td>4</td><td>22</td><td>3.666667</td></tr>\n",
       "</tbody>\n",
       "</table>\n"
      ],
      "text/latex": [
       "A matrix: 2 × 8 of type dbl\n",
       "\\begin{tabular}{llllllll}\n",
       " x1 & x2 & x3 & x4 & x5 & x6 & Suma & Promedio\\\\\n",
       "\\hline\n",
       "\t 1 & 1 & 3 & 3 & 1 & 5 & 14 & 2.333333\\\\\n",
       "\t 2 & 3 & 4 & 2 & 7 & 4 & 22 & 3.666667\\\\\n",
       "\\end{tabular}\n"
      ],
      "text/markdown": [
       "\n",
       "A matrix: 2 × 8 of type dbl\n",
       "\n",
       "| x1 | x2 | x3 | x4 | x5 | x6 | Suma | Promedio |\n",
       "|---|---|---|---|---|---|---|---|\n",
       "| 1 | 1 | 3 | 3 | 1 | 5 | 14 | 2.333333 |\n",
       "| 2 | 3 | 4 | 2 | 7 | 4 | 22 | 3.666667 |\n",
       "\n"
      ],
      "text/plain": [
       "     x1 x2 x3 x4 x5 x6 Suma Promedio\n",
       "[1,] 1  1  3  3  1  5  14   2.333333\n",
       "[2,] 2  3  4  2  7  4  22   3.666667"
      ]
     },
     "metadata": {},
     "output_type": "display_data"
    }
   ],
   "source": [
    "X <- matrix(c(1,2,1,3,3,4,3,2,1,7,5,4),2,6)\n",
    "colnames(X)=paste(\"x\",1:6,sep=\"\")\n",
    "cat(\"\\nLa matrix X y sus vectores suma y promedio son:\");cbind(X,Suma=rowSums(X),Promedio=1/6*rowSums(X))"
   ]
  },
  {
   "cell_type": "markdown",
   "metadata": {},
   "source": [
    "### Combinación lineal\n",
    "\n",
    "Si se tienen $m$ vectores, el resultado de multiplicar cada uno de ellos por una constante (en general distinta) y sumar, se denomina combinación lineal.\n",
    "$$\n",
    "\\sum_{i=1}^m c_i  \\mathbf{x}_i = c_1x_1+c_2x_2+\\cdots+c_ix_i+\\cdots+c_mx_m\n",
    "$$\n",
    "\n",
    "En el ejemplo de los 6 vectores, sean los $c_i$ $1, 2, 3, 4, 5, 6$\n",
    "$$\n",
    "\\sum_{i=1}^6 c_i  \\mathbf{x}_i = 1\\times\\begin{bmatrix}\n",
    "  1  \\\\\n",
    "  2\n",
    "\\end{bmatrix} \\ + 2\\times\\begin{bmatrix}\n",
    "  1  \\\\\n",
    "  3\n",
    "\\end{bmatrix} \\ +  3\\times\\begin{bmatrix}\n",
    "  3  \\\\\n",
    "  4\n",
    "\\end{bmatrix} \\ +4\\times\\begin{bmatrix}\n",
    "  3  \\\\\n",
    "  2\n",
    "\\end{bmatrix} \\ + 5\\times\\begin{bmatrix}\n",
    "  1  \\\\\n",
    "  7\n",
    "\\end{bmatrix} \\ + 6\\times\\begin{bmatrix}\n",
    "  5  \\\\\n",
    "  4\n",
    "\\end{bmatrix} = \\begin{bmatrix}\n",
    "  1+2+9 +12+5 +30\\\\\n",
    "  2+6+12+8 +35+24\n",
    "\\end{bmatrix} = \\begin{bmatrix}\n",
    "  59  \\\\\n",
    "  87\n",
    "\\end{bmatrix}\n",
    "$$"
   ]
  },
  {
   "cell_type": "markdown",
   "metadata": {},
   "source": [
    "1. Haciendo la suma con un ciclo:"
   ]
  },
  {
   "cell_type": "code",
   "execution_count": 2,
   "metadata": {},
   "outputs": [
    {
     "data": {
      "text/html": [
       "<style>\n",
       ".list-inline {list-style: none; margin:0; padding: 0}\n",
       ".list-inline>li {display: inline-block}\n",
       ".list-inline>li:not(:last-child)::after {content: \"\\00b7\"; padding: 0 .5ex}\n",
       "</style>\n",
       "<ol class=list-inline><li>59</li><li>87</li></ol>\n"
      ],
      "text/latex": [
       "\\begin{enumerate*}\n",
       "\\item 59\n",
       "\\item 87\n",
       "\\end{enumerate*}\n"
      ],
      "text/markdown": [
       "1. 59\n",
       "2. 87\n",
       "\n",
       "\n"
      ],
      "text/plain": [
       "[1] 59 87"
      ]
     },
     "metadata": {},
     "output_type": "display_data"
    }
   ],
   "source": [
    "c = 1:6\n",
    "sum = c(0,0)\n",
    "for (i in c )\n",
    "    sum = sum+c[i]*X[,i]\n",
    "sum    "
   ]
  },
  {
   "cell_type": "markdown",
   "metadata": {},
   "source": [
    "Nótese que la suma de los vectores es una combinación lineal con todos los $c_i$ iguales a 1. Y la media otra, con todos \n",
    "los $c_i = \\frac{1}{6}."
   ]
  },
  {
   "cell_type": "markdown",
   "metadata": {},
   "source": [
    "### Independencia lineal\n",
    "\n",
    "Cuando se tiene un conjunto de vectores, sin que ninguno de ellos sea combinación lineal de los otros, se dice que los vectores son linealmente independientes.\n",
    "\n",
    "En $\\Re^2$ solo se pueden tener parejas de vectores linealmente independientes. Si se tienen tres vectores, por ejemplo, siempre uno de ellos se puede expresar como combinación lineal de los otros dos, si son linealmente independientes por parejas.\n",
    "\n",
    "La dependencia lineal en  $\\Re^2$ de una pareja de vectores se detecta si uno de ellos es igual al otro por una constante, es decir que son colineales."
   ]
  },
  {
   "cell_type": "markdown",
   "metadata": {},
   "source": [
    "### Base y base canónica\n",
    "\n",
    "Cualquier pareja de vectores linealmente independientes es una base para $\\Re^2$, la base más sencilla se llama base canónica.\n",
    "\n",
    "La **base canónica** el espacio vectorial $\\Re^2$ es: $\\mathbf{e}_1 = \\begin{bmatrix}\n",
    "  1  \\\\\n",
    "  0\n",
    "\\end{bmatrix},\\mathbf{e}_2 = \\begin{bmatrix}\n",
    "  0  \\\\\n",
    "  1\n",
    "\\end{bmatrix} $"
   ]
  },
  {
   "cell_type": "markdown",
   "metadata": {},
   "source": [
    "En este caso los coeficientes para obtener un vector a partir del los dos son los mismos componentes del vector, por ejemplo:\n",
    "$$\n",
    " \\begin{bmatrix}\n",
    "  5  \\\\\n",
    "  4\n",
    "\\end{bmatrix} = 5 \\begin{bmatrix}\n",
    "  1  \\\\\n",
    "  0\n",
    "\\end{bmatrix}  + 4 \\begin{bmatrix}\n",
    "  0  \\\\\n",
    "  1\n",
    "\\end{bmatrix} \n",
    "$$"
   ]
  },
  {
   "cell_type": "markdown",
   "metadata": {},
   "source": [
    "Todos estos conceptos tienen sentido en matemáticas \n",
    "como objetos abstractos. Sin embargo se pueden entender más fácilmente si le\n",
    "asociamos una representación geométrica. Para formalizar la representación\n",
    "geométrica "
   ]
  },
  {
   "cell_type": "markdown",
   "metadata": {},
   "source": [
    "## Distancia o métrica en $\\Re^2$"
   ]
  },
  {
   "cell_type": "code",
   "execution_count": 5,
   "metadata": {
    "tags": []
   },
   "outputs": [
    {
     "data": {
      "image/png": "[encoded data removed]",
      "text/plain": [
       "Plot with title “Distancia euclidiana”"
      ]
     },
     "metadata": {
      "image/png": {
       "height": 420,
       "width": 420
      }
     },
     "output_type": "display_data"
    }
   ],
   "source": [
    "# código para hacer la gráfica\n",
    "# Rojas D.A y Pardo C.E\n",
    "# no es necesario entenderlo\n",
    "x1 <- 2\n",
    "y1 <- 3\n",
    "x2 <- 5\n",
    "y2 <- 7\n",
    "dist_euclidiana <- sqrt((x2 - x1)^2 + (y2 - y1)^2)\n",
    "plot(c(x1, x2), c(y1, y2), type = \"n\", xlab = \"X\", ylab = \"Y\",\n",
    "     xlim=c(-0,5), ylim=c(0,8)#,main = \"Distancia Euclidiana en R2\"\n",
    "     ,asp=1,las=1,main=\"Distancia euclidiana\"\n",
    "    )\n",
    "abline(v=-1:6,h=0:8,col=\"gray80\") # grilla\n",
    "abline(v=0,h=0,col=\"darkgreen\") # ejes\n",
    "points(x1, y1, col = \"red\", pch = 16)\n",
    "points(x2, y2, col = \"blue\", pch = 16)\n",
    "segments(x1, y1, x2, y2, col = \"black\", lty = 2)\n",
    "text(x1, y1, labels = paste(\"(\", x1, \",\", y1, \")\", sep = \"\"), pos = 4)\n",
    "text(x2, y2, labels = paste(\"(\", x2, \",\", y2, \")\", sep = \"\"), pos = 2)\n",
    "text((x1 + x2) / 2, (y1 + y2) / 2, labels = sprintf(\"Distancia = %.2f\", dist_euclidiana), pos = 3)\n",
    "segments(x1, y1, x1, y2, col = \"red\", lty = 3)   \n",
    "segments(x1, y2, x2, y2, col = \"blue\", lty = 3)   \n",
    "segments(x1, y1, x2, y2, col = \"green\", lty = 1)  \n",
    "text(x1 - 0.2, (y1 + y2) / 2, labels = \"Altura\", pos = 4, col = \"red\")\n",
    "text((x1 + x2) / 2, y2 + 0.2, labels = \"Base\", pos = 3, col = \"blue\")\n",
    "text((x1 + x2) / 2, (y1 + y2) / 2, labels = \"Hipotenusa\", pos = 1, col = \"green\")\n"
   ]
  },
  {
   "cell_type": "markdown",
   "metadata": {},
   "source": [
    "Nótese que en campo se pueden establecer ángulos rectos, por ejemplo con tres varas de 3, 4, 5 metros, respectivamiente."
   ]
  },
  {
   "cell_type": "markdown",
   "metadata": {},
   "source": [
    "Sean los vectores $\\mathbf{x}$ y $\\mathbf{y}$ de $\\Re^2$, se definen:\n",
    "- **el producto escalar** de $\\mathbf{x}$ y $\\mathbf{y}$: $<\\mathbf{x},\\mathbf{y}> = \\sum\\limits_{i=1}^2 x_i y_i = x_1 y_1 + x_2 y_2$\n",
    "\n",
    "el producto escalar $<\\mathbf{x},\\mathbf{x}> $ es $\\sum\\limits_{i=1}^2 x_i^2 = x_1^2 + x_2^2$\n",
    "\n",
    "- **la norma de x**: $||x||=\\sqrt{<\\mathbf{x},\\mathbf{x}>}  $\n",
    "\n",
    "- **la distancia entre x y y**: $d(\\mathbf{x},\\mathbf{y}) = ||\\mathbf{x}-\\mathbf{y}||$  \n",
    "\n",
    "- **el coseno entre x y y**: $cos(\\mathbf{x},\\mathbf{y}) = \\dfrac{<\\mathbf{x},\\mathbf{y}>}{||x||||y||}$\n",
    "\n",
    "- **la ortogonalidad entre x y y**: $\\mathbf{x} \\bot \\mathbf{y} \\ si \\ <\\mathbf{x},\\mathbf{y}> = 0$ \n",
    "\n",
    "Ahora $\\Re^2$ está dotado de una métrica (distancia) Euclidiana y tenemos una repesentación gráfica para los vectores.\n",
    "\n",
    "Para los vectores de la base canónina su norma es un y el producto escalar (también se le dice producto punto entre los dos vectores es cero.\n",
    "$$\n",
    "||\\mathbf{e}_1|| = 1 \\ \\ \\ <\\mathbf{e}_1,\\mathbf{e}_2>=0\n",
    "$$\n",
    "\n",
    "Entonces la base canónica es una **base ortonormal**\n"
   ]
  },
  {
   "cell_type": "markdown",
   "metadata": {},
   "source": [
    "## Distancia o métrica en $\\Re^2$"
   ]
  },
  {
   "cell_type": "markdown",
   "metadata": {},
   "source": [
    "<figure>\n",
    "<center>\n",
    "<img src=\"../Imagenes/distancia-euclidiana.png\" width=\"400\" height=\"400\" align=\"center\"/>\n",
    "<figcaption>Distancia euclidiana $\\Re^2$</figcaption>\n",
    "</center>\n",
    "</figure>\n",
    "\n",
    "Fuente: [Wikipedia](https://es.wikipedia.org/wiki/Distancia_euclidiana)\n"
   ]
  },
  {
   "cell_type": "markdown",
   "metadata": {},
   "source": [
    "Sean los vectores $\\mathbf{x}$ y $\\mathbf{y}$ de $\\Re^2$, se definen:\n",
    "- **el producto escalar** de $\\mathbf{x}$ y $\\mathbf{y}$: $<\\mathbf{x},\\mathbf{y}> = \\sum\\limits_{i=1}^2 x_i y_i = x_1 y_1 + x_2 y_2$\n",
    "\n",
    "el producto escalar $<\\mathbf{x},\\mathbf{x}> $ es $\\sum\\limits_{i=1}^2 x_i^2 = x_1^2 + x_2^2$\n",
    "\n",
    "- **la norma de x**: $||x||=\\sqrt{<\\mathbf{x},\\mathbf{x}>}  $\n",
    "\n",
    "- **la distancia entre x y y**: $d(\\mathbf{x},\\mathbf{y}) = ||\\mathbf{x}-\\mathbf{y}||$  \n",
    "\n",
    "- **el coseno entre x y y**: $cos(\\mathbf{x},\\mathbf{y}) = \\dfrac{<\\mathbf{x},\\mathbf{y}>}{||x||||y||}$\n",
    "\n",
    "- **la ortogonalidad entre x y y**: $\\mathbf{x} \\bot \\mathbf{y} \\ si \\ <\\mathbf{x},\\mathbf{y}> = 0$ \n",
    "\n",
    "Ahora $\\Re^2$ está dotado de una métrica (distancia) Euclidiana y tenemos una repesentación gráfica para los vectores.\n",
    "\n",
    "Para los vectores de la base canónina su norma es un y el producto escalar (también se le dice producto punto entre los dos vectores es cero.\n",
    "$$\n",
    "||\\mathbf{e}_1|| = 1 \\ \\ \\ <\\mathbf{e}_1,\\mathbf{e}_2>=0\n",
    "$$\n",
    "\n",
    "Entonces la base canónica es una **base ortonormal**\n"
   ]
  },
  {
   "cell_type": "markdown",
   "metadata": {},
   "source": [
    "### Multiplicación matricial entre dos vectores en $\\Re^2$"
   ]
  },
  {
   "cell_type": "markdown",
   "metadata": {},
   "source": [
    "<figure>\n",
    "<center>\n",
    "<img src=\"../Imagenes/Multi-matrices.png\" width=\"400\" height=\"400\" align=\"center\"/>\n",
    "<figcaption>Multiplicación de matrices en $\\Re^2$</figcaption>\n",
    "</center>\n",
    "</figure>\n",
    "\n",
    "Fuente: [Wikipedia](https://es.wikipedia.org/wiki/Multiplicaci%C3%B3n_de_matrices)\n"
   ]
  },
  {
   "cell_type": "markdown",
   "metadata": {},
   "source": [
    "Los vectores en $\\Re^2$, son también matrices de dimensión $2\\times 1$, así que veamos cómo se define la multiplicación de dos matrices.\n",
    "\n",
    "La matriz **A** se multiplica la matriz **B**  y el resultado es la matriz **C**: \n",
    "\n",
    "Cada multiplicacion de matrices se hace por la fórmula fila (matriz **A**) * columna (matriz **B**)\n",
    "\n",
    "$ \\mathbf{A}  = \\begin{bmatrix} 1 & 2\\\\ 3 & 4\\end{bmatrix}$, $\\mathbf{B} = \\begin{bmatrix} 5 & 10\\\\ 20 & 30\\end{bmatrix}$\n",
    "\n",
    "Entonces se tiene que \n",
    "\n",
    "$$\n",
    "\\mathbf{AB} = \\begin{bmatrix} 1 & 2\\\\ 3 & 4\\end{bmatrix}  \\begin{bmatrix} 5 & 10\\\\ 20 & 30\\end{bmatrix} = \\begin{bmatrix} 1\\times 5 + 2 \\times 20 & 1 \\times 10 + 2\\times 30\n",
    "\\\\ 3\\times 5 + 4 \\times 20 & 3 \\times 10 + 4 \\times 30\\end{bmatrix} = \\mathbf{C}\n",
    "$$\n",
    "\n",
    "Entonces los vectores en $\\Re^2$ se pueden multiplicar matricialmente de dos formas:\n",
    "- $\\mathbf{x}^T \\mathbf{y} = [x_1 \\ \\ x_2 ] \\begin{bmatrix} y_1 \\\\ y_2 \\end{bmatrix} =  x_1 y_1 + x_2 y_2$   que es el producto escalar entre **x** y **y**\n",
    "\n",
    "- $\\mathbf{x} \\mathbf{y}^T = \\begin{bmatrix} x_1 \\\\ x_2 \\end{bmatrix} [y_1 \\ \\ y_2] = \\begin{bmatrix} x_1 y_1 & x_1 y_2 \\\\ x_2 y_1 & x_2 y_2 \\end{bmatrix}$"
   ]
  },
  {
   "cell_type": "markdown",
   "metadata": {},
   "source": [
    "El producto escalar entre dos vectores $\\mathbf{x}$ y $\\mathbf{x}$ en $\\Re^2$, se nota y define así:\n",
    "\n",
    "$$\n",
    "<\\mathbf{x},\\mathbf{y}> = \\mathbf{x}^T \\mathbf{y} = x_1 y_1+x_2 y_2 = y_1 x_1 + y_2 x_2 =  <\\mathbf{y},\\mathbf{x}> = \\mathbf{y}^T \\mathbf{x}\n",
    "$$"
   ]
  },
  {
   "cell_type": "markdown",
   "metadata": {},
   "source": [
    "Los seis vectores son las columnas de la matriz **X**"
   ]
  },
  {
   "cell_type": "code",
   "execution_count": null,
   "metadata": {},
   "outputs": [],
   "source": [
    "X"
   ]
  },
  {
   "cell_type": "code",
   "execution_count": null,
   "metadata": {
    "tags": []
   },
   "outputs": [],
   "source": [
    "t(X)"
   ]
  },
  {
   "cell_type": "markdown",
   "metadata": {},
   "source": [
    "El producto escalar  $<\\mathbf{x}_1,\\mathbf{x}_2>$ es:"
   ]
  },
  {
   "cell_type": "code",
   "execution_count": null,
   "metadata": {
    "tags": []
   },
   "outputs": [],
   "source": [
    "as.numeric(t(X[,1])%*%X[,2])->x.y\n",
    "cat(\"El producto escalar entre x,y es:\",x.y)"
   ]
  },
  {
   "cell_type": "markdown",
   "metadata": {},
   "source": [
    "Nótese que si multiplicamos la transpuesta de **X** por **X** obtenemos los productos internos entre todos los vectores:"
   ]
  },
  {
   "cell_type": "code",
   "execution_count": null,
   "metadata": {
    "tags": []
   },
   "outputs": [],
   "source": [
    "t(X)%*%X->prodsPunto\n",
    "prodsPunto"
   ]
  },
  {
   "cell_type": "markdown",
   "metadata": {},
   "source": [
    "Las normas de los 6 vectores son las raíces cuadradas de la diagonal:"
   ]
  },
  {
   "cell_type": "code",
   "execution_count": null,
   "metadata": {
    "tags": []
   },
   "outputs": [],
   "source": [
    "normas=sqrt(diag(prodsPunto))\n",
    "round(t(normas),2)"
   ]
  },
  {
   "cell_type": "markdown",
   "metadata": {},
   "source": [
    "Productos escalares:"
   ]
  },
  {
   "cell_type": "code",
   "execution_count": null,
   "metadata": {},
   "outputs": [],
   "source": [
    "as.dist(prodsPunto)"
   ]
  },
  {
   "cell_type": "markdown",
   "metadata": {},
   "source": [
    "Distancias: "
   ]
  },
  {
   "cell_type": "code",
   "execution_count": null,
   "metadata": {},
   "outputs": [],
   "source": [
    "round(dist(t(X)),2)"
   ]
  },
  {
   "cell_type": "markdown",
   "metadata": {},
   "source": [
    "## Representación geométrica en $\\Re^2$\n",
    "\n",
    "El espacio vectorial $\\Re^2$ dotado del producto interno clásico permite hacer la representación gráfica en el plano. El el eje horizontal se genera con el vector $mathbf{e}_1$ y el eje vertical son el vector $mathbf{e}_2$. Las dos filas de **X** las podemos llamar $V_1$ y $V_2$ respectivamente."
   ]
  },
  {
   "cell_type": "code",
   "execution_count": 4,
   "metadata": {
    "tags": []
   },
   "outputs": [
    {
     "data": {
      "image/png": "[encoded data removed]",
      "text/plain": [
       "plot without title"
      ]
     },
     "metadata": {
      "image/png": {
       "height": 420,
       "width": 420
      }
     },
     "output_type": "display_data"
    }
   ],
   "source": [
    "rownames(X) = paste(\"V\",1:2,sep=\"\")\n",
    "plot(t(X),las=1,xlim=c(0,5),ylim=c(0,7),asp=1)\n",
    "text(t(X),colnames(X),pos=2) \n",
    "abline(v=-1:6,h=0:7,col=\"gray80\") # grilla\n",
    "abline(v=0,h=0,col=\"darkgreen\") # ejes\n"
   ]
  },
  {
   "cell_type": "markdown",
   "metadata": {},
   "source": [
    "## Espacio vectorial $\\Re^n$ con producto interno clásico\n",
    "\n",
    "La generalización a cualquier espacio de dimensión $n$ es inmediata. Así se puede representan las tablas en espacios vectoriales. \n",
    "\n",
    "Sea $\\Re^n = \\{(x_1,x_2 \\cdots x^n) | x_i \\in \\Re,i=1,2 \\cdots n  \\}$. En estadística se escriben en columnas $\\mathbf{y}$  y  $\\mathbf{x}$:\n",
    "$$\n",
    "\\mathbf{x} =\\begin{bmatrix}\n",
    "  x_1  \\\\\n",
    "  \\cdot \\\\\n",
    "   \\cdot \\\\\n",
    "    \\cdot \\\\\n",
    "  x_i \\\\\n",
    "   \\cdot \\\\ \\cdot \\\\ \\cdot \\\\\n",
    "  x_n\n",
    "\\end{bmatrix}\n",
    "\\ \\ \\ \\ \\ \\ \\ \\ \\\n",
    "\\mathbf{y} =\\begin{bmatrix}\n",
    "  y_1  \\\\\n",
    "  \\cdot \\\\\n",
    "   \\cdot \\\\\n",
    "    \\cdot \\\\\n",
    "  y_i \\\\\n",
    "   \\cdot \\\\ \\cdot \\\\ \\cdot \\\\\n",
    "  y_n\n",
    "\\end{bmatrix}\n",
    "$$"
   ]
  },
  {
   "cell_type": "markdown",
   "metadata": {},
   "source": [
    "### Suma\n",
    "\n",
    "$$\n",
    "\\mathbf{x} + \\mathbf{y} =\n",
    "\\begin{bmatrix}\n",
    "  x_1  \\\\\n",
    "  \\cdot \\\\\n",
    "   \\cdot \\\\\n",
    "    \\cdot \\\\\n",
    "  x_i \\\\\n",
    "   \\cdot \\\\ \\cdot \\\\ \\cdot \\\\\n",
    "  x_n\n",
    "\\end{bmatrix}\n",
    "+ \n",
    "\\begin{bmatrix}\n",
    "  y_1  \\\\\n",
    "  \\cdot \\\\\n",
    "   \\cdot \\\\\n",
    "    \\cdot \\\\\n",
    "  y_i \\\\\n",
    "   \\cdot \\\\ \\cdot \\\\ \\cdot \\\\\n",
    "  y_n\n",
    "\\end{bmatrix} \n",
    "=\n",
    "\\begin{bmatrix}\n",
    "  x_1 + y_1  \\\\\n",
    "  \\cdot \\\\\n",
    "   \\cdot \\\\\n",
    "    \\cdot \\\\\n",
    "  x_i + y_i \\\\\n",
    "   \\cdot \\\\ \\cdot \\\\ \\cdot \\\\\n",
    "  x_n + y_n\n",
    "\\end{bmatrix} \n",
    "$$\n"
   ]
  },
  {
   "cell_type": "markdown",
   "metadata": {},
   "source": [
    "### Multiplicación por escalar\n",
    "\n",
    "$$\n",
    "c\\mathbf{x}\n",
    "=\n",
    "\\begin{bmatrix}\n",
    " c x_1  \\\\\n",
    "  \\cdot \\\\\n",
    "   \\cdot \\\\\n",
    "    \\cdot \\\\\n",
    " c x_i \\\\\n",
    "   \\cdot \\\\ \\cdot \\\\ \\cdot \\\\\n",
    " c x_n\n",
    "\\end{bmatrix}\n",
    "$$\n",
    "\n",
    "El **espacio vectorial** $\\Re^n$ tiene dimensión $n$ y sus **vectores** $n$ componentes"
   ]
  },
  {
   "cell_type": "markdown",
   "metadata": {},
   "source": [
    "### Combinación lineal en $\\Re^n$ \n",
    "\n",
    "Si se tienen $m$ vectores, el resultado de multiplicar cada uno de ellos por una constante (en general distinta) y sumar, se denomina combinación lineal.\n",
    "$$\n",
    "\\sum_{i=1}^m c_i  \\mathbf{x}_i \n",
    "$$\n",
    "\n"
   ]
  },
  {
   "cell_type": "markdown",
   "metadata": {},
   "source": [
    "### Vectores linealmente independientes en $\\Re^n$\n",
    "\n",
    "Cuando se tiene un conjunto de vectores, sin que ninguno de ellos sea combinación lineal de los otros, se dice que los vectores son linealmente independientes.\n",
    "\n",
    "En $\\Re^n$ se pueden tener hasta $n$ de vectores linealmente independientes. Si se tienen $n+1$ vectores, por ejemplo, siempre uno de ellos se puede expresar como combinación lineal de los otros $n$ vectores que son linealmente independientes.\n",
    "\n",
    "Un conjunto de $n$ vectores linealmente independiente es una **base** para el espacio vectorial $\\Re^n$, se dice que la **dimensión del espacio vetorial** es $n$. \n"
   ]
  },
  {
   "cell_type": "markdown",
   "metadata": {},
   "source": [
    "### Base canónica en $\\Re^n$\n",
    "\n",
    "La **base canónica** el espacio vectorial $\\Re^2$ es: \n",
    "$$\n",
    "\\mathbf{e}_1 = \\begin{bmatrix}\n",
    "  1  \\\\\n",
    "  . \\\\ . \\\\ . \\\\\n",
    "  0 \\\\\n",
    "  . \\\\ . \\\\ . \\\\\n",
    "  0\n",
    "\\end{bmatrix},\\mathbf{e}_2 = \\begin{bmatrix}\n",
    "  0  \\\\\n",
    "  . \\\\ . \\\\ . \\\\\n",
    "  1 \\\\\n",
    "  . \\\\ . \\\\ . \\\\\n",
    "  0\n",
    "\\end{bmatrix} \\cdots \\mathbf{e}_n = \\begin{bmatrix}\n",
    "  0  \\\\\n",
    "  . \\\\ . \\\\ . \\\\ . \\\\ . \\\\ . \\\\ . \\\\\n",
    "  1\n",
    "\\end{bmatrix}\n",
    "$$\n",
    "\n",
    "Obsérvese que la base canónica son las columnas de la **matriz identidad** $\\mathbf{I}_n$: matriz diagonal de unos $n \\times n$,\n",
    "\n",
    "$$\n",
    "\\mathbf{I}_n = \\begin{bmatrix}\n",
    "  1 & 0 & . & . & . &  . & 0 \\\\\n",
    "  0 & 1 & . & . & . &  . & 0 \\\\\n",
    "  0 & 0 & . & . & . &  . & 0 \\\\\n",
    "  0 & 0 & . & . & . &  . & 0 \\\\\n",
    "  0 & 0 & . & . & . &  . & 0 \\\\\n",
    "  0 & 0 & . & . & . &  . & 0 \\\\\n",
    "  0 & 0 & . & . & . &  . & 1 \\\\\n",
    "\\end{bmatrix}\n",
    "$$"
   ]
  },
  {
   "cell_type": "markdown",
   "metadata": {},
   "source": [
    "### Subespacios vectoriales de $\\Re^n$\n",
    "\n",
    "Si cuando se tienen $q$ vectores linealmente independientes y si $q \\le n$ se dice que $\\Re^q$ es un **subespacio vectorial de** $\\Re^n$ si $q$ es igual a:\n",
    "- 1 : líneas\n",
    "- 2 : planos\n",
    "- 3 : 3D\n",
    "- q : $\\Re^q$\n",
    "- n : $\\Re^n$"
   ]
  },
  {
   "cell_type": "markdown",
   "metadata": {},
   "source": [
    "### Producto escalar clásico, métrica y geometría multidimensional"
   ]
  },
  {
   "cell_type": "markdown",
   "metadata": {},
   "source": [
    "<figure>\n",
    "<center>\n",
    "<img src=\"../Imagenes/Scalar-product-dot-product.svg.png\" width=\"400\" height=\"400\" align=\"center\"/>\n",
    "<figcaption>Representación del producto escalar en el espacio euclideo.</figcaption>\n",
    "</center>\n",
    "</figure>\n",
    "\n",
    "Fuente: [Wikipedia](https://es.wikipedia.org/wiki/Producto_escalar)\n"
   ]
  },
  {
   "cell_type": "markdown",
   "metadata": {},
   "source": [
    "Sean los vectores $\\mathbf{x}$ y $\\mathbf{y}$ de $\\Re^n$, se definen:\n",
    "- **el producto escalar** de $\\mathbf{x}$ y $\\mathbf{y}$: $<\\mathbf{x},\\mathbf{y}> = \\sum\\limits_{i=1}^n x_i y_i = \\mathbf{x}^T \\mathbf{y} $\n",
    "\n",
    "el producto escalar $<\\mathbf{x},\\mathbf{x}> $ es $\\sum\\limits_{i=1}^n x_i^n = \\mathbf{x}^T \\mathbf{x}$\n",
    "\n",
    "- **la norma de x**: $||x||=\\sqrt{<\\mathbf{x},\\mathbf{x}>}  $\n",
    "\n",
    "- **la distancia entre x y y**: $d(\\mathbf{x},\\mathbf{y}) = ||\\mathbf{x}-\\mathbf{y}||$  \n",
    "\n",
    "- **el coseno entre x y y**: $cos(\\mathbf{x},\\mathbf{y}) = \\dfrac{<\\mathbf{x},\\mathbf{y}>}{||x||||y||}$\n",
    "\n",
    "- **la ortogonalidad entre x y y**: $\\mathbf{x} \\bot \\mathbf{y} \\ si \\ <\\mathbf{x},\\mathbf{y}> = 0$ \n",
    "\n",
    "Ahora $\\Re^n$ está dotado de una métrica (distancia) Euclidiana y tenemos una repesentación gráfica abstracta (cuando $n > 3$ para los vectores.\n",
    "\n",
    "Para los vectores de la base canónina su norma es un y el producto escalar o punto entre los dos vectores es cero.\n",
    "$$\n",
    "||\\mathbf{e}_i|| = 1 \\ \\ \\ <\\mathbf{e}_i,\\mathbf{e}_l>=0 \\ \\ \\forall i \\neq l\n",
    "$$\n",
    "\n",
    "Entonces la base canónica es una **base ortonormal**\n",
    "\n"
   ]
  },
  {
   "cell_type": "markdown",
   "metadata": {},
   "source": [
    "## Transformaciones lineales\n",
    "\n",
    "Una **transformación lineal** **T** es función lineal que va de un espacio vectorial en otro.\n",
    "Se dice lineal porque cumple:\n",
    "- $T(\\mathbf{x} + \\mathbf{y}) = T(\\mathbf{x}) +T( \\mathbf{y})$ \n",
    "- $T(c \\mathbf{x}) = c T(\\mathbf{x})$.\n",
    "\n",
    "Hay una relación uno a uno entre transformaciones lineales y matrices, es decir:\n",
    "- Toda transformación lineal tiene asociada una matriz\n",
    "- Toda matriz define una transformación lineal."
   ]
  },
  {
   "cell_type": "markdown",
   "metadata": {},
   "source": [
    "## Proyección ortogonal sobre un vector"
   ]
  },
  {
   "cell_type": "markdown",
   "metadata": {
    "tags": []
   },
   "source": [
    "\n",
    "<figure>\n",
    "<center>\n",
    "<img src=\"../Imagenes/Proyeccion1.png\" width=\"400\" height=\"400\" align=\"center\"/>\n",
    "<figcaption>Proyección</figcaption>\n",
    "</center>\n",
    "</figure>\n",
    "\n",
    "Fuente: [Wikipedia](https://es.wikipedia.org/wiki/Producto_escalar)\n"
   ]
  },
  {
   "cell_type": "markdown",
   "metadata": {},
   "source": [
    "Por ejemplo en $\\Re^2$ proyección del vector $\\mathbf{x}$ sobre  el vector $\\mathbf{y}$\n",
    "Sea $\\mathbf{P}$ la transformación y la matriz asociada:\n",
    "$$\n",
    "P: \\Re^2 \\longrightarrow \\Re\n",
    "$$\n",
    "\n",
    "La matriz $\\mathbf{P} = \\mathbf{y}^T = [ y_1 \\ \\ y_2 ]$  y el resultado es:\n",
    "$$\n",
    "\\mathbf{y}^T \\mathbf{x}\n",
    "$$\n",
    "Nótese que su valor es igual a producto escalar entre **x** y **y**\n",
    "$$\n",
    "<\\mathbf{x},\\mathbf{y}> = \\mathbf{x}^T\\mathbf{y} = \\mathbf{y}^T \\mathbf{x}\n",
    "$$"
   ]
  },
  {
   "cell_type": "code",
   "execution_count": null,
   "metadata": {},
   "outputs": [],
   "source": []
  },
  {
   "cell_type": "markdown",
   "metadata": {},
   "source": [
    "### Rotación en $\\Re^2$"
   ]
  },
  {
   "cell_type": "markdown",
   "metadata": {},
   "source": [
    "$$\n",
    "A: \\Re^2 \\longrightarrow \\Re^2\n",
    "$$"
   ]
  },
  {
   "cell_type": "markdown",
   "metadata": {},
   "source": [
    "$$\n",
    "\\mathbf{A} =\\begin{bmatrix} \\cos \\theta & -\\sin \\theta \\\\\n",
    "\\cos \\theta & \\sin \\theta \n",
    "\\end{bmatrix}\n",
    "$$\n",
    "\n",
    "- $\\theta$ representa el ángulo de rotación. Si  En  $\\theta = \\pi/4$ la rotación  es de $45^o$."
   ]
  },
  {
   "cell_type": "markdown",
   "metadata": {},
   "source": [
    "### Diagonalización de una matriz: valores y vectores propios\n",
    "\n",
    "Una matriz $\\mathbf{V}$ define una transformación lineal de $\\Re^n$ en $\\Re^n$\n",
    "$$\n",
    "\\mathbf{V}: \\Re^n \\longrightarrow \\Re^n\n",
    "$$\n",
    "$\\mathbf{w} = \\mathbf{Vu}$\n",
    "Cuando la transformación cumple \n",
    "$$\n",
    "\\mathbf{V} \\mathbf{u} = \\lambda \\mathbf{u}\n",
    "$$\n",
    "es decir $\\mathbf{w}=\\lambda \\mathbf{u}$ el vector $\\mathbf{u}$ multiplicado por la constante $\\lambda$,\n",
    "se dice que $\\lambda$ es un valor propio de $\\mathbf{V}$ y $\\mathbf{u}$ es un vector propio asociado."
   ]
  },
  {
   "cell_type": "markdown",
   "metadata": {},
   "source": [
    "#### Ejercicio\n",
    "construir un ejemplo en $\\Re^2$"
   ]
  },
  {
   "cell_type": "markdown",
   "metadata": {},
   "source": [
    "### Rango de una matriz\n",
    "Si $\\mathbf{V}$ es una matriz definida positiva la matriz es de rango completo, es decir $n$.\n",
    "Si es semidefinida positiva el rango es el número de valores propios mayores que 0."
   ]
  },
  {
   "cell_type": "markdown",
   "metadata": {},
   "source": [
    "FIN Email: cepardot@unal.edu.co"
   ]
  }
 ],
 "metadata": {
  "kernelspec": {
   "display_name": "R",
   "language": "R",
   "name": "ir"
  },
  "language_info": {
   "codemirror_mode": "r",
   "file_extension": ".r",
   "mimetype": "text/x-r-source",
   "name": "R",
   "pygments_lexer": "r",
   "version": "4.3.0"
  },
  "toc-autonumbering": false
 },
 "nbformat": 4,
 "nbformat_minor": 4
}
