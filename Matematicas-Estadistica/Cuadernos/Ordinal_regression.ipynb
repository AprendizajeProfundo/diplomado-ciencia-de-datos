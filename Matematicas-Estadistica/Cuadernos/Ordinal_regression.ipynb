{
 "cells": [
  {
   "cell_type": "markdown",
   "metadata": {},
   "source": [
    "<figure>\n",
    "<img src=\"../Imagenes/logo-final-ap.png\"  width=\"80\" height=\"80\" align=\"left\"/> \n",
    "</figure>\n",
    "\n",
    "# <span style=\"color:blue\"><left>Aprendizaje Profundo</left></span>"
   ]
  },
  {
   "cell_type": "markdown",
   "metadata": {},
   "source": [
    "# <span style=\"color:red\"><center>Python</center></span>"
   ]
  },
  {
   "cell_type": "markdown",
   "metadata": {},
   "source": [
    "<center> Regresión Ordinal</center>"
   ]
  },
  {
   "cell_type": "markdown",
   "metadata": {},
   "source": [
    "<figure>\n",
    "<center>\n",
    "<img src=\"../Imagenes/regresion.png\" width=\"400\" height=\"300\" align=\"center\"/>\n",
    "</center>\n",
    "<figcaption>\n",
    "<p style=\"text-align:center\">Regresión</p>\n",
    "</figcaption>\n",
    "</figure>\n",
    "\n",
    "Fuente: Alvaro Montenegro"
   ]
  },
  {
   "cell_type": "markdown",
   "metadata": {
    "slideshow": {
     "slide_type": "slide"
    },
    "tags": []
   },
   "source": [
    "##   <span style=\"color:blue\">Profesores</span>"
   ]
  },
  {
   "cell_type": "markdown",
   "metadata": {
    "slideshow": {
     "slide_type": "slide"
    },
    "tags": []
   },
   "source": [
    "### Coordinador"
   ]
  },
  {
   "cell_type": "markdown",
   "metadata": {
    "slideshow": {
     "slide_type": "slide"
    },
    "tags": []
   },
   "source": [
    "- Campo Elías Pardo, PhD, cepardot@unal.edu.co"
   ]
  },
  {
   "cell_type": "markdown",
   "metadata": {
    "slideshow": {
     "slide_type": "slide"
    },
    "tags": []
   },
   "source": [
    "### Conferencistas"
   ]
  },
  {
   "cell_type": "markdown",
   "metadata": {},
   "source": [
    "- Alvaro  Montenegro, PhD, ammontenegrod@unal.edu.co\n",
    "- Daniel  Montenegro, Msc, dextronomo@gmail.com \n",
    "- Oleg Jarma, Estadístico, ojarmam@unal.edu.co "
   ]
  },
  {
   "cell_type": "markdown",
   "metadata": {},
   "source": [
    "##   <span style=\"color:blue\">Asesora Medios y Marketing digital</span>\n",
    " "
   ]
  },
  {
   "cell_type": "markdown",
   "metadata": {
    "slideshow": {
     "slide_type": "slide"
    },
    "tags": []
   },
   "source": [
    "- Maria del Pilar Montenegro, pmontenegro88@gmail.com "
   ]
  },
  {
   "cell_type": "markdown",
   "metadata": {},
   "source": [
    "## <span style=\"color:blue\">Asistentes</span>"
   ]
  },
  {
   "cell_type": "markdown",
   "metadata": {},
   "source": [
    "- Nayibe Yesenia Arias, naariasc@unal.edu.co\n",
    "- Venus Celeste Puertas, vpuertasg@unal.edu.co "
   ]
  },
  {
   "cell_type": "markdown",
   "metadata": {},
   "source": [
    "## <span style=\"color:blue\">Referencias</span>"
   ]
  },
  {
   "cell_type": "markdown",
   "metadata": {},
   "source": [
    "1. [Alvaro Montenegro y Daniel Montenegro, Inteligencia Artificial y Aprendizaje Profundo, 2021](https://github.com/AprendizajeProfundo/Diplomado)\n",
    "1. [Alvaro Montenegro, Daniel Montenegro y Oleg Jarma, Inteligencia Artificial y Aprendizaje Profundo Avanzado, 2022](https://github.com/AprendizajeProfundo/Diplomado-Avanzado)\n",
    "1. [Tutoriales de Pytorch](https://pytorch.org/tutorials/)\n",
    "1. [Pytorchlightning.ai](https://www.pytorchlightning.ai/)\n",
    "1. [How it works - Bike Share Regression PyTorch Lightning](https://github.com/shotleft/how-to-python/blob/master/How%20it%20works%20-%20Bike%20Share%20Regression%20PyTorch%20Lightning.ipynb)"
   ]
  },
  {
   "cell_type": "markdown",
   "metadata": {
    "slideshow": {
     "slide_type": "slide"
    },
    "tags": []
   },
   "source": [
    "## <span style=\"color:blue\">Contenido</span>"
   ]
  },
  {
   "cell_type": "markdown",
   "metadata": {},
   "source": [
    "* [Introducción](#Introducción)\n",
    "* [Instalar Pytorch-lightning](#Instalar-Pytorch-lightning)\n",
    "* [Ejemplo de un módulo Lightning](#Ejemplo-de-un-módulo-Lightning)"
   ]
  },
  {
   "cell_type": "markdown",
   "metadata": {
    "tags": []
   },
   "source": [
    "## <span style=\"color:blue\">Introducción</span> "
   ]
  },
  {
   "cell_type": "markdown",
   "metadata": {
    "tags": []
   },
   "source": [
    "### ¿Qué es la regresión ordinal?"
   ]
  },
  {
   "cell_type": "markdown",
   "metadata": {
    "tags": []
   },
   "source": [
    "En estadística y aprendizaje automático, la regresión ordinal es una variante de los modelos de regresión que normalmente se utiliza cuando los datos tienen una variable ordinal. \n",
    "\n",
    "Variable ordinal significa un tipo de variable donde los valores dentro de la variable son categóricos pero en orden. También podemos encontrar el nombre de regresión ordinal como una clasificación ordinal porque puede considerarse un problema entre la regresión y la clasificación.\n",
    "\n",
    "Podemos categorizar la regresión ordinal en dos categorías: `modelo logit ordenado` y `modelo probit ordenado`. "
   ]
  },
  {
   "cell_type": "markdown",
   "metadata": {
    "tags": []
   },
   "source": [
    "### Modelo logit ordenado"
   ]
  },
  {
   "cell_type": "markdown",
   "metadata": {
    "tags": []
   },
   "source": [
    "También podemos llamar a este modelo un modelo logístico ordenado que funciona para variables dependientes ordinales y un modelo de regresión pura. Por ejemplo, tenemos revisiones de cualquier cuestionario sobre cualquier producto como malo, bueno, agradable y excelente en una encuesta y queremos analizar qué tan bien se pueden predecir estas respuestas para el próximo producto. Si las preguntas son cuantitativas, entonces podemos usar este modelo. Podemos pensarlo como una extensión de la regresión logística que permite más de dos categorías de respuesta ordenadas."
   ]
  },
  {
   "cell_type": "markdown",
   "metadata": {
    "tags": []
   },
   "source": [
    "### Modelo probit ordenado"
   ]
  },
  {
   "cell_type": "markdown",
   "metadata": {
    "tags": []
   },
   "source": [
    "Podemos considerar este modelo como una variante del modelo probit, es con una variable dependiente ordinal donde podemos tener más de dos resultados. \n",
    "\n",
    "Una variable dependiente ordinal se puede definir como una variable en la que los valores tienen un orden natural, por ejemplo malo, bueno, bueno, excelente. "
   ]
  },
  {
   "cell_type": "markdown",
   "metadata": {
    "tags": []
   },
   "source": [
    "### ¿Cómo hacer una regresión ordinal?"
   ]
  },
  {
   "cell_type": "markdown",
   "metadata": {
    "tags": []
   },
   "source": [
    "Para realizar una regresión ordinal, podemos usar un modelo lineal generalizado (GLM). \n",
    "\n",
    "GLM tiene la capacidad de ajustar un vector de coeficientes y un conjunto de umbrales a los datos. Digamos que en un conjunto de datos tenemos observaciones, representadas por vectores de longitud $p$, digamos $\\mathbf{x}_1, \\ldots, \\mathbf{x}_n$, y para estas observaciones, tenemos las  respuestas ordinales $y_1,\\ldots, y_n$. los vectores $y$ toman valores ordinales.\n",
    "\n",
    "Un conjunto de umbrales es permite dividir la recta de números reales en segmentos, correspondientes a los niveles de respuesta que son similares a los números de segmentos.\n",
    "\n",
    "Matemáticamente podemos representar este modelo como sigue. Suponemos que $y$ tiene $K$ categorías, digamos $c_0,\\cdots,c_{K-1}$, ordenadas por algún criterio de orden $\\prec$, talque $c_k \\prec c_{k+1}$. Entonces se tiene que \n",
    "\n",
    "$$\n",
    "\\begin{align}\n",
    "\\theta_i  & =  net(W,b; \\mathbf{x}_i)\\\\\n",
    "z_0 & = 0 \\\\\n",
    "\\alpha_1 & = e^{a_1}\\\\\n",
    "z_1 & = \\alpha_1 \\theta_i - (d+\\tau_1)\\\\\n",
    "\\alpha_2 & = e^{a_2}\\\\\n",
    "\\delta_2 & = e^{\\eta_2}\\\\\n",
    "\\tau_2 &= \\tau_1 + \\delta_2\\\\\n",
    "z_2 & = [\\alpha_1 \\theta_i - (d+\\tau_1)] + [\\alpha_2 \\theta_i - (d+\\tau_2)]\\\\\n",
    "&\\cdots \\\\\n",
    "\\alpha_{k-1} & = e^{a_{k-1}}\\\\\n",
    "\\delta_{k-1} & = e^{\\eta_{k-1}}\\\\\n",
    "\\tau_{k-1} &= \\tau_{k-2} + \\delta_{k-1}\\\\\n",
    "z_{k-1} & = [\\alpha_1 \\theta_i - (d+\\tau_1)] + [\\alpha_2 \\theta_i - (d+\\tau_2)] + \\cdots + [\\alpha_{k-1} \\theta_i - (d+\\tau_{k-1})]\\\\\n",
    "\\end{align}\n",
    "$$"
   ]
  },
  {
   "cell_type": "markdown",
   "metadata": {
    "tags": []
   },
   "source": [
    "Definimos el modelo estadístico como sigue.\n",
    "\n",
    "$$\n",
    "\\theta  =  net(W,b; x),\n",
    "$$\n",
    "\n",
    "en donde $\\theta$ es la variable latente asociada a la salida de la red $net(W,b; \\cdot)$ para la entrada $x$, en donde $W$ y $b$ son los parámetros de pesos y sesgo de toda red.\n",
    "\n",
    "\n",
    "Para $k=1,\\cdots, K-1$ se definen logits $z_k$ como\n",
    "\n",
    "$$\n",
    "\\begin{align}\n",
    "z_k = \\sum_{j=1}^{K-1} [\\alpha_j \\theta - (d + \\tau_j)],\n",
    "\\end{align}\n",
    "$$\n",
    "\n",
    "en donde $\\alpha_j>0$ son parámetros de discriminación para cada categoría, $d$ es un parámetro global de posición y $\\tau_j$ representan parámetros de posición de cada categoría con respecto a $d$. Se adopta además que $\\tau_1<\\tau_2< \\cdots< \\tau_{K-1}$. Adicionalmente definimos $z_0=0$.\n",
    "\n",
    "Para evitar problemas de identificabilidad se define $\\alpha_0=1$ y  $\\tau_0=0$. Por lo que los primeros tres logits son dados por \n",
    "\n",
    "$$\n",
    "\\begin{align}\n",
    "z_0 & = [\\theta-d] \\\\\n",
    "z_1 & = [\\theta-d] + [\\alpha_1 \\theta - (d+\\tau_1)]\\\\\n",
    "z_2 & = [\\theta-d] + [\\alpha_1 \\theta - (d+\\tau_1)] + [\\alpha_2 \\theta - (d+\\tau_2)]\\\\\n",
    "\\end{align}\n",
    "$$\n",
    "\n",
    "Estos logits se convierten en probabilidades usando la función *softmax*. En otras palabras, el vector de probabilidades para asignar una entrada $x$ a una categoría es dado por\n",
    "\n",
    "$$\n",
    "[p_0, p_1,\\cdots, p_{K-1}] = softmax([z_0,z_1,\\cdots, z_{K-1}]).\n",
    "$$\n",
    "\n",
    "Por ejemplo\n",
    "\n",
    "$$\n",
    "p_k = \\frac{e^{z_k}}{\\sum_{j=0}^{K-1} e^{z_j}}\n",
    "$$"
   ]
  },
  {
   "cell_type": "markdown",
   "metadata": {
    "tags": []
   },
   "source": [
    "\n",
    "\n",
    "\n",
    "\n",
    "Se ha asumido $a_0 = 0, \\tau_0 = 0$, aunque esto último es irrelevante.\n",
    "\n",
    "Donde,\n",
    "\n",
    "+ $net(\\cdot)$ es un perceptron con una capa oculta (posiblemente)\n",
    "+ $W$ = es el parámetro de pesos de $net(\\cdot)$\n",
    "+ $b$ = es el parámetro de sesgos de $net(\\cdot)$\n",
    "+ $a_k, i = 1\\cdots, K-1 $ son los logaritmos de los parámetros de discriminación\n",
    "+ $d$ es un parámetro global de posición. \n",
    "+ $\\tau_k$ son parámetros de posición de cada categoría. Observe que $\\tau_1 < \\tau_2 < \\cdots < \\tau_{k-1}$\n",
    "\n",
    "\n",
    "\n",
    "Los umbrales son definidos como sigue\n",
    "\n",
    "$$\n",
    "\\begin{align}\n",
    "\\eta_0 &= \\theta_0\\\\\n",
    "\\eta_1 &= \\eta_0  + \\theta_1\\\\\n",
    "&\\cdots\\\\\n",
    "\\eta_{K-1} &= \\eta_{K-2} + \\theta_{K-1}\\\\\n",
    "\\end{align}\n",
    "$$\n",
    "\n",
    "La salida del modelo es el conjunto de logits $z_0, z_1, \\cdots, z_{K-1}$\n",
    "\n",
    "En esta lección $net(\\cdot)$ será un perceptron de dos capas. La capa intermedia tendrá una dimensión de tamaño 10."
   ]
  },
  {
   "cell_type": "markdown",
   "metadata": {
    "tags": []
   },
   "source": [
    "### Interpretación del modelo"
   ]
  },
  {
   "cell_type": "code",
   "execution_count": null,
   "metadata": {
    "tags": []
   },
   "outputs": [],
   "source": [
    "a = torch.nn.parameter.Parameter(data=torch.zeros(num_categ-1,)requires_grad=True)\n",
    "delta = torch.nn.parameter.Parameter(data=torch.zeros(num_categ-2,)requires_grad=True)"
   ]
  },
  {
   "cell_type": "markdown",
   "metadata": {
    "tags": []
   },
   "source": [
    "## <span style=\"color:blue\">Introducción</span> "
   ]
  },
  {
   "cell_type": "markdown",
   "metadata": {
    "tags": []
   },
   "source": [
    "En esta lección, vamos a utilizar datos denominados `diamonds`. Puede encontrar estos datos en [Kaggle](https://www.kaggle.com/code/danielmarrama/diamond-exploratory-analysis-and-visualizations/data)   aquí. En el conjunto de datos, tenemos una variable que tiene una variable dependiente ordinal con algunas categorías en forma ordenada. Llamemos a los datos."
   ]
  },
  {
   "cell_type": "code",
   "execution_count": null,
   "metadata": {
    "id": "4xcsx1vu9Lkg"
   },
   "outputs": [],
   "source": [
    "import numpy as np\n",
    "import pandas as pd\n",
    "import scipy.stats as stats\n",
    "from statsmodels import miscmodels\n",
    "#from statsmodels.miscmodels import ordinal_model as OM\n",
    "from statsmodels.miscmodels.ordinal_model import OrderedModel"
   ]
  },
  {
   "cell_type": "code",
   "execution_count": null,
   "metadata": {
    "id": "1l0VxltO_OCZ"
   },
   "outputs": [],
   "source": [
    "data_diam = pd.read_csv('../Datos/diamonds.csv')"
   ]
  },
  {
   "cell_type": "code",
   "execution_count": null,
   "metadata": {
    "colab": {
     "base_uri": "https://localhost:8080/",
     "height": 363
    },
    "executionInfo": {
     "elapsed": 19,
     "status": "ok",
     "timestamp": 1648644338816,
     "user": {
      "displayName": "Yugesh Verma",
      "userId": "17317120202157761960"
     },
     "user_tz": -330
    },
    "id": "AcU6PPsBDtfL",
    "outputId": "e43bb247-251e-4397-eac3-e48658397141"
   },
   "outputs": [
    {
     "data": {
      "text/html": [
       "\n",
       "  <div id=\"df-ab866321-3deb-4f56-be37-a5f7b5b6e1e7\">\n",
       "    <div class=\"colab-df-container\">\n",
       "      <div>\n",
       "<style scoped>\n",
       "    .dataframe tbody tr th:only-of-type {\n",
       "        vertical-align: middle;\n",
       "    }\n",
       "\n",
       "    .dataframe tbody tr th {\n",
       "        vertical-align: top;\n",
       "    }\n",
       "\n",
       "    .dataframe thead th {\n",
       "        text-align: right;\n",
       "    }\n",
       "</style>\n",
       "<table border=\"1\" class=\"dataframe\">\n",
       "  <thead>\n",
       "    <tr style=\"text-align: right;\">\n",
       "      <th></th>\n",
       "      <th>Unnamed: 0</th>\n",
       "      <th>carat</th>\n",
       "      <th>cut</th>\n",
       "      <th>color</th>\n",
       "      <th>clarity</th>\n",
       "      <th>depth</th>\n",
       "      <th>table</th>\n",
       "      <th>price</th>\n",
       "      <th>x</th>\n",
       "      <th>y</th>\n",
       "      <th>z</th>\n",
       "    </tr>\n",
       "  </thead>\n",
       "  <tbody>\n",
       "    <tr>\n",
       "      <th>0</th>\n",
       "      <td>1</td>\n",
       "      <td>0.23</td>\n",
       "      <td>Ideal</td>\n",
       "      <td>E</td>\n",
       "      <td>SI2</td>\n",
       "      <td>61.5</td>\n",
       "      <td>55.0</td>\n",
       "      <td>326</td>\n",
       "      <td>3.95</td>\n",
       "      <td>3.98</td>\n",
       "      <td>2.43</td>\n",
       "    </tr>\n",
       "    <tr>\n",
       "      <th>1</th>\n",
       "      <td>2</td>\n",
       "      <td>0.21</td>\n",
       "      <td>Premium</td>\n",
       "      <td>E</td>\n",
       "      <td>SI1</td>\n",
       "      <td>59.8</td>\n",
       "      <td>61.0</td>\n",
       "      <td>326</td>\n",
       "      <td>3.89</td>\n",
       "      <td>3.84</td>\n",
       "      <td>2.31</td>\n",
       "    </tr>\n",
       "    <tr>\n",
       "      <th>2</th>\n",
       "      <td>3</td>\n",
       "      <td>0.23</td>\n",
       "      <td>Good</td>\n",
       "      <td>E</td>\n",
       "      <td>VS1</td>\n",
       "      <td>56.9</td>\n",
       "      <td>65.0</td>\n",
       "      <td>327</td>\n",
       "      <td>4.05</td>\n",
       "      <td>4.07</td>\n",
       "      <td>2.31</td>\n",
       "    </tr>\n",
       "    <tr>\n",
       "      <th>3</th>\n",
       "      <td>4</td>\n",
       "      <td>0.29</td>\n",
       "      <td>Premium</td>\n",
       "      <td>I</td>\n",
       "      <td>VS2</td>\n",
       "      <td>62.4</td>\n",
       "      <td>58.0</td>\n",
       "      <td>334</td>\n",
       "      <td>4.20</td>\n",
       "      <td>4.23</td>\n",
       "      <td>2.63</td>\n",
       "    </tr>\n",
       "    <tr>\n",
       "      <th>4</th>\n",
       "      <td>5</td>\n",
       "      <td>0.31</td>\n",
       "      <td>Good</td>\n",
       "      <td>J</td>\n",
       "      <td>SI2</td>\n",
       "      <td>63.3</td>\n",
       "      <td>58.0</td>\n",
       "      <td>335</td>\n",
       "      <td>4.34</td>\n",
       "      <td>4.35</td>\n",
       "      <td>2.75</td>\n",
       "    </tr>\n",
       "    <tr>\n",
       "      <th>5</th>\n",
       "      <td>6</td>\n",
       "      <td>0.24</td>\n",
       "      <td>Very Good</td>\n",
       "      <td>J</td>\n",
       "      <td>VVS2</td>\n",
       "      <td>62.8</td>\n",
       "      <td>57.0</td>\n",
       "      <td>336</td>\n",
       "      <td>3.94</td>\n",
       "      <td>3.96</td>\n",
       "      <td>2.48</td>\n",
       "    </tr>\n",
       "    <tr>\n",
       "      <th>6</th>\n",
       "      <td>7</td>\n",
       "      <td>0.24</td>\n",
       "      <td>Very Good</td>\n",
       "      <td>I</td>\n",
       "      <td>VVS1</td>\n",
       "      <td>62.3</td>\n",
       "      <td>57.0</td>\n",
       "      <td>336</td>\n",
       "      <td>3.95</td>\n",
       "      <td>3.98</td>\n",
       "      <td>2.47</td>\n",
       "    </tr>\n",
       "    <tr>\n",
       "      <th>7</th>\n",
       "      <td>8</td>\n",
       "      <td>0.26</td>\n",
       "      <td>Very Good</td>\n",
       "      <td>H</td>\n",
       "      <td>SI1</td>\n",
       "      <td>61.9</td>\n",
       "      <td>55.0</td>\n",
       "      <td>337</td>\n",
       "      <td>4.07</td>\n",
       "      <td>4.11</td>\n",
       "      <td>2.53</td>\n",
       "    </tr>\n",
       "    <tr>\n",
       "      <th>8</th>\n",
       "      <td>9</td>\n",
       "      <td>0.22</td>\n",
       "      <td>Fair</td>\n",
       "      <td>E</td>\n",
       "      <td>VS2</td>\n",
       "      <td>65.1</td>\n",
       "      <td>61.0</td>\n",
       "      <td>337</td>\n",
       "      <td>3.87</td>\n",
       "      <td>3.78</td>\n",
       "      <td>2.49</td>\n",
       "    </tr>\n",
       "    <tr>\n",
       "      <th>9</th>\n",
       "      <td>10</td>\n",
       "      <td>0.23</td>\n",
       "      <td>Very Good</td>\n",
       "      <td>H</td>\n",
       "      <td>VS1</td>\n",
       "      <td>59.4</td>\n",
       "      <td>61.0</td>\n",
       "      <td>338</td>\n",
       "      <td>4.00</td>\n",
       "      <td>4.05</td>\n",
       "      <td>2.39</td>\n",
       "    </tr>\n",
       "  </tbody>\n",
       "</table>\n",
       "</div>\n",
       "      <button class=\"colab-df-convert\" onclick=\"convertToInteractive('df-ab866321-3deb-4f56-be37-a5f7b5b6e1e7')\"\n",
       "              title=\"Convert this dataframe to an interactive table.\"\n",
       "              style=\"display:none;\">\n",
       "        \n",
       "  <svg xmlns=\"http://www.w3.org/2000/svg\" height=\"24px\"viewBox=\"0 0 24 24\"\n",
       "       width=\"24px\">\n",
       "    <path d=\"M0 0h24v24H0V0z\" fill=\"none\"/>\n",
       "    <path d=\"M18.56 5.44l.94 2.06.94-2.06 2.06-.94-2.06-.94-.94-2.06-.94 2.06-2.06.94zm-11 1L8.5 8.5l.94-2.06 2.06-.94-2.06-.94L8.5 2.5l-.94 2.06-2.06.94zm10 10l.94 2.06.94-2.06 2.06-.94-2.06-.94-.94-2.06-.94 2.06-2.06.94z\"/><path d=\"M17.41 7.96l-1.37-1.37c-.4-.4-.92-.59-1.43-.59-.52 0-1.04.2-1.43.59L10.3 9.45l-7.72 7.72c-.78.78-.78 2.05 0 2.83L4 21.41c.39.39.9.59 1.41.59.51 0 1.02-.2 1.41-.59l7.78-7.78 2.81-2.81c.8-.78.8-2.07 0-2.86zM5.41 20L4 18.59l7.72-7.72 1.47 1.35L5.41 20z\"/>\n",
       "  </svg>\n",
       "      </button>\n",
       "      \n",
       "  <style>\n",
       "    .colab-df-container {\n",
       "      display:flex;\n",
       "      flex-wrap:wrap;\n",
       "      gap: 12px;\n",
       "    }\n",
       "\n",
       "    .colab-df-convert {\n",
       "      background-color: #E8F0FE;\n",
       "      border: none;\n",
       "      border-radius: 50%;\n",
       "      cursor: pointer;\n",
       "      display: none;\n",
       "      fill: #1967D2;\n",
       "      height: 32px;\n",
       "      padding: 0 0 0 0;\n",
       "      width: 32px;\n",
       "    }\n",
       "\n",
       "    .colab-df-convert:hover {\n",
       "      background-color: #E2EBFA;\n",
       "      box-shadow: 0px 1px 2px rgba(60, 64, 67, 0.3), 0px 1px 3px 1px rgba(60, 64, 67, 0.15);\n",
       "      fill: #174EA6;\n",
       "    }\n",
       "\n",
       "    [theme=dark] .colab-df-convert {\n",
       "      background-color: #3B4455;\n",
       "      fill: #D2E3FC;\n",
       "    }\n",
       "\n",
       "    [theme=dark] .colab-df-convert:hover {\n",
       "      background-color: #434B5C;\n",
       "      box-shadow: 0px 1px 3px 1px rgba(0, 0, 0, 0.15);\n",
       "      filter: drop-shadow(0px 1px 2px rgba(0, 0, 0, 0.3));\n",
       "      fill: #FFFFFF;\n",
       "    }\n",
       "  </style>\n",
       "\n",
       "      <script>\n",
       "        const buttonEl =\n",
       "          document.querySelector('#df-ab866321-3deb-4f56-be37-a5f7b5b6e1e7 button.colab-df-convert');\n",
       "        buttonEl.style.display =\n",
       "          google.colab.kernel.accessAllowed ? 'block' : 'none';\n",
       "\n",
       "        async function convertToInteractive(key) {\n",
       "          const element = document.querySelector('#df-ab866321-3deb-4f56-be37-a5f7b5b6e1e7');\n",
       "          const dataTable =\n",
       "            await google.colab.kernel.invokeFunction('convertToInteractive',\n",
       "                                                     [key], {});\n",
       "          if (!dataTable) return;\n",
       "\n",
       "          const docLinkHtml = 'Like what you see? Visit the ' +\n",
       "            '<a target=\"_blank\" href=https://colab.research.google.com/notebooks/data_table.ipynb>data table notebook</a>'\n",
       "            + ' to learn more about interactive tables.';\n",
       "          element.innerHTML = '';\n",
       "          dataTable['output_type'] = 'display_data';\n",
       "          await google.colab.output.renderOutput(dataTable, element);\n",
       "          const docLink = document.createElement('div');\n",
       "          docLink.innerHTML = docLinkHtml;\n",
       "          element.appendChild(docLink);\n",
       "        }\n",
       "      </script>\n",
       "    </div>\n",
       "  </div>\n",
       "  "
      ],
      "text/plain": [
       "   Unnamed: 0  carat        cut color clarity  depth  table  price     x  \\\n",
       "0           1   0.23      Ideal     E     SI2   61.5   55.0    326  3.95   \n",
       "1           2   0.21    Premium     E     SI1   59.8   61.0    326  3.89   \n",
       "2           3   0.23       Good     E     VS1   56.9   65.0    327  4.05   \n",
       "3           4   0.29    Premium     I     VS2   62.4   58.0    334  4.20   \n",
       "4           5   0.31       Good     J     SI2   63.3   58.0    335  4.34   \n",
       "5           6   0.24  Very Good     J    VVS2   62.8   57.0    336  3.94   \n",
       "6           7   0.24  Very Good     I    VVS1   62.3   57.0    336  3.95   \n",
       "7           8   0.26  Very Good     H     SI1   61.9   55.0    337  4.07   \n",
       "8           9   0.22       Fair     E     VS2   65.1   61.0    337  3.87   \n",
       "9          10   0.23  Very Good     H     VS1   59.4   61.0    338  4.00   \n",
       "\n",
       "      y     z  \n",
       "0  3.98  2.43  \n",
       "1  3.84  2.31  \n",
       "2  4.07  2.31  \n",
       "3  4.23  2.63  \n",
       "4  4.35  2.75  \n",
       "5  3.96  2.48  \n",
       "6  3.98  2.47  \n",
       "7  4.11  2.53  \n",
       "8  3.78  2.49  \n",
       "9  4.05  2.39  "
      ]
     },
     "execution_count": 62,
     "metadata": {},
     "output_type": "execute_result"
    }
   ],
   "source": [
    "data_diam.head(10)"
   ]
  },
  {
   "cell_type": "code",
   "execution_count": null,
   "metadata": {
    "colab": {
     "base_uri": "https://localhost:8080/"
    },
    "executionInfo": {
     "elapsed": 597,
     "status": "ok",
     "timestamp": 1648644342545,
     "user": {
      "displayName": "Yugesh Verma",
      "userId": "17317120202157761960"
     },
     "user_tz": -330
    },
    "id": "pO_WFJb2D7Kz",
    "outputId": "2e47fb9d-dc10-4703-b64e-bf2c406118ab"
   },
   "outputs": [
    {
     "data": {
      "text/plain": [
       "Unnamed: 0      int64\n",
       "carat         float64\n",
       "cut            object\n",
       "color          object\n",
       "clarity        object\n",
       "depth         float64\n",
       "table         float64\n",
       "price           int64\n",
       "x             float64\n",
       "y             float64\n",
       "z             float64\n",
       "dtype: object"
      ]
     },
     "execution_count": 63,
     "metadata": {},
     "output_type": "execute_result"
    }
   ],
   "source": [
    "data_diam.dtypes"
   ]
  },
  {
   "cell_type": "code",
   "execution_count": null,
   "metadata": {
    "id": "aZfE49T5Gt_e"
   },
   "outputs": [],
   "source": [
    "from pandas.api.types import CategoricalDtype\n",
    "cat_type = CategoricalDtype(categories=['Fair', 'Good', 'Ideal', 'Very Good', 'Premium'], ordered=True)"
   ]
  },
  {
   "cell_type": "code",
   "execution_count": null,
   "metadata": {
    "id": "diryAHF6G_Wn"
   },
   "outputs": [],
   "source": [
    "data_diam[\"cut\"] = data_diam[\"cut\"].astype(cat_type)"
   ]
  },
  {
   "cell_type": "code",
   "execution_count": null,
   "metadata": {
    "colab": {
     "base_uri": "https://localhost:8080/"
    },
    "executionInfo": {
     "elapsed": 10,
     "status": "ok",
     "timestamp": 1648644351697,
     "user": {
      "displayName": "Yugesh Verma",
      "userId": "17317120202157761960"
     },
     "user_tz": -330
    },
    "id": "fEUmb_vbEsH_",
    "outputId": "8c5ecc42-1ba9-41f9-9b0e-dd073e514236"
   },
   "outputs": [
    {
     "data": {
      "text/plain": [
       "CategoricalDtype(categories=['Fair', 'Good', 'Ideal', 'Very Good', 'Premium'], ordered=True)"
      ]
     },
     "execution_count": 66,
     "metadata": {},
     "output_type": "execute_result"
    }
   ],
   "source": [
    "data_diam['cut'].dtype"
   ]
  },
  {
   "cell_type": "code",
   "execution_count": null,
   "metadata": {
    "id": "2rq32HSVHzMY"
   },
   "outputs": [],
   "source": [
    "data_diam['volume'] = data_diam['x']*data_diam['y']*data_diam['z']\n",
    "data_diam.drop(['x','y','z'],axis=1,inplace=True)"
   ]
  },
  {
   "cell_type": "code",
   "execution_count": null,
   "metadata": {
    "colab": {
     "base_uri": "https://localhost:8080/",
     "height": 1000
    },
    "executionInfo": {
     "elapsed": 3735,
     "status": "ok",
     "timestamp": 1648644362131,
     "user": {
      "displayName": "Yugesh Verma",
      "userId": "17317120202157761960"
     },
     "user_tz": -330
    },
    "id": "Rh3VY37hHYtD",
    "outputId": "49c3092c-fa88-49a6-c790-c09e1d81edbe"
   },
   "outputs": [
    {
     "data": {
      "text/plain": [
       "Text(0.5, 1.0, 'Distribution by Volume')"
      ]
     },
     "execution_count": 68,
     "metadata": {},
     "output_type": "execute_result"
    },
    {
     "data": {
      "image/png": "[encoded data removed]",
      "text/plain": [
       "<Figure size 1728x1728 with 4 Axes>"
      ]
     },
     "metadata": {
      "needs_background": "light"
     },
     "output_type": "display_data"
    }
   ],
   "source": [
    "import matplotlib.pyplot as plt\n",
    "\n",
    "plt.figure(figsize=[24,24])\n",
    "\n",
    "plt.subplot(221)\n",
    "plt.hist(data_diam['carat'],bins=20,color='b')\n",
    "plt.xlabel('Weight')\n",
    "plt.title('Distribution by Weight')\n",
    "\n",
    "plt.subplot(222)\n",
    "plt.hist(data_diam['depth'],bins=20,color='r')\n",
    "plt.xlabel('Diamond Depth')\n",
    "plt.title('Distribution by Depth')\n",
    "\n",
    "plt.subplot(223)\n",
    "plt.hist(data_diam['price'],bins=20,color='g')\n",
    "plt.xlabel('Price')\n",
    "plt.title('Distribution by Price')\n",
    "\n",
    "plt.subplot(224)\n",
    "plt.hist(data_diam['volume'],bins=20,color='m')\n",
    "plt.xlabel('Volume')\n",
    "plt.title('Distribution by Volume')"
   ]
  },
  {
   "cell_type": "code",
   "execution_count": null,
   "metadata": {
    "colab": {
     "base_uri": "https://localhost:8080/",
     "height": 459
    },
    "executionInfo": {
     "elapsed": 11980,
     "status": "ok",
     "timestamp": 1648644379018,
     "user": {
      "displayName": "Yugesh Verma",
      "userId": "17317120202157761960"
     },
     "user_tz": -330
    },
    "id": "bDaSX2ejBMIY",
    "outputId": "71dc0954-4ae9-431e-aaed-3f5d88cde419"
   },
   "outputs": [
    {
     "name": "stdout",
     "output_type": "stream",
     "text": [
      "Optimization terminated successfully.\n",
      "         Current function value: 1.369122\n",
      "         Iterations: 29\n",
      "         Function evaluations: 35\n",
      "         Gradient evaluations: 35\n"
     ]
    },
    {
     "data": {
      "text/html": [
       "<table class=\"simpletable\">\n",
       "<caption>OrderedModel Results</caption>\n",
       "<tr>\n",
       "  <th>Dep. Variable:</th>            <td>cut</td>        <th>  Log-Likelihood:    </th> <td> -73850.</td> \n",
       "</tr>\n",
       "<tr>\n",
       "  <th>Model:</th>               <td>OrderedModel</td>    <th>  AIC:               </th> <td>1.477e+05</td>\n",
       "</tr>\n",
       "<tr>\n",
       "  <th>Method:</th>           <td>Maximum Likelihood</td> <th>  BIC:               </th> <td>1.478e+05</td>\n",
       "</tr>\n",
       "<tr>\n",
       "  <th>Date:</th>              <td>Wed, 30 Mar 2022</td>  <th>                     </th>     <td> </td>    \n",
       "</tr>\n",
       "<tr>\n",
       "  <th>Time:</th>                  <td>12:46:17</td>      <th>                     </th>     <td> </td>    \n",
       "</tr>\n",
       "<tr>\n",
       "  <th>No. Observations:</th>       <td> 53940</td>       <th>                     </th>     <td> </td>    \n",
       "</tr>\n",
       "<tr>\n",
       "  <th>Df Residuals:</th>           <td> 53933</td>       <th>                     </th>     <td> </td>    \n",
       "</tr>\n",
       "<tr>\n",
       "  <th>Df Model:</th>               <td>     7</td>       <th>                     </th>     <td> </td>    \n",
       "</tr>\n",
       "</table>\n",
       "<table class=\"simpletable\">\n",
       "<tr>\n",
       "          <td></td>             <th>coef</th>     <th>std err</th>      <th>z</th>      <th>P>|z|</th>  <th>[0.025</th>    <th>0.975]</th>  \n",
       "</tr>\n",
       "<tr>\n",
       "  <th>volume</th>            <td>    0.0060</td> <td>    0.001</td> <td>   10.108</td> <td> 0.000</td> <td>    0.005</td> <td>    0.007</td>\n",
       "</tr>\n",
       "<tr>\n",
       "  <th>price</th>             <td> 3.511e-05</td> <td> 3.01e-06</td> <td>   11.658</td> <td> 0.000</td> <td> 2.92e-05</td> <td>  4.1e-05</td>\n",
       "</tr>\n",
       "<tr>\n",
       "  <th>carat</th>             <td>   -1.1049</td> <td>    0.097</td> <td>  -11.353</td> <td> 0.000</td> <td>   -1.296</td> <td>   -0.914</td>\n",
       "</tr>\n",
       "<tr>\n",
       "  <th>Fair/Good</th>         <td>   -1.8589</td> <td>    0.016</td> <td> -119.403</td> <td> 0.000</td> <td>   -1.889</td> <td>   -1.828</td>\n",
       "</tr>\n",
       "<tr>\n",
       "  <th>Good/Ideal</th>        <td>   -0.3292</td> <td>    0.014</td> <td>  -24.056</td> <td> 0.000</td> <td>   -0.356</td> <td>   -0.302</td>\n",
       "</tr>\n",
       "<tr>\n",
       "  <th>Ideal/Very Good</th>   <td>    0.2053</td> <td>    0.006</td> <td>   35.080</td> <td> 0.000</td> <td>    0.194</td> <td>    0.217</td>\n",
       "</tr>\n",
       "<tr>\n",
       "  <th>Very Good/Premium</th> <td>   -0.4986</td> <td>    0.008</td> <td>  -60.605</td> <td> 0.000</td> <td>   -0.515</td> <td>   -0.483</td>\n",
       "</tr>\n",
       "</table>"
      ],
      "text/plain": [
       "<class 'statsmodels.iolib.summary.Summary'>\n",
       "\"\"\"\n",
       "                             OrderedModel Results                             \n",
       "==============================================================================\n",
       "Dep. Variable:                    cut   Log-Likelihood:                -73850.\n",
       "Model:                   OrderedModel   AIC:                         1.477e+05\n",
       "Method:            Maximum Likelihood   BIC:                         1.478e+05\n",
       "Date:                Wed, 30 Mar 2022                                         \n",
       "Time:                        12:46:17                                         \n",
       "No. Observations:               53940                                         \n",
       "Df Residuals:                   53933                                         \n",
       "Df Model:                           7                                         \n",
       "=====================================================================================\n",
       "                        coef    std err          z      P>|z|      [0.025      0.975]\n",
       "-------------------------------------------------------------------------------------\n",
       "volume                0.0060      0.001     10.108      0.000       0.005       0.007\n",
       "price              3.511e-05   3.01e-06     11.658      0.000    2.92e-05     4.1e-05\n",
       "carat                -1.1049      0.097    -11.353      0.000      -1.296      -0.914\n",
       "Fair/Good            -1.8589      0.016   -119.403      0.000      -1.889      -1.828\n",
       "Good/Ideal           -0.3292      0.014    -24.056      0.000      -0.356      -0.302\n",
       "Ideal/Very Good       0.2053      0.006     35.080      0.000       0.194       0.217\n",
       "Very Good/Premium    -0.4986      0.008    -60.605      0.000      -0.515      -0.483\n",
       "=====================================================================================\n",
       "\"\"\""
      ]
     },
     "execution_count": 69,
     "metadata": {},
     "output_type": "execute_result"
    }
   ],
   "source": [
    "mod_prob = OrderedModel(data_diam['cut'],\n",
    "                        data_diam[['volume', 'price', 'carat']],\n",
    "                        distr='probit')\n",
    "\n",
    "res_prob = mod_prob.fit(method='bfgs')\n",
    "res_prob.summary()"
   ]
  },
  {
   "cell_type": "code",
   "execution_count": null,
   "metadata": {
    "colab": {
     "base_uri": "https://localhost:8080/",
     "height": 373
    },
    "executionInfo": {
     "elapsed": 10726,
     "status": "ok",
     "timestamp": 1648644389737,
     "user": {
      "displayName": "Yugesh Verma",
      "userId": "17317120202157761960"
     },
     "user_tz": -330
    },
    "id": "qvZIk9IGfv_c",
    "outputId": "87444ab5-3681-4186-ce74-78c578b70a0b"
   },
   "outputs": [
    {
     "data": {
      "text/html": [
       "<table class=\"simpletable\">\n",
       "<caption>OrderedModel Results</caption>\n",
       "<tr>\n",
       "  <th>Dep. Variable:</th>            <td>cut</td>        <th>  Log-Likelihood:    </th> <td> -73855.</td> \n",
       "</tr>\n",
       "<tr>\n",
       "  <th>Model:</th>               <td>OrderedModel</td>    <th>  AIC:               </th> <td>1.477e+05</td>\n",
       "</tr>\n",
       "<tr>\n",
       "  <th>Method:</th>           <td>Maximum Likelihood</td> <th>  BIC:               </th> <td>1.478e+05</td>\n",
       "</tr>\n",
       "<tr>\n",
       "  <th>Date:</th>              <td>Wed, 30 Mar 2022</td>  <th>                     </th>     <td> </td>    \n",
       "</tr>\n",
       "<tr>\n",
       "  <th>Time:</th>                  <td>12:46:27</td>      <th>                     </th>     <td> </td>    \n",
       "</tr>\n",
       "<tr>\n",
       "  <th>No. Observations:</th>       <td> 53940</td>       <th>                     </th>     <td> </td>    \n",
       "</tr>\n",
       "<tr>\n",
       "  <th>Df Residuals:</th>           <td> 53933</td>       <th>                     </th>     <td> </td>    \n",
       "</tr>\n",
       "<tr>\n",
       "  <th>Df Model:</th>               <td>     7</td>       <th>                     </th>     <td> </td>    \n",
       "</tr>\n",
       "</table>\n",
       "<table class=\"simpletable\">\n",
       "<tr>\n",
       "          <td></td>             <th>coef</th>     <th>std err</th>      <th>z</th>      <th>P>|z|</th>  <th>[0.025</th>    <th>0.975]</th>  \n",
       "</tr>\n",
       "<tr>\n",
       "  <th>volume</th>            <td>    0.0104</td> <td>    0.002</td> <td>    5.875</td> <td> 0.000</td> <td>    0.007</td> <td>    0.014</td>\n",
       "</tr>\n",
       "<tr>\n",
       "  <th>price</th>             <td> 2.348e-05</td> <td> 5.31e-06</td> <td>    4.425</td> <td> 0.000</td> <td> 1.31e-05</td> <td> 3.39e-05</td>\n",
       "</tr>\n",
       "<tr>\n",
       "  <th>carat</th>             <td>   -1.5407</td> <td>    0.286</td> <td>   -5.394</td> <td> 0.000</td> <td>   -2.100</td> <td>   -0.981</td>\n",
       "</tr>\n",
       "<tr>\n",
       "  <th>Fair/Good</th>         <td>   -3.2836</td> <td>    0.031</td> <td> -105.758</td> <td> 0.000</td> <td>   -3.344</td> <td>   -3.223</td>\n",
       "</tr>\n",
       "<tr>\n",
       "  <th>Good/Ideal</th>        <td>    0.4038</td> <td>    0.015</td> <td>   27.062</td> <td> 0.000</td> <td>    0.375</td> <td>    0.433</td>\n",
       "</tr>\n",
       "<tr>\n",
       "  <th>Ideal/Very Good</th>   <td>    0.7301</td> <td>    0.006</td> <td>  116.508</td> <td> 0.000</td> <td>    0.718</td> <td>    0.742</td>\n",
       "</tr>\n",
       "<tr>\n",
       "  <th>Very Good/Premium</th> <td>   -0.0055</td> <td>    0.008</td> <td>   -0.653</td> <td> 0.514</td> <td>   -0.022</td> <td>    0.011</td>\n",
       "</tr>\n",
       "</table>"
      ],
      "text/plain": [
       "<class 'statsmodels.iolib.summary.Summary'>\n",
       "\"\"\"\n",
       "                             OrderedModel Results                             \n",
       "==============================================================================\n",
       "Dep. Variable:                    cut   Log-Likelihood:                -73855.\n",
       "Model:                   OrderedModel   AIC:                         1.477e+05\n",
       "Method:            Maximum Likelihood   BIC:                         1.478e+05\n",
       "Date:                Wed, 30 Mar 2022                                         \n",
       "Time:                        12:46:27                                         \n",
       "No. Observations:               53940                                         \n",
       "Df Residuals:                   53933                                         \n",
       "Df Model:                           7                                         \n",
       "=====================================================================================\n",
       "                        coef    std err          z      P>|z|      [0.025      0.975]\n",
       "-------------------------------------------------------------------------------------\n",
       "volume                0.0104      0.002      5.875      0.000       0.007       0.014\n",
       "price              2.348e-05   5.31e-06      4.425      0.000    1.31e-05    3.39e-05\n",
       "carat                -1.5407      0.286     -5.394      0.000      -2.100      -0.981\n",
       "Fair/Good            -3.2836      0.031   -105.758      0.000      -3.344      -3.223\n",
       "Good/Ideal            0.4038      0.015     27.062      0.000       0.375       0.433\n",
       "Ideal/Very Good       0.7301      0.006    116.508      0.000       0.718       0.742\n",
       "Very Good/Premium    -0.0055      0.008     -0.653      0.514      -0.022       0.011\n",
       "=====================================================================================\n",
       "\"\"\""
      ]
     },
     "execution_count": 70,
     "metadata": {},
     "output_type": "execute_result"
    }
   ],
   "source": [
    "mod_prob = OrderedModel(data_diam['cut'],\n",
    "                        data_diam[['volume', 'price', 'carat']],\n",
    "                        distr='logit')\n",
    "\n",
    "res_log = mod_prob.fit(method='bfgs', disp = False)\n",
    "res_log.summary()"
   ]
  },
  {
   "cell_type": "code",
   "execution_count": null,
   "metadata": {
    "colab": {
     "base_uri": "https://localhost:8080/"
    },
    "executionInfo": {
     "elapsed": 9,
     "status": "ok",
     "timestamp": 1648644391927,
     "user": {
      "displayName": "Yugesh Verma",
      "userId": "17317120202157761960"
     },
     "user_tz": -330
    },
    "id": "KJRP2EPEgopQ",
    "outputId": "2edc78ea-4613-455d-cb65-f7d0e47c9f53"
   },
   "outputs": [
    {
     "name": "stderr",
     "output_type": "stream",
     "text": [
      "/usr/local/lib/python3.7/dist-packages/statsmodels/miscmodels/ordinal_model.py:419: FutureWarning: Support for multi-dimensional indexing (e.g. `obj[:, None]`) is deprecated and will be removed in a future version.  Convert to a numpy array before indexing instead.\n",
      "  xb = xb[:, None]\n"
     ]
    },
    {
     "data": {
      "text/plain": [
       "array([[0.03443606, 0.10308231, 0.42201809, 0.21495304, 0.2255105 ],\n",
       "       [0.03468862, 0.10372996, 0.42298246, 0.21440769, 0.22419127],\n",
       "       [0.03447851, 0.10319128, 0.42218114, 0.21486137, 0.2252877 ],\n",
       "       ...,\n",
       "       [0.03052062, 0.09285935, 0.40522189, 0.22335735, 0.2480408 ],\n",
       "       [0.02973833, 0.0907751 , 0.40141256, 0.22500614, 0.25306787],\n",
       "       [0.02970169, 0.09067712, 0.4012301 , 0.22508295, 0.25330815]])"
      ]
     },
     "execution_count": 71,
     "metadata": {},
     "output_type": "execute_result"
    }
   ],
   "source": [
    "predicted = res_log.model.predict(res_log.params, exog=data_diam[['volume', 'price', 'carat']])\n",
    "predicted"
   ]
  },
  {
   "cell_type": "code",
   "execution_count": null,
   "metadata": {
    "colab": {
     "base_uri": "https://localhost:8080/"
    },
    "executionInfo": {
     "elapsed": 16,
     "status": "ok",
     "timestamp": 1648644395065,
     "user": {
      "displayName": "Yugesh Verma",
      "userId": "17317120202157761960"
     },
     "user_tz": -330
    },
    "id": "-KjIZx4Yh0Cs",
    "outputId": "9d48164f-34d1-42b8-8796-c86a596a7dbd"
   },
   "outputs": [
    {
     "name": "stdout",
     "output_type": "stream",
     "text": [
      "Fraction of correct choice predictions\n",
      "0.4013904338153504\n"
     ]
    }
   ],
   "source": [
    "pred_choice = predicted.argmax(1)\n",
    "print('Fraction of correct choice predictions')\n",
    "print((np.asarray(data_diam['cut'].values.codes) == pred_choice).mean())"
   ]
  }
 ],
 "metadata": {
  "colab": {
   "collapsed_sections": [],
   "name": "Copia de Untitled0.ipynb",
   "provenance": [
    {
     "file_id": "1_U6sYWT483kkWlU_KACaBbq_d1pFTojy",
     "timestamp": 1650231719410
    }
   ]
  },
  "kernelspec": {
   "display_name": "Python 3 (ipykernel)",
   "language": "python",
   "name": "python3"
  },
  "language_info": {
   "codemirror_mode": {
    "name": "ipython",
    "version": 3
   },
   "file_extension": ".py",
   "mimetype": "text/x-python",
   "name": "python",
   "nbconvert_exporter": "python",
   "pygments_lexer": "ipython3",
   "version": "3.8.13"
  }
 },
 "nbformat": 4,
 "nbformat_minor": 4
}
