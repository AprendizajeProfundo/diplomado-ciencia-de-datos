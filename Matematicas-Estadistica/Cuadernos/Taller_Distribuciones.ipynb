{
 "cells": [
  {
   "cell_type": "markdown",
   "id": "f4453063-fcf9-44bf-a12d-9295f9b4ce22",
   "metadata": {},
   "source": [
    "<figure>\n",
    "<img src=\"../Imagenes/logo-final-ap.png\"  width=\"80\" height=\"80\" align=\"left\"/> \n",
    "</figure>\n",
    "\n",
    "# <span style=\"color:blue\"><left>Aprendizaje Profundo</left></span>"
   ]
  },
  {
   "cell_type": "markdown",
   "id": "51c443df-72c8-431e-b0cc-4b963e0fe82d",
   "metadata": {},
   "source": [
    "# <span style=\"color:red\"><center>Taller de Distribuciones de probabilidad en Python</center></span>"
   ]
  },
  {
   "cell_type": "markdown",
   "id": "a7176b78-f48f-4664-81c6-310525837da4",
   "metadata": {
    "id": "Yjn9f6IPz4pF"
   },
   "source": [
    "## <span style=\"color:blue\">Autores</span>"
   ]
  },
  {
   "cell_type": "markdown",
   "id": "3d47bd8c-9965-4524-845b-505698e0d780",
   "metadata": {
    "id": "Yjn9f6IPz4pF"
   },
   "source": [
    "1. Alvaro Mauricio Montenegro Díaz, ammontenegrod@unal.edu.co\n",
    "1. Daniel Mauricio Montenegro Reyes, dextronomo@gmail.com\n",
    "1. Oleg Jarma, ojarmam@unal.edu.co \n",
    "1. Laura Lizarazo, ljlizarazore@unal.edu.co\n",
    "1. Julieth López, julalopezcas@unal.edu.co"
   ]
  },
  {
   "cell_type": "markdown",
   "id": "e7527ec7-1bce-4ebe-94bc-7dc652cbf32d",
   "metadata": {
    "id": "Yjn9f6IPz4pF"
   },
   "source": [
    "##   <span style=\"color:blue\">Asesora Medios y Marketing digital</span>"
   ]
  },
  {
   "cell_type": "markdown",
   "id": "7ae3be2f-8e31-447a-93e0-f4464feeb69f",
   "metadata": {
    "id": "Yjn9f6IPz4pF"
   },
   "source": [
    "Maria del Pilar Montenegro, pmontenegro88@gmail.com"
   ]
  },
  {
   "cell_type": "markdown",
   "id": "4a6507ee-3bd9-45d3-aa36-c7ab2090057b",
   "metadata": {
    "tags": []
   },
   "source": [
    "##   <span style=\"color:blue\">Contenido</span>"
   ]
  },
  {
   "cell_type": "markdown",
   "id": "e120b894-467b-4fb4-9dc8-8d83a2cbf75e",
   "metadata": {},
   "source": [
    "* [Librerías requeridas](#Librerías-requeridas)\n",
    "* [El ejemplo de los dados revisitado](#El-ejemplo-de-los-dados-revisitado)\n",
    "    * [Cálculo de la variable aleatoria](#Cálculo-de-la-variable-aleatoria)\n",
    "     * [Cálculo de la variable aleatoria similar](#Cálculo-de-la-variable-aleatoria-similar)\n",
    "* [Cálculo de probabilidades](#Cálculo-de-probabilidades)\n",
    "* [Gráfico función de probabilidad](#Gráfico-función-de-probabilidad)\n",
    "    * [Gráfico de barras](#Gráfico-de-barras)\n",
    "    * [Gráfico de línea](#Gráfico-de-línea)\n",
    "    * [Gráfico de puntos](#Gráfico-de-puntos)\n",
    "* [Generación de valores aleatorios-Muestra](#Generación-de-valores-aleatorios-Muestra)\n",
    "* [SciPy para distribuciones](#SciPy_para_distribuciones)\n",
    "    * [Distribuciones discretas](#Distribuciones_discretas)\n",
    "        * [Distribución uniforme discreta U[0,10]](#Distribución_uniforme_discreta-U[0,10])\n",
    "        * [Distribución de bernoulli](#Distribución_de_bernoulli)\n",
    "        * [Distribución binomial](#Distribución_binomial)\n",
    "    * [Distribuciones continuas](#Distribuciones_continuas) \n",
    "        * [Distribución uniforme continua](#Distribución_uniforme_continua)\n",
    "        * [Distribución normal](#Distribución_normal)\n",
    "* [Ejercicios](#Ejercicios)"
   ]
  },
  {
   "cell_type": "markdown",
   "id": "53545fcf",
   "metadata": {},
   "source": [
    "##   <span style=\"color:blue\">Librerías requeridas</span> "
   ]
  },
  {
   "cell_type": "markdown",
   "id": "ba983a45",
   "metadata": {},
   "source": [
    "Para seguir este taller se necesita tener instaladas las siguientes librerías:\n",
    "\n",
    "* Numpy\n",
    "* Scipy\n",
    "* Matplotlib\n",
    "* Seaborn"
   ]
  },
  {
   "cell_type": "markdown",
   "id": "27f012d3",
   "metadata": {
    "tags": []
   },
   "source": [
    "##   <span style=\"color:blue\"> El ejemplo de los dados revisitado</span>"
   ]
  },
  {
   "cell_type": "markdown",
   "id": "15643dcd-756f-43d8-b13d-a70c50308011",
   "metadata": {},
   "source": [
    "Vamos a adentrarnos un poco en el ejemplo de los dados. Recuerde elenucniado del problema.\n",
    "\n",
    "* Se lanzan dos lados de seis caras. La variable aleatoria $X$ es definida como la suma del valor mostrado por los dos dados.\n",
    "\n",
    "Inicialmente vamos a calcular por extensión la variable aleatoria y luego su función de probabilidad."
   ]
  },
  {
   "cell_type": "markdown",
   "id": "e7958efd-35e6-41a7-ac6c-e9fd09c3ac0e",
   "metadata": {},
   "source": [
    "### <span style=\"color:#4CC9F0\">Cálculo de la variable aleatoria</span>"
   ]
  },
  {
   "cell_type": "code",
   "execution_count": 1,
   "id": "e50154d9",
   "metadata": {},
   "outputs": [
    {
     "name": "stdout",
     "output_type": "stream",
     "text": [
      "f( 1.0 , 1.0 ) = 2.0\n",
      "f( 1.0 , 2.0 ) = 3.0\n",
      "f( 1.0 , 3.0 ) = 4.0\n",
      "f( 1.0 , 4.0 ) = 5.0\n",
      "f( 1.0 , 5.0 ) = 6.0\n",
      "f( 1.0 , 6.0 ) = 7.0\n",
      "f( 2.0 , 1.0 ) = 3.0\n",
      "f( 2.0 , 2.0 ) = 4.0\n",
      "f( 2.0 , 3.0 ) = 5.0\n",
      "f( 2.0 , 4.0 ) = 6.0\n",
      "f( 2.0 , 5.0 ) = 7.0\n",
      "f( 2.0 , 6.0 ) = 8.0\n",
      "f( 3.0 , 1.0 ) = 4.0\n",
      "f( 3.0 , 2.0 ) = 5.0\n",
      "f( 3.0 , 3.0 ) = 6.0\n",
      "f( 3.0 , 4.0 ) = 7.0\n",
      "f( 3.0 , 5.0 ) = 8.0\n",
      "f( 3.0 , 6.0 ) = 9.0\n",
      "f( 4.0 , 1.0 ) = 5.0\n",
      "f( 4.0 , 2.0 ) = 6.0\n",
      "f( 4.0 , 3.0 ) = 7.0\n",
      "f( 4.0 , 4.0 ) = 8.0\n",
      "f( 4.0 , 5.0 ) = 9.0\n",
      "f( 4.0 , 6.0 ) = 10.0\n",
      "f( 5.0 , 1.0 ) = 6.0\n",
      "f( 5.0 , 2.0 ) = 7.0\n",
      "f( 5.0 , 3.0 ) = 8.0\n",
      "f( 5.0 , 4.0 ) = 9.0\n",
      "f( 5.0 , 5.0 ) = 10.0\n",
      "f( 5.0 , 6.0 ) = 11.0\n",
      "f( 6.0 , 1.0 ) = 7.0\n",
      "f( 6.0 , 2.0 ) = 8.0\n",
      "f( 6.0 , 3.0 ) = 9.0\n",
      "f( 6.0 , 4.0 ) = 10.0\n",
      "f( 6.0 , 5.0 ) = 11.0\n",
      "f( 6.0 , 6.0 ) = 12.0\n"
     ]
    }
   ],
   "source": [
    "import numpy as np\n",
    "np.random.seed(27) #establece una semilla\n",
    "d1 = 6 #lados del dado 1\n",
    "d2 = 6 #lados del dado 2\n",
    "\n",
    "# espacio muestral\n",
    "M = np.zeros((d1*d2,2))\n",
    "#0 0\n",
    "#0 0\n",
    "#0 0\n",
    "#0 0\n",
    "#0 0\n",
    "#0 0\n",
    "k = 0\n",
    "for i in range(1,d1+1):\n",
    "    for j in range(1,d2+1):\n",
    "        M[k,] = (i,j)\n",
    "        k+=1\n",
    "\n",
    "# calcula la variable aleatoria f: f(x,y)=x+y        \n",
    "f = np.zeros(d1*d2)\n",
    "for k in range(d1*d2):\n",
    "    f[k] = M[k,0] + M[k,1]\n",
    "    \n",
    "# presenta los resultados\n",
    "for k in range(d1*d2):\n",
    "    print('f(',M[k,0],',',M[k,1],') =', f[k])"
   ]
  },
  {
   "cell_type": "markdown",
   "id": "3164eb45-0d11-479c-b016-31c0871d85b9",
   "metadata": {},
   "source": [
    "### <span style=\"color:#4CC9F0\">Cálculo de la variable aleatoria similar</span>"
   ]
  },
  {
   "cell_type": "markdown",
   "id": "ec50fc17-3239-4f61-851a-7375cb3b8ea5",
   "metadata": {},
   "source": [
    "¿Qué tal si queremos calcular la probabilidad de salida con 3 dados de 4 lados? Lamaremos a esta variable aleatoria como $Y$."
   ]
  },
  {
   "cell_type": "code",
   "execution_count": 2,
   "id": "866fb3c3",
   "metadata": {},
   "outputs": [
    {
     "name": "stdout",
     "output_type": "stream",
     "text": [
      "f( 1.0 , 1.0 , 1.0 ) = 3.0\n",
      "f( 1.0 , 1.0 , 2.0 ) = 4.0\n",
      "f( 1.0 , 1.0 , 3.0 ) = 5.0\n",
      "f( 1.0 , 1.0 , 4.0 ) = 6.0\n",
      "f( 1.0 , 2.0 , 1.0 ) = 4.0\n",
      "f( 1.0 , 2.0 , 2.0 ) = 5.0\n",
      "f( 1.0 , 2.0 , 3.0 ) = 6.0\n",
      "f( 1.0 , 2.0 , 4.0 ) = 7.0\n",
      "f( 1.0 , 3.0 , 1.0 ) = 5.0\n",
      "f( 1.0 , 3.0 , 2.0 ) = 6.0\n",
      "f( 1.0 , 3.0 , 3.0 ) = 7.0\n",
      "f( 1.0 , 3.0 , 4.0 ) = 8.0\n",
      "f( 1.0 , 4.0 , 1.0 ) = 6.0\n",
      "f( 1.0 , 4.0 , 2.0 ) = 7.0\n",
      "f( 1.0 , 4.0 , 3.0 ) = 8.0\n",
      "f( 1.0 , 4.0 , 4.0 ) = 9.0\n",
      "f( 2.0 , 1.0 , 1.0 ) = 4.0\n",
      "f( 2.0 , 1.0 , 2.0 ) = 5.0\n",
      "f( 2.0 , 1.0 , 3.0 ) = 6.0\n",
      "f( 2.0 , 1.0 , 4.0 ) = 7.0\n",
      "f( 2.0 , 2.0 , 1.0 ) = 5.0\n",
      "f( 2.0 , 2.0 , 2.0 ) = 6.0\n",
      "f( 2.0 , 2.0 , 3.0 ) = 7.0\n",
      "f( 2.0 , 2.0 , 4.0 ) = 8.0\n",
      "f( 2.0 , 3.0 , 1.0 ) = 6.0\n",
      "f( 2.0 , 3.0 , 2.0 ) = 7.0\n",
      "f( 2.0 , 3.0 , 3.0 ) = 8.0\n",
      "f( 2.0 , 3.0 , 4.0 ) = 9.0\n",
      "f( 2.0 , 4.0 , 1.0 ) = 7.0\n",
      "f( 2.0 , 4.0 , 2.0 ) = 8.0\n",
      "f( 2.0 , 4.0 , 3.0 ) = 9.0\n",
      "f( 2.0 , 4.0 , 4.0 ) = 10.0\n",
      "f( 3.0 , 1.0 , 1.0 ) = 5.0\n",
      "f( 3.0 , 1.0 , 2.0 ) = 6.0\n",
      "f( 3.0 , 1.0 , 3.0 ) = 7.0\n",
      "f( 3.0 , 1.0 , 4.0 ) = 8.0\n",
      "f( 3.0 , 2.0 , 1.0 ) = 6.0\n",
      "f( 3.0 , 2.0 , 2.0 ) = 7.0\n",
      "f( 3.0 , 2.0 , 3.0 ) = 8.0\n",
      "f( 3.0 , 2.0 , 4.0 ) = 9.0\n",
      "f( 3.0 , 3.0 , 1.0 ) = 7.0\n",
      "f( 3.0 , 3.0 , 2.0 ) = 8.0\n",
      "f( 3.0 , 3.0 , 3.0 ) = 9.0\n",
      "f( 3.0 , 3.0 , 4.0 ) = 10.0\n",
      "f( 3.0 , 4.0 , 1.0 ) = 8.0\n",
      "f( 3.0 , 4.0 , 2.0 ) = 9.0\n",
      "f( 3.0 , 4.0 , 3.0 ) = 10.0\n",
      "f( 3.0 , 4.0 , 4.0 ) = 11.0\n",
      "f( 4.0 , 1.0 , 1.0 ) = 6.0\n",
      "f( 4.0 , 1.0 , 2.0 ) = 7.0\n",
      "f( 4.0 , 1.0 , 3.0 ) = 8.0\n",
      "f( 4.0 , 1.0 , 4.0 ) = 9.0\n",
      "f( 4.0 , 2.0 , 1.0 ) = 7.0\n",
      "f( 4.0 , 2.0 , 2.0 ) = 8.0\n",
      "f( 4.0 , 2.0 , 3.0 ) = 9.0\n",
      "f( 4.0 , 2.0 , 4.0 ) = 10.0\n",
      "f( 4.0 , 3.0 , 1.0 ) = 8.0\n",
      "f( 4.0 , 3.0 , 2.0 ) = 9.0\n",
      "f( 4.0 , 3.0 , 3.0 ) = 10.0\n",
      "f( 4.0 , 3.0 , 4.0 ) = 11.0\n",
      "f( 4.0 , 4.0 , 1.0 ) = 9.0\n",
      "f( 4.0 , 4.0 , 2.0 ) = 10.0\n",
      "f( 4.0 , 4.0 , 3.0 ) = 11.0\n",
      "f( 4.0 , 4.0 , 4.0 ) = 12.0\n"
     ]
    }
   ],
   "source": [
    "d1 = 4 #lados del dado 1\n",
    "d2 = 4 #lados del dado 2\n",
    "d3 = 4 #lados del dado 3\n",
    "\n",
    "# espacio muestral\n",
    "M3 = np.zeros((d1*d2*d3,3))\n",
    "#0 0 0\n",
    "#0 0 0\n",
    "#0 0 0\n",
    "#0 0 0\n",
    "#0 0 0\n",
    "#0 0 0\n",
    "k = 0\n",
    "for i in range(1,d1+1):\n",
    "    for j in range(1,d2+1):\n",
    "        for l in range(1,d3+1):\n",
    "            M3[k,] = (i,j,l)\n",
    "            k+=1\n",
    "\n",
    "        \n",
    "# calcula la variable aleatoria f: f(x,y,z)=x+y+z        \n",
    "f3 = np.zeros(d1*d2*d3)\n",
    "for k in range(d1*d2*d3):\n",
    "    f3[k] = M3[k,0] + M3[k,1] + M3[k,2]\n",
    "\n",
    "    \n",
    "# presenta los resultados\n",
    "for k in range(d1*d2*d3):\n",
    "    print('f(',M3[k,0],',',M3[k,1],',' ,M3[k,2],') =', f3[k])"
   ]
  },
  {
   "cell_type": "code",
   "execution_count": 3,
   "id": "0aba014b",
   "metadata": {},
   "outputs": [
    {
     "name": "stdout",
     "output_type": "stream",
     "text": [
      "[ 2.  3.  4.  5.  6.  7.  8.  9. 10. 11. 12.]\n",
      "[ 3.  4.  5.  6.  7.  8.  9. 10. 11. 12.]\n"
     ]
    }
   ],
   "source": [
    "print(np.unique(f)) \n",
    "print(np.unique(f3)) "
   ]
  },
  {
   "cell_type": "markdown",
   "id": "47102c8f",
   "metadata": {},
   "source": [
    "A continuación hacemos una explicación de la función del contador de frecuencia."
   ]
  },
  {
   "cell_type": "code",
   "execution_count": 4,
   "id": "1806a095",
   "metadata": {},
   "outputs": [],
   "source": [
    "# Función Python para contar los elementos y la frecuencia\n",
    "# de los elementos de una lista, usando un diccionario\n",
    "  \n",
    "def CountFrequency(my_list): \n",
    "  \n",
    "    # Se crea un diccionario\n",
    "    freq = {} \n",
    "    for item in my_list: #se itera sobre los elementos en la lista\n",
    "        if (item in freq): #si el elemento en el loop ya está en el diccionario, se hace un conteo\n",
    "            freq[item] += 1\n",
    "        else: \n",
    "            freq[item] = 1 #si el elemento no se encuentra, se agrega y se le da el primer  contador\n",
    "    return freq      "
   ]
  },
  {
   "cell_type": "code",
   "execution_count": 5,
   "id": "bb2e1a14",
   "metadata": {},
   "outputs": [
    {
     "name": "stdout",
     "output_type": "stream",
     "text": [
      "frec =\n",
      " 2 :  1 \n",
      " 3 :  2 \n",
      " 4 :  3 \n",
      " 5 :  4 \n",
      " 6 :  5 \n",
      " 7 :  6 \n",
      " 8 :  5 \n",
      " 9 :  4 \n",
      " 10 :  3 \n",
      " 11 :  2 \n",
      " 12 :  1 \n",
      "\n",
      "frec3 =\n"
     ]
    },
    {
     "data": {
      "text/plain": [
       "{3.0: 1,\n",
       " 4.0: 3,\n",
       " 5.0: 6,\n",
       " 6.0: 10,\n",
       " 7.0: 12,\n",
       " 8.0: 12,\n",
       " 9.0: 10,\n",
       " 10.0: 6,\n",
       " 11.0: 3,\n",
       " 12.0: 1}"
      ]
     },
     "execution_count": 5,
     "metadata": {},
     "output_type": "execute_result"
    }
   ],
   "source": [
    "frec = CountFrequency(f)\n",
    "frec3 = CountFrequency(f3)  \n",
    "\n",
    "print ('frec =')\n",
    "for key, value in frec.items():\n",
    "    print (\"% d : % d \"%(key, value)) \n",
    "\n",
    "print('\\nfrec3 =')\n",
    "frec3"
   ]
  },
  {
   "cell_type": "markdown",
   "id": "0d9f3674",
   "metadata": {},
   "source": [
    "##   <span style=\"color:blue\"> Cálculo de probabilidades</span>"
   ]
  },
  {
   "cell_type": "markdown",
   "id": "7c77d618",
   "metadata": {},
   "source": [
    "En cuadernos anteriores vimos probabilidades de eventos, tales como:\n",
    "\n",
    "$$\n",
    "\\begin{align}\n",
    "\\text{Prob}[f \\text{ es par }]\\\\\n",
    "\\text{Prob}[f\\leq 6]\\\\\n",
    "\\text{Prob}[f> 10]\\\\\n",
    "\\text{Prob}[f \\text{ es par }|f\\leq5]\n",
    "\\end{align}\n",
    "$$\n",
    "\n",
    "¿Cómo podemos calcular estas directamente en python? Podemos hacerlo con comprensión de listas."
   ]
  },
  {
   "cell_type": "code",
   "execution_count": 6,
   "id": "e1c70bce-0c1e-4752-bb7d-05ebf343f34d",
   "metadata": {},
   "outputs": [
    {
     "name": "stdout",
     "output_type": "stream",
     "text": [
      "Prob[f par]=18/36\n",
      "Prob[f<=6]=15/36\n",
      "Prob[f>10]=3/36\n",
      "Prob[f par|f<=5]=4/36\n"
     ]
    }
   ],
   "source": [
    "## probabilidad de f par\n",
    "f_par = [x for x in f if x%2==0]\n",
    "print(\"Prob[f par]=%d/%d\" %(len(f_par),len(f)))\n",
    "\n",
    "##probabilidad de f menor o igual a 6\n",
    "f_menor_6 = [x for x in f if x<=6]\n",
    "print(\"Prob[f<=6]=%d/%d\" %(len(f_menor_6),len(f)))\n",
    "\n",
    "##probabilidad de f mayor a 10\n",
    "f_mayor_10=[x for x in f if x>10]\n",
    "print(\"Prob[f>10]=%d/%d\" %(len(f_mayor_10),len(f)))\n",
    "\n",
    "##probabilidad de f par dado que es menor a 5\n",
    "f_par_menor_5=[x for x in f if (x%2==0 and x<=5)]\n",
    "print(\"Prob[f par|f<=5]=%d/%d\" %(len(f_par_menor_5),len(f)))"
   ]
  },
  {
   "cell_type": "markdown",
   "id": "b4bce7f9-e4dc-49b4-8c2e-9a3c52c9f15d",
   "metadata": {},
   "source": [
    "##   <span style=\"color:blue\"> Gráfico función de probabilidad</span>"
   ]
  },
  {
   "cell_type": "markdown",
   "id": "e217e953-4b3e-46fc-8596-d564958fec4c",
   "metadata": {},
   "source": [
    "En est sección vamos a producir varios gráficos de la función de probabilidad de la variable aleatoria $X$."
   ]
  },
  {
   "cell_type": "code",
   "execution_count": 7,
   "id": "857b103b-83ae-4553-9c1e-cb1008148ed3",
   "metadata": {},
   "outputs": [],
   "source": [
    "import matplotlib.pyplot as plt\n",
    "import seaborn as sns"
   ]
  },
  {
   "cell_type": "markdown",
   "id": "66d50b72-2987-48b8-9d6b-dd76ce8f3a02",
   "metadata": {},
   "source": [
    "### <span style=\"color:#4CC9F0\">Gráfico de barras</span>"
   ]
  },
  {
   "cell_type": "markdown",
   "id": "bd551ea7-85a1-4684-9478-dd4cc4bb3fdc",
   "metadata": {},
   "source": [
    "ESte grafico de barras es llamado histograma."
   ]
  },
  {
   "cell_type": "code",
   "execution_count": 8,
   "id": "5487d454",
   "metadata": {},
   "outputs": [
    {
     "data": {
      "image/png": "[encoded data removed]",
      "text/plain": [
       "<Figure size 640x480 with 1 Axes>"
      ]
     },
     "metadata": {},
     "output_type": "display_data"
    }
   ],
   "source": [
    "plt.hist(f, bins=11,density=True)\n",
    "plt.title('Función de probabilidad de la variable aleatoria $X$')\n",
    "plt.xlabel('Valores de  $X$')\n",
    "plt.ylabel('Probabilidad')\n",
    "plt.show()"
   ]
  },
  {
   "cell_type": "markdown",
   "id": "49c74af8-af9b-4ce6-a6e1-c412b9d9fff7",
   "metadata": {},
   "source": [
    "### <span style=\"color:#4CC9F0\">Gráfico de línea</span>"
   ]
  },
  {
   "cell_type": "code",
   "execution_count": 9,
   "id": "9f5ff266-fcc3-405a-8fb9-cf4c3829d059",
   "metadata": {},
   "outputs": [
    {
     "data": {
      "image/png": "[encoded data removed]",
      "text/plain": [
       "<Figure size 640x480 with 1 Axes>"
      ]
     },
     "metadata": {},
     "output_type": "display_data"
    }
   ],
   "source": [
    "plt.plot(frec.keys(), frec.values())\n",
    "plt.title('Gráfico de linea de la función de probabilidad de $X$')\n",
    "plt.xlabel('Valores de  $X$')\n",
    "plt.ylabel('Probabilidad')\n",
    "plt.show()"
   ]
  },
  {
   "cell_type": "markdown",
   "id": "a09c1d7b-b7ae-41f5-bbec-12813937d715",
   "metadata": {},
   "source": [
    "### <span style=\"color:#4CC9F0\">Gráfico de puntos</span>"
   ]
  },
  {
   "cell_type": "code",
   "execution_count": 10,
   "id": "6af1321f-b067-4b39-80a7-4ec878d98bc9",
   "metadata": {},
   "outputs": [
    {
     "data": {
      "image/png": "[encoded data removed]",
      "text/plain": [
       "<Figure size 640x480 with 1 Axes>"
      ]
     },
     "metadata": {},
     "output_type": "display_data"
    }
   ],
   "source": [
    "plt.scatter(frec.keys(), frec.values())\n",
    "plt.title('Función de probabilidad de la variable aleatoria $X$')\n",
    "plt.xlabel('Valores de  $X$')\n",
    "plt.ylabel('probabilidad')\n",
    "plt.show()"
   ]
  },
  {
   "cell_type": "markdown",
   "id": "9c2da739-212c-4583-9b1e-2b9bdd3d813e",
   "metadata": {},
   "source": [
    "##   <span style=\"color:blue\"> Generación de valores aleatorios-Muestra</span>"
   ]
  },
  {
   "cell_type": "markdown",
   "id": "fe27c76f-a381-4ebc-91eb-e6dff8ec3568",
   "metadata": {},
   "source": [
    "Vamos a generar 1000 lanzamientos simulados de los dados de cuatro caras y calcualor los valores de la variable aleatoria $Y$."
   ]
  },
  {
   "cell_type": "code",
   "execution_count": 11,
   "id": "b536a995",
   "metadata": {},
   "outputs": [
    {
     "ename": "NameError",
     "evalue": "name 'random' is not defined",
     "output_type": "error",
     "traceback": [
      "\u001b[0;31m---------------------------------------------------------------------------\u001b[0m",
      "\u001b[0;31mNameError\u001b[0m                                 Traceback (most recent call last)",
      "Input \u001b[0;32mIn [11]\u001b[0m, in \u001b[0;36m<cell line: 13>\u001b[0;34m()\u001b[0m\n\u001b[1;32m     12\u001b[0m \u001b[38;5;66;03m# experimento\u001b[39;00m\n\u001b[1;32m     13\u001b[0m \u001b[38;5;28;01mfor\u001b[39;00m i \u001b[38;5;129;01min\u001b[39;00m \u001b[38;5;28mrange\u001b[39m(lanzamientos):\n\u001b[0;32m---> 14\u001b[0m     dado1 \u001b[38;5;241m=\u001b[39m \u001b[43mrandom\u001b[49m\u001b[38;5;241m.\u001b[39mrandint(\u001b[38;5;241m1\u001b[39m,d1\u001b[38;5;241m+\u001b[39m\u001b[38;5;241m1\u001b[39m)\n\u001b[1;32m     15\u001b[0m     dado2 \u001b[38;5;241m=\u001b[39m random\u001b[38;5;241m.\u001b[39mrandint(\u001b[38;5;241m1\u001b[39m,d2\u001b[38;5;241m+\u001b[39m\u001b[38;5;241m1\u001b[39m)\n\u001b[1;32m     16\u001b[0m     dado3\u001b[38;5;241m=\u001b[39m random\u001b[38;5;241m.\u001b[39mrandint(\u001b[38;5;241m1\u001b[39m,d3\u001b[38;5;241m+\u001b[39m\u001b[38;5;241m1\u001b[39m)\n",
      "\u001b[0;31mNameError\u001b[0m: name 'random' is not defined"
     ]
    }
   ],
   "source": [
    "import numpy   as np\n",
    "\n",
    "# semilla para reproducibilidad\n",
    "np.random.seed(100)\n",
    "\n",
    "d1, d2, d3  = 4, 4, 4\n",
    "\n",
    "lanzamientos = 10000 #simularemos 10000 lanzamientos de 3 dados\n",
    "# lista para almacenar los resultados\n",
    "Sums=[]\n",
    "\n",
    "# experimento\n",
    "for i in range(lanzamientos):\n",
    "    dado1 = random.randint(1,d1+1)\n",
    "    dado2 = random.randint(1,d2+1)\n",
    "    dado3= random.randint(1,d3+1)\n",
    "    a = [dado1, dado2 ,dado3]\n",
    "    # calcula el valor de la variable aleatoria Y\n",
    "    Sums.append(sum(a)) #suma de los resultados\n"
   ]
  },
  {
   "cell_type": "code",
   "execution_count": null,
   "id": "9c35db5b",
   "metadata": {},
   "outputs": [],
   "source": [
    "plt.hist(Sums,density=True)\n",
    "plt.title('Frecuencias observadas en la muestra')\n",
    "plt.xlabel('Valores observados')\n",
    "plt.ylabel('Frecuencias observadas')\n",
    "plt.show()"
   ]
  },
  {
   "cell_type": "markdown",
   "id": "a7845954",
   "metadata": {},
   "source": [
    "Vemos que en efecto su comportamiento es muy parecido al real, el comportamiento es el esperado."
   ]
  },
  {
   "cell_type": "markdown",
   "id": "24acdcc7",
   "metadata": {},
   "source": [
    "##   <span style=\"color:blue\">SciPy para distribuciones</span>"
   ]
  },
  {
   "cell_type": "markdown",
   "id": "135df671",
   "metadata": {},
   "source": [
    "La librería *Scipy* cuenta con la clase \"Stats\". con la cual podemos calcular, graficar y generar números aleatorios de una gran cantidad de distribuciones. Vamos a visitar algunas de estas distribuciones."
   ]
  },
  {
   "cell_type": "markdown",
   "id": "53387d69-ac19-43d7-82af-9688f34d9243",
   "metadata": {
    "tags": []
   },
   "source": [
    "### <span style=\"color:#4CC9F0\">Distribuciones Discretas</span>"
   ]
  },
  {
   "cell_type": "markdown",
   "id": "b0f9a0cc-af98-4c42-a65d-932bb2f271ce",
   "metadata": {
    "jp-MarkdownHeadingCollapsed": true,
    "tags": []
   },
   "source": [
    "#### <span style=\"color:#4CC9F0\">Distribución Uniforme discreta U[0,10]</span>"
   ]
  },
  {
   "cell_type": "code",
   "execution_count": null,
   "id": "b9102959",
   "metadata": {},
   "outputs": [],
   "source": [
    "from scipy.stats import randint\n",
    "media, var=randint.stats(0,11,moments=\"mv\")\n",
    "print('Distribución U[0,10]: media = {}, varianza = {}'.format(media, var))"
   ]
  },
  {
   "cell_type": "markdown",
   "id": "8c3fae94-51a9-4877-b3b9-6a7a879015da",
   "metadata": {},
   "source": [
    "##### <span style=\"color:#4CC9F0\">Gráficos</span>"
   ]
  },
  {
   "cell_type": "code",
   "execution_count": null,
   "id": "7346df10-4f89-4dc7-9307-94b4673929d6",
   "metadata": {},
   "outputs": [],
   "source": [
    "discrete_uni=randint(0,11)\n",
    "x = np.arange(discrete_uni.ppf(0.01),\n",
    "              discrete_uni.ppf(1)+0.1)\n",
    "plt.plot(x, discrete_uni.pmf(x), 'bo', ms=8, label='randint pmf')\n",
    "plt.vlines(x, 0, discrete_uni.pmf(x), colors='b', lw=5, alpha=0.5)\n",
    "plt.title(\"Función de probabilidadd el distribución U[0,10]\")\n",
    "plt.xlabel(\"Valores\")\n",
    "plt.ylabel(\"Probabilidad\")\n",
    "\n",
    "plt.show()"
   ]
  },
  {
   "cell_type": "markdown",
   "id": "f88218c0",
   "metadata": {},
   "source": [
    "Generamos la función de distribución acumulada."
   ]
  },
  {
   "cell_type": "code",
   "execution_count": null,
   "id": "2b9c0682",
   "metadata": {},
   "outputs": [],
   "source": [
    "prob = discrete_uni.cdf(x)\n",
    "plt.plot(x, prob, 'bo', ms=6)\n",
    "plt.title(\"Función de distribución acumulada U[0,10] \")\n",
    "plt.xlabel(\"Valores\")\n",
    "plt.ylabel(\"F(x)\")\n",
    "for i,j in zip(x, prob):\n",
    "    plt.hlines(y=j, xmin=i, xmax=i+1)\n",
    "plt.show()"
   ]
  },
  {
   "cell_type": "markdown",
   "id": "8acc482d-38cb-4817-99d8-47c06eed00a1",
   "metadata": {},
   "source": [
    "##### <span style=\"color:#4CC9F0\">Muestra aleatoria</span>"
   ]
  },
  {
   "cell_type": "markdown",
   "id": "fc901f19-6616-4bb1-8527-c7af491fb2e8",
   "metadata": {},
   "source": [
    "Con la función `rvs()` se genera una muestra de la distribución en cuestión (random value sample). Hacemos $n=10000$ experimentos."
   ]
  },
  {
   "cell_type": "code",
   "execution_count": null,
   "id": "ebed0e35-3781-4693-b176-dc21296bb7aa",
   "metadata": {},
   "outputs": [],
   "source": [
    "r_unif = randint.rvs(0,10,size=10000)\n",
    "print(r_unif)"
   ]
  },
  {
   "cell_type": "code",
   "execution_count": null,
   "id": "35ac41d9-7dfb-4d7e-bcfe-3857894dacbf",
   "metadata": {},
   "outputs": [],
   "source": [
    "ax=sns.displot(r_unif,\n",
    "               kde=False,\n",
    "               color=\"skyblue\",\n",
    "               bins=10)\n",
    "ax.set(xlabel='Valores', ylabel='Frecuencias', title='Distribución de U[0,10')\n",
    "plt.show()"
   ]
  },
  {
   "cell_type": "markdown",
   "id": "693bc23d",
   "metadata": {},
   "source": [
    "#### <span style=\"color:#4CC9F0\">Distribución de Bernoulli</span>"
   ]
  },
  {
   "cell_type": "code",
   "execution_count": null,
   "id": "91b833b2",
   "metadata": {},
   "outputs": [],
   "source": [
    "from scipy.stats import bernoulli\n",
    "\n",
    "p = 0.6 #parámetro de la distribución Ber(p)\n",
    "media, var = bernoulli.stats(p,moments=\"mv\")\n",
    "print(\"Distribución de Bernoulli(0.6)\")\n",
    "print('La media es:', media)\n",
    "print('La varianza es:', var)"
   ]
  },
  {
   "cell_type": "code",
   "execution_count": null,
   "id": "07429b66-a9ae-4441-871f-7b254dbdb1c9",
   "metadata": {},
   "outputs": [],
   "source": [
    "bernoulli.pmf(1, p)"
   ]
  },
  {
   "cell_type": "markdown",
   "id": "b9d204c9-0a9e-431f-a025-48329e9ecd48",
   "metadata": {},
   "source": [
    "##### <span style=\"color:#4CC9F0\">Gráficos</span>"
   ]
  },
  {
   "cell_type": "code",
   "execution_count": null,
   "id": "b5608152",
   "metadata": {},
   "outputs": [],
   "source": [
    "x = np.arange(bernoulli.ppf(0.01, p),\n",
    "              bernoulli.ppf(1, p)+0.1)\n",
    "plt.plot(x, bernoulli.pmf(x, p), 'bo')\n",
    "plt.vlines(x, 0, bernoulli.pmf(x, p), colors='b', lw=5, alpha=0.5)\n",
    "plt.title(\"Función de probabilidad distribución Bernoulli(0.6)\")\n",
    "plt.xlabel(\"Valores\")\n",
    "plt.ylabel(\"Probabilidad\")\n",
    "\n",
    "plt.show()"
   ]
  },
  {
   "cell_type": "markdown",
   "id": "93463aac-ba01-4db9-929d-2db3f058c577",
   "metadata": {},
   "source": [
    "##### <span style=\"color:#4CC9F0\">Muestra aleatoria</span>"
   ]
  },
  {
   "cell_type": "markdown",
   "id": "6a91df0c-6727-4b19-8d36-8fdafdf91530",
   "metadata": {},
   "source": [
    "Hacemos $n=10000$ experimentos"
   ]
  },
  {
   "cell_type": "code",
   "execution_count": null,
   "id": "ec6f9c17-0afa-4962-9720-24c6f035f6d9",
   "metadata": {},
   "outputs": [],
   "source": [
    "r_ber = bernoulli.rvs(p, size=10000, random_state=13)\n",
    "print(r_ber)"
   ]
  },
  {
   "cell_type": "code",
   "execution_count": null,
   "id": "e2ce10c8",
   "metadata": {},
   "outputs": [],
   "source": [
    "ax=sns.displot(r_ber,\n",
    "               kde=False,\n",
    "               color=\"skyblue\",\n",
    "               bins=2)\n",
    "ax.set(xlabel='Valores', ylabel='Frecuencias', title='Distribución de Bernoulli(0.6)')\n",
    "plt.show()"
   ]
  },
  {
   "cell_type": "markdown",
   "id": "65101700-6bea-4c96-ba9f-1b469fbdd14f",
   "metadata": {},
   "source": [
    "##### <span style=\"color:#4CC9F0\">Función de las varianzas de las distribuciones de la familia Bernoulli</span>"
   ]
  },
  {
   "cell_type": "markdown",
   "id": "3cdc6aef-94d0-4214-87ff-0116fbefe841",
   "metadata": {},
   "source": [
    "El gráfico presenta la varianza de la distibución de Bernoulli($\\pi$), para los diferentes valores de $\\pi$."
   ]
  },
  {
   "cell_type": "code",
   "execution_count": null,
   "id": "5d832890",
   "metadata": {},
   "outputs": [],
   "source": [
    "pi = np.linspace(0,1,100)\n",
    "var = pi*(1-pi)\n",
    "plt.plot(pi, var)\n",
    "plt.vlines(p ,ymin=0, ymax=p*(1-p), colors='r', lw=3, alpha=0.5)\n",
    "plt.title(\"Varianzas de la familia de distribuciones Bernoulli($\\pi$)\")\n",
    "plt.xlabel(\"$\\pi$\")\n",
    "plt.ylabel(\"Varianza\")\n",
    "plt.show()"
   ]
  },
  {
   "cell_type": "markdown",
   "id": "84eed0c0",
   "metadata": {
    "tags": []
   },
   "source": [
    "#### <span style=\"color:#4CC9F0\">Distribución Binomial</span>"
   ]
  },
  {
   "cell_type": "code",
   "execution_count": null,
   "id": "26fa55de",
   "metadata": {},
   "outputs": [],
   "source": [
    "from scipy.stats import binom\n",
    "\n",
    "n,p = 3, 0.6\n",
    "\n",
    "binomial = binom(n,p)\n",
    "\n",
    "probs = [binom.pmf(k,n,p) for k in range(n+1)]\n",
    "\n",
    "binom_dist = {i: np.round(prob,3) for i, prob in zip(range(4), probs)}\n",
    "print('Distribución Binomial(3,0.6)')\n",
    "print(binom_dist)"
   ]
  },
  {
   "cell_type": "markdown",
   "id": "8bb13beb",
   "metadata": {},
   "source": [
    "Para obtener algunas medidas de la distribución como la media y la varianza, podemos utilizar `stats()`:"
   ]
  },
  {
   "cell_type": "markdown",
   "id": "bfbf0e79-ed00-4203-b47e-7b08da6739ec",
   "metadata": {},
   "source": [
    "#### <span style=\"color:#4CC9F0\">Media y varianza</span>"
   ]
  },
  {
   "cell_type": "code",
   "execution_count": null,
   "id": "a9b6425f-a572-4aca-bc29-984b8f4858bb",
   "metadata": {},
   "outputs": [],
   "source": [
    "media, var  = binomial.stats(moments=\"mv\")\n",
    "print('media = {}, varianza = {}'.format(np.round(media,2), var))"
   ]
  },
  {
   "cell_type": "markdown",
   "id": "7be2e40e-51a5-4757-ad14-0f1aff441b53",
   "metadata": {},
   "source": [
    "#### <span style=\"color:#4CC9F0\">Probabilidades</span>"
   ]
  },
  {
   "cell_type": "markdown",
   "id": "3552d41f-98d0-4429-9234-11d61a01d5c0",
   "metadata": {},
   "source": [
    "Vamos a calcular las  probabilidades de la distribución Binomial(0, 0.6) con la función `binom.pmf()`"
   ]
  },
  {
   "cell_type": "code",
   "execution_count": null,
   "id": "21d028bb",
   "metadata": {},
   "outputs": [],
   "source": [
    "for i in range(4):\n",
    "    prob=round(binomial.pmf(i), 3)\n",
    "    print(\"P(\",i ,\")=\",prob)"
   ]
  },
  {
   "cell_type": "markdown",
   "id": "bff04a4d-ff8d-48ea-bcad-125a549a8d60",
   "metadata": {},
   "source": [
    "Podemos generar la gráfica de la pmf"
   ]
  },
  {
   "cell_type": "markdown",
   "id": "c6d9a6a1-79e9-455a-9737-15b5fe9d9709",
   "metadata": {},
   "source": [
    "#### <span style=\"color:#4CC9F0\">Gráfica de la función de probabilidad y probabilidad acumulada</span>"
   ]
  },
  {
   "cell_type": "code",
   "execution_count": null,
   "id": "3f3e3c8a-b4d6-4d5b-a685-a84cbca565fc",
   "metadata": {},
   "outputs": [],
   "source": [
    "probs = [binom.pmf(k,n,p) for k in range(n+1)]\n",
    "binom_dist = {i: np.round(prob,3) for i, prob in zip(range(4), probs)}\n",
    "plt.bar(x=range(4), height=probs, tick_label=range(4), edgecolor='orange')\n",
    "plt.title('Distribución Binomial(3,0.6)')\n",
    "plt.show()"
   ]
  },
  {
   "cell_type": "markdown",
   "id": "bd6bdfa0-6c00-4777-8b76-cb4e32723246",
   "metadata": {},
   "source": [
    "Generamos la gráfica de  función acumulada."
   ]
  },
  {
   "cell_type": "code",
   "execution_count": null,
   "id": "030363c2",
   "metadata": {},
   "outputs": [],
   "source": [
    "prob = binomial.cdf(x)\n",
    "plt.plot(x, prob, 'bo', ms=8)\n",
    "plt.title(\"Función acumulada de distribución\")\n",
    "plt.xlabel('Valores')\n",
    "plt.ylabel('Probabilidad')\n",
    "for i,j in zip(x, prob):\n",
    "    plt.hlines(y=j, xmin=i, xmax=i+1)\n",
    "plt.show()"
   ]
  },
  {
   "cell_type": "markdown",
   "id": "7a8e0b48-fa21-4edf-a135-ec83fc665704",
   "metadata": {},
   "source": [
    "#### <span style=\"color:#4CC9F0\">Probabilidades</span>"
   ]
  },
  {
   "cell_type": "markdown",
   "id": "b81b0764",
   "metadata": {},
   "source": [
    "Para calcular probabilidades estilo $P[x<2]$, podemos sumar $P[x=0]+P[x=1]$ o podemos usar `binom.cdf()`, donde $P[x<2]=P[x<=1]$. si queremos por ejemplo $P[x>2]$, podemos interpretarlo como $1-P[x<=2]$"
   ]
  },
  {
   "cell_type": "code",
   "execution_count": null,
   "id": "4f8af63f",
   "metadata": {},
   "outputs": [],
   "source": [
    "prob=binomial.pmf(0)+binomial.pmf(1)\n",
    "prob_cdf=binomial.cdf(1)\n",
    "print(round(prob,3), round(prob_cdf,3))"
   ]
  },
  {
   "cell_type": "code",
   "execution_count": null,
   "id": "6087f06e",
   "metadata": {},
   "outputs": [],
   "source": [
    "prob_mayor_2=round(1-binomial.cdf(2),3)\n",
    "prob=round(binomial.pmf(3),3)\n",
    "print(prob_mayor_2, prob)"
   ]
  },
  {
   "cell_type": "markdown",
   "id": "e3cdeaa4-cc7c-4e71-84a7-c772aa25b1f0",
   "metadata": {},
   "source": [
    "##### <span style=\"color:#4CC9F0\">Muestra aleatoria</span>"
   ]
  },
  {
   "cell_type": "markdown",
   "id": "8c5be0ba-f517-4203-a36c-52ea8d7e454b",
   "metadata": {},
   "source": [
    "Con Scipy podemos generar una muestra de números aleatorios de una distribución con la función `binom.rvs`. Hacemos $n=10000$ experimentos"
   ]
  },
  {
   "cell_type": "code",
   "execution_count": null,
   "id": "93481f19",
   "metadata": {},
   "outputs": [],
   "source": [
    "r_binom=binomial.rvs(size=10000, random_state=13)\n",
    "print(r_binom)"
   ]
  },
  {
   "cell_type": "code",
   "execution_count": null,
   "id": "51b23877",
   "metadata": {},
   "outputs": [],
   "source": [
    "ax=sns.displot(r_binom,\n",
    "               kde=False,\n",
    "               color=\"skyblue\",\n",
    "               bins=4)\n",
    "ax.set(xlabel='Distribución Binomial', ylabel='Frecuencia',\n",
    "       title=\"Frecuencia muestra Binomial\")\n",
    "plt.show()"
   ]
  },
  {
   "cell_type": "markdown",
   "id": "1dadc0c2-f8e4-4a7e-870c-8c759dffd542",
   "metadata": {},
   "source": [
    "### <span style=\"color:#4CC9F0\">Distribuciones Continuas</span>"
   ]
  },
  {
   "cell_type": "markdown",
   "id": "8ec80a7c-4e8b-43f8-b4a0-c3131c30d8c5",
   "metadata": {},
   "source": [
    "#### <span style=\"color:#4CC9F0\">Distribución Uniforme[0,10)</span>"
   ]
  },
  {
   "cell_type": "markdown",
   "id": "e7279188-2772-4309-a9e7-656aaa15b44e",
   "metadata": {},
   "source": [
    "Ya que esta es una distribución continua, tenemos que hacer algunos cambios en el código establecido, ahora, se pueden tomar valores entre los enteros, por ejemplo (2.4)."
   ]
  },
  {
   "cell_type": "code",
   "execution_count": null,
   "id": "19e6f498",
   "metadata": {},
   "outputs": [],
   "source": [
    "from scipy.stats import uniform\n",
    "unif = uniform(0,10)"
   ]
  },
  {
   "cell_type": "code",
   "execution_count": null,
   "id": "69b16d96",
   "metadata": {},
   "outputs": [],
   "source": [
    "x = np.linspace(unif.ppf(0),\n",
    "                unif.ppf(0.99), 100)  ####porque hasta 0.99 y no hasta 1?\n",
    "plt.plot(x, unif.pdf(x),'r-', lw=2, alpha=0.6)\n",
    "plt.ylim(0,0.3)\n",
    "plt.fill_between(x,unif.pdf(x), color=\"red\")\n",
    "plt.title(\"Función de densidad de probabilidad U(0,10]\")\n",
    "plt.xlabel('Valores')\n",
    "plt.ylabel('Probabilidad')\n",
    "plt.show()"
   ]
  },
  {
   "cell_type": "code",
   "execution_count": null,
   "id": "7edaa6de",
   "metadata": {},
   "outputs": [],
   "source": [
    "prob=unif.cdf(x)\n",
    "plt.plot(x, prob)\n",
    "plt.title(\"Función de densidad acumulada\")\n",
    "plt.xlabel('Valores')\n",
    "plt.ylabel('F(x)')\n",
    "plt.show()"
   ]
  },
  {
   "cell_type": "code",
   "execution_count": null,
   "id": "a49f1366",
   "metadata": {},
   "outputs": [],
   "source": [
    "# probabilidades\n",
    "print(prob)"
   ]
  },
  {
   "cell_type": "markdown",
   "id": "14a78c41-8556-47ae-b393-9e5b027e353b",
   "metadata": {},
   "source": [
    "##### <span style=\"color:#4CC9F0\">Muestra aleatoria</span>"
   ]
  },
  {
   "cell_type": "code",
   "execution_count": null,
   "id": "504e9306-8b2d-4ff8-8663-c517e1e71b58",
   "metadata": {},
   "outputs": [],
   "source": [
    "r_unif=unif.rvs(size=10000, random_state=13)\n",
    "\n",
    "print(r_unif)"
   ]
  },
  {
   "cell_type": "code",
   "execution_count": null,
   "id": "f3ce6763",
   "metadata": {},
   "outputs": [],
   "source": [
    "ax=sns.displot(r_unif,\n",
    "                kde=True,\n",
    "                color=\"darkblue\",\n",
    "                rug_kws={\"linewidth\": 15,'alpha':1},\n",
    "                bins=11)\n",
    "ax.set(title='Distribución de una muestra, distribución U[0,10)]', xlabel='Valores', ylabel='Frecuencia')\n",
    "plt.show()"
   ]
  },
  {
   "cell_type": "markdown",
   "id": "bcd8f862",
   "metadata": {},
   "source": [
    "#### <span style=\"color:#4CC9F0\">Distribución Normal</span>"
   ]
  },
  {
   "cell_type": "code",
   "execution_count": null,
   "id": "97c83ceb",
   "metadata": {},
   "outputs": [],
   "source": [
    "from scipy.stats import norm\n",
    "normal=norm(loc=0, scale=1) #loc=media, scale=desviación estándar"
   ]
  },
  {
   "cell_type": "markdown",
   "id": "b3a0248e",
   "metadata": {},
   "source": [
    "No tiene sentido calcular $P(X=x)$ en una distribución continua. La función `norm.pdf()` se refiere a la densidad de la función."
   ]
  },
  {
   "cell_type": "markdown",
   "id": "6645150a",
   "metadata": {},
   "source": [
    "Vamos a calcular $P(-1<X<1.5)$. Por suerte sabemos que,\n",
    "\n",
    "$$\n",
    "\\begin{align}\n",
    "\\text{P}[a<X<b]&=\\text{P}[X<b]-\\text{P}[X<a]\\\\\n",
    "\\end{align}\n",
    "$$\n",
    "\n",
    "Por tanto tenemos que hacer los siguientes calculos:"
   ]
  },
  {
   "cell_type": "markdown",
   "id": "3d392f4c-0e89-4be3-b2ac-af4a09d91360",
   "metadata": {},
   "source": [
    "##### <span style=\"color:#4CC9F0\">Probabilidades</span>"
   ]
  },
  {
   "cell_type": "code",
   "execution_count": null,
   "id": "8c3b8007-55e2-4bd9-bf83-ba5259afcc57",
   "metadata": {},
   "outputs": [],
   "source": [
    "P_b,  P_a=normal.cdf(1.5), normal.cdf(-1)\n",
    "\n",
    "prob_a_b=P_b-P_a\n",
    "\n",
    "print(\"p(a<X<b)=\", round(prob_a_b,3))"
   ]
  },
  {
   "cell_type": "markdown",
   "id": "aaf10450",
   "metadata": {},
   "source": [
    "Si queremos obtener un intervalo que contenga el $95\\%$ de la distribución, podemos usar la función `interval()`"
   ]
  },
  {
   "cell_type": "code",
   "execution_count": null,
   "id": "fd79350c",
   "metadata": {},
   "outputs": [],
   "source": [
    "LCI,UCI=normal.interval(0.95)\n",
    "print(\"intervalo del 95%: \",(np.round(LCI,3), np.round(UCI,3)))"
   ]
  },
  {
   "cell_type": "markdown",
   "id": "cadbd85b",
   "metadata": {},
   "source": [
    "Podemos agregar este intervalo al grafico de densidad."
   ]
  },
  {
   "cell_type": "code",
   "execution_count": null,
   "id": "4ef10261",
   "metadata": {},
   "outputs": [],
   "source": [
    "x = np.linspace(norm.ppf(0.01),\n",
    "                norm.ppf(0.99), 100)\n",
    "plt.plot(x, normal.pdf(x),'b-', lw=5, alpha=0.6)\n",
    "plt.fill_between(x, normal.pdf(x), 0, \n",
    "                 where = (x >= LCI) & (x <= UCI), \n",
    "                 color = 'g')\n",
    "plt.title(\"Función de densidad de probabilidad 95%\")\n",
    "plt.xlabel(\"x\")\n",
    "plt.ylabel(\"f(x)\")\n",
    "plt.show()"
   ]
  },
  {
   "cell_type": "markdown",
   "id": "d91d58bc-4486-4993-9b1f-a07868a57630",
   "metadata": {},
   "source": [
    "##### <span style=\"color:#4CC9F0\">Muestra aleatoria</span>"
   ]
  },
  {
   "cell_type": "markdown",
   "id": "69674096-cc82-4f3a-9548-d34b5152164b",
   "metadata": {},
   "source": [
    "Generamos los números aleatorios y observaremos su comportamiento en un histograma. Generamos $n=10000$ datos."
   ]
  },
  {
   "cell_type": "code",
   "execution_count": null,
   "id": "ca9c891d",
   "metadata": {},
   "outputs": [],
   "source": [
    "r_norm=normal.rvs(size=10000, random_state=15)\n",
    "\n",
    "ax=sns.displot(r_norm,\n",
    "               kde=True,\n",
    "               color=\"darkblue\",\n",
    "               rug_kws={\"linewidth\": 15,'alpha':.5})\n",
    "ax.set(xlabel='Distribución normal', ylabel='Frecuencia', title=\"Histograma distribución normal\")\n",
    "plt.show()"
   ]
  },
  {
   "cell_type": "markdown",
   "id": "f1b9b80a",
   "metadata": {},
   "source": [
    "Si quisiéramos comparar en una misma gráfica distintas distribuciones o la misma distribución con diferentes parámetros, podríamos hacerlo con el siguiente código:"
   ]
  },
  {
   "cell_type": "code",
   "execution_count": null,
   "id": "bdef8373",
   "metadata": {},
   "outputs": [],
   "source": [
    "fig, ax = plt.subplots(1, 1,figsize=(8, 4))\n",
    "plt.title('Función de densidad',fontsize=12)\n",
    "\n",
    "x = np.linspace(-6,6,300)\n",
    "\n",
    "norm_estand = norm.pdf(x, loc=0, scale=1)\n",
    "ax.plot(x, norm_estand, 'g-', lw=4, alpha=0.8, label='N(0,1)')\n",
    "\n",
    "norm_1 = norm.pdf(x, loc=1, scale=1)\n",
    "ax.plot(x, norm_1, 'r-', lw=2, alpha=0.6, label='N(1,1)')\n",
    "\n",
    "norm_2 = norm.pdf(x, loc=0, scale=2)\n",
    "ax.plot(x, norm_2, 'b-', lw=2, alpha=0.6, label='N(0,2)')\n",
    "\n",
    "plt.xlabel('$x$',fontsize=14)\n",
    "plt.ylabel('f(x)',fontsize=14)\n",
    "plt.legend()\n",
    "plt.show()"
   ]
  },
  {
   "cell_type": "markdown",
   "id": "df33351b",
   "metadata": {},
   "source": [
    "## <span style=\"color:blue\">Ejercicios</span>"
   ]
  },
  {
   "cell_type": "markdown",
   "id": "e59f02f9",
   "metadata": {},
   "source": [
    "* Simular el lanzamiento de dos dados de 4 lados y uno de 6. Calcular las siguientes probabilidades y hacer histograma de cada uno:\n",
    "\n",
    "$$\n",
    "\\begin{align}\n",
    "\\text{Prob}&[f \\text{ par } \\& \\text{  } (6<f<10)]\\\\\n",
    "\\text{Prob}&[f<5 | f>12)]\n",
    "\\end{align}\n",
    "$$\n",
    "\n",
    "* Siendo $f$ una distribución **poisson** de parámetro 4. encontrar $P[f>3]$.\n",
    "\n",
    "* Siendo $f$ una distribución **chi cuadrado** con 2 grados de libertad, encuentre un **intervalo** del 60% de la distribución y haga una gráfica de la densidad de la distrución junto con lineas verticales que limiten este intervalo."
   ]
  },
  {
   "cell_type": "code",
   "execution_count": null,
   "id": "57be3917-be31-4d00-a9d6-f96bbc1c0d6a",
   "metadata": {},
   "outputs": [],
   "source": []
  }
 ],
 "metadata": {
  "kernelspec": {
   "display_name": "Python 3 (ipykernel)",
   "language": "python",
   "name": "python3"
  },
  "language_info": {
   "codemirror_mode": {
    "name": "ipython",
    "version": 3
   },
   "file_extension": ".py",
   "mimetype": "text/x-python",
   "name": "python",
   "nbconvert_exporter": "python",
   "pygments_lexer": "ipython3",
   "version": "3.10.5"
  },
  "vscode": {
   "interpreter": {
    "hash": "e7370f93d1d0cde622a1f8e1c04877d8463912d04d973331ad4851f04de6915a"
   }
  }
 },
 "nbformat": 4,
 "nbformat_minor": 5
}
