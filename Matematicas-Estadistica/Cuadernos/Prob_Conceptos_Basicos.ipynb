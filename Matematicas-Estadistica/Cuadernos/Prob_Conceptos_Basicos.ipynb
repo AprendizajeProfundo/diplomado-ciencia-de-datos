{
 "cells": [
  {
   "cell_type": "markdown",
   "metadata": {},
   "source": [
    "<figure>\n",
    "<img src=\"../Imagenes/logo-final-ap.png\"  width=\"80\" height=\"80\" align=\"left\"/> \n",
    "</figure>\n",
    "\n",
    "# <span style=\"color:blue\"><left>Aprendizaje Profundo</left></span>"
   ]
  },
  {
   "cell_type": "markdown",
   "metadata": {
    "tags": []
   },
   "source": [
    "# <span style=\"color:red\"><center>Diplomado en Ciencia de Datos</center></span>"
   ]
  },
  {
   "cell_type": "markdown",
   "metadata": {},
   "source": [
    "# <span style=\"color:green\"><center>Conceptos básicos de probabilidad</center></span>"
   ]
  },
  {
   "cell_type": "markdown",
   "metadata": {},
   "source": [
    "<figure>\n",
    "<center>\n",
    "<img src=\"https://raw.githubusercontent.com/AprendizajeProfundo/Alejandria/main/Estadistica/Imagenes/prob_bolas_subconjuntos.png\" width=\"700\" height=\"500\" align=\"center\"/>\n",
    "</center>\n",
    "</figure>\n",
    "\n",
    "Fuente: Alvaro Montenegro"
   ]
  },
  {
   "cell_type": "markdown",
   "metadata": {},
   "source": [
    "## <span style=\"color:#4361EE\">Profesores</span>"
   ]
  },
  {
   "cell_type": "markdown",
   "metadata": {},
   "source": [
    "* Alvaro  Montenegro, PhD, <ammontenegrod@unal.edu.co>\n",
    "* Campo Elías Pardo, PhD, <cepardot@unal.edu.co>\n",
    "* Daniel  Montenegro, Msc, <dextronomo@gmail.com>\n",
    "* Camilo José Torres Jiménez, Msc, <cjtorresj@unal.edu.co>"
   ]
  },
  {
   "cell_type": "markdown",
   "metadata": {},
   "source": [
    "## <span style=\"color:#4361EE\">Asesora Medios y Marketing digital</span>"
   ]
  },
  {
   "cell_type": "markdown",
   "metadata": {},
   "source": [
    "* Maria del Pilar Montenegro, pmontenegro88@gmail.com\n",
    "* Jessica López Mejía, jelopezme@unal.edu.co"
   ]
  },
  {
   "cell_type": "markdown",
   "metadata": {},
   "source": [
    "## <span style=\"color:#4361EE\">Jefe Jurídica</span>"
   ]
  },
  {
   "cell_type": "markdown",
   "metadata": {},
   "source": [
    "* Paula Andrea Guzmán, guzmancruz.paula@gmail.com"
   ]
  },
  {
   "cell_type": "markdown",
   "metadata": {},
   "source": [
    "## <span style=\"color:#4361EE\">Coordinador Jurídico</span>"
   ]
  },
  {
   "cell_type": "markdown",
   "metadata": {},
   "source": [
    "* David Fuentes, fuentesd065@gmail.com"
   ]
  },
  {
   "cell_type": "markdown",
   "metadata": {},
   "source": [
    "## <span style=\"color:#4361EE\">Desarrolladores Principales</span>"
   ]
  },
  {
   "cell_type": "markdown",
   "metadata": {},
   "source": [
    "* Dairo Moreno, damoralesj@unal.edu.co\n",
    "* Joan Castro, jocastroc@unal.edu.co\n",
    "* Bryan Riveros, briveros@unal.edu.co\n",
    "* Rosmer Vargas, rovargasc@unal.edu.co\n",
    "* Venus Puertas, vpuertasg@unal.edu.co"
   ]
  },
  {
   "cell_type": "markdown",
   "metadata": {},
   "source": [
    "## <span style=\"color:#4361EE\">Expertos en Bases de Datos</span>"
   ]
  },
  {
   "cell_type": "markdown",
   "metadata": {},
   "source": [
    "* Giovvani Barrera, udgiovanni@gmail.com\n",
    "* Camilo Chitivo, cchitivo@unal.edu.co"
   ]
  },
  {
   "cell_type": "markdown",
   "metadata": {},
   "source": [
    "## <span style=\"color:#4361EE\">Contenido</span>"
   ]
  },
  {
   "cell_type": "markdown",
   "metadata": {},
   "source": [
    "* [Introducción](#Introducción)\n",
    "* [Espacio muestral](#Espacio-muestral)\n",
    "* [Evento](#Evento)\n",
    "* [Probabilidad](#Probabilidad)\n",
    "* [Regla aditiva de la probabilidad](#Regla-aditiva-de-la-probabilidad)\n",
    "* [Probabilidad condicional](#Probabilidad-condicional)\n",
    "* [Regla multiplicativa de la probabilidad](#Regla-multiplicativa-de-la-probabilidad)\n",
    "* [Independencia](#Independencia)\n",
    "* [Ejercicios](#Ejercicios)"
   ]
  },
  {
   "cell_type": "markdown",
   "metadata": {},
   "source": [
    "## <span style=\"color:#4361EE\">Introducción</span>"
   ]
  },
  {
   "attachments": {},
   "cell_type": "markdown",
   "metadata": {},
   "source": [
    "En esta sección se introducen los conceptos básicos de probabilidad requeridos para la ciencia de datos, la inteligencia artificial y el aprendizaje profundo.\n",
    "\n",
    "El propósito es presentar el **lenguaje** utilizado. No se hará ningún desarrollo matemático formal. Solamente se presentar los cálculos que se consideran necesarios para entender el concepto."
   ]
  },
  {
   "cell_type": "markdown",
   "metadata": {},
   "source": [
    "Supongamos que nuestro conjunto de datos es equivalente o similar a esta situación o a este ejemplo conceptual ilustrativo:\n",
    "\n",
    "Identificador del individuo* | Color | \"Par o Impar\" | ...\n",
    "---:|:---:|:---:|:---:\n",
    "1 | Gris | Impar | ...\n",
    "2 | Rojo | Par | ...\n",
    "3 | Gris | Impar | ...\n",
    "4 | Rojo | Par | ...\n",
    "5 | Azul | Impar | ...\n",
    "... | ... | ...  | ...\n",
    "20 | Gris | Par | ...\n",
    "\n",
    "\\* individuo, unidad estadística, objeto de estudio, elemento de interés, etc."
   ]
  },
  {
   "attachments": {},
   "cell_type": "markdown",
   "metadata": {},
   "source": [
    "### <span style=\"color:#4CC9F0\">Ejercicio</span>\n",
    "\n",
    "A partir de lo siguiente que encontré en el libro *Estadistica Aplicada a los Negocios y la Economia* de *Lind, Marchal & Wathen*:\n",
    "\n",
    "> El director de planeación de Devine Dining, \n",
    "Inc., desea estudiar la relación entre el género de un huésped y el\n",
    "postre que ordena. Para investigar esta relación, el gerente recopiló la\n",
    "siguiente información.\n",
    "> $\\,$ | Torta de chocolate | Tres leches | Tiramisú | TOTAL\n",
    "---:|---:|---:|---:|---:\n",
    "Hombre | 32 | 26 | 11 | 69\n",
    "Mujer | 48 | 39 | 44 | 131\n",
    "TOTAL | 80 | 65 | 55 | 200\n",
    "\n",
    "* ¿Cuáles / cuántos son los individuos (= unidades estadísticas = objetos de estudio = elementos de interés = ...)?\n",
    "* ¿Cuáles son las variables?\n",
    "* ¿Qué diferencia hay entre la tabla del libro y la tabla del anterior ejemplo ilustrativo?\n",
    "* ¿Puedo pasar de la forma de una tabla a la otra?"
   ]
  },
  {
   "cell_type": "markdown",
   "metadata": {},
   "source": [
    "## <span style=\"color:#4361EE\">Espacio muestral</span>"
   ]
  },
  {
   "cell_type": "markdown",
   "metadata": {},
   "source": [
    "<figure>\n",
    "<center>\n",
    "<img src=\"../Imagenes/prob_bolsa_bolas.png\" width=\"300\" height=\"200\" align=\"center\"/>\n",
    "</center>\n",
    "<figcaption>\n",
    "<p style=\"text-align:center\">Ejemplo de Espacio Muestral $\\mathcal{M}$</p>\n",
    "</figcaption>\n",
    "</figure>"
   ]
  },
  {
   "cell_type": "markdown",
   "metadata": {},
   "source": [
    "La anterior gráfica representa un ejemplo de un `espacio muestral`, el cual denotaremos como $\\mathcal{M}$. Cada objeto dentro de la bolsa es un elemento del espacio muestral. Esto significa que este espacio muestral tiene $N=20$ elementos. Se supone que cada individuo puede identificarse de manera única. En este ejemplo hemos usado  un identificador $1,2,\\ldots,20$, para cada uno de los elementos del espacio muestral. \n",
    "\n",
    "Adicionalmente, cada individuo tiene un atributo de color. Hay tres colores diferentes: rojo, azul y gris."
   ]
  },
  {
   "cell_type": "markdown",
   "metadata": {},
   "source": [
    "## <span style=\"color:#4361EE\">Evento</span>"
   ]
  },
  {
   "cell_type": "markdown",
   "metadata": {},
   "source": [
    "Un evento es cualquier subconjunto del espacio muestral. El lector interesado puede verificar, si lo desea, que el espacio muestral $\\mathcal{M}$ tiene exáctamente $2^{20}$ subconjuntos. \n",
    "\n",
    "Consideremos ahora seis eventos (subconjuntos) especiales de $\\mathcal{M}$: \n",
    "\n",
    "1. *azul*: el subconjunto de bolas azules;\n",
    "2. *rojo*: el subconjunto de bolas rojas;\n",
    "3. *gris*: el subconjunto de bolas grises.\n",
    "4. *pares*: el subconjunto de bolas pares.\n",
    "5. *impares*: el subconjunto de bolas impares.\n",
    "6. *pares azules*: el subconjunto de bolas pares azules.\n",
    "\n",
    "La gráfica muestra los 6 eventos (subconjuntos) del espacio muestral ."
   ]
  },
  {
   "cell_type": "markdown",
   "metadata": {},
   "source": [
    "<figure>\n",
    "<center>\n",
    "<img src=\"../Imagenes/prob_bolas_subconjuntos.png\" width=\"500\" height=\"400\" align=\"center\"/>\n",
    "</center>\n",
    "<figcaption>\n",
    "<p style=\"text-align:center\">Ejemplos de eventos del Espacio Muestral $\\mathcal{M}$</p>\n",
    "</figcaption>\n",
    "</figure>"
   ]
  },
  {
   "cell_type": "markdown",
   "metadata": {},
   "source": [
    "## <span style=\"color:#4361EE\">Probabilidad</span>"
   ]
  },
  {
   "cell_type": "markdown",
   "metadata": {},
   "source": [
    "La teoría de probabilidad se creó para poder medir los subconjunto de una espacio muestral. El concepto de medida en cada caso está asociado a la naturaleza del experimento que se desa modelar (representar de manera abstracta).\n",
    "\n",
    "En el ejemplo de las bolas presentado arriba, la medida que usaremos será la proporción entre el número de elementos de un evento y el número de elementos del espacio muestral $M$. \n",
    "\n",
    "Esto significa que:\n",
    "\n",
    "$$\n",
    "\\begin{align}\n",
    "\\text{Prob}[\\text{azul}] &= 5/20\\\\\n",
    "\\text{Prob}[\\text{gris}] &= 8/20\\\\\n",
    "\\text{Prob}[\\text{rojo}] &= 7/20\\\\\n",
    "\\text{Prob}[\\text{pares}] &= 10/20\\\\\n",
    "\\text{Prob}[\\text{impares}] &= 10/20\\\\\n",
    "\\end{align}\n",
    "$$\n",
    "\n",
    "Por favor verifique estos valores. Observe además que $\\text{Prob}[\\mathcal{M}] = 1$."
   ]
  },
  {
   "cell_type": "markdown",
   "metadata": {},
   "source": [
    "En las siguientes secciones presentamos las propiedades escenciales de la probabilidad, que usaremos a lo largo de nuestro estudio. Son conceptos relativamente sencillos pero muy importantes."
   ]
  },
  {
   "attachments": {},
   "cell_type": "markdown",
   "metadata": {},
   "source": [
    "### <span style=\"color:#4CC9F0\">Ejercicio</span>\n",
    "\n",
    "$\\,$ | Torta de chocolate | Tres leches | Tiramisú | TOTAL\n",
    "---:|---:|---:|---:|---:\n",
    "Hombre | 32 | 26 | 11 | 69\n",
    "Mujer | 48 | 39 | 44 | 131\n",
    "TOTAL | 80 | 65 | 55 | 200\n",
    "\n",
    "Si se selecciona un huésped al azar, ¿cuál es la probabilidad de que:\n",
    "* el huesped sea hombre?\n",
    "* el huesped ordenara tres leches?"
   ]
  },
  {
   "cell_type": "markdown",
   "metadata": {},
   "source": [
    "## <span style=\"color:#4361EE\">Regla aditiva de la probabilidad</span>"
   ]
  },
  {
   "attachments": {},
   "cell_type": "markdown",
   "metadata": {},
   "source": [
    "### <span style=\"color:#4CC9F0\">Ejercicio</span>\n",
    "\n",
    "$\\,$ | Torta de chocolate | Tres leches | Tiramisú | TOTAL\n",
    "---:|---:|---:|---:|---:\n",
    "Hombre | 32 | 26 | 11 | 69\n",
    "Mujer | 48 | 39 | 44 | 131\n",
    "TOTAL | 80 | 65 | 55 | 200\n",
    "\n",
    "Si se selecciona un huésped al azar, ¿cuál es la probabilidad de que:\n",
    "* el huesped sea hombre **y** el huesped ordenara tres leches?\n",
    "* el huesped sea hombre **o** el huesped ordenara tres leches?"
   ]
  },
  {
   "cell_type": "markdown",
   "metadata": {},
   "source": [
    "La probabilidad de la unión de dos eventos (subconjuntos) disyuntos (que no tiene intersección) es la suma de la probabilidad (medida) de cada uno de ellos. En símbolos, si $A$ y $B$ son eventos disyuntos de $\\mathcal{M}$, entonces\n",
    "\n",
    "$$\n",
    "\\text{Prob}[A\\cup B] = \\text{Prob}[A] + \\text{Prob}[B].\n",
    "$$\n",
    "\n",
    "Por ejemplo, observe que $\\text{Prob}[\\text{azul}\\cup\\text{rojo}] = 5/20+7/20 = 12/20$. ¿Porque decimos que *azul* y  *rojo* son eventos disyuntos.\n",
    "\n",
    "\n",
    "Sin embargo \n",
    "\n",
    "$$\n",
    "\\text{Prob}[\\text{azul}\\cup\\text{pares}] \\ne 5/20 + 10/20.\n",
    "$$\n",
    "\n",
    "Esto se debe a que los eventos *azul* y *pares*, no son disyuntos. Como se muestra en la parte inferior derecha de la gráfica arriba, se tiene que $\\text{Prob}[\\text{azul}\\cap \\text{pares}] = 3/20$. ¿Cómo afecta esta situación el resultado el cálculo de la probabilidad de la unión de dos evento?\n",
    "\n",
    "Lo anterior conduce a la regla aditiva general la cual dice que\n",
    "\n",
    "$$\n",
    "\\text{Prob}[A\\cup B] = \\text{Prob}[A] + \\text{Prob}[B]-\\text{Prob}[A\\cap B] .\n",
    "$$\n",
    "\n",
    "En el ejemplo se tiene entonces que\n",
    "\n",
    "$$\n",
    "\\text{Prob}[\\text{azul}\\cup\\text{pares}] = 5/20 + 10/20 - 3/20 = 12/20\n",
    "$$\n"
   ]
  },
  {
   "cell_type": "markdown",
   "metadata": {},
   "source": [
    "### <span style=\"color:#4CC9F0\">Ejercicio</span>"
   ]
  },
  {
   "cell_type": "markdown",
   "metadata": {},
   "source": [
    "Que piensa de las siguientes afirmaciones. ¿Verdadero o falso? Justifique su respuesta.\n",
    "\n",
    "* Si $A$ y $B$ son conjuntos disyuntos, entonces $\\text{Prob}[A\\cap B] = 0$.\n",
    "\n",
    "* Si $\\text{Prob}[A\\cap B] = 0$, entonces $A$ y $B$ son conjuntos disyuntos."
   ]
  },
  {
   "cell_type": "markdown",
   "metadata": {},
   "source": [
    "### <span style=\"color:#4CC9F0\">Medida de todo el espacio muestral</span>"
   ]
  },
  {
   "cell_type": "markdown",
   "metadata": {},
   "source": [
    "Vamos a denotar por $\\emptyset$ al conjunto vacio, es decir un conjunto que no tiene elementos.\n",
    "\n",
    "En nuestro ejemplo tenemos que \n",
    "\n",
    "$$\\mathcal{M}= \\text{azul}\\cup \\text{rojo}\\cup \\text{gris}$$\n",
    "\n",
    "Además se tiene que\n",
    "\n",
    "$$\n",
    "\\begin{align}\n",
    "\\text{azul}\\cap \\text{rojo} &= \\emptyset\\\\\n",
    "\\text{azul}\\cap \\text{gris} &= \\emptyset\\\\\n",
    "\\text{gris}\\cap \\text{rojo} &= \\emptyset\\\\\n",
    "\\end{align}\n",
    "$$\n",
    "\n",
    "Se dice en esta situación que los conjuntos son `mutuamente excluyentes`.  De acuerdo con la regla aditiva tenemos que\n",
    "\n",
    "$$\n",
    "\\text{Prob}[\\mathcal{M}] = \\text{Prob}[\\text{azul}] +  \\text{Prob}[\\text{rojo}]+  \\text{Prob}[\\text{gris}] = 5/20 + 7/20 + 8/20 = 1.\n",
    "$$\n",
    "\n",
    "Esta es una propiedad general de la probabilidad. El espacio muestral siempre tiene medida de probabilidad 1. \n",
    "\n",
    "Además observe que si se tienen eventos disyuntos entre sí (mutuamente excluyentes), cuya unión es el espacio muestral, entonces la probabilidad de la unión de todos esos eventos tiene probabilidad 1.\n",
    "\n"
   ]
  },
  {
   "cell_type": "markdown",
   "metadata": {},
   "source": [
    "### <span style=\"color:#4CC9F0\">Probabilidad del complemento de un evento</span>"
   ]
  },
  {
   "cell_type": "markdown",
   "metadata": {},
   "source": [
    "El complemento de un evento $A$ se denotará por $A^{c}$. Este simplemente el conjunto de elementos del espacio muestral que están por fuera de $A$. Entonces, es inmediato que $\\mathcal{M} = A\\cup A^c$. Por lo que \n",
    "\n",
    "$$\n",
    "Prob[A^c] = 1 - Prob[A].\n",
    "$$\n",
    "\n",
    "Una consecuencia inmediata de esta propiedad es que como $\\mathcal{M}^c= \\emptyset$, porque el espacio muestral contiene a todos los elementos, entonces $Prob[\\emptyset]=0$.\n",
    "\n",
    "\n",
    "En nuestro ejemplo $impares^c= pares$. Entonces $Prob[\\text{impares} ] = 1- 10/20 = 10/20$. Por favor verifica este resultado."
   ]
  },
  {
   "cell_type": "markdown",
   "metadata": {},
   "source": [
    "## <span style=\"color:#4361EE\">Probabilidad condicional</span>"
   ]
  },
  {
   "attachments": {},
   "cell_type": "markdown",
   "metadata": {},
   "source": [
    "### <span style=\"color:#4CC9F0\">Ejercicio</span>\n",
    "\n",
    "$\\,$ | Torta de chocolate | Tres leches | Tiramisú | TOTAL\n",
    "---:|---:|---:|---:|---:\n",
    "Hombre | 32 | 26 | 11 | 69\n",
    "Mujer | 48 | 39 | 44 | 131\n",
    "TOTAL | 80 | 65 | 55 | 200\n",
    "\n",
    "Si se selecciona un huésped al azar, ¿cuál es la probabilidad de que:\n",
    "* el huesped ordenara Tres Leches, pero sabiendo que el huésped que ordenó el postre es hombre?\n",
    "* el huesped sea hombre, pero sabiendo que el huésped ordenó Tres Leches?"
   ]
  },
  {
   "cell_type": "markdown",
   "metadata": {},
   "source": [
    "El concepto de probabilidad condicional es de vital importancia en el estudio de la ciencia de datos, el aprendizaje profundo y la inteligencia artificial.\n",
    "\n",
    "Como el nombre parece indicar, es trata de calcular la probabilidad de un evento sujeto a una restrición. En realidad es así y la restricción normalmente está asociada con otro evento.\n",
    "\n",
    "Para ilustrar el asunto, supongamos que se pregunta por la probabilidad que una bola extraida sea par, dado que la bola es azul.\n",
    "\n",
    "Se observa entonces, que se da una información antes de calcular la probabilidad de ser par. Esta información corresponde al evento *azul*. Escribiremos\n",
    "\n",
    "$$\n",
    "\\text{Prob}(\\text{par}|\\text{azul})\n",
    "$$\n",
    "\n",
    "Para hacer el cálculo correcto, se procede de la siguiente manera: Primero se reduce el espacio muestra a *azul*. En el ejemplo se tiene que  \n",
    "\n",
    "$$\n",
    "\\text{azul} = \\{5,7,8,10,16 \\}.\n",
    "$$\n",
    "\n",
    "Ahora que se ha restingido el espacio muestral a *azul*, se calcula la probabilidad de interés. En este caso *par*. Observe entonces que \n",
    "\n",
    "$$\n",
    "\\text{Prob}(\\text{par}|\\text{azul}) = \\tfrac{3}{5},\n",
    "$$\n",
    "\n",
    "porque en el evento *azul* que tiene 5 elementos hay 3 *pares*.\n",
    "\n",
    "\n",
    "Puede verificarse que \n",
    "\n",
    "$$\n",
    "\\text{Prob}(\\text{par}|\\text{azul}) = \\frac{\\text{Prob}[\\text{par}\\cap \\text{azul}]}{\\text{Prob}[\\text{azul}]}\n",
    "$$"
   ]
  },
  {
   "cell_type": "markdown",
   "metadata": {},
   "source": [
    "### <span style=\"color:#4CC9F0\">Ejercicio</span>"
   ]
  },
  {
   "cell_type": "markdown",
   "metadata": {},
   "source": [
    "Imagínese como se podría verficar esta última ecuación.  Calcule $\\text{Prob}(\\text{par}|\\text{azul})$ usando la dicha ecuación.\n"
   ]
  },
  {
   "cell_type": "markdown",
   "metadata": {},
   "source": [
    "Esta es una regla general, que se enuncia a si. Si $A$ y $B$ son eventos del espacio muestral $\\mathcal{M}$, entonces se define $\\text{Prob}[A|B]$ como\n",
    "\n",
    "$$\n",
    "\\text{Prob}[A|B] = \\frac{\\text{Prob}[A\\cap B]}{\\text{Prob}[B]}\n",
    "$$"
   ]
  },
  {
   "cell_type": "markdown",
   "metadata": {},
   "source": [
    "## <span style=\"color:blue\">Regla multiplicativa de la probabilidad</span>"
   ]
  },
  {
   "cell_type": "markdown",
   "metadata": {},
   "source": [
    "De la definición de la probabilidad condicional $\\text{Prob}[A|B]$ se desprende que \n",
    "\n",
    "$$\n",
    "\\text{Prob}[A\\cap B] = \\text{Prob}[B]\\times \\text{Prob}[A|B]\n",
    "$$\n"
   ]
  },
  {
   "cell_type": "markdown",
   "metadata": {},
   "source": [
    "### <span style=\"color:#4CC9F0\">Ejercicio</span>"
   ]
  },
  {
   "cell_type": "markdown",
   "metadata": {},
   "source": [
    "Con nuestro ejemplo supongamos que se pregunta por la probabilidad de obtener una bola par azul en un experimento.\n",
    "\n",
    "La solución es sencilla, por que ya hemos obtenido que $\\text{Prob}(\\text{par}|\\text{azul}) = \\tfrac{3}{5}$,\n",
    "y $\\text{Prob}[\\text{azul}] = \\tfrac{5}{20}$. por lo tanto\n",
    "\n",
    "$$\n",
    "\\text{Prob}[\\text{par}\\cap\\text{azul}] = \\text{Prob}[\\text{azul}]\\times\\text{Prob}[\\text{par}|\\text{azul}] = \\tfrac{5}{20}\\times \\tfrac{3}{5} =  \\tfrac{3}{20}\n",
    "$$\n",
    "\n",
    "Esto está de acuerdo con la ilustración de los evento del espacio muestral exhibidos arriba."
   ]
  },
  {
   "cell_type": "markdown",
   "metadata": {},
   "source": [
    "## <span style=\"color:#4361EE\">Independencia</span>"
   ]
  },
  {
   "cell_type": "markdown",
   "metadata": {},
   "source": [
    "Dos eventos $A$ y $B$ del espacio muestral $\\mathcal{M}$ se dicen independientes si\n",
    "\n",
    "\n",
    "$$\n",
    "\\text{Prob}[A\\cap B] = \\text{Prob}[A] \\times\\text{Prob}[B].\n",
    "$$\n",
    "\n",
    "\n",
    "Esta definición es bastante tećnica, pero intutivamente puede entenderse como que la ocurrencia de un evento no afecta la ocurrencia del otro. Observe que en este caso se tiene que\n",
    "\n",
    "$$\n",
    "\\text{Prob}[A| B] = \\text{Prob}[A].\n",
    "$$\n"
   ]
  },
  {
   "cell_type": "markdown",
   "metadata": {},
   "source": [
    "### <span style=\"color:#4CC9F0\">Ejercicio</span>"
   ]
  },
  {
   "cell_type": "markdown",
   "metadata": {},
   "source": [
    "Por favor verifique esta última afirmación.\n"
   ]
  },
  {
   "attachments": {},
   "cell_type": "markdown",
   "metadata": {},
   "source": [
    "### <span style=\"color:#4CC9F0\">Ejercicio</span>\n",
    "\n",
    "$\\,$ | Torta de chocolate | Tres leches | Tiramisú | TOTAL\n",
    "---:|---:|---:|---:|---:\n",
    "Hombre | 32 | 26 | 11 | 69\n",
    "Mujer | 48 | 39 | 44 | 131\n",
    "TOTAL | 80 | 65 | 55 | 200\n",
    "\n",
    "* Si se selecciona un huésped al azar, ¿cuál es la probabilidad de que el huesped sea mujer **y** el huesped ordenara Torta de chocolate?\n",
    "* Si los eventos A : \"el huesped es mujer\" y B : \"el huesped ordenara torta de chocolate\" fueran independientes, ¿cuánto debería dar la probabilidad de que el huesped sea mujer **y** el huesped ordenara Torta de chocolate? "
   ]
  },
  {
   "cell_type": "markdown",
   "metadata": {},
   "source": [
    "## <span style=\"color:#4361EE\">Ejercicios</span>"
   ]
  },
  {
   "cell_type": "markdown",
   "metadata": {},
   "source": [
    "Considere el siguiente experimento. Se lanzan dos dados no cargados de seis caras cada uno. El resultado del experimento es una pareja de números. Por ejemplo $(6,4)$."
   ]
  },
  {
   "cell_type": "markdown",
   "metadata": {},
   "source": [
    "<figure>\n",
    "<center>\n",
    "<img src=\"https://raw.githubusercontent.com/AprendizajeProfundo/Alejandria/main/Estadistica/Imagenes/dados_negro.jpg\" width=\"300\" height=\"200\" align=\"center\"/>\n",
    "</center>\n",
    "</figure>\n",
    "\n",
    "Fuente: [pixabay](https://pixabay.com/es/photos/dice-spotted-dark-reflection-5976757/)"
   ]
  },
  {
   "attachments": {},
   "cell_type": "markdown",
   "metadata": {},
   "source": [
    "1. Haga una tabla, usando *Markdown* con todo el espacio muestral $\\mathcal{M}$. Ayuda: son 36 elementos.\n",
    "2. ¿Cuántos eventos son posibles? Use Python para hacer el cálculo.\n",
    "2. Calcule la probabilidad de obtener 2,3,...,12.\n",
    "3. Calcule la probabilidad de obtener un número par.\n",
    "4. Compruebe que la probabilidad de obtener 5 en el dado blanco es 1/6 y que este evento es independiente del valor obtenido en el dado negro.\n",
    "4. Escriba un programa en Python que construya un tensor de dimensión 2 y que contenga los 36 posibles resultados. Consulte  sobre cómo se hace un ciclo `for` en Python."
   ]
  }
 ],
 "metadata": {
  "kernelspec": {
   "display_name": "Python 3 (ipykernel)",
   "language": "python",
   "name": "python3"
  },
  "language_info": {
   "codemirror_mode": {
    "name": "ipython",
    "version": 3
   },
   "file_extension": ".py",
   "mimetype": "text/x-python",
   "name": "python",
   "nbconvert_exporter": "python",
   "pygments_lexer": "ipython3",
   "version": "3.10.12"
  },
  "toc-autonumbering": false
 },
 "nbformat": 4,
 "nbformat_minor": 4
}
